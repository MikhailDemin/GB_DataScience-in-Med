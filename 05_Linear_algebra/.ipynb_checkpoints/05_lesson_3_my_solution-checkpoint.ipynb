{
 "cells": [
  {
   "cell_type": "markdown",
   "metadata": {
    "id": "Wg1dayOgCGxK"
   },
   "source": [
    "# Урок 5"
   ]
  },
  {
   "cell_type": "markdown",
   "metadata": {
    "id": "6PJL0hfnCGxS"
   },
   "source": [
    "# Линейные преобразования"
   ]
  },
  {
   "cell_type": "markdown",
   "metadata": {
    "id": "qyU0wiO2CG2Q"
   },
   "source": [
    "## Практическое задание"
   ]
  },
  {
   "cell_type": "code",
   "execution_count": 17,
   "metadata": {},
   "outputs": [],
   "source": [
    "import numpy as np\n",
    "np.set_printoptions(precision=1, suppress=True)"
   ]
  },
  {
   "cell_type": "markdown",
   "metadata": {
    "id": "sNOgFRFrCG2S"
   },
   "source": [
    "### 1. Найти собственные векторы и собственные значения для линейного оператора, заданного матрицей:\n",
    "\n",
    "$A=\\begin{pmatrix}\n",
    "-1 & -6\\\\ \n",
    "2 & 6\n",
    "\\end{pmatrix}$"
   ]
  },
  {
   "cell_type": "markdown",
   "metadata": {},
   "source": [
    "__Решение:__<br>\n",
    "\n",
    "__1.__ Найдем собственные значения оператора $A$:\n",
    "\n",
    "### $\\begin{vmatrix} -1 -\\lambda & -6 \\\\ 2 & 6 - \\lambda \\end{vmatrix} = 0$\n",
    "\n",
    "### $(-1 -\\lambda) \\cdot (6 - \\lambda) -2 \\cdot (-6) = -6 -6 \\cdot \\lambda + \\lambda + \\lambda^2 + 12 = 0$ \n",
    "\n",
    "### $\\lambda^{2}-5\\cdot\\lambda+6=0$"
   ]
  },
  {
   "cell_type": "markdown",
   "metadata": {},
   "source": [
    "### $D = 5^2 - 4 \\cdot 1 \\cdot 6 = 25-24=1$\n",
    "\n",
    "### $\\lambda_1 = \\frac {-(-5) + \\sqrt{1}}{2\\cdot 1} = 3$\n",
    "\n",
    "### $\\lambda_2 = \\frac {-(-5) - \\sqrt{1}}{2\\cdot 1} = 2$"
   ]
  },
  {
   "cell_type": "markdown",
   "metadata": {},
   "source": [
    "__2.__ Найдем собственный вектор для $\\lambda_1 = 3$:\n",
    "\n",
    "### $\\begin{vmatrix} -1 & -6 \\\\ 2 & 6 \\end{vmatrix} \\cdot \\begin{vmatrix} x_1 \\\\ x_2 \\end{vmatrix} = 3 \\cdot \\begin{vmatrix}\n",
    "x_1 \\\\ x_2 \\end{vmatrix}$\n",
    "\n",
    "### $\\begin{cases} -x_1-6 \\cdot x_2=3 \\cdot x_1 \\\\ 2 \\cdot x_1+6 \\cdot x_2=3 \\cdot x_2 \\end{cases} \\Rightarrow \\begin{cases} -4\\cdot x_1= 6\\cdot x_2 \\\\ 2 \\cdot x_1 = -3 \\cdot x_2 \\end{cases} \\Rightarrow 2 \\cdot x_1 = -3 \\cdot x_2 \\Rightarrow \\begin{cases} x_1 = -3 \\\\ x_2 = 2 \\end{cases}$"
   ]
  },
  {
   "cell_type": "markdown",
   "metadata": {},
   "source": [
    "__3.__ Найдем собственный вектор для $\\lambda_2 = 2$:\n",
    "\n",
    "### $\\begin{vmatrix} -1 & -6 \\\\ 2 & 6 \\end{vmatrix} \\cdot \\begin{vmatrix} x_1 \\\\ x_2 \\end{vmatrix} = 2 \\cdot \\begin{vmatrix}\n",
    "x_1 \\\\ x_2 \\end{vmatrix}$\n",
    "\n",
    "### $\\begin{cases} -x_1-6 \\cdot x_2=2 \\cdot x_1 \\\\ 2 \\cdot x_1+6 \\cdot x_2=2 \\cdot x_2 \\end{cases} \\Rightarrow \\begin{cases} -3\\cdot x_1= 6\\cdot x_2 \\\\ 2 \\cdot x_1 = -4 \\cdot x_2 \\end{cases} \\Rightarrow x_1 = -2 \\cdot x_2 \\Rightarrow \\begin{cases} x_1 = -2 \\\\ x_2 = 1 \\end{cases}$"
   ]
  },
  {
   "cell_type": "code",
   "execution_count": 22,
   "metadata": {
    "scrolled": false
   },
   "outputs": [
    {
     "name": "stdout",
     "output_type": "stream",
     "text": [
      "Матрица A:\n",
      "[[-1 -6]\n",
      " [ 2  6]]\n",
      "Собственные значения:\n",
      "[2. 3.]\n",
      "Собственные векторы:\n",
      "[[-0.9  0.8]\n",
      " [ 0.4 -0.6]]\n"
     ]
    }
   ],
   "source": [
    "a = np.array([[-1, -6], [2, 6]])\n",
    "j, k = np.linalg.eig(a)\n",
    "\n",
    "print(f'Матрица A:\\n{a}')\n",
    "print(f'Собственные значения:\\n{j}')\n",
    "print(f'Собственные векторы:\\n{k}')"
   ]
  },
  {
   "cell_type": "markdown",
   "metadata": {},
   "source": [
    "${\\color{red}{\\textbf {???}}}$ ```np.linalg.eig``` почему-то неправильно ищет собственные вектора"
   ]
  },
  {
   "cell_type": "markdown",
   "metadata": {},
   "source": [
    "__Ответ:__<br>\n",
    "Собственное значение $\\lambda_1=3$, собственный вектор $a = (-3;2)$;<br>\n",
    "собственное значение $\\lambda_2=2$, собственный вектор $b = (-2;1)$."
   ]
  },
  {
   "cell_type": "markdown",
   "metadata": {
    "id": "sNOgFRFrCG2S"
   },
   "source": [
    "### 2. Дан оператор поворота на 180 градусов, задаваемый матрицей: \n",
    "\n",
    "$A=\\begin{pmatrix}\n",
    "-1 & 0\\\\ \n",
    "0 & -1\n",
    "\\end{pmatrix}$\n",
    "\n",
    "#### Показать, что __любой__ вектор является для него собственным."
   ]
  },
  {
   "cell_type": "markdown",
   "metadata": {},
   "source": [
    "__Решение__<br>\n",
    "\n",
    "__1.__ Найдем собственные значения оператора $A$:\n",
    "\n",
    "### $\\begin{vmatrix} -1 -\\lambda & 0 \\\\ 0 & -1 - \\lambda \\end{vmatrix} = 0$\n",
    "\n",
    "### $(-1 -\\lambda) \\cdot (-1 - \\lambda) -0 \\cdot 0 = (-1-\\lambda)^2 = 1 + \\lambda + \\lambda + \\lambda^2 = 0$ \n",
    "\n",
    "### $\\lambda^2+2\\cdot\\lambda+1=0$\n",
    "\n",
    "### $D = 2^2 - 4 \\cdot 1 \\cdot 1 = 4-4=0$\n",
    "\n",
    "### $\\lambda_1 = \\lambda_2 = \\frac {-2 \\pm \\sqrt{0}}{2\\cdot 1} = -1$"
   ]
  },
  {
   "cell_type": "markdown",
   "metadata": {},
   "source": [
    "__2.__ Предположим, что любой вектор $x$ является собственным вектором заданного линейного оператора, тогда должно существовать некоторое вещественное число $\\lambda$, при котором:\n",
    "\n",
    "### $\\begin{vmatrix} -1 & 0 \\\\ 0 & -1 \\end{vmatrix} \\cdot \\begin{vmatrix} x_1 \\\\ x_2 \\end{vmatrix} = \\lambda \\cdot \\begin{vmatrix} x_1 \\\\ x_2 \\end{vmatrix}$"
   ]
  },
  {
   "cell_type": "markdown",
   "metadata": {},
   "source": [
    "Из этого будет следовать, что:\n",
    "\n",
    "### $\\begin{cases} -x_1 = \\lambda \\cdot x_1 \\\\ -x_2 = \\lambda \\cdot x_2 \\end{cases} \\frac {\\lambda=-1} {\\Rightarrow} \\begin{cases} -x_1 = -x_1 \\\\ -x_2 = -x_2 \\end{cases} \\Leftrightarrow \\begin{cases} 0 \\cdot x_1 = 0 \\\\ 0 \\cdot x_2 = 0 \\end{cases}$\n",
    "\n",
    "То есть $x_1 \\in \\mathbb{R}$ и $x_2 \\in \\mathbb{R}$ любые"
   ]
  },
  {
   "cell_type": "markdown",
   "metadata": {},
   "source": [
    "__Ответ:__<br>\n",
    "Любой вектор является собственным вектором линейного оператора, заданного матрицей $A$."
   ]
  },
  {
   "cell_type": "markdown",
   "metadata": {
    "id": "sNOgFRFrCG2S"
   },
   "source": [
    "### 3. Пусть линейный оператор задан матрицей:\n",
    "\n",
    "$A=\\begin{pmatrix}\n",
    "1 & 1\\\\ \n",
    "-1 & 3\n",
    "\\end{pmatrix}$\n",
    "\n",
    "#### Установить, является ли вектор $x=(1,1)$ собственным вектором этого линейного оператора."
   ]
  },
  {
   "cell_type": "markdown",
   "metadata": {},
   "source": [
    "__Решение:__<br>\n",
    "\n",
    "Предположим, что вектор $𝑥=(1,1)$ является собственным вектором заданного линейного оператора, тогда должно существовать некоторое вещественное число $\\lambda$, при котором:\n",
    "\n",
    "### $$\\begin{pmatrix} 1 & 1 \\\\ -1 & 3 \\end{pmatrix} \\cdot \\begin{pmatrix} 1 \\\\ 1 \\end{pmatrix} = \\lambda \\cdot \\begin{pmatrix} 1 \\\\ \n",
    "1 \\end{pmatrix}$$\n",
    "\n",
    "Из этого будет следовать, что \n",
    "\n",
    "### $$\\begin{cases}\n",
    "1+1 = 1\\cdot\\lambda \\\\ \n",
    "-1+3 = 1\\cdot \\lambda\n",
    "\\end{cases}\n",
    "\\Rightarrow\n",
    "\\begin{cases}\n",
    "\\lambda=2\\\\ \n",
    "\\lambda=2\n",
    "\\end{cases}$$\n",
    "\n",
    "Таким образом, вектор $x=(1,1)$ является собственным вектором линейного оператора, заданного матрицей $A$, и его собственное значение составляет $\\lambda=2.$"
   ]
  },
  {
   "cell_type": "code",
   "execution_count": 19,
   "metadata": {},
   "outputs": [
    {
     "name": "stdout",
     "output_type": "stream",
     "text": [
      "Матрица A:\n",
      "[[ 1  1]\n",
      " [-1  3]]\n",
      "Собственные значения:\n",
      "[2. 2.]\n",
      "Собственные векторы:\n",
      "[[ 0.7 -0.7]\n",
      " [ 0.7 -0.7]]\n"
     ]
    }
   ],
   "source": [
    "c = np.array([[1, 1], [-1, 3]])\n",
    "v, w = np.linalg.eig(c)\n",
    "\n",
    "print(f'Матрица A:\\n{c}')\n",
    "print(f'Собственные значения:\\n{v}')\n",
    "print(f'Собственные векторы:\\n{w}')"
   ]
  },
  {
   "cell_type": "markdown",
   "metadata": {},
   "source": [
    "__Ответ:__<br>\n",
    "Вектор $x=(1,1)$ является собственным вектором линейного оператора, заданного матрицей $A$, и его собственное значение составляет $\\lambda=2$."
   ]
  },
  {
   "cell_type": "markdown",
   "metadata": {
    "id": "sNOgFRFrCG2S"
   },
   "source": [
    "### 4. Пусть линейный оператор задан матрицей:\n",
    "\n",
    "$A=\\begin{pmatrix}\n",
    "0 & 3 & 0\\\\ \n",
    "3 & 0 & 0\\\\\n",
    "0 & 0 & 3\n",
    "\\end{pmatrix}$\n",
    "\n",
    "#### Установить, является ли вектор $x=(3, -3, -4)$ собственным вектором этого линейного оператора."
   ]
  },
  {
   "cell_type": "markdown",
   "metadata": {},
   "source": [
    "__Решение:__<br>\n",
    "Предположим, что вектор $𝑥=(3,−3,−4)$ является собственным вектором заданного линейного оператора, тогда должно существовать некоторое вещественное число $\\lambda$, при котором:\n",
    "$$\\begin{pmatrix} 0 & 3 & 0 \\\\ 3 & 0 & 0 \\\\ 0 & 0 & 3 \\end{pmatrix} \\cdot \\begin{pmatrix} 3 \\\\ -3 \\\\ -4 \\end{pmatrix} =\n",
    "\\lambda \\cdot \\begin{pmatrix} 3 \\\\ -3 \\\\ -4 \\end{pmatrix}$$"
   ]
  },
  {
   "cell_type": "markdown",
   "metadata": {},
   "source": [
    "Из этого будет следовать, что:\n",
    "\n",
    "### $$\\begin{cases}\n",
    "0 \\cdot 3 + 3 \\cdot (-3) + 0 \\cdot (-4) = 3 \\cdot \\lambda \\\\ \n",
    "3 \\cdot 3 + 0 \\cdot (-3) + 0 \\cdot (-4) = -3 \\cdot \\lambda \\\\\n",
    "0 \\cdot 3 + 0 \\cdot (-3) + 3 \\cdot (-4) = -4 \\cdot \\lambda \\end{cases}\n",
    "\\Rightarrow\n",
    "\\begin{cases}\n",
    "-9 = 3 \\cdot \\lambda \\\\ \n",
    "9 = -3 \\cdot \\lambda \\\\\n",
    "-12 = -4 \\cdot \\lambda \\end{cases}\n",
    "\\Rightarrow\n",
    "\\begin{cases}\n",
    "\\lambda = -3 \\\\ \n",
    "\\lambda = -3 \\\\\n",
    "\\lambda = 3 \\end{cases}$$\n",
    "\n",
    "Такая система не имеет смысла, следовательно, вектор $x=(3,−3,−4)$ не является собственным вектором линейного оператора, заданного матрицей $A$."
   ]
  },
  {
   "cell_type": "code",
   "execution_count": 20,
   "metadata": {
    "scrolled": true
   },
   "outputs": [
    {
     "name": "stdout",
     "output_type": "stream",
     "text": [
      "Матрица A:\n",
      "[ 3. -3.  3.]\n",
      "Собственные значения:\n",
      "[ 3. -3.  3.]\n",
      "Собственные векторы:\n",
      "[[ 0.7 -0.7 -0.7]\n",
      " [ 0.7  0.7 -0.7]\n",
      " [ 0.   0.   0. ]]\n"
     ]
    }
   ],
   "source": [
    "d = np.array([[0, 3, 0], [3, 0, 3], [0, 0, 3]])\n",
    "d, f = np.linalg.eig(d)\n",
    "\n",
    "print(f'Матрица A:\\n{d}')\n",
    "print(f'Собственные значения:\\n{d}')\n",
    "print(f'Собственные векторы:\\n{f}')"
   ]
  },
  {
   "cell_type": "markdown",
   "metadata": {},
   "source": [
    "__Ответ:__<br>\n",
    "Вектор $x=(3,−3,−4)$ не является собственным вектором линейного оператора, заданного матрицей $A$."
   ]
  },
  {
   "cell_type": "markdown",
   "metadata": {
    "id": "u60X7ANcCG2V"
   },
   "source": [
    "## Дополнительные материалы\n",
    "\n",
    "1. [Собственные векторы и собственные значения в NumPy](https://docs.scipy.org/doc/numpy/reference/generated/numpy.linalg.eig.html)."
   ]
  }
 ],
 "metadata": {
  "colab": {
   "collapsed_sections": [
    "u60X7ANcCG2V"
   ],
   "name": "Lesson_5-REVISED.ipynb",
   "provenance": []
  },
  "kernelspec": {
   "display_name": "Python 3 (ipykernel)",
   "language": "python",
   "name": "python3"
  },
  "language_info": {
   "codemirror_mode": {
    "name": "ipython",
    "version": 3
   },
   "file_extension": ".py",
   "mimetype": "text/x-python",
   "name": "python",
   "nbconvert_exporter": "python",
   "pygments_lexer": "ipython3",
   "version": "3.8.10"
  }
 },
 "nbformat": 4,
 "nbformat_minor": 1
}
