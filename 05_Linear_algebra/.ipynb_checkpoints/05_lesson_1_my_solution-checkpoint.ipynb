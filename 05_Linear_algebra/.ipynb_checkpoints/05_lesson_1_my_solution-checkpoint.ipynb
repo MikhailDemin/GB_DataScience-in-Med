{
 "cells": [
  {
   "cell_type": "markdown",
   "metadata": {
    "id": "zz7SDkPIkVlM"
   },
   "source": [
    "# Урок 1"
   ]
  },
  {
   "cell_type": "markdown",
   "metadata": {
    "id": "p_3vqG5-kVlP"
   },
   "source": [
    "# Линейное пространство. Основные понятия. Часть 1"
   ]
  },
  {
   "cell_type": "markdown",
   "metadata": {
    "id": "xH8_mN7okVqG"
   },
   "source": [
    "## Примеры задач"
   ]
  },
  {
   "cell_type": "markdown",
   "metadata": {
    "id": "ciXbchOhkVqH"
   },
   "source": [
    "Для векторов $x, y, z$ и вещественных чисел $\\alpha_{i}$ решим следующие задачи:"
   ]
  },
  {
   "cell_type": "markdown",
   "metadata": {
    "id": "p4uFqdlPkVqI"
   },
   "source": [
    "__1.__ Известно, что векторы некоторого линейного пространства $x$, $y$ и $z$ линейно независимы. Будут ли линейно независимы слеудующие векторы: $x-y, y-z, z-x?$\n",
    "\n"
   ]
  },
  {
   "cell_type": "markdown",
   "metadata": {
    "id": "ypvfV9tckVqL"
   },
   "source": [
    "__2.__ Известно, что векторы некоторого линейного пространства $x$, $y$ и $z$ линейно независимы. Будут ли линейно независимы слеудующие векторы: $x, x+y, x+y+z?$\n",
    "\n",
    "__Решение__\n",
    "\n",
    "Приравняем линейную комбинацию данных векторов к нулевому вектору:\n",
    "$$\\alpha_{1}x+\\alpha_{2}(x+y)+\\alpha_{3}(x+y+z)=0.$$\n",
    "Учитывая свойства линейных пространств, мы можем раскрыть скобки и преобразовать полученное уравнение к виду\n",
    "$$(\\alpha_{1}+\\alpha_{2}+\\alpha_{3})x+(\\alpha_{2}+\\alpha_{3})y+\\alpha_{3}z=0.$$\n",
    "Тогда, если предположить, что векторы линейно независимы, можно сделать вывод, что все коэффициенты должны равняться нулю. Получаем систему уравнений:\n",
    "$$\\begin{cases}\n",
    " \\alpha_{1}+\\alpha_{2}+\\alpha_{3}=0,\\\\\n",
    " \\alpha_{2}+\\alpha_{3}=0,\\\\\n",
    " \\alpha_{3}=0,\n",
    "\\end{cases}$$\n",
    "откуда следует, что $\\alpha_{1}=\\alpha_{2}=\\alpha_{3}=0$. Таким образом, векторы $x, x+y, x+y+z$ линейно независимы."
   ]
  },
  {
   "cell_type": "markdown",
   "metadata": {},
   "source": [
    "__3.__ Исследовать на линейную зависимость:\n",
    "$$f_{1}(x)=x^{2}+5, f_{2}(x)=x^{2}, f_{3}(x)=1.$$\n",
    " \n",
    "__Решение__\n",
    " \n",
    "Заметим, что $f_{1}(x)=f_{2}(x)+5f_{3}(x)$, то есть вектор $f_{1}(x)$ — линейная комбинация векторов $f_{2}(x)$ и $f_{3}(x)$, из чего можно сделать вывод, что $f_{1}(x)=x^{2}+5$ и $f_{2}(x)=x^{2}$, $f_{3}(x)=1$ линейно зависимы."
   ]
  },
  {
   "cell_type": "markdown",
   "metadata": {},
   "source": [
    "__4.__ Найти координаты вектора $x = (2, 3, 5)\\in \\mathbb{R}^{3}$ в стандартном базисе трехмерного пространства.\n",
    "\n",
    "__Решение__\n",
    "\n",
    "Стандартный базис линейного пространства $\\mathbb{R}^{3}$ образуют векторы \n",
    "$e_{1}=(1, 0, 0)$, $e_{2}=(0, 1, 0)$, $e_{3}=(0, 0, 1)$.\n",
    "Тогда \n",
    "\n",
    "$$x=(2, 3, 5)=(2,0,0)+(0, 3, 0)+(0, 0, 5)=2\\cdot(1, 0, 0)+3\\cdot(0, 1, 0)+5\\cdot(0, 0, 1)=2e_{1}+3e_{2}+5e_{3},$$\n",
    "\n",
    "\n",
    "то есть координатами вектора $x$ в стандартном базисе являются $2$, $3$, $5$."
   ]
  },
  {
   "cell_type": "markdown",
   "metadata": {
    "id": "aU5YNMH9kVqP"
   },
   "source": [
    "## Практическое задание"
   ]
  },
  {
   "cell_type": "markdown",
   "metadata": {
    "id": "NaYoffkueD8U"
   },
   "source": [
    "### 1. Исследовать на линейную зависимость:\n",
    "\n",
    "$$f_{1}(x)=e^{x},\\: f_{2}(x)=1,\\: f_{3}(x)=x+1,\\: f_{4}(x)=x-e^{x}.$$\n"
   ]
  },
  {
   "cell_type": "markdown",
   "metadata": {},
   "source": [
    "__Решение__\n",
    "\n",
    "Заметим, что $x-e^{x}=x+1-1-e^{x}$, то есть $f_{4}(x)$ является линейной комбинацией $f_{1}(x), f_{2}(x)$ и $f_{3}(x)$.\n",
    "\n",
    "__Ответ: $f_{1}(x)=e^{x},\\:f_{2}(x)=1,\\:f_{3}(x)=x+1$ и $f_{4}(x)=x-e^{x}$ линейно зависимы.__"
   ]
  },
  {
   "cell_type": "markdown",
   "metadata": {
    "id": "cECfCSANkVqR"
   },
   "source": [
    "### 2. Исследовать на линейную зависимость:\n",
    "$$f_{1}(x)=2\\:,\\:f_{2}(x)=x,\\:f_{3}(x)=x^{2},\\:f_{4}(x)=(x+1)^{2}$$"
   ]
  },
  {
   "cell_type": "markdown",
   "metadata": {},
   "source": [
    "__Решение__\n",
    "\n",
    "Заметим, что $(x+1)^{2}=x^2+2x+1=x^2+2\\cdot x + 0,5 \\cdot 2$, то есть $f_{4}(x)$ является линейной комбинацией $f_{3}(x) + 2 \\cdot f_{2}(x) + 0,5 \\cdot f_{1}(x)$.\n",
    "\n",
    "__Ответ: $f_{1}(x)=2\\:,\\:f_{2}(x)=x,\\:f_{3}(x)=x^{2}$ и $f_{4}(x)=(x+1)^{2}$ линейно зависимы.__"
   ]
  },
  {
   "cell_type": "markdown",
   "metadata": {
    "id": "DFrjdtbHkVqS"
   },
   "source": [
    "### 3. Найти координаты вектора $x = (2, 3, 5)\\in \\mathbb{R}^{3}$ в базисе $b_{1}=(0, 0, 10)$, $b_{2}=(2, 0, 0)$, $b_{3}=(0, 1, 0)$.\n"
   ]
  },
  {
   "cell_type": "markdown",
   "metadata": {},
   "source": [
    "__Решение__\n",
    "\n",
    "Базис линейного пространства $\\mathbb{R}^{3}$ образуют векторы $b_{1}=(0, 0, 10)$, $b_{2}=(2, 0, 0)$ и $b_{3}=(0, 1, 0)$.\n",
    "Тогда \n",
    "\n",
    "$$x=(2, 3, 5)=(2,0,0)+(0, 3, 0)+(0, 0, 5)=1\\cdot(2, 0, 0)+3\\cdot(0, 1, 0)+\\frac{1}{2} \\cdot(0, 0, 10)=1b_{1}+3b_{2}+\\frac{1}{2}b_{3},$$\n",
    "\n",
    "\n",
    "то есть координатами вектора $x$ в данном базисе являются $1$, $3$, $\\frac{1}{2}$."
   ]
  },
  {
   "cell_type": "code",
   "execution_count": 19,
   "metadata": {},
   "outputs": [],
   "source": [
    "import numpy as np"
   ]
  },
  {
   "cell_type": "code",
   "execution_count": 20,
   "metadata": {},
   "outputs": [
    {
     "data": {
      "text/plain": [
       "array([[ 0,  2,  0],\n",
       "       [ 0,  0,  1],\n",
       "       [10,  0,  0]])"
      ]
     },
     "execution_count": 20,
     "metadata": {},
     "output_type": "execute_result"
    }
   ],
   "source": [
    "b1 = np.array([0,0,10])\n",
    "b2 = np.array([2,0,0])\n",
    "b3 = np.array([0,1,0])\n",
    "x = np.array([2,3,5])\n",
    "A = np.array([b1, b2, b3]).transpose()\n",
    "A"
   ]
  },
  {
   "cell_type": "code",
   "execution_count": 21,
   "metadata": {},
   "outputs": [
    {
     "data": {
      "text/plain": [
       "array([[0. , 0. , 0.1],\n",
       "       [0.5, 0. , 0. ],\n",
       "       [0. , 1. , 0. ]])"
      ]
     },
     "execution_count": 21,
     "metadata": {},
     "output_type": "execute_result"
    }
   ],
   "source": [
    "A_inverse = np.linalg.inv(A)\n",
    "A_inverse"
   ]
  },
  {
   "cell_type": "code",
   "execution_count": 22,
   "metadata": {
    "scrolled": false
   },
   "outputs": [
    {
     "data": {
      "text/plain": [
       "array([0.5, 1. , 3. ])"
      ]
     },
     "execution_count": 22,
     "metadata": {},
     "output_type": "execute_result"
    }
   ],
   "source": [
    "vector = np.dot(A_inverse, x)\n",
    "vector"
   ]
  },
  {
   "cell_type": "markdown",
   "metadata": {},
   "source": [
    "__Ответ: В базисе  $𝑏_1=(0,0,10),\\:𝑏_2=(2,0,0),\\:𝑏_3=(0,1,0)$ координаты вектора $x=(1, 3, \\frac{1}{2})$.__"
   ]
  },
  {
   "cell_type": "markdown",
   "metadata": {
    "id": "5la-eVLukVqT"
   },
   "source": [
    "### 4.** Найти координаты вектора $3x^{2}-2x+2\\in\\mathbb{R}^{3}[x]$:\n",
    "\n",
    "а) в базисе $1$, $x$, $x^{2}$;\n",
    "\n",
    "б) в базисе $x^{2}$, $x-1$, $1$."
   ]
  },
  {
   "cell_type": "markdown",
   "metadata": {},
   "source": [
    "__Решение__\n",
    "\n",
    "__а)__ Базис линейного пространства $\\mathbb{R}^{3}$ образуют векторы $с_{1}=(0, 0, 1)$, $с_{2}=(0, x, 0)$ и $c_{3}=(x^{2}, 0, 0)$.\n",
    "Тогда \n",
    "\n",
    "$$3x^{2}-2x+2=(3x^{2},0,0)+(0,-2x,0)+(0, 0, 2)=3\\cdot(x^{2}, 0, 0)+(-2)\\cdot(0, x, 0)+2 \\cdot(0, 0, 1)=3c_{3}-2c_{2}+ + 2c_{1},$$\n",
    "то есть координатами вектора $3x^{2}-2x+2$ в данном базисе являются $2$, $-2$, $3$.\n",
    "\n",
    "__б)__ Базис линейного пространства $\\mathbb{R}^{3}$ образуют векторы $d_{1}=(x^{2}, 0, 0)$, $d_{2}=(0, (x-1), 0)$ и $d_{3}=(0, 0, 1)$.\n",
    "Тогда \n",
    "\n",
    "$$3x^{2}-2x+2=(3x^{2},0,0)+(0,-2x,0)+(0, 0, 2)=3\\cdot(x^{2}, 0, 0)+(-2)\\cdot(0, (x-1), 0)+0 \\cdot(0, 0, 1)=3d_{1}-2d_{2} +0d_{3},$$\n",
    "то есть координатами вектора $3x^{2}-2x+2$ в данном базисе являются $3$, $-2$, $0$.\n",
    "\n",
    "__Ответ: координаты вектора  $3x^{2}-2x+2\\in\\mathbb{R}^{3}[x]$:__\n",
    "\n",
    "__а) в базисе $1$, $x$, $x^{2}$:$\\;\\;x=(2, -2, 3)$__\n",
    "\n",
    "__б) в базисе $x^{2}$, $x-1$, $1$:$\\;\\;x=(3, -2, 0)$__"
   ]
  },
  {
   "cell_type": "markdown",
   "metadata": {
    "id": "kQlell_GkVqU"
   },
   "source": [
    "### 5.** Установить, является ли линейным подпространством:\n",
    "\n",
    "__а)__ совокупность всех векторов трехмерного пространства, у которых по крайней мере одна из первых двух координат равна нулю;\n",
    "    \n",
    "__б)__ все векторы, являющиеся линейными комбинациями данных векторов $\\{u_{1}, u_{2}, \\ldots, u_{n}\\}$."
   ]
  },
  {
   "cell_type": "markdown",
   "metadata": {},
   "source": [
    "__Решение__\n",
    "\n",
    "__а)__ Проверим условие коммутативности для сложения векторов $u+v=v+u$: сложим 2 вектора имеющие нулевую координату\n",
    "$$(a,0,c)+(0,b, d)=(a,b,c+d)$$\n",
    "Таким образом совокупность векторов трехмерного пространства, у которых по крайней мере одна из первых двух координат равна нулю не является является линейным подпространством.\n",
    "\n",
    "__б)__ Возьмем два произвольных вектора в указанном множестве:\n",
    "$$a=\\lambda_1 u_1 + \\lambda_2 u_2 + \\ldots + \\lambda_n u_n$$\n",
    "$$b=\\mu_1 u_1 + \\mu_2 u_2 + \\ldots + \\mu_n u_n$$\n",
    "Сумма двух векторов:\n",
    "$$a + b = (\\lambda_1 u_1 + \\lambda_2 u_2 + \\ldots + \\lambda_n u_n) + (\\mu_1 u_1 + \\mu_2 u_2 + \\ldots + \\mu_n u_n)=(\\lambda_1+\\mu_1)u_1 + (\\lambda_2+\\mu_2)u_2 + \\ldots + (\\lambda_n+\\mu_n)u_n$$\n",
    "Произведение вектора на число:\n",
    "$$\\alpha \\cdot (\\lambda_1 u_1 + \\lambda_2 u_2 + \\ldots + \\lambda_n u_n) = \\alpha \\cdot \\lambda_1 u_1 + \\alpha \\cdot \\lambda_2 u_2 + \\ldots + \\alpha \\cdot \\lambda_n u_n = \\beta_1 u_1 + \\beta_2 u_2 + \\ldots + \\beta_n u_n$$\n",
    "\n",
    "Т.к. полученные вектора принадлежат указанному множеству, поэтому указанное множество векторов является линейным подпространством.\n",
    "\n",
    "__Ответ:__\n",
    "\n",
    "__а) Нет__\n",
    "\n",
    "__б) Да__"
   ]
  },
  {
   "cell_type": "markdown",
   "metadata": {},
   "source": [
    "# Урок 2"
   ]
  },
  {
   "cell_type": "markdown",
   "metadata": {},
   "source": [
    "# Линейное пространство. Основные понятия. Часть 2"
   ]
  },
  {
   "cell_type": "markdown",
   "metadata": {},
   "source": [
    "## Практическое задание"
   ]
  },
  {
   "cell_type": "markdown",
   "metadata": {},
   "source": [
    "### 1. Найти скалярное произведение векторов $x, y \\in \\mathbb{R}$:<br>\n",
    "__а)__ $\\; x=(0,-3, 6),~y=(-4, 7, 9);$<br>\n",
    "__б)__ $\\; x=(7, -4, 0, 1),~y=(-3, 1, 11, 2).$"
   ]
  },
  {
   "cell_type": "markdown",
   "metadata": {},
   "source": [
    "__Решение__\n",
    "__а)__ $ \\; x=(0,-3, 6),$ $\\; y=(-4, 7, 9):$"
   ]
  },
  {
   "cell_type": "code",
   "execution_count": 23,
   "metadata": {},
   "outputs": [
    {
     "name": "stdout",
     "output_type": "stream",
     "text": [
      "x * y = 33\n"
     ]
    }
   ],
   "source": [
    "x = np.array([0, -3, 6])\n",
    "y = np.array([-4, 7, 9])\n",
    "print(\"x * y =\", np.dot(x, y))"
   ]
  },
  {
   "cell_type": "markdown",
   "metadata": {},
   "source": [
    "__б)__$\\; x=(7, -4, 0, 1),\\; y=(-3, 1, 11, 2)$"
   ]
  },
  {
   "cell_type": "code",
   "execution_count": 24,
   "metadata": {},
   "outputs": [
    {
     "name": "stdout",
     "output_type": "stream",
     "text": [
      "x * y = -23\n"
     ]
    }
   ],
   "source": [
    "x = np.array([7, -4, 0, 1])\n",
    "y = np.array([-3, 1, 11, 2])\n",
    "print(\"x * y =\", np.dot(x, y))"
   ]
  },
  {
   "cell_type": "markdown",
   "metadata": {},
   "source": [
    "__Ответ: Скалярное произведение векторов равно:__<br>\n",
    "__а)__$\\; x=(0,-3, 6),\\; y=(-4, 7, 9):\\;33$<br>\n",
    "__б)__$\\; x=(7, -4, 0, 1),\\; y=(-3, 1, 11, 2):\\;-23$"
   ]
  },
  {
   "cell_type": "markdown",
   "metadata": {},
   "source": [
    "### 2. Найти нормы векторов $(4, 2, 4)$ и $(12, 3, 4)$ и угол между ними."
   ]
  },
  {
   "cell_type": "markdown",
   "metadata": {},
   "source": [
    "__Решение__<br>\n",
    "\n",
    "[1] Определим евклидовы нормы векторов $a=(4,2,4)$ и $b=(12,3,4)$:<br>\n",
    "$$\\left\\|a\\right\\|_{2} = \\sqrt{4^{2}+2^{2}+4^{2}}=\\sqrt{36}=6$$\n",
    "$$\\left\\|b\\right\\|_{2} = \\sqrt{12^{2}+3^{2}+4^{2}}=\\sqrt{169}=13$$\n",
    "\n",
    "[2] Определим $cos$ угла между векторами $a=(4,2,4)$ и $b=(12,3,4)$:\n",
    "$$cos\\varphi = \\frac{(a,b)}{\\left \\|a\\right \\|\\cdot\\left \\|b\\right \\|}=\\frac{4\\cdot12+2\\cdot3+4\\cdot4}{\\sqrt{4^{2}+2^{2}+4^{2}}\\sqrt{12^{2}+3^{2}+4^{2}}}=\\frac{70}{\\sqrt{6084}}\\approx 0.8974359$$\n",
    "\n",
    "[3] С помощью таблицы косинусов определим угол между векторами $a=(4,2,4)$ и $b=(12,3,4)$:\n",
    "$$\\varphi = 26^{\\circ} 10' 37''$$\n",
    "\n",
    "[4] Также решим задачу с помощью численных методов пакета $\\mathsf{\\color{darkblue}{numpy}}:$"
   ]
  },
  {
   "cell_type": "code",
   "execution_count": 25,
   "metadata": {},
   "outputs": [
    {
     "name": "stdout",
     "output_type": "stream",
     "text": [
      "Норма вектора a: 6.0\n",
      "Норма вектора b: 13.0\n",
      "Косинус угла между векторами 0.8974359\n",
      "Угол 0.45687\n"
     ]
    }
   ],
   "source": [
    "from numpy.linalg import norm\n",
    "\n",
    "a = np.array([4, 2, 4])\n",
    "b = np.array([12, 3, 4])\n",
    "\n",
    "print(f'Норма вектора a: {norm(a)}')\n",
    "print(f'Норма вектора b: {norm(b)}')\n",
    "\n",
    "cos_phi = np.dot(a, b) / norm(a) / norm(b)\n",
    "print(f'Косинус угла между векторами {cos_phi:.7f}')\n",
    "print(f'Угол {np.arccos(cos_phi):.5f}')"
   ]
  },
  {
   "cell_type": "markdown",
   "metadata": {},
   "source": [
    "__Ответ:__\n",
    "Нормы векторов:\n",
    "$\\left\\|a\\right\\|_{2} =6, \\;\\left\\|b\\right\\|_{2} =13.$ Угол между векторами: $\\varphi = 26^{\\circ} 10' 37''$."
   ]
  },
  {
   "cell_type": "markdown",
   "metadata": {},
   "source": [
    "### 3. Будет ли линейное пространство евклидовым, если за скалярное произведение принять:<br>\n",
    "__а)__ произведение длин векторов;<br>\n",
    "__б)__ утроенное обычное скалярное произведение векторов?<br>\n",
    "\n",
    "__Решение__<br>\n",
    "__Определение:__ Линейное пространство E называется евклидовым,если в нем определено скалярное произведение.<br>\n",
    "Значит: а) да; б) да\n",
    "\n",
    "__Ответ: а) да; б) да__"
   ]
  },
  {
   "cell_type": "markdown",
   "metadata": {},
   "source": [
    "### 4. Какие из нижеперечисленных векторов образуют ортонормированный базис в линейном пространстве $\\mathbb{R}^{3}$:<br>\n",
    "__а)__ $(1,0,0),(0,0,1);$ <br>\n",
    "__б)__ $\\left(\\frac{1}{\\sqrt{2}},-\\frac{1}{\\sqrt{2}},0 \\right), \\left(\\frac{1}{\\sqrt{2}}, \\frac{1}{\\sqrt{2}}, 0 \\right), \\left(0,0,1\\right);$<br>\n",
    "__в)__ $\\left( \\frac{1}{2}, -\\frac{1}{2}, 0 \\right), \\left(0, \\frac{1}{2}, \\frac{1}{2} \\right), (0,0,1);$<br>\n",
    "__г)__ $(1,0,0),(0,1,0),(0,0,1)?$ "
   ]
  },
  {
   "cell_type": "markdown",
   "metadata": {},
   "source": [
    "__Решение__<br>"
   ]
  },
  {
   "cell_type": "code",
   "execution_count": 26,
   "metadata": {},
   "outputs": [
    {
     "name": "stdout",
     "output_type": "stream",
     "text": [
      "Ортонормированный базис 0\n"
     ]
    }
   ],
   "source": [
    "# а)  (1,0,0),(0,0,1);\n",
    "a = np.array([1, 0, 0])\n",
    "b = np.array([0, 0, 1])\n",
    "print('Ортонормированный базис', np.dot(a, b))"
   ]
  },
  {
   "cell_type": "code",
   "execution_count": 27,
   "metadata": {},
   "outputs": [
    {
     "name": "stdout",
     "output_type": "stream",
     "text": [
      "Ортонормированный базис\n",
      "0.0\n",
      "0.0\n",
      "0.0\n",
      "1.0, 1.0, 1.0\n"
     ]
    }
   ],
   "source": [
    "# б)  (12√,−12√,0),(12√,12√,0),(0,0,1); \n",
    "c = np.array([(1/(2**0.5)), (-1/(2**0.5)), 0])\n",
    "d = np.array([(1/(2**0.5)), (1/(2**0.5)), 0])\n",
    "b = np.array([0, 0, 1])\n",
    "print('Ортонормированный базис')\n",
    "print(np.dot(c, d))\n",
    "print(np.dot(c, b))\n",
    "print(np.dot(b, d))\n",
    "print(f'{norm(c):.1f}, {norm(d):.1f}, {norm(b):.1f}')"
   ]
  },
  {
   "cell_type": "code",
   "execution_count": 28,
   "metadata": {},
   "outputs": [
    {
     "name": "stdout",
     "output_type": "stream",
     "text": [
      "Не ортогональный, не ортонормированный базис\n",
      "-0.25\n",
      "0.0\n",
      "0.5\n",
      "0.7071067811865476 0.7071067811865476 1.0\n"
     ]
    }
   ],
   "source": [
    "#в)  (1/2,−1/2,0),(0,1/2,1/2),(0,0,1); \n",
    "e = np.array([0.5, -0.5, 0])\n",
    "f = np.array([0, 0.5, 0.5])\n",
    "b = np.array([0, 0, 1])\n",
    "print('Не ортогональный, не ортонормированный базис')\n",
    "print(np.dot(e, f))\n",
    "print(np.dot(e, b))\n",
    "print(np.dot(b, f))\n",
    "print(norm(e), norm(f), norm(b))"
   ]
  },
  {
   "cell_type": "code",
   "execution_count": 29,
   "metadata": {},
   "outputs": [
    {
     "name": "stdout",
     "output_type": "stream",
     "text": [
      "Ортонормированный базис\n"
     ]
    }
   ],
   "source": [
    "#г)  (1,0,0),(0,1,0),(0,0,1)\n",
    "print('Ортонормированный базис')"
   ]
  },
  {
   "cell_type": "markdown",
   "metadata": {},
   "source": [
    "__Ответ: а), б) и г) образуют ортонормированный базис__"
   ]
  },
  {
   "cell_type": "code",
   "execution_count": null,
   "metadata": {},
   "outputs": [],
   "source": []
  }
 ],
 "metadata": {
  "colab": {
   "collapsed_sections": [],
   "name": "Lesson_1-REVISED.ipynb",
   "provenance": []
  },
  "kernelspec": {
   "display_name": "Python 3",
   "language": "python",
   "name": "python3"
  },
  "language_info": {
   "codemirror_mode": {
    "name": "ipython",
    "version": 3
   },
   "file_extension": ".py",
   "mimetype": "text/x-python",
   "name": "python",
   "nbconvert_exporter": "python",
   "pygments_lexer": "ipython3",
   "version": "3.8.8"
  }
 },
 "nbformat": 4,
 "nbformat_minor": 1
}
