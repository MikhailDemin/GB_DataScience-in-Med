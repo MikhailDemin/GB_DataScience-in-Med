{
 "cells": [
  {
   "cell_type": "markdown",
   "metadata": {
    "id": "XQgRG9KlCzoP"
   },
   "source": [
    "# Урок 8"
   ]
  },
  {
   "cell_type": "markdown",
   "metadata": {
    "id": "5bpC3w-ECzoS"
   },
   "source": [
    "# Сингулярное разложение матриц"
   ]
  },
  {
   "cell_type": "markdown",
   "metadata": {
    "id": "88Mbd_tGCzso"
   },
   "source": [
    "## Практическое задание"
   ]
  },
  {
   "cell_type": "markdown",
   "metadata": {
    "id": "aoo5c_Q0Czsp"
   },
   "source": [
    "### 1. Найти с помощью NumPy SVD для матрицы:\n",
    "### $A=\\begin{pmatrix}\n",
    "1 & 2 & 0\\\\ \n",
    "0 & 0 & 5\\\\ \n",
    "3 & -4 & 2\\\\ \n",
    "1 & 6 & 5\\\\ \n",
    "0 & 1 & 0\n",
    "\\end{pmatrix}$\n",
    "\n",
    "__Решение:__<br>"
   ]
  },
  {
   "cell_type": "code",
   "execution_count": 15,
   "metadata": {},
   "outputs": [
    {
     "name": "stdout",
     "output_type": "stream",
     "text": [
      "Матрица A:\n",
      "[[ 1  2  0]\n",
      " [ 0  0  5]\n",
      " [ 3 -4  2]\n",
      " [ 1  6  5]\n",
      " [ 0  1  0]] \n",
      "\n",
      "Матрица D:\n",
      "[[8.8249 0.     0.    ]\n",
      " [0.     6.1406 0.    ]\n",
      " [0.     0.     2.5327]\n",
      " [0.     0.     0.    ]\n",
      " [0.     0.     0.    ]] \n",
      "\n",
      "Матрица U:\n",
      "[[ 0.1706  0.1568 -0.5308 -0.7991 -0.1616]\n",
      " [ 0.3929 -0.5293  0.6135 -0.4338  0.0308]\n",
      " [-0.1437 -0.8245 -0.5238  0.1405  0.074 ]\n",
      " [ 0.8884  0.0607 -0.2466  0.3776 -0.0604]\n",
      " [ 0.0813  0.1083 -0.0823 -0.1052  0.9817]] \n",
      "\n",
      "Матрица V:\n",
      "[[ 0.0712 -0.3674 -0.9273]\n",
      " [ 0.717   0.6651 -0.2085]\n",
      " [ 0.6934 -0.6501  0.3108]] \n",
      "\n",
      "Матрица V.T = W:\n",
      "[[ 0.0712  0.717   0.6934]\n",
      " [-0.3674  0.6651 -0.6501]\n",
      " [-0.9273 -0.2085  0.3108]] \n",
      "\n"
     ]
    }
   ],
   "source": [
    "import numpy as np\n",
    "np.set_printoptions(precision=4, suppress=True)\n",
    "A = np.array([[1, 2, 0],\n",
    "              [0, 0, 5],\n",
    "              [3, -4, 2],\n",
    "              [1, 6, 5],\n",
    "              [0, 1, 0]])\n",
    "print(f'Матрица A:\\n{A}', \"\\n\")\n",
    "\n",
    "\n",
    "U, s, W = np.linalg.svd(A)\n",
    "V = W.T\n",
    "D = np.zeros_like(A, dtype=float)\n",
    "D[np.diag_indices(min(A.shape))] = s\n",
    "print(f'Матрица D:\\n{D}', \"\\n\")\n",
    "print(f'Матрица U:\\n{U}', \"\\n\")\n",
    "print(f'Матрица V:\\n{V}', \"\\n\")\n",
    "print(f'Матрица V.T = W:\\n{W}', \"\\n\")"
   ]
  },
  {
   "cell_type": "markdown",
   "metadata": {},
   "source": [
    "Проверим правильность решения умножив полученные матицы:<br>\n",
    "### $U\\cdot D\\cdot V^T=A$ "
   ]
  },
  {
   "cell_type": "code",
   "execution_count": 12,
   "metadata": {},
   "outputs": [
    {
     "name": "stdout",
     "output_type": "stream",
     "text": [
      "Проверка правильности решения:\n",
      "[[ 1.  2.  0.]\n",
      " [ 0. -0.  5.]\n",
      " [ 3. -4.  2.]\n",
      " [ 1.  6.  5.]\n",
      " [-0.  1.  0.]] \n",
      "\n"
     ]
    }
   ],
   "source": [
    "print(f'Проверка правильности решения:\\n{np.dot(np.dot(U, D), V.T)}', \"\\n\")"
   ]
  },
  {
   "cell_type": "markdown",
   "metadata": {
    "id": "aoo5c_Q0Czsp"
   },
   "source": [
    "### 2. Для матрицы из предыдущего задания найти:\n",
    "__а) норму Евклида__\n",
    "\n",
    "__Решение:__<br>"
   ]
  },
  {
   "cell_type": "markdown",
   "metadata": {},
   "source": [
    "Так как мы имеем $SVD$-разложение, то норма Евклида для матрицы матрицы $A$ будет равна первому диагональному элементу матрицы $D$:<br>\n",
    "### $\\left \\| A \\right \\|_{E}=\\text{max}D=\\mu_{1}=D_{11}=8,8249$\n",
    "\n",
    "В NumPy можно получить норму Евклида следующим образом:"
   ]
  },
  {
   "cell_type": "code",
   "execution_count": 21,
   "metadata": {},
   "outputs": [
    {
     "name": "stdout",
     "output_type": "stream",
     "text": [
      "‖𝐴‖_𝐸:  8.824868854820444 \n",
      "\n",
      "‖𝐴‖_𝐸:  8.824868854820442 \n",
      "\n"
     ]
    }
   ],
   "source": [
    "print(f'‖𝐴‖_𝐸:  {np.linalg.norm(A, ord=2)}', \"\\n\")\n",
    "print(f'‖𝐴‖_𝐸:  {D[0,0]}', \"\\n\")"
   ]
  },
  {
   "cell_type": "markdown",
   "metadata": {
    "id": "aoo5c_Q0Czsp"
   },
   "source": [
    "__б) норму Фробениуса__\n",
    "\n",
    "__Решение:__<br>"
   ]
  },
  {
   "cell_type": "markdown",
   "metadata": {},
   "source": [
    "Найдем норму Фробениуса разными способами:<br>\n",
    "### $\\left \\| A \\right \\|_{F}=\\sqrt{\\sum_{i=1}^{m}\\sum_{j=1}^{n}a_{ij}^{2}}=$\n",
    "### $=\\sqrt{1^2+2^2+0^2+0^2+0^2+5^2+3^2+(-4)^2+2^2+1^2+6^2+5^2+0^2+1^2+0^2}=\\sqrt{122}=11,045361$"
   ]
  },
  {
   "cell_type": "markdown",
   "metadata": {},
   "source": [
    "### $\\left \\| A \\right \\|_{F}=\\sqrt{\\sum_{k=1}^{r}\\mu_{k}^{2}}=\\sqrt{8,8249^2+6,1406^2+2,5327^2}=$\n",
    "### $\\sqrt{77,87886001+37,70696836+6,41456929}=\\sqrt{122,00039766}=11,045379$"
   ]
  },
  {
   "cell_type": "code",
   "execution_count": 33,
   "metadata": {},
   "outputs": [
    {
     "name": "stdout",
     "output_type": "stream",
     "text": [
      "‖𝐴‖_F:  11.045361017187261 \n",
      "\n"
     ]
    }
   ],
   "source": [
    "frob_norm = 0\n",
    "for i in range(np.linalg.matrix_rank(A)):\n",
    "    frob_norm += s[i]**2\n",
    "frob_norm = np.sqrt(frob_norm)\n",
    "print(f'‖𝐴‖_F:  {frob_norm}', \"\\n\")"
   ]
  },
  {
   "cell_type": "code",
   "execution_count": 34,
   "metadata": {},
   "outputs": [
    {
     "name": "stdout",
     "output_type": "stream",
     "text": [
      "‖𝐴‖_F:  11.045361017187261 \n",
      "\n"
     ]
    }
   ],
   "source": [
    "print(f'‖𝐴‖_F:  {np.linalg.norm(A)}', \"\\n\")"
   ]
  },
  {
   "cell_type": "markdown",
   "metadata": {},
   "source": [
    "__Ответ:__<br>\n",
    "### $\\left \\| A \\right \\|_{E}=8,8249$\n",
    "### $\\left \\| A \\right \\|_{F}=11,045361$"
   ]
  },
  {
   "cell_type": "markdown",
   "metadata": {
    "id": "BvECW7ca8kMd"
   },
   "source": [
    "## Литература"
   ]
  },
  {
   "cell_type": "markdown",
   "metadata": {
    "id": "LnletOum8lPV"
   },
   "source": [
    " 1. Форсайт Дж., Молер К. Численное решение систем линейных алгебраических\n",
    "уравнений. М.: Мир, 1969.\n",
    " 2. Форсайт Дж., Малькольм М., Моулер К. Машинные методы математических\n",
    "вычислений. М.: Мир, 1980.\n",
    " 3. Голуб Дж., Ван-Лоун Ч. Матричные вычисления. М.: Мир, 1999.\n",
    " 4. Логинов Н. В. Сингулярное разложение матриц. М.: Мир, 1996.\n",
    " 5. Хорн Р., Джонсон Ч. Матричный анализ. М.: Мир, 1989."
   ]
  },
  {
   "cell_type": "markdown",
   "metadata": {
    "id": "3Ht4c166Czsu"
   },
   "source": [
    "1. [SVD в NumPy](https://docs.scipy.org/doc/numpy-1.15.1/reference/generated/numpy.linalg.svd.html)."
   ]
  }
 ],
 "metadata": {
  "colab": {
   "collapsed_sections": [],
   "name": "Lesson_8-REVISED.ipynb",
   "provenance": []
  },
  "kernelspec": {
   "display_name": "Python 3 (ipykernel)",
   "language": "python",
   "name": "python3"
  },
  "language_info": {
   "codemirror_mode": {
    "name": "ipython",
    "version": 3
   },
   "file_extension": ".py",
   "mimetype": "text/x-python",
   "name": "python",
   "nbconvert_exporter": "python",
   "pygments_lexer": "ipython3",
   "version": "3.8.10"
  }
 },
 "nbformat": 4,
 "nbformat_minor": 1
}
