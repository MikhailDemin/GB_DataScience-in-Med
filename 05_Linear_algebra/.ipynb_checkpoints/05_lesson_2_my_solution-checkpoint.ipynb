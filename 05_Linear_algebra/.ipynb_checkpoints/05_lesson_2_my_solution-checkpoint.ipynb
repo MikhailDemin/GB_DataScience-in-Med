{
 "cells": [
  {
   "cell_type": "markdown",
   "metadata": {
    "id": "HPMpEWusIIIM"
   },
   "source": [
    "# Урок 3"
   ]
  },
  {
   "cell_type": "markdown",
   "metadata": {
    "id": "USFuS5Q1IIIP"
   },
   "source": [
    "# Матрицы и матричные операции. Часть 1"
   ]
  },
  {
   "cell_type": "markdown",
   "metadata": {
    "id": "VAmOu--LIILw"
   },
   "source": [
    "## Практическое задание\n",
    "Все задания рекомендуется делать вручную, затем проверяя полученные результаты с использованием $\\mathsf{\\color{darkblue}{numpy}}.$"
   ]
  },
  {
   "cell_type": "markdown",
   "metadata": {
    "id": "APeDlmh8IIL1"
   },
   "source": [
    "### 1. Установить, какие произведения матриц $AB$ и $BA$ определены, и найти размерности полученных матриц:<br>\n",
    "\n",
    "__а)__ $A$ — матрица $4\\times 2$, $B$ — матрица $4\\times 2$;<br>\n",
    "- Произведение не определено<br>\n",
    " \n",
    "__б)__ $A$ — матрица $2\\times 5$, $B$ — матрица $5\\times 3$;<br>\n",
    "- Произведение определено только для $A \\cdot B$, размерность $A \\cdot B = [2\\times3]$<br>\n",
    " \n",
    "__в)__ $A$ — матрица $8\\times 3$, $B$ — матрица $3\\times 8$;<br>\n",
    "- Произведение определено, размерность $A \\cdot B = [8\\times8], B \\cdot A = [3\\times3]$<br>\n",
    "\n",
    "__г)__ $A$ — квадратная матрица $4\\times 4$, $B$ — квадратная матрица $4\\times 4$.<br>\n",
    "- Произведение определено, размерность $A \\cdot B = B \\cdot A = [4\\times4]$<br>"
   ]
  },
  {
   "cell_type": "markdown",
   "metadata": {
    "id": "APeDlmh8IIL1"
   },
   "source": [
    "### 2. Найти сумму и произведение матриц $A=\\begin{pmatrix} 1 & -2\\\\ 3 & 0 \\end{pmatrix}$ и $B=\\begin{pmatrix} 4 & -1 \\\\ 0 & 5 \\end{pmatrix}.$<br>"
   ]
  },
  {
   "cell_type": "markdown",
   "metadata": {},
   "source": [
    "__Решение__<br>\n",
    "$A + B = \\begin{pmatrix} 1 & -2\\\\ 3 & 0 \\end{pmatrix} + \\begin{pmatrix} 4 & -1\\\\ 0 & 5 \\end{pmatrix} = \\begin{pmatrix}\n",
    "1 + 4 & -2 -1\\\\ 3 + 0 & 0 + 5 \\end{pmatrix} = \\begin{pmatrix} 5 & -3\\\\ 3 &  5 \\end{pmatrix}$\n",
    "\n",
    "$A\\cdot B = \\begin{pmatrix} 1 & -2\\\\ 3 & 0 \\end{pmatrix} \\bullet \\begin{pmatrix} 4 & -1\\\\ 0 & 5 \\end{pmatrix} =\\begin{pmatrix}\n",
    "1\\cdot 4 + (-2)\\cdot 0 & 1\\cdot (-1) + (-2)\\cdot 5 \\\\ 3\\cdot 4 + 0\\cdot 0 & 3\\cdot (-1) + 0\\cdot 5 \\end{pmatrix} =\\begin{pmatrix} 4 & -11\\\\ 12 & -3 \\end{pmatrix}$\n",
    "\n",
    "$B \\cdot A = \\begin{pmatrix} 4 & -1\\\\ 0 & 5 \\end{pmatrix} \\bullet \\begin{pmatrix} 1 & -2\\\\ 3 & 0 \\end{pmatrix} = \\begin{pmatrix} 4\\cdot 1 + (-1)\\cdot 3 & 4\\cdot (-2) + (-1)\\cdot 0 \\\\ 0\\cdot 1 + 5\\cdot 3 & 0\\cdot (-2) + 5\\cdot 0 \\end{pmatrix} = \\begin{pmatrix} 1 & -8\\\\ 15 & 0 \\end{pmatrix}$"
   ]
  },
  {
   "cell_type": "code",
   "execution_count": 2,
   "metadata": {},
   "outputs": [
    {
     "name": "stdout",
     "output_type": "stream",
     "text": [
      "Матрица A\n",
      "[[ 1 -2]\n",
      " [ 3  0]]\n",
      "Матрица B\n",
      "[[ 4 -1]\n",
      " [ 0  5]]\n",
      "Матрица A + B\n",
      "[[ 5 -3]\n",
      " [ 3  5]]\n",
      "Матрица A*B\n",
      "[[  4 -11]\n",
      " [ 12  -3]]\n",
      "Матрица B*А\n",
      "[[ 1 -8]\n",
      " [15  0]]\n"
     ]
    }
   ],
   "source": [
    "import numpy as np\n",
    "A = np.array([[1, -2], [3, 0]])\n",
    "B = np.array([[4, -1], [0, 5]])\n",
    "print(f'Матрица A\\n{A}')\n",
    "print(f'Матрица B\\n{B}')\n",
    "print(f'Матрица A + B\\n{A + B}')\n",
    "print(f'Матрица A*B\\n{A @ B}')\n",
    "print(f'Матрица B*А\\n{B @ A}')"
   ]
  },
  {
   "cell_type": "markdown",
   "metadata": {},
   "source": [
    "__Ответ:__<br>\n",
    "$A + B = \\begin{pmatrix} 5 & -3\\\\ 3 &  5 \\end{pmatrix}$\n",
    "\n",
    "$A\\cdot B =\\begin{pmatrix} 4 & -11\\\\ 12 & -3 \\end{pmatrix}$\n",
    "\n",
    "$B \\cdot A = \\begin{pmatrix} 1 & -8\\\\ 15 & 0 \\end{pmatrix}$"
   ]
  },
  {
   "cell_type": "markdown",
   "metadata": {
    "id": "APeDlmh8IIL1"
   },
   "source": [
    "### 3. Из закономерностей сложения и умножения матриц на число можно сделать вывод, что матрицы одного размера образуют линейное пространство. Вычислить линейную комбинацию $3A-2B+4C$ для матриц $A=\\begin{pmatrix} 1 & 7 \\\\ 3 & -6 \\end{pmatrix}$, $B=\\begin{pmatrix} 0 & 5 \\\\ 2 & -1 \\end{pmatrix}$, $C=\\begin{pmatrix} 2 & -4\\\\ \n",
    "1 & 1 \\end{pmatrix}.$<br>"
   ]
  },
  {
   "cell_type": "markdown",
   "metadata": {},
   "source": [
    "__Решение__<br>\n",
    "$D=3A-2B+4C=3 \\bullet \\begin{pmatrix} 1 & 7\\\\ 3 & -6 \\end{pmatrix} + (-2) \\bullet \\begin{pmatrix} 0 & 5\\\\ 2 & -1 \\end{pmatrix} + 4 \\bullet \\begin{pmatrix} 2 & -4\\\\ 1 & 1 \\end{pmatrix}\n",
    "= \\begin{pmatrix} 3 & 21\\\\ 9 & -18\\\\ \\end{pmatrix} + \\begin{pmatrix} 0 & -10\\\\ -4 & 2\\\\ \\end{pmatrix} + \\begin{pmatrix} 8 & -16\\\\ 4 & 4\\\\ \\end{pmatrix} = \\; \\; \\; = \\begin{pmatrix} 3+0+8 & 21-10-16\\\\ 9-4+4 & -18+2+4\\\\ \\end{pmatrix} = \\begin{pmatrix} 11 & -5\\\\ 9 & -12 \\end{pmatrix}$"
   ]
  },
  {
   "cell_type": "code",
   "execution_count": 3,
   "metadata": {
    "scrolled": false
   },
   "outputs": [
    {
     "name": "stdout",
     "output_type": "stream",
     "text": [
      "Матрица D\n",
      "[[ 11  -5]\n",
      " [  9 -12]]\n"
     ]
    }
   ],
   "source": [
    "A = np.array([[1, 7], [3, -6]])\n",
    "B = np.array([[0, 5], [2, -1]])\n",
    "C = np.array([[2, -4], [1, 1]])\n",
    "print(f'Матрица D\\n{3 * A - 2 * B + 4 * C}')"
   ]
  },
  {
   "cell_type": "markdown",
   "metadata": {},
   "source": [
    "__Ответ:__<br>\n",
    "\n",
    "$D=3A-2B+4C=\\begin{pmatrix} 11 & -5\\\\ 9 & -12 \\end{pmatrix}$"
   ]
  },
  {
   "cell_type": "markdown",
   "metadata": {
    "id": "APeDlmh8IIL1"
   },
   "source": [
    "### 4. Дана матрица $A=\\begin{pmatrix} 4 & 1\\\\ 5 & -2\\\\ 2 & 3 \\end{pmatrix}$. Вычислить $A\\cdot A^{T}$ и $A^{T}\\cdot A$."
   ]
  },
  {
   "cell_type": "markdown",
   "metadata": {},
   "source": [
    "__Решение__<br>\n",
    "$A^T=\\begin{pmatrix} 4 & 5 & 2\\\\ 1 & -2 & 3 \\end{pmatrix}$<br>\n",
    "\n",
    "$A\\cdot A^T = \\begin{pmatrix} 4 & 1\\\\ 5 & -2\\\\ 2 & 3 \\end{pmatrix} \\bullet \\begin{pmatrix} 4 & 5 & 2\\\\ 1 & -2 & 3 \\end{pmatrix} =\\begin{pmatrix} 4 \\cdot 4 + 1 \\cdot 1 & 4 \\cdot 5 + 1 \\cdot (-2) & 4 \\cdot 2 + 1 \\cdot 3 \\\\ 5 \\cdot 4 + (-2) \\cdot 1 & 5 \\cdot 5 + (-2) \\cdot (-2) & 5 \\cdot 2 + (-2) \\cdot 3 \\\\ 2 \\cdot 4 + 3 \\cdot 1 & 2 \\cdot 5 + 3 \\cdot (-2) & 2 \\cdot 2 + 3 \\cdot 3 \\end{pmatrix} = \\begin{pmatrix} 17 & 18 & 11 \\\\ 18 & 29 & 4 \\\\ 11 & 4 & 13 \\end{pmatrix}$<br>\n",
    "\n",
    "$A^T \\cdot A = \\begin{pmatrix} 4 & 5 & 2\\\\ 1 & -2 & 3 \\end{pmatrix} \\bullet \\begin{pmatrix} 4 & 1\\\\ 5 & -2\\\\ 2 & 3 \\end{pmatrix} = \\begin{pmatrix} 4 \\cdot 4 + 5 \\cdot 5 + 2 \\cdot 2 & 4 \\cdot 1 + 5 \\cdot (-2) + 2 \\cdot 3 \\\\ 1 \\cdot 4 + (-2) \\cdot 5 + 3 \\cdot 2 & 1 \\cdot 1 + (-2) \\cdot (-2) + 3 \\cdot 3 \\end{pmatrix} = \\begin{pmatrix} 45 & 0 \\\\ 0 & 14 \\end{pmatrix}$\n"
   ]
  },
  {
   "cell_type": "code",
   "execution_count": 4,
   "metadata": {},
   "outputs": [
    {
     "name": "stdout",
     "output_type": "stream",
     "text": [
      "Матрица A:\n",
      "[[ 4  1]\n",
      " [ 5 -2]\n",
      " [ 2  3]]\n",
      "Транспонированная матрица A^T:\n",
      "[[ 4  5  2]\n",
      " [ 1 -2  3]]\n",
      "Матрица 𝐴*𝐴^𝑇\n",
      "[[17 18 11]\n",
      " [18 29  4]\n",
      " [11  4 13]]\n",
      "Матрица 𝐴^𝑇*𝐴\n",
      "[[45  0]\n",
      " [ 0 14]]\n"
     ]
    }
   ],
   "source": [
    "A = np.array([[4, 1], [5, -2], [2, 3]])\n",
    "print(f'Матрица A:\\n{A}')\n",
    "print(f'Транспонированная матрица A^T:\\n{A.T}')\n",
    "print(f'Матрица 𝐴*𝐴^𝑇\\n{A @ A.T}')\n",
    "print(f'Матрица 𝐴^𝑇*𝐴\\n{A.T @ A}')"
   ]
  },
  {
   "cell_type": "markdown",
   "metadata": {},
   "source": [
    "__Ответ:__<br>\n",
    "$A\\cdot A^T = \\begin{pmatrix} 17 & 18 & 11 \\\\ 18 & 29 & 4 \\\\ 11 & 4 & 13 \\end{pmatrix}$<br>\n",
    "\n",
    "$A^T \\cdot A = \\begin{pmatrix} 45 & 0 \\\\ 0 & 14 \\end{pmatrix}$"
   ]
  },
  {
   "cell_type": "markdown",
   "metadata": {
    "id": "APeDlmh8IIL1"
   },
   "source": [
    "### 5*. Написать на Python функцию для перемножения двух произвольных матриц, не используя NumPy."
   ]
  },
  {
   "cell_type": "markdown",
   "metadata": {},
   "source": [
    "__Решение__<br>"
   ]
  },
  {
   "cell_type": "code",
   "execution_count": 49,
   "metadata": {
    "scrolled": true
   },
   "outputs": [],
   "source": [
    "def matrixmult (A, B):\n",
    "    rows_A = len(A)\n",
    "    cols_A = len(A[0])\n",
    "    rows_B = len(B)\n",
    "    cols_B = len(B[0])\n",
    "    # Проверка измерений у матриц\n",
    "    if cols_A != rows_B:\n",
    "      print(\"Cannot multiply the two matrix. Incorrect dimensions.\")\n",
    "      return\n",
    "    # Создание результтирующей матрицы\n",
    "    C = [[0 for row in range(cols_B)] for col in range(rows_A)]\n",
    "    # empty = np.array(C)\n",
    "    # print(empty)\n",
    "    # Собственно произведение матриц\n",
    "    for i in range(rows_A):\n",
    "        for j in range(cols_B):\n",
    "            for k in range(cols_A):\n",
    "                C[i][j] += A[i][k] * B[k][j]\n",
    "    return(C)"
   ]
  },
  {
   "cell_type": "code",
   "execution_count": 55,
   "metadata": {},
   "outputs": [
    {
     "name": "stdout",
     "output_type": "stream",
     "text": [
      "[[12 21]\n",
      " [25 44]\n",
      " [36 61]]\n"
     ]
    }
   ],
   "source": [
    "A = [[1, 2, 3], [3, 4, 6], [5, 6, 7]]\n",
    "B = [[1, 2], [4, 5], [1, 3]]\n",
    "print(np.array(matrixmult (A, B)))"
   ]
  },
  {
   "cell_type": "code",
   "execution_count": 56,
   "metadata": {},
   "outputs": [
    {
     "name": "stdout",
     "output_type": "stream",
     "text": [
      "[[1 2 3]\n",
      " [3 4 6]\n",
      " [5 6 7]]\n",
      "[[1 2]\n",
      " [4 5]\n",
      " [1 3]]\n",
      "[[12 21]\n",
      " [25 44]\n",
      " [36 61]]\n"
     ]
    }
   ],
   "source": [
    "#Проверка через Numpy\n",
    "X = np.array(A)\n",
    "Y = np.array(B)\n",
    "print(X)\n",
    "print(Y)\n",
    "print(X.dot(Y))"
   ]
  },
  {
   "cell_type": "markdown",
   "metadata": {
    "id": "Spnt0b4tWtQd"
   },
   "source": [
    "# Урок 4"
   ]
  },
  {
   "cell_type": "markdown",
   "metadata": {
    "id": "N7Ec4jnDWtQg"
   },
   "source": [
    "# Матрицы и матричные операции. Часть 2"
   ]
  },
  {
   "cell_type": "markdown",
   "metadata": {
    "id": "NRcOh0gsWtUo"
   },
   "source": [
    "## Практическое задание\n",
    "Все задания рекомендуется делать вручную, затем проверяя полученные результаты с использованием $\\mathsf{\\color{darkblue}{Numpy}}.$"
   ]
  },
  {
   "cell_type": "markdown",
   "metadata": {
    "id": "H3qXQfJ-WtUp"
   },
   "source": [
    "### 1. Вычислить определитель:\n",
    "\n",
    "__a)__ $\\; \\; \\begin{vmatrix} sinx & -cosx \\\\ cosx & sinx \\end{vmatrix}; \\; \\; \\; \\;$  __б)__ $\\; \\; \\begin{vmatrix} 4 & 2 & 3 \\\\ 0 & 5 & 1\\\\ 0 & 0 & 9 \\end{vmatrix}; \\; \\; \\; \\;$ __в)__ $\\; \\; \\begin{vmatrix} 1 & 2 & 3 \\\\ 4 & 5 & 6 \\\\ 7 & 8 & 9 \\end{vmatrix}.$"
   ]
  },
  {
   "cell_type": "markdown",
   "metadata": {},
   "source": [
    "__Решение__<br>\n",
    "__a)__\n",
    "\n",
    "$det \\begin{vmatrix} sinx & -cosx \\\\ cosx & sinx \\end{vmatrix} = (sinx \\cdot sinx) - (-cosx \\cdot cosx) =  sin^{2}x -(-cos^{2}x) = sin^{2}(x) + cos^{2}(x) = 1$\n",
    "\n",
    "__б)__\n",
    "\n",
    "$det \\begin{vmatrix} 4 & 2 & 3 \\\\ 0 & 5 & 1\\\\ 0 & 0 & 9 \\end{vmatrix} = 4\\cdot 5\\cdot 9=180$"
   ]
  },
  {
   "cell_type": "code",
   "execution_count": 5,
   "metadata": {},
   "outputs": [
    {
     "name": "stdout",
     "output_type": "stream",
     "text": [
      "Матрица A:\n",
      "[[4 2 3]\n",
      " [0 5 1]\n",
      " [0 0 9]]\n",
      "Определитель матрицы A равен:  180.0\n"
     ]
    }
   ],
   "source": [
    "A = np.array([[4, 2, 3],\n",
    "              [0, 5, 1],\n",
    "              [0, 0, 9]])\n",
    "print(f'Матрица A:\\n{A}')\n",
    "print(f'Определитель матрицы A равен:  {np.linalg.det(A)}')"
   ]
  },
  {
   "cell_type": "markdown",
   "metadata": {},
   "source": [
    "__в)__ Разложим матрицу по первой строке:\n",
    "\n",
    "$det \\begin{vmatrix} 1 & 2 & 3 \\\\ 4 & 5 & 6 \\\\ 7 & 8 & 9 \\end{vmatrix} = \\begin{vmatrix} + & - & + \\\\ - & + & - \\\\ + & - & + \\end{vmatrix} = 1\\cdot \\begin{vmatrix} 5 & 6 \\\\ 8 & 9 \\end{vmatrix} - 2\\cdot \\begin{vmatrix} 4 & 6 \\\\ 7 & 9 \\end{vmatrix} + 3 \\cdot \\begin{vmatrix} 4 & 5 \\\\ 7 & 8 \\end{vmatrix} = 1 \\cdot (45 - 48) - 2 \\cdot (36-42) + 3 \\cdot (32-35) = -3 + 12 -9 = 0$"
   ]
  },
  {
   "cell_type": "code",
   "execution_count": 6,
   "metadata": {},
   "outputs": [
    {
     "name": "stdout",
     "output_type": "stream",
     "text": [
      "Матрица B:\n",
      "[[1 2 3]\n",
      " [4 5 6]\n",
      " [7 8 9]]\n",
      "Определитель матрицы B равен:  -9.51619735392994e-16\n"
     ]
    }
   ],
   "source": [
    "B = np.array([[1, 2, 3],\n",
    "              [4, 5, 6],\n",
    "              [7, 8, 9]])\n",
    "print(f'Матрица B:\\n{B}')\n",
    "print(f'Определитель матрицы B равен:  {np.linalg.det(B)}')"
   ]
  },
  {
   "cell_type": "markdown",
   "metadata": {},
   "source": [
    "${\\color{red}{\\textbf {???}}}$"
   ]
  },
  {
   "cell_type": "code",
   "execution_count": 7,
   "metadata": {},
   "outputs": [
    {
     "name": "stdout",
     "output_type": "stream",
     "text": [
      "1.20.2\n",
      "<class 'numpy.int8'>\n",
      "Определитель матрицы B равен:  -0.0000000000000009516197353929940532026773740116004442025297296523\n",
      "Определитель матрицы B равен:  -0.00000000000000\n"
     ]
    }
   ],
   "source": [
    "B = np.array([[1, 2, 3],\n",
    "              [4, 5, 6],\n",
    "              [7, 8, 9]], dtype=np.int8\n",
    "            )\n",
    "\n",
    "print(np.__version__)\n",
    "print(type(B[0,0]))  \n",
    "print(f\"Определитель матрицы B равен:  {np.linalg.det(B):.64f}\")\n",
    "print(f\"Определитель матрицы B равен:  {np.linalg.det(B):.14f}\")"
   ]
  },
  {
   "cell_type": "markdown",
   "metadata": {},
   "source": [
    "__Ответ:__<br>\n",
    "__a)__ $\\; \\; det \\begin{vmatrix} sinx & -cosx \\\\ cosx & sinx \\end{vmatrix} = 1; \\; \\; \\; \\;$  __б)__ $\\; \\; det \\begin{vmatrix} 4 & 2 & 3 \\\\ 0 & 5 & 1\\\\ 0 & 0 & 9 \\end{vmatrix} = 180; \\; \\; \\; \\;$ __в)__ $\\; \\; det \\begin{vmatrix} 1 & 2 & 3 \\\\ 4 & 5 & 6 \\\\ 7 & 8 & 9 \\end{vmatrix} = 0.$"
   ]
  },
  {
   "cell_type": "markdown",
   "metadata": {
    "id": "H3qXQfJ-WtUp"
   },
   "source": [
    "### 2. Определитель матрицы $A$ равен $4$. Найти:\n",
    "\n",
    "__а)__ $\\; \\;det(A^{2}); \\; \\; \\; \\;$ __б)__ $\\; \\;det(A^{T}); \\; \\; \\; \\;$ __в)__ $\\; \\;det(2A)$."
   ]
  },
  {
   "cell_type": "markdown",
   "metadata": {},
   "source": [
    "__Решение__<br>\n",
    "__а)__ $\\; \\; det(A^{2})$ = $det(A) \\times det(A) = 16$\n",
    "\n",
    "__б)__ $\\; \\; det(A^{T})$ = $det(A) = 4$\n",
    "\n",
    "__в)__ $\\; \\; det(2A) = 2^{rank(A)} \\times det(A) =  2^{rank(A)} \\times 4 = 2^{rank(A)} \\cdot 2^2 = 2^{rank(A) + 2}$"
   ]
  },
  {
   "cell_type": "markdown",
   "metadata": {},
   "source": [
    "__Ответ:__<br>\n",
    "__а)__ $\\; \\;det(A^{2}) = 16; \\; \\; \\; \\;$ __б)__ $\\; \\;det(A^{T}) = det(A) = 4; \\; \\; \\; \\;$ __в)__ $\\; \\;det(2A) =  2^{rank(A) + 2}$."
   ]
  },
  {
   "cell_type": "markdown",
   "metadata": {
    "id": "H3qXQfJ-WtUp"
   },
   "source": [
    "   \n",
    "### 3.  Доказать, что матрица $$\\begin{pmatrix} -2 & 7 & -3 \\\\ 4 & -14 & 6 \\\\ -3 & 7 & 13 \\end{pmatrix}$$ вырожденная."
   ]
  },
  {
   "cell_type": "markdown",
   "metadata": {},
   "source": [
    "__Решение__<br>\n",
    "\n",
    "__Определение:__<br>\n",
    "__[Вы́рожденная ма́трица](https://ru.wikipedia.org/wiki/%D0%92%D1%8B%D1%80%D0%BE%D0%B6%D0%B4%D0%B5%D0%BD%D0%BD%D0%B0%D1%8F_%D0%BC%D0%B0%D1%82%D1%80%D0%B8%D1%86%D0%B0)__ (синонимы: сингуля́рная ма́трица, осо́бая ма́трица, осо́бенная ма́трица) — квадратная матрица $\\displaystyle A,$ определитель которой $\\displaystyle \\det(A)$ равен нулю.\n",
    "\n",
    "Разложим матрицу по первой строке:\n",
    "\n",
    "$det \\begin{vmatrix} -2 & 7 & -3 \\\\ 4 & -14 & 6 \\\\ -3 & 7 & 13 \\end{vmatrix} =\n",
    "\\begin{vmatrix} + & - & + \\\\ - & + & - \\\\ + & - & + \\end{vmatrix} =\n",
    "(-2) \\cdot \\begin{vmatrix} -14 & 6 \\\\ 7 & 13 \\end{vmatrix} - 7 \\cdot \\begin{vmatrix} 4 & 6 \\\\ -3 & 13 \\end{vmatrix} + (-3) \\cdot \\begin{vmatrix} 4 & -14 \\\\ -3 & 7 \\end{vmatrix} =$<br>\n",
    "$= (-2) \\cdot (-182 - 42) - 7 \\cdot \\big(52-(-18)\\big) + (-3) \\cdot (28-42) =\n",
    "(-2) \\cdot (-224) - 7 \\cdot 70 + (-3) \\cdot (-14) =\n",
    "448 - 490 + 42 = 0$"
   ]
  },
  {
   "cell_type": "code",
   "execution_count": 8,
   "metadata": {
    "scrolled": true
   },
   "outputs": [
    {
     "name": "stdout",
     "output_type": "stream",
     "text": [
      "1.20.2\n",
      "<class 'numpy.int64'>\n",
      "Определитель матрицы C равен:  0.0000000000000000000000000000000000000000000000000000000000000000\n",
      "Определитель матрицы C равен:  0.0\n"
     ]
    }
   ],
   "source": [
    "C = np.array([[-2, 7, -3],\n",
    "              [4, -14, 6],\n",
    "              [-3, 7, 13]], dtype=np.int64\n",
    "            )\n",
    "\n",
    "print(np.__version__)\n",
    "print(type(C[0,0]))  \n",
    "print(f\"Определитель матрицы C равен:  {np.linalg.det(C):.64f}\")\n",
    "print(f\"Определитель матрицы C равен:  {np.linalg.det(C)}\")"
   ]
  },
  {
   "cell_type": "markdown",
   "metadata": {},
   "source": [
    "__Теорема:__<br>\n",
    "Определитель квадратной матрицы равен нулю тогда и только тогда, когда строки (столбцы) этой матрицы линейно зависимы.\n",
    "\n",
    "Действительно, строки 1 и 2 являются линейно зависимыми $a_{2j} = -2⋅a_{1j}$, например:<br>\n",
    "$a_{21} = -2⋅a_{11} = -2 ⋅ (-2) = 4$<br>\n",
    "$a_{22} = -2⋅a_{12} = -2 ⋅ 7 = -14$<br>\n",
    "$a_{23} = -2⋅a_{13} = -2 ⋅ (-3) = 6$<br>"
   ]
  },
  {
   "cell_type": "markdown",
   "metadata": {},
   "source": [
    "__Ответ:__<br>\n",
    "Так как $\\; \\; det \\begin{vmatrix} -2 & 7 & -3 \\\\ 4 & -14 & 6 \\\\ -3 & 7 & 13 \\end{vmatrix} = 0\\; \\;$ и $\\; \\; a_{2j} = -2⋅a_{1j}, \\; \\;$ то матрица вырожденная"
   ]
  },
  {
   "cell_type": "markdown",
   "metadata": {
    "id": "H3qXQfJ-WtUp"
   },
   "source": [
    "### 4. Найти ранг матрицы:\n",
    "\n",
    "__а)__ $\\; \\;\\begin{pmatrix}\n",
    "1 & 2 & 3\\\\ \n",
    "1 & 1 & 1\\\\ \n",
    "2 & 3 & 4\n",
    "\\end{pmatrix}; \\; \\; \\; \\;$\n",
    "__б)__ $\\; \\;\\begin{pmatrix}\n",
    "0 & 0 & 2 & 1\\\\ \n",
    "0 & 0 & 2 & 2\\\\ \n",
    "0 & 0 & 4 & 3\\\\ \n",
    "2 & 3 & 5 & 6\n",
    "\\end{pmatrix}. \\; \\; \\; \\;$"
   ]
  },
  {
   "cell_type": "markdown",
   "metadata": {},
   "source": [
    "__Решение__<br>\n",
    "\n",
    "__Определение:__<br>\n",
    "__[Ранг матрицы](http://mathprofi.ru/rang_matricy.html)__ – это максимальное количество линейно независимых строк (столбцов).<br>\n",
    "Ранг матрицы равен максимальному порядку ненулевого минора"
   ]
  },
  {
   "cell_type": "markdown",
   "metadata": {},
   "source": [
    "__a)__ Найдем ранг методом миноров.\n",
    "\n",
    "$rank \\begin{vmatrix} 1 & 2 & 3 \\\\ 1 & 1 & 1 \\\\ 2 & 3 & 4 \\end{vmatrix}$\n",
    "\n",
    "Так как в матрице есть ненулевые элементы, то ее ранг не ниже 1, и, очевидно, не более 3.\n",
    "- Если определитель матрицы не равен 0, тогда ранг матрицы равен 3.<br>\n",
    "\n",
    "Найдем определитель разложив матрицу по 1 строке:<br>\n",
    "\n",
    "$det \\begin{vmatrix} 1 & 2 & 3 \\\\ 1 & 1 & 1 \\\\ 2 & 3 & 4 \\end{vmatrix} = \n",
    "\\begin{vmatrix} + & - & + \\\\ - & + & - \\\\ + & - & + \\end{vmatrix} =\n",
    "1 \\cdot \\begin{vmatrix} 1 & 1 \\\\ 3 & 4 \\end{vmatrix} - 2 \\cdot \\begin{vmatrix} 1 & 1 \\\\ 2 & 4 \\end{vmatrix} + 3 \\cdot \\begin{vmatrix} 1 & 1 \\\\ 2 & 3 \\end{vmatrix} = 1 \\cdot (4 - 3) - 2 \\cdot (4 - 2) + 3 \\cdot (3 - 2 ) = 1 - 4 + 3 = 0$\n",
    "\n",
    "- Если мы встретим ненулевой минор 2-го порядка, тогда ранг матрицы равен 2. В противном случае ранг матрицы равен 1\n",
    "\n",
    "$M_1 = \\begin{vmatrix} 1 & 2 \\\\ 1 & 1 \\end{vmatrix} = 1 \\cdot 1 - 2 \\cdot 1 = 1 - 2 =-1 \\ne 0$<br>\n",
    "$M_2 = \\begin{vmatrix} 1 & 3 \\\\ 1 & 1 \\end{vmatrix} = 1 \\cdot 1 - 3 \\cdot 1 = 1 - 3 =-2 \\ne 0$"
   ]
  },
  {
   "cell_type": "code",
   "execution_count": 9,
   "metadata": {},
   "outputs": [
    {
     "name": "stdout",
     "output_type": "stream",
     "text": [
      "Матрица A:\n",
      "[[1 2 3]\n",
      " [1 1 1]\n",
      " [2 3 4]]\n",
      "Определитель матрицы D равен:  0.0\n",
      "Ранг матрицы D равен: 2\n"
     ]
    }
   ],
   "source": [
    "D = np.array([[1, 2, 3],\n",
    "              [1, 1, 1],\n",
    "              [2, 3, 4]])\n",
    "print(f'Матрица A:\\n{D}')\n",
    "print(f\"Определитель матрицы D равен:  {np.linalg.det(D)}\")\n",
    "print(f'Ранг матрицы D равен: {np.linalg.matrix_rank(D)}')"
   ]
  },
  {
   "cell_type": "markdown",
   "metadata": {},
   "source": [
    "__б)__<br>\n",
    "__Метод Гаусса__<br>\n",
    "\n",
    "$\\begin{vmatrix} 0 & 0 & 2 & 1 \\\\ 0 & 0 & 2 & 2 \\\\ 0 & 0 & 4 & 3 \\\\ 2 & 3 & 5 & 6 \\end{vmatrix}$\n",
    "\n",
    "1, 2 и 3 строки матрицы линейно зависимы. Вычтем и 3-й строки 1-ю и 2-ю:<br>\n",
    "\n",
    "$\\begin{vmatrix} 0 & 0 & 2 & 1 \\\\ 0 & 0 & 2 & 2 \\\\ 0 & 0 & 4-2-2 & 3-2-1 \\\\ 2 & 3 & 5 & 6 \\end{vmatrix} = \n",
    "\\begin{vmatrix} 0 & 0 & 2 & 1 \\\\ 0 & 0 & 2 & 2 \\\\ 0 & 0 & 0 & 0 \\\\ 2 & 3 & 5 & 6 \\end{vmatrix}$\n",
    "\n",
    "Далее из 2-й строки вычтем 1-ю и получим:\n",
    "\n",
    "$\\begin{vmatrix} 0 & 0 & 2 & 1 \\\\ 0 & 0 & 2-2 & 2-1 \\\\ 0 & 0 & 0 & 0 \\\\ 2 & 3 & 5 & 6 \\end{vmatrix} = \n",
    "\\begin{vmatrix} 0 & 0 & 2 & 1 \\\\ 0 & 0 & 0 & 1 \\\\ 0 & 0 & 0 & 0 \\\\ 2 & 3 & 5 & 6 \\end{vmatrix}$\n",
    "\n",
    "Таким образом в матрице осталось 3 линейно независимых строки, следовательно $\\; \\; rank \\begin{vmatrix} 0 & 0 & 2 & 1 \\\\ 0 & 0 & 2 & 2 \\\\ 0 & 0 & 4 & 3\\\\ 2 & 3 & 5 & 6 \\end{vmatrix} = 3.$\n",
    "\n",
    "__Метод миноров__<br>\n",
    "\n",
    "Найдем определитель матрицы. В процессе нахождения определителя мы будем вычислять значение миноров 2-го и 3-го порядков. Наибольший порядок ненулевого минора покажет ранг матрицы в случе если определитель равен 0.<br>\n",
    "Для нахождения определителя разложим матрицу по 1 строке:\n",
    "\n",
    "$det \\begin{vmatrix} 0 & 0 & 2 & 1 \\\\ 0 & 0 & 2 & 2 \\\\ 0 & 0 & 4 & 3 \\\\ 2 & 3 & 5 & 6 \\end{vmatrix} =\n",
    "\\begin{vmatrix} -1^{1+1} & -1^{1+2} & -1^{1+3} & -1^{1+4} \\\\ -1^{2+1} & -1^{2+2} & -1^{2+3} & -1^{2+4} \\\\ -1^{3+1} & -1^{3+2} & -1^{3+3} & -1^{3+4}  \\\\ -1^{4+1} & -1^{4+2} & -1^{4+3} & -1^{4+4}  \\end{vmatrix} =\n",
    "\\begin{vmatrix} + & - & + & - \\\\ - & + & - & + \\\\ + & - & + & -  \\\\ - & + & - & +  \\end{vmatrix} =$<br>\n",
    "$= 0 \\cdot \\begin{vmatrix} 0 & 2 & 2 \\\\ 0 & 4 & 3 \\\\ 3 & 5 & 6 \\end{vmatrix} - 0 \\cdot \\begin{vmatrix} 0 & 2 & 2 \\\\ 0 & 4 & 3 \\\\ 2 & 5 & 6 \\end{vmatrix} + 2 \\cdot \\begin{vmatrix} 0 & 0 & 2 \\\\ 0 & 0 & 3 \\\\ 2 & 3 & 6 \\end{vmatrix} - 1 \\cdot \\begin{vmatrix} 0 & 0 & 2 \\\\ 0 & 0 & 4 \\\\ 2 & 3 & 5 \\end{vmatrix} = (*)$<br>\n",
    "\n",
    "Вычислим определители миноров 3-го порядка, разложив их также по 1-й строке:\n",
    "\n",
    "$det_{11} \\begin{vmatrix} 0 & 2 & 2 \\\\ 0 & 4 & 3 \\\\ 3 & 5 & 6 \\end{vmatrix} = \n",
    "\\begin{vmatrix} + & - & + \\\\ - & + & - \\\\ + & - & + \\end{vmatrix} =\n",
    "0 \\cdot \\begin{vmatrix} 4 & 3 \\\\ 5 & 6 \\end{vmatrix} - 2 \\cdot \\begin{vmatrix} 0 & 3 \\\\ 3 & 6 \\end{vmatrix} + 2 \\cdot \\begin{vmatrix} 0 & 4 \\\\ 3 & 5 \\end{vmatrix} = 0 \\cdot (24 - 15) - 2 \\cdot (0 - 9) + 2 \\cdot (0 - 12) = 0 + 18 - 24 = -6$\n",
    "\n",
    "$det_{12} \\begin{vmatrix} 0 & 2 & 2 \\\\ 0 & 4 & 3 \\\\ 2 & 5 & 6 \\end{vmatrix} = \n",
    "\\begin{vmatrix} + & - & + \\\\ - & + & - \\\\ + & - & + \\end{vmatrix} =\n",
    "0 \\cdot \\begin{vmatrix} 4 & 3 \\\\ 5 & 6 \\end{vmatrix} - 2 \\cdot \\begin{vmatrix} 0 & 3 \\\\ 2 & 6 \\end{vmatrix} + 2 \\cdot \\begin{vmatrix} 0 & 4 \\\\ 2 & 5 \\end{vmatrix} = 0 \\cdot (24 - 15) - 2 \\cdot (0 - 6) + 2 \\cdot (0 - 8) = 0 + 12 - 16 = -4$\n",
    "\n",
    "$det_{13} \\begin{vmatrix} 0 & 0 & 2 \\\\ 0 & 0 & 3 \\\\ 2 & 3 & 6 \\end{vmatrix} = \n",
    "\\begin{vmatrix} + & - & + \\\\ - & + & - \\\\ + & - & + \\end{vmatrix} =\n",
    "0 \\cdot \\begin{vmatrix} 0 & 3 \\\\ 3 & 6 \\end{vmatrix} - 0 \\cdot \\begin{vmatrix} 0 & 3 \\\\ 2 & 6 \\end{vmatrix} + 2 \\cdot \\begin{vmatrix} 0 & 0 \\\\ 2 & 3 \\end{vmatrix} = 0 \\cdot (0 - 9) - 0 \\cdot (0 - 6) + 2 \\cdot (0 - 0) = 0 - 0 + 0 = 0$\n",
    "\n",
    "$det_{14} \\begin{vmatrix} 0 & 0 & 2 \\\\ 0 & 0 & 4 \\\\ 2 & 3 & 5 \\end{vmatrix} = \n",
    "\\begin{vmatrix} + & - & + \\\\ - & + & - \\\\ + & - & + \\end{vmatrix} =\n",
    "0 \\cdot \\begin{vmatrix} 0 & 4 \\\\ 3 & 5 \\end{vmatrix} - 0 \\cdot \\begin{vmatrix} 0 & 4 \\\\ 2 & 5 \\end{vmatrix} + 2 \\cdot \\begin{vmatrix} 0 & 0 \\\\ 2 & 3 \\end{vmatrix} = 0 \\cdot (0 - 12) - 0 \\cdot (0 - 8) + 2 \\cdot (0 - 0) = 0 - 0 + 0 = 0$\n",
    "\n",
    "$(*) = 0 \\cdot det_{11} - 0 \\cdot det_{12} + 2 \\cdot det_{13} - 1 \\cdot det_{14} = 0 \\cdot (-6) - 0 \\cdot (-4) + 2 \\cdot 0 - 1 \\cdot 0 = 0 - 0 + 0 - 0 = 0$\n",
    "\n",
    "Так как $det \\begin{vmatrix} 0 & 0 & 2 & 1 \\\\ 0 & 0 & 2 & 2 \\\\ 0 & 0 & 4 & 3 \\\\ 2 & 3 & 5 & 6 \\end{vmatrix} = 0$, а $det_{11} \\begin{vmatrix} 0 & 2 & 2 \\\\ 0 & 4 & 3 \\\\ 3 & 5 & 6 \\end{vmatrix} = -6 \\ne 0$ и $det_{12} \\begin{vmatrix} 0 & 2 & 2 \\\\ 0 & 4 & 3 \\\\ 2 & 5 & 6 \\end{vmatrix} = -4 \\ne 0$, следовательно ранг матрицы равен 3."
   ]
  },
  {
   "cell_type": "code",
   "execution_count": 11,
   "metadata": {},
   "outputs": [
    {
     "name": "stdout",
     "output_type": "stream",
     "text": [
      "Матрица E:\n",
      "[[0 0 2 1]\n",
      " [0 0 2 2]\n",
      " [0 0 4 3]\n",
      " [2 3 5 6]]\n",
      "Определитель матрицы E равен:  0.0\n",
      "Ранг матрицы E равен: 3\n"
     ]
    }
   ],
   "source": [
    "E= np.array([[0, 0, 2, 1],\n",
    "              [0, 0, 2, 2],\n",
    "              [0, 0, 4, 3],\n",
    "              [2, 3, 5, 6]])\n",
    "print(f'Матрица E:\\n{E}')\n",
    "print(f\"Определитель матрицы E равен:  {np.linalg.det(E)}\")\n",
    "print(f'Ранг матрицы E равен: {np.linalg.matrix_rank(E)}')"
   ]
  },
  {
   "cell_type": "markdown",
   "metadata": {},
   "source": [
    "__Ответ:__<br>\n",
    "__a)__ $\\; \\; rank \\begin{vmatrix} 1 & 2 & 3 \\\\ 1 & 1 & 1 \\\\ 2 & 3 & 4 \\end{vmatrix} = 2\\; \\; \\; \\;$  __б)__ $\\; \\; rank \\begin{vmatrix} 0 & 0 & 2 & 1 \\\\ 0 & 0 & 2 & 2 \\\\ 0 & 0 & 4 & 3\\\\ 2 & 3 & 5 & 6 \\end{vmatrix} = 3; \\; \\; \\; \\;$"
   ]
  },
  {
   "cell_type": "code",
   "execution_count": null,
   "metadata": {},
   "outputs": [],
   "source": []
  }
 ],
 "metadata": {
  "colab": {
   "collapsed_sections": [],
   "name": "Lesson_3-REVISED.ipynb",
   "provenance": []
  },
  "kernelspec": {
   "display_name": "Python 3",
   "language": "python",
   "name": "python3"
  },
  "language_info": {
   "codemirror_mode": {
    "name": "ipython",
    "version": 3
   },
   "file_extension": ".py",
   "mimetype": "text/x-python",
   "name": "python",
   "nbconvert_exporter": "python",
   "pygments_lexer": "ipython3",
   "version": "3.8.10"
  }
 },
 "nbformat": 4,
 "nbformat_minor": 1
}
