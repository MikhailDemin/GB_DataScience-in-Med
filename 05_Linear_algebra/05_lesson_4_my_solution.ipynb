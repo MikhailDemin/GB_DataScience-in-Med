{
 "cells": [
  {
   "cell_type": "markdown",
   "metadata": {
    "id": "fi1GVcIOZS20"
   },
   "source": [
    "# Урок 6"
   ]
  },
  {
   "cell_type": "markdown",
   "metadata": {
    "id": "ixjV8P1IZS23"
   },
   "source": [
    "# Системы линейных уравнений. Часть 1"
   ]
  },
  {
   "cell_type": "markdown",
   "metadata": {
    "id": "J2D422I0ZS5N"
   },
   "source": [
    "## Практическое задание"
   ]
  },
  {
   "cell_type": "markdown",
   "metadata": {
    "id": "cTVfl123ZS5O"
   },
   "source": [
    "### 1. Решить систему уравнений методом Гаусса:\n",
    "\n",
    "### $\\begin{cases}\n",
    "x_{1}+x_{2}-x_{3}-2x_{4}=0, \\\\\n",
    "2x_{1}+x_{2}-x_{3}+x_{4}=-2 \\\\\n",
    "x_{1}+x_{2}-3x_{3}+x_{4}=4\n",
    "\\end{cases}$\n",
    "\n",
    "__Решение:__<br>"
   ]
  },
  {
   "cell_type": "markdown",
   "metadata": {},
   "source": [
    "1) Запишем систему в виде расширенной матрицы:\n",
    "\n",
    "### $\\begin{pmatrix}\n",
    "\\left.\\begin{matrix}\n",
    "1 & 1 & -1 & -2 \\\\ \n",
    "2 & 1 & -1 & 1 \\\\ \n",
    "1 & 1 & -3 & 1\\\\\n",
    "\\end{matrix}\n",
    "\\right|\\begin{matrix}\n",
    "0\\\\ \n",
    "-2\\\\\n",
    "4\\\\\n",
    "\\end{matrix}\n",
    "\\end{pmatrix}$"
   ]
  },
  {
   "cell_type": "markdown",
   "metadata": {},
   "source": [
    "2) Вычтем 1 строку из 3-й строки:\n",
    "### $\\begin{pmatrix}\n",
    "\\left.\\begin{matrix}\n",
    "1 & 1 & -1 & -2 \\\\ \n",
    "2 & 1 & -1 & 1 \\\\ \n",
    "1 - 1 & 1 - 1 & -3 - (-1) & 1 - (-2)\\\\\n",
    "\\end{matrix}\n",
    "\\right|\\begin{matrix}\n",
    "0\\\\ \n",
    "-2\\\\\n",
    "4 - 0\\\\\n",
    "\\end{matrix}\n",
    "\\end{pmatrix} = \n",
    "\\begin{pmatrix}\n",
    "\\left.\\begin{matrix}\n",
    "1 & 1 & -1 & -2 \\\\ \n",
    "2 & 1 & -1 & 1 \\\\ \n",
    "0 & 0 & -2 & 3\\\\\n",
    "\\end{matrix}\n",
    "\\right|\\begin{matrix}\n",
    "0\\\\ \n",
    "-2\\\\\n",
    "4\\\\\n",
    "\\end{matrix}\n",
    "\\end{pmatrix}$"
   ]
  },
  {
   "cell_type": "markdown",
   "metadata": {},
   "source": [
    "3) Умножим 1 строку на 2 и вычтем из 3-й строки:\n",
    "\n",
    "### $\\begin{pmatrix}\n",
    "\\left.\\begin{matrix}\n",
    "1 & 1 & -1 & -2 \\\\ \n",
    "2 - 2 & 1 - 2 & -1 - (-2) & 1 - (-4) \\\\ \n",
    "0 & 0 & -2 & 3\\\\\n",
    "\\end{matrix}\n",
    "\\right|\\begin{matrix}\n",
    "0\\\\ \n",
    "-2 - 0\\\\\n",
    "4\\\\\n",
    "\\end{matrix}\n",
    "\\end{pmatrix} =\n",
    "\\begin{pmatrix}\n",
    "\\left.\\begin{matrix}\n",
    "1 & 1 & -1 & -2 \\\\ \n",
    "0 & -1 & 1 & 5 \\\\ \n",
    "0 & 0 & -2 & 3\\\\\n",
    "\\end{matrix}\n",
    "\\right|\\begin{matrix}\n",
    "0\\\\ \n",
    "-2\\\\\n",
    "4\\\\\n",
    "\\end{matrix}\n",
    "\\end{pmatrix}$"
   ]
  },
  {
   "cell_type": "markdown",
   "metadata": {},
   "source": [
    "4) Разделим каждую строку матрицы на соответсвующий ведущий элемент: 1 строку на 1, 2 строку на -1, 3 строку на -2:<br>\n",
    "\n",
    "### $\\begin{pmatrix}\n",
    "\\left.\\begin{matrix}\n",
    "1 & 1 & -1 & -2 \\\\ \n",
    "0 & 1 & -1 & -5 \\\\ \n",
    "0 & 0 & 1 & -\\frac{3}{2}\n",
    "\\end{matrix}\\right|\n",
    "\\begin{matrix}\n",
    "0\\\\ \n",
    "2\\\\\n",
    "-2\n",
    "\\end{matrix}\n",
    "\\end{pmatrix}$"
   ]
  },
  {
   "cell_type": "markdown",
   "metadata": {},
   "source": [
    "5) Запишем полученные коэффициенты в систему уравнений и выразим $x_{1}, x_{2}, x_{3}$:<br>\n",
    "### $\\begin{cases}\n",
    "x_{1}+x_{2}-x_{3}-2x_{4}=0 \\\\\n",
    "~~~~~~~~x_{2}-x_{3}-5x_{4}=2 \\\\\n",
    "~~~~~~~~~~~~~~~x_{3}-\\frac{3}{2}x_{4}=-2\n",
    "\\end{cases}$\n",
    "\n",
    "### $x_{1}=-x_{2}+x_{3}+2x_{4}$<br>\n",
    "### $x_{2}=2+x_{3}+5x_{4}$<br>\n",
    "### $x_{3} = -2 + \\frac{3}{2}x_{4}$<br>"
   ]
  },
  {
   "cell_type": "markdown",
   "metadata": {},
   "source": [
    "6) Найдем $x_{1}$ и $x_{2}$:<br>\n",
    "### $x_{2}=2+x_{3}+5x_{4}=2+(-2+\\frac{3}{2}x_{4})+5x_{4}=2-2+\\frac{3}{2}x_{4}+\\frac{10}{2}x_{4}=\\frac{13}{2}x_{4}$<br>\n",
    "### $x_{1}=-x_{2}+x_{3}+2x_{4}=-\\frac{13}{2}x_{4}+(-2+\\frac{3}{2}x_{4})+2x_{4}=-2-\\frac{13}{2}x_{4}+\\frac{3}{2}x_{4}+\\frac{4}{2}x_{4}=-2-\\frac{6}{2}x_{4}=-2-3x_{4}$"
   ]
  },
  {
   "cell_type": "markdown",
   "metadata": {},
   "source": [
    "7) Запишем решение системы и найдем частное решение при $x_{4}=0$:<br>\n",
    "### $\\begin{cases}\n",
    "x_{1}=-2-3x_{4} \\\\\n",
    "x_{2}=\\frac{13}{2}x_{4} \\\\\n",
    "x_{3}=-2 + \\frac{3}{2}x_{4}\\\\\n",
    "x_{4}=\\mathbb{R}\n",
    "\\end{cases} \\Rightarrow\n",
    "\\begin{cases}\n",
    "x_{1}=-2-3\\cdot 0 \\\\\n",
    "x_{2}=\\frac{13}{2}\\cdot 0 \\\\\n",
    "x_{3}=-2 + \\frac{3}{2}\\cdot 0\\\\\n",
    "x_{4}=0\n",
    "\\end{cases} \\Rightarrow\n",
    "\\begin{cases}\n",
    "x_{1}=-2 \\\\\n",
    "x_{2}=0 \\\\\n",
    "x_{3}=-2\\\\\n",
    "x_{4}=0\n",
    "\\end{cases}$"
   ]
  },
  {
   "cell_type": "code",
   "execution_count": 1,
   "metadata": {},
   "outputs": [],
   "source": [
    "import numpy as np"
   ]
  },
  {
   "cell_type": "code",
   "execution_count": 9,
   "metadata": {},
   "outputs": [],
   "source": [
    "def gauss_method(A, b, n):\n",
    "    rnk_A = np.linalg.matrix_rank(A)\n",
    "    rnk_Ab = np.linalg.matrix_rank(np.hstack((A, b)))\n",
    "    print(f'rank(A): {rnk_A}\\n')\n",
    "    print(f'rank(A_ext): {rnk_Ab}\\n')\n",
    "    print(f'N of vars: {n}\\n')\n",
    "    if  rnk_A == rnk_Ab == n:\n",
    "        return 'Cистема совместна и имеет единственное решение'\n",
    "    elif (rnk_A == rnk_Ab) and (rnk_A < n):\n",
    "        return 'Cистема совместна и имеет бесконечное количество решений'\n",
    "    elif rnk_A < rnk_Ab:\n",
    "        return 'Cистема несовместна и не имеет решений'"
   ]
  },
  {
   "cell_type": "code",
   "execution_count": 10,
   "metadata": {},
   "outputs": [
    {
     "name": "stdout",
     "output_type": "stream",
     "text": [
      "rank(A): 3\n",
      "\n",
      "rank(A_ext): 3\n",
      "\n",
      "N of vars: 4\n",
      "\n"
     ]
    },
    {
     "data": {
      "text/plain": [
       "'Cистема совместна и имеет бесконечное количество решений'"
      ]
     },
     "execution_count": 10,
     "metadata": {},
     "output_type": "execute_result"
    }
   ],
   "source": [
    "A = np.array([[1, 1, -1, -2], [2, 1, -1, 1], [1, 1, -3, 1]])\n",
    "b = np.array([0, -2, 4]).reshape(-1, 1)\n",
    "gauss_method(A, b, 4)"
   ]
  },
  {
   "cell_type": "markdown",
   "metadata": {
    "id": "cTVfl123ZS5O"
   },
   "source": [
    "### 2. Проверить на совместность и выяснить, сколько решений будет иметь система линейных уравнений:\n",
    "\n",
    "### а) $\\begin{cases}\n",
    "3x_{1}-x_{2}+x_{3}=4, \\\\\n",
    "2x_{1}-5x_{2}-3x_{3}=-17, \\\\\n",
    "x_{1}+x_{2}-x_{3}=0;\n",
    "\\end{cases}$\n",
    "\n",
    "__Решение:__<br>"
   ]
  },
  {
   "cell_type": "markdown",
   "metadata": {},
   "source": [
    "1) Запишем систему в виде матрицы коэффициентов $A$ и расширенной матрицы $\\tilde A$:<br>\n",
    "### $A=\\begin{pmatrix}\n",
    "3 & -1 & 1 \\\\ \n",
    "2 & -5 & -3 \\\\ \n",
    "1 & 1 & -1\\\\\n",
    "\\end{pmatrix};~~~~\n",
    "\\tilde A = \\begin{pmatrix}\n",
    "\\left.\\begin{matrix}\n",
    "3 & -1 & 1 \\\\ \n",
    "2 & -5 & -3 \\\\ \n",
    "1 & 1 & -1\\\\\n",
    "\\end{matrix}\n",
    "\\right|\\begin{matrix}\n",
    "4\\\\ \n",
    "-17\\\\\n",
    "0\\\\\n",
    "\\end{matrix}\n",
    "\\end{pmatrix}$"
   ]
  },
  {
   "cell_type": "markdown",
   "metadata": {},
   "source": [
    "2) Найдем ранг матрицы коэффициентов $A$. Приведем матрицу к треугольному виду:<br>\n",
    "\n",
    "- Умножим 1-ую строку на (-2). Умножим 2-ую строку на 3. Добавим 2-ую строку к 1-ой:\n",
    "### $\\begin{pmatrix}\n",
    "-6+6 & 2+(-15) & -2+(-9) \\\\ \n",
    "(2 \\cdot3) & (-5 \\cdot3) & (-3 \\cdot3) \\\\ \n",
    "1 & 1 & -1\\\\\n",
    "\\end{pmatrix}=\n",
    "\\begin{pmatrix}\n",
    "0 & -13 & -11 \\\\ \n",
    "2 & -5 & -3 \\\\ \n",
    "1 & 1 & -1\\\\\n",
    "\\end{pmatrix}$"
   ]
  },
  {
   "cell_type": "markdown",
   "metadata": {},
   "source": [
    "- Умножим 2-ую строку на (-1). Умножим 3-ую строку на (2). Добавим 3-ую строку ко 2-ой:<br>\n",
    "### $\\begin{pmatrix}\n",
    "0 & -13 & -11 \\\\ \n",
    "-2+2 & 5+2 & 3+(-2) \\\\ \n",
    "1 & 1 & -1\\\\\n",
    "\\end{pmatrix}=\n",
    "\\begin{pmatrix}\n",
    "0 & -13 & -11 \\\\ \n",
    "0 & 7 & 1 \\\\ \n",
    "1 & 1 & -1\\\\\n",
    "\\end{pmatrix}$"
   ]
  },
  {
   "cell_type": "markdown",
   "metadata": {},
   "source": [
    "- Умножим 1-ую строку на (7). Умножим 2-ую строку на (13). Добавим 2-ую строку к 1-ой:<br>\n",
    "### $\\begin{pmatrix}\n",
    "0 + 0 & -91+91 & -77+13 \\\\ \n",
    "0 & (7 \\cdot 13) & (1 \\cdot 13) \\\\ \n",
    "1 & 1 & -1\\\\\n",
    "\\end{pmatrix}=\n",
    "\\begin{pmatrix}\n",
    "0 & 0 & -64 \\\\ \n",
    "0 & 7 & 1 \\\\ \n",
    "1 & 1 & -1\\\\\n",
    "\\end{pmatrix}$"
   ]
  },
  {
   "cell_type": "markdown",
   "metadata": {},
   "source": [
    "- Полученная матрица имеет размерность $3\\times 3$. Наивысший порядок минора (из возможных миноров) равен 3:<br>\n",
    "### $M\\begin{vmatrix}\n",
    "0 & 0 & -64 \\\\ \n",
    "0 & 7 & 1 \\\\ \n",
    "1 & 1 & -1\\\\\n",
    "\\end{vmatrix}=-64\\cdot 7 \\cdot 1 = -448\\ne 0 \\Rightarrow rank~A = 3$ "
   ]
  },
  {
   "cell_type": "markdown",
   "metadata": {},
   "source": [
    "3) Найдем ранг расширенной матрицы $\\tilde A$. Приведем матрицу к треугольному виду:<br>\n",
    "\n",
    "- Умножим 1-ую строку на (-2). Умножим 2-ую строку на 3. Добавим 2-ую строку к 1-ой:\n",
    "### $\\begin{pmatrix}\n",
    "\\left.\\begin{matrix}\n",
    "-6+6 & 2+(-15) & -2+(-9) \\\\ \n",
    "(2 \\cdot3) & (-5 \\cdot3) & (-3 \\cdot3) \\\\\n",
    "1 & 1 & -1\\\\\n",
    "\\end{matrix}\n",
    "\\right|\\begin{matrix}\n",
    "-8 + (-51)\\\\ \n",
    "(-17 \\cdot3)\\\\\n",
    "0\\\\\n",
    "\\end{matrix}\n",
    "\\end{pmatrix}=\n",
    "\\begin{pmatrix}\n",
    "\\left.\\begin{matrix}\n",
    "0 & -13 & -11 \\\\ \n",
    "2 & -5 & -3 \\\\ \n",
    "1 & 1 & -1\\\\\n",
    "\\end{matrix}\n",
    "\\right|\\begin{matrix}\n",
    "-59\\\\ \n",
    "-17\\\\\n",
    "0\\\\\n",
    "\\end{matrix}\n",
    "\\end{pmatrix}$"
   ]
  },
  {
   "cell_type": "markdown",
   "metadata": {},
   "source": [
    "- Умножим 2-ую строку на (-1). Умножим 3-ую строку на (2). Добавим 3-ую строку ко 2-ой:<br>\n",
    "### $\\begin{pmatrix}\n",
    "\\left.\\begin{matrix}\n",
    "0 & -13 & -11 \\\\ \n",
    "-2+2 & 5+2 & 3+(-2) \\\\ \n",
    "(1\\cdot 2) & (1\\cdot 2) & (-1\\cdot 2)\\\\\n",
    "\\end{matrix}\n",
    "\\right|\\begin{matrix}\n",
    "-59\\\\ \n",
    "17 + 0\\\\\n",
    "(0\\cdot 2)\\\\\n",
    "\\end{matrix}\n",
    "\\end{pmatrix}=\n",
    "\\begin{pmatrix}\n",
    "\\left.\\begin{matrix}\n",
    "0 & -13 & -11 \\\\ \n",
    "0 & 7 & 1 \\\\ \n",
    "1 & 1 & -1\\\\\n",
    "\\end{matrix}\n",
    "\\right|\\begin{matrix}\n",
    "-59\\\\ \n",
    "17\\\\\n",
    "0\\\\\n",
    "\\end{matrix}\n",
    "\\end{pmatrix}$"
   ]
  },
  {
   "cell_type": "markdown",
   "metadata": {},
   "source": [
    "- Умножим 1-ую строку на (7). Умножим 2-ую строку на (13). Добавим 2-ую строку к 1-ой:<br>\n",
    "### $\\begin{pmatrix}\n",
    "\\left.\\begin{matrix}\n",
    "0 + 0 & -91+91 & -77+13 \\\\ \n",
    "(0 \\cdot 13) & (7 \\cdot 13) & (1 \\cdot 13) \\\\ \n",
    "1 & 1 & -1\\\\\n",
    "\\end{matrix}\n",
    "\\right|\\begin{matrix}\n",
    "-413 + 221\\\\ \n",
    "(17 \\cdot13)\\\\\n",
    "0\\\\\n",
    "\\end{matrix}\n",
    "\\end{pmatrix}=\n",
    "\\begin{pmatrix}\n",
    "\\left.\\begin{matrix}\n",
    "0 & 0 & -64 \\\\ \n",
    "0 & 7 & 1 \\\\ \n",
    "1 & 1 & -1\\\\\n",
    "\\end{matrix}\n",
    "\\right|\\begin{matrix}\n",
    "-192\\\\ \n",
    "17\\\\\n",
    "0\\\\\n",
    "\\end{matrix}\n",
    "\\end{pmatrix}$"
   ]
  },
  {
   "cell_type": "markdown",
   "metadata": {},
   "source": [
    "- Полученная матрица имеет размерность $3\\times 4$. Наивысший порядок минора (из возможных миноров) равен 3:<br>\n",
    "### $\\tilde M\n",
    "\\begin{pmatrix}\n",
    "\\left.\\begin{matrix}\n",
    "0 & 0 & -64 \\\\ \n",
    "0 & 7 & 1 \\\\ \n",
    "1 & 1 & -1\\\\\n",
    "\\end{matrix}\n",
    "\\right|\\begin{matrix}\n",
    "-192\\\\ \n",
    "17\\\\\n",
    "0\\\\\n",
    "\\end{matrix}\n",
    "\\end{pmatrix}=\n",
    "M\\begin{vmatrix}\n",
    "0 & 0 & -64 \\\\ \n",
    "0 & 7 & 1 \\\\ \n",
    "1 & 1 & -1\\\\\n",
    "\\end{vmatrix}=-64\\cdot 7 \\cdot 1 = -448\\ne 0 \\Rightarrow rank~\\tilde A = 3$ "
   ]
  },
  {
   "cell_type": "markdown",
   "metadata": {},
   "source": [
    "4) Так как $rank~A = rank~\\tilde A = n = 3\\Rightarrow$ система совместна и имеет единственное решение."
   ]
  },
  {
   "cell_type": "code",
   "execution_count": 11,
   "metadata": {},
   "outputs": [
    {
     "name": "stdout",
     "output_type": "stream",
     "text": [
      "rank(A): 3\n",
      "\n",
      "rank(A_ext): 3\n",
      "\n",
      "N of vars: 3\n",
      "\n"
     ]
    },
    {
     "data": {
      "text/plain": [
       "'Cистема совместна и имеет единственное решение'"
      ]
     },
     "execution_count": 11,
     "metadata": {},
     "output_type": "execute_result"
    }
   ],
   "source": [
    "A = np.array([[3, -1, 1], [2, -5, -3], [1, 1, -1]])\n",
    "b = np.array([4, -17, 0]).reshape(-1, 1)\n",
    "gauss_method(A, b, 3)"
   ]
  },
  {
   "cell_type": "markdown",
   "metadata": {
    "id": "cTVfl123ZS5O"
   },
   "source": [
    "    \n",
    "### б) $\\begin{cases}\n",
    "2x_{1}-4x_{2}+6x_{3}=1, \\\\\n",
    "x_{1}-2x_{2}+3x_{3}=-2, \\\\\n",
    "3x_{1}-6x_{2}+9x_{3}=5;\n",
    "\\end{cases}$\n",
    "\n",
    "__Решение:__<br>"
   ]
  },
  {
   "cell_type": "markdown",
   "metadata": {},
   "source": [
    "1) Запишем систему в виде матрицы коэффициентов $A$ и расширенной матрицы $\\tilde A$:<br>\n",
    "### $A=\\begin{pmatrix}\n",
    "2 & -4 & 6 \\\\ \n",
    "1 & -2 & 3 \\\\ \n",
    "3 & -6 & 9\\\\\n",
    "\\end{pmatrix};~~~~\n",
    "\\tilde A = \\begin{pmatrix}\n",
    "\\left.\\begin{matrix}\n",
    "2 & -4 & 6 \\\\ \n",
    "1 & -2 & 3 \\\\ \n",
    "3 & -6 & 9\\\\\n",
    "\\end{matrix}\n",
    "\\right|\\begin{matrix}\n",
    "1\\\\ \n",
    "-2\\\\\n",
    "5\\\\\n",
    "\\end{matrix}\n",
    "\\end{pmatrix}$"
   ]
  },
  {
   "cell_type": "markdown",
   "metadata": {},
   "source": [
    "2) Найдем ранг матрицы коэффициентов $A$. Приведем матрицу к треугольному виду:<br>\n",
    "\n",
    "- В данной матрице все строки пропорциональны - 3-я строка является суммой 1-й и 2-й, следовательно первые две строки можно вычеркнуть:\n",
    "### $\\begin{vmatrix}\n",
    "2 & -4 & 6 \\\\ \n",
    "1 & -2 & 3 \\\\ \n",
    "3 & -6 & 9 \\\\\n",
    "\\end{vmatrix}=\n",
    "\\begin{vmatrix}\n",
    "2 & -4 & 6 \\\\ \n",
    "1 & -2 & 3 \\\\ \n",
    "2+1 & -2+(-4) & 6+3 \\\\\n",
    "\\end{vmatrix}=\n",
    "\\begin{vmatrix}\n",
    "3 & -6 & 9\\\\\n",
    "\\end{vmatrix}$"
   ]
  },
  {
   "cell_type": "markdown",
   "metadata": {},
   "source": [
    "- Полученная матрица имеет размерность $1\\times 3$. Минором в данном случае является элемент на пересечении строки и столбца. Наивысший порядок минора (из возможных миноров) равен 1 и равен элементу строки:<br>\n",
    "### $M\\begin{vmatrix} 3 & -6 & 9\\\\ \\end{vmatrix}=9\\ne 0 \\Rightarrow rank~A = 1$ "
   ]
  },
  {
   "cell_type": "markdown",
   "metadata": {},
   "source": [
    "3) Найдем ранг расширенной матрицы $\\tilde A$. Приведем матрицу к треугольному виду. Работаем только со строками:<br>\n",
    "\n",
    "- Первая и вторая строки пропорциональны. Если умножить 2-ю строку на 2 можно получить первую (кроме 4 столбца). Таким образом мы можем вычеркнуть первую строку:\n",
    "### $\\begin{pmatrix}\n",
    "\\left.\\begin{matrix}\n",
    "2 & -4 & 6 \\\\ \n",
    "1 & -2 & 3 \\\\ \n",
    "3 & -6 & 9\\\\\n",
    "\\end{matrix}\n",
    "\\right|\\begin{matrix}\n",
    "1\\\\ \n",
    "-2\\\\\n",
    "5\\\\\n",
    "\\end{matrix}\n",
    "\\end{pmatrix}=\n",
    "\\begin{bmatrix}\n",
    "\\left.\\begin{matrix}\n",
    "1 & -2 & 3 \\\\ \n",
    "3 & -6 & 9\\\\\n",
    "\\end{matrix}\n",
    "\\right|\\begin{matrix}\n",
    "-2\\\\\n",
    "5\n",
    "\\end{matrix}\n",
    "\\end{bmatrix}$"
   ]
  },
  {
   "cell_type": "markdown",
   "metadata": {},
   "source": [
    "- Умножим 1-ую строку на (-3). Добавим 2-ую строку к 1-ой::<br>\n",
    "### $\\begin{bmatrix}\n",
    "\\left.\\begin{matrix}\n",
    "((-3)\\cdot 1)+3 & ((-3)\\cdot (-2))+(-6) & ((-3)\\cdot 3)+9 \\\\ \n",
    "3 & -6 & 9\\\\\n",
    "\\end{matrix}\n",
    "\\right|\\begin{matrix}\n",
    "((-3)\\cdot (-2))+5\\\\\n",
    "5\n",
    "\\end{matrix}\n",
    "\\end{bmatrix}=\n",
    "\\begin{bmatrix}\n",
    "\\left.\\begin{matrix}\n",
    "0 & 0 & 0 \\\\ \n",
    "3 & -6 & 9\\\\\n",
    "\\end{matrix}\n",
    "\\right|\\begin{matrix}\n",
    "11\\\\\n",
    "5\n",
    "\\end{matrix}\n",
    "\\end{bmatrix}$"
   ]
  },
  {
   "cell_type": "markdown",
   "metadata": {},
   "source": [
    "- Полученная матрица имеет размерность $2\\times 4$. Найдем ненулевой минор наибольшего порядка:<br>\n",
    "### $\\tilde M\n",
    "\\begin{bmatrix}\n",
    "\\left.\\begin{matrix}\n",
    "0 & 0 & 0 \\\\ \n",
    "3 & -6 & 9\\\\\n",
    "\\end{matrix}\n",
    "\\right|\\begin{matrix}\n",
    "11\\\\\n",
    "5\n",
    "\\end{matrix}\n",
    "\\end{bmatrix}=\n",
    "\\begin{vmatrix}\n",
    "0 & 11 \\\\ \n",
    "9 & 5\\\\\n",
    "\\end{vmatrix}=11\\cdot 9 = 99\\ne 0 \\Rightarrow rank~\\tilde A = 2$<br>\n",
    "Наивысший порядок минора (из возможных миноров) равен 2.<br>"
   ]
  },
  {
   "cell_type": "markdown",
   "metadata": {},
   "source": [
    "4) Так как $rank~A < rank~\\tilde A \\Rightarrow$ система несовместна и не имеет решений."
   ]
  },
  {
   "cell_type": "code",
   "execution_count": 12,
   "metadata": {
    "scrolled": true
   },
   "outputs": [
    {
     "name": "stdout",
     "output_type": "stream",
     "text": [
      "rank(A): 1\n",
      "\n",
      "rank(A_ext): 2\n",
      "\n",
      "N of vars: 3\n",
      "\n"
     ]
    },
    {
     "data": {
      "text/plain": [
       "'Cистема несовместна и не имеет решений'"
      ]
     },
     "execution_count": 12,
     "metadata": {},
     "output_type": "execute_result"
    }
   ],
   "source": [
    "A = np.array([[2, -4, 6], [1, -2, 3], [3, -6, 9]])\n",
    "b = np.array([1, -2, 5]).reshape(-1, 1)\n",
    "gauss_method(A, b, 3)"
   ]
  },
  {
   "cell_type": "markdown",
   "metadata": {
    "id": "cTVfl123ZS5O"
   },
   "source": [
    "### в) $\\begin{cases}\n",
    "x_{1}+2x_{2}+5x_{3}=4, \\\\\n",
    "3x_{1}+x_{2}-8x_{3}=-2. \n",
    "\\end{cases}$\n",
    "\n",
    "__Решение:__<br>"
   ]
  },
  {
   "cell_type": "markdown",
   "metadata": {},
   "source": [
    "1) Запишем систему в виде матрицы коэффициентов $A$ и расширенной матрицы $\\tilde A$:<br>\n",
    "### $A=\\begin{bmatrix}\n",
    "1 & 2 & 5 \\\\ \n",
    "3 & 1 & -8\\\\\n",
    "\\end{bmatrix};~~~~\n",
    "\\tilde A = \\begin{bmatrix}\n",
    "\\left.\\begin{matrix}\n",
    "1 & 2 & 5 \\\\ \n",
    "3 & 1 & -8\\\\\n",
    "\\end{matrix}\n",
    "\\right|\\begin{matrix}\n",
    "4\\\\ \n",
    "-2\n",
    "\\end{matrix}\n",
    "\\end{bmatrix}$"
   ]
  },
  {
   "cell_type": "markdown",
   "metadata": {},
   "source": [
    "2) Найдем ранг матрицы коэффициентов $A$. Приведем матрицу к ступенчатому виду:<br>\n",
    "\n",
    "- Умножим 1-ую строку на (-3). Добавим 1-ую строку ко 2-ой:\n",
    "### $\\begin{bmatrix}\n",
    "-3 \\cdot 1 & -3 \\cdot 2 & -3 \\cdot 5 \\\\ \n",
    "-3+3 & -6+1 & (-15)+(-8)\\\\\n",
    "\\end{bmatrix}=\n",
    "\\begin{bmatrix}\n",
    "1 & 2 & 5 \\\\ \n",
    "0 & -5 & -23\\\\\n",
    "\\end{bmatrix}$"
   ]
  },
  {
   "cell_type": "markdown",
   "metadata": {},
   "source": [
    "- Разделим 2-ую строку на (-5):<br>\n",
    "### $\\begin{bmatrix}\n",
    "1 & 2 & 5 \\\\ \n",
    "0\\div -5 & -5\\div -5 & -23\\div -5\\\\\n",
    "\\end{bmatrix}=\n",
    "\\begin{bmatrix}\n",
    "1 & 2 & 5 \\\\ \n",
    "0 & 1 & \\frac{23}{5}\\\\\n",
    "\\end{bmatrix}$"
   ]
  },
  {
   "cell_type": "markdown",
   "metadata": {},
   "source": [
    "- Полученная матрица имеет размерность $2\\times 3$. Наивысший порядок минора (из возможных миноров) равен 2:<br>\n",
    "### $M\\begin{bmatrix}\n",
    "1 & 2 & 5 \\\\ \n",
    "0 & 1 & \\frac{23}{5}\\\\\n",
    "\\end{bmatrix}=\n",
    "M\\begin{vmatrix}\n",
    "2 & 5 \\\\ \n",
    "1 & \\frac{23}{5}\\\\\n",
    "\\end{vmatrix}=2\\cdot \\frac{23}{5} = \\frac{46}{5} \\ne 0 \\Rightarrow rank~A = 2$ "
   ]
  },
  {
   "cell_type": "markdown",
   "metadata": {},
   "source": [
    "3) Найдем ранг расширенной матрицы $\\tilde A$. Приведем матрицу к ступенчатому виду:<br>\n",
    "\n",
    "- Умножим 1-ую строку на (-3). Добавим 1-ую строку ко 2-ой:\n",
    "### $\\begin{bmatrix}\n",
    "\\left.\\begin{matrix}\n",
    "-3 \\cdot 1 & -3 \\cdot 2 & -3 \\cdot 5 \\\\ \n",
    "-3+3 & -6+1 & (-15)+(-8)\\\\\n",
    "\\end{matrix}\n",
    "\\right|\\begin{matrix}\n",
    "-3 \\cdot 4\\\\ \n",
    "-2 +(-12)\n",
    "\\end{matrix}\n",
    "\\end{bmatrix}=\n",
    "\\begin{bmatrix}\n",
    "\\left.\\begin{matrix}\n",
    "1 & 2 & 5 \\\\ \n",
    "0 & -5 & -23\\\\\n",
    "\\end{matrix}\n",
    "\\right|\\begin{matrix}\n",
    "4\\\\ \n",
    "-14\n",
    "\\end{matrix}\n",
    "\\end{bmatrix}$"
   ]
  },
  {
   "cell_type": "markdown",
   "metadata": {},
   "source": [
    "- Разделим 2-ую строку на (-5):<br>\n",
    "### $\\begin{bmatrix}\n",
    "\\left.\\begin{matrix}\n",
    "1 & 2 & 5 \\\\ \n",
    "0\\div -5 & -5\\div -5 & -23\\div -5\\\\\n",
    "\\end{matrix}\n",
    "\\right|\\begin{matrix}\n",
    "4\\\\ \n",
    "-14\\div -5\n",
    "\\end{matrix}\n",
    "\\end{bmatrix}=\n",
    "\\begin{bmatrix}\n",
    "\\left.\\begin{matrix}\n",
    "1 & 2 & 5 \\\\ \n",
    "0 & 1 & \\frac{23}{5}\\\\\n",
    "\\end{matrix}\n",
    "\\right|\\begin{matrix}\n",
    "4\\\\ \n",
    "\\frac{14}{5}\n",
    "\\end{matrix}\n",
    "\\end{bmatrix}$"
   ]
  },
  {
   "cell_type": "markdown",
   "metadata": {},
   "source": [
    "- Полученная матрица имеет размерность $2\\times 3$. Наивысший порядок минора (из возможных миноров) равен 2:<br>\n",
    "### $\\tilde M\\begin{bmatrix}\n",
    "\\left.\\begin{matrix}\n",
    "1 & 2 & 5 \\\\ \n",
    "0 & 1 & \\frac{23}{5}\\\\\n",
    "\\end{matrix}\n",
    "\\right|\\begin{matrix}\n",
    "4\\\\ \n",
    "\\frac{14}{5}\n",
    "\\end{matrix}\n",
    "\\end{bmatrix}=\n",
    "M\\begin{vmatrix}\n",
    "5 & 4 \\\\ \n",
    "\\frac{23}{5} & \\frac{14}{5}\\\\\n",
    "\\end{vmatrix}=5\\cdot \\frac{14}{5} = \\frac{\\not 5 \\cdot 14}{\\not 5}=14 \\ne 0 \\Rightarrow rank~A = 2$ "
   ]
  },
  {
   "cell_type": "markdown",
   "metadata": {},
   "source": [
    "4) Так как $rank~A = rank~\\tilde A = 2 < n = 3\\Rightarrow$ система совместна и имеет бесконечное количество решений."
   ]
  },
  {
   "cell_type": "code",
   "execution_count": 13,
   "metadata": {},
   "outputs": [
    {
     "name": "stdout",
     "output_type": "stream",
     "text": [
      "rank(A): 2\n",
      "\n",
      "rank(A_ext): 2\n",
      "\n",
      "N of vars: 3\n",
      "\n"
     ]
    },
    {
     "data": {
      "text/plain": [
       "'Cистема совместна и имеет бесконечное количество решений'"
      ]
     },
     "execution_count": 13,
     "metadata": {},
     "output_type": "execute_result"
    }
   ],
   "source": [
    "A = np.array([[1, 2, 5], [3, 1, -8]])\n",
    "b = np.array([4, -2]).reshape(-1, 1)\n",
    "gauss_method(A, b, 3)"
   ]
  },
  {
   "cell_type": "markdown",
   "metadata": {},
   "source": [
    "__Ответ:__<br>\n",
    "__a)__ Система совместна и имеет единственное решение;<br>\n",
    "__б)__ Система несовместна и не имеет решений;<br>\n",
    "__в)__ Система совместна и имеет бесконечное количество решений.<br>"
   ]
  },
  {
   "cell_type": "markdown",
   "metadata": {
    "id": "cTVfl123ZS5O"
   },
   "source": [
    "### 3. Проверить на совместность и выяснить, сколько решений будет иметь система линейных уравнений, заданная расширенной матрицей\n",
    "\n",
    "### $\\tilde{A}=\\begin{pmatrix}\n",
    "\\left.\\begin{matrix}\n",
    "1 & 3 & -2 & 4\\\\ \n",
    "0 & 5 & 0 & 1\\\\ \n",
    "0 & 0 & 3 & 0\\\\ \n",
    "0 & 0 & 0 & 2\n",
    "\\end{matrix}\\right|\n",
    "\\begin{matrix}\n",
    "3\\\\ \n",
    "2\\\\\n",
    "4\\\\\n",
    "1\n",
    "\\end{matrix}\n",
    "\\end{pmatrix}$\n",
    "\n",
    "__Решение:__<br>"
   ]
  },
  {
   "cell_type": "markdown",
   "metadata": {},
   "source": [
    "1) Запишем систему в виде матрицы коэффициентов $A$ и расширенной матрицы $\\tilde A$:<br>\n",
    "### $A=\\begin{pmatrix}\n",
    "1 & 3 & -2 & 4\\\\ \n",
    "0 & 5 & 0 & 1\\\\ \n",
    "0 & 0 & 3 & 0\\\\ \n",
    "0 & 0 & 0 & 2\n",
    "\\end{pmatrix};~~~~\n",
    "\\tilde A = \\begin{pmatrix}\n",
    "\\left.\\begin{matrix}\n",
    "1 & 3 & -2 & 4\\\\ \n",
    "0 & 5 & 0 & 1\\\\ \n",
    "0 & 0 & 3 & 0\\\\ \n",
    "0 & 0 & 0 & 2\n",
    "\\end{matrix}\n",
    "\\right|\\begin{matrix}\n",
    "3\\\\ \n",
    "2\\\\\n",
    "4\\\\\n",
    "1\n",
    "\\end{matrix}\n",
    "\\end{pmatrix}$"
   ]
  },
  {
   "cell_type": "markdown",
   "metadata": {},
   "source": [
    "2) Найдем ранг матрицы коэффициентов $A$. Приведем матрицу к треугольному виду:<br>\n",
    "- Для удобства вычислений поменяем строки местами - 1-ю и 4-ю, затем 2-ю и 3-ю:\n",
    "### $\\begin{pmatrix}\n",
    "1 & 3 & -2 & 4\\\\ \n",
    "0 & 5 & 0 & 1\\\\ \n",
    "0 & 0 & 3 & 0\\\\ \n",
    "0 & 0 & 0 & 2\n",
    "\\end{pmatrix}=\n",
    "\\begin{pmatrix}\n",
    "0 & 0 & 0 & 2\\\\ \n",
    "0 & 5 & 0 & 1\\\\ \n",
    "0 & 0 & 3 & 0\\\\ \n",
    "1 & 3 & -2 & 4\n",
    "\\end{pmatrix}=\n",
    "\\begin{pmatrix}\n",
    "0 & 0 & 0 & 2\\\\ \n",
    "0 & 0 & 3 & 0\\\\ \n",
    "0 & 5 & 0 & 1\\\\ \n",
    "1 & 3 & -2 & 4\n",
    "\\end{pmatrix}$"
   ]
  },
  {
   "cell_type": "markdown",
   "metadata": {},
   "source": [
    "- В результате преобразований получили матрицу размером $4\\times 4$, которая является для себя минором наивысшего порядка (из возможных миноров). Минор равен произведению элементов побочной диагонали:<br>\n",
    "### $M=\\begin{vmatrix}\n",
    "0 & 0 & 0 & 2\\\\ \n",
    "0 & 0 & 3 & 0\\\\ \n",
    "0 & 5 & 0 & 1\\\\ \n",
    "1 & 3 & -2 & 4\n",
    "\\end{vmatrix}=1\\cdot 5 \\cdot 3 \\cdot 2 = 30\\ne 0 \\Rightarrow rank~A = 4$ "
   ]
  },
  {
   "cell_type": "markdown",
   "metadata": {},
   "source": [
    "3) Найдем ранг расширенной матрицы $\\tilde A$. Приведем матрицу к треугольному виду:<br>\n",
    "- Для удобства вычислений поменяем строки местами - 1-ю и 4-ю, затем 2-ю и 3-ю:\n",
    "### $\\begin{pmatrix}\n",
    "\\left.\\begin{matrix}\n",
    "1 & 3 & -2 & 4\\\\ \n",
    "0 & 5 & 0 & 1\\\\ \n",
    "0 & 0 & 3 & 0\\\\ \n",
    "0 & 0 & 0 & 2\n",
    "\\end{matrix}\n",
    "\\right|\\begin{matrix}\n",
    "3\\\\ \n",
    "2\\\\\n",
    "4\\\\\n",
    "1\n",
    "\\end{matrix}\n",
    "\\end{pmatrix}=\n",
    "\\begin{pmatrix}\n",
    "\\left.\\begin{matrix}\n",
    "0 & 0 & 0 & 2\\\\ \n",
    "0 & 5 & 0 & 1\\\\ \n",
    "0 & 0 & 3 & 0\\\\ \n",
    "1 & 3 & -2 & 4\n",
    "\\end{matrix}\n",
    "\\right|\\begin{matrix}\n",
    "1\\\\ \n",
    "2\\\\\n",
    "4\\\\\n",
    "3\n",
    "\\end{matrix}\n",
    "\\end{pmatrix}=\n",
    "\\begin{pmatrix}\n",
    "\\left.\\begin{matrix}\n",
    "0 & 0 & 0 & 2\\\\ \n",
    "0 & 0 & 3 & 0\\\\ \n",
    "0 & 5 & 0 & 1\\\\ \n",
    "1 & 3 & -2 & 4\n",
    "\\end{matrix}\n",
    "\\right|\\begin{matrix}\n",
    "1\\\\ \n",
    "4\\\\\n",
    "2\\\\\n",
    "3\n",
    "\\end{matrix}\n",
    "\\end{pmatrix}$"
   ]
  },
  {
   "cell_type": "markdown",
   "metadata": {},
   "source": [
    "- В результате преобразований получили матрицу размером $4\\times 4$. Минор наивысшего порядка (из возможных миноров) является матрицей коэффициентов $A$. Минор равен произведению элементов побочной диагонали:<br>\n",
    "### $\\tilde M=\\begin{pmatrix}\n",
    "\\left.\\begin{matrix}\n",
    "0 & 0 & 0 & 2\\\\ \n",
    "0 & 0 & 3 & 0\\\\ \n",
    "0 & 5 & 0 & 1\\\\ \n",
    "1 & 3 & -2 & 4\n",
    "\\end{matrix}\n",
    "\\right|\\begin{matrix}\n",
    "1\\\\ \n",
    "4\\\\\n",
    "2\\\\\n",
    "3\n",
    "\\end{matrix}\n",
    "\\end{pmatrix}=\n",
    "M=\\begin{vmatrix}\n",
    "0 & 0 & 0 & 2\\\\ \n",
    "0 & 0 & 3 & 0\\\\ \n",
    "0 & 5 & 0 & 1\\\\ \n",
    "1 & 3 & -2 & 4\n",
    "\\end{vmatrix}=1\\cdot 5 \\cdot 3 \\cdot 2 = 30\\ne 0 \\Rightarrow rank~\\tilde A = 4$ "
   ]
  },
  {
   "cell_type": "markdown",
   "metadata": {},
   "source": [
    "4) Так как $rank~A = rank~\\tilde A = n = 4\\Rightarrow$ система совместна и имеет единственное решение."
   ]
  },
  {
   "cell_type": "code",
   "execution_count": 14,
   "metadata": {},
   "outputs": [
    {
     "name": "stdout",
     "output_type": "stream",
     "text": [
      "rank(A): 4\n",
      "\n",
      "rank(A_ext): 4\n",
      "\n",
      "N of vars: 4\n",
      "\n"
     ]
    },
    {
     "data": {
      "text/plain": [
       "'Cистема совместна и имеет единственное решение'"
      ]
     },
     "execution_count": 14,
     "metadata": {},
     "output_type": "execute_result"
    }
   ],
   "source": [
    "A = np.array([[1, 3, -2, 4], [0, 5, 0, 1], [0, 0, 3, 0], [0, 0, 0, 2]])\n",
    "b = np.array([3, 2, 4, 1]).reshape(-1, 1)\n",
    "gauss_method(A, b, 4)"
   ]
  },
  {
   "cell_type": "markdown",
   "metadata": {},
   "source": [
    "__Ответ:__<br>\n",
    "Система совместна и имеет единственное решение."
   ]
  },
  {
   "cell_type": "markdown",
   "metadata": {
    "id": "cTVfl123ZS5O"
   },
   "source": [
    "### 4. Дана система линейных уравнений, заданная расширенной матрицей\n",
    "\n",
    "### $\\tilde{A}=\\begin{pmatrix}\n",
    "\\left.\\begin{matrix}\n",
    "1 & 2 & 3\\\\ \n",
    "4 & 5 & 6\\\\ \n",
    "7 & 8 & 9\n",
    "\\end{matrix}\\right|\n",
    "\\begin{matrix}\n",
    "a\\\\ \n",
    "b\\\\\n",
    "c\n",
    "\\end{matrix}\n",
    "\\end{pmatrix}$\n",
    "\n",
    "Найти соотношение между параметрами $a$, $b$ и $c$, при которых система является несовместной.\n",
    "\n",
    "__Решение:__<br>"
   ]
  },
  {
   "cell_type": "markdown",
   "metadata": {
    "id": "cTVfl123ZS5O"
   },
   "source": [
    "1) Система несовместна при $rank~A < rank~\\tilde A$. Найдем ранг расширенной матрицы $\\tilde A$. Приведем матрицу к ступенчатому виду:<br>\n",
    "\n",
    "- От 2-й строки отнимаем 1-ю строку, умноженную на 4:\n",
    "\n",
    "### $\\begin{pmatrix}\n",
    "\\left.\\begin{matrix}\n",
    "1 & 2 & 3\\\\ \n",
    "4-(4\\cdot 1) & 5-(4\\cdot 2) & 6-(4\\cdot 3)\\\\ \n",
    "7 & 8 & 9\n",
    "\\end{matrix}\\right|\n",
    "\\begin{matrix}\n",
    "a\\\\ \n",
    "b-4\\cdot a\\\\\n",
    "c\n",
    "\\end{matrix}\n",
    "\\end{pmatrix}=\n",
    "\\begin{pmatrix}\n",
    "\\left.\\begin{matrix}\n",
    "1 & 2 & 3\\\\ \n",
    "0 & -3 & -6\\\\ \n",
    "7 & 8 & 9\n",
    "\\end{matrix}\\right|\n",
    "\\begin{matrix}\n",
    "a\\\\ \n",
    "b-4a\\\\\n",
    "c\n",
    "\\end{matrix}\n",
    "\\end{pmatrix}$"
   ]
  },
  {
   "cell_type": "markdown",
   "metadata": {},
   "source": [
    "- От 3-й строки отнимаем 1-ю строку, умноженную на 7:\n",
    "\n",
    "### $\\begin{pmatrix}\n",
    "\\left.\\begin{matrix}\n",
    "1 & 2 & 3\\\\ \n",
    "0 & -3 & -6\\\\ \n",
    "7-(7\\cdot 1) & 8-(7\\cdot 2) & 9-(7\\cdot 3)\n",
    "\\end{matrix}\\right|\n",
    "\\begin{matrix}\n",
    "a\\\\ \n",
    "b-4a\\\\\n",
    "c-7\\cdot a\n",
    "\\end{matrix}\n",
    "\\end{pmatrix}=\n",
    "\\begin{pmatrix}\n",
    "\\left.\\begin{matrix}\n",
    "1 & 2 & 3\\\\ \n",
    "0 & -3 & -6\\\\ \n",
    "0 & -6 & -12\n",
    "\\end{matrix}\\right|\n",
    "\\begin{matrix}\n",
    "a\\\\ \n",
    "b-4a\\\\\n",
    "c-7a\n",
    "\\end{matrix}\n",
    "\\end{pmatrix}$"
   ]
  },
  {
   "cell_type": "markdown",
   "metadata": {},
   "source": [
    "- 2-ю строку делим на -3:\n",
    "\n",
    "### $\\begin{pmatrix}\n",
    "\\left.\\begin{matrix}\n",
    "1 & 2 & 3\\\\ \n",
    "0 & -3 \\div (-3) & -6 \\div (-3)\\\\ \n",
    "0 & -6 & -12\n",
    "\\end{matrix}\\right|\n",
    "\\begin{matrix}\n",
    "a\\\\ \n",
    "(b-4a) \\div (-3)\\\\\n",
    "c-7a\n",
    "\\end{matrix}\n",
    "\\end{pmatrix}=\n",
    "\\begin{pmatrix}\n",
    "\\left.\\begin{matrix}\n",
    "1 & 2 & 3\\\\ \n",
    "0 & 1 & 2\\\\ \n",
    "0 & -6 & -12\n",
    "\\end{matrix}\\right|\n",
    "\\begin{matrix}\n",
    "a\\\\ \n",
    "-\\frac{b}{3}+\\frac{4a}{3}\\\\\n",
    "c-7a\n",
    "\\end{matrix}\n",
    "\\end{pmatrix}$"
   ]
  },
  {
   "cell_type": "markdown",
   "metadata": {},
   "source": [
    "- К 3-й строке добавляем 2-ю строку, умноженную на 6:\n",
    "\n",
    "### $\\begin{pmatrix}\n",
    "\\left.\\begin{matrix}\n",
    "1 & 2 & 3\\\\ \n",
    "0 & 1 & 2\\\\ \n",
    "0 & -6+(6 \\cdot 1) & -12+(6 \\cdot 2)\n",
    "\\end{matrix}\\right|\n",
    "\\begin{matrix}\n",
    "a\\\\ \n",
    "-\\frac{b}{3}+\\frac{4a}{3}\\\\\n",
    "c-7a+\\bigg( 6 \\cdot \\left( -\\frac{b}{3}+\\frac{4a}{3}\\right)\\bigg)=c-7a- \\frac{\\not 6~2 \\cdot b}{\\not 3}+\\frac{\\not 6~2 \\cdot 4 a}{\\not 3} = c-7a-2b+8a\n",
    "\\end{matrix}\n",
    "\\end{pmatrix}=\n",
    "\\begin{pmatrix}\n",
    "\\left.\\begin{matrix}\n",
    "1 & 2 & 3\\\\ \n",
    "0 & 1 & 2\\\\ \n",
    "0 & 0 & 0\n",
    "\\end{matrix}\\right|\n",
    "\\begin{matrix}\n",
    "a\\\\ \n",
    "-\\frac{b}{3}+\\frac{4a}{3}\\\\\n",
    "c+a-2b \n",
    "\\end{matrix}\n",
    "\\end{pmatrix}$"
   ]
  },
  {
   "cell_type": "markdown",
   "metadata": {},
   "source": [
    "Если в результате преобразований $c+a-2b\\ne 0$, тогда систем будет несовместна."
   ]
  },
  {
   "cell_type": "markdown",
   "metadata": {},
   "source": [
    "__Ответ:__<br>\n",
    "Система несовместна при $c+a-2b\\ne 0$."
   ]
  },
  {
   "cell_type": "markdown",
   "metadata": {},
   "source": [
    "# Урок 7"
   ]
  },
  {
   "cell_type": "markdown",
   "metadata": {},
   "source": [
    "# Системы линейных уравнений. Часть 2"
   ]
  },
  {
   "cell_type": "markdown",
   "metadata": {},
   "source": [
    "## Практическое задание"
   ]
  },
  {
   "cell_type": "markdown",
   "metadata": {},
   "source": [
    "### 1. Решить систему уравнений методом Крамера:\n",
    "\n",
    "### а) $\\begin{cases}\n",
    "x_{1}-2x_{2}=1 \\\\\n",
    "3x_{1}-4x_{2}=7\n",
    "\\end{cases}$\n",
    "\n",
    "__Решение:__<br>"
   ]
  },
  {
   "cell_type": "markdown",
   "metadata": {},
   "source": [
    "1) Запишем систему в виде матрицы коэффициентов $A$ и расширенной матрицы $\\tilde A$:<br>\n",
    "### $A=\\begin{bmatrix}\n",
    "1 & -2 \\\\ \n",
    "3 & -4\\\\\n",
    "\\end{bmatrix};~~~~\n",
    "\\tilde A = \\begin{bmatrix}\n",
    "\\left.\\begin{matrix}\n",
    "1 & -2 \\\\ \n",
    "3 & -4\\\\\n",
    "\\end{matrix}\n",
    "\\right|\\begin{matrix}\n",
    "1\\\\ \n",
    "7\n",
    "\\end{matrix}\n",
    "\\end{bmatrix}$"
   ]
  },
  {
   "cell_type": "markdown",
   "metadata": {},
   "source": [
    "2) Найдем определитель матрицы коэффициентов:<br>\n",
    "### $det A=\n",
    "\\begin{vmatrix}\n",
    "1 & -2 \\\\\n",
    "3 & -4\n",
    "\\end{vmatrix}=\\Big(1 \\cdot \\left(-4\\right)\\Big)-\\Big(3 \\cdot \\left(-2\\right)\\Big)=-4-\\left(-6\\right)=2\\ne 0$<br>\n",
    "Следовательно система совместна и имеет единственное решение."
   ]
  },
  {
   "cell_type": "markdown",
   "metadata": {},
   "source": [
    "3) Найдем определители $detA_{1}$, $detA_{2}$:<br>\n",
    "### $det A_{1}=\n",
    "\\begin{vmatrix}\n",
    "1 & -2 \\\\\n",
    "7 & -4\n",
    "\\end{vmatrix}=\\Big(1 \\cdot \\left(-4\\right)\\Big)-\\Big(7 \\cdot \\left(-2\\right)\\Big)=-4-\\left(-14\\right)=10$<br>\n",
    "### $det A_{2}=\n",
    "\\begin{vmatrix}\n",
    "1 & 1 \\\\\n",
    "3 & 7\n",
    "\\end{vmatrix}=\\Big(1 \\cdot \\left(7\\right)\\Big)-\\Big(3 \\cdot \\left(1\\right)\\Big)=7-3=4$<br>"
   ]
  },
  {
   "cell_type": "markdown",
   "metadata": {},
   "source": [
    "3) Найдем решение по формулам Крамера:<br>\n",
    "### $x_{1} = \\frac{detA_{1}}{detA} = \\frac{10}{2}=5;$<br>\n",
    "### $x_{2} = \\frac{detA_{2}}{detA} = \\frac{4}{2}=2.$"
   ]
  },
  {
   "cell_type": "code",
   "execution_count": 26,
   "metadata": {},
   "outputs": [
    {
     "name": "stdout",
     "output_type": "stream",
     "text": [
      "A: [[ 1 -2]\n",
      " [ 3 -4]]\n",
      "\n",
      "b: [[1]\n",
      " [7]]\n",
      "\n",
      "x_1 = 4.999999999999998\n",
      "\n",
      "x_2 = 1.9999999999999996\n",
      "\n"
     ]
    }
   ],
   "source": [
    "A = np.array([[1, -2], [3, -4]])\n",
    "b = np.array([1, 7]).reshape(-1, 1)\n",
    "x_1 = np.linalg.det(np.hstack((b, A[:,1].reshape(-1, 1)))) /  np.linalg.det(A)\n",
    "x_2 = np.linalg.det(np.hstack((A[:,0].reshape(-1, 1), b))) /  np.linalg.det(A)\n",
    "\n",
    "print(f'A: {A}\\n')\n",
    "print(f'b: {b}\\n')\n",
    "print(f'x_1 = {x_1}\\n')\n",
    "print(f'x_2 = {x_2}\\n')"
   ]
  },
  {
   "cell_type": "code",
   "execution_count": 25,
   "metadata": {},
   "outputs": [
    {
     "data": {
      "text/plain": [
       "array([[5.],\n",
       "       [2.]])"
      ]
     },
     "execution_count": 25,
     "metadata": {},
     "output_type": "execute_result"
    }
   ],
   "source": [
    "np.linalg.solve(A, b)"
   ]
  },
  {
   "cell_type": "markdown",
   "metadata": {},
   "source": [
    "    \n",
    "### б) $\\begin{cases}\n",
    "2x_{1}-x_{2}+5x_{3}=10 \\\\\n",
    "x_{1}+x_{2}-3x_{3}=-2 \\\\\n",
    "2x_{1}+4x_{2}+x_{3}=1\n",
    "\\end{cases}$\n",
    "\n",
    "__Решение:__<br>"
   ]
  },
  {
   "cell_type": "markdown",
   "metadata": {},
   "source": [
    "1) Запишем систему в виде матрицы коэффициентов $A$ и расширенной матрицы $\\tilde A$:<br>\n",
    "### $A=\\begin{bmatrix}\n",
    "2 & -1 & 5 \\\\ \n",
    "1 & 1 & -3 \\\\ \n",
    "2 & 4 & 1 \\\\\n",
    "\\end{bmatrix};~~~~\n",
    "\\tilde A = \\begin{bmatrix}\n",
    "\\left.\\begin{matrix}\n",
    "2 & -1 & 5 \\\\ \n",
    "1 & 1 & -3 \\\\ \n",
    "2 & 4 & 1 \\\\\n",
    "\\end{matrix}\n",
    "\\right|\\begin{matrix}\n",
    "10 \\\\ \n",
    "-2 \\\\\n",
    "1\n",
    "\\end{matrix}\n",
    "\\end{bmatrix}$"
   ]
  },
  {
   "cell_type": "markdown",
   "metadata": {},
   "source": [
    "2) Найдем определитель матрицы коэффициентов, разложив по 1 строке:<br>\n",
    "### $det A=\n",
    "\\begin{vmatrix}\n",
    "2 & -1 & 5 \\\\ \n",
    "1 & 1 & -3 \\\\ \n",
    "2 & 4 & 1 \\\\\n",
    "\\end{vmatrix}=\n",
    "2\\begin{vmatrix}\n",
    "1 & -3\\\\ \n",
    "4 & 1 \n",
    "\\end{vmatrix}-\n",
    "\\left(-1\\right)\\begin{vmatrix}\n",
    "1 & -3\\\\ \n",
    "2 & 1 \n",
    "\\end{vmatrix}+\n",
    "5\\begin{vmatrix}\n",
    "1 & 1 \\\\ \n",
    "2 & 4\n",
    "\\end{vmatrix}=$\n",
    "### $=2\\cdot \\Big(1 \\cdot 1-\\left(-3\\right)\\cdot 4\\Big)+\\Big(1\\cdot 1-\\left(-3\\right)\\cdot 2\\Big)+5\\cdot \\Big(1\\cdot 4-2\\cdot 1\\Big)=26+7+10=43\\neq 0$\n",
    "Следовательно система совместна и имеет единственное решение."
   ]
  },
  {
   "cell_type": "markdown",
   "metadata": {},
   "source": [
    "3) Найдем определители $detA_{1}$, $detA_{2}$, $detA_{3}$:<br>\n",
    "### $detA_{1}=\n",
    "\\begin{vmatrix}\n",
    "10 & -1 & 5 \\\\ \n",
    "-2 & 1 & -3 \\\\ \n",
    "1 & 4 & 1 \\\\\n",
    "\\end{vmatrix}=\n",
    "10\\begin{vmatrix}\n",
    "1 & -3\\\\ \n",
    "4 & 1 \n",
    "\\end{vmatrix}-\n",
    "\\left(-1\\right)\\begin{vmatrix}\n",
    "-2 & -3\\\\ \n",
    "1 & 1 \n",
    "\\end{vmatrix}+\n",
    "5\\begin{vmatrix}\n",
    "-2 & 1 \\\\ \n",
    "1 & 4\n",
    "\\end{vmatrix}=$\n",
    "### $=10 \\cdot \\Big( 1 \\cdot 1 - \\left( -3 \\right) \\cdot 4 \\Big) + \\Big( \\left( -2 \\right) \\cdot 1 - \\left( -3 \\right) \\cdot 1 \\Big) + 5 \\cdot \\Big( \\left( -2 \\right) \\cdot 4 - 1 \\cdot 1 \\Big) = 130+1-45=86$<br>"
   ]
  },
  {
   "cell_type": "markdown",
   "metadata": {},
   "source": [
    "### $detA_{2}=\n",
    "\\begin{vmatrix}\n",
    "2 & 10 & 5 \\\\ \n",
    "1& -2 & -3 \\\\ \n",
    "2 & 1 & 1 \\\\\n",
    "\\end{vmatrix}=\n",
    "2\\begin{vmatrix}\n",
    "-2 & -3\\\\ \n",
    "1 & 1 \n",
    "\\end{vmatrix}-\n",
    "10\\begin{vmatrix}\n",
    "1 & -3\\\\ \n",
    "2 & 1 \n",
    "\\end{vmatrix}+\n",
    "5\\begin{vmatrix}\n",
    "1 & -2 \\\\ \n",
    "2 & 1\n",
    "\\end{vmatrix}=$\n",
    "### $ = 2 \\cdot \\Big( \\left( -2 \\right) \\cdot 1 - \\left( -3 \\right) \\cdot 1 \\Big) - 10 \\cdot \\Big( 1 \\cdot 1 - \\left( -3 \\right) \\cdot 2 \\Big) + 5 \\cdot \\Big( 1 \\cdot 1 - \\left( -2 \\right) \\cdot 2 \\Big)=2-70+25=-43$<br>"
   ]
  },
  {
   "cell_type": "markdown",
   "metadata": {},
   "source": [
    "### $detA_{3}=\n",
    "\\begin{vmatrix}\n",
    "2 & -1 & 10 \\\\ \n",
    "1 & 1 & -2 \\\\ \n",
    "2 & 4 & 1 \\\\\n",
    "\\end{vmatrix}=\n",
    "2\\begin{vmatrix}\n",
    "1 & -2\\\\ \n",
    "4 & 1 \n",
    "\\end{vmatrix}-\n",
    "\\left(-1\\right)\\begin{vmatrix}\n",
    "1 & -2 \\\\ \n",
    "2 & 1\n",
    "\\end{vmatrix}+\n",
    "10\\begin{vmatrix}\n",
    "1 & 1 \\\\ \n",
    "2 & 4\n",
    "\\end{vmatrix}=$\n",
    "### $=2 \\cdot \\Big( 1 \\cdot 1 - \\left( -2 \\right) \\cdot 4 \\Big) + \\Big( 1 \\cdot 1 - \\left( -2 \\right) \\cdot 2 \\Big) + 10 \\cdot \\Big( 1 \\cdot 4 - 2 \\cdot 1 \\Big) = 18+5+20=43$<br>"
   ]
  },
  {
   "cell_type": "markdown",
   "metadata": {},
   "source": [
    "3) Найдем решение по формулам Крамера:<br>\n",
    "### $x_{1} = \\frac{detA_{1}}{detA} = \\frac{86}{43}=2;$\n",
    "### $x_{2} = \\frac{detA_{2}}{detA} = \\frac{-43}{43}=-1;$\n",
    "### $x_{3} = \\frac{detA_{3}}{detA} = \\frac{43}{43}=1.$"
   ]
  },
  {
   "cell_type": "code",
   "execution_count": 27,
   "metadata": {
    "scrolled": true
   },
   "outputs": [
    {
     "name": "stdout",
     "output_type": "stream",
     "text": [
      "A: [[ 2 -1  5]\n",
      " [ 1  1 -3]\n",
      " [ 2  4  1]]\n",
      "\n",
      "b: [[10]\n",
      " [-2]\n",
      " [ 1]]\n",
      "\n",
      "x_1 = 2.0000000000000018\n",
      "\n",
      "x_2 = -1.0000000000000009\n",
      "\n",
      "x_3 = 1.0\n",
      "\n"
     ]
    }
   ],
   "source": [
    "A = np.array([[2, -1, 5], [1, 1, -3], [2, 4, 1]])\n",
    "b = np.array([10, -2, 1]).reshape(-1, 1)\n",
    "x_1 = np.linalg.det(np.hstack((b, A[:,1:]))) /  np.linalg.det(A)\n",
    "x_1 = np.linalg.det(np.hstack((b, A[:,1:]))) /  np.linalg.det(A)\n",
    "x_2 = np.linalg.det(np.hstack((A[:,:1], b, A[:,-1:]))) /  np.linalg.det(A)\n",
    "x_3 = np.linalg.det(np.hstack((A[:,:2], b))) /  np.linalg.det(A)\n",
    "\n",
    "print(f'A: {A}\\n')\n",
    "print(f'b: {b}\\n')\n",
    "print(f'x_1 = {x_1}\\n')\n",
    "print(f'x_2 = {x_2}\\n')\n",
    "print(f'x_3 = {x_3}\\n')"
   ]
  },
  {
   "cell_type": "code",
   "execution_count": 28,
   "metadata": {},
   "outputs": [
    {
     "data": {
      "text/plain": [
       "array([[ 2.],\n",
       "       [-1.],\n",
       "       [ 1.]])"
      ]
     },
     "execution_count": 28,
     "metadata": {},
     "output_type": "execute_result"
    }
   ],
   "source": [
    "np.linalg.solve(A, b)"
   ]
  },
  {
   "cell_type": "markdown",
   "metadata": {},
   "source": [
    "### $^{*}$2. Найти $L$-матрицу $LU$-разложения для матрицы коэффициентов:\n",
    "\n",
    "### а) $\\begin{pmatrix}\n",
    "1 & 2 & 4 \\\\ \n",
    "2 & 9 & 12 \\\\ \n",
    "3 & 26 & 30\n",
    "\\end{pmatrix}$\n",
    "\n",
    "__Решение:__<br>"
   ]
  },
  {
   "cell_type": "markdown",
   "metadata": {},
   "source": [
    "1) Запишем матрицу $L$:<br>\n",
    "### $L=\\begin{pmatrix}\n",
    "1 & 0 & 0 \\\\ \n",
    "l_{21} & 1 & 0 \\\\ \n",
    "l_{31} & l_{32} & 1\n",
    "\\end{pmatrix}$\n",
    "\n",
    "Для получения коэффициентов $l_{21}$, $l_{31}$, и $l_{32}$ матрицы $L$ проведем прямой метод Гаусса для матрицы коэффициентов."
   ]
  },
  {
   "cell_type": "markdown",
   "metadata": {},
   "source": [
    "2) Умножим 1-ю строку на 2 и вычтем из 2-й строки. Внесём коэффициент $l_{21}$ в матрицу $L$:<br>\n",
    "### $U=\\begin{pmatrix}\n",
    "1 & 2 & 4 \\\\ \n",
    "2-(1 \\cdot 2) & 9-(2 \\cdot 2) & 12-(4 \\cdot 2) \\\\ \n",
    "3 & 26 & 30\n",
    "\\end{pmatrix}=\n",
    "\\begin{pmatrix}\n",
    "1 & 2 & 4 \\\\ \n",
    "0 & 5 & 4 \\\\ \n",
    "3 & 26 & 30\n",
    "\\end{pmatrix}$\n",
    "### $L=\\begin{pmatrix}\n",
    "1 & 0 & 0 \\\\ \n",
    "2 & 1 & 0 \\\\ \n",
    "l_{31} & l_{32} & 1\n",
    "\\end{pmatrix}$"
   ]
  },
  {
   "cell_type": "markdown",
   "metadata": {},
   "source": [
    "3) Умножим 1-ю строку на 3 и вычтем из 3-й строки. Внесём коэффициент $l_{31}$ в матрицу $L$:<br>\n",
    "### $U=\\begin{pmatrix}\n",
    "1 & 2 & 4 \\\\ \n",
    "0 & 5 & 4 \\\\ \n",
    "3-(1 \\cdot 3) & 26-(2 \\cdot 3) & 30-(4 \\cdot 3) \n",
    "\\end{pmatrix}=\n",
    "\\begin{pmatrix}\n",
    "1 & 2 & 4 \\\\ \n",
    "0 & 5 & 4 \\\\ \n",
    "0 & 0 & 18\n",
    "\\end{pmatrix}$\n",
    "### $L=\\begin{pmatrix}\n",
    "1 & 0 & 0 \\\\ \n",
    "2 & 1 & 0 \\\\ \n",
    "3 & l_{32} & 1\n",
    "\\end{pmatrix}$"
   ]
  },
  {
   "cell_type": "markdown",
   "metadata": {},
   "source": [
    "4) Умножим 2-ю строку на 4 и вычтем из 3-й строки. Внесём коэффициент $l_{32}$ в матрицу $L$:<br>\n",
    "### $U=\\begin{pmatrix}\n",
    "1 & 2 & 4 \\\\ \n",
    "0 & 5 & 4 \\\\ \n",
    "0-(0 \\cdot 4) & 20-(5 \\cdot 4) & 18-(4 \\cdot 4) \n",
    "\\end{pmatrix} \\Rightarrow~~~\n",
    "U=\\begin{pmatrix}\n",
    "1 & 2 & 4 \\\\ \n",
    "0 & 5 & 4 \\\\ \n",
    "0 & 0 & 2\n",
    "\\end{pmatrix}$\n",
    "### $L=\\begin{pmatrix}\n",
    "1 & 0 & 0 \\\\ \n",
    "2 & 1 & 0 \\\\ \n",
    "3 & 4 & 1\n",
    "\\end{pmatrix}$"
   ]
  },
  {
   "cell_type": "markdown",
   "metadata": {},
   "source": [
    "    \n",
    "### б) $\\begin{pmatrix}\n",
    "1 & 1 & 2 & 4\\\\ \n",
    "2 & 5 & 8 & 9\\\\ \n",
    "3 & 18 & 29 & 18\\\\\n",
    "4 & 22 & 53 & 33\n",
    "\\end{pmatrix}$\n",
    "\n",
    "__Решение:__<br>"
   ]
  },
  {
   "cell_type": "markdown",
   "metadata": {},
   "source": [
    "1) Запишем матрицу $L$:<br>\n",
    "### $L=\\begin{pmatrix}\n",
    "1 & 0 & 0 & 0\\\\ \n",
    "l_{21} & 1 & 0 & 0\\\\ \n",
    "l_{31} & l_{32} & 1 & 0 \\\\\n",
    "l_{41} & l_{42} & l_{43} & 0\n",
    "\\end{pmatrix}$\n",
    "\n",
    "Для получения коэффициентов $l_{21}$, $l_{31}$, $l_{32}$, $l_{41}$, $l_{42}$ и $l_{43}$ матрицы $L$ проведем прямой метод Гаусса для матрицы коэффициентов."
   ]
  },
  {
   "cell_type": "markdown",
   "metadata": {},
   "source": [
    "2) Умножим 1-ю строку на 2 и вычтем из 2-й строки. Внесём коэффициент $l_{21}$ в матрицу $L$:<br>\n",
    "### $U=\\begin{pmatrix}\n",
    "1 & 1 & 2 & 4\\\\ \n",
    "2-(1 \\cdot 2) & 5-(1 \\cdot 2) & 8-(2 \\cdot 2) & 9-(4 \\cdot 2)\\\\ \n",
    "3 & 18 & 29 & 18\\\\\n",
    "4 & 22 & 53 & 33\n",
    "\\end{pmatrix}=\n",
    "\\begin{pmatrix}\n",
    "1 & 1 & 2 & 4\\\\ \n",
    "0 & 3 & 4 & 1\\\\ \n",
    "3 & 18 & 29 & 18\\\\\n",
    "4 & 22 & 53 & 33\n",
    "\\end{pmatrix}$\n",
    "### $L=\\begin{pmatrix}\n",
    "1 & 0 & 0 & 0\\\\ \n",
    "2 & 1 & 0 & 0\\\\ \n",
    "l_{31} & l_{32} & 1 & 0 \\\\\n",
    "l_{41} & l_{42} & l_{43} & 1\n",
    "\\end{pmatrix}$"
   ]
  },
  {
   "cell_type": "markdown",
   "metadata": {},
   "source": [
    "3) Умножим 1-ю строку на 3 и вычтем из 3-й строки. Внесём коэффициент $l_{31}$ в матрицу $L$:<br>\n",
    "### $U=\\begin{pmatrix}\n",
    "1 & 1 & 2 & 4\\\\ \n",
    "0 & 3 & 4 & 1\\\\ \n",
    "3-(1 \\cdot 3) & 18-(1 \\cdot 3) & 29-(2 \\cdot 3) & 18-(4 \\cdot 3)\\\\\n",
    "4 & 22 & 53 & 33\n",
    "\\end{pmatrix}=\n",
    "\\begin{pmatrix}\n",
    "1 & 1 & 2 & 4\\\\ \n",
    "0 & 3 & 4 & 1\\\\ \n",
    "0 & 15 & 23 & 6\\\\\n",
    "4 & 22 & 53 & 33\n",
    "\\end{pmatrix}$\n",
    "### $L=\\begin{pmatrix}\n",
    "1 & 0 & 0 & 0\\\\ \n",
    "2 & 1 & 0 & 0\\\\ \n",
    "3 & l_{32} & 1 & 0 \\\\\n",
    "l_{41} & l_{42} & l_{43} & 1\n",
    "\\end{pmatrix}$"
   ]
  },
  {
   "cell_type": "markdown",
   "metadata": {},
   "source": [
    "4) Умножим 1-ю строку на 4 и вычтем из 4-й строки. Внесём коэффициент $l_{41}$ в матрицу $L$:<br>\n",
    "### $U=\\begin{pmatrix}\n",
    "1 & 1 & 2 & 4\\\\ \n",
    "0 & 3 & 4 & 1\\\\ \n",
    "0 & 15 & 23 & 6\\\\\n",
    "4-(1 \\cdot 4) & 22-(1 \\cdot 4) & 53-(2 \\cdot 4) & 33-(4 \\cdot 4)\n",
    "\\end{pmatrix}=\n",
    "\\begin{pmatrix}\n",
    "1 & 1 & 2 & 4\\\\ \n",
    "0 & 3 & 4 & 1\\\\ \n",
    "0 & 15 & 23 & 6\\\\\n",
    "0 & 18 & 45 & 17\n",
    "\\end{pmatrix}$\n",
    "### $L=\\begin{pmatrix}\n",
    "1 & 0 & 0 & 0\\\\ \n",
    "2 & 1 & 0 & 0\\\\ \n",
    "3 & l_{32} & 1 & 0 \\\\\n",
    "4 & l_{42} & l_{43} & 1\n",
    "\\end{pmatrix}$"
   ]
  },
  {
   "cell_type": "markdown",
   "metadata": {},
   "source": [
    "5) Умножим 2-ю строку на 5 и вычтем из 3-й строки. Внесём коэффициент $l_{32}$ в матрицу $L$:<br>\n",
    "### $U=\\begin{pmatrix}\n",
    "1 & 1 & 2 & 4\\\\ \n",
    "0 & 3 & 4 & 1\\\\ \n",
    "0-(0 \\cdot 5) & 15-(3 \\cdot 5) & 23-(4 \\cdot 5) & 6-(1 \\cdot 5)\\\\\n",
    "0 & 18 & 45 & 17 \n",
    "\\end{pmatrix}=\n",
    "\\begin{pmatrix}\n",
    "1 & 1 & 2 & 4\\\\ \n",
    "0 & 3 & 4 & 1\\\\ \n",
    "0 & 0 & 3 & 1\\\\\n",
    "0 & 18 & 45 & 17\n",
    "\\end{pmatrix}$\n",
    "### $L=\\begin{pmatrix}\n",
    "1 & 0 & 0 & 0\\\\ \n",
    "2 & 1 & 0 & 0\\\\ \n",
    "3 & 5 & 1 & 0 \\\\\n",
    "4 & l_{42} & l_{43} & 1\n",
    "\\end{pmatrix}$"
   ]
  },
  {
   "cell_type": "markdown",
   "metadata": {},
   "source": [
    "6) Умножим 2-ю строку на 6 и вычтем из 4-й строки. Внесём коэффициент $l_{42}$ в матрицу $L$:<br>\n",
    "### $U=\\begin{pmatrix}\n",
    "1 & 1 & 2 & 4\\\\ \n",
    "0 & 3 & 4 & 1\\\\ \n",
    "0 & 0 & 3 & 1\\\\\n",
    "0-(0 \\cdot 6) & 18-(3 \\cdot 6) & 45-(4 \\cdot 6) & 17-(1 \\cdot 6) \n",
    "\\end{pmatrix}=\n",
    "\\begin{pmatrix}\n",
    "1 & 1 & 2 & 4\\\\ \n",
    "0 & 3 & 4 & 1\\\\ \n",
    "0 & 0 & 3 & 1\\\\\n",
    "0 & 0 & 21 & 11\n",
    "\\end{pmatrix}$\n",
    "### $L=\\begin{pmatrix}\n",
    "1 & 0 & 0 & 0\\\\ \n",
    "2 & 1 & 0 & 0\\\\ \n",
    "3 & 5 & 1 & 0 \\\\\n",
    "4 & 6 & l_{43} & 1\n",
    "\\end{pmatrix}$"
   ]
  },
  {
   "cell_type": "markdown",
   "metadata": {},
   "source": [
    "7) Умножим 3-ю строку на 7 и вычтем из 4-й строки. Внесём коэффициент $l_{43}$ в матрицу $L$:<br>\n",
    "### $U=\\begin{pmatrix}\n",
    "1 & 1 & 2 & 4\\\\ \n",
    "0 & 3 & 4 & 1\\\\ \n",
    "0 & 0 & 3 & 1\\\\\n",
    "0-(0 \\cdot 7) & 0-(0 \\cdot 7) & 21-(3 \\cdot 7) & 11-(1 \\cdot 7) \n",
    "\\end{pmatrix}=\n",
    "\\begin{pmatrix}\n",
    "1 & 1 & 2 & 4\\\\ \n",
    "0 & 3 & 4 & 1\\\\ \n",
    "0 & 0 & 3 & 1\\\\\n",
    "0 & 0 & 0 & 4\n",
    "\\end{pmatrix}$\n",
    "### $L=\\begin{pmatrix}\n",
    "1 & 0 & 0 & 0\\\\ \n",
    "2 & 1 & 0 & 0\\\\ \n",
    "3 & 5 & 1 & 0 \\\\\n",
    "4 & 6 & 7 & 1\n",
    "\\end{pmatrix}$"
   ]
  },
  {
   "cell_type": "markdown",
   "metadata": {},
   "source": [
    "__Ответ:__<br>\n",
    "### __a)__ $L=\\begin{pmatrix}\n",
    "1 & 0 & 0 \\\\ \n",
    "2 & 1 & 0 \\\\ \n",
    "3 & 4 & 1\n",
    "\\end{pmatrix}$\n",
    "### __б)__ $L=\\begin{pmatrix}\n",
    "1 & 0 & 0 & 0\\\\ \n",
    "2 & 1 & 0 & 0\\\\ \n",
    "3 & 5 & 1 & 0 \\\\\n",
    "4 & 6 & 7 & 1\n",
    "\\end{pmatrix}$"
   ]
  },
  {
   "cell_type": "markdown",
   "metadata": {},
   "source": [
    "    \n",
    "### $^{*}$3. Решить систему линейных уравнений методом $LU$-разложения:\n",
    "\n",
    "### $\\begin{cases}\n",
    "2x_{1}+x_{2}+3x_{3}=1 \\\\\n",
    "11x_{1}+7x_{2}+5x_{3}=-6 \\\\\n",
    "9x_{1}+8x_{2}+4x_{3}=-5\n",
    "\\end{cases}$\n",
    "\n",
    "__Решение:__<br>"
   ]
  },
  {
   "cell_type": "markdown",
   "metadata": {},
   "source": [
    "1) Запишем систему уравнений в виде матрицы коэффициентов, свободных членов и матрицы $L$:\n",
    "### $A=\\begin{pmatrix}\n",
    "2 & 1 & 3 \\\\ \n",
    "11 & 7 & 5 \\\\ \n",
    "9 & 8 & 4\n",
    "\\end{pmatrix};~~~~\n",
    "b=\\begin{pmatrix}\n",
    "1 \\\\ \n",
    "-6 \\\\ \n",
    "-5\n",
    "\\end{pmatrix};~~~~\n",
    "L=\\begin{pmatrix}\n",
    "1 & 0 & 0 \\\\ \n",
    "l_{21} & 1 & 0 \\\\ \n",
    "l_{31} & l_{32} & 1\n",
    "\\end{pmatrix}$<br>\n",
    "Для получения коэффициентов $l_{21}$, $l_{31}$, и $l_{32}$ матрицы $L$ проведем прямой метод Гаусса для матрицы коэффициентов."
   ]
  },
  {
   "cell_type": "markdown",
   "metadata": {},
   "source": [
    "2) Умножим 1-ю строку на $\\frac{11}{2}$ и вычтем из 2-й строки. Внесём коэффициент $l_{21}$ в матрицу $L$:<br>\n",
    "### $U=\\begin{pmatrix}\n",
    "2 & 1 & 3 \\\\ \n",
    "11-\\left(\\not2\\cdot\\frac{11}{\\not 2}\\right) & 7-\\left(1\\cdot\\frac{11}{2}\\right) & 5-\\left(3\\cdot\\frac{11}{2}\\right) \\\\ \n",
    "9 & 8 & 4\n",
    "\\end{pmatrix}=\n",
    "\\begin{pmatrix}\n",
    "2 & 1 & 3 \\\\ \n",
    "11-11 & \\frac{14}{2}-\\frac{11}{2} & \\frac{10}{2}-\\frac{33}{2} \\\\ \n",
    "9 & 8 & 4\n",
    "\\end{pmatrix}=\n",
    "\\begin{pmatrix}\n",
    "2 & 1 & 3 \\\\ \n",
    "0 & \\frac{3}{2} & -\\frac{23}{2} \\\\ \n",
    "9 & 8 & 4\n",
    "\\end{pmatrix}$\n",
    "### $L=\\begin{pmatrix}\n",
    "1 & 0 & 0 \\\\ \n",
    "\\frac{11}{2} & 1 & 0 \\\\ \n",
    "l_{31} & l_{32} & 1\n",
    "\\end{pmatrix}$"
   ]
  },
  {
   "cell_type": "markdown",
   "metadata": {},
   "source": [
    "3) Умножим 1-ю строку на $\\frac{9}{2}$ и вычтем из 3-й строки. Внесём коэффициент $l_{31}$ в матрицу $L$:<br>\n",
    "### $U=\\begin{pmatrix}\n",
    "2 & 1 & 3 \\\\ \n",
    "0 & \\frac{3}{2} & -\\frac{23}{2} \\\\ \n",
    "9-\\left(\\not 2 \\cdot \\frac{9}{\\not 2}\\right) & 8-\\left(1 \\cdot \\frac{9}{2}\\right) & 4-\\left(3 \\cdot \\frac{9}{2}\\right)\n",
    "\\end{pmatrix}=\n",
    "\\begin{pmatrix}\n",
    "2 & 1 & 3 \\\\ \n",
    "0 & \\frac{3}{2} & -\\frac{23}{2} \\\\ \n",
    "9-9 & \\frac{16}{2} - \\frac{9}{2} & \\frac{8}{2} - \\frac{27}{2}\n",
    "\\end{pmatrix}=\n",
    "\\begin{pmatrix}\n",
    "2 & 1 & 3 \\\\ \n",
    "0 & \\frac{3}{2} & -\\frac{23}{2} \\\\ \n",
    "0 & \\frac{7}{2} & -\\frac{19}{2}\n",
    "\\end{pmatrix}$\n",
    "### $L=\\begin{pmatrix}\n",
    "1 & 0 & 0 \\\\ \n",
    "\\frac{11}{2} & 1 & 0 \\\\ \n",
    "\\frac{9}{2} & l_{32} & 1\n",
    "\\end{pmatrix}$"
   ]
  },
  {
   "cell_type": "markdown",
   "metadata": {},
   "source": [
    "4) Умножим 2-ю строку на $\\frac{14}{6}$ и вычтем из 3-й строки. Внесём коэффициент $l_{32}$ в матрицу $L$:<br>\n",
    "### $U=\\begin{pmatrix}\n",
    "2 & 1 & 3 \\\\ \n",
    "0 & \\frac{3}{2} & -\\frac{23}{2} \\\\ \n",
    "0-\\left(0\\cdot\\frac{14}{6}\\right) & \\frac{7}{2}-\\left(\\frac{3}{2} \\cdot \\frac{14}{6}\\right) & -\\frac{19}{2}-\\left(-\\frac{23}{2} \\cdot \\frac{14}{6}\\right)\n",
    "\\end{pmatrix}=\n",
    "\\begin{pmatrix}\n",
    "2 & 1 & 3 \\\\ \n",
    "0 & \\frac{3}{2} & -\\frac{23}{2} \\\\ \n",
    "0-0 & \\frac{7}{2}-\\frac{\\not4\\not2~~7}{\\not1\\not2~~2} & -\\frac{57}{6}+\\frac{161}{6}\n",
    "\\end{pmatrix}=\n",
    "\\begin{pmatrix}\n",
    "2 & 1 & 3 \\\\ \n",
    "0 & \\frac{3}{2} & -\\frac{23}{2} \\\\ \n",
    "0 & 0 & \\frac{52}{3}\n",
    "\\end{pmatrix}$\n",
    "### $L=\\begin{pmatrix}\n",
    "1 & 0 & 0 \\\\ \n",
    "\\frac{11}{2} & 1 & 0 \\\\ \n",
    "\\frac{9}{2} & \\frac{14}{6} & 1\n",
    "\\end{pmatrix}$"
   ]
  },
  {
   "cell_type": "markdown",
   "metadata": {},
   "source": [
    "5) Решим систему $Ly=b$:<br>\n",
    "### $\\begin{cases}\n",
    "y_{1}=1 \\\\\n",
    "\\frac{11}{2}y_{1}+y_{2}=-6 \\\\\n",
    "\\frac{9}{2}y_{1}+\\frac{14}{6}y_{2}+y_{3}=-5\n",
    "\\end{cases}$\n",
    "### $y_{2}=-6-\\frac{11}{2}y_{1}=-6-\\left(\\frac{11}{2}\\cdot1\\right)=-\\frac{12}{2}-\\frac{11}{2}=-\\frac{23}{2}$\n",
    "### $y_{3}=-5-\\frac{9}{2}y_{1}-\\frac{14}{6}y_{2}=-5-\\left(\\frac{9}{2}\\cdot1\\right)-\\Big(\\frac{14}{6}\\cdot\\left(-\\frac{23}{2}\\right)\\Big)=-\\frac{10}{2}-\\frac{9}{2}-\\left(-\\frac{161}{6}\\right)=-\\frac{57}{6}+\\frac{161}{6}=\\frac{52}{3}$\n",
    "### $\\begin{cases}\n",
    "y_{1}=1 \\\\\n",
    "y_{2}=-\\frac{23}{2} \\\\\n",
    "y_{3}=\\frac{52}{3}\n",
    "\\end{cases}$"
   ]
  },
  {
   "cell_type": "markdown",
   "metadata": {},
   "source": [
    "6) Решим систему $Ux=y$:<br>\n",
    "### $\\begin{cases}\n",
    "2x_{1}+x_{2}+3x_{3}=1 \\\\\n",
    "\\frac{3}{2}x_{2}-\\frac{23}{2}x_{3}=-\\frac{23}{2} \\\\\n",
    "\\frac{52}{3}x_{3}=\\frac{52}{3}\n",
    "\\end{cases}$\n",
    "### $x_{3}=\\frac{52}{3}\\div\\frac{52}{3}=\\frac{\\not5\\not2}{\\not3}\\times\\frac{\\not3}{\\not5\\not2}=1$\n",
    "### $\\frac{3}{2}x_{2}=-\\frac{23}{2}+\\frac{23}{2}x_{3}=-\\frac{23}{2}+\\left(\\frac{23}{2}\\cdot1\\right)=0~~~~~\\Rightarrow~~~~~x_{2}=0\\div\\frac{3}{2}=0$\n",
    "### $2x_{1}=1-x_{2}-3x_{3}=1-0-\\left(3\\cdot1\\right)=-2~~~~~\\Rightarrow~~~~~x_{1}=-2\\div2=-1$\n",
    "### $\\begin{cases}\n",
    "x_{1}=-1 \\\\\n",
    "x_{2}=0 \\\\\n",
    "x_{3}=1\n",
    "\\end{cases}$"
   ]
  },
  {
   "cell_type": "markdown",
   "metadata": {},
   "source": [
    "7) Произведем проверку, подставив полученные значения переменных в исходную систему:<br>\n",
    "### $\\begin{cases}\n",
    "2\\cdot (-1)+0+3\\cdot 1=-2+3=1 \\\\\n",
    "11\\cdot (-1)+7\\cdot0+5\\cdot 1=-11+5=-6 \\\\\n",
    "9\\cdot (-1)+8\\cdot0+4\\cdot 1=-9+4=-5\n",
    "\\end{cases}$\n",
    "\n",
    "Таким образом, найденное решение верно."
   ]
  },
  {
   "cell_type": "markdown",
   "metadata": {},
   "source": [
    "__Ответ:__<br>\n",
    "### $x_{1}=-1;~~~x_{2}=0;~~~x_{3}=1$."
   ]
  },
  {
   "cell_type": "markdown",
   "metadata": {},
   "source": [
    "### $^{*}$4. Решить систему линейных уравнений методом Холецкого:\n",
    "\n",
    "### $\\begin{cases}\n",
    "81x_{1}-45x_{2}+45x_{3}=531 \\\\\n",
    "-45x_{1}+50x_{2}-15x_{3}=-460 \\\\\n",
    "45x_{1}-15x_{2}+38x_{3}=193\n",
    "\\end{cases}$\n",
    "\n",
    "__Решение:__<br>"
   ]
  },
  {
   "cell_type": "markdown",
   "metadata": {},
   "source": [
    "1) Запишем систему уравнений в виде матрицы коэффициентов, свободных членов и матрицы $L$:\n",
    "### $A=\\begin{pmatrix}\n",
    "81 & -45 & 45 \\\\ \n",
    "-45 & 50 & -15 \\\\ \n",
    "45 & -15 & 38\n",
    "\\end{pmatrix};~~~~\n",
    "b=\\begin{pmatrix}\n",
    "531 \\\\ \n",
    "-460 \\\\ \n",
    "193\n",
    "\\end{pmatrix};~~~~\n",
    "L=\\begin{pmatrix}\n",
    "l_{11} & 0 & 0 \\\\ \n",
    "l_{21} & l_{22} & 0 \\\\ \n",
    "l_{31} & l_{32} & l_{33}\n",
    "\\end{pmatrix}$<br>"
   ]
  },
  {
   "cell_type": "markdown",
   "metadata": {},
   "source": [
    "2) Получим ненулевые элементы матрицы $L$ с помощью формул:\n",
    "### $l_{11}=\\sqrt{a_{11}}=\\sqrt{81}=9$\n",
    "### $l_{21}=\\frac{a_{21}}{l_{11}}=\\frac{-45}{9}=-5$\n",
    "### $l_{31}=\\frac{a_{31}}{l_{11}}=\\frac{45}{9}=5$\n",
    "### $l_{22}=\\sqrt{a_{22}-l_{21}^{2}}=\\sqrt{50 - (-5)^2}=\\sqrt{25}=5$\n",
    "### $l_{32}=\\frac{1}{l_{22}}\\left(a_{32}-l_{21}\\cdot l_{31}\\right)=\\frac{1\\cdot\\big(-15-\\left(-5\\cdot5\\right)\\big)}{5}=\\frac{10}{5}=2$\n",
    "### $l_{33}=\\sqrt{a_{33}-l_{31}^{2}-l_{32}^{2}}=\\sqrt{38-5^2-2^2}=\\sqrt{9}=3$"
   ]
  },
  {
   "cell_type": "markdown",
   "metadata": {},
   "source": [
    "3) Запишем полученные элементы в матрицу $L$ и получим из нее матрицу $L^T$:\n",
    "### $L=\\begin{pmatrix}\n",
    "9 & 0 & 0 \\\\ \n",
    "-5 & 5 & 0 \\\\ \n",
    "5 & 2 & 3\n",
    "\\end{pmatrix};~~~~~~~~\n",
    "L^T=\\begin{pmatrix}\n",
    "9 & -5 & 5 \\\\ \n",
    "0 & 5 & 2 \\\\ \n",
    "0 & 0 & 3\n",
    "\\end{pmatrix}$"
   ]
  },
  {
   "cell_type": "markdown",
   "metadata": {},
   "source": [
    "4) Решим систему $Ly=b~$:\n",
    "### $\\begin{cases}\n",
    "9y_{1}=531 \\\\\n",
    "-5y_{1}+5y_{2}=-460 \\\\\n",
    "5y_{1}+2y_{2}+3y_{3}=193\n",
    "\\end{cases}$\n",
    "### $y_{1}=\\frac{531}{9}=59$\n",
    "### $5y_{2}=-460+5y_{1}=-460+5\\cdot59=-460+295=-165~~~~~\\Rightarrow~~~~~y_{2}=\\frac{-165}{5}=-33$\n",
    "### $3y_{3}=193-5y_{1}-2y_{2}=193-5\\cdot59-2\\cdot(-33)=193-295+66=-36~~~~~\\Rightarrow~~~~~y_{3}=\\frac{-36}{3}=-12$\n",
    "### $\\begin{cases}\n",
    "y_{1}=59 \\\\\n",
    "y_{2}=-33 \\\\\n",
    "y_{3}=-12\n",
    "\\end{cases}$"
   ]
  },
  {
   "cell_type": "markdown",
   "metadata": {},
   "source": [
    "5) Решим систему $L^{T}x=y~$:\n",
    "### $\\begin{cases}\n",
    "9x_1-5x_2+5x_3=59 \\\\\n",
    "5x_2+2x_3=-33 \\\\\n",
    "3x_{3}=-12\n",
    "\\end{cases}$\n",
    "### $x_{3}=-12\\div3=-4$\n",
    "### $5x_{2}=-33-2x_{3}=-33-\\big(2\\cdot(-4)\\big)=-25~~~~~\\Rightarrow~~~~~x_{2}=-25\\div5=-5$\n",
    "### $9x_{1}=59+5x_{2}-5x_{3}=59+\\big(5\\cdot(-5)\\big)-\\big(5\\cdot(-4)\\big)=59-25+20=54~~~~~\\Rightarrow~~~~~x_{1}=54\\div9=6$\n",
    "### $\\begin{cases}\n",
    "x_{1}=6 \\\\\n",
    "x_{2}=-5 \\\\\n",
    "x_{3}=-4\n",
    "\\end{cases}$"
   ]
  },
  {
   "cell_type": "markdown",
   "metadata": {},
   "source": [
    "6) Произведем проверку, подставив полученные значения переменных в исходную систему:<br>\n",
    "### $\\begin{cases}\n",
    "81\\cdot6-45\\cdot(-5)+45\\cdot(-4)=486+225-180=531 \\\\\n",
    "-45\\cdot6+50\\cdot(-5)-15\\cdot(-4)=-270-250+60=-460 \\\\\n",
    "45\\cdot6-15\\cdot(-5)+38\\cdot(-4)=270+75-152=193\n",
    "\\end{cases}$\n",
    "\n",
    "Таким образом, найденное решение верно."
   ]
  },
  {
   "cell_type": "markdown",
   "metadata": {},
   "source": [
    "__Ответ:__<br>\n",
    "### $x_{1}=6;~~~x_{2}=-5;~~~x_{3}=-4$."
   ]
  },
  {
   "cell_type": "markdown",
   "metadata": {},
   "source": [
    "### $^{*}$5. Написать на Python программу с реализацией одного из изученных алгоритмов решения СЛАУ."
   ]
  },
  {
   "cell_type": "code",
   "execution_count": 34,
   "metadata": {},
   "outputs": [
    {
     "name": "stdout",
     "output_type": "stream",
     "text": [
      "[[ 2.  1.  3.]\n",
      " [11.  7.  5.]\n",
      " [ 9.  8.  4.]]\n",
      "[ 1. -6. -5.]\n",
      "\n",
      "[[  2.           1.           3.        ]\n",
      " [  0.           1.5        -11.5       ]\n",
      " [  0.           0.          17.33333333]]\n",
      "[  1.         -11.5         17.33333333]\n",
      "[[  2.           1.           3.        ]\n",
      " [  0.           1.5        -11.5       ]\n",
      " [  0.           0.          17.33333333]]\n",
      "[  1.         -11.5         17.33333333]\n",
      "[-1.  0.  1.]\n",
      "[[ 2.  1.  3.]\n",
      " [11.  7.  5.]\n",
      " [ 9.  8.  4.]]\n",
      "[ 1. -6. -5.]\n",
      "[0. 0. 0.]\n",
      "[-1.00000000e+00  2.44249065e-16  1.00000000e+00]\n"
     ]
    }
   ],
   "source": [
    "A = np.array([[ 2., 1., 3.],\n",
    "              [11., 7., 5.],\n",
    "              [9., 8., 4.]])\n",
    "\n",
    "b = np.array([ 1., -6., -5.])\n",
    "\n",
    "Acpy = np.copy(A)\n",
    "bcpy = np.copy(b)\n",
    "\n",
    "n = len(b)\n",
    "\n",
    "print(A)\n",
    "print(b)\n",
    "print('')\n",
    "\n",
    "for k in range(0, n-1):\n",
    "    for i in range(k+1, n):\n",
    "        ratio = A[i, k]/A[k, k]\n",
    "        for j in range(k, n):\n",
    "            A[i, j] -= ratio*A[k, j]\n",
    "        b[i] -= ratio*b[k]\n",
    "\n",
    "print(A)\n",
    "print(b)\n",
    "\n",
    "x = np.zeros(n)\n",
    "\n",
    "x[n-1] = b[n-1]/A[n-1, n-1]\n",
    "for i in range(n-2, -1, -1):\n",
    "    sum_j = 0\n",
    "    for j in range(i+1, n):\n",
    "        sum_j += A[i, j]*x[j]\n",
    "    x[i] = (b[i] - sum_j)/A[i, i]\n",
    "    \n",
    "print(A)\n",
    "print(b)\n",
    "print(x)\n",
    "\n",
    "print(Acpy)\n",
    "print(bcpy)\n",
    "\n",
    "print(np.dot(Acpy, x) - bcpy)"
   ]
  },
  {
   "cell_type": "code",
   "execution_count": null,
   "metadata": {},
   "outputs": [],
   "source": []
  },
  {
   "cell_type": "markdown",
   "metadata": {
    "id": "KmO619H0ZS5P"
   },
   "source": [
    "## Литература"
   ]
  },
  {
   "cell_type": "markdown",
   "metadata": {
    "id": "some8H9wZS5Q"
   },
   "source": [
    "1. Ильин В. А., Позняк Э. Г. Линейная алгебра: Учеб. для вузов. — 6-е изд. — М.: Физматлит, 2005.\n",
    "\n",
    "2. Фаддеев Д. К., Фаддеева В. Н. Вычислительные методы линейной алгебры. М.: ГИФМЛ, 1960.\n",
    "\n",
    "3. Рябушко А. П., Сборник индивидуальных заданий по высшей математике. Часть 1. Минск: Вышэйшая школа, 1990.\n",
    "\n",
    "4. Форсайт Дж., Молер К. Численное решение систем линейных алгебраических уравнений. М.: Мир, 1969."
   ]
  },
  {
   "cell_type": "markdown",
   "metadata": {},
   "source": [
    "## Дополнительные материалы"
   ]
  },
  {
   "cell_type": "markdown",
   "metadata": {},
   "source": [
    "1. Островский А. М. Решение уравнений и систем уравнений. М.: Издательство иностранной литературы, 1963.\n",
    "2. [Критерий положительной определенности матрицы](http://twt.mpei.ac.ru/math/LARB/Quadrf/LA_06030300.html).\n",
    "3. [Доказательство правила Крамера](http://portal.tpu.ru/SHARED/k/KONVAL/Sites/Russian_sites/2/18.htm)."
   ]
  }
 ],
 "metadata": {
  "colab": {
   "collapsed_sections": [],
   "name": "Lesson_6-REVISED.ipynb",
   "provenance": [],
   "toc_visible": true
  },
  "kernelspec": {
   "display_name": "Python 3 (ipykernel)",
   "language": "python",
   "name": "python3"
  },
  "language_info": {
   "codemirror_mode": {
    "name": "ipython",
    "version": 3
   },
   "file_extension": ".py",
   "mimetype": "text/x-python",
   "name": "python",
   "nbconvert_exporter": "python",
   "pygments_lexer": "ipython3",
   "version": "3.8.10"
  }
 },
 "nbformat": 4,
 "nbformat_minor": 1
}
