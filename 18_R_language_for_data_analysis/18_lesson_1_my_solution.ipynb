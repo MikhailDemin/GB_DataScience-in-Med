{
 "cells": [
  {
   "cell_type": "code",
   "execution_count": 56,
   "id": "6673f198",
   "metadata": {
    "ExecuteTime": {
     "end_time": "2022-12-12T15:43:34.814009Z",
     "start_time": "2022-12-12T15:43:34.714Z"
    }
   },
   "outputs": [],
   "source": [
    "t = rnorm(1000)"
   ]
  },
  {
   "cell_type": "code",
   "execution_count": 57,
   "id": "41004854",
   "metadata": {
    "ExecuteTime": {
     "end_time": "2022-12-12T15:43:35.114417Z",
     "start_time": "2022-12-12T15:43:34.911Z"
    }
   },
   "outputs": [
    {
     "data": {
      "image/png": "[encoded data removed]",
      "text/plain": [
       "Plot with title \"Histogram of t\""
      ]
     },
     "metadata": {
      "image/png": {
       "height": 420,
       "width": 420
      }
     },
     "output_type": "display_data"
    }
   ],
   "source": [
    "hist(t)"
   ]
  },
  {
   "cell_type": "code",
   "execution_count": 58,
   "id": "d43fe997",
   "metadata": {
    "ExecuteTime": {
     "end_time": "2022-12-12T15:43:35.636076Z",
     "start_time": "2022-12-12T15:43:35.036Z"
    }
   },
   "outputs": [],
   "source": [
    "?hist()"
   ]
  },
  {
   "cell_type": "code",
   "execution_count": 59,
   "id": "3ebc7460",
   "metadata": {
    "ExecuteTime": {
     "end_time": "2022-12-12T15:43:35.859549Z",
     "start_time": "2022-12-12T15:43:35.193Z"
    }
   },
   "outputs": [
    {
     "data": {
      "text/html": [
       "'C:/Users/demin/Private/Projects/GIT/GB_DataScience-in-Med/18_R_language_for_data_analysis'"
      ],
      "text/latex": [
       "'C:/Users/demin/Private/Projects/GIT/GB\\_DataScience-in-Med/18\\_R\\_language\\_for\\_data\\_analysis'"
      ],
      "text/markdown": [
       "'C:/Users/demin/Private/Projects/GIT/GB_DataScience-in-Med/18_R_language_for_data_analysis'"
      ],
      "text/plain": [
       "[1] \"C:/Users/demin/Private/Projects/GIT/GB_DataScience-in-Med/18_R_language_for_data_analysis\""
      ]
     },
     "metadata": {},
     "output_type": "display_data"
    }
   ],
   "source": [
    "getwd()"
   ]
  },
  {
   "cell_type": "code",
   "execution_count": 60,
   "id": "b0005b81",
   "metadata": {
    "ExecuteTime": {
     "end_time": "2022-12-12T15:43:36.081716Z",
     "start_time": "2022-12-12T15:43:35.348Z"
    }
   },
   "outputs": [
    {
     "name": "stdout",
     "output_type": "stream",
     "text": [
      "   [1]  0.602222795 -0.307022265 -0.418418103  0.355135530  0.513481115\n",
      "   [6]  0.018607400  1.318448972 -0.065832000 -0.700296078  0.537326132\n",
      "  [11] -2.201782322  0.391973744  0.496960952 -0.224874715 -1.117143165\n",
      "  [16] -0.394994603  1.549830342 -0.743514480 -2.331712118  0.812245442\n",
      "  [21] -0.501310657 -0.510886566 -1.215364041 -0.022558628  0.701239300\n",
      "  [26] -0.587482026 -0.606727941  1.096640215 -0.247509677 -0.159901713\n",
      "  [31] -0.625778251  0.900434636 -0.994193629  0.849250386  0.805702289\n",
      "  [36] -0.467600936  0.848420314  0.986769864  0.575620289  2.024842045\n",
      "  [41] -1.962353191 -1.164920931 -1.376519214  0.167679934  1.584629079\n",
      "  [46]  1.677888953  0.488296698  0.878673263 -0.144874874  0.468971760\n",
      "  [51]  0.376235477 -0.761040275 -0.293294934 -0.134841264  1.393845816\n",
      "  [56] -1.036988690 -2.114335148  0.768278218 -0.816160621 -0.436106923\n",
      "  [61]  0.904705031 -0.763086265 -0.341066980  1.502424534  0.528307712\n",
      "  [66]  0.542191355 -0.136673356 -1.136733853 -1.496627154 -0.223385644\n",
      "  [71]  2.001719228  0.221703816  0.164372909  0.332623609 -0.385207999\n",
      "  [76] -1.398754027  2.675740796 -0.423686089 -0.298601512 -1.792341727\n",
      "  [81] -0.248008225 -0.247303918 -0.255510379 -1.786938100  1.784662816\n",
      "  [86]  1.763586348  0.689600222 -1.100740644  0.714509357 -0.246470317\n",
      "  [91] -0.319786166  1.362644293 -1.227882590 -0.511219233 -0.731194999\n",
      "  [96]  0.019752007 -1.572863915 -0.703333270  0.715932089  0.465214906\n",
      " [101] -0.973902306  0.559217730 -2.432639745 -0.340484927  0.713033195\n",
      " [106] -0.659037386 -0.036402623 -1.593286302  0.847792797 -1.850388849\n",
      " [111] -0.323650632 -0.255248113  0.060921227 -0.823491629  1.829730485\n",
      " [116] -1.429916216  0.254137143 -2.939773695  0.002415809  0.509665571\n",
      " [121] -1.084720001  0.704832977  0.330976350  0.976327473 -0.843339880\n",
      " [126] -0.970579905 -1.771531349 -0.322470342 -1.338800742  0.688156028\n",
      " [131]  0.071280652  2.189752359 -1.157707599  1.181688064 -0.527368362\n",
      " [136] -1.456628011  0.572967370 -1.433377705 -1.055185019 -0.733111877\n",
      " [141]  0.210907264 -0.998920727  1.077850323 -1.198974383  0.216637035\n",
      " [146]  0.143087030 -1.065750091 -0.428623411 -0.656179477  0.959394327\n",
      " [151]  1.556052636 -1.040796434  0.930572409 -0.075445931 -1.967195349\n",
      " [156] -0.755903643  0.461149161  0.145106631 -2.442311321  0.580318685\n",
      " [161]  0.655051998 -0.304508837 -0.707568233  1.971572014 -0.089998681\n",
      " [166] -0.014017252 -1.123456937 -1.344130123 -1.523155771 -0.421968210\n",
      " [171]  1.360924464  1.753794845  1.568364734  1.296755570 -0.237596251\n",
      " [176] -1.224150136 -0.327812680 -2.412450276 -0.313792873  1.659878705\n",
      " [181]  0.130953101  1.095888683  0.489340957 -0.778910295  1.743559353\n",
      " [186] -0.078387285 -0.975553793  0.070659825 -1.518599529  0.863779033\n",
      " [191]  0.501568385 -0.354781330 -0.488428888  0.936293947 -1.062408386\n",
      " [196] -0.983820872  0.424247877 -0.451313481  0.925084797 -0.198620810\n",
      " [201]  1.194851017  0.495544705 -2.245152574 -1.335371360  1.282775206\n",
      " [206]  0.690795904 -0.967062668 -1.345793685  1.033665389 -0.811776460\n",
      " [211]  1.801725479  1.771541960 -1.454691370 -0.845654313 -1.250479659\n",
      " [216]  0.667288068 -1.290769688 -2.035003538  2.021346994  1.005973488\n",
      " [221]  0.817123601 -0.663988284 -0.011281231  0.619677256 -1.281238742\n",
      " [226] -0.124261326  0.175741655  1.692773794  0.642132717  1.282233032\n",
      " [231]  0.140546974 -1.112502683 -0.339676972 -1.664764639  0.928851762\n",
      " [236]  1.416826835 -0.062720778 -0.980902336  1.087150251  0.139327027\n",
      " [241] -0.386272098  1.123585423 -0.759845657  1.148959103 -0.842476259\n",
      " [246]  0.391413340  0.891377242 -1.335258713  0.398123478 -0.111586803\n",
      " [251]  0.675743917 -0.788597935 -0.086986334  1.382284008  0.168490164\n",
      " [256]  0.823190948 -0.220894598 -1.029391655 -0.010925691 -1.224991155\n",
      " [261] -2.596111388  1.169122592 -1.086908817 -1.826083013  0.995281807\n",
      " [266] -0.011861781 -0.599628395 -0.177947987 -0.425981342  0.996658776\n",
      " [271]  0.727660709 -1.726630596  0.353398496  0.726813666  0.668260976\n",
      " [276] -2.424317309 -0.235357425  1.979633321  0.796794539 -1.709276181\n",
      " [281] -1.663668712  0.491109552 -0.174055486  0.961290564  0.293826662\n",
      " [286]  0.080999364  0.183661843  0.166255035 -1.269599066  2.349493321\n",
      " [291] -1.412005407 -0.016961493 -0.544319353  1.800112333  1.011440176\n",
      " [296] -0.563716556  0.205420795  1.165461950  2.236322840  0.302265076\n",
      " [301] -1.042506602 -0.983542313  2.005718580 -2.070571484  3.055742369\n",
      " [306] -0.261350594 -0.454393259  0.157560555  0.933388728  0.302828276\n",
      " [311] -1.956150222  0.353536709  0.450424514  0.659550871 -1.031420728\n",
      " [316] -2.371022881 -0.324576308 -0.944298751 -0.765889998 -0.953779267\n",
      " [321] -0.398004450 -0.311217063  0.796092713  0.986428344 -0.794531662\n",
      " [326] -0.308817972  0.361444766  1.398791105 -0.056070420 -1.698873492\n",
      " [331]  0.231852545 -0.119090671  1.772492853  0.343422165 -0.623049782\n",
      " [336] -0.439522294 -0.505296790  0.186035137  0.176417798  0.915848207\n",
      " [341]  0.320176726 -0.366687297 -0.940611295  0.634702931 -0.062488482\n",
      " [346]  0.182837868  1.103641018  1.752035619 -0.953816460  1.644080457\n",
      " [351] -0.866733529  0.266352192  0.222370495 -0.276908510  1.394253041\n",
      " [356] -0.658912000  0.660531281 -0.013255700 -0.931480299  1.214689143\n",
      " [361] -2.088340366 -0.526152469 -1.541402567  0.194321070  0.264422549\n",
      " [366] -1.118735169  0.650952956 -1.032900239  0.659201499  0.237829400\n",
      " [371]  0.715275947 -0.938483039  0.095354010 -0.462819420 -1.468882156\n",
      " [376]  0.152686506  1.773762611 -0.648070934 -0.199817476  0.689243733\n",
      " [381]  0.036145510  1.943536312  0.737213734  2.321333933  0.348909346\n",
      " [386] -1.133916661  0.421335268 -0.924556257 -1.007062366 -0.189474330\n",
      " [391]  0.933916700  0.343910000  0.814020276  0.915341002 -0.171852130\n",
      " [396] -2.402231114  0.795906852  2.169115869  0.058383499 -1.354914450\n",
      " [401] -0.367550766 -0.934517579 -0.041639220  0.676112006  0.866436147\n",
      " [406]  0.235175025 -0.933970133  0.813252167  1.348318555  2.251882776\n",
      " [411] -0.493652434  0.474092599  1.193691666 -0.116395472  0.524858556\n",
      " [416]  0.214421481 -0.134449535  0.168509103  0.964732770  0.408778914\n",
      " [421] -0.466438215 -2.239782976 -0.795063185 -0.019955117 -2.514425122\n",
      " [426]  2.210952032 -1.488762230 -1.160751876  1.457738225 -2.189875949\n",
      " [431]  0.739062681 -0.344008769  0.455876742  0.878110263 -0.958463923\n",
      " [436] -0.705844846 -2.996949303 -0.961052324  0.380188254  0.505067590\n",
      " [441]  2.027056004  0.064627029  0.463658648  0.074778333 -0.486836236\n",
      " [446]  0.748910821  0.464234581  0.129420458 -0.815460652 -0.040150452\n",
      " [451]  0.781416978  0.676452747 -0.482652526 -0.669113468  0.512801322\n",
      " [456]  1.048909929  0.121058163 -0.313292885 -0.880670730 -0.419286891\n",
      " [461] -1.482751678 -0.697318199  1.134965089  1.111931845 -0.870777634\n",
      " [466]  0.210731585  0.069395647 -1.662648853  0.810839980 -1.912345796\n",
      " [471] -1.246753429  0.998154445 -0.540872745 -0.216375791 -1.621937293\n",
      " [476] -1.450963965  0.350909731 -0.174546929 -0.591428470 -1.334027261\n",
      " [481] -1.097298501  2.036103609 -0.326489593  0.774005212  0.785006401\n",
      " [486]  0.763246080  0.294808760 -1.252355924 -1.009503753  0.751391195\n",
      " [491] -1.308353513  0.527540097 -0.533539574 -0.398376014 -0.789569450\n",
      " [496] -0.230141136  0.877184842  0.453733178 -0.232464148  0.870005525\n",
      " [501]  1.656003734 -0.006368929  0.470489453  0.278218649 -0.977902941\n",
      " [506] -0.926586142  1.919770463  0.881277788  0.742081772  0.147573404\n",
      " [511]  0.485388565  0.151856040  0.041998754  0.223422312 -1.010465086\n",
      " [516]  2.401222102  0.801961790 -0.251207959  1.212889371 -0.627258086\n",
      " [521]  1.711158507 -0.394373553 -2.321490856  1.364119195  1.132229133\n",
      " [526] -0.774316319 -1.410374966 -1.834527581 -0.269013538 -1.833928577\n",
      " [531] -0.814468019  0.163572122  0.855519222 -0.819963127 -0.123602760\n",
      " [536]  0.254948236  1.718926338 -0.958543528 -1.604310262 -1.845609422\n",
      " [541]  0.555737185 -0.060119191  0.772086304 -0.140839387  0.393093926\n",
      " [546]  0.224218574  0.023541985 -0.622962660  1.262009381 -0.405774043\n",
      " [551]  0.666763771  0.164639155  1.781524475  0.711213964 -0.337691156\n",
      " [556] -0.009148952 -0.125309208 -2.090846097  1.697393895  1.063881154\n",
      " [561] -0.766616636  0.382007559  0.241895904 -1.132759411  1.489907414\n",
      " [566] -0.248247105  0.183583708  0.404871009 -0.994124469 -1.085429330\n",
      " [571] -0.048542555  0.576085601  0.073830532  0.705945571  0.334980103\n",
      " [576]  0.545387806 -1.402905906  0.677053891 -0.789800446 -0.465728889\n",
      " [581] -0.104852065 -1.647851087 -0.099536952 -0.439857637 -0.718511452\n",
      " [586] -0.554597596  1.245489177 -1.258921351 -0.215384481 -2.471961710\n",
      " [591] -0.674169320 -0.501297185  1.542325788 -0.962018065 -0.872179536\n",
      " [596] -1.397629618  0.179805167  1.154091988 -1.198533610 -0.425724401\n",
      " [601]  1.366308609 -0.684297395  0.685512208  0.389503543 -1.305395924\n",
      " [606]  1.216888011  0.795174018 -0.488202509 -0.903993455 -0.390418418\n",
      " [611]  0.814063415 -0.564249280 -1.874205319 -0.142904711  0.771904010\n",
      " [616] -1.159117930 -0.237915528 -1.222193326  0.116806213 -0.132499628\n",
      " [621] -0.033684776 -0.622326418 -0.709363462  0.871445414  0.105138019\n",
      " [626] -0.186935268 -3.213188532 -1.275618703  0.762906318 -0.406815143\n",
      " [631] -1.208317784 -0.439322657 -0.375580746 -0.501442395  0.496612576\n",
      " [636]  1.520880938  0.988091828  1.246122534 -0.329867327  0.844344714\n",
      " [641] -0.981075755 -0.139221405  2.185437906 -0.012828010 -0.305308926\n",
      " [646] -0.584213461  0.771268502  2.106189362  0.412157037 -0.261264878\n",
      " [651]  2.073783646 -0.778830223  1.131532513 -0.421345128 -1.021747370\n",
      " [656]  1.218305379 -1.799760675 -0.308249938  0.015515243 -0.442317719\n",
      " [661] -1.638007733 -0.641401156 -1.557035744  1.923163653 -1.856829628\n",
      " [666] -2.106118436  0.697648527  0.907444408 -0.195988199 -0.206820488\n",
      " [671]  0.725043170  1.398718955 -1.590555149  1.304497077  0.196011734\n",
      " [676] -0.339343445  1.265144140  0.939773685  1.277952486 -0.291160144\n",
      " [681]  0.776172450  0.295725633 -0.517199555  1.757233024  0.161726819\n",
      " [686] -0.054684376  0.528971601  0.389734521 -0.705771415 -0.053178475\n",
      " [691]  2.606444489 -0.072593105 -0.296271891  0.734330336  0.401480746\n",
      " [696] -0.538301076 -1.082722811  0.847801408  0.118845015  0.482247223\n",
      " [701] -0.291324805 -1.652110271  0.069094598  2.390576700 -1.461771686\n",
      " [706] -0.984806293 -1.336053745 -0.365131612  1.381454248 -0.153317256\n",
      " [711] -0.255571634 -1.288627104  0.065266417  1.035326421  2.260215792\n",
      " [716]  1.314696275 -0.870023346 -0.503130035  0.607455555 -0.010041416\n",
      " [721]  0.275330300 -1.312298783 -0.426529867 -0.926404248 -0.928557925\n",
      " [726] -0.718900602 -0.414790570 -0.005667893  0.633448919 -0.509180774\n",
      " [731] -0.857008619  1.616167577  0.993866407  0.696845859  1.699970673\n",
      " [736] -0.977741945  2.048817582  1.226449324  0.307023012  0.624332984\n",
      " [741]  0.061341442 -0.110825791 -1.576233560  0.742589846  2.142323398\n",
      " [746]  2.089772957  0.169794327 -0.107877789  0.181994495  1.145928178\n",
      " [751]  1.477298823  0.407944153  1.114278735 -0.027075844  0.497722203\n",
      " [756]  1.185640014  3.639573627 -0.054002596 -0.668147317  0.445807957\n",
      " [761] -0.405825246  0.635283145  0.341248399  1.316167163 -0.959776484\n",
      " [766] -1.205575211  1.567573058  0.225285800 -0.922410657 -1.073772410\n",
      " [771] -0.552358286  0.590461401 -0.527275411  1.341846164  0.243844628\n",
      " [776]  0.195880789 -0.015519729 -0.297577328 -0.167679147  1.156478580\n",
      " [781] -1.338764009  1.086768775 -0.350684197  0.734723245 -0.058414484\n",
      " [786] -1.345812904  0.346905269 -0.638404647  1.124392355 -0.827733031\n",
      " [791] -1.787780138 -0.854010003 -0.572022722 -0.825930679 -0.237584094\n",
      " [796] -0.595326496 -0.410742195  0.327991438 -1.163646612  0.760177665\n",
      " [801] -0.002555836 -0.038227771 -2.036237420 -0.301229079 -0.555646104\n",
      " [806]  0.847295416  1.390820511  1.231246215 -1.113337462 -0.796053893\n",
      " [811] -0.089519877 -1.059656888 -1.604312194  0.791350666  0.068156528\n",
      " [816]  0.614396000 -1.203067753 -0.340454835 -1.171248634 -0.829414768\n",
      " [821]  0.229212042 -0.814992918 -0.993445515 -1.306168459 -1.434221772\n",
      " [826] -0.862847933  1.703799204 -0.655632596 -1.113168626 -1.405505446\n",
      " [831] -0.150643687 -0.394006912  0.252069320 -0.282706438  0.867667613\n",
      " [836]  0.720091121  1.056069601  0.243502060  1.114362662 -0.076552714\n",
      " [841]  0.932925054 -0.157981739 -0.681509515 -1.220101091 -0.708912992\n",
      " [846] -0.748679598  0.576077526 -0.052099464 -0.630337174 -0.898336066\n",
      " [851]  1.512685876 -0.236749293 -1.248803422 -0.430009336  0.093299436\n",
      " [856]  0.833041089 -0.084932478  0.111853039 -1.039435943  0.796422814\n",
      " [861]  0.099903376  0.736959753  1.546881334  0.178920972 -0.282546592\n",
      " [866] -0.767298779 -0.576404240 -0.914855840  0.369910961 -1.467684363\n",
      " [871] -1.745361978 -0.667381804  1.084279006  0.122831641 -0.494249395\n",
      " [876]  0.669588184 -0.351478853 -0.114980401  0.072986942  1.088774613\n",
      " [881]  1.292568738  1.282511294  0.979056118  0.329469783  1.879635718\n",
      " [886]  2.042899031  1.328576373 -0.219668644 -1.040047432  0.192949783\n",
      " [891] -0.555236252  0.274990890 -0.550513405  0.921259893  2.189455992\n",
      " [896]  0.963994790  0.741818476  0.037356565  2.180833686 -0.079585204\n",
      " [901]  1.376295029  1.575316677  0.160376978 -3.253220073 -0.329930487\n",
      " [906]  0.457089826 -1.304103757 -1.291173439  0.906379732 -2.795961495\n",
      " [911]  0.233560571 -0.269035939 -0.658545055  0.063345793  0.054476839\n",
      " [916]  0.247009323  0.124035548 -0.535256700  0.258482591  1.387708868\n",
      " [921]  0.667170446  1.497049452 -0.274880403  0.583075843  0.503358526\n",
      " [926] -0.743247682 -0.816877585  1.870283681 -0.827253044  0.950712694\n",
      " [931] -0.266172351 -1.099082182 -1.534217543 -1.206309860 -1.950025273\n",
      " [936] -0.884040030  0.973405985 -0.580971316  1.736767382 -0.172675318\n",
      " [941] -0.937992532 -0.284593660 -0.589018102 -0.443931426  0.059996573\n",
      " [946]  0.082232949  0.758397524  0.539662991  0.776647647  0.132171665\n",
      " [951] -0.806865300  0.449350086  0.412641457 -0.403614049 -0.388088277\n",
      " [956]  1.095187748  1.340480043  0.114405547 -0.392264620  1.652357843\n",
      " [961] -1.243697609 -0.911925871  0.850043472 -0.925312995  0.893581214\n",
      " [966] -0.941009738  0.538952094 -0.181974398  0.891767595  1.329208205\n",
      " [971] -0.103466125  0.615064611 -1.799772395 -0.262705142 -1.210141877\n",
      " [976]  0.204477253 -0.013994105 -0.235200840 -0.188318654  0.951283069\n",
      " [981] -0.154014786  1.854244505 -1.904167354  0.359299702  2.114534946\n",
      " [986] -1.135748987 -0.796255986 -0.397569450  0.091724042 -0.238694074\n",
      " [991] -0.461962364  1.926340607  0.122054815  1.092050577 -2.972257475\n",
      " [996]  1.128489051  1.312000129 -0.482607973 -0.224858997  1.667765311\n"
     ]
    }
   ],
   "source": [
    "print(t)"
   ]
  },
  {
   "cell_type": "code",
   "execution_count": 61,
   "id": "e6c0d299",
   "metadata": {
    "ExecuteTime": {
     "end_time": "2022-12-12T15:43:36.266954Z",
     "start_time": "2022-12-12T15:43:35.496Z"
    }
   },
   "outputs": [],
   "source": [
    "t<-10"
   ]
  },
  {
   "cell_type": "code",
   "execution_count": 62,
   "id": "e5e76c18",
   "metadata": {
    "ExecuteTime": {
     "end_time": "2022-12-12T15:43:36.440793Z",
     "start_time": "2022-12-12T15:43:35.681Z"
    }
   },
   "outputs": [
    {
     "name": "stdout",
     "output_type": "stream",
     "text": [
      "[1] 10\n"
     ]
    }
   ],
   "source": [
    "print(t)"
   ]
  },
  {
   "cell_type": "code",
   "execution_count": 63,
   "id": "6aeed412",
   "metadata": {
    "ExecuteTime": {
     "end_time": "2022-12-12T15:43:36.624710Z",
     "start_time": "2022-12-12T15:43:35.811Z"
    }
   },
   "outputs": [
    {
     "name": "stdout",
     "output_type": "stream",
     "text": [
      "[1] 2\n"
     ]
    }
   ],
   "source": [
    "print(sqrt(log2(16)))"
   ]
  },
  {
   "cell_type": "code",
   "execution_count": 64,
   "id": "aa6d847f",
   "metadata": {
    "ExecuteTime": {
     "end_time": "2022-12-12T15:43:36.806390Z",
     "start_time": "2022-12-12T15:43:35.959Z"
    }
   },
   "outputs": [],
   "source": [
    "a = 0"
   ]
  },
  {
   "cell_type": "code",
   "execution_count": 65,
   "id": "190ce300",
   "metadata": {
    "ExecuteTime": {
     "end_time": "2022-12-12T15:43:36.998114Z",
     "start_time": "2022-12-12T15:43:36.115Z"
    },
    "scrolled": true
   },
   "outputs": [
    {
     "name": "stdout",
     "output_type": "stream",
     "text": [
      "[1] 1 2 3 4\n"
     ]
    }
   ],
   "source": [
    "a<-c(1,2,3,4)\n",
    "print(a)"
   ]
  },
  {
   "cell_type": "code",
   "execution_count": 66,
   "id": "3239c857",
   "metadata": {
    "ExecuteTime": {
     "end_time": "2022-12-12T15:43:37.230254Z",
     "start_time": "2022-12-12T15:43:36.258Z"
    }
   },
   "outputs": [
    {
     "name": "stdout",
     "output_type": "stream",
     "text": [
      "[1] 2\n"
     ]
    }
   ],
   "source": [
    "print(a[2])"
   ]
  },
  {
   "cell_type": "code",
   "execution_count": 67,
   "id": "799bb28d",
   "metadata": {
    "ExecuteTime": {
     "end_time": "2022-12-12T15:43:37.476663Z",
     "start_time": "2022-12-12T15:43:36.418Z"
    }
   },
   "outputs": [
    {
     "name": "stdout",
     "output_type": "stream",
     "text": [
      "[1] 2 2 2\n"
     ]
    }
   ],
   "source": [
    "b = rep(2, time=3)\n",
    "print(b)"
   ]
  },
  {
   "cell_type": "code",
   "execution_count": 68,
   "id": "4bef4af7",
   "metadata": {
    "ExecuteTime": {
     "end_time": "2022-12-12T15:43:37.705811Z",
     "start_time": "2022-12-12T15:43:36.574Z"
    }
   },
   "outputs": [
    {
     "name": "stdout",
     "output_type": "stream",
     "text": [
      "[1] 3 3 3 3\n"
     ]
    }
   ],
   "source": [
    "b.1 = rep(3,4)\n",
    "print(b.1)"
   ]
  },
  {
   "cell_type": "code",
   "execution_count": 69,
   "id": "4eba9f4e",
   "metadata": {
    "ExecuteTime": {
     "end_time": "2022-12-12T15:43:37.928035Z",
     "start_time": "2022-12-12T15:43:36.720Z"
    }
   },
   "outputs": [
    {
     "name": "stderr",
     "output_type": "stream",
     "text": [
      "Warning message in a + b:\n",
      "\"длина большего объекта не является произведением длины меньшего объекта\"\n"
     ]
    },
    {
     "name": "stdout",
     "output_type": "stream",
     "text": [
      "[1] 3 4 5 6\n"
     ]
    }
   ],
   "source": [
    "print(a + b)"
   ]
  },
  {
   "cell_type": "code",
   "execution_count": 70,
   "id": "f5e39170",
   "metadata": {
    "ExecuteTime": {
     "end_time": "2022-12-12T15:43:38.138917Z",
     "start_time": "2022-12-12T15:43:36.871Z"
    }
   },
   "outputs": [
    {
     "name": "stdout",
     "output_type": "stream",
     "text": [
      "[1] 4 5 6 7\n"
     ]
    }
   ],
   "source": [
    "print(a + b.1)"
   ]
  },
  {
   "cell_type": "code",
   "execution_count": 71,
   "id": "dad7e861",
   "metadata": {
    "ExecuteTime": {
     "end_time": "2022-12-12T15:43:38.360939Z",
     "start_time": "2022-12-12T15:43:37.039Z"
    }
   },
   "outputs": [
    {
     "data": {
      "text/html": [
       "<style>\n",
       ".list-inline {list-style: none; margin:0; padding: 0}\n",
       ".list-inline>li {display: inline-block}\n",
       ".list-inline>li:not(:last-child)::after {content: \"\\00b7\"; padding: 0 .5ex}\n",
       "</style>\n",
       "<ol class=list-inline><li>10</li><li>9</li><li>8</li><li>7</li><li>6</li><li>5</li><li>4</li><li>3</li></ol>\n"
      ],
      "text/latex": [
       "\\begin{enumerate*}\n",
       "\\item 10\n",
       "\\item 9\n",
       "\\item 8\n",
       "\\item 7\n",
       "\\item 6\n",
       "\\item 5\n",
       "\\item 4\n",
       "\\item 3\n",
       "\\end{enumerate*}\n"
      ],
      "text/markdown": [
       "1. 10\n",
       "2. 9\n",
       "3. 8\n",
       "4. 7\n",
       "5. 6\n",
       "6. 5\n",
       "7. 4\n",
       "8. 3\n",
       "\n",
       "\n"
      ],
      "text/plain": [
       "[1] 10  9  8  7  6  5  4  3"
      ]
     },
     "metadata": {},
     "output_type": "display_data"
    }
   ],
   "source": [
    "10:3"
   ]
  },
  {
   "cell_type": "code",
   "execution_count": 72,
   "id": "63d48901",
   "metadata": {
    "ExecuteTime": {
     "end_time": "2022-12-12T15:43:38.582992Z",
     "start_time": "2022-12-12T15:43:37.200Z"
    }
   },
   "outputs": [
    {
     "data": {
      "text/html": [
       "<style>\n",
       ".list-inline {list-style: none; margin:0; padding: 0}\n",
       ".list-inline>li {display: inline-block}\n",
       ".list-inline>li:not(:last-child)::after {content: \"\\00b7\"; padding: 0 .5ex}\n",
       "</style>\n",
       "<ol class=list-inline><li>2</li><li>4</li><li>6</li><li>8</li></ol>\n"
      ],
      "text/latex": [
       "\\begin{enumerate*}\n",
       "\\item 2\n",
       "\\item 4\n",
       "\\item 6\n",
       "\\item 8\n",
       "\\end{enumerate*}\n"
      ],
      "text/markdown": [
       "1. 2\n",
       "2. 4\n",
       "3. 6\n",
       "4. 8\n",
       "\n",
       "\n"
      ],
      "text/plain": [
       "[1] 2 4 6 8"
      ]
     },
     "metadata": {},
     "output_type": "display_data"
    }
   ],
   "source": [
    "seq(2,8,by=2)"
   ]
  },
  {
   "cell_type": "code",
   "execution_count": 73,
   "id": "1bd4a93a",
   "metadata": {
    "ExecuteTime": {
     "end_time": "2022-12-12T15:43:38.780577Z",
     "start_time": "2022-12-12T15:43:37.358Z"
    }
   },
   "outputs": [
    {
     "data": {
      "text/html": [
       "<style>\n",
       ".list-inline {list-style: none; margin:0; padding: 0}\n",
       ".list-inline>li {display: inline-block}\n",
       ".list-inline>li:not(:last-child)::after {content: \"\\00b7\"; padding: 0 .5ex}\n",
       "</style>\n",
       "<ol class=list-inline><li>1</li><li>3</li><li>5</li><li>7</li><li>9</li></ol>\n"
      ],
      "text/latex": [
       "\\begin{enumerate*}\n",
       "\\item 1\n",
       "\\item 3\n",
       "\\item 5\n",
       "\\item 7\n",
       "\\item 9\n",
       "\\end{enumerate*}\n"
      ],
      "text/markdown": [
       "1. 1\n",
       "2. 3\n",
       "3. 5\n",
       "4. 7\n",
       "5. 9\n",
       "\n",
       "\n"
      ],
      "text/plain": [
       "[1] 1 3 5 7 9"
      ]
     },
     "metadata": {},
     "output_type": "display_data"
    }
   ],
   "source": [
    "seq(1,9,2)"
   ]
  },
  {
   "cell_type": "code",
   "execution_count": 74,
   "id": "2a1ad837",
   "metadata": {
    "ExecuteTime": {
     "end_time": "2022-12-12T15:43:39.022115Z",
     "start_time": "2022-12-12T15:43:37.524Z"
    }
   },
   "outputs": [
    {
     "data": {
      "text/html": [
       "<style>\n",
       ".list-inline {list-style: none; margin:0; padding: 0}\n",
       ".list-inline>li {display: inline-block}\n",
       ".list-inline>li:not(:last-child)::after {content: \"\\00b7\"; padding: 0 .5ex}\n",
       "</style>\n",
       "<ol class=list-inline><li>1</li><li>3.25</li><li>5.5</li><li>7.75</li><li>10</li></ol>\n"
      ],
      "text/latex": [
       "\\begin{enumerate*}\n",
       "\\item 1\n",
       "\\item 3.25\n",
       "\\item 5.5\n",
       "\\item 7.75\n",
       "\\item 10\n",
       "\\end{enumerate*}\n"
      ],
      "text/markdown": [
       "1. 1\n",
       "2. 3.25\n",
       "3. 5.5\n",
       "4. 7.75\n",
       "5. 10\n",
       "\n",
       "\n"
      ],
      "text/plain": [
       "[1]  1.00  3.25  5.50  7.75 10.00"
      ]
     },
     "metadata": {},
     "output_type": "display_data"
    }
   ],
   "source": [
    "seq(1,10,length.out = 5)"
   ]
  },
  {
   "cell_type": "code",
   "execution_count": 75,
   "id": "d25a8818",
   "metadata": {
    "ExecuteTime": {
     "end_time": "2022-12-12T15:43:39.259118Z",
     "start_time": "2022-12-12T15:43:37.685Z"
    }
   },
   "outputs": [
    {
     "data": {
      "text/html": [
       "2.25"
      ],
      "text/latex": [
       "2.25"
      ],
      "text/markdown": [
       "2.25"
      ],
      "text/plain": [
       "[1] 2.25"
      ]
     },
     "metadata": {},
     "output_type": "display_data"
    }
   ],
   "source": [
    "(10-1)/4"
   ]
  },
  {
   "cell_type": "code",
   "execution_count": 76,
   "id": "d23b897b",
   "metadata": {
    "ExecuteTime": {
     "end_time": "2022-12-12T15:43:39.508311Z",
     "start_time": "2022-12-12T15:43:37.850Z"
    }
   },
   "outputs": [
    {
     "data": {
      "text/html": [
       "<style>\n",
       ".list-inline {list-style: none; margin:0; padding: 0}\n",
       ".list-inline>li {display: inline-block}\n",
       ".list-inline>li:not(:last-child)::after {content: \"\\00b7\"; padding: 0 .5ex}\n",
       "</style>\n",
       "<ol class=list-inline><li>1</li><li>2</li><li>3</li><li>4</li><li>5</li><li>6</li><li>7</li><li>8</li><li>9</li><li>10</li></ol>\n"
      ],
      "text/latex": [
       "\\begin{enumerate*}\n",
       "\\item 1\n",
       "\\item 2\n",
       "\\item 3\n",
       "\\item 4\n",
       "\\item 5\n",
       "\\item 6\n",
       "\\item 7\n",
       "\\item 8\n",
       "\\item 9\n",
       "\\item 10\n",
       "\\end{enumerate*}\n"
      ],
      "text/markdown": [
       "1. 1\n",
       "2. 2\n",
       "3. 3\n",
       "4. 4\n",
       "5. 5\n",
       "6. 6\n",
       "7. 7\n",
       "8. 8\n",
       "9. 9\n",
       "10. 10\n",
       "\n",
       "\n"
      ],
      "text/plain": [
       " [1]  1  2  3  4  5  6  7  8  9 10"
      ]
     },
     "metadata": {},
     "output_type": "display_data"
    }
   ],
   "source": [
    "s<-1:10\n",
    "s"
   ]
  },
  {
   "cell_type": "code",
   "execution_count": 77,
   "id": "f14c4c17",
   "metadata": {
    "ExecuteTime": {
     "end_time": "2022-12-12T15:43:39.718045Z",
     "start_time": "2022-12-12T15:43:38.003Z"
    }
   },
   "outputs": [
    {
     "data": {
      "text/html": [
       "<style>\n",
       ".list-inline {list-style: none; margin:0; padding: 0}\n",
       ".list-inline>li {display: inline-block}\n",
       ".list-inline>li:not(:last-child)::after {content: \"\\00b7\"; padding: 0 .5ex}\n",
       "</style>\n",
       "<ol class=list-inline><li>'a'</li><li>'b'</li><li>'c'</li><li>'d'</li><li>'e'</li><li>'f'</li><li>'g'</li><li>'h'</li><li>'i'</li><li>'j'</li><li>'k'</li><li>'l'</li><li>'m'</li><li>'n'</li><li>'o'</li><li>'p'</li><li>'q'</li><li>'r'</li><li>'s'</li><li>'t'</li><li>'u'</li><li>'v'</li><li>'w'</li><li>'x'</li><li>'y'</li><li>'z'</li></ol>\n"
      ],
      "text/latex": [
       "\\begin{enumerate*}\n",
       "\\item 'a'\n",
       "\\item 'b'\n",
       "\\item 'c'\n",
       "\\item 'd'\n",
       "\\item 'e'\n",
       "\\item 'f'\n",
       "\\item 'g'\n",
       "\\item 'h'\n",
       "\\item 'i'\n",
       "\\item 'j'\n",
       "\\item 'k'\n",
       "\\item 'l'\n",
       "\\item 'm'\n",
       "\\item 'n'\n",
       "\\item 'o'\n",
       "\\item 'p'\n",
       "\\item 'q'\n",
       "\\item 'r'\n",
       "\\item 's'\n",
       "\\item 't'\n",
       "\\item 'u'\n",
       "\\item 'v'\n",
       "\\item 'w'\n",
       "\\item 'x'\n",
       "\\item 'y'\n",
       "\\item 'z'\n",
       "\\end{enumerate*}\n"
      ],
      "text/markdown": [
       "1. 'a'\n",
       "2. 'b'\n",
       "3. 'c'\n",
       "4. 'd'\n",
       "5. 'e'\n",
       "6. 'f'\n",
       "7. 'g'\n",
       "8. 'h'\n",
       "9. 'i'\n",
       "10. 'j'\n",
       "11. 'k'\n",
       "12. 'l'\n",
       "13. 'm'\n",
       "14. 'n'\n",
       "15. 'o'\n",
       "16. 'p'\n",
       "17. 'q'\n",
       "18. 'r'\n",
       "19. 's'\n",
       "20. 't'\n",
       "21. 'u'\n",
       "22. 'v'\n",
       "23. 'w'\n",
       "24. 'x'\n",
       "25. 'y'\n",
       "26. 'z'\n",
       "\n",
       "\n"
      ],
      "text/plain": [
       " [1] \"a\" \"b\" \"c\" \"d\" \"e\" \"f\" \"g\" \"h\" \"i\" \"j\" \"k\" \"l\" \"m\" \"n\" \"o\" \"p\" \"q\" \"r\" \"s\"\n",
       "[20] \"t\" \"u\" \"v\" \"w\" \"x\" \"y\" \"z\""
      ]
     },
     "metadata": {},
     "output_type": "display_data"
    }
   ],
   "source": [
    "letters"
   ]
  },
  {
   "cell_type": "code",
   "execution_count": 78,
   "id": "cc5851ff",
   "metadata": {
    "ExecuteTime": {
     "end_time": "2022-12-12T15:43:39.909738Z",
     "start_time": "2022-12-12T15:43:38.172Z"
    }
   },
   "outputs": [
    {
     "data": {
      "text/html": [
       "'character'"
      ],
      "text/latex": [
       "'character'"
      ],
      "text/markdown": [
       "'character'"
      ],
      "text/plain": [
       "[1] \"character\""
      ]
     },
     "metadata": {},
     "output_type": "display_data"
    }
   ],
   "source": [
    "class(letters)"
   ]
  },
  {
   "cell_type": "code",
   "execution_count": 79,
   "id": "2f023178",
   "metadata": {
    "ExecuteTime": {
     "end_time": "2022-12-12T15:43:40.114872Z",
     "start_time": "2022-12-12T15:43:38.434Z"
    }
   },
   "outputs": [
    {
     "data": {
      "text/html": [
       "'integer'"
      ],
      "text/latex": [
       "'integer'"
      ],
      "text/markdown": [
       "'integer'"
      ],
      "text/plain": [
       "[1] \"integer\""
      ]
     },
     "metadata": {},
     "output_type": "display_data"
    }
   ],
   "source": [
    "class(s)"
   ]
  },
  {
   "cell_type": "code",
   "execution_count": 80,
   "id": "ec47ca79",
   "metadata": {
    "ExecuteTime": {
     "end_time": "2022-12-12T15:43:40.282108Z",
     "start_time": "2022-12-12T15:43:39.267Z"
    }
   },
   "outputs": [],
   "source": [
    "set.seed(1)"
   ]
  },
  {
   "cell_type": "code",
   "execution_count": 81,
   "id": "fa8ab44f",
   "metadata": {
    "ExecuteTime": {
     "end_time": "2022-12-12T15:43:40.444626Z",
     "start_time": "2022-12-12T15:43:39.523Z"
    }
   },
   "outputs": [],
   "source": [
    "o<-rnorm(n = 50,mean = 5,sd = 0.3)"
   ]
  },
  {
   "cell_type": "code",
   "execution_count": 82,
   "id": "a6abea49",
   "metadata": {
    "ExecuteTime": {
     "end_time": "2022-12-12T15:43:40.613723Z",
     "start_time": "2022-12-12T15:43:39.690Z"
    },
    "scrolled": true
   },
   "outputs": [
    {
     "name": "stdout",
     "output_type": "stream",
     "text": [
      " [1] 4.812064 5.055093 4.749311 5.478584 5.098852 4.753859 5.146229 5.221497\n",
      " [9] 5.172734 4.908383 5.453534 5.116953 4.813628 4.335590 5.337479 4.986520\n",
      "[17] 4.995143 5.283151 5.246366 5.178170 5.275693 5.234641 5.022369 4.403194\n",
      "[25] 5.185948 4.983161 4.953261 4.558774 4.856555 5.125382 5.407604 4.969164\n",
      "[33] 5.116301 4.983858 4.586882 4.875502 4.881713 4.982206 5.330008 5.228953\n",
      "[41] 4.950643 4.923991 5.209089 5.166999 4.793373 4.787751 5.109375 5.230560\n",
      "[49] 4.966296 5.264332\n"
     ]
    }
   ],
   "source": [
    "print(o)"
   ]
  },
  {
   "cell_type": "code",
   "execution_count": 83,
   "id": "9866543a",
   "metadata": {
    "ExecuteTime": {
     "end_time": "2022-12-12T15:43:40.818238Z",
     "start_time": "2022-12-12T15:43:39.915Z"
    },
    "scrolled": true
   },
   "outputs": [
    {
     "data": {
      "image/png": "[encoded data removed]",
      "text/plain": [
       "Plot with title \"Histogram of o\""
      ]
     },
     "metadata": {
      "image/png": {
       "height": 420,
       "width": 420
      }
     },
     "output_type": "display_data"
    }
   ],
   "source": [
    "hist(o)"
   ]
  },
  {
   "cell_type": "code",
   "execution_count": 84,
   "id": "0289affb",
   "metadata": {
    "ExecuteTime": {
     "end_time": "2022-12-12T15:43:40.975974Z",
     "start_time": "2022-12-12T15:43:40.106Z"
    }
   },
   "outputs": [
    {
     "data": {
      "text/html": [
       "5.03013448398808"
      ],
      "text/latex": [
       "5.03013448398808"
      ],
      "text/markdown": [
       "5.03013448398808"
      ],
      "text/plain": [
       "[1] 5.030134"
      ]
     },
     "metadata": {},
     "output_type": "display_data"
    }
   ],
   "source": [
    "mean(o)"
   ]
  },
  {
   "cell_type": "code",
   "execution_count": 85,
   "id": "d6824c7f",
   "metadata": {
    "ExecuteTime": {
     "end_time": "2022-12-12T15:43:41.307105Z",
     "start_time": "2022-12-12T15:43:40.307Z"
    },
    "scrolled": true
   },
   "outputs": [
    {
     "data": {
      "image/png": "[encoded data removed]",
      "text/plain": [
       "Plot with title \"density.default(x = o)\""
      ]
     },
     "metadata": {
      "image/png": {
       "height": 420,
       "width": 420
      }
     },
     "output_type": "display_data"
    }
   ],
   "source": [
    "plot(density(o))"
   ]
  },
  {
   "cell_type": "code",
   "execution_count": 86,
   "id": "e00f1797",
   "metadata": {
    "ExecuteTime": {
     "end_time": "2022-12-12T15:43:41.490008Z",
     "start_time": "2022-12-12T15:43:40.504Z"
    },
    "scrolled": true
   },
   "outputs": [
    {
     "data": {
      "text/html": [
       "<style>\n",
       ".list-inline {list-style: none; margin:0; padding: 0}\n",
       ".list-inline>li {display: inline-block}\n",
       ".list-inline>li:not(:last-child)::after {content: \"\\00b7\"; padding: 0 .5ex}\n",
       "</style>\n",
       "<ol class=list-inline><li>11</li><li>8</li><li>11</li><li>6</li><li>10</li><li>11</li><li>9</li><li>12</li><li>9</li><li>12</li><li>10</li><li>7</li><li>5</li><li>14</li><li>10</li><li>16</li><li>11</li><li>7</li><li>9</li><li>12</li><li>13</li><li>10</li><li>9</li><li>7</li><li>8</li><li>8</li><li>9</li><li>13</li><li>5</li><li>8</li><li>13</li><li>9</li><li>13</li><li>12</li><li>14</li><li>7</li><li>13</li><li>12</li><li>15</li><li>11</li><li>5</li><li>10</li><li>13</li><li>12</li><li>7</li><li>7</li><li>6</li><li>15</li><li>12</li><li>12</li><li>11</li><li>15</li><li>7</li><li>10</li><li>10</li><li>4</li><li>8</li><li>8</li><li>9</li><li>11</li><li>9</li><li>8</li><li>14</li><li>9</li><li>9</li><li>9</li><li>12</li><li>9</li><li>9</li><li>7</li><li>14</li><li>8</li><li>12</li><li>6</li><li>10</li><li>5</li><li>6</li><li>7</li><li>12</li><li>10</li><li>8</li><li>6</li><li>6</li><li>6</li><li>10</li><li>15</li><li>9</li><li>17</li><li>12</li><li>9</li><li>7</li><li>8</li><li>5</li><li>11</li><li>8</li><li>18</li><li>15</li><li>12</li><li>12</li><li>8</li></ol>\n"
      ],
      "text/latex": [
       "\\begin{enumerate*}\n",
       "\\item 11\n",
       "\\item 8\n",
       "\\item 11\n",
       "\\item 6\n",
       "\\item 10\n",
       "\\item 11\n",
       "\\item 9\n",
       "\\item 12\n",
       "\\item 9\n",
       "\\item 12\n",
       "\\item 10\n",
       "\\item 7\n",
       "\\item 5\n",
       "\\item 14\n",
       "\\item 10\n",
       "\\item 16\n",
       "\\item 11\n",
       "\\item 7\n",
       "\\item 9\n",
       "\\item 12\n",
       "\\item 13\n",
       "\\item 10\n",
       "\\item 9\n",
       "\\item 7\n",
       "\\item 8\n",
       "\\item 8\n",
       "\\item 9\n",
       "\\item 13\n",
       "\\item 5\n",
       "\\item 8\n",
       "\\item 13\n",
       "\\item 9\n",
       "\\item 13\n",
       "\\item 12\n",
       "\\item 14\n",
       "\\item 7\n",
       "\\item 13\n",
       "\\item 12\n",
       "\\item 15\n",
       "\\item 11\n",
       "\\item 5\n",
       "\\item 10\n",
       "\\item 13\n",
       "\\item 12\n",
       "\\item 7\n",
       "\\item 7\n",
       "\\item 6\n",
       "\\item 15\n",
       "\\item 12\n",
       "\\item 12\n",
       "\\item 11\n",
       "\\item 15\n",
       "\\item 7\n",
       "\\item 10\n",
       "\\item 10\n",
       "\\item 4\n",
       "\\item 8\n",
       "\\item 8\n",
       "\\item 9\n",
       "\\item 11\n",
       "\\item 9\n",
       "\\item 8\n",
       "\\item 14\n",
       "\\item 9\n",
       "\\item 9\n",
       "\\item 9\n",
       "\\item 12\n",
       "\\item 9\n",
       "\\item 9\n",
       "\\item 7\n",
       "\\item 14\n",
       "\\item 8\n",
       "\\item 12\n",
       "\\item 6\n",
       "\\item 10\n",
       "\\item 5\n",
       "\\item 6\n",
       "\\item 7\n",
       "\\item 12\n",
       "\\item 10\n",
       "\\item 8\n",
       "\\item 6\n",
       "\\item 6\n",
       "\\item 6\n",
       "\\item 10\n",
       "\\item 15\n",
       "\\item 9\n",
       "\\item 17\n",
       "\\item 12\n",
       "\\item 9\n",
       "\\item 7\n",
       "\\item 8\n",
       "\\item 5\n",
       "\\item 11\n",
       "\\item 8\n",
       "\\item 18\n",
       "\\item 15\n",
       "\\item 12\n",
       "\\item 12\n",
       "\\item 8\n",
       "\\end{enumerate*}\n"
      ],
      "text/markdown": [
       "1. 11\n",
       "2. 8\n",
       "3. 11\n",
       "4. 6\n",
       "5. 10\n",
       "6. 11\n",
       "7. 9\n",
       "8. 12\n",
       "9. 9\n",
       "10. 12\n",
       "11. 10\n",
       "12. 7\n",
       "13. 5\n",
       "14. 14\n",
       "15. 10\n",
       "16. 16\n",
       "17. 11\n",
       "18. 7\n",
       "19. 9\n",
       "20. 12\n",
       "21. 13\n",
       "22. 10\n",
       "23. 9\n",
       "24. 7\n",
       "25. 8\n",
       "26. 8\n",
       "27. 9\n",
       "28. 13\n",
       "29. 5\n",
       "30. 8\n",
       "31. 13\n",
       "32. 9\n",
       "33. 13\n",
       "34. 12\n",
       "35. 14\n",
       "36. 7\n",
       "37. 13\n",
       "38. 12\n",
       "39. 15\n",
       "40. 11\n",
       "41. 5\n",
       "42. 10\n",
       "43. 13\n",
       "44. 12\n",
       "45. 7\n",
       "46. 7\n",
       "47. 6\n",
       "48. 15\n",
       "49. 12\n",
       "50. 12\n",
       "51. 11\n",
       "52. 15\n",
       "53. 7\n",
       "54. 10\n",
       "55. 10\n",
       "56. 4\n",
       "57. 8\n",
       "58. 8\n",
       "59. 9\n",
       "60. 11\n",
       "61. 9\n",
       "62. 8\n",
       "63. 14\n",
       "64. 9\n",
       "65. 9\n",
       "66. 9\n",
       "67. 12\n",
       "68. 9\n",
       "69. 9\n",
       "70. 7\n",
       "71. 14\n",
       "72. 8\n",
       "73. 12\n",
       "74. 6\n",
       "75. 10\n",
       "76. 5\n",
       "77. 6\n",
       "78. 7\n",
       "79. 12\n",
       "80. 10\n",
       "81. 8\n",
       "82. 6\n",
       "83. 6\n",
       "84. 6\n",
       "85. 10\n",
       "86. 15\n",
       "87. 9\n",
       "88. 17\n",
       "89. 12\n",
       "90. 9\n",
       "91. 7\n",
       "92. 8\n",
       "93. 5\n",
       "94. 11\n",
       "95. 8\n",
       "96. 18\n",
       "97. 15\n",
       "98. 12\n",
       "99. 12\n",
       "100. 8\n",
       "\n",
       "\n"
      ],
      "text/plain": [
       "  [1] 11  8 11  6 10 11  9 12  9 12 10  7  5 14 10 16 11  7  9 12 13 10  9  7  8\n",
       " [26]  8  9 13  5  8 13  9 13 12 14  7 13 12 15 11  5 10 13 12  7  7  6 15 12 12\n",
       " [51] 11 15  7 10 10  4  8  8  9 11  9  8 14  9  9  9 12  9  9  7 14  8 12  6 10\n",
       " [76]  5  6  7 12 10  8  6  6  6 10 15  9 17 12  9  7  8  5 11  8 18 15 12 12  8"
      ]
     },
     "metadata": {},
     "output_type": "display_data"
    }
   ],
   "source": [
    "rpois(100,10)"
   ]
  },
  {
   "cell_type": "code",
   "execution_count": 87,
   "id": "ef5ff019",
   "metadata": {
    "ExecuteTime": {
     "end_time": "2022-12-12T15:43:41.667793Z",
     "start_time": "2022-12-12T15:43:40.693Z"
    }
   },
   "outputs": [
    {
     "data": {
      "text/html": [
       "<style>\n",
       ".list-inline {list-style: none; margin:0; padding: 0}\n",
       ".list-inline>li {display: inline-block}\n",
       ".list-inline>li:not(:last-child)::after {content: \"\\00b7\"; padding: 0 .5ex}\n",
       "</style>\n",
       "<ol class=list-inline><li>6</li><li>3</li><li>4</li><li>5</li><li>3</li><li>5</li><li>8</li><li>9</li><li>4</li><li>5</li><li>5</li><li>6</li><li>4</li><li>5</li><li>3</li><li>4</li><li>6</li><li>5</li><li>3</li><li>6</li><li>5</li><li>8</li><li>4</li><li>7</li><li>3</li><li>7</li><li>5</li><li>3</li><li>4</li><li>7</li><li>4</li><li>5</li><li>7</li><li>3</li><li>6</li><li>6</li><li>5</li><li>5</li><li>5</li><li>7</li><li>4</li><li>4</li><li>5</li><li>4</li><li>7</li><li>4</li><li>5</li><li>5</li><li>5</li><li>6</li><li>8</li><li>4</li><li>4</li><li>6</li><li>7</li><li>3</li><li>8</li><li>3</li><li>3</li><li>7</li><li>5</li><li>3</li><li>4</li><li>6</li><li>4</li><li>4</li><li>3</li><li>6</li><li>4</li><li>8</li><li>7</li><li>7</li><li>6</li><li>4</li><li>6</li><li>2</li><li>7</li><li>9</li><li>4</li><li>6</li><li>6</li><li>6</li><li>5</li><li>5</li><li>4</li><li>6</li><li>6</li><li>5</li><li>5</li><li>6</li><li>3</li><li>4</li><li>5</li><li>3</li><li>7</li><li>7</li><li>7</li><li>7</li><li>3</li><li>5</li></ol>\n"
      ],
      "text/latex": [
       "\\begin{enumerate*}\n",
       "\\item 6\n",
       "\\item 3\n",
       "\\item 4\n",
       "\\item 5\n",
       "\\item 3\n",
       "\\item 5\n",
       "\\item 8\n",
       "\\item 9\n",
       "\\item 4\n",
       "\\item 5\n",
       "\\item 5\n",
       "\\item 6\n",
       "\\item 4\n",
       "\\item 5\n",
       "\\item 3\n",
       "\\item 4\n",
       "\\item 6\n",
       "\\item 5\n",
       "\\item 3\n",
       "\\item 6\n",
       "\\item 5\n",
       "\\item 8\n",
       "\\item 4\n",
       "\\item 7\n",
       "\\item 3\n",
       "\\item 7\n",
       "\\item 5\n",
       "\\item 3\n",
       "\\item 4\n",
       "\\item 7\n",
       "\\item 4\n",
       "\\item 5\n",
       "\\item 7\n",
       "\\item 3\n",
       "\\item 6\n",
       "\\item 6\n",
       "\\item 5\n",
       "\\item 5\n",
       "\\item 5\n",
       "\\item 7\n",
       "\\item 4\n",
       "\\item 4\n",
       "\\item 5\n",
       "\\item 4\n",
       "\\item 7\n",
       "\\item 4\n",
       "\\item 5\n",
       "\\item 5\n",
       "\\item 5\n",
       "\\item 6\n",
       "\\item 8\n",
       "\\item 4\n",
       "\\item 4\n",
       "\\item 6\n",
       "\\item 7\n",
       "\\item 3\n",
       "\\item 8\n",
       "\\item 3\n",
       "\\item 3\n",
       "\\item 7\n",
       "\\item 5\n",
       "\\item 3\n",
       "\\item 4\n",
       "\\item 6\n",
       "\\item 4\n",
       "\\item 4\n",
       "\\item 3\n",
       "\\item 6\n",
       "\\item 4\n",
       "\\item 8\n",
       "\\item 7\n",
       "\\item 7\n",
       "\\item 6\n",
       "\\item 4\n",
       "\\item 6\n",
       "\\item 2\n",
       "\\item 7\n",
       "\\item 9\n",
       "\\item 4\n",
       "\\item 6\n",
       "\\item 6\n",
       "\\item 6\n",
       "\\item 5\n",
       "\\item 5\n",
       "\\item 4\n",
       "\\item 6\n",
       "\\item 6\n",
       "\\item 5\n",
       "\\item 5\n",
       "\\item 6\n",
       "\\item 3\n",
       "\\item 4\n",
       "\\item 5\n",
       "\\item 3\n",
       "\\item 7\n",
       "\\item 7\n",
       "\\item 7\n",
       "\\item 7\n",
       "\\item 3\n",
       "\\item 5\n",
       "\\end{enumerate*}\n"
      ],
      "text/markdown": [
       "1. 6\n",
       "2. 3\n",
       "3. 4\n",
       "4. 5\n",
       "5. 3\n",
       "6. 5\n",
       "7. 8\n",
       "8. 9\n",
       "9. 4\n",
       "10. 5\n",
       "11. 5\n",
       "12. 6\n",
       "13. 4\n",
       "14. 5\n",
       "15. 3\n",
       "16. 4\n",
       "17. 6\n",
       "18. 5\n",
       "19. 3\n",
       "20. 6\n",
       "21. 5\n",
       "22. 8\n",
       "23. 4\n",
       "24. 7\n",
       "25. 3\n",
       "26. 7\n",
       "27. 5\n",
       "28. 3\n",
       "29. 4\n",
       "30. 7\n",
       "31. 4\n",
       "32. 5\n",
       "33. 7\n",
       "34. 3\n",
       "35. 6\n",
       "36. 6\n",
       "37. 5\n",
       "38. 5\n",
       "39. 5\n",
       "40. 7\n",
       "41. 4\n",
       "42. 4\n",
       "43. 5\n",
       "44. 4\n",
       "45. 7\n",
       "46. 4\n",
       "47. 5\n",
       "48. 5\n",
       "49. 5\n",
       "50. 6\n",
       "51. 8\n",
       "52. 4\n",
       "53. 4\n",
       "54. 6\n",
       "55. 7\n",
       "56. 3\n",
       "57. 8\n",
       "58. 3\n",
       "59. 3\n",
       "60. 7\n",
       "61. 5\n",
       "62. 3\n",
       "63. 4\n",
       "64. 6\n",
       "65. 4\n",
       "66. 4\n",
       "67. 3\n",
       "68. 6\n",
       "69. 4\n",
       "70. 8\n",
       "71. 7\n",
       "72. 7\n",
       "73. 6\n",
       "74. 4\n",
       "75. 6\n",
       "76. 2\n",
       "77. 7\n",
       "78. 9\n",
       "79. 4\n",
       "80. 6\n",
       "81. 6\n",
       "82. 6\n",
       "83. 5\n",
       "84. 5\n",
       "85. 4\n",
       "86. 6\n",
       "87. 6\n",
       "88. 5\n",
       "89. 5\n",
       "90. 6\n",
       "91. 3\n",
       "92. 4\n",
       "93. 5\n",
       "94. 3\n",
       "95. 7\n",
       "96. 7\n",
       "97. 7\n",
       "98. 7\n",
       "99. 3\n",
       "100. 5\n",
       "\n",
       "\n"
      ],
      "text/plain": [
       "  [1] 6 3 4 5 3 5 8 9 4 5 5 6 4 5 3 4 6 5 3 6 5 8 4 7 3 7 5 3 4 7 4 5 7 3 6 6 5\n",
       " [38] 5 5 7 4 4 5 4 7 4 5 5 5 6 8 4 4 6 7 3 8 3 3 7 5 3 4 6 4 4 3 6 4 8 7 7 6 4\n",
       " [75] 6 2 7 9 4 6 6 6 5 5 4 6 6 5 5 6 3 4 5 3 7 7 7 7 3 5"
      ]
     },
     "metadata": {},
     "output_type": "display_data"
    }
   ],
   "source": [
    "rbinom(100,10,0.5)"
   ]
  },
  {
   "cell_type": "code",
   "execution_count": 88,
   "id": "f1e0454a",
   "metadata": {
    "ExecuteTime": {
     "end_time": "2022-12-12T15:43:41.832673Z",
     "start_time": "2022-12-12T15:43:41.037Z"
    }
   },
   "outputs": [
    {
     "name": "stdout",
     "output_type": "stream",
     "text": [
      " [1] 1 1 1 1 1 1 1 1 1 1\n"
     ]
    }
   ],
   "source": [
    "a<-c(rep(1,10))\n",
    "print(a)"
   ]
  },
  {
   "cell_type": "code",
   "execution_count": 89,
   "id": "742c26e9",
   "metadata": {
    "ExecuteTime": {
     "end_time": "2022-12-12T15:43:42.011956Z",
     "start_time": "2022-12-12T15:43:41.271Z"
    }
   },
   "outputs": [
    {
     "data": {
      "text/html": [
       "'numeric'"
      ],
      "text/latex": [
       "'numeric'"
      ],
      "text/markdown": [
       "'numeric'"
      ],
      "text/plain": [
       "[1] \"numeric\""
      ]
     },
     "metadata": {},
     "output_type": "display_data"
    }
   ],
   "source": [
    "class(a)"
   ]
  },
  {
   "cell_type": "code",
   "execution_count": 90,
   "id": "d24ccde0",
   "metadata": {
    "ExecuteTime": {
     "end_time": "2022-12-12T15:43:42.190105Z",
     "start_time": "2022-12-12T15:43:41.508Z"
    }
   },
   "outputs": [
    {
     "data": {
      "text/html": [
       "'logical'"
      ],
      "text/latex": [
       "'logical'"
      ],
      "text/markdown": [
       "'logical'"
      ],
      "text/plain": [
       "[1] \"logical\""
      ]
     },
     "metadata": {},
     "output_type": "display_data"
    }
   ],
   "source": [
    "class(2!=0)"
   ]
  },
  {
   "cell_type": "code",
   "execution_count": 91,
   "id": "efa11c5d",
   "metadata": {
    "ExecuteTime": {
     "end_time": "2022-12-12T15:43:42.355058Z",
     "start_time": "2022-12-12T15:43:41.884Z"
    }
   },
   "outputs": [
    {
     "data": {
      "text/html": [
       "'function'"
      ],
      "text/latex": [
       "'function'"
      ],
      "text/markdown": [
       "'function'"
      ],
      "text/plain": [
       "[1] \"function\""
      ]
     },
     "metadata": {},
     "output_type": "display_data"
    }
   ],
   "source": [
    "class(factorial)"
   ]
  },
  {
   "cell_type": "code",
   "execution_count": 92,
   "id": "19e84a08",
   "metadata": {
    "ExecuteTime": {
     "end_time": "2022-12-12T15:43:42.536941Z",
     "start_time": "2022-12-12T15:43:42.131Z"
    }
   },
   "outputs": [
    {
     "data": {
      "text/html": [
       "<style>\n",
       ".list-inline {list-style: none; margin:0; padding: 0}\n",
       ".list-inline>li {display: inline-block}\n",
       ".list-inline>li:not(:last-child)::after {content: \"\\00b7\"; padding: 0 .5ex}\n",
       "</style>\n",
       "<ol class=list-inline><li>'a'</li><li>'a'</li><li>'a'</li><li>'a'</li><li>'b'</li><li>'b'</li><li>'b'</li><li>'b'</li><li>'b'</li><li>'b'</li><li>'c'</li><li>'c'</li></ol>\n"
      ],
      "text/latex": [
       "\\begin{enumerate*}\n",
       "\\item 'a'\n",
       "\\item 'a'\n",
       "\\item 'a'\n",
       "\\item 'a'\n",
       "\\item 'b'\n",
       "\\item 'b'\n",
       "\\item 'b'\n",
       "\\item 'b'\n",
       "\\item 'b'\n",
       "\\item 'b'\n",
       "\\item 'c'\n",
       "\\item 'c'\n",
       "\\end{enumerate*}\n"
      ],
      "text/markdown": [
       "1. 'a'\n",
       "2. 'a'\n",
       "3. 'a'\n",
       "4. 'a'\n",
       "5. 'b'\n",
       "6. 'b'\n",
       "7. 'b'\n",
       "8. 'b'\n",
       "9. 'b'\n",
       "10. 'b'\n",
       "11. 'c'\n",
       "12. 'c'\n",
       "\n",
       "\n"
      ],
      "text/plain": [
       " [1] \"a\" \"a\" \"a\" \"a\" \"b\" \"b\" \"b\" \"b\" \"b\" \"b\" \"c\" \"c\""
      ]
     },
     "metadata": {},
     "output_type": "display_data"
    }
   ],
   "source": [
    "d<-c(rep(\"a\",4),rep(\"b\",6),(rep(\"c\",2)))\n",
    "d"
   ]
  },
  {
   "cell_type": "code",
   "execution_count": 93,
   "id": "ed5dcdc8",
   "metadata": {
    "ExecuteTime": {
     "end_time": "2022-12-12T15:43:42.702981Z",
     "start_time": "2022-12-12T15:43:42.347Z"
    }
   },
   "outputs": [
    {
     "data": {
      "text/html": [
       "<style>\n",
       ".list-inline {list-style: none; margin:0; padding: 0}\n",
       ".list-inline>li {display: inline-block}\n",
       ".list-inline>li:not(:last-child)::after {content: \"\\00b7\"; padding: 0 .5ex}\n",
       "</style>\n",
       "<ol class=list-inline><li>'a'</li><li>'b'</li><li>'b'</li><li>'b'</li><li>'c'</li><li>'a'</li><li>'a'</li><li>'b'</li><li>'b'</li><li>'c'</li><li>'a'</li><li>'b'</li></ol>\n"
      ],
      "text/latex": [
       "\\begin{enumerate*}\n",
       "\\item 'a'\n",
       "\\item 'b'\n",
       "\\item 'b'\n",
       "\\item 'b'\n",
       "\\item 'c'\n",
       "\\item 'a'\n",
       "\\item 'a'\n",
       "\\item 'b'\n",
       "\\item 'b'\n",
       "\\item 'c'\n",
       "\\item 'a'\n",
       "\\item 'b'\n",
       "\\end{enumerate*}\n"
      ],
      "text/markdown": [
       "1. 'a'\n",
       "2. 'b'\n",
       "3. 'b'\n",
       "4. 'b'\n",
       "5. 'c'\n",
       "6. 'a'\n",
       "7. 'a'\n",
       "8. 'b'\n",
       "9. 'b'\n",
       "10. 'c'\n",
       "11. 'a'\n",
       "12. 'b'\n",
       "\n",
       "\n"
      ],
      "text/plain": [
       " [1] \"a\" \"b\" \"b\" \"b\" \"c\" \"a\" \"a\" \"b\" \"b\" \"c\" \"a\" \"b\""
      ]
     },
     "metadata": {},
     "output_type": "display_data"
    }
   ],
   "source": [
    "sample(d)"
   ]
  },
  {
   "cell_type": "code",
   "execution_count": 94,
   "id": "8a8aa2e2",
   "metadata": {
    "ExecuteTime": {
     "end_time": "2022-12-12T15:43:42.870127Z",
     "start_time": "2022-12-12T15:43:42.552Z"
    }
   },
   "outputs": [],
   "source": [
    "d.table<-table(d)"
   ]
  },
  {
   "cell_type": "code",
   "execution_count": 95,
   "id": "85e7883d",
   "metadata": {
    "ExecuteTime": {
     "end_time": "2022-12-12T15:44:36.617130Z",
     "start_time": "2022-12-12T15:44:36.597Z"
    }
   },
   "outputs": [
    {
     "data": {
      "text/html": [
       "'table'"
      ],
      "text/latex": [
       "'table'"
      ],
      "text/markdown": [
       "'table'"
      ],
      "text/plain": [
       "[1] \"table\""
      ]
     },
     "metadata": {},
     "output_type": "display_data"
    }
   ],
   "source": [
    "class(d.table)"
   ]
  },
  {
   "cell_type": "code",
   "execution_count": 96,
   "id": "fffcac18",
   "metadata": {
    "ExecuteTime": {
     "end_time": "2022-12-12T15:44:45.394932Z",
     "start_time": "2022-12-12T15:44:45.366Z"
    }
   },
   "outputs": [
    {
     "data": {
      "text/plain": [
       "d\n",
       "a b c \n",
       "4 6 2 "
      ]
     },
     "metadata": {},
     "output_type": "display_data"
    }
   ],
   "source": [
    "d.table"
   ]
  },
  {
   "cell_type": "code",
   "execution_count": 99,
   "id": "914ce888",
   "metadata": {
    "ExecuteTime": {
     "end_time": "2022-12-12T15:47:07.019042Z",
     "start_time": "2022-12-12T15:47:06.996Z"
    }
   },
   "outputs": [
    {
     "data": {
      "text/html": [
       "<style>\n",
       ".list-inline {list-style: none; margin:0; padding: 0}\n",
       ".list-inline>li {display: inline-block}\n",
       ".list-inline>li:not(:last-child)::after {content: \"\\00b7\"; padding: 0 .5ex}\n",
       "</style>\n",
       "<ol class=list-inline><li>10</li><li>9</li><li>8</li><li>7</li><li>6</li><li>5</li><li>4</li><li>3</li><li>2</li><li>1</li></ol>\n"
      ],
      "text/latex": [
       "\\begin{enumerate*}\n",
       "\\item 10\n",
       "\\item 9\n",
       "\\item 8\n",
       "\\item 7\n",
       "\\item 6\n",
       "\\item 5\n",
       "\\item 4\n",
       "\\item 3\n",
       "\\item 2\n",
       "\\item 1\n",
       "\\end{enumerate*}\n"
      ],
      "text/markdown": [
       "1. 10\n",
       "2. 9\n",
       "3. 8\n",
       "4. 7\n",
       "5. 6\n",
       "6. 5\n",
       "7. 4\n",
       "8. 3\n",
       "9. 2\n",
       "10. 1\n",
       "\n",
       "\n"
      ],
      "text/plain": [
       " [1] 10  9  8  7  6  5  4  3  2  1"
      ]
     },
     "metadata": {},
     "output_type": "display_data"
    }
   ],
   "source": [
    "r<-seq(10,1)\n",
    "r"
   ]
  },
  {
   "cell_type": "code",
   "execution_count": 100,
   "id": "6d87ff84",
   "metadata": {
    "ExecuteTime": {
     "end_time": "2022-12-12T15:47:29.892733Z",
     "start_time": "2022-12-12T15:47:29.872Z"
    }
   },
   "outputs": [
    {
     "data": {
      "text/html": [
       "55"
      ],
      "text/latex": [
       "55"
      ],
      "text/markdown": [
       "55"
      ],
      "text/plain": [
       "[1] 55"
      ]
     },
     "metadata": {},
     "output_type": "display_data"
    }
   ],
   "source": [
    "sum(r)"
   ]
  },
  {
   "cell_type": "code",
   "execution_count": 102,
   "id": "7af0a132",
   "metadata": {
    "ExecuteTime": {
     "end_time": "2022-12-12T15:48:50.622879Z",
     "start_time": "2022-12-12T15:48:50.601Z"
    }
   },
   "outputs": [
    {
     "data": {
      "text/html": [
       "5.5"
      ],
      "text/latex": [
       "5.5"
      ],
      "text/markdown": [
       "5.5"
      ],
      "text/plain": [
       "[1] 5.5"
      ]
     },
     "metadata": {},
     "output_type": "display_data"
    }
   ],
   "source": [
    "mean.1<-sum(r)/length(r)\n",
    "mean.1"
   ]
  },
  {
   "cell_type": "code",
   "execution_count": 104,
   "id": "7f10fab4",
   "metadata": {
    "ExecuteTime": {
     "end_time": "2022-12-12T15:50:47.363111Z",
     "start_time": "2022-12-12T15:50:47.344Z"
    }
   },
   "outputs": [
    {
     "data": {
      "text/html": [
       "5.5"
      ],
      "text/latex": [
       "5.5"
      ],
      "text/markdown": [
       "5.5"
      ],
      "text/plain": [
       "[1] 5.5"
      ]
     },
     "metadata": {},
     "output_type": "display_data"
    }
   ],
   "source": [
    "mean.2 = mean(r)\n",
    "mean.2"
   ]
  },
  {
   "cell_type": "code",
   "execution_count": 105,
   "id": "c35f9c0f",
   "metadata": {
    "ExecuteTime": {
     "end_time": "2022-12-12T15:52:47.140204Z",
     "start_time": "2022-12-12T15:52:47.115Z"
    }
   },
   "outputs": [
    {
     "data": {
      "text/html": [
       "<style>\n",
       ".list-inline {list-style: none; margin:0; padding: 0}\n",
       ".list-inline>li {display: inline-block}\n",
       ".list-inline>li:not(:last-child)::after {content: \"\\00b7\"; padding: 0 .5ex}\n",
       "</style>\n",
       "<ol class=list-inline><li>-0.626453810742332</li><li>0.183643324222082</li><li>-0.835628612410047</li><li>1.59528080213779</li><li>0.329507771815361</li><li>-0.820468384118015</li><li>0.487429052428485</li><li>0.738324705129217</li><li>0.575781351653492</li><li>-0.305388387156356</li><li>1.51178116845085</li><li>0.389843236411431</li><li>-0.621240580541804</li><li>-2.2146998871775</li><li>1.12493091814311</li><li>-0.0449336090152309</li><li>-0.0161902630989461</li><li>0.943836210685299</li><li>0.821221195098089</li><li>0.593901321217509</li><li>0.918977371608218</li><li>0.782136300731067</li><li>0.0745649833651906</li><li>-1.98935169586337</li><li>0.61982574789471</li><li>-0.0561287395290008</li><li>-0.155795506705329</li><li>-1.47075238389927</li><li>-0.47815005510862</li><li>0.417941560199702</li><li>1.35867955152904</li><li>-0.102787727342996</li><li>0.387671611559369</li><li>-0.0538050405829051</li><li>-1.37705955682861</li><li>-0.41499456329968</li><li>-0.394289953710349</li><li>-0.0593133967111857</li><li>1.10002537198388</li><li>0.763175748457544</li><li>-0.164523596253587</li><li>-0.253361680136508</li><li>0.696963375404737</li><li>0.556663198673657</li><li>-0.68875569454952</li><li>-0.70749515696212</li><li>0.36458196213683</li><li>0.768532924515416</li><li>-0.112346212150228</li><li>0.881107726454215</li><li>0.398105880367068</li><li>-0.612026393250771</li><li>0.341119691424425</li><li>-1.12936309608079</li><li>1.43302370170104</li><li>1.98039989850586</li><li>-0.367221476466509</li><li>-1.04413462631653</li><li>0.569719627442413</li><li>-0.135054603880824</li><li>2.40161776050478</li><li>-0.0392400027331692</li><li>0.689739362450777</li><li>0.0280021587806661</li><li>-0.743273208882405</li><li>0.188792299514343</li><li>-1.80495862889104</li><li>1.46555486156289</li><li>0.153253338211898</li><li>2.17261167036215</li><li>0.475509528899663</li><li>-0.709946430921815</li><li>0.610726353489055</li><li>-0.934097631644252</li><li>-1.2536334002391</li><li>0.291446235517463</li><li>-0.443291873218433</li><li>0.00110535163162413</li><li>0.0743413241516641</li><li>-0.589520946188072</li><li>-0.568668732818502</li><li>-0.135178615123832</li><li>1.1780869965732</li><li>-1.52356680042976</li><li>0.593946187628422</li><li>0.332950371213518</li><li>1.06309983727636</li><li>-0.304183923634301</li><li>0.370018809916288</li><li>0.267098790772231</li><li>-0.54252003099165</li><li>1.20786780598317</li><li>1.16040261569495</li><li>0.700213649514998</li><li>1.58683345454085</li><li>0.558486425565304</li><li>-1.27659220845804</li><li>-0.573265414236886</li><li>-1.22461261489836</li><li>-0.473400636439312</li></ol>\n"
      ],
      "text/latex": [
       "\\begin{enumerate*}\n",
       "\\item -0.626453810742332\n",
       "\\item 0.183643324222082\n",
       "\\item -0.835628612410047\n",
       "\\item 1.59528080213779\n",
       "\\item 0.329507771815361\n",
       "\\item -0.820468384118015\n",
       "\\item 0.487429052428485\n",
       "\\item 0.738324705129217\n",
       "\\item 0.575781351653492\n",
       "\\item -0.305388387156356\n",
       "\\item 1.51178116845085\n",
       "\\item 0.389843236411431\n",
       "\\item -0.621240580541804\n",
       "\\item -2.2146998871775\n",
       "\\item 1.12493091814311\n",
       "\\item -0.0449336090152309\n",
       "\\item -0.0161902630989461\n",
       "\\item 0.943836210685299\n",
       "\\item 0.821221195098089\n",
       "\\item 0.593901321217509\n",
       "\\item 0.918977371608218\n",
       "\\item 0.782136300731067\n",
       "\\item 0.0745649833651906\n",
       "\\item -1.98935169586337\n",
       "\\item 0.61982574789471\n",
       "\\item -0.0561287395290008\n",
       "\\item -0.155795506705329\n",
       "\\item -1.47075238389927\n",
       "\\item -0.47815005510862\n",
       "\\item 0.417941560199702\n",
       "\\item 1.35867955152904\n",
       "\\item -0.102787727342996\n",
       "\\item 0.387671611559369\n",
       "\\item -0.0538050405829051\n",
       "\\item -1.37705955682861\n",
       "\\item -0.41499456329968\n",
       "\\item -0.394289953710349\n",
       "\\item -0.0593133967111857\n",
       "\\item 1.10002537198388\n",
       "\\item 0.763175748457544\n",
       "\\item -0.164523596253587\n",
       "\\item -0.253361680136508\n",
       "\\item 0.696963375404737\n",
       "\\item 0.556663198673657\n",
       "\\item -0.68875569454952\n",
       "\\item -0.70749515696212\n",
       "\\item 0.36458196213683\n",
       "\\item 0.768532924515416\n",
       "\\item -0.112346212150228\n",
       "\\item 0.881107726454215\n",
       "\\item 0.398105880367068\n",
       "\\item -0.612026393250771\n",
       "\\item 0.341119691424425\n",
       "\\item -1.12936309608079\n",
       "\\item 1.43302370170104\n",
       "\\item 1.98039989850586\n",
       "\\item -0.367221476466509\n",
       "\\item -1.04413462631653\n",
       "\\item 0.569719627442413\n",
       "\\item -0.135054603880824\n",
       "\\item 2.40161776050478\n",
       "\\item -0.0392400027331692\n",
       "\\item 0.689739362450777\n",
       "\\item 0.0280021587806661\n",
       "\\item -0.743273208882405\n",
       "\\item 0.188792299514343\n",
       "\\item -1.80495862889104\n",
       "\\item 1.46555486156289\n",
       "\\item 0.153253338211898\n",
       "\\item 2.17261167036215\n",
       "\\item 0.475509528899663\n",
       "\\item -0.709946430921815\n",
       "\\item 0.610726353489055\n",
       "\\item -0.934097631644252\n",
       "\\item -1.2536334002391\n",
       "\\item 0.291446235517463\n",
       "\\item -0.443291873218433\n",
       "\\item 0.00110535163162413\n",
       "\\item 0.0743413241516641\n",
       "\\item -0.589520946188072\n",
       "\\item -0.568668732818502\n",
       "\\item -0.135178615123832\n",
       "\\item 1.1780869965732\n",
       "\\item -1.52356680042976\n",
       "\\item 0.593946187628422\n",
       "\\item 0.332950371213518\n",
       "\\item 1.06309983727636\n",
       "\\item -0.304183923634301\n",
       "\\item 0.370018809916288\n",
       "\\item 0.267098790772231\n",
       "\\item -0.54252003099165\n",
       "\\item 1.20786780598317\n",
       "\\item 1.16040261569495\n",
       "\\item 0.700213649514998\n",
       "\\item 1.58683345454085\n",
       "\\item 0.558486425565304\n",
       "\\item -1.27659220845804\n",
       "\\item -0.573265414236886\n",
       "\\item -1.22461261489836\n",
       "\\item -0.473400636439312\n",
       "\\end{enumerate*}\n"
      ],
      "text/markdown": [
       "1. -0.626453810742332\n",
       "2. 0.183643324222082\n",
       "3. -0.835628612410047\n",
       "4. 1.59528080213779\n",
       "5. 0.329507771815361\n",
       "6. -0.820468384118015\n",
       "7. 0.487429052428485\n",
       "8. 0.738324705129217\n",
       "9. 0.575781351653492\n",
       "10. -0.305388387156356\n",
       "11. 1.51178116845085\n",
       "12. 0.389843236411431\n",
       "13. -0.621240580541804\n",
       "14. -2.2146998871775\n",
       "15. 1.12493091814311\n",
       "16. -0.0449336090152309\n",
       "17. -0.0161902630989461\n",
       "18. 0.943836210685299\n",
       "19. 0.821221195098089\n",
       "20. 0.593901321217509\n",
       "21. 0.918977371608218\n",
       "22. 0.782136300731067\n",
       "23. 0.0745649833651906\n",
       "24. -1.98935169586337\n",
       "25. 0.61982574789471\n",
       "26. -0.0561287395290008\n",
       "27. -0.155795506705329\n",
       "28. -1.47075238389927\n",
       "29. -0.47815005510862\n",
       "30. 0.417941560199702\n",
       "31. 1.35867955152904\n",
       "32. -0.102787727342996\n",
       "33. 0.387671611559369\n",
       "34. -0.0538050405829051\n",
       "35. -1.37705955682861\n",
       "36. -0.41499456329968\n",
       "37. -0.394289953710349\n",
       "38. -0.0593133967111857\n",
       "39. 1.10002537198388\n",
       "40. 0.763175748457544\n",
       "41. -0.164523596253587\n",
       "42. -0.253361680136508\n",
       "43. 0.696963375404737\n",
       "44. 0.556663198673657\n",
       "45. -0.68875569454952\n",
       "46. -0.70749515696212\n",
       "47. 0.36458196213683\n",
       "48. 0.768532924515416\n",
       "49. -0.112346212150228\n",
       "50. 0.881107726454215\n",
       "51. 0.398105880367068\n",
       "52. -0.612026393250771\n",
       "53. 0.341119691424425\n",
       "54. -1.12936309608079\n",
       "55. 1.43302370170104\n",
       "56. 1.98039989850586\n",
       "57. -0.367221476466509\n",
       "58. -1.04413462631653\n",
       "59. 0.569719627442413\n",
       "60. -0.135054603880824\n",
       "61. 2.40161776050478\n",
       "62. -0.0392400027331692\n",
       "63. 0.689739362450777\n",
       "64. 0.0280021587806661\n",
       "65. -0.743273208882405\n",
       "66. 0.188792299514343\n",
       "67. -1.80495862889104\n",
       "68. 1.46555486156289\n",
       "69. 0.153253338211898\n",
       "70. 2.17261167036215\n",
       "71. 0.475509528899663\n",
       "72. -0.709946430921815\n",
       "73. 0.610726353489055\n",
       "74. -0.934097631644252\n",
       "75. -1.2536334002391\n",
       "76. 0.291446235517463\n",
       "77. -0.443291873218433\n",
       "78. 0.00110535163162413\n",
       "79. 0.0743413241516641\n",
       "80. -0.589520946188072\n",
       "81. -0.568668732818502\n",
       "82. -0.135178615123832\n",
       "83. 1.1780869965732\n",
       "84. -1.52356680042976\n",
       "85. 0.593946187628422\n",
       "86. 0.332950371213518\n",
       "87. 1.06309983727636\n",
       "88. -0.304183923634301\n",
       "89. 0.370018809916288\n",
       "90. 0.267098790772231\n",
       "91. -0.54252003099165\n",
       "92. 1.20786780598317\n",
       "93. 1.16040261569495\n",
       "94. 0.700213649514998\n",
       "95. 1.58683345454085\n",
       "96. 0.558486425565304\n",
       "97. -1.27659220845804\n",
       "98. -0.573265414236886\n",
       "99. -1.22461261489836\n",
       "100. -0.473400636439312\n",
       "\n",
       "\n"
      ],
      "text/plain": [
       "  [1] -0.626453811  0.183643324 -0.835628612  1.595280802  0.329507772\n",
       "  [6] -0.820468384  0.487429052  0.738324705  0.575781352 -0.305388387\n",
       " [11]  1.511781168  0.389843236 -0.621240581 -2.214699887  1.124930918\n",
       " [16] -0.044933609 -0.016190263  0.943836211  0.821221195  0.593901321\n",
       " [21]  0.918977372  0.782136301  0.074564983 -1.989351696  0.619825748\n",
       " [26] -0.056128740 -0.155795507 -1.470752384 -0.478150055  0.417941560\n",
       " [31]  1.358679552 -0.102787727  0.387671612 -0.053805041 -1.377059557\n",
       " [36] -0.414994563 -0.394289954 -0.059313397  1.100025372  0.763175748\n",
       " [41] -0.164523596 -0.253361680  0.696963375  0.556663199 -0.688755695\n",
       " [46] -0.707495157  0.364581962  0.768532925 -0.112346212  0.881107726\n",
       " [51]  0.398105880 -0.612026393  0.341119691 -1.129363096  1.433023702\n",
       " [56]  1.980399899 -0.367221476 -1.044134626  0.569719627 -0.135054604\n",
       " [61]  2.401617761 -0.039240003  0.689739362  0.028002159 -0.743273209\n",
       " [66]  0.188792300 -1.804958629  1.465554862  0.153253338  2.172611670\n",
       " [71]  0.475509529 -0.709946431  0.610726353 -0.934097632 -1.253633400\n",
       " [76]  0.291446236 -0.443291873  0.001105352  0.074341324 -0.589520946\n",
       " [81] -0.568668733 -0.135178615  1.178086997 -1.523566800  0.593946188\n",
       " [86]  0.332950371  1.063099837 -0.304183924  0.370018810  0.267098791\n",
       " [91] -0.542520031  1.207867806  1.160402616  0.700213650  1.586833455\n",
       " [96]  0.558486426 -1.276592208 -0.573265414 -1.224612615 -0.473400636"
      ]
     },
     "metadata": {},
     "output_type": "display_data"
    }
   ],
   "source": [
    "set.seed(1)\n",
    "popul = rnorm(100)\n",
    "popul"
   ]
  },
  {
   "cell_type": "code",
   "execution_count": 106,
   "id": "ead08dee",
   "metadata": {
    "ExecuteTime": {
     "end_time": "2022-12-12T15:53:27.499818Z",
     "start_time": "2022-12-12T15:53:27.478Z"
    }
   },
   "outputs": [
    {
     "data": {
      "text/html": [
       "<style>\n",
       ".list-inline {list-style: none; margin:0; padding: 0}\n",
       ".list-inline>li {display: inline-block}\n",
       ".list-inline>li:not(:last-child)::after {content: \"\\00b7\"; padding: 0 .5ex}\n",
       "</style>\n",
       "<ol class=list-inline><li>-0.626</li><li>0.184</li><li>-0.836</li><li>1.595</li><li>0.33</li><li>-0.82</li><li>0.487</li><li>0.738</li><li>0.576</li><li>-0.305</li><li>1.512</li><li>0.39</li><li>-0.621</li><li>-2.215</li><li>1.125</li><li>-0.045</li><li>-0.016</li><li>0.944</li><li>0.821</li><li>0.594</li><li>0.919</li><li>0.782</li><li>0.075</li><li>-1.989</li><li>0.62</li><li>-0.056</li><li>-0.156</li><li>-1.471</li><li>-0.478</li><li>0.418</li><li>1.359</li><li>-0.103</li><li>0.388</li><li>-0.054</li><li>-1.377</li><li>-0.415</li><li>-0.394</li><li>-0.059</li><li>1.1</li><li>0.763</li><li>-0.165</li><li>-0.253</li><li>0.697</li><li>0.557</li><li>-0.689</li><li>-0.707</li><li>0.365</li><li>0.769</li><li>-0.112</li><li>0.881</li><li>0.398</li><li>-0.612</li><li>0.341</li><li>-1.129</li><li>1.433</li><li>1.98</li><li>-0.367</li><li>-1.044</li><li>0.57</li><li>-0.135</li><li>2.402</li><li>-0.039</li><li>0.69</li><li>0.028</li><li>-0.743</li><li>0.189</li><li>-1.805</li><li>1.466</li><li>0.153</li><li>2.173</li><li>0.476</li><li>-0.71</li><li>0.611</li><li>-0.934</li><li>-1.254</li><li>0.291</li><li>-0.443</li><li>0.001</li><li>0.074</li><li>-0.59</li><li>-0.569</li><li>-0.135</li><li>1.178</li><li>-1.524</li><li>0.594</li><li>0.333</li><li>1.063</li><li>-0.304</li><li>0.37</li><li>0.267</li><li>-0.543</li><li>1.208</li><li>1.16</li><li>0.7</li><li>1.587</li><li>0.558</li><li>-1.277</li><li>-0.573</li><li>-1.225</li><li>-0.473</li></ol>\n"
      ],
      "text/latex": [
       "\\begin{enumerate*}\n",
       "\\item -0.626\n",
       "\\item 0.184\n",
       "\\item -0.836\n",
       "\\item 1.595\n",
       "\\item 0.33\n",
       "\\item -0.82\n",
       "\\item 0.487\n",
       "\\item 0.738\n",
       "\\item 0.576\n",
       "\\item -0.305\n",
       "\\item 1.512\n",
       "\\item 0.39\n",
       "\\item -0.621\n",
       "\\item -2.215\n",
       "\\item 1.125\n",
       "\\item -0.045\n",
       "\\item -0.016\n",
       "\\item 0.944\n",
       "\\item 0.821\n",
       "\\item 0.594\n",
       "\\item 0.919\n",
       "\\item 0.782\n",
       "\\item 0.075\n",
       "\\item -1.989\n",
       "\\item 0.62\n",
       "\\item -0.056\n",
       "\\item -0.156\n",
       "\\item -1.471\n",
       "\\item -0.478\n",
       "\\item 0.418\n",
       "\\item 1.359\n",
       "\\item -0.103\n",
       "\\item 0.388\n",
       "\\item -0.054\n",
       "\\item -1.377\n",
       "\\item -0.415\n",
       "\\item -0.394\n",
       "\\item -0.059\n",
       "\\item 1.1\n",
       "\\item 0.763\n",
       "\\item -0.165\n",
       "\\item -0.253\n",
       "\\item 0.697\n",
       "\\item 0.557\n",
       "\\item -0.689\n",
       "\\item -0.707\n",
       "\\item 0.365\n",
       "\\item 0.769\n",
       "\\item -0.112\n",
       "\\item 0.881\n",
       "\\item 0.398\n",
       "\\item -0.612\n",
       "\\item 0.341\n",
       "\\item -1.129\n",
       "\\item 1.433\n",
       "\\item 1.98\n",
       "\\item -0.367\n",
       "\\item -1.044\n",
       "\\item 0.57\n",
       "\\item -0.135\n",
       "\\item 2.402\n",
       "\\item -0.039\n",
       "\\item 0.69\n",
       "\\item 0.028\n",
       "\\item -0.743\n",
       "\\item 0.189\n",
       "\\item -1.805\n",
       "\\item 1.466\n",
       "\\item 0.153\n",
       "\\item 2.173\n",
       "\\item 0.476\n",
       "\\item -0.71\n",
       "\\item 0.611\n",
       "\\item -0.934\n",
       "\\item -1.254\n",
       "\\item 0.291\n",
       "\\item -0.443\n",
       "\\item 0.001\n",
       "\\item 0.074\n",
       "\\item -0.59\n",
       "\\item -0.569\n",
       "\\item -0.135\n",
       "\\item 1.178\n",
       "\\item -1.524\n",
       "\\item 0.594\n",
       "\\item 0.333\n",
       "\\item 1.063\n",
       "\\item -0.304\n",
       "\\item 0.37\n",
       "\\item 0.267\n",
       "\\item -0.543\n",
       "\\item 1.208\n",
       "\\item 1.16\n",
       "\\item 0.7\n",
       "\\item 1.587\n",
       "\\item 0.558\n",
       "\\item -1.277\n",
       "\\item -0.573\n",
       "\\item -1.225\n",
       "\\item -0.473\n",
       "\\end{enumerate*}\n"
      ],
      "text/markdown": [
       "1. -0.626\n",
       "2. 0.184\n",
       "3. -0.836\n",
       "4. 1.595\n",
       "5. 0.33\n",
       "6. -0.82\n",
       "7. 0.487\n",
       "8. 0.738\n",
       "9. 0.576\n",
       "10. -0.305\n",
       "11. 1.512\n",
       "12. 0.39\n",
       "13. -0.621\n",
       "14. -2.215\n",
       "15. 1.125\n",
       "16. -0.045\n",
       "17. -0.016\n",
       "18. 0.944\n",
       "19. 0.821\n",
       "20. 0.594\n",
       "21. 0.919\n",
       "22. 0.782\n",
       "23. 0.075\n",
       "24. -1.989\n",
       "25. 0.62\n",
       "26. -0.056\n",
       "27. -0.156\n",
       "28. -1.471\n",
       "29. -0.478\n",
       "30. 0.418\n",
       "31. 1.359\n",
       "32. -0.103\n",
       "33. 0.388\n",
       "34. -0.054\n",
       "35. -1.377\n",
       "36. -0.415\n",
       "37. -0.394\n",
       "38. -0.059\n",
       "39. 1.1\n",
       "40. 0.763\n",
       "41. -0.165\n",
       "42. -0.253\n",
       "43. 0.697\n",
       "44. 0.557\n",
       "45. -0.689\n",
       "46. -0.707\n",
       "47. 0.365\n",
       "48. 0.769\n",
       "49. -0.112\n",
       "50. 0.881\n",
       "51. 0.398\n",
       "52. -0.612\n",
       "53. 0.341\n",
       "54. -1.129\n",
       "55. 1.433\n",
       "56. 1.98\n",
       "57. -0.367\n",
       "58. -1.044\n",
       "59. 0.57\n",
       "60. -0.135\n",
       "61. 2.402\n",
       "62. -0.039\n",
       "63. 0.69\n",
       "64. 0.028\n",
       "65. -0.743\n",
       "66. 0.189\n",
       "67. -1.805\n",
       "68. 1.466\n",
       "69. 0.153\n",
       "70. 2.173\n",
       "71. 0.476\n",
       "72. -0.71\n",
       "73. 0.611\n",
       "74. -0.934\n",
       "75. -1.254\n",
       "76. 0.291\n",
       "77. -0.443\n",
       "78. 0.001\n",
       "79. 0.074\n",
       "80. -0.59\n",
       "81. -0.569\n",
       "82. -0.135\n",
       "83. 1.178\n",
       "84. -1.524\n",
       "85. 0.594\n",
       "86. 0.333\n",
       "87. 1.063\n",
       "88. -0.304\n",
       "89. 0.37\n",
       "90. 0.267\n",
       "91. -0.543\n",
       "92. 1.208\n",
       "93. 1.16\n",
       "94. 0.7\n",
       "95. 1.587\n",
       "96. 0.558\n",
       "97. -1.277\n",
       "98. -0.573\n",
       "99. -1.225\n",
       "100. -0.473\n",
       "\n",
       "\n"
      ],
      "text/plain": [
       "  [1] -0.626  0.184 -0.836  1.595  0.330 -0.820  0.487  0.738  0.576 -0.305\n",
       " [11]  1.512  0.390 -0.621 -2.215  1.125 -0.045 -0.016  0.944  0.821  0.594\n",
       " [21]  0.919  0.782  0.075 -1.989  0.620 -0.056 -0.156 -1.471 -0.478  0.418\n",
       " [31]  1.359 -0.103  0.388 -0.054 -1.377 -0.415 -0.394 -0.059  1.100  0.763\n",
       " [41] -0.165 -0.253  0.697  0.557 -0.689 -0.707  0.365  0.769 -0.112  0.881\n",
       " [51]  0.398 -0.612  0.341 -1.129  1.433  1.980 -0.367 -1.044  0.570 -0.135\n",
       " [61]  2.402 -0.039  0.690  0.028 -0.743  0.189 -1.805  1.466  0.153  2.173\n",
       " [71]  0.476 -0.710  0.611 -0.934 -1.254  0.291 -0.443  0.001  0.074 -0.590\n",
       " [81] -0.569 -0.135  1.178 -1.524  0.594  0.333  1.063 -0.304  0.370  0.267\n",
       " [91] -0.543  1.208  1.160  0.700  1.587  0.558 -1.277 -0.573 -1.225 -0.473"
      ]
     },
     "metadata": {},
     "output_type": "display_data"
    }
   ],
   "source": [
    "popul.1 = round(popul,3)\n",
    "popul.1"
   ]
  },
  {
   "cell_type": "code",
   "execution_count": 107,
   "id": "ae7ada7a",
   "metadata": {
    "ExecuteTime": {
     "end_time": "2022-12-12T15:59:25.210299Z",
     "start_time": "2022-12-12T15:59:25.182Z"
    }
   },
   "outputs": [
    {
     "data": {
      "text/html": [
       "<style>\n",
       ".list-inline {list-style: none; margin:0; padding: 0}\n",
       ".list-inline>li {display: inline-block}\n",
       ".list-inline>li:not(:last-child)::after {content: \"\\00b7\"; padding: 0 .5ex}\n",
       "</style>\n",
       "<ol class=list-inline><li>-2.215</li><li>-1.989</li><li>-1.805</li><li>-1.524</li><li>-1.471</li><li>-1.377</li><li>-1.277</li><li>-1.254</li><li>-1.225</li><li>-1.129</li><li>-1.044</li><li>-0.934</li><li>-0.836</li><li>-0.82</li><li>-0.743</li><li>-0.71</li><li>-0.707</li><li>-0.689</li><li>-0.626</li><li>-0.621</li><li>-0.612</li><li>-0.59</li><li>-0.573</li><li>-0.569</li><li>-0.543</li><li>-0.478</li><li>-0.473</li><li>-0.443</li><li>-0.415</li><li>-0.394</li><li>-0.367</li><li>-0.305</li><li>-0.304</li><li>-0.253</li><li>-0.165</li><li>-0.156</li><li>-0.135</li><li>-0.135</li><li>-0.112</li><li>-0.103</li><li>-0.059</li><li>-0.056</li><li>-0.054</li><li>-0.045</li><li>-0.039</li><li>-0.016</li><li>0.001</li><li>0.028</li><li>0.074</li><li>0.075</li><li>0.153</li><li>0.184</li><li>0.189</li><li>0.267</li><li>0.291</li><li>0.33</li><li>0.333</li><li>0.341</li><li>0.365</li><li>0.37</li><li>0.388</li><li>0.39</li><li>0.398</li><li>0.418</li><li>0.476</li><li>0.487</li><li>0.557</li><li>0.558</li><li>0.57</li><li>0.576</li><li>0.594</li><li>0.594</li><li>0.611</li><li>0.62</li><li>0.69</li><li>0.697</li><li>0.7</li><li>0.738</li><li>0.763</li><li>0.769</li><li>0.782</li><li>0.821</li><li>0.881</li><li>0.919</li><li>0.944</li><li>1.063</li><li>1.1</li><li>1.125</li><li>1.16</li><li>1.178</li><li>1.208</li><li>1.359</li><li>1.433</li><li>1.466</li><li>1.512</li><li>1.587</li><li>1.595</li><li>1.98</li><li>2.173</li><li>2.402</li></ol>\n"
      ],
      "text/latex": [
       "\\begin{enumerate*}\n",
       "\\item -2.215\n",
       "\\item -1.989\n",
       "\\item -1.805\n",
       "\\item -1.524\n",
       "\\item -1.471\n",
       "\\item -1.377\n",
       "\\item -1.277\n",
       "\\item -1.254\n",
       "\\item -1.225\n",
       "\\item -1.129\n",
       "\\item -1.044\n",
       "\\item -0.934\n",
       "\\item -0.836\n",
       "\\item -0.82\n",
       "\\item -0.743\n",
       "\\item -0.71\n",
       "\\item -0.707\n",
       "\\item -0.689\n",
       "\\item -0.626\n",
       "\\item -0.621\n",
       "\\item -0.612\n",
       "\\item -0.59\n",
       "\\item -0.573\n",
       "\\item -0.569\n",
       "\\item -0.543\n",
       "\\item -0.478\n",
       "\\item -0.473\n",
       "\\item -0.443\n",
       "\\item -0.415\n",
       "\\item -0.394\n",
       "\\item -0.367\n",
       "\\item -0.305\n",
       "\\item -0.304\n",
       "\\item -0.253\n",
       "\\item -0.165\n",
       "\\item -0.156\n",
       "\\item -0.135\n",
       "\\item -0.135\n",
       "\\item -0.112\n",
       "\\item -0.103\n",
       "\\item -0.059\n",
       "\\item -0.056\n",
       "\\item -0.054\n",
       "\\item -0.045\n",
       "\\item -0.039\n",
       "\\item -0.016\n",
       "\\item 0.001\n",
       "\\item 0.028\n",
       "\\item 0.074\n",
       "\\item 0.075\n",
       "\\item 0.153\n",
       "\\item 0.184\n",
       "\\item 0.189\n",
       "\\item 0.267\n",
       "\\item 0.291\n",
       "\\item 0.33\n",
       "\\item 0.333\n",
       "\\item 0.341\n",
       "\\item 0.365\n",
       "\\item 0.37\n",
       "\\item 0.388\n",
       "\\item 0.39\n",
       "\\item 0.398\n",
       "\\item 0.418\n",
       "\\item 0.476\n",
       "\\item 0.487\n",
       "\\item 0.557\n",
       "\\item 0.558\n",
       "\\item 0.57\n",
       "\\item 0.576\n",
       "\\item 0.594\n",
       "\\item 0.594\n",
       "\\item 0.611\n",
       "\\item 0.62\n",
       "\\item 0.69\n",
       "\\item 0.697\n",
       "\\item 0.7\n",
       "\\item 0.738\n",
       "\\item 0.763\n",
       "\\item 0.769\n",
       "\\item 0.782\n",
       "\\item 0.821\n",
       "\\item 0.881\n",
       "\\item 0.919\n",
       "\\item 0.944\n",
       "\\item 1.063\n",
       "\\item 1.1\n",
       "\\item 1.125\n",
       "\\item 1.16\n",
       "\\item 1.178\n",
       "\\item 1.208\n",
       "\\item 1.359\n",
       "\\item 1.433\n",
       "\\item 1.466\n",
       "\\item 1.512\n",
       "\\item 1.587\n",
       "\\item 1.595\n",
       "\\item 1.98\n",
       "\\item 2.173\n",
       "\\item 2.402\n",
       "\\end{enumerate*}\n"
      ],
      "text/markdown": [
       "1. -2.215\n",
       "2. -1.989\n",
       "3. -1.805\n",
       "4. -1.524\n",
       "5. -1.471\n",
       "6. -1.377\n",
       "7. -1.277\n",
       "8. -1.254\n",
       "9. -1.225\n",
       "10. -1.129\n",
       "11. -1.044\n",
       "12. -0.934\n",
       "13. -0.836\n",
       "14. -0.82\n",
       "15. -0.743\n",
       "16. -0.71\n",
       "17. -0.707\n",
       "18. -0.689\n",
       "19. -0.626\n",
       "20. -0.621\n",
       "21. -0.612\n",
       "22. -0.59\n",
       "23. -0.573\n",
       "24. -0.569\n",
       "25. -0.543\n",
       "26. -0.478\n",
       "27. -0.473\n",
       "28. -0.443\n",
       "29. -0.415\n",
       "30. -0.394\n",
       "31. -0.367\n",
       "32. -0.305\n",
       "33. -0.304\n",
       "34. -0.253\n",
       "35. -0.165\n",
       "36. -0.156\n",
       "37. -0.135\n",
       "38. -0.135\n",
       "39. -0.112\n",
       "40. -0.103\n",
       "41. -0.059\n",
       "42. -0.056\n",
       "43. -0.054\n",
       "44. -0.045\n",
       "45. -0.039\n",
       "46. -0.016\n",
       "47. 0.001\n",
       "48. 0.028\n",
       "49. 0.074\n",
       "50. 0.075\n",
       "51. 0.153\n",
       "52. 0.184\n",
       "53. 0.189\n",
       "54. 0.267\n",
       "55. 0.291\n",
       "56. 0.33\n",
       "57. 0.333\n",
       "58. 0.341\n",
       "59. 0.365\n",
       "60. 0.37\n",
       "61. 0.388\n",
       "62. 0.39\n",
       "63. 0.398\n",
       "64. 0.418\n",
       "65. 0.476\n",
       "66. 0.487\n",
       "67. 0.557\n",
       "68. 0.558\n",
       "69. 0.57\n",
       "70. 0.576\n",
       "71. 0.594\n",
       "72. 0.594\n",
       "73. 0.611\n",
       "74. 0.62\n",
       "75. 0.69\n",
       "76. 0.697\n",
       "77. 0.7\n",
       "78. 0.738\n",
       "79. 0.763\n",
       "80. 0.769\n",
       "81. 0.782\n",
       "82. 0.821\n",
       "83. 0.881\n",
       "84. 0.919\n",
       "85. 0.944\n",
       "86. 1.063\n",
       "87. 1.1\n",
       "88. 1.125\n",
       "89. 1.16\n",
       "90. 1.178\n",
       "91. 1.208\n",
       "92. 1.359\n",
       "93. 1.433\n",
       "94. 1.466\n",
       "95. 1.512\n",
       "96. 1.587\n",
       "97. 1.595\n",
       "98. 1.98\n",
       "99. 2.173\n",
       "100. 2.402\n",
       "\n",
       "\n"
      ],
      "text/plain": [
       "  [1] -2.215 -1.989 -1.805 -1.524 -1.471 -1.377 -1.277 -1.254 -1.225 -1.129\n",
       " [11] -1.044 -0.934 -0.836 -0.820 -0.743 -0.710 -0.707 -0.689 -0.626 -0.621\n",
       " [21] -0.612 -0.590 -0.573 -0.569 -0.543 -0.478 -0.473 -0.443 -0.415 -0.394\n",
       " [31] -0.367 -0.305 -0.304 -0.253 -0.165 -0.156 -0.135 -0.135 -0.112 -0.103\n",
       " [41] -0.059 -0.056 -0.054 -0.045 -0.039 -0.016  0.001  0.028  0.074  0.075\n",
       " [51]  0.153  0.184  0.189  0.267  0.291  0.330  0.333  0.341  0.365  0.370\n",
       " [61]  0.388  0.390  0.398  0.418  0.476  0.487  0.557  0.558  0.570  0.576\n",
       " [71]  0.594  0.594  0.611  0.620  0.690  0.697  0.700  0.738  0.763  0.769\n",
       " [81]  0.782  0.821  0.881  0.919  0.944  1.063  1.100  1.125  1.160  1.178\n",
       " [91]  1.208  1.359  1.433  1.466  1.512  1.587  1.595  1.980  2.173  2.402"
      ]
     },
     "metadata": {},
     "output_type": "display_data"
    }
   ],
   "source": [
    "sort(popul.1)"
   ]
  },
  {
   "cell_type": "code",
   "execution_count": 108,
   "id": "da150289",
   "metadata": {
    "ExecuteTime": {
     "end_time": "2022-12-12T16:00:01.923439Z",
     "start_time": "2022-12-12T16:00:01.900Z"
    }
   },
   "outputs": [
    {
     "data": {
      "text/html": [
       "<style>\n",
       ".list-inline {list-style: none; margin:0; padding: 0}\n",
       ".list-inline>li {display: inline-block}\n",
       ".list-inline>li:not(:last-child)::after {content: \"\\00b7\"; padding: 0 .5ex}\n",
       "</style>\n",
       "<ol class=list-inline><li>2.402</li><li>2.173</li><li>1.98</li><li>1.595</li><li>1.587</li><li>1.512</li><li>1.466</li><li>1.433</li><li>1.359</li><li>1.208</li><li>1.178</li><li>1.16</li><li>1.125</li><li>1.1</li><li>1.063</li><li>0.944</li><li>0.919</li><li>0.881</li><li>0.821</li><li>0.782</li><li>0.769</li><li>0.763</li><li>0.738</li><li>0.7</li><li>0.697</li><li>0.69</li><li>0.62</li><li>0.611</li><li>0.594</li><li>0.594</li><li>0.576</li><li>0.57</li><li>0.558</li><li>0.557</li><li>0.487</li><li>0.476</li><li>0.418</li><li>0.398</li><li>0.39</li><li>0.388</li><li>0.37</li><li>0.365</li><li>0.341</li><li>0.333</li><li>0.33</li><li>0.291</li><li>0.267</li><li>0.189</li><li>0.184</li><li>0.153</li><li>0.075</li><li>0.074</li><li>0.028</li><li>0.001</li><li>-0.016</li><li>-0.039</li><li>-0.045</li><li>-0.054</li><li>-0.056</li><li>-0.059</li><li>-0.103</li><li>-0.112</li><li>-0.135</li><li>-0.135</li><li>-0.156</li><li>-0.165</li><li>-0.253</li><li>-0.304</li><li>-0.305</li><li>-0.367</li><li>-0.394</li><li>-0.415</li><li>-0.443</li><li>-0.473</li><li>-0.478</li><li>-0.543</li><li>-0.569</li><li>-0.573</li><li>-0.59</li><li>-0.612</li><li>-0.621</li><li>-0.626</li><li>-0.689</li><li>-0.707</li><li>-0.71</li><li>-0.743</li><li>-0.82</li><li>-0.836</li><li>-0.934</li><li>-1.044</li><li>-1.129</li><li>-1.225</li><li>-1.254</li><li>-1.277</li><li>-1.377</li><li>-1.471</li><li>-1.524</li><li>-1.805</li><li>-1.989</li><li>-2.215</li></ol>\n"
      ],
      "text/latex": [
       "\\begin{enumerate*}\n",
       "\\item 2.402\n",
       "\\item 2.173\n",
       "\\item 1.98\n",
       "\\item 1.595\n",
       "\\item 1.587\n",
       "\\item 1.512\n",
       "\\item 1.466\n",
       "\\item 1.433\n",
       "\\item 1.359\n",
       "\\item 1.208\n",
       "\\item 1.178\n",
       "\\item 1.16\n",
       "\\item 1.125\n",
       "\\item 1.1\n",
       "\\item 1.063\n",
       "\\item 0.944\n",
       "\\item 0.919\n",
       "\\item 0.881\n",
       "\\item 0.821\n",
       "\\item 0.782\n",
       "\\item 0.769\n",
       "\\item 0.763\n",
       "\\item 0.738\n",
       "\\item 0.7\n",
       "\\item 0.697\n",
       "\\item 0.69\n",
       "\\item 0.62\n",
       "\\item 0.611\n",
       "\\item 0.594\n",
       "\\item 0.594\n",
       "\\item 0.576\n",
       "\\item 0.57\n",
       "\\item 0.558\n",
       "\\item 0.557\n",
       "\\item 0.487\n",
       "\\item 0.476\n",
       "\\item 0.418\n",
       "\\item 0.398\n",
       "\\item 0.39\n",
       "\\item 0.388\n",
       "\\item 0.37\n",
       "\\item 0.365\n",
       "\\item 0.341\n",
       "\\item 0.333\n",
       "\\item 0.33\n",
       "\\item 0.291\n",
       "\\item 0.267\n",
       "\\item 0.189\n",
       "\\item 0.184\n",
       "\\item 0.153\n",
       "\\item 0.075\n",
       "\\item 0.074\n",
       "\\item 0.028\n",
       "\\item 0.001\n",
       "\\item -0.016\n",
       "\\item -0.039\n",
       "\\item -0.045\n",
       "\\item -0.054\n",
       "\\item -0.056\n",
       "\\item -0.059\n",
       "\\item -0.103\n",
       "\\item -0.112\n",
       "\\item -0.135\n",
       "\\item -0.135\n",
       "\\item -0.156\n",
       "\\item -0.165\n",
       "\\item -0.253\n",
       "\\item -0.304\n",
       "\\item -0.305\n",
       "\\item -0.367\n",
       "\\item -0.394\n",
       "\\item -0.415\n",
       "\\item -0.443\n",
       "\\item -0.473\n",
       "\\item -0.478\n",
       "\\item -0.543\n",
       "\\item -0.569\n",
       "\\item -0.573\n",
       "\\item -0.59\n",
       "\\item -0.612\n",
       "\\item -0.621\n",
       "\\item -0.626\n",
       "\\item -0.689\n",
       "\\item -0.707\n",
       "\\item -0.71\n",
       "\\item -0.743\n",
       "\\item -0.82\n",
       "\\item -0.836\n",
       "\\item -0.934\n",
       "\\item -1.044\n",
       "\\item -1.129\n",
       "\\item -1.225\n",
       "\\item -1.254\n",
       "\\item -1.277\n",
       "\\item -1.377\n",
       "\\item -1.471\n",
       "\\item -1.524\n",
       "\\item -1.805\n",
       "\\item -1.989\n",
       "\\item -2.215\n",
       "\\end{enumerate*}\n"
      ],
      "text/markdown": [
       "1. 2.402\n",
       "2. 2.173\n",
       "3. 1.98\n",
       "4. 1.595\n",
       "5. 1.587\n",
       "6. 1.512\n",
       "7. 1.466\n",
       "8. 1.433\n",
       "9. 1.359\n",
       "10. 1.208\n",
       "11. 1.178\n",
       "12. 1.16\n",
       "13. 1.125\n",
       "14. 1.1\n",
       "15. 1.063\n",
       "16. 0.944\n",
       "17. 0.919\n",
       "18. 0.881\n",
       "19. 0.821\n",
       "20. 0.782\n",
       "21. 0.769\n",
       "22. 0.763\n",
       "23. 0.738\n",
       "24. 0.7\n",
       "25. 0.697\n",
       "26. 0.69\n",
       "27. 0.62\n",
       "28. 0.611\n",
       "29. 0.594\n",
       "30. 0.594\n",
       "31. 0.576\n",
       "32. 0.57\n",
       "33. 0.558\n",
       "34. 0.557\n",
       "35. 0.487\n",
       "36. 0.476\n",
       "37. 0.418\n",
       "38. 0.398\n",
       "39. 0.39\n",
       "40. 0.388\n",
       "41. 0.37\n",
       "42. 0.365\n",
       "43. 0.341\n",
       "44. 0.333\n",
       "45. 0.33\n",
       "46. 0.291\n",
       "47. 0.267\n",
       "48. 0.189\n",
       "49. 0.184\n",
       "50. 0.153\n",
       "51. 0.075\n",
       "52. 0.074\n",
       "53. 0.028\n",
       "54. 0.001\n",
       "55. -0.016\n",
       "56. -0.039\n",
       "57. -0.045\n",
       "58. -0.054\n",
       "59. -0.056\n",
       "60. -0.059\n",
       "61. -0.103\n",
       "62. -0.112\n",
       "63. -0.135\n",
       "64. -0.135\n",
       "65. -0.156\n",
       "66. -0.165\n",
       "67. -0.253\n",
       "68. -0.304\n",
       "69. -0.305\n",
       "70. -0.367\n",
       "71. -0.394\n",
       "72. -0.415\n",
       "73. -0.443\n",
       "74. -0.473\n",
       "75. -0.478\n",
       "76. -0.543\n",
       "77. -0.569\n",
       "78. -0.573\n",
       "79. -0.59\n",
       "80. -0.612\n",
       "81. -0.621\n",
       "82. -0.626\n",
       "83. -0.689\n",
       "84. -0.707\n",
       "85. -0.71\n",
       "86. -0.743\n",
       "87. -0.82\n",
       "88. -0.836\n",
       "89. -0.934\n",
       "90. -1.044\n",
       "91. -1.129\n",
       "92. -1.225\n",
       "93. -1.254\n",
       "94. -1.277\n",
       "95. -1.377\n",
       "96. -1.471\n",
       "97. -1.524\n",
       "98. -1.805\n",
       "99. -1.989\n",
       "100. -2.215\n",
       "\n",
       "\n"
      ],
      "text/plain": [
       "  [1]  2.402  2.173  1.980  1.595  1.587  1.512  1.466  1.433  1.359  1.208\n",
       " [11]  1.178  1.160  1.125  1.100  1.063  0.944  0.919  0.881  0.821  0.782\n",
       " [21]  0.769  0.763  0.738  0.700  0.697  0.690  0.620  0.611  0.594  0.594\n",
       " [31]  0.576  0.570  0.558  0.557  0.487  0.476  0.418  0.398  0.390  0.388\n",
       " [41]  0.370  0.365  0.341  0.333  0.330  0.291  0.267  0.189  0.184  0.153\n",
       " [51]  0.075  0.074  0.028  0.001 -0.016 -0.039 -0.045 -0.054 -0.056 -0.059\n",
       " [61] -0.103 -0.112 -0.135 -0.135 -0.156 -0.165 -0.253 -0.304 -0.305 -0.367\n",
       " [71] -0.394 -0.415 -0.443 -0.473 -0.478 -0.543 -0.569 -0.573 -0.590 -0.612\n",
       " [81] -0.621 -0.626 -0.689 -0.707 -0.710 -0.743 -0.820 -0.836 -0.934 -1.044\n",
       " [91] -1.129 -1.225 -1.254 -1.277 -1.377 -1.471 -1.524 -1.805 -1.989 -2.215"
      ]
     },
     "metadata": {},
     "output_type": "display_data"
    }
   ],
   "source": [
    "sort(popul.1,decreasing = TRUE)"
   ]
  },
  {
   "cell_type": "code",
   "execution_count": 109,
   "id": "6dd1accd",
   "metadata": {
    "ExecuteTime": {
     "end_time": "2022-12-12T16:04:28.962984Z",
     "start_time": "2022-12-12T16:04:28.941Z"
    }
   },
   "outputs": [
    {
     "data": {
      "text/html": [
       "<style>\n",
       ".list-inline {list-style: none; margin:0; padding: 0}\n",
       ".list-inline>li {display: inline-block}\n",
       ".list-inline>li:not(:last-child)::after {content: \"\\00b7\"; padding: 0 .5ex}\n",
       "</style>\n",
       "<ol class=list-inline><li>'z'</li><li>'m'</li><li>'z'</li><li>'b'</li><li>'b'</li><li>'s'</li><li>'q'</li><li>'b'</li><li>'k'</li><li>'c'</li><li>'c'</li><li>'n'</li><li>'s'</li><li>'m'</li><li>'k'</li><li>'p'</li><li>'h'</li><li>'i'</li><li>'r'</li><li>'z'</li><li>'x'</li><li>'j'</li><li>'o'</li><li>'t'</li><li>'e'</li><li>'y'</li><li>'e'</li><li>'g'</li><li>'e'</li><li>'l'</li><li>'n'</li><li>'f'</li><li>'t'</li><li>'p'</li><li>'o'</li><li>'b'</li><li>'a'</li><li>'c'</li><li>'x'</li><li>'i'</li><li>'f'</li><li>'q'</li><li>'t'</li><li>'e'</li><li>'i'</li><li>'l'</li><li>'u'</li><li>'h'</li><li>'d'</li><li>'q'</li><li>'i'</li><li>'u'</li><li>'a'</li><li>'u'</li><li>'t'</li><li>'j'</li><li>'n'</li><li>'j'</li><li>'y'</li><li>'x'</li><li>'u'</li><li>'u'</li><li>'v'</li><li>'f'</li><li>'r'</li><li>'p'</li><li>'b'</li><li>'h'</li><li>'n'</li><li>'d'</li><li>'z'</li><li>'h'</li><li>'u'</li><li>'e'</li><li>'h'</li><li>'x'</li><li>'g'</li><li>'t'</li><li>'d'</li><li>'q'</li><li>'j'</li><li>'d'</li><li>'y'</li><li>'i'</li><li>'i'</li><li>'o'</li><li>'y'</li><li>'f'</li><li>'f'</li><li>'d'</li><li>'c'</li><li>'c'</li><li>'m'</li><li>'i'</li><li>'y'</li><li>'g'</li><li>'y'</li><li>'n'</li><li>'e'</li><li>'g'</li></ol>\n"
      ],
      "text/latex": [
       "\\begin{enumerate*}\n",
       "\\item 'z'\n",
       "\\item 'm'\n",
       "\\item 'z'\n",
       "\\item 'b'\n",
       "\\item 'b'\n",
       "\\item 's'\n",
       "\\item 'q'\n",
       "\\item 'b'\n",
       "\\item 'k'\n",
       "\\item 'c'\n",
       "\\item 'c'\n",
       "\\item 'n'\n",
       "\\item 's'\n",
       "\\item 'm'\n",
       "\\item 'k'\n",
       "\\item 'p'\n",
       "\\item 'h'\n",
       "\\item 'i'\n",
       "\\item 'r'\n",
       "\\item 'z'\n",
       "\\item 'x'\n",
       "\\item 'j'\n",
       "\\item 'o'\n",
       "\\item 't'\n",
       "\\item 'e'\n",
       "\\item 'y'\n",
       "\\item 'e'\n",
       "\\item 'g'\n",
       "\\item 'e'\n",
       "\\item 'l'\n",
       "\\item 'n'\n",
       "\\item 'f'\n",
       "\\item 't'\n",
       "\\item 'p'\n",
       "\\item 'o'\n",
       "\\item 'b'\n",
       "\\item 'a'\n",
       "\\item 'c'\n",
       "\\item 'x'\n",
       "\\item 'i'\n",
       "\\item 'f'\n",
       "\\item 'q'\n",
       "\\item 't'\n",
       "\\item 'e'\n",
       "\\item 'i'\n",
       "\\item 'l'\n",
       "\\item 'u'\n",
       "\\item 'h'\n",
       "\\item 'd'\n",
       "\\item 'q'\n",
       "\\item 'i'\n",
       "\\item 'u'\n",
       "\\item 'a'\n",
       "\\item 'u'\n",
       "\\item 't'\n",
       "\\item 'j'\n",
       "\\item 'n'\n",
       "\\item 'j'\n",
       "\\item 'y'\n",
       "\\item 'x'\n",
       "\\item 'u'\n",
       "\\item 'u'\n",
       "\\item 'v'\n",
       "\\item 'f'\n",
       "\\item 'r'\n",
       "\\item 'p'\n",
       "\\item 'b'\n",
       "\\item 'h'\n",
       "\\item 'n'\n",
       "\\item 'd'\n",
       "\\item 'z'\n",
       "\\item 'h'\n",
       "\\item 'u'\n",
       "\\item 'e'\n",
       "\\item 'h'\n",
       "\\item 'x'\n",
       "\\item 'g'\n",
       "\\item 't'\n",
       "\\item 'd'\n",
       "\\item 'q'\n",
       "\\item 'j'\n",
       "\\item 'd'\n",
       "\\item 'y'\n",
       "\\item 'i'\n",
       "\\item 'i'\n",
       "\\item 'o'\n",
       "\\item 'y'\n",
       "\\item 'f'\n",
       "\\item 'f'\n",
       "\\item 'd'\n",
       "\\item 'c'\n",
       "\\item 'c'\n",
       "\\item 'm'\n",
       "\\item 'i'\n",
       "\\item 'y'\n",
       "\\item 'g'\n",
       "\\item 'y'\n",
       "\\item 'n'\n",
       "\\item 'e'\n",
       "\\item 'g'\n",
       "\\end{enumerate*}\n"
      ],
      "text/markdown": [
       "1. 'z'\n",
       "2. 'm'\n",
       "3. 'z'\n",
       "4. 'b'\n",
       "5. 'b'\n",
       "6. 's'\n",
       "7. 'q'\n",
       "8. 'b'\n",
       "9. 'k'\n",
       "10. 'c'\n",
       "11. 'c'\n",
       "12. 'n'\n",
       "13. 's'\n",
       "14. 'm'\n",
       "15. 'k'\n",
       "16. 'p'\n",
       "17. 'h'\n",
       "18. 'i'\n",
       "19. 'r'\n",
       "20. 'z'\n",
       "21. 'x'\n",
       "22. 'j'\n",
       "23. 'o'\n",
       "24. 't'\n",
       "25. 'e'\n",
       "26. 'y'\n",
       "27. 'e'\n",
       "28. 'g'\n",
       "29. 'e'\n",
       "30. 'l'\n",
       "31. 'n'\n",
       "32. 'f'\n",
       "33. 't'\n",
       "34. 'p'\n",
       "35. 'o'\n",
       "36. 'b'\n",
       "37. 'a'\n",
       "38. 'c'\n",
       "39. 'x'\n",
       "40. 'i'\n",
       "41. 'f'\n",
       "42. 'q'\n",
       "43. 't'\n",
       "44. 'e'\n",
       "45. 'i'\n",
       "46. 'l'\n",
       "47. 'u'\n",
       "48. 'h'\n",
       "49. 'd'\n",
       "50. 'q'\n",
       "51. 'i'\n",
       "52. 'u'\n",
       "53. 'a'\n",
       "54. 'u'\n",
       "55. 't'\n",
       "56. 'j'\n",
       "57. 'n'\n",
       "58. 'j'\n",
       "59. 'y'\n",
       "60. 'x'\n",
       "61. 'u'\n",
       "62. 'u'\n",
       "63. 'v'\n",
       "64. 'f'\n",
       "65. 'r'\n",
       "66. 'p'\n",
       "67. 'b'\n",
       "68. 'h'\n",
       "69. 'n'\n",
       "70. 'd'\n",
       "71. 'z'\n",
       "72. 'h'\n",
       "73. 'u'\n",
       "74. 'e'\n",
       "75. 'h'\n",
       "76. 'x'\n",
       "77. 'g'\n",
       "78. 't'\n",
       "79. 'd'\n",
       "80. 'q'\n",
       "81. 'j'\n",
       "82. 'd'\n",
       "83. 'y'\n",
       "84. 'i'\n",
       "85. 'i'\n",
       "86. 'o'\n",
       "87. 'y'\n",
       "88. 'f'\n",
       "89. 'f'\n",
       "90. 'd'\n",
       "91. 'c'\n",
       "92. 'c'\n",
       "93. 'm'\n",
       "94. 'i'\n",
       "95. 'y'\n",
       "96. 'g'\n",
       "97. 'y'\n",
       "98. 'n'\n",
       "99. 'e'\n",
       "100. 'g'\n",
       "\n",
       "\n"
      ],
      "text/plain": [
       "  [1] \"z\" \"m\" \"z\" \"b\" \"b\" \"s\" \"q\" \"b\" \"k\" \"c\" \"c\" \"n\" \"s\" \"m\" \"k\" \"p\" \"h\" \"i\"\n",
       " [19] \"r\" \"z\" \"x\" \"j\" \"o\" \"t\" \"e\" \"y\" \"e\" \"g\" \"e\" \"l\" \"n\" \"f\" \"t\" \"p\" \"o\" \"b\"\n",
       " [37] \"a\" \"c\" \"x\" \"i\" \"f\" \"q\" \"t\" \"e\" \"i\" \"l\" \"u\" \"h\" \"d\" \"q\" \"i\" \"u\" \"a\" \"u\"\n",
       " [55] \"t\" \"j\" \"n\" \"j\" \"y\" \"x\" \"u\" \"u\" \"v\" \"f\" \"r\" \"p\" \"b\" \"h\" \"n\" \"d\" \"z\" \"h\"\n",
       " [73] \"u\" \"e\" \"h\" \"x\" \"g\" \"t\" \"d\" \"q\" \"j\" \"d\" \"y\" \"i\" \"i\" \"o\" \"y\" \"f\" \"f\" \"d\"\n",
       " [91] \"c\" \"c\" \"m\" \"i\" \"y\" \"g\" \"y\" \"n\" \"e\" \"g\""
      ]
     },
     "metadata": {},
     "output_type": "display_data"
    }
   ],
   "source": [
    "letts = sample(letters,100,replace = TRUE)\n",
    "letts"
   ]
  },
  {
   "cell_type": "code",
   "execution_count": 111,
   "id": "0c9e867b",
   "metadata": {
    "ExecuteTime": {
     "end_time": "2022-12-12T16:05:43.182390Z",
     "start_time": "2022-12-12T16:05:43.138Z"
    }
   },
   "outputs": [
    {
     "data": {
      "text/html": [
       "<table class=\"dataframe\">\n",
       "<caption>A data.frame: 6 × 2</caption>\n",
       "<thead>\n",
       "\t<tr><th></th><th scope=col>letts</th><th scope=col>popul.1</th></tr>\n",
       "\t<tr><th></th><th scope=col>&lt;chr&gt;</th><th scope=col>&lt;dbl&gt;</th></tr>\n",
       "</thead>\n",
       "<tbody>\n",
       "\t<tr><th scope=row>1</th><td>z</td><td>-0.626</td></tr>\n",
       "\t<tr><th scope=row>2</th><td>m</td><td> 0.184</td></tr>\n",
       "\t<tr><th scope=row>3</th><td>z</td><td>-0.836</td></tr>\n",
       "\t<tr><th scope=row>4</th><td>b</td><td> 1.595</td></tr>\n",
       "\t<tr><th scope=row>5</th><td>b</td><td> 0.330</td></tr>\n",
       "\t<tr><th scope=row>6</th><td>s</td><td>-0.820</td></tr>\n",
       "</tbody>\n",
       "</table>\n"
      ],
      "text/latex": [
       "A data.frame: 6 × 2\n",
       "\\begin{tabular}{r|ll}\n",
       "  & letts & popul.1\\\\\n",
       "  & <chr> & <dbl>\\\\\n",
       "\\hline\n",
       "\t1 & z & -0.626\\\\\n",
       "\t2 & m &  0.184\\\\\n",
       "\t3 & z & -0.836\\\\\n",
       "\t4 & b &  1.595\\\\\n",
       "\t5 & b &  0.330\\\\\n",
       "\t6 & s & -0.820\\\\\n",
       "\\end{tabular}\n"
      ],
      "text/markdown": [
       "\n",
       "A data.frame: 6 × 2\n",
       "\n",
       "| <!--/--> | letts &lt;chr&gt; | popul.1 &lt;dbl&gt; |\n",
       "|---|---|---|\n",
       "| 1 | z | -0.626 |\n",
       "| 2 | m |  0.184 |\n",
       "| 3 | z | -0.836 |\n",
       "| 4 | b |  1.595 |\n",
       "| 5 | b |  0.330 |\n",
       "| 6 | s | -0.820 |\n",
       "\n"
      ],
      "text/plain": [
       "  letts popul.1\n",
       "1 z     -0.626 \n",
       "2 m      0.184 \n",
       "3 z     -0.836 \n",
       "4 b      1.595 \n",
       "5 b      0.330 \n",
       "6 s     -0.820 "
      ]
     },
     "metadata": {},
     "output_type": "display_data"
    }
   ],
   "source": [
    "df = data.frame(letts,popul.1)\n",
    "head(df)"
   ]
  },
  {
   "cell_type": "code",
   "execution_count": 112,
   "id": "4b03469a",
   "metadata": {
    "ExecuteTime": {
     "end_time": "2022-12-12T16:08:34.029129Z",
     "start_time": "2022-12-12T16:08:34.007Z"
    }
   },
   "outputs": [
    {
     "data": {
      "text/html": [
       "<style>\n",
       ".list-inline {list-style: none; margin:0; padding: 0}\n",
       ".list-inline>li {display: inline-block}\n",
       ".list-inline>li:not(:last-child)::after {content: \"\\00b7\"; padding: 0 .5ex}\n",
       "</style>\n",
       "<ol class=list-inline><li>14</li><li>24</li><li>67</li><li>84</li><li>28</li><li>35</li><li>97</li><li>75</li><li>99</li><li>54</li><li>58</li><li>74</li><li>3</li><li>6</li><li>65</li><li>72</li><li>46</li><li>45</li><li>1</li><li>13</li><li>52</li><li>80</li><li>98</li><li>81</li><li>91</li><li>29</li><li>100</li><li>77</li><li>36</li><li>37</li><li>57</li><li>10</li><li>88</li><li>42</li><li>41</li><li>27</li><li>60</li><li>82</li><li>49</li><li>32</li><li>38</li><li>26</li><li>34</li><li>16</li><li>62</li><li>17</li><li>78</li><li>64</li><li>79</li><li>23</li><li>69</li><li>2</li><li>66</li><li>90</li><li>76</li><li>5</li><li>86</li><li>53</li><li>47</li><li>89</li><li>33</li><li>12</li><li>51</li><li>30</li><li>71</li><li>7</li><li>44</li><li>96</li><li>59</li><li>9</li><li>20</li><li>85</li><li>73</li><li>25</li><li>63</li><li>43</li><li>94</li><li>8</li><li>40</li><li>48</li><li>22</li><li>19</li><li>50</li><li>21</li><li>18</li><li>87</li><li>39</li><li>15</li><li>93</li><li>83</li><li>92</li><li>31</li><li>55</li><li>68</li><li>11</li><li>95</li><li>4</li><li>56</li><li>70</li><li>61</li></ol>\n"
      ],
      "text/latex": [
       "\\begin{enumerate*}\n",
       "\\item 14\n",
       "\\item 24\n",
       "\\item 67\n",
       "\\item 84\n",
       "\\item 28\n",
       "\\item 35\n",
       "\\item 97\n",
       "\\item 75\n",
       "\\item 99\n",
       "\\item 54\n",
       "\\item 58\n",
       "\\item 74\n",
       "\\item 3\n",
       "\\item 6\n",
       "\\item 65\n",
       "\\item 72\n",
       "\\item 46\n",
       "\\item 45\n",
       "\\item 1\n",
       "\\item 13\n",
       "\\item 52\n",
       "\\item 80\n",
       "\\item 98\n",
       "\\item 81\n",
       "\\item 91\n",
       "\\item 29\n",
       "\\item 100\n",
       "\\item 77\n",
       "\\item 36\n",
       "\\item 37\n",
       "\\item 57\n",
       "\\item 10\n",
       "\\item 88\n",
       "\\item 42\n",
       "\\item 41\n",
       "\\item 27\n",
       "\\item 60\n",
       "\\item 82\n",
       "\\item 49\n",
       "\\item 32\n",
       "\\item 38\n",
       "\\item 26\n",
       "\\item 34\n",
       "\\item 16\n",
       "\\item 62\n",
       "\\item 17\n",
       "\\item 78\n",
       "\\item 64\n",
       "\\item 79\n",
       "\\item 23\n",
       "\\item 69\n",
       "\\item 2\n",
       "\\item 66\n",
       "\\item 90\n",
       "\\item 76\n",
       "\\item 5\n",
       "\\item 86\n",
       "\\item 53\n",
       "\\item 47\n",
       "\\item 89\n",
       "\\item 33\n",
       "\\item 12\n",
       "\\item 51\n",
       "\\item 30\n",
       "\\item 71\n",
       "\\item 7\n",
       "\\item 44\n",
       "\\item 96\n",
       "\\item 59\n",
       "\\item 9\n",
       "\\item 20\n",
       "\\item 85\n",
       "\\item 73\n",
       "\\item 25\n",
       "\\item 63\n",
       "\\item 43\n",
       "\\item 94\n",
       "\\item 8\n",
       "\\item 40\n",
       "\\item 48\n",
       "\\item 22\n",
       "\\item 19\n",
       "\\item 50\n",
       "\\item 21\n",
       "\\item 18\n",
       "\\item 87\n",
       "\\item 39\n",
       "\\item 15\n",
       "\\item 93\n",
       "\\item 83\n",
       "\\item 92\n",
       "\\item 31\n",
       "\\item 55\n",
       "\\item 68\n",
       "\\item 11\n",
       "\\item 95\n",
       "\\item 4\n",
       "\\item 56\n",
       "\\item 70\n",
       "\\item 61\n",
       "\\end{enumerate*}\n"
      ],
      "text/markdown": [
       "1. 14\n",
       "2. 24\n",
       "3. 67\n",
       "4. 84\n",
       "5. 28\n",
       "6. 35\n",
       "7. 97\n",
       "8. 75\n",
       "9. 99\n",
       "10. 54\n",
       "11. 58\n",
       "12. 74\n",
       "13. 3\n",
       "14. 6\n",
       "15. 65\n",
       "16. 72\n",
       "17. 46\n",
       "18. 45\n",
       "19. 1\n",
       "20. 13\n",
       "21. 52\n",
       "22. 80\n",
       "23. 98\n",
       "24. 81\n",
       "25. 91\n",
       "26. 29\n",
       "27. 100\n",
       "28. 77\n",
       "29. 36\n",
       "30. 37\n",
       "31. 57\n",
       "32. 10\n",
       "33. 88\n",
       "34. 42\n",
       "35. 41\n",
       "36. 27\n",
       "37. 60\n",
       "38. 82\n",
       "39. 49\n",
       "40. 32\n",
       "41. 38\n",
       "42. 26\n",
       "43. 34\n",
       "44. 16\n",
       "45. 62\n",
       "46. 17\n",
       "47. 78\n",
       "48. 64\n",
       "49. 79\n",
       "50. 23\n",
       "51. 69\n",
       "52. 2\n",
       "53. 66\n",
       "54. 90\n",
       "55. 76\n",
       "56. 5\n",
       "57. 86\n",
       "58. 53\n",
       "59. 47\n",
       "60. 89\n",
       "61. 33\n",
       "62. 12\n",
       "63. 51\n",
       "64. 30\n",
       "65. 71\n",
       "66. 7\n",
       "67. 44\n",
       "68. 96\n",
       "69. 59\n",
       "70. 9\n",
       "71. 20\n",
       "72. 85\n",
       "73. 73\n",
       "74. 25\n",
       "75. 63\n",
       "76. 43\n",
       "77. 94\n",
       "78. 8\n",
       "79. 40\n",
       "80. 48\n",
       "81. 22\n",
       "82. 19\n",
       "83. 50\n",
       "84. 21\n",
       "85. 18\n",
       "86. 87\n",
       "87. 39\n",
       "88. 15\n",
       "89. 93\n",
       "90. 83\n",
       "91. 92\n",
       "92. 31\n",
       "93. 55\n",
       "94. 68\n",
       "95. 11\n",
       "96. 95\n",
       "97. 4\n",
       "98. 56\n",
       "99. 70\n",
       "100. 61\n",
       "\n",
       "\n"
      ],
      "text/plain": [
       "  [1]  14  24  67  84  28  35  97  75  99  54  58  74   3   6  65  72  46  45\n",
       " [19]   1  13  52  80  98  81  91  29 100  77  36  37  57  10  88  42  41  27\n",
       " [37]  60  82  49  32  38  26  34  16  62  17  78  64  79  23  69   2  66  90\n",
       " [55]  76   5  86  53  47  89  33  12  51  30  71   7  44  96  59   9  20  85\n",
       " [73]  73  25  63  43  94   8  40  48  22  19  50  21  18  87  39  15  93  83\n",
       " [91]  92  31  55  68  11  95   4  56  70  61"
      ]
     },
     "metadata": {},
     "output_type": "display_data"
    }
   ],
   "source": [
    "ind = order(df$`popul.1`)\n",
    "ind"
   ]
  },
  {
   "cell_type": "code",
   "execution_count": 114,
   "id": "4564c1b9",
   "metadata": {
    "ExecuteTime": {
     "end_time": "2022-12-12T16:10:09.610264Z",
     "start_time": "2022-12-12T16:10:09.586Z"
    }
   },
   "outputs": [
    {
     "data": {
      "text/html": [
       "<table class=\"dataframe\">\n",
       "<caption>A data.frame: 10 × 2</caption>\n",
       "<thead>\n",
       "\t<tr><th></th><th scope=col>letts</th><th scope=col>popul.1</th></tr>\n",
       "\t<tr><th></th><th scope=col>&lt;chr&gt;</th><th scope=col>&lt;dbl&gt;</th></tr>\n",
       "</thead>\n",
       "<tbody>\n",
       "\t<tr><th scope=row>14</th><td>m</td><td>-2.215</td></tr>\n",
       "\t<tr><th scope=row>24</th><td>t</td><td>-1.989</td></tr>\n",
       "\t<tr><th scope=row>67</th><td>b</td><td>-1.805</td></tr>\n",
       "\t<tr><th scope=row>84</th><td>i</td><td>-1.524</td></tr>\n",
       "\t<tr><th scope=row>28</th><td>g</td><td>-1.471</td></tr>\n",
       "\t<tr><th scope=row>35</th><td>o</td><td>-1.377</td></tr>\n",
       "\t<tr><th scope=row>97</th><td>y</td><td>-1.277</td></tr>\n",
       "\t<tr><th scope=row>75</th><td>h</td><td>-1.254</td></tr>\n",
       "\t<tr><th scope=row>99</th><td>e</td><td>-1.225</td></tr>\n",
       "\t<tr><th scope=row>54</th><td>u</td><td>-1.129</td></tr>\n",
       "</tbody>\n",
       "</table>\n"
      ],
      "text/latex": [
       "A data.frame: 10 × 2\n",
       "\\begin{tabular}{r|ll}\n",
       "  & letts & popul.1\\\\\n",
       "  & <chr> & <dbl>\\\\\n",
       "\\hline\n",
       "\t14 & m & -2.215\\\\\n",
       "\t24 & t & -1.989\\\\\n",
       "\t67 & b & -1.805\\\\\n",
       "\t84 & i & -1.524\\\\\n",
       "\t28 & g & -1.471\\\\\n",
       "\t35 & o & -1.377\\\\\n",
       "\t97 & y & -1.277\\\\\n",
       "\t75 & h & -1.254\\\\\n",
       "\t99 & e & -1.225\\\\\n",
       "\t54 & u & -1.129\\\\\n",
       "\\end{tabular}\n"
      ],
      "text/markdown": [
       "\n",
       "A data.frame: 10 × 2\n",
       "\n",
       "| <!--/--> | letts &lt;chr&gt; | popul.1 &lt;dbl&gt; |\n",
       "|---|---|---|\n",
       "| 14 | m | -2.215 |\n",
       "| 24 | t | -1.989 |\n",
       "| 67 | b | -1.805 |\n",
       "| 84 | i | -1.524 |\n",
       "| 28 | g | -1.471 |\n",
       "| 35 | o | -1.377 |\n",
       "| 97 | y | -1.277 |\n",
       "| 75 | h | -1.254 |\n",
       "| 99 | e | -1.225 |\n",
       "| 54 | u | -1.129 |\n",
       "\n"
      ],
      "text/plain": [
       "   letts popul.1\n",
       "14 m     -2.215 \n",
       "24 t     -1.989 \n",
       "67 b     -1.805 \n",
       "84 i     -1.524 \n",
       "28 g     -1.471 \n",
       "35 o     -1.377 \n",
       "97 y     -1.277 \n",
       "75 h     -1.254 \n",
       "99 e     -1.225 \n",
       "54 u     -1.129 "
      ]
     },
     "metadata": {},
     "output_type": "display_data"
    }
   ],
   "source": [
    "df.new = df[ind,]\n",
    "head(df.new,10)"
   ]
  },
  {
   "cell_type": "code",
   "execution_count": 115,
   "id": "c17c2ba1",
   "metadata": {
    "ExecuteTime": {
     "end_time": "2022-12-14T21:31:35.329025Z",
     "start_time": "2022-12-14T21:31:35.306Z"
    }
   },
   "outputs": [
    {
     "data": {
      "text/html": [
       "<style>\n",
       ".list-inline {list-style: none; margin:0; padding: 0}\n",
       ".list-inline>li {display: inline-block}\n",
       ".list-inline>li:not(:last-child)::after {content: \"\\00b7\"; padding: 0 .5ex}\n",
       "</style>\n",
       "<ol class=list-inline><li>31</li><li>32</li><li>33</li><li>34</li><li>35</li><li>36</li><li>37</li><li>38</li><li>39</li><li>40</li><li>41</li><li>42</li><li>43</li><li>44</li><li>45</li></ol>\n"
      ],
      "text/latex": [
       "\\begin{enumerate*}\n",
       "\\item 31\n",
       "\\item 32\n",
       "\\item 33\n",
       "\\item 34\n",
       "\\item 35\n",
       "\\item 36\n",
       "\\item 37\n",
       "\\item 38\n",
       "\\item 39\n",
       "\\item 40\n",
       "\\item 41\n",
       "\\item 42\n",
       "\\item 43\n",
       "\\item 44\n",
       "\\item 45\n",
       "\\end{enumerate*}\n"
      ],
      "text/markdown": [
       "1. 31\n",
       "2. 32\n",
       "3. 33\n",
       "4. 34\n",
       "5. 35\n",
       "6. 36\n",
       "7. 37\n",
       "8. 38\n",
       "9. 39\n",
       "10. 40\n",
       "11. 41\n",
       "12. 42\n",
       "13. 43\n",
       "14. 44\n",
       "15. 45\n",
       "\n",
       "\n"
      ],
      "text/plain": [
       " [1] 31 32 33 34 35 36 37 38 39 40 41 42 43 44 45"
      ]
     },
     "metadata": {},
     "output_type": "display_data"
    }
   ],
   "source": [
    "g<-seq(31,45)\n",
    "g"
   ]
  },
  {
   "cell_type": "code",
   "execution_count": 116,
   "id": "5f255a60",
   "metadata": {
    "ExecuteTime": {
     "end_time": "2022-12-14T21:31:53.330435Z",
     "start_time": "2022-12-14T21:31:53.300Z"
    }
   },
   "outputs": [
    {
     "data": {
      "text/html": [
       "15"
      ],
      "text/latex": [
       "15"
      ],
      "text/markdown": [
       "15"
      ],
      "text/plain": [
       "[1] 15"
      ]
     },
     "metadata": {},
     "output_type": "display_data"
    }
   ],
   "source": [
    "length(g)"
   ]
  },
  {
   "cell_type": "code",
   "execution_count": 117,
   "id": "6056b2e9",
   "metadata": {
    "ExecuteTime": {
     "end_time": "2022-12-14T21:32:06.594306Z",
     "start_time": "2022-12-14T21:32:06.574Z"
    }
   },
   "outputs": [
    {
     "data": {
      "text/html": [
       "31"
      ],
      "text/latex": [
       "31"
      ],
      "text/markdown": [
       "31"
      ],
      "text/plain": [
       "[1] 31"
      ]
     },
     "metadata": {},
     "output_type": "display_data"
    }
   ],
   "source": [
    "g[1]"
   ]
  },
  {
   "cell_type": "code",
   "execution_count": 119,
   "id": "8150a0bf",
   "metadata": {
    "ExecuteTime": {
     "end_time": "2022-12-14T21:32:58.155333Z",
     "start_time": "2022-12-14T21:32:58.134Z"
    }
   },
   "outputs": [
    {
     "data": {
      "text/html": [
       "<style>\n",
       ".list-inline {list-style: none; margin:0; padding: 0}\n",
       ".list-inline>li {display: inline-block}\n",
       ".list-inline>li:not(:last-child)::after {content: \"\\00b7\"; padding: 0 .5ex}\n",
       "</style>\n",
       "<ol class=list-inline><li>31</li><li>35</li><li>45</li></ol>\n"
      ],
      "text/latex": [
       "\\begin{enumerate*}\n",
       "\\item 31\n",
       "\\item 35\n",
       "\\item 45\n",
       "\\end{enumerate*}\n"
      ],
      "text/markdown": [
       "1. 31\n",
       "2. 35\n",
       "3. 45\n",
       "\n",
       "\n"
      ],
      "text/plain": [
       "[1] 31 35 45"
      ]
     },
     "metadata": {},
     "output_type": "display_data"
    }
   ],
   "source": [
    "g[c(1,5,15)]"
   ]
  },
  {
   "cell_type": "code",
   "execution_count": 120,
   "id": "a1cd0778",
   "metadata": {
    "ExecuteTime": {
     "end_time": "2022-12-15T08:45:05.038904Z",
     "start_time": "2022-12-15T08:45:05.016Z"
    }
   },
   "outputs": [
    {
     "data": {
      "text/html": [
       "<style>\n",
       ".list-inline {list-style: none; margin:0; padding: 0}\n",
       ".list-inline>li {display: inline-block}\n",
       ".list-inline>li:not(:last-child)::after {content: \"\\00b7\"; padding: 0 .5ex}\n",
       "</style>\n",
       "<ol class=list-inline><li>32</li><li>33</li><li>34</li><li>36</li><li>37</li><li>38</li><li>39</li><li>40</li><li>41</li><li>42</li><li>43</li><li>44</li></ol>\n"
      ],
      "text/latex": [
       "\\begin{enumerate*}\n",
       "\\item 32\n",
       "\\item 33\n",
       "\\item 34\n",
       "\\item 36\n",
       "\\item 37\n",
       "\\item 38\n",
       "\\item 39\n",
       "\\item 40\n",
       "\\item 41\n",
       "\\item 42\n",
       "\\item 43\n",
       "\\item 44\n",
       "\\end{enumerate*}\n"
      ],
      "text/markdown": [
       "1. 32\n",
       "2. 33\n",
       "3. 34\n",
       "4. 36\n",
       "5. 37\n",
       "6. 38\n",
       "7. 39\n",
       "8. 40\n",
       "9. 41\n",
       "10. 42\n",
       "11. 43\n",
       "12. 44\n",
       "\n",
       "\n"
      ],
      "text/plain": [
       " [1] 32 33 34 36 37 38 39 40 41 42 43 44"
      ]
     },
     "metadata": {},
     "output_type": "display_data"
    }
   ],
   "source": [
    "g[-c(1,5,15)]"
   ]
  },
  {
   "cell_type": "code",
   "execution_count": 121,
   "id": "cd0bb292",
   "metadata": {
    "ExecuteTime": {
     "end_time": "2022-12-15T08:46:55.560436Z",
     "start_time": "2022-12-15T08:46:55.541Z"
    }
   },
   "outputs": [
    {
     "data": {
      "text/html": [
       "<style>\n",
       ".list-inline {list-style: none; margin:0; padding: 0}\n",
       ".list-inline>li {display: inline-block}\n",
       ".list-inline>li:not(:last-child)::after {content: \"\\00b7\"; padding: 0 .5ex}\n",
       "</style>\n",
       "<ol class=list-inline><li>31</li><li>32</li><li>33</li><li>34</li><li>35</li></ol>\n"
      ],
      "text/latex": [
       "\\begin{enumerate*}\n",
       "\\item 31\n",
       "\\item 32\n",
       "\\item 33\n",
       "\\item 34\n",
       "\\item 35\n",
       "\\end{enumerate*}\n"
      ],
      "text/markdown": [
       "1. 31\n",
       "2. 32\n",
       "3. 33\n",
       "4. 34\n",
       "5. 35\n",
       "\n",
       "\n"
      ],
      "text/plain": [
       "[1] 31 32 33 34 35"
      ]
     },
     "metadata": {},
     "output_type": "display_data"
    }
   ],
   "source": [
    "g[1:5]"
   ]
  },
  {
   "cell_type": "code",
   "execution_count": 123,
   "id": "c678a81a",
   "metadata": {
    "ExecuteTime": {
     "end_time": "2022-12-15T08:47:48.245206Z",
     "start_time": "2022-12-15T08:47:48.221Z"
    }
   },
   "outputs": [
    {
     "data": {
      "text/html": [
       "<style>\n",
       ".list-inline {list-style: none; margin:0; padding: 0}\n",
       ".list-inline>li {display: inline-block}\n",
       ".list-inline>li:not(:last-child)::after {content: \"\\00b7\"; padding: 0 .5ex}\n",
       "</style>\n",
       "<ol class=list-inline><li>1</li><li>2</li><li>3</li><li>4</li><li>5</li><li>6</li><li>7</li><li>8</li><li>9</li><li>10</li><li>11</li><li>12</li><li>13</li><li>14</li><li>15</li></ol>\n"
      ],
      "text/latex": [
       "\\begin{enumerate*}\n",
       "\\item 1\n",
       "\\item 2\n",
       "\\item 3\n",
       "\\item 4\n",
       "\\item 5\n",
       "\\item 6\n",
       "\\item 7\n",
       "\\item 8\n",
       "\\item 9\n",
       "\\item 10\n",
       "\\item 11\n",
       "\\item 12\n",
       "\\item 13\n",
       "\\item 14\n",
       "\\item 15\n",
       "\\end{enumerate*}\n"
      ],
      "text/markdown": [
       "1. 1\n",
       "2. 2\n",
       "3. 3\n",
       "4. 4\n",
       "5. 5\n",
       "6. 6\n",
       "7. 7\n",
       "8. 8\n",
       "9. 9\n",
       "10. 10\n",
       "11. 11\n",
       "12. 12\n",
       "13. 13\n",
       "14. 14\n",
       "15. 15\n",
       "\n",
       "\n"
      ],
      "text/plain": [
       " [1]  1  2  3  4  5  6  7  8  9 10 11 12 13 14 15"
      ]
     },
     "metadata": {},
     "output_type": "display_data"
    }
   ],
   "source": [
    "h<-1:15\n",
    "h"
   ]
  },
  {
   "cell_type": "code",
   "execution_count": 124,
   "id": "cbf10493",
   "metadata": {
    "ExecuteTime": {
     "end_time": "2022-12-15T08:53:00.980025Z",
     "start_time": "2022-12-15T08:53:00.962Z"
    }
   },
   "outputs": [
    {
     "data": {
      "text/html": [
       "<style>\n",
       ".list-inline {list-style: none; margin:0; padding: 0}\n",
       ".list-inline>li {display: inline-block}\n",
       ".list-inline>li:not(:last-child)::after {content: \"\\00b7\"; padding: 0 .5ex}\n",
       "</style>\n",
       "<ol class=list-inline><li>32</li><li>34</li><li>36</li><li>38</li><li>40</li><li>42</li><li>44</li><li>46</li><li>48</li><li>50</li><li>52</li><li>54</li><li>56</li><li>58</li><li>60</li></ol>\n"
      ],
      "text/latex": [
       "\\begin{enumerate*}\n",
       "\\item 32\n",
       "\\item 34\n",
       "\\item 36\n",
       "\\item 38\n",
       "\\item 40\n",
       "\\item 42\n",
       "\\item 44\n",
       "\\item 46\n",
       "\\item 48\n",
       "\\item 50\n",
       "\\item 52\n",
       "\\item 54\n",
       "\\item 56\n",
       "\\item 58\n",
       "\\item 60\n",
       "\\end{enumerate*}\n"
      ],
      "text/markdown": [
       "1. 32\n",
       "2. 34\n",
       "3. 36\n",
       "4. 38\n",
       "5. 40\n",
       "6. 42\n",
       "7. 44\n",
       "8. 46\n",
       "9. 48\n",
       "10. 50\n",
       "11. 52\n",
       "12. 54\n",
       "13. 56\n",
       "14. 58\n",
       "15. 60\n",
       "\n",
       "\n"
      ],
      "text/plain": [
       " [1] 32 34 36 38 40 42 44 46 48 50 52 54 56 58 60"
      ]
     },
     "metadata": {},
     "output_type": "display_data"
    }
   ],
   "source": [
    "g+h"
   ]
  },
  {
   "cell_type": "code",
   "execution_count": 125,
   "id": "9e4be271",
   "metadata": {
    "ExecuteTime": {
     "end_time": "2022-12-15T08:53:10.318300Z",
     "start_time": "2022-12-15T08:53:10.297Z"
    }
   },
   "outputs": [
    {
     "data": {
      "text/html": [
       "<style>\n",
       ".list-inline {list-style: none; margin:0; padding: 0}\n",
       ".list-inline>li {display: inline-block}\n",
       ".list-inline>li:not(:last-child)::after {content: \"\\00b7\"; padding: 0 .5ex}\n",
       "</style>\n",
       "<ol class=list-inline><li>62</li><li>64</li><li>66</li><li>68</li><li>70</li><li>72</li><li>74</li><li>76</li><li>78</li><li>80</li><li>82</li><li>84</li><li>86</li><li>88</li><li>90</li></ol>\n"
      ],
      "text/latex": [
       "\\begin{enumerate*}\n",
       "\\item 62\n",
       "\\item 64\n",
       "\\item 66\n",
       "\\item 68\n",
       "\\item 70\n",
       "\\item 72\n",
       "\\item 74\n",
       "\\item 76\n",
       "\\item 78\n",
       "\\item 80\n",
       "\\item 82\n",
       "\\item 84\n",
       "\\item 86\n",
       "\\item 88\n",
       "\\item 90\n",
       "\\end{enumerate*}\n"
      ],
      "text/markdown": [
       "1. 62\n",
       "2. 64\n",
       "3. 66\n",
       "4. 68\n",
       "5. 70\n",
       "6. 72\n",
       "7. 74\n",
       "8. 76\n",
       "9. 78\n",
       "10. 80\n",
       "11. 82\n",
       "12. 84\n",
       "13. 86\n",
       "14. 88\n",
       "15. 90\n",
       "\n",
       "\n"
      ],
      "text/plain": [
       " [1] 62 64 66 68 70 72 74 76 78 80 82 84 86 88 90"
      ]
     },
     "metadata": {},
     "output_type": "display_data"
    }
   ],
   "source": [
    "g*2"
   ]
  },
  {
   "cell_type": "code",
   "execution_count": 126,
   "id": "6148a284",
   "metadata": {
    "ExecuteTime": {
     "end_time": "2022-12-15T08:57:24.281975Z",
     "start_time": "2022-12-15T08:57:24.263Z"
    }
   },
   "outputs": [
    {
     "data": {
      "text/html": [
       "<style>\n",
       ".list-inline {list-style: none; margin:0; padding: 0}\n",
       ".list-inline>li {display: inline-block}\n",
       ".list-inline>li:not(:last-child)::after {content: \"\\00b7\"; padding: 0 .5ex}\n",
       "</style>\n",
       "<ol class=list-inline><li>'A'</li><li>'B'</li><li>'C'</li><li>'D'</li><li>'E'</li><li>'F'</li><li>'G'</li><li>'H'</li><li>'I'</li><li>'J'</li><li>'K'</li><li>'L'</li><li>'M'</li><li>'N'</li><li>'O'</li><li>'P'</li><li>'Q'</li><li>'R'</li><li>'S'</li><li>'T'</li><li>'U'</li><li>'V'</li><li>'W'</li><li>'X'</li><li>'Y'</li><li>'Z'</li></ol>\n"
      ],
      "text/latex": [
       "\\begin{enumerate*}\n",
       "\\item 'A'\n",
       "\\item 'B'\n",
       "\\item 'C'\n",
       "\\item 'D'\n",
       "\\item 'E'\n",
       "\\item 'F'\n",
       "\\item 'G'\n",
       "\\item 'H'\n",
       "\\item 'I'\n",
       "\\item 'J'\n",
       "\\item 'K'\n",
       "\\item 'L'\n",
       "\\item 'M'\n",
       "\\item 'N'\n",
       "\\item 'O'\n",
       "\\item 'P'\n",
       "\\item 'Q'\n",
       "\\item 'R'\n",
       "\\item 'S'\n",
       "\\item 'T'\n",
       "\\item 'U'\n",
       "\\item 'V'\n",
       "\\item 'W'\n",
       "\\item 'X'\n",
       "\\item 'Y'\n",
       "\\item 'Z'\n",
       "\\end{enumerate*}\n"
      ],
      "text/markdown": [
       "1. 'A'\n",
       "2. 'B'\n",
       "3. 'C'\n",
       "4. 'D'\n",
       "5. 'E'\n",
       "6. 'F'\n",
       "7. 'G'\n",
       "8. 'H'\n",
       "9. 'I'\n",
       "10. 'J'\n",
       "11. 'K'\n",
       "12. 'L'\n",
       "13. 'M'\n",
       "14. 'N'\n",
       "15. 'O'\n",
       "16. 'P'\n",
       "17. 'Q'\n",
       "18. 'R'\n",
       "19. 'S'\n",
       "20. 'T'\n",
       "21. 'U'\n",
       "22. 'V'\n",
       "23. 'W'\n",
       "24. 'X'\n",
       "25. 'Y'\n",
       "26. 'Z'\n",
       "\n",
       "\n"
      ],
      "text/plain": [
       " [1] \"A\" \"B\" \"C\" \"D\" \"E\" \"F\" \"G\" \"H\" \"I\" \"J\" \"K\" \"L\" \"M\" \"N\" \"O\" \"P\" \"Q\" \"R\" \"S\"\n",
       "[20] \"T\" \"U\" \"V\" \"W\" \"X\" \"Y\" \"Z\""
      ]
     },
     "metadata": {},
     "output_type": "display_data"
    }
   ],
   "source": [
    "LETTERS"
   ]
  },
  {
   "cell_type": "code",
   "execution_count": 127,
   "id": "b1e4e95d",
   "metadata": {
    "ExecuteTime": {
     "end_time": "2022-12-15T08:58:24.297343Z",
     "start_time": "2022-12-15T08:58:24.276Z"
    }
   },
   "outputs": [
    {
     "data": {
      "text/html": [
       "<style>\n",
       ".list-inline {list-style: none; margin:0; padding: 0}\n",
       ".list-inline>li {display: inline-block}\n",
       ".list-inline>li:not(:last-child)::after {content: \"\\00b7\"; padding: 0 .5ex}\n",
       "</style>\n",
       "<ol class=list-inline><li>'a _ 1'</li><li>'b _ 2'</li><li>'c _ 3'</li><li>'d _ 4'</li><li>'e _ 5'</li><li>'f _ 6'</li><li>'g _ 7'</li><li>'h _ 8'</li><li>'i _ 9'</li><li>'j _ 10'</li><li>'k _ 11'</li><li>'l _ 12'</li><li>'m _ 13'</li><li>'n _ 14'</li><li>'o _ 15'</li><li>'p _ 16'</li><li>'q _ 17'</li><li>'r _ 18'</li><li>'s _ 19'</li><li>'t _ 20'</li><li>'u _ 21'</li><li>'v _ 22'</li><li>'w _ 23'</li><li>'x _ 24'</li><li>'y _ 25'</li><li>'z _ 26'</li></ol>\n"
      ],
      "text/latex": [
       "\\begin{enumerate*}\n",
       "\\item 'a \\_ 1'\n",
       "\\item 'b \\_ 2'\n",
       "\\item 'c \\_ 3'\n",
       "\\item 'd \\_ 4'\n",
       "\\item 'e \\_ 5'\n",
       "\\item 'f \\_ 6'\n",
       "\\item 'g \\_ 7'\n",
       "\\item 'h \\_ 8'\n",
       "\\item 'i \\_ 9'\n",
       "\\item 'j \\_ 10'\n",
       "\\item 'k \\_ 11'\n",
       "\\item 'l \\_ 12'\n",
       "\\item 'm \\_ 13'\n",
       "\\item 'n \\_ 14'\n",
       "\\item 'o \\_ 15'\n",
       "\\item 'p \\_ 16'\n",
       "\\item 'q \\_ 17'\n",
       "\\item 'r \\_ 18'\n",
       "\\item 's \\_ 19'\n",
       "\\item 't \\_ 20'\n",
       "\\item 'u \\_ 21'\n",
       "\\item 'v \\_ 22'\n",
       "\\item 'w \\_ 23'\n",
       "\\item 'x \\_ 24'\n",
       "\\item 'y \\_ 25'\n",
       "\\item 'z \\_ 26'\n",
       "\\end{enumerate*}\n"
      ],
      "text/markdown": [
       "1. 'a _ 1'\n",
       "2. 'b _ 2'\n",
       "3. 'c _ 3'\n",
       "4. 'd _ 4'\n",
       "5. 'e _ 5'\n",
       "6. 'f _ 6'\n",
       "7. 'g _ 7'\n",
       "8. 'h _ 8'\n",
       "9. 'i _ 9'\n",
       "10. 'j _ 10'\n",
       "11. 'k _ 11'\n",
       "12. 'l _ 12'\n",
       "13. 'm _ 13'\n",
       "14. 'n _ 14'\n",
       "15. 'o _ 15'\n",
       "16. 'p _ 16'\n",
       "17. 'q _ 17'\n",
       "18. 'r _ 18'\n",
       "19. 's _ 19'\n",
       "20. 't _ 20'\n",
       "21. 'u _ 21'\n",
       "22. 'v _ 22'\n",
       "23. 'w _ 23'\n",
       "24. 'x _ 24'\n",
       "25. 'y _ 25'\n",
       "26. 'z _ 26'\n",
       "\n",
       "\n"
      ],
      "text/plain": [
       " [1] \"a _ 1\"  \"b _ 2\"  \"c _ 3\"  \"d _ 4\"  \"e _ 5\"  \"f _ 6\"  \"g _ 7\"  \"h _ 8\" \n",
       " [9] \"i _ 9\"  \"j _ 10\" \"k _ 11\" \"l _ 12\" \"m _ 13\" \"n _ 14\" \"o _ 15\" \"p _ 16\"\n",
       "[17] \"q _ 17\" \"r _ 18\" \"s _ 19\" \"t _ 20\" \"u _ 21\" \"v _ 22\" \"w _ 23\" \"x _ 24\"\n",
       "[25] \"y _ 25\" \"z _ 26\""
      ]
     },
     "metadata": {},
     "output_type": "display_data"
    }
   ],
   "source": [
    "paste(letters, set=\"_\",seq(1,26))"
   ]
  },
  {
   "cell_type": "code",
   "execution_count": 128,
   "id": "f829d314",
   "metadata": {
    "ExecuteTime": {
     "end_time": "2022-12-15T08:58:33.852401Z",
     "start_time": "2022-12-15T08:58:33.832Z"
    }
   },
   "outputs": [
    {
     "data": {
      "text/html": [
       "<style>\n",
       ".list-inline {list-style: none; margin:0; padding: 0}\n",
       ".list-inline>li {display: inline-block}\n",
       ".list-inline>li:not(:last-child)::after {content: \"\\00b7\"; padding: 0 .5ex}\n",
       "</style>\n",
       "<ol class=list-inline><li>'a_1'</li><li>'b_2'</li><li>'c_3'</li><li>'d_4'</li><li>'e_5'</li><li>'f_6'</li><li>'g_7'</li><li>'h_8'</li><li>'i_9'</li><li>'j_10'</li><li>'k_11'</li><li>'l_12'</li><li>'m_13'</li><li>'n_14'</li><li>'o_15'</li><li>'p_16'</li><li>'q_17'</li><li>'r_18'</li><li>'s_19'</li><li>'t_20'</li><li>'u_21'</li><li>'v_22'</li><li>'w_23'</li><li>'x_24'</li><li>'y_25'</li><li>'z_26'</li></ol>\n"
      ],
      "text/latex": [
       "\\begin{enumerate*}\n",
       "\\item 'a\\_1'\n",
       "\\item 'b\\_2'\n",
       "\\item 'c\\_3'\n",
       "\\item 'd\\_4'\n",
       "\\item 'e\\_5'\n",
       "\\item 'f\\_6'\n",
       "\\item 'g\\_7'\n",
       "\\item 'h\\_8'\n",
       "\\item 'i\\_9'\n",
       "\\item 'j\\_10'\n",
       "\\item 'k\\_11'\n",
       "\\item 'l\\_12'\n",
       "\\item 'm\\_13'\n",
       "\\item 'n\\_14'\n",
       "\\item 'o\\_15'\n",
       "\\item 'p\\_16'\n",
       "\\item 'q\\_17'\n",
       "\\item 'r\\_18'\n",
       "\\item 's\\_19'\n",
       "\\item 't\\_20'\n",
       "\\item 'u\\_21'\n",
       "\\item 'v\\_22'\n",
       "\\item 'w\\_23'\n",
       "\\item 'x\\_24'\n",
       "\\item 'y\\_25'\n",
       "\\item 'z\\_26'\n",
       "\\end{enumerate*}\n"
      ],
      "text/markdown": [
       "1. 'a_1'\n",
       "2. 'b_2'\n",
       "3. 'c_3'\n",
       "4. 'd_4'\n",
       "5. 'e_5'\n",
       "6. 'f_6'\n",
       "7. 'g_7'\n",
       "8. 'h_8'\n",
       "9. 'i_9'\n",
       "10. 'j_10'\n",
       "11. 'k_11'\n",
       "12. 'l_12'\n",
       "13. 'm_13'\n",
       "14. 'n_14'\n",
       "15. 'o_15'\n",
       "16. 'p_16'\n",
       "17. 'q_17'\n",
       "18. 'r_18'\n",
       "19. 's_19'\n",
       "20. 't_20'\n",
       "21. 'u_21'\n",
       "22. 'v_22'\n",
       "23. 'w_23'\n",
       "24. 'x_24'\n",
       "25. 'y_25'\n",
       "26. 'z_26'\n",
       "\n",
       "\n"
      ],
      "text/plain": [
       " [1] \"a_1\"  \"b_2\"  \"c_3\"  \"d_4\"  \"e_5\"  \"f_6\"  \"g_7\"  \"h_8\"  \"i_9\"  \"j_10\"\n",
       "[11] \"k_11\" \"l_12\" \"m_13\" \"n_14\" \"o_15\" \"p_16\" \"q_17\" \"r_18\" \"s_19\" \"t_20\"\n",
       "[21] \"u_21\" \"v_22\" \"w_23\" \"x_24\" \"y_25\" \"z_26\""
      ]
     },
     "metadata": {},
     "output_type": "display_data"
    }
   ],
   "source": [
    "paste0(letters, set=\"_\",seq(1,26))"
   ]
  },
  {
   "cell_type": "code",
   "execution_count": 134,
   "id": "694025fe",
   "metadata": {
    "ExecuteTime": {
     "end_time": "2022-12-15T09:02:11.722825Z",
     "start_time": "2022-12-15T09:02:11.704Z"
    }
   },
   "outputs": [
    {
     "data": {
      "text/plain": [
       " [1] \"2022-12-01 12:00:00 GMT\" \"2022-12-02 12:00:00 GMT\"\n",
       " [3] \"2022-12-03 12:00:00 GMT\" \"2022-12-04 12:00:00 GMT\"\n",
       " [5] \"2022-12-05 12:00:00 GMT\" \"2022-12-06 12:00:00 GMT\"\n",
       " [7] \"2022-12-07 12:00:00 GMT\" \"2022-12-08 12:00:00 GMT\"\n",
       " [9] \"2022-12-09 12:00:00 GMT\" \"2022-12-10 12:00:00 GMT\"\n",
       "[11] \"2022-12-11 12:00:00 GMT\" \"2022-12-12 12:00:00 GMT\"\n",
       "[13] \"2022-12-13 12:00:00 GMT\" \"2022-12-14 12:00:00 GMT\"\n",
       "[15] \"2022-12-15 12:00:00 GMT\" \"2022-12-16 12:00:00 GMT\"\n",
       "[17] \"2022-12-17 12:00:00 GMT\" \"2022-12-18 12:00:00 GMT\"\n",
       "[19] \"2022-12-19 12:00:00 GMT\" \"2022-12-20 12:00:00 GMT\"\n",
       "[21] \"2022-12-21 12:00:00 GMT\" \"2022-12-22 12:00:00 GMT\"\n",
       "[23] \"2022-12-23 12:00:00 GMT\" \"2022-12-24 12:00:00 GMT\"\n",
       "[25] \"2022-12-25 12:00:00 GMT\" \"2022-12-26 12:00:00 GMT\"\n",
       "[27] \"2022-12-27 12:00:00 GMT\" \"2022-12-28 12:00:00 GMT\"\n",
       "[29] \"2022-12-29 12:00:00 GMT\" \"2022-12-30 12:00:00 GMT\"\n",
       "[31] \"2022-12-31 12:00:00 GMT\""
      ]
     },
     "metadata": {},
     "output_type": "display_data"
    }
   ],
   "source": [
    "ISOdate(2022,12,1:31)"
   ]
  },
  {
   "cell_type": "code",
   "execution_count": 133,
   "id": "23861ea2",
   "metadata": {
    "ExecuteTime": {
     "end_time": "2022-12-15T09:01:57.056480Z",
     "start_time": "2022-12-15T09:01:57.028Z"
    },
    "scrolled": true
   },
   "outputs": [
    {
     "data": {
      "text/html": [
       "<style>\n",
       ".list-inline {list-style: none; margin:0; padding: 0}\n",
       ".list-inline>li {display: inline-block}\n",
       ".list-inline>li:not(:last-child)::after {content: \"\\00b7\"; padding: 0 .5ex}\n",
       "</style>\n",
       "<ol class=list-inline><li>'четверг'</li><li>'пятница'</li><li>'суббота'</li><li>'воскресенье'</li><li>'понедельник'</li><li>'вторник'</li><li>'среда'</li><li>'четверг'</li><li>'пятница'</li><li>'суббота'</li><li>'воскресенье'</li><li>'понедельник'</li><li>'вторник'</li><li>'среда'</li><li>'четверг'</li><li>'пятница'</li><li>'суббота'</li><li>'воскресенье'</li><li>'понедельник'</li><li>'вторник'</li><li>'среда'</li><li>'четверг'</li><li>'пятница'</li><li>'суббота'</li><li>'воскресенье'</li><li>'понедельник'</li><li>'вторник'</li><li>'среда'</li><li>'четверг'</li><li>'пятница'</li><li>'суббота'</li></ol>\n"
      ],
      "text/latex": [
       "\\begin{enumerate*}\n",
       "\\item 'четверг'\n",
       "\\item 'пятница'\n",
       "\\item 'суббота'\n",
       "\\item 'воскресенье'\n",
       "\\item 'понедельник'\n",
       "\\item 'вторник'\n",
       "\\item 'среда'\n",
       "\\item 'четверг'\n",
       "\\item 'пятница'\n",
       "\\item 'суббота'\n",
       "\\item 'воскресенье'\n",
       "\\item 'понедельник'\n",
       "\\item 'вторник'\n",
       "\\item 'среда'\n",
       "\\item 'четверг'\n",
       "\\item 'пятница'\n",
       "\\item 'суббота'\n",
       "\\item 'воскресенье'\n",
       "\\item 'понедельник'\n",
       "\\item 'вторник'\n",
       "\\item 'среда'\n",
       "\\item 'четверг'\n",
       "\\item 'пятница'\n",
       "\\item 'суббота'\n",
       "\\item 'воскресенье'\n",
       "\\item 'понедельник'\n",
       "\\item 'вторник'\n",
       "\\item 'среда'\n",
       "\\item 'четверг'\n",
       "\\item 'пятница'\n",
       "\\item 'суббота'\n",
       "\\end{enumerate*}\n"
      ],
      "text/markdown": [
       "1. 'четверг'\n",
       "2. 'пятница'\n",
       "3. 'суббота'\n",
       "4. 'воскресенье'\n",
       "5. 'понедельник'\n",
       "6. 'вторник'\n",
       "7. 'среда'\n",
       "8. 'четверг'\n",
       "9. 'пятница'\n",
       "10. 'суббота'\n",
       "11. 'воскресенье'\n",
       "12. 'понедельник'\n",
       "13. 'вторник'\n",
       "14. 'среда'\n",
       "15. 'четверг'\n",
       "16. 'пятница'\n",
       "17. 'суббота'\n",
       "18. 'воскресенье'\n",
       "19. 'понедельник'\n",
       "20. 'вторник'\n",
       "21. 'среда'\n",
       "22. 'четверг'\n",
       "23. 'пятница'\n",
       "24. 'суббота'\n",
       "25. 'воскресенье'\n",
       "26. 'понедельник'\n",
       "27. 'вторник'\n",
       "28. 'среда'\n",
       "29. 'четверг'\n",
       "30. 'пятница'\n",
       "31. 'суббота'\n",
       "\n",
       "\n"
      ],
      "text/plain": [
       " [1] \"четверг\"     \"пятница\"     \"суббота\"     \"воскресенье\" \"понедельник\"\n",
       " [6] \"вторник\"     \"среда\"       \"четверг\"     \"пятница\"     \"суббота\"    \n",
       "[11] \"воскресенье\" \"понедельник\" \"вторник\"     \"среда\"       \"четверг\"    \n",
       "[16] \"пятница\"     \"суббота\"     \"воскресенье\" \"понедельник\" \"вторник\"    \n",
       "[21] \"среда\"       \"четверг\"     \"пятница\"     \"суббота\"     \"воскресенье\"\n",
       "[26] \"понедельник\" \"вторник\"     \"среда\"       \"четверг\"     \"пятница\"    \n",
       "[31] \"суббота\"    "
      ]
     },
     "metadata": {},
     "output_type": "display_data"
    }
   ],
   "source": [
    "format(ISOdate(2022,12,1:31),\"%A\")"
   ]
  },
  {
   "cell_type": "code",
   "execution_count": 135,
   "id": "be164074",
   "metadata": {
    "ExecuteTime": {
     "end_time": "2022-12-15T09:02:25.070739Z",
     "start_time": "2022-12-15T09:02:25.051Z"
    }
   },
   "outputs": [
    {
     "data": {
      "text/html": [
       "<style>\n",
       ".list-inline {list-style: none; margin:0; padding: 0}\n",
       ".list-inline>li {display: inline-block}\n",
       ".list-inline>li:not(:last-child)::after {content: \"\\00b7\"; padding: 0 .5ex}\n",
       "</style>\n",
       "<ol class=list-inline><li>'12/01/22'</li><li>'12/02/22'</li><li>'12/03/22'</li><li>'12/04/22'</li><li>'12/05/22'</li><li>'12/06/22'</li><li>'12/07/22'</li><li>'12/08/22'</li><li>'12/09/22'</li><li>'12/10/22'</li><li>'12/11/22'</li><li>'12/12/22'</li><li>'12/13/22'</li><li>'12/14/22'</li><li>'12/15/22'</li><li>'12/16/22'</li><li>'12/17/22'</li><li>'12/18/22'</li><li>'12/19/22'</li><li>'12/20/22'</li><li>'12/21/22'</li><li>'12/22/22'</li><li>'12/23/22'</li><li>'12/24/22'</li><li>'12/25/22'</li><li>'12/26/22'</li><li>'12/27/22'</li><li>'12/28/22'</li><li>'12/29/22'</li><li>'12/30/22'</li><li>'12/31/22'</li></ol>\n"
      ],
      "text/latex": [
       "\\begin{enumerate*}\n",
       "\\item '12/01/22'\n",
       "\\item '12/02/22'\n",
       "\\item '12/03/22'\n",
       "\\item '12/04/22'\n",
       "\\item '12/05/22'\n",
       "\\item '12/06/22'\n",
       "\\item '12/07/22'\n",
       "\\item '12/08/22'\n",
       "\\item '12/09/22'\n",
       "\\item '12/10/22'\n",
       "\\item '12/11/22'\n",
       "\\item '12/12/22'\n",
       "\\item '12/13/22'\n",
       "\\item '12/14/22'\n",
       "\\item '12/15/22'\n",
       "\\item '12/16/22'\n",
       "\\item '12/17/22'\n",
       "\\item '12/18/22'\n",
       "\\item '12/19/22'\n",
       "\\item '12/20/22'\n",
       "\\item '12/21/22'\n",
       "\\item '12/22/22'\n",
       "\\item '12/23/22'\n",
       "\\item '12/24/22'\n",
       "\\item '12/25/22'\n",
       "\\item '12/26/22'\n",
       "\\item '12/27/22'\n",
       "\\item '12/28/22'\n",
       "\\item '12/29/22'\n",
       "\\item '12/30/22'\n",
       "\\item '12/31/22'\n",
       "\\end{enumerate*}\n"
      ],
      "text/markdown": [
       "1. '12/01/22'\n",
       "2. '12/02/22'\n",
       "3. '12/03/22'\n",
       "4. '12/04/22'\n",
       "5. '12/05/22'\n",
       "6. '12/06/22'\n",
       "7. '12/07/22'\n",
       "8. '12/08/22'\n",
       "9. '12/09/22'\n",
       "10. '12/10/22'\n",
       "11. '12/11/22'\n",
       "12. '12/12/22'\n",
       "13. '12/13/22'\n",
       "14. '12/14/22'\n",
       "15. '12/15/22'\n",
       "16. '12/16/22'\n",
       "17. '12/17/22'\n",
       "18. '12/18/22'\n",
       "19. '12/19/22'\n",
       "20. '12/20/22'\n",
       "21. '12/21/22'\n",
       "22. '12/22/22'\n",
       "23. '12/23/22'\n",
       "24. '12/24/22'\n",
       "25. '12/25/22'\n",
       "26. '12/26/22'\n",
       "27. '12/27/22'\n",
       "28. '12/28/22'\n",
       "29. '12/29/22'\n",
       "30. '12/30/22'\n",
       "31. '12/31/22'\n",
       "\n",
       "\n"
      ],
      "text/plain": [
       " [1] \"12/01/22\" \"12/02/22\" \"12/03/22\" \"12/04/22\" \"12/05/22\" \"12/06/22\"\n",
       " [7] \"12/07/22\" \"12/08/22\" \"12/09/22\" \"12/10/22\" \"12/11/22\" \"12/12/22\"\n",
       "[13] \"12/13/22\" \"12/14/22\" \"12/15/22\" \"12/16/22\" \"12/17/22\" \"12/18/22\"\n",
       "[19] \"12/19/22\" \"12/20/22\" \"12/21/22\" \"12/22/22\" \"12/23/22\" \"12/24/22\"\n",
       "[25] \"12/25/22\" \"12/26/22\" \"12/27/22\" \"12/28/22\" \"12/29/22\" \"12/30/22\"\n",
       "[31] \"12/31/22\""
      ]
     },
     "metadata": {},
     "output_type": "display_data"
    }
   ],
   "source": [
    "format(ISOdate(2022,12,1:31),\"%D\")"
   ]
  },
  {
   "cell_type": "code",
   "execution_count": 136,
   "id": "1e1d0215",
   "metadata": {
    "ExecuteTime": {
     "end_time": "2022-12-15T09:04:13.464612Z",
     "start_time": "2022-12-15T09:04:13.444Z"
    }
   },
   "outputs": [
    {
     "data": {
      "text/html": [
       "<style>\n",
       ".list-inline {list-style: none; margin:0; padding: 0}\n",
       ".list-inline>li {display: inline-block}\n",
       ".list-inline>li:not(:last-child)::after {content: \"\\00b7\"; padding: 0 .5ex}\n",
       "</style>\n",
       "<ol class=list-inline><li>'Чт'</li><li>'Пт'</li><li>'Сб'</li><li>'Вс'</li><li>'Пн'</li><li>'Вт'</li><li>'Ср'</li><li>'Чт'</li><li>'Пт'</li><li>'Сб'</li><li>'Вс'</li><li>'Пн'</li><li>'Вт'</li><li>'Ср'</li><li>'Чт'</li><li>'Пт'</li><li>'Сб'</li><li>'Вс'</li><li>'Пн'</li><li>'Вт'</li><li>'Ср'</li><li>'Чт'</li><li>'Пт'</li><li>'Сб'</li><li>'Вс'</li><li>'Пн'</li><li>'Вт'</li><li>'Ср'</li><li>'Чт'</li><li>'Пт'</li><li>'Сб'</li></ol>\n"
      ],
      "text/latex": [
       "\\begin{enumerate*}\n",
       "\\item 'Чт'\n",
       "\\item 'Пт'\n",
       "\\item 'Сб'\n",
       "\\item 'Вс'\n",
       "\\item 'Пн'\n",
       "\\item 'Вт'\n",
       "\\item 'Ср'\n",
       "\\item 'Чт'\n",
       "\\item 'Пт'\n",
       "\\item 'Сб'\n",
       "\\item 'Вс'\n",
       "\\item 'Пн'\n",
       "\\item 'Вт'\n",
       "\\item 'Ср'\n",
       "\\item 'Чт'\n",
       "\\item 'Пт'\n",
       "\\item 'Сб'\n",
       "\\item 'Вс'\n",
       "\\item 'Пн'\n",
       "\\item 'Вт'\n",
       "\\item 'Ср'\n",
       "\\item 'Чт'\n",
       "\\item 'Пт'\n",
       "\\item 'Сб'\n",
       "\\item 'Вс'\n",
       "\\item 'Пн'\n",
       "\\item 'Вт'\n",
       "\\item 'Ср'\n",
       "\\item 'Чт'\n",
       "\\item 'Пт'\n",
       "\\item 'Сб'\n",
       "\\end{enumerate*}\n"
      ],
      "text/markdown": [
       "1. 'Чт'\n",
       "2. 'Пт'\n",
       "3. 'Сб'\n",
       "4. 'Вс'\n",
       "5. 'Пн'\n",
       "6. 'Вт'\n",
       "7. 'Ср'\n",
       "8. 'Чт'\n",
       "9. 'Пт'\n",
       "10. 'Сб'\n",
       "11. 'Вс'\n",
       "12. 'Пн'\n",
       "13. 'Вт'\n",
       "14. 'Ср'\n",
       "15. 'Чт'\n",
       "16. 'Пт'\n",
       "17. 'Сб'\n",
       "18. 'Вс'\n",
       "19. 'Пн'\n",
       "20. 'Вт'\n",
       "21. 'Ср'\n",
       "22. 'Чт'\n",
       "23. 'Пт'\n",
       "24. 'Сб'\n",
       "25. 'Вс'\n",
       "26. 'Пн'\n",
       "27. 'Вт'\n",
       "28. 'Ср'\n",
       "29. 'Чт'\n",
       "30. 'Пт'\n",
       "31. 'Сб'\n",
       "\n",
       "\n"
      ],
      "text/plain": [
       " [1] \"Чт\" \"Пт\" \"Сб\" \"Вс\" \"Пн\" \"Вт\" \"Ср\" \"Чт\" \"Пт\" \"Сб\" \"Вс\" \"Пн\" \"Вт\" \"Ср\" \"Чт\"\n",
       "[16] \"Пт\" \"Сб\" \"Вс\" \"Пн\" \"Вт\" \"Ср\" \"Чт\" \"Пт\" \"Сб\" \"Вс\" \"Пн\" \"Вт\" \"Ср\" \"Чт\" \"Пт\"\n",
       "[31] \"Сб\""
      ]
     },
     "metadata": {},
     "output_type": "display_data"
    }
   ],
   "source": [
    "format(ISOdate(2022,12,1:31),\"%a\")"
   ]
  },
  {
   "cell_type": "code",
   "execution_count": 137,
   "id": "19758cbb",
   "metadata": {
    "ExecuteTime": {
     "end_time": "2022-12-15T09:04:19.500241Z",
     "start_time": "2022-12-15T09:04:19.483Z"
    }
   },
   "outputs": [
    {
     "data": {
      "text/html": [
       "<style>\n",
       ".list-inline {list-style: none; margin:0; padding: 0}\n",
       ".list-inline>li {display: inline-block}\n",
       ".list-inline>li:not(:last-child)::after {content: \"\\00b7\"; padding: 0 .5ex}\n",
       "</style>\n",
       "<ol class=list-inline><li>'дек'</li><li>'дек'</li><li>'дек'</li><li>'дек'</li><li>'дек'</li><li>'дек'</li><li>'дек'</li><li>'дек'</li><li>'дек'</li><li>'дек'</li><li>'дек'</li><li>'дек'</li><li>'дек'</li><li>'дек'</li><li>'дек'</li><li>'дек'</li><li>'дек'</li><li>'дек'</li><li>'дек'</li><li>'дек'</li><li>'дек'</li><li>'дек'</li><li>'дек'</li><li>'дек'</li><li>'дек'</li><li>'дек'</li><li>'дек'</li><li>'дек'</li><li>'дек'</li><li>'дек'</li><li>'дек'</li></ol>\n"
      ],
      "text/latex": [
       "\\begin{enumerate*}\n",
       "\\item 'дек'\n",
       "\\item 'дек'\n",
       "\\item 'дек'\n",
       "\\item 'дек'\n",
       "\\item 'дек'\n",
       "\\item 'дек'\n",
       "\\item 'дек'\n",
       "\\item 'дек'\n",
       "\\item 'дек'\n",
       "\\item 'дек'\n",
       "\\item 'дек'\n",
       "\\item 'дек'\n",
       "\\item 'дек'\n",
       "\\item 'дек'\n",
       "\\item 'дек'\n",
       "\\item 'дек'\n",
       "\\item 'дек'\n",
       "\\item 'дек'\n",
       "\\item 'дек'\n",
       "\\item 'дек'\n",
       "\\item 'дек'\n",
       "\\item 'дек'\n",
       "\\item 'дек'\n",
       "\\item 'дек'\n",
       "\\item 'дек'\n",
       "\\item 'дек'\n",
       "\\item 'дек'\n",
       "\\item 'дек'\n",
       "\\item 'дек'\n",
       "\\item 'дек'\n",
       "\\item 'дек'\n",
       "\\end{enumerate*}\n"
      ],
      "text/markdown": [
       "1. 'дек'\n",
       "2. 'дек'\n",
       "3. 'дек'\n",
       "4. 'дек'\n",
       "5. 'дек'\n",
       "6. 'дек'\n",
       "7. 'дек'\n",
       "8. 'дек'\n",
       "9. 'дек'\n",
       "10. 'дек'\n",
       "11. 'дек'\n",
       "12. 'дек'\n",
       "13. 'дек'\n",
       "14. 'дек'\n",
       "15. 'дек'\n",
       "16. 'дек'\n",
       "17. 'дек'\n",
       "18. 'дек'\n",
       "19. 'дек'\n",
       "20. 'дек'\n",
       "21. 'дек'\n",
       "22. 'дек'\n",
       "23. 'дек'\n",
       "24. 'дек'\n",
       "25. 'дек'\n",
       "26. 'дек'\n",
       "27. 'дек'\n",
       "28. 'дек'\n",
       "29. 'дек'\n",
       "30. 'дек'\n",
       "31. 'дек'\n",
       "\n",
       "\n"
      ],
      "text/plain": [
       " [1] \"дек\" \"дек\" \"дек\" \"дек\" \"дек\" \"дек\" \"дек\" \"дек\" \"дек\" \"дек\" \"дек\" \"дек\"\n",
       "[13] \"дек\" \"дек\" \"дек\" \"дек\" \"дек\" \"дек\" \"дек\" \"дек\" \"дек\" \"дек\" \"дек\" \"дек\"\n",
       "[25] \"дек\" \"дек\" \"дек\" \"дек\" \"дек\" \"дек\" \"дек\""
      ]
     },
     "metadata": {},
     "output_type": "display_data"
    }
   ],
   "source": [
    "format(ISOdate(2022,12,1:31),\"%b\")"
   ]
  },
  {
   "cell_type": "code",
   "execution_count": 138,
   "id": "ed6bb143",
   "metadata": {
    "ExecuteTime": {
     "end_time": "2022-12-15T09:04:25.204601Z",
     "start_time": "2022-12-15T09:04:25.173Z"
    }
   },
   "outputs": [
    {
     "data": {
      "text/html": [
       "<style>\n",
       ".list-inline {list-style: none; margin:0; padding: 0}\n",
       ".list-inline>li {display: inline-block}\n",
       ".list-inline>li:not(:last-child)::after {content: \"\\00b7\"; padding: 0 .5ex}\n",
       "</style>\n",
       "<ol class=list-inline><li>'01'</li><li>'02'</li><li>'03'</li><li>'04'</li><li>'05'</li><li>'06'</li><li>'07'</li><li>'08'</li><li>'09'</li><li>'10'</li><li>'11'</li><li>'12'</li><li>'13'</li><li>'14'</li><li>'15'</li><li>'16'</li><li>'17'</li><li>'18'</li><li>'19'</li><li>'20'</li><li>'21'</li><li>'22'</li><li>'23'</li><li>'24'</li><li>'25'</li><li>'26'</li><li>'27'</li><li>'28'</li><li>'29'</li><li>'30'</li><li>'31'</li></ol>\n"
      ],
      "text/latex": [
       "\\begin{enumerate*}\n",
       "\\item '01'\n",
       "\\item '02'\n",
       "\\item '03'\n",
       "\\item '04'\n",
       "\\item '05'\n",
       "\\item '06'\n",
       "\\item '07'\n",
       "\\item '08'\n",
       "\\item '09'\n",
       "\\item '10'\n",
       "\\item '11'\n",
       "\\item '12'\n",
       "\\item '13'\n",
       "\\item '14'\n",
       "\\item '15'\n",
       "\\item '16'\n",
       "\\item '17'\n",
       "\\item '18'\n",
       "\\item '19'\n",
       "\\item '20'\n",
       "\\item '21'\n",
       "\\item '22'\n",
       "\\item '23'\n",
       "\\item '24'\n",
       "\\item '25'\n",
       "\\item '26'\n",
       "\\item '27'\n",
       "\\item '28'\n",
       "\\item '29'\n",
       "\\item '30'\n",
       "\\item '31'\n",
       "\\end{enumerate*}\n"
      ],
      "text/markdown": [
       "1. '01'\n",
       "2. '02'\n",
       "3. '03'\n",
       "4. '04'\n",
       "5. '05'\n",
       "6. '06'\n",
       "7. '07'\n",
       "8. '08'\n",
       "9. '09'\n",
       "10. '10'\n",
       "11. '11'\n",
       "12. '12'\n",
       "13. '13'\n",
       "14. '14'\n",
       "15. '15'\n",
       "16. '16'\n",
       "17. '17'\n",
       "18. '18'\n",
       "19. '19'\n",
       "20. '20'\n",
       "21. '21'\n",
       "22. '22'\n",
       "23. '23'\n",
       "24. '24'\n",
       "25. '25'\n",
       "26. '26'\n",
       "27. '27'\n",
       "28. '28'\n",
       "29. '29'\n",
       "30. '30'\n",
       "31. '31'\n",
       "\n",
       "\n"
      ],
      "text/plain": [
       " [1] \"01\" \"02\" \"03\" \"04\" \"05\" \"06\" \"07\" \"08\" \"09\" \"10\" \"11\" \"12\" \"13\" \"14\" \"15\"\n",
       "[16] \"16\" \"17\" \"18\" \"19\" \"20\" \"21\" \"22\" \"23\" \"24\" \"25\" \"26\" \"27\" \"28\" \"29\" \"30\"\n",
       "[31] \"31\""
      ]
     },
     "metadata": {},
     "output_type": "display_data"
    }
   ],
   "source": [
    "format(ISOdate(2022,12,1:31),\"%d\")"
   ]
  },
  {
   "cell_type": "code",
   "execution_count": 139,
   "id": "ae642385",
   "metadata": {
    "ExecuteTime": {
     "end_time": "2022-12-15T09:06:28.514594Z",
     "start_time": "2022-12-15T09:06:28.494Z"
    }
   },
   "outputs": [
    {
     "data": {
      "text/html": [
       "<style>\n",
       ".list-inline {list-style: none; margin:0; padding: 0}\n",
       ".list-inline>li {display: inline-block}\n",
       ".list-inline>li:not(:last-child)::after {content: \"\\00b7\"; padding: 0 .5ex}\n",
       "</style>\n",
       "<ol class=list-inline><li>'01_дек'</li><li>'02_дек'</li><li>'03_дек'</li><li>'04_дек'</li><li>'05_дек'</li><li>'06_дек'</li><li>'07_дек'</li><li>'08_дек'</li><li>'09_дек'</li><li>'10_дек'</li><li>'11_дек'</li><li>'12_дек'</li><li>'13_дек'</li><li>'14_дек'</li><li>'15_дек'</li><li>'16_дек'</li><li>'17_дек'</li><li>'18_дек'</li><li>'19_дек'</li><li>'20_дек'</li><li>'21_дек'</li><li>'22_дек'</li><li>'23_дек'</li><li>'24_дек'</li><li>'25_дек'</li><li>'26_дек'</li><li>'27_дек'</li><li>'28_дек'</li><li>'29_дек'</li><li>'30_дек'</li><li>'31_дек'</li></ol>\n"
      ],
      "text/latex": [
       "\\begin{enumerate*}\n",
       "\\item '01\\_дек'\n",
       "\\item '02\\_дек'\n",
       "\\item '03\\_дек'\n",
       "\\item '04\\_дек'\n",
       "\\item '05\\_дек'\n",
       "\\item '06\\_дек'\n",
       "\\item '07\\_дек'\n",
       "\\item '08\\_дек'\n",
       "\\item '09\\_дек'\n",
       "\\item '10\\_дек'\n",
       "\\item '11\\_дек'\n",
       "\\item '12\\_дек'\n",
       "\\item '13\\_дек'\n",
       "\\item '14\\_дек'\n",
       "\\item '15\\_дек'\n",
       "\\item '16\\_дек'\n",
       "\\item '17\\_дек'\n",
       "\\item '18\\_дек'\n",
       "\\item '19\\_дек'\n",
       "\\item '20\\_дек'\n",
       "\\item '21\\_дек'\n",
       "\\item '22\\_дек'\n",
       "\\item '23\\_дек'\n",
       "\\item '24\\_дек'\n",
       "\\item '25\\_дек'\n",
       "\\item '26\\_дек'\n",
       "\\item '27\\_дек'\n",
       "\\item '28\\_дек'\n",
       "\\item '29\\_дек'\n",
       "\\item '30\\_дек'\n",
       "\\item '31\\_дек'\n",
       "\\end{enumerate*}\n"
      ],
      "text/markdown": [
       "1. '01_дек'\n",
       "2. '02_дек'\n",
       "3. '03_дек'\n",
       "4. '04_дек'\n",
       "5. '05_дек'\n",
       "6. '06_дек'\n",
       "7. '07_дек'\n",
       "8. '08_дек'\n",
       "9. '09_дек'\n",
       "10. '10_дек'\n",
       "11. '11_дек'\n",
       "12. '12_дек'\n",
       "13. '13_дек'\n",
       "14. '14_дек'\n",
       "15. '15_дек'\n",
       "16. '16_дек'\n",
       "17. '17_дек'\n",
       "18. '18_дек'\n",
       "19. '19_дек'\n",
       "20. '20_дек'\n",
       "21. '21_дек'\n",
       "22. '22_дек'\n",
       "23. '23_дек'\n",
       "24. '24_дек'\n",
       "25. '25_дек'\n",
       "26. '26_дек'\n",
       "27. '27_дек'\n",
       "28. '28_дек'\n",
       "29. '29_дек'\n",
       "30. '30_дек'\n",
       "31. '31_дек'\n",
       "\n",
       "\n"
      ],
      "text/plain": [
       " [1] \"01_дек\" \"02_дек\" \"03_дек\" \"04_дек\" \"05_дек\" \"06_дек\" \"07_дек\" \"08_дек\"\n",
       " [9] \"09_дек\" \"10_дек\" \"11_дек\" \"12_дек\" \"13_дек\" \"14_дек\" \"15_дек\" \"16_дек\"\n",
       "[17] \"17_дек\" \"18_дек\" \"19_дек\" \"20_дек\" \"21_дек\" \"22_дек\" \"23_дек\" \"24_дек\"\n",
       "[25] \"25_дек\" \"26_дек\" \"27_дек\" \"28_дек\" \"29_дек\" \"30_дек\" \"31_дек\""
      ]
     },
     "metadata": {},
     "output_type": "display_data"
    }
   ],
   "source": [
    "paste0(format(ISOdate(2022,12,1:31),\"%d\"),set=\"_\",format(ISOdate(2022,12,1:31),\"%b\"))"
   ]
  },
  {
   "cell_type": "code",
   "execution_count": 140,
   "id": "ecdc80c8",
   "metadata": {
    "ExecuteTime": {
     "end_time": "2022-12-15T09:07:16.011288Z",
     "start_time": "2022-12-15T09:07:15.991Z"
    }
   },
   "outputs": [
    {
     "data": {
      "text/html": [
       "<style>\n",
       ".list-inline {list-style: none; margin:0; padding: 0}\n",
       ".list-inline>li {display: inline-block}\n",
       ".list-inline>li:not(:last-child)::after {content: \"\\00b7\"; padding: 0 .5ex}\n",
       "</style>\n",
       "<ol class=list-inline><li>'01_сен'</li><li>'02_сен'</li><li>'03_сен'</li><li>'04_сен'</li><li>'05_сен'</li><li>'06_сен'</li><li>'07_сен'</li><li>'08_сен'</li><li>'09_сен'</li><li>'10_сен'</li><li>'11_сен'</li><li>'12_сен'</li><li>'13_сен'</li><li>'14_сен'</li><li>'15_сен'</li><li>'16_сен'</li><li>'17_сен'</li><li>'18_сен'</li><li>'19_сен'</li><li>'20_сен'</li><li>'21_сен'</li><li>'22_сен'</li><li>'23_сен'</li><li>'24_сен'</li><li>'25_сен'</li><li>'26_сен'</li><li>'27_сен'</li><li>'28_сен'</li><li>'29_сен'</li><li>'30_сен'</li><li>'31_сен'</li></ol>\n"
      ],
      "text/latex": [
       "\\begin{enumerate*}\n",
       "\\item '01\\_сен'\n",
       "\\item '02\\_сен'\n",
       "\\item '03\\_сен'\n",
       "\\item '04\\_сен'\n",
       "\\item '05\\_сен'\n",
       "\\item '06\\_сен'\n",
       "\\item '07\\_сен'\n",
       "\\item '08\\_сен'\n",
       "\\item '09\\_сен'\n",
       "\\item '10\\_сен'\n",
       "\\item '11\\_сен'\n",
       "\\item '12\\_сен'\n",
       "\\item '13\\_сен'\n",
       "\\item '14\\_сен'\n",
       "\\item '15\\_сен'\n",
       "\\item '16\\_сен'\n",
       "\\item '17\\_сен'\n",
       "\\item '18\\_сен'\n",
       "\\item '19\\_сен'\n",
       "\\item '20\\_сен'\n",
       "\\item '21\\_сен'\n",
       "\\item '22\\_сен'\n",
       "\\item '23\\_сен'\n",
       "\\item '24\\_сен'\n",
       "\\item '25\\_сен'\n",
       "\\item '26\\_сен'\n",
       "\\item '27\\_сен'\n",
       "\\item '28\\_сен'\n",
       "\\item '29\\_сен'\n",
       "\\item '30\\_сен'\n",
       "\\item '31\\_сен'\n",
       "\\end{enumerate*}\n"
      ],
      "text/markdown": [
       "1. '01_сен'\n",
       "2. '02_сен'\n",
       "3. '03_сен'\n",
       "4. '04_сен'\n",
       "5. '05_сен'\n",
       "6. '06_сен'\n",
       "7. '07_сен'\n",
       "8. '08_сен'\n",
       "9. '09_сен'\n",
       "10. '10_сен'\n",
       "11. '11_сен'\n",
       "12. '12_сен'\n",
       "13. '13_сен'\n",
       "14. '14_сен'\n",
       "15. '15_сен'\n",
       "16. '16_сен'\n",
       "17. '17_сен'\n",
       "18. '18_сен'\n",
       "19. '19_сен'\n",
       "20. '20_сен'\n",
       "21. '21_сен'\n",
       "22. '22_сен'\n",
       "23. '23_сен'\n",
       "24. '24_сен'\n",
       "25. '25_сен'\n",
       "26. '26_сен'\n",
       "27. '27_сен'\n",
       "28. '28_сен'\n",
       "29. '29_сен'\n",
       "30. '30_сен'\n",
       "31. '31_сен'\n",
       "\n",
       "\n"
      ],
      "text/plain": [
       " [1] \"01_сен\" \"02_сен\" \"03_сен\" \"04_сен\" \"05_сен\" \"06_сен\" \"07_сен\" \"08_сен\"\n",
       " [9] \"09_сен\" \"10_сен\" \"11_сен\" \"12_сен\" \"13_сен\" \"14_сен\" \"15_сен\" \"16_сен\"\n",
       "[17] \"17_сен\" \"18_сен\" \"19_сен\" \"20_сен\" \"21_сен\" \"22_сен\" \"23_сен\" \"24_сен\"\n",
       "[25] \"25_сен\" \"26_сен\" \"27_сен\" \"28_сен\" \"29_сен\" \"30_сен\" \"31_сен\""
      ]
     },
     "metadata": {},
     "output_type": "display_data"
    }
   ],
   "source": [
    "paste0(format(ISOdate(2022,12,1:31),\"%d\"),set=\"_\",rep(\"сен\",time=30))"
   ]
  },
  {
   "cell_type": "code",
   "execution_count": 141,
   "id": "ce335e8b",
   "metadata": {
    "ExecuteTime": {
     "end_time": "2022-12-15T09:08:55.341702Z",
     "start_time": "2022-12-15T09:08:55.017Z"
    }
   },
   "outputs": [],
   "source": [
    "help(sort)"
   ]
  },
  {
   "cell_type": "code",
   "execution_count": 142,
   "id": "4ca265f2",
   "metadata": {
    "ExecuteTime": {
     "end_time": "2022-12-15T09:09:06.602299Z",
     "start_time": "2022-12-15T09:09:06.537Z"
    }
   },
   "outputs": [],
   "source": [
    "data()"
   ]
  },
  {
   "cell_type": "code",
   "execution_count": 143,
   "id": "4df26d00",
   "metadata": {
    "ExecuteTime": {
     "end_time": "2022-12-15T09:10:00.122276Z",
     "start_time": "2022-12-15T09:10:00.014Z"
    }
   },
   "outputs": [],
   "source": [
    "data(package = .packages(all.available = TRUE))"
   ]
  },
  {
   "cell_type": "code",
   "execution_count": 144,
   "id": "30d2c027",
   "metadata": {
    "ExecuteTime": {
     "end_time": "2022-12-15T09:11:36.475244Z",
     "start_time": "2022-12-15T09:11:28.932Z"
    }
   },
   "outputs": [
    {
     "name": "stdout",
     "output_type": "stream",
     "text": [
      "package 'cluster' successfully unpacked and MD5 sums checked\n",
      "\n",
      "The downloaded binary packages are in\n",
      "\tC:\\Users\\demin\\AppData\\Local\\Temp\\Rtmp863S7i\\downloaded_packages\n"
     ]
    }
   ],
   "source": [
    "# install.packages(\"cluster\")"
   ]
  },
  {
   "cell_type": "code",
   "execution_count": 146,
   "id": "6aabe100",
   "metadata": {
    "ExecuteTime": {
     "end_time": "2022-12-15T09:12:25.814215Z",
     "start_time": "2022-12-15T09:12:25.756Z"
    }
   },
   "outputs": [
    {
     "data": {
      "text/html": [
       "<table class=\"dataframe\">\n",
       "<caption>A data.frame: 20 × 6</caption>\n",
       "<thead>\n",
       "\t<tr><th></th><th scope=col>war</th><th scope=col>fly</th><th scope=col>ver</th><th scope=col>end</th><th scope=col>gro</th><th scope=col>hai</th></tr>\n",
       "\t<tr><th></th><th scope=col>&lt;int&gt;</th><th scope=col>&lt;int&gt;</th><th scope=col>&lt;int&gt;</th><th scope=col>&lt;int&gt;</th><th scope=col>&lt;int&gt;</th><th scope=col>&lt;int&gt;</th></tr>\n",
       "</thead>\n",
       "<tbody>\n",
       "\t<tr><th scope=row>ant</th><td>1</td><td>1</td><td>1</td><td> 1</td><td> 2</td><td>1</td></tr>\n",
       "\t<tr><th scope=row>bee</th><td>1</td><td>2</td><td>1</td><td> 1</td><td> 2</td><td>2</td></tr>\n",
       "\t<tr><th scope=row>cat</th><td>2</td><td>1</td><td>2</td><td> 1</td><td> 1</td><td>2</td></tr>\n",
       "\t<tr><th scope=row>cpl</th><td>1</td><td>1</td><td>1</td><td> 1</td><td> 1</td><td>2</td></tr>\n",
       "\t<tr><th scope=row>chi</th><td>2</td><td>1</td><td>2</td><td> 2</td><td> 2</td><td>2</td></tr>\n",
       "\t<tr><th scope=row>cow</th><td>2</td><td>1</td><td>2</td><td> 1</td><td> 2</td><td>2</td></tr>\n",
       "\t<tr><th scope=row>duc</th><td>2</td><td>2</td><td>2</td><td> 1</td><td> 2</td><td>1</td></tr>\n",
       "\t<tr><th scope=row>eag</th><td>2</td><td>2</td><td>2</td><td> 2</td><td> 1</td><td>1</td></tr>\n",
       "\t<tr><th scope=row>ele</th><td>2</td><td>1</td><td>2</td><td> 2</td><td> 2</td><td>1</td></tr>\n",
       "\t<tr><th scope=row>fly</th><td>1</td><td>2</td><td>1</td><td> 1</td><td> 1</td><td>1</td></tr>\n",
       "\t<tr><th scope=row>fro</th><td>1</td><td>1</td><td>2</td><td> 2</td><td>NA</td><td>1</td></tr>\n",
       "\t<tr><th scope=row>her</th><td>1</td><td>1</td><td>2</td><td> 1</td><td> 2</td><td>1</td></tr>\n",
       "\t<tr><th scope=row>lio</th><td>2</td><td>1</td><td>2</td><td>NA</td><td> 2</td><td>2</td></tr>\n",
       "\t<tr><th scope=row>liz</th><td>1</td><td>1</td><td>2</td><td> 1</td><td> 1</td><td>1</td></tr>\n",
       "\t<tr><th scope=row>lob</th><td>1</td><td>1</td><td>1</td><td> 1</td><td>NA</td><td>1</td></tr>\n",
       "\t<tr><th scope=row>man</th><td>2</td><td>1</td><td>2</td><td> 2</td><td> 2</td><td>2</td></tr>\n",
       "\t<tr><th scope=row>rab</th><td>2</td><td>1</td><td>2</td><td> 1</td><td> 2</td><td>2</td></tr>\n",
       "\t<tr><th scope=row>sal</th><td>1</td><td>1</td><td>2</td><td> 1</td><td>NA</td><td>1</td></tr>\n",
       "\t<tr><th scope=row>spi</th><td>1</td><td>1</td><td>1</td><td>NA</td><td> 1</td><td>2</td></tr>\n",
       "\t<tr><th scope=row>wha</th><td>2</td><td>1</td><td>2</td><td> 2</td><td> 2</td><td>1</td></tr>\n",
       "</tbody>\n",
       "</table>\n"
      ],
      "text/latex": [
       "A data.frame: 20 × 6\n",
       "\\begin{tabular}{r|llllll}\n",
       "  & war & fly & ver & end & gro & hai\\\\\n",
       "  & <int> & <int> & <int> & <int> & <int> & <int>\\\\\n",
       "\\hline\n",
       "\tant & 1 & 1 & 1 &  1 &  2 & 1\\\\\n",
       "\tbee & 1 & 2 & 1 &  1 &  2 & 2\\\\\n",
       "\tcat & 2 & 1 & 2 &  1 &  1 & 2\\\\\n",
       "\tcpl & 1 & 1 & 1 &  1 &  1 & 2\\\\\n",
       "\tchi & 2 & 1 & 2 &  2 &  2 & 2\\\\\n",
       "\tcow & 2 & 1 & 2 &  1 &  2 & 2\\\\\n",
       "\tduc & 2 & 2 & 2 &  1 &  2 & 1\\\\\n",
       "\teag & 2 & 2 & 2 &  2 &  1 & 1\\\\\n",
       "\tele & 2 & 1 & 2 &  2 &  2 & 1\\\\\n",
       "\tfly & 1 & 2 & 1 &  1 &  1 & 1\\\\\n",
       "\tfro & 1 & 1 & 2 &  2 & NA & 1\\\\\n",
       "\ther & 1 & 1 & 2 &  1 &  2 & 1\\\\\n",
       "\tlio & 2 & 1 & 2 & NA &  2 & 2\\\\\n",
       "\tliz & 1 & 1 & 2 &  1 &  1 & 1\\\\\n",
       "\tlob & 1 & 1 & 1 &  1 & NA & 1\\\\\n",
       "\tman & 2 & 1 & 2 &  2 &  2 & 2\\\\\n",
       "\trab & 2 & 1 & 2 &  1 &  2 & 2\\\\\n",
       "\tsal & 1 & 1 & 2 &  1 & NA & 1\\\\\n",
       "\tspi & 1 & 1 & 1 & NA &  1 & 2\\\\\n",
       "\twha & 2 & 1 & 2 &  2 &  2 & 1\\\\\n",
       "\\end{tabular}\n"
      ],
      "text/markdown": [
       "\n",
       "A data.frame: 20 × 6\n",
       "\n",
       "| <!--/--> | war &lt;int&gt; | fly &lt;int&gt; | ver &lt;int&gt; | end &lt;int&gt; | gro &lt;int&gt; | hai &lt;int&gt; |\n",
       "|---|---|---|---|---|---|---|\n",
       "| ant | 1 | 1 | 1 |  1 |  2 | 1 |\n",
       "| bee | 1 | 2 | 1 |  1 |  2 | 2 |\n",
       "| cat | 2 | 1 | 2 |  1 |  1 | 2 |\n",
       "| cpl | 1 | 1 | 1 |  1 |  1 | 2 |\n",
       "| chi | 2 | 1 | 2 |  2 |  2 | 2 |\n",
       "| cow | 2 | 1 | 2 |  1 |  2 | 2 |\n",
       "| duc | 2 | 2 | 2 |  1 |  2 | 1 |\n",
       "| eag | 2 | 2 | 2 |  2 |  1 | 1 |\n",
       "| ele | 2 | 1 | 2 |  2 |  2 | 1 |\n",
       "| fly | 1 | 2 | 1 |  1 |  1 | 1 |\n",
       "| fro | 1 | 1 | 2 |  2 | NA | 1 |\n",
       "| her | 1 | 1 | 2 |  1 |  2 | 1 |\n",
       "| lio | 2 | 1 | 2 | NA |  2 | 2 |\n",
       "| liz | 1 | 1 | 2 |  1 |  1 | 1 |\n",
       "| lob | 1 | 1 | 1 |  1 | NA | 1 |\n",
       "| man | 2 | 1 | 2 |  2 |  2 | 2 |\n",
       "| rab | 2 | 1 | 2 |  1 |  2 | 2 |\n",
       "| sal | 1 | 1 | 2 |  1 | NA | 1 |\n",
       "| spi | 1 | 1 | 1 | NA |  1 | 2 |\n",
       "| wha | 2 | 1 | 2 |  2 |  2 | 1 |\n",
       "\n"
      ],
      "text/plain": [
       "    war fly ver end gro hai\n",
       "ant 1   1   1    1   2  1  \n",
       "bee 1   2   1    1   2  2  \n",
       "cat 2   1   2    1   1  2  \n",
       "cpl 1   1   1    1   1  2  \n",
       "chi 2   1   2    2   2  2  \n",
       "cow 2   1   2    1   2  2  \n",
       "duc 2   2   2    1   2  1  \n",
       "eag 2   2   2    2   1  1  \n",
       "ele 2   1   2    2   2  1  \n",
       "fly 1   2   1    1   1  1  \n",
       "fro 1   1   2    2  NA  1  \n",
       "her 1   1   2    1   2  1  \n",
       "lio 2   1   2   NA   2  2  \n",
       "liz 1   1   2    1   1  1  \n",
       "lob 1   1   1    1  NA  1  \n",
       "man 2   1   2    2   2  2  \n",
       "rab 2   1   2    1   2  2  \n",
       "sal 1   1   2    1  NA  1  \n",
       "spi 1   1   1   NA   1  2  \n",
       "wha 2   1   2    2   2  1  "
      ]
     },
     "metadata": {},
     "output_type": "display_data"
    }
   ],
   "source": [
    "library(cluster)\n",
    "animals"
   ]
  },
  {
   "cell_type": "code",
   "execution_count": 149,
   "id": "3efad5db",
   "metadata": {
    "ExecuteTime": {
     "end_time": "2022-12-15T09:13:56.459162Z",
     "start_time": "2022-12-15T09:13:55.418Z"
    }
   },
   "outputs": [
    {
     "name": "stdout",
     "output_type": "stream",
     "text": [
      "[1] FALSE\n",
      "[1] TRUE\n"
     ]
    }
   ],
   "source": [
    "print(5>6)\n",
    "print(5<100)"
   ]
  },
  {
   "cell_type": "code",
   "execution_count": 150,
   "id": "1575d3a8",
   "metadata": {
    "ExecuteTime": {
     "end_time": "2022-12-15T09:14:11.384812Z",
     "start_time": "2022-12-15T09:14:11.363Z"
    }
   },
   "outputs": [
    {
     "data": {
      "text/html": [
       "FALSE"
      ],
      "text/latex": [
       "FALSE"
      ],
      "text/markdown": [
       "FALSE"
      ],
      "text/plain": [
       "[1] FALSE"
      ]
     },
     "metadata": {},
     "output_type": "display_data"
    }
   ],
   "source": [
    "2!=2"
   ]
  },
  {
   "cell_type": "code",
   "execution_count": 151,
   "id": "7225a9cd",
   "metadata": {
    "ExecuteTime": {
     "end_time": "2022-12-15T09:14:19.763447Z",
     "start_time": "2022-12-15T09:14:19.745Z"
    }
   },
   "outputs": [
    {
     "data": {
      "text/html": [
       "TRUE"
      ],
      "text/latex": [
       "TRUE"
      ],
      "text/markdown": [
       "TRUE"
      ],
      "text/plain": [
       "[1] TRUE"
      ]
     },
     "metadata": {},
     "output_type": "display_data"
    }
   ],
   "source": [
    "3==3"
   ]
  },
  {
   "cell_type": "code",
   "execution_count": 152,
   "id": "b46095e8",
   "metadata": {
    "ExecuteTime": {
     "end_time": "2022-12-15T09:14:29.765495Z",
     "start_time": "2022-12-15T09:14:29.746Z"
    }
   },
   "outputs": [
    {
     "data": {
      "text/html": [
       "TRUE"
      ],
      "text/latex": [
       "TRUE"
      ],
      "text/markdown": [
       "TRUE"
      ],
      "text/plain": [
       "[1] TRUE"
      ]
     },
     "metadata": {},
     "output_type": "display_data"
    }
   ],
   "source": [
    "10>=10"
   ]
  },
  {
   "cell_type": "code",
   "execution_count": 155,
   "id": "a56ce409",
   "metadata": {
    "ExecuteTime": {
     "end_time": "2022-12-15T09:15:04.810235Z",
     "start_time": "2022-12-15T09:15:04.792Z"
    }
   },
   "outputs": [
    {
     "data": {
      "text/html": [
       "FALSE"
      ],
      "text/latex": [
       "FALSE"
      ],
      "text/markdown": [
       "FALSE"
      ],
      "text/plain": [
       "[1] FALSE"
      ]
     },
     "metadata": {},
     "output_type": "display_data"
    }
   ],
   "source": [
    "6>7 | 8>9"
   ]
  },
  {
   "cell_type": "code",
   "execution_count": 157,
   "id": "c06bd7e4",
   "metadata": {
    "ExecuteTime": {
     "end_time": "2022-12-15T09:15:39.760832Z",
     "start_time": "2022-12-15T09:15:39.743Z"
    }
   },
   "outputs": [
    {
     "data": {
      "text/html": [
       "TRUE"
      ],
      "text/latex": [
       "TRUE"
      ],
      "text/markdown": [
       "TRUE"
      ],
      "text/plain": [
       "[1] TRUE"
      ]
     },
     "metadata": {},
     "output_type": "display_data"
    }
   ],
   "source": [
    "6>7 | 10>9"
   ]
  },
  {
   "cell_type": "code",
   "execution_count": 158,
   "id": "a122aa5f",
   "metadata": {
    "ExecuteTime": {
     "end_time": "2022-12-15T09:16:29.204154Z",
     "start_time": "2022-12-15T09:16:29.186Z"
    }
   },
   "outputs": [
    {
     "data": {
      "text/html": [
       "FALSE"
      ],
      "text/latex": [
       "FALSE"
      ],
      "text/markdown": [
       "FALSE"
      ],
      "text/plain": [
       "[1] FALSE"
      ]
     },
     "metadata": {},
     "output_type": "display_data"
    }
   ],
   "source": [
    "6>7 & 10>9"
   ]
  },
  {
   "cell_type": "code",
   "execution_count": 159,
   "id": "4eb76b4c",
   "metadata": {
    "ExecuteTime": {
     "end_time": "2022-12-15T09:16:37.842609Z",
     "start_time": "2022-12-15T09:16:37.824Z"
    }
   },
   "outputs": [
    {
     "data": {
      "text/html": [
       "TRUE"
      ],
      "text/latex": [
       "TRUE"
      ],
      "text/markdown": [
       "TRUE"
      ],
      "text/plain": [
       "[1] TRUE"
      ]
     },
     "metadata": {},
     "output_type": "display_data"
    }
   ],
   "source": [
    "12>7 & 10>9"
   ]
  },
  {
   "cell_type": "code",
   "execution_count": 160,
   "id": "3457cdc7",
   "metadata": {
    "ExecuteTime": {
     "end_time": "2022-12-15T09:17:48.753555Z",
     "start_time": "2022-12-15T09:17:48.735Z"
    }
   },
   "outputs": [
    {
     "data": {
      "text/html": [
       "FALSE"
      ],
      "text/latex": [
       "FALSE"
      ],
      "text/markdown": [
       "FALSE"
      ],
      "text/plain": [
       "[1] FALSE"
      ]
     },
     "metadata": {},
     "output_type": "display_data"
    }
   ],
   "source": [
    "((T==F)&(1==1)) & (100==100)"
   ]
  },
  {
   "cell_type": "code",
   "execution_count": 161,
   "id": "b7c9408e",
   "metadata": {
    "ExecuteTime": {
     "end_time": "2022-12-15T09:17:58.728535Z",
     "start_time": "2022-12-15T09:17:58.708Z"
    }
   },
   "outputs": [
    {
     "data": {
      "text/html": [
       "TRUE"
      ],
      "text/latex": [
       "TRUE"
      ],
      "text/markdown": [
       "TRUE"
      ],
      "text/plain": [
       "[1] TRUE"
      ]
     },
     "metadata": {},
     "output_type": "display_data"
    }
   ],
   "source": [
    "((T==F)&(1==1)) | (100==100)"
   ]
  },
  {
   "cell_type": "code",
   "execution_count": 162,
   "id": "2dbe53da",
   "metadata": {
    "ExecuteTime": {
     "end_time": "2022-12-15T09:18:30.329216Z",
     "start_time": "2022-12-15T09:18:30.297Z"
    }
   },
   "outputs": [
    {
     "data": {
      "text/html": [
       "<table class=\"dataframe\">\n",
       "<caption>A matrix: 20 × 6 of type lgl</caption>\n",
       "<thead>\n",
       "\t<tr><th></th><th scope=col>war</th><th scope=col>fly</th><th scope=col>ver</th><th scope=col>end</th><th scope=col>gro</th><th scope=col>hai</th></tr>\n",
       "</thead>\n",
       "<tbody>\n",
       "\t<tr><th scope=row>ant</th><td>FALSE</td><td>FALSE</td><td>FALSE</td><td>FALSE</td><td>FALSE</td><td>FALSE</td></tr>\n",
       "\t<tr><th scope=row>bee</th><td>FALSE</td><td>FALSE</td><td>FALSE</td><td>FALSE</td><td>FALSE</td><td>FALSE</td></tr>\n",
       "\t<tr><th scope=row>cat</th><td>FALSE</td><td>FALSE</td><td>FALSE</td><td>FALSE</td><td>FALSE</td><td>FALSE</td></tr>\n",
       "\t<tr><th scope=row>cpl</th><td>FALSE</td><td>FALSE</td><td>FALSE</td><td>FALSE</td><td>FALSE</td><td>FALSE</td></tr>\n",
       "\t<tr><th scope=row>chi</th><td>FALSE</td><td>FALSE</td><td>FALSE</td><td>FALSE</td><td>FALSE</td><td>FALSE</td></tr>\n",
       "\t<tr><th scope=row>cow</th><td>FALSE</td><td>FALSE</td><td>FALSE</td><td>FALSE</td><td>FALSE</td><td>FALSE</td></tr>\n",
       "\t<tr><th scope=row>duc</th><td>FALSE</td><td>FALSE</td><td>FALSE</td><td>FALSE</td><td>FALSE</td><td>FALSE</td></tr>\n",
       "\t<tr><th scope=row>eag</th><td>FALSE</td><td>FALSE</td><td>FALSE</td><td>FALSE</td><td>FALSE</td><td>FALSE</td></tr>\n",
       "\t<tr><th scope=row>ele</th><td>FALSE</td><td>FALSE</td><td>FALSE</td><td>FALSE</td><td>FALSE</td><td>FALSE</td></tr>\n",
       "\t<tr><th scope=row>fly</th><td>FALSE</td><td>FALSE</td><td>FALSE</td><td>FALSE</td><td>FALSE</td><td>FALSE</td></tr>\n",
       "\t<tr><th scope=row>fro</th><td>FALSE</td><td>FALSE</td><td>FALSE</td><td>FALSE</td><td> TRUE</td><td>FALSE</td></tr>\n",
       "\t<tr><th scope=row>her</th><td>FALSE</td><td>FALSE</td><td>FALSE</td><td>FALSE</td><td>FALSE</td><td>FALSE</td></tr>\n",
       "\t<tr><th scope=row>lio</th><td>FALSE</td><td>FALSE</td><td>FALSE</td><td> TRUE</td><td>FALSE</td><td>FALSE</td></tr>\n",
       "\t<tr><th scope=row>liz</th><td>FALSE</td><td>FALSE</td><td>FALSE</td><td>FALSE</td><td>FALSE</td><td>FALSE</td></tr>\n",
       "\t<tr><th scope=row>lob</th><td>FALSE</td><td>FALSE</td><td>FALSE</td><td>FALSE</td><td> TRUE</td><td>FALSE</td></tr>\n",
       "\t<tr><th scope=row>man</th><td>FALSE</td><td>FALSE</td><td>FALSE</td><td>FALSE</td><td>FALSE</td><td>FALSE</td></tr>\n",
       "\t<tr><th scope=row>rab</th><td>FALSE</td><td>FALSE</td><td>FALSE</td><td>FALSE</td><td>FALSE</td><td>FALSE</td></tr>\n",
       "\t<tr><th scope=row>sal</th><td>FALSE</td><td>FALSE</td><td>FALSE</td><td>FALSE</td><td> TRUE</td><td>FALSE</td></tr>\n",
       "\t<tr><th scope=row>spi</th><td>FALSE</td><td>FALSE</td><td>FALSE</td><td> TRUE</td><td>FALSE</td><td>FALSE</td></tr>\n",
       "\t<tr><th scope=row>wha</th><td>FALSE</td><td>FALSE</td><td>FALSE</td><td>FALSE</td><td>FALSE</td><td>FALSE</td></tr>\n",
       "</tbody>\n",
       "</table>\n"
      ],
      "text/latex": [
       "A matrix: 20 × 6 of type lgl\n",
       "\\begin{tabular}{r|llllll}\n",
       "  & war & fly & ver & end & gro & hai\\\\\n",
       "\\hline\n",
       "\tant & FALSE & FALSE & FALSE & FALSE & FALSE & FALSE\\\\\n",
       "\tbee & FALSE & FALSE & FALSE & FALSE & FALSE & FALSE\\\\\n",
       "\tcat & FALSE & FALSE & FALSE & FALSE & FALSE & FALSE\\\\\n",
       "\tcpl & FALSE & FALSE & FALSE & FALSE & FALSE & FALSE\\\\\n",
       "\tchi & FALSE & FALSE & FALSE & FALSE & FALSE & FALSE\\\\\n",
       "\tcow & FALSE & FALSE & FALSE & FALSE & FALSE & FALSE\\\\\n",
       "\tduc & FALSE & FALSE & FALSE & FALSE & FALSE & FALSE\\\\\n",
       "\teag & FALSE & FALSE & FALSE & FALSE & FALSE & FALSE\\\\\n",
       "\tele & FALSE & FALSE & FALSE & FALSE & FALSE & FALSE\\\\\n",
       "\tfly & FALSE & FALSE & FALSE & FALSE & FALSE & FALSE\\\\\n",
       "\tfro & FALSE & FALSE & FALSE & FALSE &  TRUE & FALSE\\\\\n",
       "\ther & FALSE & FALSE & FALSE & FALSE & FALSE & FALSE\\\\\n",
       "\tlio & FALSE & FALSE & FALSE &  TRUE & FALSE & FALSE\\\\\n",
       "\tliz & FALSE & FALSE & FALSE & FALSE & FALSE & FALSE\\\\\n",
       "\tlob & FALSE & FALSE & FALSE & FALSE &  TRUE & FALSE\\\\\n",
       "\tman & FALSE & FALSE & FALSE & FALSE & FALSE & FALSE\\\\\n",
       "\trab & FALSE & FALSE & FALSE & FALSE & FALSE & FALSE\\\\\n",
       "\tsal & FALSE & FALSE & FALSE & FALSE &  TRUE & FALSE\\\\\n",
       "\tspi & FALSE & FALSE & FALSE &  TRUE & FALSE & FALSE\\\\\n",
       "\twha & FALSE & FALSE & FALSE & FALSE & FALSE & FALSE\\\\\n",
       "\\end{tabular}\n"
      ],
      "text/markdown": [
       "\n",
       "A matrix: 20 × 6 of type lgl\n",
       "\n",
       "| <!--/--> | war | fly | ver | end | gro | hai |\n",
       "|---|---|---|---|---|---|---|\n",
       "| ant | FALSE | FALSE | FALSE | FALSE | FALSE | FALSE |\n",
       "| bee | FALSE | FALSE | FALSE | FALSE | FALSE | FALSE |\n",
       "| cat | FALSE | FALSE | FALSE | FALSE | FALSE | FALSE |\n",
       "| cpl | FALSE | FALSE | FALSE | FALSE | FALSE | FALSE |\n",
       "| chi | FALSE | FALSE | FALSE | FALSE | FALSE | FALSE |\n",
       "| cow | FALSE | FALSE | FALSE | FALSE | FALSE | FALSE |\n",
       "| duc | FALSE | FALSE | FALSE | FALSE | FALSE | FALSE |\n",
       "| eag | FALSE | FALSE | FALSE | FALSE | FALSE | FALSE |\n",
       "| ele | FALSE | FALSE | FALSE | FALSE | FALSE | FALSE |\n",
       "| fly | FALSE | FALSE | FALSE | FALSE | FALSE | FALSE |\n",
       "| fro | FALSE | FALSE | FALSE | FALSE |  TRUE | FALSE |\n",
       "| her | FALSE | FALSE | FALSE | FALSE | FALSE | FALSE |\n",
       "| lio | FALSE | FALSE | FALSE |  TRUE | FALSE | FALSE |\n",
       "| liz | FALSE | FALSE | FALSE | FALSE | FALSE | FALSE |\n",
       "| lob | FALSE | FALSE | FALSE | FALSE |  TRUE | FALSE |\n",
       "| man | FALSE | FALSE | FALSE | FALSE | FALSE | FALSE |\n",
       "| rab | FALSE | FALSE | FALSE | FALSE | FALSE | FALSE |\n",
       "| sal | FALSE | FALSE | FALSE | FALSE |  TRUE | FALSE |\n",
       "| spi | FALSE | FALSE | FALSE |  TRUE | FALSE | FALSE |\n",
       "| wha | FALSE | FALSE | FALSE | FALSE | FALSE | FALSE |\n",
       "\n"
      ],
      "text/plain": [
       "    war   fly   ver   end   gro   hai  \n",
       "ant FALSE FALSE FALSE FALSE FALSE FALSE\n",
       "bee FALSE FALSE FALSE FALSE FALSE FALSE\n",
       "cat FALSE FALSE FALSE FALSE FALSE FALSE\n",
       "cpl FALSE FALSE FALSE FALSE FALSE FALSE\n",
       "chi FALSE FALSE FALSE FALSE FALSE FALSE\n",
       "cow FALSE FALSE FALSE FALSE FALSE FALSE\n",
       "duc FALSE FALSE FALSE FALSE FALSE FALSE\n",
       "eag FALSE FALSE FALSE FALSE FALSE FALSE\n",
       "ele FALSE FALSE FALSE FALSE FALSE FALSE\n",
       "fly FALSE FALSE FALSE FALSE FALSE FALSE\n",
       "fro FALSE FALSE FALSE FALSE  TRUE FALSE\n",
       "her FALSE FALSE FALSE FALSE FALSE FALSE\n",
       "lio FALSE FALSE FALSE  TRUE FALSE FALSE\n",
       "liz FALSE FALSE FALSE FALSE FALSE FALSE\n",
       "lob FALSE FALSE FALSE FALSE  TRUE FALSE\n",
       "man FALSE FALSE FALSE FALSE FALSE FALSE\n",
       "rab FALSE FALSE FALSE FALSE FALSE FALSE\n",
       "sal FALSE FALSE FALSE FALSE  TRUE FALSE\n",
       "spi FALSE FALSE FALSE  TRUE FALSE FALSE\n",
       "wha FALSE FALSE FALSE FALSE FALSE FALSE"
      ]
     },
     "metadata": {},
     "output_type": "display_data"
    }
   ],
   "source": [
    "is.na(animals)"
   ]
  },
  {
   "cell_type": "code",
   "execution_count": 163,
   "id": "d7983b52",
   "metadata": {
    "ExecuteTime": {
     "end_time": "2022-12-15T09:18:52.880245Z",
     "start_time": "2022-12-15T09:18:52.858Z"
    }
   },
   "outputs": [
    {
     "data": {
      "text/html": [
       "5"
      ],
      "text/latex": [
       "5"
      ],
      "text/markdown": [
       "5"
      ],
      "text/plain": [
       "[1] 5"
      ]
     },
     "metadata": {},
     "output_type": "display_data"
    }
   ],
   "source": [
    "sum(is.na(animals))"
   ]
  },
  {
   "cell_type": "code",
   "execution_count": 164,
   "id": "884961ea",
   "metadata": {
    "ExecuteTime": {
     "end_time": "2022-12-15T09:21:02.047358Z",
     "start_time": "2022-12-15T09:21:02.019Z"
    }
   },
   "outputs": [
    {
     "data": {
      "text/html": [
       "<table class=\"dataframe\">\n",
       "<caption>A data.frame: 3 × 6</caption>\n",
       "<thead>\n",
       "\t<tr><th></th><th scope=col>war</th><th scope=col>fly</th><th scope=col>ver</th><th scope=col>end</th><th scope=col>gro</th><th scope=col>hai</th></tr>\n",
       "\t<tr><th></th><th scope=col>&lt;int&gt;</th><th scope=col>&lt;int&gt;</th><th scope=col>&lt;int&gt;</th><th scope=col>&lt;int&gt;</th><th scope=col>&lt;int&gt;</th><th scope=col>&lt;int&gt;</th></tr>\n",
       "</thead>\n",
       "<tbody>\n",
       "\t<tr><th scope=row>ant</th><td>1</td><td>1</td><td>1</td><td>1</td><td>2</td><td>1</td></tr>\n",
       "\t<tr><th scope=row>bee</th><td>1</td><td>2</td><td>1</td><td>1</td><td>2</td><td>2</td></tr>\n",
       "\t<tr><th scope=row>cat</th><td>2</td><td>1</td><td>2</td><td>1</td><td>1</td><td>2</td></tr>\n",
       "</tbody>\n",
       "</table>\n"
      ],
      "text/latex": [
       "A data.frame: 3 × 6\n",
       "\\begin{tabular}{r|llllll}\n",
       "  & war & fly & ver & end & gro & hai\\\\\n",
       "  & <int> & <int> & <int> & <int> & <int> & <int>\\\\\n",
       "\\hline\n",
       "\tant & 1 & 1 & 1 & 1 & 2 & 1\\\\\n",
       "\tbee & 1 & 2 & 1 & 1 & 2 & 2\\\\\n",
       "\tcat & 2 & 1 & 2 & 1 & 1 & 2\\\\\n",
       "\\end{tabular}\n"
      ],
      "text/markdown": [
       "\n",
       "A data.frame: 3 × 6\n",
       "\n",
       "| <!--/--> | war &lt;int&gt; | fly &lt;int&gt; | ver &lt;int&gt; | end &lt;int&gt; | gro &lt;int&gt; | hai &lt;int&gt; |\n",
       "|---|---|---|---|---|---|---|\n",
       "| ant | 1 | 1 | 1 | 1 | 2 | 1 |\n",
       "| bee | 1 | 2 | 1 | 1 | 2 | 2 |\n",
       "| cat | 2 | 1 | 2 | 1 | 1 | 2 |\n",
       "\n"
      ],
      "text/plain": [
       "    war fly ver end gro hai\n",
       "ant 1   1   1   1   2   1  \n",
       "bee 1   2   1   1   2   2  \n",
       "cat 2   1   2   1   1   2  "
      ]
     },
     "metadata": {},
     "output_type": "display_data"
    }
   ],
   "source": [
    "head(animals,3)"
   ]
  },
  {
   "cell_type": "code",
   "execution_count": 165,
   "id": "9d6c8491",
   "metadata": {
    "ExecuteTime": {
     "end_time": "2022-12-15T09:21:13.418447Z",
     "start_time": "2022-12-15T09:21:13.395Z"
    }
   },
   "outputs": [
    {
     "data": {
      "text/html": [
       "<table class=\"dataframe\">\n",
       "<caption>A data.frame: 6 × 6</caption>\n",
       "<thead>\n",
       "\t<tr><th></th><th scope=col>war</th><th scope=col>fly</th><th scope=col>ver</th><th scope=col>end</th><th scope=col>gro</th><th scope=col>hai</th></tr>\n",
       "\t<tr><th></th><th scope=col>&lt;int&gt;</th><th scope=col>&lt;int&gt;</th><th scope=col>&lt;int&gt;</th><th scope=col>&lt;int&gt;</th><th scope=col>&lt;int&gt;</th><th scope=col>&lt;int&gt;</th></tr>\n",
       "</thead>\n",
       "<tbody>\n",
       "\t<tr><th scope=row>lob</th><td>1</td><td>1</td><td>1</td><td> 1</td><td>NA</td><td>1</td></tr>\n",
       "\t<tr><th scope=row>man</th><td>2</td><td>1</td><td>2</td><td> 2</td><td> 2</td><td>2</td></tr>\n",
       "\t<tr><th scope=row>rab</th><td>2</td><td>1</td><td>2</td><td> 1</td><td> 2</td><td>2</td></tr>\n",
       "\t<tr><th scope=row>sal</th><td>1</td><td>1</td><td>2</td><td> 1</td><td>NA</td><td>1</td></tr>\n",
       "\t<tr><th scope=row>spi</th><td>1</td><td>1</td><td>1</td><td>NA</td><td> 1</td><td>2</td></tr>\n",
       "\t<tr><th scope=row>wha</th><td>2</td><td>1</td><td>2</td><td> 2</td><td> 2</td><td>1</td></tr>\n",
       "</tbody>\n",
       "</table>\n"
      ],
      "text/latex": [
       "A data.frame: 6 × 6\n",
       "\\begin{tabular}{r|llllll}\n",
       "  & war & fly & ver & end & gro & hai\\\\\n",
       "  & <int> & <int> & <int> & <int> & <int> & <int>\\\\\n",
       "\\hline\n",
       "\tlob & 1 & 1 & 1 &  1 & NA & 1\\\\\n",
       "\tman & 2 & 1 & 2 &  2 &  2 & 2\\\\\n",
       "\trab & 2 & 1 & 2 &  1 &  2 & 2\\\\\n",
       "\tsal & 1 & 1 & 2 &  1 & NA & 1\\\\\n",
       "\tspi & 1 & 1 & 1 & NA &  1 & 2\\\\\n",
       "\twha & 2 & 1 & 2 &  2 &  2 & 1\\\\\n",
       "\\end{tabular}\n"
      ],
      "text/markdown": [
       "\n",
       "A data.frame: 6 × 6\n",
       "\n",
       "| <!--/--> | war &lt;int&gt; | fly &lt;int&gt; | ver &lt;int&gt; | end &lt;int&gt; | gro &lt;int&gt; | hai &lt;int&gt; |\n",
       "|---|---|---|---|---|---|---|\n",
       "| lob | 1 | 1 | 1 |  1 | NA | 1 |\n",
       "| man | 2 | 1 | 2 |  2 |  2 | 2 |\n",
       "| rab | 2 | 1 | 2 |  1 |  2 | 2 |\n",
       "| sal | 1 | 1 | 2 |  1 | NA | 1 |\n",
       "| spi | 1 | 1 | 1 | NA |  1 | 2 |\n",
       "| wha | 2 | 1 | 2 |  2 |  2 | 1 |\n",
       "\n"
      ],
      "text/plain": [
       "    war fly ver end gro hai\n",
       "lob 1   1   1    1  NA  1  \n",
       "man 2   1   2    2   2  2  \n",
       "rab 2   1   2    1   2  2  \n",
       "sal 1   1   2    1  NA  1  \n",
       "spi 1   1   1   NA   1  2  \n",
       "wha 2   1   2    2   2  1  "
      ]
     },
     "metadata": {},
     "output_type": "display_data"
    }
   ],
   "source": [
    "tail(animals)"
   ]
  },
  {
   "cell_type": "code",
   "execution_count": 166,
   "id": "c870134a",
   "metadata": {
    "ExecuteTime": {
     "end_time": "2022-12-15T09:21:35.724476Z",
     "start_time": "2022-12-15T09:21:35.707Z"
    }
   },
   "outputs": [
    {
     "data": {
      "text/html": [
       "'integer'"
      ],
      "text/latex": [
       "'integer'"
      ],
      "text/markdown": [
       "'integer'"
      ],
      "text/plain": [
       "[1] \"integer\""
      ]
     },
     "metadata": {},
     "output_type": "display_data"
    }
   ],
   "source": [
    "class(animals$gro)"
   ]
  },
  {
   "cell_type": "code",
   "execution_count": 168,
   "id": "779b7379",
   "metadata": {
    "ExecuteTime": {
     "end_time": "2022-12-15T09:22:34.095365Z",
     "start_time": "2022-12-15T09:22:34.077Z"
    }
   },
   "outputs": [
    {
     "data": {
      "text/html": [
       "<style>\n",
       ".list-inline {list-style: none; margin:0; padding: 0}\n",
       ".list-inline>li {display: inline-block}\n",
       ".list-inline>li:not(:last-child)::after {content: \"\\00b7\"; padding: 0 .5ex}\n",
       "</style>\n",
       "<ol class=list-inline><li>2</li><li>2</li><li>1</li><li>1</li><li>2</li><li>2</li><li>2</li><li>1</li><li>2</li><li>1</li><li>&lt;NA&gt;</li><li>2</li><li>2</li><li>1</li><li>&lt;NA&gt;</li><li>2</li><li>2</li><li>&lt;NA&gt;</li><li>1</li><li>2</li></ol>\n"
      ],
      "text/latex": [
       "\\begin{enumerate*}\n",
       "\\item 2\n",
       "\\item 2\n",
       "\\item 1\n",
       "\\item 1\n",
       "\\item 2\n",
       "\\item 2\n",
       "\\item 2\n",
       "\\item 1\n",
       "\\item 2\n",
       "\\item 1\n",
       "\\item <NA>\n",
       "\\item 2\n",
       "\\item 2\n",
       "\\item 1\n",
       "\\item <NA>\n",
       "\\item 2\n",
       "\\item 2\n",
       "\\item <NA>\n",
       "\\item 1\n",
       "\\item 2\n",
       "\\end{enumerate*}\n"
      ],
      "text/markdown": [
       "1. 2\n",
       "2. 2\n",
       "3. 1\n",
       "4. 1\n",
       "5. 2\n",
       "6. 2\n",
       "7. 2\n",
       "8. 1\n",
       "9. 2\n",
       "10. 1\n",
       "11. &lt;NA&gt;\n",
       "12. 2\n",
       "13. 2\n",
       "14. 1\n",
       "15. &lt;NA&gt;\n",
       "16. 2\n",
       "17. 2\n",
       "18. &lt;NA&gt;\n",
       "19. 1\n",
       "20. 2\n",
       "\n",
       "\n"
      ],
      "text/plain": [
       " [1]  2  2  1  1  2  2  2  1  2  1 NA  2  2  1 NA  2  2 NA  1  2"
      ]
     },
     "metadata": {},
     "output_type": "display_data"
    }
   ],
   "source": [
    "animals$gro"
   ]
  },
  {
   "cell_type": "code",
   "execution_count": 167,
   "id": "3186fc1b",
   "metadata": {
    "ExecuteTime": {
     "end_time": "2022-12-15T09:22:13.282340Z",
     "start_time": "2022-12-15T09:22:13.262Z"
    }
   },
   "outputs": [
    {
     "data": {
      "text/html": [
       "<style>\n",
       ".list-inline {list-style: none; margin:0; padding: 0}\n",
       ".list-inline>li {display: inline-block}\n",
       ".list-inline>li:not(:last-child)::after {content: \"\\00b7\"; padding: 0 .5ex}\n",
       "</style>\n",
       "<ol class=list-inline><li>2</li><li>2</li><li>1</li><li>1</li><li>2</li><li>2</li><li>2</li><li>1</li><li>2</li><li>1</li><li>2</li><li>2</li><li>1</li><li>2</li><li>2</li><li>1</li><li>2</li></ol>\n"
      ],
      "text/latex": [
       "\\begin{enumerate*}\n",
       "\\item 2\n",
       "\\item 2\n",
       "\\item 1\n",
       "\\item 1\n",
       "\\item 2\n",
       "\\item 2\n",
       "\\item 2\n",
       "\\item 1\n",
       "\\item 2\n",
       "\\item 1\n",
       "\\item 2\n",
       "\\item 2\n",
       "\\item 1\n",
       "\\item 2\n",
       "\\item 2\n",
       "\\item 1\n",
       "\\item 2\n",
       "\\end{enumerate*}\n"
      ],
      "text/markdown": [
       "1. 2\n",
       "2. 2\n",
       "3. 1\n",
       "4. 1\n",
       "5. 2\n",
       "6. 2\n",
       "7. 2\n",
       "8. 1\n",
       "9. 2\n",
       "10. 1\n",
       "11. 2\n",
       "12. 2\n",
       "13. 1\n",
       "14. 2\n",
       "15. 2\n",
       "16. 1\n",
       "17. 2\n",
       "\n",
       "\n"
      ],
      "text/plain": [
       " [1] 2 2 1 1 2 2 2 1 2 1 2 2 1 2 2 1 2"
      ]
     },
     "metadata": {},
     "output_type": "display_data"
    }
   ],
   "source": [
    "animals$gro[!is.na(animals$gro)]"
   ]
  },
  {
   "cell_type": "code",
   "execution_count": 169,
   "id": "83b0816a",
   "metadata": {
    "ExecuteTime": {
     "end_time": "2022-12-15T09:23:24.317476Z",
     "start_time": "2022-12-15T09:23:24.299Z"
    }
   },
   "outputs": [
    {
     "data": {
      "text/html": [
       "<style>\n",
       ".list-inline {list-style: none; margin:0; padding: 0}\n",
       ".list-inline>li {display: inline-block}\n",
       ".list-inline>li:not(:last-child)::after {content: \"\\00b7\"; padding: 0 .5ex}\n",
       "</style>\n",
       "<ol class=list-inline><li>2</li><li>2</li><li>1</li><li>1</li><li>2</li><li>2</li><li>2</li><li>1</li><li>2</li><li>1</li><li>2</li><li>2</li><li>1</li><li>2</li><li>2</li><li>1</li><li>2</li></ol>\n"
      ],
      "text/latex": [
       "\\begin{enumerate*}\n",
       "\\item 2\n",
       "\\item 2\n",
       "\\item 1\n",
       "\\item 1\n",
       "\\item 2\n",
       "\\item 2\n",
       "\\item 2\n",
       "\\item 1\n",
       "\\item 2\n",
       "\\item 1\n",
       "\\item 2\n",
       "\\item 2\n",
       "\\item 1\n",
       "\\item 2\n",
       "\\item 2\n",
       "\\item 1\n",
       "\\item 2\n",
       "\\end{enumerate*}\n"
      ],
      "text/markdown": [
       "1. 2\n",
       "2. 2\n",
       "3. 1\n",
       "4. 1\n",
       "5. 2\n",
       "6. 2\n",
       "7. 2\n",
       "8. 1\n",
       "9. 2\n",
       "10. 1\n",
       "11. 2\n",
       "12. 2\n",
       "13. 1\n",
       "14. 2\n",
       "15. 2\n",
       "16. 1\n",
       "17. 2\n",
       "\n",
       "\n"
      ],
      "text/plain": [
       " [1] 2 2 1 1 2 2 2 1 2 1 2 2 1 2 2 1 2"
      ]
     },
     "metadata": {},
     "output_type": "display_data"
    }
   ],
   "source": [
    "animals$gro[!is.na(animals[,5])]"
   ]
  },
  {
   "cell_type": "code",
   "execution_count": 171,
   "id": "02adad1d",
   "metadata": {
    "ExecuteTime": {
     "end_time": "2022-12-15T09:23:52.833019Z",
     "start_time": "2022-12-15T09:23:52.811Z"
    }
   },
   "outputs": [
    {
     "data": {
      "text/html": [
       "<table class=\"dataframe\">\n",
       "<caption>A data.frame: 1 × 6</caption>\n",
       "<thead>\n",
       "\t<tr><th></th><th scope=col>war</th><th scope=col>fly</th><th scope=col>ver</th><th scope=col>end</th><th scope=col>gro</th><th scope=col>hai</th></tr>\n",
       "\t<tr><th></th><th scope=col>&lt;int&gt;</th><th scope=col>&lt;int&gt;</th><th scope=col>&lt;int&gt;</th><th scope=col>&lt;int&gt;</th><th scope=col>&lt;int&gt;</th><th scope=col>&lt;int&gt;</th></tr>\n",
       "</thead>\n",
       "<tbody>\n",
       "\t<tr><th scope=row>cat</th><td>2</td><td>1</td><td>2</td><td>1</td><td>1</td><td>2</td></tr>\n",
       "</tbody>\n",
       "</table>\n"
      ],
      "text/latex": [
       "A data.frame: 1 × 6\n",
       "\\begin{tabular}{r|llllll}\n",
       "  & war & fly & ver & end & gro & hai\\\\\n",
       "  & <int> & <int> & <int> & <int> & <int> & <int>\\\\\n",
       "\\hline\n",
       "\tcat & 2 & 1 & 2 & 1 & 1 & 2\\\\\n",
       "\\end{tabular}\n"
      ],
      "text/markdown": [
       "\n",
       "A data.frame: 1 × 6\n",
       "\n",
       "| <!--/--> | war &lt;int&gt; | fly &lt;int&gt; | ver &lt;int&gt; | end &lt;int&gt; | gro &lt;int&gt; | hai &lt;int&gt; |\n",
       "|---|---|---|---|---|---|---|\n",
       "| cat | 2 | 1 | 2 | 1 | 1 | 2 |\n",
       "\n"
      ],
      "text/plain": [
       "    war fly ver end gro hai\n",
       "cat 2   1   2   1   1   2  "
      ]
     },
     "metadata": {},
     "output_type": "display_data"
    }
   ],
   "source": [
    "animals[3,]"
   ]
  },
  {
   "cell_type": "code",
   "execution_count": 174,
   "id": "5d49bc59",
   "metadata": {
    "ExecuteTime": {
     "end_time": "2022-12-15T14:00:27.999106Z",
     "start_time": "2022-12-15T14:00:27.973Z"
    }
   },
   "outputs": [
    {
     "data": {
      "text/html": [
       "<table class=\"dataframe\">\n",
       "<caption>A data.frame: 1 × 6</caption>\n",
       "<thead>\n",
       "\t<tr><th></th><th scope=col>war</th><th scope=col>fly</th><th scope=col>ver</th><th scope=col>end</th><th scope=col>gro</th><th scope=col>hai</th></tr>\n",
       "\t<tr><th></th><th scope=col>&lt;int&gt;</th><th scope=col>&lt;int&gt;</th><th scope=col>&lt;int&gt;</th><th scope=col>&lt;int&gt;</th><th scope=col>&lt;int&gt;</th><th scope=col>&lt;int&gt;</th></tr>\n",
       "</thead>\n",
       "<tbody>\n",
       "\t<tr><th scope=row>ant</th><td>1</td><td>1</td><td>1</td><td>1</td><td>2</td><td>1</td></tr>\n",
       "</tbody>\n",
       "</table>\n"
      ],
      "text/latex": [
       "A data.frame: 1 × 6\n",
       "\\begin{tabular}{r|llllll}\n",
       "  & war & fly & ver & end & gro & hai\\\\\n",
       "  & <int> & <int> & <int> & <int> & <int> & <int>\\\\\n",
       "\\hline\n",
       "\tant & 1 & 1 & 1 & 1 & 2 & 1\\\\\n",
       "\\end{tabular}\n"
      ],
      "text/markdown": [
       "\n",
       "A data.frame: 1 × 6\n",
       "\n",
       "| <!--/--> | war &lt;int&gt; | fly &lt;int&gt; | ver &lt;int&gt; | end &lt;int&gt; | gro &lt;int&gt; | hai &lt;int&gt; |\n",
       "|---|---|---|---|---|---|---|\n",
       "| ant | 1 | 1 | 1 | 1 | 2 | 1 |\n",
       "\n"
      ],
      "text/plain": [
       "    war fly ver end gro hai\n",
       "ant 1   1   1   1   2   1  "
      ]
     },
     "metadata": {},
     "output_type": "display_data"
    }
   ],
   "source": [
    "animals[1,]"
   ]
  },
  {
   "cell_type": "code",
   "execution_count": 175,
   "id": "ff48944a",
   "metadata": {
    "ExecuteTime": {
     "end_time": "2022-12-15T14:01:21.984026Z",
     "start_time": "2022-12-15T14:01:21.956Z"
    }
   },
   "outputs": [
    {
     "data": {
      "text/html": [
       "<style>\n",
       ".list-inline {list-style: none; margin:0; padding: 0}\n",
       ".list-inline>li {display: inline-block}\n",
       ".list-inline>li:not(:last-child)::after {content: \"\\00b7\"; padding: 0 .5ex}\n",
       "</style>\n",
       "<ol class=list-inline><li>150</li><li>5</li></ol>\n"
      ],
      "text/latex": [
       "\\begin{enumerate*}\n",
       "\\item 150\n",
       "\\item 5\n",
       "\\end{enumerate*}\n"
      ],
      "text/markdown": [
       "1. 150\n",
       "2. 5\n",
       "\n",
       "\n"
      ],
      "text/plain": [
       "[1] 150   5"
      ]
     },
     "metadata": {},
     "output_type": "display_data"
    }
   ],
   "source": [
    "dim(iris)"
   ]
  },
  {
   "cell_type": "code",
   "execution_count": 177,
   "id": "5721c403",
   "metadata": {
    "ExecuteTime": {
     "end_time": "2022-12-15T14:02:09.847418Z",
     "start_time": "2022-12-15T14:02:09.828Z"
    }
   },
   "outputs": [
    {
     "name": "stdout",
     "output_type": "stream",
     "text": [
      "'data.frame':\t150 obs. of  5 variables:\n",
      " $ Sepal.Length: num  5.1 4.9 4.7 4.6 5 5.4 4.6 5 4.4 4.9 ...\n",
      " $ Sepal.Width : num  3.5 3 3.2 3.1 3.6 3.9 3.4 3.4 2.9 3.1 ...\n",
      " $ Petal.Length: num  1.4 1.4 1.3 1.5 1.4 1.7 1.4 1.5 1.4 1.5 ...\n",
      " $ Petal.Width : num  0.2 0.2 0.2 0.2 0.2 0.4 0.3 0.2 0.2 0.1 ...\n",
      " $ Species     : Factor w/ 3 levels \"setosa\",\"versicolor\",..: 1 1 1 1 1 1 1 1 1 1 ...\n",
      "NULL\n"
     ]
    }
   ],
   "source": [
    "print(str(iris))"
   ]
  },
  {
   "cell_type": "code",
   "execution_count": 178,
   "id": "b9347f4d",
   "metadata": {
    "ExecuteTime": {
     "end_time": "2022-12-15T14:02:51.116933Z",
     "start_time": "2022-12-15T14:02:51.086Z"
    }
   },
   "outputs": [
    {
     "data": {
      "text/html": [
       "<style>\n",
       ".list-inline {list-style: none; margin:0; padding: 0}\n",
       ".list-inline>li {display: inline-block}\n",
       ".list-inline>li:not(:last-child)::after {content: \"\\00b7\"; padding: 0 .5ex}\n",
       "</style>\n",
       "<ol class=list-inline><li>setosa</li><li>versicolor</li><li>virginica</li></ol>\n",
       "\n",
       "<details>\n",
       "\t<summary style=display:list-item;cursor:pointer>\n",
       "\t\t<strong>Levels</strong>:\n",
       "\t</summary>\n",
       "\t<style>\n",
       "\t.list-inline {list-style: none; margin:0; padding: 0}\n",
       "\t.list-inline>li {display: inline-block}\n",
       "\t.list-inline>li:not(:last-child)::after {content: \"\\00b7\"; padding: 0 .5ex}\n",
       "\t</style>\n",
       "\t<ol class=list-inline><li>'setosa'</li><li>'versicolor'</li><li>'virginica'</li></ol>\n",
       "</details>"
      ],
      "text/latex": [
       "\\begin{enumerate*}\n",
       "\\item setosa\n",
       "\\item versicolor\n",
       "\\item virginica\n",
       "\\end{enumerate*}\n",
       "\n",
       "\\emph{Levels}: \\begin{enumerate*}\n",
       "\\item 'setosa'\n",
       "\\item 'versicolor'\n",
       "\\item 'virginica'\n",
       "\\end{enumerate*}\n"
      ],
      "text/markdown": [
       "1. setosa\n",
       "2. versicolor\n",
       "3. virginica\n",
       "\n",
       "\n",
       "\n",
       "**Levels**: 1. 'setosa'\n",
       "2. 'versicolor'\n",
       "3. 'virginica'\n",
       "\n",
       "\n"
      ],
      "text/plain": [
       "[1] setosa     versicolor virginica \n",
       "Levels: setosa versicolor virginica"
      ]
     },
     "metadata": {},
     "output_type": "display_data"
    }
   ],
   "source": [
    "unique(iris$Species)"
   ]
  },
  {
   "cell_type": "code",
   "execution_count": 179,
   "id": "4342d52a",
   "metadata": {
    "ExecuteTime": {
     "end_time": "2022-12-15T14:03:18.236637Z",
     "start_time": "2022-12-15T14:03:18.213Z"
    }
   },
   "outputs": [
    {
     "data": {
      "text/html": [
       "<style>\n",
       ".list-inline {list-style: none; margin:0; padding: 0}\n",
       ".list-inline>li {display: inline-block}\n",
       ".list-inline>li:not(:last-child)::after {content: \"\\00b7\"; padding: 0 .5ex}\n",
       "</style>\n",
       "<ol class=list-inline><li>'setosa'</li><li>'versicolor'</li><li>'virginica'</li></ol>\n"
      ],
      "text/latex": [
       "\\begin{enumerate*}\n",
       "\\item 'setosa'\n",
       "\\item 'versicolor'\n",
       "\\item 'virginica'\n",
       "\\end{enumerate*}\n"
      ],
      "text/markdown": [
       "1. 'setosa'\n",
       "2. 'versicolor'\n",
       "3. 'virginica'\n",
       "\n",
       "\n"
      ],
      "text/plain": [
       "[1] \"setosa\"     \"versicolor\" \"virginica\" "
      ]
     },
     "metadata": {},
     "output_type": "display_data"
    }
   ],
   "source": [
    "levels(iris$Species)"
   ]
  },
  {
   "cell_type": "code",
   "execution_count": 180,
   "id": "fb44a31c",
   "metadata": {
    "ExecuteTime": {
     "end_time": "2022-12-15T14:08:04.964976Z",
     "start_time": "2022-12-15T14:08:04.946Z"
    }
   },
   "outputs": [
    {
     "data": {
      "text/html": [
       "5.1"
      ],
      "text/latex": [
       "5.1"
      ],
      "text/markdown": [
       "5.1"
      ],
      "text/plain": [
       "[1] 5.1"
      ]
     },
     "metadata": {},
     "output_type": "display_data"
    }
   ],
   "source": [
    "iris[1,1]"
   ]
  },
  {
   "cell_type": "code",
   "execution_count": 188,
   "id": "ded4ae68",
   "metadata": {
    "ExecuteTime": {
     "end_time": "2022-12-15T14:49:17.435913Z",
     "start_time": "2022-12-15T14:49:17.404Z"
    }
   },
   "outputs": [
    {
     "data": {
      "text/html": [
       "<table class=\"dataframe\">\n",
       "<caption>A data.frame: 5 × 3</caption>\n",
       "<thead>\n",
       "\t<tr><th></th><th scope=col>Sepal.Width</th><th scope=col>Petal.Length</th><th scope=col>Species</th></tr>\n",
       "\t<tr><th></th><th scope=col>&lt;dbl&gt;</th><th scope=col>&lt;dbl&gt;</th><th scope=col>&lt;fct&gt;</th></tr>\n",
       "</thead>\n",
       "<tbody>\n",
       "\t<tr><th scope=row>1</th><td>3.5</td><td>1.4</td><td>setosa</td></tr>\n",
       "\t<tr><th scope=row>2</th><td>3.0</td><td>1.4</td><td>setosa</td></tr>\n",
       "\t<tr><th scope=row>3</th><td>3.2</td><td>1.3</td><td>setosa</td></tr>\n",
       "\t<tr><th scope=row>4</th><td>3.1</td><td>1.5</td><td>setosa</td></tr>\n",
       "\t<tr><th scope=row>5</th><td>3.6</td><td>1.4</td><td>setosa</td></tr>\n",
       "</tbody>\n",
       "</table>\n"
      ],
      "text/latex": [
       "A data.frame: 5 × 3\n",
       "\\begin{tabular}{r|lll}\n",
       "  & Sepal.Width & Petal.Length & Species\\\\\n",
       "  & <dbl> & <dbl> & <fct>\\\\\n",
       "\\hline\n",
       "\t1 & 3.5 & 1.4 & setosa\\\\\n",
       "\t2 & 3.0 & 1.4 & setosa\\\\\n",
       "\t3 & 3.2 & 1.3 & setosa\\\\\n",
       "\t4 & 3.1 & 1.5 & setosa\\\\\n",
       "\t5 & 3.6 & 1.4 & setosa\\\\\n",
       "\\end{tabular}\n"
      ],
      "text/markdown": [
       "\n",
       "A data.frame: 5 × 3\n",
       "\n",
       "| <!--/--> | Sepal.Width &lt;dbl&gt; | Petal.Length &lt;dbl&gt; | Species &lt;fct&gt; |\n",
       "|---|---|---|---|\n",
       "| 1 | 3.5 | 1.4 | setosa |\n",
       "| 2 | 3.0 | 1.4 | setosa |\n",
       "| 3 | 3.2 | 1.3 | setosa |\n",
       "| 4 | 3.1 | 1.5 | setosa |\n",
       "| 5 | 3.6 | 1.4 | setosa |\n",
       "\n"
      ],
      "text/plain": [
       "  Sepal.Width Petal.Length Species\n",
       "1 3.5         1.4          setosa \n",
       "2 3.0         1.4          setosa \n",
       "3 3.2         1.3          setosa \n",
       "4 3.1         1.5          setosa \n",
       "5 3.6         1.4          setosa "
      ]
     },
     "metadata": {},
     "output_type": "display_data"
    }
   ],
   "source": [
    "traindat<-iris[(1:5),c(2,3,5)]\n",
    "traindat"
   ]
  },
  {
   "cell_type": "code",
   "execution_count": 189,
   "id": "00a77454",
   "metadata": {
    "ExecuteTime": {
     "end_time": "2022-12-15T14:50:19.528413Z",
     "start_time": "2022-12-15T14:50:19.506Z"
    }
   },
   "outputs": [
    {
     "data": {
      "text/html": [
       "<table class=\"dataframe\">\n",
       "<caption>A data.frame: 4 × 3</caption>\n",
       "<thead>\n",
       "\t<tr><th></th><th scope=col>Sepal.Width</th><th scope=col>Petal.Length</th><th scope=col>Species</th></tr>\n",
       "\t<tr><th></th><th scope=col>&lt;dbl&gt;</th><th scope=col>&lt;dbl&gt;</th><th scope=col>&lt;fct&gt;</th></tr>\n",
       "</thead>\n",
       "<tbody>\n",
       "\t<tr><th scope=row>1</th><td>3.5</td><td>1.4</td><td>setosa</td></tr>\n",
       "\t<tr><th scope=row>3</th><td>3.2</td><td>1.3</td><td>setosa</td></tr>\n",
       "\t<tr><th scope=row>4</th><td>3.1</td><td>1.5</td><td>setosa</td></tr>\n",
       "\t<tr><th scope=row>5</th><td>3.6</td><td>1.4</td><td>setosa</td></tr>\n",
       "</tbody>\n",
       "</table>\n"
      ],
      "text/latex": [
       "A data.frame: 4 × 3\n",
       "\\begin{tabular}{r|lll}\n",
       "  & Sepal.Width & Petal.Length & Species\\\\\n",
       "  & <dbl> & <dbl> & <fct>\\\\\n",
       "\\hline\n",
       "\t1 & 3.5 & 1.4 & setosa\\\\\n",
       "\t3 & 3.2 & 1.3 & setosa\\\\\n",
       "\t4 & 3.1 & 1.5 & setosa\\\\\n",
       "\t5 & 3.6 & 1.4 & setosa\\\\\n",
       "\\end{tabular}\n"
      ],
      "text/markdown": [
       "\n",
       "A data.frame: 4 × 3\n",
       "\n",
       "| <!--/--> | Sepal.Width &lt;dbl&gt; | Petal.Length &lt;dbl&gt; | Species &lt;fct&gt; |\n",
       "|---|---|---|---|\n",
       "| 1 | 3.5 | 1.4 | setosa |\n",
       "| 3 | 3.2 | 1.3 | setosa |\n",
       "| 4 | 3.1 | 1.5 | setosa |\n",
       "| 5 | 3.6 | 1.4 | setosa |\n",
       "\n"
      ],
      "text/plain": [
       "  Sepal.Width Petal.Length Species\n",
       "1 3.5         1.4          setosa \n",
       "3 3.2         1.3          setosa \n",
       "4 3.1         1.5          setosa \n",
       "5 3.6         1.4          setosa "
      ]
     },
     "metadata": {},
     "output_type": "display_data"
    }
   ],
   "source": [
    "traindat[traindat $ Sepal.Width >3,]"
   ]
  },
  {
   "cell_type": "code",
   "execution_count": 190,
   "id": "5e90dfce",
   "metadata": {
    "ExecuteTime": {
     "end_time": "2022-12-15T14:52:53.269730Z",
     "start_time": "2022-12-15T14:52:53.245Z"
    }
   },
   "outputs": [
    {
     "data": {
      "text/html": [
       "<table class=\"dataframe\">\n",
       "<caption>A data.frame: 1 × 3</caption>\n",
       "<thead>\n",
       "\t<tr><th></th><th scope=col>Sepal.Width</th><th scope=col>Petal.Length</th><th scope=col>Species</th></tr>\n",
       "\t<tr><th></th><th scope=col>&lt;dbl&gt;</th><th scope=col>&lt;dbl&gt;</th><th scope=col>&lt;fct&gt;</th></tr>\n",
       "</thead>\n",
       "<tbody>\n",
       "\t<tr><th scope=row>4</th><td>3.1</td><td>1.5</td><td>setosa</td></tr>\n",
       "</tbody>\n",
       "</table>\n"
      ],
      "text/latex": [
       "A data.frame: 1 × 3\n",
       "\\begin{tabular}{r|lll}\n",
       "  & Sepal.Width & Petal.Length & Species\\\\\n",
       "  & <dbl> & <dbl> & <fct>\\\\\n",
       "\\hline\n",
       "\t4 & 3.1 & 1.5 & setosa\\\\\n",
       "\\end{tabular}\n"
      ],
      "text/markdown": [
       "\n",
       "A data.frame: 1 × 3\n",
       "\n",
       "| <!--/--> | Sepal.Width &lt;dbl&gt; | Petal.Length &lt;dbl&gt; | Species &lt;fct&gt; |\n",
       "|---|---|---|---|\n",
       "| 4 | 3.1 | 1.5 | setosa |\n",
       "\n"
      ],
      "text/plain": [
       "  Sepal.Width Petal.Length Species\n",
       "4 3.1         1.5          setosa "
      ]
     },
     "metadata": {},
     "output_type": "display_data"
    }
   ],
   "source": [
    "traindat[traindat$Sepal.Width>3 & traindat$Petal.Length>1.4,]"
   ]
  },
  {
   "cell_type": "code",
   "execution_count": 192,
   "id": "bb3b3431",
   "metadata": {
    "ExecuteTime": {
     "end_time": "2022-12-15T14:59:43.854059Z",
     "start_time": "2022-12-15T14:59:43.829Z"
    }
   },
   "outputs": [
    {
     "data": {
      "text/html": [
       "<style>\n",
       ".list-inline {list-style: none; margin:0; padding: 0}\n",
       ".list-inline>li {display: inline-block}\n",
       ".list-inline>li:not(:last-child)::after {content: \"\\00b7\"; padding: 0 .5ex}\n",
       "</style>\n",
       "<ol class=list-inline><li>'F'</li><li>'F'</li><li>'F'</li><li>'M'</li><li>'M'</li><li>'M'</li></ol>\n"
      ],
      "text/latex": [
       "\\begin{enumerate*}\n",
       "\\item 'F'\n",
       "\\item 'F'\n",
       "\\item 'F'\n",
       "\\item 'M'\n",
       "\\item 'M'\n",
       "\\item 'M'\n",
       "\\end{enumerate*}\n"
      ],
      "text/markdown": [
       "1. 'F'\n",
       "2. 'F'\n",
       "3. 'F'\n",
       "4. 'M'\n",
       "5. 'M'\n",
       "6. 'M'\n",
       "\n",
       "\n"
      ],
      "text/plain": [
       "[1] \"F\" \"F\" \"F\" \"M\" \"M\" \"M\""
      ]
     },
     "metadata": {},
     "output_type": "display_data"
    }
   ],
   "source": [
    "weight<-c(78,56,67,48,69,90)\n",
    "height<-c(170,160,165,159,170,185)\n",
    "sex<-(c(rep(\"F\",3),rep(\"M\",3)))\n",
    "sex"
   ]
  },
  {
   "cell_type": "code",
   "execution_count": 193,
   "id": "e147dba0",
   "metadata": {
    "ExecuteTime": {
     "end_time": "2022-12-15T14:59:44.332248Z",
     "start_time": "2022-12-15T14:59:44.239Z"
    }
   },
   "outputs": [
    {
     "data": {
      "text/html": [
       "'character'"
      ],
      "text/latex": [
       "'character'"
      ],
      "text/markdown": [
       "'character'"
      ],
      "text/plain": [
       "[1] \"character\""
      ]
     },
     "metadata": {},
     "output_type": "display_data"
    }
   ],
   "source": [
    "class(sex)"
   ]
  },
  {
   "cell_type": "code",
   "execution_count": 194,
   "id": "2dc3fff2",
   "metadata": {
    "ExecuteTime": {
     "end_time": "2022-12-15T14:59:45.937700Z",
     "start_time": "2022-12-15T14:59:45.913Z"
    }
   },
   "outputs": [
    {
     "data": {
      "text/html": [
       "<table class=\"dataframe\">\n",
       "<caption>A data.frame: 6 × 3</caption>\n",
       "<thead>\n",
       "\t<tr><th scope=col>weight</th><th scope=col>height</th><th scope=col>sex</th></tr>\n",
       "\t<tr><th scope=col>&lt;dbl&gt;</th><th scope=col>&lt;dbl&gt;</th><th scope=col>&lt;chr&gt;</th></tr>\n",
       "</thead>\n",
       "<tbody>\n",
       "\t<tr><td>78</td><td>170</td><td>F</td></tr>\n",
       "\t<tr><td>56</td><td>160</td><td>F</td></tr>\n",
       "\t<tr><td>67</td><td>165</td><td>F</td></tr>\n",
       "\t<tr><td>48</td><td>159</td><td>M</td></tr>\n",
       "\t<tr><td>69</td><td>170</td><td>M</td></tr>\n",
       "\t<tr><td>90</td><td>185</td><td>M</td></tr>\n",
       "</tbody>\n",
       "</table>\n"
      ],
      "text/latex": [
       "A data.frame: 6 × 3\n",
       "\\begin{tabular}{lll}\n",
       " weight & height & sex\\\\\n",
       " <dbl> & <dbl> & <chr>\\\\\n",
       "\\hline\n",
       "\t 78 & 170 & F\\\\\n",
       "\t 56 & 160 & F\\\\\n",
       "\t 67 & 165 & F\\\\\n",
       "\t 48 & 159 & M\\\\\n",
       "\t 69 & 170 & M\\\\\n",
       "\t 90 & 185 & M\\\\\n",
       "\\end{tabular}\n"
      ],
      "text/markdown": [
       "\n",
       "A data.frame: 6 × 3\n",
       "\n",
       "| weight &lt;dbl&gt; | height &lt;dbl&gt; | sex &lt;chr&gt; |\n",
       "|---|---|---|\n",
       "| 78 | 170 | F |\n",
       "| 56 | 160 | F |\n",
       "| 67 | 165 | F |\n",
       "| 48 | 159 | M |\n",
       "| 69 | 170 | M |\n",
       "| 90 | 185 | M |\n",
       "\n"
      ],
      "text/plain": [
       "  weight height sex\n",
       "1 78     170    F  \n",
       "2 56     160    F  \n",
       "3 67     165    F  \n",
       "4 48     159    M  \n",
       "5 69     170    M  \n",
       "6 90     185    M  "
      ]
     },
     "metadata": {},
     "output_type": "display_data"
    }
   ],
   "source": [
    "df.1<-data.frame(weight,height,sex,stringsAsFactors = F)\n",
    "df.1"
   ]
  },
  {
   "cell_type": "code",
   "execution_count": 195,
   "id": "66b09de9",
   "metadata": {
    "ExecuteTime": {
     "end_time": "2022-12-15T15:00:12.152502Z",
     "start_time": "2022-12-15T15:00:12.133Z"
    }
   },
   "outputs": [
    {
     "data": {
      "text/html": [
       "'data.frame'"
      ],
      "text/latex": [
       "'data.frame'"
      ],
      "text/markdown": [
       "'data.frame'"
      ],
      "text/plain": [
       "[1] \"data.frame\""
      ]
     },
     "metadata": {},
     "output_type": "display_data"
    }
   ],
   "source": [
    "class(df.1)"
   ]
  },
  {
   "cell_type": "code",
   "execution_count": 196,
   "id": "efa864d7",
   "metadata": {
    "ExecuteTime": {
     "end_time": "2022-12-15T15:00:21.287456Z",
     "start_time": "2022-12-15T15:00:21.268Z"
    }
   },
   "outputs": [
    {
     "name": "stdout",
     "output_type": "stream",
     "text": [
      "'data.frame':\t6 obs. of  3 variables:\n",
      " $ weight: num  78 56 67 48 69 90\n",
      " $ height: num  170 160 165 159 170 185\n",
      " $ sex   : chr  \"F\" \"F\" \"F\" \"M\" ...\n"
     ]
    }
   ],
   "source": [
    "str(df.1)"
   ]
  },
  {
   "cell_type": "code",
   "execution_count": 197,
   "id": "0cefc311",
   "metadata": {
    "ExecuteTime": {
     "end_time": "2022-12-15T15:01:53.637546Z",
     "start_time": "2022-12-15T15:01:53.614Z"
    }
   },
   "outputs": [
    {
     "data": {
      "text/html": [
       "<table class=\"dataframe\">\n",
       "<caption>A data.frame: 6 × 3</caption>\n",
       "<thead>\n",
       "\t<tr><th scope=col>weight</th><th scope=col>height</th><th scope=col>sex</th></tr>\n",
       "\t<tr><th scope=col>&lt;dbl&gt;</th><th scope=col>&lt;dbl&gt;</th><th scope=col>&lt;fct&gt;</th></tr>\n",
       "</thead>\n",
       "<tbody>\n",
       "\t<tr><td>78</td><td>170</td><td>F</td></tr>\n",
       "\t<tr><td>56</td><td>160</td><td>F</td></tr>\n",
       "\t<tr><td>67</td><td>165</td><td>F</td></tr>\n",
       "\t<tr><td>48</td><td>159</td><td>M</td></tr>\n",
       "\t<tr><td>69</td><td>170</td><td>M</td></tr>\n",
       "\t<tr><td>90</td><td>185</td><td>M</td></tr>\n",
       "</tbody>\n",
       "</table>\n"
      ],
      "text/latex": [
       "A data.frame: 6 × 3\n",
       "\\begin{tabular}{lll}\n",
       " weight & height & sex\\\\\n",
       " <dbl> & <dbl> & <fct>\\\\\n",
       "\\hline\n",
       "\t 78 & 170 & F\\\\\n",
       "\t 56 & 160 & F\\\\\n",
       "\t 67 & 165 & F\\\\\n",
       "\t 48 & 159 & M\\\\\n",
       "\t 69 & 170 & M\\\\\n",
       "\t 90 & 185 & M\\\\\n",
       "\\end{tabular}\n"
      ],
      "text/markdown": [
       "\n",
       "A data.frame: 6 × 3\n",
       "\n",
       "| weight &lt;dbl&gt; | height &lt;dbl&gt; | sex &lt;fct&gt; |\n",
       "|---|---|---|\n",
       "| 78 | 170 | F |\n",
       "| 56 | 160 | F |\n",
       "| 67 | 165 | F |\n",
       "| 48 | 159 | M |\n",
       "| 69 | 170 | M |\n",
       "| 90 | 185 | M |\n",
       "\n"
      ],
      "text/plain": [
       "  weight height sex\n",
       "1 78     170    F  \n",
       "2 56     160    F  \n",
       "3 67     165    F  \n",
       "4 48     159    M  \n",
       "5 69     170    M  \n",
       "6 90     185    M  "
      ]
     },
     "metadata": {},
     "output_type": "display_data"
    }
   ],
   "source": [
    "df.2<-data.frame(weight,height,sex,stringsAsFactors = T)\n",
    "df.2"
   ]
  },
  {
   "cell_type": "code",
   "execution_count": 199,
   "id": "06b4e399",
   "metadata": {
    "ExecuteTime": {
     "end_time": "2022-12-15T15:02:23.854738Z",
     "start_time": "2022-12-15T15:02:23.835Z"
    }
   },
   "outputs": [
    {
     "name": "stdout",
     "output_type": "stream",
     "text": [
      "'data.frame':\t6 obs. of  3 variables:\n",
      " $ weight: num  78 56 67 48 69 90\n",
      " $ height: num  170 160 165 159 170 185\n",
      " $ sex   : Factor w/ 2 levels \"F\",\"M\": 1 1 1 2 2 2\n"
     ]
    }
   ],
   "source": [
    "str(df.2)"
   ]
  },
  {
   "cell_type": "code",
   "execution_count": 200,
   "id": "58cdd844",
   "metadata": {
    "ExecuteTime": {
     "end_time": "2022-12-15T15:06:07.812684Z",
     "start_time": "2022-12-15T15:06:07.792Z"
    }
   },
   "outputs": [
    {
     "data": {
      "text/html": [
       "<style>\n",
       ".list-inline {list-style: none; margin:0; padding: 0}\n",
       ".list-inline>li {display: inline-block}\n",
       ".list-inline>li:not(:last-child)::after {content: \"\\00b7\"; padding: 0 .5ex}\n",
       "</style>\n",
       "<ol class=list-inline><li>1</li><li>2</li><li>3</li><li>4</li><li>5</li><li>6</li><li>7</li><li>8</li><li>9</li><li>10</li><li>11</li><li>12</li><li>13</li><li>14</li><li>15</li><li>16</li><li>17</li><li>18</li><li>19</li><li>20</li><li>21</li><li>22</li><li>23</li><li>24</li><li>25</li><li>26</li><li>27</li><li>28</li><li>29</li><li>30</li></ol>\n"
      ],
      "text/latex": [
       "\\begin{enumerate*}\n",
       "\\item 1\n",
       "\\item 2\n",
       "\\item 3\n",
       "\\item 4\n",
       "\\item 5\n",
       "\\item 6\n",
       "\\item 7\n",
       "\\item 8\n",
       "\\item 9\n",
       "\\item 10\n",
       "\\item 11\n",
       "\\item 12\n",
       "\\item 13\n",
       "\\item 14\n",
       "\\item 15\n",
       "\\item 16\n",
       "\\item 17\n",
       "\\item 18\n",
       "\\item 19\n",
       "\\item 20\n",
       "\\item 21\n",
       "\\item 22\n",
       "\\item 23\n",
       "\\item 24\n",
       "\\item 25\n",
       "\\item 26\n",
       "\\item 27\n",
       "\\item 28\n",
       "\\item 29\n",
       "\\item 30\n",
       "\\end{enumerate*}\n"
      ],
      "text/markdown": [
       "1. 1\n",
       "2. 2\n",
       "3. 3\n",
       "4. 4\n",
       "5. 5\n",
       "6. 6\n",
       "7. 7\n",
       "8. 8\n",
       "9. 9\n",
       "10. 10\n",
       "11. 11\n",
       "12. 12\n",
       "13. 13\n",
       "14. 14\n",
       "15. 15\n",
       "16. 16\n",
       "17. 17\n",
       "18. 18\n",
       "19. 19\n",
       "20. 20\n",
       "21. 21\n",
       "22. 22\n",
       "23. 23\n",
       "24. 24\n",
       "25. 25\n",
       "26. 26\n",
       "27. 27\n",
       "28. 28\n",
       "29. 29\n",
       "30. 30\n",
       "\n",
       "\n"
      ],
      "text/plain": [
       " [1]  1  2  3  4  5  6  7  8  9 10 11 12 13 14 15 16 17 18 19 20 21 22 23 24 25\n",
       "[26] 26 27 28 29 30"
      ]
     },
     "metadata": {},
     "output_type": "display_data"
    }
   ],
   "source": [
    "m<-1:30\n",
    "m"
   ]
  },
  {
   "cell_type": "code",
   "execution_count": 201,
   "id": "8d260304",
   "metadata": {
    "ExecuteTime": {
     "end_time": "2022-12-15T15:12:57.570254Z",
     "start_time": "2022-12-15T15:12:57.550Z"
    }
   },
   "outputs": [],
   "source": [
    "z<-c(10,3)"
   ]
  },
  {
   "cell_type": "code",
   "execution_count": 202,
   "id": "b76dac89",
   "metadata": {
    "ExecuteTime": {
     "end_time": "2022-12-15T15:32:42.538681Z",
     "start_time": "2022-12-15T15:32:42.516Z"
    }
   },
   "outputs": [
    {
     "data": {
      "text/plain": [
       "NULL"
      ]
     },
     "metadata": {},
     "output_type": "display_data"
    }
   ],
   "source": [
    "dim(m)"
   ]
  },
  {
   "cell_type": "code",
   "execution_count": 203,
   "id": "b4d7d488",
   "metadata": {
    "ExecuteTime": {
     "end_time": "2022-12-15T15:33:20.152059Z",
     "start_time": "2022-12-15T15:33:20.128Z"
    }
   },
   "outputs": [
    {
     "data": {
      "text/html": [
       "<table class=\"dataframe\">\n",
       "<caption>A matrix: 10 × 3 of type int</caption>\n",
       "<tbody>\n",
       "\t<tr><td> 1</td><td>11</td><td>21</td></tr>\n",
       "\t<tr><td> 2</td><td>12</td><td>22</td></tr>\n",
       "\t<tr><td> 3</td><td>13</td><td>23</td></tr>\n",
       "\t<tr><td> 4</td><td>14</td><td>24</td></tr>\n",
       "\t<tr><td> 5</td><td>15</td><td>25</td></tr>\n",
       "\t<tr><td> 6</td><td>16</td><td>26</td></tr>\n",
       "\t<tr><td> 7</td><td>17</td><td>27</td></tr>\n",
       "\t<tr><td> 8</td><td>18</td><td>28</td></tr>\n",
       "\t<tr><td> 9</td><td>19</td><td>29</td></tr>\n",
       "\t<tr><td>10</td><td>20</td><td>30</td></tr>\n",
       "</tbody>\n",
       "</table>\n"
      ],
      "text/latex": [
       "A matrix: 10 × 3 of type int\n",
       "\\begin{tabular}{lll}\n",
       "\t  1 & 11 & 21\\\\\n",
       "\t  2 & 12 & 22\\\\\n",
       "\t  3 & 13 & 23\\\\\n",
       "\t  4 & 14 & 24\\\\\n",
       "\t  5 & 15 & 25\\\\\n",
       "\t  6 & 16 & 26\\\\\n",
       "\t  7 & 17 & 27\\\\\n",
       "\t  8 & 18 & 28\\\\\n",
       "\t  9 & 19 & 29\\\\\n",
       "\t 10 & 20 & 30\\\\\n",
       "\\end{tabular}\n"
      ],
      "text/markdown": [
       "\n",
       "A matrix: 10 × 3 of type int\n",
       "\n",
       "|  1 | 11 | 21 |\n",
       "|  2 | 12 | 22 |\n",
       "|  3 | 13 | 23 |\n",
       "|  4 | 14 | 24 |\n",
       "|  5 | 15 | 25 |\n",
       "|  6 | 16 | 26 |\n",
       "|  7 | 17 | 27 |\n",
       "|  8 | 18 | 28 |\n",
       "|  9 | 19 | 29 |\n",
       "| 10 | 20 | 30 |\n",
       "\n"
      ],
      "text/plain": [
       "      [,1] [,2] [,3]\n",
       " [1,]  1   11   21  \n",
       " [2,]  2   12   22  \n",
       " [3,]  3   13   23  \n",
       " [4,]  4   14   24  \n",
       " [5,]  5   15   25  \n",
       " [6,]  6   16   26  \n",
       " [7,]  7   17   27  \n",
       " [8,]  8   18   28  \n",
       " [9,]  9   19   29  \n",
       "[10,] 10   20   30  "
      ]
     },
     "metadata": {},
     "output_type": "display_data"
    }
   ],
   "source": [
    "dim(m)<-z\n",
    "m"
   ]
  },
  {
   "cell_type": "code",
   "execution_count": 204,
   "id": "92db54a3",
   "metadata": {
    "ExecuteTime": {
     "end_time": "2022-12-15T15:33:31.238157Z",
     "start_time": "2022-12-15T15:33:31.220Z"
    }
   },
   "outputs": [
    {
     "data": {
      "text/html": [
       "<style>\n",
       ".list-inline {list-style: none; margin:0; padding: 0}\n",
       ".list-inline>li {display: inline-block}\n",
       ".list-inline>li:not(:last-child)::after {content: \"\\00b7\"; padding: 0 .5ex}\n",
       "</style>\n",
       "<ol class=list-inline><li>'matrix'</li><li>'array'</li></ol>\n"
      ],
      "text/latex": [
       "\\begin{enumerate*}\n",
       "\\item 'matrix'\n",
       "\\item 'array'\n",
       "\\end{enumerate*}\n"
      ],
      "text/markdown": [
       "1. 'matrix'\n",
       "2. 'array'\n",
       "\n",
       "\n"
      ],
      "text/plain": [
       "[1] \"matrix\" \"array\" "
      ]
     },
     "metadata": {},
     "output_type": "display_data"
    }
   ],
   "source": [
    "class(m)"
   ]
  },
  {
   "cell_type": "code",
   "execution_count": 206,
   "id": "63487c20",
   "metadata": {
    "ExecuteTime": {
     "end_time": "2022-12-15T15:34:41.506340Z",
     "start_time": "2022-12-15T15:34:41.485Z"
    }
   },
   "outputs": [
    {
     "data": {
      "text/html": [
       "<style>\n",
       ".list-inline {list-style: none; margin:0; padding: 0}\n",
       ".list-inline>li {display: inline-block}\n",
       ".list-inline>li:not(:last-child)::after {content: \"\\00b7\"; padding: 0 .5ex}\n",
       "</style>\n",
       "<ol class=list-inline><li>1</li><li>2</li><li>3</li><li>4</li><li>5</li><li>6</li><li>7</li><li>8</li><li>9</li><li>10</li><li>11</li><li>12</li><li>13</li><li>14</li><li>15</li><li>16</li><li>17</li><li>18</li><li>19</li><li>20</li><li>21</li><li>22</li><li>23</li><li>24</li><li>25</li><li>26</li><li>27</li><li>28</li><li>29</li><li>30</li><li>31</li><li>32</li><li>33</li><li>34</li><li>35</li><li>36</li><li>37</li><li>38</li><li>39</li><li>40</li><li>41</li><li>42</li><li>43</li><li>44</li><li>45</li><li>46</li><li>47</li><li>48</li><li>49</li><li>50</li></ol>\n"
      ],
      "text/latex": [
       "\\begin{enumerate*}\n",
       "\\item 1\n",
       "\\item 2\n",
       "\\item 3\n",
       "\\item 4\n",
       "\\item 5\n",
       "\\item 6\n",
       "\\item 7\n",
       "\\item 8\n",
       "\\item 9\n",
       "\\item 10\n",
       "\\item 11\n",
       "\\item 12\n",
       "\\item 13\n",
       "\\item 14\n",
       "\\item 15\n",
       "\\item 16\n",
       "\\item 17\n",
       "\\item 18\n",
       "\\item 19\n",
       "\\item 20\n",
       "\\item 21\n",
       "\\item 22\n",
       "\\item 23\n",
       "\\item 24\n",
       "\\item 25\n",
       "\\item 26\n",
       "\\item 27\n",
       "\\item 28\n",
       "\\item 29\n",
       "\\item 30\n",
       "\\item 31\n",
       "\\item 32\n",
       "\\item 33\n",
       "\\item 34\n",
       "\\item 35\n",
       "\\item 36\n",
       "\\item 37\n",
       "\\item 38\n",
       "\\item 39\n",
       "\\item 40\n",
       "\\item 41\n",
       "\\item 42\n",
       "\\item 43\n",
       "\\item 44\n",
       "\\item 45\n",
       "\\item 46\n",
       "\\item 47\n",
       "\\item 48\n",
       "\\item 49\n",
       "\\item 50\n",
       "\\end{enumerate*}\n"
      ],
      "text/markdown": [
       "1. 1\n",
       "2. 2\n",
       "3. 3\n",
       "4. 4\n",
       "5. 5\n",
       "6. 6\n",
       "7. 7\n",
       "8. 8\n",
       "9. 9\n",
       "10. 10\n",
       "11. 11\n",
       "12. 12\n",
       "13. 13\n",
       "14. 14\n",
       "15. 15\n",
       "16. 16\n",
       "17. 17\n",
       "18. 18\n",
       "19. 19\n",
       "20. 20\n",
       "21. 21\n",
       "22. 22\n",
       "23. 23\n",
       "24. 24\n",
       "25. 25\n",
       "26. 26\n",
       "27. 27\n",
       "28. 28\n",
       "29. 29\n",
       "30. 30\n",
       "31. 31\n",
       "32. 32\n",
       "33. 33\n",
       "34. 34\n",
       "35. 35\n",
       "36. 36\n",
       "37. 37\n",
       "38. 38\n",
       "39. 39\n",
       "40. 40\n",
       "41. 41\n",
       "42. 42\n",
       "43. 43\n",
       "44. 44\n",
       "45. 45\n",
       "46. 46\n",
       "47. 47\n",
       "48. 48\n",
       "49. 49\n",
       "50. 50\n",
       "\n",
       "\n"
      ],
      "text/plain": [
       " [1]  1  2  3  4  5  6  7  8  9 10 11 12 13 14 15 16 17 18 19 20 21 22 23 24 25\n",
       "[26] 26 27 28 29 30 31 32 33 34 35 36 37 38 39 40 41 42 43 44 45 46 47 48 49 50"
      ]
     },
     "metadata": {},
     "output_type": "display_data"
    }
   ],
   "source": [
    "y<-1:50\n",
    "y"
   ]
  },
  {
   "cell_type": "code",
   "execution_count": 207,
   "id": "91a55c39",
   "metadata": {
    "ExecuteTime": {
     "end_time": "2022-12-15T15:36:19.455774Z",
     "start_time": "2022-12-15T15:36:19.429Z"
    }
   },
   "outputs": [
    {
     "data": {
      "text/html": [
       "<table class=\"dataframe\">\n",
       "<caption>A matrix: 10 × 5 of type int</caption>\n",
       "<tbody>\n",
       "\t<tr><td> 1</td><td>11</td><td>21</td><td>31</td><td>41</td></tr>\n",
       "\t<tr><td> 2</td><td>12</td><td>22</td><td>32</td><td>42</td></tr>\n",
       "\t<tr><td> 3</td><td>13</td><td>23</td><td>33</td><td>43</td></tr>\n",
       "\t<tr><td> 4</td><td>14</td><td>24</td><td>34</td><td>44</td></tr>\n",
       "\t<tr><td> 5</td><td>15</td><td>25</td><td>35</td><td>45</td></tr>\n",
       "\t<tr><td> 6</td><td>16</td><td>26</td><td>36</td><td>46</td></tr>\n",
       "\t<tr><td> 7</td><td>17</td><td>27</td><td>37</td><td>47</td></tr>\n",
       "\t<tr><td> 8</td><td>18</td><td>28</td><td>38</td><td>48</td></tr>\n",
       "\t<tr><td> 9</td><td>19</td><td>29</td><td>39</td><td>49</td></tr>\n",
       "\t<tr><td>10</td><td>20</td><td>30</td><td>40</td><td>50</td></tr>\n",
       "</tbody>\n",
       "</table>\n"
      ],
      "text/latex": [
       "A matrix: 10 × 5 of type int\n",
       "\\begin{tabular}{lllll}\n",
       "\t  1 & 11 & 21 & 31 & 41\\\\\n",
       "\t  2 & 12 & 22 & 32 & 42\\\\\n",
       "\t  3 & 13 & 23 & 33 & 43\\\\\n",
       "\t  4 & 14 & 24 & 34 & 44\\\\\n",
       "\t  5 & 15 & 25 & 35 & 45\\\\\n",
       "\t  6 & 16 & 26 & 36 & 46\\\\\n",
       "\t  7 & 17 & 27 & 37 & 47\\\\\n",
       "\t  8 & 18 & 28 & 38 & 48\\\\\n",
       "\t  9 & 19 & 29 & 39 & 49\\\\\n",
       "\t 10 & 20 & 30 & 40 & 50\\\\\n",
       "\\end{tabular}\n"
      ],
      "text/markdown": [
       "\n",
       "A matrix: 10 × 5 of type int\n",
       "\n",
       "|  1 | 11 | 21 | 31 | 41 |\n",
       "|  2 | 12 | 22 | 32 | 42 |\n",
       "|  3 | 13 | 23 | 33 | 43 |\n",
       "|  4 | 14 | 24 | 34 | 44 |\n",
       "|  5 | 15 | 25 | 35 | 45 |\n",
       "|  6 | 16 | 26 | 36 | 46 |\n",
       "|  7 | 17 | 27 | 37 | 47 |\n",
       "|  8 | 18 | 28 | 38 | 48 |\n",
       "|  9 | 19 | 29 | 39 | 49 |\n",
       "| 10 | 20 | 30 | 40 | 50 |\n",
       "\n"
      ],
      "text/plain": [
       "      [,1] [,2] [,3] [,4] [,5]\n",
       " [1,]  1   11   21   31   41  \n",
       " [2,]  2   12   22   32   42  \n",
       " [3,]  3   13   23   33   43  \n",
       " [4,]  4   14   24   34   44  \n",
       " [5,]  5   15   25   35   45  \n",
       " [6,]  6   16   26   36   46  \n",
       " [7,]  7   17   27   37   47  \n",
       " [8,]  8   18   28   38   48  \n",
       " [9,]  9   19   29   39   49  \n",
       "[10,] 10   20   30   40   50  "
      ]
     },
     "metadata": {},
     "output_type": "display_data"
    }
   ],
   "source": [
    "mt<-matrix(y,10,5)\n",
    "mt"
   ]
  },
  {
   "cell_type": "code",
   "execution_count": 208,
   "id": "ff2d5b2a",
   "metadata": {
    "ExecuteTime": {
     "end_time": "2022-12-15T15:36:58.597812Z",
     "start_time": "2022-12-15T15:36:58.575Z"
    }
   },
   "outputs": [
    {
     "data": {
      "text/html": [
       "<style>\n",
       ".list-inline {list-style: none; margin:0; padding: 0}\n",
       ".list-inline>li {display: inline-block}\n",
       ".list-inline>li:not(:last-child)::after {content: \"\\00b7\"; padding: 0 .5ex}\n",
       "</style>\n",
       "<ol class=list-inline><li>'A'</li><li>'B'</li><li>'C'</li><li>'D'</li><li>'E'</li><li>'F'</li><li>'G'</li><li>'H'</li><li>'I'</li><li>'J'</li></ol>\n"
      ],
      "text/latex": [
       "\\begin{enumerate*}\n",
       "\\item 'A'\n",
       "\\item 'B'\n",
       "\\item 'C'\n",
       "\\item 'D'\n",
       "\\item 'E'\n",
       "\\item 'F'\n",
       "\\item 'G'\n",
       "\\item 'H'\n",
       "\\item 'I'\n",
       "\\item 'J'\n",
       "\\end{enumerate*}\n"
      ],
      "text/markdown": [
       "1. 'A'\n",
       "2. 'B'\n",
       "3. 'C'\n",
       "4. 'D'\n",
       "5. 'E'\n",
       "6. 'F'\n",
       "7. 'G'\n",
       "8. 'H'\n",
       "9. 'I'\n",
       "10. 'J'\n",
       "\n",
       "\n"
      ],
      "text/plain": [
       " [1] \"A\" \"B\" \"C\" \"D\" \"E\" \"F\" \"G\" \"H\" \"I\" \"J\""
      ]
     },
     "metadata": {},
     "output_type": "display_data"
    }
   ],
   "source": [
    "imena<-LETTERS[1:10]\n",
    "imena"
   ]
  },
  {
   "cell_type": "code",
   "execution_count": 213,
   "id": "fd7d9336",
   "metadata": {
    "ExecuteTime": {
     "end_time": "2022-12-15T15:44:59.293600Z",
     "start_time": "2022-12-15T15:44:59.265Z"
    }
   },
   "outputs": [
    {
     "data": {
      "text/html": [
       "<table class=\"dataframe\">\n",
       "<caption>A matrix: 10 × 6 of type chr</caption>\n",
       "<thead>\n",
       "\t<tr><th scope=col>imena</th><th scope=col></th><th scope=col></th><th scope=col></th><th scope=col></th><th scope=col></th></tr>\n",
       "</thead>\n",
       "<tbody>\n",
       "\t<tr><td>A</td><td>1 </td><td>11</td><td>21</td><td>31</td><td>41</td></tr>\n",
       "\t<tr><td>B</td><td>2 </td><td>12</td><td>22</td><td>32</td><td>42</td></tr>\n",
       "\t<tr><td>C</td><td>3 </td><td>13</td><td>23</td><td>33</td><td>43</td></tr>\n",
       "\t<tr><td>D</td><td>4 </td><td>14</td><td>24</td><td>34</td><td>44</td></tr>\n",
       "\t<tr><td>E</td><td>5 </td><td>15</td><td>25</td><td>35</td><td>45</td></tr>\n",
       "\t<tr><td>F</td><td>6 </td><td>16</td><td>26</td><td>36</td><td>46</td></tr>\n",
       "\t<tr><td>G</td><td>7 </td><td>17</td><td>27</td><td>37</td><td>47</td></tr>\n",
       "\t<tr><td>H</td><td>8 </td><td>18</td><td>28</td><td>38</td><td>48</td></tr>\n",
       "\t<tr><td>I</td><td>9 </td><td>19</td><td>29</td><td>39</td><td>49</td></tr>\n",
       "\t<tr><td>J</td><td>10</td><td>20</td><td>30</td><td>40</td><td>50</td></tr>\n",
       "</tbody>\n",
       "</table>\n"
      ],
      "text/latex": [
       "A matrix: 10 × 6 of type chr\n",
       "\\begin{tabular}{llllll}\n",
       " imena &  &  &  &  & \\\\\n",
       "\\hline\n",
       "\t A & 1  & 11 & 21 & 31 & 41\\\\\n",
       "\t B & 2  & 12 & 22 & 32 & 42\\\\\n",
       "\t C & 3  & 13 & 23 & 33 & 43\\\\\n",
       "\t D & 4  & 14 & 24 & 34 & 44\\\\\n",
       "\t E & 5  & 15 & 25 & 35 & 45\\\\\n",
       "\t F & 6  & 16 & 26 & 36 & 46\\\\\n",
       "\t G & 7  & 17 & 27 & 37 & 47\\\\\n",
       "\t H & 8  & 18 & 28 & 38 & 48\\\\\n",
       "\t I & 9  & 19 & 29 & 39 & 49\\\\\n",
       "\t J & 10 & 20 & 30 & 40 & 50\\\\\n",
       "\\end{tabular}\n"
      ],
      "text/markdown": [
       "\n",
       "A matrix: 10 × 6 of type chr\n",
       "\n",
       "| imena | <!----> | <!----> | <!----> | <!----> | <!----> |\n",
       "|---|---|---|---|---|---|\n",
       "| A | 1  | 11 | 21 | 31 | 41 |\n",
       "| B | 2  | 12 | 22 | 32 | 42 |\n",
       "| C | 3  | 13 | 23 | 33 | 43 |\n",
       "| D | 4  | 14 | 24 | 34 | 44 |\n",
       "| E | 5  | 15 | 25 | 35 | 45 |\n",
       "| F | 6  | 16 | 26 | 36 | 46 |\n",
       "| G | 7  | 17 | 27 | 37 | 47 |\n",
       "| H | 8  | 18 | 28 | 38 | 48 |\n",
       "| I | 9  | 19 | 29 | 39 | 49 |\n",
       "| J | 10 | 20 | 30 | 40 | 50 |\n",
       "\n"
      ],
      "text/plain": [
       "      imena               \n",
       " [1,] A     1  11 21 31 41\n",
       " [2,] B     2  12 22 32 42\n",
       " [3,] C     3  13 23 33 43\n",
       " [4,] D     4  14 24 34 44\n",
       " [5,] E     5  15 25 35 45\n",
       " [6,] F     6  16 26 36 46\n",
       " [7,] G     7  17 27 37 47\n",
       " [8,] H     8  18 28 38 48\n",
       " [9,] I     9  19 29 39 49\n",
       "[10,] J     10 20 30 40 50"
      ]
     },
     "metadata": {},
     "output_type": "display_data"
    }
   ],
   "source": [
    "cbind(imena,mt)"
   ]
  },
  {
   "cell_type": "code",
   "execution_count": 210,
   "id": "226adf9a",
   "metadata": {
    "ExecuteTime": {
     "end_time": "2022-12-15T15:37:47.046068Z",
     "start_time": "2022-12-15T15:37:47.027Z"
    }
   },
   "outputs": [
    {
     "data": {
      "text/html": [
       "<style>\n",
       ".list-inline {list-style: none; margin:0; padding: 0}\n",
       ".list-inline>li {display: inline-block}\n",
       ".list-inline>li:not(:last-child)::after {content: \"\\00b7\"; padding: 0 .5ex}\n",
       "</style>\n",
       "<ol class=list-inline><li>'matrix'</li><li>'array'</li></ol>\n"
      ],
      "text/latex": [
       "\\begin{enumerate*}\n",
       "\\item 'matrix'\n",
       "\\item 'array'\n",
       "\\end{enumerate*}\n"
      ],
      "text/markdown": [
       "1. 'matrix'\n",
       "2. 'array'\n",
       "\n",
       "\n"
      ],
      "text/plain": [
       "[1] \"matrix\" \"array\" "
      ]
     },
     "metadata": {},
     "output_type": "display_data"
    }
   ],
   "source": [
    "class(mt)"
   ]
  },
  {
   "cell_type": "code",
   "execution_count": 214,
   "id": "e7769e8c",
   "metadata": {
    "ExecuteTime": {
     "end_time": "2022-12-15T15:45:08.572155Z",
     "start_time": "2022-12-15T15:45:08.554Z"
    }
   },
   "outputs": [
    {
     "data": {
      "text/html": [
       "<style>\n",
       ".list-inline {list-style: none; margin:0; padding: 0}\n",
       ".list-inline>li {display: inline-block}\n",
       ".list-inline>li:not(:last-child)::after {content: \"\\00b7\"; padding: 0 .5ex}\n",
       "</style>\n",
       "<ol class=list-inline><li>'A'</li><li>'B'</li><li>'C'</li><li>'D'</li><li>'E'</li><li>'F'</li><li>'G'</li><li>'H'</li><li>'I'</li><li>'J'</li></ol>\n"
      ],
      "text/latex": [
       "\\begin{enumerate*}\n",
       "\\item 'A'\n",
       "\\item 'B'\n",
       "\\item 'C'\n",
       "\\item 'D'\n",
       "\\item 'E'\n",
       "\\item 'F'\n",
       "\\item 'G'\n",
       "\\item 'H'\n",
       "\\item 'I'\n",
       "\\item 'J'\n",
       "\\end{enumerate*}\n"
      ],
      "text/markdown": [
       "1. 'A'\n",
       "2. 'B'\n",
       "3. 'C'\n",
       "4. 'D'\n",
       "5. 'E'\n",
       "6. 'F'\n",
       "7. 'G'\n",
       "8. 'H'\n",
       "9. 'I'\n",
       "10. 'J'\n",
       "\n",
       "\n"
      ],
      "text/plain": [
       " [1] \"A\" \"B\" \"C\" \"D\" \"E\" \"F\" \"G\" \"H\" \"I\" \"J\""
      ]
     },
     "metadata": {},
     "output_type": "display_data"
    }
   ],
   "source": [
    "imena"
   ]
  },
  {
   "cell_type": "code",
   "execution_count": 217,
   "id": "bb9614c4",
   "metadata": {
    "ExecuteTime": {
     "end_time": "2022-12-15T15:49:33.567001Z",
     "start_time": "2022-12-15T15:49:33.540Z"
    },
    "scrolled": true
   },
   "outputs": [
    {
     "data": {
      "text/plain": [
       "NULL"
      ]
     },
     "metadata": {},
     "output_type": "display_data"
    },
    {
     "data": {
      "text/html": [
       "<table class=\"dataframe\">\n",
       "<caption>A matrix: 10 × 5 of type int</caption>\n",
       "<tbody>\n",
       "\t<tr><th scope=row>A</th><td> 1</td><td>11</td><td>21</td><td>31</td><td>41</td></tr>\n",
       "\t<tr><th scope=row>B</th><td> 2</td><td>12</td><td>22</td><td>32</td><td>42</td></tr>\n",
       "\t<tr><th scope=row>C</th><td> 3</td><td>13</td><td>23</td><td>33</td><td>43</td></tr>\n",
       "\t<tr><th scope=row>D</th><td> 4</td><td>14</td><td>24</td><td>34</td><td>44</td></tr>\n",
       "\t<tr><th scope=row>E</th><td> 5</td><td>15</td><td>25</td><td>35</td><td>45</td></tr>\n",
       "\t<tr><th scope=row>F</th><td> 6</td><td>16</td><td>26</td><td>36</td><td>46</td></tr>\n",
       "\t<tr><th scope=row>G</th><td> 7</td><td>17</td><td>27</td><td>37</td><td>47</td></tr>\n",
       "\t<tr><th scope=row>H</th><td> 8</td><td>18</td><td>28</td><td>38</td><td>48</td></tr>\n",
       "\t<tr><th scope=row>I</th><td> 9</td><td>19</td><td>29</td><td>39</td><td>49</td></tr>\n",
       "\t<tr><th scope=row>J</th><td>10</td><td>20</td><td>30</td><td>40</td><td>50</td></tr>\n",
       "</tbody>\n",
       "</table>\n"
      ],
      "text/latex": [
       "A matrix: 10 × 5 of type int\n",
       "\\begin{tabular}{r|lllll}\n",
       "\tA &  1 & 11 & 21 & 31 & 41\\\\\n",
       "\tB &  2 & 12 & 22 & 32 & 42\\\\\n",
       "\tC &  3 & 13 & 23 & 33 & 43\\\\\n",
       "\tD &  4 & 14 & 24 & 34 & 44\\\\\n",
       "\tE &  5 & 15 & 25 & 35 & 45\\\\\n",
       "\tF &  6 & 16 & 26 & 36 & 46\\\\\n",
       "\tG &  7 & 17 & 27 & 37 & 47\\\\\n",
       "\tH &  8 & 18 & 28 & 38 & 48\\\\\n",
       "\tI &  9 & 19 & 29 & 39 & 49\\\\\n",
       "\tJ & 10 & 20 & 30 & 40 & 50\\\\\n",
       "\\end{tabular}\n"
      ],
      "text/markdown": [
       "\n",
       "A matrix: 10 × 5 of type int\n",
       "\n",
       "| A |  1 | 11 | 21 | 31 | 41 |\n",
       "| B |  2 | 12 | 22 | 32 | 42 |\n",
       "| C |  3 | 13 | 23 | 33 | 43 |\n",
       "| D |  4 | 14 | 24 | 34 | 44 |\n",
       "| E |  5 | 15 | 25 | 35 | 45 |\n",
       "| F |  6 | 16 | 26 | 36 | 46 |\n",
       "| G |  7 | 17 | 27 | 37 | 47 |\n",
       "| H |  8 | 18 | 28 | 38 | 48 |\n",
       "| I |  9 | 19 | 29 | 39 | 49 |\n",
       "| J | 10 | 20 | 30 | 40 | 50 |\n",
       "\n"
      ],
      "text/plain": [
       "  [,1] [,2] [,3] [,4] [,5]\n",
       "A  1   11   21   31   41  \n",
       "B  2   12   22   32   42  \n",
       "C  3   13   23   33   43  \n",
       "D  4   14   24   34   44  \n",
       "E  5   15   25   35   45  \n",
       "F  6   16   26   36   46  \n",
       "G  7   17   27   37   47  \n",
       "H  8   18   28   38   48  \n",
       "I  9   19   29   39   49  \n",
       "J 10   20   30   40   50  "
      ]
     },
     "metadata": {},
     "output_type": "display_data"
    }
   ],
   "source": [
    "rownames(mt,do.NULL = T, prefix = \"row\")\n",
    "rownames(mt)<-imena\n",
    "mt"
   ]
  },
  {
   "cell_type": "code",
   "execution_count": 218,
   "id": "32c5e4f2",
   "metadata": {
    "ExecuteTime": {
     "end_time": "2022-12-15T15:51:48.255250Z",
     "start_time": "2022-12-15T15:51:48.228Z"
    }
   },
   "outputs": [
    {
     "data": {
      "text/plain": [
       "NULL"
      ]
     },
     "metadata": {},
     "output_type": "display_data"
    },
    {
     "data": {
      "text/html": [
       "<table class=\"dataframe\">\n",
       "<caption>A matrix: 10 × 5 of type int</caption>\n",
       "<thead>\n",
       "\t<tr><th></th><th scope=col>day 1</th><th scope=col>day 2</th><th scope=col>day 3</th><th scope=col>day 4</th><th scope=col>day 5</th></tr>\n",
       "</thead>\n",
       "<tbody>\n",
       "\t<tr><th scope=row>A</th><td> 1</td><td>11</td><td>21</td><td>31</td><td>41</td></tr>\n",
       "\t<tr><th scope=row>B</th><td> 2</td><td>12</td><td>22</td><td>32</td><td>42</td></tr>\n",
       "\t<tr><th scope=row>C</th><td> 3</td><td>13</td><td>23</td><td>33</td><td>43</td></tr>\n",
       "\t<tr><th scope=row>D</th><td> 4</td><td>14</td><td>24</td><td>34</td><td>44</td></tr>\n",
       "\t<tr><th scope=row>E</th><td> 5</td><td>15</td><td>25</td><td>35</td><td>45</td></tr>\n",
       "\t<tr><th scope=row>F</th><td> 6</td><td>16</td><td>26</td><td>36</td><td>46</td></tr>\n",
       "\t<tr><th scope=row>G</th><td> 7</td><td>17</td><td>27</td><td>37</td><td>47</td></tr>\n",
       "\t<tr><th scope=row>H</th><td> 8</td><td>18</td><td>28</td><td>38</td><td>48</td></tr>\n",
       "\t<tr><th scope=row>I</th><td> 9</td><td>19</td><td>29</td><td>39</td><td>49</td></tr>\n",
       "\t<tr><th scope=row>J</th><td>10</td><td>20</td><td>30</td><td>40</td><td>50</td></tr>\n",
       "</tbody>\n",
       "</table>\n"
      ],
      "text/latex": [
       "A matrix: 10 × 5 of type int\n",
       "\\begin{tabular}{r|lllll}\n",
       "  & day 1 & day 2 & day 3 & day 4 & day 5\\\\\n",
       "\\hline\n",
       "\tA &  1 & 11 & 21 & 31 & 41\\\\\n",
       "\tB &  2 & 12 & 22 & 32 & 42\\\\\n",
       "\tC &  3 & 13 & 23 & 33 & 43\\\\\n",
       "\tD &  4 & 14 & 24 & 34 & 44\\\\\n",
       "\tE &  5 & 15 & 25 & 35 & 45\\\\\n",
       "\tF &  6 & 16 & 26 & 36 & 46\\\\\n",
       "\tG &  7 & 17 & 27 & 37 & 47\\\\\n",
       "\tH &  8 & 18 & 28 & 38 & 48\\\\\n",
       "\tI &  9 & 19 & 29 & 39 & 49\\\\\n",
       "\tJ & 10 & 20 & 30 & 40 & 50\\\\\n",
       "\\end{tabular}\n"
      ],
      "text/markdown": [
       "\n",
       "A matrix: 10 × 5 of type int\n",
       "\n",
       "| <!--/--> | day 1 | day 2 | day 3 | day 4 | day 5 |\n",
       "|---|---|---|---|---|---|\n",
       "| A |  1 | 11 | 21 | 31 | 41 |\n",
       "| B |  2 | 12 | 22 | 32 | 42 |\n",
       "| C |  3 | 13 | 23 | 33 | 43 |\n",
       "| D |  4 | 14 | 24 | 34 | 44 |\n",
       "| E |  5 | 15 | 25 | 35 | 45 |\n",
       "| F |  6 | 16 | 26 | 36 | 46 |\n",
       "| G |  7 | 17 | 27 | 37 | 47 |\n",
       "| H |  8 | 18 | 28 | 38 | 48 |\n",
       "| I |  9 | 19 | 29 | 39 | 49 |\n",
       "| J | 10 | 20 | 30 | 40 | 50 |\n",
       "\n"
      ],
      "text/plain": [
       "  day 1 day 2 day 3 day 4 day 5\n",
       "A  1    11    21    31    41   \n",
       "B  2    12    22    32    42   \n",
       "C  3    13    23    33    43   \n",
       "D  4    14    24    34    44   \n",
       "E  5    15    25    35    45   \n",
       "F  6    16    26    36    46   \n",
       "G  7    17    27    37    47   \n",
       "H  8    18    28    38    48   \n",
       "I  9    19    29    39    49   \n",
       "J 10    20    30    40    50   "
      ]
     },
     "metadata": {},
     "output_type": "display_data"
    }
   ],
   "source": [
    "colnames(mt,do.NULL = T, prefix = \"col\")\n",
    "colnames(mt)<-paste(\"day\",1:5)\n",
    "mt"
   ]
  },
  {
   "cell_type": "code",
   "execution_count": null,
   "id": "302cdb0c",
   "metadata": {},
   "outputs": [],
   "source": []
  }
 ],
 "metadata": {
  "kernelspec": {
   "display_name": "R",
   "language": "R",
   "name": "ir"
  },
  "language_info": {
   "codemirror_mode": "r",
   "file_extension": ".r",
   "mimetype": "text/x-r-source",
   "name": "R",
   "pygments_lexer": "r",
   "version": "4.1.3"
  },
  "nbTranslate": {
   "displayLangs": [
    "*"
   ],
   "hotkey": "alt-t",
   "langInMainMenu": true,
   "sourceLang": "en",
   "targetLang": "fr",
   "useGoogleTranslate": true
  },
  "toc": {
   "base_numbering": 1,
   "nav_menu": {},
   "number_sections": false,
   "sideBar": true,
   "skip_h1_title": false,
   "title_cell": "Table of Contents",
   "title_sidebar": "Contents",
   "toc_cell": false,
   "toc_position": {},
   "toc_section_display": true,
   "toc_window_display": false
  },
  "varInspector": {
   "cols": {
    "lenName": 16,
    "lenType": 16,
    "lenVar": 40
   },
   "kernels_config": {
    "python": {
     "delete_cmd_postfix": "",
     "delete_cmd_prefix": "del ",
     "library": "var_list.py",
     "varRefreshCmd": "print(var_dic_list())"
    },
    "r": {
     "delete_cmd_postfix": ") ",
     "delete_cmd_prefix": "rm(",
     "library": "var_list.r",
     "varRefreshCmd": "cat(var_dic_list()) "
    }
   },
   "types_to_exclude": [
    "module",
    "function",
    "builtin_function_or_method",
    "instance",
    "_Feature"
   ],
   "window_display": false
  }
 },
 "nbformat": 4,
 "nbformat_minor": 5
}
