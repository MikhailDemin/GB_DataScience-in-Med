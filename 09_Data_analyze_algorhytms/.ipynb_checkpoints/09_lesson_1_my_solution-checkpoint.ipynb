{
 "cells": [
  {
   "cell_type": "markdown",
   "metadata": {},
   "source": [
    "# Урок 1. Алгоритм линейной регрессии. Градиентный спуск"
   ]
  },
  {
   "cell_type": "code",
   "execution_count": null,
   "metadata": {},
   "outputs": [],
   "source": [
    "import numpy as np\n",
    "import matplotlib.pyplot as plt\n",
    "plt.rcParams.update({'font.size': 14,\n",
    "                     'xtick.labelsize': 14})"
   ]
  },
  {
   "cell_type": "code",
   "execution_count": null,
   "metadata": {},
   "outputs": [],
   "source": [
    "X = np.array([[1, 1, 1, 1, 1, 1, 1, 1, 1, 1],\n",
    "              [1, 1, 2, 5, 3, 0, 5, 10, 1, 2]])\n",
    "X"
   ]
  },
  {
   "cell_type": "code",
   "execution_count": null,
   "metadata": {},
   "outputs": [],
   "source": [
    "def calc_mse(y, y_pred):\n",
    "    err = np.mean((y - y_pred)**2) # <=> 1/n * np.sum((y_pred - y)**2)\n",
    "    return err"
   ]
  },
  {
   "cell_type": "code",
   "execution_count": null,
   "metadata": {},
   "outputs": [],
   "source": [
    "y = [45, 55, 50, 55, 60, 35, 75, 80, 50, 60]"
   ]
  },
  {
   "cell_type": "markdown",
   "metadata": {},
   "source": [
    "## Домашнее задание:"
   ]
  },
  {
   "cell_type": "markdown",
   "metadata": {
    "colab_type": "text",
    "id": "huXrhXQsZTMt"
   },
   "source": [
    "### Задание 1<br>\n",
    "Подберите скорость обучения (alpha) и количество итераций для градиентного спуска (до совпадения ответов с результатами МНК). Как влияют друг на друга эти два параметра?"
   ]
  },
  {
   "cell_type": "code",
   "execution_count": null,
   "metadata": {
    "scrolled": true
   },
   "outputs": [],
   "source": [
    "n = X.shape[0]\n",
    "alpha = 1e-3\n",
    "w = np.array([1, 0.5])\n",
    "\n",
    "for i in range(1000+1):\n",
    "    y_pred = np.dot(w, X)\n",
    "    err = calc_mse(y, y_pred)\n",
    "    for j in range(w.shape[0]):\n",
    "        w[j] -= alpha * (1/n * 2 * np.sum(X[j] * (y_pred - y)))\n",
    "    if i % 100 == 0:\n",
    "        print(i, w, err) # МНК: array([47.23214286,  3.91071429]) 45.937499999999986"
   ]
  },
  {
   "cell_type": "markdown",
   "metadata": {},
   "source": [
    "__Решение:__<br>"
   ]
  },
  {
   "cell_type": "code",
   "execution_count": null,
   "metadata": {
    "colab": {
     "base_uri": "https://localhost:8080/",
     "height": 185
    },
    "colab_type": "code",
    "id": "IDB22MQKMYaJ",
    "outputId": "4c03219e-a57c-4583-f439-6699fd0619bb",
    "scrolled": true
   },
   "outputs": [],
   "source": [
    "n = X.shape[1]\n",
    "alpha = 1e-3\n",
    "W = np.array([1, 0.5])\n",
    "print(f'Number of objects = {n} \\\n",
    "       \\nLearning rate = {alpha} \\\n",
    "       \\nInitial weights = {W} \\n')\n",
    "\n",
    "for i in range(10000+1):\n",
    "    y_pred = np.dot(W, X)\n",
    "    err = calc_mse(y, y_pred)\n",
    "    for j in range(W.shape[0]):\n",
    "        W[j] -= alpha * (1/n * 2 * np.sum(X[j] * (y_pred - y)))\n",
    "    if i % 1000 == 0:\n",
    "        print(f'Weights = {W}, количество итераций = {i}. MSE: {err}')"
   ]
  },
  {
   "cell_type": "markdown",
   "metadata": {},
   "source": [
    "Для решения данной задачи можно реализовать механизм перебора различных коэффициентов и сравнение получемой ошибки. Для этого код градиентного спуска нужно обернуть в функцию:"
   ]
  },
  {
   "cell_type": "code",
   "execution_count": null,
   "metadata": {},
   "outputs": [],
   "source": [
    "def gradient_descent(alpha, iterations, W, X=X, y=y):\n",
    "    n = X.shape[1]\n",
    "    err = np.inf\n",
    "    for i in range(iterations):\n",
    "        y_pred = np.dot(W, X)\n",
    "        err_new = calc_mse(y, y_pred)\n",
    "        if err_new < err:\n",
    "            err = err_new\n",
    "            for j in range(W.shape[0]):\n",
    "                W[j] -= alpha * (1/n * 2 * np.sum(X[j] * (y_pred - y))) \n",
    "        else:\n",
    "            return i-1, W, err\n",
    "    return i, W, err"
   ]
  },
  {
   "cell_type": "markdown",
   "metadata": {},
   "source": [
    "Далее перебираем параметры с помощью двух циклов ```for ... in```:"
   ]
  },
  {
   "cell_type": "code",
   "execution_count": null,
   "metadata": {
    "scrolled": false
   },
   "outputs": [],
   "source": [
    "%%time\n",
    "min_err = np.inf\n",
    "min_alpha = ()\n",
    "min_iter = ()\n",
    "\n",
    "for alpha in [1e-1, 1e-2, 1e-3, 1e-4]:\n",
    "    for iters in [1e3, 1e4, 1e5, 1e6]:\n",
    "        W = np.array([1, 0.5])\n",
    "        num, wi, err = gradient_descent(alpha, int(iters), W)\n",
    "        print(f'Скорость обучения (альфа) = {alpha} | количество итераций = {iters}\\n'\n",
    "        f'MSE: {err} | Подобранные веса = {W}\\n')\n",
    "        if err < min_err:\n",
    "            min_err = err\n",
    "            min_alpha = alpha\n",
    "            min_iters = iters\n",
    "\n",
    "print(f'\\n\\nМинимальная ошибка {min_err} достигается при скорости обучения (альфа) = {min_alpha} и количестве итераций = {min_iters}')"
   ]
  },
  {
   "cell_type": "markdown",
   "metadata": {},
   "source": [
    "__Ответ:__<br>\n",
    "Минимальная ошибка $MSE = 43.968750000001044$ достигается при скорости обучения (альфа) $\\alpha = 0.01$ и количестве итераций $ Iterations = 10 000$. Скорость обучения значительно увеличивает количество итераций необходимое для вычисления минимальной ошибки. При $\\alpha = 0.0001$ необходимое количество итераций более $10^7$, что ведет к повышению стоимости вычислений."
   ]
  },
  {
   "cell_type": "markdown",
   "metadata": {
    "colab_type": "text",
    "id": "5Qu1o4JhZYwI"
   },
   "source": [
    "### $^*$Задание 2<br>\n",
    "В этом коде мы избавляемся от итераций по весам, но тут есть ошибка, исправьте ее:"
   ]
  },
  {
   "cell_type": "code",
   "execution_count": null,
   "metadata": {
    "colab": {
     "base_uri": "https://localhost:8080/",
     "height": 185
    },
    "colab_type": "code",
    "id": "WZZzDCQLY4pA",
    "outputId": "28f58ade-72f2-4381-809d-2417752d56e4",
    "scrolled": true
   },
   "outputs": [],
   "source": [
    "w = np.array([1, 0.5])\n",
    "\n",
    "for i in range(1000):\n",
    "    y_pred = np.dot(w, X)\n",
    "    err = calc_mse(y, y_pred)\n",
    "    '''for j in range(w.shape[0]):\n",
    "        w[j] -= alpha * (1/n * 2 * np.sum(X[j] * (y_pred - y)))'''\n",
    "    w -= alpha * (1/n * 2 * np.sum(X * (y_pred - y)))\n",
    "    if i % 100 == 0:\n",
    "        print(i, w, err) # [47.23214286  3.91071429] 45.937499999999986"
   ]
  },
  {
   "cell_type": "markdown",
   "metadata": {},
   "source": [
    "__Решение:__<br>\n",
    "Ошибка заключается в суммировании всех элементов врезультате матричного умножения и выдаче скаляра, который затем расширяется до вектора с одинаковыми элементами. Исправляется путем указания столбца по которому вести расчет:"
   ]
  },
  {
   "cell_type": "code",
   "execution_count": null,
   "metadata": {},
   "outputs": [],
   "source": [
    "w = np.array([1, 0.5])\n",
    "\n",
    "for i in range(1000):\n",
    "    y_pred = np.dot(w, X)\n",
    "    err = calc_mse(y, y_pred)\n",
    "    '''for j in range(w.shape[0]):\n",
    "        w[j] -= alpha * (1/n * 2 * np.sum(X[j] * (y_pred - y)))'''\n",
    "    w -= alpha * (1/n * 2 * np.sum(X * (y_pred - y),  axis=1))\n",
    "    if i % 100 == 0:\n",
    "        print(i, w, err) # [47.23214286  3.91071429] 45.937499999999986"
   ]
  },
  {
   "cell_type": "markdown",
   "metadata": {
    "colab": {},
    "colab_type": "code",
    "id": "kGLyytFgHdco"
   },
   "source": [
    "### $^*$Задание 3<br>\n",
    "Вместо того, чтобы задавать количество итераций, задайте условие остановки алгоритма - когда ошибка за итерацию начинает изменяться ниже определенного порога. \n",
    "\n",
    "Сколько нужно сделать итераций, если установить допустимое отклонение mse в размере $\\text{diff}=10^{-6}$, а значение $\\alpha=10^{-2}$?"
   ]
  },
  {
   "cell_type": "markdown",
   "metadata": {},
   "source": [
    "__Решение:__<br>\n",
    "Упрощенный аналог параметра ```tol``` в линейной регрессии в ```sklearn```:"
   ]
  },
  {
   "cell_type": "code",
   "execution_count": 116,
   "metadata": {},
   "outputs": [
    {
     "name": "stdout",
     "output_type": "stream",
     "text": [
      "Итераций = 905, Скорость обучения 𝛼 = 0.01, Подобранные веса = [45.05195252  3.81441262], MSE = 43.96880336630431\n"
     ]
    }
   ],
   "source": [
    "w = np.array([1, 0.5])\n",
    "diff = 1e-6\n",
    "alpha = 1e-2\n",
    "\n",
    "err_min = np.inf\n",
    "err = 1e6\n",
    "i = 0\n",
    "while err_min - err > diff:\n",
    "    y_pred = np.dot(w, X)\n",
    "    err, err_min = calc_mse(y, y_pred), err\n",
    "    w -= (alpha * (1/n * 2 * np.sum(X * (y_pred - y), axis=1)))\n",
    "    i += 1\n",
    "print(f'Итераций = {i}, Скорость обучения 𝛼 = {alpha}, Подобранные веса = {w}, MSE = {err}')"
   ]
  },
  {
   "cell_type": "markdown",
   "metadata": {},
   "source": [
    "__Ответ:__<br>\n",
    "При $\\text{diff}=10^{-6}$ и $\\alpha=10^{-2}$ нужно $905$ итераций."
   ]
  },
  {
   "cell_type": "markdown",
   "metadata": {},
   "source": [
    "Заметки по матричным вычислениям http://www.machinelearning.ru/wiki/images/2/2a/Matrix-Gauss.pdf"
   ]
  }
 ],
 "metadata": {
  "colab": {
   "collapsed_sections": [],
   "name": "Lesson1.ipynb",
   "provenance": []
  },
  "kernelspec": {
   "display_name": "Python 3 (ipykernel)",
   "language": "python",
   "name": "python3"
  },
  "language_info": {
   "codemirror_mode": {
    "name": "ipython",
    "version": 3
   },
   "file_extension": ".py",
   "mimetype": "text/x-python",
   "name": "python",
   "nbconvert_exporter": "python",
   "pygments_lexer": "ipython3",
   "version": "3.8.12"
  },
  "toc": {
   "base_numbering": 1,
   "nav_menu": {},
   "number_sections": false,
   "sideBar": true,
   "skip_h1_title": true,
   "title_cell": "План занятия",
   "title_sidebar": "План",
   "toc_cell": true,
   "toc_position": {
    "height": "calc(100% - 180px)",
    "left": "10px",
    "top": "150px",
    "width": "165px"
   },
   "toc_section_display": true,
   "toc_window_display": true
  },
  "widgets": {
   "application/vnd.jupyter.widget-state+json": {
    "state": {},
    "version_major": 2,
    "version_minor": 0
   }
  }
 },
 "nbformat": 4,
 "nbformat_minor": 1
}
