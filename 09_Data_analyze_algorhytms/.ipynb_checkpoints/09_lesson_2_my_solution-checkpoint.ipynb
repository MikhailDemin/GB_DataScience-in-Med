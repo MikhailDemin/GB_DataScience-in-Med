{
 "cells": [
  {
   "cell_type": "markdown",
   "metadata": {
    "toc": true
   },
   "source": [
    "<h1>План урока<span class=\"tocSkip\"></span></h1>\n",
    "<div class=\"toc\"><ul class=\"toc-item\"><li><span><a href=\"#Домашнее-задание:\" data-toc-modified-id=\"Домашнее-задание:-1\">Домашнее задание:</a></span><ul class=\"toc-item\"><li><span><a href=\"#1.-Сгенерировать-датасет-при-помощи-sklearn.datasets.make_regression-и-обучить-линейную-модель-при-помощи-градиентного-спуска-и-стохастического-градиентного-спуска.-Построить-графики-среднеквадратичной-ошибки-от-числа-итераций-для-обоих-методов-на-одном-рисунке,-сделать-выводы-о-разнице-скорости-сходимости-каждого-из-методов.\" data-toc-modified-id=\"1.-Сгенерировать-датасет-при-помощи-sklearn.datasets.make_regression-и-обучить-линейную-модель-при-помощи-градиентного-спуска-и-стохастического-градиентного-спуска.-Построить-графики-среднеквадратичной-ошибки-от-числа-итераций-для-обоих-методов-на-одном-рисунке,-сделать-выводы-о-разнице-скорости-сходимости-каждого-из-методов.-1.1\"><strong>1.</strong> Сгенерировать датасет при помощи <code>sklearn.datasets.make_regression</code> и обучить линейную модель при помощи градиентного спуска и стохастического градиентного спуска. Построить графики среднеквадратичной ошибки от числа итераций для обоих методов на одном рисунке, сделать выводы о разнице скорости сходимости каждого из методов.<br></a></span></li><li><span><a href=\"#2.-Модифицировать-решение-первого-задания-путем-добавления-L2-регуляризации-и-сравнить-результаты.\" data-toc-modified-id=\"2.-Модифицировать-решение-первого-задания-путем-добавления-L2-регуляризации-и-сравнить-результаты.-1.2\"><strong>2.</strong> Модифицировать решение первого задания путем добавления L2 регуляризации и сравнить результаты.<br></a></span></li><li><span><a href=\"#$^*$3.-Модернизировать-решение-задания-2,-заменив-L2-регуляризацию-на-L1-регуляризацию.\" data-toc-modified-id=\"$^*$3.-Модернизировать-решение-задания-2,-заменив-L2-регуляризацию-на-L1-регуляризацию.-1.3\"><strong>$^*$3.</strong> Модернизировать решение задания 2, заменив L2 регуляризацию на L1 регуляризацию.<br></a></span></li><li><span><a href=\"#$^*$4.-Построить-график-изменения-весов-от-числа-итераций-при-GD-и-SGD-(на-одном-рисунке).\" data-toc-modified-id=\"$^*$4.-Построить-график-изменения-весов-от-числа-итераций-при-GD-и-SGD-(на-одном-рисунке).-1.4\"><strong>$^*$4.</strong> Построить график изменения весов от числа итераций при GD и SGD (на одном рисунке).<br></a></span></li><li><span><a href=\"#$^*$5.-Построить-график-изменения-весов-для-L1-и-L2-регуляризации-от-коэффициента-регуляризации.\" data-toc-modified-id=\"$^*$5.-Построить-график-изменения-весов-для-L1-и-L2-регуляризации-от-коэффициента-регуляризации.-1.5\"><strong>$^*$5.</strong> Построить график изменения весов для L1 и L2 регуляризации от коэффициента регуляризации.<br></a></span></li></ul></li></ul></div>"
   ]
  },
  {
   "cell_type": "markdown",
   "metadata": {},
   "source": [
    "# Урок 2. Масштабирование признаков. Регуляризация. Стохастический градиентный спуск."
   ]
  },
  {
   "cell_type": "markdown",
   "metadata": {},
   "source": [
    "## Домашнее задание:"
   ]
  },
  {
   "cell_type": "markdown",
   "metadata": {},
   "source": [
    "### __1.__ Сгенерировать датасет при помощи `sklearn.datasets.make_regression` и обучить линейную модель при помощи градиентного спуска и стохастического градиентного спуска. Построить графики среднеквадратичной ошибки от числа итераций для обоих методов на одном рисунке, сделать выводы о разнице скорости сходимости каждого из методов.<br>\n",
    "__Решение:__"
   ]
  },
  {
   "cell_type": "markdown",
   "metadata": {},
   "source": [
    "__Импорты:__"
   ]
  },
  {
   "cell_type": "code",
   "execution_count": 82,
   "metadata": {
    "scrolled": false
   },
   "outputs": [],
   "source": [
    "import matplotlib.pyplot as plt\n",
    "import numpy as np\n",
    "import pandas as pd\n",
    "from sklearn import datasets\n",
    "%matplotlib inline"
   ]
  },
  {
   "cell_type": "markdown",
   "metadata": {},
   "source": [
    "__Создание датасета:__"
   ]
  },
  {
   "cell_type": "code",
   "execution_count": 2,
   "metadata": {
    "code_folding": []
   },
   "outputs": [],
   "source": [
    "data, target, coef = datasets.make_regression(n_samples=20000,\n",
    "                                              n_features = 2,\n",
    "                                              n_informative = 2,\n",
    "                                              n_targets = 1, \n",
    "                                              noise = 5,\n",
    "                                              coef = True,\n",
    "                                              random_state = 42)"
   ]
  },
  {
   "cell_type": "code",
   "execution_count": 3,
   "metadata": {},
   "outputs": [
    {
     "name": "stdout",
     "output_type": "stream",
     "text": [
      "[[-1.47719621  0.61169205]\n",
      " [-0.15141607 -1.23725498]\n",
      " [ 0.80115196  0.90630674]\n",
      " ...\n",
      " [ 0.62082995  1.39909748]\n",
      " [-0.60021688  0.1990597 ]\n",
      " [ 0.12417568 -0.69826185]]\n",
      "[  -8.66778122 -105.39955764  105.31660491 ...  140.7822377    -2.86429196\n",
      "  -61.51395316]\n",
      "[34.54344323 83.17292113]\n"
     ]
    }
   ],
   "source": [
    "print(data)\n",
    "print(target)\n",
    "print(coef)"
   ]
  },
  {
   "cell_type": "markdown",
   "metadata": {},
   "source": [
    "__Подготовка датасета:__"
   ]
  },
  {
   "cell_type": "code",
   "execution_count": 4,
   "metadata": {},
   "outputs": [],
   "source": [
    "# Получим средние значения и стандартное отклонение по столбцам\n",
    "\n",
    "means = np.mean(data, axis=0)\n",
    "stds = np.std(data, axis=0)\n",
    "# параметр axis указывается для вычисления значений по столбцам, а не по всему массиву\n",
    "# (см. документацию в разделе источников)\n",
    "\n",
    "# вычтем каждое значение признака из среднего и поделим на стандартное отклонение\n",
    "for i in range(data.shape[0]):\n",
    "    for j in range(data.shape[1]):\n",
    "        data[i][j] = (data[i][j] - means[j])/stds[j]"
   ]
  },
  {
   "cell_type": "markdown",
   "metadata": {},
   "source": [
    "__Реализация SGD:__"
   ]
  },
  {
   "cell_type": "code",
   "execution_count": 5,
   "metadata": {},
   "outputs": [],
   "source": [
    "# реализуем функцию, определяющую среднеквадратичную ошибку для SGD\n",
    "def mserror(X, w, y_pred):\n",
    "    y = X.dot(w)\n",
    "    return (sum((y - y_pred)**2)) / len(y)"
   ]
  },
  {
   "cell_type": "code",
   "execution_count": 211,
   "metadata": {
    "code_folding": [],
    "scrolled": false
   },
   "outputs": [
    {
     "name": "stdout",
     "output_type": "stream",
     "text": [
      "В случае использования стохастического градиентного спуска ошибка MSE составляет: 131.9359\n",
      "Количество итераций: 43603\n",
      "Wall time: 1min 30s\n"
     ]
    }
   ],
   "source": [
    "%%time\n",
    "# инициализируем начальный вектор весов\n",
    "w = np.zeros(2)\n",
    " \n",
    "# список векторов весов после каждой итерации\n",
    "w_list = [w.copy()]\n",
    " \n",
    "# список значений ошибок после каждой итерации\n",
    "errors = []\n",
    " \n",
    "# шаг градиентного спуска\n",
    "eta = 0.5\n",
    " \n",
    "# максимальное число итераций\n",
    "max_iter = 1e5\n",
    " \n",
    "# критерий сходимости (разница весов, при которой алгоритм останавливается)\n",
    "min_weight_dist = 1e-8\n",
    " \n",
    "# зададим начальную разницу весов большим числом\n",
    "weight_dist = np.inf\n",
    " \n",
    "# счетчик итераций\n",
    "iter_num = 0\n",
    " \n",
    "np.random.seed(1234)\n",
    " \n",
    "# ход градиентного спуска\n",
    "while weight_dist > min_weight_dist and iter_num < max_iter:\n",
    "    \n",
    "    # генерируем случайный индекс объекта выборки\n",
    "    train_ind = np.random.randint(data.shape[0])\n",
    "    \n",
    "    new_w = w - 2 * eta * np.dot(data[train_ind].T, (np.dot(data[train_ind], w) - target[train_ind])) / target.shape[0]\n",
    " \n",
    "    weight_dist = np.linalg.norm(new_w - w, ord=2)\n",
    "    \n",
    "    w_list.append(new_w.copy())\n",
    "    errors.append(mserror(data, new_w, target))\n",
    "    \n",
    "    iter_num += 1\n",
    "    w = new_w\n",
    "    \n",
    "w_list = np.array(w_list)\n",
    " \n",
    "print(f'В случае использования стохастического градиентного спуска ошибка MSE составляет: {round(errors[-1], 4)}')\n",
    "print(f'Количество итераций: {iter_num}')"
   ]
  },
  {
   "cell_type": "code",
   "execution_count": 7,
   "metadata": {
    "scrolled": true
   },
   "outputs": [
    {
     "name": "stdout",
     "output_type": "stream",
     "text": [
      "[[0.00000000e+00 0.00000000e+00]\n",
      " [2.77149550e-03 1.78151887e-04]\n",
      " [3.28891786e-03 4.61159733e-03]\n",
      " ...\n",
      " [3.04937805e+01 7.41859930e+01]\n",
      " [3.04935465e+01 7.41864111e+01]\n",
      " [3.04935465e+01 7.41864111e+01]]\n"
     ]
    }
   ],
   "source": [
    "print(w_list)"
   ]
  },
  {
   "cell_type": "markdown",
   "metadata": {},
   "source": [
    "__Реализация GD:__"
   ]
  },
  {
   "cell_type": "code",
   "execution_count": 8,
   "metadata": {},
   "outputs": [],
   "source": [
    "# реализуем функцию, определяющую среднеквадратичную ошибку для GD\n",
    "def calc_mse(y, y_pred):\n",
    "    err = np.mean((y - y_pred)**2)\n",
    "    return err"
   ]
  },
  {
   "cell_type": "code",
   "execution_count": 270,
   "metadata": {},
   "outputs": [],
   "source": [
    "# Метод градиентного спуска\n",
    "error_gd = []\n",
    "\n",
    "\n",
    "def eval_GD(X, y, iterations, alpha):\n",
    "    np.random.seed(42)\n",
    "    w = np.random.randn(X.shape[1])\n",
    "    n = X.shape[0]\n",
    "    for i in range(1, iterations + 1):\n",
    "        y_pred = np.dot(X, w)\n",
    "        err = calc_mse(y, y_pred)\n",
    "        error_gd.append(err)\n",
    "        w -= alpha * (1/n * 2 * np.dot((y_pred - y), X))\n",
    "        if i % (iterations / 10) == 0:\n",
    "            print(f'Итерация = {i}, Подобранные веса = {w}, MSE = {err}')\n",
    "    return w"
   ]
  },
  {
   "cell_type": "code",
   "execution_count": 271,
   "metadata": {
    "scrolled": false
   },
   "outputs": [
    {
     "name": "stdout",
     "output_type": "stream",
     "text": [
      "Итерация = 4500, Подобранные веса = [20.6749537  49.68767109], MSE = 1376.2077352186182\n",
      "Итерация = 9000, Подобранные веса = [28.82443127 69.92189631], MSE = 247.72258885827847\n",
      "Итерация = 13500, Подобранные веса = [32.11567857 78.13902811], MSE = 61.901424685092756\n",
      "Итерация = 18000, Подобранные веса = [33.44483258 81.47603027], MSE = 31.302871810311625\n",
      "Итерация = 22500, Подобранные веса = [33.98158489 82.83120497], MSE = 26.264235332616465\n",
      "Итерация = 27000, Подобранные веса = [34.19833342 83.38155204], MSE = 25.434515176344917\n",
      "Итерация = 31500, Подобранные веса = [34.28585633 83.60505362], MSE = 25.297881807459714\n",
      "Итерация = 36000, Подобранные веса = [34.32119666 83.69582044], MSE = 25.275381498476015\n",
      "Итерация = 40500, Подобранные веса = [34.33546594 83.73268222], MSE = 25.27167616923071\n",
      "Итерация = 45000, Подобранные веса = [34.34122719 83.74765243], MSE = 25.27106596981055\n",
      "Wall time: 8.41 s\n"
     ]
    }
   ],
   "source": [
    "%%time\n",
    "X = data\n",
    "y = target\n",
    "w_gd = eval_GD(X, y, iterations=45000, alpha=1e-4)"
   ]
  },
  {
   "cell_type": "markdown",
   "metadata": {},
   "source": [
    "__Визуализация результатов:__"
   ]
  },
  {
   "cell_type": "code",
   "execution_count": 232,
   "metadata": {
    "scrolled": true
   },
   "outputs": [
    {
     "data": {
      "text/plain": [
       "<matplotlib.legend.Legend at 0x14d5fddb670>"
      ]
     },
     "execution_count": 232,
     "metadata": {},
     "output_type": "execute_result"
    },
    {
     "data": {
      "image/png": "[encoded data removed]",
      "text/plain": [
       "<Figure size 576x360 with 1 Axes>"
      ]
     },
     "metadata": {
      "needs_background": "light"
     },
     "output_type": "display_data"
    }
   ],
   "source": [
    "# Визуализируем изменение MSE от количества итераций\n",
    "plt.figure(figsize=(8,5))\n",
    "plt.plot(range(len(errors)), errors, 'b', label='Stochastic Gradient Descent')\n",
    "plt.plot(range(len(error_gd)), error_gd, 'r', label='Gradient Descent')\n",
    "plt.text(10000, 3500, \"SGD\", fontsize=15)\n",
    "plt.text(6000, 1000, \"GD\", fontsize=15)\n",
    "plt.title('MSE от количества итераций для GD и SGD')\n",
    "plt.xlabel('Число итераций')\n",
    "plt.ylabel('MSE')\n",
    "plt.legend()"
   ]
  },
  {
   "cell_type": "code",
   "execution_count": 124,
   "metadata": {
    "scrolled": true
   },
   "outputs": [],
   "source": [
    "# fg = plt.figure(figsize=(9, 14), constrained_layout=True)\n",
    "# gs = gridspec.GridSpec(ncols=1, nrows=2, figure=fg)\n",
    "# fig_ax_1 = fg.add_subplot(gs[0, 0])\n",
    "# plt.plot(range(len(errors)), errors, 'b', label='Stochastic Gradient Descent')\n",
    "# plt.plot(range(len(error_gd)), error_gd, 'r', label='Gradient Descent')\n",
    "# plt.text(2000, 7000, \"SGD\", fontsize=15)\n",
    "# plt.title('MSE от количества итераций для GD и SGD')\n",
    "# plt.xlabel('Число итераций')\n",
    "# plt.ylabel('MSE')\n",
    "# plt.legend()\n",
    "# fig_ax_2 = fg.add_subplot(gs[1, 0])\n",
    "# plt.plot(range(len(error_gd)), error_gd, 'r', label='Gradient Descent')\n",
    "# plt.text(1100, 200, \"GD\", fontsize=15)\n",
    "# plt.title('MSE от количества итераций для GD')\n",
    "# plt.xlabel('Число итераций')\n",
    "# plt.ylabel('MSE')\n",
    "# plt.legend()"
   ]
  },
  {
   "cell_type": "markdown",
   "metadata": {},
   "source": [
    "__Выводы:__<br>\n",
    "Стохастический градиентный спуск в текущем виде работает медленнее обычного градиентного спуска и требует существенно большего количества итераций. Имеет место переобучение модели. На GD получили очень маленькую MSE (25,27) за более короткое время (8,42 с против 1 мин 30 сек у SGD) с коэффициентом обучения равным 0,0001. Скорость сходимости у GD выше чему у SGD."
   ]
  },
  {
   "cell_type": "markdown",
   "metadata": {},
   "source": [
    "### __2.__ Модифицировать решение первого задания путем добавления L2 регуляризации и сравнить результаты.<br>\n",
    "__Решение:__"
   ]
  },
  {
   "cell_type": "code",
   "execution_count": 219,
   "metadata": {},
   "outputs": [],
   "source": [
    "coef_reg_l2 = []\n",
    "def eval_model_reg2(X, y, iterations, alpha, lambda_):\n",
    "    np.random.seed(42)\n",
    "    w = np.random.randn(X.shape[1])\n",
    "    n = X.shape[0]\n",
    "    for i in range(1, iterations + 1):\n",
    "        y_pred = np.dot(X, w)\n",
    "        err = calc_mse(y, y_pred)\n",
    "        w -= alpha * (1/n * 2 * np.dot((y_pred - y), X) + 2 * lambda_ * w)\n",
    "        coef_reg_l2.append(w)\n",
    "        if i % (iterations / 10) == 0:\n",
    "            print(f'Итерация = {i}, Подобранные веса = {w}, MSE = {err}')\n",
    "    return w"
   ]
  },
  {
   "cell_type": "code",
   "execution_count": 220,
   "metadata": {
    "scrolled": true
   },
   "outputs": [
    {
     "name": "stdout",
     "output_type": "stream",
     "text": [
      "Итерация = 4500, Подобранные веса = [20.67415162 49.68576962], MSE = 1376.3595312383832\n",
      "Итерация = 9000, Подобранные веса = [28.82257164 69.91740139], MSE = 247.86783942604956\n",
      "Итерация = 13500, Подобранные веса = [32.11309557 78.13274045], MSE = 61.98382784027555\n",
      "Итерация = 18000, Подобранные веса = [33.44183782 81.46871426], MSE = 31.341800890657456\n",
      "Итерация = 22500, Подобранные веса = [33.97837555 82.8233494 ], MSE = 26.281237766749715\n",
      "Итерация = 27000, Подобранные веса = [34.19501792 83.37342783], MSE = 25.441696371092835\n",
      "Итерация = 31500, Подобранные веса = [34.28249009 83.59680021], MSE = 25.300889794928384\n",
      "Итерация = 36000, Подобранные веса = [34.31780675 83.68750639], MSE = 25.27665927275649\n",
      "Итерация = 40500, Подобранные веса = [34.33206519 83.72434022], MSE = 25.272244845308\n",
      "Итерация = 45000, Подобранные веса = [34.33782155 83.73929774], MSE = 25.271345602027278\n",
      "Wall time: 8.32 s\n"
     ]
    }
   ],
   "source": [
    "%%time\n",
    "w_gd_l2 = eval_model_reg2(X, y, iterations=45000, alpha=1e-4, lambda_=1e-4)"
   ]
  },
  {
   "cell_type": "markdown",
   "metadata": {},
   "source": [
    "### __$^*$3.__ Модернизировать решение задания 2, заменив L2 регуляризацию на L1 регуляризацию.<br>\n",
    "__Решение:__"
   ]
  },
  {
   "cell_type": "code",
   "execution_count": 256,
   "metadata": {},
   "outputs": [],
   "source": [
    "coef_reg_l1 = []\n",
    "def eval_model_reg1(X, y, iterations, alpha=1e-4, lambda_=1e-8):\n",
    "    np.random.seed(42)\n",
    "    W = np.random.randn(X.shape[1])\n",
    "    n = X.shape[0]\n",
    "    for i in range(1, iterations+1):\n",
    "        y_pred = np.dot(X, W)\n",
    "        err = calc_mse(y, y_pred)\n",
    "        if 0 in W:\n",
    "            break\n",
    "        else:\n",
    "            W -= alpha * (1/n * 2 * np.dot((y_pred - y), X) + lambda_ * W / abs(W))\n",
    "            coef_reg_l1.append(W)\n",
    "        if i % (iterations / 10) == 0:\n",
    "            print(f'Итерация = {i}, Подобранные веса = {W}, MSE = {err}')\n",
    "    return W"
   ]
  },
  {
   "cell_type": "code",
   "execution_count": 259,
   "metadata": {
    "scrolled": false
   },
   "outputs": [
    {
     "name": "stdout",
     "output_type": "stream",
     "text": [
      "Итерация = 4500, Подобранные веса = [20.67492406 49.68764152], MSE = 1376.210568777882\n",
      "Итерация = 9000, Подобранные веса = [28.82438962 69.92185468], MSE = 247.72420575235466\n",
      "Итерация = 13500, Подобранные веса = [32.11563204 78.13898159], MSE = 61.90215720795252\n",
      "Итерация = 18000, Подобранные веса = [33.44478407 81.47598176], MSE = 31.303181468447264\n",
      "Итерация = 22500, Подобранные веса = [33.98153558 82.83115566], MSE = 26.264362968092517\n",
      "Итерация = 27000, Подобранные веса = [34.19828378 83.3815024 ], MSE = 25.43456727188407\n",
      "Итерация = 31500, Подобранные веса = [34.28580657 83.60500386], MSE = 25.29790298913731\n",
      "Итерация = 36000, Подобранные веса = [34.32114684 83.69577062], MSE = 25.27539009894426\n",
      "Итерация = 40500, Подобранные веса = [34.33541611 83.73263238], MSE = 25.271679660836043\n",
      "Итерация = 45000, Подобранные веса = [34.34117735 83.74760258], MSE = 25.271067388721047\n",
      "Wall time: 9 s\n"
     ]
    }
   ],
   "source": [
    "%%time\n",
    "w_gd_l1 = eval_model_reg1(X, y, iterations=45000, alpha=1e-4, lambda_=1e-4)"
   ]
  },
  {
   "cell_type": "markdown",
   "metadata": {},
   "source": [
    "### __$^*$4.__ Построить график изменения весов от числа итераций при GD и SGD (на одном рисунке).<br>\n",
    "__Решение:__"
   ]
  },
  {
   "cell_type": "code",
   "execution_count": 235,
   "metadata": {
    "scrolled": true
   },
   "outputs": [
    {
     "data": {
      "text/plain": [
       "<matplotlib.legend.Legend at 0x14d6c99f190>"
      ]
     },
     "execution_count": 235,
     "metadata": {},
     "output_type": "execute_result"
    },
    {
     "data": {
      "image/png": "[encoded data removed]",
      "text/plain": [
       "<Figure size 576x360 with 1 Axes>"
      ]
     },
     "metadata": {
      "needs_background": "light"
     },
     "output_type": "display_data"
    }
   ],
   "source": [
    "plt.figure(figsize=(8,5))\n",
    "w1, w2, = plt.plot(range(len(w_list)), w_list, '.')\n",
    "w3, w4, = plt.plot(range(len(w_gd_list)), w_gd_list, '-')\n",
    "plt.text(38000, 65, \"SGD W2\", fontsize=15)\n",
    "plt.text(38000, 23, \"SGD W1\", fontsize=15)\n",
    "plt.text(11000, 70, \"GD W2\", fontsize=15)\n",
    "plt.text(20000, 36, \"GD W1\", fontsize=15)\n",
    "plt.title('Веса от количества итераций для GD и SGD')\n",
    "plt.xlabel('Число итераций')\n",
    "plt.ylabel('Веса')\n",
    "plt.legend((w1, w2, w3, w4), ['SGD W1', 'SGD W2', 'GD W1', 'GD W2'])"
   ]
  },
  {
   "cell_type": "markdown",
   "metadata": {},
   "source": [
    "### __$^*$5.__ Построить график изменения весов для L1 и L2 регуляризации от коэффициента регуляризации.<br>\n",
    "__Решение:__"
   ]
  },
  {
   "cell_type": "code",
   "execution_count": 283,
   "metadata": {
    "scrolled": true
   },
   "outputs": [
    {
     "name": "stdout",
     "output_type": "stream",
     "text": [
      "Итерация = 4500, Подобранные веса = [20.67487349 49.68748094], MSE = 1376.222914814143\n",
      "Итерация = 9000, Подобранные веса = [28.8242453  69.92144679], MSE = 247.73711243673716\n",
      "Итерация = 13500, Подобранные веса = [32.11542026 78.13839931], MSE = 61.90966133311437\n",
      "Итерация = 18000, Подобранные веса = [33.44453308 81.47529861], MSE = 31.306759361452336\n",
      "Итерация = 22500, Подобранные веса = [33.98126393 82.83041935], MSE = 26.265929215989978\n",
      "Итерация = 27000, Подобранные веса = [34.19800184 83.38073955], MSE = 25.435226411681736\n",
      "Итерация = 31500, Подобранные веса = [34.28551968 83.60422821], MSE = 25.298175466459465\n",
      "Итерация = 36000, Подобранные веса = [34.32085764 83.69498896], MSE = 25.275502016330055\n",
      "Итерация = 40500, Подобранные веса = [34.33512584 83.73184794], MSE = 25.271725722439697\n",
      "Итерация = 45000, Подобранные веса = [34.3408866  83.74681688], MSE = 25.27108659394836\n"
     ]
    },
    {
     "ename": "TypeError",
     "evalue": "list indices must be integers or slices, not tuple",
     "output_type": "error",
     "traceback": [
      "\u001b[1;31m---------------------------------------------------------------------------\u001b[0m",
      "\u001b[1;31mTypeError\u001b[0m                                 Traceback (most recent call last)",
      "\u001b[1;32m<timed exec>\u001b[0m in \u001b[0;36m<module>\u001b[1;34m\u001b[0m\n",
      "\u001b[1;31mTypeError\u001b[0m: list indices must be integers or slices, not tuple"
     ]
    }
   ],
   "source": [
    "%%time\n",
    "n = 2\n",
    "coeffs = []\n",
    "lambda_list = np.logspace(-5, -2, n)\n",
    "for i, val in enumerate(lambda_list):\n",
    "    W = eval_model_reg2(X, y, iterations=45000, alpha=1e-4, lambda_=val)\n",
    "    coeffs.append(val.copy())\n",
    "    coeffs.append(W.copy())"
   ]
  },
  {
   "cell_type": "code",
   "execution_count": 284,
   "metadata": {},
   "outputs": [
    {
     "name": "stdout",
     "output_type": "stream",
     "text": [
      "[]\n"
     ]
    }
   ],
   "source": [
    "print(coeffs)"
   ]
  },
  {
   "cell_type": "markdown",
   "metadata": {},
   "source": [
    "__Комментарии преподавателя:__<br>\n",
    "Михаил, добрый вечер!\n",
    "новый файл для проверки - https://github.com/MikhailDemin/GB_DataScience-in-Med/blob/af2799176c94d9d3868c6677f5fd71af3c5a927d/09_Data_analyze_algorhytms/09_lesson_2_my_solution.ipynb\n",
    "сгенерированные данные имеют один масштаб, поэтому их стандартизацию можно было не выполнять. хотя на результат это не повлияло.\n",
    "- 1) вы проверили работу стохастического градиентного спуска и градиентного спуска. график построен. вывод сделан.\n",
    "почему вы решили, что здесь переобучение? по маленькой mse? можно было бы проверить ошибку с истинными весами (coef) и сравнить с полученной по методу GD, они близки. по чему еще можно определить факт переобучения? по ошибке на трейне и на тесте, но проверки здесь такой нет. по росту некоторых весов, но они соответствуют истинным. вопрос к вам остался.\n",
    "- 2) L2 добавлена верно, но чтобы увидеть влияние регуляризации, надо задавать больше lambda_.\n",
    "- 3) lambda_ * W / abs(W) добавлено верно. рекомендация та же.\n",
    "- 4) отличный график. видим, что по SGD получаем веса чуть меньше, методу не хватило итераций. можно было бы задать побольше скорость обучения."
   ]
  },
  {
   "cell_type": "markdown",
   "metadata": {},
   "source": [
    "Методичка https://colab.research.google.com/drive/1nEC_D2y-maMuvbN-5iYFAjzLUw0eGOir"
   ]
  }
 ],
 "metadata": {
  "colab": {
   "collapsed_sections": [],
   "name": "Lesson2.ipynb",
   "provenance": []
  },
  "kernelspec": {
   "display_name": "Python 3 (ipykernel)",
   "language": "python",
   "name": "python3"
  },
  "language_info": {
   "codemirror_mode": {
    "name": "ipython",
    "version": 3
   },
   "file_extension": ".py",
   "mimetype": "text/x-python",
   "name": "python",
   "nbconvert_exporter": "python",
   "pygments_lexer": "ipython3",
   "version": "3.8.12"
  },
  "toc": {
   "base_numbering": 1,
   "nav_menu": {},
   "number_sections": false,
   "sideBar": true,
   "skip_h1_title": true,
   "title_cell": "План урока",
   "title_sidebar": "План",
   "toc_cell": true,
   "toc_position": {
    "height": "calc(100% - 180px)",
    "left": "10px",
    "top": "150px",
    "width": "165px"
   },
   "toc_section_display": true,
   "toc_window_display": false
  },
  "varInspector": {
   "cols": {
    "lenName": 16,
    "lenType": 16,
    "lenVar": 40
   },
   "kernels_config": {
    "python": {
     "delete_cmd_postfix": "",
     "delete_cmd_prefix": "del ",
     "library": "var_list.py",
     "varRefreshCmd": "print(var_dic_list())"
    },
    "r": {
     "delete_cmd_postfix": ") ",
     "delete_cmd_prefix": "rm(",
     "library": "var_list.r",
     "varRefreshCmd": "cat(var_dic_list()) "
    }
   },
   "types_to_exclude": [
    "module",
    "function",
    "builtin_function_or_method",
    "instance",
    "_Feature"
   ],
   "window_display": false
  }
 },
 "nbformat": 4,
 "nbformat_minor": 1
}
