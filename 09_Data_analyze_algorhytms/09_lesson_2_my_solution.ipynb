{
 "cells": [
  {
   "cell_type": "markdown",
   "metadata": {},
   "source": [
    "# Урок 2. Масштабирование признаков. Регуляризация. Стохастический градиентный спуск."
   ]
  },
  {
   "cell_type": "markdown",
   "metadata": {},
   "source": [
    "## Домашнее задание:"
   ]
  },
  {
   "cell_type": "markdown",
   "metadata": {},
   "source": [
    "### __1.__ Сгенерировать датасет при помощи `sklearn.datasets.make_regression` и обучить линейную модель при помощи градиентного спуска и стохастического градиентного спуска. Построить графики среднеквадратичной ошибки от числа итераций для обоих методов на одном рисунке, сделать выводы о разнице скорости сходимости каждого из методов.<br>\n",
    "__Решение:__"
   ]
  },
  {
   "cell_type": "markdown",
   "metadata": {},
   "source": [
    "__Импорты:__"
   ]
  },
  {
   "cell_type": "code",
   "execution_count": 1,
   "metadata": {
    "scrolled": false
   },
   "outputs": [],
   "source": [
    "from sklearn import datasets\n",
    "import matplotlib.pyplot as plt\n",
    "import numpy as np\n",
    "%matplotlib inline"
   ]
  },
  {
   "cell_type": "markdown",
   "metadata": {},
   "source": [
    "__Создание датасета:__"
   ]
  },
  {
   "cell_type": "code",
   "execution_count": 2,
   "metadata": {},
   "outputs": [],
   "source": [
    "data, target, coef = datasets.make_regression(n_samples=10000,\n",
    "                                              n_features = 2,\n",
    "                                              n_informative = 2,\n",
    "                                              n_targets = 1, \n",
    "                                              noise = 5,\n",
    "                                              coef = True,\n",
    "                                              random_state = 42)"
   ]
  },
  {
   "cell_type": "code",
   "execution_count": 65,
   "metadata": {},
   "outputs": [
    {
     "name": "stdout",
     "output_type": "stream",
     "text": [
      "[[-0.58090755  1.56929749]\n",
      " [ 0.73205833  0.48200215]\n",
      " [ 0.19421711  1.09046879]\n",
      " ...\n",
      " [-1.90691676  0.13300016]\n",
      " [-1.03070079 -0.98595043]\n",
      " [ 1.15759762  0.53700316]]\n",
      "[ -49.6854239    73.63062887   20.15499442 ... -192.63317609 -106.45952324\n",
      "  118.37024675]\n",
      "[98.57676058  5.56663928]\n"
     ]
    }
   ],
   "source": [
    "print(data)\n",
    "print(target)\n",
    "print(coef)"
   ]
  },
  {
   "cell_type": "markdown",
   "metadata": {},
   "source": [
    "__Подготовка датасета:__"
   ]
  },
  {
   "cell_type": "code",
   "execution_count": 3,
   "metadata": {},
   "outputs": [],
   "source": [
    "# Получим средние значения и стандартное отклонение по столбцам\n",
    " \n",
    "means = np.mean(data, axis=0)\n",
    "stds = np.std(data, axis=0)\n",
    "# параметр axis указывается для вычисления значений по столбцам, а не по всему массиву\n",
    "#(см. документацию в разделе источников)\n",
    " \n",
    "# вычтем каждое значение признака из среднего и поделим на стандартное отклонение\n",
    "for i in range(data.shape[0]):\n",
    "    for j in range(data.shape[1]):\n",
    "        data[i][j] = (data[i][j] - means[j])/stds[j]"
   ]
  },
  {
   "cell_type": "code",
   "execution_count": 4,
   "metadata": {},
   "outputs": [],
   "source": [
    "# реализуем функцию, определяющую среднеквадратичную ошибку\n",
    "def mserror(X, w, y_pred):\n",
    "    y = X.dot(w)\n",
    "    return (sum((y - y_pred)**2)) / len(y)"
   ]
  },
  {
   "cell_type": "markdown",
   "metadata": {},
   "source": [
    "__Реализация SGD:__"
   ]
  },
  {
   "cell_type": "code",
   "execution_count": 63,
   "metadata": {
    "scrolled": false
   },
   "outputs": [
    {
     "name": "stdout",
     "output_type": "stream",
     "text": [
      "В случае использования стохастического градиентного спуска ошибка MSE составляет: 25.0986\n",
      "Количество итераций: 100000\n",
      "Wall time: 1min 49s\n"
     ]
    }
   ],
   "source": [
    "%%time\n",
    "# инициализируем начальный вектор весов\n",
    "w = np.zeros(2)\n",
    " \n",
    "# список векторов весов после каждой итерации\n",
    "w_list = [w.copy()]\n",
    " \n",
    "# список значений ошибок после каждой итерации\n",
    "errors = []\n",
    " \n",
    "# шаг градиентного спуска\n",
    "eta = 0.5\n",
    " \n",
    "# максимальное число итераций\n",
    "max_iter = 1e5\n",
    " \n",
    "# критерий сходимости (разница весов, при которой алгоритм останавливается)\n",
    "min_weight_dist = 1e-8\n",
    " \n",
    "# зададим начальную разницу весов большим числом\n",
    "weight_dist = np.inf\n",
    " \n",
    "# счетчик итераций\n",
    "iter_num = 0\n",
    " \n",
    "np.random.seed(1234)\n",
    " \n",
    "# ход градиентного спуска\n",
    "while weight_dist > min_weight_dist and iter_num < max_iter:\n",
    "    \n",
    "    # генерируем случайный индекс объекта выборки\n",
    "    train_ind = np.random.randint(data.shape[0])\n",
    "    \n",
    "    new_w = w - 2 * eta * np.dot(data[train_ind].T, (np.dot(data[train_ind], w) - target[train_ind])) / target.shape[0]\n",
    " \n",
    "    weight_dist = np.linalg.norm(new_w - w, ord=2)\n",
    "    \n",
    "    w_list.append(new_w.copy())\n",
    "    errors.append(mserror(data, new_w, target))\n",
    "    \n",
    "    iter_num += 1\n",
    "    w = new_w\n",
    "    \n",
    "w_list = np.array(w_list)\n",
    " \n",
    "print(f'В случае использования стохастического градиентного спуска ошибка MSE составляет: {round(errors[-1], 4)}')\n",
    "print(f'Количество итераций: {iter_num}')"
   ]
  },
  {
   "cell_type": "code",
   "execution_count": 66,
   "metadata": {},
   "outputs": [
    {
     "name": "stdout",
     "output_type": "stream",
     "text": [
      "[[ 0.00000000e+00  0.00000000e+00]\n",
      " [-9.55718336e-06  9.45923508e-05]\n",
      " [ 2.65407960e-02  6.88828167e-03]\n",
      " ...\n",
      " [ 9.79328550e+01  5.63416411e+00]\n",
      " [ 9.79325807e+01  5.63359087e+00]\n",
      " [ 9.79324822e+01  5.63353712e+00]]\n"
     ]
    }
   ],
   "source": [
    "print(w_list)"
   ]
  },
  {
   "cell_type": "markdown",
   "metadata": {},
   "source": [
    "__Реализация GD:__"
   ]
  },
  {
   "cell_type": "code",
   "execution_count": 30,
   "metadata": {},
   "outputs": [],
   "source": [
    "# реализуем функцию, определяющую среднеквадратичную ошибку\n",
    "def calc_mse(y, y_pred):\n",
    "    error = np.mean((y - y_pred)**2)\n",
    "    return error"
   ]
  },
  {
   "cell_type": "code",
   "execution_count": 79,
   "metadata": {},
   "outputs": [],
   "source": [
    "# реализуем функцию осуществляющую перебор параметров\n",
    "X = np.reshape(data, (2, 10000))\n",
    "y = target\n",
    "def gradient_descent(alpha, iterations, W, X=X, y=y):\n",
    "    n = X.shape[1]\n",
    "    err = np.inf\n",
    "    for i in range(iterations):\n",
    "        y_pred = np.dot(W, X)\n",
    "        err_new = calc_mse(y, y_pred)\n",
    "        if err_new < err:\n",
    "            err = err_new\n",
    "            for j in range(W.shape[0]):\n",
    "                W[j] -= alpha * (1/n * 2 * np.sum(X[j] * (y_pred - y))) \n",
    "        else:\n",
    "            return i-1, W, err\n",
    "    return i, W, err"
   ]
  },
  {
   "cell_type": "code",
   "execution_count": 51,
   "metadata": {},
   "outputs": [
    {
     "name": "stdout",
     "output_type": "stream",
     "text": [
      "[ -49.6854239    73.63062887   20.15499442 ... -192.63317609 -106.45952324\n",
      "  118.37024675]\n"
     ]
    }
   ],
   "source": [
    "# выведем результат предсказаний\n",
    "y_pred = np.dot(W, X)\n",
    "print(y)"
   ]
  },
  {
   "cell_type": "code",
   "execution_count": 80,
   "metadata": {
    "scrolled": false
   },
   "outputs": [
    {
     "name": "stdout",
     "output_type": "stream",
     "text": [
      "Альфа = 0.1, количество итераций = 1000.0. Ошибка: 9641.707321992331\n",
      "Альфа = 0.1, количество итераций = 10000.0. Ошибка: 9641.707321992331\n",
      "Альфа = 0.1, количество итераций = 100000.0. Ошибка: 9641.707321992331\n",
      "Альфа = 0.1, количество итераций = 1000000.0. Ошибка: 9641.707321992331\n",
      "Альфа = 0.01, количество итераций = 1000.0. Ошибка: 9641.707321992395\n",
      "Альфа = 0.01, количество итераций = 10000.0. Ошибка: 9641.707321992395\n",
      "Альфа = 0.01, количество итераций = 100000.0. Ошибка: 9641.707321992395\n",
      "Альфа = 0.01, количество итераций = 1000000.0. Ошибка: 9641.707321992395\n",
      "Альфа = 0.001, количество итераций = 1000.0. Ошибка: 9641.718917546386\n",
      "Альфа = 0.001, количество итераций = 10000.0. Ошибка: 9641.707321993226\n",
      "Альфа = 0.001, количество итераций = 100000.0. Ошибка: 9641.707321993226\n",
      "Альфа = 0.001, количество итераций = 1000000.0. Ошибка: 9641.707321993226\n",
      "Альфа = 0.0001, количество итераций = 1000.0. Ошибка: 9642.14676990166\n",
      "Альфа = 0.0001, количество итераций = 10000.0. Ошибка: 9641.718917962564\n",
      "Альфа = 0.0001, количество итераций = 100000.0. Ошибка: 9641.707322004799\n",
      "Альфа = 0.0001, количество итераций = 1000000.0. Ошибка: 9641.707322004799\n",
      "\n",
      "Минимальная ошибка 9641.707321992331 достигается при коэфициентах (0.1, 1000.0)\n"
     ]
    }
   ],
   "source": [
    "# подбор оптимальных параметров\n",
    "min_err = np.inf\n",
    "min_coef = ()\n",
    "\n",
    "for alpha in [1e-1, 1e-2, 1e-3, 1e-4]:\n",
    "    for iters in [1e3, 1e4, 1e5, 1e6]:\n",
    "        W = np.array([0.0, 0.0])\n",
    "        num, wi, err = gradient_descent(alpha, int(iters), W)\n",
    "        print(f'Альфа = {alpha}, количество итераций = {iters}. Ошибка: {err}')\n",
    "        if err < min_err:\n",
    "            min_err = err\n",
    "            min_coef = (alpha, iters)\n",
    "\n",
    "print(f'\\nМинимальная ошибка {min_err} достигается при коэфициентах {min_coef}')"
   ]
  },
  {
   "cell_type": "code",
   "execution_count": 86,
   "metadata": {},
   "outputs": [
    {
     "name": "stdout",
     "output_type": "stream",
     "text": [
      "Number of objects = 10000        \n",
      "Learning rate = 0.01        \n",
      "Initial weights = [1. 1.] \n",
      "\n",
      "[[-0.58090755  1.56929749  0.73205833 ...  1.23497108  0.84429619\n",
      "   1.22368979]\n",
      " [-0.45764694 -1.04164435  1.46297603 ... -0.98595043  1.15759762\n",
      "   0.53700316]]\n",
      "Итераций = 100, Подобранные веса = [-0.16503001  0.76412007], Ошибка = 9641.741836642303\n",
      "Итераций = 200, Подобранные веса = [-0.32053703  0.73417722], Ошибка = 9641.707963696068\n",
      "Итераций = 300, Подобранные веса = [-0.34177699  0.73028443], Ошибка = 9641.707333926686\n",
      "Вывод:\n",
      " Необходимое кол-во итераций = 340\n",
      " Подобранные веса = [-0.34362165  0.72995982]\n",
      " Финальная ошибка на данной итерации = 9641.70732441681\n",
      " погрешность = 1e-07\n",
      "\n"
     ]
    }
   ],
   "source": [
    "X = np.reshape(data, (2, 10000))\n",
    "y = target\n",
    "n = X.shape[1]\n",
    "alpha = 1e-2\n",
    "W = np.array([1.0, 1.0])\n",
    "print(f'Number of objects = {n} \\\n",
    "       \\nLearning rate = {alpha} \\\n",
    "       \\nInitial weights = {W} \\n')\n",
    "print(X)\n",
    "\n",
    "e = 0.0000001\n",
    "last_err = None\n",
    "\n",
    "for i in range(1000):\n",
    "    y_pred = np.dot(W, X)\n",
    "    err = calc_mse(y, y_pred)\n",
    "    W -= alpha * (1/n * 2 * np.sum(X * (y_pred - y),  axis=1))\n",
    "    \n",
    "    if last_err == None:\n",
    "        last_err = err\n",
    "        continue\n",
    "\n",
    "    elif i % 100 == 0:\n",
    "        print(f'Итераций = {i}, Подобранные веса = {W}, Ошибка = {err}')\n",
    "    \n",
    "    elif last_err - err <= e:\n",
    "        print(f'Вывод:\\n Необходимое кол-во итераций = {i}\\n Подобранные веса = {W}\\n Финальная ошибка на данной итерации = {err}\\n погрешность = {e}\\n')\n",
    "        break\n",
    "\n",
    "    last_err = err"
   ]
  },
  {
   "cell_type": "code",
   "execution_count": 94,
   "metadata": {},
   "outputs": [
    {
     "ename": "NameError",
     "evalue": "name 'SGD' is not defined",
     "output_type": "error",
     "traceback": [
      "\u001b[1;31m---------------------------------------------------------------------------\u001b[0m",
      "\u001b[1;31mNameError\u001b[0m                                 Traceback (most recent call last)",
      "\u001b[1;32m~\\AppData\\Local\\Temp/ipykernel_18560/362506412.py\u001b[0m in \u001b[0;36m<module>\u001b[1;34m\u001b[0m\n\u001b[0;32m      1\u001b[0m \u001b[1;31m# Визуализируем изменение функционала ошибки\u001b[0m\u001b[1;33m\u001b[0m\u001b[1;33m\u001b[0m\u001b[1;33m\u001b[0m\u001b[0m\n\u001b[0;32m      2\u001b[0m \u001b[0mplt\u001b[0m\u001b[1;33m.\u001b[0m\u001b[0mfigure\u001b[0m\u001b[1;33m(\u001b[0m\u001b[0mfigsize\u001b[0m\u001b[1;33m=\u001b[0m\u001b[1;33m(\u001b[0m\u001b[1;36m9\u001b[0m\u001b[1;33m,\u001b[0m\u001b[1;36m7\u001b[0m\u001b[1;33m)\u001b[0m\u001b[1;33m)\u001b[0m\u001b[1;33m\u001b[0m\u001b[1;33m\u001b[0m\u001b[0m\n\u001b[1;32m----> 3\u001b[1;33m \u001b[0mplt\u001b[0m\u001b[1;33m.\u001b[0m\u001b[0mplot\u001b[0m\u001b[1;33m(\u001b[0m\u001b[0mrange\u001b[0m\u001b[1;33m(\u001b[0m\u001b[0mlen\u001b[0m\u001b[1;33m(\u001b[0m\u001b[0merrors\u001b[0m\u001b[1;33m)\u001b[0m\u001b[1;33m)\u001b[0m\u001b[1;33m,\u001b[0m \u001b[0merrors\u001b[0m\u001b[1;33m,\u001b[0m \u001b[0mlabel\u001b[0m\u001b[1;33m=\u001b[0m\u001b[0mSGD\u001b[0m\u001b[1;33m)\u001b[0m\u001b[1;33m\u001b[0m\u001b[1;33m\u001b[0m\u001b[0m\n\u001b[0m\u001b[0;32m      4\u001b[0m \u001b[0mplt\u001b[0m\u001b[1;33m.\u001b[0m\u001b[0mtitle\u001b[0m\u001b[1;33m(\u001b[0m\u001b[1;34m'MSE'\u001b[0m\u001b[1;33m)\u001b[0m\u001b[1;33m\u001b[0m\u001b[1;33m\u001b[0m\u001b[0m\n\u001b[0;32m      5\u001b[0m \u001b[0mplt\u001b[0m\u001b[1;33m.\u001b[0m\u001b[0mxlabel\u001b[0m\u001b[1;33m(\u001b[0m\u001b[1;34m'Число итераций'\u001b[0m\u001b[1;33m)\u001b[0m\u001b[1;33m\u001b[0m\u001b[1;33m\u001b[0m\u001b[0m\n",
      "\u001b[1;31mNameError\u001b[0m: name 'SGD' is not defined"
     ]
    },
    {
     "data": {
      "text/plain": [
       "<Figure size 648x504 with 0 Axes>"
      ]
     },
     "metadata": {},
     "output_type": "display_data"
    }
   ],
   "source": [
    "# Визуализируем изменение функционала ошибки\n",
    "plt.figure(figsize=(9,7))\n",
    "plt.plot(range(len(errors)), errors)\n",
    "plt.title('MSE')\n",
    "plt.xlabel('Число итераций')\n",
    "plt.ylabel('MSE')"
   ]
  },
  {
   "cell_type": "code",
   "execution_count": null,
   "metadata": {},
   "outputs": [],
   "source": []
  },
  {
   "cell_type": "code",
   "execution_count": null,
   "metadata": {},
   "outputs": [],
   "source": []
  },
  {
   "cell_type": "markdown",
   "metadata": {},
   "source": [
    "### __2.__ Модифицировать решение первого задания путем добавления L2 регуляризации и сравнить результаты.<br>"
   ]
  },
  {
   "cell_type": "markdown",
   "metadata": {},
   "source": [
    "### __$^*$3.__ Модернизировать решение задания 2, заменив L2 регуляризацию на L1 регуляризацию.<br>\n",
    "### __$^*$4.__ Построить график изменения весов от числа итераций при GD и SGD (на одном рисунке).<br>\n",
    "### __$^*$5.__ Построить график изменения весов для L1 и L2 регуляризации от коэффициента регуляризации.<br>"
   ]
  },
  {
   "cell_type": "code",
   "execution_count": null,
   "metadata": {},
   "outputs": [],
   "source": []
  },
  {
   "cell_type": "code",
   "execution_count": null,
   "metadata": {},
   "outputs": [],
   "source": []
  },
  {
   "cell_type": "code",
   "execution_count": null,
   "metadata": {},
   "outputs": [],
   "source": []
  },
  {
   "cell_type": "code",
   "execution_count": null,
   "metadata": {},
   "outputs": [],
   "source": []
  },
  {
   "cell_type": "code",
   "execution_count": null,
   "metadata": {},
   "outputs": [],
   "source": []
  },
  {
   "cell_type": "code",
   "execution_count": null,
   "metadata": {},
   "outputs": [],
   "source": []
  },
  {
   "cell_type": "code",
   "execution_count": null,
   "metadata": {},
   "outputs": [],
   "source": []
  },
  {
   "cell_type": "markdown",
   "metadata": {},
   "source": [
    "Методичка https://colab.research.google.com/drive/1nEC_D2y-maMuvbN-5iYFAjzLUw0eGOir"
   ]
  }
 ],
 "metadata": {
  "colab": {
   "collapsed_sections": [],
   "name": "Lesson2.ipynb",
   "provenance": []
  },
  "kernelspec": {
   "display_name": "Python 3 (ipykernel)",
   "language": "python",
   "name": "python3"
  },
  "language_info": {
   "codemirror_mode": {
    "name": "ipython",
    "version": 3
   },
   "file_extension": ".py",
   "mimetype": "text/x-python",
   "name": "python",
   "nbconvert_exporter": "python",
   "pygments_lexer": "ipython3",
   "version": "3.8.12"
  },
  "toc": {
   "base_numbering": 1,
   "nav_menu": {},
   "number_sections": false,
   "sideBar": true,
   "skip_h1_title": true,
   "title_cell": "План урока",
   "title_sidebar": "План",
   "toc_cell": true,
   "toc_position": {
    "height": "calc(100% - 180px)",
    "left": "10px",
    "top": "150px",
    "width": "165px"
   },
   "toc_section_display": true,
   "toc_window_display": false
  }
 },
 "nbformat": 4,
 "nbformat_minor": 1
}
