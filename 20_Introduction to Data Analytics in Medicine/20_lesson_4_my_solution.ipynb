{
 "cells": [
  {
   "cell_type": "markdown",
   "metadata": {
    "id": "Z-Qpfl-1ii56"
   },
   "source": [
    "# Урок 4. Клинические исследования\n",
    "\n",
    "## Домашнее задание."
   ]
  },
  {
   "cell_type": "markdown",
   "metadata": {
    "id": "yTlJ_AAQii5_"
   },
   "source": [
    "Найти на сайте clinicaltrials.gov с помощью расширенного поиска interventional исследование, лучше 3 фазы, у которого будет доступен план статистического анализа (SAP) или протокол и результаты.\n",
    "1. Посмотреть как устроен документ\n",
    "2. Найти описание дизайна исследования - рандомизированное или нет, какое заслепление, какое показание, какие группы сравнения, сколько человек в каждой группе сравнения, есть ли стратификация и по каким признакам\n",
    "3. Найти раздел с конечными точками, разобрать каждую точку и определить ее тип - первичная/вторичная, клиническая/суррогатная\n",
    "4. Посмотреть результаты на сайте на странице исследования, определить было исследование успешным или нет.\n"
   ]
  },
  {
   "cell_type": "code",
   "execution_count": 1,
   "metadata": {
    "ExecuteTime": {
     "end_time": "2023-10-20T06:10:49.808021Z",
     "start_time": "2023-10-20T06:10:47.616060Z"
    }
   },
   "outputs": [],
   "source": [
    "import pandas as pd\n",
    "import numpy as np\n",
    "import os\n",
    "# import tarfile\n",
    "import pprint\n",
    "import seaborn as sns \n",
    "import matplotlib.pyplot as plt\n",
    "%matplotlib inline"
   ]
  },
  {
   "cell_type": "code",
   "execution_count": 2,
   "metadata": {
    "ExecuteTime": {
     "end_time": "2023-10-20T06:10:49.899112Z",
     "start_time": "2023-10-20T06:10:49.824977Z"
    },
    "scrolled": false
   },
   "outputs": [
    {
     "name": "stdout",
     "output_type": "stream",
     "text": [
      "Active code page: 65001\n"
     ]
    }
   ],
   "source": [
    "!chcp 65001"
   ]
  },
  {
   "cell_type": "code",
   "execution_count": 9,
   "metadata": {
    "ExecuteTime": {
     "end_time": "2023-10-20T14:17:49.440868Z",
     "start_time": "2023-10-20T14:17:49.431868Z"
    }
   },
   "outputs": [],
   "source": [
    "pd.set_option('display.max_rows', None)"
   ]
  },
  {
   "cell_type": "markdown",
   "metadata": {},
   "source": [
    "Рассмотрим исследование `NCT04676412` *Efficacy and Safety Study of Pembrolizumab (MK-3475) With or Without Lenvatinib (MK-7902/E7080) in Adults With Programmed Cell Death-Ligand 1 (PD-L1)-Positive Treatment-naïve Nonsmall Cell Lung Cancer (NSCLC) [MK-7902-007/E7080-G000-314/LEAP-007] - China Extension Study (LEAP-007)*  \n",
    "*__[Исследование эффективности и безопасности терапии Пембролизумабом (MK-3475) с или без комбинации с Ленватинибом (MK-7902/E7080) у взрослых PD-L1-позитивных пациентов с немелкоклеточным раком лёгкого (НМРЛ) ранее не получавших лечение (Расширенное исследование для территории Китая)]__*  \n",
    "Спонсором данного исследования является компания *Merck Sharp & Dohme (MSD)*  \n",
    "Ссылка на страницу исследования: [NCT04676412](https://clinicaltrials.gov/study/NCT04676412?aggFilters=ages:adult,docs:sap,phase:3,results:with&distance=50&viewType=Table&limit=100&page=1&rank=92&tab=results#outcome-measures \"NCT04676412\")"
   ]
  },
  {
   "cell_type": "code",
   "execution_count": 4,
   "metadata": {
    "ExecuteTime": {
     "end_time": "2023-10-20T06:12:06.040180Z",
     "start_time": "2023-10-20T06:12:06.032974Z"
    }
   },
   "outputs": [
    {
     "data": {
      "text/plain": [
       "['NCT04676412.csv']"
      ]
     },
     "execution_count": 4,
     "metadata": {},
     "output_type": "execute_result"
    }
   ],
   "source": [
    "os.listdir('20_4_files')"
   ]
  },
  {
   "cell_type": "code",
   "execution_count": 10,
   "metadata": {
    "ExecuteTime": {
     "end_time": "2023-10-20T14:18:22.677744Z",
     "start_time": "2023-10-20T14:18:22.652650Z"
    }
   },
   "outputs": [
    {
     "data": {
      "text/html": [
       "<div>\n",
       "<style scoped>\n",
       "    .dataframe tbody tr th:only-of-type {\n",
       "        vertical-align: middle;\n",
       "    }\n",
       "\n",
       "    .dataframe tbody tr th {\n",
       "        vertical-align: top;\n",
       "    }\n",
       "\n",
       "    .dataframe thead th {\n",
       "        text-align: right;\n",
       "    }\n",
       "</style>\n",
       "<table border=\"1\" class=\"dataframe\">\n",
       "  <thead>\n",
       "    <tr style=\"text-align: right;\">\n",
       "      <th></th>\n",
       "      <th>0</th>\n",
       "    </tr>\n",
       "  </thead>\n",
       "  <tbody>\n",
       "    <tr>\n",
       "      <th>NCT Number</th>\n",
       "      <td>NCT04676412</td>\n",
       "    </tr>\n",
       "    <tr>\n",
       "      <th>Study Title</th>\n",
       "      <td>Efficacy and Safety Study of Pembrolizumab (MK...</td>\n",
       "    </tr>\n",
       "    <tr>\n",
       "      <th>Study URL</th>\n",
       "      <td>https://clinicaltrials.gov/study/NCT04676412</td>\n",
       "    </tr>\n",
       "    <tr>\n",
       "      <th>Acronym</th>\n",
       "      <td>LEAP-007</td>\n",
       "    </tr>\n",
       "    <tr>\n",
       "      <th>Study Status</th>\n",
       "      <td>ACTIVE_NOT_RECRUITING</td>\n",
       "    </tr>\n",
       "    <tr>\n",
       "      <th>Brief Summary</th>\n",
       "      <td>The purpose of this study is to assess the saf...</td>\n",
       "    </tr>\n",
       "    <tr>\n",
       "      <th>Study Results</th>\n",
       "      <td>YES</td>\n",
       "    </tr>\n",
       "    <tr>\n",
       "      <th>Conditions</th>\n",
       "      <td>Non-small Cell Lung Cancer</td>\n",
       "    </tr>\n",
       "    <tr>\n",
       "      <th>Interventions</th>\n",
       "      <td>BIOLOGICAL: Pembrolizumab|DRUG: Lenvatinib|DRU...</td>\n",
       "    </tr>\n",
       "    <tr>\n",
       "      <th>Primary Outcome Measures</th>\n",
       "      <td>Progression-free Survival (PFS) Per Response E...</td>\n",
       "    </tr>\n",
       "    <tr>\n",
       "      <th>Secondary Outcome Measures</th>\n",
       "      <td>Objective Response Rate (ORR) Per RECIST 1.1 a...</td>\n",
       "    </tr>\n",
       "    <tr>\n",
       "      <th>Other Outcome Measures</th>\n",
       "      <td>NaN</td>\n",
       "    </tr>\n",
       "    <tr>\n",
       "      <th>Sponsor</th>\n",
       "      <td>Merck Sharp &amp; Dohme LLC</td>\n",
       "    </tr>\n",
       "    <tr>\n",
       "      <th>Collaborators</th>\n",
       "      <td>Eisai Inc.</td>\n",
       "    </tr>\n",
       "    <tr>\n",
       "      <th>Sex</th>\n",
       "      <td>ALL</td>\n",
       "    </tr>\n",
       "    <tr>\n",
       "      <th>Age</th>\n",
       "      <td>ADULT, OLDER_ADULT</td>\n",
       "    </tr>\n",
       "    <tr>\n",
       "      <th>Phases</th>\n",
       "      <td>PHASE3</td>\n",
       "    </tr>\n",
       "    <tr>\n",
       "      <th>Enrollment</th>\n",
       "      <td>27</td>\n",
       "    </tr>\n",
       "    <tr>\n",
       "      <th>Funder Type</th>\n",
       "      <td>INDUSTRY</td>\n",
       "    </tr>\n",
       "    <tr>\n",
       "      <th>Study Type</th>\n",
       "      <td>INTERVENTIONAL</td>\n",
       "    </tr>\n",
       "    <tr>\n",
       "      <th>Study Design</th>\n",
       "      <td>Allocation: RANDOMIZED|Intervention Model: PAR...</td>\n",
       "    </tr>\n",
       "    <tr>\n",
       "      <th>Other IDs</th>\n",
       "      <td>7902-007 China Extension|MK-7902-007|E7080-G00...</td>\n",
       "    </tr>\n",
       "    <tr>\n",
       "      <th>Start Date</th>\n",
       "      <td>2019-10-23</td>\n",
       "    </tr>\n",
       "    <tr>\n",
       "      <th>Primary Completion Date</th>\n",
       "      <td>2021-05-19</td>\n",
       "    </tr>\n",
       "    <tr>\n",
       "      <th>Completion Date</th>\n",
       "      <td>2023-11-30</td>\n",
       "    </tr>\n",
       "    <tr>\n",
       "      <th>First Posted</th>\n",
       "      <td>2020-12-21</td>\n",
       "    </tr>\n",
       "    <tr>\n",
       "      <th>Results First Posted</th>\n",
       "      <td>2022-10-14</td>\n",
       "    </tr>\n",
       "    <tr>\n",
       "      <th>Last Update Posted</th>\n",
       "      <td>2022-11-09</td>\n",
       "    </tr>\n",
       "    <tr>\n",
       "      <th>Locations</th>\n",
       "      <td>Anhui Provincial Hospital ( Site 0108), Hefei,...</td>\n",
       "    </tr>\n",
       "    <tr>\n",
       "      <th>Study Documents</th>\n",
       "      <td>Study Protocol|Statistical Analysis Plan</td>\n",
       "    </tr>\n",
       "  </tbody>\n",
       "</table>\n",
       "</div>"
      ],
      "text/plain": [
       "                                                                            0\n",
       "NCT Number                                                        NCT04676412\n",
       "Study Title                 Efficacy and Safety Study of Pembrolizumab (MK...\n",
       "Study URL                        https://clinicaltrials.gov/study/NCT04676412\n",
       "Acronym                                                              LEAP-007\n",
       "Study Status                                            ACTIVE_NOT_RECRUITING\n",
       "Brief Summary               The purpose of this study is to assess the saf...\n",
       "Study Results                                                             YES\n",
       "Conditions                                         Non-small Cell Lung Cancer\n",
       "Interventions               BIOLOGICAL: Pembrolizumab|DRUG: Lenvatinib|DRU...\n",
       "Primary Outcome Measures    Progression-free Survival (PFS) Per Response E...\n",
       "Secondary Outcome Measures  Objective Response Rate (ORR) Per RECIST 1.1 a...\n",
       "Other Outcome Measures                                                    NaN\n",
       "Sponsor                                               Merck Sharp & Dohme LLC\n",
       "Collaborators                                                      Eisai Inc.\n",
       "Sex                                                                       ALL\n",
       "Age                                                        ADULT, OLDER_ADULT\n",
       "Phases                                                                 PHASE3\n",
       "Enrollment                                                                 27\n",
       "Funder Type                                                          INDUSTRY\n",
       "Study Type                                                     INTERVENTIONAL\n",
       "Study Design                Allocation: RANDOMIZED|Intervention Model: PAR...\n",
       "Other IDs                   7902-007 China Extension|MK-7902-007|E7080-G00...\n",
       "Start Date                                                         2019-10-23\n",
       "Primary Completion Date                                            2021-05-19\n",
       "Completion Date                                                    2023-11-30\n",
       "First Posted                                                       2020-12-21\n",
       "Results First Posted                                               2022-10-14\n",
       "Last Update Posted                                                 2022-11-09\n",
       "Locations                   Anhui Provincial Hospital ( Site 0108), Hefei,...\n",
       "Study Documents                      Study Protocol|Statistical Analysis Plan"
      ]
     },
     "execution_count": 10,
     "metadata": {},
     "output_type": "execute_result"
    }
   ],
   "source": [
    "trial = pd.read_csv('20_4_files/NCT04676412.csv', sep=',')\n",
    "trial.T"
   ]
  },
  {
   "cell_type": "code",
   "execution_count": null,
   "metadata": {},
   "outputs": [],
   "source": []
  },
  {
   "cell_type": "code",
   "execution_count": null,
   "metadata": {},
   "outputs": [],
   "source": []
  },
  {
   "cell_type": "code",
   "execution_count": null,
   "metadata": {},
   "outputs": [],
   "source": []
  },
  {
   "cell_type": "code",
   "execution_count": null,
   "metadata": {},
   "outputs": [],
   "source": []
  },
  {
   "cell_type": "code",
   "execution_count": null,
   "metadata": {},
   "outputs": [],
   "source": []
  },
  {
   "cell_type": "code",
   "execution_count": null,
   "metadata": {},
   "outputs": [],
   "source": []
  },
  {
   "cell_type": "markdown",
   "metadata": {
    "id": "BY2DuSBRPPzn"
   },
   "source": [
    "__*Комментарии преподавателя:*__<br>\n",
    "*Дарья Бородко・Преподаватель<br>*\n",
    "\n",
    ">*Добрый день!  \n",
    "...*"
   ]
  },
  {
   "cell_type": "code",
   "execution_count": null,
   "metadata": {},
   "outputs": [],
   "source": []
  }
 ],
 "metadata": {
  "accelerator": "GPU",
  "colab": {
   "provenance": []
  },
  "gpuClass": "standard",
  "kernelspec": {
   "display_name": "Python 3 (ipykernel)",
   "language": "python",
   "name": "python3"
  },
  "language_info": {
   "codemirror_mode": {
    "name": "ipython",
    "version": 3
   },
   "file_extension": ".py",
   "mimetype": "text/x-python",
   "name": "python",
   "nbconvert_exporter": "python",
   "pygments_lexer": "ipython3",
   "version": "3.9.17"
  },
  "nbTranslate": {
   "displayLangs": [
    "*"
   ],
   "hotkey": "alt-t",
   "langInMainMenu": true,
   "sourceLang": "en",
   "targetLang": "fr",
   "useGoogleTranslate": true
  },
  "toc": {
   "base_numbering": 1,
   "nav_menu": {},
   "number_sections": false,
   "sideBar": true,
   "skip_h1_title": false,
   "title_cell": "Table of Contents",
   "title_sidebar": "Contents",
   "toc_cell": false,
   "toc_position": {},
   "toc_section_display": true,
   "toc_window_display": false
  },
  "varInspector": {
   "cols": {
    "lenName": 16,
    "lenType": 16,
    "lenVar": 40
   },
   "kernels_config": {
    "python": {
     "delete_cmd_postfix": "",
     "delete_cmd_prefix": "del ",
     "library": "var_list.py",
     "varRefreshCmd": "print(var_dic_list())"
    },
    "r": {
     "delete_cmd_postfix": ") ",
     "delete_cmd_prefix": "rm(",
     "library": "var_list.r",
     "varRefreshCmd": "cat(var_dic_list()) "
    }
   },
   "types_to_exclude": [
    "module",
    "function",
    "builtin_function_or_method",
    "instance",
    "_Feature"
   ],
   "window_display": false
  }
 },
 "nbformat": 4,
 "nbformat_minor": 1
}
