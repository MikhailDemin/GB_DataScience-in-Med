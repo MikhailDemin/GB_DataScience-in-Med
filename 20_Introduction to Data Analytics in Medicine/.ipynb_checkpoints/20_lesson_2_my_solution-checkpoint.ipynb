{
 "cells": [
  {
   "cell_type": "markdown",
   "metadata": {
    "id": "Z-Qpfl-1ii56"
   },
   "source": [
    "# Урок 2. Источники медицинских данных\n",
    "\n",
    "## Домашнее задание."
   ]
  },
  {
   "cell_type": "markdown",
   "metadata": {
    "id": "yTlJ_AAQii5_"
   },
   "source": [
    "Задание на ознакомление с датасетом TCGA — сделать описательную статистику нескольких переменных на выбор, выяснить возможный источник выбранных признаков и взаимосвязь с целевой переменной.\n",
    "\n",
    "Архив можно распаковать в Google Colab с помощью ```!tar xzf```"
   ]
  },
  {
   "cell_type": "code",
   "execution_count": 1,
   "metadata": {
    "ExecuteTime": {
     "end_time": "2023-10-06T04:54:31.435059Z",
     "start_time": "2023-10-06T04:54:30.089250Z"
    }
   },
   "outputs": [],
   "source": [
    "import pandas as pd\n",
    "import numpy as np\n",
    "import os\n",
    "import tarfile\n",
    "# import pprint\n",
    "import matplotlib.pyplot as plt\n",
    "%matplotlib inline"
   ]
  },
  {
   "cell_type": "code",
   "execution_count": 2,
   "metadata": {
    "ExecuteTime": {
     "end_time": "2023-10-06T04:54:31.559642Z",
     "start_time": "2023-10-06T04:54:31.483535Z"
    },
    "scrolled": true
   },
   "outputs": [
    {
     "name": "stdout",
     "output_type": "stream",
     "text": [
      "Active code page: 65001\n"
     ]
    }
   ],
   "source": [
    "!chcp 65001"
   ]
  },
  {
   "cell_type": "code",
   "execution_count": 3,
   "metadata": {
    "ExecuteTime": {
     "end_time": "2023-10-06T04:54:31.637094Z",
     "start_time": "2023-10-06T04:54:31.608469Z"
    },
    "scrolled": true
   },
   "outputs": [],
   "source": [
    "tar = tarfile.open('20_2_clinical.project-tcga-dlbc.2023-09-20.tar.gz', 'r')\n",
    "tar.extractall('20_2_files')"
   ]
  },
  {
   "cell_type": "code",
   "execution_count": 4,
   "metadata": {
    "ExecuteTime": {
     "end_time": "2023-10-06T04:54:32.358160Z",
     "start_time": "2023-10-06T04:54:32.350113Z"
    }
   },
   "outputs": [
    {
     "data": {
      "text/plain": [
       "['clinical.tsv',\n",
       " 'clinical.xlsx',\n",
       " 'exposure.tsv',\n",
       " 'exposure.xlsx',\n",
       " 'family_history.tsv',\n",
       " 'follow_up.tsv',\n",
       " 'pathology_detail.tsv',\n",
       " '~$clinical.xlsx']"
      ]
     },
     "execution_count": 4,
     "metadata": {},
     "output_type": "execute_result"
    }
   ],
   "source": [
    "os.listdir('20_2_files')"
   ]
  },
  {
   "cell_type": "code",
   "execution_count": 5,
   "metadata": {
    "ExecuteTime": {
     "end_time": "2023-10-06T04:54:33.226847Z",
     "start_time": "2023-10-06T04:54:33.177964Z"
    },
    "scrolled": true
   },
   "outputs": [],
   "source": [
    "df_clin = pd.read_table('20_2_files/clinical.tsv')\n",
    "df_exp = pd.read_table('20_2_files/exposure.tsv')\n",
    "df_fam_h = pd.read_table('20_2_files/family_history.tsv')\n",
    "df_fol_u = pd.read_table('20_2_files/follow_up.tsv')\n",
    "df_path = pd.read_table('20_2_files/pathology_detail.tsv')"
   ]
  },
  {
   "cell_type": "code",
   "execution_count": 6,
   "metadata": {
    "ExecuteTime": {
     "end_time": "2023-10-06T04:54:34.301097Z",
     "start_time": "2023-10-06T04:54:34.278158Z"
    }
   },
   "outputs": [
    {
     "data": {
      "text/html": [
       "<div>\n",
       "<style scoped>\n",
       "    .dataframe tbody tr th:only-of-type {\n",
       "        vertical-align: middle;\n",
       "    }\n",
       "\n",
       "    .dataframe tbody tr th {\n",
       "        vertical-align: top;\n",
       "    }\n",
       "\n",
       "    .dataframe thead th {\n",
       "        text-align: right;\n",
       "    }\n",
       "</style>\n",
       "<table border=\"1\" class=\"dataframe\">\n",
       "  <thead>\n",
       "    <tr style=\"text-align: right;\">\n",
       "      <th></th>\n",
       "      <th>case_id</th>\n",
       "      <th>case_submitter_id</th>\n",
       "      <th>project_id</th>\n",
       "      <th>age_at_index</th>\n",
       "      <th>age_is_obfuscated</th>\n",
       "      <th>cause_of_death</th>\n",
       "      <th>cause_of_death_source</th>\n",
       "      <th>country_of_residence_at_enrollment</th>\n",
       "      <th>days_to_birth</th>\n",
       "      <th>days_to_death</th>\n",
       "      <th>...</th>\n",
       "      <th>treatment_arm</th>\n",
       "      <th>treatment_dose</th>\n",
       "      <th>treatment_dose_units</th>\n",
       "      <th>treatment_effect</th>\n",
       "      <th>treatment_effect_indicator</th>\n",
       "      <th>treatment_frequency</th>\n",
       "      <th>treatment_intent_type</th>\n",
       "      <th>treatment_or_therapy</th>\n",
       "      <th>treatment_outcome</th>\n",
       "      <th>treatment_type</th>\n",
       "    </tr>\n",
       "  </thead>\n",
       "  <tbody>\n",
       "    <tr>\n",
       "      <th>0</th>\n",
       "      <td>0030a28c-81aa-44b0-8be0-b35e1dcbf98c</td>\n",
       "      <td>TCGA-FA-A7Q1</td>\n",
       "      <td>TCGA-DLBC</td>\n",
       "      <td>61</td>\n",
       "      <td>'--</td>\n",
       "      <td>'--</td>\n",
       "      <td>'--</td>\n",
       "      <td>'--</td>\n",
       "      <td>-22454</td>\n",
       "      <td>248</td>\n",
       "      <td>...</td>\n",
       "      <td>'--</td>\n",
       "      <td>'--</td>\n",
       "      <td>'--</td>\n",
       "      <td>'--</td>\n",
       "      <td>'--</td>\n",
       "      <td>'--</td>\n",
       "      <td>'--</td>\n",
       "      <td>yes</td>\n",
       "      <td>'--</td>\n",
       "      <td>Pharmaceutical Therapy, NOS</td>\n",
       "    </tr>\n",
       "    <tr>\n",
       "      <th>1</th>\n",
       "      <td>0030a28c-81aa-44b0-8be0-b35e1dcbf98c</td>\n",
       "      <td>TCGA-FA-A7Q1</td>\n",
       "      <td>TCGA-DLBC</td>\n",
       "      <td>61</td>\n",
       "      <td>'--</td>\n",
       "      <td>'--</td>\n",
       "      <td>'--</td>\n",
       "      <td>'--</td>\n",
       "      <td>-22454</td>\n",
       "      <td>248</td>\n",
       "      <td>...</td>\n",
       "      <td>'--</td>\n",
       "      <td>'--</td>\n",
       "      <td>'--</td>\n",
       "      <td>'--</td>\n",
       "      <td>'--</td>\n",
       "      <td>'--</td>\n",
       "      <td>'--</td>\n",
       "      <td>no</td>\n",
       "      <td>'--</td>\n",
       "      <td>Radiation Therapy, NOS</td>\n",
       "    </tr>\n",
       "    <tr>\n",
       "      <th>2</th>\n",
       "      <td>0bf573ac-cd1e-42d8-90cf-b30d7b08679c</td>\n",
       "      <td>TCGA-FA-A6HN</td>\n",
       "      <td>TCGA-DLBC</td>\n",
       "      <td>73</td>\n",
       "      <td>'--</td>\n",
       "      <td>'--</td>\n",
       "      <td>'--</td>\n",
       "      <td>'--</td>\n",
       "      <td>-27025</td>\n",
       "      <td>58</td>\n",
       "      <td>...</td>\n",
       "      <td>'--</td>\n",
       "      <td>'--</td>\n",
       "      <td>'--</td>\n",
       "      <td>'--</td>\n",
       "      <td>'--</td>\n",
       "      <td>'--</td>\n",
       "      <td>'--</td>\n",
       "      <td>no</td>\n",
       "      <td>'--</td>\n",
       "      <td>Radiation Therapy, NOS</td>\n",
       "    </tr>\n",
       "    <tr>\n",
       "      <th>3</th>\n",
       "      <td>0bf573ac-cd1e-42d8-90cf-b30d7b08679c</td>\n",
       "      <td>TCGA-FA-A6HN</td>\n",
       "      <td>TCGA-DLBC</td>\n",
       "      <td>73</td>\n",
       "      <td>'--</td>\n",
       "      <td>'--</td>\n",
       "      <td>'--</td>\n",
       "      <td>'--</td>\n",
       "      <td>-27025</td>\n",
       "      <td>58</td>\n",
       "      <td>...</td>\n",
       "      <td>'--</td>\n",
       "      <td>'--</td>\n",
       "      <td>'--</td>\n",
       "      <td>'--</td>\n",
       "      <td>'--</td>\n",
       "      <td>'--</td>\n",
       "      <td>'--</td>\n",
       "      <td>yes</td>\n",
       "      <td>'--</td>\n",
       "      <td>Pharmaceutical Therapy, NOS</td>\n",
       "    </tr>\n",
       "    <tr>\n",
       "      <th>4</th>\n",
       "      <td>0e251c03-bf86-4ed8-b45d-3cbc97160502</td>\n",
       "      <td>TCGA-GS-A9U4</td>\n",
       "      <td>TCGA-DLBC</td>\n",
       "      <td>27</td>\n",
       "      <td>'--</td>\n",
       "      <td>'--</td>\n",
       "      <td>'--</td>\n",
       "      <td>'--</td>\n",
       "      <td>-10075</td>\n",
       "      <td>391</td>\n",
       "      <td>...</td>\n",
       "      <td>'--</td>\n",
       "      <td>'--</td>\n",
       "      <td>'--</td>\n",
       "      <td>'--</td>\n",
       "      <td>'--</td>\n",
       "      <td>'--</td>\n",
       "      <td>'--</td>\n",
       "      <td>yes</td>\n",
       "      <td>'--</td>\n",
       "      <td>Pharmaceutical Therapy, NOS</td>\n",
       "    </tr>\n",
       "  </tbody>\n",
       "</table>\n",
       "<p>5 rows × 158 columns</p>\n",
       "</div>"
      ],
      "text/plain": [
       "                                case_id case_submitter_id project_id  \\\n",
       "0  0030a28c-81aa-44b0-8be0-b35e1dcbf98c      TCGA-FA-A7Q1  TCGA-DLBC   \n",
       "1  0030a28c-81aa-44b0-8be0-b35e1dcbf98c      TCGA-FA-A7Q1  TCGA-DLBC   \n",
       "2  0bf573ac-cd1e-42d8-90cf-b30d7b08679c      TCGA-FA-A6HN  TCGA-DLBC   \n",
       "3  0bf573ac-cd1e-42d8-90cf-b30d7b08679c      TCGA-FA-A6HN  TCGA-DLBC   \n",
       "4  0e251c03-bf86-4ed8-b45d-3cbc97160502      TCGA-GS-A9U4  TCGA-DLBC   \n",
       "\n",
       "  age_at_index age_is_obfuscated cause_of_death cause_of_death_source  \\\n",
       "0           61               '--            '--                   '--   \n",
       "1           61               '--            '--                   '--   \n",
       "2           73               '--            '--                   '--   \n",
       "3           73               '--            '--                   '--   \n",
       "4           27               '--            '--                   '--   \n",
       "\n",
       "  country_of_residence_at_enrollment days_to_birth days_to_death  ...  \\\n",
       "0                                '--        -22454           248  ...   \n",
       "1                                '--        -22454           248  ...   \n",
       "2                                '--        -27025            58  ...   \n",
       "3                                '--        -27025            58  ...   \n",
       "4                                '--        -10075           391  ...   \n",
       "\n",
       "  treatment_arm treatment_dose treatment_dose_units treatment_effect  \\\n",
       "0           '--            '--                  '--              '--   \n",
       "1           '--            '--                  '--              '--   \n",
       "2           '--            '--                  '--              '--   \n",
       "3           '--            '--                  '--              '--   \n",
       "4           '--            '--                  '--              '--   \n",
       "\n",
       "  treatment_effect_indicator treatment_frequency treatment_intent_type  \\\n",
       "0                        '--                 '--                   '--   \n",
       "1                        '--                 '--                   '--   \n",
       "2                        '--                 '--                   '--   \n",
       "3                        '--                 '--                   '--   \n",
       "4                        '--                 '--                   '--   \n",
       "\n",
       "  treatment_or_therapy treatment_outcome               treatment_type  \n",
       "0                  yes               '--  Pharmaceutical Therapy, NOS  \n",
       "1                   no               '--       Radiation Therapy, NOS  \n",
       "2                   no               '--       Radiation Therapy, NOS  \n",
       "3                  yes               '--  Pharmaceutical Therapy, NOS  \n",
       "4                  yes               '--  Pharmaceutical Therapy, NOS  \n",
       "\n",
       "[5 rows x 158 columns]"
      ]
     },
     "execution_count": 6,
     "metadata": {},
     "output_type": "execute_result"
    }
   ],
   "source": [
    "df_clin.head()"
   ]
  },
  {
   "cell_type": "code",
   "execution_count": 7,
   "metadata": {
    "ExecuteTime": {
     "end_time": "2023-10-06T04:54:34.692385Z",
     "start_time": "2023-10-06T04:54:34.660395Z"
    }
   },
   "outputs": [
    {
     "data": {
      "text/html": [
       "<div>\n",
       "<style scoped>\n",
       "    .dataframe tbody tr th:only-of-type {\n",
       "        vertical-align: middle;\n",
       "    }\n",
       "\n",
       "    .dataframe tbody tr th {\n",
       "        vertical-align: top;\n",
       "    }\n",
       "\n",
       "    .dataframe thead th {\n",
       "        text-align: right;\n",
       "    }\n",
       "</style>\n",
       "<table border=\"1\" class=\"dataframe\">\n",
       "  <thead>\n",
       "    <tr style=\"text-align: right;\">\n",
       "      <th></th>\n",
       "      <th>case_id</th>\n",
       "      <th>case_submitter_id</th>\n",
       "      <th>project_id</th>\n",
       "      <th>age_at_onset</th>\n",
       "      <th>alcohol_days_per_week</th>\n",
       "      <th>alcohol_drinks_per_day</th>\n",
       "      <th>alcohol_history</th>\n",
       "      <th>alcohol_intensity</th>\n",
       "      <th>alcohol_type</th>\n",
       "      <th>asbestos_exposure</th>\n",
       "      <th>...</th>\n",
       "      <th>smoking_frequency</th>\n",
       "      <th>time_between_waking_and_first_smoke</th>\n",
       "      <th>tobacco_smoking_onset_year</th>\n",
       "      <th>tobacco_smoking_quit_year</th>\n",
       "      <th>tobacco_smoking_status</th>\n",
       "      <th>tobacco_use_per_day</th>\n",
       "      <th>type_of_smoke_exposure</th>\n",
       "      <th>type_of_tobacco_used</th>\n",
       "      <th>weight</th>\n",
       "      <th>years_smoked</th>\n",
       "    </tr>\n",
       "  </thead>\n",
       "  <tbody>\n",
       "    <tr>\n",
       "      <th>0</th>\n",
       "      <td>0030a28c-81aa-44b0-8be0-b35e1dcbf98c</td>\n",
       "      <td>TCGA-FA-A7Q1</td>\n",
       "      <td>TCGA-DLBC</td>\n",
       "      <td>'--</td>\n",
       "      <td>'--</td>\n",
       "      <td>'--</td>\n",
       "      <td>Not Reported</td>\n",
       "      <td>'--</td>\n",
       "      <td>'--</td>\n",
       "      <td>'--</td>\n",
       "      <td>...</td>\n",
       "      <td>'--</td>\n",
       "      <td>'--</td>\n",
       "      <td>'--</td>\n",
       "      <td>'--</td>\n",
       "      <td>'--</td>\n",
       "      <td>'--</td>\n",
       "      <td>'--</td>\n",
       "      <td>'--</td>\n",
       "      <td>'--</td>\n",
       "      <td>'--</td>\n",
       "    </tr>\n",
       "    <tr>\n",
       "      <th>1</th>\n",
       "      <td>0bf573ac-cd1e-42d8-90cf-b30d7b08679c</td>\n",
       "      <td>TCGA-FA-A6HN</td>\n",
       "      <td>TCGA-DLBC</td>\n",
       "      <td>'--</td>\n",
       "      <td>'--</td>\n",
       "      <td>'--</td>\n",
       "      <td>Not Reported</td>\n",
       "      <td>'--</td>\n",
       "      <td>'--</td>\n",
       "      <td>'--</td>\n",
       "      <td>...</td>\n",
       "      <td>'--</td>\n",
       "      <td>'--</td>\n",
       "      <td>'--</td>\n",
       "      <td>'--</td>\n",
       "      <td>'--</td>\n",
       "      <td>'--</td>\n",
       "      <td>'--</td>\n",
       "      <td>'--</td>\n",
       "      <td>'--</td>\n",
       "      <td>'--</td>\n",
       "    </tr>\n",
       "    <tr>\n",
       "      <th>2</th>\n",
       "      <td>0e251c03-bf86-4ed8-b45d-3cbc97160502</td>\n",
       "      <td>TCGA-GS-A9U4</td>\n",
       "      <td>TCGA-DLBC</td>\n",
       "      <td>'--</td>\n",
       "      <td>'--</td>\n",
       "      <td>'--</td>\n",
       "      <td>Not Reported</td>\n",
       "      <td>'--</td>\n",
       "      <td>'--</td>\n",
       "      <td>'--</td>\n",
       "      <td>...</td>\n",
       "      <td>'--</td>\n",
       "      <td>'--</td>\n",
       "      <td>'--</td>\n",
       "      <td>'--</td>\n",
       "      <td>'--</td>\n",
       "      <td>'--</td>\n",
       "      <td>'--</td>\n",
       "      <td>'--</td>\n",
       "      <td>'--</td>\n",
       "      <td>'--</td>\n",
       "    </tr>\n",
       "    <tr>\n",
       "      <th>3</th>\n",
       "      <td>0e9fcccc-0630-408d-a121-2c6413824cb7</td>\n",
       "      <td>TCGA-FF-8062</td>\n",
       "      <td>TCGA-DLBC</td>\n",
       "      <td>'--</td>\n",
       "      <td>'--</td>\n",
       "      <td>'--</td>\n",
       "      <td>Not Reported</td>\n",
       "      <td>'--</td>\n",
       "      <td>'--</td>\n",
       "      <td>'--</td>\n",
       "      <td>...</td>\n",
       "      <td>'--</td>\n",
       "      <td>'--</td>\n",
       "      <td>'--</td>\n",
       "      <td>'--</td>\n",
       "      <td>'--</td>\n",
       "      <td>'--</td>\n",
       "      <td>'--</td>\n",
       "      <td>'--</td>\n",
       "      <td>'--</td>\n",
       "      <td>'--</td>\n",
       "    </tr>\n",
       "    <tr>\n",
       "      <th>4</th>\n",
       "      <td>1843c82e-7a35-474f-9f79-c0a9af9aa09c</td>\n",
       "      <td>TCGA-FA-A4BB</td>\n",
       "      <td>TCGA-DLBC</td>\n",
       "      <td>'--</td>\n",
       "      <td>'--</td>\n",
       "      <td>'--</td>\n",
       "      <td>Not Reported</td>\n",
       "      <td>'--</td>\n",
       "      <td>'--</td>\n",
       "      <td>'--</td>\n",
       "      <td>...</td>\n",
       "      <td>'--</td>\n",
       "      <td>'--</td>\n",
       "      <td>'--</td>\n",
       "      <td>'--</td>\n",
       "      <td>'--</td>\n",
       "      <td>'--</td>\n",
       "      <td>'--</td>\n",
       "      <td>'--</td>\n",
       "      <td>'--</td>\n",
       "      <td>'--</td>\n",
       "    </tr>\n",
       "  </tbody>\n",
       "</table>\n",
       "<p>5 rows × 35 columns</p>\n",
       "</div>"
      ],
      "text/plain": [
       "                                case_id case_submitter_id project_id  \\\n",
       "0  0030a28c-81aa-44b0-8be0-b35e1dcbf98c      TCGA-FA-A7Q1  TCGA-DLBC   \n",
       "1  0bf573ac-cd1e-42d8-90cf-b30d7b08679c      TCGA-FA-A6HN  TCGA-DLBC   \n",
       "2  0e251c03-bf86-4ed8-b45d-3cbc97160502      TCGA-GS-A9U4  TCGA-DLBC   \n",
       "3  0e9fcccc-0630-408d-a121-2c6413824cb7      TCGA-FF-8062  TCGA-DLBC   \n",
       "4  1843c82e-7a35-474f-9f79-c0a9af9aa09c      TCGA-FA-A4BB  TCGA-DLBC   \n",
       "\n",
       "  age_at_onset alcohol_days_per_week alcohol_drinks_per_day alcohol_history  \\\n",
       "0          '--                   '--                    '--    Not Reported   \n",
       "1          '--                   '--                    '--    Not Reported   \n",
       "2          '--                   '--                    '--    Not Reported   \n",
       "3          '--                   '--                    '--    Not Reported   \n",
       "4          '--                   '--                    '--    Not Reported   \n",
       "\n",
       "  alcohol_intensity alcohol_type asbestos_exposure  ... smoking_frequency  \\\n",
       "0               '--          '--               '--  ...               '--   \n",
       "1               '--          '--               '--  ...               '--   \n",
       "2               '--          '--               '--  ...               '--   \n",
       "3               '--          '--               '--  ...               '--   \n",
       "4               '--          '--               '--  ...               '--   \n",
       "\n",
       "  time_between_waking_and_first_smoke tobacco_smoking_onset_year  \\\n",
       "0                                 '--                        '--   \n",
       "1                                 '--                        '--   \n",
       "2                                 '--                        '--   \n",
       "3                                 '--                        '--   \n",
       "4                                 '--                        '--   \n",
       "\n",
       "  tobacco_smoking_quit_year tobacco_smoking_status tobacco_use_per_day  \\\n",
       "0                       '--                    '--                 '--   \n",
       "1                       '--                    '--                 '--   \n",
       "2                       '--                    '--                 '--   \n",
       "3                       '--                    '--                 '--   \n",
       "4                       '--                    '--                 '--   \n",
       "\n",
       "  type_of_smoke_exposure type_of_tobacco_used weight years_smoked  \n",
       "0                    '--                  '--    '--          '--  \n",
       "1                    '--                  '--    '--          '--  \n",
       "2                    '--                  '--    '--          '--  \n",
       "3                    '--                  '--    '--          '--  \n",
       "4                    '--                  '--    '--          '--  \n",
       "\n",
       "[5 rows x 35 columns]"
      ]
     },
     "execution_count": 7,
     "metadata": {},
     "output_type": "execute_result"
    }
   ],
   "source": [
    "df_exp.head()"
   ]
  },
  {
   "cell_type": "markdown",
   "metadata": {},
   "source": [
    "**Для описания возьмем таблицу ```clinical.tsv```**"
   ]
  },
  {
   "cell_type": "code",
   "execution_count": 8,
   "metadata": {
    "ExecuteTime": {
     "end_time": "2023-10-06T04:54:36.467943Z",
     "start_time": "2023-10-06T04:54:36.446637Z"
    },
    "scrolled": true
   },
   "outputs": [
    {
     "name": "stdout",
     "output_type": "stream",
     "text": [
      "<class 'pandas.core.frame.DataFrame'>\n",
      "RangeIndex: 106 entries, 0 to 105\n",
      "Columns: 158 entries, case_id to treatment_type\n",
      "dtypes: object(158)\n",
      "memory usage: 131.0+ KB\n"
     ]
    }
   ],
   "source": [
    "df_clin.info()"
   ]
  },
  {
   "cell_type": "code",
   "execution_count": 9,
   "metadata": {
    "ExecuteTime": {
     "end_time": "2023-10-06T04:54:37.263211Z",
     "start_time": "2023-10-06T04:54:37.248252Z"
    }
   },
   "outputs": [
    {
     "data": {
      "text/plain": [
       "case_id                  object\n",
       "case_submitter_id        object\n",
       "project_id               object\n",
       "age_at_index             object\n",
       "age_is_obfuscated        object\n",
       "                          ...  \n",
       "treatment_frequency      object\n",
       "treatment_intent_type    object\n",
       "treatment_or_therapy     object\n",
       "treatment_outcome        object\n",
       "treatment_type           object\n",
       "Length: 158, dtype: object"
      ]
     },
     "execution_count": 9,
     "metadata": {},
     "output_type": "execute_result"
    }
   ],
   "source": [
    "df_clin.dtypes"
   ]
  },
  {
   "cell_type": "code",
   "execution_count": 10,
   "metadata": {
    "ExecuteTime": {
     "end_time": "2023-10-06T04:54:38.464093Z",
     "start_time": "2023-10-06T04:54:38.347443Z"
    },
    "scrolled": true
   },
   "outputs": [
    {
     "data": {
      "text/html": [
       "<div>\n",
       "<style scoped>\n",
       "    .dataframe tbody tr th:only-of-type {\n",
       "        vertical-align: middle;\n",
       "    }\n",
       "\n",
       "    .dataframe tbody tr th {\n",
       "        vertical-align: top;\n",
       "    }\n",
       "\n",
       "    .dataframe thead th {\n",
       "        text-align: right;\n",
       "    }\n",
       "</style>\n",
       "<table border=\"1\" class=\"dataframe\">\n",
       "  <thead>\n",
       "    <tr style=\"text-align: right;\">\n",
       "      <th></th>\n",
       "      <th>case_id</th>\n",
       "      <th>case_submitter_id</th>\n",
       "      <th>project_id</th>\n",
       "      <th>age_at_index</th>\n",
       "      <th>age_is_obfuscated</th>\n",
       "      <th>cause_of_death</th>\n",
       "      <th>cause_of_death_source</th>\n",
       "      <th>country_of_residence_at_enrollment</th>\n",
       "      <th>days_to_birth</th>\n",
       "      <th>days_to_death</th>\n",
       "      <th>...</th>\n",
       "      <th>treatment_arm</th>\n",
       "      <th>treatment_dose</th>\n",
       "      <th>treatment_dose_units</th>\n",
       "      <th>treatment_effect</th>\n",
       "      <th>treatment_effect_indicator</th>\n",
       "      <th>treatment_frequency</th>\n",
       "      <th>treatment_intent_type</th>\n",
       "      <th>treatment_or_therapy</th>\n",
       "      <th>treatment_outcome</th>\n",
       "      <th>treatment_type</th>\n",
       "    </tr>\n",
       "  </thead>\n",
       "  <tbody>\n",
       "    <tr>\n",
       "      <th>count</th>\n",
       "      <td>106</td>\n",
       "      <td>106</td>\n",
       "      <td>106</td>\n",
       "      <td>106</td>\n",
       "      <td>106</td>\n",
       "      <td>106</td>\n",
       "      <td>106</td>\n",
       "      <td>106</td>\n",
       "      <td>106</td>\n",
       "      <td>106</td>\n",
       "      <td>...</td>\n",
       "      <td>106</td>\n",
       "      <td>106</td>\n",
       "      <td>106</td>\n",
       "      <td>106</td>\n",
       "      <td>106</td>\n",
       "      <td>106</td>\n",
       "      <td>106</td>\n",
       "      <td>106</td>\n",
       "      <td>106</td>\n",
       "      <td>106</td>\n",
       "    </tr>\n",
       "    <tr>\n",
       "      <th>unique</th>\n",
       "      <td>58</td>\n",
       "      <td>58</td>\n",
       "      <td>1</td>\n",
       "      <td>35</td>\n",
       "      <td>1</td>\n",
       "      <td>1</td>\n",
       "      <td>1</td>\n",
       "      <td>1</td>\n",
       "      <td>49</td>\n",
       "      <td>10</td>\n",
       "      <td>...</td>\n",
       "      <td>1</td>\n",
       "      <td>1</td>\n",
       "      <td>1</td>\n",
       "      <td>1</td>\n",
       "      <td>1</td>\n",
       "      <td>1</td>\n",
       "      <td>1</td>\n",
       "      <td>4</td>\n",
       "      <td>1</td>\n",
       "      <td>3</td>\n",
       "    </tr>\n",
       "    <tr>\n",
       "      <th>top</th>\n",
       "      <td>0030a28c-81aa-44b0-8be0-b35e1dcbf98c</td>\n",
       "      <td>TCGA-FA-A7Q1</td>\n",
       "      <td>TCGA-DLBC</td>\n",
       "      <td>'--</td>\n",
       "      <td>'--</td>\n",
       "      <td>'--</td>\n",
       "      <td>'--</td>\n",
       "      <td>'--</td>\n",
       "      <td>'--</td>\n",
       "      <td>'--</td>\n",
       "      <td>...</td>\n",
       "      <td>'--</td>\n",
       "      <td>'--</td>\n",
       "      <td>'--</td>\n",
       "      <td>'--</td>\n",
       "      <td>'--</td>\n",
       "      <td>'--</td>\n",
       "      <td>'--</td>\n",
       "      <td>yes</td>\n",
       "      <td>'--</td>\n",
       "      <td>Pharmaceutical Therapy, NOS</td>\n",
       "    </tr>\n",
       "    <tr>\n",
       "      <th>freq</th>\n",
       "      <td>2</td>\n",
       "      <td>2</td>\n",
       "      <td>106</td>\n",
       "      <td>10</td>\n",
       "      <td>106</td>\n",
       "      <td>106</td>\n",
       "      <td>106</td>\n",
       "      <td>106</td>\n",
       "      <td>10</td>\n",
       "      <td>88</td>\n",
       "      <td>...</td>\n",
       "      <td>106</td>\n",
       "      <td>106</td>\n",
       "      <td>106</td>\n",
       "      <td>106</td>\n",
       "      <td>106</td>\n",
       "      <td>106</td>\n",
       "      <td>106</td>\n",
       "      <td>51</td>\n",
       "      <td>106</td>\n",
       "      <td>48</td>\n",
       "    </tr>\n",
       "  </tbody>\n",
       "</table>\n",
       "<p>4 rows × 158 columns</p>\n",
       "</div>"
      ],
      "text/plain": [
       "                                     case_id case_submitter_id project_id  \\\n",
       "count                                    106               106        106   \n",
       "unique                                    58                58          1   \n",
       "top     0030a28c-81aa-44b0-8be0-b35e1dcbf98c      TCGA-FA-A7Q1  TCGA-DLBC   \n",
       "freq                                       2                 2        106   \n",
       "\n",
       "       age_at_index age_is_obfuscated cause_of_death cause_of_death_source  \\\n",
       "count           106               106            106                   106   \n",
       "unique           35                 1              1                     1   \n",
       "top             '--               '--            '--                   '--   \n",
       "freq             10               106            106                   106   \n",
       "\n",
       "       country_of_residence_at_enrollment days_to_birth days_to_death  ...  \\\n",
       "count                                 106           106           106  ...   \n",
       "unique                                  1            49            10  ...   \n",
       "top                                   '--           '--           '--  ...   \n",
       "freq                                  106            10            88  ...   \n",
       "\n",
       "       treatment_arm treatment_dose treatment_dose_units treatment_effect  \\\n",
       "count            106            106                  106              106   \n",
       "unique             1              1                    1                1   \n",
       "top              '--            '--                  '--              '--   \n",
       "freq             106            106                  106              106   \n",
       "\n",
       "       treatment_effect_indicator treatment_frequency treatment_intent_type  \\\n",
       "count                         106                 106                   106   \n",
       "unique                          1                   1                     1   \n",
       "top                           '--                 '--                   '--   \n",
       "freq                          106                 106                   106   \n",
       "\n",
       "       treatment_or_therapy treatment_outcome               treatment_type  \n",
       "count                   106               106                          106  \n",
       "unique                    4                 1                            3  \n",
       "top                     yes               '--  Pharmaceutical Therapy, NOS  \n",
       "freq                     51               106                           48  \n",
       "\n",
       "[4 rows x 158 columns]"
      ]
     },
     "execution_count": 10,
     "metadata": {},
     "output_type": "execute_result"
    }
   ],
   "source": [
    "df_clin.describe()"
   ]
  },
  {
   "cell_type": "markdown",
   "metadata": {},
   "source": [
    "~**Заменим значения `['--]` на `\"not reported\"` с помощью кастомной функции**~"
   ]
  },
  {
   "cell_type": "code",
   "execution_count": 13,
   "metadata": {
    "ExecuteTime": {
     "end_time": "2023-10-06T04:54:53.688090Z",
     "start_time": "2023-10-06T04:54:53.671153Z"
    }
   },
   "outputs": [],
   "source": [
    "def replace_comma_and_dash(val):\n",
    "    \"\"\"\n",
    "    Преобразует `object` значение строки в целое число:\n",
    "     - заменяет ['--] на \"not reported\"\n",
    "    \"\"\"\n",
    "    new_val = val.replace(\"'--\", \"not reported\")\n",
    "    return new_val\n"
   ]
  },
  {
   "cell_type": "code",
   "execution_count": 14,
   "metadata": {
    "ExecuteTime": {
     "end_time": "2023-10-06T04:54:55.636221Z",
     "start_time": "2023-10-06T04:54:55.628037Z"
    },
    "scrolled": false
   },
   "outputs": [],
   "source": [
    "df_clin['age_at_index'].where(~(df_clin.age_at_index == \"'--\"), other=\"not reported\", inplace=True)"
   ]
  },
  {
   "cell_type": "code",
   "execution_count": 15,
   "metadata": {
    "ExecuteTime": {
     "end_time": "2023-10-06T04:54:56.010081Z",
     "start_time": "2023-10-06T04:54:55.988302Z"
    },
    "scrolled": true
   },
   "outputs": [
    {
     "data": {
      "text/plain": [
       "0      female\n",
       "1      female\n",
       "2        male\n",
       "3        male\n",
       "4      female\n",
       "        ...  \n",
       "101      male\n",
       "102    female\n",
       "103    female\n",
       "104    female\n",
       "105    female\n",
       "Name: gender, Length: 106, dtype: object"
      ]
     },
     "execution_count": 15,
     "metadata": {},
     "output_type": "execute_result"
    }
   ],
   "source": [
    "df_clin['gender'].apply(replace_comma_and_dash)"
   ]
  },
  {
   "cell_type": "markdown",
   "metadata": {},
   "source": [
    "~_**Так как все переменные представены объектами, переведем некоторые столбцы в числовой либо строковый тип**_~"
   ]
  },
  {
   "cell_type": "code",
   "execution_count": 16,
   "metadata": {
    "ExecuteTime": {
     "end_time": "2023-10-06T04:55:00.761004Z",
     "start_time": "2023-10-06T04:55:00.623266Z"
    },
    "scrolled": true
   },
   "outputs": [
    {
     "data": {
      "text/plain": [
       "<Axes: >"
      ]
     },
     "execution_count": 16,
     "metadata": {},
     "output_type": "execute_result"
    },
    {
     "data": {
      "image/png": "[encoded data removed]",
      "text/plain": [
       "<Figure size 300x300 with 1 Axes>"
      ]
     },
     "metadata": {},
     "output_type": "display_data"
    }
   ],
   "source": [
    "df_clin['gender'].hist(figsize=(3, 3), grid=True)"
   ]
  },
  {
   "cell_type": "code",
   "execution_count": null,
   "metadata": {
    "ExecuteTime": {
     "end_time": "2023-10-06T04:44:39.885606Z",
     "start_time": "2023-10-06T04:44:39.542156Z"
    }
   },
   "outputs": [],
   "source": [
    "# df_clin['age_at_index'].hist(figsize=(10, 3), grid=True)\n",
    "# plt.axvline(x=df_clin['age_at_index'].mean(),\n",
    "#             label='mean', color='orange')\n",
    "# plt.axvline(x=df_clin['age_at_index'].median(\n",
    "# ), label='median', linestyle='--', color='red')\n",
    "# plt.axvline(x=df_clin['age_at_index'].mode(\n",
    "# )[0], label='mode', linestyle=':', color='blue')\n",
    "# plt.ylabel('quantity')\n",
    "# plt.xlabel('age_at_index')\n",
    "# plt.title('age_at_index distribution')\n",
    "# plt.legend()\n",
    "# plt.show()"
   ]
  },
  {
   "cell_type": "code",
   "execution_count": 17,
   "metadata": {
    "ExecuteTime": {
     "end_time": "2023-10-06T04:55:05.486801Z",
     "start_time": "2023-10-06T04:55:05.123161Z"
    },
    "scrolled": false
   },
   "outputs": [
    {
     "data": {
      "text/plain": [
       "<Axes: xlabel='age_at_index', ylabel='tissue_or_organ_of_origin'>"
      ]
     },
     "execution_count": 17,
     "metadata": {},
     "output_type": "execute_result"
    },
    {
     "data": {
      "image/png": "[encoded data removed]",
      "text/plain": [
       "<Figure size 1000x700 with 1 Axes>"
      ]
     },
     "metadata": {},
     "output_type": "display_data"
    }
   ],
   "source": [
    "df_clin.plot(figsize=(10, 7), x='age_at_index', y='tissue_or_organ_of_origin', kind='scatter')"
   ]
  },
  {
   "cell_type": "code",
   "execution_count": 18,
   "metadata": {
    "ExecuteTime": {
     "end_time": "2023-10-06T04:55:31.336127Z",
     "start_time": "2023-10-06T04:55:31.213165Z"
    }
   },
   "outputs": [
    {
     "data": {
      "text/plain": [
       "<Axes: >"
      ]
     },
     "execution_count": 18,
     "metadata": {},
     "output_type": "execute_result"
    },
    {
     "data": {
      "image/png": "[encoded data removed]",
      "text/plain": [
       "<Figure size 300x300 with 1 Axes>"
      ]
     },
     "metadata": {},
     "output_type": "display_data"
    }
   ],
   "source": [
    "df_clin['race'].hist(figsize=(3, 3), grid=True)"
   ]
  },
  {
   "cell_type": "markdown",
   "metadata": {},
   "source": [
    "### Выводы:\n",
    "\n",
    "Выбраны переменные:\n",
    " - race\n",
    " - age_at_index\n",
    " - tissue_or_organ_of_origin\n",
    " - gender\n",
    " \n",
    "1. Источником всех этих данных могут быть истории болезни пациентов, либо данные клинического исследования (что вероятнее).\n",
    "2. Раса, пол, и орган первоначальной локализации опухоли имеют прямую взаимосвязь с целевой переменной - тип лечения (`treatment_type`), так как эти факторы определяют тактику лечения.\n",
    "3. `age_at_index` возраст на момент внесения в индекс (? наверное так правильно переводится) имеет скорее информационное значение, на целевую переменную влияет опосредованно.\n"
   ]
  },
  {
   "cell_type": "code",
   "execution_count": null,
   "metadata": {},
   "outputs": [],
   "source": []
  },
  {
   "cell_type": "code",
   "execution_count": null,
   "metadata": {},
   "outputs": [],
   "source": []
  },
  {
   "cell_type": "markdown",
   "metadata": {
    "id": "BY2DuSBRPPzn"
   },
   "source": [
    "__*Комментарии преподавателя:*__<br>\n",
    "*Дарья Бородко・Преподаватель<br>*\n",
    "\n",
    ">*\n",
    "*\n",
    "\n",
    "~__**Исправлено**__~"
   ]
  },
  {
   "cell_type": "code",
   "execution_count": null,
   "metadata": {},
   "outputs": [],
   "source": []
  }
 ],
 "metadata": {
  "accelerator": "GPU",
  "colab": {
   "provenance": []
  },
  "gpuClass": "standard",
  "kernelspec": {
   "display_name": "Python 3 (ipykernel)",
   "language": "python",
   "name": "python3"
  },
  "language_info": {
   "codemirror_mode": {
    "name": "ipython",
    "version": 3
   },
   "file_extension": ".py",
   "mimetype": "text/x-python",
   "name": "python",
   "nbconvert_exporter": "python",
   "pygments_lexer": "ipython3",
   "version": "3.9.17"
  },
  "nbTranslate": {
   "displayLangs": [
    "*"
   ],
   "hotkey": "alt-t",
   "langInMainMenu": true,
   "sourceLang": "en",
   "targetLang": "fr",
   "useGoogleTranslate": true
  },
  "toc": {
   "base_numbering": 1,
   "nav_menu": {},
   "number_sections": false,
   "sideBar": true,
   "skip_h1_title": false,
   "title_cell": "Table of Contents",
   "title_sidebar": "Contents",
   "toc_cell": false,
   "toc_position": {},
   "toc_section_display": true,
   "toc_window_display": false
  },
  "varInspector": {
   "cols": {
    "lenName": 16,
    "lenType": 16,
    "lenVar": 40
   },
   "kernels_config": {
    "python": {
     "delete_cmd_postfix": "",
     "delete_cmd_prefix": "del ",
     "library": "var_list.py",
     "varRefreshCmd": "print(var_dic_list())"
    },
    "r": {
     "delete_cmd_postfix": ") ",
     "delete_cmd_prefix": "rm(",
     "library": "var_list.r",
     "varRefreshCmd": "cat(var_dic_list()) "
    }
   },
   "types_to_exclude": [
    "module",
    "function",
    "builtin_function_or_method",
    "instance",
    "_Feature"
   ],
   "window_display": false
  }
 },
 "nbformat": 4,
 "nbformat_minor": 1
}
