{
 "cells": [
  {
   "cell_type": "markdown",
   "metadata": {
    "id": "Z-Qpfl-1ii56"
   },
   "source": [
    "# Урок 4. Клинические исследования\n",
    "\n",
    "## Домашнее задание."
   ]
  },
  {
   "cell_type": "markdown",
   "metadata": {
    "id": "yTlJ_AAQii5_"
   },
   "source": [
    "Найти на сайте clinicaltrials.gov с помощью расширенного поиска interventional исследование, лучше 3 фазы, у которого будет доступен план статистического анализа (SAP) или протокол и результаты.\n",
    "1. Посмотреть как устроен документ\n",
    "2. Найти описание дизайна исследования - рандомизированное или нет, какое заслепление, какое показание, какие группы сравнения, сколько человек в каждой группе сравнения, есть ли стратификация и по каким признакам\n",
    "3. Найти раздел с конечными точками, разобрать каждую точку и определить ее тип - первичная/вторичная, клиническая/суррогатная\n",
    "4. Посмотреть результаты на сайте на странице исследования, определить было исследование успешным или нет.\n"
   ]
  },
  {
   "cell_type": "code",
   "execution_count": 2,
   "metadata": {
    "ExecuteTime": {
     "end_time": "2023-10-17T22:57:46.571638Z",
     "start_time": "2023-10-17T22:57:43.841516Z"
    }
   },
   "outputs": [],
   "source": [
    "import pandas as pd\n",
    "import numpy as np\n",
    "import os\n",
    "# import tarfile\n",
    "import pprint\n",
    "import seaborn as sns \n",
    "import matplotlib.pyplot as plt\n",
    "%matplotlib inline"
   ]
  },
  {
   "cell_type": "code",
   "execution_count": 3,
   "metadata": {
    "ExecuteTime": {
     "end_time": "2023-10-17T22:57:46.695584Z",
     "start_time": "2023-10-17T22:57:46.607637Z"
    },
    "scrolled": false
   },
   "outputs": [
    {
     "name": "stdout",
     "output_type": "stream",
     "text": [
      "Active code page: 65001\n"
     ]
    }
   ],
   "source": [
    "!chcp 65001"
   ]
  },
  {
   "cell_type": "code",
   "execution_count": 4,
   "metadata": {
    "ExecuteTime": {
     "end_time": "2023-10-17T22:57:46.742626Z",
     "start_time": "2023-10-17T22:57:46.728892Z"
    }
   },
   "outputs": [],
   "source": [
    "pd.set_option('display.max_rows', None)"
   ]
  },
  {
   "cell_type": "markdown",
   "metadata": {
    "id": "BY2DuSBRPPzn"
   },
   "source": [
    "__*Комментарии преподавателя:*__<br>\n",
    "*Дарья Бородко・Преподаватель<br>*\n",
    "\n",
    ">*Добрый день!  \n",
    "...*"
   ]
  },
  {
   "cell_type": "code",
   "execution_count": null,
   "metadata": {},
   "outputs": [],
   "source": []
  }
 ],
 "metadata": {
  "accelerator": "GPU",
  "colab": {
   "provenance": []
  },
  "gpuClass": "standard",
  "kernelspec": {
   "display_name": "Python 3 (ipykernel)",
   "language": "python",
   "name": "python3"
  },
  "language_info": {
   "codemirror_mode": {
    "name": "ipython",
    "version": 3
   },
   "file_extension": ".py",
   "mimetype": "text/x-python",
   "name": "python",
   "nbconvert_exporter": "python",
   "pygments_lexer": "ipython3",
   "version": "3.9.17"
  },
  "nbTranslate": {
   "displayLangs": [
    "*"
   ],
   "hotkey": "alt-t",
   "langInMainMenu": true,
   "sourceLang": "en",
   "targetLang": "fr",
   "useGoogleTranslate": true
  },
  "toc": {
   "base_numbering": 1,
   "nav_menu": {},
   "number_sections": false,
   "sideBar": true,
   "skip_h1_title": false,
   "title_cell": "Table of Contents",
   "title_sidebar": "Contents",
   "toc_cell": false,
   "toc_position": {},
   "toc_section_display": true,
   "toc_window_display": false
  },
  "varInspector": {
   "cols": {
    "lenName": 16,
    "lenType": 16,
    "lenVar": 40
   },
   "kernels_config": {
    "python": {
     "delete_cmd_postfix": "",
     "delete_cmd_prefix": "del ",
     "library": "var_list.py",
     "varRefreshCmd": "print(var_dic_list())"
    },
    "r": {
     "delete_cmd_postfix": ") ",
     "delete_cmd_prefix": "rm(",
     "library": "var_list.r",
     "varRefreshCmd": "cat(var_dic_list()) "
    }
   },
   "types_to_exclude": [
    "module",
    "function",
    "builtin_function_or_method",
    "instance",
    "_Feature"
   ],
   "window_display": false
  }
 },
 "nbformat": 4,
 "nbformat_minor": 1
}
