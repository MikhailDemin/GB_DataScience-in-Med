{
 "cells": [
  {
   "cell_type": "markdown",
   "metadata": {
    "id": "Z-Qpfl-1ii56"
   },
   "source": [
    "# Урок 6\n",
    "\n",
    "## Домашнее задание.\n",
    "Проект по итогам курса\n",
    "По итогу занятий 1, 2, 3 и 4 у вас должна получиться таблица с данными об одном гене. Используя полученную информацию, проанализируйте её, проведите описательную статистику, постройте графики и прочее.\n",
    "\n",
    "Чтобы посмотреть пример работы, обратитесь к разделу 4 на kaggle.com. Полученные результаты предоставляются в формате .ipynb.\n",
    "\n",
    "1. Оценить частоту мутаций в популяциях по выбранному гену.\n",
    "2. Оценить частоту мутаций в разрезе связанных заболеваний."
   ]
  },
  {
   "cell_type": "markdown",
   "metadata": {
    "id": "I3ZosTT3ii6A"
   },
   "source": [
    "## Задание выполнено командой M4 Team.\n",
    "__Состав команды:__  \n",
    " - Мгер Парунакян\n",
    " - Михаил Демин\n",
    " - Марат Закиров\n",
    " - Марина Дружинина"
   ]
  },
  {
   "cell_type": "code",
   "execution_count": 1,
   "metadata": {
    "colab": {
     "base_uri": "https://localhost:8080/"
    },
    "executionInfo": {
     "elapsed": 13719,
     "status": "ok",
     "timestamp": 1680881812684,
     "user": {
      "displayName": "Михаил Демин",
      "userId": "14250540086915616791"
     },
     "user_tz": -600
    },
    "id": "XZ63CTvQyqdD",
    "outputId": "1e0a7bcb-2791-422b-b18d-31a827684418"
   },
   "outputs": [
    {
     "name": "stdout",
     "output_type": "stream",
     "text": [
      "Looking in indexes: https://pypi.org/simple, https://us-python.pkg.dev/colab-wheels/public/simple/\n",
      "Collecting biopython\n",
      "  Downloading biopython-1.81-cp39-cp39-manylinux_2_17_x86_64.manylinux2014_x86_64.whl (3.1 MB)\n",
      "\u001b[2K     \u001b[90m━━━━━━━━━━━━━━━━━━━━━━━━━━━━━━━━━━━━━━━━\u001b[0m \u001b[32m3.1/3.1 MB\u001b[0m \u001b[31m30.9 MB/s\u001b[0m eta \u001b[36m0:00:00\u001b[0m\n",
      "\u001b[?25hRequirement already satisfied: numpy in /usr/local/lib/python3.9/dist-packages (from biopython) (1.22.4)\n",
      "Installing collected packages: biopython\n",
      "Successfully installed biopython-1.81\n"
     ]
    }
   ],
   "source": [
    "!pip install biopython\n",
    "from Bio import Entrez\n",
    "Entrez.email = \"A.N.Other@example.com\"\n",
    "from Bio import SeqIO\n",
    "from Bio.Seq import Seq\n",
    "from Bio.SeqRecord import SeqRecord\n",
    "import pandas as pd\n",
    "import xml.etree.ElementTree as ET\n",
    "from pprint import pprint\n",
    "\n",
    "import pandas as pd\n",
    "import matplotlib.pyplot as plt"
   ]
  },
  {
   "cell_type": "code",
   "execution_count": 2,
   "metadata": {
    "colab": {
     "base_uri": "https://localhost:8080/"
    },
    "executionInfo": {
     "elapsed": 27608,
     "status": "ok",
     "timestamp": 1680881843526,
     "user": {
      "displayName": "Михаил Демин",
      "userId": "14250540086915616791"
     },
     "user_tz": -600
    },
    "id": "lNBIKfd5Fz-b",
    "outputId": "00db82e9-29f8-4e67-8b1f-24eab25606ce"
   },
   "outputs": [
    {
     "name": "stdout",
     "output_type": "stream",
     "text": [
      "Mounted at /content/drive\n"
     ]
    }
   ],
   "source": [
    "from google.colab import drive\n",
    "drive.mount('/content/drive')"
   ]
  },
  {
   "cell_type": "code",
   "execution_count": 3,
   "metadata": {
    "colab": {
     "base_uri": "https://localhost:8080/"
    },
    "executionInfo": {
     "elapsed": 694,
     "status": "ok",
     "timestamp": 1680881844217,
     "user": {
      "displayName": "Михаил Демин",
      "userId": "14250540086915616791"
     },
     "user_tz": -600
    },
    "id": "9EukPU1Fuhvk",
    "outputId": "422b7763-dca2-41d7-b0c5-db756b6af515"
   },
   "outputs": [
    {
     "name": "stdout",
     "output_type": "stream",
     "text": [
      "/content/drive/MyDrive/Colab Notebooks/GB/19_6_files\n"
     ]
    }
   ],
   "source": [
    "%cd '/content/drive/MyDrive/Colab Notebooks/GB/19_6_files'"
   ]
  },
  {
   "cell_type": "markdown",
   "metadata": {
    "id": "OOzleGY1k0Jt"
   },
   "source": [
    "### Получаем список генов по наименованию болезни из базы NCBI"
   ]
  },
  {
   "cell_type": "code",
   "execution_count": 4,
   "metadata": {
    "executionInfo": {
     "elapsed": 6,
     "status": "ok",
     "timestamp": 1680881848463,
     "user": {
      "displayName": "Михаил Демин",
      "userId": "14250540086915616791"
     },
     "user_tz": -600
    },
    "id": "mMvv-Sj5jYNA"
   },
   "outputs": [],
   "source": [
    "def get_genes_by_disease(disease, retmax):\n",
    "  disease_name = disease #Вносим название болезни во внутреннюю переменную\n",
    "  handle = Entrez.esearch(db=\"gene\", term=disease_name, retmax = retmax) #'retmax' Ограничиваем количество генов для вывода\n",
    "  record = Entrez.read(handle)\n",
    "  gene_ids = record[\"IdList\"]\n",
    "  return gene_ids"
   ]
  },
  {
   "cell_type": "code",
   "execution_count": 6,
   "metadata": {
    "executionInfo": {
     "elapsed": 3,
     "status": "ok",
     "timestamp": 1680881850656,
     "user": {
      "displayName": "Михаил Демин",
      "userId": "14250540086915616791"
     },
     "user_tz": -600
    },
    "id": "X80ZMgYV-2S4"
   },
   "outputs": [],
   "source": [
    "#Запрашиваем ID хромосомы из NCBI через параметр 'gi_id'.\n",
    "#Эта процедура применяется в общей процедуре сбора информации по генам(см. ячейку ниже)\n",
    "def search_chromosome(gi_id):\n",
    "    handle = Entrez.esummary(db=\"nucleotide\", id=gi_id)\n",
    "    record = Entrez.read(handle)\n",
    "    handle.close()\n",
    "    return record[0]['AccessionVersion']"
   ]
  },
  {
   "cell_type": "code",
   "execution_count": 7,
   "metadata": {
    "executionInfo": {
     "elapsed": 9,
     "status": "ok",
     "timestamp": 1680881851229,
     "user": {
      "displayName": "Михаил Демин",
      "userId": "14250540086915616791"
     },
     "user_tz": -600
    },
    "id": "30yxn2fNzpHA"
   },
   "outputs": [],
   "source": [
    "# Поиск в базе по имени гена\n",
    "def search_gene_name(gene_id):\n",
    "  handle = Entrez.esummary(db=\"gene\", id=gene_id)\n",
    "  record = Entrez.read(handle)\n",
    "  handle.close()\n",
    "  return record['DocumentSummarySet']['DocumentSummary'][0]['Name']"
   ]
  },
  {
   "cell_type": "code",
   "execution_count": 8,
   "metadata": {
    "executionInfo": {
     "elapsed": 9,
     "status": "ok",
     "timestamp": 1680881851230,
     "user": {
      "displayName": "Михаил Демин",
      "userId": "14250540086915616791"
     },
     "user_tz": -600
    },
    "id": "F6SmYrW__gL0"
   },
   "outputs": [],
   "source": [
    "#Получаем из NCBI информацию о генах из списка 'gene_id_list', в том числе ID хромосомы.\n",
    "def get_gene_info(gene_id_list):\n",
    "  gene_info = []\n",
    "  for gene_id in gene_id_list:\n",
    "    handle = Entrez.efetch(db=\"gene\", id=gene_id, rettype = 'xml')\n",
    "    gene_locus = ET.parse(handle).getroot().find(\"Entrezgene/Entrezgene_locus\")\n",
    "    region = gene_locus.find(\"Gene-commentary/Gene-commentary_seqs/Seq-loc/Seq-loc_int/Seq-interval\")\n",
    "    start = int(region.find(\"Seq-interval_from\").text) + 1\n",
    "    end = int(region.find(\"Seq-interval_to\").text) + 1\n",
    "    gi_id = region.find(\"Seq-interval_id/Seq-id/Seq-id_gi\").text\n",
    "    strand = region.find(\"Seq-interval_strand/Na-strand\").get(\"value\")\n",
    "    # print(gene_id, start, end, gi_id, strand)\n",
    "    gene_info.append({'gene_name':search_gene_name(gene_id), 'gene_id':gene_id, 'interval_from':start, 'interval_to':end, 'gi_id':gi_id, 'nucleotide':search_chromosome(gi_id), 'strand':strand})\n",
    "  return gene_info"
   ]
  },
  {
   "cell_type": "code",
   "execution_count": 9,
   "metadata": {
    "colab": {
     "base_uri": "https://localhost:8080/"
    },
    "executionInfo": {
     "elapsed": 88538,
     "status": "ok",
     "timestamp": 1680881939760,
     "user": {
      "displayName": "Михаил Демин",
      "userId": "14250540086915616791"
     },
     "user_tz": -600
    },
    "id": "fk1qICcgvxe5",
    "outputId": "fd52e92a-8188-40d2-d71e-1fb3e1fc7e91"
   },
   "outputs": [
    {
     "name": "stdout",
     "output_type": "stream",
     "text": [
      "CPU times: user 1.02 s, sys: 95.5 ms, total: 1.11 s\n",
      "Wall time: 1min 28s\n"
     ]
    }
   ],
   "source": [
    "%%time\n",
    "gene_id_list = get_genes_by_disease('Apert syndrome', 30)\n",
    "gene_list = get_gene_info(gene_id_list)"
   ]
  },
  {
   "cell_type": "code",
   "execution_count": 10,
   "metadata": {
    "executionInfo": {
     "elapsed": 15,
     "status": "ok",
     "timestamp": 1680881939761,
     "user": {
      "displayName": "Михаил Демин",
      "userId": "14250540086915616791"
     },
     "user_tz": -600
    },
    "id": "0f-YICuW2Glf"
   },
   "outputs": [],
   "source": [
    "#Предоставляем список генов в виде таблицы\n",
    "df = pd.DataFrame(gene_list)\n",
    "df['accession'] = df['nucleotide'].apply(lambda x: x.split('.')[0])\n",
    "df['version'] = df['nucleotide'].apply(lambda x: x.split('.')[1])"
   ]
  },
  {
   "cell_type": "code",
   "execution_count": 11,
   "metadata": {
    "colab": {
     "base_uri": "https://localhost:8080/",
     "height": 331
    },
    "executionInfo": {
     "elapsed": 15,
     "status": "ok",
     "timestamp": 1680881939762,
     "user": {
      "displayName": "Михаил Демин",
      "userId": "14250540086915616791"
     },
     "user_tz": -600
    },
    "id": "eH52ap1V_JIp",
    "outputId": "a0d39d00-f864-409b-d0e3-3ea7d0292cf6"
   },
   "outputs": [
    {
     "data": {
      "text/html": [
       "\n",
       "  <div id=\"df-a64d3135-c7c8-48e8-9739-bb813c2eb86b\">\n",
       "    <div class=\"colab-df-container\">\n",
       "      <div>\n",
       "<style scoped>\n",
       "    .dataframe tbody tr th:only-of-type {\n",
       "        vertical-align: middle;\n",
       "    }\n",
       "\n",
       "    .dataframe tbody tr th {\n",
       "        vertical-align: top;\n",
       "    }\n",
       "\n",
       "    .dataframe thead th {\n",
       "        text-align: right;\n",
       "    }\n",
       "</style>\n",
       "<table border=\"1\" class=\"dataframe\">\n",
       "  <thead>\n",
       "    <tr style=\"text-align: right;\">\n",
       "      <th></th>\n",
       "      <th>0</th>\n",
       "      <th>1</th>\n",
       "      <th>2</th>\n",
       "      <th>3</th>\n",
       "      <th>4</th>\n",
       "      <th>5</th>\n",
       "      <th>6</th>\n",
       "      <th>7</th>\n",
       "    </tr>\n",
       "  </thead>\n",
       "  <tbody>\n",
       "    <tr>\n",
       "      <th>gene_name</th>\n",
       "      <td>FGFR2</td>\n",
       "      <td>Tnfsf11</td>\n",
       "      <td>Fgfr2</td>\n",
       "      <td>Fgf10</td>\n",
       "      <td>Pin1</td>\n",
       "      <td>Lrp5</td>\n",
       "      <td>Lrp6</td>\n",
       "      <td>FGF10</td>\n",
       "    </tr>\n",
       "    <tr>\n",
       "      <th>gene_id</th>\n",
       "      <td>2263</td>\n",
       "      <td>21943</td>\n",
       "      <td>14183</td>\n",
       "      <td>14165</td>\n",
       "      <td>23988</td>\n",
       "      <td>16973</td>\n",
       "      <td>16974</td>\n",
       "      <td>2255</td>\n",
       "    </tr>\n",
       "    <tr>\n",
       "      <th>interval_from</th>\n",
       "      <td>121478330</td>\n",
       "      <td>78514886</td>\n",
       "      <td>129764181</td>\n",
       "      <td>118851235</td>\n",
       "      <td>20563335</td>\n",
       "      <td>3634825</td>\n",
       "      <td>134423439</td>\n",
       "      <td>44300247</td>\n",
       "    </tr>\n",
       "    <tr>\n",
       "      <th>interval_to</th>\n",
       "      <td>121598458</td>\n",
       "      <td>78545483</td>\n",
       "      <td>129868538</td>\n",
       "      <td>118929109</td>\n",
       "      <td>20575008</td>\n",
       "      <td>3736574</td>\n",
       "      <td>134543876</td>\n",
       "      <td>44389420</td>\n",
       "    </tr>\n",
       "    <tr>\n",
       "      <th>gi_id</th>\n",
       "      <td>568815588</td>\n",
       "      <td>1877089955</td>\n",
       "      <td>1877089962</td>\n",
       "      <td>1877089956</td>\n",
       "      <td>1877089960</td>\n",
       "      <td>1877089950</td>\n",
       "      <td>1877089963</td>\n",
       "      <td>568815593</td>\n",
       "    </tr>\n",
       "    <tr>\n",
       "      <th>nucleotide</th>\n",
       "      <td>NC_000010.11</td>\n",
       "      <td>NC_000080.7</td>\n",
       "      <td>NC_000073.7</td>\n",
       "      <td>NC_000079.7</td>\n",
       "      <td>NC_000075.7</td>\n",
       "      <td>NC_000085.7</td>\n",
       "      <td>NC_000072.7</td>\n",
       "      <td>NC_000005.10</td>\n",
       "    </tr>\n",
       "    <tr>\n",
       "      <th>strand</th>\n",
       "      <td>minus</td>\n",
       "      <td>minus</td>\n",
       "      <td>minus</td>\n",
       "      <td>plus</td>\n",
       "      <td>plus</td>\n",
       "      <td>minus</td>\n",
       "      <td>minus</td>\n",
       "      <td>minus</td>\n",
       "    </tr>\n",
       "    <tr>\n",
       "      <th>accession</th>\n",
       "      <td>NC_000010</td>\n",
       "      <td>NC_000080</td>\n",
       "      <td>NC_000073</td>\n",
       "      <td>NC_000079</td>\n",
       "      <td>NC_000075</td>\n",
       "      <td>NC_000085</td>\n",
       "      <td>NC_000072</td>\n",
       "      <td>NC_000005</td>\n",
       "    </tr>\n",
       "    <tr>\n",
       "      <th>version</th>\n",
       "      <td>11</td>\n",
       "      <td>7</td>\n",
       "      <td>7</td>\n",
       "      <td>7</td>\n",
       "      <td>7</td>\n",
       "      <td>7</td>\n",
       "      <td>7</td>\n",
       "      <td>10</td>\n",
       "    </tr>\n",
       "  </tbody>\n",
       "</table>\n",
       "</div>\n",
       "      <button class=\"colab-df-convert\" onclick=\"convertToInteractive('df-a64d3135-c7c8-48e8-9739-bb813c2eb86b')\"\n",
       "              title=\"Convert this dataframe to an interactive table.\"\n",
       "              style=\"display:none;\">\n",
       "        \n",
       "  <svg xmlns=\"http://www.w3.org/2000/svg\" height=\"24px\"viewBox=\"0 0 24 24\"\n",
       "       width=\"24px\">\n",
       "    <path d=\"M0 0h24v24H0V0z\" fill=\"none\"/>\n",
       "    <path d=\"M18.56 5.44l.94 2.06.94-2.06 2.06-.94-2.06-.94-.94-2.06-.94 2.06-2.06.94zm-11 1L8.5 8.5l.94-2.06 2.06-.94-2.06-.94L8.5 2.5l-.94 2.06-2.06.94zm10 10l.94 2.06.94-2.06 2.06-.94-2.06-.94-.94-2.06-.94 2.06-2.06.94z\"/><path d=\"M17.41 7.96l-1.37-1.37c-.4-.4-.92-.59-1.43-.59-.52 0-1.04.2-1.43.59L10.3 9.45l-7.72 7.72c-.78.78-.78 2.05 0 2.83L4 21.41c.39.39.9.59 1.41.59.51 0 1.02-.2 1.41-.59l7.78-7.78 2.81-2.81c.8-.78.8-2.07 0-2.86zM5.41 20L4 18.59l7.72-7.72 1.47 1.35L5.41 20z\"/>\n",
       "  </svg>\n",
       "      </button>\n",
       "      \n",
       "  <style>\n",
       "    .colab-df-container {\n",
       "      display:flex;\n",
       "      flex-wrap:wrap;\n",
       "      gap: 12px;\n",
       "    }\n",
       "\n",
       "    .colab-df-convert {\n",
       "      background-color: #E8F0FE;\n",
       "      border: none;\n",
       "      border-radius: 50%;\n",
       "      cursor: pointer;\n",
       "      display: none;\n",
       "      fill: #1967D2;\n",
       "      height: 32px;\n",
       "      padding: 0 0 0 0;\n",
       "      width: 32px;\n",
       "    }\n",
       "\n",
       "    .colab-df-convert:hover {\n",
       "      background-color: #E2EBFA;\n",
       "      box-shadow: 0px 1px 2px rgba(60, 64, 67, 0.3), 0px 1px 3px 1px rgba(60, 64, 67, 0.15);\n",
       "      fill: #174EA6;\n",
       "    }\n",
       "\n",
       "    [theme=dark] .colab-df-convert {\n",
       "      background-color: #3B4455;\n",
       "      fill: #D2E3FC;\n",
       "    }\n",
       "\n",
       "    [theme=dark] .colab-df-convert:hover {\n",
       "      background-color: #434B5C;\n",
       "      box-shadow: 0px 1px 3px 1px rgba(0, 0, 0, 0.15);\n",
       "      filter: drop-shadow(0px 1px 2px rgba(0, 0, 0, 0.3));\n",
       "      fill: #FFFFFF;\n",
       "    }\n",
       "  </style>\n",
       "\n",
       "      <script>\n",
       "        const buttonEl =\n",
       "          document.querySelector('#df-a64d3135-c7c8-48e8-9739-bb813c2eb86b button.colab-df-convert');\n",
       "        buttonEl.style.display =\n",
       "          google.colab.kernel.accessAllowed ? 'block' : 'none';\n",
       "\n",
       "        async function convertToInteractive(key) {\n",
       "          const element = document.querySelector('#df-a64d3135-c7c8-48e8-9739-bb813c2eb86b');\n",
       "          const dataTable =\n",
       "            await google.colab.kernel.invokeFunction('convertToInteractive',\n",
       "                                                     [key], {});\n",
       "          if (!dataTable) return;\n",
       "\n",
       "          const docLinkHtml = 'Like what you see? Visit the ' +\n",
       "            '<a target=\"_blank\" href=https://colab.research.google.com/notebooks/data_table.ipynb>data table notebook</a>'\n",
       "            + ' to learn more about interactive tables.';\n",
       "          element.innerHTML = '';\n",
       "          dataTable['output_type'] = 'display_data';\n",
       "          await google.colab.output.renderOutput(dataTable, element);\n",
       "          const docLink = document.createElement('div');\n",
       "          docLink.innerHTML = docLinkHtml;\n",
       "          element.appendChild(docLink);\n",
       "        }\n",
       "      </script>\n",
       "    </div>\n",
       "  </div>\n",
       "  "
      ],
      "text/plain": [
       "                          0            1            2            3  \\\n",
       "gene_name             FGFR2      Tnfsf11        Fgfr2        Fgf10   \n",
       "gene_id                2263        21943        14183        14165   \n",
       "interval_from     121478330     78514886    129764181    118851235   \n",
       "interval_to       121598458     78545483    129868538    118929109   \n",
       "gi_id             568815588   1877089955   1877089962   1877089956   \n",
       "nucleotide     NC_000010.11  NC_000080.7  NC_000073.7  NC_000079.7   \n",
       "strand                minus        minus        minus         plus   \n",
       "accession         NC_000010    NC_000080    NC_000073    NC_000079   \n",
       "version                  11            7            7            7   \n",
       "\n",
       "                         4            5            6             7  \n",
       "gene_name             Pin1         Lrp5         Lrp6         FGF10  \n",
       "gene_id              23988        16973        16974          2255  \n",
       "interval_from     20563335      3634825    134423439      44300247  \n",
       "interval_to       20575008      3736574    134543876      44389420  \n",
       "gi_id           1877089960   1877089950   1877089963     568815593  \n",
       "nucleotide     NC_000075.7  NC_000085.7  NC_000072.7  NC_000005.10  \n",
       "strand                plus        minus        minus         minus  \n",
       "accession        NC_000075    NC_000085    NC_000072     NC_000005  \n",
       "version                  7            7            7            10  "
      ]
     },
     "execution_count": 11,
     "metadata": {},
     "output_type": "execute_result"
    }
   ],
   "source": [
    "df.T"
   ]
  },
  {
   "cell_type": "code",
   "execution_count": 12,
   "metadata": {
    "executionInfo": {
     "elapsed": 8,
     "status": "ok",
     "timestamp": 1680881939762,
     "user": {
      "displayName": "Михаил Демин",
      "userId": "14250540086915616791"
     },
     "user_tz": -600
    },
    "id": "uqFc19oidpm4"
   },
   "outputs": [],
   "source": [
    "#Получаем нуклеотидную последовательность гена. Параметры берем из 'gene_list'\n",
    "def get_dna_sequence(gene_seq_keys_list):\n",
    "  gene_seq_list = []\n",
    "  for nucleotid in gene_seq_keys_list:\n",
    "    nucleotid_id = nucleotid['nucleotide']\n",
    "    start = nucleotid['interval_from']\n",
    "    end = nucleotid['interval_to']\n",
    "    handle = Entrez.efetch(db=\"nucleotide\",\n",
    "                        id=nucleotid_id, \n",
    "                        rettype = 'fasta',\n",
    "                        retmode = 'text')\n",
    "    #загружаем нуклеотидную последовательность хромосомы\n",
    "    chromosome = SeqIO.read(handle, 'fasta')\n",
    "    gene_seq = chromosome.seq[start:end]\n",
    "    gene_seq_list.append({'Gene ID': nucleotid[\"gene_id\"], 'gen_seq': gene_seq})\n",
    "  return gene_seq_list"
   ]
  },
  {
   "cell_type": "code",
   "execution_count": 13,
   "metadata": {
    "colab": {
     "base_uri": "https://localhost:8080/"
    },
    "executionInfo": {
     "elapsed": 215311,
     "status": "ok",
     "timestamp": 1680882155066,
     "user": {
      "displayName": "Михаил Демин",
      "userId": "14250540086915616791"
     },
     "user_tz": -600
    },
    "id": "fdNoa_t8hBRu",
    "outputId": "dfca2639-67d0-4c91-991a-1ee3e367db5e"
   },
   "outputs": [
    {
     "name": "stdout",
     "output_type": "stream",
     "text": [
      "[{'Gene ID': '2263',\n",
      "  'gen_seq': Seq('ATTAAAAAAATAAGTTGCGTGACATTTATTTTGTCTTGTTAACATTAATATCTG...GCC')},\n",
      " {'Gene ID': '21943',\n",
      "  'gen_seq': Seq('AGGTTTTCGTACAAATTTATTTTTTGTACCAAAAAATTAACATTCAGAGACAAT...GGC')},\n",
      " {'Gene ID': '14183',\n",
      "  'gen_seq': Seq('TAAAAAAATAAGCTGCGTGACATTTATTTTGTCTTGTTAACATTAATATCTGTA...ATC')},\n",
      " {'Gene ID': '14165',\n",
      "  'gen_seq': Seq('GCTTTCCAAGGGACTTGGAGGTGGAGAGAAGGGCCCAACAAAACGCCAGCCGCC...AGT')},\n",
      " {'Gene ID': '23988',\n",
      "  'gen_seq': Seq('CCAATTGGCGTTTCTATTGGACGAGCCAATCACCAGCGGCGCTGCTCTGGCGCG...TTA')},\n",
      " {'Gene ID': '16973',\n",
      "  'gen_seq': Seq('GGTATGTTTTAAAAAATTAAGTTTATAAATATTTTCTCCACTGTACAAAGTTTT...GAG')},\n",
      " {'Gene ID': '16974',\n",
      "  'gen_seq': Seq('TTTCATTTTTTCCACTGATTTTTCCACTGTTTTATTATAAAAATCAACATTTCA...GCC')},\n",
      " {'Gene ID': '2255',\n",
      "  'gen_seq': Seq('TTTTTTCTGTTTTTTTTTTATTTTACACTTAAACAATGAATGACATCAGGGTTT...GTC')}]\n",
      "CPU times: user 10.4 s, sys: 3.11 s, total: 13.5 s\n",
      "Wall time: 3min 34s\n"
     ]
    }
   ],
   "source": [
    "%%time\n",
    "gene_seq_list = get_dna_sequence(gene_list)\n",
    "pprint(gene_seq_list)"
   ]
  },
  {
   "cell_type": "code",
   "execution_count": 14,
   "metadata": {
    "colab": {
     "base_uri": "https://localhost:8080/"
    },
    "executionInfo": {
     "elapsed": 5304,
     "status": "ok",
     "timestamp": 1680882160335,
     "user": {
      "displayName": "Михаил Демин",
      "userId": "14250540086915616791"
     },
     "user_tz": -600
    },
    "id": "pdgXQllIUzp5",
    "outputId": "b441d2a5-e261-42bc-a228-b8a37d094aaa"
   },
   "outputs": [
    {
     "data": {
      "text/plain": [
       "96"
      ]
     },
     "execution_count": 14,
     "metadata": {},
     "output_type": "execute_result"
    }
   ],
   "source": [
    "# Получаем информацию из базы данных SNP для гена FGFR2\n",
    "gene_name = \"FGFR2\"\n",
    "org = \"homo sapiens\"\n",
    "# search ClinVar for variants in the gene\n",
    "handle = Entrez.esearch(db=\"snp\", term=f\"{gene_name}[Gene Name]  AND {org}[Organism] AND (pathogenic[Clinical_Significance] OR likely pathogenic[Clinical_Significance] OR pathogenic likely pathogenic[Clinical_Significance])\", retmax=100)\n",
    "# handle = Entrez.esearch(db=\"snp\", term=f\"{gene_name}[Gene Name]  AND {org}[Organism]\", retmax=60000)\n",
    "record = Entrez.read(handle)\n",
    "handle.close()\n",
    "rs_list = record['IdList']\n",
    "len(rs_list)"
   ]
  },
  {
   "cell_type": "code",
   "execution_count": 15,
   "metadata": {
    "executionInfo": {
     "elapsed": 35,
     "status": "ok",
     "timestamp": 1680882160336,
     "user": {
      "displayName": "Михаил Демин",
      "userId": "14250540086915616791"
     },
     "user_tz": -600
    },
    "id": "twT9ymLjfOE-"
   },
   "outputs": [],
   "source": [
    "# Получаем информацию по каждой мутации из списка\n",
    "def get_snp_rs_info(rs_list):\n",
    "  snp_rs_info = []\n",
    "  for k, i in enumerate(rs_list):\n",
    "    print(f'\\r{k} ' , end='')\n",
    "    handle = Entrez.esearch(db=\"snp\", term=\"rs\" + i, format='gb')\n",
    "    #handle = Entrez.efetch(db=\"snp\", id=\"rs\" + i)\n",
    "    record = Entrez.read(handle)\n",
    "    handle.close()\n",
    "    idlist = record[\"IdList\"]\n",
    "    \n",
    "    if len(idlist) > 0:\n",
    "        handle = Entrez.esummary(db=\"snp\", id=\",\".join(idlist))\n",
    "        result = Entrez.read(handle)\n",
    "        handle.close()\n",
    "        snp_info = result['DocumentSummarySet']['DocumentSummary'][0]\n",
    "        snp_rs_info.append({key: snp_info[key] for key in snp_info.keys()})\n",
    "        # snp_rs_info.append({'SNP_ID':f\"rs{snp_info['SNP_ID']}\", 'GENES':snp_info['GENES'], 'ACC':snp_info['ACC'], 'SPDI':snp_info['SPDI'], 'ALLELE':\" > \".join(snp_info['SPDI'].split(':')[2:]), 'CLINICAL_SIGNIFICANCE':snp_info['CLINICAL_SIGNIFICANCE'], 'CLINICAL_SORT':snp_info['CLINICAL_SORT']})\n",
    "  return snp_rs_info"
   ]
  },
  {
   "cell_type": "code",
   "execution_count": 16,
   "metadata": {
    "colab": {
     "base_uri": "https://localhost:8080/"
    },
    "executionInfo": {
     "elapsed": 4700,
     "status": "ok",
     "timestamp": 1680882165002,
     "user": {
      "displayName": "Михаил Демин",
      "userId": "14250540086915616791"
     },
     "user_tz": -600
    },
    "id": "hZSkaAcqk4Vg",
    "outputId": "d364a477-f391-40b8-a372-16d44f0b4ac5"
   },
   "outputs": [
    {
     "name": "stdout",
     "output_type": "stream",
     "text": [
      "{'Count': '1', 'RetMax': '1', 'RetStart': '0', 'IdList': ['77543610'], 'TranslationSet': [], 'TranslationStack': [{'Term': 'rs77543610[All Fields]', 'Field': 'All Fields', 'Count': '1', 'Explode': 'N'}, 'GROUP'], 'QueryTranslation': 'rs77543610[All Fields]'}\n",
      "{'DocumentSummarySet': {'DbBuild': 'Build221118-1625.1',\n",
      "                        'DocumentSummary': [{'ACC': 'NC_000010.11',\n",
      "                                             'ALLELE': 'V',\n",
      "                                             'ALLELE_ORIGIN': '',\n",
      "                                             'CHR': '10',\n",
      "                                             'CHRPOS': '10:121520160',\n",
      "                                             'CHRPOS_PREV_ASSM': '10:123279674',\n",
      "                                             'CHRPOS_SORT': '0121520160',\n",
      "                                             'CITED_SORT': '',\n",
      "                                             'CLINICAL_SIGNIFICANCE': 'likely-pathogenic,uncertain-significance,pathogenic',\n",
      "                                             'CLINICAL_SORT': '1',\n",
      "                                             'CREATEDATE': '2009/12/01 15:45',\n",
      "                                             'DOCSUM': 'HGVS=NC_000010.11:g.121520160G>A,NC_000010.11:g.121520160G>C,NC_000010.10:g.123279674G>A,NC_000010.10:g.123279674G>C,NG_012449.2:g.83299C>T,NG_012449.2:g.83299C>G,NM_000141.5:c.758C>T,NM_000141.5:c.758C>G,NM_000141.4:c.758C>T,NM_000141.4:c.758C>G,NM_022970.3:c.758C>T,NM_022970.3:c.758C>G,NM_001320658.2:c.758C>T,NM_001320658.2:c.758C>G,NM_001320658.1:c.758C>T,NM_001320658.1:c.758C>G,NR_073009.2:n.1046C>T,NR_073009.2:n.1046C>G,NR_073009.1:n.1060C>T,NR_073009.1:n.1060C>G,NM_001144917.2:c.758C>T,NM_001144917.2:c.758C>G,NM_001144917.1:c.758C>T,NM_001144917.1:c.758C>G,NM_001144918.2:c.413C>T,NM_001144918.2:c.413C>G,NM_001144918.1:c.413C>T,NM_001144918.1:c.413C>G,NM_001144916.2:c.413C>T,NM_001144916.2:c.413C>G,NM_001144916.1:c.413C>T,NM_001144916.1:c.413C>G,NM_001320654.2:c.74C>T,NM_001320654.2:c.74C>G,NM_001320654.1:c.74C>T,NM_001320654.1:c.74C>G,NM_023029.2:c.491C>T,NM_023029.2:c.491C>G,NM_001144915.2:c.491C>T,NM_001144915.2:c.491C>G,NM_001144915.1:c.491C>T,NM_001144915.1:c.491C>G,NM_001144919.2:c.491C>T,NM_001144919.2:c.491C>G,NM_001144919.1:c.491C>T,NM_001144919.1:c.491C>G,NM_001144913.1:c.758C>T,NM_001144913.1:c.758C>G,XM_006717710.5:c.815C>T,XM_006717710.5:c.815C>G,XM_006717710.4:c.815C>T,XM_006717710.4:c.815C>G,XM_006717710.3:c.815C>T,XM_006717710.3:c.815C>G,XM_006717710.2:c.815C>T,XM_006717710.2:c.815C>G,XM_006717710.1:c.815C>T,XM_006717710.1:c.815C>G,XM_006717708.4:c.815C>T,XM_006717708.4:c.815C>G,XM_006717708.3:c.815C>T,XM_006717708.3:c.815C>G,XM_006717708.2:c.815C>T,XM_006717708.2:c.815C>G,XM_006717708.1:c.815C>T,XM_006717708.1:c.815C>G,XM_017015920.3:c.815C>T,XM_017015920.3:c.815C>G,XM_017015920.2:c.815C>T,XM_017015920.2:c.815C>G,XM_017015920.1:c.815C>T,XM_017015920.1:c.815C>G,XM_017015921.3:c.815C>T,XM_017015921.3:c.815C>G,XM_017015921.2:c.815C>T,XM_017015921.2:c.815C>G,XM_017015921.1:c.815C>T,XM_017015921.1:c.815C>G,XM_017015925.3:c.470C>T,XM_017015925.3:c.470C>G,XM_017015925.2:c.470C>T,XM_017015925.2:c.470C>G,XM_017015925.1:c.470C>T,XM_017015925.1:c.470C>G,XM_017015924.3:c.470C>T,XM_017015924.3:c.470C>G,XM_017015924.2:c.470C>T,XM_017015924.2:c.470C>G,XM_017015924.1:c.470C>T,XM_017015924.1:c.470C>G,XM_024447890.2:c.548C>T,XM_024447890.2:c.548C>G,XM_024447890.1:c.548C>T,XM_024447890.1:c.548C>G,XM_024447887.2:c.548C>T,XM_024447887.2:c.548C>G,XM_024447887.1:c.548C>T,XM_024447887.1:c.548C>G,XM_024447888.2:c.548C>T,XM_024447888.2:c.548C>G,XM_024447888.1:c.548C>T,XM_024447888.1:c.548C>G,XM_024447889.2:c.548C>T,XM_024447889.2:c.548C>G,XM_024447889.1:c.548C>T,XM_024447889.1:c.548C>G,NM_022975.2:c.491C>T,NM_022975.2:c.491C>G,XM_024447891.2:c.470C>T,XM_024447891.2:c.470C>G,XM_024447891.1:c.470C>T,XM_024447891.1:c.470C>G,NM_023028.1:c.758C>T,NM_023028.1:c.758C>G,NM_022972.1:c.758C>T,NM_022972.1:c.758C>G,NM_022969.1:c.758C>T,NM_022969.1:c.758C>G,NM_023030.1:c.413C>T,NM_023030.1:c.413C>G,NM_023031.1:c.413C>T,NM_023031.1:c.413C>G,NM_022976.1:c.758C>T,NM_022976.1:c.758C>G,NM_022974.1:c.758C>T,NM_022974.1:c.758C>G,NM_022973.1:c.758C>T,NM_022973.1:c.758C>G,NM_022975.1:c.491C>T,NM_022975.1:c.491C>G,NP_000132.3:p.Pro253Leu,NP_000132.3:p.Pro253Arg,NP_075259.4:p.Pro253Leu,NP_075259.4:p.Pro253Arg,NP_001307587.1:p.Pro253Leu,NP_001307587.1:p.Pro253Arg,NP_001138389.1:p.Pro253Leu,NP_001138389.1:p.Pro253Arg,NP_001138390.1:p.Pro138Leu,NP_001138390.1:p.Pro138Arg,NP_001138388.1:p.Pro138Leu,NP_001138388.1:p.Pro138Arg,NP_001307583.1:p.Pro25Leu,NP_001307583.1:p.Pro25Arg,NP_075418.1:p.Pro164Leu,NP_075418.1:p.Pro164Arg,NP_001138387.1:p.Pro164Leu,NP_001138387.1:p.Pro164Arg,NP_001138391.1:p.Pro164Leu,NP_001138391.1:p.Pro164Arg,NP_001138385.1:p.Pro253Leu,NP_001138385.1:p.Pro253Arg,XP_006717773.1:p.Pro272Leu,XP_006717773.1:p.Pro272Arg,XP_006717771.1:p.Pro272Leu,XP_006717771.1:p.Pro272Arg,XP_016871409.1:p.Pro272Leu,XP_016871409.1:p.Pro272Arg,XP_016871410.1:p.Pro272Leu,XP_016871410.1:p.Pro272Arg,XP_016871414.1:p.Pro157Leu,XP_016871414.1:p.Pro157Arg,XP_016871413.1:p.Pro157Leu,XP_016871413.1:p.Pro157Arg,XP_024303658.1:p.Pro183Leu,XP_024303658.1:p.Pro183Arg,XP_024303655.1:p.Pro183Leu,XP_024303655.1:p.Pro183Arg,XP_024303656.1:p.Pro183Leu,XP_024303656.1:p.Pro183Arg,XP_024303657.1:p.Pro183Leu,XP_024303657.1:p.Pro183Arg,XP_024303659.1:p.Pro157Leu,XP_024303659.1:p.Pro157Arg|SEQ=[G/A/C]|LEN=1|GENE=FGFR2:2263',\n",
      "                                             'FXN_CLASS': 'coding_sequence_variant,intron_variant,non_coding_transcript_variant,missense_variant',\n",
      "                                             'GENES': [{'NAME': 'FGFR2', 'GENE_ID': '2263'}],\n",
      "                                             'GLOBAL_MAFS': [{'STUDY': 'PAGE_STUDY', 'FREQ': 'C=0.000013/1'}, {'STUDY': 'TOPMED', 'FREQ': 'C=0.000004/1'}, {'STUDY': 'ALFA', 'FREQ': 'C=0./0'}],\n",
      "                                             'GLOBAL_POPULATION': '',\n",
      "                                             'GLOBAL_SAMPLESIZE': '0',\n",
      "                                             'HANDLE': 'PAGE_CC,CSS-BFX,OMIM-CURATED-RECORDS,ILLUMINA,TOPMED,EVA',\n",
      "                                             'MERGED_SORT': '0',\n",
      "                                             'ORIG_BUILD': '131',\n",
      "                                             'SNP_CLASS': 'snv',\n",
      "                                             'SNP_ID': '77543610',\n",
      "                                             'SNP_ID_SORT': '0077543610',\n",
      "                                             'SPDI': 'NC_000010.11:121520159:G:A,NC_000010.11:121520159:G:C',\n",
      "                                             'SS': '161109626,275518154,483026412,1959301114,3021282668,3636112718,3651642314,3725195615,3771588496,4869180088,5442109503,5442109504,5936040280',\n",
      "                                             'SUSPECTED': '',\n",
      "                                             'TAX_ID': '9606',\n",
      "                                             'TEXT': '',\n",
      "                                             'UPDATEDATE': '2022/10/16 14:21',\n",
      "                                             'UPD_BUILD': '156',\n",
      "                                             'VALIDATED': 'by-frequency,by-alfa,by-cluster'}]}}\n"
     ]
    }
   ],
   "source": [
    "# search for the SNP record in NCBI dbSNP database\n",
    "handle = Entrez.esearch(db=\"snp\", term=\"rs77543610\")\n",
    "record = Entrez.read(handle)\n",
    "print(record)\n",
    "snp_rs_info=[]\n",
    "# retrieve the relevant data for the SNP\n",
    "handle = Entrez.esummary(db=\"snp\", id=record[\"IdList\"][0], rettype=\"asn.1\")\n",
    "record = Entrez.read(handle)\n",
    "#snp_info = record['DocumentSummarySet']['DocumentSummary'][0]\n",
    "#snp_rs_info.append({'SPDI':snp_info['SPDI']})\n",
    "#snp_rs_info.append({'ALLELE':\" > \".join(snp_info['SPDI'].split(':')[2:])})\n",
    "pprint(record)"
   ]
  },
  {
   "cell_type": "markdown",
   "metadata": {
    "id": "0Wjo8eeXLyXH"
   },
   "source": [
    "### 1. Оценить частоту мутаций в популяциях по выбранному гену"
   ]
  },
  {
   "cell_type": "code",
   "execution_count": 17,
   "metadata": {
    "executionInfo": {
     "elapsed": 2074,
     "status": "ok",
     "timestamp": 1680882167070,
     "user": {
      "displayName": "Михаил Демин",
      "userId": "14250540086915616791"
     },
     "user_tz": -600
    },
    "id": "qr2zv1TLKs_D"
   },
   "outputs": [],
   "source": [
    "df = pd.read_parquet('M4team_dataset.parquet.gzip')"
   ]
  },
  {
   "cell_type": "code",
   "execution_count": 18,
   "metadata": {
    "executionInfo": {
     "elapsed": 12,
     "status": "ok",
     "timestamp": 1680882167071,
     "user": {
      "displayName": "Михаил Демин",
      "userId": "14250540086915616791"
     },
     "user_tz": -600
    },
    "id": "UXuWgoJrfPVG"
   },
   "outputs": [],
   "source": [
    "df_new = df.copy()"
   ]
  },
  {
   "cell_type": "code",
   "execution_count": 19,
   "metadata": {
    "colab": {
     "base_uri": "https://localhost:8080/",
     "height": 327
    },
    "executionInfo": {
     "elapsed": 33,
     "status": "ok",
     "timestamp": 1680882167092,
     "user": {
      "displayName": "Михаил Демин",
      "userId": "14250540086915616791"
     },
     "user_tz": -600
    },
    "id": "oWn81URPNLCj",
    "outputId": "405396f0-5cc9-4acf-db2f-60d181b146bf"
   },
   "outputs": [
    {
     "data": {
      "text/html": [
       "\n",
       "  <div id=\"df-7d8db95a-a2db-4c6b-82f0-5e74a2710f3b\">\n",
       "    <div class=\"colab-df-container\">\n",
       "      <div>\n",
       "<style scoped>\n",
       "    .dataframe tbody tr th:only-of-type {\n",
       "        vertical-align: middle;\n",
       "    }\n",
       "\n",
       "    .dataframe tbody tr th {\n",
       "        vertical-align: top;\n",
       "    }\n",
       "\n",
       "    .dataframe thead th {\n",
       "        text-align: right;\n",
       "    }\n",
       "</style>\n",
       "<table border=\"1\" class=\"dataframe\">\n",
       "  <thead>\n",
       "    <tr style=\"text-align: right;\">\n",
       "      <th></th>\n",
       "      <th>SNP_ID_RS</th>\n",
       "      <th>Study</th>\n",
       "      <th>Population</th>\n",
       "      <th>Group</th>\n",
       "      <th>Samplesize</th>\n",
       "      <th>Ref Allele</th>\n",
       "      <th>Alt Allele</th>\n",
       "      <th>SNP_ID</th>\n",
       "      <th>GLOBAL_MAFS</th>\n",
       "      <th>GLOBAL_SAMPLESIZE</th>\n",
       "      <th>...</th>\n",
       "      <th>SS</th>\n",
       "      <th>ALLELE</th>\n",
       "      <th>SNP_CLASS</th>\n",
       "      <th>CHRPOS</th>\n",
       "      <th>CHRPOS_PREV_ASSM</th>\n",
       "      <th>TEXT</th>\n",
       "      <th>SNP_ID_SORT</th>\n",
       "      <th>CLINICAL_SORT</th>\n",
       "      <th>CHRPOS_SORT</th>\n",
       "      <th>MERGED_SORT</th>\n",
       "    </tr>\n",
       "  </thead>\n",
       "  <tbody>\n",
       "    <tr>\n",
       "      <th>0</th>\n",
       "      <td>rs2135483163</td>\n",
       "      <td>14KJPN</td>\n",
       "      <td>JAPANESE</td>\n",
       "      <td>Study-wide</td>\n",
       "      <td>28258</td>\n",
       "      <td>T=0.99996</td>\n",
       "      <td>C=0.00004</td>\n",
       "      <td>2135483163</td>\n",
       "      <td>[{'STUDY': 'TOMMO', 'FREQ': 'C=0.00004/1'}]</td>\n",
       "      <td>0</td>\n",
       "      <td>...</td>\n",
       "      <td>5746300955</td>\n",
       "      <td>Y</td>\n",
       "      <td>snv</td>\n",
       "      <td>10:121593737</td>\n",
       "      <td>10:123353251</td>\n",
       "      <td>None</td>\n",
       "      <td>2135483163</td>\n",
       "      <td>0</td>\n",
       "      <td>121593737</td>\n",
       "      <td>0</td>\n",
       "    </tr>\n",
       "    <tr>\n",
       "      <th>1</th>\n",
       "      <td>rs2135479131</td>\n",
       "      <td>1000Genomes_30x</td>\n",
       "      <td>Global</td>\n",
       "      <td>Study-wide</td>\n",
       "      <td>6404</td>\n",
       "      <td>C=0.9998</td>\n",
       "      <td>G=0.0002</td>\n",
       "      <td>2135479131</td>\n",
       "      <td>[{'STUDY': '1000Genomes', 'FREQ': 'G=0.0002/1'}]</td>\n",
       "      <td>0</td>\n",
       "      <td>...</td>\n",
       "      <td>5580559733</td>\n",
       "      <td>S</td>\n",
       "      <td>snv</td>\n",
       "      <td>10:121593509</td>\n",
       "      <td>10:123353023</td>\n",
       "      <td>None</td>\n",
       "      <td>2135479131</td>\n",
       "      <td>0</td>\n",
       "      <td>121593509</td>\n",
       "      <td>0</td>\n",
       "    </tr>\n",
       "  </tbody>\n",
       "</table>\n",
       "<p>2 rows × 34 columns</p>\n",
       "</div>\n",
       "      <button class=\"colab-df-convert\" onclick=\"convertToInteractive('df-7d8db95a-a2db-4c6b-82f0-5e74a2710f3b')\"\n",
       "              title=\"Convert this dataframe to an interactive table.\"\n",
       "              style=\"display:none;\">\n",
       "        \n",
       "  <svg xmlns=\"http://www.w3.org/2000/svg\" height=\"24px\"viewBox=\"0 0 24 24\"\n",
       "       width=\"24px\">\n",
       "    <path d=\"M0 0h24v24H0V0z\" fill=\"none\"/>\n",
       "    <path d=\"M18.56 5.44l.94 2.06.94-2.06 2.06-.94-2.06-.94-.94-2.06-.94 2.06-2.06.94zm-11 1L8.5 8.5l.94-2.06 2.06-.94-2.06-.94L8.5 2.5l-.94 2.06-2.06.94zm10 10l.94 2.06.94-2.06 2.06-.94-2.06-.94-.94-2.06-.94 2.06-2.06.94z\"/><path d=\"M17.41 7.96l-1.37-1.37c-.4-.4-.92-.59-1.43-.59-.52 0-1.04.2-1.43.59L10.3 9.45l-7.72 7.72c-.78.78-.78 2.05 0 2.83L4 21.41c.39.39.9.59 1.41.59.51 0 1.02-.2 1.41-.59l7.78-7.78 2.81-2.81c.8-.78.8-2.07 0-2.86zM5.41 20L4 18.59l7.72-7.72 1.47 1.35L5.41 20z\"/>\n",
       "  </svg>\n",
       "      </button>\n",
       "      \n",
       "  <style>\n",
       "    .colab-df-container {\n",
       "      display:flex;\n",
       "      flex-wrap:wrap;\n",
       "      gap: 12px;\n",
       "    }\n",
       "\n",
       "    .colab-df-convert {\n",
       "      background-color: #E8F0FE;\n",
       "      border: none;\n",
       "      border-radius: 50%;\n",
       "      cursor: pointer;\n",
       "      display: none;\n",
       "      fill: #1967D2;\n",
       "      height: 32px;\n",
       "      padding: 0 0 0 0;\n",
       "      width: 32px;\n",
       "    }\n",
       "\n",
       "    .colab-df-convert:hover {\n",
       "      background-color: #E2EBFA;\n",
       "      box-shadow: 0px 1px 2px rgba(60, 64, 67, 0.3), 0px 1px 3px 1px rgba(60, 64, 67, 0.15);\n",
       "      fill: #174EA6;\n",
       "    }\n",
       "\n",
       "    [theme=dark] .colab-df-convert {\n",
       "      background-color: #3B4455;\n",
       "      fill: #D2E3FC;\n",
       "    }\n",
       "\n",
       "    [theme=dark] .colab-df-convert:hover {\n",
       "      background-color: #434B5C;\n",
       "      box-shadow: 0px 1px 3px 1px rgba(0, 0, 0, 0.15);\n",
       "      filter: drop-shadow(0px 1px 2px rgba(0, 0, 0, 0.3));\n",
       "      fill: #FFFFFF;\n",
       "    }\n",
       "  </style>\n",
       "\n",
       "      <script>\n",
       "        const buttonEl =\n",
       "          document.querySelector('#df-7d8db95a-a2db-4c6b-82f0-5e74a2710f3b button.colab-df-convert');\n",
       "        buttonEl.style.display =\n",
       "          google.colab.kernel.accessAllowed ? 'block' : 'none';\n",
       "\n",
       "        async function convertToInteractive(key) {\n",
       "          const element = document.querySelector('#df-7d8db95a-a2db-4c6b-82f0-5e74a2710f3b');\n",
       "          const dataTable =\n",
       "            await google.colab.kernel.invokeFunction('convertToInteractive',\n",
       "                                                     [key], {});\n",
       "          if (!dataTable) return;\n",
       "\n",
       "          const docLinkHtml = 'Like what you see? Visit the ' +\n",
       "            '<a target=\"_blank\" href=https://colab.research.google.com/notebooks/data_table.ipynb>data table notebook</a>'\n",
       "            + ' to learn more about interactive tables.';\n",
       "          element.innerHTML = '';\n",
       "          dataTable['output_type'] = 'display_data';\n",
       "          await google.colab.output.renderOutput(dataTable, element);\n",
       "          const docLink = document.createElement('div');\n",
       "          docLink.innerHTML = docLinkHtml;\n",
       "          element.appendChild(docLink);\n",
       "        }\n",
       "      </script>\n",
       "    </div>\n",
       "  </div>\n",
       "  "
      ],
      "text/plain": [
       "      SNP_ID_RS            Study Population       Group  Samplesize  \\\n",
       "0  rs2135483163           14KJPN   JAPANESE  Study-wide       28258   \n",
       "1  rs2135479131  1000Genomes_30x     Global  Study-wide        6404   \n",
       "\n",
       "  Ref Allele Alt Allele      SNP_ID  \\\n",
       "0  T=0.99996  C=0.00004  2135483163   \n",
       "1   C=0.9998   G=0.0002  2135479131   \n",
       "\n",
       "                                        GLOBAL_MAFS  GLOBAL_SAMPLESIZE  ...  \\\n",
       "0       [{'STUDY': 'TOMMO', 'FREQ': 'C=0.00004/1'}]                  0  ...   \n",
       "1  [{'STUDY': '1000Genomes', 'FREQ': 'G=0.0002/1'}]                  0  ...   \n",
       "\n",
       "           SS ALLELE SNP_CLASS        CHRPOS CHRPOS_PREV_ASSM  TEXT  \\\n",
       "0  5746300955      Y       snv  10:121593737     10:123353251  None   \n",
       "1  5580559733      S       snv  10:121593509     10:123353023  None   \n",
       "\n",
       "  SNP_ID_SORT CLINICAL_SORT CHRPOS_SORT  MERGED_SORT  \n",
       "0  2135483163             0   121593737            0  \n",
       "1  2135479131             0   121593509            0  \n",
       "\n",
       "[2 rows x 34 columns]"
      ]
     },
     "execution_count": 19,
     "metadata": {},
     "output_type": "execute_result"
    }
   ],
   "source": [
    "df_new.head(2)"
   ]
  },
  {
   "cell_type": "code",
   "execution_count": 20,
   "metadata": {
    "colab": {
     "base_uri": "https://localhost:8080/"
    },
    "executionInfo": {
     "elapsed": 1836,
     "status": "ok",
     "timestamp": 1680882168897,
     "user": {
      "displayName": "Михаил Демин",
      "userId": "14250540086915616791"
     },
     "user_tz": -600
    },
    "id": "Uzd9Or45R9Xb",
    "outputId": "d76457b4-7e9b-4fa9-8f82-951a324c23bf"
   },
   "outputs": [
    {
     "name": "stdout",
     "output_type": "stream",
     "text": [
      "<class 'pandas.core.frame.DataFrame'>\n",
      "Int64Index: 347687 entries, 0 to 347686\n",
      "Data columns (total 34 columns):\n",
      " #   Column                 Non-Null Count   Dtype \n",
      "---  ------                 --------------   ----- \n",
      " 0   SNP_ID_RS              347687 non-null  object\n",
      " 1   Study                  347687 non-null  object\n",
      " 2   Population             347687 non-null  object\n",
      " 3   Group                  347687 non-null  object\n",
      " 4   Samplesize             347687 non-null  int64 \n",
      " 5   Ref Allele             347687 non-null  object\n",
      " 6   Alt Allele             347687 non-null  object\n",
      " 7   SNP_ID                 347687 non-null  int64 \n",
      " 8   GLOBAL_MAFS            347687 non-null  object\n",
      " 9   GLOBAL_SAMPLESIZE      347687 non-null  int64 \n",
      " 10  CLINICAL_SIGNIFICANCE  4260 non-null    object\n",
      " 11  GENES                  347687 non-null  object\n",
      " 12  ACC                    347687 non-null  object\n",
      " 13  CHR                    347687 non-null  int64 \n",
      " 14  HANDLE                 347687 non-null  object\n",
      " 15  SPDI                   347687 non-null  object\n",
      " 16  FXN_CLASS              347671 non-null  object\n",
      " 17  VALIDATED              347687 non-null  object\n",
      " 18  DOCSUM                 347687 non-null  object\n",
      " 19  TAX_ID                 347687 non-null  int64 \n",
      " 20  ORIG_BUILD             347687 non-null  int64 \n",
      " 21  UPD_BUILD              347687 non-null  int64 \n",
      " 22  CREATEDATE             347687 non-null  object\n",
      " 23  UPDATEDATE             347687 non-null  object\n",
      " 24  SS                     347687 non-null  object\n",
      " 25  ALLELE                 347687 non-null  object\n",
      " 26  SNP_CLASS              347687 non-null  object\n",
      " 27  CHRPOS                 347687 non-null  object\n",
      " 28  CHRPOS_PREV_ASSM       347687 non-null  object\n",
      " 29  TEXT                   8098 non-null    object\n",
      " 30  SNP_ID_SORT            347687 non-null  int64 \n",
      " 31  CLINICAL_SORT          347687 non-null  int64 \n",
      " 32  CHRPOS_SORT            347687 non-null  int64 \n",
      " 33  MERGED_SORT            347687 non-null  int64 \n",
      "dtypes: int64(11), object(23)\n",
      "memory usage: 92.8+ MB\n"
     ]
    }
   ],
   "source": [
    "df_new.info()"
   ]
  },
  {
   "cell_type": "code",
   "execution_count": 21,
   "metadata": {
    "executionInfo": {
     "elapsed": 52,
     "status": "ok",
     "timestamp": 1680882168899,
     "user": {
      "displayName": "Михаил Демин",
      "userId": "14250540086915616791"
     },
     "user_tz": -600
    },
    "id": "_qA3fv7wAK1i"
   },
   "outputs": [],
   "source": [
    "sign_list = ['pathogenic',\n",
    "       'pathogenic,likely-pathogenic,pathogenic-likely-pathogenic',\n",
    "       'pathogenic,likely-pathogenic,uncertain-significance,benign-likely-benign',\n",
    "       'likely-pathogenic,uncertain-significance,pathogenic',\n",
    "       'likely-pathogenic', \n",
    "       'likely-pathogenic,pathogenic',\n",
    "       'pathogenic,uncertain-significance']"
   ]
  },
  {
   "cell_type": "code",
   "execution_count": 22,
   "metadata": {
    "colab": {
     "base_uri": "https://localhost:8080/"
    },
    "executionInfo": {
     "elapsed": 50,
     "status": "ok",
     "timestamp": 1680882168900,
     "user": {
      "displayName": "Михаил Демин",
      "userId": "14250540086915616791"
     },
     "user_tz": -600
    },
    "id": "C691zk1VDFLV",
    "outputId": "bfd72e59-e0f2-4ec8-8c3c-02f2e29d08e3"
   },
   "outputs": [
    {
     "data": {
      "text/plain": [
       "Index(['SNP_ID_RS', 'Study', 'Population', 'Group', 'Samplesize', 'Ref Allele',\n",
       "       'Alt Allele', 'SNP_ID', 'GLOBAL_MAFS', 'GLOBAL_SAMPLESIZE',\n",
       "       'CLINICAL_SIGNIFICANCE', 'GENES', 'ACC', 'CHR', 'HANDLE', 'SPDI',\n",
       "       'FXN_CLASS', 'VALIDATED', 'DOCSUM', 'TAX_ID', 'ORIG_BUILD', 'UPD_BUILD',\n",
       "       'CREATEDATE', 'UPDATEDATE', 'SS', 'ALLELE', 'SNP_CLASS', 'CHRPOS',\n",
       "       'CHRPOS_PREV_ASSM', 'TEXT', 'SNP_ID_SORT', 'CLINICAL_SORT',\n",
       "       'CHRPOS_SORT', 'MERGED_SORT'],\n",
       "      dtype='object')"
      ]
     },
     "execution_count": 22,
     "metadata": {},
     "output_type": "execute_result"
    }
   ],
   "source": [
    "df_new.columns"
   ]
  },
  {
   "cell_type": "code",
   "execution_count": 23,
   "metadata": {
    "executionInfo": {
     "elapsed": 45,
     "status": "ok",
     "timestamp": 1680882168900,
     "user": {
      "displayName": "Михаил Демин",
      "userId": "14250540086915616791"
     },
     "user_tz": -600
    },
    "id": "Bgsf9zkuOb8P"
   },
   "outputs": [],
   "source": [
    "df_new.drop(columns=['SNP_ID',  'GLOBAL_SAMPLESIZE', 'CHR'], inplace=True)"
   ]
  },
  {
   "cell_type": "code",
   "execution_count": 24,
   "metadata": {
    "colab": {
     "base_uri": "https://localhost:8080/"
    },
    "executionInfo": {
     "elapsed": 45,
     "status": "ok",
     "timestamp": 1680882168901,
     "user": {
      "displayName": "Михаил Демин",
      "userId": "14250540086915616791"
     },
     "user_tz": -600
    },
    "id": "hWA7T2WdDFLV",
    "outputId": "cad02813-3e2b-4624-b3a7-532351e358b1"
   },
   "outputs": [
    {
     "data": {
      "text/plain": [
       "likely-benign                                                               1214\n",
       "uncertain-significance                                                      1120\n",
       "benign                                                                       517\n",
       "benign,likely-benign                                                         397\n",
       "likely-benign,uncertain-significance                                         135\n",
       "likely-benign,benign                                                         132\n",
       "uncertain-significance,benign                                                104\n",
       "pathogenic                                                                    71\n",
       "benign,uncertain-significance,likely-benign                                   67\n",
       "benign,likely-benign,benign-likely-benign                                     62\n",
       "not-provided,likely-benign                                                    62\n",
       "benign,benign-likely-benign,uncertain-significance                            56\n",
       "benign-likely-benign,benign                                                   45\n",
       "likely-pathogenic                                                             40\n",
       "uncertain-significance,likely-benign                                          38\n",
       "likely-benign,uncertain-significance,benign                                   32\n",
       "likely-benign,not-provided                                                    29\n",
       "benign,uncertain-significance                                                 25\n",
       "conflicting-interpretations-of-pathogenicity                                  23\n",
       "likely-pathogenic,uncertain-significance,pathogenic                           21\n",
       "pathogenic,likely-pathogenic,uncertain-significance,benign-likely-benign      19\n",
       "uncertain-significance,likely-benign,benign                                   16\n",
       "not-provided                                                                  12\n",
       "pathogenic,likely-pathogenic,pathogenic-likely-pathogenic                      8\n",
       "likely-pathogenic,pathogenic                                                   8\n",
       "pathogenic,uncertain-significance                                              7\n",
       "Name: CLINICAL_SIGNIFICANCE, dtype: int64"
      ]
     },
     "execution_count": 24,
     "metadata": {},
     "output_type": "execute_result"
    }
   ],
   "source": [
    "df_new.CLINICAL_SIGNIFICANCE.value_counts()"
   ]
  },
  {
   "cell_type": "code",
   "execution_count": 25,
   "metadata": {
    "executionInfo": {
     "elapsed": 40,
     "status": "ok",
     "timestamp": 1680882168901,
     "user": {
      "displayName": "Михаил Демин",
      "userId": "14250540086915616791"
     },
     "user_tz": -600
    },
    "id": "MUkmBHgmLA2U"
   },
   "outputs": [],
   "source": [
    "# rs_pat_list = df_fgfr2_pat.SNP_ID_RS.values.tolist()"
   ]
  },
  {
   "cell_type": "code",
   "execution_count": 26,
   "metadata": {
    "colab": {
     "base_uri": "https://localhost:8080/"
    },
    "executionInfo": {
     "elapsed": 39,
     "status": "ok",
     "timestamp": 1680882168901,
     "user": {
      "displayName": "Михаил Демин",
      "userId": "14250540086915616791"
     },
     "user_tz": -600
    },
    "id": "5c1wTQ5MPF8z",
    "outputId": "2ecc8309-18b0-469f-d651-9a9723e7a82d"
   },
   "outputs": [
    {
     "data": {
      "text/plain": [
       "African                         42291\n",
       "Other                           38671\n",
       "European                        38240\n",
       "Global                          35874\n",
       "South Asian                     28416\n",
       "Asian                           25984\n",
       "Total                           24845\n",
       "Latin American 2                24845\n",
       "Latin American 1                24845\n",
       "American                        17447\n",
       "East Asian                      16343\n",
       "Ashkenazi Jewish                13395\n",
       "JAPANESE                         5914\n",
       "Europe                           4042\n",
       "KOREAN                           2359\n",
       "PARENT AND CHILD COHORT           980\n",
       "TWIN COHORT                       979\n",
       "Estonian                          636\n",
       "Genome of the Netherlands         344\n",
       "ACPOP                             285\n",
       "Danish                            161\n",
       "European American                 123\n",
       "African American                  123\n",
       "Dominican                          32\n",
       "SouthAsian                         32\n",
       "NativeAmerican                     32\n",
       "SouthAmerican                      32\n",
       "CentralAmerican                    32\n",
       "AfricanAmerican                    32\n",
       "Cuban                              32\n",
       "PuertoRican                        32\n",
       "Mexican                            32\n",
       "NativeHawaiian                     32\n",
       "Spanish controls                   28\n",
       "Est_Asia                           20\n",
       "Central_South_Asia                 20\n",
       "Middle_Est                         20\n",
       "Africa                             20\n",
       "America                            20\n",
       "Oceania                            20\n",
       "Daghestan                          16\n",
       "Near_East                          16\n",
       "Central Asia                       16\n",
       "Caucasus                           16\n",
       "CRM                                 6\n",
       "Finnish from FINRISK project        4\n",
       "Chilean                             3\n",
       "Name: Population, dtype: int64"
      ]
     },
     "execution_count": 26,
     "metadata": {},
     "output_type": "execute_result"
    }
   ],
   "source": [
    "df_new.Population.value_counts()"
   ]
  },
  {
   "cell_type": "code",
   "execution_count": 27,
   "metadata": {
    "executionInfo": {
     "elapsed": 36,
     "status": "ok",
     "timestamp": 1680882168902,
     "user": {
      "displayName": "Михаил Демин",
      "userId": "14250540086915616791"
     },
     "user_tz": -600
    },
    "id": "Be6JhH9dSqU_"
   },
   "outputs": [],
   "source": [
    "# Унификация названий популяции\n",
    "d = {'America' : 'American', 'Europe' : 'European', 'Africa' : 'African',\n",
    "     'AfricanAmerican': 'African American', 'Est_Asia': 'East Asian',\n",
    "     'SouthAsian': 'South Asian'}\n",
    "df_new['Population'] = df_new['Population'].apply(lambda x: d[x] if x in d.keys() else x)\n",
    "\n",
    "# Удаление некоторых категорий \n",
    "df_new = df_new.loc[~df_new['Population'].isin(['PARENT AND CHILD COHORT', 'TWIN COHORT', 'ACPOP', 'Other', 'Total', 'Global', 'CRM'])]"
   ]
  },
  {
   "cell_type": "code",
   "execution_count": 28,
   "metadata": {
    "executionInfo": {
     "elapsed": 36,
     "status": "ok",
     "timestamp": 1680882168902,
     "user": {
      "displayName": "Михаил Демин",
      "userId": "14250540086915616791"
     },
     "user_tz": -600
    },
    "id": "Q5-xh6UBDFLV"
   },
   "outputs": [],
   "source": [
    "# df_new = df_new[df['Ref Allele'] !='-\\nNo frequency provided']\n",
    "df_new['Alt_Allele'] = df_new['Alt Allele'].apply(lambda x: x.split('=')[0])\n",
    "df_new['Alt_Allele_frequency'] = df_new['Alt Allele'].apply(lambda x: x.split('=')[1].split(',')[0]).astype(float)"
   ]
  },
  {
   "cell_type": "code",
   "execution_count": 29,
   "metadata": {
    "executionInfo": {
     "elapsed": 37,
     "status": "ok",
     "timestamp": 1680882168903,
     "user": {
      "displayName": "Михаил Демин",
      "userId": "14250540086915616791"
     },
     "user_tz": -600
    },
    "id": "x4fZKSxCjjgF"
   },
   "outputs": [],
   "source": [
    "# Удаление строк, где Samplesize = 0\n",
    "df_new = df_new[df_new['Samplesize']!= 0]"
   ]
  },
  {
   "cell_type": "code",
   "execution_count": 30,
   "metadata": {
    "colab": {
     "base_uri": "https://localhost:8080/",
     "height": 160
    },
    "executionInfo": {
     "elapsed": 36,
     "status": "ok",
     "timestamp": 1680882168903,
     "user": {
      "displayName": "Михаил Демин",
      "userId": "14250540086915616791"
     },
     "user_tz": -600
    },
    "id": "Zu34xiPRDFLW",
    "outputId": "248882db-5bfd-4b76-af6a-9f44559fb9a7"
   },
   "outputs": [
    {
     "data": {
      "text/html": [
       "\n",
       "  <div id=\"df-d56eed68-7400-4424-81f6-6504b6fa8cff\">\n",
       "    <div class=\"colab-df-container\">\n",
       "      <div>\n",
       "<style scoped>\n",
       "    .dataframe tbody tr th:only-of-type {\n",
       "        vertical-align: middle;\n",
       "    }\n",
       "\n",
       "    .dataframe tbody tr th {\n",
       "        vertical-align: top;\n",
       "    }\n",
       "\n",
       "    .dataframe thead th {\n",
       "        text-align: right;\n",
       "    }\n",
       "</style>\n",
       "<table border=\"1\" class=\"dataframe\">\n",
       "  <thead>\n",
       "    <tr style=\"text-align: right;\">\n",
       "      <th></th>\n",
       "      <th>SNP_ID_RS</th>\n",
       "      <th>Study</th>\n",
       "      <th>Population</th>\n",
       "      <th>Group</th>\n",
       "      <th>Samplesize</th>\n",
       "      <th>Ref Allele</th>\n",
       "      <th>Alt Allele</th>\n",
       "      <th>GLOBAL_MAFS</th>\n",
       "      <th>CLINICAL_SIGNIFICANCE</th>\n",
       "      <th>GENES</th>\n",
       "      <th>...</th>\n",
       "      <th>SNP_CLASS</th>\n",
       "      <th>CHRPOS</th>\n",
       "      <th>CHRPOS_PREV_ASSM</th>\n",
       "      <th>TEXT</th>\n",
       "      <th>SNP_ID_SORT</th>\n",
       "      <th>CLINICAL_SORT</th>\n",
       "      <th>CHRPOS_SORT</th>\n",
       "      <th>MERGED_SORT</th>\n",
       "      <th>Alt_Allele</th>\n",
       "      <th>Alt_Allele_frequency</th>\n",
       "    </tr>\n",
       "  </thead>\n",
       "  <tbody>\n",
       "  </tbody>\n",
       "</table>\n",
       "<p>0 rows × 33 columns</p>\n",
       "</div>\n",
       "      <button class=\"colab-df-convert\" onclick=\"convertToInteractive('df-d56eed68-7400-4424-81f6-6504b6fa8cff')\"\n",
       "              title=\"Convert this dataframe to an interactive table.\"\n",
       "              style=\"display:none;\">\n",
       "        \n",
       "  <svg xmlns=\"http://www.w3.org/2000/svg\" height=\"24px\"viewBox=\"0 0 24 24\"\n",
       "       width=\"24px\">\n",
       "    <path d=\"M0 0h24v24H0V0z\" fill=\"none\"/>\n",
       "    <path d=\"M18.56 5.44l.94 2.06.94-2.06 2.06-.94-2.06-.94-.94-2.06-.94 2.06-2.06.94zm-11 1L8.5 8.5l.94-2.06 2.06-.94-2.06-.94L8.5 2.5l-.94 2.06-2.06.94zm10 10l.94 2.06.94-2.06 2.06-.94-2.06-.94-.94-2.06-.94 2.06-2.06.94z\"/><path d=\"M17.41 7.96l-1.37-1.37c-.4-.4-.92-.59-1.43-.59-.52 0-1.04.2-1.43.59L10.3 9.45l-7.72 7.72c-.78.78-.78 2.05 0 2.83L4 21.41c.39.39.9.59 1.41.59.51 0 1.02-.2 1.41-.59l7.78-7.78 2.81-2.81c.8-.78.8-2.07 0-2.86zM5.41 20L4 18.59l7.72-7.72 1.47 1.35L5.41 20z\"/>\n",
       "  </svg>\n",
       "      </button>\n",
       "      \n",
       "  <style>\n",
       "    .colab-df-container {\n",
       "      display:flex;\n",
       "      flex-wrap:wrap;\n",
       "      gap: 12px;\n",
       "    }\n",
       "\n",
       "    .colab-df-convert {\n",
       "      background-color: #E8F0FE;\n",
       "      border: none;\n",
       "      border-radius: 50%;\n",
       "      cursor: pointer;\n",
       "      display: none;\n",
       "      fill: #1967D2;\n",
       "      height: 32px;\n",
       "      padding: 0 0 0 0;\n",
       "      width: 32px;\n",
       "    }\n",
       "\n",
       "    .colab-df-convert:hover {\n",
       "      background-color: #E2EBFA;\n",
       "      box-shadow: 0px 1px 2px rgba(60, 64, 67, 0.3), 0px 1px 3px 1px rgba(60, 64, 67, 0.15);\n",
       "      fill: #174EA6;\n",
       "    }\n",
       "\n",
       "    [theme=dark] .colab-df-convert {\n",
       "      background-color: #3B4455;\n",
       "      fill: #D2E3FC;\n",
       "    }\n",
       "\n",
       "    [theme=dark] .colab-df-convert:hover {\n",
       "      background-color: #434B5C;\n",
       "      box-shadow: 0px 1px 3px 1px rgba(0, 0, 0, 0.15);\n",
       "      filter: drop-shadow(0px 1px 2px rgba(0, 0, 0, 0.3));\n",
       "      fill: #FFFFFF;\n",
       "    }\n",
       "  </style>\n",
       "\n",
       "      <script>\n",
       "        const buttonEl =\n",
       "          document.querySelector('#df-d56eed68-7400-4424-81f6-6504b6fa8cff button.colab-df-convert');\n",
       "        buttonEl.style.display =\n",
       "          google.colab.kernel.accessAllowed ? 'block' : 'none';\n",
       "\n",
       "        async function convertToInteractive(key) {\n",
       "          const element = document.querySelector('#df-d56eed68-7400-4424-81f6-6504b6fa8cff');\n",
       "          const dataTable =\n",
       "            await google.colab.kernel.invokeFunction('convertToInteractive',\n",
       "                                                     [key], {});\n",
       "          if (!dataTable) return;\n",
       "\n",
       "          const docLinkHtml = 'Like what you see? Visit the ' +\n",
       "            '<a target=\"_blank\" href=https://colab.research.google.com/notebooks/data_table.ipynb>data table notebook</a>'\n",
       "            + ' to learn more about interactive tables.';\n",
       "          element.innerHTML = '';\n",
       "          dataTable['output_type'] = 'display_data';\n",
       "          await google.colab.output.renderOutput(dataTable, element);\n",
       "          const docLink = document.createElement('div');\n",
       "          docLink.innerHTML = docLinkHtml;\n",
       "          element.appendChild(docLink);\n",
       "        }\n",
       "      </script>\n",
       "    </div>\n",
       "  </div>\n",
       "  "
      ],
      "text/plain": [
       "Empty DataFrame\n",
       "Columns: [SNP_ID_RS, Study, Population, Group, Samplesize, Ref Allele, Alt Allele, GLOBAL_MAFS, CLINICAL_SIGNIFICANCE, GENES, ACC, HANDLE, SPDI, FXN_CLASS, VALIDATED, DOCSUM, TAX_ID, ORIG_BUILD, UPD_BUILD, CREATEDATE, UPDATEDATE, SS, ALLELE, SNP_CLASS, CHRPOS, CHRPOS_PREV_ASSM, TEXT, SNP_ID_SORT, CLINICAL_SORT, CHRPOS_SORT, MERGED_SORT, Alt_Allele, Alt_Allele_frequency]\n",
       "Index: []\n",
       "\n",
       "[0 rows x 33 columns]"
      ]
     },
     "execution_count": 30,
     "metadata": {},
     "output_type": "execute_result"
    }
   ],
   "source": [
    "df_new.loc[df_new['Samplesize']== 0]"
   ]
  },
  {
   "cell_type": "code",
   "execution_count": 31,
   "metadata": {
    "executionInfo": {
     "elapsed": 36,
     "status": "ok",
     "timestamp": 1680882168904,
     "user": {
      "displayName": "Михаил Демин",
      "userId": "14250540086915616791"
     },
     "user_tz": -600
    },
    "id": "nmfUVJ1RkujX"
   },
   "outputs": [],
   "source": [
    "# Отфильтруем данные по CLINICAL_SIGNIFICANCE = pathogenic\n",
    "df1_new = df_new.loc[df_new['CLINICAL_SIGNIFICANCE'].isin(['pathogenic'])]"
   ]
  },
  {
   "cell_type": "code",
   "execution_count": 32,
   "metadata": {
    "colab": {
     "base_uri": "https://localhost:8080/",
     "height": 676
    },
    "executionInfo": {
     "elapsed": 68,
     "status": "ok",
     "timestamp": 1680882168936,
     "user": {
      "displayName": "Михаил Демин",
      "userId": "14250540086915616791"
     },
     "user_tz": -600
    },
    "id": "0IqMfLx2DFLW",
    "outputId": "7563bc55-ca01-4e3f-b225-49abff241c0d"
   },
   "outputs": [
    {
     "data": {
      "text/html": [
       "\n",
       "  <div id=\"df-960627d4-1eea-4c84-ad71-6f5e39170a35\">\n",
       "    <div class=\"colab-df-container\">\n",
       "      <div>\n",
       "<style scoped>\n",
       "    .dataframe tbody tr th:only-of-type {\n",
       "        vertical-align: middle;\n",
       "    }\n",
       "\n",
       "    .dataframe tbody tr th {\n",
       "        vertical-align: top;\n",
       "    }\n",
       "\n",
       "    .dataframe thead tr th {\n",
       "        text-align: left;\n",
       "    }\n",
       "</style>\n",
       "<table border=\"1\" class=\"dataframe\">\n",
       "  <thead>\n",
       "    <tr>\n",
       "      <th></th>\n",
       "      <th>Population</th>\n",
       "      <th>Alt_Allele</th>\n",
       "      <th colspan=\"3\" halign=\"left\">Alt_Allele_frequency</th>\n",
       "      <th colspan=\"2\" halign=\"left\">Samplesize</th>\n",
       "    </tr>\n",
       "    <tr>\n",
       "      <th></th>\n",
       "      <th></th>\n",
       "      <th></th>\n",
       "      <th>max</th>\n",
       "      <th>mean</th>\n",
       "      <th>sum</th>\n",
       "      <th>max</th>\n",
       "      <th>sum</th>\n",
       "    </tr>\n",
       "  </thead>\n",
       "  <tbody>\n",
       "    <tr>\n",
       "      <th>0</th>\n",
       "      <td>African</td>\n",
       "      <td>A</td>\n",
       "      <td>0.00000</td>\n",
       "      <td>0.00000</td>\n",
       "      <td>0.00000</td>\n",
       "      <td>10406</td>\n",
       "      <td>10832</td>\n",
       "    </tr>\n",
       "    <tr>\n",
       "      <th>1</th>\n",
       "      <td>African</td>\n",
       "      <td>C</td>\n",
       "      <td>0.00000</td>\n",
       "      <td>0.00000</td>\n",
       "      <td>0.00000</td>\n",
       "      <td>16256</td>\n",
       "      <td>19828</td>\n",
       "    </tr>\n",
       "    <tr>\n",
       "      <th>2</th>\n",
       "      <td>African</td>\n",
       "      <td>G</td>\n",
       "      <td>0.00000</td>\n",
       "      <td>0.00000</td>\n",
       "      <td>0.00000</td>\n",
       "      <td>426</td>\n",
       "      <td>850</td>\n",
       "    </tr>\n",
       "    <tr>\n",
       "      <th>3</th>\n",
       "      <td>African</td>\n",
       "      <td>T</td>\n",
       "      <td>0.00000</td>\n",
       "      <td>0.00000</td>\n",
       "      <td>0.00000</td>\n",
       "      <td>2294</td>\n",
       "      <td>2294</td>\n",
       "    </tr>\n",
       "    <tr>\n",
       "      <th>4</th>\n",
       "      <td>American</td>\n",
       "      <td>A</td>\n",
       "      <td>0.00000</td>\n",
       "      <td>0.00000</td>\n",
       "      <td>0.00000</td>\n",
       "      <td>11566</td>\n",
       "      <td>11566</td>\n",
       "    </tr>\n",
       "    <tr>\n",
       "      <th>5</th>\n",
       "      <td>American</td>\n",
       "      <td>C</td>\n",
       "      <td>0.00003</td>\n",
       "      <td>0.00003</td>\n",
       "      <td>0.00003</td>\n",
       "      <td>34592</td>\n",
       "      <td>34592</td>\n",
       "    </tr>\n",
       "    <tr>\n",
       "      <th>6</th>\n",
       "      <td>Ashkenazi Jewish</td>\n",
       "      <td>C</td>\n",
       "      <td>0.00000</td>\n",
       "      <td>0.00000</td>\n",
       "      <td>0.00000</td>\n",
       "      <td>10078</td>\n",
       "      <td>10078</td>\n",
       "    </tr>\n",
       "    <tr>\n",
       "      <th>7</th>\n",
       "      <td>Asian</td>\n",
       "      <td>A</td>\n",
       "      <td>0.00000</td>\n",
       "      <td>0.00000</td>\n",
       "      <td>0.00000</td>\n",
       "      <td>25124</td>\n",
       "      <td>25124</td>\n",
       "    </tr>\n",
       "    <tr>\n",
       "      <th>8</th>\n",
       "      <td>Asian</td>\n",
       "      <td>C</td>\n",
       "      <td>0.00000</td>\n",
       "      <td>0.00000</td>\n",
       "      <td>0.00000</td>\n",
       "      <td>49008</td>\n",
       "      <td>49116</td>\n",
       "    </tr>\n",
       "    <tr>\n",
       "      <th>9</th>\n",
       "      <td>Asian</td>\n",
       "      <td>T</td>\n",
       "      <td>0.00000</td>\n",
       "      <td>0.00000</td>\n",
       "      <td>0.00000</td>\n",
       "      <td>108</td>\n",
       "      <td>108</td>\n",
       "    </tr>\n",
       "    <tr>\n",
       "      <th>10</th>\n",
       "      <td>European</td>\n",
       "      <td>A</td>\n",
       "      <td>0.00001</td>\n",
       "      <td>0.00001</td>\n",
       "      <td>0.00001</td>\n",
       "      <td>73308</td>\n",
       "      <td>73308</td>\n",
       "    </tr>\n",
       "    <tr>\n",
       "      <th>11</th>\n",
       "      <td>European</td>\n",
       "      <td>C</td>\n",
       "      <td>0.00000</td>\n",
       "      <td>0.00000</td>\n",
       "      <td>0.00000</td>\n",
       "      <td>135280</td>\n",
       "      <td>142242</td>\n",
       "    </tr>\n",
       "    <tr>\n",
       "      <th>12</th>\n",
       "      <td>European</td>\n",
       "      <td>T</td>\n",
       "      <td>0.00000</td>\n",
       "      <td>0.00000</td>\n",
       "      <td>0.00000</td>\n",
       "      <td>6962</td>\n",
       "      <td>6962</td>\n",
       "    </tr>\n",
       "    <tr>\n",
       "      <th>13</th>\n",
       "      <td>Latin American 1</td>\n",
       "      <td>C</td>\n",
       "      <td>0.00000</td>\n",
       "      <td>0.00000</td>\n",
       "      <td>0.00000</td>\n",
       "      <td>146</td>\n",
       "      <td>146</td>\n",
       "    </tr>\n",
       "    <tr>\n",
       "      <th>14</th>\n",
       "      <td>Latin American 1</td>\n",
       "      <td>T</td>\n",
       "      <td>0.00000</td>\n",
       "      <td>0.00000</td>\n",
       "      <td>0.00000</td>\n",
       "      <td>146</td>\n",
       "      <td>146</td>\n",
       "    </tr>\n",
       "    <tr>\n",
       "      <th>15</th>\n",
       "      <td>Latin American 2</td>\n",
       "      <td>C</td>\n",
       "      <td>0.00000</td>\n",
       "      <td>0.00000</td>\n",
       "      <td>0.00000</td>\n",
       "      <td>610</td>\n",
       "      <td>610</td>\n",
       "    </tr>\n",
       "    <tr>\n",
       "      <th>16</th>\n",
       "      <td>Latin American 2</td>\n",
       "      <td>T</td>\n",
       "      <td>0.00000</td>\n",
       "      <td>0.00000</td>\n",
       "      <td>0.00000</td>\n",
       "      <td>610</td>\n",
       "      <td>610</td>\n",
       "    </tr>\n",
       "    <tr>\n",
       "      <th>17</th>\n",
       "      <td>South Asian</td>\n",
       "      <td>C</td>\n",
       "      <td>0.00000</td>\n",
       "      <td>0.00000</td>\n",
       "      <td>0.00000</td>\n",
       "      <td>94</td>\n",
       "      <td>94</td>\n",
       "    </tr>\n",
       "    <tr>\n",
       "      <th>18</th>\n",
       "      <td>South Asian</td>\n",
       "      <td>T</td>\n",
       "      <td>0.00000</td>\n",
       "      <td>0.00000</td>\n",
       "      <td>0.00000</td>\n",
       "      <td>94</td>\n",
       "      <td>94</td>\n",
       "    </tr>\n",
       "  </tbody>\n",
       "</table>\n",
       "</div>\n",
       "      <button class=\"colab-df-convert\" onclick=\"convertToInteractive('df-960627d4-1eea-4c84-ad71-6f5e39170a35')\"\n",
       "              title=\"Convert this dataframe to an interactive table.\"\n",
       "              style=\"display:none;\">\n",
       "        \n",
       "  <svg xmlns=\"http://www.w3.org/2000/svg\" height=\"24px\"viewBox=\"0 0 24 24\"\n",
       "       width=\"24px\">\n",
       "    <path d=\"M0 0h24v24H0V0z\" fill=\"none\"/>\n",
       "    <path d=\"M18.56 5.44l.94 2.06.94-2.06 2.06-.94-2.06-.94-.94-2.06-.94 2.06-2.06.94zm-11 1L8.5 8.5l.94-2.06 2.06-.94-2.06-.94L8.5 2.5l-.94 2.06-2.06.94zm10 10l.94 2.06.94-2.06 2.06-.94-2.06-.94-.94-2.06-.94 2.06-2.06.94z\"/><path d=\"M17.41 7.96l-1.37-1.37c-.4-.4-.92-.59-1.43-.59-.52 0-1.04.2-1.43.59L10.3 9.45l-7.72 7.72c-.78.78-.78 2.05 0 2.83L4 21.41c.39.39.9.59 1.41.59.51 0 1.02-.2 1.41-.59l7.78-7.78 2.81-2.81c.8-.78.8-2.07 0-2.86zM5.41 20L4 18.59l7.72-7.72 1.47 1.35L5.41 20z\"/>\n",
       "  </svg>\n",
       "      </button>\n",
       "      \n",
       "  <style>\n",
       "    .colab-df-container {\n",
       "      display:flex;\n",
       "      flex-wrap:wrap;\n",
       "      gap: 12px;\n",
       "    }\n",
       "\n",
       "    .colab-df-convert {\n",
       "      background-color: #E8F0FE;\n",
       "      border: none;\n",
       "      border-radius: 50%;\n",
       "      cursor: pointer;\n",
       "      display: none;\n",
       "      fill: #1967D2;\n",
       "      height: 32px;\n",
       "      padding: 0 0 0 0;\n",
       "      width: 32px;\n",
       "    }\n",
       "\n",
       "    .colab-df-convert:hover {\n",
       "      background-color: #E2EBFA;\n",
       "      box-shadow: 0px 1px 2px rgba(60, 64, 67, 0.3), 0px 1px 3px 1px rgba(60, 64, 67, 0.15);\n",
       "      fill: #174EA6;\n",
       "    }\n",
       "\n",
       "    [theme=dark] .colab-df-convert {\n",
       "      background-color: #3B4455;\n",
       "      fill: #D2E3FC;\n",
       "    }\n",
       "\n",
       "    [theme=dark] .colab-df-convert:hover {\n",
       "      background-color: #434B5C;\n",
       "      box-shadow: 0px 1px 3px 1px rgba(0, 0, 0, 0.15);\n",
       "      filter: drop-shadow(0px 1px 2px rgba(0, 0, 0, 0.3));\n",
       "      fill: #FFFFFF;\n",
       "    }\n",
       "  </style>\n",
       "\n",
       "      <script>\n",
       "        const buttonEl =\n",
       "          document.querySelector('#df-960627d4-1eea-4c84-ad71-6f5e39170a35 button.colab-df-convert');\n",
       "        buttonEl.style.display =\n",
       "          google.colab.kernel.accessAllowed ? 'block' : 'none';\n",
       "\n",
       "        async function convertToInteractive(key) {\n",
       "          const element = document.querySelector('#df-960627d4-1eea-4c84-ad71-6f5e39170a35');\n",
       "          const dataTable =\n",
       "            await google.colab.kernel.invokeFunction('convertToInteractive',\n",
       "                                                     [key], {});\n",
       "          if (!dataTable) return;\n",
       "\n",
       "          const docLinkHtml = 'Like what you see? Visit the ' +\n",
       "            '<a target=\"_blank\" href=https://colab.research.google.com/notebooks/data_table.ipynb>data table notebook</a>'\n",
       "            + ' to learn more about interactive tables.';\n",
       "          element.innerHTML = '';\n",
       "          dataTable['output_type'] = 'display_data';\n",
       "          await google.colab.output.renderOutput(dataTable, element);\n",
       "          const docLink = document.createElement('div');\n",
       "          docLink.innerHTML = docLinkHtml;\n",
       "          element.appendChild(docLink);\n",
       "        }\n",
       "      </script>\n",
       "    </div>\n",
       "  </div>\n",
       "  "
      ],
      "text/plain": [
       "          Population Alt_Allele Alt_Allele_frequency                    \\\n",
       "                                                 max     mean      sum   \n",
       "0            African          A              0.00000  0.00000  0.00000   \n",
       "1            African          C              0.00000  0.00000  0.00000   \n",
       "2            African          G              0.00000  0.00000  0.00000   \n",
       "3            African          T              0.00000  0.00000  0.00000   \n",
       "4           American          A              0.00000  0.00000  0.00000   \n",
       "5           American          C              0.00003  0.00003  0.00003   \n",
       "6   Ashkenazi Jewish          C              0.00000  0.00000  0.00000   \n",
       "7              Asian          A              0.00000  0.00000  0.00000   \n",
       "8              Asian          C              0.00000  0.00000  0.00000   \n",
       "9              Asian          T              0.00000  0.00000  0.00000   \n",
       "10          European          A              0.00001  0.00001  0.00001   \n",
       "11          European          C              0.00000  0.00000  0.00000   \n",
       "12          European          T              0.00000  0.00000  0.00000   \n",
       "13  Latin American 1          C              0.00000  0.00000  0.00000   \n",
       "14  Latin American 1          T              0.00000  0.00000  0.00000   \n",
       "15  Latin American 2          C              0.00000  0.00000  0.00000   \n",
       "16  Latin American 2          T              0.00000  0.00000  0.00000   \n",
       "17       South Asian          C              0.00000  0.00000  0.00000   \n",
       "18       South Asian          T              0.00000  0.00000  0.00000   \n",
       "\n",
       "   Samplesize          \n",
       "          max     sum  \n",
       "0       10406   10832  \n",
       "1       16256   19828  \n",
       "2         426     850  \n",
       "3        2294    2294  \n",
       "4       11566   11566  \n",
       "5       34592   34592  \n",
       "6       10078   10078  \n",
       "7       25124   25124  \n",
       "8       49008   49116  \n",
       "9         108     108  \n",
       "10      73308   73308  \n",
       "11     135280  142242  \n",
       "12       6962    6962  \n",
       "13        146     146  \n",
       "14        146     146  \n",
       "15        610     610  \n",
       "16        610     610  \n",
       "17         94      94  \n",
       "18         94      94  "
      ]
     },
     "execution_count": 32,
     "metadata": {},
     "output_type": "execute_result"
    }
   ],
   "source": [
    "df1_new.groupby(['Population', 'Alt_Allele']).agg({'Alt_Allele_frequency': ['max', 'mean', 'sum'], 'Samplesize': ['max', 'sum']}).reset_index()"
   ]
  },
  {
   "cell_type": "code",
   "execution_count": 33,
   "metadata": {
    "colab": {
     "base_uri": "https://localhost:8080/"
    },
    "executionInfo": {
     "elapsed": 70,
     "status": "ok",
     "timestamp": 1680882168939,
     "user": {
      "displayName": "Михаил Демин",
      "userId": "14250540086915616791"
     },
     "user_tz": -600
    },
    "id": "OKUKgydLXwxf",
    "outputId": "e458650d-3e50-499d-a422-2e65f76992c8"
   },
   "outputs": [
    {
     "data": {
      "text/plain": [
       "African             9\n",
       "European            4\n",
       "Asian               4\n",
       "Latin American 2    2\n",
       "Latin American 1    2\n",
       "South Asian         2\n",
       "American            2\n",
       "Ashkenazi Jewish    1\n",
       "Name: Population, dtype: int64"
      ]
     },
     "execution_count": 33,
     "metadata": {},
     "output_type": "execute_result"
    }
   ],
   "source": [
    "df1_new.Population.value_counts()"
   ]
  },
  {
   "cell_type": "code",
   "execution_count": 34,
   "metadata": {
    "colab": {
     "base_uri": "https://localhost:8080/",
     "height": 472
    },
    "executionInfo": {
     "elapsed": 1313,
     "status": "ok",
     "timestamp": 1680882170191,
     "user": {
      "displayName": "Михаил Демин",
      "userId": "14250540086915616791"
     },
     "user_tz": -600
    },
    "id": "ycMxCfn8lZ20",
    "outputId": "c21426e2-45d3-4f7a-8720-c89522706ace"
   },
   "outputs": [
    {
     "data": {
      "image/png": "[encoded data removed]",
      "text/plain": [
       "<Figure size 640x480 with 1 Axes>"
      ]
     },
     "metadata": {},
     "output_type": "display_data"
    }
   ],
   "source": [
    "fig, ax = plt.subplots()\n",
    "for title, group in df1_new.groupby('Population'):\n",
    "    ax.scatter(group['Alt_Allele'], group['Alt_Allele_frequency'], label=title)\n",
    "\n",
    "plt.xlabel('Alt_Allele')\n",
    "plt.ylabel('Alt_Allele_frequency')\n",
    "plt.title('pop and Alt_Allele_frequency')\n",
    "\n",
    "plt.legend()\n",
    "plt.show()"
   ]
  },
  {
   "cell_type": "code",
   "execution_count": 35,
   "metadata": {
    "executionInfo": {
     "elapsed": 83,
     "status": "ok",
     "timestamp": 1680882170196,
     "user": {
      "displayName": "Михаил Демин",
      "userId": "14250540086915616791"
     },
     "user_tz": -600
    },
    "id": "ylnzOtvGi4GN"
   },
   "outputs": [],
   "source": [
    "# Посмотрим частоту альтернативных аллелей в пределах одной популяции\n",
    "df_american = df1_new.loc[df1_new['Population'].isin(['American']) & df1_new['Alt_Allele'].isin(['A', 'T', 'G', 'C'])]"
   ]
  },
  {
   "cell_type": "code",
   "execution_count": 36,
   "metadata": {
    "colab": {
     "base_uri": "https://localhost:8080/",
     "height": 143
    },
    "executionInfo": {
     "elapsed": 85,
     "status": "ok",
     "timestamp": 1680882170199,
     "user": {
      "displayName": "Михаил Демин",
      "userId": "14250540086915616791"
     },
     "user_tz": -600
    },
    "id": "a9LCTxLHl5L-",
    "outputId": "60a99156-f0d3-45ac-e836-e8f808d25525"
   },
   "outputs": [
    {
     "data": {
      "text/html": [
       "\n",
       "  <div id=\"df-401247fe-5e7c-4352-919a-48aaff6af2bd\">\n",
       "    <div class=\"colab-df-container\">\n",
       "      <div>\n",
       "<style scoped>\n",
       "    .dataframe tbody tr th:only-of-type {\n",
       "        vertical-align: middle;\n",
       "    }\n",
       "\n",
       "    .dataframe tbody tr th {\n",
       "        vertical-align: top;\n",
       "    }\n",
       "\n",
       "    .dataframe thead tr th {\n",
       "        text-align: left;\n",
       "    }\n",
       "</style>\n",
       "<table border=\"1\" class=\"dataframe\">\n",
       "  <thead>\n",
       "    <tr>\n",
       "      <th></th>\n",
       "      <th>Population</th>\n",
       "      <th>Alt_Allele</th>\n",
       "      <th colspan=\"3\" halign=\"left\">Alt_Allele_frequency</th>\n",
       "      <th colspan=\"2\" halign=\"left\">Samplesize</th>\n",
       "    </tr>\n",
       "    <tr>\n",
       "      <th></th>\n",
       "      <th></th>\n",
       "      <th></th>\n",
       "      <th>max</th>\n",
       "      <th>mean</th>\n",
       "      <th>sum</th>\n",
       "      <th>max</th>\n",
       "      <th>sum</th>\n",
       "    </tr>\n",
       "  </thead>\n",
       "  <tbody>\n",
       "    <tr>\n",
       "      <th>0</th>\n",
       "      <td>American</td>\n",
       "      <td>A</td>\n",
       "      <td>0.00000</td>\n",
       "      <td>0.00000</td>\n",
       "      <td>0.00000</td>\n",
       "      <td>11566</td>\n",
       "      <td>11566</td>\n",
       "    </tr>\n",
       "    <tr>\n",
       "      <th>1</th>\n",
       "      <td>American</td>\n",
       "      <td>C</td>\n",
       "      <td>0.00003</td>\n",
       "      <td>0.00003</td>\n",
       "      <td>0.00003</td>\n",
       "      <td>34592</td>\n",
       "      <td>34592</td>\n",
       "    </tr>\n",
       "  </tbody>\n",
       "</table>\n",
       "</div>\n",
       "      <button class=\"colab-df-convert\" onclick=\"convertToInteractive('df-401247fe-5e7c-4352-919a-48aaff6af2bd')\"\n",
       "              title=\"Convert this dataframe to an interactive table.\"\n",
       "              style=\"display:none;\">\n",
       "        \n",
       "  <svg xmlns=\"http://www.w3.org/2000/svg\" height=\"24px\"viewBox=\"0 0 24 24\"\n",
       "       width=\"24px\">\n",
       "    <path d=\"M0 0h24v24H0V0z\" fill=\"none\"/>\n",
       "    <path d=\"M18.56 5.44l.94 2.06.94-2.06 2.06-.94-2.06-.94-.94-2.06-.94 2.06-2.06.94zm-11 1L8.5 8.5l.94-2.06 2.06-.94-2.06-.94L8.5 2.5l-.94 2.06-2.06.94zm10 10l.94 2.06.94-2.06 2.06-.94-2.06-.94-.94-2.06-.94 2.06-2.06.94z\"/><path d=\"M17.41 7.96l-1.37-1.37c-.4-.4-.92-.59-1.43-.59-.52 0-1.04.2-1.43.59L10.3 9.45l-7.72 7.72c-.78.78-.78 2.05 0 2.83L4 21.41c.39.39.9.59 1.41.59.51 0 1.02-.2 1.41-.59l7.78-7.78 2.81-2.81c.8-.78.8-2.07 0-2.86zM5.41 20L4 18.59l7.72-7.72 1.47 1.35L5.41 20z\"/>\n",
       "  </svg>\n",
       "      </button>\n",
       "      \n",
       "  <style>\n",
       "    .colab-df-container {\n",
       "      display:flex;\n",
       "      flex-wrap:wrap;\n",
       "      gap: 12px;\n",
       "    }\n",
       "\n",
       "    .colab-df-convert {\n",
       "      background-color: #E8F0FE;\n",
       "      border: none;\n",
       "      border-radius: 50%;\n",
       "      cursor: pointer;\n",
       "      display: none;\n",
       "      fill: #1967D2;\n",
       "      height: 32px;\n",
       "      padding: 0 0 0 0;\n",
       "      width: 32px;\n",
       "    }\n",
       "\n",
       "    .colab-df-convert:hover {\n",
       "      background-color: #E2EBFA;\n",
       "      box-shadow: 0px 1px 2px rgba(60, 64, 67, 0.3), 0px 1px 3px 1px rgba(60, 64, 67, 0.15);\n",
       "      fill: #174EA6;\n",
       "    }\n",
       "\n",
       "    [theme=dark] .colab-df-convert {\n",
       "      background-color: #3B4455;\n",
       "      fill: #D2E3FC;\n",
       "    }\n",
       "\n",
       "    [theme=dark] .colab-df-convert:hover {\n",
       "      background-color: #434B5C;\n",
       "      box-shadow: 0px 1px 3px 1px rgba(0, 0, 0, 0.15);\n",
       "      filter: drop-shadow(0px 1px 2px rgba(0, 0, 0, 0.3));\n",
       "      fill: #FFFFFF;\n",
       "    }\n",
       "  </style>\n",
       "\n",
       "      <script>\n",
       "        const buttonEl =\n",
       "          document.querySelector('#df-401247fe-5e7c-4352-919a-48aaff6af2bd button.colab-df-convert');\n",
       "        buttonEl.style.display =\n",
       "          google.colab.kernel.accessAllowed ? 'block' : 'none';\n",
       "\n",
       "        async function convertToInteractive(key) {\n",
       "          const element = document.querySelector('#df-401247fe-5e7c-4352-919a-48aaff6af2bd');\n",
       "          const dataTable =\n",
       "            await google.colab.kernel.invokeFunction('convertToInteractive',\n",
       "                                                     [key], {});\n",
       "          if (!dataTable) return;\n",
       "\n",
       "          const docLinkHtml = 'Like what you see? Visit the ' +\n",
       "            '<a target=\"_blank\" href=https://colab.research.google.com/notebooks/data_table.ipynb>data table notebook</a>'\n",
       "            + ' to learn more about interactive tables.';\n",
       "          element.innerHTML = '';\n",
       "          dataTable['output_type'] = 'display_data';\n",
       "          await google.colab.output.renderOutput(dataTable, element);\n",
       "          const docLink = document.createElement('div');\n",
       "          docLink.innerHTML = docLinkHtml;\n",
       "          element.appendChild(docLink);\n",
       "        }\n",
       "      </script>\n",
       "    </div>\n",
       "  </div>\n",
       "  "
      ],
      "text/plain": [
       "  Population Alt_Allele Alt_Allele_frequency                   Samplesize  \\\n",
       "                                         max     mean      sum        max   \n",
       "0   American          A              0.00000  0.00000  0.00000      11566   \n",
       "1   American          C              0.00003  0.00003  0.00003      34592   \n",
       "\n",
       "          \n",
       "     sum  \n",
       "0  11566  \n",
       "1  34592  "
      ]
     },
     "execution_count": 36,
     "metadata": {},
     "output_type": "execute_result"
    }
   ],
   "source": [
    "df_american.groupby(['Population', 'Alt_Allele']).agg({'Alt_Allele_frequency': ['max', 'mean', 'sum'], 'Samplesize': ['max', 'sum']}).reset_index()"
   ]
  },
  {
   "cell_type": "code",
   "execution_count": 37,
   "metadata": {
    "colab": {
     "base_uri": "https://localhost:8080/",
     "height": 472
    },
    "executionInfo": {
     "elapsed": 85,
     "status": "ok",
     "timestamp": 1680882170201,
     "user": {
      "displayName": "Михаил Демин",
      "userId": "14250540086915616791"
     },
     "user_tz": -600
    },
    "id": "C_EZDLByl5Zn",
    "outputId": "ae6cd0f0-13b4-46ce-e8f5-13e2d7c7a541"
   },
   "outputs": [
    {
     "data": {
      "image/png": "[encoded data removed]",
      "text/plain": [
       "<Figure size 640x480 with 1 Axes>"
      ]
     },
     "metadata": {},
     "output_type": "display_data"
    }
   ],
   "source": [
    "fig, ax = plt.subplots()\n",
    "\n",
    "for title, group in df_american.groupby('Population'):\n",
    "    ax.scatter(group['Alt_Allele'], group['Alt_Allele_frequency'], label=title)\n",
    "\n",
    "plt.xlabel('Alt_Allele')\n",
    "plt.ylabel('Alt_Allele_frequency')\n",
    "plt.title('American and Alt_Allele_frequency')\n",
    "\n",
    "plt.legend()\n",
    "plt.show()"
   ]
  },
  {
   "cell_type": "code",
   "execution_count": 38,
   "metadata": {
    "executionInfo": {
     "elapsed": 84,
     "status": "ok",
     "timestamp": 1680882170203,
     "user": {
      "displayName": "Михаил Демин",
      "userId": "14250540086915616791"
     },
     "user_tz": -600
    },
    "id": "r-Xx2dlZpS4Q"
   },
   "outputs": [],
   "source": [
    "df_european = df1_new.loc[df1_new['Population'].isin(['European']) & df1_new['Alt_Allele'].isin(['A', 'T', 'G', 'C'])]"
   ]
  },
  {
   "cell_type": "code",
   "execution_count": 39,
   "metadata": {
    "colab": {
     "base_uri": "https://localhost:8080/",
     "height": 175
    },
    "executionInfo": {
     "elapsed": 96,
     "status": "ok",
     "timestamp": 1680882170215,
     "user": {
      "displayName": "Михаил Демин",
      "userId": "14250540086915616791"
     },
     "user_tz": -600
    },
    "id": "vRt25Vhnl5nS",
    "outputId": "4f1c1202-d89e-4cb8-a1f6-ae3f9458cb48"
   },
   "outputs": [
    {
     "data": {
      "text/html": [
       "\n",
       "  <div id=\"df-e65f8335-fb44-42db-8917-d1c6d854f270\">\n",
       "    <div class=\"colab-df-container\">\n",
       "      <div>\n",
       "<style scoped>\n",
       "    .dataframe tbody tr th:only-of-type {\n",
       "        vertical-align: middle;\n",
       "    }\n",
       "\n",
       "    .dataframe tbody tr th {\n",
       "        vertical-align: top;\n",
       "    }\n",
       "\n",
       "    .dataframe thead tr th {\n",
       "        text-align: left;\n",
       "    }\n",
       "</style>\n",
       "<table border=\"1\" class=\"dataframe\">\n",
       "  <thead>\n",
       "    <tr>\n",
       "      <th></th>\n",
       "      <th>Population</th>\n",
       "      <th>Alt_Allele</th>\n",
       "      <th colspan=\"3\" halign=\"left\">Alt_Allele_frequency</th>\n",
       "      <th colspan=\"2\" halign=\"left\">Samplesize</th>\n",
       "    </tr>\n",
       "    <tr>\n",
       "      <th></th>\n",
       "      <th></th>\n",
       "      <th></th>\n",
       "      <th>max</th>\n",
       "      <th>mean</th>\n",
       "      <th>sum</th>\n",
       "      <th>max</th>\n",
       "      <th>sum</th>\n",
       "    </tr>\n",
       "  </thead>\n",
       "  <tbody>\n",
       "    <tr>\n",
       "      <th>0</th>\n",
       "      <td>European</td>\n",
       "      <td>A</td>\n",
       "      <td>0.00001</td>\n",
       "      <td>0.00001</td>\n",
       "      <td>0.00001</td>\n",
       "      <td>73308</td>\n",
       "      <td>73308</td>\n",
       "    </tr>\n",
       "    <tr>\n",
       "      <th>1</th>\n",
       "      <td>European</td>\n",
       "      <td>C</td>\n",
       "      <td>0.00000</td>\n",
       "      <td>0.00000</td>\n",
       "      <td>0.00000</td>\n",
       "      <td>135280</td>\n",
       "      <td>142242</td>\n",
       "    </tr>\n",
       "    <tr>\n",
       "      <th>2</th>\n",
       "      <td>European</td>\n",
       "      <td>T</td>\n",
       "      <td>0.00000</td>\n",
       "      <td>0.00000</td>\n",
       "      <td>0.00000</td>\n",
       "      <td>6962</td>\n",
       "      <td>6962</td>\n",
       "    </tr>\n",
       "  </tbody>\n",
       "</table>\n",
       "</div>\n",
       "      <button class=\"colab-df-convert\" onclick=\"convertToInteractive('df-e65f8335-fb44-42db-8917-d1c6d854f270')\"\n",
       "              title=\"Convert this dataframe to an interactive table.\"\n",
       "              style=\"display:none;\">\n",
       "        \n",
       "  <svg xmlns=\"http://www.w3.org/2000/svg\" height=\"24px\"viewBox=\"0 0 24 24\"\n",
       "       width=\"24px\">\n",
       "    <path d=\"M0 0h24v24H0V0z\" fill=\"none\"/>\n",
       "    <path d=\"M18.56 5.44l.94 2.06.94-2.06 2.06-.94-2.06-.94-.94-2.06-.94 2.06-2.06.94zm-11 1L8.5 8.5l.94-2.06 2.06-.94-2.06-.94L8.5 2.5l-.94 2.06-2.06.94zm10 10l.94 2.06.94-2.06 2.06-.94-2.06-.94-.94-2.06-.94 2.06-2.06.94z\"/><path d=\"M17.41 7.96l-1.37-1.37c-.4-.4-.92-.59-1.43-.59-.52 0-1.04.2-1.43.59L10.3 9.45l-7.72 7.72c-.78.78-.78 2.05 0 2.83L4 21.41c.39.39.9.59 1.41.59.51 0 1.02-.2 1.41-.59l7.78-7.78 2.81-2.81c.8-.78.8-2.07 0-2.86zM5.41 20L4 18.59l7.72-7.72 1.47 1.35L5.41 20z\"/>\n",
       "  </svg>\n",
       "      </button>\n",
       "      \n",
       "  <style>\n",
       "    .colab-df-container {\n",
       "      display:flex;\n",
       "      flex-wrap:wrap;\n",
       "      gap: 12px;\n",
       "    }\n",
       "\n",
       "    .colab-df-convert {\n",
       "      background-color: #E8F0FE;\n",
       "      border: none;\n",
       "      border-radius: 50%;\n",
       "      cursor: pointer;\n",
       "      display: none;\n",
       "      fill: #1967D2;\n",
       "      height: 32px;\n",
       "      padding: 0 0 0 0;\n",
       "      width: 32px;\n",
       "    }\n",
       "\n",
       "    .colab-df-convert:hover {\n",
       "      background-color: #E2EBFA;\n",
       "      box-shadow: 0px 1px 2px rgba(60, 64, 67, 0.3), 0px 1px 3px 1px rgba(60, 64, 67, 0.15);\n",
       "      fill: #174EA6;\n",
       "    }\n",
       "\n",
       "    [theme=dark] .colab-df-convert {\n",
       "      background-color: #3B4455;\n",
       "      fill: #D2E3FC;\n",
       "    }\n",
       "\n",
       "    [theme=dark] .colab-df-convert:hover {\n",
       "      background-color: #434B5C;\n",
       "      box-shadow: 0px 1px 3px 1px rgba(0, 0, 0, 0.15);\n",
       "      filter: drop-shadow(0px 1px 2px rgba(0, 0, 0, 0.3));\n",
       "      fill: #FFFFFF;\n",
       "    }\n",
       "  </style>\n",
       "\n",
       "      <script>\n",
       "        const buttonEl =\n",
       "          document.querySelector('#df-e65f8335-fb44-42db-8917-d1c6d854f270 button.colab-df-convert');\n",
       "        buttonEl.style.display =\n",
       "          google.colab.kernel.accessAllowed ? 'block' : 'none';\n",
       "\n",
       "        async function convertToInteractive(key) {\n",
       "          const element = document.querySelector('#df-e65f8335-fb44-42db-8917-d1c6d854f270');\n",
       "          const dataTable =\n",
       "            await google.colab.kernel.invokeFunction('convertToInteractive',\n",
       "                                                     [key], {});\n",
       "          if (!dataTable) return;\n",
       "\n",
       "          const docLinkHtml = 'Like what you see? Visit the ' +\n",
       "            '<a target=\"_blank\" href=https://colab.research.google.com/notebooks/data_table.ipynb>data table notebook</a>'\n",
       "            + ' to learn more about interactive tables.';\n",
       "          element.innerHTML = '';\n",
       "          dataTable['output_type'] = 'display_data';\n",
       "          await google.colab.output.renderOutput(dataTable, element);\n",
       "          const docLink = document.createElement('div');\n",
       "          docLink.innerHTML = docLinkHtml;\n",
       "          element.appendChild(docLink);\n",
       "        }\n",
       "      </script>\n",
       "    </div>\n",
       "  </div>\n",
       "  "
      ],
      "text/plain": [
       "  Population Alt_Allele Alt_Allele_frequency                   Samplesize  \\\n",
       "                                         max     mean      sum        max   \n",
       "0   European          A              0.00001  0.00001  0.00001      73308   \n",
       "1   European          C              0.00000  0.00000  0.00000     135280   \n",
       "2   European          T              0.00000  0.00000  0.00000       6962   \n",
       "\n",
       "           \n",
       "      sum  \n",
       "0   73308  \n",
       "1  142242  \n",
       "2    6962  "
      ]
     },
     "execution_count": 39,
     "metadata": {},
     "output_type": "execute_result"
    }
   ],
   "source": [
    "df_european.groupby(['Population', 'Alt_Allele']).agg({'Alt_Allele_frequency': ['max', 'mean', 'sum'], 'Samplesize': ['max', 'sum']}).reset_index()"
   ]
  },
  {
   "cell_type": "code",
   "execution_count": 40,
   "metadata": {
    "colab": {
     "base_uri": "https://localhost:8080/",
     "height": 472
    },
    "executionInfo": {
     "elapsed": 1391,
     "status": "ok",
     "timestamp": 1680882171518,
     "user": {
      "displayName": "Михаил Демин",
      "userId": "14250540086915616791"
     },
     "user_tz": -600
    },
    "id": "a1DmRjLHqGc5",
    "outputId": "e9c53f08-02f6-481d-e8b7-d9137b922f48"
   },
   "outputs": [
    {
     "data": {
      "image/png": "[encoded data removed]",
      "text/plain": [
       "<Figure size 640x480 with 1 Axes>"
      ]
     },
     "metadata": {},
     "output_type": "display_data"
    }
   ],
   "source": [
    "fig, ax = plt.subplots()\n",
    "\n",
    "for title, group in df_european.groupby('Population'):\n",
    "    ax.scatter(group['Alt_Allele'], group['Alt_Allele_frequency'], label=title)\n",
    "\n",
    "plt.xlabel('Alt_Allele')\n",
    "plt.ylabel('Alt_Allele_frequency')\n",
    "plt.title('European and Alt_Allele_frequency')\n",
    "\n",
    "plt.legend()\n",
    "plt.show()"
   ]
  },
  {
   "cell_type": "markdown",
   "metadata": {
    "id": "rPC5ZqgsU_0V"
   },
   "source": [
    "На основании полученных данных было выявлено, что в популяции American наибольшая частотность альтернативных аллелей в основании С, а у популяции European в основании А. "
   ]
  },
  {
   "cell_type": "markdown",
   "metadata": {
    "id": "rj0Ctfm8GvjS"
   },
   "source": [
    "### 2. Оценить частоту мутаций в разрезе связанных заболеваний."
   ]
  },
  {
   "cell_type": "code",
   "execution_count": 41,
   "metadata": {
    "executionInfo": {
     "elapsed": 2327,
     "status": "ok",
     "timestamp": 1680882437004,
     "user": {
      "displayName": "Михаил Демин",
      "userId": "14250540086915616791"
     },
     "user_tz": -600
    },
    "id": "AdXi_JspxKuz"
   },
   "outputs": [],
   "source": [
    "df2 = pd.read_parquet('FGFR2_disease_dataset.parquet.gzip')"
   ]
  },
  {
   "cell_type": "code",
   "execution_count": 42,
   "metadata": {
    "colab": {
     "base_uri": "https://localhost:8080/",
     "height": 223
    },
    "executionInfo": {
     "elapsed": 6,
     "status": "ok",
     "timestamp": 1680882439896,
     "user": {
      "displayName": "Михаил Демин",
      "userId": "14250540086915616791"
     },
     "user_tz": -600
    },
    "id": "WMtx6u5x5fq5",
    "outputId": "a99d6d13-bc36-46be-e9f2-5be168452bda"
   },
   "outputs": [
    {
     "data": {
      "text/html": [
       "\n",
       "  <div id=\"df-cc4563fc-cfc3-4f08-8a0c-bb10ca0e325c\">\n",
       "    <div class=\"colab-df-container\">\n",
       "      <div>\n",
       "<style scoped>\n",
       "    .dataframe tbody tr th:only-of-type {\n",
       "        vertical-align: middle;\n",
       "    }\n",
       "\n",
       "    .dataframe tbody tr th {\n",
       "        vertical-align: top;\n",
       "    }\n",
       "\n",
       "    .dataframe thead th {\n",
       "        text-align: right;\n",
       "    }\n",
       "</style>\n",
       "<table border=\"1\" class=\"dataframe\">\n",
       "  <thead>\n",
       "    <tr style=\"text-align: right;\">\n",
       "      <th></th>\n",
       "      <th>index</th>\n",
       "      <th>SNP_ID_RS</th>\n",
       "      <th>ClinVar_Accession</th>\n",
       "      <th>Disease_Names</th>\n",
       "      <th>Clinical_Significance</th>\n",
       "      <th>Mutation_type</th>\n",
       "      <th>SNP_ID</th>\n",
       "      <th>ALLELE_ORIGIN</th>\n",
       "      <th>GLOBAL_MAFS</th>\n",
       "      <th>GLOBAL_POPULATION</th>\n",
       "      <th>...</th>\n",
       "      <th>ALLELE</th>\n",
       "      <th>SNP_CLASS</th>\n",
       "      <th>CHRPOS</th>\n",
       "      <th>CHRPOS_PREV_ASSM</th>\n",
       "      <th>TEXT</th>\n",
       "      <th>SNP_ID_SORT</th>\n",
       "      <th>CLINICAL_SORT</th>\n",
       "      <th>CITED_SORT</th>\n",
       "      <th>CHRPOS_SORT</th>\n",
       "      <th>MERGED_SORT</th>\n",
       "    </tr>\n",
       "  </thead>\n",
       "  <tbody>\n",
       "    <tr>\n",
       "      <th>0</th>\n",
       "      <td>0</td>\n",
       "      <td>rs2134256765</td>\n",
       "      <td>RCV002224437.1</td>\n",
       "      <td>not provided</td>\n",
       "      <td>Likely-Pathogenic</td>\n",
       "      <td>Inframe Indel</td>\n",
       "      <td>2134256765</td>\n",
       "      <td>NaN</td>\n",
       "      <td>[]</td>\n",
       "      <td>NaN</td>\n",
       "      <td>...</td>\n",
       "      <td>N</td>\n",
       "      <td>ins</td>\n",
       "      <td>10:121517381</td>\n",
       "      <td>10:123276896</td>\n",
       "      <td>NaN</td>\n",
       "      <td>2134256765</td>\n",
       "      <td>1</td>\n",
       "      <td>NaN</td>\n",
       "      <td>121517381</td>\n",
       "      <td>0</td>\n",
       "    </tr>\n",
       "    <tr>\n",
       "      <th>1</th>\n",
       "      <td>0</td>\n",
       "      <td>rs2134256250</td>\n",
       "      <td>RCV001390280.4</td>\n",
       "      <td>FGFR2 related craniosynostosis</td>\n",
       "      <td>Pathogenic</td>\n",
       "      <td>Missense Variant</td>\n",
       "      <td>2134256250</td>\n",
       "      <td>NaN</td>\n",
       "      <td>[]</td>\n",
       "      <td>NaN</td>\n",
       "      <td>...</td>\n",
       "      <td>N</td>\n",
       "      <td>snv</td>\n",
       "      <td>10:121517373</td>\n",
       "      <td>10:123276887</td>\n",
       "      <td>NaN</td>\n",
       "      <td>2134256250</td>\n",
       "      <td>1</td>\n",
       "      <td>NaN</td>\n",
       "      <td>121517373</td>\n",
       "      <td>0</td>\n",
       "    </tr>\n",
       "  </tbody>\n",
       "</table>\n",
       "<p>2 rows × 37 columns</p>\n",
       "</div>\n",
       "      <button class=\"colab-df-convert\" onclick=\"convertToInteractive('df-cc4563fc-cfc3-4f08-8a0c-bb10ca0e325c')\"\n",
       "              title=\"Convert this dataframe to an interactive table.\"\n",
       "              style=\"display:none;\">\n",
       "        \n",
       "  <svg xmlns=\"http://www.w3.org/2000/svg\" height=\"24px\"viewBox=\"0 0 24 24\"\n",
       "       width=\"24px\">\n",
       "    <path d=\"M0 0h24v24H0V0z\" fill=\"none\"/>\n",
       "    <path d=\"M18.56 5.44l.94 2.06.94-2.06 2.06-.94-2.06-.94-.94-2.06-.94 2.06-2.06.94zm-11 1L8.5 8.5l.94-2.06 2.06-.94-2.06-.94L8.5 2.5l-.94 2.06-2.06.94zm10 10l.94 2.06.94-2.06 2.06-.94-2.06-.94-.94-2.06-.94 2.06-2.06.94z\"/><path d=\"M17.41 7.96l-1.37-1.37c-.4-.4-.92-.59-1.43-.59-.52 0-1.04.2-1.43.59L10.3 9.45l-7.72 7.72c-.78.78-.78 2.05 0 2.83L4 21.41c.39.39.9.59 1.41.59.51 0 1.02-.2 1.41-.59l7.78-7.78 2.81-2.81c.8-.78.8-2.07 0-2.86zM5.41 20L4 18.59l7.72-7.72 1.47 1.35L5.41 20z\"/>\n",
       "  </svg>\n",
       "      </button>\n",
       "      \n",
       "  <style>\n",
       "    .colab-df-container {\n",
       "      display:flex;\n",
       "      flex-wrap:wrap;\n",
       "      gap: 12px;\n",
       "    }\n",
       "\n",
       "    .colab-df-convert {\n",
       "      background-color: #E8F0FE;\n",
       "      border: none;\n",
       "      border-radius: 50%;\n",
       "      cursor: pointer;\n",
       "      display: none;\n",
       "      fill: #1967D2;\n",
       "      height: 32px;\n",
       "      padding: 0 0 0 0;\n",
       "      width: 32px;\n",
       "    }\n",
       "\n",
       "    .colab-df-convert:hover {\n",
       "      background-color: #E2EBFA;\n",
       "      box-shadow: 0px 1px 2px rgba(60, 64, 67, 0.3), 0px 1px 3px 1px rgba(60, 64, 67, 0.15);\n",
       "      fill: #174EA6;\n",
       "    }\n",
       "\n",
       "    [theme=dark] .colab-df-convert {\n",
       "      background-color: #3B4455;\n",
       "      fill: #D2E3FC;\n",
       "    }\n",
       "\n",
       "    [theme=dark] .colab-df-convert:hover {\n",
       "      background-color: #434B5C;\n",
       "      box-shadow: 0px 1px 3px 1px rgba(0, 0, 0, 0.15);\n",
       "      filter: drop-shadow(0px 1px 2px rgba(0, 0, 0, 0.3));\n",
       "      fill: #FFFFFF;\n",
       "    }\n",
       "  </style>\n",
       "\n",
       "      <script>\n",
       "        const buttonEl =\n",
       "          document.querySelector('#df-cc4563fc-cfc3-4f08-8a0c-bb10ca0e325c button.colab-df-convert');\n",
       "        buttonEl.style.display =\n",
       "          google.colab.kernel.accessAllowed ? 'block' : 'none';\n",
       "\n",
       "        async function convertToInteractive(key) {\n",
       "          const element = document.querySelector('#df-cc4563fc-cfc3-4f08-8a0c-bb10ca0e325c');\n",
       "          const dataTable =\n",
       "            await google.colab.kernel.invokeFunction('convertToInteractive',\n",
       "                                                     [key], {});\n",
       "          if (!dataTable) return;\n",
       "\n",
       "          const docLinkHtml = 'Like what you see? Visit the ' +\n",
       "            '<a target=\"_blank\" href=https://colab.research.google.com/notebooks/data_table.ipynb>data table notebook</a>'\n",
       "            + ' to learn more about interactive tables.';\n",
       "          element.innerHTML = '';\n",
       "          dataTable['output_type'] = 'display_data';\n",
       "          await google.colab.output.renderOutput(dataTable, element);\n",
       "          const docLink = document.createElement('div');\n",
       "          docLink.innerHTML = docLinkHtml;\n",
       "          element.appendChild(docLink);\n",
       "        }\n",
       "      </script>\n",
       "    </div>\n",
       "  </div>\n",
       "  "
      ],
      "text/plain": [
       "   index     SNP_ID_RS ClinVar_Accession                   Disease_Names  \\\n",
       "0      0  rs2134256765    RCV002224437.1                    not provided   \n",
       "1      0  rs2134256250    RCV001390280.4  FGFR2 related craniosynostosis   \n",
       "\n",
       "  Clinical_Significance     Mutation_type      SNP_ID  ALLELE_ORIGIN  \\\n",
       "0     Likely-Pathogenic     Inframe Indel  2134256765            NaN   \n",
       "1            Pathogenic  Missense Variant  2134256250            NaN   \n",
       "\n",
       "  GLOBAL_MAFS  GLOBAL_POPULATION  ...  ALLELE  SNP_CLASS        CHRPOS  \\\n",
       "0          []                NaN  ...       N        ins  10:121517381   \n",
       "1          []                NaN  ...       N        snv  10:121517373   \n",
       "\n",
       "  CHRPOS_PREV_ASSM TEXT  SNP_ID_SORT CLINICAL_SORT CITED_SORT CHRPOS_SORT  \\\n",
       "0     10:123276896  NaN   2134256765             1        NaN   121517381   \n",
       "1     10:123276887  NaN   2134256250             1        NaN   121517373   \n",
       "\n",
       "  MERGED_SORT  \n",
       "0           0  \n",
       "1           0  \n",
       "\n",
       "[2 rows x 37 columns]"
      ]
     },
     "execution_count": 42,
     "metadata": {},
     "output_type": "execute_result"
    }
   ],
   "source": [
    "df_dis = df2.copy()\n",
    "df_dis.head(2)"
   ]
  },
  {
   "cell_type": "code",
   "execution_count": 43,
   "metadata": {
    "colab": {
     "base_uri": "https://localhost:8080/"
    },
    "executionInfo": {
     "elapsed": 5,
     "status": "ok",
     "timestamp": 1680882445629,
     "user": {
      "displayName": "Михаил Демин",
      "userId": "14250540086915616791"
     },
     "user_tz": -600
    },
    "id": "Sus9qnh2TS8b",
    "outputId": "7dfe19b7-d203-40e2-8336-2389bc40ccab"
   },
   "outputs": [
    {
     "name": "stdout",
     "output_type": "stream",
     "text": [
      "<class 'pandas.core.frame.DataFrame'>\n",
      "Int64Index: 204 entries, 0 to 203\n",
      "Data columns (total 37 columns):\n",
      " #   Column                 Non-Null Count  Dtype  \n",
      "---  ------                 --------------  -----  \n",
      " 0   index                  204 non-null    int64  \n",
      " 1   SNP_ID_RS              204 non-null    object \n",
      " 2   ClinVar_Accession      204 non-null    object \n",
      " 3   Disease_Names          204 non-null    object \n",
      " 4   Clinical_Significance  204 non-null    object \n",
      " 5   Mutation_type          204 non-null    object \n",
      " 6   SNP_ID                 204 non-null    int64  \n",
      " 7   ALLELE_ORIGIN          0 non-null      float64\n",
      " 8   GLOBAL_MAFS            204 non-null    object \n",
      " 9   GLOBAL_POPULATION      0 non-null      float64\n",
      " 10  GLOBAL_SAMPLESIZE      204 non-null    int64  \n",
      " 11  SUSPECTED              0 non-null      float64\n",
      " 12  CLINICAL_SIGNIFICANCE  204 non-null    object \n",
      " 13  GENES                  204 non-null    object \n",
      " 14  ACC                    204 non-null    object \n",
      " 15  CHR                    204 non-null    int64  \n",
      " 16  HANDLE                 204 non-null    object \n",
      " 17  SPDI                   204 non-null    object \n",
      " 18  FXN_CLASS              204 non-null    object \n",
      " 19  VALIDATED              172 non-null    object \n",
      " 20  DOCSUM                 204 non-null    object \n",
      " 21  TAX_ID                 204 non-null    int64  \n",
      " 22  ORIG_BUILD             204 non-null    int64  \n",
      " 23  UPD_BUILD              204 non-null    int64  \n",
      " 24  CREATEDATE             204 non-null    object \n",
      " 25  UPDATEDATE             204 non-null    object \n",
      " 26  SS                     204 non-null    object \n",
      " 27  ALLELE                 204 non-null    object \n",
      " 28  SNP_CLASS              204 non-null    object \n",
      " 29  CHRPOS                 204 non-null    object \n",
      " 30  CHRPOS_PREV_ASSM       204 non-null    object \n",
      " 31  TEXT                   0 non-null      float64\n",
      " 32  SNP_ID_SORT            204 non-null    int64  \n",
      " 33  CLINICAL_SORT          204 non-null    int64  \n",
      " 34  CITED_SORT             0 non-null      float64\n",
      " 35  CHRPOS_SORT            204 non-null    int64  \n",
      " 36  MERGED_SORT            204 non-null    int64  \n",
      "dtypes: float64(5), int64(11), object(21)\n",
      "memory usage: 60.6+ KB\n"
     ]
    }
   ],
   "source": [
    "df_dis.info()"
   ]
  },
  {
   "cell_type": "code",
   "execution_count": 44,
   "metadata": {
    "executionInfo": {
     "elapsed": 569,
     "status": "ok",
     "timestamp": 1680882548571,
     "user": {
      "displayName": "Михаил Демин",
      "userId": "14250540086915616791"
     },
     "user_tz": -600
    },
    "id": "Mn7ai7VTJwM7"
   },
   "outputs": [],
   "source": [
    "df_dis.drop(columns=['ALLELE_ORIGIN', 'GLOBAL_SAMPLESIZE', 'GLOBAL_POPULATION', 'CHR', 'SUSPECTED', 'TEXT', 'CITED_SORT' ], inplace=True)"
   ]
  },
  {
   "cell_type": "code",
   "execution_count": 45,
   "metadata": {
    "colab": {
     "base_uri": "https://localhost:8080/"
    },
    "executionInfo": {
     "elapsed": 767,
     "status": "ok",
     "timestamp": 1680882735252,
     "user": {
      "displayName": "Михаил Демин",
      "userId": "14250540086915616791"
     },
     "user_tz": -600
    },
    "id": "7aujp5NlKsjK",
    "outputId": "eb32c599-9723-4152-e513-1ef2418cc718"
   },
   "outputs": [
    {
     "data": {
      "text/plain": [
       "Index(['index', 'SNP_ID_RS', 'ClinVar_Accession', 'Disease_Names',\n",
       "       'Clinical_Significance', 'Mutation_type', 'SNP_ID', 'GLOBAL_MAFS',\n",
       "       'CLINICAL_SIGNIFICANCE', 'GENES', 'ACC', 'HANDLE', 'SPDI', 'FXN_CLASS',\n",
       "       'VALIDATED', 'DOCSUM', 'TAX_ID', 'ORIG_BUILD', 'UPD_BUILD',\n",
       "       'CREATEDATE', 'UPDATEDATE', 'SS', 'ALLELE', 'SNP_CLASS', 'CHRPOS',\n",
       "       'CHRPOS_PREV_ASSM', 'SNP_ID_SORT', 'CLINICAL_SORT', 'CHRPOS_SORT',\n",
       "       'MERGED_SORT'],\n",
       "      dtype='object')"
      ]
     },
     "execution_count": 45,
     "metadata": {},
     "output_type": "execute_result"
    }
   ],
   "source": [
    "df_dis.columns"
   ]
  },
  {
   "cell_type": "code",
   "execution_count": 46,
   "metadata": {
    "colab": {
     "base_uri": "https://localhost:8080/"
    },
    "executionInfo": {
     "elapsed": 1387,
     "status": "ok",
     "timestamp": 1680882757431,
     "user": {
      "displayName": "Михаил Демин",
      "userId": "14250540086915616791"
     },
     "user_tz": -600
    },
    "id": "0-YzgeRYKvDO",
    "outputId": "6c8a26a2-09ca-490e-9b56-ee8e1b567495"
   },
   "outputs": [
    {
     "data": {
      "text/plain": [
       "FGFR2 related craniosynostosis                                                                                                                                                                                                                                                                                                                                                                                                                                                                    40\n",
       "not provided                                                                                                                                                                                                                                                                                                                                                                                                                                                                                      36\n",
       "Crouzon syndrome                                                                                                                                                                                                                                                                                                                                                                                                                                                                                  24\n",
       "Pfeiffer syndrome                                                                                                                                                                                                                                                                                                                                                                                                                                                                                 16\n",
       "Endometrial Endometrioid Adenocarcinoma, Variant with Squamous Differentiation                                                                                                                                                                                                                                                                                                                                                                                                                     9\n",
       "Endometrial neoplasm                                                                                                                                                                                                                                                                                                                                                                                                                                                                               8\n",
       "Acrocephalosyndactyly type I                                                                                                                                                                                                                                                                                                                                                                                                                                                                       6\n",
       "Levy-Hollister syndrome                                                                                                                                                                                                                                                                                                                                                                                                                                                                            6\n",
       "Acrocephalosyndactyly type I,Antley-Bixler syndrome without genital anomalies or disordered steroidogenesis,Beare-Stevenson cutis gyrata syndrome,Crouzon syndrome,FGFR2-related bent bone dysplasia,Familial scaphocephaly syndrome, McGillivray type,Jackson-Weiss syndrome,Levy-Hollister syndrome,Neoplasm of stomach,Pfeiffer syndrome,Saethre-Chotzen syndrome                                                                                                                               5\n",
       "Malignant neoplasm of body of uterus                                                                                                                                                                                                                                                                                                                                                                                                                                                               5\n",
       "Inborn genetic diseases                                                                                                                                                                                                                                                                                                                                                                                                                                                                            4\n",
       "Beare-Stevenson cutis gyrata syndrome                                                                                                                                                                                                                                                                                                                                                                                                                                                              3\n",
       "Lung adenocarcinoma                                                                                                                                                                                                                                                                                                                                                                                                                                                                                3\n",
       "Nasopharyngeal neoplasm                                                                                                                                                                                                                                                                                                                                                                                                                                                                            3\n",
       "Breast neoplasm                                                                                                                                                                                                                                                                                                                                                                                                                                                                                    3\n",
       "Craniosynostosis syndrome                                                                                                                                                                                                                                                                                                                                                                                                                                                                          3\n",
       "Jackson-Weiss syndrome                                                                                                                                                                                                                                                                                                                                                                                                                                                                             3\n",
       "Carcinoma of esophagus                                                                                                                                                                                                                                                                                                                                                                                                                                                                             2\n",
       "Gastric adenocarcinoma                                                                                                                                                                                                                                                                                                                                                                                                                                                                             2\n",
       "FGFR2-related bent bone dysplasia                                                                                                                                                                                                                                                                                                                                                                                                                                                                  2\n",
       "Endometrial carcinoma                                                                                                                                                                                                                                                                                                                                                                                                                                                                              1\n",
       "Antley-Bixler syndrome without genital anomalies or disordered steroidogenesis                                                                                                                                                                                                                                                                                                                                                                                                                     1\n",
       "Craniofacial-skeletal-dermatologic dysplasia                                                                                                                                                                                                                                                                                                                                                                                                                                                       1\n",
       "Scaphocephaly and axenfeld-rieger anomaly                                                                                                                                                                                                                                                                                                                                                                                                                                                          1\n",
       "Abnormal pinna morphology,Abnormal posterior cranial fossa morphology,Abnormal zygomatic bone morphology,Brachyturricephaly,Choanal stenosis,Cranial asymmetry,Deviated nasal septum,Dilation of lateral ventricles,Downslanted palpebral fissures,Facial asymmetry,Flat occiput,High forehead,High palate,Hydrocephalus,Hypertelorism,Hypointensity of cerebral white matter on MRI,Low-set ears,Mild fetal ventriculomegaly,Narrow forehead,Shallow orbits,Short neck,Wide anterior fontanel     1\n",
       "Craniosynostosis, nonclassifiable autosomal dominant                                                                                                                                                                                                                                                                                                                                                                                                                                               1\n",
       "FGFR2-related syndromic and non-syndromic craniosynostoses                                                                                                                                                                                                                                                                                                                                                                                                                                         1\n",
       "Craniosynostosis, nonsyndromic unicoronal                                                                                                                                                                                                                                                                                                                                                                                                                                                          1\n",
       "Pfeiffer syndrome type 3                                                                                                                                                                                                                                                                                                                                                                                                                                                                           1\n",
       "Squamous cell lung carcinoma                                                                                                                                                                                                                                                                                                                                                                                                                                                                       1\n",
       "Neoplasm of stomach                                                                                                                                                                                                                                                                                                                                                                                                                                                                                1\n",
       "Familial scaphocephaly syndrome, McGillivray type                                                                                                                                                                                                                                                                                                                                                                                                                                                  1\n",
       "Pfeiffer syndrome variant                                                                                                                                                                                                                                                                                                                                                                                                                                                                          1\n",
       "Saethre-Chotzen syndrome                                                                                                                                                                                                                                                                                                                                                                                                                                                                           1\n",
       "Acrocephalosyndactyly type I,Crouzon syndrome,Pfeiffer syndrome                                                                                                                                                                                                                                                                                                                                                                                                                                    1\n",
       "Pemigatinib resistance                                                                                                                                                                                                                                                                                                                                                                                                                                                                             1\n",
       "Craniosynostosis, nonspecific                                                                                                                                                                                                                                                                                                                                                                                                                                                                      1\n",
       "Colorectal cancer                                                                                                                                                                                                                                                                                                                                                                                                                                                                                  1\n",
       "Ectrodactyly                                                                                                                                                                                                                                                                                                                                                                                                                                                                                       1\n",
       "Bilateral sensorineural hearing impairment                                                                                                                                                                                                                                                                                                                                                                                                                                                         1\n",
       "Adenoid cystic carcinoma                                                                                                                                                                                                                                                                                                                                                                                                                                                                           1\n",
       "Name: Disease_Names, dtype: int64"
      ]
     },
     "execution_count": 46,
     "metadata": {},
     "output_type": "execute_result"
    }
   ],
   "source": [
    "df_dis.Disease_Names.value_counts()"
   ]
  },
  {
   "cell_type": "code",
   "execution_count": 47,
   "metadata": {
    "executionInfo": {
     "elapsed": 545,
     "status": "ok",
     "timestamp": 1680882837597,
     "user": {
      "displayName": "Михаил Демин",
      "userId": "14250540086915616791"
     },
     "user_tz": -600
    },
    "id": "4MFyEs_wLVfv"
   },
   "outputs": [],
   "source": [
    "# Унификация названий болезней\n",
    "d = {'Craniosynostosis, nonspecific' : 'FGFR2-related syndromic and non-syndromic craniosynostoses', \n",
    "     'Craniosynostosis syndrome' : 'FGFR2-related syndromic and non-syndromic craniosynostoses',\n",
    "     'Craniosynostosis, nonsyndromic unicoronal' : 'FGFR2-related syndromic and non-syndromic craniosynostoses',\n",
    "     'Craniosynostosis, nonclassifiable autosomal dominant': 'FGFR2-related syndromic and non-syndromic craniosynostoses',\n",
    "     'FGFR2 related craniosynostosis': 'FGFR2-related syndromic and non-syndromic craniosynostoses',\n",
    "     'Pfeiffer syndrome variant': 'Pfeiffer syndrome',\n",
    "     'Pfeiffer syndrome type 3': 'Pfeiffer syndrome',\n",
    "     'Squamous cell lung carcinoma': 'Lung adenocarcinoma',\n",
    "     'Abnormal pinna morphology,Abnormal posterior cranial fossa morphology,Abnormal zygomatic bone morphology,Brachyturricephaly,Choanal stenosis,Cranial asymmetry,Deviated nasal septum,Dilation of lateral ventricles,Downslanted palpebral fissures,Facial asymmetry,Flat occiput,High forehead,High palate,Hydrocephalus,Hypertelorism,Hypointensity of cerebral white matter on MRI,Low-set ears,Mild fetal ventriculomegaly,Narrow forehead,Shallow orbits,Short neck,Wide anterior fontanel':\n",
    "     'Craniofacial-skeletal-dermatologic dysplasia',\n",
    "     'Acrocephalosyndactyly type I,Antley-Bixler syndrome without genital anomalies or disordered steroidogenesis,Beare-Stevenson cutis gyrata syndrome,Crouzon syndrome,FGFR2-related bent bone dysplasia,Familial scaphocephaly syndrome, McGillivray type,Jackson-Weiss syndrome,Levy-Hollister syndrome,Neoplasm of stomach,Pfeiffer syndrome,Saethre-Chotzen syndrome':\n",
    "     'Undefined FGFR2-related syndrome',\n",
    "     'Acrocephalosyndactyly type I': 'Apert syndrome',\n",
    "     'not provided': '[Not provided]'}\n",
    "df_dis['Disease_Names'] = df_dis['Disease_Names'].apply(lambda x: d[x] if x in d.keys() else x)\n",
    "\n",
    "# Удаление некоторых категорий \n",
    "# df_dis = df_dis.loc[~df_dis['Disease_Names'].isin(['not provided'])]"
   ]
  },
  {
   "cell_type": "code",
   "execution_count": 48,
   "metadata": {
    "colab": {
     "base_uri": "https://localhost:8080/"
    },
    "executionInfo": {
     "elapsed": 14,
     "status": "ok",
     "timestamp": 1680882843954,
     "user": {
      "displayName": "Михаил Демин",
      "userId": "14250540086915616791"
     },
     "user_tz": -600
    },
    "id": "0ZgGWvLhVJn4",
    "outputId": "74919d40-5b79-4ada-de27-ada67b07b77d"
   },
   "outputs": [
    {
     "data": {
      "text/plain": [
       "FGFR2-related syndromic and non-syndromic craniosynostoses                        47\n",
       "[Not provided]                                                                    36\n",
       "Crouzon syndrome                                                                  24\n",
       "Pfeiffer syndrome                                                                 18\n",
       "Endometrial Endometrioid Adenocarcinoma, Variant with Squamous Differentiation     9\n",
       "Endometrial neoplasm                                                               8\n",
       "Apert syndrome                                                                     6\n",
       "Levy-Hollister syndrome                                                            6\n",
       "Undefined FGFR2-related syndrome                                                   5\n",
       "Malignant neoplasm of body of uterus                                               5\n",
       "Lung adenocarcinoma                                                                4\n",
       "Inborn genetic diseases                                                            4\n",
       "Beare-Stevenson cutis gyrata syndrome                                              3\n",
       "Nasopharyngeal neoplasm                                                            3\n",
       "Breast neoplasm                                                                    3\n",
       "Jackson-Weiss syndrome                                                             3\n",
       "FGFR2-related bent bone dysplasia                                                  2\n",
       "Craniofacial-skeletal-dermatologic dysplasia                                       2\n",
       "Carcinoma of esophagus                                                             2\n",
       "Gastric adenocarcinoma                                                             2\n",
       "Pemigatinib resistance                                                             1\n",
       "Acrocephalosyndactyly type I,Crouzon syndrome,Pfeiffer syndrome                    1\n",
       "Saethre-Chotzen syndrome                                                           1\n",
       "Colorectal cancer                                                                  1\n",
       "Familial scaphocephaly syndrome, McGillivray type                                  1\n",
       "Neoplasm of stomach                                                                1\n",
       "Antley-Bixler syndrome without genital anomalies or disordered steroidogenesis     1\n",
       "Ectrodactyly                                                                       1\n",
       "Bilateral sensorineural hearing impairment                                         1\n",
       "Scaphocephaly and axenfeld-rieger anomaly                                          1\n",
       "Endometrial carcinoma                                                              1\n",
       "Adenoid cystic carcinoma                                                           1\n",
       "Name: Disease_Names, dtype: int64"
      ]
     },
     "execution_count": 48,
     "metadata": {},
     "output_type": "execute_result"
    }
   ],
   "source": [
    "df_dis.Disease_Names.value_counts()"
   ]
  },
  {
   "cell_type": "code",
   "execution_count": 49,
   "metadata": {
    "colab": {
     "base_uri": "https://localhost:8080/"
    },
    "executionInfo": {
     "elapsed": 569,
     "status": "ok",
     "timestamp": 1680882858806,
     "user": {
      "displayName": "Михаил Демин",
      "userId": "14250540086915616791"
     },
     "user_tz": -600
    },
    "id": "AW7Iwcmjlm2H",
    "outputId": "e46bb1f7-c1b9-4651-d822-adb1a42ed674"
   },
   "outputs": [
    {
     "data": {
      "text/plain": [
       "snv       188\n",
       "delins      7\n",
       "mnv         6\n",
       "del         2\n",
       "ins         1\n",
       "Name: SNP_CLASS, dtype: int64"
      ]
     },
     "execution_count": 49,
     "metadata": {},
     "output_type": "execute_result"
    }
   ],
   "source": [
    "df_dis.SNP_CLASS.value_counts()"
   ]
  },
  {
   "cell_type": "code",
   "execution_count": 50,
   "metadata": {
    "colab": {
     "base_uri": "https://localhost:8080/",
     "height": 641
    },
    "executionInfo": {
     "elapsed": 1848,
     "status": "ok",
     "timestamp": 1680882863425,
     "user": {
      "displayName": "Михаил Демин",
      "userId": "14250540086915616791"
     },
     "user_tz": -600
    },
    "id": "uTxQ_lMDWt-W",
    "outputId": "e310fcb8-f4bc-48be-8798-b586f34376b2"
   },
   "outputs": [
    {
     "data": {
      "image/png": "[encoded data removed]",
      "text/plain": [
       "<Figure size 400x700 with 1 Axes>"
      ]
     },
     "metadata": {},
     "output_type": "display_data"
    }
   ],
   "source": [
    "fig, ax = plt.subplots()\n",
    "\n",
    "for title, group in df_dis.groupby('Disease_Names'):\n",
    "    ax.scatter(group['SNP_CLASS'], group['Disease_Names'])\n",
    "\n",
    "fig.set_figheight(7)\n",
    "fig.set_figwidth(4)\n",
    "\n",
    "# ax.set_xticklabels(ax.get_xticklabels(), rotation=90, ha='right')\n",
    "\n",
    "plt.xlabel('SNP class')\n",
    "plt.ylabel('Disease Names')\n",
    "plt.title('SNP class distribution of FGFR2-related diseases')\n",
    "\n",
    "# plt.legend()\n",
    "plt.show()"
   ]
  },
  {
   "cell_type": "code",
   "execution_count": 51,
   "metadata": {
    "colab": {
     "base_uri": "https://localhost:8080/"
    },
    "executionInfo": {
     "elapsed": 15,
     "status": "ok",
     "timestamp": 1680882927174,
     "user": {
      "displayName": "Михаил Демин",
      "userId": "14250540086915616791"
     },
     "user_tz": -600
    },
    "id": "RfGMtXJL29Sh",
    "outputId": "c5221785-c748-4f0b-a3dd-dcc360ca94c2"
   },
   "outputs": [
    {
     "data": {
      "text/plain": [
       "Missense Variant           162\n",
       "Stop Gained                 12\n",
       "Synonymous Variant           9\n",
       "Splice Acceptor Variant      7\n",
       "Intron Variant               5\n",
       "Inframe Indel                3\n",
       "Inframe Deletion             3\n",
       "Splice Donor Variant         2\n",
       "Inframe Insertion            1\n",
       "Name: Mutation_type, dtype: int64"
      ]
     },
     "execution_count": 51,
     "metadata": {},
     "output_type": "execute_result"
    }
   ],
   "source": [
    "df_dis['Mutation_type'].value_counts()"
   ]
  },
  {
   "cell_type": "code",
   "execution_count": 52,
   "metadata": {
    "executionInfo": {
     "elapsed": 3,
     "status": "ok",
     "timestamp": 1680884016585,
     "user": {
      "displayName": "Михаил Демин",
      "userId": "14250540086915616791"
     },
     "user_tz": -600
    },
    "id": "6BqMXIp4eoP1"
   },
   "outputs": [],
   "source": [
    "# Унификация названий типов мутаций\n",
    "d = {'Missense Variant' : 'Missense', \n",
    "     'Stop Gained' : 'Nonsense (Stop Gained)',\n",
    "     'Synonymous Variant' : 'Synonymous',\n",
    "     'Splice Acceptor Variant' : 'Splice Acceptor',\n",
    "     'Splice Donor Variant' : 'Splice Donor',\n",
    "     'Intron Variant' : 'Intron'}\n",
    "df_dis['Mutation_type'] = df_dis['Mutation_type'].apply(lambda x: d[x] if x in d.keys() else x)"
   ]
  },
  {
   "cell_type": "code",
   "execution_count": 53,
   "metadata": {
    "colab": {
     "base_uri": "https://localhost:8080/"
    },
    "executionInfo": {
     "elapsed": 1199,
     "status": "ok",
     "timestamp": 1680884029245,
     "user": {
      "displayName": "Михаил Демин",
      "userId": "14250540086915616791"
     },
     "user_tz": -600
    },
    "id": "xDJ5f9jYfsjM",
    "outputId": "0b6f47ce-c8b8-4fea-9669-8fff8aaa3bd2"
   },
   "outputs": [
    {
     "data": {
      "text/plain": [
       "Missense                  162\n",
       "Nonsense (Stop Gained)     12\n",
       "Synonymous                  9\n",
       "Splice Acceptor             7\n",
       "Intron                      5\n",
       "Inframe Indel               3\n",
       "Inframe Deletion            3\n",
       "Splice Donor                2\n",
       "Inframe Insertion           1\n",
       "Name: Mutation_type, dtype: int64"
      ]
     },
     "execution_count": 53,
     "metadata": {},
     "output_type": "execute_result"
    }
   ],
   "source": [
    "df_dis['Mutation_type'].value_counts()"
   ]
  },
  {
   "cell_type": "code",
   "execution_count": 56,
   "metadata": {
    "colab": {
     "base_uri": "https://localhost:8080/",
     "height": 815
    },
    "executionInfo": {
     "elapsed": 3650,
     "status": "ok",
     "timestamp": 1680884245769,
     "user": {
      "displayName": "Михаил Демин",
      "userId": "14250540086915616791"
     },
     "user_tz": -600
    },
    "id": "vm07dosBbeg-",
    "outputId": "f995ed47-2757-44b8-f479-122c85065ab6"
   },
   "outputs": [
    {
     "name": "stderr",
     "output_type": "stream",
     "text": [
      "<ipython-input-56-9b53ef72ab52>:9: UserWarning: FixedFormatter should only be used together with FixedLocator\n",
      "  ax.set_xticklabels(ax.get_xticklabels(), rotation=60, ha='right')\n"
     ]
    },
    {
     "data": {
      "image/png": "[encoded data removed]",
      "text/plain": [
       "<Figure size 400x700 with 1 Axes>"
      ]
     },
     "metadata": {},
     "output_type": "display_data"
    }
   ],
   "source": [
    "fig, ax = plt.subplots()\n",
    "\n",
    "for title, group in df_dis.groupby('Disease_Names'):\n",
    "    ax.scatter(group['Mutation_type'], group['Disease_Names'])\n",
    "\n",
    "fig.set_figheight(7)\n",
    "fig.set_figwidth(4)\n",
    "\n",
    "ax.set_xticklabels(ax.get_xticklabels(), rotation=60, ha='right')\n",
    "\n",
    "plt.xlabel('Mutation type')\n",
    "plt.ylabel('Disease Names')\n",
    "plt.title('Mutation types of FGFR2-related diseases')\n",
    "\n",
    "# plt.legend()\n",
    "plt.show()"
   ]
  },
  {
   "cell_type": "code",
   "execution_count": 59,
   "metadata": {
    "colab": {
     "base_uri": "https://localhost:8080/",
     "height": 410
    },
    "executionInfo": {
     "elapsed": 1508,
     "status": "ok",
     "timestamp": 1680884749561,
     "user": {
      "displayName": "Михаил Демин",
      "userId": "14250540086915616791"
     },
     "user_tz": -600
    },
    "id": "KR0jZ1HldrPF",
    "outputId": "a7aacc0a-e6c9-4fc1-957d-f1513741eff6"
   },
   "outputs": [
    {
     "data": {
      "image/png": "[encoded data removed]",
      "text/plain": [
       "<Figure size 400x400 with 1 Axes>"
      ]
     },
     "metadata": {},
     "output_type": "display_data"
    }
   ],
   "source": [
    "fig, ax = plt.subplots()\n",
    "\n",
    "for title, group in df_dis.groupby('Mutation_type'):\n",
    "    ax.scatter(group['SNP_CLASS'], group['Mutation_type'])\n",
    "\n",
    "fig.set_figheight(4)\n",
    "fig.set_figwidth(4)\n",
    "\n",
    "# ax.set_xticklabels(ax.get_xticklabels(), rotation=60, ha='right')\n",
    "\n",
    "plt.xlabel('SNP_CLASS')\n",
    "plt.ylabel('Mutation type')\n",
    "plt.title('Mutation types and SNP class relation of FGFR2-related diseases')\n",
    "\n",
    "# plt.legend()\n",
    "plt.show()"
   ]
  }
 ],
 "metadata": {
  "accelerator": "GPU",
  "colab": {
   "provenance": [
    {
     "file_id": "1qLikB0NHJgcZNhfq0JJoVRdbBnE5rupo",
     "timestamp": 1680687692210
    },
    {
     "file_id": "1gQkyuY56an7E5iv570VCsakgywks79i9",
     "timestamp": 1680203319110
    },
    {
     "file_id": "1p9nKow6KIgkUF_ImS69LLWWG6d_yI_v0",
     "timestamp": 1679456280157
    },
    {
     "file_id": "189C74V6Yf8ZlGKzMSIPSANsVYGZTn0dH",
     "timestamp": 1679152320938
    },
    {
     "file_id": "11iM5NEbkxC4sJjKYz2cMYKoKKlY9OAB7",
     "timestamp": 1678950522949
    },
    {
     "file_id": "12Xw_z0M6CSCILbfrEQxB_JERZ0SPigO_",
     "timestamp": 1678946324308
    },
    {
     "file_id": "1nlnJX5sXegkRwKcm_VHAb-j8jP4rJl6s",
     "timestamp": 1678639331274
    },
    {
     "file_id": "1YqOWXz1nIBS5zqiXOdvYw6QzFHzBafTS",
     "timestamp": 1644227625435
    }
   ]
  },
  "gpuClass": "standard",
  "kernelspec": {
   "display_name": "Python 3 (ipykernel)",
   "language": "python",
   "name": "python3"
  },
  "language_info": {
   "codemirror_mode": {
    "name": "ipython",
    "version": 3
   },
   "file_extension": ".py",
   "mimetype": "text/x-python",
   "name": "python",
   "nbconvert_exporter": "python",
   "pygments_lexer": "ipython3",
   "version": "3.9.7"
  },
  "nbTranslate": {
   "displayLangs": [
    "*"
   ],
   "hotkey": "alt-t",
   "langInMainMenu": true,
   "sourceLang": "en",
   "targetLang": "fr",
   "useGoogleTranslate": true
  },
  "toc": {
   "base_numbering": 1,
   "nav_menu": {},
   "number_sections": false,
   "sideBar": true,
   "skip_h1_title": false,
   "title_cell": "Table of Contents",
   "title_sidebar": "Contents",
   "toc_cell": false,
   "toc_position": {},
   "toc_section_display": true,
   "toc_window_display": false
  },
  "varInspector": {
   "cols": {
    "lenName": 16,
    "lenType": 16,
    "lenVar": 40
   },
   "kernels_config": {
    "python": {
     "delete_cmd_postfix": "",
     "delete_cmd_prefix": "del ",
     "library": "var_list.py",
     "varRefreshCmd": "print(var_dic_list())"
    },
    "r": {
     "delete_cmd_postfix": ") ",
     "delete_cmd_prefix": "rm(",
     "library": "var_list.r",
     "varRefreshCmd": "cat(var_dic_list()) "
    }
   },
   "types_to_exclude": [
    "module",
    "function",
    "builtin_function_or_method",
    "instance",
    "_Feature"
   ],
   "window_display": false
  }
 },
 "nbformat": 4,
 "nbformat_minor": 1
}
