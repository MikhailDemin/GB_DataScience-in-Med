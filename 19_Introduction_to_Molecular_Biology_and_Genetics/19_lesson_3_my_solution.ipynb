{
 "cells": [
  {
   "cell_type": "markdown",
   "metadata": {
    "id": "Z-Qpfl-1ii56"
   },
   "source": [
    "# Урок 3. Мутации\n",
    "\n",
    "## Домашнее задание."
   ]
  },
  {
   "cell_type": "markdown",
   "metadata": {
    "id": "yTlJ_AAQii5_"
   },
   "source": [
    "В таблицу гена, полученную по итогам практического задания первого урока, добавьте следующую информацию: количество `rs` для избранного гена.\n",
    "\n",
    "Сделанное практическое задание предоставляется в формате .ipynb в Google Colab.\n",
    "\n",
    "https://colab.research.google.com/drive/1VlaBiTicFWCul2kExwadAJ1UfaNUPlvS"
   ]
  },
  {
   "cell_type": "markdown",
   "metadata": {
    "id": "I3ZosTT3ii6A"
   },
   "source": [
    "## Задание выполнено командой M4 Team.\n",
    "__Состав команды:__  \n",
    " - Мгер Парунакян\n",
    " - Михаил Демин\n",
    " - Марат Закиров\n",
    " - Марина Дружинина"
   ]
  },
  {
   "cell_type": "code",
   "execution_count": 1,
   "metadata": {
    "colab": {
     "base_uri": "https://localhost:8080/"
    },
    "id": "vWiIyicIxw7m",
    "outputId": "fcaf5b4e-f237-4d64-d858-9b38e4dc9b6f"
   },
   "outputs": [
    {
     "name": "stdout",
     "output_type": "stream",
     "text": [
      "Looking in indexes: https://pypi.org/simple, https://us-python.pkg.dev/colab-wheels/public/simple/\n",
      "Collecting biopython\n",
      "  Downloading biopython-1.81-cp39-cp39-manylinux_2_17_x86_64.manylinux2014_x86_64.whl (3.1 MB)\n",
      "\u001b[2K     \u001b[90m━━━━━━━━━━━━━━━━━━━━━━━━━━━━━━━━━━━━━━━━\u001b[0m \u001b[32m3.1/3.1 MB\u001b[0m \u001b[31m79.4 MB/s\u001b[0m eta \u001b[36m0:00:00\u001b[0m\n",
      "\u001b[?25hRequirement already satisfied: numpy in /usr/local/lib/python3.9/dist-packages (from biopython) (1.22.4)\n",
      "Installing collected packages: biopython\n",
      "Successfully installed biopython-1.81\n"
     ]
    }
   ],
   "source": [
    "try:\n",
    "    import google.colab\n",
    "    # Running on Google Colab, so install Biopython first\n",
    "    !pip install biopython\n",
    "except ImportError:\n",
    "    pass\n"
   ]
  },
  {
   "cell_type": "code",
   "execution_count": 2,
   "metadata": {
    "id": "XZ63CTvQyqdD"
   },
   "outputs": [],
   "source": [
    "from Bio import Entrez\n",
    "Entrez.email = \"A.N.Other@example.com\"\n",
    "from Bio import SeqIO\n",
    "from Bio.Seq import MutableSeq\n",
    "from Bio.Seq import Seq\n",
    "from Bio.SeqRecord import SeqRecord\n",
    "import pandas as pd\n",
    "import xml.etree.ElementTree as ET\n",
    "\n",
    "import re"
   ]
  },
  {
   "cell_type": "code",
   "execution_count": 3,
   "metadata": {
    "colab": {
     "base_uri": "https://localhost:8080/"
    },
    "id": "n4KhQRDQcz-R",
    "outputId": "f0b24ebe-0cf9-492d-ae42-e3f95e1a1bff"
   },
   "outputs": [
    {
     "name": "stdout",
     "output_type": "stream",
     "text": [
      "Mounted at /content/drive\n"
     ]
    }
   ],
   "source": [
    "from google.colab import drive\n",
    "drive.mount('/content/drive')"
   ]
  },
  {
   "cell_type": "code",
   "execution_count": 4,
   "metadata": {
    "colab": {
     "base_uri": "https://localhost:8080/"
    },
    "id": "9EukPU1Fuhvk",
    "outputId": "07ccec5e-6c71-4a47-a94d-d705953dcbda"
   },
   "outputs": [
    {
     "name": "stdout",
     "output_type": "stream",
     "text": [
      "/content/drive/MyDrive/Colab_Notebooks/GB\n"
     ]
    }
   ],
   "source": [
    "%cd '/content/drive/MyDrive/Colab_Notebooks/GB'"
   ]
  },
  {
   "cell_type": "code",
   "execution_count": 5,
   "metadata": {
    "colab": {
     "base_uri": "https://localhost:8080/",
     "height": 713
    },
    "id": "XRIWN0Bqy5jX",
    "outputId": "d58c3332-bf58-44e8-ade1-c4063642ec0e"
   },
   "outputs": [
    {
     "data": {
      "text/html": [
       "\n",
       "  <div id=\"df-b6f11198-d23c-4e69-ba1d-88346ab556f3\">\n",
       "    <div class=\"colab-df-container\">\n",
       "      <div>\n",
       "<style scoped>\n",
       "    .dataframe tbody tr th:only-of-type {\n",
       "        vertical-align: middle;\n",
       "    }\n",
       "\n",
       "    .dataframe tbody tr th {\n",
       "        vertical-align: top;\n",
       "    }\n",
       "\n",
       "    .dataframe thead th {\n",
       "        text-align: right;\n",
       "    }\n",
       "</style>\n",
       "<table border=\"1\" class=\"dataframe\">\n",
       "  <thead>\n",
       "    <tr style=\"text-align: right;\">\n",
       "      <th></th>\n",
       "      <th>gene_pli</th>\n",
       "      <th>score</th>\n",
       "      <th>diseaseid</th>\n",
       "      <th>gene_dsi</th>\n",
       "      <th>protein_class_name</th>\n",
       "      <th>geneid</th>\n",
       "      <th>disease_class</th>\n",
       "      <th>disease_type</th>\n",
       "      <th>uniprotid</th>\n",
       "      <th>disease_class_name</th>\n",
       "      <th>disease_name</th>\n",
       "      <th>el</th>\n",
       "      <th>year_initial</th>\n",
       "      <th>source</th>\n",
       "      <th>ei</th>\n",
       "      <th>gene_dpi</th>\n",
       "      <th>protein_class</th>\n",
       "      <th>year_final</th>\n",
       "      <th>gene_symbol</th>\n",
       "      <th>disease_semantic_type</th>\n",
       "    </tr>\n",
       "  </thead>\n",
       "  <tbody>\n",
       "    <tr>\n",
       "      <th>0</th>\n",
       "      <td>1.643200e-05</td>\n",
       "      <td>1.00</td>\n",
       "      <td>C0001080</td>\n",
       "      <td>0.391</td>\n",
       "      <td>Kinase</td>\n",
       "      <td>2261</td>\n",
       "      <td>C16;C05</td>\n",
       "      <td>disease</td>\n",
       "      <td>P22607</td>\n",
       "      <td>Congenital, Hereditary, and Neonatal Diseas...</td>\n",
       "      <td>Achondroplasia</td>\n",
       "      <td>definitive</td>\n",
       "      <td>1994.0</td>\n",
       "      <td>CURATED</td>\n",
       "      <td>0.974</td>\n",
       "      <td>0.846</td>\n",
       "      <td>DTO_03300101</td>\n",
       "      <td>2020.0</td>\n",
       "      <td>FGFR3</td>\n",
       "      <td>Congenital Abnormality</td>\n",
       "    </tr>\n",
       "    <tr>\n",
       "      <th>1</th>\n",
       "      <td>1.040000e-05</td>\n",
       "      <td>0.80</td>\n",
       "      <td>C0000744</td>\n",
       "      <td>0.505</td>\n",
       "      <td>Transporter</td>\n",
       "      <td>4547</td>\n",
       "      <td>C16;C18</td>\n",
       "      <td>disease</td>\n",
       "      <td>P55157</td>\n",
       "      <td>Congenital, Hereditary, and Neonatal Diseas...</td>\n",
       "      <td>Abetalipoproteinemia</td>\n",
       "      <td>NaN</td>\n",
       "      <td>1985.0</td>\n",
       "      <td>CURATED</td>\n",
       "      <td>0.982</td>\n",
       "      <td>0.846</td>\n",
       "      <td>DTO_05007405</td>\n",
       "      <td>2019.0</td>\n",
       "      <td>MTTP</td>\n",
       "      <td>Disease or Syndrome</td>\n",
       "    </tr>\n",
       "    <tr>\n",
       "      <th>2</th>\n",
       "      <td>9.973100e-01</td>\n",
       "      <td>0.80</td>\n",
       "      <td>C0001193</td>\n",
       "      <td>0.380</td>\n",
       "      <td>Kinase</td>\n",
       "      <td>2263</td>\n",
       "      <td>C16;C05</td>\n",
       "      <td>disease</td>\n",
       "      <td>P21802</td>\n",
       "      <td>Congenital, Hereditary, and Neonatal Diseas...</td>\n",
       "      <td>Apert syndrome</td>\n",
       "      <td>NaN</td>\n",
       "      <td>1994.0</td>\n",
       "      <td>CURATED</td>\n",
       "      <td>0.976</td>\n",
       "      <td>0.808</td>\n",
       "      <td>DTO_03300101</td>\n",
       "      <td>2019.0</td>\n",
       "      <td>FGFR2</td>\n",
       "      <td>Congenital Abnormality</td>\n",
       "    </tr>\n",
       "    <tr>\n",
       "      <th>3</th>\n",
       "      <td>5.323500e-01</td>\n",
       "      <td>0.70</td>\n",
       "      <td>C0001418</td>\n",
       "      <td>0.236</td>\n",
       "      <td>Transcription factor</td>\n",
       "      <td>7157</td>\n",
       "      <td>C04</td>\n",
       "      <td>group</td>\n",
       "      <td>P04637</td>\n",
       "      <td>Neoplasms</td>\n",
       "      <td>Adenocarcinoma</td>\n",
       "      <td>NaN</td>\n",
       "      <td>1986.0</td>\n",
       "      <td>CURATED</td>\n",
       "      <td>0.975</td>\n",
       "      <td>0.962</td>\n",
       "      <td>DTO_05007542</td>\n",
       "      <td>2020.0</td>\n",
       "      <td>TP53</td>\n",
       "      <td>Neoplastic Process</td>\n",
       "    </tr>\n",
       "    <tr>\n",
       "      <th>4</th>\n",
       "      <td>8.460200e-01</td>\n",
       "      <td>0.69</td>\n",
       "      <td>C0001126</td>\n",
       "      <td>0.522</td>\n",
       "      <td>Transporter</td>\n",
       "      <td>6521</td>\n",
       "      <td>C16;C18;C13;C12</td>\n",
       "      <td>phenotype</td>\n",
       "      <td>P02730</td>\n",
       "      <td>Congenital, Hereditary, and Neonatal Diseas...</td>\n",
       "      <td>Renal tubular acidosis</td>\n",
       "      <td>NaN</td>\n",
       "      <td>1996.0</td>\n",
       "      <td>CURATED</td>\n",
       "      <td>1.000</td>\n",
       "      <td>0.731</td>\n",
       "      <td>DTO_05007405</td>\n",
       "      <td>2013.0</td>\n",
       "      <td>SLC4A1</td>\n",
       "      <td>Disease or Syndrome</td>\n",
       "    </tr>\n",
       "    <tr>\n",
       "      <th>...</th>\n",
       "      <td>...</td>\n",
       "      <td>...</td>\n",
       "      <td>...</td>\n",
       "      <td>...</td>\n",
       "      <td>...</td>\n",
       "      <td>...</td>\n",
       "      <td>...</td>\n",
       "      <td>...</td>\n",
       "      <td>...</td>\n",
       "      <td>...</td>\n",
       "      <td>...</td>\n",
       "      <td>...</td>\n",
       "      <td>...</td>\n",
       "      <td>...</td>\n",
       "      <td>...</td>\n",
       "      <td>...</td>\n",
       "      <td>...</td>\n",
       "      <td>...</td>\n",
       "      <td>...</td>\n",
       "      <td>...</td>\n",
       "    </tr>\n",
       "    <tr>\n",
       "      <th>453</th>\n",
       "      <td>1.047800e-06</td>\n",
       "      <td>0.30</td>\n",
       "      <td>C0001430</td>\n",
       "      <td>0.578</td>\n",
       "      <td>NaN</td>\n",
       "      <td>6948</td>\n",
       "      <td>C04</td>\n",
       "      <td>group</td>\n",
       "      <td>P20062</td>\n",
       "      <td>Neoplasms</td>\n",
       "      <td>Adenoma</td>\n",
       "      <td>NaN</td>\n",
       "      <td>2007.0</td>\n",
       "      <td>CURATED</td>\n",
       "      <td>1.000</td>\n",
       "      <td>0.615</td>\n",
       "      <td>NaN</td>\n",
       "      <td>2007.0</td>\n",
       "      <td>TCN2</td>\n",
       "      <td>Neoplastic Process</td>\n",
       "    </tr>\n",
       "    <tr>\n",
       "      <th>454</th>\n",
       "      <td>2.095700e-32</td>\n",
       "      <td>0.30</td>\n",
       "      <td>C0001430</td>\n",
       "      <td>0.419</td>\n",
       "      <td>Transporter</td>\n",
       "      <td>9429</td>\n",
       "      <td>C04</td>\n",
       "      <td>group</td>\n",
       "      <td>Q9UNQ0</td>\n",
       "      <td>Neoplasms</td>\n",
       "      <td>Adenoma</td>\n",
       "      <td>NaN</td>\n",
       "      <td>2011.0</td>\n",
       "      <td>CURATED</td>\n",
       "      <td>1.000</td>\n",
       "      <td>0.885</td>\n",
       "      <td>DTO_05007405</td>\n",
       "      <td>2011.0</td>\n",
       "      <td>ABCG2</td>\n",
       "      <td>Neoplastic Process</td>\n",
       "    </tr>\n",
       "    <tr>\n",
       "      <th>455</th>\n",
       "      <td>1.000000e+00</td>\n",
       "      <td>0.30</td>\n",
       "      <td>C0001546</td>\n",
       "      <td>0.552</td>\n",
       "      <td>Epigenetic regulator</td>\n",
       "      <td>10014</td>\n",
       "      <td>F03</td>\n",
       "      <td>group</td>\n",
       "      <td>Q9UQL6</td>\n",
       "      <td>Mental Disorders</td>\n",
       "      <td>Adjustment Disorders</td>\n",
       "      <td>NaN</td>\n",
       "      <td>2007.0</td>\n",
       "      <td>CURATED</td>\n",
       "      <td>1.000</td>\n",
       "      <td>0.769</td>\n",
       "      <td>DTO_05007378</td>\n",
       "      <td>2007.0</td>\n",
       "      <td>HDAC5</td>\n",
       "      <td>Mental or Behavioral Dysfunction</td>\n",
       "    </tr>\n",
       "    <tr>\n",
       "      <th>456</th>\n",
       "      <td>8.919400e-01</td>\n",
       "      <td>0.30</td>\n",
       "      <td>C0001618</td>\n",
       "      <td>0.636</td>\n",
       "      <td>Enzyme modulator</td>\n",
       "      <td>2771</td>\n",
       "      <td>C04;C19</td>\n",
       "      <td>group</td>\n",
       "      <td>P04899</td>\n",
       "      <td>Neoplasms;    Endocrine System Diseases</td>\n",
       "      <td>Tumors of Adrenal Cortex</td>\n",
       "      <td>NaN</td>\n",
       "      <td>NaN</td>\n",
       "      <td>CURATED</td>\n",
       "      <td>NaN</td>\n",
       "      <td>0.577</td>\n",
       "      <td>DTO_05007584</td>\n",
       "      <td>NaN</td>\n",
       "      <td>GNAI2</td>\n",
       "      <td>Neoplastic Process</td>\n",
       "    </tr>\n",
       "    <tr>\n",
       "      <th>457</th>\n",
       "      <td>9.998500e-01</td>\n",
       "      <td>0.30</td>\n",
       "      <td>C0001618</td>\n",
       "      <td>0.401</td>\n",
       "      <td>NaN</td>\n",
       "      <td>5573</td>\n",
       "      <td>C04;C19</td>\n",
       "      <td>group</td>\n",
       "      <td>P10644</td>\n",
       "      <td>Neoplasms;    Endocrine System Diseases</td>\n",
       "      <td>Tumors of Adrenal Cortex</td>\n",
       "      <td>NaN</td>\n",
       "      <td>NaN</td>\n",
       "      <td>CURATED</td>\n",
       "      <td>NaN</td>\n",
       "      <td>0.846</td>\n",
       "      <td>NaN</td>\n",
       "      <td>NaN</td>\n",
       "      <td>PRKAR1A</td>\n",
       "      <td>Neoplastic Process</td>\n",
       "    </tr>\n",
       "  </tbody>\n",
       "</table>\n",
       "<p>458 rows × 20 columns</p>\n",
       "</div>\n",
       "      <button class=\"colab-df-convert\" onclick=\"convertToInteractive('df-b6f11198-d23c-4e69-ba1d-88346ab556f3')\"\n",
       "              title=\"Convert this dataframe to an interactive table.\"\n",
       "              style=\"display:none;\">\n",
       "        \n",
       "  <svg xmlns=\"http://www.w3.org/2000/svg\" height=\"24px\"viewBox=\"0 0 24 24\"\n",
       "       width=\"24px\">\n",
       "    <path d=\"M0 0h24v24H0V0z\" fill=\"none\"/>\n",
       "    <path d=\"M18.56 5.44l.94 2.06.94-2.06 2.06-.94-2.06-.94-.94-2.06-.94 2.06-2.06.94zm-11 1L8.5 8.5l.94-2.06 2.06-.94-2.06-.94L8.5 2.5l-.94 2.06-2.06.94zm10 10l.94 2.06.94-2.06 2.06-.94-2.06-.94-.94-2.06-.94 2.06-2.06.94z\"/><path d=\"M17.41 7.96l-1.37-1.37c-.4-.4-.92-.59-1.43-.59-.52 0-1.04.2-1.43.59L10.3 9.45l-7.72 7.72c-.78.78-.78 2.05 0 2.83L4 21.41c.39.39.9.59 1.41.59.51 0 1.02-.2 1.41-.59l7.78-7.78 2.81-2.81c.8-.78.8-2.07 0-2.86zM5.41 20L4 18.59l7.72-7.72 1.47 1.35L5.41 20z\"/>\n",
       "  </svg>\n",
       "      </button>\n",
       "      \n",
       "  <style>\n",
       "    .colab-df-container {\n",
       "      display:flex;\n",
       "      flex-wrap:wrap;\n",
       "      gap: 12px;\n",
       "    }\n",
       "\n",
       "    .colab-df-convert {\n",
       "      background-color: #E8F0FE;\n",
       "      border: none;\n",
       "      border-radius: 50%;\n",
       "      cursor: pointer;\n",
       "      display: none;\n",
       "      fill: #1967D2;\n",
       "      height: 32px;\n",
       "      padding: 0 0 0 0;\n",
       "      width: 32px;\n",
       "    }\n",
       "\n",
       "    .colab-df-convert:hover {\n",
       "      background-color: #E2EBFA;\n",
       "      box-shadow: 0px 1px 2px rgba(60, 64, 67, 0.3), 0px 1px 3px 1px rgba(60, 64, 67, 0.15);\n",
       "      fill: #174EA6;\n",
       "    }\n",
       "\n",
       "    [theme=dark] .colab-df-convert {\n",
       "      background-color: #3B4455;\n",
       "      fill: #D2E3FC;\n",
       "    }\n",
       "\n",
       "    [theme=dark] .colab-df-convert:hover {\n",
       "      background-color: #434B5C;\n",
       "      box-shadow: 0px 1px 3px 1px rgba(0, 0, 0, 0.15);\n",
       "      filter: drop-shadow(0px 1px 2px rgba(0, 0, 0, 0.3));\n",
       "      fill: #FFFFFF;\n",
       "    }\n",
       "  </style>\n",
       "\n",
       "      <script>\n",
       "        const buttonEl =\n",
       "          document.querySelector('#df-b6f11198-d23c-4e69-ba1d-88346ab556f3 button.colab-df-convert');\n",
       "        buttonEl.style.display =\n",
       "          google.colab.kernel.accessAllowed ? 'block' : 'none';\n",
       "\n",
       "        async function convertToInteractive(key) {\n",
       "          const element = document.querySelector('#df-b6f11198-d23c-4e69-ba1d-88346ab556f3');\n",
       "          const dataTable =\n",
       "            await google.colab.kernel.invokeFunction('convertToInteractive',\n",
       "                                                     [key], {});\n",
       "          if (!dataTable) return;\n",
       "\n",
       "          const docLinkHtml = 'Like what you see? Visit the ' +\n",
       "            '<a target=\"_blank\" href=https://colab.research.google.com/notebooks/data_table.ipynb>data table notebook</a>'\n",
       "            + ' to learn more about interactive tables.';\n",
       "          element.innerHTML = '';\n",
       "          dataTable['output_type'] = 'display_data';\n",
       "          await google.colab.output.renderOutput(dataTable, element);\n",
       "          const docLink = document.createElement('div');\n",
       "          docLink.innerHTML = docLinkHtml;\n",
       "          element.appendChild(docLink);\n",
       "        }\n",
       "      </script>\n",
       "    </div>\n",
       "  </div>\n",
       "  "
      ],
      "text/plain": [
       "         gene_pli  score diseaseid  gene_dsi    protein_class_name  geneid  \\\n",
       "0    1.643200e-05   1.00  C0001080     0.391                Kinase    2261   \n",
       "1    1.040000e-05   0.80  C0000744     0.505           Transporter    4547   \n",
       "2    9.973100e-01   0.80  C0001193     0.380                Kinase    2263   \n",
       "3    5.323500e-01   0.70  C0001418     0.236  Transcription factor    7157   \n",
       "4    8.460200e-01   0.69  C0001126     0.522           Transporter    6521   \n",
       "..            ...    ...       ...       ...                   ...     ...   \n",
       "453  1.047800e-06   0.30  C0001430     0.578                   NaN    6948   \n",
       "454  2.095700e-32   0.30  C0001430     0.419           Transporter    9429   \n",
       "455  1.000000e+00   0.30  C0001546     0.552  Epigenetic regulator   10014   \n",
       "456  8.919400e-01   0.30  C0001618     0.636      Enzyme modulator    2771   \n",
       "457  9.998500e-01   0.30  C0001618     0.401                   NaN    5573   \n",
       "\n",
       "       disease_class disease_type uniprotid  \\\n",
       "0            C16;C05      disease    P22607   \n",
       "1            C16;C18      disease    P55157   \n",
       "2            C16;C05      disease    P21802   \n",
       "3                C04        group    P04637   \n",
       "4    C16;C18;C13;C12    phenotype    P02730   \n",
       "..               ...          ...       ...   \n",
       "453              C04        group    P20062   \n",
       "454              C04        group    Q9UNQ0   \n",
       "455              F03        group    Q9UQL6   \n",
       "456          C04;C19        group    P04899   \n",
       "457          C04;C19        group    P10644   \n",
       "\n",
       "                                    disease_class_name  \\\n",
       "0       Congenital, Hereditary, and Neonatal Diseas...   \n",
       "1       Congenital, Hereditary, and Neonatal Diseas...   \n",
       "2       Congenital, Hereditary, and Neonatal Diseas...   \n",
       "3                                            Neoplasms   \n",
       "4       Congenital, Hereditary, and Neonatal Diseas...   \n",
       "..                                                 ...   \n",
       "453                                          Neoplasms   \n",
       "454                                          Neoplasms   \n",
       "455                                   Mental Disorders   \n",
       "456            Neoplasms;    Endocrine System Diseases   \n",
       "457            Neoplasms;    Endocrine System Diseases   \n",
       "\n",
       "                 disease_name          el  year_initial   source     ei  \\\n",
       "0              Achondroplasia  definitive        1994.0  CURATED  0.974   \n",
       "1        Abetalipoproteinemia         NaN        1985.0  CURATED  0.982   \n",
       "2              Apert syndrome         NaN        1994.0  CURATED  0.976   \n",
       "3              Adenocarcinoma         NaN        1986.0  CURATED  0.975   \n",
       "4      Renal tubular acidosis         NaN        1996.0  CURATED  1.000   \n",
       "..                        ...         ...           ...      ...    ...   \n",
       "453                   Adenoma         NaN        2007.0  CURATED  1.000   \n",
       "454                   Adenoma         NaN        2011.0  CURATED  1.000   \n",
       "455      Adjustment Disorders         NaN        2007.0  CURATED  1.000   \n",
       "456  Tumors of Adrenal Cortex         NaN           NaN  CURATED    NaN   \n",
       "457  Tumors of Adrenal Cortex         NaN           NaN  CURATED    NaN   \n",
       "\n",
       "     gene_dpi protein_class  year_final gene_symbol  \\\n",
       "0       0.846  DTO_03300101      2020.0       FGFR3   \n",
       "1       0.846  DTO_05007405      2019.0        MTTP   \n",
       "2       0.808  DTO_03300101      2019.0       FGFR2   \n",
       "3       0.962  DTO_05007542      2020.0        TP53   \n",
       "4       0.731  DTO_05007405      2013.0      SLC4A1   \n",
       "..        ...           ...         ...         ...   \n",
       "453     0.615           NaN      2007.0        TCN2   \n",
       "454     0.885  DTO_05007405      2011.0       ABCG2   \n",
       "455     0.769  DTO_05007378      2007.0       HDAC5   \n",
       "456     0.577  DTO_05007584         NaN       GNAI2   \n",
       "457     0.846           NaN         NaN     PRKAR1A   \n",
       "\n",
       "                disease_semantic_type  \n",
       "0              Congenital Abnormality  \n",
       "1                 Disease or Syndrome  \n",
       "2              Congenital Abnormality  \n",
       "3                  Neoplastic Process  \n",
       "4                 Disease or Syndrome  \n",
       "..                                ...  \n",
       "453                Neoplastic Process  \n",
       "454                Neoplastic Process  \n",
       "455  Mental or Behavioral Dysfunction  \n",
       "456                Neoplastic Process  \n",
       "457                Neoplastic Process  \n",
       "\n",
       "[458 rows x 20 columns]"
      ]
     },
     "execution_count": 5,
     "metadata": {},
     "output_type": "execute_result"
    }
   ],
   "source": [
    "dis = pd.read_table('gene_disease_associations.tsv')\n",
    "dis"
   ]
  },
  {
   "cell_type": "markdown",
   "metadata": {},
   "source": [
    "## Задание 1"
   ]
  },
  {
   "cell_type": "code",
   "execution_count": 6,
   "metadata": {
    "colab": {
     "base_uri": "https://localhost:8080/",
     "height": 245
    },
    "id": "Q2XJfjviJzpH",
    "outputId": "6261997c-093b-4cfe-c96f-bb332795457a"
   },
   "outputs": [
    {
     "data": {
      "text/html": [
       "\n",
       "  <div id=\"df-2ee9223e-af0a-4ebe-9cae-0eb8254fa3c6\">\n",
       "    <div class=\"colab-df-container\">\n",
       "      <div>\n",
       "<style scoped>\n",
       "    .dataframe tbody tr th:only-of-type {\n",
       "        vertical-align: middle;\n",
       "    }\n",
       "\n",
       "    .dataframe tbody tr th {\n",
       "        vertical-align: top;\n",
       "    }\n",
       "\n",
       "    .dataframe thead th {\n",
       "        text-align: right;\n",
       "    }\n",
       "</style>\n",
       "<table border=\"1\" class=\"dataframe\">\n",
       "  <thead>\n",
       "    <tr style=\"text-align: right;\">\n",
       "      <th></th>\n",
       "      <th>gene_pli</th>\n",
       "      <th>score</th>\n",
       "      <th>diseaseid</th>\n",
       "      <th>gene_dsi</th>\n",
       "      <th>protein_class_name</th>\n",
       "      <th>geneid</th>\n",
       "      <th>disease_class</th>\n",
       "      <th>disease_type</th>\n",
       "      <th>uniprotid</th>\n",
       "      <th>disease_class_name</th>\n",
       "      <th>disease_name</th>\n",
       "      <th>el</th>\n",
       "      <th>year_initial</th>\n",
       "      <th>source</th>\n",
       "      <th>ei</th>\n",
       "      <th>gene_dpi</th>\n",
       "      <th>protein_class</th>\n",
       "      <th>year_final</th>\n",
       "      <th>gene_symbol</th>\n",
       "      <th>disease_semantic_type</th>\n",
       "    </tr>\n",
       "  </thead>\n",
       "  <tbody>\n",
       "    <tr>\n",
       "      <th>2</th>\n",
       "      <td>0.99731</td>\n",
       "      <td>0.80</td>\n",
       "      <td>C0001193</td>\n",
       "      <td>0.380</td>\n",
       "      <td>Kinase</td>\n",
       "      <td>2263</td>\n",
       "      <td>C16;C05</td>\n",
       "      <td>disease</td>\n",
       "      <td>P21802</td>\n",
       "      <td>Congenital, Hereditary, and Neonatal Diseas...</td>\n",
       "      <td>Apert syndrome</td>\n",
       "      <td>NaN</td>\n",
       "      <td>1994.0</td>\n",
       "      <td>CURATED</td>\n",
       "      <td>0.976</td>\n",
       "      <td>0.808</td>\n",
       "      <td>DTO_03300101</td>\n",
       "      <td>2019.0</td>\n",
       "      <td>FGFR2</td>\n",
       "      <td>Congenital Abnormality</td>\n",
       "    </tr>\n",
       "    <tr>\n",
       "      <th>126</th>\n",
       "      <td>0.34491</td>\n",
       "      <td>0.31</td>\n",
       "      <td>C0001193</td>\n",
       "      <td>0.397</td>\n",
       "      <td>Transcription factor</td>\n",
       "      <td>7291</td>\n",
       "      <td>C16;C05</td>\n",
       "      <td>disease</td>\n",
       "      <td>Q15672</td>\n",
       "      <td>Congenital, Hereditary, and Neonatal Diseas...</td>\n",
       "      <td>Apert syndrome</td>\n",
       "      <td>NaN</td>\n",
       "      <td>2005.0</td>\n",
       "      <td>CURATED</td>\n",
       "      <td>1.000</td>\n",
       "      <td>0.846</td>\n",
       "      <td>DTO_05007542</td>\n",
       "      <td>2013.0</td>\n",
       "      <td>TWIST1</td>\n",
       "      <td>Congenital Abnormality</td>\n",
       "    </tr>\n",
       "  </tbody>\n",
       "</table>\n",
       "</div>\n",
       "      <button class=\"colab-df-convert\" onclick=\"convertToInteractive('df-2ee9223e-af0a-4ebe-9cae-0eb8254fa3c6')\"\n",
       "              title=\"Convert this dataframe to an interactive table.\"\n",
       "              style=\"display:none;\">\n",
       "        \n",
       "  <svg xmlns=\"http://www.w3.org/2000/svg\" height=\"24px\"viewBox=\"0 0 24 24\"\n",
       "       width=\"24px\">\n",
       "    <path d=\"M0 0h24v24H0V0z\" fill=\"none\"/>\n",
       "    <path d=\"M18.56 5.44l.94 2.06.94-2.06 2.06-.94-2.06-.94-.94-2.06-.94 2.06-2.06.94zm-11 1L8.5 8.5l.94-2.06 2.06-.94-2.06-.94L8.5 2.5l-.94 2.06-2.06.94zm10 10l.94 2.06.94-2.06 2.06-.94-2.06-.94-.94-2.06-.94 2.06-2.06.94z\"/><path d=\"M17.41 7.96l-1.37-1.37c-.4-.4-.92-.59-1.43-.59-.52 0-1.04.2-1.43.59L10.3 9.45l-7.72 7.72c-.78.78-.78 2.05 0 2.83L4 21.41c.39.39.9.59 1.41.59.51 0 1.02-.2 1.41-.59l7.78-7.78 2.81-2.81c.8-.78.8-2.07 0-2.86zM5.41 20L4 18.59l7.72-7.72 1.47 1.35L5.41 20z\"/>\n",
       "  </svg>\n",
       "      </button>\n",
       "      \n",
       "  <style>\n",
       "    .colab-df-container {\n",
       "      display:flex;\n",
       "      flex-wrap:wrap;\n",
       "      gap: 12px;\n",
       "    }\n",
       "\n",
       "    .colab-df-convert {\n",
       "      background-color: #E8F0FE;\n",
       "      border: none;\n",
       "      border-radius: 50%;\n",
       "      cursor: pointer;\n",
       "      display: none;\n",
       "      fill: #1967D2;\n",
       "      height: 32px;\n",
       "      padding: 0 0 0 0;\n",
       "      width: 32px;\n",
       "    }\n",
       "\n",
       "    .colab-df-convert:hover {\n",
       "      background-color: #E2EBFA;\n",
       "      box-shadow: 0px 1px 2px rgba(60, 64, 67, 0.3), 0px 1px 3px 1px rgba(60, 64, 67, 0.15);\n",
       "      fill: #174EA6;\n",
       "    }\n",
       "\n",
       "    [theme=dark] .colab-df-convert {\n",
       "      background-color: #3B4455;\n",
       "      fill: #D2E3FC;\n",
       "    }\n",
       "\n",
       "    [theme=dark] .colab-df-convert:hover {\n",
       "      background-color: #434B5C;\n",
       "      box-shadow: 0px 1px 3px 1px rgba(0, 0, 0, 0.15);\n",
       "      filter: drop-shadow(0px 1px 2px rgba(0, 0, 0, 0.3));\n",
       "      fill: #FFFFFF;\n",
       "    }\n",
       "  </style>\n",
       "\n",
       "      <script>\n",
       "        const buttonEl =\n",
       "          document.querySelector('#df-2ee9223e-af0a-4ebe-9cae-0eb8254fa3c6 button.colab-df-convert');\n",
       "        buttonEl.style.display =\n",
       "          google.colab.kernel.accessAllowed ? 'block' : 'none';\n",
       "\n",
       "        async function convertToInteractive(key) {\n",
       "          const element = document.querySelector('#df-2ee9223e-af0a-4ebe-9cae-0eb8254fa3c6');\n",
       "          const dataTable =\n",
       "            await google.colab.kernel.invokeFunction('convertToInteractive',\n",
       "                                                     [key], {});\n",
       "          if (!dataTable) return;\n",
       "\n",
       "          const docLinkHtml = 'Like what you see? Visit the ' +\n",
       "            '<a target=\"_blank\" href=https://colab.research.google.com/notebooks/data_table.ipynb>data table notebook</a>'\n",
       "            + ' to learn more about interactive tables.';\n",
       "          element.innerHTML = '';\n",
       "          dataTable['output_type'] = 'display_data';\n",
       "          await google.colab.output.renderOutput(dataTable, element);\n",
       "          const docLink = document.createElement('div');\n",
       "          docLink.innerHTML = docLinkHtml;\n",
       "          element.appendChild(docLink);\n",
       "        }\n",
       "      </script>\n",
       "    </div>\n",
       "  </div>\n",
       "  "
      ],
      "text/plain": [
       "     gene_pli  score diseaseid  gene_dsi    protein_class_name  geneid  \\\n",
       "2     0.99731   0.80  C0001193     0.380                Kinase    2263   \n",
       "126   0.34491   0.31  C0001193     0.397  Transcription factor    7291   \n",
       "\n",
       "    disease_class disease_type uniprotid  \\\n",
       "2         C16;C05      disease    P21802   \n",
       "126       C16;C05      disease    Q15672   \n",
       "\n",
       "                                    disease_class_name    disease_name   el  \\\n",
       "2       Congenital, Hereditary, and Neonatal Diseas...  Apert syndrome  NaN   \n",
       "126     Congenital, Hereditary, and Neonatal Diseas...  Apert syndrome  NaN   \n",
       "\n",
       "     year_initial   source     ei  gene_dpi protein_class  year_final  \\\n",
       "2          1994.0  CURATED  0.976     0.808  DTO_03300101      2019.0   \n",
       "126        2005.0  CURATED  1.000     0.846  DTO_05007542      2013.0   \n",
       "\n",
       "    gene_symbol   disease_semantic_type  \n",
       "2         FGFR2  Congenital Abnormality  \n",
       "126      TWIST1  Congenital Abnormality  "
      ]
     },
     "execution_count": 6,
     "metadata": {},
     "output_type": "execute_result"
    }
   ],
   "source": [
    "#Формируем таблицу генов по наименованию болезни\n",
    "disease_db = dis.loc[dis['disease_name'] == 'Apert syndrome']\n",
    "disease_db"
   ]
  },
  {
   "cell_type": "code",
   "execution_count": 7,
   "metadata": {
    "colab": {
     "base_uri": "https://localhost:8080/"
    },
    "id": "3mJYmnUnUcT6",
    "outputId": "9b1a6423-3894-42d8-f1cd-66baa569c8e4"
   },
   "outputs": [
    {
     "data": {
      "text/plain": [
       "[2263, 7291]"
      ]
     },
     "execution_count": 7,
     "metadata": {},
     "output_type": "execute_result"
    }
   ],
   "source": [
    "#Получаем список ID генов по наименованию болезни из таблицы\n",
    "gene_id_list = disease_db['geneid'].tolist()\n",
    "gene_id_list"
   ]
  },
  {
   "cell_type": "markdown",
   "metadata": {
    "id": "ciSX35tCxjvp"
   },
   "source": [
    "### Процедуры запроса необходимой информации из NCBI"
   ]
  },
  {
   "cell_type": "code",
   "execution_count": 8,
   "metadata": {
    "id": "g37U5mXe9sBI"
   },
   "outputs": [],
   "source": [
    "#Запрашиваем ID хромосомы из NCBI через параметр 'gi_id'.\n",
    "#Эта процедура применяется в общей процедуре сбора информации по генам(см. ячейку ниже)\n",
    "def search_chromosome(gi_id):\n",
    "    handle = Entrez.esummary(db=\"nucleotide\", id=gi_id)\n",
    "    record = Entrez.read(handle)\n",
    "    handle.close()\n",
    "    return record[0]['AccessionVersion']"
   ]
  },
  {
   "cell_type": "code",
   "execution_count": 9,
   "metadata": {
    "id": "30yxn2fNzpHA"
   },
   "outputs": [],
   "source": [
    "def search_gene_name(gene_id):\n",
    "  handle = Entrez.esummary(db=\"gene\", id=gene_id)\n",
    "  record = Entrez.read(handle)\n",
    "  handle.close()\n",
    "  return record['DocumentSummarySet']['DocumentSummary'][0]['Name']\n",
    "  # print(record['DocumentSummarySet']['DocumentSummary'][0]['Name'])"
   ]
  },
  {
   "cell_type": "code",
   "execution_count": 10,
   "metadata": {
    "id": "2p5cIC35U137"
   },
   "outputs": [],
   "source": [
    "#Получаем из NCBI информацию о генах из списка 'gene_id_list', в том числе ID хромосомы.\n",
    "def get_gene_info(gene_id_list):\n",
    "  gene_info = []\n",
    "  for gene_id in gene_id_list:\n",
    "    handle = Entrez.efetch(db=\"gene\", id=gene_id, rettype = 'xml')\n",
    "    gene_locus = ET.parse(handle).getroot().find(\"Entrezgene/Entrezgene_locus\")\n",
    "    region = gene_locus.find(\"Gene-commentary/Gene-commentary_seqs/Seq-loc/Seq-loc_int/Seq-interval\")\n",
    "    start = int(region.find(\"Seq-interval_from\").text) + 1\n",
    "    end = int(region.find(\"Seq-interval_to\").text) + 1\n",
    "    gi_id = region.find(\"Seq-interval_id/Seq-id/Seq-id_gi\").text\n",
    "    strand = region.find(\"Seq-interval_strand/Na-strand\").get(\"value\")\n",
    "    # print(gene_id, start, end, gi_id, strand)\n",
    "    gene_info.append({'gene_name':search_gene_name(gene_id), 'gene_id':gene_id, 'interval_from':start, 'interval_to':end, 'gi_id':gi_id, 'nucleotide':search_chromosome(gi_id), 'strand':strand})\n",
    "  return gene_info"
   ]
  },
  {
   "cell_type": "code",
   "execution_count": 11,
   "metadata": {
    "id": "MR5tTRt31kYA"
   },
   "outputs": [],
   "source": [
    "# Вытаскиваем ген из БД `gene` напрямую по наименованию болезни(необходимо прописать интересующий ген в `term`)\n",
    "# handle = Entrez.esearch(db=\"gene\", term=\"Homo sapiens[Organism] AND FGFR2[Gene] AND Apert syndrome\")\n",
    "# record = Entrez.read(handle)\n",
    "# gene_id = record[\"IdList\"][0]\n",
    "# print(\"Gene ID:\", record[\"IdList\"][0])"
   ]
  },
  {
   "cell_type": "code",
   "execution_count": 12,
   "metadata": {
    "colab": {
     "base_uri": "https://localhost:8080/"
    },
    "id": "7cb3vlvWWYFx",
    "outputId": "d53f95fa-5a0c-4664-faae-7e58852f08f6"
   },
   "outputs": [
    {
     "name": "stdout",
     "output_type": "stream",
     "text": [
      "{'gene_name': 'FGFR2', 'gene_id': 2263, 'interval_from': 121478330, 'interval_to': 121598458, 'gi_id': '568815588', 'nucleotide': 'NC_000010.11', 'strand': 'minus'}\n",
      "{'gene_name': 'TWIST1', 'gene_id': 7291, 'interval_from': 19113047, 'interval_to': 19117636, 'gi_id': '568815591', 'nucleotide': 'NC_000007.14', 'strand': 'minus'}\n",
      "CPU times: user 335 ms, sys: 40.1 ms, total: 375 ms\n",
      "Wall time: 9.67 s\n"
     ]
    }
   ],
   "source": [
    "%%time\n",
    "#Формируем список по всем генам\n",
    "gene_list = get_gene_info(gene_id_list)\n",
    "for i in gene_list:\n",
    "  print(i)"
   ]
  },
  {
   "cell_type": "code",
   "execution_count": 13,
   "metadata": {
    "id": "0f-YICuW2Glf"
   },
   "outputs": [],
   "source": [
    "#Предоставляем список генов в виде таблицы\n",
    "df = pd.DataFrame(gene_list).head(1)\n",
    "df['accession'] = df['nucleotide'].apply(lambda x: x.split('.')[0])\n",
    "df['version'] = df['nucleotide'].apply(lambda x: x.split('.')[1])"
   ]
  },
  {
   "cell_type": "code",
   "execution_count": 14,
   "metadata": {
    "colab": {
     "base_uri": "https://localhost:8080/",
     "height": 331
    },
    "id": "eH52ap1V_JIp",
    "outputId": "417a3a4c-090c-4d1d-a6a6-b4fc11f37dbd"
   },
   "outputs": [
    {
     "data": {
      "text/html": [
       "\n",
       "  <div id=\"df-89a346d3-7a9c-4629-8b3d-ef55005ad9b5\">\n",
       "    <div class=\"colab-df-container\">\n",
       "      <div>\n",
       "<style scoped>\n",
       "    .dataframe tbody tr th:only-of-type {\n",
       "        vertical-align: middle;\n",
       "    }\n",
       "\n",
       "    .dataframe tbody tr th {\n",
       "        vertical-align: top;\n",
       "    }\n",
       "\n",
       "    .dataframe thead th {\n",
       "        text-align: right;\n",
       "    }\n",
       "</style>\n",
       "<table border=\"1\" class=\"dataframe\">\n",
       "  <thead>\n",
       "    <tr style=\"text-align: right;\">\n",
       "      <th></th>\n",
       "      <th>0</th>\n",
       "    </tr>\n",
       "  </thead>\n",
       "  <tbody>\n",
       "    <tr>\n",
       "      <th>gene_name</th>\n",
       "      <td>FGFR2</td>\n",
       "    </tr>\n",
       "    <tr>\n",
       "      <th>gene_id</th>\n",
       "      <td>2263</td>\n",
       "    </tr>\n",
       "    <tr>\n",
       "      <th>interval_from</th>\n",
       "      <td>121478330</td>\n",
       "    </tr>\n",
       "    <tr>\n",
       "      <th>interval_to</th>\n",
       "      <td>121598458</td>\n",
       "    </tr>\n",
       "    <tr>\n",
       "      <th>gi_id</th>\n",
       "      <td>568815588</td>\n",
       "    </tr>\n",
       "    <tr>\n",
       "      <th>nucleotide</th>\n",
       "      <td>NC_000010.11</td>\n",
       "    </tr>\n",
       "    <tr>\n",
       "      <th>strand</th>\n",
       "      <td>minus</td>\n",
       "    </tr>\n",
       "    <tr>\n",
       "      <th>accession</th>\n",
       "      <td>NC_000010</td>\n",
       "    </tr>\n",
       "    <tr>\n",
       "      <th>version</th>\n",
       "      <td>11</td>\n",
       "    </tr>\n",
       "  </tbody>\n",
       "</table>\n",
       "</div>\n",
       "      <button class=\"colab-df-convert\" onclick=\"convertToInteractive('df-89a346d3-7a9c-4629-8b3d-ef55005ad9b5')\"\n",
       "              title=\"Convert this dataframe to an interactive table.\"\n",
       "              style=\"display:none;\">\n",
       "        \n",
       "  <svg xmlns=\"http://www.w3.org/2000/svg\" height=\"24px\"viewBox=\"0 0 24 24\"\n",
       "       width=\"24px\">\n",
       "    <path d=\"M0 0h24v24H0V0z\" fill=\"none\"/>\n",
       "    <path d=\"M18.56 5.44l.94 2.06.94-2.06 2.06-.94-2.06-.94-.94-2.06-.94 2.06-2.06.94zm-11 1L8.5 8.5l.94-2.06 2.06-.94-2.06-.94L8.5 2.5l-.94 2.06-2.06.94zm10 10l.94 2.06.94-2.06 2.06-.94-2.06-.94-.94-2.06-.94 2.06-2.06.94z\"/><path d=\"M17.41 7.96l-1.37-1.37c-.4-.4-.92-.59-1.43-.59-.52 0-1.04.2-1.43.59L10.3 9.45l-7.72 7.72c-.78.78-.78 2.05 0 2.83L4 21.41c.39.39.9.59 1.41.59.51 0 1.02-.2 1.41-.59l7.78-7.78 2.81-2.81c.8-.78.8-2.07 0-2.86zM5.41 20L4 18.59l7.72-7.72 1.47 1.35L5.41 20z\"/>\n",
       "  </svg>\n",
       "      </button>\n",
       "      \n",
       "  <style>\n",
       "    .colab-df-container {\n",
       "      display:flex;\n",
       "      flex-wrap:wrap;\n",
       "      gap: 12px;\n",
       "    }\n",
       "\n",
       "    .colab-df-convert {\n",
       "      background-color: #E8F0FE;\n",
       "      border: none;\n",
       "      border-radius: 50%;\n",
       "      cursor: pointer;\n",
       "      display: none;\n",
       "      fill: #1967D2;\n",
       "      height: 32px;\n",
       "      padding: 0 0 0 0;\n",
       "      width: 32px;\n",
       "    }\n",
       "\n",
       "    .colab-df-convert:hover {\n",
       "      background-color: #E2EBFA;\n",
       "      box-shadow: 0px 1px 2px rgba(60, 64, 67, 0.3), 0px 1px 3px 1px rgba(60, 64, 67, 0.15);\n",
       "      fill: #174EA6;\n",
       "    }\n",
       "\n",
       "    [theme=dark] .colab-df-convert {\n",
       "      background-color: #3B4455;\n",
       "      fill: #D2E3FC;\n",
       "    }\n",
       "\n",
       "    [theme=dark] .colab-df-convert:hover {\n",
       "      background-color: #434B5C;\n",
       "      box-shadow: 0px 1px 3px 1px rgba(0, 0, 0, 0.15);\n",
       "      filter: drop-shadow(0px 1px 2px rgba(0, 0, 0, 0.3));\n",
       "      fill: #FFFFFF;\n",
       "    }\n",
       "  </style>\n",
       "\n",
       "      <script>\n",
       "        const buttonEl =\n",
       "          document.querySelector('#df-89a346d3-7a9c-4629-8b3d-ef55005ad9b5 button.colab-df-convert');\n",
       "        buttonEl.style.display =\n",
       "          google.colab.kernel.accessAllowed ? 'block' : 'none';\n",
       "\n",
       "        async function convertToInteractive(key) {\n",
       "          const element = document.querySelector('#df-89a346d3-7a9c-4629-8b3d-ef55005ad9b5');\n",
       "          const dataTable =\n",
       "            await google.colab.kernel.invokeFunction('convertToInteractive',\n",
       "                                                     [key], {});\n",
       "          if (!dataTable) return;\n",
       "\n",
       "          const docLinkHtml = 'Like what you see? Visit the ' +\n",
       "            '<a target=\"_blank\" href=https://colab.research.google.com/notebooks/data_table.ipynb>data table notebook</a>'\n",
       "            + ' to learn more about interactive tables.';\n",
       "          element.innerHTML = '';\n",
       "          dataTable['output_type'] = 'display_data';\n",
       "          await google.colab.output.renderOutput(dataTable, element);\n",
       "          const docLink = document.createElement('div');\n",
       "          docLink.innerHTML = docLinkHtml;\n",
       "          element.appendChild(docLink);\n",
       "        }\n",
       "      </script>\n",
       "    </div>\n",
       "  </div>\n",
       "  "
      ],
      "text/plain": [
       "                          0\n",
       "gene_name             FGFR2\n",
       "gene_id                2263\n",
       "interval_from     121478330\n",
       "interval_to       121598458\n",
       "gi_id             568815588\n",
       "nucleotide     NC_000010.11\n",
       "strand                minus\n",
       "accession         NC_000010\n",
       "version                  11"
      ]
     },
     "execution_count": 14,
     "metadata": {},
     "output_type": "execute_result"
    }
   ],
   "source": [
    "df.T"
   ]
  },
  {
   "cell_type": "markdown",
   "metadata": {},
   "source": [
    "## Задание 2"
   ]
  },
  {
   "cell_type": "code",
   "execution_count": 15,
   "metadata": {
    "id": "uqFc19oidpm4"
   },
   "outputs": [],
   "source": [
    "#Получаем нуклеотидную последовательность гена. Параметры берем из 'gene_list'\n",
    "def get_dna_sequence(gene_seq_keys_list):\n",
    "  for nucleotid in gene_seq_keys_list:\n",
    "    nucleotid_id = nucleotid['nucleotide']\n",
    "    start = nucleotid['interval_from']\n",
    "    end = nucleotid['interval_to']\n",
    "    handle = Entrez.efetch(db=\"nucleotide\",\n",
    "                        id=nucleotid_id, \n",
    "                        rettype = 'fasta',\n",
    "                        retmode = 'text')\n",
    "    #загружаем нуклеотидную последовательность хромосомы\n",
    "    chromosome = SeqIO.read(handle, 'fasta')\n",
    "    gene_sym = chromosome.seq[start:end]\n",
    "    print(f'Gene ID: {nucleotid[\"gene_id\"]}')\n",
    "    # print('Chromosome description: ' + chromosome.description)\n",
    "    # print('Gene sequence: ' + gene_sym)\n",
    "    # print('Gene sequence length: ' + str(len(gene_sym)) + '\\n')\n",
    "    # print(('=' * 100) + '\\n')\n",
    "    return gene_sym"
   ]
  },
  {
   "cell_type": "code",
   "execution_count": 16,
   "metadata": {
    "colab": {
     "base_uri": "https://localhost:8080/"
    },
    "id": "fdNoa_t8hBRu",
    "outputId": "830dc65f-7bcf-49cb-a217-c41ad3215b33"
   },
   "outputs": [
    {
     "name": "stdout",
     "output_type": "stream",
     "text": [
      "Gene ID: 2263\n",
      "ATTAAAAAAATAAGTTGCGTGACATTTATTTTGTCTTGTTAACATTAATATCTGTAGAAACATTTTTATTGTCAGTATAAAAATTAACAGGTTTTATTAAATACTTTCTCCAATTTTGTAACACATAAGATCAGTGTAATCTGCATTCATCTTGCACGGCTATTGCAAAGTGAGTGGGTGTTTCCAAAGCAAAACACAATACTTTAGTACAGAAGGAACAACGGCGATATTTTGTCTGATGTAGGTATGAGGCTGGATCTTTTGGTGAGGTCCTGCCAGAATTAGATGAAAGCAATCCCTTAAAAAGATGGACGTATCCCCAAAACTATCAGCAGAACAACTCTGTGTTTCAATTTTCTATGATGGGACTTGAAGATCCTAACAGGCGTCTCCAACGCCAAAGAGTCTGGAAGCCATTATCAAAATTCACTGAAGAGAATACAGGCTAATCTGATTAATGTGCAACTCAGAAGCAGAAGGCCAGCTGCCAGAGAGAAGCACATTCTGCTATCATTTCAACTAAGGTCTGTCCTCAAGGAATGGATTAAGGCATCTTTTAAGAGGACGCTGGTACCATTTATCTTGGGAAGTCCAGTTAGACGTTGCGTTGACGTAATGACAGGGTTGCACACCAAAATGAAACACCTTCCTATGAATGAGTTCTTTTAATATGGGGCATTTAGGAGGTCTAAGAACAATCGTCTGACAGCAGCATTTAAACACAAATAAATCAAAACTTCATTTTCCCCAAATTAGTCATATATTGTAAATATTCTCTTTTCAAAGGATCTGATAACTAGTTAAGTCCAAGCAATAGATTAACTAGTCTGCTGTGCTGCCTGCATAGAAATGCCACTTAAATTACAAAAAAAACTATAAATGATTAATTGTTTTGTATATTACCAATTTATTAATAAATTAACGTTATACCATTTTCCCTGAAAGCAAAAGTATTTTTCCACCTCTGCTCGGTGAAAATTAAGAAATTATGTGTAAGAACAGCATTTAGCAAATAGCTATTAAAAAAAGAGAGACCAATTTTCTAGGTGCATTGGGACATCCATTTAAAATCAATACAAAAAATAACTCCTTGTAAATATATAATATATATTTATACATAATTTGAATATATTTACATACATCCAGCACCTATATACTGCATTTGTGCTCTGTAAGTGTGTGCTGACATAAATCTTCTCCAATTATTACAAAATTAACAAGGAAGGCAGAACGCACGTCCACCTTGAGTCCTACTGGTCCACAGCCAGTACGCACGGCAGGTGAGAGGGGTTACATGGTGGCTTGTGGCAGTCCACTGCTCCAGAAACCTTCTTCTCCTCCTGGGGAAGATTACAAGTTTTCAACTGTATAAATCTTTACACATATGCTGATTACTTTTCCAATTATTTACTCCTCTGATCCATATATACAAGTGGAGACAACAAGCTCTGGGAGGCATGGTCTCCCTGCTCAGTGTAGCTAGGTTCCCAGTGCTGTCCTGTTTGGGGACAGGCAGACACAGTCATTCATGTTTTAACACTGCCGTTTATGTGTGGATACTGAGGAAGGCATGGTTCGTAAGGCATGGGGTCTGGAGAAAAAACAGAATCATCTCCTGAAGAACAAGAACTTCTTGTGTCAGGGTAACTAGGTGAATACTGTTCGAGAGGTTGGCTGAGGTCCAAGTATTCCTGAAAGAAGGGAAGAGAGACGTTTTATTTCATCTTGGGTCAGGATAACAAGGTGAATACGGTTCGAGAGGCTGACTGAGGTCCAAGTATTCCTGAAAGAAGGGAAGAGAAGAGTTTTATTTCAAACACAAACTCTTGAGATGTGGGTATTGGACGTGGGACAGGACAGGAGACCCCTAGAAGGTGAACAGAGACCCAGCCCACCTGACTTCCACGAAGACCTCCCTGAGACCACGTCTGATGTACCCCAGGCTGTCCTTAGCTTTTCTCTTGGAATCCATCATAAATCAACTATTGACAGGTAGAGAACAATAAAACCTAGTTGAGCTATAGGTGCTGGGCAGGCAACTCGGCTTCACACGGACCTAAATAACCCGCTGAGTCTACACCACCTCCTCACTAGAGCCCTTGCTTCAAATGCGAGCCCCAGCAAAATGAAAACCGGTAACATGTTGTGGGTCCCCAGACCCCCTTTAAGTAGTTGAGACTATGAATATTTATTTTCTGAATTACATTTTACTATTGTAGTTTCGGGGATAATTGAAGGGGAATACTTCTTCATTCAGTGGGTAATTTAACAGATGTAACTGATTACTCTCAGAAGCTCTCCGAGTTGAAAATGTAAACAGGTTCAAAAAAGGCTTAGACATACTCATGTATGTTAAATCCATAATGCACTGTTAAAGGAAACTTCAGGAAAATATCGGTTAAGTTTCAAAGTTTTGAAGGTTCGAGATTCAGAAAGTGTCCTTTGCTCCCCAAGGCATCCAGTGCTGGTGCTGCAAAAAGCCCTCTGGATCACCCCAGGGTGACACTTCCTCCGACTTGGGTGCCCACAGACGACTTTGTATGGCCTGAGGGCTAAAGATGGTCTTTAACATTGGTAAGCGGTTGAAAAAAAAAATCAAAAGAAGAAGAATATCTTATAGGATTAAAATGAATAAAATTTATATACAATTATATAAAATTCCAATTTCAGGATCCATAAAATTTTACTAGAAGACAGACTAGAACACATCTATTTACATATTGTCTGTGGCTACTTTGAGGCTACAGTGGCGAAGTTGCAACAGAGACCACAGGGCCGGCAAAGCTGAAAATATTTACTCCCTGGCCCTTTACAGAAAGCAGTTGCCGACCCCTGTTCTGAAGCTATGAAAAGCTTTCTAAATTGGGAACTTGTGGGTCTCTCTGCCTCCACTGGGCTGGCACAGTGGGGCAGTTCTGCTCACACATCCAGAAGCCAACAACTATTCTATGACATGTGGTTTTGCTGAGAGGGGGCAAAAAGTGCAGACCACAGCACAAACAGCCTCAGTGTTATCAGAAAAGAGCCCATGGAATGTTGGCAACTAGACATTTTTAAAGACACACACACACACACACACACACACACACACAAAACCCTCTAATTCATCACCAGGGTTGGCAAGAGAAAGAGTCCCCATCCCAGCATCCCAGAAGGGGAATGTATCAGTTCCAACAACATCAGCATTAACCACACAACTGGAAACAAACACGCCCACCACATCAAAAGAGAACTTTTTGCTTACAATGATAAAAACGAAATTTTGTCCTAAATGGAACCGTTTTTCTTGAGCATATGGTAATGATTTTCAGAAGGAAAGAAACTTCGATTTTTATATCCACCAGACAATATGGCATTCTGCTTTTTTATTTTAGGGTACTAGATACAAATTTCAGTATCAACGGACCCACTCTACATGTAAATATATAAATAAATCACTTTGAGCATAGACATGAGATCATTAAAATAGAACTTTAGTGCTTTTCCCGGTTTCTTTCTTTTTTATTTTTATTTTTTTTTTTTTTGAGACGGAGTCTCGCTCTGTCGCCAAGGCTGGAATGCAATGGCATGATCTCGGCTCACTGCAACCTCCGCCTCCCCGGTTCAAGTGACTCTCCTGCCTCAGCCTCCCGGAGTAGCTGGGATTACAGGTGCACACCAACACGCCCGGCTAATTTTTTGTATCTTTAGTAGAGACAGGGTTTCACCATGTTGGCCAGGCTGGTCTGGAACTCCTGACCTCATGATCCGCCTGCCTCGGCCTCCCAAAGTGCTGGGATTACAGGCATGAGCCACTGCGCCTGACCAACTTTTCCCAGTTTCTCAATGAAGCCATAAACTTTCAGATCTGATAGGAAAAAAACAGGGATATCAGTAGATTCCAAGTCTACAGTTAAAGGAACTTATACTAGAAACAACAATTTTGGCAGAAGAAGAAAGTTGGTTTCTTCCCCCCCTTGAACCGTTCCTTTCCTTTCAACTTCTGAAGGTCAGCTGTATTCATTTAAGTGCAATCTCTTCCTTTATCCAGCACAGGCCACAGTCAGACGCATAAGATAAAGCTGCTGAGCTAAGACTTCATATCACTACATTTGATTATTACTTTTTAAAAAATCACTCTAAAACTATTTCCTAAATCAGAAATTAAGTGTATTATTTTCCTTCTAAAATACTTGGGGGACTTTAACTTTTTTCTTGTTGAGACAATTGCATGGTTTGGAGTTAGTTTCCTGTGTAAAAGAACACTATTGTGCATCCTCATTAAATATCTCAAAATACATTCATTAACAATTTCTCTATCTTAAGATTTGACTAGACTTGATGGGTTTATCATCTTTCCTGCTCAGAGCATATGCTTTCCATAATTATAAAAGGCACTCTATCTGCATATTGAAGGAGCCACTGACATGGCTAAATTTGCACAGTGAGTGACAGACGAGTGTTTATTTTGTTGGCAAGGATCATAAATTATTATTATTTTCTTTTTGAGATGAAGTCTTGCTCTGTCTCCCAGACTGGAGTGCAGTGGCGCAATCTCAGTCACTGCAAACTTCACCTCCTGGGTTCAAGCGATTCCCCTACCTCGCCTCCTAAGTAGCTGGGATTACAGGCACATACCACCACATCCAACTAATTTTTGTATTTTTAGTAGAGACAGGGTTTCGCCATGTTGGCCAGGCTGCTCTCGAACTCCTGGCCTCAGGTGATCTGCCCTCCTCGGCTTCCCAAAATGCTGGGATTACAGGCGAGAGCATAAATATTTTAGGGAAAATAAATATTTTAACAAAAGGTACATGTTTTTATGTAAAAATCATGTAAGTTGCTCATTGTAGAAAACAGTGTATGTTTATATACACCTAGAAAGAGGCTGCAAGGCATATAGCATTACCAACAGGATCACATAGGATAGTACTGTGGTAACAGAAGCTGGTGTTAGAAAACTTCATTGTATTCCATCAAGCAAATGATGACGAACATTATCAGTTTACCCACTAATGACCAAAGCACAGAATCAAACTTGCACAGGAATCCAAGCTTTTTCCCATGCACACCAAAATGCAAGTGAATACTGCTTCCCCTTTCCCACTCTCCCACATACCCCGGACTGCTCCACCAGCAGCTACACTGAAGGCAGCCTCGGGGATGTCCCTCTGTCTTTGGTTTCATGAGTCAGAACTCACAAAATGAAGTTCTGAGAAAAATCATGATTTGAGAGGAACCCATAGTTGAACTATCTGACCCTATGGAAAAAGAATAAACAAGACCACAGACTCCAACCAACAGCCAACAGGGGAGTGTGTGTGTAAAACACTACGCATGTCTCACAAGACAACCAAGGACAAGGGGCTTCTAGAAGGAAGTTCTTACCTCATTGGTTGTGAGAGTGAGAATTCGATCCAAGTCTTCTACCAACTGCTTGAACGTTGGTCTCTGGGAGGGCACTGCATGCCAACAGTCCCTCATCATCATGTACCTGGGAAAAATGGATTTCCTTGAATTAATTTCATATGCACTGGGTACGTGGTTATAGTCAGTTTTAATAGGCAATATGGGGACGTGGTGTAAATTAGGAAAATGCATCAGAACCTTCCAAGCAACTAGATTAGGGGGTCATGAATCACTTTCCCAAAAGCTTCCCTGCCAGTTCCTCCGAAAGGCACTTTGACTTACAAAAACATGTTAGAAAGGCATCGAAGCCATCAAGAAAGACACAGCTATGTGTTTTCCCTGGTAACCCTGGGCCACAGTGACATCTCACAATGGCGTCACACCCTAAAGATGCTTTGGAGGCTGAAGGAAAATGCGTATTTCCATGGGCTGGTCTCCAGTCTTCCCTCCCCTGACACCCTGCCCAGCACCAAAGCAGCTCCACTATTTATCTGCCCGGTGCTTTGGGTCTTAATGATTCTAGTTGACACAGCTTCCTGAGTTAAAAAAAAATTAAATAAAATTTGAAAACTACAACTTCAAGTTTTTGATGAATTAATCTGCCACCACTGGGCTGCACACTAACTTCCTGATTAACTCTTAGATAGGCTTAGCTTCCCAGGTCTTATCTTGATTTTGGGTTTCGACAGATCCTCTACGTTACAAAAGAAAAAAAACAATAGGAATGACAAAGAGCACAATAAATGCCTTTATATAATATGCTATAAAATGTGGCCATTCATCAGACATCCACGGTACACCGAAAAGCACTCACGGGATTACTGATATAAAATCCCCATGAAATGATACACAATAGACCGCAGTTTCTGGGACAATCACTCTTCTTAGTTAATCCTGGAGGGGTTGAGGCAGGAGGCAGAGAGACTCCTTTCAAAGCACTGATTCTATTGCACCAGGCACACGTCACAAACACAACATAACTCCACTTAAAGTGTGAGGCAGGTTTTGCTACAAACCAGTTCATGGTTTTACAGGCAGATCTGGTACAGTAAGGAGGGCGCCTGGACACATGTTTAATTCTCTGCACTAAAACACAAGTGAGACCTAGGTAACCAAACACGAGTTCCTTCGCTCTGAGGAAATGTGGTTGGCGTCAATCTGTAATGGCAATTTTCAATGGTTCGAGAAGTTCTGGAAACACCGATTCTCTACTGGCCACGATGGGGCCAGGCGGGGGCCAGGCACAACCACCAGGGAAAGGCTGTGTTGGTTCCTTAATCCTACACCCTGCAGGGCGGCCCCGCGGCTTTCTAGCTTGTTTCCTGACCCGTGGGTCTTCCTGTCACTCCACGGGAGACCGCAGAAGGTGCAGCACAGTGGCCCAGGAAGACCACTCCTGCTGGCTCTGCAAAGTCAGGAGCCCTCAGCCAGGCAGCCAGACACCCTCTGATCCAAAGCCCTCTCCATACTCAGAATAATGTTCTTTCTCTCAGACAAGTAATGGTTGTCGGTGTCGCTATGTATCCCAGCTCTGGATTGAGCCCAGAGAGCTTCAGCCATTCTTCTTAGAGCATGTTTAGGAAACCAGGGGCCTTCAAAAACGAGATACATCAGGAGAGGTATTACTGGTGTGGCAAGTCCACTGGGGCACCGGCAGGAAAGACAACAGCCCTTACAGTTCGTTGGTGCAGTTGGCTGGCTTATCCATTCTGTGTCCTTCCTTCAGCAGCTTAAAAAGTTCCTCCACGGGAATCCCTGGGTAGGGCGAGCCCCCTAAAGTGAAGATCTCCCACATTAACACCCCGAAGGACCAGCTGCAACAAAAGGAGAAAGCACGGCATTACTAACCCATCCACGTTGCCAAAACCTAAACACGCCCAGCTGAGACATAAACACCTCCTCACTTCTGAAGTTCAAAGACAAATGGGCCCTCCTGCAGTTCCTCCTATGTGCTCTTTCCTGCCCTGCAAGAGCATCCCCGAATGATGATGACACGGGGATGTGCTGATGGAATTTTCCATCAATAGACAAAAAGGCAAACTGCCATCACTCTGGAATAGAGCTGCTTGTCTTAAATGTGGTGTTAGCAATGCAAGGATCTCAGTTTCTCAGTTTCAAAGCCTTTACGCTCCTTTCCAACTCCTTATGTGCCTGACCCAAGGGTTGTGATCTACCAGGATGGGCAGTTGACAGAATAAGGCCAGCAAGCCAACTCCGCAGGATCACAGCTGCCCTGTGTGGCTGGCGGAACATCTGCTGCACAGAGGCTCTGGAACTTACTAAGATCGCAAAGGCAATCAGCACTGGGCTGGGGTTAGGATGAGGAATCACATGCCCCAGATGAGTTGCACACAACAAAACTGAACACATCTCACAGGCCATAATTTATTTACACTTGACTCTTCAGAGATTTGGACTTCCTGTGCCAAGTTCAGGAGGCTCAATCTCTGGGAGGAGCAAGCTGAGAGAGCCAGGTTTAGCTACATCATGGTCGTTCTGGAAACTCAACCTTCTGTACTCGATGGTGGTGTTTCACTCCGCAGTTTTCTACAGAGCAAAAGCAGCAGCACAGGACAGGCAGAACAGCCTCTGTGCCTCAGTTGCTCACAGCAAAAATGGGATAGTCATGTCTTTTTTTTAGGATTGTTGAGAGGACCAACTATGGTAGCACAGAATTAATGCCTACCCAGAACTCCTCCTGCTCATACAAATAAAAAATAGTTCAAGTGATTTTTTTTTCCCCAGACAGAGTCTCGCTCTGTTGCCAGGCTGGAGTGCAGTGGCACAATCTCAGCTCACTGCAACCTCTGACTCCCAGGTTCAAGCGATTCTCCTGCCTCAGCCTCCCAAGTAGTGGAGATTACAGACACGCATAACTACGCCCAGCTAATTTTTGTAGTTTTAGTAGAGACGGGGTTTCACCATGTTGGCCAGGATGGCCTTGATCTCCTGACCTCGTGATCCACCCGCCTTGCCCTCCCAAAGTGCTGGGATTGATTACAGGTATGAGTCACTGCACACAGCCTTCAACTGAATTTTCAAATCTAAAATATCAGTTGGAGCCTGACCCCACTGGTTTTGTCAGTATATCATAATAGAAATATTCTACTGTGTTTCTAGAATGCTATCAAGGATGCCAAAGCAAGATCAGACCTTTTTGTTGAGGGATAAACATAGAGAGTAGACCCTGTGGAGGTCCCCAGCCTGGACCACATCTCACTCAGCTCCACTCTTTAAGGACAAATCTGGGTTAGAGGGAAATATGACAAACTACTCGTAAGTGGGAAAAGCTCCAGGATTACTCCTTTAATGGAGTGAAGAACATGCCAAGAGCTTGGCGAATTAGATAACCGCTTTGTAGTTGCACATCCATGAATATGTTCAAGGGAAGGACTTCCGCTCTGGCAGGGGGAGGTCAGCAGTTCCACCTTCTGTGCTCTTTGAAGCCAGGCAGATTAGTAACAGAGCATTGGTTATCAGCCTACCATAAAATCTGTCCTTTCTAAGGCCAGCTCCTGCACCTTCTACGAATGTGTGAAATGCAGCAGCCACTAAAGAAGGAAGAAAGGTGAAGTACGTACAGTATTTTTGCAGCTCAAGCCCAGGAAAAAGCCAGAGAAAAGAGAGTTACTCACACATCACTCTGATGAGTGTATACTCTATCAAACAGGGCTTCTGGAGCCATCCACTTGACTGGAAGCCGCCCCTGCAAATGTAGAGGAAAATGCAAAAACTAAATATATTTAAAAGAATTTATCTTAGCAGGCTCAATAGGGCTATGCCCTGTTTAAGAGCTGATATTCTCGGTTTTTACTAGTCAGTCAATAGAGCAGAAATCAGTCCCAATGAGGACCATGAACAATGTGTGAGATGCACAGGTCTGGGCCGTTAATAAAATGCCATCTCCTTGGATTCTATCCTTTATCTCCCTAGCACACAGATGCTCCTTGACCAGTTATTAGGCAAAAATTAAACCAGTAACTTCCAAGCTGTAGTTTTTGCTATGAAAGTTCTTGATGAGAACCATAAGAAAATCCTAGCGGTTGCTGATTATTCTGTATATAAGTGTTTCACATTTACTAAAATTGACATAATAGAGGCTAAATTTGCATATTGAGAGTTTGTGAATAGTAAGTCAAAAGAACGGGAATCGGGGCAGGGGAATGGGTCCCCAGCCATCCCACCCAGCTCTCAACATTGACGGCCTTTCTTCCTGGAACATTCTGAGCCTCACCCCCGCCCCTGCCCACTGTGTTACTGCCATCGACTTACATTGGTGGTCTTTTTGTAATAGTCTATATTGTTGATATCTCTGGCGAGTCCAAAGTCTGCTATTTTCATCACATTGTTTTCTGTTACCAAAACATTTCTGGCTGCTAAATCTCGATGAATACACTGAAATCAAGAAAGAAGCAAGAGAAATAACTAATTTCAAAACACCGCCAGAACAAAAAGGAAATATGTTCATTTCTTAAAATGCAGATAGAAAATATAGCTGATGTTAAAAACCAGTTGCGGTATACTATAAGAAATACAGTGTGGCCGGGTGCGGTGGCTCATGCCTGTAATACCAGCACTTTGGGAGGTCAAGGTGGGCGGATCACTTGAGGTCAGTAGTTCGAGACCAGCCTGGCCAACACGGCAAAATCCCATCTCTGCTAAAACTACAAAAATTAGCCGAGCGTGGTGGTGTGCACCTGTAGTCCCAGCTACTCAGGAGGCTGAGGCACAAGAATCACTTGAACCTGGGAGACAGAGGTTGCAGTGAGCTGAGATCACGCCATTGCACTCCAGCCTGGGTGACAGAGTGAGACTCTGTCTCAAAAAAAAAAAAAAAAAAAGAAAGAAAAGAAAAGAAAACGCAGTGTGGCTCTAAGATTAAGAAGACAGGTCAACTGGGATCATCGGAGAGCCTGGATCACGACATGTATTTGTTTTGGAATTATAAATAAATAGAATGATCATTTTGAAGAGCGAAGGTAGACTAAATAACCATATTCTCTTCTACCTCCAGTTGTCCAGCCACACCAGTGTCTTTCTTTCAGCTGCTTATAGATCTGTATCTGATCATCCTAAAATCTTTTCTCTCAACACTTGCTCTCCTGCCCTTTAAACCTGAATTTTCAGAAGCGTTGGTTAAAATCCAACATTGTGTCTTCTTCATTCCTGGTCACTTCTCAAACATTCTAATCTGTGTTCCACTCTTGCCTCTCCTGAAGCTTATGAAGAACCTCTGAATTGTTAGACGCAAATGACGTCCTCCAACTCCTCAGTTGTTCCTCCTCTGTGGCTTCAGATGCTATTGATTTCTTGCTTGTTTTTTAAAATGGTCCCTCTGTTTAGGTTTTCTTGTTTTTGTTTTTTTTGTTTTAACATGGAGTCTTGTCCTTGTCGCCCAGGCTGGAGTGCAATGGTGCGATCTTGGCTCACCGCAACCTCCGCCTCCTGGGTTCAAGCGATTCTCCTGCCTCAGCCTCCCGAGTAGCTGAGACTACAGGTGCCTGCCACCACACCCGGCTAATATTTTGTATTTTTAGTAGAGACGGGGTTTCACCATGTCGGTCAGGCTGGTCTCGAACTCCTGACCTCAGGTGAGCCATCCGCCTCGGCCTCCCAAAGTGCTAGGATTACAGGTGTAAGCCACCACACCCAGCCCCTCTGTTTAGTTTTATCCCGTCCCCTTCCCTCAGCTGCCTCTCTGTCTCTCCCTGCCCTCTTAGAATCTCTGGCTGGCTCTTCTCTTTTTCTGTCCCTTCAAATAGAGGAATTGTTCCATTAAGTTTATGTATTTCCATATATCCTCAAGGCATTAATTCTAAACACATACAAAATATGCGCAAGTTCGTATCTCCATCATGACCTCCCTCCTGAGACCCATGTTCTCATTTTCAACTGTCTATGGGACACTTCCCCACTGACATTCCCTTGACGTCTCAAATTCAAGGTTTCAACTCCTCCAATGCTTTGTCTCTCTTAATCGGAGAGCTATACACCGGTATTCTTTACACATTCCTCCCAAGTCCTGTTGATTTCAACTCCAAAATGCCTTCCCATGTGTCCACACCATGCCTTTCCCACTGCTAATGCCTTAGTCCAGGCCATCTTCACTGTCTGCCCCTCCCCCTGAGACTTCCACACTGCCCGTCTAGCGGGTCTCTACGCTTCCAAACTTAGCCCTGTTGTACCTCCTCCATGTCCCATGACTAAGGTTCCTGAAATGACTAGTCATGTCCTTTCTTGGTCTCTACCATGGCCAATGCCCGTCTATCCACGTTCTCAGTCCAGTTTCTCCTAACACCTGGCCTCAGCCTGAATGTGCCACATACACTGATTCTAAACACTGAAATATTAAATACTTGCTGCAGAACAGCTAATTTATTGTCTTGACACTAACTCTTGGGTCTCAGAAAGATCTAGCTATTACGACTTTTCCTTCTTTTTTTTTTTTTTTTTTTTTTTTTTGAGACGGAGTTTCACTCTTGTTTCCCAGGCTAGAGTGCAGTGGCACGATCTTGGCTCAATGCAACCTCTGCCTCCCAGGTTCAAGTGATTCTCCTGCCCTCAGCCTCCCAAGTAGCTGGGATTGCAGGTGCCCACCACCACATCAGGCTAATTTTGTATTTTTGGTAGAGATAGGGTTTCACCATGTTGGTCAGGCTGGTCTCAAACTCCTGACCTCAAGTGATCCACCCGCCTCGGCCTCCCAAAGTACTGGGATTATAGGCGTGAGCCACCACGCCCGGCCTATGATTTTTCCTTTCTACAAATGATACGCTACTGTGAGCTGCTGCATTTTTGTTACACTTTCATATAGCAAGATTTCCACAAGATACAAGGTAATTAGGGTCTCCAATCATCACCTTCTATTTTGGGAAGAGATAAGACACAAAGAAGCAAATATCACCACCGAAGCCTTTTACACTGGTTATTGGCAAAGGTTAACTATCATACGAAGCAGAAAGTCTTATCAGTCCATTCAACAAGGCTGAAATGGGGGCGATCTTAGGCACTCCACGAAATGGACAATTAAAAAAGGGGCAAGCTACGTGATCCCTGAAATATAAATAAGGAATTATTTGATTCCACCCCGACCCCTAGCTATTCCTTGTGTTCACACACTTCTGGGCCTCCCGGGTAGCCTAAGCCCAGAAGCGGGAAAGCAAGAAAGCCACGCAAGCTTGCAATCCCTGGCCAGGTTGGAAGCAGGAAACATGAGAGCTCACAGAAGCTGCCTGGAGATTCGTCTGGGGCTGCAGCCCTGTTCCCAGTTTTGGAGGCCTGTTCAAATTGAACTTCCAAGCCCCGGGCCAAACTCTCCCGGTGGTGTGCTCCTGCCGACACGCGCTCTGTGTGTCTGGCAAGCTGTGTGGTCAGAAGAATGTGCTTCCCACGCACTGGGCTCCAACTATGCATTAGGGCTCAGCTTGCACAGAGACACTGCTGACGGCTCCCTCCACCATCTTCTCAGCGAAAGCCAGAGTCTAGCGTGGCCATCCCTCATCCCAGGGGCTAGGAAACATCAAACCCCAGCCTCTGGGTTGAATAAGAGGAGACTTGGAACCCACACCCGAGAAAAAGAAAGTAATCAAAGGCAAGCCAAATCCCCGTCATCCACAGGAATGTCAGCCGTTCTCCAGCACAGGGAGCTGACCATTTTATACAATTAGGGCCCTGGGACAGTTTGGTGTTCCATAGGTGAAGGTCAGTGGGTCACTAAGGGAAGGAAGACCAACATCCCTATGATGTAGACAGTATGCCCTGTGCCCAGTATGGCTGATGACATCGAATTCCTGCGGCAACCTATGACATGGATAGTGTTATACCCATTTTACAGGTGGGGAAGCTGGGGCTTCACTAAAAAAACTGCTCAGGCTGAGCGTGGTGGCTCACACCTGTTATCCCAGCACTTTGGGAGGCCAAGGCAGGCGGATCCCGAGGTCAGGAGATGGAGACCACCCTGGCTAACACAGCGAAACCCCATCTCTACTAAAAACACAAAAAATTAGCCGGGCGTGGTGGCAAGCGCCTGTAGTCCCAGCTACTTGGGAGGCTGAGGCAGGAGAATCGCTAGAACCTGGGAGGCAGAGGCTGCAGTGAGCCGAGATAGCGCCACTGAACTCCAGCCTCGGCAAAAGAGCTAGACTCTGTCTCAACCAAAAAAAAAAAAAAACTGCTCAGGGCCAGGCGCAGTGGCTCATGCCTGTAATCCCAGCACTTTGGGAGGCTGAGGTGGGCAGATCACTTGAGGTCAGGAGTTCAAGACCAGCCTGGCCAACATGGTATGGTAAAACCCCGTCTCTACCAAAAAATAGCCAGGTGTGGTGGTACATGCCTGTAGTCCCAGCAACTCAGGAGGCTGAGGTGGGAGAATCACTTGAACCCAGGAGGCCAAGGCTGCAGTGAGCCAAGATCACGCCACTGCACTCCAGCCAGGTGACAGAGTGAGACCCTGTCTCAAAAACAAAAACGAAAAACAAACTGCTCAGGTTTAACACTTTGAGGGTTAACTGGGTTTGGGATTTGGTTAAAAAAGTAAAATTAGTGTGATTTGAGCTAAAAATAGTAAGGATTTTATAAATTGTGTAAGGCTCAAATACCCTATTACCTAATTGCATTGCTATATACACCATGGTGTTTTTTCACTTCTCTGTCTCCAATCCCCAACCCCTACCCCAACACTCACACACTCACGCACACACACACATGTACACACACAACTGAAAGCTGCTGGAGGCCAGGCACTGTGTGTTCATCTCAATCGGCCCAGCGCTGAGCACAGATGAACCCAGTACATCAGTAACGATGTAATCAACAGTTCTCTTTTGCCCCTTCCTTCAGGCAAGCAGGTCTCTCACAAGCCCATGGCTCCCCATTGTGAGGGGATGGGTGTGGGAAAGCCAGGGCCGGACCCTTTGCCTGGTTCTTCATTCTCCACTTTCAAGAATAAGCCCTCCATTTTTGGAAGCAGAGCCCTCGCAAGGGGACCATGCTTAACATCTTCATCTACCTCCATTTTCAAACCTATTCTGGGTCCTTAACTGCAGGTGGCCTCCAGTAAGTGGCTTTGGAACCATGCCATGTCTTAAAGGCCCATACAATATCCCTTTTACCTTGGGCTGTTATTCAATGTAGAGACAATGAGGCCACACTGGGGCACTAAACAACCCCTCACCCGCCCCCCACGTGGAATCTCATTGGTCTTGCCTCAGTTTAGAGAGAGTTAGGGGCCTCATGAGAGCAGGAGACAGCTGAGTGGGGGACCAGGAGACCTAGGTCTGGGACCTGCCACTCCACTCTTCAGACCTACAAGTCCGCTTCTCAGAAGTGAGGACATCTGAGTCCTCCTGACACATCTGGTCTCAAACCATTCATGCTGCTTCCTCATCGTCCTCCCCCATACAATGGGGATCCAAATCCCACCTATTTCCGGGTTGTTCTGAGGGCTACGTAAGATGCTTTATGTCAAATGCTCTGCCACGGTGCCTGGAAGATGGTTAGCTTCTCCCGGAGGGGTCAGTAATTAATAATAACGATAGTTACTATTATCACAACACTTTAATATGGGTACTTCCGTTCTTCCACGATTAAATGGATGCATTTGCCCTGCTTAGCAAAGTTCGTCTCTTAGTTTTCTCTCTGCCAGCTCCAAAACAGGAAGGAGCTCTGGGTCCTCAGGGCTAGGGTGGGCAGGGGTACCACCACTGCCTCTAGGACCAGGACTCAACACCCGTGCTTCTCACCAGTCTGAGCGCCGAGGCTCTACTACCTGCCCCCTCCTTCCTGAAGCTCCCATGTGGGGCCTCTGTGCTCCGTGTCCTGATTTTCCTACTGCTCAGGCTGTGCCTGCTCGGCCTCCGCTGCTGTTTCTGGTGCTTTCAGTCAATCTCTAGATTTGAGAATTTTCTCAGGACCTGACTTCAGGCTTCTATTCTCCTCTTCCAAGCTTCTCCGCAGATGAGTTTGTCCACGCCCATGGCTTGAACTCACAGCTCCCTTTGCTGCCTCCCAGCTGTTAGCCCACCCTCAGAGCTGAGCTGCTGCCTGCAGCTTCTTCATTATCTCCCCTTGGATGACTCAGATACGCTCAAGACGAGCTCGGATTTTCCACCCAAATCTATGCCCCCTGCCCCAGCCCTGATTCCCAAGTCCTCCCAGACTTGGAAGCTGCACCACCATCCAGTTTTTCAAGCTGGAAATCCAGAAGTCACCCTTGATCTCTCTTTCTCTCCCTCCTATCTAATCAATCCATTCATTATCCCAAGAGCAAAATATGTCCAACATCAGCCCACCAGCTTTTCTCGGTGTCTTTGGACCCAACAGACCCTAGCCCAAACCATCATCACCTTTGACAGGGGCTCAGCCTTCCCATTCACCACACAAGCAGCAGTGAGAGGCATTTTTGAAGCACTAACTGATCCTCTTCCTCCCCCTCAGAGGCTTCCATGGCAGTGACAGCAAAGTGCAGCGTCCTGGCATGAGTAAGGCCTTATCCCCCTGTTTCCTCCATGGCACCTTTTTCAATATTTTTTTACAACCTTATTTTCATTCCCACATTTACAGTCAATTTCTCTTACTGTCACCCATGGTTCTTGCCCCAGGAGGTCAAGGACTATGTCTCTTCTGGCCACTTCGCTGGAGAGCCTGACCAAGGGCATGAGACATCGGGGGTGCTCTAGGAGTAGATGTTGAAGGATTTAATAAAATGACTGAGCCAGCCCTCCTACCACATTTCCCCTAGTAGCACCACCCTGCTGGGTGCAAAACTGCTTCCCCTATCTCCCACACAGGTAGGGCAGGGAGTGATCAAGACCAGAATATCAAAATAGGCAGCCTACAGATGGGCTACCCTCCCCAGGCTTATTTAGGAAGAGTTCACAGCTGCAGAAAAGGAGGGATGGCACAGTGAGTATCCACCACTGCTGGGTTTGCTTGTTACACCTACTCAATCACTTGCTGTCTCCATGTCCTGCCCCACCTGCCCCCACACACATACACACTTGGGATAGTGAATGGATTGATTATATTTTATGGCTGGACCACTTAAAACTGAGCTGCAGGCATCACTGATACTTCACAAATCTCAATTCTTCAGCGTATTTCTCCTACAACAGATACCACTGTCACCACCCCCGGCAAATTCAACACTGATACAGAAATATAACCAGTAATATTATACAGTCCATATTCAAAGGACACTCACAAATGTCCTTTCTAAGAACTGGCCACCCTCCCCGACCCACAGGATCCAGTCCAGGATCCCACTTTTACACTTAGGAATTGTCTCATCGGCCCCCTTTTATCTGGAACCGTCTCCCCAGCAGTTTTTGTCTTTCGAGACACTGACATTTGGAAGCGATATCTTGTCAAATGTCCCATGTTCTGGATCTGTCTGGTTGTCTCTGGATGCCAAATAGATTGGCAAACTACCCTACATACACGCACACACACGCACGTGTACGTAAACACAATCACAGAAGTCAAAACTGTGTTTAATTAGTTTCCCAAAACCTATATATTGGGAGATTTTTATACGAAAAAGATCTGAAAAAGTCTTAAACTCTAAACTCTCCTGAAAAAATGTTTTTAAAGTTTTTCTTAAATTAAAAAGAAAAAAGGCAAAACCCCGTCTCTACCAAAACAAAAAACAAAAAACACAAAACTTAGCCAGGCATGGTGGCACATCCTCGTACTCCCAGCTACTCAGGAGGTTGAGGTGGGAGGCTCACCTGAACCCAGGAGGTCAAGGCTGCAGTGAGCTGTGATTATGCCACGGCACTCCAGCCTGTTTGAAAGAAAGAAAAAACCATCCAGAACATGGGGTAGCTCTGGGCCATGTTCCTATGTGGCCAGAGAGTAGAGCTGAGGTGCAGCCATCCCTCGAATCTCTGCACTCTGAGTGATCCGCAGGCCTTGGTGGTGTGACTGGCATGGCCCCATGGAGACTTGAGTTTGTGACTCTTCAGGCAACCCAGACCCCCAGTGACAGAGGGTGCACGCCGACCAGAGGATCTCACCTCTTTGGGGACCCAAGGAATTCCTGGCACTGCAATAAACTGCAATGCAGGTAGGAGCAAGGCCCACCTCTGCACAGGAGGCAGCTCCGCCCCTCCGCTTCCCTATGTGTGGGGCTGACAAGGGAGTTTTGGGTCATCCAAAATGCCTCCGAGGACATCTGGGCACCTGTCTAACTACTCTCAGAATAACTGAAATGTTTCAAGTTCCACGGTAAGTGGCACGCCTGGAATGCAGGCAGTCCACCTCAGGGGACCTGGCCAACTTCTAACCACAGAGGGTCACCCGCCAAACGAGGCAAAATAAACGCAGAGCTCCAGGACGCAAGGTTACTAAAATACCCCTTTGTTTGACCTTTACTCTTAGAATATTTAATGCCATATCAAACCCAAAACACTAAACACCTAAAGTCTATGTTCAAAAACTCAGTAACCACAAAATAAATGAAGCTTAAGAAAAAAAAAAAAGAAAGAAAGAAAATCATCCGAATTAAAGGGGGCCTTTAAAACCATCCATTTCCCACCTGGAGAGCTGAATTCCGAGGGAAATCACACATGGTCCTGTCTCAAAGAAGAGGTATCTTTTCTGCTCATCTCTGCAGCGATGCTATAGGTTTATGAGGCTGCTTTGGTTTTAAACAGTTCATTAAACTCAAATGGGAATAACGCAATAAATATTTTCCAGGTTGTACAAGACATGCGAGGGCTTGATCTAGCAAATGAGCATGTCCAAATTGCCTGTTTTCTTTAAAGACATTTTTAGTTGGATTCCACCCAGCCAAGTAGAATGTGAAAGACTCACTTTTTGGGAAGCCAAGTACTCCATGCCTCTGGCCAGCTGGTAGGTGCATGACACCAAGTCCTTGAAGGTCATCTGCTCCTCAGGAACACGGTTAATGTCATAGGAGTACTCCATCCCGGGTGGCCTCCGGGCTCGGAGGTATTCTCGGAGGTTGCCTTTAGAGGCATACTCAACTATGACATAGAGAGGCCCTGTTGAGGAAGAAGAGAAGCTCCCTAAAGAGAGAATCCAGGGTCTCCCCTTGGGCAATTCAGCAAAACATTTTTAGTTATTACAACCCATGCTTTTTTTTTTTTTTTTAAAGTTTAACATACAGCGGCTGGGCGTGGTGCCTCATATCTGTAATCCCAGCCCTTACAGAGGCCGAGGCAGGTGGATCACATGAGGCCAGGAGTTCAAGACCAGCCTGGCCAGCATAGCGAAACCTCGTCTCTACTAAAAATACAAAAATTAGCTGGGCATGGTGACACACACCTATAGTCCCAGCTACTTGAGAGGCTGAGACAGGAGAATCGCTTGAACCCAGGAGGTGGAGGCTGTAGTGAGCCGAGATCACACCACTGCACTGCAGCCTAGGCAACAGAGCGAGACTTTGTCTCAAAAAAAAAAAAAAAAAAAGAAGAAGAAAAAAGAAAAAGTTTTAACATACAGAAAAGCACACATAAAAATATGATTATAATCTCTCCAAAATGATAAATAAGCCCTTGGTCATGATAGCCTCAAAAGGCACAGAGACACAGTTGACGTGCTCTTCCCTGTCACTCTCATGCTGTCACCTGCGCCCTCTTGGAAAGCAATGGATCCCTCCACTCTATCCTTTTGGTTCATTTTAACTATTCAATAAGTAATATATTATTTTTAATCACATAAATGAATAATAAAGCTCTTAGATCTTTGCAACATTTTTTACCCATACATTATCCTTTTGGAACCTGTTGGGCTTATAAAAACAAAACCAGATCATTCCTTTTCACAGCTGCATATACTGTATCGTATAAACACACCACACTTTATTTATCCATTCCCTTATATGCATAGGCATTTGCTTCCAGGTTTCAGCCATAACAAACAGTAGGCAATGAACATCTCTGTACATGTTCCCTTACACACGTGTGCAATAATTTCTCCATGGTATAGGCTCGGGGTTGGCAGACTACAGCCTGCAAGCCAAATCCTGCCTACCGCCTGTTTGGGTAATTAAATTTTATTGGCATGCAGCCAGGTCCATTCATTTCTGTACTTCTAGCACTGCTTTCTCACTACTATGGCAGACACGAGAAGTTGCGACAAAGACCATACGGCCCACAAAAGTCTAAAATATCTACGACCTCCCTTTACAGAAAAAGTTCACCAATTACTATATAGACCTACAAGAGAAATTGCTAAGTCAAAGATAGGCGTTTTCAAGTTTACTAATTACTTAGCAAATTGATTTCAAAGTGCCAGTAAACATTCAATGGAAGAAGCCAGGGTCTCTCTCCCCCAGGGAAAATAACGTATTCCTTCATACCGCTTTCTCCTCTTTTAAGCTATTCTTGGGAGCTCAGCCATCTGTGACCCACAGCAAGATGTGGATTCTTCAATCCCTGTTTTAAGGGAAGAACTTCTCAACCAAAACATAGGATCTTATTCTGACAAATCTCTCTTAGCACTTACAAAACAAAAACATAAGGAGGCTGCCTTTTCCAAAACCCCCTCCAGGTTATGACCTAGAAACAGCAGCGCCCTCTAGGCCCTCAAATCCAAAGTCACCTGCACCCTCCTTTCCACTGGCCCCCAGGTACGGGCACAGACCCTTCTTTGTGTTCATGGCTAGGAACATCTTCCAATGGGGATTTTAAAAAGAACTTTAAACATGCACACAGGGTGCTCTGGGAGCAGGATCTGGAAGCCCAGCCATTTCTAAAATGATTCAATCAAACTGCAGAGTATTTGGGCGAATGCAGTTTTTCCTCCTACTCACCATCCTGTGTGCAGGCTCCAAGAAGATTTATGATATTCTTGTGTTTCCCAATCATCTTCATCATCTCCATCTCTGACACCAGATCAGAAAGGTCTTTCTCTGTGGCATCATCTATGAACAGTAGGCATATTCACAAATCAGTTCATTTCCTCTAACTCATGGGCAGCTACTGTTAGTTGCCAAAGACTTAGTTGAAACAGCATGAAATTGAATTTCAGAATCAGAAAAGATTTTCCAAATCATCTCCCTCATTTTATCGAGGAAGGGACAAAGGCCTACACAGGGAACTGCCTCACTCTGTGTCAAAGAGCTCACTGGGGGGCCAATGGGGCCAAGAGTCAGGACGAGAGCAGGGGCTTCTGACACTAATGCCAATTCTTTCCTAGACCATGAGATAATCTCATCCTCTGCCATATCTAAGGCGTCTCAGAAAACCACACCAAACTTCATGGTGCCTGAAACCAGCGAGGAGACCGAGGGTAGGGCCATTTCAAATCACTACAGACTTGCTCCCGACCAAGCATTCTTAACCCAGCCCCTCGAGGCCCTTAGAGCGTTCCGAGGTGGGTTCAGACGGTTCCCCATAAACAGGGCCATAAACGTGTGTGCATGTGCATTCTGAGCAGGTAAAGGGCTGCGACTTCTAGTGGCTTCTCAGAGGGCACTGCAGTTCCCATCCTAAGAAAAGTTACATAAACTTCCGCTCTGTAATTTCAAGCAAGAATGGCACAGGTTCCACATACGCGGGCTCGCAGTTAGCTTCTCTTAGATTCTCCTAAGTGGCAAGACTTTCCCATGTGCCCTCCACCTCAAGCTAATTCAGTATGGAAAAATCTGGGTTTCCTTTAAAAAAAAAATGAAATATGGGCATGGATAAGAACCATGTTGCAAACAGTTTTTTAGCTTCACAAAAGGAAGATCAATACAAGTGACTGTGTGTGCAAAATTTACACTGATGTATGTGAAGGAGGGAGCCACGGGCCATGAGGAGGGAGGGAGACACAGCCGTGGGCTGTAAGAAAGGACACGCCACAATGGCTTGGGGACTAATATCCTTCTGTGTCCTTACAGGGAAGGCTGCCAGCCTGGGCATCACAAGAGAAAGAGAACTCCCAGACCTCCCTTTTTGCAATATCCCATGTAACTCTGAGCTCCATTAGCAAAACCAGAAGTTCCGCCAAAAGAGATGAGAAGCCTGGGTCCTCCCCACACCTGGCCCTGGTACGCAGCCAGGGGCTGCCTCAGTCAGTGGTGCCATGACACCTGGGGCAAGACAGCACAGTGTTCCTCCCCGGCATCAGGCTCCAAGGTGGGGAACATCTCAAAGCACTCTAGTTTTCCTTGGGAGTCACTCAGATAAACAGCCTTTTAAAAAACCCAAAAAACAAAATGCACATCTTGTTGACAAAGTCCAGCCTGCTACTTCCCCTTGGGAGGGATGTGATGACTATCCCATGAGAACCCACAAAAGAAAGACAAAGCCTAACTCCAGAGCGCCTGCGACATGCCCAGCACCATATCCCAAGGATGGGCCTCTCTGCCTGGAAACGTGGGAAACACTCGGCATGGGATCTTCTTTCCGAGATCCCTACAAGAGGATTTATAATGTGACAGTTCCCTATAACTCTTCTCATAAAAGAATACTGCAGGACGAATAAGTTAATGGTTAAAAGTTCTTTAAGTTCTTTGGACATGGGCATGAAGCAGGGTTGGAAGGTTAACGTAGAAGTGTTCACAGTCCCACAAACACAACACGACATTTACATCTCAGGGTAATTGTTTATGTGTCCCAGGAGGCTCTGCACCAGCCCTGATCCTGTTCACTCCTTCTCAGCTTCTAAGTGACTCTCCCAGACCAGTGTCATTTCTGCTTTGTTCCTCACGCAAAAGAGAAGGCTTTCTGCTCCCTTACGTCTCTTCGTTCCCTCCAAAAACACAAATTTTCTTGTACTTGTAAAGTTAAGGTTTAAGTCCCAAATCTAACACACCAACTCCTAGCTAATAAATTCAATTATATGTGAGTTGATAATTTCTAAGCACATAAAAATACAGAGAGAATGAAGAATTGTGGTCACGAAGAAGGAGTCAAAGAATAACTCTATGTAGGAGGCTACCGCTTTCTAACAAAACTGGCTTTTCTTTATAAGTACACACAGCTCAAGATAAATAGTCTGTCCGAGATGCTGATTTATACCGAAAACTTCTCAACCCCTAGGTCAACTATGTGCTCTCTGACCCCGTGCCATGATAGAGTTCACATGCCACAAAAGGAACTTTCTTGATAAGACTCTCCACCCAGCCCCTCCCCGAGCCTCCCGCCTCCCCGCTCACCTTTCAACATCTTCACGGCCACGGTGACCGCCTCCTTGGGCTTGTCTTTGTCAATTCCCACTGCTTCCGCCATGACCACTTGCCCAAAGCAACCTTCTCCCAGGGGCTTGCCCAGTGTCAGCCTAAATGTGTAAATAGGGGATTAGCACATAGCATCTGGTGATGGGGTGTAGTGAGGGAAATTCCAGAACTAAATATAAAAATCTTTCAGCGGCTTACTAAAGCATGGAGTGCTTATCATATGGAACTAATGAGACTTAGGGTACACACGCGCCTGAGTATTTTCCTAGTGACGTTTTAGAGAATGTCAATTACTGGTGGAACGGCTATTAAATTTCACATTGGTATTCTCGGTTTATTTTCTTTAGGGAAGGTATCCTTGCTAGTGCGGTGGTCAGCTTTCCTAAGTGCCAGAGAAGAGCTTTTGATCTTGAGCCAATTAAATATTTGTAATTTAGAATGGCTCAAAGAAAAAACGTTAAGACTGTTCTTATTTTTTTGTCCCTGTAAAATGGTGGCTTTAAAATTATTATTCAAATACCAATGGATTTTATGGTCACATTCCTTGCCAAGTTACAGGATATGCCTCTTAAAAGCATTTCAAGGAATCTCTAATTTTTTACTAAAAAGAAAATTCTAAAAAATTGGGGACTTTTTTTTTGACATAAGTTTAAAAGTCCTTATGACTACATAAAATTAACAATGAAGAAAATCCAAAGTGAACACCACAAATTAAATTTCTAAGATTACAAGGTCTATGCACATCGGACGAATAGCCATATATTGTCCTTGTGCATTCCAGAAACCAACAAAACGCAAAAGTCTTTGGAATACTTATGAATACGGCTCTTTCTAACTTAAGCATAACACAGCAAAGCATGGAGCTGCCATTAGTAAACAGTATTTAAGGTAAGTACACAATAGTTTGCAAAAGTGCAGCATAAAGACTAAGGGCAGCATGTGCTATGCTGAGGTCATTTTGTTTCTACCCAGAACGAAAATTAAATTTAACATCTTGGCAGAAAATAAATATTTGCATTGGAAAAATGGCTAATTTATGTCCCACCGCCTTGCTACTACAAGCATAACAATCCTTTCTTTGTATAACTTCTGCCTCCGATCTAATAAACTGCTTCTAAATAGCCTTCATTCATTGGAAATCTGTTCCACCTACGTTTGCGCTAAACACTGTTTTGAAATGTTTAGCACTCAGATTTTCCACACTCAGGGTACCCCGGGTGGGAGGTAACAGTTGGGCACATACAGACTTCCACTGTTGACTGTGGTGTCACAGGTGGCAAAAACTATGGACTAAACCCGAAAGCTGCAATTTCTTAAAATATGATCACAACTCCCCAGTTCAGTTATATATATAGGAATGTGCACATGAACCTATCTGTGTATATAATCACACACAAACTAGGGCTGGCGGAGTTCACAAGAAACATCCATTTCTCCACATCCTACAGGTAAAGAAACCATTCTTTGTGTTTTCTCTGGTGCCCCACCAGTAAATGTCCAATTAACATGCCTTGAGTGAATGAATAAGTGAATGAGTGAGTGGTCTTTTCACTACAGTATACAAATCAACTGGAAATTACTTCCATTAACACTCTAACCAAATAATATCCATACAATTATTCAGTCCTAGCTAACGGTACACATCTCTAAATTGGCACTTGGGAAACAAAACTGATGTGACATCACGTGAATCAAAATCAGAAGTGCCAGCCACATAAGCTACCTCTCCCTTCCAAATAGAGCTCATCAGATCAGTCTCTGGAAGAGCTTATCTTTGCATTTCCAAATGTGTATAGGTACACATGAGAAGTGTATATAATCTGAGGAGCTACTGAAAATGTCAAGGCAAACAGGGTAGCTGCTTATAAGCAAGTCAAGAGCTTATTCCAGTGTATGTGATGCAGAAGTAGTCAGCATTTCCACCTTCCCGTACTCTCAAGCTGTGACGACAAAAAGTACCCCAGAAGTGAGTGGACAGCCCTACAATGACCACTGCACTTCCTTTCATAAGGAGGATCTAGGGGTCGGTCCCTGCCTAGAGGACGAGGGCTAGGAGCTCAAATTCTGCCCACTGACTCCATGCCCCACACGATGATCCTGCTGAGGTTTGCAGTTCAGAGCTCCCAGGTTACCACCACGTGAAGGGAAATGAAAGGAAAACTCGCACAAGCCAAGAACTCTGCTCAGTCCTGGGAGGTCTGAACCACCACCCTCATTTTATGAGAATGAATTTCAGAGAATCAGGTGCCTCACCCGAGGTTGCCCAGCCACTGTCTGGCAAAGCCAGGATTCAAATGCAGCCCAACGGAGCTCCAGTACGTGGAGTTCAAGCGAGACCAAGAGATACGTAGCCCCAACACCACCCAGGTGGCCATATTTTGACTAAACATCTGATTGGCACACCTCTGTATCATCCAACAAGGAAAATATTATGGATCACAGAAATTAGATGTCAGGTACCATATTTGAAGCTTTTCAGCCCAATATGACATTAATAACCAATGAGAACAGCAACACTGGGTAGCGGTCCTTAAGGCCATTTATATTCTGCATCTAATTTCTCCACAGAAGTGAACAGAGAACAGTCTTGTTCTAGTAACCAAAAGCTAGAATGTCAGATCTGTTTTATAAATTGGATAATTCTACTTTTATTCCATTTGACGGAGTCTGAATTGCCCAGACACTTAAAAAATGATAACCAGATGCCATCTTCTTTGGGGACCAGCCAGGGGCAAGTAGCTCTGCTTTCAAGGAGTTATTTTTTTTTTTAAATCCATTTTTTTCTTTTCCAGGAGTTGGTTATTTAGAAATACAATCTTACTCCTGCTGACATCATCACACCAAGACCTTTGTGGCTAAGGGTCATAAAAAGAAAATGTTAATCCAATATCCCCATTTATAGCTGAGTCTCCATCCTGGGACATGGCCAAGAGAAGTACTCACTTATCTCTTGGAAACTCCCATTTTGGGTCCTCTGGAAGTTCATACTCGGAGACCCCTGCCAGCATGGGGGTGTCTGCCGTTGAAGAGAGGCGTGTTGTTATCCTCACCAGCGGGGTGTTGGAGTTCATGGAGGAGCTGGACTCAGCCGAAACCTGGATACAAAATGCAAAGACACAGATGTAATCCTGGCTCCATCTGAGAAGGCTGGAAGTCAGCCAGAGCCCAGCCAGAGTATCGAATCTTAGAAAGGAATGGGTTGGGGGCTGGCAGAAGTCAGAAACCAAATTAGAAAACCACTGGAATCTAACTCCTCTGCCCTCCAGTCCATGCAGTACCAGATTTCATCCAAATTTTATGTTCCTATGTTCAGGTTTTTCTATGAAATTTTTCTATACCATCTGATCACAATGTAAATTTTCTTTCTGTCCTAATTCCTCCAGAGAGTCACTTGAGGACATGCAGACAGTCCTCTCTGGCTTCATTAGTGCCTTTATGGTTGTACCTGCACCTGTACTGGAGCCCTGGATAATGGATCCCCTCTCAGACCACCCGGATCATGGATCAATGCTGTGCTTATGAAATTCTACGAAAACTTTTAGGAAATTGGCTCTACCATATTTCCTCTGTCTTTGGAAATGTAAAGTGGAATATCTCAAGGAAAGAGTTCTAGGACTTGAATGTGGAAGACATTCAGTAGCTCCGAGTCCCTTTAACTCAAAATAACCCCAGACCCCAGCATTGGGGGCCATTCTTTGTTTCTCCCCAGTCCTTCTGGAAACTTATTGATGGCCAGGCTATTCAGTGGAAATGGGCTGCCTCTTGTCTTCGGTTTCAGAAACCAGTGCACTAAACACGTGGGATGAAGCATCAATGGAAAGAAAATACACCTTTTCCCATAACCACACAAGAGAACTCCTCTCCCACCTGGCAGTACACAGGGCTCCACCGAGTTACTTTCTTGTTTATCCTGATCCATTTCAGTGTGTCTGATAAAATGATTATTTCTTAAATATATCACTGTCCTTTGGCTGGTTTCTATGGAAAAAAAAAGACTCACACAGAGCACACTGGAAGGCCACTTTTGAGGATGACTACGCAATCTTAGTCTGACCACAGGCTGCTTGAACACTGTCTTATTCTAAACCATGAACAAGACTTTGGCCCAAGAGAACAAGAATGTGAAGTTAACCACGATCCATCTCCAAGCAGGCAACTAGCCCACCCTGGGCTCTGTCTCCTGCGTGACTGCCCAGGTGGATAGTACTCCTGGATGTGCTTACAAACGCCTTCAATCACACTGGCAAAGACTGAGTCCAGATGAACAAATTTAGGTGGGATGAACTTTCACAGGGTGGGTCCTGGGCTCTTCTCACAGGGAACCAGAGGACCTGTCCTGTTTGAAAAGCTTTGAATCTCGCCTTTGTAAACCCAGACTTCCCTCAAAGCAGGCTGGAAATTCAAGAAGATGCCCAAGAATAGATTAGGGGAAGAAAATCATTTTAGGATTAGGAAGTTGTTTTCAGTATTAAAATAAAGAAGTGGGCCATTTTTCACATAGAATTCCTATTATCTTTTAAAACGTACATGAGCACTTCCTGAGCCTTCCATTCAATCTTTTGGCAGGGGGCAGTTATTCCTAAACTTCATTATGCAGATAGTATGAGCAACATTTATTCATTGTATGGTCAAAATGTTTTAAAAGCGGGAACTAAAGAATCATTAATTGTGGAGCTGAGATCCTCACACCCAAGTGTCTGGGTTGCACAAGCAAATGGCAGAAGCAAGCGGGAAAAGACGAGAAGGTAAATGTGGGTGCTCCTGGGGAATCCGTCCTGCTCCCCACTGAGGTCACAGACTAGGCATAAGCCCCACCCTGGATGAAACAGACAACTTTAAAGTCCCCGCCATGTGGTATCCAACCTCACTGTAGTGAGCTAACCTCGTCTGCGGGACACATCAGAAGCCAGGAACTTTCAGAGAACATCAAGACTTCCAGTTTGCATTGGTCCACAGGAACATCTCAAGCTCCACCTACAGAGCTCAGAAAGATTCAGGAGCGGGTTTAACGGCCAATGATGCTTCCCCAAATCTTTCTGTCCTCCTAATTCATTCTGCATCAGGGCCGTGTGCTGTGGATGCTTAAGTACGCAGGTGTTTTCAAGACTAAGAAGGTCTTCTGAAAGTTCTTCCCCATGAACAGGCAAAAATCACCACTCATTGCAGGGGGACCTTATGCTTGAGGATATCATGGGCAAGAAGCTCCAGCCAAACTAGTAAGAACCGGCCGGCCAGGCGCGGTGGCTCACGCCGTAATCTCAGCACTTTGGGAGGAGGAAGTGGGCAGATCACTTGAGGTCAGGAGTTTGAGACCAGCCTGGCCAACATGGTGAAACCCTATCTCTACTAAAAATAAAAAAAATGAGTCGGTTGTGGTGGTAGGCGCCTGTAATCCCAGCTACTTGGGAGGCTGAGGCAGGAGAATCGCTTAAACCCAGGAGGCAGAGGTTGCAGTGAGCTGAGATTGCACCACAGCACTCCAGCCTGGGCAACAGAGCAAGACTCCGTCTCAAAAAAAAAAAAAAAAAAAGAGGCCTAGCAATGGGACGACTTCCGCAAATGGCCAGGGTCTGGCAGGTTGTACAGCCAGAACACTCTCTGCATGGCCTGCAGCGTAGCCCCTCATCACTGGATACCAGTTTCCAGGATTCCACTATGGGGTGCATAGGAAGCTGCAATCAATAGAGGAGTGGGAACCGATTAAGCAATTGCTTGGGACCGCAGTCCTGGATGACGTTAACACCCAGCAGAGGCAGAGGCATGGCTGGGCTTCTGTGCCTCCTCCCTGAAAATCACCGCTCTCATCAGCGAGGCTCACAGAATAGGATGTGGGGAAGGCAGCTGTCCCACAGCGAGGTGTGAGAACAAGGGCACTTAAACGTTTCTGGAAGGATATATAAGAGACTTAGCAGTGATCACCTGTGGGCAGAGAGATTAGGAGTTGAGAGAGGGGGTAGAAAATACATTTTATTTCAGAACTTTCTAGACCATTTGGATTTTATGACCATGTGTATGTAATTCTTTTATGTTCTAGAAGAAGTACTTTATTTAACAAAAATATTTTTTAGAATAATAAGGATCTGAGCTGAGGCATGAACAACGGAAAAGAAAACGAAGGGCATATGCTTGAAATATGCTGACTTCTAAAATGAGTGAAAACTTACAAGATCACTGCTTTCGGCCCTTCCTTCTGCTACCAGGCTAGGTTTTGTGGCATCTCTGCATCCTTCGATGTGGGCAACAGCCAATCCCGTTGCTGCCCTTCCTGTGCTCATCATTCACAACATGAGGCCCCGCATTAGGCAGGCTGCATCCTGACCAACTGCAATAACATGGGACTGTGCGGTCAGATTGTCAGGGTCCCTGTCCCAGTTTGAGCACTCACTCACTGTGTGAGCTTTGGGAAATCACTTAACCTTTCTAGACCTGGGTTTCCTCATCTGTTAAAAACAAGACAGGGGCCAGGCAGAGTGGCTCACACCTGTAATCCTAGCACTTTGGGAAGCCAAGGTGGGCAGATCTTCTGAGGTCAGGAGTTCGAGACCAGCCTGACCAACATGGTGAAACCCTGTCTCTACTAAAGATAGAAAAGTTAGCCGGGCATGGTGGTGAGTGCCTGTAACCCCAGCTACTGGGGAGGCTGAGGCAGGAGAATTGCTTGAACCTGGGAGGCAGAGGTTGCGGTGAGCCGAGATGGTGCCACTGCACTGCAGTCTGGGCGACAGAGCAAGACTCCATCTCAAAAAAGAAAAGAGGAGACAGGAACAGGTCCAACTGCACAGCATTAATGTGATGATAAAATGAGGGAAAAAAAAACTGATGAAGTGCTTAGTGCTAGGCCTGGCACTAAGAGCTCAGTTAATGTCTGCTACCAACACTGCAATATTTTCTCTTAGTCCCTTTAGAATCATTTGCTGCCCAGATCTGAGAGAACAGACAAAGACACTTCTCTCTGGGTAACTTGGAGCGTTTGGAGCCTAGGGTGGTTCTGTGTGTAAGATACAGTCAGTCCTCCATATCTGTGGGTTCCGCATTCATGGTTTCAACCAATCACAGATCAAAAATATTTGAAAGCTAATTAATAAAAAATAACAATACAACAATTTTAAAATACAAATAAAAAACAATACAGTATAACAACTATTTACATAGCATTTACAACGCGTTAGTTATTACAGGTATCACTAGAAATGACTAAGTATATGAGAGGATGTACACAGTTCATATGCAAATACTACACCATTTTAAATAAAGGTCTTGGGCATCCACAGATTTTGGTATATTCGGGGTTGTTAGAACCAATCCCCAACGCATACCAAGCGACGATTGTACTGTCAAACTGTGTGCAACCAGGAAGATAACCCAGTGACATTAAAGGCTGACTGCAGAAGATATGCCTTAGTGGGCATGTCTGATTTGCTAGATGAGGCCCTCTGCTCACTGCCAAGGATGGGCTGGGGTTCTAGTAAGCAGGAGATGAAGAATCCAGGAGTCAGGGAATCATCTCAGGGCAGGAGGAAAACTGGACAGTAAGAGGGTCCTAATGACAAATATGGCTTAGGGGTTACCTCAGAAGAGAAAAATTTAACATTCAGTCTGAAGTTCACCCCTCTATGGCTCACCCATGACCCCAAAGGAATCTGCATCCACAAACCCCTGGCAAAAGTTCACATGTATCTACACCATCCCCCAAACAGACTGTCTCGAGAAGATTTTCATGTGACAGCTTTTCAAATGGAAAGCCTAAAAATAAATAAATAAGAAAGCCTTTATCAACTTTATTGTCATTATTATTAGAATTTTAAAAATGAGGTCTACAAGAAGGATGACTTACGGGAATTTTGTTCAGATGAAGTACGGAGATTCAGATTAAATGTACAAACCTGGAAAATACTTTTATAAGAACACGAAACGGGGGAAAAGGGTAAGAAAACGTGCAAAGTCTAAGAAACTATAGAATTTGATTGCTCTGTCTACTGAGGTATATCTTAATTTTACCTCCATGCATTTTTACTATGCTTTTAAAATCCCCTCTGGGGCTATAAAATACGGCTGGCTTTCTCTTCATTCCCTTCCACTCCAAGAGCGAGCCTGTGTTGGGGGCTTGGCCCGGTCCTGGGCAGGCCATTCCCCTGTGGGACTCCATGTTTTACTGGGCATCTTTCCTCTGAATCAGGAACCTCAAATAACTCCCACTGCTCATCTCTGAAATCCTTCTACTTCTTTAGCACTATTAAATTCTCTTTTCTTTTGCACAAAATCATAATCTTCCTTATTCTTCAATTCCTACCTAGAAACTTCAATTCCAGAGTTTCATTCCTAACCAATTTTAACATATTCTCTTGTTAGTGATAAGTGAGTTACTTATAAACAATCAACACGAACACTCTAGTAAACTGTTTTCCCACTCCCGAATCTTGGCAGGCATTTTTTTTTAAGCATGTATTTTCACAGACTCCAATTCCATTTCCTCACTTTCCGGAATCTCTCCAGCATGTGCCATAAGTCAAGCTTTTAAGTAAATGTGCTTTTCGTACATTTCCATAGTACATATGGGAGATTAAGTGAGGAAGTGTTTTTTTTTTTTCCTTTCTTTTTAAAGGGCCACCAAGAAACAGTGTTATCTGTTTCTTTTCTTTTTTTTTTTTTTTTTTTTTTTTTTTGGTTTGAGACAGAGTTTCACTCTCATTATCCAGGCACGATCTTGGCTCACTGCAACCCCCGCCTACCGGGTTCAAGTGATTCTCCTGCCTCAGCCTCCCAAGTAGCTGGGATTACAGGCATGTACCACCACGCCCAGCTAATTTTGTATTTTTAGTAGACACATGGTTTCATCACGCTGGTCAGGCTGGTCTCGAACTCCTGACCTCAGGTGATCCACCTACGTCGGCCTCCCAAAGTGCTGGGATTACAGGTGTGGGCCACTGCGCCCGGTCTAACAGTGTTATCTCTTTATACTGAATTAAATTTACCATCTAGAGGGGATTTCTCAGAGAACAGAGCAAGCAGAAGCAAAGATGTTCCAGGGAGAAGAGACGAATTAATATTTGTGTGTTTACTCCCCAGGACTGACAAACACACTTGGACCACAGCCTGCCAAACAGGCCCTGTGACTCTTAGGCTGCAAACCACCTTCCCCCACAAGAACACGAGGCTGGCATTAACATACTTCTGCTCTAATATAAGCCTTGCCCACCACTCCCCTATGGCCAAACAAAATGCTTTCACCACCGCAAGCTGGGTGCCTGAGATAAACCTTCAAAGGCTTCTGAAGTTGCATTTTTAATTCCTCCATAACAAAATTTAGGTAATTAGGCAAGGCAGTTCATCAGACACTCACTTTTCTCCCATAGCGAGTCTCTGCCTCCCGCAGGCCTTTCCCTGGGACTCTGTGAGTAAACCTATCAGAGCCATGACGCACCAGCCCCAGATGCGCTGGCTCTGCTCGAGAGATCGCATCAGCCAAGGTCCAGGTCAGATCTTGGGCAAACTGTCATGTCCTTTGGAGGCTGAGAGAGGAGAAAAGGGAGCAGCGAAATAGGGGCAGGGAGGATGAGGTGCCCACATGAAAGGGCAGATTCCAGTTAAGTCATCCGTGACCACTCTAATTACCCAAATGTTTTCTGGAGCCGGTAAGGTTTAGACCACCTGATTGACCAAAATACAGAGAATATTCCCAGATCATGATGTTCAGCTGCCAGGCAGTAAACGAGCTTCTGGGAGTAGAACATCCATCCCCCTTCCCGGAATTTGGCATATGTTTGAGGATCACTAACACTGGACCTGAGAACTGGCTACTGAGTCACACATTCCTCCCCCGAGGCACCCGCTCCGCTCCTCCCCCTTCATCTTGGTCCTATTCCTAACGTCCCCAGGAATATGCCATTTGCCTCAAAAGTATTGCTACAAAAGGTAGCCTTCACTGCCCTTGATTTATTTTATTTTATTTTATTTTATTTTATTTTATTTGTGTGAGACGGAGTATCACTCTGTCACCAAGGCTGGAGTGCAGTGGCGCGATCTCAGCTCACTGCAACCTCTACCTCCTGGGTTCTAGTGATTCTCCTGCCTTAGTTTCCCAAGTAGCTGAGACTACAGGCATGCATCACCACACCCAGCTAATTTTTGTATTTTTTAGTGGAGATGGGGTTTCACTATATGTTGGCCAGGCTGGTCTAGAACTCCTGACTGCAGGTGATCTGCCTGTCTTGGTCTCCCAAAGTGCTGGGATTACAGGCATGAGCCACGGCACCCAGTCTGCTCTTGATTTTTCTCTGGTTTTCAGCCTACCTATATCAGCAGCTGAGAAGGTGAAACTAAAGTCTGAAAAAAACAAAAAAAAAACCACCCTGCAGCCTCTTGTACCATGCTGACGGCAGTGAGAGAGGGTGTAAGCTGCACAGGAGATGAATTTATCTGGACGGAGCCAACCATAAGACAGTTAAATCTCCATCCTACCCTATGGAAGCTTCAAGCCCCAGAGAAAGAAACTGATGTGCTCGATGTAAAACTGATTCAGCAAACCCAGCAACACCGCACGTCTCCTAAACAGGCATCCTCAGTTTCCTCTGCACTCCATCCTCCACCCACCCCTACACCTTCCCCCACCACCCAATTGATGTGTGGAAAACACAGAAAGTAATGCTGCCCCCTTTAACTCACAAAGGCTGCTTCACACTGGTCACTGGCTGTCCAGCATACCTGTACCAGAACCAACACGCTCACAAAGATGCCCCTCTCTGGGCTGGCTGTTGTTGGTCTCATTTAACTCGCTGGGCACCAAAGGAGTGGGAGTGGGTGAGCAGTGTCTGGCACGGTGCCCAAGCCCTGACACTGAATGTGACATGAGCCTCCATCAAAGGACACAGGGAGATGCCACCTGCCATCTGCCTCCCACCACCCAAAAGTTGCTTCTCCTTCTTCAACCATGTGCATACAAAGTCTCAAAAAATTCACGCTTACTAGGAAATGATTGCAAGGAATTTCTTCTTTGGTACTGGAAAAAAATATTTTTGCTCAAAAAAATAACATAAACTGAAACGTCTGTGTTACACCAGTAAGTCTAGTGCAAATTAATAAATGCCAAGAAGGAAAAACTCACAGGAGGAACGAAAACCCAACTTTTCTTGTCCTGAAAAGAGAACAAGGATGGACTGAGGGACCTGAGTGAGACGCTGTGTGTGTATGGGTGTTGGAGAGGGAAAGAGTCAGGGCCATGGAGACACTGAGTGATCCCTGTGTCCTAGAGGAGACTGGCCAACACAGAATAAAAAGTGGCCTCATAAATGCCTAGAAACAACCCATCCTTGACACATCTGATTAGAGGCTCAGGTAAAGGCATGCTTGGCATCCCTGTGGTATTTGCTCTGTCATCAACGTATCTGCAGGCCTTTCTGGGGCTTTTCATTCCAGCTCCAGTCCAATAACCCTCTTTTATCCAGATACCCGATAAGCATCTCTTTCTCTACCAAAGGGGCCATGCGTACTGATGAAACATTCTTTGTGAAGATCCAATAATGTACCCCACTTGGACATGTAGAAGGAGCTGAGGTGTGTCAACATTCCCCCCAAATAAATTAATCTCGCAGAGATGTACTTTTCCAGGGAACTGGTATTTGCCCCCTTTCCTCTGCTTCTGTTATACTCCTCGGCCCTACTGAACACAAGCCAATTACATTTTCTTTTTTTTCCCACTTTGGGTTTTTGTTTTGTTTTGTTTTGTTTTGTTTTTTGAGTTGGAGTCTCGCTGTGTTGGTCAGGCTGGTCTTGAACTCCTGGGTTCAAAGGATCCTCCCGCTTCAGCCTCCTGTGGAGCTAGGATTACAGGCATTTACCATCAAATAACCTTGGAACCACTGGTGAATGTGACAGGCTGTGTCTTACATGTAACCTGATTTATACCCCGCACTTAGTAAATTATGATGAATAAATAAAGGAAGGAGGGAAGAAAAAGAGGAAGGAACTCTGATGTTCCCTCTGGTAACACAGGGAAGAGAGGAAAAAGGACCAACTTAGGCTGAATTCTCTCTCTTTTTTTTTAAAGACGGAGTTTTACTCTTGTTGCCCAGGCTGGAGCGCAATGGTGTGATCTTGGCTCATTGCAACCTCCACCTCCCAGGTTCAAGTGATTCTCCTGCCTCAGCCTCCCAAGCAGCTGGGACTACAGGCATGCACCACCACACCCAGCTAATTTTTGTACTTTTAGTAGAGACGAGGTTTCAACATGTTAGTCAGGCTGGATGGTCTCGAACTCCTGACCTCGGGTGATCCACGCGCCTCAGCCTCCCAAAGTGCTGGGATTACAGGCGTGAGCCACCACGCCCGGCCAGGCTGAATTCTCTTAAAGAAAAAATATAAATGGTATTGCATGTGAGTATACATATAATTACTTAATTTAGAACATTCTTATGTCAACTTCCAATGTCTGCCCTCTTCTTAGTCCTCAAGGATCCATCCACAAGCAGTATATTTCCAAATACTATTTTTCTCAAACTGTATTCTTAGATGGACAGTGAAGAAAAGCCAGCTGGCACTGGGGAAAGAAAACACGATGACTGTGGCTGAGTCAGGGGGATTTTAAGGGCATCTTACCCTTCTATATTAAGTAAAAAGAAAAGCATTTTAACAGTTGCAGAAAAAAAGATGATGAGATAATTAAGGGGCAGTGGCCTAGCTATGCCAAATTACAAGTTGCCTCCAGAAGTTACCATTTTTCCCTATTAGAAAAAAAATAATAGAAACCATGTAAGAGTTATCTCAGGACTGGACTCTTCTAGAAACTGGTTGGCCAACTGGCCTCATCTTTGCTTTCCTGGCCCCAAGAAAGATAATCATGTCACTCAAAATGACAACAGCATTCTTGGTGGCAGACGTGACCCAACAGGCCCCTCTTTTCCATGCTGTTAACACAATTTGGTCATTCGCCTACGCTTGACACACACTTTAAATTCTATCCTCCGTCTCCACAAAGAAAGACCTGCTTGAAACATGGCTTTAGAGAAGTTAACAAGGACCCATTCAGCCAGGAGTTTGAAGCTGGGTTGTGAACAACCAGACCCATTCCAAAACCACTGCTGACCAACTGGTTCCTAATCCTTCCTAATGCCTTGTCCAGAAAATGTCATTCCTACCTGAAGTCCCGGGAGAGGCATGCCTGGAATTAACCTGGAGTTTCTCAAAGTGCATTCTAAAATCACCATAGGGCTTGTGTAAAATGCAGATTCCTGGCCCTATCCAAGATGACTGAACAAGAATCTCTGGGGCTGAGACAAAGGAATCTGAAATTTTAACAAGCACCCCGTACATTTTACTAAAATACACACTGAAATAGAGCCAATGAGTTTGCTGTTTTACTTGCTATTTCAAAAGAAACCTTTATCAGAACCAAGTTTCAAATGCTTTTGTAAACGTTCTGCATCTACATCTGCCTTCCGCTTCCATCTCTGTGAATAAGCAGAAAAGAGCTGAGGCATTTCCTGTCCCACCTACCTATGCAGGGCTTTGGTTTACACCAGAGGCTCCATCTTGCCCCATCTCCCCCAAAGCAAAATTAAACCAATCAGGAGGCACACACAAGCAAAAAGCAACCACCAAAGACCAAGTTGGTGGTTAAAAACAATCTGTTGCTGGTTCCATACAAATATTCTACTAATAAATCCACAGCCACACCTGTGAACTACTAACAATGAGACATAATAGATGCATACAATTCTATTGTAAATTGCAAAGAGGTTAAGCCAAAATTCTGTGTAGAAAGTTATTGTGCAACAGTTTAAATCAAACAGTTCAGATGCACCCCCAGGGCATAAGATACTGATCTTGACTTTAAAAAATAAGTCAGAGAACTTAGAGTCTCTTTCGTACTAGTGGCATAAGTCCCAAGCGAATGTTCATGCTTATCTTAAAAAAGGTATTAGATCACAGGACACGAATGTGGCTAAAGCTTCGAAGAGACCGCTGTACTTGAGTCTGATCAAACACACACAGGGGGATTTGCCTCCAGTTATTTCCAGTCCTGCTGATTAGTTTTCTGATTCTGACAGTATTGTCCTTTCTTGCCCTTGGAACTGGACCCCATTGATCCAAGCAACGCACCATGACTAGACTCTCCAAGCTCCAAACACTAACTGGGTGACCGCCAAGCATCACACCAGAATCACTCGCACATGGAAGCTCACAGAAGTCGATGGCATCAAAGCAGAGGACAAGATCCACAAGCTGGCTGGGTCATGGGGGAGGAGTAAATTTCTTTAAACTCTTTATCTACTTTCTGTTACCTGTCTCCGCAGGGGGATACGTTTGGTCAGCTTGTGCACAGCCGGCTGGCTGCTGAAGTCTGGCTTCTTGGTCGTGTTCTTCATTCGGCACAGGATGACTGTTACCACCATACAGGCGATTAAGAAGACCCCTATGCAGTAAATGGCTATCTCCAGGTAGTCTGGGGAAGCTGTAATCTCCTTTTCTCTTCCAGGCGCTAGATTGCAGATCACAGGAGGAGGAACAGATAAGCAGGCCATAGAGTTAGCACACCAGACTGACGCATCATAGCACAACCAAAGGAACCAAAAGGCGACGACCATTCTCAAGGCAAGGTGGGCTTCCCAAAAACTCCCAAATGAAAATGAATAACCAGGGGTCCATCATTTGACCACCAGGACCCAGGTAGTCACTGTCACTAGCCTCAGTGGGCACCTGCAATCCAGTGAGTGGTTGACACCCAGTTGCACAGGGCAGGCTATGAGGCCACATTTTGTTAGACATTTCAGTGGAGGACGACCAACTGTACCCACAATGAAAGGATTATCTTTCATGATCGTCTGTGAATGCAAACCAAATAAAAAATTCTGAAATATCAACGATGCCCACTTTTGTTTCTAAGGAGACAGTGACAATGCTTCAGTCTTACATGGGTAGGCTCTTCCAAAGGAAGACTCCACAGGATAATTTAACCCGGATGAACACAATTCCATATGAAACTGATGTTCATCTAGTAGGCTGGTCTGAAAAAGTTTTGGTGAATTCCTTAATACCATCTAGTCCATAAACAAACCAATGCATTAAATACACAGATTGAATTGCTTATAATATAGAACCATTAGATCCATAATACATAAAGATTATAATATTCTTTAATAACCTTTTAAGTTTATACATATCCGGTTATATTGTTATGTCACTACAGCTTTTCTCTTAAAGAAAAAACATAAAGGTATTATGTGTGAGTATACATATAATTACTTAATTTAGCACATTTTTATATCAACTTCCAATGTCTGACTTCTTCTTAGTCCTCGATGATCCATCTACAAGCAGTGTATTTCCAAATAGTGTTTTTCTCAAACTGCATTCTTAGTTAAGTGCTAGCACTGTCAGGCAAACTGGTTAAGAAGTGCCAGTTAGGCACCACAGAATGCAGTACTGCAAATAAAAGCAAGCTTCAACATAAGAGACATCTCTTTGTTTCAAAGCAAATATTCACAGAGCAGATTCGCAACAAAAGGAAAAACGGATGCAATGGTATTATTGAAAGCTTATACATTTTAATCAGAAAAATACTTGCAAGATAGTCAAAACTCTCAGCAGCAACAGCACAAAAATGAAACGATCTATTTTATTTTTACTAGATGTAAAATAAGCATGCAGGTAAGCACTGTACTCTAAAAACAAGGAATTAATAACTGGAGTGGAACATCATAAGCTAGCAAACCACAGTCTCTGCAGTTTCACAAAGGAAATGACAAAGAGGCAGATGCATCAGAGAGGACAGTGTTTAATTTCAAGAAAGTTTCACTAGAATAGAGATGTCGGTTAAAGATTCAGACAGCAGCAATGTTTAGGCAACAGGGCTGCAATGATGTTTATTTCTCTGTGAGGCAGAAATAACATCAAGCCCAAGATGGCAGGAGCATGCTTTGCAATGAAAGCAAACCGAAAGTCCATCCTATCGCAACATGCAGCAAGCCACCGATCCCCAAGGTAGGCAACACACTGCTTCTGTGCATCTGACATTCAGAGGTGCCGCTCCCCAGGCTCCTCCATACACATCCCTCTATTTACATCTCGTTAAAAATACAAAGTGGGATGAAAGCAATAAAAACACATACAGGATTTTAGCAAAATGGAATTTGAAATGAGAATAAATTACTTTGAATTTTACCAAAGTAATGGCAACTTGTTCCTTAAGAGAAAGGGGGATGGGCTAATTTATACATTGGCTCAATGACTCACTAAAAATATGAGATCCCTTCAGGTTTTAAGGGTGAAATTTCCCTTGATCATAAATGTGAGTGTGGGATCTCACTGTGTGTGAATTTCCAAGGCAGTTTTCTTATCCCTGAGGGATCATTTTTAACATTTTTTATATCTTTATGCAAGGATAAAAGGGGCCATTTCTGATAACAGAAGCTGTGTTAATTTTATAGCAGTCAACCAAGAAAAGGGAAAAAAACCCAGAGAGAAAGAACAGTATATACCTGGCAGAACTGTCAACCATGCAGAGTGAAAGGATATCCCAATAGAATTACCCGCCAAGCACGTATATTCCCCAGCGTCCTCAAAAGTTACATTCCGAATATAGAGAACCTCAATCTCTTTGTCCGTGGTGTTAACACCGGCGGCCTAGAAAACAAGGGAAGCAAAAGAAAAGGCTAGACGACACAGGAATGATTGTGGAGGGGGCTGTGGAACCACAAGGCGTCGCACCGGGGGCTTCAGGGGGTGCTGGCCACTGGGAGATTCCGACTGCAGCCCATCCACAAAGCCCACAACCGAGAGACACGGAGCAACACTGACCAGCTCACCTCCACAGGCCCGTCACCACACCGGCTTCACCTCCTACACATGCACGCAATCAAACGCATGGAAAAAATCAACCCACAGAGGTCCGTTCTCTTGGCCTGTGCTTTGGTTTGCATTTAGGGGTGGTTTTCCAAAAGTATGGTGCCCAGAAGGCCAAGCTGGTTCTGGTCCTGTTGGCTGCAGACTCCCACCAAGAGGAAAGGGTAGTTCTATCTAAATTGCTGTGTTTTAAGACAACACACTGCACATAAGCCCAGATGGACACCTCACCCATCCTCCTGGCCCTGTGGGAACCAATTGGGGTGGAAGGTTGTCTTGGTTACCAGGCTCTGGTTATTTTTACTTCTGCGATACCATCTTGCCCTACATAGCATTGACAAAAAGAAATGGAAGCAAGCATCATCTTGGTAACCAAAAAAACTGGGCTTTTTCTCTTTTCATTAATAAACATTTGGATGTGAGTCATGACAAACCTAAAAAGTCAACCTTTTGCCTTTAGTAGCGTCCAGTAGTACATTCATTAAGATGAGCTCCCCTCAAATTTGGTGCAACAAGGTCAAGAACAGCAACTCATAAGGATCAACCATGCAACCAAAGAAATGATGCTTTGTTGAACAAATTGCATCTTGCCAATATTTCCCTAAAAACTTGAAGTAGAAGGAGACAAACTCTGCTGATACTCAAATGCCCCGTATTAAACAGGCATGGAAGCGTGTGTTTTAAATGGTGTTAATGTGCAGTAATGATGGGAAATGTGCAGCCTAAACAAGATCAACCAGAAGGAACAACTTAAAAACTGGGTGGGGGTGGAGGCTAATCTCTAGAAGAAATTGGAGCAAGCACTTTGAACGTTGTGGGCATTTTTCCATGGCTACTGGCATCATACCAGCTGCATCACCGAAGAAAGATTATTATAAATATACCAAGGCCACAAGAGTTATCCTATAAGCTGCCTGCAGTCTCCCAAAGCACCAAGTCTTTTCAGCTTCTATATCCAGCTTTCTTTTTAAAAAAAGACAAAAATGAAAGCATTGTTACCTTGCTGTTTTGGCAGGACAGTGAGCCAGGCAGACTGGTTGGCCTGCCCTATATAATTGGAGACCTTACATATATATTCCCCAGCATCCGCCTCGGTCACATTGAACAGAGCCAGCACTTCTGCATTGGAACTATTTATCCCCGAGTGCTAGAACAGACACAGGAGAACAATATAACGGCCAACCAGGAAGGTCTTAGCATTGTCTATGGTCCCACCACCAACACACCGCAAGAAAACAAACTCCATTACGTCTAAACAGCGGCATTAAAGGGCTGCGGATTTTAAAGAACAAAATCAGTCCAGTGGTGGACAACGGAAAGACCTGGTGGAGAGAAGGGCAGGAGGGTGTGAGCGATAGCTAACTGGATAGGTCGGGTGGGTCCCCAGGTTGGTCATCTTTTCCCAATGCCTTTGATCCTTGGAATTATTAGCTGGTGAGAACACTTCATTGGCTGAAAGTTCTTAGCTGGGTCACCTATGGTTCTACTGGAAGAATGTTCTTCTTAAGGACATTCATTCTCCATGAGCAACTAGACATGGGAGGCGTGGTAGGCAAGGAGTTAAGAGCCAGCTGTACAGACTTAGCTGCCCCTGTCCTCAGTCTCCTGAAGAGCAAACCTAGATCTAAAAAAGAGGCAGATGCTATGAAAATGGGGGCTTGCAAATAAGAAATAAGGAGGGAAAGATATTTTCCTTGTTCAACATTTCACTGGTGCAGAAATATGACCTAGAGTTTATTGTCTAAATCACCTCTGAATGGATTTCAAAGGTCAGGGTTTTGTTTTGTTTTGTTTTTGTTAAAAAAAAAATCCAAATTGTTTCTAAAACGTGGCTACTAAAATTGGATCCTAATGTCCTATTAATAGAAAACAACATCAGAGTAACAATCAACACTGGCACAATGCCTTGAGCCTACAAAGCTCTTTCCATCCACTCCATCCCATTTATTCTGCACAACCGCCCTATGGGGGACAGAGTATCACGATCTCTACTTTTATAGAGGCGCAGCTAAGCCTAAATGTCTGCGATCTCAGGGCTGATAAATAGCTGAACTATTCTCTCTCCAAGTTTAGTAGTTCTTCCCCAAGTTTAGTAGTTCTTCCCCTACTCCATAGTTCCCTTCTGAAATTCTACTAGCAAGTGTAATGATCTGTTAATTCCTTAGAACACTCTCTGCTGGCTAGTCAAAAAAGAGAATCATCCTCTCTCAACTCCAACAGGAAATCAAAGAACCTGTGGCCAAACCCATGAAGGAGACCCCAGTTGTGGGTACCTTTAGATTCAGAAAGTCCTCACCTTGAGAACCTTGAGGTAGGGCAGCCCGTCGGGCCCGTATTTACTGCCGTTCTTTTCCACGTGCTTGATCCACTGGATGTGGGGCTGGGCATCACTGTAAACCTTGCAGACAAACTCTACGTCTCCTCCGACCACTGTGGAGGCATTTGCCGGCAGTCCGGCTTGGAGGATGGGCCGGTGAGGCGATCGCTCTGGTGGAGAGAGGGAAGAAAGGAGGAGTGGGGATGGGAGAATGAGAGACCAATAAATAAGCTGTGTTGTCCAGAGGGCTGTCAGTGACCTCATGCCAGAAAAGCCTCAAGCCTGCTGGCTGACACCTTTGAAATAACACTGTGGCCCCATGAATAACAGAAACGACTTCAAAGGAGACTGCCGGAGCGCGACCCTTGTAAAAAGAACACTTACTTAGAAAATTGAGAAAAGAACTTATTACATCCCAGGTTATTGGCTGTCCACTGCCACCTGATGAATACGGGAAGAAATTCTACTCTGACAATCTAAGTGACAAATGGTAGGGGAGGGAAGCTTCTTCACTTATCCTATTTGAGATAATCTCAAAAACTCACCTCAACCACAAGCTTAACATCACAGGCAAATGACAAGACTAACTTTAAAGACACTCTGAATACCAAAAATGGTTTCAATAGGCACATGTCTCCCAATACATTTTTTTTTCTTTTCTCAGACGGGGTCTCACTTCATTGCCCAGGCTGGAGTGCAGTGGCATGATCACGGCTCACTGCAGCCTCAGCCTCCCAGGCTCAGGTGATTCTCCAACCTCAGCCTCCTGAGTAGCTGGGACTACAGGCAACCGCCACCACGCCCAGCTGACTTTCAAATGTTTTATAGAAAGAGGATTTCATCATGTTGCCTGGGCTGGTCTCAAACTCCTATGCTCAAGCGATCCACCTGCCTTGGCCTCCCAAATTGCTGGGATTACAGACGTGAGCCACCACGCTCGGCTCCAGTACATTTCTAAGATGCTCTGAGAAGACTTCCAACCTTTGTTTTAAAAATTAAACTAAAGCCTAAAGCCCAAAGTTATGAACAGATTTGATTAATAATGGGATTCACCTCTTTATTGTGGAATTCACTCCATTCATTCATTCTTTATTCACCCATTTAGCTCTTTGATGAATATCAGGTGTTACTCTATGCCAGTTACTAAATGCACAAGTAGATGTTTCTTAGCTTATTCCAATATGGCACTGAATGAAACATAAGGAGATGCTGGTTTCCAACTCCTGGCTATGTTTTAGACTGCCCTATAAAAGGGCAGAGATGGTATCCCAAAATTACTTCCTAGCTTCACTTGTCTTGCCTCTCTCTCCTTCGAGAACACGTTCTCAACAAAGAATACACCCTCTCATCTTATGCCTGGAAAGGCTTCTCTCCAGCTAAGAGGCGGTCTCTGCAAAACTTTTGTGGAGACAATCAAGCCAAGGTGTGCTAGCAACCACACATGAGACTCCTCAAGTGTTAAGTAATACCCATGGAAAAATGGGCTAAGGACTTAACTATGCATTTCTCCAAGACACAAATGGCCACTAGGTGTATGAAAAGTTTCTCAATGTCACTAATCATTAGAGAAATGCAAATCAGACGAGATCGGGCGCGTTCCAAATCAAAACCACAAGGAGCTATCACATGACACCTGTCAGGATGGGAAGAAAAAAAAAAAAAGACAAGTGTCGGCAAGGATGTGGAGACACTGGAACCCCTGCGCACTGTTGGTGGGAATATAAAATGATGCAGCCACCATGGAAAACAATATGGAGGTTCCTCAAAAAATTAAAAACAGAACTACCCTAAGATCCTGCAATCCCACTTCTCTATTTATCTAAAAGAACTGCAATCAGGATCTGCACTCCTATATTAATTGCAGCACCATTAACAATAGCCAAGAAATGGAATCAATCTAAGTGTCTGCCAAAGGATTAATTTTTACAATGTGGCTATATACACAACGGAATACTATTCAGCCATGAAGAAGGAGGAAATGGTGCAATATGTGACAACGTGGAAGCCATGATGCTAAGTGAAACAGGATAGTCACAGAAAGACAGACACTGCCTGACTCCACTGATATGAGGTATCTAAATTCATCGCATTCATAAAATCAAAGAGCGGAACGGTGGTTGCCAGGGGCTGGGACAGGGAAGGAAATGGTGAGTTGCAATCAAGAGGCATAAAGTTTCAGTAAAGCAAGATGAGCAAACTCTAGAGACCTGCTGCACAGCATCGTGCCTATAGTCAACAACAACGTATTGTACACTGAAAACTTAGTTGAAGACCAGGCGCAGTGGTTCATGCCTTTGAGCATAATCCCAGAACTTTGAAGGCTGACGCAGGAGGATTGCTTGAGGCCAGGAGTGTGGGACCAGCCTGGGCAACATAGCAAGATCCCTATCTCTACAAATAATACAAAAGTTAGCCAGACATGGTGGTGCATGCCTGTAGTCCCAGGTACTTGGGACTGAGGTGAGAGAATGGCTTGAGCCCAGGAAGTTGAGGCTGCAGTGAGCCACGATCATGCCATTGCACTCCAGCCTGGGCAACAGAGTGAGACCCCGTCTTAGAAAAGAAAAAAAACTTAGGTGAGATGGTAGTTCTCATGCTTAGCATTCTTGCAACAATAAAATGAAATAAAATAAAAAGAATTAAATAACCACCAGACCACCAGACTGCTACCTGATCTTGTCGTACAAACTTACTGGAACCTTCCTACACAGATCTGTCAAAAGCCACACAAAACACAATCATGTGTCCATACATGAATACAACTCCATCCCAACAGGCCTGCACTTACCAGCCTCCTCCCTCTCTTCCTCCCCTAGGTGTGGGTACCACTACCCTAACCTCCAGTGTTAAAAAACAACTGAGGGAAATGAGGAGAACTCAGCCAGCTCAGCACACCAAGGATGTCTCTGCACTGTACCTGAGAATCACCATGCACTGGGCTGGAAACAGCAAATTAGAACAATAGATATCTACATCATTGGACCTTTCAGATTAAAACATCATCTAGTGGAATTTGTTGGACAAGAGCCAGACCATGTGCAAATTGACTTTACTGCATAAGCCTGTTGCTGGTCTTTAAAAAGAAAGAAAAAGTGCTAGTGGTTACTCTTAGCACATTTCATTCCAGAATCTCCCATCACTTTACAGACATCTATGTTTTCACATTATAAAGATAAGGATACTGGAGCCGCAAAGAAATCATTCATCTGCCCCTATATTGCCCATGTAGGCTGAGCAAAGAACCTGAAGTTAAGACTTCTGGTGTTGGTGGGCAGAAAATCTCAAAGCTGGGCCCCTTCAGACGTCAGGTGAAACCCTTGCTCTCTGGCTCATACAATGACCCAGGGATGGGCCCCAGCAAGCCTCCTGGTCAGGCCTAGCAGCTGGCTGGACACCCCAGGGACCTGTCCACAGCGGGCAGTGACCGAGGTCTGATTTAATCCCAGCTGGCCTCATCCATGTGGGAAGGGCAGAGTTAAGTCCGCGCACGAACAGACACACGCTCCTCTCCTCCCCAGGCCTCCTACCAAGAGACTTCACAGCACGAGGGGAAGCTGTCCTCTGGGCTAGATCCTGCCAGACAAGGTCACAAACTATGCTCCTATGCACCTAGCAAATAGTAAGAAGGTTTATTCCTTCACACAGAAATGTGAACTTTAGTATCAATTCATGCCCTGGCTCCGTTTTCCAGTTTTGCACTTGTACATGCATGTGTGTGTGTAGTGTGGGTGCGTTTTAAGATAAATATTTACAGTGGGCCTACACATCTATTCTTAGAAACAAAGGTCATAAAATCTTAAATGTCATAAGCCAGATCAACTGAGTTTCAAACCAAGTCCTCTTTCTTAAACATATTTGTTTCTAATAAATCGTTTCACAAGTAAACATTGTGCATGCAGTACCAAACCATGATGCCCCGTGAACAATGAGTGCTTTCATCCCGCCTGACATCTCTGGCCTGCGCCAGGCTTCGGCAGGGAATTTAGTCACTGAGGCAACACTGGCAGGGCCCACTACAGAGCTGCAGTCTTGTTTTCCTTGTGGTCAAAGTGCTGCTGAGCTCCAGTTATTAAGTTATTCCAATGCTATCCCGGCTATGTATACACACACACACACACACACACACACACACACACACACACACACACCCCAAGTTTGCAATGGTTTAATGTTATTGCATTTGCAAATTACAGCATACCAAATGTTACACGCTTGCAGTCTTGAATTCATCTTTTCAAATTTTCTCACCTTATACAAAATAACCTCTTAACCACCTCCACTCCCCCTCCGCCCTTTCTCACTTCTGGTAGAAAAACTGCAAGCAGGATTGTTCTGTAATAGAAACCTTACACTGTCTTCCAAACTTATTACAGCTGCCTTCAGTATAAAATGAAACCTTAGAGAATGTTATTTAAAATGTTTTTAAAAAGTCAGTAGGTCTCATGTTTCATTTCTCCACATCAGGCTTTGATTTCCTTTGCAACCTTATTCTCTGCCCTTAAACAAGTCGGAGGAGGAGGCCTGGACGTCTTGGAAAAGGGCCCAGGATGCCAGCATCTGCCGAACGCTGCGCTCCTCCTCTCGAACCCTTCAGCGATCCACCACCCCTCGGAATCCCTAAGAACCTCAGAAACAGTGAACAGTAAGTGGATGACAGCGCCTGGACTCCTTTCCTAACTTCTGAAAAACCGAGGTGATGGCAGGGTGCAGATGGTGGACGAGGATGCAGGCTGGGCAGAGTGGGGGCCCCCTTCGTGGCCTGGCCCAGCGGGCACTACGGCAGAGACAAAGGGGACGATGACCCAAAGAGCTCATGTGTTCTCCCCACCAGGAACCTCCCCGGTCCCTGGGCAAACCAAACCCCTCAAGTTTGCAACTTTTTTGCAACAAACTGATATAAAAAGAATCCCCTGATGTATTATCTCTGGGCGAGAGACTAAAGCCCAGTGCTAGTTCATCTCTTCTTCTATGTGATAACAAAAATCACATCTTCTCCACCAGGAAGGACAGGAAGGATTTACAGTTTTAGGCAAGATTCTCTTCTAGCATGTTTAACTCTCAGATATTATATAAAACAGATTTTCCTTTTTACAAAGGGAGTGAGATAAACACATGGAAAATAGGCTGATGAGTAGCTCCTCTGTTTACTGTAATTTTAATTACATATATACACATATAAGAATAGACGTTCTGAGGTTCAGCAGGTTGCAAATGCACAGTGCATGGACCTGGAACAAGATGAGAACCTTCAAAAGAGTGATTGGAAGGTGGCTGTGTGAATTCCAAATTAAGACGGAATGGAAAGCAGTCCAAAGGGTGCGGCCACTGCTGCCGGGACAGTTGGCTGCACTGCTGGAATGAGGTTCCACCAAATAAACGCGTAGTAAACACAGGCTGAAGTGCTTTAAAAAATACATTCTCTCCCAGCGTTCTCTCTCTCTCACTCTCGGTCTCGCCCCCTTTCTTCAAGTGTCCACTCTACTAAAGCAGAAAGCCCAGCTGCTAAGAATTGAAATATCAGGATGGGCTCTGTCAAGCCCTGCTCTGTAGCTGGGAGCCATAACCCACCTAAAGACTGCAGCAGGAAAGCACAGCCTGCTTCCTTCCAAGAGGTCATTATTGAGGGAGAGAGAGAGAGAGAGAGAGAGGAAAAAAATACCTGAGTGACAAAGAATAAATCTTTGTTAATTGACCATTGAAATTTTATAACATGCCAGTCCTCCTCTGGACATAGTAATATGTTTGCTCATAAGAGATCTACAACTTTTGCTCTGACATAGCAAAGGCCATAAAAAATGTCCACCGAGCCGAGAGGCCTCATGTCTACAGGCTCAGTAAACATGCATCCCGGGGATCAGAAGGAGAACCAGGCTCTTAAATTACACCTATAAATTAATCAAGCACAGAGTGGCTGGTTTCCCAGCTCACACTGGTCTCCTGAGCATTTCTCCCCAAAAGTTAGGCAGTACTTGCCACAAAGAGCCATTTCAAAGCCACCTCTCTCCGGCAGTCACACACCAAGAGACTCGAATCACACGGAGTTCCCAGTATTGATCTGGAAACAGCCAGTCTCCTGCTCTCAGGCCCCCATTCATGTAAGGAGCGTGGATAACCTCGCTTGCTCTGTCTTTAAATTAAAATCAAAATTTAATTACCTTTCCTCCAAAATGGCAGTCTCTTAGCAACGCCAAAGAGCTGAAAAGGGAAAGAACATTCTGCGATTTGGAGGACAAGTGAAAACAACTGAGAATTCTTTTTCTAAAGCCTGCCTAGCTTTTTTCTAAAGAGTAGGCGGTGGTTGCTTTTGTTGCATAAAAACGCACTAAACCAGTTAGCATGAGGCATGGTTATTAGGAGGAGGAGGAGGCCGATCAAAGCTCTCTGAAGTCTGAGGAGCCCAGAACTTGCTAAAGGCCCCACGCTAATTACAATTAGTAGAATGAGTTCATTGCCTTGTCAAGACTCCACCTAACGCACTCAAGCCTGACAGGCTAAATCTCGTTGGGTTCTGAGTTTTGTTTTGTTTTCCCAGAAATACGAAGCTTTCTCCAGCTTCTGAAGATCAGCACAAAGGAAGGTCAGAACTAAAAATGATTAGCAGAAAAAGGGAACGCTATGACGGCCAGGAAGACCACCTTCAGAAAGAGCCCAGGTGCCCACAGCCAGTATCTTGGCTTGTCACCTCCTAGAATAGATGAGTGGGCTGGGATGCTGGGCACCCAGAATCACCTGTTTTGTTTTGTTTAAACACATTTCTGTGGAAGGTCACTGGTTTGTTGCCCTTTCTCCCTCACAGGCTTGGCACATGCTCGTTTTGTTCTTTCCTCTTCGCTGTCTGGTCACCCAGGTGTCCGCATCTTCTGTCTGGATATCTGACTCTCGGAAGTCTTGCAGAATCGGCTGGGGCTCCCACTTCCTCTAAAACACACACGTCTCTTTGCAGAGAGAGTGAAGTCTGCGGAACAAACTTGTTTGGGTAAAAATGAAGTGTCCTCCCTCCAGCACTAAAGTCACAAAGTGACTTATGGAGGCTGCACCCTGTGAAATGCTAGAAGCAAAACACCACTAATGCCTTTGTGCTTGCTCGATGAAGTGAAGAAGAGAGTAAAGTGCTGGCTGGGCTCAGGGCCTGGGAAGACCAAAGCAGGTGGAGGCAAAGTACCTTCCCTAATTAATGTTACAGGCTGTATTATTAGTACCTTCCCTAATTAATGTTACAGGCTGTATTATTTGGCTTGGGGTTGAGTGGCTTCTACCAGCTGGGTATCAATTTGGGTCTTCTTGGGCGAATTACAGGAGTAGGGCTGTGTGTTATTTACACCCCAAGTGTTTAAGACACTCTGAGCTCTCTGCCTTCAAAAAGTTTCACCAGAACTGAAGATTCTTTGGTAACCAGAGAGTTATTATGCCAAATTTACGTTCGAAATTGGTCTCTTTTGCTAAAAGGAGTCATGGTTTGGGGATGATGGAAAAGTCCTGGAGATGAACAATAATGATAATTGCAAAACAAATTGAATGTACTTAATGTAAATGAATTACACATTCAAAAATGGTTACAGAGGTATATTTTATGTTATGTATATTTTACCACAATTTTTTTTTAAAAAGGAGACATAACAAAGGTGACAATATCTCAGAGTGAACAAGATCAATTTCTAGGGTCATGGAAAACCTACCTTCTCAATCAGCGAGGTATATTGACCTTGTCCAGTTTACTCAGTGAGAGCTTTTCTATCTCCTGACCCACACACACTAGGCAGGAGGTCCCTCCCTAGGTTGTGCTTGGGTTTTGACACTGATGTAAAACTCAGGCGTCAGTCTCCCAGGCTCCCTCCCGAGGAGCTGAGGTAAACACAGCTGAGAGCGTTCATGCCTGGGAGTCACGTCAGAGCCTCAGCAGCCGCCACTTGCCATAGGGGTGCAACATCTTTCAGGAATGCAAGATTATCAGCTGGTGTCTGCATAGCTGGGTTTCCTTCAGGGGAAGAAAATGTTTCCTTCGAGCTGGAAAAGTTTGTTCTTTTTTAATGTCCAGGAATTAGGTATACCCTCTTATTACAATGGGTGAACTCCCAATTAGAGTATCTTCTCTCAAATGATTTGCAAAGAAGCTAAAAACCAAACCACAGGGGAGCCCTCCGTCAAAGACAGCAACCACTCCAAGTAAGTAAGGCCCCTTAGCTTTAAAATGTTTGACTGAAATCTATCAAAAATGATCCAGTTAACCAACCTTTACAAATCTGTCCTAGAAAAATATTCACACAGATGCCCACTAAATAAGTGTGGACAAAGCTTGTCGCTGTAGGGTTTTTTTTACTGGAAAACAAAAGATCTGCACAACAATCATATTGTTTAATATGATTAAACGAATTGTACTACATCCGTGAAAGAAGAGCATATTGGCCACTAGTAAGAATGAAGGAGATTGAGATGTGCAGACATAGAGGGATGTCCATTGTAAAAATGCTGGCAGGTTTCATCAACCTTCACCATCTAAAAAGCCTTTCTTCTAGAGAAGTCTAGAAAATCTATCATGCTCATCTCTCTCACATGCCTTGTTTTGCTCCTAGGGCGGTTCGAGCAGAAGTAAAAGCTTTCAGCCCATCTGAGCAAACAAGAAATGCCTCCCTTTGATAGGAATAACATGAGAGGCTGAACAATAAATCCCATTTGTTTTCTTGGAGATGAAACTCAGAAACTGAAAATAATCACGGTTCTAGATACTTCTAAGTACAGCATGACCTAAAGAGAAACTTCAAAATAGTCACCCAGATCACAAAAGCCTTCAATCCAAACGCCACTGCTCTTCTCACTGTCCAAGCCAGATGGGAAGCCTCAAGTCAGGCCCCAGCCCCAGTCCCTCCCTATGAACACTCGGTGAGAGTCTCACATACAGAATGGTTTTGTTTTTTCAGTCCAAAATGTAAAATTTATTTATTTATTTTGAGATGGAGTCTCGCTCTGTTGCCCAGGCTGGAGTGCAATGGCACAATCTCAGCTCACTGGAACCTCTGCCTCCCGGGTACAAGCAATTCTCCTGCCTCAGCCTCTAGAATAACTGGGACTACAGGTGTGCACCATGACGCCTGGCTAATTTTTAATATTTTAATTTTTTTTGTTTGTTTTTGAGAAGGAGTCTCACTCTGTCACCCAGTCTGGAGTGCAGTGGCACAATCTCAGCTCACTGCAACCTCCGCCTCCCACGTTCAAGTGATTCTCCTGCCTCAGCCTCCCGAGTAGCTGGGATTACAGGCACACAACACCACGCCTGGCTAATTTTTGTATTTTTTAGTAGAGATGGGTTTTTACCATGTTGGCCAGGCTGGTCTCAAACTCCTGATCTCAAATGATCCACCTGCCTCAGCCTCTCAAAGTACTGGGATTTCAGGCGTGAGCCAGCACACCCGGCCAAAATGTAAAATTTAAAGGGCTAAGTCCTTTACCTTTCAGTTTCAGTCCAGAGTGTACACTGAACCAGTAAAATGAAAAGTTCCTTTTTCTAATAGAGCATAATTTCCAAAAGATCCTACTAGAATAATATTCAATGTTTGTCTCTCAAAAGACCACAATCTCCCTGATCCAGTGGGGAATATGTCTGGGGCACCATTTGACCTGTAGATTTGCATACTTATTTGGGATGGACAGAATTCCTGCCAGCCTTGTTTGAGAGAATCCTGTAATCCAGAGGCTTTGAGAAAGAGAGAAAAAGTTGGAGTTCCATCAAGATCTAGAAATTTCCATCCCAATTTATGGTCTTCGACCTCAAAATGTGACCTGAGGAACTCCATGAGGGCAAAGCCTTATACCTCATTCAAGTGACTGTCACCCTCTCGACCACATAAAGGCTGCGTGAGCGTGCCACGTGCTTCAAGGATAGAGAATTAACCACTGCAACTCAGCAAATACACAAAATCCCAGCTAGAGAGCTCTGCTCTATTTTCTCCCTCCAAGCCAAAGCAATGAGGCTCCCATTGCCTCATCGCCTCATCTGTCTCTTCTCAGAAGAGGAAACAGAACAACCTCCCCACAGCAACACCGACACCCTTGGCCATCTATTTCCCACAGACACCCACATTTGACCAGCTATCATGAAAGACGCACAGTGGTTCTCTGATGCCACCCTTCCAAATCTCTAAGTAAGGAGCACATCCTACCTGTAGGTAGAACCCTACAGCATCCTACCTTCTCTGACTGTGAAAACAAACCAAGCATGAAGACCATGAATACAACAGCCGGGTCTCCTAAGGGAGAGGGAATCCGTGAAAGCAAACCAACAGACACATCTTTTAAAAGGGGAAGAACACACAGCATTCCACACTCACATCTTAACAAGAGTTGGCAGGCCAGGTGCGGTGGCTCATGCCTGTAATCCCAGCACTTCGGGAGGCCTGCGCGGGCAGATCATCTGAGGTCAGGAGTTCAAGGCTAGCCTGGGCAACATAGTGAAACTCCATCTCTACTAAAAATACAAAAATTAGCCAGGCATGATGATGTCCGCCTATAATCCCAGCTACCAGGAGGCTGAGGCAGGAGAATCACTTGAACCCAGGAGACGGAGGTTGCAGTGGGCCAAGATCATGCCACTGCCCTCCAGCCTGTGCAACAGAACAAGACTCCGTCTCATAAAACTTCCCAACTGAGGTCTTTCGGTTTACAAAGGCAGCCGTTGATAAAGCCACATGAGTAAATGAGTTTAGAGAGAAACTCTAATTTCTTGCTTCAGAATTTGCAATGTTAAGAACCACAAAACTCCAAATATAAGCAACTTATTAAACTGTTTTTTGATTATTTCAATTCAGCACACGCTGATAGAAACCTCGCTAAGTTCCAGCACATTACTGCACACTCTTACTGCCATCACTAAATTGACATTTCATGGCAAGTTTATTTGCCCAAGCTCTGACAGAAGCAGCTTTCTCTCTGCCCCATCCTCACCTGAATCTCCAGGTAACCTCTTCTTACATAAAACTGTAAGATATTAACTTGATTTTAACACTTCTACATCCTCTTTGCCCACACCATAAATGAAATGCCAAGATTAAATGCCAGACCAAATATTAGCCCTCTCTCCAGCCACCTCACCCAGGCCCCCTGCAAGAATCGAAAGCAATCAATAAGGCTTCCTTCCTCAATGGTGGGGCAAAGGACAACGGGTAGCCTGCAGAGAATGTGACAAAAAAGCTGACATCGCAGAGTTCTACCATGCCCCATCCAGGCTGGCGTGTGCCTGCTCCCACCCCAGGGAGCTGGCACCCGCAGAATACCACCTGCTCCCAAAGGCTTCTTGCTGGGGTCAGTTCTGCGGGAGAGTCTGTATTTGCCAGTCAGTACGTTTGGAGTGATCTAGCTGCCACTAACCAGCCTTTGCCCCCCGGGATCCCTGTTGTGAAACAGGAATGAAAAGCTGCTTTGTAGCAATCAAAAGCTCATTAAACAGTAGCTACCAAAGGAAGTTTTGAAATCTCTATCCTGGAGGAAAGGACAGGACTGACCCCTCCTTTCATCAGGATGGGCTCAGGGTGCACGGCTCTGTCTGGAGATGCAAGAGGAAGTATGGGACCAACGCACAATAACGACTAACAGTTGCATGGTACTATTATTTAAAAGCGCTGCCTCTCCTACCACCTCCTCCTCCCCATAGTGCTACAAGGAAACAGTCATCACCCCATTTTACAGGCAAGGAAACTGAGGCTCAGAGGTTCCATGCCTTTTCTAAGGCCATAGAGTTAGCAAGGGTGGAAACAGAACTTGACACCCCTCTCCACGTAATTTCCACCTGAACCTCCAGAGAGGGCATCTGGCACAGAGTAGAGACCCTTAGGGGTTGTCTGTGACAGCGATGGTTTATAAGAACAGGATGAGATGGCTGCTGGGGACACGAAAGCGGCAAAAGGAAGGTGCTTCCTCCTCAACTCCGCTCCGGTTCCGTGATCTGTCAACTAAATAAGCCCACTTAGAAAGGCTGTCGCTGTGACCCATTACCTGGCACGCCACCCCAATCCCTTCTCAACAGAGGGGCTTTCTGCCCCCCTCCGGTGAGATTTCGCAACTCTAGAGCTGGCATGCAGAGCCCGTGTCAGGGTAGGACACCAAGTCTTACACTCAGAGCAAGAAATGGAAAAGAATTCACTGGCAGCAAAGTCAGGAGTATGGAAAATCAAATGAGCCCTGGCCAGGAAGCCTCTAAGTCAAGAGGCTTCAAGTTCAGAACCCCACAGGGCTCTACGGAGCCGAGACCTTGTGCCAGGAACAGGTACAAGCATGACAACCTAAAAGGTAATGGTCAGGCTTTCAATATCCTAACGTCTCTGGACGTGCAGAATCATGTCATTTAAATGATGCCACCACAGCCACTCCTTATCACACACAGAAACAAAAATTCCATCCAGAAGCCACAGTGTGATGGAAGCCGAGACTGAGATGCAGCCTTCCATCACGAGCAAGTGAGCAGGAATGACTGAATCTTGACAGCTTCAGTAATGAATTAACAGGTTAATTAATTAACTAGGCCACCGCTTCTTCATTTACTTAACCACTACTTTGTTCCCAACCCAGGAGACAGTCCAAACTTCACACTCCAGCTGTGGTTTGAGGGACTCCGCCGTGCCTCCGTCCCCTGGCCCCAGCTCAGCTATCACACTGGAGCCTTTGTCTTCCTGGGACAGAGGCTGCCCCAAGCAGTCAACAATTTCAGCCATTCCTCCTTCTTCCACTGGGGATGGGCTGCCAAAAGCTCCCAAAACTCCCTTCCAGGTGTCAACTCCACATTCGAGCTTATCAGTCAGTGCTTGGAATAAAAGACGCTTCATTCTTGAACACACACCTGAGGGGGGACTTCGCTCTGGTACGGATTCCTGTGCGCTTTCAGGCTGTGTCCTATCATGTCTGGGGCTGAGTTACAACAGATTTATGTCAAGGGCTAGTTGACAGTGCCATGCTGATCTGCCGCCATCAAGTCAGGGCTGGTAGTGATGCCTGACCCATCCAGAAGTGACATGCGGCCTCTGATGGGCCCCCAAACAACAACTGCCTGCTGCTTACAGCTTTCATTTGAAGGGATGCGGACAGGCAGGGGGAACAAATTTCTGGAAAGTTAAACTGATAAAAGACCGGGCACGGTGGCTCATGCCTGTAATCTTGGCACTTTGGGAGGCCGAGGCGGGCGGATCACTCCAGGCCAGGTGTTCGAGACCAGCCTGGCCAACATGGTGAAACCCCATCTCTACTAAAAACTACAAAAACTAGCTGGGCATGGTGGCACATGCCTATAATCCCAACTATTCAGGAGACAGAGGCAGGAGAATCACTTGAACCTGGGAGGCAGAGGTTTCAATGAGCCAAGATCATGCCACTGTACTCCAGCCTGGGCAACAAAGCAAGACTCTGTCTCAAAAAACACAAGGAGTGGAGAGAAGACATATCTGGCCTTGACAAAACCAGAGGCACCATTTCCACTTCCACTGTACTTTGCCCCCAAAATATCAAATGCCAGGCAAAAAGCTTGACATACCTGAGGGTCTCTGGAAATGCAGAACTGGAATGCCCAAAAGAAGCAATAATTCACGATTCAAAGCCAAATCGTCTACATGAGTGAGGAAGAGCAACTAGTCTTTTAAGGTCCCATCTTTCTCCCGCACATTCTGTCTTCTGCAGCAAAGAACTGAAAGCAGGGTGGGGTGACAGCAGCACCTCCTTAGAGTCGGGCTGTGGCAGTCACTACTGAAACACACCACAGTGAACATCAAATGAAGAAGTCCGCTTGGAGAGCAAGGAGCATTCATACAGATAGGCGTGGAGAACACCCAGATGGAGGCCCCAGCTCCAGAATGCCTGCTCCAAGCCCTTACTTAGCAAATCACTTACCCCAGCTGAACCTGAACTTCCTCCACTGCAAAGTGGGGGAGGGGAGGGGTGGGCGTAAAGAAGCCAACTCCATGAACTTCAAGTCCTCAAACTCCACACCCCTCTCCTGCAAGTCCAACAGCCAAATCAGTCTCAGGATGGCCTTGATGACAGCATTAATCAAAGGTGGAAACCTCAGCAGGAAATGTCAATGTCAGCCTCTGGCCACGTCTGTAGGTCCCAAAATGGCTTTTTTTTTTTTTTTTTTTTTTTTTGAGACGGAGTCTCACTTTGTCGCCCAGGCTGGAGTGCAATGGCACAATCTCAGCTCACTGCAACCTCTGCCTCCTGCGTTCAAGCGATTCTCCTGCCTCAGCCTCCTGAGTAGCTGGGATTACAGGTACCTGCCACCACCCCTGGGTAATTTTTGTATTTTTGGTAGAGACGGGGTTTCACCATGTTGGTCAGGCTGGTCTTGAACTCCTGACCTCATGATCTGCCTGCCTCGGCCTCCCAAACTGCTGGGATTACAGGTGTGAGCCACCGCGCCCGGCTTTCTTTTTTCTTTTTTGAGATGGAGTTTCACTCTTGCTGCCCAGGCTGGAGTGCAATGGCATGATCTTGGCTCACTACCACCTCCACCTCCCAGGTTAAAGCAATTCTCCTACCTCAGCTTCCCGAGTAGCTGGGATTGCAGGCGCCCACCACCACACCCGGCTAATTTTTGTATTTTTAGTAGAAACGAGGTTTCACCATGTTGACCAGGCTGGTCTCTAACTGCTGACCTTAGGTGATCTGCCCGCCTCGGCCTCCCCAAGTGCTAGGTTACAGGTGTGAGCCACCATGCCCAGCCCCAAAATGGCATTCTGTTTGTTTAATAAGACTTCTGATTGAGACTAATAAAAGCTATTAAAGATCCATTCTAACCCTCAAAAGAATCCTGGTTTGGAAGGGAGGAAACCAGCATTTGTTGCTGGCCACCTACCTGCCAGCCTGATGTTTTCATCTGCTAACCCAACTGATGCCTCGTAACTAATGTAGTGAGCTGAAGGGTGACCTTTGAGAAGGTACGTCCACGTCCTAAGCCTTGGAAACTAGGAATGTGACCTTATTTGAAGAAAAAGGTCTTTGCAAAAGTACTTAAGTTAAAAATATCAAGGTTAGCTCATCCTGGATTTACGGTGGGCCCTAAATCCAGTGACAGGTGTCCTCACAAGAGGAAGACAGAAGGAGATTTTGAGACACACAGTGAGAACATGACTACATGAAGATGGAGGCAGAGATTGGAGCGGTGCCTCTACAAGCCAAGGACAGCTACCAGAAGCTGGGAGAGGGGCGTGGAACTTGCCAACACCTTAATTTTGAATTTTTAGGCTCCAGAACTGTAAGAGAATAGATTTCTTTTGTTTTAAGCCAATTAGTTTATAGTAATTTGTTAGGGGTACCCTAGGAAACCTAATACAACCATCATAGGAATGAGGTAAGTATCATCATTCCGATTTTACTGATGATAAAACAGAGCCTCAGAAAAGCTAAATAATTTGTCCCAATTCACTAGGGGCCCCAGGTATGGCCACGGACAAACCTGCTGTTCATTCCACGGCATAAGCCGCTTTTTTTGTTCTAACATTCATGAGTTCCAGTTCCTTCATTTTTGGACACAAGGAAAGTGCAATGAGTCATCCCAGCATTGTAGCTTCACAGTGACAGGACCTCAGTCAGAATCCAGGGCTCTGGTACCACTCAATGATGAACGATGGTGAAGGCTCGCCACCTCCCGGAGCCACAGCTACTTTAGGGGAGCCCATTTTATTATCGCCACAATTACCAAAACGTGGAGCATCACACTAATTTTCCCTTGCAGTAAATAGCTGAAAAGTAATGGTGTCAATTTTAATGAGGATCAAGCCAGGCTCCTAAAAGGGCTCCCATAAATGAAAGCATTTCCCTTACACACAACAATGGCTTGCCGTTTAATTCTAGAACACAAGAATGTCACTTAAATTACACGGCTTTTACATTAAAGTGCTTATGGGAATGCCTTTCCAAGGAAGAATTTCAATAAAAAGATCTCACCCATCTTGATGCTTCATAATATCTGAACCACAATCTATGTATCATAGAAACAAAAATAAAACCCCAAAGAATGTGGGCAAGAATGGGACTTCGCTTTCACTGGGAAAGGGTTTCTGATTTTCTGTGAAACAGAGAGGTGGCTGAAAAGCTGTTATCACACAGCAGTGTATCACATTTGGGCCTGTGGGCTACCAGAAATTCACTGCTTAAGCTTGAATCCTTTTTGTTTCCACTTGCTGAGATGTTCAGAATGACTGCCAACCCTGTACGTCTATATGAGCCTCTTTAGCTGACTCAATTCTTATTTTATTAGTGCTTCGCAAAGCAATTACTAGGGTTTTGAGCAGAGATGAGAGTATTTCACACTTCCATCTTTACTGAAAATGCCTTTTACTCCACTGACTTTTGGCTTCTATTTATAAAGAAGGTTCAAGGCTTGGAAAATTATTGGAGTTGAGCTTTAATGGATATTCCCAACCAGCATTGTGTCATTATTGGCCCGTGTTTAGCTGGGCGATCTCCCAAATTTGTGACATAATCAGGCCTCTCTCTGCATTACTCCATACACTCCACGCTCTCTCTACATTACACCACTGAATCATACGCTCTTTTCAACAAGACTGATTGCCAGGGGATTAACATTAGACAGCACAATTCCATTATTCAGCAGCCCAATTCAAATCCCAACCCTAAACTCTAAGAGAGATTTCAGGGCTTCACAGGGATGAGCCGCCAGAAAGCTCAAAGGGGAGGTGGGGTGAGGGGCTTTTGAATGTTTTACATAACAACTCAACCTAAAACTTGCTTTAAGCAAGAGCCCAGACCGGAGTGGCCGCCATCTGACTCCACGATGCCTAGAATGGCCCCAGCCCAGCCTAATGAATGATGTGTAGACCTATGCAAAGCTATAATCCCAAAAGACTGCTATAGCTCAATTATTTTTTCCCACAATAAATTACTTAATTTCAAAATTAGGTATTTAGAACATTTAGCCCAAAATCTCTCTTTCCCTAAATAGAAATAGTTTTACGTCACATTCGGTACACACAGGAACCCAGGTAAAGGCCAAGTCATATGCTCTTTGATCAATGGATTTACAGTGTATCAATGCCAACACAAATGTTAATCATTTTCTTCTCAAATTTGAGTGTTACTTCTCTTTTTGTTTGTTTTGTAAAATATCTGAACATGGTAATTCTCACTAAGAAACATGCCACATGTTTTCTCTATGGGGAAAGAGCTCTAAAACTCACTCTTTTATGAATATCTATAGGATCAACATTATTCAAGGACCTATCAAATTTCACATGAAGGCTTCTGAAGAACAAAACTCAAATCTTCGAATAAACACTATTTTCCCTGAATGCTTATATGCAAATGGAAGTAATGGTTATATCATGCTTTCTAAGGCAGAGTGTCTCGTAGATCCAATTCCATTTAACTTGACAGAAAATCAAAATAGTTTTGTTTACTTTTCAGTTAACCTAAAATTTTAATTAACCAAATCTTTGCAATTTGGTTAATCAAGCTTTTGGATTATTTTTTTAGTGGCTTTTTGGGCAATTCCAATATGTAACGGGGTCTCCCTCTTCAAAGATGTTTTATTGAAGGAGACCCACACATGAGATGATACTAGGCACACACGCACAGGCTATGATGTAGGAGACACTTCGTTTACAGAGGCACAGTGGGTGGTGTGGGCTTGTGGAATTACCAACAGTCACATTACGGCAAAACGTGAGTGTGAACTGAGTTGAGTCTACAGCAGAAGATAGCAACCTGTATTTAGGGGAGGACAAACCAAAAGAAGGCTCAAGGTGGCAGGTTGAAAGTCAAGGCACATGACAGGAAAGAGAAAAGATGGCCCCTACATGGAAGGGATCTTAACCTGCCATCCTGCAACAATGAAGTATGTCTTGGGTAGAGTTCCATATGTTAGCAATCCTCCAAGACACAGAAACCTCCTTTCTTCATTAGTTACAACAAAGCCCCATCATCACAGGCAAAACCTGGGAAGAAACTTGAATTTCCAAGACAACAGGCGAGGTGGTCTTCAATGTTTAATTAAAATGGCCTACTTATCTGTGCACTCTGACAAAAATGTATTTATAAGCTCATATACATGGTTCCCTTTGCACAGAGGAAATAGATGCCAGGAACAGACACTGAATTGGTACCGTCTAATGACTTTCTTGTGATGGAAGTGAAGGGCCCTCAACATTCACCTTTTTCCAGCCAGCCACAGGCTCAGTCCTCAGACCTTTTCCTTTACTCTTCAGCTGGCCTTCTACAGTTGCCCTGTTGGGGAAATGATGCTTCTCTTTTAAAACCAAAGGTCTGCTACAGCACATCTGTACCCTTTTCACCTGCCCAATTAACATTTTCAGAGTAATCTCAGCTTCCAAAATGTCAGACATTTCATACCACGTCCACTTTACACAGATGACGCTTGGGAACCATGAGGATCATGCAAAGCTCATAAACCCTGGCTGCCTGGAAAACAGAATATTGTCAGATGACAGAAGCAGCCTTGTAAAATGATAGTAGAAAGAATAAGAATGAACCAATTCTCCTGAAACTTATGGGAGAAACAGGACTTAACGTTCATGCTTTCAAACGAGTCAAGCAAGAATGGGCTGGTATGCAGCCGCCACACGAGGAGAGGCAAACTCACCCACAACATCCAGGTGGTACGTGTGATTGATGGACCCGTATTCATTCTCCACTACACAGGTATAATTTCCCTTGTCAGATGGGACCACACTTTCCATAATGAGGCTCCAGTGCTGGTTTCGTACCTGAAAAGATCAAAGCAAAGGCGGTTATTTAACAATCCTAGCACAGAATACCAAGTACTGTGCTTTCTTGATTTAAAAAGAAGCTGAAGGAGGCAAGAAAGGTATGGAAGAATCACCTAAATTCTAAATTGATAACTGTCATTAAGAATCGTGAGAAATGAAAACCATCATCATCATCATGGTGAACACCTGTGAAGCAAATATTGACATATTCAGATCTGCAGGAGTATTCGGCAGTGTACAGCGTGGGTCTGTTACCATAATGGATTTGAGGGCTCCTCTAGGAGAGGCCAACTGGCCAGGGAGCCTGAACACCAGCCAGCCTGGTACCAATGGCCACGGGCAGGCGAGCTACCAGTTTGCCCATCCACTAGGAAGCCTCAGCCTCTATGGCATCACAGAACCATGTAGAACTAACATTTATAGTGAGCATTTACTATATGCCAGGCACTGCTCCAAGCCCTCTGTGCTGCCGTAGCTAATTCATTTCTCCTAAGGGGCTCATAGTTCTCAGATGTTGTCTGGATGTCTCAAGAAGTTTCAGCTGGGAACATCAGTCTGCCCTTCCCATCTCTGGTTGTGGCTGAATAGATATACATGTTCCTCAGAGAAATACCCAGAATTCCAAATATGGCGGCAATGAATCCTTACAAAACTCAAGTTGTATATCCGTCCGTTCACAAACTTCTTGAGACTTTTCAAAGATAAGCAGCACATGTGAAAATCAGCTGTTGTGACTCCTACCCAAGGTACCATCAATACACAAAGAGACGCCATTCTTATGTTCTCCCCCTGCTTTTCAAATATTTCCATAGACTCAAATTTTCAAACTTGCGAGAGTTTTCCTTACCACAAAATGCAACATCTTGTATCTTCAGGGTTTGAGGCTTTAGTATTTCTATCTGAATCCAAGTCATTCTCTACAGGTGTTTTGGACAAGGCACTCCAGTGAAACGAAATGAAAAAATAAACAGTCAAGGCCTACTAACCTTAGCTATCATTTCAGGAATTTCAACTGACCTTCTGAGCCATGCCCTGGGCATTGCAAGTGTTTTTGGGTTAATCACGTAAAAAACAAATACAGGCAGAGCATCTGCAAGCACATGAGTGATATAAGAAACTAGAGAATAAAGAAAATCATCTCGTAACCACTCCACTATAAAAACAGGAGGGCAGAGCAGCTGTCCACTTTGCAAAGCAGCGCCAGTGATTAGCCTGCCAACAGAGTTAAGAGATGCGAAGAGCACACTGGAGTGCCACGGTTTTCATGTCAGCCACTCAGTTCTATGCAAGCCATGACTGCAGGGTGGAGGTACTGCTGCTGAGTTCTAAAACGAGGTCGCTGCTCATCACTGACAGTCTTAGAAAGGATCACTGGATGAAGGTTGGCCTCCTTCCTCCTTAACAGAGTACAAGCAGTGAGTTAAGATAGTTCTGGTCAGCCACTTTGCTGGGCTGCTGCAGTCATCGACAACTACGAAGGTAGTTTCAGAGTCTAACAGCCTGGAGCTGGTGATGGGAAACTGATCCTCACTGTCGCAGGTAAAATGTCTGGCAGAAAAATGAATCTACGGGCATCTGATCGACAGTGGAGAGTCTTTACTGTATGACAAAGACTCGCTTTCTGCTCTTGGTTGAGCCGTAGACTTGTAACAGGACCCAGACAACATGCTAGCGCGTCTCCCCTTAAGAGAGATAAGCACCTTCCATGCAGAATGTGTCTTCTGAAGGAGGAGGAGATATGGATGCTAAATCTTCCAGCGCAATGAGAATTCCCTACCTAAATCCTGGATCCCTGGGTGCTACAACGGCATCGTTATGCTAAGAGCATGGGACACATAGGTATAAGCTCCTTGATTTTACTTGAGGTCCACAGACCCAAAAGGAGACCCTCCCTTCACCTCAAGCTCTCAAGGGTAACAGAAATGATTCTCTCTTTGCCTACGGGGAACCAGTCATGTGGCAGGTAACTTAGGGATGTAGCCACGGGTCCCCACGTCACCAAGCCATGTAATCCAGCATTTATCCCTGCTGTAAATATTCAGTTCTTTGAGCCCCCGCTCAAATGTCATGCCCATAAGCCCTTAATCACGGCTAGTGCCTGTCTCTGGACCCCATTCAAACTGTCAATGTCTTTCTTGTGCCTGGATCCAGATTTGGCACATGGAGTATTCCAAATGGAGCTGAACCTGAACTGCACAGGGAGGGGACATCGCCTGACTCGGCTGACACATTAAATCTTGGCATATGCAGCTTGGCTCACTGCTCCCTTTTTTTAACCCCAGGGGATATGGTCAGCTCAAGTCTCTCACTGGGGCCATGGCATTCCATACAAGATCCCTCTTCAAGAGCACGTGCTCTCTGAATATTTACTTCCTGGAGATGCACTACAAATATTAATAAGTTAACGTTTATAAAAATGTTTTTACAATGAGAAGCACAATTACCAAACAGGGTGTTTCTGTCCATCCAGAAATCTTGGTACTAGATCAATATTGCCCCATGCAGTGCTGTTAATATTTATTTTCTTACACCATTGCTCCAGTATTTGATTTATTGACCCAAATTTTATGAGCTGTAGCATTTTCCAAATGGATGCTCTTAAATCCACCAACAGTGGGACTGCTGGACACTTTTGTAGGGGATATCCTACCATTGATTAGTGGTTGCTTAATAGCAAGCTAAGAAACTACAATAGTTAACTTTATAAAGATGGCAAACAAAAGCACAAAGTTTGGGGGTTTTTTTTCATTACTCTATTTCCATATGGAGATTCAGAATAAACCTAAAGAAACCACTCTTCCGACGTAATATATACAACGCGTGTTTCTAAATTCCTCAGATTTTCAGTGCTACAATTCTTTTGCCAGTTAGGCCAAATGCACATACACCGTCTTTGCTTTCAGAGAAGAGGGAATGTAAATACCCAATAAACATATGAAAAGATGCTTAACCTCATTAACGATCCGGGAAATGCAAATTAAAACAATAATGAGACACTGTTATTCACCAGCTGATTAACAAAAATTAGAAGGATCAATGTTATTCAGTACTTGGTGAATGTGTAGGGAAATAAAAGATTCCAATTGAGAATGGGAACATAAATTGAGAAAAACCTTTGTGTAAAATAACTTGCTGGTACCTATTAAAATTAGCAGCACACATTTTTTTTGATCTAGTTAATTCTACTTCTAGAAAGCTAGCCCACAGAAAATAGCACAATTACTTCAAGGCACATGAACAAAACTGCTGCTTCAAGCACTGCTTGTAAGAGCAAAAAACTGTCAAGGAGAGAGACATTAAGAATGCATAGTTCATCCTGTATGAACTGATGGAAAGTTCATTCAAACAGCGTAGTCTATAGTCATAAAAAGAATGAAGTATTATGTTCAGACCTGGTAAGGTATCATTAAACAGTTATTGATAAATGAAAAACAGTTAATTCATGATTCCAATTTATTTAAAAAAAAGAAAAAAGCAGACACATTTACCACCCTAAAGATGCATATAAAACTGAAAGTATAAGCCTGACTATAAACACAGCTAAAATCAGAAAGAAAATATACCAAATTGTTAGCAATGTACTTTATATAATTAAGCAGTGGGATTATGGGTATTGCCTACTTTTTTCTTATTTCTACCTTTCAAACAAACAGAAATCTCAACACACACAACAAAAAAGTATAATAAAACAGATCCTTAGATAATCATTCAATAGTAGCTACCCCCTGCAGAACCAATGGATCTGGCAAAACAAACACAAAAGCCAGTGAGAGAAGAAATTCTGCACCAACCAACACAAGCACGACTCTTTTTCTTTCCTGCTCATGGCCAAATCTTTGTGGAATTCATCATTATTTTTCATCTGCCAAGTAACAGAACAGGAGAGCATGGACTTCAAAACTATGTTCACTAAAGACTTTTTTAAAATAACATTTCAATATTGAAACAAAGCAGACTGAAGCAAAATGGCCTAAACTCCCAAGTATAATACAAGAAGCGGATTCCATGAACATTCCACACCCTATCCACACAAAGACACAAGGTGGCCCAGACAGGTTTTTCGGAATTCTTCTGTTACCTTCATTCCCCCAAAATGCCTATTAAATCCCAGGCTACCCTCAGGTGACAACTGGGAATGTAGATTTAGTTTGTTGACACCAAAACACCGCAGTGAAAGGTGAAGGGTGAAAGGTTAAAGACCCAGGCTGTCACCTGGATATTTACCTTCCACATTGCAAAAAAATCCAGACATTTCCAAATACTCAGGTGTTCGATAACAAGCAGAATAAACATGCAGAAGGTGATACAAAGTTTTATTCTGTGCCAGGTAGAACGCTGTGTCCATGTGATATCAGAAAGATATTCCCAAGCCTTTCTCCCGCCAGTATCAGCACCCAATTTTCCCAGGAAGACAGCAATCTCTTGTAATCCTGGCCTTCACAGAGGCACCCACCCCATGAACAGATCAGTTCATTCAACAGGTGAGTTGCCATTAAAATGCAAAAAATCTGCCAGGTGCAGTGGCTCACGCCTGTAATCCCAGCACTTTGGGAGGCCGAGGCGGGCAGATCATTTGAGGACAGGAGTTCGAGGCCAGCCTGGCCAACATGGTGAAACTCTGTCTCTACTAAAAATATAAAAATTAGTCAGGCATGGTAGCAGGTGCCTGTAATCCCAGCTACTCAGGAGGCTGAGGCAAGAGAATCGCTTGAACCCGGGAGACAGAGACTGCAGTGAGCTGAGATCATGCCACTGTACTCCAGCCTGGGTGACAGAGTGAGACTCTGTCTCAAAACAAAACAAAAAACAAAAAATGCATAAAATCTTATTCTCCCATCCCAGTCCCCCACTTTCAGCAGGTGCCTGGGGGACTTGAAGCCATCCTTTCTGAAAGCATTTGTGCCAACTAACCTTGCATGTCAAGGACAGAGGTACCTGCTGTTGCTCACCACCATGCAGATGTGGAGGCAAACACCTGTTAATGCTTAAACTCCAACATTGATACAAGAAGTTTGCTTTTCAGGAGGTGTCCAGAGAACAGGGCCGGGCAATCTGATCCTCGGGACCAGTGGCAGAAACTCTTCCCTCTGCTCGGTAAACAACCACTGGATCTCTCCAGAGGAGGTGGGAAGTGAATTACAACAAGCCATGTTTTCTTAGAGGCCCGTTGCTTGTCGGTGCTCACAAAGGTGGCTGCGGCAGGACATCCACCGCCTGTTGAACTTAGCTCTTTAAAAATGTCACGATCTTCCCCATTTTTGCTTTTGCAAAACAGACAAATGCCATATGGTCCTGCAATTCCACTCCTAGGTATATACCAGAGAAACTTATAGCAAGGACTGGGACAGATACTTGTACACCAATTGCTACAATGGCTATTCACAATAGCCAAAAGGTAGAAGCAACCCAAGTGATCATCATCAGATGAATGGATAAACAAAATGTGGGGCCGGGCACAGTGGCTCATGCCTGTAATCCCAGCACTTTGGGAGGCTGAGGTGGGTGGATGGCAAGTTCAGGAGATCGAGACCAGCCTGACCAACATGGTGAAACCCTGTCTCTACTAAAAATACAAAAATTAGCCGGGCATGGTGGTGAGCACCTGTAATCCCATACTCAGGAGGCTGAGGCAGGAAAATCGCTCGAACCTGGGAGGCGGAGGTTGCAGTGAGCCAAGGTTGCACCACTGCACTCCAGCCTGGGCAACAGAGTGAAACTCCGTCTTAAAAAAAAAAAAAAAAAAAAGTGGTATATCCATACAATGGAATATAATTCAGCCATAAAAAGGAATAAAGTTTTGATTCATGCTACAATATGGATGGACTTTTGTTAAGTGAAATAAGCCAGACACAAAAGGAAAAATATCCTGATTTCACTTATATAAGGTACACAGAATAGGCAAATTCATAGACACAAAAAGTAGGTTAGAGGTTACCAGGTGCAGTGGGGGAGGGGAAATGAGTACTTACTACTTAATGGGTACAAAGTTTCTGTTTGGAGAGATGAAAAAGTTTTGAAAATAGTGGTGATGGTTGCACAACACCATGAATGTAATTAATGCCTACTAAACTTGATAATGACTTAAATGGTAGATTTTATGTTATGCATATATTACCACAATAAATGTAAAAACCTCATAACCAGCTGGGCACAGTGTCTCAAGCCTGTAATTCCAATACTTTGGGAGGTTGAGGTGGGAGGATCACTTGAGCTTACGTGTTCGAAGCCAGTCTGGGCAACCAAGTGAGACCCCGTCTCTACAAAAAATTTAAAAATTAGCCAAATGTGGTGCCATGCACCTGTGGTCCTAGCTACACAGGAGGCTGAGGCAGGAGGATCACTTGAACCCAGGAGGTCAAGACTGCACTGAGCCATGTTCGTACCACTGCACTCCAGCCTGCGCAATATAGAGGGACTCTGTCTCAAAAACAAACAAATAAATAACCCACAGAGGTCTTGGAAGTTGAAAGAACAGCATCATATCCCCAACTTTGCTCTCAACTGTATACCATGGGCTAGATCTTTGCATGCTTTTGGGGAGCCATTACTTTCATTATGTTTCTCATTCAACAGCAACAGTGTTTTTACAAAACACGGAACTACATTTGAAGCAAGCAGTTTAGCAAGAGCATAAATTCTGGTGCAAAACCACGTAGGTCCAAATGGCAGCTGTGCCACCTATGAGGTAGGGGTAGGGCAAGCCCTCAAATGTAAAAGGGCAAAATAACAGTGTCTGCCTCTTTGGGCTGTGGAAGGACTGAGCAACTTGCTCCATGGGAGGCACCTGGTAAGTCACGACGCAGGGGAGCAGTCCATAAACGTTGGCTAATACAAACATATACCTGTGTCCTCATCAAAGACTGCTTGATGTGGGATTAAAGCTGAAATGTCTTCACTGAAAAAAAATCTCCATAAAGTATAAACATGCTGATAAGTACATTAGTCATGATTTCTCCCCCTAAACATACTTGTGGATTAAGCATAACATTTCATCAAAAAGTCTTTAAAATGACATCTAAGTAACTAACCTAGAAAATGTAAATCTAATTAACCTATGCTTCAAAACAACCAGTTTAGTAGTGATTATAACAAAAGTTTTAAAAATCATCTTTTCTTAGATCTGAAATATACTTGGTTCATGCTCAATAATGCTTTACTCTCTGCTGAGGGGCTCCAGGGGAACCTGAACCCCTGTAATACCCAACGCTGAGGGCTTCTGTGCCAATTTCACAGTCACGTTGAATGAGCCCTCTGTCCTGCGATCTCTCTTGGTCTATGCAGGCACTTCGAAGTGGCATAAAAGATGGTTTTTAAGAACCCCCTATGCCTAAATAATTACCTACGAAGGAGGTGAGAATTGAGGTGGTCTATTAATTATCTCAGCCAGCTTCTTGCTTTTCTGCATTAAATTGCAATAACTGTCCTGAGCCCTGTGAAATATCTAGCCATGAAGGTAACCTCTTTATTAAAAAAAAAAAAAAAAAATCTGTGCTGTTGTTTAAGAAGAGAAATGGCTGATGCTACACGATGGTGATACTATTAAATTATGGTTCTCAGAGCCTGAAGGGATCAGGATTATTCAGCCAATCTTCCCATTTTAAGGCAAGGGATTCTGGGGCACAGAGAGCTGAAAAAACTTGCCCATGGTCAAGACTGACGCAAAAGCCCAGGAATAAGTATGATTAGGGAGATAGAGTTATGATTCAAGTCCTTTACTATTATATCAATCACATATTAATAACATCCAGCAAGACTTTGCTCATGCACTTTAAAAATAATAATTTGATTCTTAATCACCTAAGGATGGCTCAGCATGGGTTCTTTGATAAACAAGACTGAACTGCCGAATTCCAAATAGTTCTATTGGTCATTTGAATGAAAATGAGCTTTCTGTCACATTTCATAATTCTCTTTGACTTTGTTTTGCTTTTTTTGTCTTCCCTCCTCCCTTTATAGGCCGCACATGCATGCCATTTCAAAACAAGCTGTAATGCAGGGGATGGCTGCCGAGGTGCCCAATCCATAAACGGGTAGAAAGAATGAGATGGACAGGCCACCAAAGCACAATCATAGTTTATGGAATGAACAGAATTATAAAGGAAAAAGAAAAATTGCAGAAATAACACACATTTGTTTGAAGAAGTTTTTCAGGTATTTGCTTTCTGGAAAAATGTATCTTGGAAAACTTGACATTTTGCTTCTTCATTAAATAAACTGGCAAATGGGACGGGTGCAGTAGCTCATGCCTGTAATCCCAGCACTCGCAGAGGCCAAGGAGGGTGGACCACTTGAGGTCAGGAGTTCGAGACCAGCATGACCAACATGGTGAAACCCCATCTCCACTAAAAATACAAAGTTAGCTGGGTGTGGTGGCGGGCACCTGTAATCCCAGCTACTTGTGAGGCTGAGACAGGAAAATCGCTTGAACCCGGGAGGCAGAGGTTACAGTGTGCTGAGATCATGCCATTGCACTCCAGCCTGGGCAACAAGAGCAAAACTCAGTCTCAAAAAATAAAAATAAAATAAAGCAAAGTGGCAAATGGACAGGAGTCAGGAATGAATCAGTTAGATGTCAGGCCCTCTGAGTTTCAATTAGGTCTCTTTGCTTTTGAGGAAGTGCCGAGGAATGAAAATAACAATATAGTTCCCTGAAGTCAAATGTGCAAAGGTACCTTTTTTTTCTTTTTTTTTTTTTTGACAGAGTCTTCCTCTATCATCCAGGCTGGACTGCAGAGGCATAATCACAGCTCCCTGCAGCCCCAAACTCCTGGGCTCAAGCGATCCTCCCACCTCAGCTGCTTGAGTAGCTGGGACTACAGGTGAGCACTACTACGCCCAGCTAATGGTTTAAATTTTTTGCAGAAATGGGGGTCTCACTATGTTGCCTAAGTTGGTCTTGTGCTCCTGGCCTCATATGATCCTCCTGCCTCAGCCTCCCAAAGCAGTGGGATTACAGTGCCACTGTGCCCAACCCAGAGGCACATTTCTTTAAGTCTACGTAGGTAACGAAGAAAATATCAGAGAGAAAACCCAACACCAGGGACCATTCTCCCCAAAGTCTGCCTTGGTCAGGCCCCAACAAGGACTCTCTGAGGCAAACGCAGGCCATAGCCAGCCAAGGAGCTCCCCATGGGGGAGGCCCACAGGTGGGAATGAGCCTCTTTGAGCTCCAGTGACTCCAGGACCTGGGGTTGGCTTAACACATCATTAGCGAAGATGATGCCTTAGGTAACTGAAGGAACCTTCCCAGGAGATGAGAAATGTGTCTTTCCTTTTCAAGTCCCGGAAGCCCTTGGGACTCAGTGGAATTTCTAAGAGTTTCTGGCATCTCCAAAATGAACGTTCAATGCCACTGCTGTTGTGAAAAGCCCTTGATCAACCTAGGCTGACCACCTCTGCAACTAGCGGGCCAACCTCCCAGGCCGCCCCACCCTACAGCCATAGCCTTTCTCCACCAGAGAACCAGAAAGGAGAGGACCACGCCAGCACACTGCATCCAAATGTGTGGCCCTCTGCCGCTTTTGGCCTTTTTTTTTTTTTTTTTTTTTTTTTTTTTTTTTTGGTAAAGCAAAATATATTTTAGGTTTTTGTCCCACACACTGAAATTCCATTTCCTTTTCCCTCCAGAAACGGCTCAGCGTGATACAACAAAATCACTTTGGTCATCTGCACTCCACAGGGGCAGGCTAAAGGCTTTCTGCTGGGAGTCCTCATTTTGCTTTTAGAACATAGGTGCTCTTCATCTAGCGAAATGTTGGAATCAATAATTAACACTGAACTGCACCTGTTAAAAATCAGGCAGCATTTTCTCATTAGGCCCTCTTAGTCTCTTAGCATATTTGTAATCACTAATTCAGATTTGCAAAAAGCTCCTTCCCCATAATAATGATGTCGGTTCCATTTATTTTGAGCCCAGGGGTCTCTGGAGCCTCATCAGCTCCTCTTTGTACTTATTTACAAGGCTGTCTTAATTGACAAAATTAGTTAACCACCAGGATTTTGACCACCATTCTCACACTCAGATTGTATTTAAATAAATCATTGGAACTGCATCAATTATGTGAGTTTCAGAAAGCATTTGGTGGTTAAAAACAATCCCAGGGGCCGTGATTTTAGTGGCTTAACTCTTCCTTTCTAACCAGCATCCCCCCATGAAATCCTTAACTTTTTTTTTTCAAAAAGATTTCTTTTAAAAGGGCCAACCTTTGAATCTCATCGTATCTGGTCTAAGGACTGAACTAAGAACAGAAGGACAAATCACCCCCTGCCTCCTGCTTCCACCACCAAGTAGGAGTTGTGGAAAACAACCAAAGTATTTCTACTTTCAAGCTTCAACAGTACCCACCTGCTAGCAGATCTGCCTCATAACTGTTTCACATGTTCACTGCCCACCATGCGTTCTTAGAAACTTACTCATAGGCTGTCCCCATTTTCCTCTGAATTTTGGCCTCTAGATGTTAATTTCTAAGTGTTAAAACAAAAAGGCAAAAACTTTTGCAGAAGAAAATAATCCTTTAAAGATGAATAACTGTCTAAGAAATTTCAGAAAAGGGTTGCAGGGCATTTTTAGGTGGAAAGGAGGCTCATTTACCTACAGCAATGATGGAGCTAAAGTGATGCTGGTGTGTTAAAGACACGTGAGACACAGTCCTGGACACCCCACTGCTGCTACTGAGGAATCCTCCCTACCTGGCTGTAAAGGACCTGAGGTCTGAGCTAAAGAGCGTCTTCTATTCCTCCCACCATGCAGTTTTCCCAGATGGGTTCCGGTGATCCCCTTGTCTCCTGGCATTCAGGTCCTTGGGCAACCTCCTCCCTAGTGTCTTGCTTAATAATGGAAAAAAGCAAAAGTGGTGGCTGTCCCTTCCAACACTAGGTTACAAAAGGCTCTGACTTCTGCGATCCTGCTCTCTCTCTCTCTGGCTCCTCCTTTGCTCAACCTGATGACAGCAGCTGCCCTATGAAGAGGCCCGTGTGGCATGGAACAGTGGGCAGCCCCCAGCCAACAGTCAGTGAGGAACTGAGGCCCTCTGCAAGGAAGTGAATCCTAACAGCAACCACATGAGCAGTTCCTTCCCCAATTAACCCTTCCAATGAGACCTCAGCCTCAACCCTTCCTTGCTTACAGTCCTGTGAGACAGCTGGAGATGGAAGACCCAGCTAAGCCACACCTTCATTCCTGATCCAGGCAACAATGAGGTAATAAATGTTGCTTAAAGCTACCATACCTTGGGGCAATTTATTATGCAGCAACAGGTAACTAATATGCCCACTTATGTTCCAAATGCATCAGAGAATTTCATCATAAGGTTTCCTTCAGTCCTTTTCATATGCTCAATTATTACAGTTCTCTCCTTCCATACTAAATAATTTGGAAATTCCATCTCTCTCTTTCTGAGACATCTTTCCTTCCAACTCAGACCTGAATCCTTTCCTGACCTCCTTTCTCCTTATTCTTCCAAACGCCAATCCAATATCACCTTTCCATGTACATCCATGGGATGCAACATGCTCCTGCAACTTCAACCAAACCTGTGTCCCTCCCATTGCCAGAGTTCTCCTCTGCCTCTCCTGCTGGACTGGACTAAGAGCCCCTTGGAGCTGGGGCCATGCCTCACCCTCTCATCTCCCCAGAGCCCAGGAGTGTGCCTGGCACACAGGGTGCTCAATCAATGTCTGCTAAGTGGATGAACAAAGGCTAGAGGAGCATGCGCGGGCATCTGCAGGGAGACAGCTGCCAATTTCAAACTCCCTAGGGAGTGATGAGACTAAAATTTCATGGCATTGTGTGACGTGCTCTCAAGAATCCTTCAAGGAGGACAGCAGATTGCCACTGTCATCTCCACGCACTCTCCCTTAATGCATCATATTTCATACTCCAGTCTCTAATCCAAGTCCCCTCACTATTCATGCAATCCTGCTCTGACAGGGAAACTATACTGACGCTTCTCAAACTCCACACCCGTTTTAGTTTTATACACTATAAAGCATATAGAAAACAGACTCTCAACTTTCGACCCTTCTGTTATTAAACTCTCCTCATATGAAGAACAACACAAACGGGAATTGTACTTTAAAATTACACGCAAGTCCGGGGTAATATTTTTTTTTAATATCAAACCCTGACATGGGCAATTGTGACAATTATTGATTCTTGTTAAAGTATTCCTTCTAATTCCTGCTAACTTTTGAGCACTTCAAAAAATAAACAAAAATGTAGGGCTGGGCATCGTGGCTCACACCTGTAATCCCAACACTTTGGGAGGCCGAGGCAGGCGGATCACGAGGTCAGGAGATCAAGACCATCCTGGACAACACGGTGAAACCCCGTCTCTGCTACAGATACAAAAAATTAGCGAGGCATGGTGGCACACACCTGTAGTCCCAGCTACTCGGGAGGCTGAGGCAGGAGAATCGCTTGAACCTGGGAGATGGAGGTTGCAGTGAACCGAGATCGCACCACGGCACTCCAGCCTGGGCGACAGAGCGAGACTCCATCGCAAAAAAAAAATGTAAATAAATAAATAAACAAAAATGTAAGAAATGTGATGTTCTGAAAGCTTAATTCTACCTTGTAGCCTCCAATGCGATGCTCCTGCTTAAACTCCTTCCCGTTTTTCAGCCACCGCATGGTTGGCATTGGGTTCCCCCCGGCTGGGCAGCGAAACTTGACAGTGTTGGCCGCAGGCACAGCATGGAGCCGCTTTTCCATCTTTTCTGTGTTGGTCCAGTATGGTGCTCCTGTTTTGGAAAACAGTATTAGAATGTATACTGATGGACAGCTTCCCCTCCATGAGTAAACTCCAAACAGGTAAGATCATTTCGCTTTGCATGTAAATGCTAGGCTATTTTTTAAATCTTTGGGTAATATTTACATTTGGAAAATATTTTCAGAAGTCTAATCCAGCTGGCTGAGCAGAAGGTCCCAGAGAGGGATGGTTCATGTCTACCAACAGGAAGAAAAAAAAAAAAGTGTTTGAGGCCCCTTCTCTCTCTTGTTCTTGATGCCAGAAAATAATTTCATGCCAAATCATGTTTTAAAATGCTATTTTATAAACATATGAACAACATATACAACTGCGACAGCTCAGTCCTCCAAAAATAGATCATTTTGGATTGCCACACCTATTAAATGATCACATATACACACTAGTAAAAGCAAGTTGTTCTCAAAAGCCCTATCAACTTATCCATTGGAGCCTTACTTTAAGGGCAATCAATAGTATAAATTGTCATTCTAATATAATAAAATAACCCAGAGAGTCATTCGTACATTTCTCAGAACTTATATACAAACAAACAAACAAAAAAAAAAACTGTATCACTAAATACATACTAACTTTTTTAATTAAAAAAAAAATTTCTTTCCAATGGTGGTTATGAATGCCATAACCCTACCACCCCACCTAATGATAACTTAAGAGGAGGCTACCAATTAAATGATATGTTAAAGTTATGCCCTCCAGATGTCCCCGAAAGTCATAAATACAAGTGATTTTTTAAAGTCAAGAAAAAAGTTTTAAATCACAAAGTAAAGTATATTTTTTCTAAATAAAAGCCACAACATCAAGCCAGAATACCACTGTAAATTCTTCATGTCTGCTAATAATGGCGAATGACTACTACCGACTGAAAGCTTCTACTTTGCCAAGCACTGCTCAAAGAGTTTTTACATGTCAACACATTAATCTTCACAATGCTTCAACAAGAAAGGCACTATCATAATCTTGGCTTCCAAGTGGGGAAACTGAGGCACAGAGCAGTTAAGTAACCTGCCAAAAGCCACAAAGCTTGGAAGAGGTGCAGCCAAGATTTGAACCACATCAGTCTGATGCCAGAGCCCACTATCTTCAACCCTACTCTCCACTGCTAAGAAGATGCAGCTTCTCCACGAGGTTGGAATCCGTACCTTCCACCAATCTGATGTTTAAGGCTGAAGTCCGGGAAAGCCAGCCTGGGTCAAGGCACACGTCCTCCTTTTTTCCTGTCCAGAACCTCTACTGTACAGCAATTTAACTATTCACATATATGTTTCTGTCTTAGCAAAGTAGTAACCAAAATCCCTGTATTCCTCTGAAACAGCCACCAACAGGGACTTGAACATTGTAGAAGGCTAATTCATAACTATGCTTATTTCTGATGAAGGCTAGACTGAACAACAGCACACACAGTTCACAAACCCAAGGCAAAATGGCCCTAGGCAGGGGCTTTGTCTCTGATGCATATTTAGAAGTCTCCTCTATTCTACGGGTGTAGAGCACGTCCCTGGGGGATAAGGATCCCCTTCACTTAGCAGCCAGACTCAGGGTACAATCAGGAATTGAAATCGCTGCATCCAAACACCTACCCCAATTAGCCTTCACGCTTGCTCTTGAAACCTGTTGTCAAAGGTAGAGCTGAGATTTCTTTACAAGGCCATGCTGTATCTTTATCCCTGTGCTTATCTAAGTGTCAAAGTGATGGGATTTAGGTGCACCCATATGATGCTGAAACAGTGGGAAGAGGGGCAAAACTATCGAAGCCAGGAGAGAAGAAGAGGAAGGAGGAGAAAGAAGGAACAGGGGCTGAATTCCTTCCTTTGAATCCAGTTGCATTTGCAACCTGGGTAGACATTTGGCTCTGGGTGTTGAATGCCCATAAACGCACCTATTCTTTTGAGGGTTCACCAGGGAGTACTTGATTCCCATTCATCCCAAGACTCTCAGGGCCTGGCATATACTGAAACAATTTCAATAAACTTTCATTTTAAAAGCTTCTACTTAGAAAAATCCATCCACAGCCACAGCCACTAAAAAGAAACCATTGAGAGCACAAAACAAATAATGAGCTTTGTCACTACACAAAGACGTTTACAAATCTAACCTAAATGAAAAGCATACCTCATGCTGTCAGGTGTCTGCACTCATGTCATTTGTTTAAGTAAACACAATAGCCTATTCATATGAATTAGCTAAATATTAATGCAGTAACTCTTTCAGATAACATCAATTACTGCTGAGCTGATCCTGTGGAATGTCTTTTCTTTTTTACATAAAAGAAATCAACAGATATGTGCTTACATACCATTAGGCATGATTTTTATGTTCCCTAAAAAAAAAGTGGGATTTAGCTGAAGGAACTAGGAATGTTGTTCTTTTCTGCCCTCACTGGGCCAAGCCATGGGTGAGTCTGTAACAGCCCAGGGACCGGCCCAGACCACGCGCACCTATGCAGGCCTGACCTGTGGCAACAGCCCATGGGCAACCCGCACCTTTGTCTTGGTGCCTCGGGAGTGATTTAAGGACTAAGGTGAAATAATGTTGCTGGAATTTCTGGCAGGTAGCCACTTCCCTCGGGTGATATTTCAATCATCAAAGCTACACCTATAAAATCTGCTTCTGCAAAACACAGACACAGCCATACAGCAGGGTACGGGTGCAGTGCTGCTCATCTAGGTCTCAGAGATCCAAGGTTGGGGGCCACCATAAAAAATCCAGGCACAACCCTCCACCCAGGCTCCCATGTGTGACCAGCCCCACCCTGGTGACTGCTAACATCACACCAGCACACAGCCTCTCTTTAAATATCAAGCTCACAAATATGTTTAATGAACTTGATACGGGAGGGGAGGAAGTCTTTTTTTTTTTTTTCCTTTTTTTGAGACAGCGTCTTGCTCTGTTGCCCAGGCTGGAGTGCAGTGGCGCGATCTTGGCTCACTGCAAGCTCTGCCTCCCGGGTTCACGCCATTCTCCTGCCTCAGCCTCCCGAGTAGCTGGGACTACAGGTGCCCGCCACCATGCCCGGCTAATTTTTTTTTTTTTTTTTTTGTATTTTTAGTAGAGACAGGGTTTCACCGTTTTAGCCAGGGTTTCACCGTTTTAGCCAGGATGGTCTGGATCTCCTGACCTCATGATCCACCTGCCTCAGCCTCCCAAAGTGCTGGGATTACAGGCGTGAGCTACCGCGCCCGGCTGGAACTCTTTTATAATTTTACAATAGCTCTTCCTAAAATACACTAGCTTTATGTGAACCTTGAATCTGTAAGATCTAGAAAAATAATAATACTATAAGATAGCCCTACTGTGTTTCCTTCATCAGCAGCCTTGTGTCCTCTGTATGTTTTTGCAGTTGGAAAGGACACACATGGAAATGCCAGGGCCTCCCAAGAACTGCAAAACAGCTGGAGACAAACACCATCCAGGCACTTAGAACGGGCTCCTCTACCTAAGGAAGCCCCTTTTATACCAAGGCTCGTGAACAGCTTTAACAACTCTCATTTGGAGAAGGAACTCATGTACCAAATTAAAGATCTACTGAAGCAGAGATCAGCCTTGTCCATAGTAGATGCTTAACAGGGATGTTTACTCAACAATCTTATCTAAAATGAATCTGCAGGCCAGGCGCGGTGGCTCACGCCTGTAATCCCAGCCTTTGGGAGGCCGAGGTGGGCGGATCACCTGAGGTCAGGAGTCCGAGACCAGCCTGACCAACATGGTGAAACCCCGTCTCCACTAAAAATGCAAAAATTAGCTGGACATGGTGACGCATGGCTGTAGTCCCAGCTACTAGGGAGGGTGAGGCAGGAGAATTGCTTGAACCCAGGAGGCAGAGGTTGCAGTGAGCCGAGATCATGCCATTGCACTCCAGCCTGGGCGACAAGAGCAAAACTCTGTCTCAATCAATCAATCAATCAATCAATCAATCAAATGAATCTGCAAGCTAAGGACACATGAGTTTCCCTGAACTTTATATACCTTAGAGGTGTATGAAGAGCGGGCTTAAAGTCAGCTAATAGAGACGTGTGGTATAAACTTCCAATGGCATTCAAAATGAATGACACTAATCCACCTGTAAAGGAAACAAATTAACCTCGATGAGAGGTATGGTTCCTTTGGCTCTGACATTCTTAGACCTTCTGATGTAATAGGTACCACAAGAATGATGTTCTCCTAATCATCAAATACTAAGAATGAGCTGGTTAAAGAACAGTCAGACCTAGCCACAATCAATCAATCCCATCCCATCAATTAAATCCCATCACCAGCATATAGCATACCTACTCATTATCATTTTCTACACTGTAACAGTCATTGCACATTAGTAATAATATTAAGTAGAATTTTACTTTAAGACAACAGAAGTCTTTTAAGATGCAATGAGTTAAAGAGAGATTTATAAACCCACAGAAACTTCCTTCAAAGGACTCCAACACAGCCTTTATTATTCCCACCCTAGAGCCAAGTTATTCTTTCTCAGGGCCCCTTCTTTGTGATAGATGTGTGCTTCCAACATTAGTGTCTCTGTACTGAAAAATACTCCTTCTGATGCTGACCAACAACAGTAGGGCACCTGGAGGGTACAGCTGGAGTTGTCTTTAGCCTATGGAGTAGGCACTCAAGCGTTATTGGATGGATGGATGGATGGATGGATGGACGGACGGATGGATGGACGGATGGATGACTATTAAAAGCTTTAGCTATAAAATGAAGTAGTTGCACTGATTAAGGTCCCCGCCAGTTCGAACATACTTTCCAGGTATCTATGTGCTAGACAGGTATTGATTCTGTCAACAAATGGTAGGATTATGTGATTTCTTTTGACCCTGCAATTTAAACTTAGTGAGAAACCATAGGCTGCTGGGCCTGCCCCCACCAAAACCCTTGCACATCTCAATGCTGACACCTAAGGTTTATAATCTACTCTCTCTCTCTCTCTCTCTCTCTCTCTCTCTCTCTCTGGAACCAAAAAACAGAGAACACGGCCCAATGATTTAAAGGAGAAACATGGAATCATATTACCAGGCTGTACCAAAAGAGACCTCGGTGACCATCTGGCCCAACGACTGATGATATCAATGTCATCCAGAAAGGTTAAGTGATTTGATCAAGGTCACACAGCCAGAGGCCGGGCTGAGGCCAGGCCCATCTCCAGCTCCCTGAGCAGTGTTCCTTCAACCACTCCAGCCTGCCCTTTGAACTCTCCCATGGTAATTAAGTCAAAAGTTCAAGATTTATGTGAGCCGCGGCCACCAATGACTGCCAACTGTATTTTTATGGATGCAAAAAATTTTAAAAACACAGCCTGTTCCAGCTCCTAGATTAAGTCTCACAAACTCTCTAAAGCCCCACTAAAGCCTCTGTCTCGAGTCTATAATTAGGGCTTTTAAAAATATCACTAATCAGGACATTTGAATGCTTTGACTCCTGACAGGGGAAAAATGTCTCAGAGCTCCCCACTACCCTGCAGTTCTGCTTTCAGTTTGGTATAAACTAAGAGAAAACAAATCTAACAAAATACGGAGATGTGAGTGAGGATATGATTATGAGGGGGTATGTCTGTGGCTTTGAGAAATCTCATTAAAAACTTGCTAACCAGCCAGGCATTCAATCAGAAATATATGTTTTCAAAACCAAGCAAGTTAACCACAAGTGAAAGAACTGAGCCCACTAGCAGACCAGTTAGCCCATGGGAATTCCCAAGATCTGCCTTCAAAGGAAACTTCTCCAATCATTGGCTATGCTGTTTGACCAAGGAGGAGACTGAGAAAGATATTCAGTCCAACCATTGGATGGAACACCATCAACAGTATTTGTGATAAAATACCAAAAGCAGCTTTTTCTTCTTTTTAAGAGACAGGGTCTTGCTCCGTTGCCCAGGCTGCACTGCAGTGGTACAACCACAGCTCACTGCAGCCTTGACCTCCTGGGCTCAGGTGATCCTCCCACCTGAGCCTCCCAAGTAACTGGGACTGCAGGCATGAGCTACCACACCTGGCTAATCTTTTATTTTTTGTAGAGATGCGGTCTTGCTATGCTCCCGAGGCTAGTCTCAAACTCCTGGGTATACACGATCCTCCTGCTTCGGCCTCCCAACTAGCTGGAATTACAGGTGCGAGCTGCTATGCTGGCCCAAACCAACTTATTGATGATGTTTTCATTACAAAGGGAATTTCTAAAAATTTGCAAAGCCTGTGTGGGTTTTTTGTTGTTTTTATTACTGATATTGTTCTTTTCAATTCCTAGAAACTTCAACACAACTAAGAAGCCTGCTGTTACCAACTTAGGATCTCTACCAAGTAAAAATCCCAATTAGAACAAAGGTGACTTTGAACTGTTATCGGCAGGTTAATCAATGAAATGAGTTTGGAATCTCAGGCTAACTACCTTCATTTTCCCTAGGTACTTCCAAAAAAAATAGCCTTTCTCCCTGACATGGAGTGTGGGCATCTGCAGGTCTCAACAGGAATGAAACCAAAATAGAAAATTACTTTTTCTCTCATCACTCGAGAGAAAGAACCACTTTAGCAGCAAGAGTCTTGATGCAACTGTCTCTCCATCACTTCCCTCGAGTTAAGCAATGGACCTGAACTTTTCGTCCATCATGATCTTCTCAAAAACTAAGTCTCAAGCTCTTCAGAAACATTAATCACCGAAACAAGCTGGAAACAATAAAAATCCCTCGAACAAATGGGTATATGCATCTACCTAGTTGCTGCCAGATAACCCATTAACATACCTAGTACCTAGGGAAGGCAAGAACTAGTTAACTTATACTTTTCTATGCGAAAGGATAAATTCTCAACCCTTCAAAACCCTCAACCTGGATGCATTTCAAAAATTAGCATATGAAACTGCAACTTTCTTTCTGGAGAAAATGTGTTGCACCGAGGGGCATATGTAACAGCATTATTTCCTGGCAACCAGGCTTGTAATGACATCACAGGACTGTTCCACTTGGAAACATCTAGTGCTGGTACCATGTGAGGTCATCAGCTAGTCAGCTGCTAAAATATGACCAGAGAATGCCCTGCACATCTGTGATGAAGAAACCAACTTAAAAAGATCAATCAAATCAGCCCATGGCTGGGTTTTTCAATGCATGTACAACATGATGTTAATAGATACAGTTTTTTGTTTTTTTTTTTTTTTGAGACGGAGTCTCACTCTGTCGCCCAGGCTGGGGTGCAGTGGCACAATTTCGGCTCACTGCAACCTCCACTTCCCGGGTTCAAGTGATTCTCCTGCCTCAGCCTCAGGCGCCCGCCACCAAGCCCGGCTAATTTTTATATTTTAGTAGAGATGGAGTTTCACCATATTGGCCAGGCTGGTCTCGAACTCCTGACCTTGTGATCCGCCTGCCTCGGCCTCCCAAAGTACTGGGATTACATCCATGAGCCACCGCGCCCGATCTTTAATTCTTCATTGTTATTTTTGCCATTGTATTTGGCACCCAAGCTTTTCGTACTCTGTACAGAATCTAAAAAACACTCTAGCAGGCAGCTGAGCTTGCCTTCTTATGTTAACCAACAAAATTAGATCAATAATCTAGCAAATCAGCAGAGGGAATAACCTGCAATATATTTTTCCAACTGGAAGATACAGAACTAAATTTTCAATGTCTCAATCCAAAAGGAGAAAAAAAAAAAAAAAAAAAAAACTCAAAAAAGCCCAAAAACGTCACCATCAACACAGGGTCACTGGAGCATCATTTGTCAAAGTTCCTAAAGAAGAACATACAAACACACCCCAGTGGCATTTTCAGACAATCAGAAGGCACCAAAGAAATCAATCTGGACACATGAGTGTTTTCCAGGTGGCTGAAAATACAAAGAATTTGGTGCTTCTGCAATTTTCCCTATTAATCGGGTCAGGCATTTGACACTTGAGGTGGCAAAAAATTGTTTTAATGGCAACGTCCCCTTTCCTGCCTTGCCAATTACCCCGGCCGTGGCATTCCTCTGTCCACACAGACCACAGCTGCTTAATCTCAGCCGCCCCAGGCTGCACCTGTGAATCAGACCAGCCTAATCACACTAACAGATGGCAGAGGCCAAGTAGCCAGCTAAGAACCGCTATCACTTTAAATAGCATCTAATGTTTCACAGACACCAAACAGAGGCACCTCCTCACAGCAGTATCTCCCTGGTACAGCTAACACTAGCCCTTAATCACTGCAGAGCACCCATTTCAGGGGCAGAGTTGCTGTCATTCGAGAGCTAATTACAAAAGAACCCTGCTTGCAAGGTGAAGGCATGGCAAGTACACTGTTGGTTGGCATTCATCACATGGGTGCTCTACCCCCTGGCCCTTCTGCATGGGCGCTGGGCAGTTAGGAACACTGTTCACAATGCAAAGCATAAGGTCCACAGCATATAATCCTTCTGAACCACTCAGCCTGCCTGTCATGTAATCCATACCTTGCTGTTGCATTCTATTGCTTCACATGGTTTCACGGTAACCTGCTATTAGGCAGGTAGCCGACAACCAGGACAACGCAGTTCCCCAGGCATCCAAAAACCAAGCTGACAGAATCTGATGTCTCAATCCATAGCGAGGGCACCCACATACAGTAAAACTGGAGAGCTGTAAACACCTGTACAAGCATTCTCACTCCACCCCCATCGTGACCCTAGGATGCTCTCAGGCAACAGGCCTACAACTGAAACGCAGCCCTTCTTTTGCTTGCTAAGCCACAATTTTCCATTCAATAAAGCAAGAATAAATACTCTCTCCACCTGATCGGGTTATTGGTGGCATGGACGGAACCAGCAGCCAGCACAGAGCCTGTCTAGTGCAGGCCCTCAGCATCTTTGCCTCCAGCTTCATGCCAGAGCCACTGGCCAAAAGAAGTGAGTGGGCCAGGTGCCGTGGCTCACGCCTGTAATCCCAGCACTTTGGGAGGCCGAGGCGAGCAGATCACGAGGTCAGGAGATCGAGACCATTCTGGCTAACATGGTGGAACCCCATCTCTACTAAAAAATACAAAAAATTAGCCGGGTGTGGTGGTGGGCACCTGTAGTCCCAGCTACTCGGGAGGCTGAGGCAGGAGAATGGCGTGAACCCGGGAGGCGGAGCTTGCAGTGAGCCGAGATAGCACCACTGCACTCCAGCCTGGGCAACAGAGCAAGACTCCGTCCCCAAAAAAAAAAAAAAAAAAAAAAAAAAGAGGCGAGTGACATGCTCCACTTATCAGTGCTTTTTATTAAATAACAATAATGATAACCTCTTTAGAAGGCTGGTACAAATCACAGAAGATACTTCCACTCACCTTATTATCCACTGTTTTACGAACAAGACCACTAACAGTAAGCTCCCATTCAGGGCAGACCTCCACGTGCAAATTCTAAGCCAGTGGTTCTCGCATTTCAGTGTGAATCAGAATCAGCCCCAGAGTTTCTGAGGCAGTGGGTCTGAGGAGGAACCTGAGAATCTGCATTTCGAGGGAGTTCTCAGGTGATGCTGATGCTGCTGGTCCAGGAACTTTACTTTGAGAACCACTGCCCTAAGCTTCCTCTTGACAAAAAGTAAAAACTGCACCAACCAAAATATTTCTCTTTTGCCCCAGCTGCTAGGAGACTCAGGGACAAATCTAAGTCTTCACTTAAGTAACTCATTTATCCGAGGCACCTACCAATATCTATTTTATCTTTTTCCTTTAAGAAGACAGGCCGGGCGCAGTGGCTCACACCTGTAATCCCAGCACTTTGGGAGGCCGAGGCAGGCAGATCACCTGAGGTCGGGAGTTCCAGACCAGCCTGACCAACATGGAGAAACCCCGTCTCTACTAAAAATACAAAATTAGCGGGGTGTGGTAGCATGTACCTGTAATCCCAGCTACTCAGGAGGCTGAGGCAGGAGAATTGCTTGAACCCGGGAGGCAGGGGCTGCGGTGAGCTGAGATCGCACCATTGCGCTCCAGCCTGGGCAACAAGAGCGAAACTCCCATCTCAAAAAAAAAAAAAAAAAAACCTAAAGGACAGTCTTTTCAACAAATAGTCCCAGAACCACTGGACATCCACAGGCTAAAAAGTGAATCCACACACACACCTTACATCCTTTACAAAAATTAACTTAAAATAGATTACACACATAAATACAAAATACAAAACAATAATACTCCTAGGAGGTAACATAGGAGAAAATCTAGATGACCTTGGGTTGGGTGATGACATTTTAGGTATAACACCAAAGGCACCATCCATAAAAGAAAAACCAGACTACATGAAACTTAAAAATTTCTGCTCTGCAAGAGACACTGTCAAGAGAATGAAAAGGCAAGCCACAGGTGAGGGGAGAAACTATTTGCAAAAGAGATGTAATAAAGGACTGTTATCCAAAATATACAAAGAACTCTTATAACTCGACAGTAAGAAAACAAACAACCTAATTAAAAAATGGGCCAACGGCCTTAACAGACATCTCACCAAAGAAGATACATGGATGGCAATTAATCATATGAAAAGATGCTTCACATCATCTGTCATCAGAGAAATTTAAATTAAAACAACAAAATACCATTACACACCTATCAGAATGGCCAAAATCCAGAACACCAAGCACATCGAATGATGTGGAGCAACAGGAACTCTCATTCATTGCTGGTGGGAATACAAAATGGTGCAGCCACTTTGCAAGGCAGCTAGGTGGTTTCCTACAAATCTAAACATACTCTTCTCACATAATCCAGCAATCACACTCCTTAACATTTACCCAAAGTAATTGAAAACTATGTCCCCACAAAAACCCGCACAAAGATGTCTGTAGCAGCTTTATTTGCAACTGTCAAAACTTGGAAGCAACAGAGTTTGTTTTTTTTTTTTTTGAGATGGAGTCTCACTCTGTCACCCAGGCAGGAGGGAGTGCAGTGGTGTGATCTCGACTCACTGCAACCTCCGCATCCTGGGTTCAAGTGATTCTCATGCCTCAGCCTCCCGAGTAGCTGGGATTACAGGCATGCACCACTACACTTGGCTAACCTATGTATTTTTAGCAGAGACAGGGATTTTGCCATGTTGGCCAAGCTGGTCTCGAACTTTTGTTCCCAAGTGATCCACCCGCCTCGGCCTCACAAAGTGCTAGGATTACAGGCGTGAGCAACGGTGCCCAGCCGAGATATCTTTTAGTAGGTAAACGGGTAAATAAACTTTGATACATACAAACAATGGAATACTCAGTGCTACAAACAAATGACCCATCAAGCCATGAAAAGACATGAGAGAAACTTACATGCATCTTACTAAGTCAAAGAAGCCAATCTGTAAAGGCTACACACTGTATGATTACATACCCTAAAGTCAACCACACACTTTGGGTGATAATGATGGCAGTGCAGGTTCATCAACTGGAACAGATGTACCATTCTGGTGGGGATGTTGATAACAGGACAGGCTATGCATGTGTTGGGGAAGATTATATGGGAAATCTTTGTTCCTTCCTCTTTATTTTGCTGTGGACCTGAAACTGCTCGAAAAAATAAAGTATTGCCAGGCGCAGTGGCTCACACCTGTAATCCCAGCACTTCAGGAGGCTGAGGCGGGTGGATCACTTGAGGTCAGGAGTTCAAGACCAGCCTGGCCAACATGGTAAAACCCTGTCTCTACTAAAAATACATAAATTAGGCTGGGCACGGTGGCTGACGCCTGTAGTCTCAGCACTTTGGGAGGCCGAGGCAGGTGAATCACAAGGTCAAGAGTTCGAGACCAGCCTAGCCAACATGGTGAAACCCCATCTCTACTAAAAATACAAAAATTAGCCAGGTGTAGTGGCAGGCCCCTGTAGTCCTAGTTACTCGGGAGGCTGAGGCAGGAGAATTGCTTGAACCTGGGAGGTGCAGGTTGCAGTGAGCCAAGATGGCGCCACTGCACTCCAGCCTGGGTGACAGAACAAGACTGCATCTCGGGAAAAAATATATATATATACATAAATTAGCCGGGTGTGGTATATTACTTAGGCCTTGTTTAAATGTACCAAATTGACTAAAATCCTTTTAAGAAAAATGTAGAATATACCATGTAAGCAGAGAATCCCAATACCCTATGTACAAACACTTTAGGAACATTCTAGCCAAGTCATTGGAAAATGCAAGTAATGCTATATTGTATTTTGTGTATTGAATAAACATTTGCAAGCAACCACTCTTCTGAGCACTATACAACTAGGAACTCATGTAATCCTCATAACAACCCCAGAAAATAGTATTATTATTATTACTCCCATTTTATAAAGAAACTAAGGCACAGAAGTGAAATGAGCAACTCAGAAGTTGTGGAGCAAGATTCAAACCCAGGTTGCCCAGCTCCAAGAGGCTACGCCATGTTCTTCCTCGCAAGTAAATGGCCTCTCCCATGTTAGCGCTCAGTGTTCATGGCCCTCATTAAGCAAGCCACCCTTGGCTCCCTTTTCAATCGTGGTCTACAAAGTAAGGCACACGTCCTTCATTTTCACTCAGCATGAGGTGTGTGTTGTAGGAGGCCGGGTTTCTCACCCTAGGGATGATTGACATCTTGGACCAGATAATTCTTTGTTATGGGGCTGTGCTCTGCATCCCTGGCCCCTCCCCAGCTAAAGGCCACCAGCACCCCCTCCCTCTGTTGTGACAACCAAATATTGCCCAATGTGCCGGGAGAGCAAGAATAGGCAATTGCCCCAGTCACACACCACTGGATTAAACCAAGCACAATCACTGATTACAAGGAAAACCAAGATGTTACATGGTTCTACTATTCTTATGTCTCTGAATAGGGAGAAGTCAAAGGGAAAAGGGAAAATCAAGGAAAGAAAAGTAGTAACTGCTTTGAAAAACGAATGACCAGTGACACGAGAAGAAAGGACAAACGATAGAGAAGGCTGTGCAGCAACACTGGTTTATTCTCAGGTTTGAAAGTCAGGAAAGTAGACACAGCGGGGAAAGGCAAGGGCCGCGGGACACAGCATGGCGCAGAAGAGTCGACAAGAAGACAGGTGACAGGCAGAACTTCCCTCCATGCTCCTCTCTCGGGGACCATCGGAGCCGGGCAGTTACTTACTCTTGTTGTTACTGTTCTCACTGACAAAATCTTCCGCACCATCGGTGTCATCCTCATCATCTCCGGATGAGATGGCATCTGTATGCAAAAGAACATATTCCATGGATGTGTTTTTTGCAAAGCAAAAAGGTTGCAATTATCTACAACTGAGACCTTCTCCATAGCAAAGTCAACAACCCAGGAACCCTCGCAAAGAGCCTGGGATTGTTTTCAGTTAAGATAGTTTTAATGGCTTAAATTTTCCCTCCATGATGACAGTTGGTCTATGTTATGATTCTCAATGTTTTCTGCTTTCACGCTATTTAAACAGGCTATAAAATTGGATATATGAGAACTGGATTTCAAGCTTCAAACAGTATTCAAGCCCCTGACAAATTTACCAATTGTGTAGCACCCAAAGACTCTTTTTCCAACATTAACCTTTCAGTATGCGGGGTCTCCTTGAAGAAAGAAATTGATCCCTAACAAAACTCAGTCCCTGTGTGGCCCTTCTCATCGTCAACTAACATTCTGAAAGCAGAACTTTAAACTCGGCCACAAAGGGGGCCTGTTCTGTCCCGCTCACTGCATAGAAGGAAATCATGGAGAGAAACTCAAACTCTAATAAATGAATCAGAAATCTTGAGTATCCAAATTTCAACCCTATATTCTAAATGCCAGAGATGTCAGTGGTACAAAAAAAAAAAAAAAAAAGCATGTATTTACTTAAATAAAAGCGTACTATCTTAAGAAAAATGTTACTTTGTGCACAAGAATTCTATCATTCTTAATGATCGGCCTTTCTGGTGCACCAGGTCCCAAAGAAGAATTTCAAAAACTATGAAGCTGTATGCCTGGCATCCAATTACAATTAGAGATCTCACTACCTTTTCACTTGGCCAAAAAAATGTAATGGCTACAGAGAAGAGAGAGCATAGTGCTGGCGGGCCAACTCACCTGTGACATTCACCATGAAGTACCAAGTTTCACTGTCTACAGTCCTACTGGCAGTACAAGCATAGAGGCCGGAGTCTCTAGGCGTGGCGCCCTTTATCTGCAAGTACTCCCCAATAAGCACTGTCCTATTGTTGGGCCCCAAGTGCACCCCATCCTTAGTCCAACTGATCACGGCGGCATCTTTCAACAGGCAGCGCACCTCTAGCGACTCCCCTGGCGCAGCCACGTACACTTCTGGTTGAGAGATTTGGTATTTGGTTGGTGGCTCTGCAGAAAGGTGGGAGAGAGAAGACGGAGACAGATGGGAAGGAGGGAGAGGAGAGAACGTCCAACAAAGGTCAGTGGAGGCCTGCTTATTCCCAGGAGAAGCTGTTCTTGCTCTGCAAATGGCCCCAGCAGGCATCCACCTCTCCCCAAGCCCCAGGAAGTCAGGAAGTATCTGGAAGAGCAACCAGAGGATACCCCCAGAAAATCTGTCCTGACTTAGTTTCCACATCCTATGGGGCTTTAGAAACAAACCAAACCATAGCATGGAAGAATATTCCACAAGAAAATGTTTAAATTGATTGCCAAAGCGTGCTTGCACTGTAATACCTGCAAAAATCTGTTATTGTGGTATGTTTTATTTGTAAGAATGCCGAGTTTTACACATTTGTACGTGAAACGTGACTGTGCGCCACACACACATACACTCTTTATTATTTGTGCTAGACTTGGTCTGTTGCCCCAAGGCCAAGCTTCTTAAAATGAAATGTCTCAAACTCAAGGAAAACTAAGGGATCCCTCTACAAGATTTTTTGCCATCCAGAGTTTTCATGAGCTCTCATGTTCAGATCAGTACTTTGCCGGTTTAGAGACCTAATTCTGTGCTGGGTGAGCTGAGACCTGCTGTTTTCCCAAAATGATAAAAGCCTAGAGGCCTTAACACCAAAAACAAAAAGAGCAAAATGCCCAGACAGCTGCAAGGCAGTCTCCGTTGCACTTACAGGGGTCCTGAAATGAAGCCGCTGGGTGCTGTGTGCCCCCGACTCCACACGACAAAGCTGAGTCCCACCCTGCTCACCAACACCCACCACACATGTCCCAGGCTTCTTCTGTAGGGACAGTCCTTCCTCCCTCTCTTCCCTGTCATCCACCCTCCAAGACCCAAATCAAGCAGGGTCCTCCGTGATGGGAGTCACCTTGCATCAGTCCCCCTGGGCGGAAGAGCACTGGCTCCCTCCCCCTCCACCATACACCTGCCCACTTTGCCAGCTCATGGGATGCACCATATTCTCATGAATGCATCCCATCTCCCCACGGAGACACCAAGACCCTAGAGAAAAGGCGTGGGTCTCATGGTTCTCTGTGCTTCCCGCCACCGACCCCATCCTGCTTGGCAGACACATGGCCATGTCAAACAAGGTCACAGTTCCCAGATATGCAGCACGGGATTGGACCCACAAGGATCCAACCCACACAACCTCTCCACTGGAGTTGAGAGGACACCACTGGCATTTATTAATAACAACAGCTGGAGCGGCCAGCTGGGATGGCCACGAGGGCCCAAGAAGGAGGCTTTCATCCCTCCAGTGAGAAGTGTGAATGGGACCCAGAGTTCCAGGCCTAGAAAATGCAAAGCTTCCCAGCACTGAGACAGCACCAAATCAGGGCAGGATCAAAGGCAACTGTTTTGCCTAGACACCCCTCAGAAGAACAAATCTCCCACAGGAGACTGAAATCAAGTCAATCTGTGTTTCAGTCCCACTGTGAAAGGAGCAAGGGCCACATGCATTGGGGACAAGAAATCCCCCTCACCACCACCATCAACAGCCACACAGGAGGCCCGGGGCTTCTCAAGGGGGCATCACCAAAGGCATGCATGCCAAGCCCCAGATGCCAACTAGCACGTGAACACAAAGAGAGAATCACAACAAAAGGAGGAAAATAGAAGCTAAATGTAACATGGACAAATGCACCCCAAAGCAAGGAAAGCCCAGCTGACGGGCAGGTTATGTTTCTAACATTTGTTTTCTCACTCAGTAATTATTTACTGCATGTCTACTATACAACAAGCCTATTCTGGAAGCTCCGCAGCAAGAGGAGACAAGATAAAGACCCTGCACTTGTGGAGCGTCCATTATGGTGGGGGTGACAGACGATAGATACAAAATCTACAAAAAATACAGTGTTCTTGCTTAAGCATTAGGAAGAAGGACATGGCAAGGTACGGGCACACACAGCAGTGGCAGAGGAGGGCTGGTCCCTTGGCAGGAGGTGGCGGATGATGGCCCGCGGGCCAAGCCAGCCGCAGCTTGTTTTTGTAAACAAAGCTTTATTAGAACACGGCCATGCCCATTCCTTATTGTCTGGCGCTGCTTTTGTGTGTTACAAGGGCAGAGTTCAGTCATTGCAACAGAAACCCTGTGGCCTGCAAGCCCTACAATATTTGCAGTCTTGCCTTTGCAAAAAGTGTTTCAATCCCTGTTGTATAAGACAATCAGAGAGACTTCTCCAAAGAACAGGCATTTGAGCTGAGAAGTGAAGGACAAAGCGAAGTTTAAAAGATGTTGGGAACTTAGTTTGAAGGCTCTTAGAGCAGGTCTCTCAAGGCTGGTTAAGTCAAAATGCGGCTGAATTGAGTGACTAATAGAAATACTTTAAACTATGGAGACCAAACAGAAAAAAGAAAGGAAGAGAAATATGAGAAGGAGGAGAAGACGGCAGGGATTCAGTCTGGTCCCAAATCTTGGCCCATCTCCCACTCCCAACATCCTAGAGTCACAGATTCACTCAACATGAGAGCTGAAGGGGCCCCAAACGCTATTGGTCCAACCCCTTTGACAGCTGGCTAAGGCAAGGACCAGATGTCCTTTGAGTCCCAGGTCTCCAACAACTCATTGCTGAAACAGCACCCACCATGTTAGAATGAATTTACATTGGATCAGTCTGGGTCATAAAATGATCAATGTCTATTATGACAACATCACATGATCAGCAAGTCACCAGAAATGTTATGGAATGTACTTTCCTCTTAGCCAGAATTGATCACCAGGGCAGCCGCTGAGCAGAAGCAGCAAAGCTTCCCTCCCTCACAGGGAAGGCACCTGGGACCCACACACCAATCTGCTCCATCCTGACCCTCAGATAAGGTGCAACCATGTCCCTATGTCACGCAGAGGAATGCTCTAAGACTCCATTAGGGGGAAAAAAAGAAAAAAAAAAGATAAGCAAGGCATTTGCAATTGTGATGCAGAAAAAAATCTCTCTCCCGGCAAAGGAGGAGTTATGATGTATGATTTCCTGTTTTTAAATGAAAGTGTTTTCATTGAGAATCCTTTCCTTCACCTAAAATCAGTAAACCCCAAAATCTTGCTGAAACTGGGGGTATCTGAGCTGCTGGACTACCACGTGCTGTTCTAGAAGGAAGTACAGGGGACAGCGAGGACCTGTGTCTTATTTGGAGCTGGACATGGGAGATGCCTGGTGAAGGGTGCTGCCCTGGACGAGAAGAGGATGAAGCCCTGAGTTCCCACGCCTCTCCATTCCTGCTTAACCTTTTGGCCTGGTGTTCCCCATCTGTTGCAGGGTAAGAGTACCCAAATACTGGTTTATTATTGGTAAGATTCCAATGAGCCAACGAAGATGAACCTGATCATCAACTACAACATGTCGGGCTAATGACTGTCACTATTACTGTTACTCTTCAAGGCGGAAGATGCTTGCCGTGATTTTTTAAGCACCACGATTTTCAGAGGATAATCACAGAACATCTGGGTTTCTTTTTCTTTTCTTTTCTTTTCTTTTCTTTTTTTTTTTTTTGAGACAGAGTCTTGCTCTGTCACCCAGGCTGGAATCCAGTGGCACGATCTCGGCTCACCGCAACCTCCGCCTCCCAGGTTCAAGTGATTCTCCTGCCTCAGCCTCCCAAGTAGTTGGGATTACAGGCGTGCACCACCACACCCAGCTAACTTTTTTGTATTTTTATGAGAGACAGCGTTTACCATATTGGCCATGCTGGTCTTGAACTCCTGACCTCGTGATCTGCCCGCCTCGGCCTCCCAAAGTGCTGGGATTATAGGCGTGAGCCACTGCGCCCAGCCAGAACACTTGGATTGCTATCTCCAGATACAAAGTGATTTTACAGGAGTCCCATCTCAATGGACAGTTAAGATGACTTGACGTACTAAAACTGCTTTTGATCCCAGTAAAACCAGATCAAAACTGTCATCTAGATATCCAAGCTTCAAGGATAGTAAAATATCACCCCCTAAAATACACCAATGAGATAATGATGTTTATCCATAAAAATCAAGCCATCCTGTCTTCAAAGTCTCAAACCAGTAACTGCTGTCTTGGTAAACTGAGAAAGCAAGGACTCCTCCCTCCACCCCTTCAGTGGTCATTTCACAAAGGGCCCATTTTGGGGATCAGCGGTGCCTTTAGTAAACATGCCAGTAATACCCCTGGGTATCCCAGAAGACTCTGCAAGCACATGTTAGGGAGAATGCATGAATAAACACACAAGAGAGAAAGAGGTTGGGGAGAATAAAAAGAGGAGGATGTAAGTAAGAAGAGAGGCAGGGATGGGGTGGGGCCATACGCTGGGGAGGGGCCAAATGCCACACTGGTAGCCTCCCAGGCCACCCAGTGGCCCCCCAAGCCCAGCCTGCAGGGCCCAGCACACACGACACATATCAAAGACAACCCCGGCCAGGGGGCCAAGAACACAAGCACCTAACAGCTGGCTCAGTGGAAGCAGCTCTGTCCCTGCCCGTGTCCTTGGGTCCATTTGCCGTCCACAGGGCTTAGCTTCTCTTCTGGGTTTGAATGCTGCAGGTGACCTGACCCGCTGCCCACTCCCTGCAAACATGCACTCCCTGAGCCCTCCATGTTCATCCCCACAGTTGTACTGACCTGGCCCCAGGCTGCGCGGAGCCAGGACAATCAGAGAATCCCCTGTGCCTGCATGTGCAAAGGGGCCTCCCTAACTCTGGTCACCCCCCATGGATGGACAACCTCTCCCTGACTCCACCAGGCTGCACAGCCTGCTCTGTGAAAGAGCAAAGAATTCCCCAGGAAATGTACATAACTCCTTTTATAGTCATGTGAGCACTTCCTGGATTTACTTTTTCCCATTGCTGTGGCATACTTTTCACCTTTCCTGTGCGAATCCACCAGGGGTGCACAGCCCAACATCTCCCTCATCTCCTGCCAAAACGCAATGGGGAGAAGGTTCCAGAAGCCGCCTTGCTATGCACAAATGCTCTTTCAGAGGCTTCCACAGACAGAGAATATGTTTCCATGTATTTTTCACAATATGAATTAAAAGTCGAAAAGAAGCAAGCAAGCTTCACAGTAGTATTGGCCAATCTTTGTCACTGTTTCCTAAAACTGGTAAACAAACAAGGCACCAAGTCTCCTTCCTGGGACACAGCTCAACACTCGTTTCTACTGCCGTGGCCACACTACTGCAGCCCTGCTGCATAAAGCTCAGTTGCATCCACGTGAATTTTCTCCCAGAAGTTTCAAATACTTGGGAAGTACCAGCAGCGTGTTAGCAAGCAGCCTTTTTTTTCTTTTTTTTTTTGAGACGGAGTCTGGCTTTGTCGCCCAGGCTGGAGTGCAGTGGCGCGATCTTGGCTCACTGCAAGCTCCACCTCCCGGGTTCACGCTATTCACCTGCCTCAGCCTCCTGAGTAGCTGGGACTACAGGAGCCTGCCACCACACCTGGCTAATTTTTGGTATTTTTTTTAGTAGAGACGGGGTGGGTTTCACCATGTTGGCCAGGATGATCTTGATCTCCTCACCTCGTGATACGCCCACCTCAGCCTCCCAAAGTGCTGGGATTACAGGCGTGAGCCACCGTGCCTGGCCTTTTTTTTTTTTTTTTTTTTTTTTGAGACGGAGTCTCGCTCTCTCCCAGGCTGGAGTGCAGTGGTGCGATCTCGGCTCACTGCAAGCTCCACCTCCTGGGTTCAAGTGATTCTCCTGCCTCAGCCTCTGGAGTAATGGGATTACAGGTGCATGCCATCACGCCTGGGAATTTTGTTGTTGTTGTTGTATTTTAGTAGAGACAGGGTTTTACCACGTTGCCCAGCCCAGTCTCAAACTCCTCAGCTCAGGCAATCCACCTGCCTCCGCCTCCCAAAGTGCTAGGATTACAGGTGGTAGCCACCGCACCTGGCCACAAGCAGCTTCTTTAAAAACAAACAAACAAACAAACAAACAAACAAAAACGACTGGCCGGGCGCGGTGGCTCGTGCTTGTAATCCCAGCACTTTGGGAGGCCGAAGCGGGCGGATCACCTGAGGTCAGGAGTTCGAGACCAGCCTGGCCAACATGGAGAAACCCCGTCTCTACTGAGAATGCAAAATTAGCTGGGCATGGTGGCGCATGCCTATAGTCCCAGCTACTCGGGAGGCTGAGGCAGGAGAATCGCTTGAACCCAGAAGCTGGAGGTTGTGGTGAGCTGAGCTCACGCCATTGCACTCCAGCCGGGGCAACAAGAGCAAAACTCCATCTCAAAAAAAAAATAAAAAAAAAAATTGACTGTTTTGATACTTTAAAAATGAGAGAGACAGGTACTTGTACAGCTAATCAAAAAATAAATGGGCCAGGCACAGCAGGTCATGCCTACAATCCCAGCACTTTGGGAGGTCGAGGTGGGAGAATCACTTGAGGTCAGGAGTTCAAGACCAGCCTAGGGAACATAGTAAGATCCTCTCTCCACAAAAAATGAAAAAAAAAAAAAAAAAAAGCCGGGAATGATGATAAACACCTGTAGTCCCAGCTACACAGGGGGCTGAGGTAGGAAGATCGCTTGAGCCCCAGAGGCTGCACTGAGCTATGATCGCGCCACTGCATTCCTGCCTGGGTGACACAGCGAGACGAGAACCTGTCTCCAAAAATAAATAAGTAGCCCAGGCACAGTGGCTCATGCCTGTAATTTCAGCACTTTGGGAGACCAAAGCGAGTGGATCACCTGAGATCAGAAGTTCGAGACCAGCCTCACCAACATGGTGAAACCCATCTCTATTAAATATAAAAAATTAGCTGGGCGTGGTGGCATGTGCCTGTAATCCCAGCTATTTGGGAGGCTGAGGCAGAGGAGAATCGTTTAACCCAGAAGGTGGAGGTTGCAGTGAGCCGAGACCATGCCATTGCACTCCAGCCTGGGCGACATGAGTGAAACTGTCTCAAACAAAAAAAAAACACAAATAAATAAATAGTATGAATAACAACAGGCATCTGCACATGAGCTGTGAGTAATTCCTGCCTTGACCTGGCCTTCCTTCCCTAAGAAAACCATCCTGTTATTCCTTGGGAGCTCATAGGACCTCTGACTGGGGAGAGAGAGAAACTGAGGCAGGGGCTGCCTGACTCTCCGAGCCCCTCAGCAGACCATTTGACATCACACAGAGTGCCACTAGCCACAAGCTGCATGAATTTACCTCTCTATAAGTAAACAGAGAGAAAAAAATCCTCGCTGTGTGTGAAGATAGCCCCAGGAGGGGGAAATCTTGTAAAAGTCAAAAAAGGCTGTGACTTATGTGACTTCACTGCACACATCCAGCTGGACTTCTCACCCATCTCAGCGGGAGGGTTGTCTTGAGACAGTTGAAACAGCAAAAGGGTTTGGAAACGGTAAGCTATTTCAGGTAACACTTTACGTTGCCAAACCAGCGATAGCAGCACTTCAGACTGTCACTTTTTATAATGTTTGCCTATAAACTTTTCCCGTGTGGTTTTTGAAATGGCGCCCAAATGCAAACAGAGAACAGATGGGAAACCTGAGTCTTGCCCCGTCCAATCACTTCACGGAGAATGGACGACAGATTTAAACTGTTAAGGAAGAAAAAAGCAGTTTCTACCAACGGCACAGCTCCCTCCATTACTTTTCACAAATTAAGCCTTTTCTGGGGTTTCCCAGGGATGGTGTCTTTTCCAACGTCTAGATCATCCTAGTTCCAAGGATGCGGTGGGGTCGTCCTGGAACCCATCCCACTGAGGTTTCTCCCTCCTCCAAAGTCAGAGGTGTCCAATCCCTAAACACATTCCTCCAGGAAGAAGAAAGAGAGAAAGAAATCCCTGAACAGACTCCTCTGGAAGAGACAGAAGGATGAAAGAGAGGGAGAGGGGGAAAAAGGAGAGGAGAGACGGAGACAAGGAAAAGGAAGGGAGAGAAACAGAGGGAGGGAGAGGAAAGAAGAGGAAGGCAAGAGGAAGAAAGAGAGGGGAAGGGGAGAGGAGAAAGAGGGAGGGGCAGAGAGAAGAGGCAGGTTAGGAGCACACCCGGGAGGCATGTCCTGTCAGGGTTGTGGGTTGCAGGAAGAAACCCGTTTGTACCTGGAGGCACAGCTGGGACTCCCACAAGCACTGTAACAGGAGCGCTGCGGGAAGGGTAGTAAAATGGCCTTCGGTTCCCGGTGCCCTCCCACACCTCCTGCCACCTTGTACAGAGTAAATGTCACGGCTGTAGGGCTGTAGGGCTGCCAGTGTCTCTACAGGAGAAACACAGTCCGGCTGCAAATGTCGCTACATAGTCACTGCACACAAAGCACATGGCAAGTAAGTGGCCGCCACTGTCCTCCCTGGTCCAGTAACCCCCAACTGGCCCTCTTAGTCTGGAAGATGTCCTGTAGTGGCCACGCCCAGTCCCAGTAAGAAGTCCTCACTGGTCAATACCCAATTCTCTGTCCGTAGGAACAGAAGAGAGATTTCTGCAAGATAGGGTTTCTGGAAGAGCCCAGCCCCCTCTTTCCTATGGCACAATCTGGGTATCACTGGCATCAGAACTTATCAGCAGAAAGAAATAAAGGCAATGGAGGCCAGGTGCGGTGGCTCATGTCTGTAATACCAGCACTTTGGGAGGCCCAGGCAGGTGGATCACTTGAGGTCAGGAGTTCGAGACCGGCCTGGCCAACAAGACGAAACCCCGTCTCTACTAAAAACACAAAAATTAGATGGGCATGGTGGTGTGTGCCTGTAGTCCCAGCTACACGGGAAGCTGAGGCAGGAGAATTGCTTGAATCCGGGAGGCGGGGGTTGCAGTGAGCCCAGATCGCACCACTGCACTCCAGCCTGGGTGACAGAACTAAACTCCATCTCAAAAATAATAATAATAATAATAATTAAATTAAAAAATAAAGGCAATGGAGTCCCGCCATTGAAGTCAGAACCAACCACCTTTGCATGCCCTGCCATGAGGGCTGTGTACACAGCAACGAAGACAGCCTGCTGCAGCCCAGACATCCTCAAAGCCTCCCCTCTGCAAGAGCCGACTTGCAAGAAGACCAAATTCCTCACATCAAACAGAGACCTTATAAGGCATAGGTACTACGTGTTCTTTAAGGGGGCGAGGAAGGGACAAATACTCCGCACAATATAAAGGTGAAAGTTCTCTACCTCGAGAAATACTGCCAACATAAAAACGGAGAACAAAAAGAAGTCAAAGCAACAAACAACAGATAAGTACGCAGGATGAAAGGGTGCAGTCCTCTCTTTCTAACCAGTTGTCAGGGTGTCTGGTAGACACAAGTCGGGACTGAAACCTCCCTGGTCGCTAACAAGGATGCCGGTAACAACAGCTAACAGCCGCCTCTGCAGCGGTAGCTGGATTTCTCCAGAAACTCCAGACTGGCTCATGTTCCTAGTCATCAGATGGGATCATGGCTAATGTTTCCAATATGGTAACCATTAAAAATTATATATTTAGGCACACCCCTCATATCATTTAAGTCTGCCTTTGAGAAACATGCTGGATGGCTCTTCATGTTTGAAAGAAATTATATTGTTGCCCATGAGAAAATAAAAATGCACACAGAGTAAAGAGCCTAAGAATGCACTTACTGAGGAGTGAGTCACCGTGTCTCCCAATGTCCCCACCCACAGTGGAAATCCGCACTCCCTGTTTTGTCAGTATCCCTCTTGCTTTTGATCTGATGTTTTCGGCTGTTCATGACAGTGTTCTCCAAAAAAAGATGCACAGAGGGAAGGTTTTCTCTCTGGTCCCAACACGTGTATTAAAGTCATATTTCATGAGTGAAAAATTCCTGATGGACCACTAAGACGCAGGTATTGAATCAGTACTGTGTGCATAAACTCCTAGATATGGGCAGCTTTGCTTGCATAAGAACTTCAAAATTGAGTCCTGGCCGAGTGCGGTGGCTCATGCCTGTAATCCCAGCACTTTGGCAGGCCGAGGCGGGTGGATCACCTGAGGTCAGGAGTTCAAGAGCAGCCTGGCCAACATGGTGAAACCCCATCTCTACTAAAAATACAAAAATTAAGCCAGGCATGGTGGTGCACCCCTGTAATCCCAGCTACTCGGGAGGCTGAGGCAGGAGAATCGCTTAAACCAGGGAGGCAGAGGTTGCAGTGAGCCGAGATCGTGCCACTGCACTCCAGCCGGGTGACAGAGCGAGACTTCATCTCAAAAAAATAAATAAATAAATAAAAATAATAATAATTTAAAAAAATAAAAGGCCGGGCGCAGTGGCTCACATCTGTAATCCCAGCACTTTGGGAGGCCAAGGAGGGTGGATCACCTGAGGTCAGGAGAGTTCAAGACCAGCCTGACCAACATGGAGAAACCCCGTCTCTACTAAAAATACAAAATTAGCCGGGCGTGGTGGCACACGCCTGTAATCCCAGCTACTAAGGAGGGTGAGGCAGGAGAATCGCTTGAACCTGGGCGGTGGAGGTTGCCGTGAGCCGAGATCACGCCACTGCCCTCCAACCTGGGCAACAAGAGCGAAACTCCGTCTCAAAAAATAAATAAATAAATAAATCGAGTCTTTTGTTCAGAAAGCATTTCCCAAAGCGACAGGCCATTAGATCATGTAGCGCCCAGGAAATAGATACTTACGTTACAAGCTATGTTGAAGTCCTGCACGCCCCGGCTTGGATGTACAATGAGGAGTCTGTGTGCCTGGCTGCCTGGCCAGCCCAGCCCGAGCCTCCTACCTTCTGAAAATACACTTGCTGGACATAGCAGAGAAAGCTGGTACATCTCCAGCCCTTCAGGGCTTCTTGGGACACACTGTTCTGGGGAAAACCCTTTCATCAAAAGGCATGTGGGGGGCTCACAAGGAGGTGAAGGAGTGAATAGGATGTGCCTGGCCTTTAATGACCCAATCTTAGGGTGAAGAGTGGCCCTACAGAGTTGTCACTCTGTAAAATGAATGCATTGTGATCTCCAGTCCTGAAACTGAACCCTCTGGTCTCAAAACACTTCCATTCCCTGAGTCCTAATGACAGTGCTCAGCCAGAGGCAGCTCTCTTCATCTTACAAAGTAGTAAAGCACCTGTCTCAACAGACAGCTATACCCCAAGCCTCTCATGGTCCCTTAGCAGTAAGGCTATGGCCTCATTTTTGTCCCTTCTCTGGTGACTCTTCAGAAAAGGCTGGGGGTGTTAAAGGTACAGACCAAGGCCGGGCATGGTGGCTCATGCCTGTAATCCCAGAACTTTGGGAAGCTGAGGCAGGTGGATCATTCAAGGTCAGGAGTTCGAGACCAGCCTGGCCAACATGGGGAGACCCCATCTCTATTAAAAATACAAAAGTTAGCTGGGCATGGTGGCAGGCGCCTATAGTCCCAGCTACTCGGGAGGCTGAGGCAGGAGAATCGCTTGAACCTGGGAGGCGGAAGTTGCAGTGAGCCAAGATCACGCCACTGTGCTCCAGCCTGGATGACAGAGCGAGACTCCATCTCAAAAAAAAAAAAAAAAAAAAAAAAATATATATATATATATATATAGAGAGAGAGAGAGAGAGAGAGAGAGAGACACCAAACAGACCTGTCACTGACACCGAGACTATGCCACTTACAAATCGTATGACCTTGAGGCAAGTCCTCGGAGCAGGAACAATAATAAATGAGATAGGACACAGAAGGCACCCAGCACAATGTCTGGCACTTACACATCTGCCATCAGAAAGACCTTCCGGCTGAAATCCTCACTCCTCCGCTAAACAGGAAAAAAAGCAAGGCTGCCTAGCCAGGTCTTCTCAGTGTGGAAGGTCAGGAAATGAGAGAGGAGGGGGCAGGGCTCCTGGTCTATTTCTCAATCCCTAACACAGAATTGGGGGTTAATTATCTTCGGTTAGCATTCTGCTTCCTGCTGGTGCGTACATGTGCGTATGTGTTCTTATGGACAGGAACATGTCAAGGAGGACTTCTCGCCTTTCTAGGAAATTTCTCCTTCCCTGCCACCCCTCCTGTATCCATGGATATACCCAGAATTCTACCTCTGGCTCTTCTGGTCCTTTCCCTGCATTCCAGTCTCCTGGGCACGTGTGGCTTTTCCCACCTCCTCCCCGCAGATGCCACTCAAGTCCCTGCTTGTAGGTTCATATTTCCACCTGCCCGGGGGGAGGAAATACATAACCTGGATGTCTACAGAGGTCGTATCCAAAACAAGCAAGTGACCTTCAACCTCCTCCTCCTCCACCAGCCTCTTCTCTTACACGATGAAGGGAGTCACACCACTGAACTGCCGCCCAAGCTCCAAGTCGGCCCTGAAGCCCCTCTTTTCCTCTGGCCCTTCCTCTGATCAGTCCCCACACCCCTTCACCTATTAGGCCTATCCCTGATAGAAAGCTTAGCTCTGAAAGAAAGTACAGGCAAAACTGCATCCCACAGGTCTCCTCCAGTCCTCCACAAGACCTCTGCAATGCGCCTAACCCATCACCCATGGTGCGCCTCTTGTAGCCACCGCAGACCCCCAGAGGAATCTTCTGAAAAGCACATGATCTCTACTCTTTTAAAAAGGCACAGACCACTCCAAAGTCAGAGAGAATAAAACCCAAAGAACATCATGGCGCATTGAGGCTTGGTTGCTCCAAGCCCCACATCCCTCTCTCTGACACTCTGGCTTACCTGTCCACATGGGCACTGTTCCCTCTACCTACAAGCCCACCCAGCTCTGCTGCCTGGCAGGCTCCTATTCAGCCCAGTTCCAACAGCTCCTCCGTGAAAATCCCGATTCCCATTAAGACACTGCACTGCTCCCATCTCGTCCTGTTCAGCCTCTAGGACATGCACAGCCAAAGACAGTCTGCGTCCCCAGCCCACTCCACCCAAAAGGTGTACGGAGAGGGACTGGAGTAGGGATCAATGCAATGTTTCTCAGACTTTACTGTGCGTAAAACCACGTGGTCAGTTTAAGACAGCTTCCTTGCTCCCACTTCCAAAGATGCTGGGTCAGCTGGGCGCTGTGGCTTACGCCTGTAATCCCAGCACTTTGGGAGGCCAAGACAGGTGGGTCACTTGAGGCCAGGAGGTAGAGAACAGCCTGGCCAACACAGTGAAACCCTGTCTCTACTAAAAATGCAAAAATTAGCCAGGTCTGGTGGCAGGAGCCTATAATCCCAGCTACTCGGGAGGCTGAGGCAAGAGAATCACTTGAACTTCGGAGGCAGAGGTTGCAGTGAGCCAAGATTGTGCCATTGCACTCCAGCCTGGACAACAAGAGCAAAAGTCTGTCTCAAAAGGAAAAAACAAAAAAAGATTCTGGGTCAGTAGGCCTGCAGGTGCGGGCTGACATTCTTTATTTCCCACAGGTGAGGCCTGATGCTGCTGGTCCAAGACCCACACTACAAGAAGTTCAGCTCCAGTGTCCAAGGATGAGACTTTGAGACCCGCCTCTGCCAGTAGTGAACGTGTCAGCTTGGACAGCCTCACACCGCTGAGCCTCAGAGTCATGCTTTAGAGAAGAGAAAAACATCTCCAGTGCTGCCTGCTGCAGGGCAAGGTCACCACAAGGACACAATCAAAGGCTGCCTAGGAAGGCCTCTGTATATTTAAAGTGAGGGGCACGTCTGAGAGCAAGCACTCCTCATCCTGGCGGGCGGTTGGAGGTAGTGGGGGGTCCCCATCCTGCAACTCAGCCCTGGCCAGGAGGGCAGTCCTGGGTTCCTGTTTACGGGGCGTAACTGGCCTGCAGATTGCTTTTTCCAACCATGTGAGAGCCTCTATTCGCATTCCTCTGACTTCAAAACAGGTTTTCTTTCAAGTGAACAAATAGGTCTCATCACATATAAGTTACCTAAATGAGGATTCCTGGAATGTTCCCAGAGACTAAACATCTGAAGATTTTGTGAGATTCATCATTATCAACACCCATGTATGATGCCTGTTTAATTTACAAAGAGGCCTGTGGCTTCTTAAAATACCTTCTACTATTCATCCATCCAACACATTTGAGAGTAGCTGATATTTGCATGTGGGGCACAGTAACACACCACAGAATTCCCTTGAGATGAGAACCCCAGCAGGGCTCAGGAGCCGGATAACTTACCCTAGCCCCACAGCATGCCGAGAATAACCCTGCAAACACCAAACCATGGGCAAGAGTCCCCACAGCTGTGCCTCACGCAGTCCACAGAGCTAAGGGCCTGCGTTACTGCGAGTTGGGGCGGCTGGCCTGCATTCCAGAGAGCATACCCTAAAGCCTGACTCATTCCAGAAGCAGGTTTTCAGGGACAGTCACCTTGCCACACTTACTGTTACCTGTGGCTCCTAGAAGCTGCTGCTGGGACAAGCTCACCTCCCTGATATTGATGTAAACATTCAATAAATGGTGCATACTCCAGCGGATACGTTTGCCCTGTATGGCCCTGAAAGGTCAGATAGATGTCCAGATCCCGTTTGACATTTTCCCCCAAGCCCATAGAGCAGGCCCTCCCACACTGCGCACTTTCTGAATAAAGAAATACTTTTAAAGTGGCCAAGGCTACAAAAGAAAAGGGAAGGTTAAGAGTTATTCCAGGAGGGCAAGGCTGCCTCCTGCTTTCTCAACTCAGGACCTTCTGGGGGTACTGTTTGGCAAGTTGATTTAAAGGGCTCGGCCTTTCTTCTCTCAGCAGGATCTCGGTTCCAACACTCCTTCAGAGTCTGCAGATGTGTCCCCGCCTGATCCCCTCAGCAGCATCCCAGCCATTTGCAAATGAAGCAGCAGCAGCTGGAGACTGGGAAACAGATGGTCTTCCTCATTTGAATGGGTTTGAACGGTCTGCTTGAGGCTCACCAAGTTCAGGCCTGGCCAGCATCTCGAAACCCGTGCAGACGCCTGAAGGCACAGAGTTGTGGCCTGGGGAGCCGGCAGCAATCAGCTGAATGGGAATGACCTGGAGGAAAGGTTCCCCACACTGCCTTCGGGTGGGCGGGACACGGTCCCAGCTGGTTTTGCACCGCAGGACCCAAGGAAGGCAGGTCGGAGCCACAGGGATCACTTTTCTCCTGTGTTTTGCAGAGGAAAGAAAAACTCTCCCTCAGGGGATCCTGAGCCAGAGGACTGAAACCCACATTAATTCAGGACATTCCACGTTAAGAGCCGGCGCCATCACAGTTAACCTTTCTTCCCTGCTCCAAACCGCATATTTGCATAGAGGTAAAAGCTTCAAGAAAACAAACAAACTTTGAAGAGTCACTACCTCTCACAATCCTCCAAAGCAGCATTCAGAGGGAAGCTTTAGATCTCAGAAGGGCTGTGCGCCGGCTCCCACGAATGTAGGCTTTCTGGGACAGGGCATCCCCCAGGCGAGGCACCTGGGAGGAGGCAGAATCCCATCCTGCCCACACCTGGCCTGACTCCCCTGGCCGCCCTCCGGCCATCTCTCTGCCTCCACATTGACCTGGCAAGAAACTCTGCCAATTAGAGGTAGTAACAGAAAAGAGATAGGAAGCAGGCTGAAATGACCCACTCAAATACGGCCTGGAGGCCGCCGGGATGCCCTTGACCGGCCTCCTCACTCGCCACACCTTCAAGGGCAAGCACCTCACAGGAGGGGAGAAGAGGGGCCTCTGAGCCCAGCTGCACGCATTCACTCAACGGCCTCTGCTCCACCTCCATCAACATCAACAGGTGAAGCCAGCAAGGGACAGCAGAGAGGCTAGGCCCTGGAAAATCACCTCACTGGACAAGGGTCAACCTAGCAGGCAAGGTGGCTGGTACTGATGAGGGTCAACCTTGCAATGCAGGTGGGTTTGCTGGGGAATCCAGGTGGGTGCCACCTCCTTAAGGGGAAGACCAGCCTCAGGTGTGGTGGCTAACACCTGTGATCCCAGCACTCTGGGAGGCCAAGGTGGGAGGATCGCTTGAGCCCAGGAGTTTGAGACCAGGCTGGGCAACAAGTGAGAACCCATCTCTACCAAAAAAAAAAAAAAAGAAAAAAAGAAAGAAAAAAGAAAAATCAGCCTGCGCCTATAGTCGCAGCTACTCAGAAGGCTAAGGTGGGAAGACCGCTTGAGCCCAGGAGGTCCAGGATGCAATGAGCTGTGATTGCACCACTGCACTCCAGCCTGGGTGACACAGTGAACAGAGAGAGACCCTGCATTTAAAAAAAAAAAAAAAAAAAAAAAAAGCAGCAGCAGCAGCAGCTTCATAGTCCCAGTCCCTGGGAACTCCTAAACATGGGGCACATGCCTCCGGCCCATGCTTTTCCTTCACAGAATCTTCACCTTTGACTGGACCTAGCCCTTCATTTTTTATTTTTGTTTATTTATTTTGATTTTTTTTTTTATTTTTGAGACAGAGTCTCACCCTGTCGCCCAGGCTGGAATGCAATGGCGTGATCTCAGCTTACTGAAACCTCTGCCTCCCAGGTTCAAAGATTCTCCTGCCTCCGCCCCCCAAGTACCTGGGACTACAGGTGCCTGCCACCACCCCCGGCTAATTTTTGTATTTTTAGTAGAGACCACGTTTCACCATGTTGGCCAGGCTAGTCTCAAACTCCTCACCTCATGATCCGCCCACCTCGGCCCCTCAAAGTGCTGGGATTACAGGCGTGAGCCACTGCACCCAGTCCTAGCCCTTCATTTTTGCAATTATTTGACAAGAGCCTGTCTCCCCCACTCAACTGTTCATTGCTTGCTATTCCATCCCCACAGAACCTGGCACATAGTAGGTCTCAAAAATTATTTGGGGAGCAAATGGATGAAAAAACTCAAAGAAACCACAGCAATTACCCTGCAATCTAAAAATCATGTTTATACCATCTTGCCTCTGCCAAGCTCTGAAAGTTGTCATCGCACGGGGAGCTGCAAATTTAAGAGGGAAATTTGCAGCATCTCCTAGTCAAGAACTCTACGGCCAGGTGCGGTGGTTCACACCTGTAATCCCAGCACTTTGGGAGGCTGAGGTGGGTGGATCACCCGAGGTCAAGAGTTCGAGACCAACATGGTGAAACCCCAGCTCTACTAAAAATACAATTAGCCGGGCGTGGTGGTGCACATCTGTAATCCCAGCTACTCTAGACGCTGAGGCAGGAGAATCGCTTGAACCCGCGAGGCAGAGGTTGCAGTGATCCAAGATCGCACCACTGCACTCCAGCCTGGGTGACAGAGCAAGAGACTCTGTCTCACAAAAAAAGAAAAAAAAGAAAAAGGAATTCTACAACTTTCCTCCAAAACTCAACTCCCACTTGGAAATGCCTGGAACCCCTGAGTGTTCTGCAACTGCTGTACAGGTAGCCAAGAACAAAGTTCAGCTGCCTAAACCAGCCTCGATTCACCTACACATTAGCTGGTACTGGAGTTCACTTTTTATTTTTAAATACCAAACTGATCTTTGCTTGCTTTAAAAATGGGCTCCATTCCCTGGCCTCTTTTTTTCCCCTAAGGACACCCTTTCTGGCCAAGACTGGAAGAAGAGTAGGTGTTTCTGCTTTTGGCCTTTTCATTCTTGGAATTTTTTCTTTTTTGGCTTTCTTAGTCTCTCCTCCTAATCTCTGCAGAAAAGTGACATTAGAAGGGTCAGGTAGTCCTTGGTGCTTGTTTCCATGACCACAGTTCGTGGGAGTCCCAAGTACAGGGGTCTGTCTATGCAGGTAGGCCTTGACTTCATACCCAGTCGTAAATCAGAAATTCTGGGAAGAAAAGCTTGACATAATATCCAAGTGGCAACAGCTGAGGGTTAGCAGGCACTAGGACAAACCAGCAGAGGCATCTGGGACAAGGAATAACTGGGGACGGCCTGCTCTGCTGAGATGGCTCATGCATCAACGGGCAACAGAGGCCAGCCCTTCTTGTTATGGACTCCTACGGTGTGGCGCAGCCTGGACCACCAACTGGGACCCAGTCTCCCATTGGTCTCCTTGGCAGCAGTCAGGGTTAGCCTCTTTCCAATAAGTCACATGCCACCAGAAGCCATTCTAGAAGAATCACAAAGTATAATCATTAAACATTTTTATTGTCTGGAATTTTTCTTCAAATGTCTTTAGGAGAATTCGGTATGGATGTGTGAGAAAGAAACAGAATCAACCAGCAGTGTCCCTAACAGGTTTAATAGTCAAACGACAGATTTAGGAAAGAATGAGGGGTCACCACATTCTCCAGCAAAAAAAAAAAATCCTCCTGCTCAGGAAGAAGGGAAATTTTTCTTACACCAACACATTCACCCAAAGACCTGGGCCCACACTCACTAATGATGAGGTCCTGGAGGAGTCACTTGATCCCCAAGAATTTCAGTTACCTTGTCCATAAAATAAGAACAGGAAAACCCAAGATGTTCTGGGTTATTAAGATGAGAGATAATATATGTTAAAGTACCTAGCACAGAGTCCAACCATGACAGGCACTCAATAAATGGTAGCCAGTTATCATCATCACCATCATCATCATCATCATCTCAAGGAATGGGCTAAAGAAACGTGACCTCATCCATACTGCCCCTACTTCATAGCCTGTCCTACCAAGTAACCTCCATAGGGGTATCATGTGCAAATGCTTGTTCAGCTCCTGTCCACTTCAGTACTGTGGGTCCCATCACAATTTCCTTGAGCTCCCTTCCATGCAGACAAAAATCTCATCTAGGAGTGTTCAGGGGAGGTCACTACAGGCAAACATGGCAAGGATGACCATACCATGTTATGGAGCTCACCTCTCCAGCCTGGCCAAAAGCAGAACACACCACACCGCACCCCACCCCAACCAATCCCATAACCCCTCTCCATCCCGCACCCCACCCCAACCTATCCCATAACCCCTCTCCATCCCACACCCCACCCCAACCGATCCCATAACCCCTCTCCATCCCGCACCCCACCCCAACCGATGCCATAACCCCTCTCCATCCCGCACCCCACCCGAAGAGATCCCATAACCCCTCTCCATCCCACACCCCACCCCAAACGATCCCATAACCCCTCTCCATCCCGCACCACCCCAACCGATCCCATAACCCCTCTCCATCCCGCACCCCACCCCAACCGATCCCATAACCCCTCTCCATCCCACACCCCACCCCAACCGATCCCATAACCCCTCTCCATCCCGCACCCCACCCCAACCAATCCCATAACCCCTCTCCATCCCACACCCCACCCCAACTGATCCCATAACCCCTCTCCATCCCGCACCCCACCCCAAACGATCCCATAACCCTCTCCATCCCGCACCACCCCAACCGATCCCATAACCCCTCTCCATCCCGCACCCCACCCCAACCGATCCCATAACCCTCTCCATCCCGCACCCCACCCCAAACGATCCCATAACCCCTCTCCATCCCGCACCACCCCAACCGATCCCATAACCCCTCTCCATCCCGCACCCCACCCCAACCGATTCCATAACCCCTCTCCAATGTTCTTCGCCGGGCCTAATGGCAATGTGGCAGAGTATTTTGTATTTTGAAGCTTCAAACAGAAAACTCTTTTGCCAAAATACATTGTTCCTCATGAAGTATGTGTCTGCTGTTATTATTACAGAGCTGCAACTGACTTTTTTCAACAGAGGGGAAAAAAAATTTCAACCTTGAACCATTTGGACTGCAAGCAGCAGGATGATCCCATTTCTAAAATCCATGGGACTTGCAAAAGCCCAAGATAATAAAAAGGGTTGGACAAATCCAGGGCCTAGAGCCAGTTTTACATTTTAATTAATGTAAATGCTTCTCATCAGACAATTATCACTATACACTGTAGAGTAAACATCTTATTGGTCCAGGAAATATTGGTAATATTGTAGAGTAAACATCTTGTTGGTCCAGGAAATGTTGACAGGAAGTGGGACAGGGAAGAAATCAGCATTTAATGAACACCTACTCTGGGCCAGGAAATTCAGTAGGGGCTTTACATTTCATTTGCATTTAATCTGCACATTCACCCTTCAAGATAGATACTATCTCTGAGGCTCAGAGAGGTTATCTAACTTTTCTGAAATCACAGCATCAGTAGATAGTAGAGAGATTCAAACCTACCTCCCAAGGTCAAGTTCCCTCTGTTAGTTTATGTCTCCAGAAAGCATACCACATGCCATCCAAAATGATTTTATTCAATTCTATTTTTAAGAATGGCTGATACAGAATTTAGATTAAATGCACAGAAGATTCTTGTTCTTTTAAAAATTTGAGTGGTTTTAAATTTGAAACATTTATAAATGTCCACGATATATATTCAGTTGTGCGTCTATTGCAGCCAGGTAGAAATGCAACATGCATTGGTGGAAATCCAGGAGGCTTAGCAGGACAAGAAGGCTCCTTAAGGCAGCCACACATCTTTGGGGGCAATCCCACTGTCAACTGAAAATCTGAACTTTAAGGGTGTTCAAAGAGTTTAAAACCTAAACTTAACCATTGCAATGATCTTGACATTCATTTTATAGTACACCCCCCTGAGCACATACACACACCATAGATACACACAGTTGGCCTTTTCAATGTCTGGATACTTTTAAAATATTACAACTGGTCACTATGGAAAATTTAACAGTAAACTGTCAGGTATACAAATGGGTCACATATAGTAATATAGGAGCTCAAGGGTTCGAAAATAATCACGATAATTGATATAGAGTTTATTAACGTTAGAGCTCAGAATTGAGTCCTCTCCAAGAAAGGCGCTACATAAATCATACAAATAAATACATCCCTTGTTCTCGTTCTTGAATCTATCAGCATTTTCCTTATAAGCTATTTTTAGCCTCCTCATAAAACACATTCAGCATAACCTGAAACTCTATATGTGTGCATTCCATTCTGAAATGAATTGGAATTTACCATTCTTTAGTTAGACAAGGGGTTAAAGGAAAGAATATACAACAGCTTAGCCCCCTGACTTGGTACTGTCAAAAAGAATCAGAAGTTTTTGAGAGTGGCATGATGTGGCCAAAGTCCACAATGGCGCAGAATTACTTACAGTATTCCAAAGTGGAGTAAATTACACATTCAGCATCTGAAAGCTCTTCCATGGTACCGGTTTCCCAAAACCAAAATTACTGAAAATCTAAAGCACGCCTATTTTACTTGACACACACTCTTCAAGGATGGCCATGGCTTGTCCCAATGATTCATACTTGTGTATAAATATTTAAATGGTAAGAGCTTGAAGTTATATAAATAGAAGTCAGCTACCACATACAAATCACAGTGAGGAAAGAGAAACTTGTAAAAAGTGTGACTTTTGTCTATTACAGAAGGAGACATCTTCAAGACGTGAAGGATCACCACAATGACCTGTCCAGCATCTTGTTCAATCAGACCTCTCCTTAAAAGAACTTAGCCTCTGAATAGCCAAGGCAATCCTAAGCAAAAATAACAAAGCTGGGGGCATCACATTACCTGACTTCAAACTATACTGTGGGGCTACGGTAACCAAAACAGCATGGTACTGGTATAAAAACAGGCACGTAGACCAATGGAACAGAATAGAGAGCCCAGAAATAAGGCCACACACCTACCGCACACCTACGACCATCTGATCTTCGACAAAACTGATGAAAACAAGCAATGGGGAAAAGACTCCCTATTCAATAAATGGTGCTGGGATAACTGGCTAGCCACATGCAGAAGATTGAAGCTGACCCCTTCCTTATACCATATACAAAAAATCACCTCAAGATGGAAGAAAGACTTAAATGTCAAATCCAAAACTATAAAACCCCGGAAGACAACTTAGGCAATATACCATCCTGGACATAGGAATGGGCAAAGATTTCATGACAAAGACATCAAAAGCAATTGCAACAAAAGCAAAAATTGACAAATGGGATCTAATTAAACTTAAGAGCTTCTGCACAGCAAAAGAAACTATCAACAGAGTAAATAGACAACCTACGTAATGGGATAAAATATTTGTAAACTATGCATCTAACAAAGATCTAATGTCCAGCATCTATAAGGAACTTAAATTTACAAGAGAAAAACAAATAACCACATAAAAAGTAGACAAAGGACATAGACACTTTTCAAAAGAAGACATATATACGTCCCACCAGCATATGAAAAAAAAAGCTCATCACTAGAGAAATGCAAATCAAAACCACGATGAGATACCATCTCACACAAGTCAGAATGGCTATTAATAAAACGTCAAAAAATAATAGATGCTGGTGAGATTGCAGAGAAAAGGAAACACTTATATACTGTTAGTAGGAGTGCAAATTAGCCCAATAATTGTGGAAAGCCGTGTGGCGATTACTCAAAGAGGTAAAAGCAGAACTACCATTCGACCCAGCAATCCCATTACTGGGTATATACCCAGAGGAATATAAATCATTCTACCATAAAGACACATGCACACAAATGTTCATTGCAGCACTATTCACAATAGCAAAGACATGGAATCTACCTAAATGCTCATCAGTAACAGATTGGATAAAGAAAATGTAGTACATATACAACATAGAATACTATGCAGCCATAAAAAAGAGCAAGATCATGTCTTTTGCAAGAACATGGATGGAGCTAGAGGCCATTATCCTTAGCAATAAACCAAATACAGAAAACCAAATACTGCATATTCTCATTTATAAGTGGGAGCTAAATGATGAAAACTCATGAACACAAAGAAAAGAACAACAGACACTGAGGTCTACTTGAGGGTGGAGGGTGGGTGGGAGGAGAGAGAGGAGCAGAAAAAATAGCTATTGGGTACTGGGCTTAATACCTGGGTGATGAAACAATCTGTACAACGAACCCCCATGACACGAGTTTACCTACATAACAAACCTTCACATGTACCCCCAAACCTAAAATAAAAGCTAAATTTAAAAAAAAAAAGAACTTGGCCTCAAGTTCTTGACCAAACTACACTAAGAAGGCAAGTCAGGGAGGAAGATGGTGTGGTAAAGATGGGGTATGATTAGCAACACCAAGCATTTCAATGCTAGGAAAGCTAAAAAAAGTAGAGCCATCTCTAAATCTCATGGGATACAGCAAAAATCTCTAAATCATATGGGATACAGCAAAAAGATGGAAAAAAATGCAAAACTTAAGGCTAGGACAGGTGTGGTGGCTCACACTTGTAATCCCAGCACTTTGGGAGGCCAAGGCTGCCAGGAGTTGGAGACCAGCCTGAGCAACATGGCGAAACCCCATATCTACGAAATATTTTTAAAAATTATCCAGGCCTGTAGTCCCAGCTACTCAGGAGGTTGGAGGACCCCTTCAGCCCAGGAGTCCGAGGGTACAGTGAGCCACGTTTGACAATGCAGTGAGGGTACAATTGCACCATTGTACTCCAGCCTGGGTGGCAGATCAAGACTCTGTCTCAAAAAACAAAAACAAACAAAAAACCAAAGGCTAAAATCATCTCTCAAGGAAAAAAAAATAGAGACCATAAGCATTTTGCACAGTTGCATAAAACCTACTGGATCAGAATTATCTGTGGAATAGCCTAAAAAACTTCCAAAAAATAATTTCTGAACTGCCTACAGAGATGTCCCCCTGGCGAGAATCGGACCAGTACAGTGGAGAGTAGCACACCAGCTATATTTCCTACCTAGCTTAACAGCCAGGCACCCAAAAATCAATTTCCCATGTTTTCCTTTAATGACTAAAATTCGCTTCCATGGAAATGTAAGGGTAAGCTAGATTAGAGGGAGTTTTTAACAATTACCCTGGCTAAACAAACACCTAAACAACAGTCTGCAAACTGGAAGACTAGTGGATACATTTTATTGAAACTACGAACATTAAACAAAACACTTCCAGTTTAAACACGACCCCAGTTATTTCATAGCCATGTAATTATTTGTTAAGTCTGATATTAAAAACATCTCATATTGGATTGCTGTGGTTTTGTGAATTCTCACCCTCAACTGGGTCAGAAAGACTTGAAAGGAATAAAGTCTTTACTTATGGCTTGATGCGGGGCCATTGGCATAGTAAGTGCTCTGTCTTTTAACTGGTTGAAATAAACAGACAAAACAGAAACACACACATATACCCCAAATTTGAATCAGAGAGAGCCAGTATAAAATGATACAAGTACCAGTTCTCTGGGCTTGCCAGATTTCTGCTCTATAAGTAATATTAAACATGGCTCTTGGTCTATGAATTGTGAAACACTTTATATACTAATAAAGAATGTGTACTTCATTGTGTATTTAACTGCGTAAGCCTGTATTTGGTTTAATTGACCAAGAATAAGTCCTTGTTCCAAAGCTAACTATCAAGTTACAGTCAACTCTTAAATATTAACACTCATATTGAAAAACAAAGATGCAGATAATACGAAACAGAAGATTATTTTAAATCATTCACTCTTGGTATGCGGATATATTCTTTCTTCCTTTCTTTTAACTTGCAATTAAATGCGTATGGTTAATATTATGGCATTTACAATACTTCTAACAAAGGACTTAAACCATACTGGAAAAATCTGACTTAGGGAGGTCTCTGTGTAGATCCTGTCCTCGACGTTTCTGCTACTGAACTCTGGACCAACTCACGTTGGTCCAGGAGAGCATCACCTCTCAGAAGATTGACAAAAAATTGCTACACAAACTACATTTTTTTTCAGGTTGTTACTTTTCAGAGTCACACTCTGTGGAGGGTGGGAAAGTAATTAAGGGTGTAGGGTTGAAAAGCCCTTTCATTTTAGCTCCTACTGGGTTGGTGTAAACAAAGATGCCATTAATGTCAACAATGACTTAATTAACCAGAGTAGGTGACAATGTCAGGAAGAACTTGAAAGTAAGAGTTGCCCCCTCTCAGGGTAATCAAGCTTGACTAGACTTCAAATATTTATAATGTTAATCAACAGAATAGTACTTGGCATTGAGGACTGCCCCCCTTCGAGTCAATAACCATGTTTTCACTCCTCTGCTGGTGCCCTATAACAATGAATGACCAAAAGGAAATTAACAATGAATGACCAACTGGAAAACTCATATTTAATCTGAAATATTAAAAACTAAAATCTTCTAGAGATTATTTTCTTAAGTCAATTGAGTGGGCCCAACCCCACTGCTACTATTTCAGAACGTGTCCAGAAGACAAATGATATATATGATATATGATATGACATATGATATGATACGATATTGCACAAAGCCAAGATGACTAAACATAACCTTTCCCTGAGGGGCCAAAAGAAAAGGACCCTCTAGTGTTAGGGCCCAGGCTTCTTCCTGGAACTTCTCAGTCACATTTTTCTCCTATCCAATAGACATTATCTAAACTGAGCTTCCAAATAAATTAGCAAACCAAAAAGTCTTACAAGATAAGACCTTGGTGCACAGAAGGTCAAGGTGGAACTTACTGCTAACCAAAGCTATAGTAGTTCTAATCATGGAGAACTGATGGACAGGGGCACAGGCACGCACGCACGCACGCGCACTCGCGCACACACACACACACACGCACACTCTCTCTCTCTCTCTCTCTCTTCCAATTCACCAGCACAGAGCCTAAACCTGAGCCCATTTTCAGCTGTTAAAAACTCCTTTCTCATCTATAATTCAATGACCTTCCTAATCACCTCTGACACCAAAGCGAACTCCTGCAACAGAAGAACTGGTCTTAGGGCTCAAATCAGTGGCCAGTATTAGACTAACAGATGAGGGGAAGTGGGGACCCTACAGAAAGCAAACACAGCTTCCTGGAAACACCAAGGGCCTCCTCCATCCAAAAACAACTTTCTTCTCAACTGTCTCCAAAAGCCTAGATGTTTTTTGACATTGTGGCACCTGGCACAGCCAGCCCACGGGACTGGGAAGACCCATGTTCCCAGCTCCCTGGCGACAACGGCGACAAGGCCATGCACCCGGTGCTTACTGGATGCCAGCCCCTGTGCTAATTGCTCTTTATGTCCAGGTCAAATGGAAATCTCCTAACAACCTTTTGGTGGAAGAGTCAGAAGACTTCTGAGGACATTAATATTCAATGACTATTAATGAAGAGACCCTAAAGATCATCTTCTTAAGCCCTCAGACGACAGAAAGGGAAACTGAGGCCTGGGACTTGTATACTTTTCCAAAGCCTCTTCTTTGCCAGGTTTTGCACCTTCCTCTAAGACATCTTTTCTTTTCCATCTCATAATTCTGGATGCAAATGAACTCATAGCTCATGGAAACTATAAACCCATAAAAATGCACAAAAGGACATTAACAAAATATTACCTAAAATTTCCAGAACTTCATCGACCTCCTTCCTGATCCATAAGTGCATCCACAGATCCCAGGTTGAGCAGGCCTGCTTCCAACAATACCCACATTGTTGGATGTAAATTCTTACACAAAGACTCACTCGGGGAACTTCGTCCCTTTCCACGATTTCTTCCCTCTGCCTCACCTGTCCCTCCCTGCATGTATACACAATTTTAAACTTCCTTCAAGAATTAAATACAGTAAAACAAATCCTCTGGGACCATTTTACACTTTATGTTGAAATAAACTCACAATAACGCTGCCCTGAAAAGCCAAAATGAAAAATGACAGTTTTTCCCTAACCTGGGTTGCTCCTAAAGCCCACACCGTAGGAAATCCCAGCTCAGCTTCCTCAGTTTTTGCCGAGCCACGCACTCAAGGGAAAACCAGCAATCACGGAAACATCCATTTTAATTATTAGCAAAATTAAAGACGTACAGGCATGACTTTCAGAAACCAGGAACTTTTTCCCTCTTACATGAAAGCCCTGTAAAAATGCATCACCACTGCAAATTACACTCATCCTGGTGTCCCAGCACAAATCACCAAGAGGCAGTTCCATAATCGGCCTGTAGCTGTAGCTATACAAGCCTCAGACACAAACTCCTACCAGATTCCCTTCCCAGAGACGCAGGGAGATGTCACCACACCTGTTAATTATAGAGCTGCCATCCCTCTGTGTAACGAAAAGTTCCCCAGTCTCACACGATTGCTTCAGGTGATAAGTGCTTCGGTCCTCATCCTTCAATGACAAGTGCCTGGGGTCTTCCTGGGGAGCCCATGTCTCTCAGAACTCTCATCTCAGATGGACGCAACCCTCCTTCCTAAACTGTCCTGATCCAGCTAAGGAGGCTGGGCTCTCTGTCCTCTCCCAGCCTACCCCACTGGGTAAGTGTGCTGTTCATTCACCCCACGCACGAGATGTGTTCCCAGAGCAGCTCAGCTTACCCCAGACACCACTCGGACTGCTGCGGGTTCCTAAAGCCAGGCAGGCACCAGGTGGACTCTCCACAAACAGGTTCATTAAGTGGCGATGAGTGCTGGGATCTGCCGTTTTATTCTCGGATTACCACTCGAAAAATAACTCAGCTACCAATATTCCCTACTGATGACAGATTTCAGTGCAGCACCAAGTAGAGGCTTGGCTCACGTTGTCTCCAAAGGGCTGGGAGAGAGGTTCCAAATCTGCTAAGCTGAATAATTCAGCCTCATGTAGTCCTCGTAATTGGACTTACACCTTGAAAATTAAATTTCCAAAGCTGTGACACCGGCGCATGCCCTGTGATACTTGGAGGTTCTCGGAGCTGGAGGAGATCCCCTGGCACATTCACTTTCAAGTTTACCTAAACTAGAATCTGCCACTCTGTGATGATGCATTGCTTAAGTATTATGAATTACAATGGCTAAAAAAAAATTCTGAGATGTCAAGCCTCTCTCTCTGTGCTAAACTTCAGAAACTTCTTTTCTCCTTAAACAATGAAAATAAGATGTCAGCATTTCAGATGTTGGCAATTTCTTTTAGTGGTTCATCTTGTCCGAAAATAGCAATTCTTTACATTGTAAGCAGTAGGAATGATGCTGGGGGAGACTAGAGATGACATTCATCCTCCCAAGGTTCATCCCTTCCACAGCTCTCTCGGGCACTGGATAAAGGCCAACTCCCAGCTGTCTCCCTCACCCAGCACAGAGAAACACACACAGCAAGAAACCACCAAACTATACCATCCTGCCTGCAGTGCTGCGGCAAAGGACCTTCTCTCATCAGCTCTGCCTTGCCGGGAGCCAAGAGACCACGATCTGGTGCTCTTAGAAGCCCCATTTACAATGCAAGGGTAGCTGATTCTAAAACAGGCCTTAACAATCTGCCCCCAGACAAATCCCAAAACAAACCTGAAAAGTGAAATTAAATGACTTACCTTCTGGCTCTAATGTGGTATCCTCAACTAAACTGAAGGAGGGCCGGGCCAGGGACAAGGTTGCCATGGTGACCACGACCAGGCAGATGAAACGACCCCAGCTGACCATGGTTACGGTACCAATCCCCGGTCCTCTTCCATATCTCCATGTGGACGTTAATCCCATCTGCACACTTCCTCTACGGGCATGGACTACGCGCAATGCCTTCAGCCTGCGGTGGGCTCAGGAACCGAGGCGCTGCCGCTGCTGCTGCAGTCACTAAAGGAAAGAGATTGGCGAGTCAGGGAATCTTCCCCAATGCCAAATCACTCCAGCCCAAGTGGGATAAAACCATTTTTCAGCCTCTCAAATGTGCGCAAACAGAGTTCTTTTTCATTATCTGCTAAATCCTTCCATCCTCACCTCAGAGTCCCAGGTGATACCACCAGACCGGTCCACAGAAATGTGTGAGGCTAATCTTTTTAAAAGCATACTTTTAAGAAACAGAGATAAAACAGTAGCTACAGGACTCAGATACGTGCAGCCACTTCAGTGAGGCAATGTGTGCTCTCTTCTACTATCCACTATCGCCTCCACCGCCCTCAATGAGCAGAAGCAACGTGACCTTAGTTTCAAGGGCAACTACAAAAGCAAGTTAAAAATGCTCGGGTTGGCATAACCAACCTCGTTCCCTTCTCTTAGTCCAACTGGGCTTTAGAAAGCTAAACTGTTGGAGGAGTCTGCTCACAGCTCCGTATTTCTGCTGGGCTGGAGGTGAGCAGTCTCCCACCCTCACTGTCGCTCTTGGGAAGAAAGGAGACCAGCAAAATCAAAAGAATCCCAGGAAGGCTACAGAAAATTCCCACCAGTTTACACTTGTCAGGATTCATTTTCAAATGGAGAAGTGTCTTTCAGTCTTCCGCCAAGCAGCCACTTACGAAGAGTGAACACAACTGCAGCGCATTCAACGCAGCTGATCCAAAAAGGACTTCGAAGCCTGAATTCCCTTCCCCTGTGACTAAATGGCAGTCCAGGGCTGCTAAATGTCTTCAACCTCTGTAGAAGGGTGAGGAAACTGAGCAGATGCAAATTCTGATGAATAATGCAGGAATTTATTAATAATGATGATGTAAATTATGTAAATTATAGTCATGGTATGTGATTGGACCAATAACTTTCCATATGCAAACCTACTGGCTAAATTTTCAGAGTATAAGTTAGAAGAGGACACTCAACTTAATATTCTGTTCACCCATTTGATCCAAGGGAAAGAGAATTTTCCAAGAAAGCTTAATATATTCCAAGCAACTTTAAATTCACTCAGTACTCTCTGTGACTAAGGGTACAGTAAAATGCACAAACTTTAGAGAATGATTAAAACAATCACAAGAAGGGGCTCATCAATCTCAGGCTTCAGATTCTGTGAACCACAGGAATGAACCACATTTTCTAAGACTGGGGGTGGCAGGGAGGCCTTTAATACAAAAATCTCTAAACTCTACATTTTTTATGTACCCACTCGATGTTTCAAGTTATGTCATAGGATTTCAACACTGCTGGAGCCTCCCCAAATCTCATCATAAAAACTGCTCCTTTTAGCTTTGACTGAGGACAAAAATGGAGGAGGGAAAAGAATATGCCACATCATTTCCAAAGGAGGAATAAAGAAAACCTCTGCTTCAAAGATAGCACAGGTGAAACGGTGTGATTCACAGCAAAAGCAAGAAAAGTATGTGTGCAGTGTGTGTGTGTGTACACGGTGTGTGTGCGTGCATGGTGTGTGTGTATGCACGGTGTGTGTGTGTACATGGTGTGTGCGTGCACGGTGTGTGCATGTGCTTTCAGATAGCTTGAAAGATTTTTCCTCTTAACTTTTCTTTCCTCTTAGTCAAGAGCCTCAGAAGATAATTTCGGATCTATTTCTACATACATGTGGGAGGAAAGTACACAAACATTCTCATTGATTTACTAAGCATTTGCAGAATGCAGGGGAATTTTCTACCTCTAACACGACTTCAGGAACAATCCTAAGTCCTCGCAGAGGTTTCACCCCAGGCTCCTTCCCCGGCCTGCTCGCCCACCTGTCCCTGCCCAGAGGAGCCTCCTTGGCTCCAGGCAGAGAAAGGTGGACAGGGCGCTCCGCTGAATCTCAAGCCGTTCCATCATCCCGCTAGCTGGCACTAGAAATTTGCATTTCAGCCATTTCCAGGTCCAAACCCCACGGCAGCCCCCTCCCCAAAACTCTGGAAGGCGGAGACCTAAGGCGACAGGTCTGCACAGTTCCTCACACCAGTGGACAAAAGTATGGTGCGACCTCCTAGGCAGGATAATTAGGTCCCCAGGCTCGGTGTTGGGAATACAGGCCCAGCATGCCGCTGGCGGCCACAATCCCGGCTTCCTGCCTTCAATACCATAATCCTTCCTGGAGTCTGAGCCCCAGTGAAAGCCCCAGCGTGTTTATTTTTCCCCTTGAAAGGGAACTCTCTTCTCAGCCTGCACGCGGGAGGAGTTGTCACCCTCCCTCTGATGGATGGCTCTTCTCGGCCGCCCGCCCCCCGGTCCATTTTCACCTCGGCACAAGCCTGCCCCCAAAGACAGGCAGAGTGACAAGCAGGAAGGGCTTGGCTGCGGAGCGGTCCCCATGCCAGGCCTGTGCTGGGCTCTTCAATTTACCATGACATTCCCAAAACCCCCGCCCTCCAAGAAGGCAGACCAATACAGTGCCCTCCGCTTTGGGCTTCCACCTAAGGGGTGATCTGTCCACTGCTGGCTCGGCCACTGGGATCACCTGGTGTTTTGTTCCTGGGTAGATTTCACATCAGGAAAGTCAACAGTGTCCGGCTCCTCCAAAGTGCAGACCCATCTCTTCGCTTAAGGCCTCCCTACTTCTCCCCAGCACTGAGTAGGAGCGGGAGCTGTCAAGGGGTCAAGGCTAGGGGGAAATTCCTCAACAAATTGAAATCTCAAAAAACACACACTGACCCAGGACCACAAAGCCCTCCCGGTTTAATGCTTGCGTCCAATCAGAACTTGCGAGCAGCTTGGGGGTGCTCCCCACCACCACCCCCTTTCAGGGCAGCACTTCTTTCATTTGTTTGCCTGAAATATCCTGTTTTTCTCCCCCTTCTCGGGGCGCTAAAGAGCTCAGAGAAATCTGCATTTTAATTGACATTCCAGGGAAAGAGAGAGGGGCGCCTGATTGCTTTTCTATTCAAACTAAACAGGCTTTTCAGATGAAAATGAGTCGAGCCCGGTGGAAGATTTACAGGGATTTGGGACCAGGGAGACAATGGAGTTTTAAATGTTGATAGCGTTTCACACCAAACACATAATGGGTGCCCTGAGTTTGAAAGCAGGTTTGCCTTTAAGGGTAGGTTTTATTGAATTGGGAGAAAGGAAGGAGGGTCTGGAGAACGGTCTGCAAGGGAGCGGGGTGCGAGGAGAGCGACGGAGGCTGGTGGTCCCCGAGCGGGCCTCCTGCGCCAGGTCCGTGGTCCGCGAGGGTCGGAGCCAGCGCCACGCAGGGCCCTCGGCTTTTTTCCCCAGCGCGGCCCCGTGGCCGAAAAAAATGAGCGCGCAAGTTAGAACTCGCCTGCGCTTTCGACATCTCCCAGCCGCTGCGGCAGAGCAGGCAGGCGAACTAGAAAAAGTCGGTCCAGTTCGCCCCCTAGCCCCAGGCGCACTGCGCTCCCTCCAGCGCCGACGGCGGCTGCGGGCGAGGGGCGCCCAGGCACCGGAGCCGTCGCCTCCCCAGCAGTGCCACCCCTGGCCATCGCCACCCCTACGGGATGTCACCGGCCCCACCCCAGCGGCCCCCTCCCGAAAAAGGGGTCTCCGCAGGGCCTGGATGGTACGGAAGTTCCCAGGACACACGGATGGGGCACCTCGGAGATGACCCCGGGAACCGGCCTGCGGGGCTGTGCCACGGGCAGGCGAACCTTCCGCCCGTCTGCTCTGGGGTCGGAGAAACGCGCCCAGTCAGCGGGAATGCGCCCGCCAGGGTTTGACAGGGAGGGGGGCGTCAACGCCAGAAGCAGATGTCAGCATCTGGATGGGGGTAGCAGAGGCAGAACTTCCAGAACGCCGGCCGTCAGCACGCACCCACCTCCCCCATCACCTATGCAGCCACAGAGGGAGGACACGGAGCGTCCTCCACAATGCTAGTCCTTCCGCGCCCCCCGCCCGGAGGACGGTGCACCCGGCGTCCCGGGCTCCCGTGGCGCCCACGTCCCCGGCTGGCGAAGCTCCCCGAGGCGTCTTGCGCGGCGATTACCTTGAATGGCAACGCTCCTCCGCGACCTGTGTTGTCCCCGCGCCCCGCGTGGGTCGGGATGGAGAAAGCGACGAGCCCGGGGTTGCGGGGAGCAACTCCAAACGCAGAAGAGTGGTCCTTGGGTCTTCGCCGGCGCCAAGCCTCCCGGGCTTCACGCGTACCCCAGGCTGCGGAGGAGCGCGGGCATGACGCCCGCGGGCTGCCCTCGGATTTGGGGAACGAGAGGAAGAAAGGACTCAGGCTTGGCGTTGCCTCCACCAAACTTTGCTCGCGAGTTGCGAAGGCTCAGAGCGCGCAGGCAAGCTGCGGCCTCGGGGCCCCCGGGGCTCGCGGCCGGCCCCCGCCAGCCCGGAGAGCAGTCGCCGCGCCGGGCCAGGTACGCCGCATGCAGCCCCGCGGCGCCCGAGCTTTGTGGCGGCCGCGCGCGCTCCCTCGCCCGCTCCGCACCCGCCGCCCGCCCGCTCGGCTCTCCACCGCGCTCTCCTCCAGCCGCCGCC\n",
      "CPU times: user 1.33 s, sys: 397 ms, total: 1.73 s\n",
      "Wall time: 13 s\n"
     ]
    }
   ],
   "source": [
    "%%time\n",
    "gene_seq = get_dna_sequence(gene_list)\n",
    "print(gene_seq)"
   ]
  },
  {
   "cell_type": "code",
   "execution_count": 17,
   "metadata": {
    "colab": {
     "base_uri": "https://localhost:8080/"
    },
    "id": "da2N2afTE4pb",
    "outputId": "52d8f6b7-d2f7-4420-dd6e-31c4391987bb"
   },
   "outputs": [
    {
     "data": {
      "text/plain": [
       "120128"
      ]
     },
     "execution_count": 17,
     "metadata": {},
     "output_type": "execute_result"
    }
   ],
   "source": [
    "len(gene_seq)"
   ]
  },
  {
   "cell_type": "markdown",
   "metadata": {
    "id": "gfOgE0LcP0sv"
   },
   "source": [
    "__Так как ген FGFR2 находится на отрицательной ветви 10 хромосомы нам необходимо комплементарно перевернуть последовательность. Создаем новый объект `plus_strand_seq` которым является комплементарный участок положительной ветви.__"
   ]
  },
  {
   "cell_type": "code",
   "execution_count": 18,
   "metadata": {
    "colab": {
     "base_uri": "https://localhost:8080/"
    },
    "id": "ITwXDQJ3Nqce",
    "outputId": "29f6b6c2-e04e-4466-8530-8edb657df7a3"
   },
   "outputs": [
    {
     "name": "stdout",
     "output_type": "stream",
     "text": [
      "GGCGGCGGCTGGAGGAGAGCGCGGTGGAGAGCCGAGCGGGCGGGCGGCGGGTGCGGAGCGGGCGAGGGAGCGCGCGCGGCCGCCACAAAGCTCGGGCGCCGCGGGGCTGCATGCGGCGTACCTGGCCCGGCGCGGCGACTGCTCTCCGGGCTGGCGGGGGCCGGCCGCGAGCCCCGGGGGCCCCGAGGCCGCAGCTTGCCTGCGCGCTCTGAGCCTTCGCAACTCGCGAGCAAAGTTTGGTGGAGGCAACGCCAAGCCTGAGTCCTTTCTTCCTCTCGTTCCCCAAATCCGAGGGCAGCCCGCGGGCGTCATGCCCGCGCTCCTCCGCAGCCTGGGGTACGCGTGAAGCCCGGGAGGCTTGGCGCCGGCGAAGACCCAAGGACCACTCTTCTGCGTTTGGAGTTGCTCCCCGCAACCCCGGGCTCGTCGCTTTCTCCATCCCGACCCACGCGGGGCGCGGGGACAACACAGGTCGCGGAGGAGCGTTGCCATTCAAGGTAATCGCCGCGCAAGACGCCTCGGGGAGCTTCGCCAGCCGGGGACGTGGGCGCCACGGGAGCCCGGGACGCCGGGTGCACCGTCCTCCGGGCGGGGGGCGCGGAAGGACTAGCATTGTGGAGGACGCTCCGTGTCCTCCCTCTGTGGCTGCATAGGTGATGGGGGAGGTGGGTGCGTGCTGACGGCCGGCGTTCTGGAAGTTCTGCCTCTGCTACCCCCATCCAGATGCTGACATCTGCTTCTGGCGTTGACGCCCCCCTCCCTGTCAAACCCTGGCGGGCGCATTCCCGCTGACTGGGCGCGTTTCTCCGACCCCAGAGCAGACGGGCGGAAGGTTCGCCTGCCCGTGGCACAGCCCCGCAGGCCGGTTCCCGGGGTCATCTCCGAGGTGCCCCATCCGTGTGTCCTGGGAACTTCCGTACCATCCAGGCCCTGCGGAGACCCCTTTTTCGGGAGGGGGCCGCTGGGGTGGGGCCGGTGACATCCCGTAGGGGTGGCGATGGCCAGGGGTGGCACTGCTGGGGAGGCGACGGCTCCGGTGCCTGGGCGCCCCTCGCCCGCAGCCGCCGTCGGCGCTGGAGGGAGCGCAGTGCGCCTGGGGCTAGGGGGCGAACTGGACCGACTTTTTCTAGTTCGCCTGCCTGCTCTGCCGCAGCGGCTGGGAGATGTCGAAAGCGCAGGCGAGTTCTAACTTGCGCGCTCATTTTTTTCGGCCACGGGGCCGCGCTGGGGAAAAAAGCCGAGGGCCCTGCGTGGCGCTGGCTCCGACCCTCGCGGACCACGGACCTGGCGCAGGAGGCCCGCTCGGGGACCACCAGCCTCCGTCGCTCTCCTCGCACCCCGCTCCCTTGCAGACCGTTCTCCAGACCCTCCTTCCTTTCTCCCAATTCAATAAAACCTACCCTTAAAGGCAAACCTGCTTTCAAACTCAGGGCACCCATTATGTGTTTGGTGTGAAACGCTATCAACATTTAAAACTCCATTGTCTCCCTGGTCCCAAATCCCTGTAAATCTTCCACCGGGCTCGACTCATTTTCATCTGAAAAGCCTGTTTAGTTTGAATAGAAAAGCAATCAGGCGCCCCTCTCTCTTTCCCTGGAATGTCAATTAAAATGCAGATTTCTCTGAGCTCTTTAGCGCCCCGAGAAGGGGGAGAAAAACAGGATATTTCAGGCAAACAAATGAAAGAAGTGCTGCCCTGAAAGGGGGTGGTGGTGGGGAGCACCCCCAAGCTGCTCGCAAGTTCTGATTGGACGCAAGCATTAAACCGGGAGGGCTTTGTGGTCCTGGGTCAGTGTGTGTTTTTTGAGATTTCAATTTGTTGAGGAATTTCCCCCTAGCCTTGACCCCTTGACAGCTCCCGCTCCTACTCAGTGCTGGGGAGAAGTAGGGAGGCCTTAAGCGAAGAGATGGGTCTGCACTTTGGAGGAGCCGGACACTGTTGACTTTCCTGATGTGAAATCTACCCAGGAACAAAACACCAGGTGATCCCAGTGGCCGAGCCAGCAGTGGACAGATCACCCCTTAGGTGGAAGCCCAAAGCGGAGGGCACTGTATTGGTCTGCCTTCTTGGAGGGCGGGGGTTTTGGGAATGTCATGGTAAATTGAAGAGCCCAGCACAGGCCTGGCATGGGGACCGCTCCGCAGCCAAGCCCTTCCTGCTTGTCACTCTGCCTGTCTTTGGGGGCAGGCTTGTGCCGAGGTGAAAATGGACCGGGGGGCGGGCGGCCGAGAAGAGCCATCCATCAGAGGGAGGGTGACAACTCCTCCCGCGTGCAGGCTGAGAAGAGAGTTCCCTTTCAAGGGGAAAAATAAACACGCTGGGGCTTTCACTGGGGCTCAGACTCCAGGAAGGATTATGGTATTGAAGGCAGGAAGCCGGGATTGTGGCCGCCAGCGGCATGCTGGGCCTGTATTCCCAACACCGAGCCTGGGGACCTAATTATCCTGCCTAGGAGGTCGCACCATACTTTTGTCCACTGGTGTGAGGAACTGTGCAGACCTGTCGCCTTAGGTCTCCGCCTTCCAGAGTTTTGGGGAGGGGGCTGCCGTGGGGTTTGGACCTGGAAATGGCTGAAATGCAAATTTCTAGTGCCAGCTAGCGGGATGATGGAACGGCTTGAGATTCAGCGGAGCGCCCTGTCCACCTTTCTCTGCCTGGAGCCAAGGAGGCTCCTCTGGGCAGGGACAGGTGGGCGAGCAGGCCGGGGAAGGAGCCTGGGGTGAAACCTCTGCGAGGACTTAGGATTGTTCCTGAAGTCGTGTTAGAGGTAGAAAATTCCCCTGCATTCTGCAAATGCTTAGTAAATCAATGAGAATGTTTGTGTACTTTCCTCCCACATGTATGTAGAAATAGATCCGAAATTATCTTCTGAGGCTCTTGACTAAGAGGAAAGAAAAGTTAAGAGGAAAAATCTTTCAAGCTATCTGAAAGCACATGCACACACCGTGCACGCACACACCATGTACACACACACACCGTGCATACACACACACCATGCACGCACACACACCGTGTACACACACACACACTGCACACATACTTTTCTTGCTTTTGCTGTGAATCACACCGTTTCACCTGTGCTATCTTTGAAGCAGAGGTTTTCTTTATTCCTCCTTTGGAAATGATGTGGCATATTCTTTTCCCTCCTCCATTTTTGTCCTCAGTCAAAGCTAAAAGGAGCAGTTTTTATGATGAGATTTGGGGAGGCTCCAGCAGTGTTGAAATCCTATGACATAACTTGAAACATCGAGTGGGTACATAAAAAATGTAGAGTTTAGAGATTTTTGTATTAAAGGCCTCCCTGCCACCCCCAGTCTTAGAAAATGTGGTTCATTCCTGTGGTTCACAGAATCTGAAGCCTGAGATTGATGAGCCCCTTCTTGTGATTGTTTTAATCATTCTCTAAAGTTTGTGCATTTTACTGTACCCTTAGTCACAGAGAGTACTGAGTGAATTTAAAGTTGCTTGGAATATATTAAGCTTTCTTGGAAAATTCTCTTTCCCTTGGATCAAATGGGTGAACAGAATATTAAGTTGAGTGTCCTCTTCTAACTTATACTCTGAAAATTTAGCCAGTAGGTTTGCATATGGAAAGTTATTGGTCCAATCACATACCATGACTATAATTTACATAATTTACATCATCATTATTAATAAATTCCTGCATTATTCATCAGAATTTGCATCTGCTCAGTTTCCTCACCCTTCTACAGAGGTTGAAGACATTTAGCAGCCCTGGACTGCCATTTAGTCACAGGGGAAGGGAATTCAGGCTTCGAAGTCCTTTTTGGATCAGCTGCGTTGAATGCGCTGCAGTTGTGTTCACTCTTCGTAAGTGGCTGCTTGGCGGAAGACTGAAAGACACTTCTCCATTTGAAAATGAATCCTGACAAGTGTAAACTGGTGGGAATTTTCTGTAGCCTTCCTGGGATTCTTTTGATTTTGCTGGTCTCCTTTCTTCCCAAGAGCGACAGTGAGGGTGGGAGACTGCTCACCTCCAGCCCAGCAGAAATACGGAGCTGTGAGCAGACTCCTCCAACAGTTTAGCTTTCTAAAGCCCAGTTGGACTAAGAGAAGGGAACGAGGTTGGTTATGCCAACCCGAGCATTTTTAACTTGCTTTTGTAGTTGCCCTTGAAACTAAGGTCACGTTGCTTCTGCTCATTGAGGGCGGTGGAGGCGATAGTGGATAGTAGAAGAGAGCACACATTGCCTCACTGAAGTGGCTGCACGTATCTGAGTCCTGTAGCTACTGTTTTATCTCTGTTTCTTAAAAGTATGCTTTTAAAAAGATTAGCCTCACACATTTCTGTGGACCGGTCTGGTGGTATCACCTGGGACTCTGAGGTGAGGATGGAAGGATTTAGCAGATAATGAAAAAGAACTCTGTTTGCGCACATTTGAGAGGCTGAAAAATGGTTTTATCCCACTTGGGCTGGAGTGATTTGGCATTGGGGAAGATTCCCTGACTCGCCAATCTCTTTCCTTTAGTGACTGCAGCAGCAGCGGCAGCGCCTCGGTTCCTGAGCCCACCGCAGGCTGAAGGCATTGCGCGTAGTCCATGCCCGTAGAGGAAGTGTGCAGATGGGATTAACGTCCACATGGAGATATGGAAGAGGACCGGGGATTGGTACCGTAACCATGGTCAGCTGGGGTCGTTTCATCTGCCTGGTCGTGGTCACCATGGCAACCTTGTCCCTGGCCCGGCCCTCCTTCAGTTTAGTTGAGGATACCACATTAGAGCCAGAAGGTAAGTCATTTAATTTCACTTTTCAGGTTTGTTTTGGGATTTGTCTGGGGGCAGATTGTTAAGGCCTGTTTTAGAATCAGCTACCCTTGCATTGTAAATGGGGCTTCTAAGAGCACCAGATCGTGGTCTCTTGGCTCCCGGCAAGGCAGAGCTGATGAGAGAAGGTCCTTTGCCGCAGCACTGCAGGCAGGATGGTATAGTTTGGTGGTTTCTTGCTGTGTGTGTTTCTCTGTGCTGGGTGAGGGAGACAGCTGGGAGTTGGCCTTTATCCAGTGCCCGAGAGAGCTGTGGAAGGGATGAACCTTGGGAGGATGAATGTCATCTCTAGTCTCCCCCAGCATCATTCCTACTGCTTACAATGTAAAGAATTGCTATTTTCGGACAAGATGAACCACTAAAAGAAATTGCCAACATCTGAAATGCTGACATCTTATTTTCATTGTTTAAGGAGAAAAGAAGTTTCTGAAGTTTAGCACAGAGAGAGAGGCTTGACATCTCAGAATTTTTTTTTAGCCATTGTAATTCATAATACTTAAGCAATGCATCATCACAGAGTGGCAGATTCTAGTTTAGGTAAACTTGAAAGTGAATGTGCCAGGGGATCTCCTCCAGCTCCGAGAACCTCCAAGTATCACAGGGCATGCGCCGGTGTCACAGCTTTGGAAATTTAATTTTCAAGGTGTAAGTCCAATTACGAGGACTACATGAGGCTGAATTATTCAGCTTAGCAGATTTGGAACCTCTCTCCCAGCCCTTTGGAGACAACGTGAGCCAAGCCTCTACTTGGTGCTGCACTGAAATCTGTCATCAGTAGGGAATATTGGTAGCTGAGTTATTTTTCGAGTGGTAATCCGAGAATAAAACGGCAGATCCCAGCACTCATCGCCACTTAATGAACCTGTTTGTGGAGAGTCCACCTGGTGCCTGCCTGGCTTTAGGAACCCGCAGCAGTCCGAGTGGTGTCTGGGGTAAGCTGAGCTGCTCTGGGAACACATCTCGTGCGTGGGGTGAATGAACAGCACACTTACCCAGTGGGGTAGGCTGGGAGAGGACAGAGAGCCCAGCCTCCTTAGCTGGATCAGGACAGTTTAGGAAGGAGGGTTGCGTCCATCTGAGATGAGAGTTCTGAGAGACATGGGCTCCCCAGGAAGACCCCAGGCACTTGTCATTGAAGGATGAGGACCGAAGCACTTATCACCTGAAGCAATCGTGTGAGACTGGGGAACTTTTCGTTACACAGAGGGATGGCAGCTCTATAATTAACAGGTGTGGTGACATCTCCCTGCGTCTCTGGGAAGGGAATCTGGTAGGAGTTTGTGTCTGAGGCTTGTATAGCTACAGCTACAGGCCGATTATGGAACTGCCTCTTGGTGATTTGTGCTGGGACACCAGGATGAGTGTAATTTGCAGTGGTGATGCATTTTTACAGGGCTTTCATGTAAGAGGGAAAAAGTTCCTGGTTTCTGAAAGTCATGCCTGTACGTCTTTAATTTTGCTAATAATTAAAATGGATGTTTCCGTGATTGCTGGTTTTCCCTTGAGTGCGTGGCTCGGCAAAAACTGAGGAAGCTGAGCTGGGATTTCCTACGGTGTGGGCTTTAGGAGCAACCCAGGTTAGGGAAAAACTGTCATTTTTCATTTTGGCTTTTCAGGGCAGCGTTATTGTGAGTTTATTTCAACATAAAGTGTAAAATGGTCCCAGAGGATTTGTTTTACTGTATTTAATTCTTGAAGGAAGTTTAAAATTGTGTATACATGCAGGGAGGGACAGGTGAGGCAGAGGGAAGAAATCGTGGAAAGGGACGAAGTTCCCCGAGTGAGTCTTTGTGTAAGAATTTACATCCAACAATGTGGGTATTGTTGGAAGCAGGCCTGCTCAACCTGGGATCTGTGGATGCACTTATGGATCAGGAAGGAGGTCGATGAAGTTCTGGAAATTTTAGGTAATATTTTGTTAATGTCCTTTTGTGCATTTTTATGGGTTTATAGTTTCCATGAGCTATGAGTTCATTTGCATCCAGAATTATGAGATGGAAAAGAAAAGATGTCTTAGAGGAAGGTGCAAAACCTGGCAAAGAAGAGGCTTTGGAAAAGTATACAAGTCCCAGGCCTCAGTTTCCCTTTCTGTCGTCTGAGGGCTTAAGAAGATGATCTTTAGGGTCTCTTCATTAATAGTCATTGAATATTAATGTCCTCAGAAGTCTTCTGACTCTTCCACCAAAAGGTTGTTAGGAGATTTCCATTTGACCTGGACATAAAGAGCAATTAGCACAGGGGCTGGCATCCAGTAAGCACCGGGTGCATGGCCTTGTCGCCGTTGTCGCCAGGGAGCTGGGAACATGGGTCTTCCCAGTCCCGTGGGCTGGCTGTGCCAGGTGCCACAATGTCAAAAAACATCTAGGCTTTTGGAGACAGTTGAGAAGAAAGTTGTTTTTGGATGGAGGAGGCCCTTGGTGTTTCCAGGAAGCTGTGTTTGCTTTCTGTAGGGTCCCCACTTCCCCTCATCTGTTAGTCTAATACTGGCCACTGATTTGAGCCCTAAGACCAGTTCTTCTGTTGCAGGAGTTCGCTTTGGTGTCAGAGGTGATTAGGAAGGTCATTGAATTATAGATGAGAAAGGAGTTTTTAACAGCTGAAAATGGGCTCAGGTTTAGGCTCTGTGCTGGTGAATTGGAAGAGAGAGAGAGAGAGAGAGAGTGTGCGTGTGTGTGTGTGTGTGCGCGAGTGCGCGTGCGTGCGTGCGTGCCTGTGCCCCTGTCCATCAGTTCTCCATGATTAGAACTACTATAGCTTTGGTTAGCAGTAAGTTCCACCTTGACCTTCTGTGCACCAAGGTCTTATCTTGTAAGACTTTTTGGTTTGCTAATTTATTTGGAAGCTCAGTTTAGATAATGTCTATTGGATAGGAGAAAAATGTGACTGAGAAGTTCCAGGAAGAAGCCTGGGCCCTAACACTAGAGGGTCCTTTTCTTTTGGCCCCTCAGGGAAAGGTTATGTTTAGTCATCTTGGCTTTGTGCAATATCGTATCATATCATATGTCATATCATATATCATATATATCATTTGTCTTCTGGACACGTTCTGAAATAGTAGCAGTGGGGTTGGGCCCACTCAATTGACTTAAGAAAATAATCTCTAGAAGATTTTAGTTTTTAATATTTCAGATTAAATATGAGTTTTCCAGTTGGTCATTCATTGTTAATTTCCTTTTGGTCATTCATTGTTATAGGGCACCAGCAGAGGAGTGAAAACATGGTTATTGACTCGAAGGGGGGCAGTCCTCAATGCCAAGTACTATTCTGTTGATTAACATTATAAATATTTGAAGTCTAGTCAAGCTTGATTACCCTGAGAGGGGGCAACTCTTACTTTCAAGTTCTTCCTGACATTGTCACCTACTCTGGTTAATTAAGTCATTGTTGACATTAATGGCATCTTTGTTTACACCAACCCAGTAGGAGCTAAAATGAAAGGGCTTTTCAACCCTACACCCTTAATTACTTTCCCACCCTCCACAGAGTGTGACTCTGAAAAGTAACAACCTGAAAAAAAATGTAGTTTGTGTAGCAATTTTTTGTCAATCTTCTGAGAGGTGATGCTCTCCTGGACCAACGTGAGTTGGTCCAGAGTTCAGTAGCAGAAACGTCGAGGACAGGATCTACACAGAGACCTCCCTAAGTCAGATTTTTCCAGTATGGTTTAAGTCCTTTGTTAGAAGTATTGTAAATGCCATAATATTAACCATACGCATTTAATTGCAAGTTAAAAGAAAGGAAGAAAGAATATATCCGCATACCAAGAGTGAATGATTTAAAATAATCTTCTGTTTCGTATTATCTGCATCTTTGTTTTTCAATATGAGTGTTAATATTTAAGAGTTGACTGTAACTTGATAGTTAGCTTTGGAACAAGGACTTATTCTTGGTCAATTAAACCAAATACAGGCTTACGCAGTTAAATACACAATGAAGTACACATTCTTTATTAGTATATAAAGTGTTTCACAATTCATAGACCAAGAGCCATGTTTAATATTACTTATAGAGCAGAAATCTGGCAAGCCCAGAGAACTGGTACTTGTATCATTTTATACTGGCTCTCTCTGATTCAAATTTGGGGTATATGTGTGTGTTTCTGTTTTGTCTGTTTATTTCAACCAGTTAAAAGACAGAGCACTTACTATGCCAATGGCCCCGCATCAAGCCATAAGTAAAGACTTTATTCCTTTCAAGTCTTTCTGACCCAGTTGAGGGTGAGAATTCACAAAACCACAGCAATCCAATATGAGATGTTTTTAATATCAGACTTAACAAATAATTACATGGCTATGAAATAACTGGGGTCGTGTTTAAACTGGAAGTGTTTTGTTTAATGTTCGTAGTTTCAATAAAATGTATCCACTAGTCTTCCAGTTTGCAGACTGTTGTTTAGGTGTTTGTTTAGCCAGGGTAATTGTTAAAAACTCCCTCTAATCTAGCTTACCCTTACATTTCCATGGAAGCGAATTTTAGTCATTAAAGGAAAACATGGGAAATTGATTTTTGGGTGCCTGGCTGTTAAGCTAGGTAGGAAATATAGCTGGTGTGCTACTCTCCACTGTACTGGTCCGATTCTCGCCAGGGGGACATCTCTGTAGGCAGTTCAGAAATTATTTTTTGGAAGTTTTTTAGGCTATTCCACAGATAATTCTGATCCAGTAGGTTTTATGCAACTGTGCAAAATGCTTATGGTCTCTATTTTTTTTTCCTTGAGAGATGATTTTAGCCTTTGGTTTTTTGTTTGTTTTTGTTTTTTGAGACAGAGTCTTGATCTGCCACCCAGGCTGGAGTACAATGGTGCAATTGTACCCTCACTGCATTGTCAAACGTGGCTCACTGTACCCTCGGACTCCTGGGCTGAAGGGGTCCTCCAACCTCCTGAGTAGCTGGGACTACAGGCCTGGATAATTTTTAAAAATATTTCGTAGATATGGGGTTTCGCCATGTTGCTCAGGCTGGTCTCCAACTCCTGGCAGCCTTGGCCTCCCAAAGTGCTGGGATTACAAGTGTGAGCCACCACACCTGTCCTAGCCTTAAGTTTTGCATTTTTTTCCATCTTTTTGCTGTATCCCATATGATTTAGAGATTTTTGCTGTATCCCATGAGATTTAGAGATGGCTCTACTTTTTTTAGCTTTCCTAGCATTGAAATGCTTGGTGTTGCTAATCATACCCCATCTTTACCACACCATCTTCCTCCCTGACTTGCCTTCTTAGTGTAGTTTGGTCAAGAACTTGAGGCCAAGTTCTTTTTTTTTTTAAATTTAGCTTTTATTTTAGGTTTGGGGGTACATGTGAAGGTTTGTTATGTAGGTAAACTCGTGTCATGGGGGTTCGTTGTACAGATTGTTTCATCACCCAGGTATTAAGCCCAGTACCCAATAGCTATTTTTTCTGCTCCTCTCTCTCCTCCCACCCACCCTCCACCCTCAAGTAGACCTCAGTGTCTGTTGTTCTTTTCTTTGTGTTCATGAGTTTTCATCATTTAGCTCCCACTTATAAATGAGAATATGCAGTATTTGGTTTTCTGTATTTGGTTTATTGCTAAGGATAATGGCCTCTAGCTCCATCCATGTTCTTGCAAAAGACATGATCTTGCTCTTTTTTATGGCTGCATAGTATTCTATGTTGTATATGTACTACATTTTCTTTATCCAATCTGTTACTGATGAGCATTTAGGTAGATTCCATGTCTTTGCTATTGTGAATAGTGCTGCAATGAACATTTGTGTGCATGTGTCTTTATGGTAGAATGATTTATATTCCTCTGGGTATATACCCAGTAATGGGATTGCTGGGTCGAATGGTAGTTCTGCTTTTACCTCTTTGAGTAATCGCCACACGGCTTTCCACAATTATTGGGCTAATTTGCACTCCTACTAACAGTATATAAGTGTTTCCTTTTCTCTGCAATCTCACCAGCATCTATTATTTTTTGACGTTTTATTAATAGCCATTCTGACTTGTGTGAGATGGTATCTCATCGTGGTTTTGATTTGCATTTCTCTAGTGATGAGCTTTTTTTTTCATATGCTGGTGGGACGTATATATGTCTTCTTTTGAAAAGTGTCTATGTCCTTTGTCTACTTTTTATGTGGTTATTTGTTTTTCTCTTGTAAATTTAAGTTCCTTATAGATGCTGGACATTAGATCTTTGTTAGATGCATAGTTTACAAATATTTTATCCCATTACGTAGGTTGTCTATTTACTCTGTTGATAGTTTCTTTTGCTGTGCAGAAGCTCTTAAGTTTAATTAGATCCCATTTGTCAATTTTTGCTTTTGTTGCAATTGCTTTTGATGTCTTTGTCATGAAATCTTTGCCCATTCCTATGTCCAGGATGGTATATTGCCTAAGTTGTCTTCCGGGGTTTTATAGTTTTGGATTTGACATTTAAGTCTTTCTTCCATCTTGAGGTGATTTTTTGTATATGGTATAAGGAAGGGGTCAGCTTCAATCTTCTGCATGTGGCTAGCCAGTTATCCCAGCACCATTTATTGAATAGGGAGTCTTTTCCCCATTGCTTGTTTTCATCAGTTTTGTCGAAGATCAGATGGTCGTAGGTGTGCGGTAGGTGTGTGGCCTTATTTCTGGGCTCTCTATTCTGTTCCATTGGTCTACGTGCCTGTTTTTATACCAGTACCATGCTGTTTTGGTTACCGTAGCCCCACAGTATAGTTTGAAGTCAGGTAATGTGATGCCCCCAGCTTTGTTATTTTTGCTTAGGATTGCCTTGGCTATTCAGAGGCTAAGTTCTTTTAAGGAGAGGTCTGATTGAACAAGATGCTGGACAGGTCATTGTGGTGATCCTTCACGTCTTGAAGATGTCTCCTTCTGTAATAGACAAAAGTCACACTTTTTACAAGTTTCTCTTTCCTCACTGTGATTTGTATGTGGTAGCTGACTTCTATTTATATAACTTCAAGCTCTTACCATTTAAATATTTATACACAAGTATGAATCATTGGGACAAGCCATGGCCATCCTTGAAGAGTGTGTGTCAAGTAAAATAGGCGTGCTTTAGATTTTCAGTAATTTTGGTTTTGGGAAACCGGTACCATGGAAGAGCTTTCAGATGCTGAATGTGTAATTTACTCCACTTTGGAATACTGTAAGTAATTCTGCGCCATTGTGGACTTTGGCCACATCATGCCACTCTCAAAAACTTCTGATTCTTTTTGACAGTACCAAGTCAGGGGGCTAAGCTGTTGTATATTCTTTCCTTTAACCCCTTGTCTAACTAAAGAATGGTAAATTCCAATTCATTTCAGAATGGAATGCACACATATAGAGTTTCAGGTTATGCTGAATGTGTTTTATGAGGAGGCTAAAAATAGCTTATAAGGAAAATGCTGATAGATTCAAGAACGAGAACAAGGGATGTATTTATTTGTATGATTTATGTAGCGCCTTTCTTGGAGAGGACTCAATTCTGAGCTCTAACGTTAATAAACTCTATATCAATTATCGTGATTATTTTCGAACCCTTGAGCTCCTATATTACTATATGTGACCCATTTGTATACCTGACAGTTTACTGTTAAATTTTCCATAGTGACCAGTTGTAATATTTTAAAAGTATCCAGACATTGAAAAGGCCAACTGTGTGTATCTATGGTGTGTGTATGTGCTCAGGGGGGTGTACTATAAAATGAATGTCAAGATCATTGCAATGGTTAAGTTTAGGTTTTAAACTCTTTGAACACCCTTAAAGTTCAGATTTTCAGTTGACAGTGGGATTGCCCCCAAAGATGTGTGGCTGCCTTAAGGAGCCTTCTTGTCCTGCTAAGCCTCCTGGATTTCCACCAATGCATGTTGCATTTCTACCTGGCTGCAATAGACGCACAACTGAATATATATCGTGGACATTTATAAATGTTTCAAATTTAAAACCACTCAAATTTTTAAAAGAACAAGAATCTTCTGTGCATTTAATCTAAATTCTGTATCAGCCATTCTTAAAAATAGAATTGAATAAAATCATTTTGGATGGCATGTGGTATGCTTTCTGGAGACATAAACTAACAGAGGGAACTTGACCTTGGGAGGTAGGTTTGAATCTCTCTACTATCTACTGATGCTGTGATTTCAGAAAAGTTAGATAACCTCTCTGAGCCTCAGAGATAGTATCTATCTTGAAGGGTGAATGTGCAGATTAAATGCAAATGAAATGTAAAGCCCCTACTGAATTTCCTGGCCCAGAGTAGGTGTTCATTAAATGCTGATTTCTTCCCTGTCCCACTTCCTGTCAACATTTCCTGGACCAACAAGATGTTTACTCTACAATATTACCAATATTTCCTGGACCAATAAGATGTTTACTCTACAGTGTATAGTGATAATTGTCTGATGAGAAGCATTTACATTAATTAAAATGTAAAACTGGCTCTAGGCCCTGGATTTGTCCAACCCTTTTTATTATCTTGGGCTTTTGCAAGTCCCATGGATTTTAGAAATGGGATCATCCTGCTGCTTGCAGTCCAAATGGTTCAAGGTTGAAATTTTTTTTCCCCTCTGTTGAAAAAAGTCAGTTGCAGCTCTGTAATAATAACAGCAGACACATACTTCATGAGGAACAATGTATTTTGGCAAAAGAGTTTTCTGTTTGAAGCTTCAAAATACAAAATACTCTGCCACATTGCCATTAGGCCCGGCGAAGAACATTGGAGAGGGGTTATGGAATCGGTTGGGGTGGGGTGCGGGATGGAGAGGGGTTATGGGATCGGTTGGGGTGGTGCGGGATGGAGAGGGGTTATGGGATCGTTTGGGGTGGGGTGCGGGATGGAGAGGGTTATGGGATCGGTTGGGGTGGGGTGCGGGATGGAGAGGGGTTATGGGATCGGTTGGGGTGGTGCGGGATGGAGAGGGTTATGGGATCGTTTGGGGTGGGGTGCGGGATGGAGAGGGGTTATGGGATCAGTTGGGGTGGGGTGTGGGATGGAGAGGGGTTATGGGATTGGTTGGGGTGGGGTGCGGGATGGAGAGGGGTTATGGGATCGGTTGGGGTGGGGTGTGGGATGGAGAGGGGTTATGGGATCGGTTGGGGTGGGGTGCGGGATGGAGAGGGGTTATGGGATCGGTTGGGGTGGTGCGGGATGGAGAGGGGTTATGGGATCGTTTGGGGTGGGGTGTGGGATGGAGAGGGGTTATGGGATCTCTTCGGGTGGGGTGCGGGATGGAGAGGGGTTATGGCATCGGTTGGGGTGGGGTGCGGGATGGAGAGGGGTTATGGGATCGGTTGGGGTGGGGTGTGGGATGGAGAGGGGTTATGGGATAGGTTGGGGTGGGGTGCGGGATGGAGAGGGGTTATGGGATTGGTTGGGGTGGGGTGCGGTGTGGTGTGTTCTGCTTTTGGCCAGGCTGGAGAGGTGAGCTCCATAACATGGTATGGTCATCCTTGCCATGTTTGCCTGTAGTGACCTCCCCTGAACACTCCTAGATGAGATTTTTGTCTGCATGGAAGGGAGCTCAAGGAAATTGTGATGGGACCCACAGTACTGAAGTGGACAGGAGCTGAACAAGCATTTGCACATGATACCCCTATGGAGGTTACTTGGTAGGACAGGCTATGAAGTAGGGGCAGTATGGATGAGGTCACGTTTCTTTAGCCCATTCCTTGAGATGATGATGATGATGATGGTGATGATGATAACTGGCTACCATTTATTGAGTGCCTGTCATGGTTGGACTCTGTGCTAGGTACTTTAACATATATTATCTCTCATCTTAATAACCCAGAACATCTTGGGTTTTCCTGTTCTTATTTTATGGACAAGGTAACTGAAATTCTTGGGGATCAAGTGACTCCTCCAGGACCTCATCATTAGTGAGTGTGGGCCCAGGTCTTTGGGTGAATGTGTTGGTGTAAGAAAAATTTCCCTTCTTCCTGAGCAGGAGGATTTTTTTTTTTTGCTGGAGAATGTGGTGACCCCTCATTCTTTCCTAAATCTGTCGTTTGACTATTAAACCTGTTAGGGACACTGCTGGTTGATTCTGTTTCTTTCTCACACATCCATACCGAATTCTCCTAAAGACATTTGAAGAAAAATTCCAGACAATAAAAATGTTTAATGATTATACTTTGTGATTCTTCTAGAATGGCTTCTGGTGGCATGTGACTTATTGGAAAGAGGCTAACCCTGACTGCTGCCAAGGAGACCAATGGGAGACTGGGTCCCAGTTGGTGGTCCAGGCTGCGCCACACCGTAGGAGTCCATAACAAGAAGGGCTGGCCTCTGTTGCCCGTTGATGCATGAGCCATCTCAGCAGAGCAGGCCGTCCCCAGTTATTCCTTGTCCCAGATGCCTCTGCTGGTTTGTCCTAGTGCCTGCTAACCCTCAGCTGTTGCCACTTGGATATTATGTCAAGCTTTTCTTCCCAGAATTTCTGATTTACGACTGGGTATGAAGTCAAGGCCTACCTGCATAGACAGACCCCTGTACTTGGGACTCCCACGAACTGTGGTCATGGAAACAAGCACCAAGGACTACCTGACCCTTCTAATGTCACTTTTCTGCAGAGATTAGGAGGAGAGACTAAGAAAGCCAAAAAAGAAAAAATTCCAAGAATGAAAAGGCCAAAAGCAGAAACACCTACTCTTCTTCCAGTCTTGGCCAGAAAGGGTGTCCTTAGGGGAAAAAAAGAGGCCAGGGAATGGAGCCCATTTTTAAAGCAAGCAAAGATCAGTTTGGTATTTAAAAATAAAAAGTGAACTCCAGTACCAGCTAATGTGTAGGTGAATCGAGGCTGGTTTAGGCAGCTGAACTTTGTTCTTGGCTACCTGTACAGCAGTTGCAGAACACTCAGGGGTTCCAGGCATTTCCAAGTGGGAGTTGAGTTTTGGAGGAAAGTTGTAGAATTCCTTTTTCTTTTTTTTCTTTTTTTGTGAGACAGAGTCTCTTGCTCTGTCACCCAGGCTGGAGTGCAGTGGTGCGATCTTGGATCACTGCAACCTCTGCCTCGCGGGTTCAAGCGATTCTCCTGCCTCAGCGTCTAGAGTAGCTGGGATTACAGATGTGCACCACCACGCCCGGCTAATTGTATTTTTAGTAGAGCTGGGGTTTCACCATGTTGGTCTCGAACTCTTGACCTCGGGTGATCCACCCACCTCAGCCTCCCAAAGTGCTGGGATTACAGGTGTGAACCACCGCACCTGGCCGTAGAGTTCTTGACTAGGAGATGCTGCAAATTTCCCTCTTAAATTTGCAGCTCCCCGTGCGATGACAACTTTCAGAGCTTGGCAGAGGCAAGATGGTATAAACATGATTTTTAGATTGCAGGGTAATTGCTGTGGTTTCTTTGAGTTTTTTCATCCATTTGCTCCCCAAATAATTTTTGAGACCTACTATGTGCCAGGTTCTGTGGGGATGGAATAGCAAGCAATGAACAGTTGAGTGGGGGAGACAGGCTCTTGTCAAATAATTGCAAAAATGAAGGGCTAGGACTGGGTGCAGTGGCTCACGCCTGTAATCCCAGCACTTTGAGGGGCCGAGGTGGGCGGATCATGAGGTGAGGAGTTTGAGACTAGCCTGGCCAACATGGTGAAACGTGGTCTCTACTAAAAATACAAAAATTAGCCGGGGGTGGTGGCAGGCACCTGTAGTCCCAGGTACTTGGGGGGCGGAGGCAGGAGAATCTTTGAACCTGGGAGGCAGAGGTTTCAGTAAGCTGAGATCACGCCATTGCATTCCAGCCTGGGCGACAGGGTGAGACTCTGTCTCAAAAATAAAAAAAAAAATCAAAATAAATAAACAAAAATAAAAAATGAAGGGCTAGGTCCAGTCAAAGGTGAAGATTCTGTGAAGGAAAAGCATGGGCCGGAGGCATGTGCCCCATGTTTAGGAGTTCCCAGGGACTGGGACTATGAAGCTGCTGCTGCTGCTGCTTTTTTTTTTTTTTTTTTTTTTTTTAAATGCAGGGTCTCTCTCTGTTCACTGTGTCACCCAGGCTGGAGTGCAGTGGTGCAATCACAGCTCATTGCATCCTGGACCTCCTGGGCTCAAGCGGTCTTCCCACCTTAGCCTTCTGAGTAGCTGCGACTATAGGCGCAGGCTGATTTTTCTTTTTTCTTTCTTTTTTTCTTTTTTTTTTTTTTTGGTAGAGATGGGTTCTCACTTGTTGCCCAGCCTGGTCTCAAACTCCTGGGCTCAAGCGATCCTCCCACCTTGGCCTCCCAGAGTGCTGGGATCACAGGTGTTAGCCACCACACCTGAGGCTGGTCTTCCCCTTAAGGAGGTGGCACCCACCTGGATTCCCCAGCAAACCCACCTGCATTGCAAGGTTGACCCTCATCAGTACCAGCCACCTTGCCTGCTAGGTTGACCCTTGTCCAGTGAGGTGATTTTCCAGGGCCTAGCCTCTCTGCTGTCCCTTGCTGGCTTCACCTGTTGATGTTGATGGAGGTGGAGCAGAGGCCGTTGAGTGAATGCGTGCAGCTGGGCTCAGAGGCCCCTCTTCTCCCCTCCTGTGAGGTGCTTGCCCTTGAAGGTGTGGCGAGTGAGGAGGCCGGTCAAGGGCATCCCGGCGGCCTCCAGGCCGTATTTGAGTGGGTCATTTCAGCCTGCTTCCTATCTCTTTTCTGTTACTACCTCTAATTGGCAGAGTTTCTTGCCAGGTCAATGTGGAGGCAGAGAGATGGCCGGAGGGCGGCCAGGGGAGTCAGGCCAGGTGTGGGCAGGATGGGATTCTGCCTCCTCCCAGGTGCCTCGCCTGGGGGATGCCCTGTCCCAGAAAGCCTACATTCGTGGGAGCCGGCGCACAGCCCTTCTGAGATCTAAAGCTTCCCTCTGAATGCTGCTTTGGAGGATTGTGAGAGGTAGTGACTCTTCAAAGTTTGTTTGTTTTCTTGAAGCTTTTACCTCTATGCAAATATGCGGTTTGGAGCAGGGAAGAAAGGTTAACTGTGATGGCGCCGGCTCTTAACGTGGAATGTCCTGAATTAATGTGGGTTTCAGTCCTCTGGCTCAGGATCCCCTGAGGGAGAGTTTTTCTTTCCTCTGCAAAACACAGGAGAAAAGTGATCCCTGTGGCTCCGACCTGCCTTCCTTGGGTCCTGCGGTGCAAAACCAGCTGGGACCGTGTCCCGCCCACCCGAAGGCAGTGTGGGGAACCTTTCCTCCAGGTCATTCCCATTCAGCTGATTGCTGCCGGCTCCCCAGGCCACAACTCTGTGCCTTCAGGCGTCTGCACGGGTTTCGAGATGCTGGCCAGGCCTGAACTTGGTGAGCCTCAAGCAGACCGTTCAAACCCATTCAAATGAGGAAGACCATCTGTTTCCCAGTCTCCAGCTGCTGCTGCTTCATTTGCAAATGGCTGGGATGCTGCTGAGGGGATCAGGCGGGGACACATCTGCAGACTCTGAAGGAGTGTTGGAACCGAGATCCTGCTGAGAGAAGAAAGGCCGAGCCCTTTAAATCAACTTGCCAAACAGTACCCCCAGAAGGTCCTGAGTTGAGAAAGCAGGAGGCAGCCTTGCCCTCCTGGAATAACTCTTAACCTTCCCTTTTCTTTTGTAGCCTTGGCCACTTTAAAAGTATTTCTTTATTCAGAAAGTGCGCAGTGTGGGAGGGCCTGCTCTATGGGCTTGGGGGAAAATGTCAAACGGGATCTGGACATCTATCTGACCTTTCAGGGCCATACAGGGCAAACGTATCCGCTGGAGTATGCACCATTTATTGAATGTTTACATCAATATCAGGGAGGTGAGCTTGTCCCAGCAGCAGCTTCTAGGAGCCACAGGTAACAGTAAGTGTGGCAAGGTGACTGTCCCTGAAAACCTGCTTCTGGAATGAGTCAGGCTTTAGGGTATGCTCTCTGGAATGCAGGCCAGCCGCCCCAACTCGCAGTAACGCAGGCCCTTAGCTCTGTGGACTGCGTGAGGCACAGCTGTGGGGACTCTTGCCCATGGTTTGGTGTTTGCAGGGTTATTCTCGGCATGCTGTGGGGCTAGGGTAAGTTATCCGGCTCCTGAGCCCTGCTGGGGTTCTCATCTCAAGGGAATTCTGTGGTGTGTTACTGTGCCCCACATGCAAATATCAGCTACTCTCAAATGTGTTGGATGGATGAATAGTAGAAGGTATTTTAAGAAGCCACAGGCCTCTTTGTAAATTAAACAGGCATCATACATGGGTGTTGATAATGATGAATCTCACAAAATCTTCAGATGTTTAGTCTCTGGGAACATTCCAGGAATCCTCATTTAGGTAACTTATATGTGATGAGACCTATTTGTTCACTTGAAAGAAAACCTGTTTTGAAGTCAGAGGAATGCGAATAGAGGCTCTCACATGGTTGGAAAAAGCAATCTGCAGGCCAGTTACGCCCCGTAAACAGGAACCCAGGACTGCCCTCCTGGCCAGGGCTGAGTTGCAGGATGGGGACCCCCCACTACCTCCAACCGCCCGCCAGGATGAGGAGTGCTTGCTCTCAGACGTGCCCCTCACTTTAAATATACAGAGGCCTTCCTAGGCAGCCTTTGATTGTGTCCTTGTGGTGACCTTGCCCTGCAGCAGGCAGCACTGGAGATGTTTTTCTCTTCTCTAAAGCATGACTCTGAGGCTCAGCGGTGTGAGGCTGTCCAAGCTGACACGTTCACTACTGGCAGAGGCGGGTCTCAAAGTCTCATCCTTGGACACTGGAGCTGAACTTCTTGTAGTGTGGGTCTTGGACCAGCAGCATCAGGCCTCACCTGTGGGAAATAAAGAATGTCAGCCCGCACCTGCAGGCCTACTGACCCAGAATCTTTTTTTGTTTTTTCCTTTTGAGACAGACTTTTGCTCTTGTTGTCCAGGCTGGAGTGCAATGGCACAATCTTGGCTCACTGCAACCTCTGCCTCCGAAGTTCAAGTGATTCTCTTGCCTCAGCCTCCCGAGTAGCTGGGATTATAGGCTCCTGCCACCAGACCTGGCTAATTTTTGCATTTTTAGTAGAGACAGGGTTTCACTGTGTTGGCCAGGCTGTTCTCTACCTCCTGGCCTCAAGTGACCCACCTGTCTTGGCCTCCCAAAGTGCTGGGATTACAGGCGTAAGCCACAGCGCCCAGCTGACCCAGCATCTTTGGAAGTGGGAGCAAGGAAGCTGTCTTAAACTGACCACGTGGTTTTACGCACAGTAAAGTCTGAGAAACATTGCATTGATCCCTACTCCAGTCCCTCTCCGTACACCTTTTGGGTGGAGTGGGCTGGGGACGCAGACTGTCTTTGGCTGTGCATGTCCTAGAGGCTGAACAGGACGAGATGGGAGCAGTGCAGTGTCTTAATGGGAATCGGGATTTTCACGGAGGAGCTGTTGGAACTGGGCTGAATAGGAGCCTGCCAGGCAGCAGAGCTGGGTGGGCTTGTAGGTAGAGGGAACAGTGCCCATGTGGACAGGTAAGCCAGAGTGTCAGAGAGAGGGATGTGGGGCTTGGAGCAACCAAGCCTCAATGCGCCATGATGTTCTTTGGGTTTTATTCTCTCTGACTTTGGAGTGGTCTGTGCCTTTTTAAAAGAGTAGAGATCATGTGCTTTTCAGAAGATTCCTCTGGGGGTCTGCGGTGGCTACAAGAGGCGCACCATGGGTGATGGGTTAGGCGCATTGCAGAGGTCTTGTGGAGGACTGGAGGAGACCTGTGGGATGCAGTTTTGCCTGTACTTTCTTTCAGAGCTAAGCTTTCTATCAGGGATAGGCCTAATAGGTGAAGGGGTGTGGGGACTGATCAGAGGAAGGGCCAGAGGAAAAGAGGGGCTTCAGGGCCGACTTGGAGCTTGGGCGGCAGTTCAGTGGTGTGACTCCCTTCATCGTGTAAGAGAAGAGGCTGGTGGAGGAGGAGGAGGTTGAAGGTCACTTGCTTGTTTTGGATACGACCTCTGTAGACATCCAGGTTATGTATTTCCTCCCCCCGGGCAGGTGGAAATATGAACCTACAAGCAGGGACTTGAGTGGCATCTGCGGGGAGGAGGTGGGAAAAGCCACACGTGCCCAGGAGACTGGAATGCAGGGAAAGGACCAGAAGAGCCAGAGGTAGAATTCTGGGTATATCCATGGATACAGGAGGGGTGGCAGGGAAGGAGAAATTTCCTAGAAAGGCGAGAAGTCCTCCTTGACATGTTCCTGTCCATAAGAACACATACGCACATGTACGCACCAGCAGGAAGCAGAATGCTAACCGAAGATAATTAACCCCCAATTCTGTGTTAGGGATTGAGAAATAGACCAGGAGCCCTGCCCCCTCCTCTCTCATTTCCTGACCTTCCACACTGAGAAGACCTGGCTAGGCAGCCTTGCTTTTTTTCCTGTTTAGCGGAGGAGTGAGGATTTCAGCCGGAAGGTCTTTCTGATGGCAGATGTGTAAGTGCCAGACATTGTGCTGGGTGCCTTCTGTGTCCTATCTCATTTATTATTGTTCCTGCTCCGAGGACTTGCCTCAAGGTCATACGATTTGTAAGTGGCATAGTCTCGGTGTCAGTGACAGGTCTGTTTGGTGTCTCTCTCTCTCTCTCTCTCTCTCTCTCTATATATATATATATATATATTTTTTTTTTTTTTTTTTTTTTTTTGAGATGGAGTCTCGCTCTGTCATCCAGGCTGGAGCACAGTGGCGTGATCTTGGCTCACTGCAACTTCCGCCTCCCAGGTTCAAGCGATTCTCCTGCCTCAGCCTCCCGAGTAGCTGGGACTATAGGCGCCTGCCACCATGCCCAGCTAACTTTTGTATTTTTAATAGAGATGGGGTCTCCCCATGTTGGCCAGGCTGGTCTCGAACTCCTGACCTTGAATGATCCACCTGCCTCAGCTTCCCAAAGTTCTGGGATTACAGGCATGAGCCACCATGCCCGGCCTTGGTCTGTACCTTTAACACCCCCAGCCTTTTCTGAAGAGTCACCAGAGAAGGGACAAAAATGAGGCCATAGCCTTACTGCTAAGGGACCATGAGAGGCTTGGGGTATAGCTGTCTGTTGAGACAGGTGCTTTACTACTTTGTAAGATGAAGAGAGCTGCCTCTGGCTGAGCACTGTCATTAGGACTCAGGGAATGGAAGTGTTTTGAGACCAGAGGGTTCAGTTTCAGGACTGGAGATCACAATGCATTCATTTTACAGAGTGACAACTCTGTAGGGCCACTCTTCACCCTAAGATTGGGTCATTAAAGGCCAGGCACATCCTATTCACTCCTTCACCTCCTTGTGAGCCCCCCACATGCCTTTTGATGAAAGGGTTTTCCCCAGAACAGTGTGTCCCAAGAAGCCCTGAAGGGCTGGAGATGTACCAGCTTTCTCTGCTATGTCCAGCAAGTGTATTTTCAGAAGGTAGGAGGCTCGGGCTGGGCTGGCCAGGCAGCCAGGCACACAGACTCCTCATTGTACATCCAAGCCGGGGCGTGCAGGACTTCAACATAGCTTGTAACGTAAGTATCTATTTCCTGGGCGCTACATGATCTAATGGCCTGTCGCTTTGGGAAATGCTTTCTGAACAAAAGACTCGATTTATTTATTTATTTATTTTTTGAGACGGAGTTTCGCTCTTGTTGCCCAGGTTGGAGGGCAGTGGCGTGATCTCGGCTCACGGCAACCTCCACCGCCCAGGTTCAAGCGATTCTCCTGCCTCACCCTCCTTAGTAGCTGGGATTACAGGCGTGTGCCACCACGCCCGGCTAATTTTGTATTTTTAGTAGAGACGGGGTTTCTCCATGTTGGTCAGGCTGGTCTTGAACTCTCCTGACCTCAGGTGATCCACCCTCCTTGGCCTCCCAAAGTGCTGGGATTACAGATGTGAGCCACTGCGCCCGGCCTTTTATTTTTTTAAATTATTATTATTTTTATTTATTTATTTATTTTTTTGAGATGAAGTCTCGCTCTGTCACCCGGCTGGAGTGCAGTGGCACGATCTCGGCTCACTGCAACCTCTGCCTCCCTGGTTTAAGCGATTCTCCTGCCTCAGCCTCCCGAGTAGCTGGGATTACAGGGGTGCACCACCATGCCTGGCTTAATTTTTGTATTTTTAGTAGAGATGGGGTTTCACCATGTTGGCCAGGCTGCTCTTGAACTCCTGACCTCAGGTGATCCACCCGCCTCGGCCTGCCAAAGTGCTGGGATTACAGGCATGAGCCACCGCACTCGGCCAGGACTCAATTTTGAAGTTCTTATGCAAGCAAAGCTGCCCATATCTAGGAGTTTATGCACACAGTACTGATTCAATACCTGCGTCTTAGTGGTCCATCAGGAATTTTTCACTCATGAAATATGACTTTAATACACGTGTTGGGACCAGAGAGAAAACCTTCCCTCTGTGCATCTTTTTTTGGAGAACACTGTCATGAACAGCCGAAAACATCAGATCAAAAGCAAGAGGGATACTGACAAAACAGGGAGTGCGGATTTCCACTGTGGGTGGGGACATTGGGAGACACGGTGACTCACTCCTCAGTAAGTGCATTCTTAGGCTCTTTACTCTGTGTGCATTTTTATTTTCTCATGGGCAACAATATAATTTCTTTCAAACATGAAGAGCCATCCAGCATGTTTCTCAAAGGCAGACTTAAATGATATGAGGGGTGTGCCTAAATATATAATTTTTAATGGTTACCATATTGGAAACATTAGCCATGATCCCATCTGATGACTAGGAACATGAGCCAGTCTGGAGTTTCTGGAGAAATCCAGCTACCGCTGCAGAGGCGGCTGTTAGCTGTTGTTACCGGCATCCTTGTTAGCGACCAGGGAGGTTTCAGTCCCGACTTGTGTCTACCAGACACCCTGACAACTGGTTAGAAAGAGAGGACTGCACCCTTTCATCCTGCGTACTTATCTGTTGTTTGTTGCTTTGACTTCTTTTTGTTCTCCGTTTTTATGTTGGCAGTATTTCTCGAGGTAGAGAACTTTCACCTTTATATTGTGCGGAGTATTTGTCCCTTCCTCGCCCCCTTAAAGAACACGTAGTACCTATGCCTTATAAGGTCTCTGTTTGATGTGAGGAATTTGGTCTTCTTGCAAGTCGGCTCTTGCAGAGGGGAGGCTTTGAGGATGTCTGGGCTGCAGCAGGCTGTCTTCGTTGCTGTGTACACAGCCCTCATGGCAGGGCATGCAAAGGTGGTTGGTTCTGACTTCAATGGCGGGACTCCATTGCCTTTATTTTTTAATTTAATTATTATTATTATTATTATTTTTGAGATGGAGTTTAGTTCTGTCACCCAGGCTGGAGTGCAGTGGTGCGATCTGGGCTCACTGCAACCCCCGCCTCCCGGATTCAAGCAATTCTCCTGCCTCAGCTTCCCGTGTAGCTGGGACTACAGGCACACACCACCATGCCCATCTAATTTTTGTGTTTTTAGTAGAGACGGGGTTTCGTCTTGTTGGCCAGGCCGGTCTCGAACTCCTGACCTCAAGTGATCCACCTGCCTGGGCCTCCCAAAGTGCTGGTATTACAGACATGAGCCACCGCACCTGGCCTCCATTGCCTTTATTTCTTTCTGCTGATAAGTTCTGATGCCAGTGATACCCAGATTGTGCCATAGGAAAGAGGGGGCTGGGCTCTTCCAGAAACCCTATCTTGCAGAAATCTCTCTTCTGTTCCTACGGACAGAGAATTGGGTATTGACCAGTGAGGACTTCTTACTGGGACTGGGCGTGGCCACTACAGGACATCTTCCAGACTAAGAGGGCCAGTTGGGGGTTACTGGACCAGGGAGGACAGTGGCGGCCACTTACTTGCCATGTGCTTTGTGTGCAGTGACTATGTAGCGACATTTGCAGCCGGACTGTGTTTCTCCTGTAGAGACACTGGCAGCCCTACAGCCCTACAGCCGTGACATTTACTCTGTACAAGGTGGCAGGAGGTGTGGGAGGGCACCGGGAACCGAAGGCCATTTTACTACCCTTCCCGCAGCGCTCCTGTTACAGTGCTTGTGGGAGTCCCAGCTGTGCCTCCAGGTACAAACGGGTTTCTTCCTGCAACCCACAACCCTGACAGGACATGCCTCCCGGGTGTGCTCCTAACCTGCCTCTTCTCTCTGCCCCTCCCTCTTTCTCCTCTCCCCTTCCCCTCTCTTTCTTCCTCTTGCCTTCCTCTTCTTTCCTCTCCCTCCCTCTGTTTCTCTCCCTTCCTTTTCCTTGTCTCCGTCTCTCCTCTCCTTTTTCCCCCTCTCCCTCTCTTTCATCCTTCTGTCTCTTCCAGAGGAGTCTGTTCAGGGATTTCTTTCTCTCTTTCTTCTTCCTGGAGGAATGTGTTTAGGGATTGGACACCTCTGACTTTGGAGGAGGGAGAAACCTCAGTGGGATGGGTTCCAGGACGACCCCACCGCATCCTTGGAACTAGGATGATCTAGACGTTGGAAAAGACACCATCCCTGGGAAACCCCAGAAAAGGCTTAATTTGTGAAAAGTAATGGAGGGAGCTGTGCCGTTGGTAGAAACTGCTTTTTTCTTCCTTAACAGTTTAAATCTGTCGTCCATTCTCCGTGAAGTGATTGGACGGGGCAAGACTCAGGTTTCCCATCTGTTCTCTGTTTGCATTTGGGCGCCATTTCAAAAACCACACGGGAAAAGTTTATAGGCAAACATTATAAAAAGTGACAGTCTGAAGTGCTGCTATCGCTGGTTTGGCAACGTAAAGTGTTACCTGAAATAGCTTACCGTTTCCAAACCCTTTTGCTGTTTCAACTGTCTCAAGACAACCCTCCCGCTGAGATGGGTGAGAAGTCCAGCTGGATGTGTGCAGTGAAGTCACATAAGTCACAGCCTTTTTTGACTTTTACAAGATTTCCCCCTCCTGGGGCTATCTTCACACACAGCGAGGATTTTTTTCTCTCTGTTTACTTATAGAGAGGTAAATTCATGCAGCTTGTGGCTAGTGGCACTCTGTGTGATGTCAAATGGTCTGCTGAGGGGCTCGGAGAGTCAGGCAGCCCCTGCCTCAGTTTCTCTCTCTCCCCAGTCAGAGGTCCTATGAGCTCCCAAGGAATAACAGGATGGTTTTCTTAGGGAAGGAAGGCCAGGTCAAGGCAGGAATTACTCACAGCTCATGTGCAGATGCCTGTTGTTATTCATACTATTTATTTATTTGTGTTTTTTTTTTGTTTGAGACAGTTTCACTCATGTCGCCCAGGCTGGAGTGCAATGGCATGGTCTCGGCTCACTGCAACCTCCACCTTCTGGGTTAAACGATTCTCCTCTGCCTCAGCCTCCCAAATAGCTGGGATTACAGGCACATGCCACCACGCCCAGCTAATTTTTTATATTTAATAGAGATGGGTTTCACCATGTTGGTGAGGCTGGTCTCGAACTTCTGATCTCAGGTGATCCACTCGCTTTGGTCTCCCAAAGTGCTGAAATTACAGGCATGAGCCACTGTGCCTGGGCTACTTATTTATTTTTGGAGACAGGTTCTCGTCTCGCTGTGTCACCCAGGCAGGAATGCAGTGGCGCGATCATAGCTCAGTGCAGCCTCTGGGGCTCAAGCGATCTTCCTACCTCAGCCCCCTGTGTAGCTGGGACTACAGGTGTTTATCATCATTCCCGGCTTTTTTTTTTTTTTTTTTTCATTTTTTGTGGAGAGAGGATCTTACTATGTTCCCTAGGCTGGTCTTGAACTCCTGACCTCAAGTGATTCTCCCACCTCGACCTCCCAAAGTGCTGGGATTGTAGGCATGACCTGCTGTGCCTGGCCCATTTATTTTTTGATTAGCTGTACAAGTACCTGTCTCTCTCATTTTTAAAGTATCAAAACAGTCAATTTTTTTTTTTATTTTTTTTTTGAGATGGAGTTTTGCTCTTGTTGCCCCGGCTGGAGTGCAATGGCGTGAGCTCAGCTCACCACAACCTCCAGCTTCTGGGTTCAAGCGATTCTCCTGCCTCAGCCTCCCGAGTAGCTGGGACTATAGGCATGCGCCACCATGCCCAGCTAATTTTGCATTCTCAGTAGAGACGGGGTTTCTCCATGTTGGCCAGGCTGGTCTCGAACTCCTGACCTCAGGTGATCCGCCCGCTTCGGCCTCCCAAAGTGCTGGGATTACAAGCACGAGCCACCGCGCCCGGCCAGTCGTTTTTGTTTGTTTGTTTGTTTGTTTGTTTGTTTTTAAAGAAGCTGCTTGTGGCCAGGTGCGGTGGCTACCACCTGTAATCCTAGCACTTTGGGAGGCGGAGGCAGGTGGATTGCCTGAGCTGAGGAGTTTGAGACTGGGCTGGGCAACGTGGTAAAACCCTGTCTCTACTAAAATACAACAACAACAACAAAATTCCCAGGCGTGATGGCATGCACCTGTAATCCCATTACTCCAGAGGCTGAGGCAGGAGAATCACTTGAACCCAGGAGGTGGAGCTTGCAGTGAGCCGAGATCGCACCACTGCACTCCAGCCTGGGAGAGAGCGAGACTCCGTCTCAAAAAAAAAAAAAAAAAAAAAAAAGGCCAGGCACGGTGGCTCACGCCTGTAATCCCAGCACTTTGGGAGGCTGAGGTGGGCGTATCACGAGGTGAGGAGATCAAGATCATCCTGGCCAACATGGTGAAACCCACCCCGTCTCTACTAAAAAAAATACCAAAAATTAGCCAGGTGTGGTGGCAGGCTCCTGTAGTCCCAGCTACTCAGGAGGCTGAGGCAGGTGAATAGCGTGAACCCGGGAGGTGGAGCTTGCAGTGAGCCAAGATCGCGCCACTGCACTCCAGCCTGGGCGACAAAGCCAGACTCCGTCTCAAAAAAAAAAAGAAAAAAAAGGCTGCTTGCTAACACGCTGCTGGTACTTCCCAAGTATTTGAAACTTCTGGGAGAAAATTCACGTGGATGCAACTGAGCTTTATGCAGCAGGGCTGCAGTAGTGTGGCCACGGCAGTAGAAACGAGTGTTGAGCTGTGTCCCAGGAAGGAGACTTGGTGCCTTGTTTGTTTACCAGTTTTAGGAAACAGTGACAAAGATTGGCCAATACTACTGTGAAGCTTGCTTGCTTCTTTTCGACTTTTAATTCATATTGTGAAAAATACATGGAAACATATTCTCTGTCTGTGGAAGCCTCTGAAAGAGCATTTGTGCATAGCAAGGCGGCTTCTGGAACCTTCTCCCCATTGCGTTTTGGCAGGAGATGAGGGAGATGTTGGGCTGTGCACCCCTGGTGGATTCGCACAGGAAAGGTGAAAAGTATGCCACAGCAATGGGAAAAAGTAAATCCAGGAAGTGCTCACATGACTATAAAAGGAGTTATGTACATTTCCTGGGGAATTCTTTGCTCTTTCACAGAGCAGGCTGTGCAGCCTGGTGGAGTCAGGGAGAGGTTGTCCATCCATGGGGGGTGACCAGAGTTAGGGAGGCCCCTTTGCACATGCAGGCACAGGGGATTCTCTGATTGTCCTGGCTCCGCGCAGCCTGGGGCCAGGTCAGTACAACTGTGGGGATGAACATGGAGGGCTCAGGGAGTGCATGTTTGCAGGGAGTGGGCAGCGGGTCAGGTCACCTGCAGCATTCAAACCCAGAAGAGAAGCTAAGCCCTGTGGACGGCAAATGGACCCAAGGACACGGGCAGGGACAGAGCTGCTTCCACTGAGCCAGCTGTTAGGTGCTTGTGTTCTTGGCCCCCTGGCCGGGGTTGTCTTTGATATGTGTCGTGTGTGCTGGGCCCTGCAGGCTGGGCTTGGGGGGCCACTGGGTGGCCTGGGAGGCTACCAGTGTGGCATTTGGCCCCTCCCCAGCGTATGGCCCCACCCCATCCCTGCCTCTCTTCTTACTTACATCCTCCTCTTTTTATTCTCCCCAACCTCTTTCTCTCTTGTGTGTTTATTCATGCATTCTCCCTAACATGTGCTTGCAGAGTCTTCTGGGATACCCAGGGGTATTACTGGCATGTTTACTAAAGGCACCGCTGATCCCCAAAATGGGCCCTTTGTGAAATGACCACTGAAGGGGTGGAGGGAGGAGTCCTTGCTTTCTCAGTTTACCAAGACAGCAGTTACTGGTTTGAGACTTTGAAGACAGGATGGCTTGATTTTTATGGATAAACATCATTATCTCATTGGTGTATTTTAGGGGGTGATATTTTACTATCCTTGAAGCTTGGATATCTAGATGACAGTTTTGATCTGGTTTTACTGGGATCAAAAGCAGTTTTAGTACGTCAAGTCATCTTAACTGTCCATTGAGATGGGACTCCTGTAAAATCACTTTGTATCTGGAGATAGCAATCCAAGTGTTCTGGCTGGGCGCAGTGGCTCACGCCTATAATCCCAGCACTTTGGGAGGCCGAGGCGGGCAGATCACGAGGTCAGGAGTTCAAGACCAGCATGGCCAATATGGTAAACGCTGTCTCTCATAAAAATACAAAAAAGTTAGCTGGGTGTGGTGGTGCACGCCTGTAATCCCAACTACTTGGGAGGCTGAGGCAGGAGAATCACTTGAACCTGGGAGGCGGAGGTTGCGGTGAGCCGAGATCGTGCCACTGGATTCCAGCCTGGGTGACAGAGCAAGACTCTGTCTCAAAAAAAAAAAAAAGAAAAGAAAAGAAAAGAAAAGAAAAAGAAACCCAGATGTTCTGTGATTATCCTCTGAAAATCGTGGTGCTTAAAAAATCACGGCAAGCATCTTCCGCCTTGAAGAGTAACAGTAATAGTGACAGTCATTAGCCCGACATGTTGTAGTTGATGATCAGGTTCATCTTCGTTGGCTCATTGGAATCTTACCAATAATAAACCAGTATTTGGGTACTCTTACCCTGCAACAGATGGGGAACACCAGGCCAAAAGGTTAAGCAGGAATGGAGAGGCGTGGGAACTCAGGGCTTCATCCTCTTCTCGTCCAGGGCAGCACCCTTCACCAGGCATCTCCCATGTCCAGCTCCAAATAAGACACAGGTCCTCGCTGTCCCCTGTACTTCCTTCTAGAACAGCACGTGGTAGTCCAGCAGCTCAGATACCCCCAGTTTCAGCAAGATTTTGGGGTTTACTGATTTTAGGTGAAGGAAAGGATTCTCAATGAAAACACTTTCATTTAAAAACAGGAAATCATACATCATAACTCCTCCTTTGCCGGGAGAGAGATTTTTTTCTGCATCACAATTGCAAATGCCTTGCTTATCTTTTTTTTTTCTTTTTTTCCCCCTAATGGAGTCTTAGAGCATTCCTCTGCGTGACATAGGGACATGGTTGCACCTTATCTGAGGGTCAGGATGGAGCAGATTGGTGTGTGGGTCCCAGGTGCCTTCCCTGTGAGGGAGGGAAGCTTTGCTGCTTCTGCTCAGCGGCTGCCCTGGTGATCAATTCTGGCTAAGAGGAAAGTACATTCCATAACATTTCTGGTGACTTGCTGATCATGTGATGTTGTCATAATAGACATTGATCATTTTATGACCCAGACTGATCCAATGTAAATTCATTCTAACATGGTGGGTGCTGTTTCAGCAATGAGTTGTTGGAGACCTGGGACTCAAAGGACATCTGGTCCTTGCCTTAGCCAGCTGTCAAAGGGGTTGGACCAATAGCGTTTGGGGCCCCTTCAGCTCTCATGTTGAGTGAATCTGTGACTCTAGGATGTTGGGAGTGGGAGATGGGCCAAGATTTGGGACCAGACTGAATCCCTGCCGTCTTCTCCTCCTTCTCATATTTCTCTTCCTTTCTTTTTTCTGTTTGGTCTCCATAGTTTAAAGTATTTCTATTAGTCACTCAATTCAGCCGCATTTTGACTTAACCAGCCTTGAGAGACCTGCTCTAAGAGCCTTCAAACTAAGTTCCCAACATCTTTTAAACTTCGCTTTGTCCTTCACTTCTCAGCTCAAATGCCTGTTCTTTGGAGAAGTCTCTCTGATTGTCTTATACAACAGGGATTGAAACACTTTTTGCAAAGGCAAGACTGCAAATATTGTAGGGCTTGCAGGCCACAGGGTTTCTGTTGCAATGACTGAACTCTGCCCTTGTAACACACAAAAGCAGCGCCAGACAATAAGGAATGGGCATGGCCGTGTTCTAATAAAGCTTTGTTTACAAAAACAAGCTGCGGCTGGCTTGGCCCGCGGGCCATCATCCGCCACCTCCTGCCAAGGGACCAGCCCTCCTCTGCCACTGCTGTGTGTGCCCGTACCTTGCCATGTCCTTCTTCCTAATGCTTAAGCAAGAACACTGTATTTTTTGTAGATTTTGTATCTATCGTCTGTCACCCCCACCATAATGGACGCTCCACAAGTGCAGGGTCTTTATCTTGTCTCCTCTTGCTGCGGAGCTTCCAGAATAGGCTTGTTGTATAGTAGACATGCAGTAAATAATTACTGAGTGAGAAAACAAATGTTAGAAACATAACCTGCCCGTCAGCTGGGCTTTCCTTGCTTTGGGGTGCATTTGTCCATGTTACATTTAGCTTCTATTTTCCTCCTTTTGTTGTGATTCTCTCTTTGTGTTCACGTGCTAGTTGGCATCTGGGGCTTGGCATGCATGCCTTTGGTGATGCCCCCTTGAGAAGCCCCGGGCCTCCTGTGTGGCTGTTGATGGTGGTGGTGAGGGGGATTTCTTGTCCCCAATGCATGTGGCCCTTGCTCCTTTCACAGTGGGACTGAAACACAGATTGACTTGATTTCAGTCTCCTGTGGGAGATTTGTTCTTCTGAGGGGTGTCTAGGCAAAACAGTTGCCTTTGATCCTGCCCTGATTTGGTGCTGTCTCAGTGCTGGGAAGCTTTGCATTTTCTAGGCCTGGAACTCTGGGTCCCATTCACACTTCTCACTGGAGGGATGAAAGCCTCCTTCTTGGGCCCTCGTGGCCATCCCAGCTGGCCGCTCCAGCTGTTGTTATTAATAAATGCCAGTGGTGTCCTCTCAACTCCAGTGGAGAGGTTGTGTGGGTTGGATCCTTGTGGGTCCAATCCCGTGCTGCATATCTGGGAACTGTGACCTTGTTTGACATGGCCATGTGTCTGCCAAGCAGGATGGGGTCGGTGGCGGGAAGCACAGAGAACCATGAGACCCACGCCTTTTCTCTAGGGTCTTGGTGTCTCCGTGGGGAGATGGGATGCATTCATGAGAATATGGTGCATCCCATGAGCTGGCAAAGTGGGCAGGTGTATGGTGGAGGGGGAGGGAGCCAGTGCTCTTCCGCCCAGGGGGACTGATGCAAGGTGACTCCCATCACGGAGGACCCTGCTTGATTTGGGTCTTGGAGGGTGGATGACAGGGAAGAGAGGGAGGAAGGACTGTCCCTACAGAAGAAGCCTGGGACATGTGTGGTGGGTGTTGGTGAGCAGGGTGGGACTCAGCTTTGTCGTGTGGAGTCGGGGGCACACAGCACCCAGCGGCTTCATTTCAGGACCCCTGTAAGTGCAACGGAGACTGCCTTGCAGCTGTCTGGGCATTTTGCTCTTTTTGTTTTTGGTGTTAAGGCCTCTAGGCTTTTATCATTTTGGGAAAACAGCAGGTCTCAGCTCACCCAGCACAGAATTAGGTCTCTAAACCGGCAAAGTACTGATCTGAACATGAGAGCTCATGAAAACTCTGGATGGCAAAAAATCTTGTAGAGGGATCCCTTAGTTTTCCTTGAGTTTGAGACATTTCATTTTAAGAAGCTTGGCCTTGGGGCAACAGACCAAGTCTAGCACAAATAATAAAGAGTGTATGTGTGTGTGGCGCACAGTCACGTTTCACGTACAAATGTGTAAAACTCGGCATTCTTACAAATAAAACATACCACAATAACAGATTTTTGCAGGTATTACAGTGCAAGCACGCTTTGGCAATCAATTTAAACATTTTCTTGTGGAATATTCTTCCATGCTATGGTTTGGTTTGTTTCTAAAGCCCCATAGGATGTGGAAACTAAGTCAGGACAGATTTTCTGGGGGTATCCTCTGGTTGCTCTTCCAGATACTTCCTGACTTCCTGGGGCTTGGGGAGAGGTGGATGCCTGCTGGGGCCATTTGCAGAGCAAGAACAGCTTCTCCTGGGAATAAGCAGGCCTCCACTGACCTTTGTTGGACGTTCTCTCCTCTCCCTCCTTCCCATCTGTCTCCGTCTTCTCTCTCCCACCTTTCTGCAGAGCCACCAACCAAATACCAAATCTCTCAACCAGAAGTGTACGTGGCTGCGCCAGGGGAGTCGCTAGAGGTGCGCTGCCTGTTGAAAGATGCCGCCGTGATCAGTTGGACTAAGGATGGGGTGCACTTGGGGCCCAACAATAGGACAGTGCTTATTGGGGAGTACTTGCAGATAAAGGGCGCCACGCCTAGAGACTCCGGCCTCTATGCTTGTACTGCCAGTAGGACTGTAGACAGTGAAACTTGGTACTTCATGGTGAATGTCACAGGTGAGTTGGCCCGCCAGCACTATGCTCTCTCTTCTCTGTAGCCATTACATTTTTTTGGCCAAGTGAAAAGGTAGTGAGATCTCTAATTGTAATTGGATGCCAGGCATACAGCTTCATAGTTTTTGAAATTCTTCTTTGGGACCTGGTGCACCAGAAAGGCCGATCATTAAGAATGATAGAATTCTTGTGCACAAAGTAACATTTTTCTTAAGATAGTACGCTTTTATTTAAGTAAATACATGCTTTTTTTTTTTTTTTTTTGTACCACTGACATCTCTGGCATTTAGAATATAGGGTTGAAATTTGGATACTCAAGATTTCTGATTCATTTATTAGAGTTTGAGTTTCTCTCCATGATTTCCTTCTATGCAGTGAGCGGGACAGAACAGGCCCCCTTTGTGGCCGAGTTTAAAGTTCTGCTTTCAGAATGTTAGTTGACGATGAGAAGGGCCACACAGGGACTGAGTTTTGTTAGGGATCAATTTCTTTCTTCAAGGAGACCCCGCATACTGAAAGGTTAATGTTGGAAAAAGAGTCTTTGGGTGCTACACAATTGGTAAATTTGTCAGGGGCTTGAATACTGTTTGAAGCTTGAAATCCAGTTCTCATATATCCAATTTTATAGCCTGTTTAAATAGCGTGAAAGCAGAAAACATTGAGAATCATAACATAGACCAACTGTCATCATGGAGGGAAAATTTAAGCCATTAAAACTATCTTAACTGAAAACAATCCCAGGCTCTTTGCGAGGGTTCCTGGGTTGTTGACTTTGCTATGGAGAAGGTCTCAGTTGTAGATAATTGCAACCTTTTTGCTTTGCAAAAAACACATCCATGGAATATGTTCTTTTGCATACAGATGCCATCTCATCCGGAGATGATGAGGATGACACCGATGGTGCGGAAGATTTTGTCAGTGAGAACAGTAACAACAAGAGTAAGTAACTGCCCGGCTCCGATGGTCCCCGAGAGAGGAGCATGGAGGGAAGTTCTGCCTGTCACCTGTCTTCTTGTCGACTCTTCTGCGCCATGCTGTGTCCCGCGGCCCTTGCCTTTCCCCGCTGTGTCTACTTTCCTGACTTTCAAACCTGAGAATAAACCAGTGTTGCTGCACAGCCTTCTCTATCGTTTGTCCTTTCTTCTCGTGTCACTGGTCATTCGTTTTTCAAAGCAGTTACTACTTTTCTTTCCTTGATTTTCCCTTTTCCCTTTGACTTCTCCCTATTCAGAGACATAAGAATAGTAGAACCATGTAACATCTTGGTTTTCCTTGTAATCAGTGATTGTGCTTGGTTTAATCCAGTGGTGTGTGACTGGGGCAATTGCCTATTCTTGCTCTCCCGGCACATTGGGCAATATTTGGTTGTCACAACAGAGGGAGGGGGTGCTGGTGGCCTTTAGCTGGGGAGGGGCCAGGGATGCAGAGCACAGCCCCATAACAAAGAATTATCTGGTCCAAGATGTCAATCATCCCTAGGGTGAGAAACCCGGCCTCCTACAACACACACCTCATGCTGAGTGAAAATGAAGGACGTGTGCCTTACTTTGTAGACCACGATTGAAAAGGGAGCCAAGGGTGGCTTGCTTAATGAGGGCCATGAACACTGAGCGCTAACATGGGAGAGGCCATTTACTTGCGAGGAAGAACATGGCGTAGCCTCTTGGAGCTGGGCAACCTGGGTTTGAATCTTGCTCCACAACTTCTGAGTTGCTCATTTCACTTCTGTGCCTTAGTTTCTTTATAAAATGGGAGTAATAATAATAATACTATTTTCTGGGGTTGTTATGAGGATTACATGAGTTCCTAGTTGTATAGTGCTCAGAAGAGTGGTTGCTTGCAAATGTTTATTCAATACACAAAATACAATATAGCATTACTTGCATTTTCCAATGACTTGGCTAGAATGTTCCTAAAGTGTTTGTACATAGGGTATTGGGATTCTCTGCTTACATGGTATATTCTACATTTTTCTTAAAAGGATTTTAGTCAATTTGGTACATTTAAACAAGGCCTAAGTAATATACCACACCCGGCTAATTTATGTATATATATATATTTTTTCCCGAGATGCAGTCTTGTTCTGTCACCCAGGCTGGAGTGCAGTGGCGCCATCTTGGCTCACTGCAACCTGCACCTCCCAGGTTCAAGCAATTCTCCTGCCTCAGCCTCCCGAGTAACTAGGACTACAGGGGCCTGCCACTACACCTGGCTAATTTTTGTATTTTTAGTAGAGATGGGGTTTCACCATGTTGGCTAGGCTGGTCTCGAACTCTTGACCTTGTGATTCACCTGCCTCGGCCTCCCAAAGTGCTGAGACTACAGGCGTCAGCCACCGTGCCCAGCCTAATTTATGTATTTTTAGTAGAGACAGGGTTTTACCATGTTGGCCAGGCTGGTCTTGAACTCCTGACCTCAAGTGATCCACCCGCCTCAGCCTCCTGAAGTGCTGGGATTACAGGTGTGAGCCACTGCGCCTGGCAATACTTTATTTTTTCGAGCAGTTTCAGGTCCACAGCAAAATAAAGAGGAAGGAACAAAGATTTCCCATATAATCTTCCCCAACACATGCATAGCCTGTCCTGTTATCAACATCCCCACCAGAATGGTACATCTGTTCCAGTTGATGAACCTGCACTGCCATCATTATCACCCAAAGTGTGTGGTTGACTTTAGGGTATGTAATCATACAGTGTGTAGCCTTTACAGATTGGCTTCTTTGACTTAGTAAGATGCATGTAAGTTTCTCTCATGTCTTTTCATGGCTTGATGGGTCATTTGTTTGTAGCACTGAGTATTCCATTGTTTGTATGTATCAAAGTTTATTTACCCGTTTACCTACTAAAAGATATCTCGGCTGGGCACCGTTGCTCACGCCTGTAATCCTAGCACTTTGTGAGGCCGAGGCGGGTGGATCACTTGGGAACAAAAGTTCGAGACCAGCTTGGCCAACATGGCAAAATCCCTGTCTCTGCTAAAAATACATAGGTTAGCCAAGTGTAGTGGTGCATGCCTGTAATCCCAGCTACTCGGGAGGCTGAGGCATGAGAATCACTTGAACCCAGGATGCGGAGGTTGCAGTGAGTCGAGATCACACCACTGCACTCCCTCCTGCCTGGGTGACAGAGTGAGACTCCATCTCAAAAAAAAAAAAAACAAACTCTGTTGCTTCCAAGTTTTGACAGTTGCAAATAAAGCTGCTACAGACATCTTTGTGCGGGTTTTTGTGGGGACATAGTTTTCAATTACTTTGGGTAAATGTTAAGGAGTGTGATTGCTGGATTATGTGAGAAGAGTATGTTTAGATTTGTAGGAAACCACCTAGCTGCCTTGCAAAGTGGCTGCACCATTTTGTATTCCCACCAGCAATGAATGAGAGTTCCTGTTGCTCCACATCATTCGATGTGCTTGGTGTTCTGGATTTTGGCCATTCTGATAGGTGTGTAATGGTATTTTGTTGTTTTAATTTAAATTTCTCTGATGACAGATGATGTGAAGCATCTTTTCATATGATTAATTGCCATCCATGTATCTTCTTTGGTGAGATGTCTGTTAAGGCCGTTGGCCCATTTTTTAATTAGGTTGTTTGTTTTCTTACTGTCGAGTTATAAGAGTTCTTTGTATATTTTGGATAACAGTCCTTTATTACATCTCTTTTGCAAATAGTTTCTCCCCTCACCTGTGGCTTGCCTTTTCATTCTCTTGACAGTGTCTCTTGCAGAGCAGAAATTTTTAAGTTTCATGTAGTCTGGTTTTTCTTTTATGGATGGTGCCTTTGGTGTTATACCTAAAATGTCATCACCCAACCCAAGGTCATCTAGATTTTCTCCTATGTTACCTCCTAGGAGTATTATTGTTTTGTATTTTGTATTTATGTGTGTAATCTATTTTAAGTTAATTTTTGTAAAGGATGTAAGGTGTGTGTGTGGATTCACTTTTTAGCCTGTGGATGTCCAGTGGTTCTGGGACTATTTGTTGAAAAGACTGTCCTTTAGGTTTTTTTTTTTTTTTTTTTGAGATGGGAGTTTCGCTCTTGTTGCCCAGGCTGGAGCGCAATGGTGCGATCTCAGCTCACCGCAGCCCCTGCCTCCCGGGTTCAAGCAATTCTCCTGCCTCAGCCTCCTGAGTAGCTGGGATTACAGGTACATGCTACCACACCCCGCTAATTTTGTATTTTTAGTAGAGACGGGGTTTCTCCATGTTGGTCAGGCTGGTCTGGAACTCCCGACCTCAGGTGATCTGCCTGCCTCGGCCTCCCAAAGTGCTGGGATTACAGGTGTGAGCCACTGCGCCCGGCCTGTCTTCTTAAAGGAAAAAGATAAAATAGATATTGGTAGGTGCCTCGGATAAATGAGTTACTTAAGTGAAGACTTAGATTTGTCCCTGAGTCTCCTAGCAGCTGGGGCAAAAGAGAAATATTTTGGTTGGTGCAGTTTTTACTTTTTGTCAAGAGGAAGCTTAGGGCAGTGGTTCTCAAAGTAAAGTTCCTGGACCAGCAGCATCAGCATCACCTGAGAACTCCCTCGAAATGCAGATTCTCAGGTTCCTCCTCAGACCCACTGCCTCAGAAACTCTGGGGCTGATTCTGATTCACACTGAAATGCGAGAACCACTGGCTTAGAATTTGCACGTGGAGGTCTGCCCTGAATGGGAGCTTACTGTTAGTGGTCTTGTTCGTAAAACAGTGGATAATAAGGTGAGTGGAAGTATCTTCTGTGATTTGTACCAGCCTTCTAAAGAGGTTATCATTATTGTTATTTAATAAAAAGCACTGATAAGTGGAGCATGTCACTCGCCTCTTTTTTTTTTTTTTTTTTTTTTTTTTGGGGACGGAGTCTTGCTCTGTTGCCCAGGCTGGAGTGCAGTGGTGCTATCTCGGCTCACTGCAAGCTCCGCCTCCCGGGTTCACGCCATTCTCCTGCCTCAGCCTCCCGAGTAGCTGGGACTACAGGTGCCCACCACCACACCCGGCTAATTTTTTGTATTTTTTAGTAGAGATGGGGTTCCACCATGTTAGCCAGAATGGTCTCGATCTCCTGACCTCGTGATCTGCTCGCCTCGGCCTCCCAAAGTGCTGGGATTACAGGCGTGAGCCACGGCACCTGGCCCACTCACTTCTTTTGGCCAGTGGCTCTGGCATGAAGCTGGAGGCAAAGATGCTGAGGGCCTGCACTAGACAGGCTCTGTGCTGGCTGCTGGTTCCGTCCATGCCACCAATAACCCGATCAGGTGGAGAGAGTATTTATTCTTGCTTTATTGAATGGAAAATTGTGGCTTAGCAAGCAAAAGAAGGGCTGCGTTTCAGTTGTAGGCCTGTTGCCTGAGAGCATCCTAGGGTCACGATGGGGGTGGAGTGAGAATGCTTGTACAGGTGTTTACAGCTCTCCAGTTTTACTGTATGTGGGTGCCCTCGCTATGGATTGAGACATCAGATTCTGTCAGCTTGGTTTTTGGATGCCTGGGGAACTGCGTTGTCCTGGTTGTCGGCTACCTGCCTAATAGCAGGTTACCGTGAAACCATGTGAAGCAATAGAATGCAACAGCAAGGTATGGATTACATGACAGGCAGGCTGAGTGGTTCAGAAGGATTATATGCTGTGGACCTTATGCTTTGCATTGTGAACAGTGTTCCTAACTGCCCAGCGCCCATGCAGAAGGGCCAGGGGGTAGAGCACCCATGTGATGAATGCCAACCAACAGTGTACTTGCCATGCCTTCACCTTGCAAGCAGGGTTCTTTTGTAATTAGCTCTCGAATGACAGCAACTCTGCCCCTGAAATGGGTGCTCTGCAGTGATTAAGGGCTAGTGTTAGCTGTACCAGGGAGATACTGCTGTGAGGAGGTGCCTCTGTTTGGTGTCTGTGAAACATTAGATGCTATTTAAAGTGATAGCGGTTCTTAGCTGGCTACTTGGCCTCTGCCATCTGTTAGTGTGATTAGGCTGGTCTGATTCACAGGTGCAGCCTGGGGCGGCTGAGATTAAGCAGCTGTGGTCTGTGTGGACAGAGGAATGCCACGGCCGGGGTAATTGGCAAGGCAGGAAAGGGGACGTTGCCATTAAAACAATTTTTTGCCACCTCAAGTGTCAAATGCCTGACCCGATTAATAGGGAAAATTGCAGAAGCACCAAATTCTTTGTATTTTCAGCCACCTGGAAAACACTCATGTGTCCAGATTGATTTCTTTGGTGCCTTCTGATTGTCTGAAAATGCCACTGGGGTGTGTTTGTATGTTCTTCTTTAGGAACTTTGACAAATGATGCTCCAGTGACCCTGTGTTGATGGTGACGTTTTTGGGCTTTTTTGAGTTTTTTTTTTTTTTTTTTTTTTCTCCTTTTGGATTGAGACATTGAAAATTTAGTTCTGTATCTTCCAGTTGGAAAAATATATTGCAGGTTATTCCCTCTGCTGATTTGCTAGATTATTGATCTAATTTTGTTGGTTAACATAAGAAGGCAAGCTCAGCTGCCTGCTAGAGTGTTTTTTAGATTCTGTACAGAGTACGAAAAGCTTGGGTGCCAAATACAATGGCAAAAATAACAATGAAGAATTAAAGATCGGGCGCGGTGGCTCATGGATGTAATCCCAGTACTTTGGGAGGCCGAGGCAGGCGGATCACAAGGTCAGGAGTTCGAGACCAGCCTGGCCAATATGGTGAAACTCCATCTCTACTAAAATATAAAAATTAGCCGGGCTTGGTGGCGGGCGCCTGAGGCTGAGGCAGGAGAATCACTTGAACCCGGGAAGTGGAGGTTGCAGTGAGCCGAAATTGTGCCACTGCACCCCAGCCTGGGCGACAGAGTGAGACTCCGTCTCAAAAAAAAAAAAAAACAAAAAACTGTATCTATTAACATCATGTTGTACATGCATTGAAAAACCCAGCCATGGGCTGATTTGATTGATCTTTTTAAGTTGGTTTCTTCATCACAGATGTGCAGGGCATTCTCTGGTCATATTTTAGCAGCTGACTAGCTGATGACCTCACATGGTACCAGCACTAGATGTTTCCAAGTGGAACAGTCCTGTGATGTCATTACAAGCCTGGTTGCCAGGAAATAATGCTGTTACATATGCCCCTCGGTGCAACACATTTTCTCCAGAAAGAAAGTTGCAGTTTCATATGCTAATTTTTGAAATGCATCCAGGTTGAGGGTTTTGAAGGGTTGAGAATTTATCCTTTCGCATAGAAAAGTATAAGTTAACTAGTTCTTGCCTTCCCTAGGTACTAGGTATGTTAATGGGTTATCTGGCAGCAACTAGGTAGATGCATATACCCATTTGTTCGAGGGATTTTTATTGTTTCCAGCTTGTTTCGGTGATTAATGTTTCTGAAGAGCTTGAGACTTAGTTTTTGAGAAGATCATGATGGACGAAAAGTTCAGGTCCATTGCTTAACTCGAGGGAAGTGATGGAGAGACAGTTGCATCAAGACTCTTGCTGCTAAAGTGGTTCTTTCTCTCGAGTGATGAGAGAAAAAGTAATTTTCTATTTTGGTTTCATTCCTGTTGAGACCTGCAGATGCCCACACTCCATGTCAGGGAGAAAGGCTATTTTTTTTGGAAGTACCTAGGGAAAATGAAGGTAGTTAGCCTGAGATTCCAAACTCATTTCATTGATTAACCTGCCGATAACAGTTCAAAGTCACCTTTGTTCTAATTGGGATTTTTACTTGGTAGAGATCCTAAGTTGGTAACAGCAGGCTTCTTAGTTGTGTTGAAGTTTCTAGGAATTGAAAAGAACAATATCAGTAATAAAAACAACAAAAAACCCACACAGGCTTTGCAAATTTTTAGAAATTCCCTTTGTAATGAAAACATCATCAATAAGTTGGTTTGGGCCAGCATAGCAGCTCGCACCTGTAATTCCAGCTAGTTGGGAGGCCGAAGCAGGAGGATCGTGTATACCCAGGAGTTTGAGACTAGCCTCGGGAGCATAGCAAGACCGCATCTCTACAAAAAATAAAAGATTAGCCAGGTGTGGTAGCTCATGCCTGCAGTCCCAGTTACTTGGGAGGCTCAGGTGGGAGGATCACCTGAGCCCAGGAGGTCAAGGCTGCAGTGAGCTGTGGTTGTACCACTGCAGTGCAGCCTGGGCAACGGAGCAAGACCCTGTCTCTTAAAAAGAAGAAAAAGCTGCTTTTGGTATTTTATCACAAATACTGTTGATGGTGTTCCATCCAATGGTTGGACTGAATATCTTTCTCAGTCTCCTCCTTGGTCAAACAGCATAGCCAATGATTGGAGAAGTTTCCTTTGAAGGCAGATCTTGGGAATTCCCATGGGCTAACTGGTCTGCTAGTGGGCTCAGTTCTTTCACTTGTGGTTAACTTGCTTGGTTTTGAAAACATATATTTCTGATTGAATGCCTGGCTGGTTAGCAAGTTTTTAATGAGATTTCTCAAAGCCACAGACATACCCCCTCATAATCATATCCTCACTCACATCTCCGTATTTTGTTAGATTTGTTTTCTCTTAGTTTATACCAAACTGAAAGCAGAACTGCAGGGTAGTGGGGAGCTCTGAGACATTTTTCCCCTGTCAGGAGTCAAAGCATTCAAATGTCCTGATTAGTGATATTTTTAAAAGCCCTAATTATAGACTCGAGACAGAGGCTTTAGTGGGGCTTTAGAGAGTTTGTGAGACTTAATCTAGGAGCTGGAACAGGCTGTGTTTTTAAAATTTTTTGCATCCATAAAAATACAGTTGGCAGTCATTGGTGGCCGCGGCTCACATAAATCTTGAACTTTTGACTTAATTACCATGGGAGAGTTCAAAGGGCAGGCTGGAGTGGTTGAAGGAACACTGCTCAGGGAGCTGGAGATGGGCCTGGCCTCAGCCCGGCCTCTGGCTGTGTGACCTTGATCAAATCACTTAACCTTTCTGGATGACATTGATATCATCAGTCGTTGGGCCAGATGGTCACCGAGGTCTCTTTTGGTACAGCCTGGTAATATGATTCCATGTTTCTCCTTTAAATCATTGGGCCGTGTTCTCTGTTTTTTGGTTCCAGAGAGAGAGAGAGAGAGAGAGAGAGAGAGAGAGAGAGTAGATTATAAACCTTAGGTGTCAGCATTGAGATGTGCAAGGGTTTTGGTGGGGGCAGGCCCAGCAGCCTATGGTTTCTCACTAAGTTTAAATTGCAGGGTCAAAAGAAATCACATAATCCTACCATTTGTTGACAGAATCAATACCTGTCTAGCACATAGATACCTGGAAAGTATGTTCGAACTGGCGGGGACCTTAATCAGTGCAACTACTTCATTTTATAGCTAAAGCTTTTAATAGTCATCCATCCGTCCATCCATCCGTCCGTCCATCCATCCATCCATCCATCCATCCAATAACGCTTGAGTGCCTACTCCATAGGCTAAAGACAACTCCAGCTGTACCCTCCAGGTGCCCTACTGTTGTTGGTCAGCATCAGAAGGAGTATTTTTCAGTACAGAGACACTAATGTTGGAAGCACACATCTATCACAAAGAAGGGGCCCTGAGAAAGAATAACTTGGCTCTAGGGTGGGAATAATAAAGGCTGTGTTGGAGTCCTTTGAAGGAAGTTTCTGTGGGTTTATAAATCTCTCTTTAACTCATTGCATCTTAAAAGACTTCTGTTGTCTTAAAGTAAAATTCTACTTAATATTATTACTAATGTGCAATGACTGTTACAGTGTAGAAAATGATAATGAGTAGGTATGCTATATGCTGGTGATGGGATTTAATTGATGGGATGGGATTGATTGATTGTGGCTAGGTCTGACTGTTCTTTAACCAGCTCATTCTTAGTATTTGATGATTAGGAGAACATCATTCTTGTGGTACCTATTACATCAGAAGGTCTAAGAATGTCAGAGCCAAAGGAACCATACCTCTCATCGAGGTTAATTTGTTTCCTTTACAGGTGGATTAGTGTCATTCATTTTGAATGCCATTGGAAGTTTATACCACACGTCTCTATTAGCTGACTTTAAGCCCGCTCTTCATACACCTCTAAGGTATATAAAGTTCAGGGAAACTCATGTGTCCTTAGCTTGCAGATTCATTTGATTGATTGATTGATTGATTGATTGATTGAGACAGAGTTTTGCTCTTGTCGCCCAGGCTGGAGTGCAATGGCATGATCTCGGCTCACTGCAACCTCTGCCTCCTGGGTTCAAGCAATTCTCCTGCCTCACCCTCCCTAGTAGCTGGGACTACAGCCATGCGTCACCATGTCCAGCTAATTTTTGCATTTTTAGTGGAGACGGGGTTTCACCATGTTGGTCAGGCTGGTCTCGGACTCCTGACCTCAGGTGATCCGCCCACCTCGGCCTCCCAAAGGCTGGGATTACAGGCGTGAGCCACCGCGCCTGGCCTGCAGATTCATTTTAGATAAGATTGTTGAGTAAACATCCCTGTTAAGCATCTACTATGGACAAGGCTGATCTCTGCTTCAGTAGATCTTTAATTTGGTACATGAGTTCCTTCTCCAAATGAGAGTTGTTAAAGCTGTTCACGAGCCTTGGTATAAAAGGGGCTTCCTTAGGTAGAGGAGCCCGTTCTAAGTGCCTGGATGGTGTTTGTCTCCAGCTGTTTTGCAGTTCTTGGGAGGCCCTGGCATTTCCATGTGTGTCCTTTCCAACTGCAAAAACATACAGAGGACACAAGGCTGCTGATGAAGGAAACACAGTAGGGCTATCTTATAGTATTATTATTTTTCTAGATCTTACAGATTCAAGGTTCACATAAAGCTAGTGTATTTTAGGAAGAGCTATTGTAAAATTATAAAAGAGTTCCAGCCGGGCGCGGTAGCTCACGCCTGTAATCCCAGCACTTTGGGAGGCTGAGGCAGGTGGATCATGAGGTCAGGAGATCCAGACCATCCTGGCTAAAACGGTGAAACCCTGGCTAAAACGGTGAAACCCTGTCTCTACTAAAAATACAAAAAAAAAAAAAAAAAAATTAGCCGGGCATGGTGGCGGGCACCTGTAGTCCCAGCTACTCGGGAGGCTGAGGCAGGAGAATGGCGTGAACCCGGGAGGCAGAGCTTGCAGTGAGCCAAGATCGCGCCACTGCACTCCAGCCTGGGCAACAGAGCAAGACGCTGTCTCAAAAAAAGGAAAAAAAAAAAAAAGACTTCCTCCCCTCCCGTATCAAGTTCATTAAACATATTTGTGAGCTTGATATTTAAAGAGAGGCTGTGTGCTGGTGTGATGTTAGCAGTCACCAGGGTGGGGCTGGTCACACATGGGAGCCTGGGTGGAGGGTTGTGCCTGGATTTTTTATGGTGGCCCCCAACCTTGGATCTCTGAGACCTAGATGAGCAGCACTGCACCCGTACCCTGCTGTATGGCTGTGTCTGTGTTTTGCAGAAGCAGATTTTATAGGTGTAGCTTTGATGATTGAAATATCACCCGAGGGAAGTGGCTACCTGCCAGAAATTCCAGCAACATTATTTCACCTTAGTCCTTAAATCACTCCCGAGGCACCAAGACAAAGGTGCGGGTTGCCCATGGGCTGTTGCCACAGGTCAGGCCTGCATAGGTGCGCGTGGTCTGGGCCGGTCCCTGGGCTGTTACAGACTCACCCATGGCTTGGCCCAGTGAGGGCAGAAAAGAACAACATTCCTAGTTCCTTCAGCTAAATCCCACTTTTTTTTTAGGGAACATAAAAATCATGCCTAATGGTATGTAAGCACATATCTGTTGATTTCTTTTATGTAAAAAAGAAAAGACATTCCACAGGATCAGCTCAGCAGTAATTGATGTTATCTGAAAGAGTTACTGCATTAATATTTAGCTAATTCATATGAATAGGCTATTGTGTTTACTTAAACAAATGACATGAGTGCAGACACCTGACAGCATGAGGTATGCTTTTCATTTAGGTTAGATTTGTAAACGTCTTTGTGTAGTGACAAAGCTCATTATTTGTTTTGTGCTCTCAATGGTTTCTTTTTAGTGGCTGTGGCTGTGGATGGATTTTTCTAAGTAGAAGCTTTTAAAATGAAAGTTTATTGAAATTGTTTCAGTATATGCCAGGCCCTGAGAGTCTTGGGATGAATGGGAATCAAGTACTCCCTGGTGAACCCTCAAAAGAATAGGTGCGTTTATGGGCATTCAACACCCAGAGCCAAATGTCTACCCAGGTTGCAAATGCAACTGGATTCAAAGGAAGGAATTCAGCCCCTGTTCCTTCTTTCTCCTCCTTCCTCTTCTTCTCTCCTGGCTTCGATAGTTTTGCCCCTCTTCCCACTGTTTCAGCATCATATGGGTGCACCTAAATCCCATCACTTTGACACTTAGATAAGCACAGGGATAAAGATACAGCATGGCCTTGTAAAGAAATCTCAGCTCTACCTTTGACAACAGGTTTCAAGAGCAAGCGTGAAGGCTAATTGGGGTAGGTGTTTGGATGCAGCGATTTCAATTCCTGATTGTACCCTGAGTCTGGCTGCTAAGTGAAGGGGATCCTTATCCCCCAGGGACGTGCTCTACACCCGTAGAATAGAGGAGACTTCTAAATATGCATCAGAGACAAAGCCCCTGCCTAGGGCCATTTTGCCTTGGGTTTGTGAACTGTGTGTGCTGTTGTTCAGTCTAGCCTTCATCAGAAATAAGCATAGTTATGAATTAGCCTTCTACAATGTTCAAGTCCCTGTTGGTGGCTGTTTCAGAGGAATACAGGGATTTTGGTTACTACTTTGCTAAGACAGAAACATATATGTGAATAGTTAAATTGCTGTACAGTAGAGGTTCTGGACAGGAAAAAAGGAGGACGTGTGCCTTGACCCAGGCTGGCTTTCCCGGACTTCAGCCTTAAACATCAGATTGGTGGAAGGTACGGATTCCAACCTCGTGGAGAAGCTGCATCTTCTTAGCAGTGGAGAGTAGGGTTGAAGATAGTGGGCTCTGGCATCAGACTGATGTGGTTCAAATCTTGGCTGCACCTCTTCCAAGCTTTGTGGCTTTTGGCAGGTTACTTAACTGCTCTGTGCCTCAGTTTCCCCACTTGGAAGCCAAGATTATGATAGTGCCTTTCTTGTTGAAGCATTGTGAAGATTAATGTGTTGACATGTAAAAACTCTTTGAGCAGTGCTTGGCAAAGTAGAAGCTTTCAGTCGGTAGTAGTCATTCGCCATTATTAGCAGACATGAAGAATTTACAGTGGTATTCTGGCTTGATGTTGTGGCTTTTATTTAGAAAAAATATACTTTACTTTGTGATTTAAAACTTTTTTCTTGACTTTAAAAAATCACTTGTATTTATGACTTTCGGGGACATCTGGAGGGCATAACTTTAACATATCATTTAATTGGTAGCCTCCTCTTAAGTTATCATTAGGTGGGGTGGTAGGGTTATGGCATTCATAACCACCATTGGAAAGAAATTTTTTTTTTAATTAAAAAAGTTAGTATGTATTTAGTGATACAGTTTTTTTTTTTGTTTGTTTGTTTGTATATAAGTTCTGAGAAATGTACGAATGACTCTCTGGGTTATTTTATTATATTAGAATGACAATTTATACTATTGATTGCCCTTAAAGTAAGGCTCCAATGGATAAGTTGATAGGGCTTTTGAGAACAACTTGCTTTTACTAGTGTGTATATGTGATCATTTAATAGGTGTGGCAATCCAAAATGATCTATTTTTGGAGGACTGAGCTGTCGCAGTTGTATATGTTGTTCATATGTTTATAAAATAGCATTTTAAAACATGATTTGGCATGAAATTATTTTCTGGCATCAAGAACAAGAGAGAGAAGGGGCCTCAAACACTTTTTTTTTTTTCTTCCTGTTGGTAGACATGAACCATCCCTCTCTGGGACCTTCTGCTCAGCCAGCTGGATTAGACTTCTGAAAATATTTTCCAAATGTAAATATTACCCAAAGATTTAAAAAATAGCCTAGCATTTACATGCAAAGCGAAATGATCTTACCTGTTTGGAGTTTACTCATGGAGGGGAAGCTGTCCATCAGTATACATTCTAATACTGTTTTCCAAAACAGGAGCACCATACTGGACCAACACAGAAAAGATGGAAAAGCGGCTCCATGCTGTGCCTGCGGCCAACACTGTCAAGTTTCGCTGCCCAGCCGGGGGGAACCCAATGCCAACCATGCGGTGGCTGAAAAACGGGAAGGAGTTTAAGCAGGAGCATCGCATTGGAGGCTACAAGGTAGAATTAAGCTTTCAGAACATCACATTTCTTACATTTTTGTTTATTTATTTATTTACATTTTTTTTTTGCGATGGAGTCTCGCTCTGTCGCCCAGGCTGGAGTGCCGTGGTGCGATCTCGGTTCACTGCAACCTCCATCTCCCAGGTTCAAGCGATTCTCCTGCCTCAGCCTCCCGAGTAGCTGGGACTACAGGTGTGTGCCACCATGCCTCGCTAATTTTTTGTATCTGTAGCAGAGACGGGGTTTCACCGTGTTGTCCAGGATGGTCTTGATCTCCTGACCTCGTGATCCGCCTGCCTCGGCCTCCCAAAGTGTTGGGATTACAGGTGTGAGCCACGATGCCCAGCCCTACATTTTTGTTTATTTTTTGAAGTGCTCAAAAGTTAGCAGGAATTAGAAGGAATACTTTAACAAGAATCAATAATTGTCACAATTGCCCATGTCAGGGTTTGATATTAAAAAAAAATATTACCCCGGACTTGCGTGTAATTTTAAAGTACAATTCCCGTTTGTGTTGTTCTTCATATGAGGAGAGTTTAATAACAGAAGGGTCGAAAGTTGAGAGTCTGTTTTCTATATGCTTTATAGTGTATAAAACTAAAACGGGTGTGGAGTTTGAGAAGCGTCAGTATAGTTTCCCTGTCAGAGCAGGATTGCATGAATAGTGAGGGGACTTGGATTAGAGACTGGAGTATGAAATATGATGCATTAAGGGAGAGTGCGTGGAGATGACAGTGGCAATCTGCTGTCCTCCTTGAAGGATTCTTGAGAGCACGTCACACAATGCCATGAAATTTTAGTCTCATCACTCCCTAGGGAGTTTGAAATTGGCAGCTGTCTCCCTGCAGATGCCCGCGCATGCTCCTCTAGCCTTTGTTCATCCACTTAGCAGACATTGATTGAGCACCCTGTGTGCCAGGCACACTCCTGGGCTCTGGGGAGATGAGAGGGTGAGGCATGGCCCCAGCTCCAAGGGGCTCTTAGTCCAGTCCAGCAGGAGAGGCAGAGGAGAACTCTGGCAATGGGAGGGACACAGGTTTGGTTGAAGTTGCAGGAGCATGTTGCATCCCATGGATGTACATGGAAAGGTGATATTGGATTGGCGTTTGGAAGAATAAGGAGAAAGGAGGTCAGGAAAGGATTCAGGTCTGAGTTGGAAGGAAAGATGTCTCAGAAAGAGAGAGATGGAATTTCCAAATTATTTAGTATGGAAGGAGAGAACTGTAATAATTGAGCATATGAAAAGGACTGAAGGAAACCTTATGATGAAATTCTCTGATGCATTTGGAACATAAGTGGGCATATTAGTTACCTGTTGCTGCATAATAAATTGCCCCAAGGTATGGTAGCTTTAAGCAACATTTATTACCTCATTGTTGCCTGGATCAGGAATGAAGGTGTGGCTTAGCTGGGTCTTCCATCTCCAGCTGTCTCACAGGACTGTAAGCAAGGAAGGGTTGAGGCTGAGGTCTCATTGGAAGGGTTAATTGGGGAAGGAACTGCTCATGTGGTTGCTGTTAGGATTCACTTCCTTGCAGAGGGCCTCAGTTCCTCACTGACTGTTGGCTGGGGGCTGCCCACTGTTCCATGCCACACGGGCCTCTTCATAGGGCAGCTGCTGTCATCAGGTTGAGCAAAGGAGGAGCCAGAGAGAGAGAGAGCAGGATCGCAGAAGTCAGAGCCTTTTGTAACCTAGTGTTGGAAGGGACAGCCACCACTTTTGCTTTTTTCCATTATTAAGCAAGACACTAGGGAGGAGGTTGCCCAAGGACCTGAATGCCAGGAGACAAGGGGATCACCGGAACCCATCTGGGAAAACTGCATGGTGGGAGGAATAGAAGACGCTCTTTAGCTCAGACCTCAGGTCCTTTACAGCCAGGTAGGGAGGATTCCTCAGTAGCAGCAGTGGGGTGTCCAGGACTGTGTCTCACGTGTCTTTAACACACCAGCATCACTTTAGCTCCATCATTGCTGTAGGTAAATGAGCCTCCTTTCCACCTAAAAATGCCCTGCAACCCTTTTCTGAAATTTCTTAGACAGTTATTCATCTTTAAAGGATTATTTTCTTCTGCAAAAGTTTTTGCCTTTTTGTTTTAACACTTAGAAATTAACATCTAGAGGCCAAAATTCAGAGGAAAATGGGGACAGCCTATGAGTAAGTTTCTAAGAACGCATGGTGGGCAGTGAACATGTGAAACAGTTATGAGGCAGATCTGCTAGCAGGTGGGTACTGTTGAAGCTTGAAAGTAGAAATACTTTGGTTGTTTTCCACAACTCCTACTTGGTGGTGGAAGCAGGAGGCAGGGGGTGATTTGTCCTTCTGTTCTTAGTTCAGTCCTTAGACCAGATACGATGAGATTCAAAGGTTGGCCCTTTTAAAAGAAATCTTTTTGAAAAAAAAAAGTTAAGGATTTCATGGGGGGATGCTGGTTAGAAAGGAAGAGTTAAGCCACTAAAATCACGGCCCCTGGGATTGTTTTTAACCACCAAATGCTTTCTGAAACTCACATAATTGATGCAGTTCCAATGATTTATTTAAATACAATCTGAGTGTGAGAATGGTGGTCAAAATCCTGGTGGTTAACTAATTTTGTCAATTAAGACAGCCTTGTAAATAAGTACAAAGAGGAGCTGATGAGGCTCCAGAGACCCCTGGGCTCAAAATAAATGGAACCGACATCATTATTATGGGGAAGGAGCTTTTTGCAAATCTGAATTAGTGATTACAAATATGCTAAGAGACTAAGAGGGCCTAATGAGAAAATGCTGCCTGATTTTTAACAGGTGCAGTTCAGTGTTAATTATTGATTCCAACATTTCGCTAGATGAAGAGCACCTATGTTCTAAAAGCAAAATGAGGACTCCCAGCAGAAAGCCTTTAGCCTGCCCCTGTGGAGTGCAGATGACCAAAGTGATTTTGTTGTATCACGCTGAGCCGTTTCTGGAGGGAAAAGGAAATGGAATTTCAGTGTGTGGGACAAAAACCTAAAATATATTTTGCTTTACCAAAAAAAAAAAAAAAAAAAAAAAAAAAAAAAAAAGGCCAAAAGCGGCAGAGGGCCACACATTTGGATGCAGTGTGCTGGCGTGGTCCTCTCCTTTCTGGTTCTCTGGTGGAGAAAGGCTATGGCTGTAGGGTGGGGCGGCCTGGGAGGTTGGCCCGCTAGTTGCAGAGGTGGTCAGCCTAGGTTGATCAAGGGCTTTTCACAACAGCAGTGGCATTGAACGTTCATTTTGGAGATGCCAGAAACTCTTAGAAATTCCACTGAGTCCCAAGGGCTTCCGGGACTTGAAAAGGAAAGACACATTTCTCATCTCCTGGGAAGGTTCCTTCAGTTACCTAAGGCATCATCTTCGCTAATGATGTGTTAAGCCAACCCCAGGTCCTGGAGTCACTGGAGCTCAAAGAGGCTCATTCCCACCTGTGGGCCTCCCCCATGGGGAGCTCCTTGGCTGGCTATGGCCTGCGTTTGCCTCAGAGAGTCCTTGTTGGGGCCTGACCAAGGCAGACTTTGGGGAGAATGGTCCCTGGTGTTGGGTTTTCTCTCTGATATTTTCTTCGTTACCTACGTAGACTTAAAGAAATGTGCCTCTGGGTTGGGCACAGTGGCACTGTAATCCCACTGCTTTGGGAGGCTGAGGCAGGAGGATCATATGAGGCCAGGAGCACAAGACCAACTTAGGCAACATAGTGAGACCCCCATTTCTGCAAAAAATTTAAACCATTAGCTGGGCGTAGTAGTGCTCACCTGTAGTCCCAGCTACTCAAGCAGCTGAGGTGGGAGGATCGCTTGAGCCCAGGAGTTTGGGGCTGCAGGGAGCTGTGATTATGCCTCTGCAGTCCAGCCTGGATGATAGAGGAAGACTCTGTCAAAAAAAAAAAAAAGAAAAAAAAGGTACCTTTGCACATTTGACTTCAGGGAACTATATTGTTATTTTCATTCCTCGGCACTTCCTCAAAAGCAAAGAGACCTAATTGAAACTCAGAGGGCCTGACATCTAACTGATTCATTCCTGACTCCTGTCCATTTGCCACTTTGCTTTATTTTATTTTTATTTTTTGAGACTGAGTTTTGCTCTTGTTGCCCAGGCTGGAGTGCAATGGCATGATCTCAGCACACTGTAACCTCTGCCTCCCGGGTTCAAGCGATTTTCCTGTCTCAGCCTCACAAGTAGCTGGGATTACAGGTGCCCGCCACCACACCCAGCTAACTTTGTATTTTTAGTGGAGATGGGGTTTCACCATGTTGGTCATGCTGGTCTCGAACTCCTGACCTCAAGTGGTCCACCCTCCTTGGCCTCTGCGAGTGCTGGGATTACAGGCATGAGCTACTGCACCCGTCCCATTTGCCAGTTTATTTAATGAAGAAGCAAAATGTCAAGTTTTCCAAGATACATTTTTCCAGAAAGCAAATACCTGAAAAACTTCTTCAAACAAATGTGTGTTATTTCTGCAATTTTTCTTTTTCCTTTATAATTCTGTTCATTCCATAAACTATGATTGTGCTTTGGTGGCCTGTCCATCTCATTCTTTCTACCCGTTTATGGATTGGGCACCTCGGCAGCCATCCCCTGCATTACAGCTTGTTTTGAAATGGCATGCATGTGCGGCCTATAAAGGGAGGAGGGAAGACAAAAAAAGCAAAACAAAGTCAAAGAGAATTATGAAATGTGACAGAAAGCTCATTTTCATTCAAATGACCAATAGAACTATTTGGAATTCGGCAGTTCAGTCTTGTTTATCAAAGAACCCATGCTGAGCCATCCTTAGGTGATTAAGAATCAAATTATTATTTTTAAAGTGCATGAGCAAAGTCTTGCTGGATGTTATTAATATGTGATTGATATAATAGTAAAGGACTTGAATCATAACTCTATCTCCCTAATCATACTTATTCCTGGGCTTTTGCGTCAGTCTTGACCATGGGCAAGTTTTTTCAGCTCTCTGTGCCCCAGAATCCCTTGCCTTAAAATGGGAAGATTGGCTGAATAATCCTGATCCCTTCAGGCTCTGAGAACCATAATTTAATAGTATCACCATCGTGTAGCATCAGCCATTTCTCTTCTTAAACAACAGCACAGATTTTTTTTTTTTTTTTTTAATAAAGAGGTTACCTTCATGGCTAGATATTTCACAGGGCTCAGGACAGTTATTGCAATTTAATGCAGAAAAGCAAGAAGCTGGCTGAGATAATTAATAGACCACCTCAATTCTCACCTCCTTCGTAGGTAATTATTTAGGCATAGGGGGTTCTTAAAAACCATCTTTTATGCCACTTCGAAGTGCCTGCATAGACCAAGAGAGATCGCAGGACAGAGGGCTCATTCAACGTGACTGTGAAATTGGCACAGAAGCCCTCAGCGTTGGGTATTACAGGGGTTCAGGTTCCCCTGGAGCCCCTCAGCAGAGAGTAAAGCATTATTGAGCATGAACCAAGTATATTTCAGATCTAAGAAAAGATGATTTTTAAAACTTTTGTTATAATCACTACTAAACTGGTTGTTTTGAAGCATAGGTTAATTAGATTTACATTTTCTAGGTTAGTTACTTAGATGTCATTTTAAAGACTTTTTGATGAAATGTTATGCTTAATCCACAAGTATGTTTAGGGGGAGAAATCATGACTAATGTACTTATCAGCATGTTTATACTTTATGGAGATTTTTTTTCAGTGAAGACATTTCAGCTTTAATCCCACATCAAGCAGTCTTTGATGAGGACACAGGTATATGTTTGTATTAGCCAACGTTTATGGACTGCTCCCCTGCGTCGTGACTTACCAGGTGCCTCCCATGGAGCAAGTTGCTCAGTCCTTCCACAGCCCAAAGAGGCAGACACTGTTATTTTGCCCTTTTACATTTGAGGGCTTGCCCTACCCCTACCTCATAGGTGGCACAGCTGCCATTTGGACCTACGTGGTTTTGCACCAGAATTTATGCTCTTGCTAAACTGCTTGCTTCAAATGTAGTTCCGTGTTTTGTAAAAACACTGTTGCTGTTGAATGAGAAACATAATGAAAGTAATGGCTCCCCAAAAGCATGCAAAGATCTAGCCCATGGTATACAGTTGAGAGCAAAGTTGGGGATATGATGCTGTTCTTTCAACTTCCAAGACCTCTGTGGGTTATTTATTTGTTTGTTTTTGAGACAGAGTCCCTCTATATTGCGCAGGCTGGAGTGCAGTGGTACGAACATGGCTCAGTGCAGTCTTGACCTCCTGGGTTCAAGTGATCCTCCTGCCTCAGCCTCCTGTGTAGCTAGGACCACAGGTGCATGGCACCACATTTGGCTAATTTTTAAATTTTTTGTAGAGACGGGGTCTCACTTGGTTGCCCAGACTGGCTTCGAACACGTAAGCTCAAGTGATCCTCCCACCTCAACCTCCCAAAGTATTGGAATTACAGGCTTGAGACACTGTGCCCAGCTGGTTATGAGGTTTTTACATTTATTGTGGTAATATATGCATAACATAAAATCTACCATTTAAGTCATTATCAAGTTTAGTAGGCATTAATTACATTCATGGTGTTGTGCAACCATCACCACTATTTTCAAAACTTTTTCATCTCTCCAAACAGAAACTTTGTACCCATTAAGTAGTAAGTACTCATTTCCCCTCCCCCACTGCACCTGGTAACCTCTAACCTACTTTTTGTGTCTATGAATTTGCCTATTCTGTGTACCTTATATAAGTGAAATCAGGATATTTTTCCTTTTGTGTCTGGCTTATTTCACTTAACAAAAGTCCATCCATATTGTAGCATGAATCAAAACTTTATTCCTTTTTATGGCTGAATTATATTCCATTGTATGGATATACCACTTTTTTTTTTTTTTTTTTTTAAGACGGAGTTTCACTCTGTTGCCCAGGCTGGAGTGCAGTGGTGCAACCTTGGCTCACTGCAACCTCCGCCTCCCAGGTTCGAGCGATTTTCCTGCCTCAGCCTCCTGAGTATGGGATTACAGGTGCTCACCACCATGCCCGGCTAATTTTTGTATTTTTAGTAGAGACAGGGTTTCACCATGTTGGTCAGGCTGGTCTCGATCTCCTGAACTTGCCATCCACCCACCTCAGCCTCCCAAAGTGCTGGGATTACAGGCATGAGCCACTGTGCCCGGCCCCACATTTTGTTTATCCATTCATCTGATGATGATCACTTGGGTTGCTTCTACCTTTTGGCTATTGTGAATAGCCATTGTAGCAATTGGTGTACAAGTATCTGTCCCAGTCCTTGCTATAAGTTTCTCTGGTATATACCTAGGAGTGGAATTGCAGGACCATATGGCATTTGTCTGTTTTGCAAAAGCAAAAATGGGGAAGATCGTGACATTTTTAAAGAGCTAAGTTCAACAGGCGGTGGATGTCCTGCCGCAGCCACCTTTGTGAGCACCGACAAGCAACGGGCCTCTAAGAAAACATGGCTTGTTGTAATTCACTTCCCACCTCCTCTGGAGAGATCCAGTGGTTGTTTACCGAGCAGAGGGAAGAGTTTCTGCCACTGGTCCCGAGGATCAGATTGCCCGGCCCTGTTCTCTGGACACCTCCTGAAAAGCAAACTTCTTGTATCAATGTTGGAGTTTAAGCATTAACAGGTGTTTGCCTCCACATCTGCATGGTGGTGAGCAACAGCAGGTACCTCTGTCCTTGACATGCAAGGTTAGTTGGCACAAATGCTTTCAGAAAGGATGGCTTCAAGTCCCCCAGGCACCTGCTGAAAGTGGGGGACTGGGATGGGAGAATAAGATTTTATGCATTTTTTGTTTTTTGTTTTGTTTTGAGACAGAGTCTCACTCTGTCACCCAGGCTGGAGTACAGTGGCATGATCTCAGCTCACTGCAGTCTCTGTCTCCCGGGTTCAAGCGATTCTCTTGCCTCAGCCTCCTGAGTAGCTGGGATTACAGGCACCTGCTACCATGCCTGACTAATTTTTATATTTTTAGTAGAGACAGAGTTTCACCATGTTGGCCAGGCTGGCCTCGAACTCCTGTCCTCAAATGATCTGCCCGCCTCGGCCTCCCAAAGTGCTGGGATTACAGGCGTGAGCCACTGCACCTGGCAGATTTTTTGCATTTTAATGGCAACTCACCTGTTGAATGAACTGATCTGTTCATGGGGTGGGTGCCTCTGTGAAGGCCAGGATTACAAGAGATTGCTGTCTTCCTGGGAAAATTGGGTGCTGATACTGGCGGGAGAAAGGCTTGGGAATATCTTTCTGATATCACATGGACACAGCGTTCTACCTGGCACAGAATAAAACTTTGTATCACCTTCTGCATGTTTATTCTGCTTGTTATCGAACACCTGAGTATTTGGAAATGTCTGGATTTTTTTGCAATGTGGAAGGTAAATATCCAGGTGACAGCCTGGGTCTTTAACCTTTCACCCTTCACCTTTCACTGCGGTGTTTTGGTGTCAACAAACTAAATCTACATTCCCAGTTGTCACCTGAGGGTAGCCTGGGATTTAATAGGCATTTTGGGGGAATGAAGGTAACAGAAGAATTCCGAAAAACCTGTCTGGGCCACCTTGTGTCTTTGTGTGGATAGGGTGTGGAATGTTCATGGAATCCGCTTCTTGTATTATACTTGGGAGTTTAGGCCATTTTGCTTCAGTCTGCTTTGTTTCAATATTGAAATGTTATTTTAAAAAAGTCTTTAGTGAACATAGTTTTGAAGTCCATGCTCTCCTGTTCTGTTACTTGGCAGATGAAAAATAATGATGAATTCCACAAAGATTTGGCCATGAGCAGGAAAGAAAAAGAGTCGTGCTTGTGTTGGTTGGTGCAGAATTTCTTCTCTCACTGGCTTTTGTGTTTGTTTTGCCAGATCCATTGGTTCTGCAGGGGGTAGCTACTATTGAATGATTATCTAAGGATCTGTTTTATTATACTTTTTTGTTGTGTGTGTTGAGATTTCTGTTTGTTTGAAAGGTAGAAATAAGAAAAAAGTAGGCAATACCCATAATCCCACTGCTTAATTATATAAAGTACATTGCTAACAATTTGGTATATTTTCTTTCTGATTTTAGCTGTGTTTATAGTCAGGCTTATACTTTCAGTTTTATATGCATCTTTAGGGTGGTAAATGTGTCTGCTTTTTTCTTTTTTTTAAATAAATTGGAATCATGAATTAACTGTTTTTCATTTATCAATAACTGTTTAATGATACCTTACCAGGTCTGAACATAATACTTCATTCTTTTTATGACTATAGACTACGCTGTTTGAATGAACTTTCCATCAGTTCATACAGGATGAACTATGCATTCTTAATGTCTCTCTCCTTGACAGTTTTTTGCTCTTACAAGCAGTGCTTGAAGCAGCAGTTTTGTTCATGTGCCTTGAAGTAATTGTGCTATTTTCTGTGGGCTAGCTTTCTAGAAGTAGAATTAACTAGATCAAAAAAAATGTGTGCTGCTAATTTTAATAGGTACCAGCAAGTTATTTTACACAAAGGTTTTTCTCAATTTATGTTCCCATTCTCAATTGGAATCTTTTATTTCCCTACACATTCACCAAGTACTGAATAACATTGATCCTTCTAATTTTTGTTAATCAGCTGGTGAATAACAGTGTCTCATTATTGTTTTAATTTGCATTTCCCGGATCGTTAATGAGGTTAAGCATCTTTTCATATGTTTATTGGGTATTTACATTCCCTCTTCTCTGAAAGCAAAGACGGTGTATGTGCATTTGGCCTAACTGGCAAAAGAATTGTAGCACTGAAAATCTGAGGAATTTAGAAACACGCGTTGTATATATTACGTCGGAAGAGTGGTTTCTTTAGGTTTATTCTGAATCTCCATATGGAAATAGAGTAATGAAAAAAAACCCCCAAACTTTGTGCTTTTGTTTGCCATCTTTATAAAGTTAACTATTGTAGTTTCTTAGCTTGCTATTAAGCAACCACTAATCAATGGTAGGATATCCCCTACAAAAGTGTCCAGCAGTCCCACTGTTGGTGGATTTAAGAGCATCCATTTGGAAAATGCTACAGCTCATAAAATTTGGGTCAATAAATCAAATACTGGAGCAATGGTGTAAGAAAATAAATATTAACAGCACTGCATGGGGCAATATTGATCTAGTACCAAGATTTCTGGATGGACAGAAACACCCTGTTTGGTAATTGTGCTTCTCATTGTAAAAACATTTTTATAAACGTTAACTTATTAATATTTGTAGTGCATCTCCAGGAAGTAAATATTCAGAGAGCACGTGCTCTTGAAGAGGGATCTTGTATGGAATGCCATGGCCCCAGTGAGAGACTTGAGCTGACCATATCCCCTGGGGTTAAAAAAAGGGAGCAGTGAGCCAAGCTGCATATGCCAAGATTTAATGTGTCAGCCGAGTCAGGCGATGTCCCCTCCCTGTGCAGTTCAGGTTCAGCTCCATTTGGAATACTCCATGTGCCAAATCTGGATCCAGGCACAAGAAAGACATTGACAGTTTGAATGGGGTCCAGAGACAGGCACTAGCCGTGATTAAGGGCTTATGGGCATGACATTTGAGCGGGGGCTCAAAGAACTGAATATTTACAGCAGGGATAAATGCTGGATTACATGGCTTGGTGACGTGGGGACCCGTGGCTACATCCCTAAGTTACCTGCCACATGACTGGTTCCCCGTAGGCAAAGAGAGAATCATTTCTGTTACCCTTGAGAGCTTGAGGTGAAGGGAGGGTCTCCTTTTGGGTCTGTGGACCTCAAGTAAAATCAAGGAGCTTATACCTATGTGTCCCATGCTCTTAGCATAACGATGCCGTTGTAGCACCCAGGGATCCAGGATTTAGGTAGGGAATTCTCATTGCGCTGGAAGATTTAGCATCCATATCTCCTCCTCCTTCAGAAGACACATTCTGCATGGAAGGTGCTTATCTCTCTTAAGGGGAGACGCGCTAGCATGTTGTCTGGGTCCTGTTACAAGTCTACGGCTCAACCAAGAGCAGAAAGCGAGTCTTTGTCATACAGTAAAGACTCTCCACTGTCGATCAGATGCCCGTAGATTCATTTTTCTGCCAGACATTTTACCTGCGACAGTGAGGATCAGTTTCCCATCACCAGCTCCAGGCTGTTAGACTCTGAAACTACCTTCGTAGTTGTCGATGACTGCAGCAGCCCAGCAAAGTGGCTGACCAGAACTATCTTAACTCACTGCTTGTACTCTGTTAAGGAGGAAGGAGGCCAACCTTCATCCAGTGATCCTTTCTAAGACTGTCAGTGATGAGCAGCGACCTCGTTTTAGAACTCAGCAGCAGTACCTCCACCCTGCAGTCATGGCTTGCATAGAACTGAGTGGCTGACATGAAAACCGTGGCACTCCAGTGTGCTCTTCGCATCTCTTAACTCTGTTGGCAGGCTAATCACTGGCGCTGCTTTGCAAAGTGGACAGCTGCTCTGCCCTCCTGTTTTTATAGTGGAGTGGTTACGAGATGATTTTCTTTATTCTCTAGTTTCTTATATCACTCATGTGCTTGCAGATGCTCTGCCTGTATTTGTTTTTTACGTGATTAACCCAAAAACACTTGCAATGCCCAGGGCATGGCTCAGAAGGTCAGTTGAAATTCCTGAAATGATAGCTAAGGTTAGTAGGCCTTGACTGTTTATTTTTTCATTTCGTTTCACTGGAGTGCCTTGTCCAAAACACCTGTAGAGAATGACTTGGATTCAGATAGAAATACTAAAGCCTCAAACCCTGAAGATACAAGATGTTGCATTTTGTGGTAAGGAAAACTCTCGCAAGTTTGAAAATTTGAGTCTATGGAAATATTTGAAAAGCAGGGGGAGAACATAAGAATGGCGTCTCTTTGTGTATTGATGGTACCTTGGGTAGGAGTCACAACAGCTGATTTTCACATGTGCTGCTTATCTTTGAAAAGTCTCAAGAAGTTTGTGAACGGACGGATATACAACTTGAGTTTTGTAAGGATTCATTGCCGCCATATTTGGAATTCTGGGTATTTCTCTGAGGAACATGTATATCTATTCAGCCACAACCAGAGATGGGAAGGGCAGACTGATGTTCCCAGCTGAAACTTCTTGAGACATCCAGACAACATCTGAGAACTATGAGCCCCTTAGGAGAAATGAATTAGCTACGGCAGCACAGAGGGCTTGGAGCAGTGCCTGGCATATAGTAAATGCTCACTATAAATGTTAGTTCTACATGGTTCTGTGATGCCATAGAGGCTGAGGCTTCCTAGTGGATGGGCAAACTGGTAGCTCGCCTGCCCGTGGCCATTGGTACCAGGCTGGCTGGTGTTCAGGCTCCCTGGCCAGTTGGCCTCTCCTAGAGGAGCCCTCAAATCCATTATGGTAACAGACCCACGCTGTACACTGCCGAATACTCCTGCAGATCTGAATATGTCAATATTTGCTTCACAGGTGTTCACCATGATGATGATGATGGTTTTCATTTCTCACGATTCTTAATGACAGTTATCAATTTAGAATTTAGGTGATTCTTCCATACCTTTCTTGCCTCCTTCAGCTTCTTTTTAAATCAAGAAAGCACAGTACTTGGTATTCTGTGCTAGGATTGTTAAATAACCGCCTTTGCTTTGATCTTTTCAGGTACGAAACCAGCACTGGAGCCTCATTATGGAAAGTGTGGTCCCATCTGACAAGGGAAATTATACCTGTGTAGTGGAGAATGAATACGGGTCCATCAATCACACGTACCACCTGGATGTTGTGGGTGAGTTTGCCTCTCCTCGTGTGGCGGCTGCATACCAGCCCATTCTTGCTTGACTCGTTTGAAAGCATGAACGTTAAGTCCTGTTTCTCCCATAAGTTTCAGGAGAATTGGTTCATTCTTATTCTTTCTACTATCATTTTACAAGGCTGCTTCTGTCATCTGACAATATTCTGTTTTCCAGGCAGCCAGGGTTTATGAGCTTTGCATGATCCTCATGGTTCCCAAGCGTCATCTGTGTAAAGTGGACGTGGTATGAAATGTCTGACATTTTGGAAGCTGAGATTACTCTGAAAATGTTAATTGGGCAGGTGAAAAGGGTACAGATGTGCTGTAGCAGACCTTTGGTTTTAAAAGAGAAGCATCATTTCCCCAACAGGGCAACTGTAGAAGGCCAGCTGAAGAGTAAAGGAAAAGGTCTGAGGACTGAGCCTGTGGCTGGCTGGAAAAAGGTGAATGTTGAGGGCCCTTCACTTCCATCACAAGAAAGTCATTAGACGGTACCAATTCAGTGTCTGTTCCTGGCATCTATTTCCTCTGTGCAAAGGGAACCATGTATATGAGCTTATAAATACATTTTTGTCAGAGTGCACAGATAAGTAGGCCATTTTAATTAAACATTGAAGACCACCTCGCCTGTTGTCTTGGAAATTCAAGTTTCTTCCCAGGTTTTGCCTGTGATGATGGGGCTTTGTTGTAACTAATGAAGAAAGGAGGTTTCTGTGTCTTGGAGGATTGCTAACATATGGAACTCTACCCAAGACATACTTCATTGTTGCAGGATGGCAGGTTAAGATCCCTTCCATGTAGGGGCCATCTTTTCTCTTTCCTGTCATGTGCCTTGACTTTCAACCTGCCACCTTGAGCCTTCTTTTGGTTTGTCCTCCCCTAAATACAGGTTGCTATCTTCTGCTGTAGACTCAACTCAGTTCACACTCACGTTTTGCCGTAATGTGACTGTTGGTAATTCCACAAGCCCACACCACCCACTGTGCCTCTGTAAACGAAGTGTCTCCTACATCATAGCCTGTGCGTGTGTGCCTAGTATCATCTCATGTGTGGGTCTCCTTCAATAAAACATCTTTGAAGAGGGAGACCCCGTTACATATTGGAATTGCCCAAAAAGCCACTAAAAAAATAATCCAAAAGCTTGATTAACCAAATTGCAAAGATTTGGTTAATTAAAATTTTAGGTTAACTGAAAAGTAAACAAAACTATTTTGATTTTCTGTCAAGTTAAATGGAATTGGATCTACGAGACACTCTGCCTTAGAAAGCATGATATAACCATTACTTCCATTTGCATATAAGCATTCAGGGAAAATAGTGTTTATTCGAAGATTTGAGTTTTGTTCTTCAGAAGCCTTCATGTGAAATTTGATAGGTCCTTGAATAATGTTGATCCTATAGATATTCATAAAAGAGTGAGTTTTAGAGCTCTTTCCCCATAGAGAAAACATGTGGCATGTTTCTTAGTGAGAATTACCATGTTCAGATATTTTACAAAACAAACAAAAAGAGAAGTAACACTCAAATTTGAGAAGAAAATGATTAACATTTGTGTTGGCATTGATACACTGTAAATCCATTGATCAAAGAGCATATGACTTGGCCTTTACCTGGGTTCCTGTGTGTACCGAATGTGACGTAAAACTATTTCTATTTAGGGAAAGAGAGATTTTGGGCTAAATGTTCTAAATACCTAATTTTGAAATTAAGTAATTTATTGTGGGAAAAAATAATTGAGCTATAGCAGTCTTTTGGGATTATAGCTTTGCATAGGTCTACACATCATTCATTAGGCTGGGCTGGGGCCATTCTAGGCATCGTGGAGTCAGATGGCGGCCACTCCGGTCTGGGCTCTTGCTTAAAGCAAGTTTTAGGTTGAGTTGTTATGTAAAACATTCAAAAGCCCCTCACCCCACCTCCCCTTTGAGCTTTCTGGCGGCTCATCCCTGTGAAGCCCTGAAATCTCTCTTAGAGTTTAGGGTTGGGATTTGAATTGGGCTGCTGAATAATGGAATTGTGCTGTCTAATGTTAATCCCCTGGCAATCAGTCTTGTTGAAAAGAGCGTATGATTCAGTGGTGTAATGTAGAGAGAGCGTGGAGTGTATGGAGTAATGCAGAGAGAGGCCTGATTATGTCACAAATTTGGGAGATCGCCCAGCTAAACACGGGCCAATAATGACACAATGCTGGTTGGGAATATCCATTAAAGCTCAACTCCAATAATTTTCCAAGCCTTGAACCTTCTTTATAAATAGAAGCCAAAAGTCAGTGGAGTAAAAGGCATTTTCAGTAAAGATGGAAGTGTGAAATACTCTCATCTCTGCTCAAAACCCTAGTAATTGCTTTGCGAAGCACTAATAAAATAAGAATTGAGTCAGCTAAAGAGGCTCATATAGACGTACAGGGTTGGCAGTCATTCTGAACATCTCAGCAAGTGGAAACAAAAAGGATTCAAGCTTAAGCAGTGAATTTCTGGTAGCCCACAGGCCCAAATGTGATACACTGCTGTGTGATAACAGCTTTTCAGCCACCTCTCTGTTTCACAGAAAATCAGAAACCCTTTCCCAGTGAAAGCGAAGTCCCATTCTTGCCCACATTCTTTGGGGTTTTATTTTTGTTTCTATGATACATAGATTGTGGTTCAGATATTATGAAGCATCAAGATGGGTGAGATCTTTTTATTGAAATTCTTCCTTGGAAAGGCATTCCCATAAGCACTTTAATGTAAAAGCCGTGTAATTTAAGTGACATTCTTGTGTTCTAGAATTAAACGGCAAGCCATTGTTGTGTGTAAGGGAAATGCTTTCATTTATGGGAGCCCTTTTAGGAGCCTGGCTTGATCCTCATTAAAATTGACACCATTACTTTTCAGCTATTTACTGCAAGGGAAAATTAGTGTGATGCTCCACGTTTTGGTAATTGTGGCGATAATAAAATGGGCTCCCCTAAAGTAGCTGTGGCTCCGGGAGGTGGCGAGCCTTCACCATCGTTCATCATTGAGTGGTACCAGAGCCCTGGATTCTGACTGAGGTCCTGTCACTGTGAAGCTACAATGCTGGGATGACTCATTGCACTTTCCTTGTGTCCAAAAATGAAGGAACTGGAACTCATGAATGTTAGAACAAAAAAAGCGGCTTATGCCGTGGAATGAACAGCAGGTTTGTCCGTGGCCATACCTGGGGCCCCTAGTGAATTGGGACAAATTATTTAGCTTTTCTGAGGCTCTGTTTTATCATCAGTAAAATCGGAATGATGATACTTACCTCATTCCTATGATGGTTGTATTAGGTTTCCTAGGGTACCCCTAACAAATTACTATAAACTAATTGGCTTAAAACAAAAGAAATCTATTCTCTTACAGTTCTGGAGCCTAAAAATTCAAAATTAAGGTGTTGGCAAGTTCCACGCCCCTCTCCCAGCTTCTGGTAGCTGTCCTTGGCTTGTAGAGGCACCGCTCCAATCTCTGCCTCCATCTTCATGTAGTCATGTTCTCACTGTGTGTCTCAAAATCTCCTTCTGTCTTCCTCTTGTGAGGACACCTGTCACTGGATTTAGGGCCCACCGTAAATCCAGGATGAGCTAACCTTGATATTTTTAACTTAAGTACTTTTGCAAAGACCTTTTTCTTCAAATAAGGTCACATTCCTAGTTTCCAAGGCTTAGGACGTGGACGTACCTTCTCAAAGGTCACCCTTCAGCTCACTACATTAGTTACGAGGCATCAGTTGGGTTAGCAGATGAAAACATCAGGCTGGCAGGTAGGTGGCCAGCAACAAATGCTGGTTTCCTCCCTTCCAAACCAGGATTCTTTTGAGGGTTAGAATGGATCTTTAATAGCTTTTATTAGTCTCAATCAGAAGTCTTATTAAACAAACAGAATGCCATTTTGGGGCTGGGCATGGTGGCTCACACCTGTAACCTAGCACTTGGGGAGGCCGAGGCGGGCAGATCACCTAAGGTCAGCAGTTAGAGACCAGCCTGGTCAACATGGTGAAACCTCGTTTCTACTAAAAATACAAAAATTAGCCGGGTGTGGTGGTGGGCGCCTGCAATCCCAGCTACTCGGGAAGCTGAGGTAGGAGAATTGCTTTAACCTGGGAGGTGGAGGTGGTAGTGAGCCAAGATCATGCCATTGCACTCCAGCCTGGGCAGCAAGAGTGAAACTCCATCTCAAAAAAGAAAAAAGAAAGCCGGGCGCGGTGGCTCACACCTGTAATCCCAGCAGTTTGGGAGGCCGAGGCAGGCAGATCATGAGGTCAGGAGTTCAAGACCAGCCTGACCAACATGGTGAAACCCCGTCTCTACCAAAAATACAAAAATTACCCAGGGGTGGTGGCAGGTACCTGTAATCCCAGCTACTCAGGAGGCTGAGGCAGGAGAATCGCTTGAACGCAGGAGGCAGAGGTTGCAGTGAGCTGAGATTGTGCCATTGCACTCCAGCCTGGGCGACAAAGTGAGACTCCGTCTCAAAAAAAAAAAAAAAAAAAAAAAAAGCCATTTTGGGACCTACAGACGTGGCCAGAGGCTGACATTGACATTTCCTGCTGAGGTTTCCACCTTTGATTAATGCTGTCATCAAGGCCATCCTGAGACTGATTTGGCTGTTGGACTTGCAGGAGAGGGGTGTGGAGTTTGAGGACTTGAAGTTCATGGAGTTGGCTTCTTTACGCCCACCCCTCCCCTCCCCCACTTTGCAGTGGAGGAAGTTCAGGTTCAGCTGGGGTAAGTGATTTGCTAAGTAAGGGCTTGGAGCAGGCATTCTGGAGCTGGGGCCTCCATCTGGGTGTTCTCCACGCCTATCTGTATGAATGCTCCTTGCTCTCCAAGCGGACTTCTTCATTTGATGTTCACTGTGGTGTGTTTCAGTAGTGACTGCCACAGCCCGACTCTAAGGAGGTGCTGCTGTCACCCCACCCTGCTTTCAGTTCTTTGCTGCAGAAGACAGAATGTGCGGGAGAAAGATGGGACCTTAAAAGACTAGTTGCTCTTCCTCACTCATGTAGACGATTTGGCTTTGAATCGTGAATTATTGCTTCTTTTGGGCATTCCAGTTCTGCATTTCCAGAGACCCTCAGGTATGTCAAGCTTTTTGCCTGGCATTTGATATTTTGGGGGCAAAGTACAGTGGAAGTGGAAATGGTGCCTCTGGTTTTGTCAAGGCCAGATATGTCTTCTCTCCACTCCTTGTGTTTTTTGAGACAGAGTCTTGCTTTGTTGCCCAGGCTGGAGTACAGTGGCATGATCTTGGCTCATTGAAACCTCTGCCTCCCAGGTTCAAGTGATTCTCCTGCCTCTGTCTCCTGAATAGTTGGGATTATAGGCATGTGCCACCATGCCCAGCTAGTTTTTGTAGTTTTTAGTAGAGATGGGGTTTCACCATGTTGGCCAGGCTGGTCTCGAACACCTGGCCTGGAGTGATCCGCCCGCCTCGGCCTCCCAAAGTGCCAAGATTACAGGCATGAGCCACCGTGCCCGGTCTTTTATCAGTTTAACTTTCCAGAAATTTGTTCCCCCTGCCTGTCCGCATCCCTTCAAATGAAAGCTGTAAGCAGCAGGCAGTTGTTGTTTGGGGGCCCATCAGAGGCCGCATGTCACTTCTGGATGGGTCAGGCATCACTACCAGCCCTGACTTGATGGCGGCAGATCAGCATGGCACTGTCAACTAGCCCTTGACATAAATCTGTTGTAACTCAGCCCCAGACATGATAGGACACAGCCTGAAAGCGCACAGGAATCCGTACCAGAGCGAAGTCCCCCCTCAGGTGTGTGTTCAAGAATGAAGCGTCTTTTATTCCAAGCACTGACTGATAAGCTCGAATGTGGAGTTGACACCTGGAAGGGAGTTTTGGGAGCTTTTGGCAGCCCATCCCCAGTGGAAGAAGGAGGAATGGCTGAAATTGTTGACTGCTTGGGGCAGCCTCTGTCCCAGGAAGACAAAGGCTCCAGTGTGATAGCTGAGCTGGGGCCAGGGGACGGAGGCACGGCGGAGTCCCTCAAACCACAGCTGGAGTGTGAAGTTTGGACTGTCTCCTGGGTTGGGAACAAAGTAGTGGTTAAGTAAATGAAGAAGCGGTGGCCTAGTTAATTAATTAACCTGTTAATTCATTACTGAAGCTGTCAAGATTCAGTCATTCCTGCTCACTTGCTCGTGATGGAAGGCTGCATCTCAGTCTCGGCTTCCATCACACTGTGGCTTCTGGATGGAATTTTTGTTTCTGTGTGTGATAAGGAGTGGCTGTGGTGGCATCATTTAAATGACATGATTCTGCACGTCCAGAGACGTTAGGATATTGAAAGCCTGACCATTACCTTTTAGGTTGTCATGCTTGTACCTGTTCCTGGCACAAGGTCTCGGCTCCGTAGAGCCCTGTGGGGTTCTGAACTTGAAGCCTCTTGACTTAGAGGCTTCCTGGCCAGGGCTCATTTGATTTTCCATACTCCTGACTTTGCTGCCAGTGAATTCTTTTCCATTTCTTGCTCTGAGTGTAAGACTTGGTGTCCTACCCTGACACGGGCTCTGCATGCCAGCTCTAGAGTTGCGAAATCTCACCGGAGGGGGGCAGAAAGCCCCTCTGTTGAGAAGGGATTGGGGTGGCGTGCCAGGTAATGGGTCACAGCGACAGCCTTTCTAAGTGGGCTTATTTAGTTGACAGATCACGGAACCGGAGCGGAGTTGAGGAGGAAGCACCTTCCTTTTGCCGCTTTCGTGTCCCCAGCAGCCATCTCATCCTGTTCTTATAAACCATCGCTGTCACAGACAACCCCTAAGGGTCTCTACTCTGTGCCAGATGCCCTCTCTGGAGGTTCAGGTGGAAATTACGTGGAGAGGGGTGTCAAGTTCTGTTTCCACCCTTGCTAACTCTATGGCCTTAGAAAAGGCATGGAACCTCTGAGCCTCAGTTTCCTTGCCTGTAAAATGGGGTGATGACTGTTTCCTTGTAGCACTATGGGGAGGAGGAGGTGGTAGGAGAGGCAGCGCTTTTAAATAATAGTACCATGCAACTGTTAGTCGTTATTGTGCGTTGGTCCCATACTTCCTCTTGCATCTCCAGACAGAGCCGTGCACCCTGAGCCCATCCTGATGAAAGGAGGGGTCAGTCCTGTCCTTTCCTCCAGGATAGAGATTTCAAAACTTCCTTTGGTAGCTACTGTTTAATGAGCTTTTGATTGCTACAAAGCAGCTTTTCATTCCTGTTTCACAACAGGGATCCCGGGGGGCAAAGGCTGGTTAGTGGCAGCTAGATCACTCCAAACGTACTGACTGGCAAATACAGACTCTCCCGCAGAACTGACCCCAGCAAGAAGCCTTTGGGAGCAGGTGGTATTCTGCGGGTGCCAGCTCCCTGGGGTGGGAGCAGGCACACGCCAGCCTGGATGGGGCATGGTAGAACTCTGCGATGTCAGCTTTTTTGTCACATTCTCTGCAGGCTACCCGTTGTCCTTTGCCCCACCATTGAGGAAGGAAGCCTTATTGATTGCTTTCGATTCTTGCAGGGGGCCTGGGTGAGGTGGCTGGAGAGAGGGCTAATATTTGGTCTGGCATTTAATCTTGGCATTTCATTTATGGTGTGGGCAAAGAGGATGTAGAAGTGTTAAAATCAAGTTAATATCTTACAGTTTTATGTAAGAAGAGGTTACCTGGAGATTCAGGTGAGGATGGGGCAGAGAGAAAGCTGCTTCTGTCAGAGCTTGGGCAAATAAACTTGCCATGAAATGTCAATTTAGTGATGGCAGTAAGAGTGTGCAGTAATGTGCTGGAACTTAGCGAGGTTTCTATCAGCGTGTGCTGAATTGAAATAATCAAAAAACAGTTTAATAAGTTGCTTATATTTGGAGTTTTGTGGTTCTTAACATTGCAAATTCTGAAGCAAGAAATTAGAGTTTCTCTCTAAACTCATTTACTCATGTGGCTTTATCAACGGCTGCCTTTGTAAACCGAAAGACCTCAGTTGGGAAGTTTTATGAGACGGAGTCTTGTTCTGTTGCACAGGCTGGAGGGCAGTGGCATGATCTTGGCCCACTGCAACCTCCGTCTCCTGGGTTCAAGTGATTCTCCTGCCTCAGCCTCCTGGTAGCTGGGATTATAGGCGGACATCATCATGCCTGGCTAATTTTTGTATTTTTAGTAGAGATGGAGTTTCACTATGTTGCCCAGGCTAGCCTTGAACTCCTGACCTCAGATGATCTGCCCGCGCAGGCCTCCCGAAGTGCTGGGATTACAGGCATGAGCCACCGCACCTGGCCTGCCAACTCTTGTTAAGATGTGAGTGTGGAATGCTGTGTGTTCTTCCCCTTTTAAAAGATGTGTCTGTTGGTTTGCTTTCACGGATTCCCTCTCCCTTAGGAGACCCGGCTGTTGTATTCATGGTCTTCATGCTTGGTTTGTTTTCACAGTCAGAGAAGGTAGGATGCTGTAGGGTTCTACCTACAGGTAGGATGTGCTCCTTACTTAGAGATTTGGAAGGGTGGCATCAGAGAACCACTGTGCGTCTTTCATGATAGCTGGTCAAATGTGGGTGTCTGTGGGAAATAGATGGCCAAGGGTGTCGGTGTTGCTGTGGGGAGGTTGTTCTGTTTCCTCTTCTGAGAAGAGACAGATGAGGCGATGAGGCAATGGGAGCCTCATTGCTTTGGCTTGGAGGGAGAAAATAGAGCAGAGCTCTCTAGCTGGGATTTTGTGTATTTGCTGAGTTGCAGTGGTTAATTCTCTATCCTTGAAGCACGTGGCACGCTCACGCAGCCTTTATGTGGTCGAGAGGGTGACAGTCACTTGAATGAGGTATAAGGCTTTGCCCTCATGGAGTTCCTCAGGTCACATTTTGAGGTCGAAGACCATAAATTGGGATGGAAATTTCTAGATCTTGATGGAACTCCAACTTTTTCTCTCTTTCTCAAAGCCTCTGGATTACAGGATTCTCTCAAACAAGGCTGGCAGGAATTCTGTCCATCCCAAATAAGTATGCAAATCTACAGGTCAAATGGTGCCCCAGACATATTCCCCACTGGATCAGGGAGATTGTGGTCTTTTGAGAGACAAACATTGAATATTATTCTAGTAGGATCTTTTGGAAATTATGCTCTATTAGAAAAAGGAACTTTTCATTTTACTGGTTCAGTGTACACTCTGGACTGAAACTGAAAGGTAAAGGACTTAGCCCTTTAAATTTTACATTTTGGCCGGGTGTGCTGGCTCACGCCTGAAATCCCAGTACTTTGAGAGGCTGAGGCAGGTGGATCATTTGAGATCAGGAGTTTGAGACCAGCCTGGCCAACATGGTAAAAACCCATCTCTACTAAAAAATACAAAAATTAGCCAGGCGTGGTGTTGTGTGCCTGTAATCCCAGCTACTCGGGAGGCTGAGGCAGGAGAATCACTTGAACGTGGGAGGCGGAGGTTGCAGTGAGCTGAGATTGTGCCACTGCACTCCAGACTGGGTGACAGAGTGAGACTCCTTCTCAAAAACAAACAAAAAAAATTAAAATATTAAAAATTAGCCAGGCGTCATGGTGCACACCTGTAGTCCCAGTTATTCTAGAGGCTGAGGCAGGAGAATTGCTTGTACCCGGGAGGCAGAGGTTCCAGTGAGCTGAGATTGTGCCATTGCACTCCAGCCTGGGCAACAGAGCGAGACTCCATCTCAAAATAAATAAATAAATTTTACATTTTGGACTGAAAAAACAAAACCATTCTGTATGTGAGACTCTCACCGAGTGTTCATAGGGAGGGACTGGGGCTGGGGCCTGACTTGAGGCTTCCCATCTGGCTTGGACAGTGAGAAGAGCAGTGGCGTTTGGATTGAAGGCTTTTGTGATCTGGGTGACTATTTTGAAGTTTCTCTTTAGGTCATGCTGTACTTAGAAGTATCTAGAACCGTGATTATTTTCAGTTTCTGAGTTTCATCTCCAAGAAAACAAATGGGATTTATTGTTCAGCCTCTCATGTTATTCCTATCAAAGGGAGGCATTTCTTGTTTGCTCAGATGGGCTGAAAGCTTTTACTTCTGCTCGAACCGCCCTAGGAGCAAAACAAGGCATGTGAGAGAGATGAGCATGATAGATTTTCTAGACTTCTCTAGAAGAAAGGCTTTTTAGATGGTGAAGGTTGATGAAACCTGCCAGCATTTTTACAATGGACATCCCTCTATGTCTGCACATCTCAATCTCCTTCATTCTTACTAGTGGCCAATATGCTCTTCTTTCACGGATGTAGTACAATTCGTTTAATCATATTAAACAATATGATTGTTGTGCAGATCTTTTGTTTTCCAGTAAAAAAAACCCTACAGCGACAAGCTTTGTCCACACTTATTTAGTGGGCATCTGTGTGAATATTTTTCTAGGACAGATTTGTAAAGGTTGGTTAACTGGATCATTTTTGATAGATTTCAGTCAAACATTTTAAAGCTAAGGGGCCTTACTTACTTGGAGTGGTTGCTGTCTTTGACGGAGGGCTCCCCTGTGGTTTGGTTTTTAGCTTCTTTGCAAATCATTTGAGAGAAGATACTCTAATTGGGAGTTCACCCATTGTAATAAGAGGGTATACCTAATTCCTGGACATTAAAAAAGAACAAACTTTTCCAGCTCGAAGGAAACATTTTCTTCCCCTGAAGGAAACCCAGCTATGCAGACACCAGCTGATAATCTTGCATTCCTGAAAGATGTTGCACCCCTATGGCAAGTGGCGGCTGCTGAGGCTCTGACGTGACTCCCAGGCATGAACGCTCTCAGCTGTGTTTACCTCAGCTCCTCGGGAGGGAGCCTGGGAGACTGACGCCTGAGTTTTACATCAGTGTCAAAACCCAAGCACAACCTAGGGAGGGACCTCCTGCCTAGTGTGTGTGGGTCAGGAGATAGAAAAGCTCTCACTGAGTAAACTGGACAAGGTCAATATACCTCGCTGATTGAGAAGGTAGGTTTTCCATGACCCTAGAAATTGATCTTGTTCACTCTGAGATATTGTCACCTTTGTTATGTCTCCTTTTTAAAAAAAAATTGTGGTAAAATATACATAACATAAAATATACCTCTGTAACCATTTTTGAATGTGTAATTCATTTACATTAAGTACATTCAATTTGTTTTGCAATTATCATTATTGTTCATCTCCAGGACTTTTCCATCATCCCCAAACCATGACTCCTTTTAGCAAAAGAGACCAATTTCGAACGTAAATTTGGCATAATAACTCTCTGGTTACCAAAGAATCTTCAGTTCTGGTGAAACTTTTTGAAGGCAGAGAGCTCAGAGTGTCTTAAACACTTGGGGTGTAAATAACACACAGCCCTACTCCTGTAATTCGCCCAAGAAGACCCAAATTGATACCCAGCTGGTAGAAGCCACTCAACCCCAAGCCAAATAATACAGCCTGTAACATTAATTAGGGAAGGTACTAATAATACAGCCTGTAACATTAATTAGGGAAGGTACTTTGCCTCCACCTGCTTTGGTCTTCCCAGGCCCTGAGCCCAGCCAGCACTTTACTCTCTTCTTCACTTCATCGAGCAAGCACAAAGGCATTAGTGGTGTTTTGCTTCTAGCATTTCACAGGGTGCAGCCTCCATAAGTCACTTTGTGACTTTAGTGCTGGAGGGAGGACACTTCATTTTTACCCAAACAAGTTTGTTCCGCAGACTTCACTCTCTCTGCAAAGAGACGTGTGTGTTTTAGAGGAAGTGGGAGCCCCAGCCGATTCTGCAAGACTTCCGAGAGTCAGATATCCAGACAGAAGATGCGGACACCTGGGTGACCAGACAGCGAAGAGGAAAGAACAAAACGAGCATGTGCCAAGCCTGTGAGGGAGAAAGGGCAACAAACCAGTGACCTTCCACAGAAATGTGTTTAAACAAAACAAAACAGGTGATTCTGGGTGCCCAGCATCCCAGCCCACTCATCTATTCTAGGAGGTGACAAGCCAAGATACTGGCTGTGGGCACCTGGGCTCTTTCTGAAGGTGGTCTTCCTGGCCGTCATAGCGTTCCCTTTTTCTGCTAATCATTTTTAGTTCTGACCTTCCTTTGTGCTGATCTTCAGAAGCTGGAGAAAGCTTCGTATTTCTGGGAAAACAAAACAAAACTCAGAACCCAACGAGATTTAGCCTGTCAGGCTTGAGTGCGTTAGGTGGAGTCTTGACAAGGCAATGAACTCATTCTACTAATTGTAATTAGCGTGGGGCCTTTAGCAAGTTCTGGGCTCCTCAGACTTCAGAGAGCTTTGATCGGCCTCCTCCTCCTCCTAATAACCATGCCTCATGCTAACTGGTTTAGTGCGTTTTTATGCAACAAAAGCAACCACCGCCTACTCTTTAGAAAAAAGCTAGGCAGGCTTTAGAAAAAGAATTCTCAGTTGTTTTCACTTGTCCTCCAAATCGCAGAATGTTCTTTCCCTTTTCAGCTCTTTGGCGTTGCTAAGAGACTGCCATTTTGGAGGAAAGGTAATTAAATTTTGATTTTAATTTAAAGACAGAGCAAGCGAGGTTATCCACGCTCCTTACATGAATGGGGGCCTGAGAGCAGGAGACTGGCTGTTTCCAGATCAATACTGGGAACTCCGTGTGATTCGAGTCTCTTGGTGTGTGACTGCCGGAGAGAGGTGGCTTTGAAATGGCTCTTTGTGGCAAGTACTGCCTAACTTTTGGGGAGAAATGCTCAGGAGACCAGTGTGAGCTGGGAAACCAGCCACTCTGTGCTTGATTAATTTATAGGTGTAATTTAAGAGCCTGGTTCTCCTTCTGATCCCCGGGATGCATGTTTACTGAGCCTGTAGACATGAGGCCTCTCGGCTCGGTGGACATTTTTTATGGCCTTTGCTATGTCAGAGCAAAAGTTGTAGATCTCTTATGAGCAAACATATTACTATGTCCAGAGGAGGACTGGCATGTTATAAAATTTCAATGGTCAATTAACAAAGATTTATTCTTTGTCACTCAGGTATTTTTTTCCTCTCTCTCTCTCTCTCTCTCTCCCTCAATAATGACCTCTTGGAAGGAAGCAGGCTGTGCTTTCCTGCTGCAGTCTTTAGGTGGGTTATGGCTCCCAGCTACAGAGCAGGGCTTGACAGAGCCCATCCTGATATTTCAATTCTTAGCAGCTGGGCTTTCTGCTTTAGTAGAGTGGACACTTGAAGAAAGGGGGCGAGACCGAGAGTGAGAGAGAGAGAACGCTGGGAGAGAATGTATTTTTTAAAGCACTTCAGCCTGTGTTTACTACGCGTTTATTTGGTGGAACCTCATTCCAGCAGTGCAGCCAACTGTCCCGGCAGCAGTGGCCGCACCCTTTGGACTGCTTTCCATTCCGTCTTAATTTGGAATTCACACAGCCACCTTCCAATCACTCTTTTGAAGGTTCTCATCTTGTTCCAGGTCCATGCACTGTGCATTTGCAACCTGCTGAACCTCAGAACGTCTATTCTTATATGTGTATATATGTAATTAAAATTACAGTAAACAGAGGAGCTACTCATCAGCCTATTTTCCATGTGTTTATCTCACTCCCTTTGTAAAAAGGAAAATCTGTTTTATATAATATCTGAGAGTTAAACATGCTAGAAGAGAATCTTGCCTAAAACTGTAAATCCTTCCTGTCCTTCCTGGTGGAGAAGATGTGATTTTTGTTATCACATAGAAGAAGAGATGAACTAGCACTGGGCTTTAGTCTCTCGCCCAGAGATAATACATCAGGGGATTCTTTTTATATCAGTTTGTTGCAAAAAAGTTGCAAACTTGAGGGGTTTGGTTTGCCCAGGGACCGGGGAGGTTCCTGGTGGGGAGAACACATGAGCTCTTTGGGTCATCGTCCCCTTTGTCTCTGCCGTAGTGCCCGCTGGGCCAGGCCACGAAGGGGGCCCCCACTCTGCCCAGCCTGCATCCTCGTCCACCATCTGCACCCTGCCATCACCTCGGTTTTTCAGAAGTTAGGAAAGGAGTCCAGGCGCTGTCATCCACTTACTGTTCACTGTTTCTGAGGTTCTTAGGGATTCCGAGGGGTGGTGGATCGCTGAAGGGTTCGAGAGGAGGAGCGCAGCGTTCGGCAGATGCTGGCATCCTGGGCCCTTTTCCAAGACGTCCAGGCCTCCTCCTCCGACTTGTTTAAGGGCAGAGAATAAGGTTGCAAAGGAAATCAAAGCCTGATGTGGAGAAATGAAACATGAGACCTACTGACTTTTTAAAAACATTTTAAATAACATTCTCTAAGGTTTCATTTTATACTGAAGGCAGCTGTAATAAGTTTGGAAGACAGTGTAAGGTTTCTATTACAGAACAATCCTGCTTGCAGTTTTTCTACCAGAAGTGAGAAAGGGCGGAGGGGGAGTGGAGGTGGTTAAGAGGTTATTTTGTATAAGGTGAGAAAATTTGAAAAGATGAATTCAAGACTGCAAGCGTGTAACATTTGGTATGCTGTAATTTGCAAATGCAATAACATTAAACCATTGCAAACTTGGGGTGTGTGTGTGTGTGTGTGTGTGTGTGTGTGTGTGTGTGTGTGTGTATACATAGCCGGGATAGCATTGGAATAACTTAATAACTGGAGCTCAGCAGCACTTTGACCACAAGGAAAACAAGACTGCAGCTCTGTAGTGGGCCCTGCCAGTGTTGCCTCAGTGACTAAATTCCCTGCCGAAGCCTGGCGCAGGCCAGAGATGTCAGGCGGGATGAAAGCACTCATTGTTCACGGGGCATCATGGTTTGGTACTGCATGCACAATGTTTACTTGTGAAACGATTTATTAGAAACAAATATGTTTAAGAAAGAGGACTTGGTTTGAAACTCAGTTGATCTGGCTTATGACATTTAAGATTTTATGACCTTTGTTTCTAAGAATAGATGTGTAGGCCCACTGTAAATATTTATCTTAAAACGCACCCACACTACACACACACATGCATGTACAAGTGCAAAACTGGAAAACGGAGCCAGGGCATGAATTGATACTAAAGTTCACATTTCTGTGTGAAGGAATAAACCTTCTTACTATTTGCTAGGTGCATAGGAGCATAGTTTGTGACCTTGTCTGGCAGGATCTAGCCCAGAGGACAGCTTCCCCTCGTGCTGTGAAGTCTCTTGGTAGGAGGCCTGGGGAGGAGAGGAGCGTGTGTCTGTTCGTGCGCGGACTTAACTCTGCCCTTCCCACATGGATGAGGCCAGCTGGGATTAAATCAGACCTCGGTCACTGCCCGCTGTGGACAGGTCCCTGGGGTGTCCAGCCAGCTGCTAGGCCTGACCAGGAGGCTTGCTGGGGCCCATCCCTGGGTCATTGTATGAGCCAGAGAGCAAGGGTTTCACCTGACGTCTGAAGGGGCCCAGCTTTGAGATTTTCTGCCCACCAACACCAGAAGTCTTAACTTCAGGTTCTTTGCTCAGCCTACATGGGCAATATAGGGGCAGATGAATGATTTCTTTGCGGCTCCAGTATCCTTATCTTTATAATGTGAAAACATAGATGTCTGTAAAGTGATGGGAGATTCTGGAATGAAATGTGCTAAGAGTAACCACTAGCACTTTTTCTTTCTTTTTAAAGACCAGCAACAGGCTTATGCAGTAAAGTCAATTTGCACATGGTCTGGCTCTTGTCCAACAAATTCCACTAGATGATGTTTTAATCTGAAAGGTCCAATGATGTAGATATCTATTGTTCTAATTTGCTGTTTCCAGCCCAGTGCATGGTGATTCTCAGGTACAGTGCAGAGACATCCTTGGTGTGCTGAGCTGGCTGAGTTCTCCTCATTTCCCTCAGTTGTTTTTTAACACTGGAGGTTAGGGTAGTGGTACCCACACCTAGGGGAGGAAGAGAGGGAGGAGGCTGGTAAGTGCAGGCCTGTTGGGATGGAGTTGTATTCATGTATGGACACATGATTGTGTTTTGTGTGGCTTTTGACAGATCTGTGTAGGAAGGTTCCAGTAAGTTTGTACGACAAGATCAGGTAGCAGTCTGGTGGTCTGGTGGTTATTTAATTCTTTTTATTTTATTTCATTTTATTGTTGCAAGAATGCTAAGCATGAGAACTACCATCTCACCTAAGTTTTTTTTCTTTTCTAAGACGGGGTCTCACTCTGTTGCCCAGGCTGGAGTGCAATGGCATGATCGTGGCTCACTGCAGCCTCAACTTCCTGGGCTCAAGCCATTCTCTCACCTCAGTCCCAAGTACCTGGGACTACAGGCATGCACCACCATGTCTGGCTAACTTTTGTATTATTTGTAGAGATAGGGATCTTGCTATGTTGCCCAGGCTGGTCCCACACTCCTGGCCTCAAGCAATCCTCCTGCGTCAGCCTTCAAAGTTCTGGGATTATGCTCAAAGGCATGAACCACTGCGCCTGGTCTTCAACTAAGTTTTCAGTGTACAATACGTTGTTGTTGACTATAGGCACGATGCTGTGCAGCAGGTCTCTAGAGTTTGCTCATCTTGCTTTACTGAAACTTTATGCCTCTTGATTGCAACTCACCATTTCCTTCCCTGTCCCAGCCCCTGGCAACCACCGTTCCGCTCTTTGATTTTATGAATGCGATGAATTTAGATACCTCATATCAGTGGAGTCAGGCAGTGTCTGTCTTTCTGTGACTATCCTGTTTCACTTAGCATCATGGCTTCCACGTTGTCACATATTGCACCATTTCCTCCTTCTTCATGGCTGAATAGTATTCCGTTGTGTATATAGCCACATTGTAAAAATTAATCCTTTGGCAGACACTTAGATTGATTCCATTTCTTGGCTATTGTTAATGGTGCTGCAATTAATATAGGAGTGCAGATCCTGATTGCAGTTCTTTTAGATAAATAGAGAAGTGGGATTGCAGGATCTTAGGGTAGTTCTGTTTTTAATTTTTTGAGGAACCTCCATATTGTTTTCCATGGTGGCTGCATCATTTTATATTCCCACCAACAGTGCGCAGGGGTTCCAGTGTCTCCACATCCTTGCCGACACTTGTCTTTTTTTTTTTTTCTTCCCATCCTGACAGGTGTCATGTGATAGCTCCTTGTGGTTTTGATTTGGAACGCGCCCGATCTCGTCTGATTTGCATTTCTCTAATGATTAGTGACATTGAGAAACTTTTCATACACCTAGTGGCCATTTGTGTCTTGGAGAAATGCATAGTTAAGTCCTTAGCCCATTTTTCCATGGGTATTACTTAACACTTGAGGAGTCTCATGTGTGGTTGCTAGCACACCTTGGCTTGATTGTCTCCACAAAAGTTTTGCAGAGACCGCCTCTTAGCTGGAGAGAAGCCTTTCCAGGCATAAGATGAGAGGGTGTATTCTTTGTTGAGAACGTGTTCTCGAAGGAGAGAGAGGCAAGACAAGTGAAGCTAGGAAGTAATTTTGGGATACCATCTCTGCCCTTTTATAGGGCAGTCTAAAACATAGCCAGGAGTTGGAAACCAGCATCTCCTTATGTTTCATTCAGTGCCATATTGGAATAAGCTAAGAAACATCTACTTGTGCATTTAGTAACTGGCATAGAGTAACACCTGATATTCATCAAAGAGCTAAATGGGTGAATAAAGAATGAATGAATGGAGTGAATTCCACAATAAAGAGGTGAATCCCATTATTAATCAAATCTGTTCATAACTTTGGGCTTTAGGCTTTAGTTTAATTTTTAAAACAAAGGTTGGAAGTCTTCTCAGAGCATCTTAGAAATGTACTGGAGCCGAGCGTGGTGGCTCACGTCTGTAATCCCAGCAATTTGGGAGGCCAAGGCAGGTGGATCGCTTGAGCATAGGAGTTTGAGACCAGCCCAGGCAACATGATGAAATCCTCTTTCTATAAAACATTTGAAAGTCAGCTGGGCGTGGTGGCGGTTGCCTGTAGTCCCAGCTACTCAGGAGGCTGAGGTTGGAGAATCACCTGAGCCTGGGAGGCTGAGGCTGCAGTGAGCCGTGATCATGCCACTGCACTCCAGCCTGGGCAATGAAGTGAGACCCCGTCTGAGAAAAGAAAAAAAAATGTATTGGGAGACATGTGCCTATTGAAACCATTTTTGGTATTCAGAGTGTCTTTAAAGTTAGTCTTGTCATTTGCCTGTGATGTTAAGCTTGTGGTTGAGGTGAGTTTTTGAGATTATCTCAAATAGGATAAGTGAAGAAGCTTCCCTCCCCTACCATTTGTCACTTAGATTGTCAGAGTAGAATTTCTTCCCGTATTCATCAGGTGGCAGTGGACAGCCAATAACCTGGGATGTAATAAGTTCTTTTCTCAATTTTCTAAGTAAGTGTTCTTTTTACAAGGGTCGCGCTCCGGCAGTCTCCTTTGAAGTCGTTTCTGTTATTCATGGGGCCACAGTGTTATTTCAAAGGTGTCAGCCAGCAGGCTTGAGGCTTTTCTGGCATGAGGTCACTGACAGCCCTCTGGACAACACAGCTTATTTATTGGTCTCTCATTCTCCCATCCCCACTCCTCCTTTCTTCCCTCTCTCCACCAGAGCGATCGCCTCACCGGCCCATCCTCCAAGCCGGACTGCCGGCAAATGCCTCCACAGTGGTCGGAGGAGACGTAGAGTTTGTCTGCAAGGTTTACAGTGATGCCCAGCCCCACATCCAGTGGATCAAGCACGTGGAAAAGAACGGCAGTAAATACGGGCCCGACGGGCTGCCCTACCTCAAGGTTCTCAAGGTGAGGACTTTCTGAATCTAAAGGTACCCACAACTGGGGTCTCCTTCATGGGTTTGGCCACAGGTTCTTTGATTTCCTGTTGGAGTTGAGAGAGGATGATTCTCTTTTTTGACTAGCCAGCAGAGAGTGTTCTAAGGAATTAACAGATCATTACACTTGCTAGTAGAATTTCAGAAGGGAACTATGGAGTAGGGGAAGAACTACTAAACTTGGGGAAGAACTACTAAACTTGGAGAGAGAATAGTTCAGCTATTTATCAGCCCTGAGATCGCAGACATTTAGGCTTAGCTGCGCCTCTATAAAAGTAGAGATCGTGATACTCTGTCCCCCATAGGGCGGTTGTGCAGAATAAATGGGATGGAGTGGATGGAAAGAGCTTTGTAGGCTCAAGGCATTGTGCCAGTGTTGATTGTTACTCTGATGTTGTTTTCTATTAATAGGACATTAGGATCCAATTTTAGTAGCCACGTTTTAGAAACAATTTGGATTTTTTTTTTAACAAAAACAAAACAAAACAAAACCCTGACCTTTGAAATCCATTCAGAGGTGATTTAGACAATAAACTCTAGGTCATATTTCTGCACCAGTGAAATGTTGAACAAGGAAAATATCTTTCCCTCCTTATTTCTTATTTGCAAGCCCCCATTTTCATAGCATCTGCCTCTTTTTTAGATCTAGGTTTGCTCTTCAGGAGACTGAGGACAGGGGCAGCTAAGTCTGTACAGCTGGCTCTTAACTCCTTGCCTACCACGCCTCCCATGTCTAGTTGCTCATGGAGAATGAATGTCCTTAAGAAGAACATTCTTCCAGTAGAACCATAGGTGACCCAGCTAAGAACTTTCAGCCAATGAAGTGTTCTCACCAGCTAATAATTCCAAGGATCAAAGGCATTGGGAAAAGATGACCAACCTGGGGACCCACCCGACCTATCCAGTTAGCTATCGCTCACACCCTCCTGCCCTTCTCTCCACCAGGTCTTTCCGTTGTCCACCACTGGACTGATTTTGTTCTTTAAAATCCGCAGCCCTTTAATGCCGCTGTTTAGACGTAATGGAGTTTGTTTTCTTGCGGTGTGTTGGTGGTGGGACCATAGACAATGCTAAGACCTTCCTGGTTGGCCGTTATATTGTTCTCCTGTGTCTGTTCTAGCACTCGGGGATAAATAGTTCCAATGCAGAAGTGCTGGCTCTGTTCAATGTGACCGAGGCGGATGCTGGGGAATATATATGTAAGGTCTCCAATTATATAGGGCAGGCCAACCAGTCTGCCTGGCTCACTGTCCTGCCAAAACAGCAAGGTAACAATGCTTTCATTTTTGTCTTTTTTTAAAAAGAAAGCTGGATATAGAAGCTGAAAAGACTTGGTGCTTTGGGAGACTGCAGGCAGCTTATAGGATAACTCTTGTGGCCTTGGTATATTTATAATAATCTTTCTTCGGTGATGCAGCTGGTATGATGCCAGTAGCCATGGAAAAATGCCCACAACGTTCAAAGTGCTTGCTCCAATTTCTTCTAGAGATTAGCCTCCACCCCCACCCAGTTTTTAAGTTGTTCCTTCTGGTTGATCTTGTTTAGGCTGCACATTTCCCATCATTACTGCACATTAACACCATTTAAAACACACGCTTCCATGCCTGTTTAATACGGGGCATTTGAGTATCAGCAGAGTTTGTCTCCTTCTACTTCAAGTTTTTAGGGAAATATTGGCAAGATGCAATTTGTTCAACAAAGCATCATTTCTTTGGTTGCATGGTTGATCCTTATGAGTTGCTGTTCTTGACCTTGTTGCACCAAATTTGAGGGGAGCTCATCTTAATGAATGTACTACTGGACGCTACTAAAGGCAAAAGGTTGACTTTTTAGGTTTGTCATGACTCACATCCAAATGTTTATTAATGAAAAGAGAAAAAGCCCAGTTTTTTTGGTTACCAAGATGATGCTTGCTTCCATTTCTTTTTGTCAATGCTATGTAGGGCAAGATGGTATCGCAGAAGTAAAAATAACCAGAGCCTGGTAACCAAGACAACCTTCCACCCCAATTGGTTCCCACAGGGCCAGGAGGATGGGTGAGGTGTCCATCTGGGCTTATGTGCAGTGTGTTGTCTTAAAACACAGCAATTTAGATAGAACTACCCTTTCCTCTTGGTGGGAGTCTGCAGCCAACAGGACCAGAACCAGCTTGGCCTTCTGGGCACCATACTTTTGGAAAACCACCCCTAAATGCAAACCAAAGCACAGGCCAAGAGAACGGACCTCTGTGGGTTGATTTTTTCCATGCGTTTGATTGCGTGCATGTGTAGGAGGTGAAGCCGGTGTGGTGACGGGCCTGTGGAGGTGAGCTGGTCAGTGTTGCTCCGTGTCTCTCGGTTGTGGGCTTTGTGGATGGGCTGCAGTCGGAATCTCCCAGTGGCCAGCACCCCCTGAAGCCCCCGGTGCGACGCCTTGTGGTTCCACAGCCCCCTCCACAATCATTCCTGTGTCGTCTAGCCTTTTCTTTTGCTTCCCTTGTTTTCTAGGCCGCCGGTGTTAACACCACGGACAAAGAGATTGAGGTTCTCTATATTCGGAATGTAACTTTTGAGGACGCTGGGGAATATACGTGCTTGGCGGGTAATTCTATTGGGATATCCTTTCACTCTGCATGGTTGACAGTTCTGCCAGGTATATACTGTTCTTTCTCTCTGGGTTTTTTTCCCTTTTCTTGGTTGACTGCTATAAAATTAACACAGCTTCTGTTATCAGAAATGGCCCCTTTTATCCTTGCATAAAGATATAAAAAATGTTAAAAATGATCCCTCAGGGATAAGAAAACTGCCTTGGAAATTCACACACAGTGAGATCCCACACTCACATTTATGATCAAGGGAAATTTCACCCTTAAAACCTGAAGGGATCTCATATTTTTAGTGAGTCATTGAGCCAATGTATAAATTAGCCCATCCCCCTTTCTCTTAAGGAACAAGTTGCCATTACTTTGGTAAAATTCAAAGTAATTTATTCTCATTTCAAATTCCATTTTGCTAAAATCCTGTATGTGTTTTTATTGCTTTCATCCCACTTTGTATTTTTAACGAGATGTAAATAGAGGGATGTGTATGGAGGAGCCTGGGGAGCGGCACCTCTGAATGTCAGATGCACAGAAGCAGTGTGTTGCCTACCTTGGGGATCGGTGGCTTGCTGCATGTTGCGATAGGATGGACTTTCGGTTTGCTTTCATTGCAAAGCATGCTCCTGCCATCTTGGGCTTGATGTTATTTCTGCCTCACAGAGAAATAAACATCATTGCAGCCCTGTTGCCTAAACATTGCTGCTGTCTGAATCTTTAACCGACATCTCTATTCTAGTGAAACTTTCTTGAAATTAAACACTGTCCTCTCTGATGCATCTGCCTCTTTGTCATTTCCTTTGTGAAACTGCAGAGACTGTGGTTTGCTAGCTTATGATGTTCCACTCCAGTTATTAATTCCTTGTTTTTAGAGTACAGTGCTTACCTGCATGCTTATTTTACATCTAGTAAAAATAAAATAGATCGTTTCATTTTTGTGCTGTTGCTGCTGAGAGTTTTGACTATCTTGCAAGTATTTTTCTGATTAAAATGTATAAGCTTTCAATAATACCATTGCATCCGTTTTTCCTTTTGTTGCGAATCTGCTCTGTGAATATTTGCTTTGAAACAAAGAGATGTCTCTTATGTTGAAGCTTGCTTTTATTTGCAGTACTGCATTCTGTGGTGCCTAACTGGCACTTCTTAACCAGTTTGCCTGACAGTGCTAGCACTTAACTAAGAATGCAGTTTGAGAAAAACACTATTTGGAAATACACTGCTTGTAGATGGATCATCGAGGACTAAGAAGAAGTCAGACATTGGAAGTTGATATAAAAATGTGCTAAATTAAGTAATTATATGTATACTCACACATAATACCTTTATGTTTTTTCTTTAAGAGAAAAGCTGTAGTGACATAACAATATAACCGGATATGTATAAACTTAAAAGGTTATTAAAGAATATTATAATCTTTATGTATTATGGATCTAATGGTTCTATATTATAAGCAATTCAATCTGTGTATTTAATGCATTGGTTTGTTTATGGACTAGATGGTATTAAGGAATTCACCAAAACTTTTTCAGACCAGCCTACTAGATGAACATCAGTTTCATATGGAATTGTGTTCATCCGGGTTAAATTATCCTGTGGAGTCTTCCTTTGGAAGAGCCTACCCATGTAAGACTGAAGCATTGTCACTGTCTCCTTAGAAACAAAAGTGGGCATCGTTGATATTTCAGAATTTTTTATTTGGTTTGCATTCACAGACGATCATGAAAGATAATCCTTTCATTGTGGGTACAGTTGGTCGTCCTCCACTGAAATGTCTAACAAAATGTGGCCTCATAGCCTGCCCTGTGCAACTGGGTGTCAACCACTCACTGGATTGCAGGTGCCCACTGAGGCTAGTGACAGTGACTACCTGGGTCCTGGTGGTCAAATGATGGACCCCTGGTTATTCATTTTCATTTGGGAGTTTTTGGGAAGCCCACCTTGCCTTGAGAATGGTCGTCGCCTTTTGGTTCCTTTGGTTGTGCTATGATGCGTCAGTCTGGTGTGCTAACTCTATGGCCTGCTTATCTGTTCCTCCTCCTGTGATCTGCAATCTAGCGCCTGGAAGAGAAAAGGAGATTACAGCTTCCCCAGACTACCTGGAGATAGCCATTTACTGCATAGGGGTCTTCTTAATCGCCTGTATGGTGGTAACAGTCATCCTGTGCCGAATGAAGAACACGACCAAGAAGCCAGACTTCAGCAGCCAGCCGGCTGTGCACAAGCTGACCAAACGTATCCCCCTGCGGAGACAGGTAACAGAAAGTAGATAAAGAGTTTAAAGAAATTTACTCCTCCCCCATGACCCAGCCAGCTTGTGGATCTTGTCCTCTGCTTTGATGCCATCGACTTCTGTGAGCTTCCATGTGCGAGTGATTCTGGTGTGATGCTTGGCGGTCACCCAGTTAGTGTTTGGAGCTTGGAGAGTCTAGTCATGGTGCGTTGCTTGGATCAATGGGGTCCAGTTCCAAGGGCAAGAAAGGACAATACTGTCAGAATCAGAAAACTAATCAGCAGGACTGGAAATAACTGGAGGCAAATCCCCCTGTGTGTGTTTGATCAGACTCAAGTACAGCGGTCTCTTCGAAGCTTTAGCCACATTCGTGTCCTGTGATCTAATACCTTTTTTAAGATAAGCATGAACATTCGCTTGGGACTTATGCCACTAGTACGAAAGAGACTCTAAGTTCTCTGACTTATTTTTTAAAGTCAAGATCAGTATCTTATGCCCTGGGGGTGCATCTGAACTGTTTGATTTAAACTGTTGCACAATAACTTTCTACACAGAATTTTGGCTTAACCTCTTTGCAATTTACAATAGAATTGTATGCATCTATTATGTCTCATTGTTAGTAGTTCACAGGTGTGGCTGTGGATTTATTAGTAGAATATTTGTATGGAACCAGCAACAGATTGTTTTTAACCACCAACTTGGTCTTTGGTGGTTGCTTTTTGCTTGTGTGTGCCTCCTGATTGGTTTAATTTTGCTTTGGGGGAGATGGGGCAAGATGGAGCCTCTGGTGTAAACCAAAGCCCTGCATAGGTAGGTGGGACAGGAAATGCCTCAGCTCTTTTCTGCTTATTCACAGAGATGGAAGCGGAAGGCAGATGTAGATGCAGAACGTTTACAAAAGCATTTGAAACTTGGTTCTGATAAAGGTTTCTTTTGAAATAGCAAGTAAAACAGCAAACTCATTGGCTCTATTTCAGTGTGTATTTTAGTAAAATGTACGGGGTGCTTGTTAAAATTTCAGATTCCTTTGTCTCAGCCCCAGAGATTCTTGTTCAGTCATCTTGGATAGGGCCAGGAATCTGCATTTTACACAAGCCCTATGGTGATTTTAGAATGCACTTTGAGAAACTCCAGGTTAATTCCAGGCATGCCTCTCCCGGGACTTCAGGTAGGAATGACATTTTCTGGACAAGGCATTAGGAAGGATTAGGAACCAGTTGGTCAGCAGTGGTTTTGGAATGGGTCTGGTTGTTCACAACCCAGCTTCAAACTCCTGGCTGAATGGGTCCTTGTTAACTTCTCTAAAGCCATGTTTCAAGCAGGTCTTTCTTTGTGGAGACGGAGGATAGAATTTAAAGTGTGTGTCAAGCGTAGGCGAATGACCAAATTGTGTTAACAGCATGGAAAAGAGGGGCCTGTTGGGTCACGTCTGCCACCAAGAATGCTGTTGTCATTTTGAGTGACATGATTATCTTTCTTGGGGCCAGGAAAGCAAAGATGAGGCCAGTTGGCCAACCAGTTTCTAGAAGAGTCCAGTCCTGAGATAACTCTTACATGGTTTCTATTATTTTTTTTCTAATAGGGAAAAATGGTAACTTCTGGAGGCAACTTGTAATTTGGCATAGCTAGGCCACTGCCCCTTAATTATCTCATCATCTTTTTTTCTGCAACTGTTAAAATGCTTTTCTTTTTACTTAATATAGAAGGGTAAGATGCCCTTAAAATCCCCCTGACTCAGCCACAGTCATCGTGTTTTCTTTCCCCAGTGCCAGCTGGCTTTTCTTCACTGTCCATCTAAGAATACAGTTTGAGAAAAATAGTATTTGGAAATATACTGCTTGTGGATGGATCCTTGAGGACTAAGAAGAGGGCAGACATTGGAAGTTGACATAAGAATGTTCTAAATTAAGTAATTATATGTATACTCACATGCAATACCATTTATATTTTTTCTTTAAGAGAATTCAGCCTGGCCGGGCGTGGTGGCTCACGCCTGTAATCCCAGCACTTTGGGAGGCTGAGGCGCGTGGATCACCCGAGGTCAGGAGTTCGAGACCATCCAGCCTGACTAACATGTTGAAACCTCGTCTCTACTAAAAGTACAAAAATTAGCTGGGTGTGGTGGTGCATGCCTGTAGTCCCAGCTGCTTGGGAGGCTGAGGCAGGAGAATCACTTGAACCTGGGAGGTGGAGGTTGCAATGAGCCAAGATCACACCATTGCGCTCCAGCCTGGGCAACAAGAGTAAAACTCCGTCTTTAAAAAAAAAGAGAGAGAATTCAGCCTAAGTTGGTCCTTTTTCCTCTCTTCCCTGTGTTACCAGAGGGAACATCAGAGTTCCTTCCTCTTTTTCTTCCCTCCTTCCTTTATTTATTCATCATAATTTACTAAGTGCGGGGTATAAATCAGGTTACATGTAAGACACAGCCTGTCACATTCACCAGTGGTTCCAAGGTTATTTGATGGTAAATGCCTGTAATCCTAGCTCCACAGGAGGCTGAAGCGGGAGGATCCTTTGAACCCAGGAGTTCAAGACCAGCCTGACCAACACAGCGAGACTCCAACTCAAAAAACAAAACAAAACAAAACAAAACAAAAACCCAAAGTGGGAAAAAAAAGAAAATGTAATTGGCTTGTGTTCAGTAGGGCCGAGGAGTATAACAGAAGCAGAGGAAAGGGGGCAAATACCAGTTCCCTGGAAAAGTACATCTCTGCGAGATTAATTTATTTGGGGGGAATGTTGACACACCTCAGCTCCTTCTACATGTCCAAGTGGGGTACATTATTGGATCTTCACAAAGAATGTTTCATCAGTACGCATGGCCCCTTTGGTAGAGAAAGAGATGCTTATCGGGTATCTGGATAAAAGAGGGTTATTGGACTGGAGCTGGAATGAAAAGCCCCAGAAAGGCCTGCAGATACGTTGATGACAGAGCAAATACCACAGGGATGCCAAGCATGCCTTTACCTGAGCCTCTAATCAGATGTGTCAAGGATGGGTTGTTTCTAGGCATTTATGAGGCCACTTTTTATTCTGTGTTGGCCAGTCTCCTCTAGGACACAGGGATCACTCAGTGTCTCCATGGCCCTGACTCTTTCCCTCTCCAACACCCATACACACACAGCGTCTCACTCAGGTCCCTCAGTCCATCCTTGTTCTCTTTTCAGGACAAGAAAAGTTGGGTTTTCGTTCCTCCTGTGAGTTTTTCCTTCTTGGCATTTATTAATTTGCACTAGACTTACTGGTGTAACACAGACGTTTCAGTTTATGTTATTTTTTTGAGCAAAAATATTTTTTTCCAGTACCAAAGAAGAAATTCCTTGCAATCATTTCCTAGTAAGCGTGAATTTTTTGAGACTTTGTATGCACATGGTTGAAGAAGGAGAAGCAACTTTTGGGTGGTGGGAGGCAGATGGCAGGTGGCATCTCCCTGTGTCCTTTGATGGAGGCTCATGTCACATTCAGTGTCAGGGCTTGGGCACCGTGCCAGACACTGCTCACCCACTCCCACTCCTTTGGTGCCCAGCGAGTTAAATGAGACCAACAACAGCCAGCCCAGAGAGGGGCATCTTTGTGAGCGTGTTGGTTCTGGTACAGGTATGCTGGACAGCCAGTGACCAGTGTGAAGCAGCCTTTGTGAGTTAAAGGGGGCAGCATTACTTTCTGTGTTTTCCACACATCAATTGGGTGGTGGGGGAAGGTGTAGGGGTGGGTGGAGGATGGAGTGCAGAGGAAACTGAGGATGCCTGTTTAGGAGACGTGCGGTGTTGCTGGGTTTGCTGAATCAGTTTTACATCGAGCACATCAGTTTCTTTCTCTGGGGCTTGAAGCTTCCATAGGGTAGGATGGAGATTTAACTGTCTTATGGTTGGCTCCGTCCAGATAAATTCATCTCCTGTGCAGCTTACACCCTCTCTCACTGCCGTCAGCATGGTACAAGAGGCTGCAGGGTGGTTTTTTTTTTGTTTTTTTCAGACTTTAGTTTCACCTTCTCAGCTGCTGATATAGGTAGGCTGAAAACCAGAGAAAAATCAAGAGCAGACTGGGTGCCGTGGCTCATGCCTGTAATCCCAGCACTTTGGGAGACCAAGACAGGCAGATCACCTGCAGTCAGGAGTTCTAGACCAGCCTGGCCAACATATAGTGAAACCCCATCTCCACTAAAAAATACAAAAATTAGCTGGGTGTGGTGATGCATGCCTGTAGTCTCAGCTACTTGGGAAACTAAGGCAGGAGAATCACTAGAACCCAGGAGGTAGAGGTTGCAGTGAGCTGAGATCGCGCCACTGCACTCCAGCCTTGGTGACAGAGTGATACTCCGTCTCACACAAATAAAATAAAATAAAATAAAATAAAATAAAATAAATCAAGGGCAGTGAAGGCTACCTTTTGTAGCAATACTTTTGAGGCAAATGGCATATTCCTGGGGACGTTAGGAATAGGACCAAGATGAAGGGGGAGGAGCGGAGCGGGTGCCTCGGGGGAGGAATGTGTGACTCAGTAGCCAGTTCTCAGGTCCAGTGTTAGTGATCCTCAAACATATGCCAAATTCCGGGAAGGGGGATGGATGTTCTACTCCCAGAAGCTCGTTTACTGCCTGGCAGCTGAACATCATGATCTGGGAATATTCTCTGTATTTTGGTCAATCAGGTGGTCTAAACCTTACCGGCTCCAGAAAACATTTGGGTAATTAGAGTGGTCACGGATGACTTAACTGGAATCTGCCCTTTCATGTGGGCACCTCATCCTCCCTGCCCCTATTTCGCTGCTCCCTTTTCTCCTCTCTCAGCCTCCAAAGGACATGACAGTTTGCCCAAGATCTGACCTGGACCTTGGCTGATGCGATCTCTCGAGCAGAGCCAGCGCATCTGGGGCTGGTGCGTCATGGCTCTGATAGGTTTACTCACAGAGTCCCAGGGAAAGGCCTGCGGGAGGCAGAGACTCGCTATGGGAGAAAAGTGAGTGTCTGATGAACTGCCTTGCCTAATTACCTAAATTTTGTTATGGAGGAATTAAAAATGCAACTTCAGAAGCCTTTGAAGGTTTATCTCAGGCACCCAGCTTGCGGTGGTGAAAGCATTTTGTTTGGCCATAGGGGAGTGGTGGGCAAGGCTTATATTAGAGCAGAAGTATGTTAATGCCAGCCTCGTGTTCTTGTGGGGGAAGGTGGTTTGCAGCCTAAGAGTCACAGGGCCTGTTTGGCAGGCTGTGGTCCAAGTGTGTTTGTCAGTCCTGGGGAGTAAACACACAAATATTAATTCGTCTCTTCTCCCTGGAACATCTTTGCTTCTGCTTGCTCTGTTCTCTGAGAAATCCCCTCTAGATGGTAAATTTAATTCAGTATAAAGAGATAACACTGTTAGACCGGGCGCAGTGGCCCACACCTGTAATCCCAGCACTTTGGGAGGCCGACGTAGGTGGATCACCTGAGGTCAGGAGTTCGAGACCAGCCTGACCAGCGTGATGAAACCATGTGTCTACTAAAAATACAAAATTAGCTGGGCGTGGTGGTACATGCCTGTAATCCCAGCTACTTGGGAGGCTGAGGCAGGAGAATCACTTGAACCCGGTAGGCGGGGGTTGCAGTGAGCCAAGATCGTGCCTGGATAATGAGAGTGAAACTCTGTCTCAAACCAAAAAAAAAAAAAAAAAAAAAAAAAAAGAAAAGAAACAGATAACACTGTTTCTTGGTGGCCCTTTAAAAAGAAAGGAAAAAAAAAAAACACTTCCTCACTTAATCTCCCATATGTACTATGGAAATGTACGAAAAGCACATTTACTTAAAAGCTTGACTTATGGCACATGCTGGAGAGATTCCGGAAAGTGAGGAAATGGAATTGGAGTCTGTGAAAATACATGCTTAAAAAAAAATGCCTGCCAAGATTCGGGAGTGGGAAAACAGTTTACTAGAGTGTTCGTGTTGATTGTTTATAAGTAACTCACTTATCACTAACAAGAGAATATGTTAAAATTGGTTAGGAATGAAACTCTGGAATTGAAGTTTCTAGGTAGGAATTGAAGAATAAGGAAGATTATGATTTTGTGCAAAAGAAAAGAGAATTTAATAGTGCTAAAGAAGTAGAAGGATTTCAGAGATGAGCAGTGGGAGTTATTTGAGGTTCCTGATTCAGAGGAAAGATGCCCAGTAAAACATGGAGTCCCACAGGGGAATGGCCTGCCCAGGACCGGGCCAAGCCCCCAACACAGGCTCGCTCTTGGAGTGGAAGGGAATGAAGAGAAAGCCAGCCGTATTTTATAGCCCCAGAGGGGATTTTAAAAGCATAGTAAAAATGCATGGAGGTAAAATTAAGATATACCTCAGTAGACAGAGCAATCAAATTCTATAGTTTCTTAGACTTTGCACGTTTTCTTACCCTTTTCCCCCGTTTCGTGTTCTTATAAAAGTATTTTCCAGGTTTGTACATTTAATCTGAATCTCCGTACTTCATCTGAACAAAATTCCCGTAAGTCATCCTTCTTGTAGACCTCATTTTTAAAATTCTAATAATAATGACAATAAAGTTGATAAAGGCTTTCTTATTTATTTATTTTTAGGCTTTCCATTTGAAAAGCTGTCACATGAAAATCTTCTCGAGACAGTCTGTTTGGGGGATGGTGTAGATACATGTGAACTTTTGCCAGGGGTTTGTGGATGCAGATTCCTTTGGGGTCATGGGTGAGCCATAGAGGGGTGAACTTCAGACTGAATGTTAAATTTTTCTCTTCTGAGGTAACCCCTAAGCCATATTTGTCATTAGGACCCTCTTACTGTCCAGTTTTCCTCCTGCCCTGAGATGATTCCCTGACTCCTGGATTCTTCATCTCCTGCTTACTAGAACCCCAGCCCATCCTTGGCAGTGAGCAGAGGGCCTCATCTAGCAAATCAGACATGCCCACTAAGGCATATCTTCTGCAGTCAGCCTTTAATGTCACTGGGTTATCTTCCTGGTTGCACACAGTTTGACAGTACAATCGTCGCTTGGTATGCGTTGGGGATTGGTTCTAACAACCCCGAATATACCAAAATCTGTGGATGCCCAAGACCTTTATTTAAAATGGTGTAGTATTTGCATATGAACTGTGTACATCCTCTCATATACTTAGTCATTTCTAGTGATACCTGTAATAACTAACGCGTTGTAAATGCTATGTAAATAGTTGTTATACTGTATTGTTTTTTATTTGTATTTTAAAATTGTTGTATTGTTATTTTTTATTAATTAGCTTTCAAATATTTTTGATCTGTGATTGGTTGAAACCATGAATGCGGAACCCACAGATATGGAGGACTGACTGTATCTTACACACAGAACCACCCTAGGCTCCAAACGCTCCAAGTTACCCAGAGAGAAGTGTCTTTGTCTGTTCTCTCAGATCTGGGCAGCAAATGATTCTAAAGGGACTAAGAGAAAATATTGCAGTGTTGGTAGCAGACATTAACTGAGCTCTTAGTGCCAGGCCTAGCACTAAGCACTTCATCAGTTTTTTTTTCCCTCATTTTATCATCACATTAATGCTGTGCAGTTGGACCTGTTCCTGTCTCCTCTTTTCTTTTTTGAGATGGAGTCTTGCTCTGTCGCCCAGACTGCAGTGCAGTGGCACCATCTCGGCTCACCGCAACCTCTGCCTCCCAGGTTCAAGCAATTCTCCTGCCTCAGCCTCCCCAGTAGCTGGGGTTACAGGCACTCACCACCATGCCCGGCTAACTTTTCTATCTTTAGTAGAGACAGGGTTTCACCATGTTGGTCAGGCTGGTCTCGAACTCCTGACCTCAGAAGATCTGCCCACCTTGGCTTCCCAAAGTGCTAGGATTACAGGTGTGAGCCACTCTGCCTGGCCCCTGTCTTGTTTTTAACAGATGAGGAAACCCAGGTCTAGAAAGGTTAAGTGATTTCCCAAAGCTCACACAGTGAGTGAGTGCTCAAACTGGGACAGGGACCCTGACAATCTGACCGCACAGTCCCATGTTATTGCAGTTGGTCAGGATGCAGCCTGCCTAATGCGGGGCCTCATGTTGTGAATGATGAGCACAGGAAGGGCAGCAACGGGATTGGCTGTTGCCCACATCGAAGGATGCAGAGATGCCACAAAACCTAGCCTGGTAGCAGAAGGAAGGGCCGAAAGCAGTGATCTTGTAAGTTTTCACTCATTTTAGAAGTCAGCATATTTCAAGCATATGCCCTTCGTTTTCTTTTCCGTTGTTCATGCCTCAGCTCAGATCCTTATTATTCTAAAAAATATTTTTGTTAAATAAAGTACTTCTTCTAGAACATAAAAGAATTACATACACATGGTCATAAAATCCAAATGGTCTAGAAAGTTCTGAAATAAAATGTATTTTCTACCCCCTCTCTCAACTCCTAATCTCTCTGCCCACAGGTGATCACTGCTAAGTCTCTTATATATCCTTCCAGAAACGTTTAAGTGCCCTTGTTCTCACACCTCGCTGTGGGACAGCTGCCTTCCCCACATCCTATTCTGTGAGCCTCGCTGATGAGAGCGGTGATTTTCAGGGAGGAGGCACAGAAGCCCAGCCATGCCTCTGCCTCTGCTGGGTGTTAACGTCATCCAGGACTGCGGTCCCAAGCAATTGCTTAATCGGTTCCCACTCCTCTATTGATTGCAGCTTCCTATGCACCCCATAGTGGAATCCTGGAAACTGGTATCCAGTGATGAGGGGCTACGCTGCAGGCCATGCAGAGAGTGTTCTGGCTGTACAACCTGCCAGACCCTGGCCATTTGCGGAAGTCGTCCCATTGCTAGGCCTCTTTTTTTTTTTTTTTTTTTGAGACGGAGTCTTGCTCTGTTGCCCAGGCTGGAGTGCTGTGGTGCAATCTCAGCTCACTGCAACCTCTGCCTCCTGGGTTTAAGCGATTCTCCTGCCTCAGCCTCCCAAGTAGCTGGGATTACAGGCGCCTACCACCACAACCGACTCATTTTTTTTATTTTTAGTAGAGATAGGGTTTCACCATGTTGGCCAGGCTGGTCTCAAACTCCTGACCTCAAGTGATCTGCCCACTTCCTCCTCCCAAAGTGCTGAGATTACGGCGTGAGCCACCGCGCCTGGCCGGCCGGTTCTTACTAGTTTGGCTGGAGCTTCTTGCCCATGATATCCTCAAGCATAAGGTCCCCCTGCAATGAGTGGTGATTTTTGCCTGTTCATGGGGAAGAACTTTCAGAAGACCTTCTTAGTCTTGAAAACACCTGCGTACTTAAGCATCCACAGCACACGGCCCTGATGCAGAATGAATTAGGAGGACAGAAAGATTTGGGGAAGCATCATTGGCCGTTAAACCCGCTCCTGAATCTTTCTGAGCTCTGTAGGTGGAGCTTGAGATGTTCCTGTGGACCAATGCAAACTGGAAGTCTTGATGTTCTCTGAAAGTTCCTGGCTTCTGATGTGTCCCGCAGACGAGGTTAGCTCACTACAGTGAGGTTGGATACCACATGGCGGGGACTTTAAAGTTGTCTGTTTCATCCAGGGTGGGGCTTATGCCTAGTCTGTGACCTCAGTGGGGAGCAGGACGGATTCCCCAGGAGCACCCACATTTACCTTCTCGTCTTTTCCCGCTTGCTTCTGCCATTTGCTTGTGCAACCCAGACACTTGGGTGTGAGGATCTCAGCTCCACAATTAATGATTCTTTAGTTCCCGCTTTTAAAACATTTTGACCATACAATGAATAAATGTTGCTCATACTATCTGCATAATGAAGTTTAGGAATAACTGCCCCCTGCCAAAAGATTGAATGGAAGGCTCAGGAAGTGCTCATGTACGTTTTAAAAGATAATAGGAATTCTATGTGAAAAATGGCCCACTTCTTTATTTTAATACTGAAAACAACTTCCTAATCCTAAAATGATTTTCTTCCCCTAATCTATTCTTGGGCATCTTCTTGAATTTCCAGCCTGCTTTGAGGGAAGTCTGGGTTTACAAAGGCGAGATTCAAAGCTTTTCAAACAGGACAGGTCCTCTGGTTCCCTGTGAGAAGAGCCCAGGACCCACCCTGTGAAAGTTCATCCCACCTAAATTTGTTCATCTGGACTCAGTCTTTGCCAGTGTGATTGAAGGCGTTTGTAAGCACATCCAGGAGTACTATCCACCTGGGCAGTCACGCAGGAGACAGAGCCCAGGGTGGGCTAGTTGCCTGCTTGGAGATGGATCGTGGTTAACTTCACATTCTTGTTCTCTTGGGCCAAAGTCTTGTTCATGGTTTAGAATAAGACAGTGTTCAAGCAGCCTGTGGTCAGACTAAGATTGCGTAGTCATCCTCAAAAGTGGCCTTCCAGTGTGCTCTGTGTGAGTCTTTTTTTTTCCATAGAAACCAGCCAAAGGACAGTGATATATTTAAGAAATAATCATTTTATCAGACACACTGAAATGGATCAGGATAAACAAGAAAGTAACTCGGTGGAGCCCTGTGTACTGCCAGGTGGGAGAGGAGTTCTCTTGTGTGGTTATGGGAAAAGGTGTATTTTCTTTCCATTGATGCTTCATCCCACGTGTTTAGTGCACTGGTTTCTGAAACCGAAGACAAGAGGCAGCCCATTTCCACTGAATAGCCTGGCCATCAATAAGTTTCCAGAAGGACTGGGGAGAAACAAAGAATGGCCCCCAATGCTGGGGTCTGGGGTTATTTTGAGTTAAAGGGACTCGGAGCTACTGAATGTCTTCCACATTCAAGTCCTAGAACTCTTTCCTTGAGATATTCCACTTTACATTTCCAAAGACAGAGGAAATATGGTAGAGCCAATTTCCTAAAAGTTTTCGTAGAATTTCATAAGCACAGCATTGATCCATGATCCGGGTGGTCTGAGAGGGGATCCATTATCCAGGGCTCCAGTACAGGTGCAGGTACAACCATAAAGGCACTAATGAAGCCAGAGAGGACTGTCTGCATGTCCTCAAGTGACTCTCTGGAGGAATTAGGACAGAAAGAAAATTTACATTGTGATCAGATGGTATAGAAAAATTTCATAGAAAAACCTGAACATAGGAACATAAAATTTGGATGAAATCTGGTACTGCATGGACTGGAGGGCAGAGGAGTTAGATTCCAGTGGTTTTCTAATTTGGTTTCTGACTTCTGCCAGCCCCCAACCCATTCCTTTCTAAGATTCGATACTCTGGCTGGGCTCTGGCTGACTTCCAGCCTTCTCAGATGGAGCCAGGATTACATCTGTGTCTTTGCATTTTGTATCCAGGTTTCGGCTGAGTCCAGCTCCTCCATGAACTCCAACACCCCGCTGGTGAGGATAACAACACGCCTCTCTTCAACGGCAGACACCCCCATGCTGGCAGGGGTCTCCGAGTATGAACTTCCAGAGGACCCAAAATGGGAGTTTCCAAGAGATAAGTGAGTACTTCTCTTGGCCATGTCCCAGGATGGAGACTCAGCTATAAATGGGGATATTGGATTAACATTTTCTTTTTATGACCCTTAGCCACAAAGGTCTTGGTGTGATGATGTCAGCAGGAGTAAGATTGTATTTCTAAATAACCAACTCCTGGAAAAGAAAAAAATGGATTTAAAAAAAAAAATAACTCCTTGAAAGCAGAGCTACTTGCCCCTGGCTGGTCCCCAAAGAAGATGGCATCTGGTTATCATTTTTTAAGTGTCTGGGCAATTCAGACTCCGTCAAATGGAATAAAAGTAGAATTATCCAATTTATAAAACAGATCTGACATTCTAGCTTTTGGTTACTAGAACAAGACTGTTCTCTGTTCACTTCTGTGGAGAAATTAGATGCAGAATATAAATGGCCTTAAGGACCGCTACCCAGTGTTGCTGTTCTCATTGGTTATTAATGTCATATTGGGCTGAAAAGCTTCAAATATGGTACCTGACATCTAATTTCTGTGATCCATAATATTTTCCTTGTTGGATGATACAGAGGTGTGCCAATCAGATGTTTAGTCAAAATATGGCCACCTGGGTGGTGTTGGGGCTACGTATCTCTTGGTCTCGCTTGAACTCCACGTACTGGAGCTCCGTTGGGCTGCATTTGAATCCTGGCTTTGCCAGACAGTGGCTGGGCAACCTCGGGTGAGGCACCTGATTCTCTGAAATTCATTCTCATAAAATGAGGGTGGTGGTTCAGACCTCCCAGGACTGAGCAGAGTTCTTGGCTTGTGCGAGTTTTCCTTTCATTTCCCTTCACGTGGTGGTAACCTGGGAGCTCTGAACTGCAAACCTCAGCAGGATCATCGTGTGGGGCATGGAGTCAGTGGGCAGAATTTGAGCTCCTAGCCCTCGTCCTCTAGGCAGGGACCGACCCCTAGATCCTCCTTATGAAAGGAAGTGCAGTGGTCATTGTAGGGCTGTCCACTCACTTCTGGGGTACTTTTTGTCGTCACAGCTTGAGAGTACGGGAAGGTGGAAATGCTGACTACTTCTGCATCACATACACTGGAATAAGCTCTTGACTTGCTTATAAGCAGCTACCCTGTTTGCCTTGACATTTTCAGTAGCTCCTCAGATTATATACACTTCTCATGTGTACCTATACACATTTGGAAATGCAAAGATAAGCTCTTCCAGAGACTGATCTGATGAGCTCTATTTGGAAGGGAGAGGTAGCTTATGTGGCTGGCACTTCTGATTTTGATTCACGTGATGTCACATCAGTTTTGTTTCCCAAGTGCCAATTTAGAGATGTGTACCGTTAGCTAGGACTGAATAATTGTATGGATATTATTTGGTTAGAGTGTTAATGGAAGTAATTTCCAGTTGATTTGTATACTGTAGTGAAAAGACCACTCACTCATTCACTTATTCATTCACTCAAGGCATGTTAATTGGACATTTACTGGTGGGGCACCAGAGAAAACACAAAGAATGGTTTCTTTACCTGTAGGATGTGGAGAAATGGATGTTTCTTGTGAACTCCGCCAGCCCTAGTTTGTGTGTGATTATATACACAGATAGGTTCATGTGCACATTCCTATATATATAACTGAACTGGGGAGTTGTGATCATATTTTAAGAAATTGCAGCTTTCGGGTTTAGTCCATAGTTTTTGCCACCTGTGACACCACAGTCAACAGTGGAAGTCTGTATGTGCCCAACTGTTACCTCCCACCCGGGGTACCCTGAGTGTGGAAAATCTGAGTGCTAAACATTTCAAAACAGTGTTTAGCGCAAACGTAGGTGGAACAGATTTCCAATGAATGAAGGCTATTTAGAAGCAGTTTATTAGATCGGAGGCAGAAGTTATACAAAGAAAGGATTGTTATGCTTGTAGTAGCAAGGCGGTGGGACATAAATTAGCCATTTTTCCAATGCAAATATTTATTTTCTGCCAAGATGTTAAATTTAATTTTCGTTCTGGGTAGAAACAAAATGACCTCAGCATAGCACATGCTGCCCTTAGTCTTTATGCTGCACTTTTGCAAACTATTGTGTACTTACCTTAAATACTGTTTACTAATGGCAGCTCCATGCTTTGCTGTGTTATGCTTAAGTTAGAAAGAGCCGTATTCATAAGTATTCCAAAGACTTTTGCGTTTTGTTGGTTTCTGGAATGCACAAGGACAATATATGGCTATTCGTCCGATGTGCATAGACCTTGTAATCTTAGAAATTTAATTTGTGGTGTTCACTTTGGATTTTCTTCATTGTTAATTTTATGTAGTCATAAGGACTTTTAAACTTATGTCAAAAAAAAAGTCCCCAATTTTTTAGAATTTTCTTTTTAGTAAAAAATTAGAGATTCCTTGAAATGCTTTTAAGAGGCATATCCTGTAACTTGGCAAGGAATGTGACCATAAAATCCATTGGTATTTGAATAATAATTTTAAAGCCACCATTTTACAGGGACAAAAAAATAAGAACAGTCTTAACGTTTTTTCTTTGAGCCATTCTAAATTACAAATATTTAATTGGCTCAAGATCAAAAGCTCTTCTCTGGCACTTAGGAAAGCTGACCACCGCACTAGCAAGGATACCTTCCCTAAAGAAAATAAACCGAGAATACCAATGTGAAATTTAATAGCCGTTCCACCAGTAATTGACATTCTCTAAAACGTCACTAGGAAAATACTCAGGCGCGTGTGTACCCTAAGTCTCATTAGTTCCATATGATAAGCACTCCATGCTTTAGTAAGCCGCTGAAAGATTTTTATATTTAGTTCTGGAATTTCCCTCACTACACCCCATCACCAGATGCTATGTGCTAATCCCCTATTTACACATTTAGGCTGACACTGGGCAAGCCCCTGGGAGAAGGTTGCTTTGGGCAAGTGGTCATGGCGGAAGCAGTGGGAATTGACAAAGACAAGCCCAAGGAGGCGGTCACCGTGGCCGTGAAGATGTTGAAAGGTGAGCGGGGAGGCGGGAGGCTCGGGGAGGGGCTGGGTGGAGAGTCTTATCAAGAAAGTTCCTTTTGTGGCATGTGAACTCTATCATGGCACGGGGTCAGAGAGCACATAGTTGACCTAGGGGTTGAGAAGTTTTCGGTATAAATCAGCATCTCGGACAGACTATTTATCTTGAGCTGTGTGTACTTATAAAGAAAAGCCAGTTTTGTTAGAAAGCGGTAGCCTCCTACATAGAGTTATTCTTTGACTCCTTCTTCGTGACCACAATTCTTCATTCTCTCTGTATTTTTATGTGCTTAGAAATTATCAACTCACATATAATTGAATTTATTAGCTAGGAGTTGGTGTGTTAGATTTGGGACTTAAACCTTAACTTTACAAGTACAAGAAAATTTGTGTTTTTGGAGGGAACGAAGAGACGTAAGGGAGCAGAAAGCCTTCTCTTTTGCGTGAGGAACAAAGCAGAAATGACACTGGTCTGGGAGAGTCACTTAGAAGCTGAGAAGGAGTGAACAGGATCAGGGCTGGTGCAGAGCCTCCTGGGACACATAAACAATTACCCTGAGATGTAAATGTCGTGTTGTGTTTGTGGGACTGTGAACACTTCTACGTTAACCTTCCAACCCTGCTTCATGCCCATGTCCAAAGAACTTAAAGAACTTTTAACCATTAACTTATTCGTCCTGCAGTATTCTTTTATGAGAAGAGTTATAGGGAACTGTCACATTATAAATCCTCTTGTAGGGATCTCGGAAAGAAGATCCCATGCCGAGTGTTTCCCACGTTTCCAGGCAGAGAGGCCCATCCTTGGGATATGGTGCTGGGCATGTCGCAGGCGCTCTGGAGTTAGGCTTTGTCTTTCTTTTGTGGGTTCTCATGGGATAGTCATCACATCCCTCCCAAGGGGAAGTAGCAGGCTGGACTTTGTCAACAAGATGTGCATTTTGTTTTTTGGGTTTTTTAAAAGGCTGTTTATCTGAGTGACTCCCAAGGAAAACTAGAGTGCTTTGAGATGTTCCCCACCTTGGAGCCTGATGCCGGGGAGGAACACTGTGCTGTCTTGCCCCAGGTGTCATGGCACCACTGACTGAGGCAGCCCCTGGCTGCGTACCAGGGCCAGGTGTGGGGAGGACCCAGGCTTCTCATCTCTTTTGGCGGAACTTCTGGTTTTGCTAATGGAGCTCAGAGTTACATGGGATATTGCAAAAAGGGAGGTCTGGGAGTTCTCTTTCTCTTGTGATGCCCAGGCTGGCAGCCTTCCCTGTAAGGACACAGAAGGATATTAGTCCCCAAGCCATTGTGGCGTGTCCTTTCTTACAGCCCACGGCTGTGTCTCCCTCCCTCCTCATGGCCCGTGGCTCCCTCCTTCACATACATCAGTGTAAATTTTGCACACACAGTCACTTGTATTGATCTTCCTTTTGTGAAGCTAAAAAACTGTTTGCAACATGGTTCTTATCCATGCCCATATTTCATTTTTTTTTTAAAGGAAACCCAGATTTTTCCATACTGAATTAGCTTGAGGTGGAGGGCACATGGGAAAGTCTTGCCACTTAGGAGAATCTAAGAGAAGCTAACTGCGAGCCCGCGTATGTGGAACCTGTGCCATTCTTGCTTGAAATTACAGAGCGGAAGTTTATGTAACTTTTCTTAGGATGGGAACTGCAGTGCCCTCTGAGAAGCCACTAGAAGTCGCAGCCCTTTACCTGCTCAGAATGCACATGCACACACGTTTATGGCCCTGTTTATGGGGAACCGTCTGAACCCACCTCGGAACGCTCTAAGGGCCTCGAGGGGCTGGGTTAAGAATGCTTGGTCGGGAGCAAGTCTGTAGTGATTTGAAATGGCCCTACCCTCGGTCTCCTCGCTGGTTTCAGGCACCATGAAGTTTGGTGTGGTTTTCTGAGACGCCTTAGATATGGCAGAGGATGAGATTATCTCATGGTCTAGGAAAGAATTGGCATTAGTGTCAGAAGCCCCTGCTCTCGTCCTGACTCTTGGCCCCATTGGCCCCCCAGTGAGCTCTTTGACACAGAGTGAGGCAGTTCCCTGTGTAGGCCTTTGTCCCTTCCTCGATAAAATGAGGGAGATGATTTGGAAAATCTTTTCTGATTCTGAAATTCAATTTCATGCTGTTTCAACTAAGTCTTTGGCAACTAACAGTAGCTGCCCATGAGTTAGAGGAAATGAACTGATTTGTGAATATGCCTACTGTTCATAGATGATGCCACAGAGAAAGACCTTTCTGATCTGGTGTCAGAGATGGAGATGATGAAGATGATTGGGAAACACAAGAATATCATAAATCTTCTTGGAGCCTGCACACAGGATGGTGAGTAGGAGGAAAAACTGCATTCGCCCAAATACTCTGCAGTTTGATTGAATCATTTTAGAAATGGCTGGGCTTCCAGATCCTGCTCCCAGAGCACCCTGTGTGCATGTTTAAAGTTCTTTTTAAAATCCCCATTGGAAGATGTTCCTAGCCATGAACACAAAGAAGGGTCTGTGCCCGTACCTGGGGGCCAGTGGAAAGGAGGGTGCAGGTGACTTTGGATTTGAGGGCCTAGAGGGCGCTGCTGTTTCTAGGTCATAACCTGGAGGGGGTTTTGGAAAAGGCAGCCTCCTTATGTTTTTGTTTTGTAAGTGCTAAGAGAGATTTGTCAGAATAAGATCCTATGTTTTGGTTGAGAAGTTCTTCCCTTAAAACAGGGATTGAAGAATCCACATCTTGCTGTGGGTCACAGATGGCTGAGCTCCCAAGAATAGCTTAAAAGAGGAGAAAGCGGTATGAAGGAATACGTTATTTTCCCTGGGGGAGAGAGACCCTGGCTTCTTCCATTGAATGTTTACTGGCACTTTGAAATCAATTTGCTAAGTAATTAGTAAACTTGAAAACGCCTATCTTTGACTTAGCAATTTCTCTTGTAGGTCTATATAGTAATTGGTGAACTTTTTCTGTAAAGGGAGGTCGTAGATATTTTAGACTTTTGTGGGCCGTATGGTCTTTGTCGCAACTTCTCGTGTCTGCCATAGTAGTGAGAAAGCAGTGCTAGAAGTACAGAAATGAATGGACCTGGCTGCATGCCAATAAAATTTAATTACCCAAACAGGCGGTAGGCAGGATTTGGCTTGCAGGCTGTAGTCTGCCAACCCCGAGCCTATACCATGGAGAAATTATTGCACACGTGTGTAAGGGAACATGTACAGAGATGTTCATTGCCTACTGTTTGTTATGGCTGAAACCTGGAAGCAAATGCCTATGCATATAAGGGAATGGATAAATAAAGTGTGGTGTGTTTATACGATACAGTATATGCAGCTGTGAAAAGGAATGATCTGGTTTTGTTTTTATAAGCCCAACAGGTTCCAAAAGGATAATGTATGGGTAAAAAATGTTGCAAAGATCTAAGAGCTTTATTATTCATTTATGTGATTAAAAATAATATATTACTTATTGAATAGTTAAAATGAACCAAAAGGATAGAGTGGAGGGATCCATTGCTTTCCAAGAGGGCGCAGGTGACAGCATGAGAGTGACAGGGAAGAGCACGTCAACTGTGTCTCTGTGCCTTTTGAGGCTATCATGACCAAGGGCTTATTTATCATTTTGGAGAGATTATAATCATATTTTTATGTGTGCTTTTCTGTATGTTAAAACTTTTTCTTTTTTCTTCTTCTTTTTTTTTTTTTTTTTTTGAGACAAAGTCTCGCTCTGTTGCCTAGGCTGCAGTGCAGTGGTGTGATCTCGGCTCACTACAGCCTCCACCTCCTGGGTTCAAGCGATTCTCCTGTCTCAGCCTCTCAAGTAGCTGGGACTATAGGTGTGTGTCACCATGCCCAGCTAATTTTTGTATTTTTAGTAGAGACGAGGTTTCGCTATGCTGGCCAGGCTGGTCTTGAACTCCTGGCCTCATGTGATCCACCTGCCTCGGCCTCTGTAAGGGCTGGGATTACAGATATGAGGCACCACGCCCAGCCGCTGTATGTTAAACTTTAAAAAAAAAAAAAAAAGCATGGGTTGTAATAACTAAAAATGTTTTGCTGAATTGCCCAAGGGGAGACCCTGGATTCTCTCTTTAGGGAGCTTCTCTTCTTCCTCAACAGGGCCTCTCTATGTCATAGTTGAGTATGCCTCTAAAGGCAACCTCCGAGAATACCTCCGAGCCCGGAGGCCACCCGGGATGGAGTACTCCTATGACATTAACCGTGTTCCTGAGGAGCAGATGACCTTCAAGGACTTGGTGTCATGCACCTACCAGCTGGCCAGAGGCATGGAGTACTTGGCTTCCCAAAAAGTGAGTCTTTCACATTCTACTTGGCTGGGTGGAATCCAACTAAAAATGTCTTTAAAGAAAACAGGCAATTTGGACATGCTCATTTGCTAGATCAAGCCCTCGCATGTCTTGTACAACCTGGAAAATATTTATTGCGTTATTCCCATTTGAGTTTAATGAACTGTTTAAAACCAAAGCAGCCTCATAAACCTATAGCATCGCTGCAGAGATGAGCAGAAAAGATACCTCTTCTTTGAGACAGGACCATGTGTGATTTCCCTCGGAATTCAGCTCTCCAGGTGGGAAATGGATGGTTTTAAAGGCCCCCTTTAATTCGGATGATTTTCTTTCTTTCTTTTTTTTTTTTCTTAAGCTTCATTTATTTTGTGGTTACTGAGTTTTTGAACATAGACTTTAGGTGTTTAGTGTTTTGGGTTTGATATGGCATTAAATATTCTAAGAGTAAAGGTCAAACAAAGGGGTATTTTAGTAACCTTGCGTCCTGGAGCTCTGCGTTTATTTTGCCTCGTTTGGCGGGTGACCCTCTGTGGTTAGAAGTTGGCCAGGTCCCCTGAGGTGGACTGCCTGCATTCCAGGCGTGCCACTTACCGTGGAACTTGAAACATTTCAGTTATTCTGAGAGTAGTTAGACAGGTGCCCAGATGTCCTCGGAGGCATTTTGGATGACCCAAAACTCCCTTGTCAGCCCCACACATAGGGAAGCGGAGGGGCGGAGCTGCCTCCTGTGCAGAGGTGGGCCTTGCTCCTACCTGCATTGCAGTTTATTGCAGTGCCAGGAATTCCTTGGGTCCCCAAAGAGGTGAGATCCTCTGGTCGGCGTGCACCCTCTGTCACTGGGGGTCTGGGTTGCCTGAAGAGTCACAAACTCAAGTCTCCATGGGGCCATGCCAGTCACACCACCAAGGCCTGCGGATCACTCAGAGTGCAGAGATTCGAGGGATGGCTGCACCTCAGCTCTACTCTCTGGCCACATAGGAACATGGCCCAGAGCTACCCCATGTTCTGGATGGTTTTTTCTTTCTTTCAAACAGGCTGGAGTGCCGTGGCATAATCACAGCTCACTGCAGCCTTGACCTCCTGGGTTCAGGTGAGCCTCCCACCTCAACCTCCTGAGTAGCTGGGAGTACGAGGATGTGCCACCATGCCTGGCTAAGTTTTGTGTTTTTTGTTTTTTGTTTTGGTAGAGACGGGGTTTTGCCTTTTTTCTTTTTAATTTAAGAAAAACTTTAAAAACATTTTTTCAGGAGAGTTTAGAGTTTAAGACTTTTTCAGATCTTTTTCGTATAAAAATCTCCCAATATATAGGTTTTGGGAAACTAATTAAACACAGTTTTGACTTCTGTGATTGTGTTTACGTACACGTGCGTGTGTGTGCGTGTATGTAGGGTAGTTTGCCAATCTATTTGGCATCCAGAGACAACCAGACAGATCCAGAACATGGGACATTTGACAAGATATCGCTTCCAAATGTCAGTGTCTCGAAAGACAAAAACTGCTGGGGAGACGGTTCCAGATAAAAGGGGGCCGATGAGACAATTCCTAAGTGTAAAAGTGGGATCCTGGACTGGATCCTGTGGGTCGGGGAGGGTGGCCAGTTCTTAGAAAGGACATTTGTGAGTGTCCTTTGAATATGGACTGTATAATATTACTGGTTATATTTCTGTATCAGTGTTGAATTTGCCGGGGGTGGTGACAGTGGTATCTGTTGTAGGAGAAATACGCTGAAGAATTGAGATTTGTGAAGTATCAGTGATGCCTGCAGCTCAGTTTTAAGTGGTCCAGCCATAAAATATAATCAATCCATTCACTATCCCAAGTGTGTATGTGTGTGGGGGCAGGTGGGGCAGGACATGGAGACAGCAAGTGATTGAGTAGGTGTAACAAGCAAACCCAGCAGTGGTGGATACTCACTGTGCCATCCCTCCTTTTCTGCAGCTGTGAACTCTTCCTAAATAAGCCTGGGGAGGGTAGCCCATCTGTAGGCTGCCTATTTTGATATTCTGGTCTTGATCACTCCCTGCCCTACCTGTGTGGGAGATAGGGGAAGCAGTTTTGCACCCAGCAGGGTGGTGCTACTAGGGGAAATGTGGTAGGAGGGCTGGCTCAGTCATTTTATTAAATCCTTCAACATCTACTCCTAGAGCACCCCCGATGTCTCATGCCCTTGGTCAGGCTCTCCAGCGAAGTGGCCAGAAGAGACATAGTCCTTGACCTCCTGGGGCAAGAACCATGGGTGACAGTAAGAGAAATTGACTGTAAATGTGGGAATGAAAATAAGGTTGTAAAAAAATATTGAAAAAGGTGCCATGGAGGAAACAGGGGGATAAGGCCTTACTCATGCCAGGACGCTGCACTTTGCTGTCACTGCCATGGAAGCCTCTGAGGGGGAGGAAGAGGATCAGTTAGTGCTTCAAAAATGCCTCTCACTGCTGCTTGTGTGGTGAATGGGAAGGCTGAGCCCCTGTCAAAGGTGATGATGGTTTGGGCTAGGGTCTGTTGGGTCCAAAGACACCGAGAAAAGCTGGTGGGCTGATGTTGGACATATTTTGCTCTTGGGATAATGAATGGATTGATTAGATAGGAGGGAGAGAAAGAGAGATCAAGGGTGACTTCTGGATTTCCAGCTTGAAAAACTGGATGGTGGTGCAGCTTCCAAGTCTGGGAGGACTTGGGAATCAGGGCTGGGGCAGGGGGCATAGATTTGGGTGGAAAATCCGAGCTCGTCTTGAGCGTATCTGAGTCATCCAAGGGGAGATAATGAAGAAGCTGCAGGCAGCAGCTCAGCTCTGAGGGTGGGCTAACAGCTGGGAGGCAGCAAAGGGAGCTGTGAGTTCAAGCCATGGGCGTGGACAAACTCATCTGCGGAGAAGCTTGGAAGAGGAGAATAGAAGCCTGAAGTCAGGTCCTGAGAAAATTCTCAAATCTAGAGATTGACTGAAAGCACCAGAAACAGCAGCGGAGGCCGAGCAGGCACAGCCTGAGCAGTAGGAAAATCAGGACACGGAGCACAGAGGCCCCACATGGGAGCTTCAGGAAGGAGGGGGCAGGTAGTAGAGCCTCGGCGCTCAGACTGGTGAGAAGCACGGGTGTTGAGTCCTGGTCCTAGAGGCAGTGGTGGTACCCCTGCCCACCCTAGCCCTGAGGACCCAGAGCTCCTTCCTGTTTTGGAGCTGGCAGAGAGAAAACTAAGAGACGAACTTTGCTAAGCAGGGCAAATGCATCCATTTAATCGTGGAAGAACGGAAGTACCCATATTAAAGTGTTGTGATAATAGTAACTATCGTTATTATTAATTACTGACCCCTCCGGGAGAAGCTAACCATCTTCCAGGCACCGTGGCAGAGCATTTGACATAAAGCATCTTACGTAGCCCTCAGAACAACCCGGAAATAGGTGGGATTTGGATCCCCATTGTATGGGGGAGGACGATGAGGAAGCAGCATGAATGGTTTGAGACCAGATGTGTCAGGAGGACTCAGATGTCCTCACTTCTGAGAAGCGGACTTGTAGGTCTGAAGAGTGGAGTGGCAGGTCCCAGACCTAGGTCTCCTGGTCCCCCACTCAGCTGTCTCCTGCTCTCATGAGGCCCCTAACTCTCTCTAAACTGAGGCAAGACCAATGAGATTCCACGTGGGGGGCGGGTGAGGGGTTGTTTAGTGCCCCAGTGTGGCCTCATTGTCTCTACATTGAATAACAGCCCAAGGTAAAAGGGATATTGTATGGGCCTTTAAGACATGGCATGGTTCCAAAGCCACTTACTGGAGGCCACCTGCAGTTAAGGACCCAGAATAGGTTTGAAAATGGAGGTAGATGAAGATGTTAAGCATGGTCCCCTTGCGAGGGCTCTGCTTCCAAAAATGGAGGGCTTATTCTTGAAAGTGGAGAATGAAGAACCAGGCAAAGGGTCCGGCCCTGGCTTTCCCACACCCATCCCCTCACAATGGGGAGCCATGGGCTTGTGAGAGACCTGCTTGCCTGAAGGAAGGGGCAAAAGAGAACTGTTGATTACATCGTTACTGATGTACTGGGTTCATCTGTGCTCAGCGCTGGGCCGATTGAGATGAACACACAGTGCCTGGCCTCCAGCAGCTTTCAGTTGTGTGTGTACATGTGTGTGTGTGCGTGAGTGTGTGAGTGTTGGGGTAGGGGTTGGGGATTGGAGACAGAGAAGTGAAAAAACACCATGGTGTATATAGCAATGCAATTAGGTAATAGGGTATTTGAGCCTTACACAATTTATAAAATCCTTACTATTTTTAGCTCAAATCACACTAATTTTACTTTTTTAACCAAATCCCAAACCCAGTTAACCCTCAAAGTGTTAAACCTGAGCAGTTTGTTTTTCGTTTTTGTTTTTGAGACAGGGTCTCACTCTGTCACCTGGCTGGAGTGCAGTGGCGTGATCTTGGCTCACTGCAGCCTTGGCCTCCTGGGTTCAAGTGATTCTCCCACCTCAGCCTCCTGAGTTGCTGGGACTACAGGCATGTACCACCACACCTGGCTATTTTTTGGTAGAGACGGGGTTTTACCATACCATGTTGGCCAGGCTGGTCTTGAACTCCTGACCTCAAGTGATCTGCCCACCTCAGCCTCCCAAAGTGCTGGGATTACAGGCATGAGCCACTGCGCCTGGCCCTGAGCAGTTTTTTTTTTTTTTTGGTTGAGACAGAGTCTAGCTCTTTTGCCGAGGCTGGAGTTCAGTGGCGCTATCTCGGCTCACTGCAGCCTCTGCCTCCCAGGTTCTAGCGATTCTCCTGCCTCAGCCTCCCAAGTAGCTGGGACTACAGGCGCTTGCCACCACGCCCGGCTAATTTTTTGTGTTTTTAGTAGAGATGGGGTTTCGCTGTGTTAGCCAGGGTGGTCTCCATCTCCTGACCTCGGGATCCGCCTGCCTTGGCCTCCCAAAGTGCTGGGATAACAGGTGTGAGCCACCACGCTCAGCCTGAGCAGTTTTTTTAGTGAAGCCCCAGCTTCCCCACCTGTAAAATGGGTATAACACTATCCATGTCATAGGTTGCCGCAGGAATTCGATGTCATCAGCCATACTGGGCACAGGGCATACTGTCTACATCATAGGGATGTTGGTCTTCCTTCCCTTAGTGACCCACTGACCTTCACCTATGGAACACCAAACTGTCCCAGGGCCCTAATTGTATAAAATGGTCAGCTCCCTGTGCTGGAGAACGGCTGACATTCCTGTGGATGACGGGGATTTGGCTTGCCTTTGATTACTTTCTTTTTCTCGGGTGTGGGTTCCAAGTCTCCTCTTATTCAACCCAGAGGCTGGGGTTTGATGTTTCCTAGCCCCTGGGATGAGGGATGGCCACGCTAGACTCTGGCTTTCGCTGAGAAGATGGTGGAGGGAGCCGTCAGCAGTGTCTCTGTGCAAGCTGAGCCCTAATGCATAGTTGGAGCCCAGTGCGTGGGAAGCACATTCTTCTGACCACACAGCTTGCCAGACACACAGAGCGCGTGTCGGCAGGAGCACACCACCGGGAGAGTTTGGCCCGGGGCTTGGAAGTTCAATTTGAACAGGCCTCCAAAACTGGGAACAGGGCTGCAGCCCCAGACGAATCTCCAGGCAGCTTCTGTGAGCTCTCATGTTTCCTGCTTCCAACCTGGCCAGGGATTGCAAGCTTGCGTGGCTTTCTTGCTTTCCCGCTTCTGGGCTTAGGCTACCCGGGAGGCCCAGAAGTGTGTGAACACAAGGAATAGCTAGGGGTCGGGGTGGAATCAAATAATTCCTTATTTATATTTCAGGGATCACGTAGCTTGCCCCTTTTTTAATTGTCCATTTCGTGGAGTGCCTAAGATCGCCCCCATTTCAGCCTTGTTGAATGGACTGATAAGACTTTCTGCTTCGTATGATAGTTAACCTTTGCCAATAACCAGTGTAAAAGGCTTCGGTGGTGATATTTGCTTCTTTGTGTCTTATCTCTTCCCAAAATAGAAGGTGATGATTGGAGACCCTAATTACCTTGTATCTTGTGGAAATCTTGCTATATGAAAGTGTAACAAAAATGCAGCAGCTCACAGTAGCGTATCATTTGTAGAAAGGAAAAATCATAGGCCGGGCGTGGTGGCTCACGCCTATAATCCCAGTACTTTGGGAGGCCGAGGCGGGTGGATCACTTGAGGTCAGGAGTTTGAGACCAGCCTGACCAACATGGTGAAACCCTATCTCTACCAAAAATACAAAATTAGCCTGATGTGGTGGTGGGCACCTGCAATCCCAGCTACTTGGGAGGCTGAGGGCAGGAGAATCACTTGAACCTGGGAGGCAGAGGTTGCATTGAGCCAAGATCGTGCCACTGCACTCTAGCCTGGGAAACAAGAGTGAAACTCCGTCTCAAAAAAAAAAAAAAAAAAAAAAAAAAGAAGGAAAAGTCGTAATAGCTAGATCTTTCTGAGACCCAAGAGTTAGTGTCAAGACAATAAATTAGCTGTTCTGCAGCAAGTATTTAATATTTCAGTGTTTAGAATCAGTGTATGTGGCACATTCAGGCTGAGGCCAGGTGTTAGGAGAAACTGGACTGAGAACGTGGATAGACGGGCATTGGCCATGGTAGAGACCAAGAAAGGACATGACTAGTCATTTCAGGAACCTTAGTCATGGGACATGGAGGAGGTACAACAGGGCTAAGTTTGGAAGCGTAGAGACCCGCTAGACGGGCAGTGTGGAAGTCTCAGGGGGAGGGGCAGACAGTGAAGATGGCCTGGACTAAGGCATTAGCAGTGGGAAAGGCATGGTGTGGACACATGGGAAGGCATTTTGGAGTTGAAATCAACAGGACTTGGGAGGAATGTGTAAAGAATACCGGTGTATAGCTCTCCGATTAAGAGAGACAAAGCATTGGAGGAGTTGAAACCTTGAATTTGAGACGTCAAGGGAATGTCAGTGGGGAAGTGTCCCATAGACAGTTGAAAATGAGAACATGGGTCTCAGGAGGGAGGTCATGATGGAGATACGAACTTGCGCATATTTTGTATGTGTTTAGAATTAATGCCTTGAGGATATATGGAAATACATAAACTTAATGGAACAATTCCTCTATTTGAAGGGACAGAAAAAGAGAAGAGCCAGCCAGAGATTCTAAGAGGGCAGGGAGAGACAGAGAGGCAGCTGAGGGAAGGGGACGGGATAAAACTAAACAGAGGGGCTGGGTGTGGTGGCTTACACCTGTAATCCTAGCACTTTGGGAGGCCGAGGCGGATGGCTCACCTGAGGTCAGGAGTTCGAGACCAGCCTGACCGACATGGTGAAACCCCGTCTCTACTAAAAATACAAAATATTAGCCGGGTGTGGTGGCAGGCACCTGTAGTCTCAGCTACTCGGGAGGCTGAGGCAGGAGAATCGCTTGAACCCAGGAGGCGGAGGTTGCGGTGAGCCAAGATCGCACCATTGCACTCCAGCCTGGGCGACAAGGACAAGACTCCATGTTAAAACAAAAAAAACAAAAACAAGAAAACCTAAACAGAGGGACCATTTTAAAAAACAAGCAAGAAATCAATAGCATCTGAAGCCACAGAGGAGGAACAACTGAGGAGTTGGAGGACGTCATTTGCGTCTAACAATTCAGAGGTTCTTCATAAGCTTCAGGAGAGGCAAGAGTGGAACACAGATTAGAATGTTTGAGAAGTGACCAGGAATGAAGAAGACACAATGTTGGATTTTAACCAACGCTTCTGAAAATTCAGGTTTAAAGGGCAGGAGAGCAAGTGTTGAGAGAAAAGATTTTAGGATGATCAGATACAGATCTATAAGCAGCTGAAAGAAAGACACTGGTGTGGCTGGACAACTGGAGGTAGAAGAGAATATGGTTATTTAGTCTACCTTCGCTCTTCAAAATGATCATTCTATTTATTTATAATTCCAAAACAAATACATGTCGTGATCCAGGCTCTCCGATGATCCCAGTTGACCTGTCTTCTTAATCTTAGAGCCACACTGCGTTTTCTTTTCTTTTCTTTCTTTTTTTTTTTTTTTTTTTGAGACAGAGTCTCACTCTGTCACCCAGGCTGGAGTGCAATGGCGTGATCTCAGCTCACTGCAACCTCTGTCTCCCAGGTTCAAGTGATTCTTGTGCCTCAGCCTCCTGAGTAGCTGGGACTACAGGTGCACACCACCACGCTCGGCTAATTTTTGTAGTTTTAGCAGAGATGGGATTTTGCCGTGTTGGCCAGGCTGGTCTCGAACTACTGACCTCAAGTGATCCGCCCACCTTGACCTCCCAAAGTGCTGGTATTACAGGCATGAGCCACCGCACCCGGCCACACTGTATTTCTTATAGTATACCGCAACTGGTTTTTAACATCAGCTATATTTTCTATCTGCATTTTAAGAAATGAACATATTTCCTTTTTGTTCTGGCGGTGTTTTGAAATTAGTTATTTCTCTTGCTTCTTTCTTGATTTCAGTGTATTCATCGAGATTTAGCAGCCAGAAATGTTTTGGTAACAGAAAACAATGTGATGAAAATAGCAGACTTTGGACTCGCCAGAGATATCAACAATATAGACTATTACAAAAAGACCACCAATGTAAGTCGATGGCAGTAACACAGTGGGCAGGGGCGGGGGTGAGGCTCAGAATGTTCCAGGAAGAAAGGCCGTCAATGTTGAGAGCTGGGTGGGATGGCTGGGGACCCATTCCCCTGCCCCGATTCCCGTTCTTTTGACTTACTATTCACAAACTCTCAATATGCAAATTTAGCCTCTATTATGTCAATTTTAGTAAATGTGAAACACTTATATACAGAATAATCAGCAACCGCTAGGATTTTCTTATGGTTCTCATCAAGAACTTTCATAGCAAAAACTACAGCTTGGAAGTTACTGGTTTAATTTTTGCCTAATAACTGGTCAAGGAGCATCTGTGTGCTAGGGAGATAAAGGATAGAATCCAAGGAGATGGCATTTTATTAACGGCCCAGACCTGTGCATCTCACACATTGTTCATGGTCCTCATTGGGACTGATTTCTGCTCTATTGACTGACTAGTAAAAACCGAGAATATCAGCTCTTAAACAGGGCATAGCCCTATTGAGCCTGCTAAGATAAATTCTTTTAAATATATTTAGTTTTTGCATTTTCCTCTACATTTGCAGGGGCGGCTTCCAGTCAAGTGGATGGCTCCAGAAGCCCTGTTTGATAGAGTATACACTCATCAGAGTGATGTGTGAGTAACTCTCTTTTCTCTGGCTTTTTCCTGGGCTTGAGCTGCAAAAATACTGTACGTACTTCACCTTTCTTCCTTCTTTAGTGGCTGCTGCATTTCACACATTCGTAGAAGGTGCAGGAGCTGGCCTTAGAAAGGACAGATTTTATGGTAGGCTGATAACCAATGCTCTGTTACTAATCTGCCTGGCTTCAAAGAGCACAGAAGGTGGAACTGCTGACCTCCCCCTGCCAGAGCGGAAGTCCTTCCCTTGAACATATTCATGGATGTGCAACTACAAAGCGGTTATCTAATTCGCCAAGCTCTTGGCATGTTCTTCACTCCATTAAAGGAGTAATCCTGGAGCTTTTCCCACTTACGAGTAGTTTGTCATATTTCCCTCTAACCCAGATTTGTCCTTAAAGAGTGGAGCTGAGTGAGATGTGGTCCAGGCTGGGGACCTCCACAGGGTCTACTCTCTATGTTTATCCCTCAACAAAAAGGTCTGATCTTGCTTTGGCATCCTTGATAGCATTCTAGAAACACAGTAGAATATTTCTATTATGATATACTGACAAAACCAGTGGGGTCAGGCTCCAACTGATATTTTAGATTTGAAAATTCAGTTGAAGGCTGTGTGCAGTGACTCATACCTGTAATCAATCCCAGCACTTTGGGAGGGCAAGGCGGGTGGATCACGAGGTCAGGAGATCAAGGCCATCCTGGCCAACATGGTGAAACCCCGTCTCTACTAAAACTACAAAAATTAGCTGGGCGTAGTTATGCGTGTCTGTAATCTCCACTACTTGGGAGGCTGAGGCAGGAGAATCGCTTGAACCTGGGAGTCAGAGGTTGCAGTGAGCTGAGATTGTGCCACTGCACTCCAGCCTGGCAACAGAGCGAGACTCTGTCTGGGGAAAAAAAAATCACTTGAACTATTTTTTATTTGTATGAGCAGGAGGAGTTCTGGGTAGGCATTAATTCTGTGCTACCATAGTTGGTCCTCTCAACAATCCTAAAAAAAAGACATGACTATCCCATTTTTGCTGTGAGCAACTGAGGCACAGAGGCTGTTCTGCCTGTCCTGTGCTGCTGCTTTTGCTCTGTAGAAAACTGCGGAGTGAAACACCACCATCGAGTACAGAAGGTTGAGTTTCCAGAACGACCATGATGTAGCTAAACCTGGCTCTCTCAGCTTGCTCCTCCCAGAGATTGAGCCTCCTGAACTTGGCACAGGAAGTCCAAATCTCTGAAGAGTCAAGTGTAAATAAATTATGGCCTGTGAGATGTGTTCAGTTTTGTTGTGTGCAACTCATCTGGGGCATGTGATTCCTCATCCTAACCCCAGCCCAGTGCTGATTGCCTTTGCGATCTTAGTAAGTTCCAGAGCCTCTGTGCAGCAGATGTTCCGCCAGCCACACAGGGCAGCTGTGATCCTGCGGAGTTGGCTTGCTGGCCTTATTCTGTCAACTGCCCATCCTGGTAGATCACAACCCTTGGGTCAGGCACATAAGGAGTTGGAAAGGAGCGTAAAGGCTTTGAAACTGAGAAACTGAGATCCTTGCATTGCTAACACCACATTTAAGACAAGCAGCTCTATTCCAGAGTGATGGCAGTTTGCCTTTTTGTCTATTGATGGAAAATTCCATCAGCACATCCCCGTGTCATCATCATTCGGGGATGCTCTTGCAGGGCAGGAAAGAGCACATAGGAGGAACTGCAGGAGGGCCCATTTGTCTTTGAACTTCAGAAGTGAGGAGGTGTTTATGTCTCAGCTGGGCGTGTTTAGGTTTTGGCAACGTGGATGGGTTAGTAATGCCGTGCTTTCTCCTTTTGTTGCAGCTGGTCCTTCGGGGTGTTAATGTGGGAGATCTTCACTTTAGGGGGCTCGCCCTACCCAGGGATTCCCGTGGAGGAACTTTTTAAGCTGCTGAAGGAAGGACACAGAATGGATAAGCCAGCCAACTGCACCAACGAACTGTAAGGGCTGTTGTCTTTCCTGCCGGTGCCCCAGTGGACTTGCCACACCAGTAATACCTCTCCTGATGTATCTCGTTTTTGAAGGCCCCTGGTTTCCTAAACATGCTCTAAGAAGAATGGCTGAAGCTCTCTGGGCTCAATCCAGAGCTGGGATACATAGCGACACCGACAACCATTACTTGTCTGAGAGAAAGAACATTATTCTGAGTATGGAGAGGGCTTTGGATCAGAGGGTGTCTGGCTGCCTGGCTGAGGGCTCCTGACTTTGCAGAGCCAGCAGGAGTGGTCTTCCTGGGCCACTGTGCTGCACCTTCTGCGGTCTCCCGTGGAGTGACAGGAAGACCCACGGGTCAGGAAACAAGCTAGAAAGCCGCGGGGCCGCCCTGCAGGGTGTAGGATTAAGGAACCAACACAGCCTTTCCCTGGTGGTTGTGCCTGGCCCCCGCCTGGCCCCATCGTGGCCAGTAGAGAATCGGTGTTTCCAGAACTTCTCGAACCATTGAAAATTGCCATTACAGATTGACGCCAACCACATTTCCTCAGAGCGAAGGAACTCGTGTTTGGTTACCTAGGTCTCACTTGTGTTTTAGTGCAGAGAATTAAACATGTGTCCAGGCGCCCTCCTTACTGTACCAGATCTGCCTGTAAAACCATGAACTGGTTTGTAGCAAAACCTGCCTCACACTTTAAGTGGAGTTATGTTGTGTTTGTGACGTGTGCCTGGTGCAATAGAATCAGTGCTTTGAAAGGAGTCTCTCTGCCTCCTGCCTCAACCCCTCCAGGATTAACTAAGAAGAGTGATTGTCCCAGAAACTGCGGTCTATTGTGTATCATTTCATGGGGATTTTATATCAGTAATCCCGTGAGTGCTTTTCGGTGTACCGTGGATGTCTGATGAATGGCCACATTTTATAGCATATTATATAAAGGCATTTATTGTGCTCTTTGTCATTCCTATTGTTTTTTTTCTTTTGTAACGTAGAGGATCTGTCGAAACCCAAAATCAAGATAAGACCTGGGAAGCTAAGCCTATCTAAGAGTTAATCAGGAAGTTAGTGTGCAGCCCAGTGGTGGCAGATTAATTCATCAAAAACTTGAAGTTGTAGTTTTCAAATTTTATTTAATTTTTTTTTAACTCAGGAAGCTGTGTCAACTAGAATCATTAAGACCCAAAGCACCGGGCAGATAAATAGTGGAGCTGCTTTGGTGCTGGGCAGGGTGTCAGGGGAGGGAAGACTGGAGACCAGCCCATGGAAATACGCATTTTCCTTCAGCCTCCAAAGCATCTTTAGGGTGTGACGCCATTGTGAGATGTCACTGTGGCCCAGGGTTACCAGGGAAAACACATAGCTGTGTCTTTCTTGATGGCTTCGATGCCTTTCTAACATGTTTTTGTAAGTCAAAGTGCCTTTCGGAGGAACTGGCAGGGAAGCTTTTGGGAAAGTGATTCATGACCCCCTAATCTAGTTGCTTGGAAGGTTCTGATGCATTTTCCTAATTTACACCACGTCCCCATATTGCCTATTAAAACTGACTATAACCACGTACCCAGTGCATATGAAATTAATTCAAGGAAATCCATTTTTCCCAGGTACATGATGATGAGGGACTGTTGGCATGCAGTGCCCTCCCAGAGACCAACGTTCAAGCAGTTGGTAGAAGACTTGGATCGAATTCTCACTCTCACAACCAATGAGGTAAGAACTTCCTTCTAGAAGCCCCTTGTCCTTGGTTGTCTTGTGAGACATGCGTAGTGTTTTACACACACACTCCCCTGTTGGCTGTTGGTTGGAGTCTGTGGTCTTGTTTATTCTTTTTCCATAGGGTCAGATAGTTCAACTATGGGTTCCTCTCAAATCATGATTTTTCTCAGAACTTCATTTTGTGAGTTCTGACTCATGAAACCAAAGACAGAGGGACATCCCCGAGGCTGCCTTCAGTGTAGCTGCTGGTGGAGCAGTCCGGGGTATGTGGGAGAGTGGGAAAGGGGAAGCAGTATTCACTTGCATTTTGGTGTGCATGGGAAAAAGCTTGGATTCCTGTGCAAGTTTGATTCTGTGCTTTGGTCATTAGTGGGTAAACTGATAATGTTCGTCATCATTTGCTTGATGGAATACAATGAAGTTTTCTAACACCAGCTTCTGTTACCACAGTACTATCCTATGTGATCCTGTTGGTAATGCTATATGCCTTGCAGCCTCTTTCTAGGTGTATATAAACATACACTGTTTTCTACAATGAGCAACTTACATGATTTTTACATAAAAACATGTACCTTTTGTTAAAATATTTATTTTCCCTAAAATATTTATGCTCTCGCCTGTAATCCCAGCATTTTGGGAAGCCGAGGAGGGCAGATCACCTGAGGCCAGGAGTTCGAGAGCAGCCTGGCCAACATGGCGAAACCCTGTCTCTACTAAAAATACAAAAATTAGTTGGATGTGGTGGTATGTGCCTGTAATCCCAGCTACTTAGGAGGCGAGGTAGGGGAATCGCTTGAACCCAGGAGGTGAAGTTTGCAGTGACTGAGATTGCGCCACTGCACTCCAGTCTGGGAGACAGAGCAAGACTTCATCTCAAAAAGAAAATAATAATAATTTATGATCCTTGCCAACAAAATAAACACTCGTCTGTCACTCACTGTGCAAATTTAGCCATGTCAGTGGCTCCTTCAATATGCAGATAGAGTGCCTTTTATAATTATGGAAAGCATATGCTCTGAGCAGGAAAGATGATAAACCCATCAAGTCTAGTCAAATCTTAAGATAGAGAAATTGTTAATGAATGTATTTTGAGATATTTAATGAGGATGCACAATAGTGTTCTTTTACACAGGAAACTAACTCCAAACCATGCAATTGTCTCAACAAGAAAAAAGTTAAAGTCCCCCAAGTATTTTAGAAGGAAAATAATACACTTAATTTCTGATTTAGGAAATAGTTTTAGAGTGATTTTTTAAAAAGTAATAATCAAATGTAGTGATATGAAGTCTTAGCTCAGCAGCTTTATCTTATGCGTCTGACTGTGGCCTGTGCTGGATAAAGGAAGAGATTGCACTTAAATGAATACAGCTGACCTTCAGAAGTTGAAAGGAAAGGAACGGTTCAAGGGGGGGAAGAAACCAACTTTCTTCTTCTGCCAAAATTGTTGTTTCTAGTATAAGTTCCTTTAACTGTAGACTTGGAATCTACTGATATCCCTGTTTTTTTCCTATCAGATCTGAAAGTTTATGGCTTCATTGAGAAACTGGGAAAAGTTGGTCAGGCGCAGTGGCTCATGCCTGTAATCCCAGCACTTTGGGAGGCCGAGGCAGGCGGATCATGAGGTCAGGAGTTCCAGACCAGCCTGGCCAACATGGTGAAACCCTGTCTCTACTAAAGATACAAAAAATTAGCCGGGCGTGTTGGTGTGCACCTGTAATCCCAGCTACTCCGGGAGGCTGAGGCAGGAGAGTCACTTGAACCGGGGAGGCGGAGGTTGCAGTGAGCCGAGATCATGCCATTGCATTCCAGCCTTGGCGACAGAGCGAGACTCCGTCTCAAAAAAAAAAAAAATAAAAATAAAAAAGAAAGAAACCGGGAAAAGCACTAAAGTTCTATTTTAATGATCTCATGTCTATGCTCAAAGTGATTTATTTATATATTTACATGTAGAGTGGGTCCGTTGATACTGAAATTTGTATCTAGTACCCTAAAATAAAAAAGCAGAATGCCATATTGTCTGGTGGATATAAAAATCGAAGTTTCTTTCCTTCTGAAAATCATTACCATATGCTCAAGAAAAACGGTTCCATTTAGGACAAAATTTCGTTTTTATCATTGTAAGCAAAAAGTTCTCTTTTGATGTGGTGGGCGTGTTTGTTTCCAGTTGTGTGGTTAATGCTGATGTTGTTGGAACTGATACATTCCCCTTCTGGGATGCTGGGATGGGGACTCTTTCTCTTGCCAACCCTGGTGATGAATTAGAGGGTTTTGTGTGTGTGTGTGTGTGTGTGTGTGTGTGTGTCTTTAAAAATGTCTAGTTGCCAACATTCCATGGGCTCTTTTCTGATAACACTGAGGCTGTTTGTGCTGTGGTCTGCACTTTTTGCCCCCTCTCAGCAAAACCACATGTCATAGAATAGTTGTTGGCTTCTGGATGTGTGAGCAGAACTGCCCCACTGTGCCAGCCCAGTGGAGGCAGAGAGACCCACAAGTTCCCAATTTAGAAAGCTTTTCATAGCTTCAGAACAGGGGTCGGCAACTGCTTTCTGTAAAGGGCCAGGGAGTAAATATTTTCAGCTTTGCCGGCCCTGTGGTCTCTGTTGCAACTTCGCCACTGTAGCCTCAAAGTAGCCACAGACAATATGTAAATAGATGTGTTCTAGTCTGTCTTCTAGTAAAATTTTATGGATCCTGAAATTGGAATTTTATATAATTGTATATAAATTTTATTCATTTTAATCCTATAAGATATTCTTCTTCTTTTGATTTTTTTTTTCAACCGCTTACCAATGTTAAAGACCATCTTTAGCCCTCAGGCCATACAAAGTCGTCTGTGGGCACCCAAGTCGGAGGAAGTGTCACCCTGGGGTGATCCAGAGGGCTTTTTGCAGCACCAGCACTGGATGCCTTGGGGAGCAAAGGACACTTTCTGAATCTCGAACCTTCAAAACTTTGAAACTTAACCGATATTTTCCTGAAGTTTCCTTTAACAGTGCATTATGGATTTAACATACATGAGTATGTCTAAGCCTTTTTTGAACCTGTTTACATTTTCAACTCGGAGAGCTTCTGAGAGTAATCAGTTACATCTGTTAAATTACCCACTGAATGAAGAAGTATTCCCCTTCAATTATCCCCGAAACTACAATAGTAAAATGTAATTCAGAAAATAAATATTCATAGTCTCAACTACTTAAAGGGGGTCTGGGGACCCACAACATGTTACCGGTTTTCATTTTGCTGGGGCTCGCATTTGAAGCAAGGGCTCTAGTGAGGAGGTGGTGTAGACTCAGCGGGTTATTTAGGTCCGTGTGAAGCCGAGTTGCCTGCCCAGCACCTATAGCTCAACTAGGTTTTATTGTTCTCTACCTGTCAATAGTTGATTTATGATGGATTCCAAGAGAAAAGCTAAGGACAGCCTGGGGTACATCAGACGTGGTCTCAGGGAGGTCTTCGTGGAAGTCAGGTGGGCTGGGTCTCTGTTCACCTTCTAGGGGTCTCCTGTCCTGTCCCACGTCCAATACCCACATCTCAAGAGTTTGTGTTTGAAATAAAACTCTTCTCTTCCCTTCTTTCAGGAATACTTGGACCTCAGTCAGCCTCTCGAACCGTATTCACCTTGTTATCCTGACCCAAGATGAAATAAAACGTCTCTCTTCCCTTCTTTCAGGAATACTTGGACCTCAGCCAACCTCTCGAACAGTATTCACCTAGTTACCCTGACACAAGAAGTTCTTGTTCTTCAGGAGATGATTCTGTTTTTTCTCCAGACCCCATGCCTTACGAACCATGCCTTCCTCAGTATCCACACATAAACGGCAGTGTTAAAACATGAATGACTGTGTCTGCCTGTCCCCAAACAGGACAGCACTGGGAACCTAGCTACACTGAGCAGGGAGACCATGCCTCCCAGAGCTTGTTGTCTCCACTTGTATATATGGATCAGAGGAGTAAATAATTGGAAAAGTAATCAGCATATGTGTAAAGATTTATACAGTTGAAAACTTGTAATCTTCCCCAGGAGGAGAAGAAGGTTTCTGGAGCAGTGGACTGCCACAAGCCACCATGTAACCCCTCTCACCTGCCGTGCGTACTGGCTGTGGACCAGTAGGACTCAAGGTGGACGTGCGTTCTGCCTTCCTTGTTAATTTTGTAATAATTGGAGAAGATTTATGTCAGCACACACTTACAGAGCACAAATGCAGTATATAGGTGCTGGATGTATGTAAATATATTCAAATTATGTATAAATATATATTATATATTTACAAGGAGTTATTTTTTGTATTGATTTTAAATGGATGTCCCAATGCACCTAGAAAATTGGTCTCTCTTTTTTTAATAGCTATTTGCTAAATGCTGTTCTTACACATAATTTCTTAATTTTCACCGAGCAGAGGTGGAAAAATACTTTTGCTTTCAGGGAAAATGGTATAACGTTAATTTATTAATAAATTGGTAATATACAAAACAATTAATCATTTATAGTTTTTTTTGTAATTTAAGTGGCATTTCTATGCAGGCAGCACAGCAGACTAGTTAATCTATTGCTTGGACTTAACTAGTTATCAGATCCTTTGAAAAGAGAATATTTACAATATATGACTAATTTGGGGAAAATGAAGTTTTGATTTATTTGTGTTTAAATGCTGCTGTCAGACGATTGTTCTTAGACCTCCTAAATGCCCCATATTAAAAGAACTCATTCATAGGAAGGTGTTTCATTTTGGTGTGCAACCCTGTCATTACGTCAACGCAACGTCTAACTGGACTTCCCAAGATAAATGGTACCAGCGTCCTCTTAAAAGATGCCTTAATCCATTCCTTGAGGACAGACCTTAGTTGAAATGATAGCAGAATGTGCTTCTCTCTGGCAGCTGGCCTTCTGCTTCTGAGTTGCACATTAATCAGATTAGCCTGTATTCTCTTCAGTGAATTTTGATAATGGCTTCCAGACTCTTTGGCGTTGGAGACGCCTGTTAGGATCTTCAAGTCCCATCATAGAAAATTGAAACACAGAGTTGTTCTGCTGATAGTTTTGGGGATACGTCCATCTTTTTAAGGGATTGCTTTCATCTAATTCTGGCAGGACCTCACCAAAAGATCCAGCCTCATACCTACATCAGACAAAATATCGCCGTTGTTCCTTCTGTACTAAAGTATTGTGTTTTGCTTTGGAAACACCCACTCACTTTGCAATAGCCGTGCAAGATGAATGCAGATTACACTGATCTTATGTGTTACAAAATTGGAGAAAGTATTTAATAAAACCTGTTAATTTTTATACTGACAATAAAAATGTTTCTACAGATATTAATGTTAACAAGACAAAATAAATGTCACGCAACTTATTTTTTTAAT\n"
     ]
    }
   ],
   "source": [
    "plus_strand_seq = gene_seq.reverse_complement()\n",
    "print(plus_strand_seq)"
   ]
  },
  {
   "cell_type": "markdown",
   "metadata": {
    "id": "4snfBgnDQdbu"
   },
   "source": [
    "__Теперь нам нужен комплементарный участок отрицательной ветви. Заменяем все основания в соответствии с правилами Уотсона-Крика: A -> T, T -> A, G -> C, C -> G.__"
   ]
  },
  {
   "cell_type": "code",
   "execution_count": 19,
   "metadata": {
    "colab": {
     "base_uri": "https://localhost:8080/"
    },
    "id": "fC316kzRINbv",
    "outputId": "2900f87d-28bd-4c48-9ab0-554d0ca41210"
   },
   "outputs": [
    {
     "name": "stdout",
     "output_type": "stream",
     "text": [
      "CCGCCGCCGACCTCCTCTCGCGCCACCTCTCGGCTCGCCCGCCCGCCGCCCACGCCTCGCCCGCTCCCTCGCGCGCGCCGGCGGTGTTTCGAGCCCGCGGCGCCCCGACGTACGCCGCATGGACCGGGCCGCGCCGCTGACGAGAGGCCCGACCGCCCCCGGCCGGCGCTCGGGGCCCCCGGGGCTCCGGCGTCGAACGGACGCGCGAGACTCGGAAGCGTTGAGCGCTCGTTTCAAACCACCTCCGTTGCGGTTCGGACTCAGGAAAGAAGGAGAGCAAGGGGTTTAGGCTCCCGTCGGGCGCCCGCAGTACGGGCGCGAGGAGGCGTCGGACCCCATGCGCACTTCGGGCCCTCCGAACCGCGGCCGCTTCTGGGTTCCTGGTGAGAAGACGCAAACCTCAACGAGGGGCGTTGGGGCCCGAGCAGCGAAAGAGGTAGGGCTGGGTGCGCCCCGCGCCCCTGTTGTGTCCAGCGCCTCCTCGCAACGGTAAGTTCCATTAGCGGCGCGTTCTGCGGAGCCCCTCGAAGCGGTCGGCCCCTGCACCCGCGGTGCCCTCGGGCCCTGCGGCCCACGTGGCAGGAGGCCCGCCCCCCGCGCCTTCCTGATCGTAACACCTCCTGCGAGGCACAGGAGGGAGACACCGACGTATCCACTACCCCCTCCACCCACGCACGACTGCCGGCCGCAAGACCTTCAAGACGGAGACGATGGGGGTAGGTCTACGACTGTAGACGAAGACCGCAACTGCGGGGGGAGGGACAGTTTGGGACCGCCCGCGTAAGGGCGACTGACCCGCGCAAAGAGGCTGGGGTCTCGTCTGCCCGCCTTCCAAGCGGACGGGCACCGTGTCGGGGCGTCCGGCCAAGGGCCCCAGTAGAGGCTCCACGGGGTAGGCACACAGGACCCTTGAAGGCATGGTAGGTCCGGGACGCCTCTGGGGAAAAAGCCCTCCCCCGGCGACCCCACCCCGGCCACTGTAGGGCATCCCCACCGCTACCGGTCCCCACCGTGACGACCCCTCCGCTGCCGAGGCCACGGACCCGCGGGGAGCGGGCGTCGGCGGCAGCCGCGACCTCCCTCGCGTCACGCGGACCCCGATCCCCCGCTTGACCTGGCTGAAAAAGATCAAGCGGACGGACGAGACGGCGTCGCCGACCCTCTACAGCTTTCGCGTCCGCTCAAGATTGAACGCGCGAGTAAAAAAAGCCGGTGCCCCGGCGCGACCCCTTTTTTCGGCTCCCGGGACGCACCGCGACCGAGGCTGGGAGCGCCTGGTGCCTGGACCGCGTCCTCCGGGCGAGCCCCTGGTGGTCGGAGGCAGCGAGAGGAGCGTGGGGCGAGGGAACGTCTGGCAAGAGGTCTGGGAGGAAGGAAAGAGGGTTAAGTTATTTTGGATGGGAATTTCCGTTTGGACGAAAGTTTGAGTCCCGTGGGTAATACACAAACCACACTTTGCGATAGTTGTAAATTTTGAGGTAACAGAGGGACCAGGGTTTAGGGACATTTAGAAGGTGGCCCGAGCTGAGTAAAAGTAGACTTTTCGGACAAATCAAACTTATCTTTTCGTTAGTCCGCGGGGAGAGAGAAAGGGACCTTACAGTTAATTTTACGTCTAAAGAGACTCGAGAAATCGCGGGGCTCTTCCCCCTCTTTTTGTCCTATAAAGTCCGTTTGTTTACTTTCTTCACGACGGGACTTTCCCCCACCACCACCCCTCGTGGGGGTTCGACGAGCGTTCAAGACTAACCTGCGTTCGTAATTTGGCCCTCCCGAAACACCAGGACCCAGTCACACACAAAAAACTCTAAAGTTAAACAACTCCTTAAAGGGGGATCGGAACTGGGGAACTGTCGAGGGCGAGGATGAGTCACGACCCCTCTTCATCCCTCCGGAATTCGCTTCTCTACCCAGACGTGAAACCTCCTCGGCCTGTGACAACTGAAAGGACTACACTTTAGATGGGTCCTTGTTTTGTGGTCCACTAGGGTCACCGGCTCGGTCGTCACCTGTCTAGTGGGGAATCCACCTTCGGGTTTCGCCTCCCGTGACATAACCAGACGGAAGAACCTCCCGCCCCCAAAACCCTTACAGTACCATTTAACTTCTCGGGTCGTGTCCGGACCGTACCCCTGGCGAGGCGTCGGTTCGGGAAGGACGAACAGTGAGACGGACAGAAACCCCCGTCCGAACACGGCTCCACTTTTACCTGGCCCCCCGCCCGCCGGCTCTTCTCGGTAGGTAGTCTCCCTCCCACTGTTGAGGAGGGCGCACGTCCGACTCTTCTCTCAAGGGAAAGTTCCCCTTTTTATTTGTGCGACCCCGAAAGTGACCCCGAGTCTGAGGTCCTTCCTAATACCATAACTTCCGTCCTTCGGCCCTAACACCGGCGGTCGCCGTACGACCCGGACATAAGGGTTGTGGCTCGGACCCCTGGATTAATAGGACGGATCCTCCAGCGTGGTATGAAAACAGGTGACCACACTCCTTGACACGTCTGGACAGCGGAATCCAGAGGCGGAAGGTCTCAAAACCCCTCCCCCGACGGCACCCCAAACCTGGACCTTTACCGACTTTACGTTTAAAGATCACGGTCGATCGCCCTACTACCTTGCCGAACTCTAAGTCGCCTCGCGGGACAGGTGGAAAGAGACGGACCTCGGTTCCTCCGAGGAGACCCGTCCCTGTCCACCCGCTCGTCCGGCCCCTTCCTCGGACCCCACTTTGGAGACGCTCCTGAATCCTAACAAGGACTTCAGCACAATCTCCATCTTTTAAGGGGACGTAAGACGTTTACGAATCATTTAGTTACTCTTACAAACACATGAAAGGAGGGTGTACATACATCTTTATCTAGGCTTTAATAGAAGACTCCGAGAACTGATTCTCCTTTCTTTTCAATTCTCCTTTTTAGAAAGTTCGATAGACTTTCGTGTACGTGTGTGGCACGTGCGTGTGTGGTACATGTGTGTGTGTGGCACGTATGTGTGTGTGGTACGTGCGTGTGTGTGGCACATGTGTGTGTGTGTGACGTGTGTATGAAAAGAACGAAAACGACACTTAGTGTGGCAAAGTGGACACGATAGAAACTTCGTCTCCAAAAGAAATAAGGAGGAAACCTTTACTACACCGTATAAGAAAAGGGAGGAGGTAAAAACAGGAGTCAGTTTCGATTTTCCTCGTCAAAAATACTACTCTAAACCCCTCCGAGGTCGTCACAACTTTAGGATACTGTATTGAACTTTGTAGCTCACCCATGTATTTTTTACATCTCAAATCTCTAAAAACATAATTTCCGGAGGGACGGTGGGGGTCAGAATCTTTTACACCAAGTAAGGACACCAAGTGTCTTAGACTTCGGACTCTAACTACTCGGGGAAGAACACTAACAAAATTAGTAAGAGATTTCAAACACGTAAAATGACATGGGAATCAGTGTCTCTCATGACTCACTTAAATTTCAACGAACCTTATATAATTCGAAAGAACCTTTTAAGAGAAAGGGAACCTAGTTTACCCACTTGTCTTATAATTCAACTCACAGGAGAAGATTGAATATGAGACTTTTAAATCGGTCATCCAAACGTATACCTTTCAATAACCAGGTTAGTGTATGGTACTGATATTAAATGTATTAAATGTAGTAGTAATAATTATTTAAGGACGTAATAAGTAGTCTTAAACGTAGACGAGTCAAAGGAGTGGGAAGATGTCTCCAACTTCTGTAAATCGTCGGGACCTGACGGTAAATCAGTGTCCCCTTCCCTTAAGTCCGAAGCTTCAGGAAAAACCTAGTCGACGCAACTTACGCGACGTCAACACAAGTGAGAAGCATTCACCGACGAACCGCCTTCTGACTTTCTGTGAAGAGGTAAACTTTTACTTAGGACTGTTCACATTTGACCACCCTTAAAAGACATCGGAAGGACCCTAAGAAAACTAAAACGACCAGAGGAAAGAAGGGTTCTCGCTGTCACTCCCACCCTCTGACGAGTGGAGGTCGGGTCGTCTTTATGCCTCGACACTCGTCTGAGGAGGTTGTCAAATCGAAAGATTTCGGGTCAACCTGATTCTCTTCCCTTGCTCCAACCAATACGGTTGGGCTCGTAAAAATTGAACGAAAACATCAACGGGAACTTTGATTCCAGTGCAACGAAGACGAGTAACTCCCGCCACCTCCGCTATCACCTATCATCTTCTCTCGTGTGTAACGGAGTGACTTCACCGACGTGCATAGACTCAGGACATCGATGACAAAATAGAGACAAAGAATTTTCATACGAAAATTTTTCTAATCGGAGTGTGTAAAGACACCTGGCCAGACCACCATAGTGGACCCTGAGACTCCACTCCTACCTTCCTAAATCGTCTATTACTTTTTCTTGAGACAAACGCGTGTAAACTCTCCGACTTTTTACCAAAATAGGGTGAACCCGACCTCACTAAACCGTAACCCCTTCTAAGGGACTGAGCGGTTAGAGAAAGGAAATCACTGACGTCGTCGTCGCCGTCGCGGAGCCAAGGACTCGGGTGGCGTCCGACTTCCGTAACGCGCATCAGGTACGGGCATCTCCTTCACACGTCTACCCTAATTGCAGGTGTACCTCTATACCTTCTCCTGGCCCCTAACCATGGCATTGGTACCAGTCGACCCCAGCAAAGTAGACGGACCAGCACCAGTGGTACCGTTGGAACAGGGACCGGGCCGGGAGGAAGTCAAATCAACTCCTATGGTGTAATCTCGGTCTTCCATTCAGTAAATTAAAGTGAAAAGTCCAAACAAAACCCTAAACAGACCCCCGTCTAACAATTCCGGACAAAATCTTAGTCGATGGGAACGTAACATTTACCCCGAAGATTCTCGTGGTCTAGCACCAGAGAACCGAGGGCCGTTCCGTCTCGACTACTCTCTTCCAGGAAACGGCGTCGTGACGTCCGTCCTACCATATCAAACCACCAAAGAACGACACACACAAAGAGACACGACCCACTCCCTCTGTCGACCCTCAACCGGAAATAGGTCACGGGCTCTCTCGACACCTTCCCTACTTGGAACCCTCCTACTTACAGTAGAGATCAGAGGGGGTCGTAGTAAGGATGACGAATGTTACATTTCTTAACGATAAAAGCCTGTTCTACTTGGTGATTTTCTTTAACGGTTGTAGACTTTACGACTGTAGAATAAAAGTAACAAATTCCTCTTTTCTTCAAAGACTTCAAATCGTGTCTCTCTCTCCGAACTGTAGAGTCTTAAAAAAAAATCGGTAACATTAAGTATTATGAATTCGTTACGTAGTAGTGTCTCACCGTCTAAGATCAAATCCATTTGAACTTTCACTTACACGGTCCCCTAGAGGAGGTCGAGGCTCTTGGAGGTTCATAGTGTCCCGTACGCGGCCACAGTGTCGAAACCTTTAAATTAAAAGTTCCACATTCAGGTTAATGCTCCTGATGTACTCCGACTTAATAAGTCGAATCGTCTAAACCTTGGAGAGAGGGTCGGGAAACCTCTGTTGCACTCGGTTCGGAGATGAACCACGACGTGACTTTAGACAGTAGTCATCCCTTATAACCATCGACTCAATAAAAAGCTCACCATTAGGCTCTTATTTTGCCGTCTAGGGTCGTGAGTAGCGGTGAATTACTTGGACAAACACCTCTCAGGTGGACCACGGACGGACCGAAATCCTTGGGCGTCGTCAGGCTCACCACAGACCCCATTCGACTCGACGAGACCCTTGTGTAGAGCACGCACCCCACTTACTTGTCGTGTGAATGGGTCACCCCATCCGACCCTCTCCTGTCTCTCGGGTCGGAGGAATCGACCTAGTCCTGTCAAATCCTTCCTCCCAACGCAGGTAGACTCTACTCTCAAGACTCTCTGTACCCGAGGGGTCCTTCTGGGGTCCGTGAACAGTAACTTCCTACTCCTGGCTTCGTGAATAGTGGACTTCGTTAGCACACTCTGACCCCTTGAAAAGCAATGTGTCTCCCTACCGTCGAGATATTAATTGTCCACACCACTGTAGAGGGACGCAGAGACCCTTCCCTTAGACCATCCTCAAACACAGACTCCGAACATATCGATGTCGATGTCCGGCTAATACCTTGACGGAGAACCACTAAACACGACCCTGTGGTCCTACTCACATTAAACGTCACCACTACGTAAAAATGTCCCGAAAGTACATTCTCCCTTTTTCAAGGACCAAAGACTTTCAGTACGGACATGCAGAAATTAAAACGATTATTAATTTTACCTACAAAGGCACTAACGACCAAAAGGGAACTCACGCACCGAGCCGTTTTTGACTCCTTCGACTCGACCCTAAAGGATGCCACACCCGAAATCCTCGTTGGGTCCAATCCCTTTTTGACAGTAAAAAGTAAAACCGAAAAGTCCCGTCGCAATAACACTCAAATAAAGTTGTATTTCACATTTTACCAGGGTCTCCTAAACAAAATGACATAAATTAAGAACTTCCTTCAAATTTTAACACATATGTACGTCCCTCCCTGTCCACTCCGTCTCCCTTCTTTAGCACCTTTCCCTGCTTCAAGGGGCTCACTCAGAAACACATTCTTAAATGTAGGTTGTTACACCCATAACAACCTTCGTCCGGACGAGTTGGACCCTAGACACCTACGTGAATACCTAGTCCTTCCTCCAGCTACTTCAAGACCTTTAAAATCCATTATAAAACAATTACAGGAAAACACGTAAAAATACCCAAATATCAAAGGTACTCGATACTCAAGTAAACGTAGGTCTTAATACTCTACCTTTTCTTTTCTACAGAATCTCCTTCCACGTTTTGGACCGTTTCTTCTCCGAAACCTTTTCATATGTTCAGGGTCCGGAGTCAAAGGGAAAGACAGCAGACTCCCGAATTCTTCTACTAGAAATCCCAGAGAAGTAATTATCAGTAACTTATAATTACAGGAGTCTTCAGAAGACTGAGAAGGTGGTTTTCCAACAATCCTCTAAAGGTAAACTGGACCTGTATTTCTCGTTAATCGTGTCCCCGACCGTAGGTCATTCGTGGCCCACGTACCGGAACAGCGGCAACAGCGGTCCCTCGACCCTTGTACCCAGAAGGGTCAGGGCACCCGACCGACACGGTCCACGGTGTTACAGTTTTTTGTAGATCCGAAAACCTCTGTCAACTCTTCTTTCAACAAAAACCTACCTCCTCCGGGAACCACAAAGGTCCTTCGACACAAACGAAAGACATCCCAGGGGTGAAGGGGAGTAGACAATCAGATTATGACCGGTGACTAAACTCGGGATTCTGGTCAAGAAGACAACGTCCTCAAGCGAAACCACAGTCTCCACTAATCCTTCCAGTAACTTAATATCTACTCTTTCCTCAAAAATTGTCGACTTTTACCCGAGTCCAAATCCGAGACACGACCACTTAACCTTCTCTCTCTCTCTCTCTCTCTCACACGCACACACACACACACACGCGCTCACGCGCACGCACGCACGCACGGACACGGGGACAGGTAGTCAAGAGGTACTAATCTTGATGATATCGAAACCAATCGTCATTCAAGGTGGAACTGGAAGACACGTGGTTCCAGAATAGAACATTCTGAAAAACCAAACGATTAAATAAACCTTCGAGTCAAATCTATTACAGATAACCTATCCTCTTTTTACACTGACTCTTCAAGGTCCTTCTTCGGACCCGGGATTGTGATCTCCCAGGAAAAGAAAACCGGGGAGTCCCTTTCCAATACAAATCAGTAGAACCGAAACACGTTATAGCATAGTATAGTATACAGTATAGTATATAGTATATATAGTAAACAGAAGACCTGTGCAAGACTTTATCATCGTCACCCCAACCCGGGTGAGTTAACTGAATTCTTTTATTAGAGATCTTCTAAAATCAAAAATTATAAAGTCTAATTTATACTCAAAAGGTCAACCAGTAAGTAACAATTAAAGGAAAACCAGTAAGTAACAATATCCCGTGGTCGTCTCCTCACTTTTGTACCAATAACTGAGCTTCCCCCCGTCAGGAGTTACGGTTCATGATAAGACAACTAATTGTAATATTTATAAACTTCAGATCAGTTCGAACTAATGGGACTCTCCCCCGTTGAGAATGAAAGTTCAAGAAGGACTGTAACAGTGGATGAGACCAATTAATTCAGTAACAACTGTAATTACCGTAGAAACAAATGTGGTTGGGTCATCCTCGATTTTACTTTCCCGAAAAGTTGGGATGTGGGAATTAATGAAAGGGTGGGAGGTGTCTCACACTGAGACTTTTCATTGTTGGACTTTTTTTTACATCAAACACATCGTTAAAAAACAGTTAGAAGACTCTCCACTACGAGAGGACCTGGTTGCACTCAACCAGGTCTCAAGTCATCGTCTTTGCAGCTCCTGTCCTAGATGTGTCTCTGGAGGGATTCAGTCTAAAAAGGTCATACCAAATTCAGGAAACAATCTTCATAACATTTACGGTATTATAATTGGTATGCGTAAATTAACGTTCAATTTTCTTTCCTTCTTTCTTATATAGGCGTATGGTTCTCACTTACTAAATTTTATTAGAAGACAAAGCATAATAGACGTAGAAACAAAAAGTTATACTCACAATTATAAATTCTCAACTGACATTGAACTATCAATCGAAACCTTGTTCCTGAATAAGAACCAGTTAATTTGGTTTATGTCCGAATGCGTCAATTTATGTGTTACTTCATGTGTAAGAAATAATCATATATTTCACAAAGTGTTAAGTATCTGGTTCTCGGTACAAATTATAATGAATATCTCGTCTTTAGACCGTTCGGGTCTCTTGACCATGAACATAGTAAAATATGACCGAGAGAGACTAAGTTTAAACCCCATATACACACACAAAGACAAAACAGACAAATAAAGTTGGTCAATTTTCTGTCTCGTGAATGATACGGTTACCGGGGCGTAGTTCGGTATTCATTTCTGAAATAAGGAAAGTTCAGAAAGACTGGGTCAACTCCCACTCTTAAGTGTTTTGGTGTCGTTAGGTTATACTCTACAAAAATTATAGTCTGAATTGTTTATTAATGTACCGATACTTTATTGACCCCAGCACAAATTTGACCTTCACAAAACAAATTACAAGCATCAAAGTTATTTTACATAGGTGATCAGAAGGTCAAACGTCTGACAACAAATCCACAAACAAATCGGTCCCATTAACAATTTTTGAGGGAGATTAGATCGAATGGGAATGTAAAGGTACCTTCGCTTAAAATCAGTAATTTCCTTTTGTACCCTTTAACTAAAAACCCACGGACCGACAATTCGATCCATCCTTTATATCGACCACACGATGAGAGGTGACATGACCAGGCTAAGAGCGGTCCCCCTGTAGAGACATCCGTCAAGTCTTTAATAAAAAACCTTCAAAAAATCCGATAAGGTGTCTATTAAGACTAGGTCATCCAAAATACGTTGACACGTTTTACGAATACCAGAGATAAAAAAAAAGGAACTCTCTACTAAAATCGGAAACCAAAAAACAAACAAAAACAAAAAACTCTGTCTCAGAACTAGACGGTGGGTCCGACCTCATGTTACCACGTTAACATGGGAGTGACGTAACAGTTTGCACCGAGTGACATGGGAGCCTGAGGACCCGACTTCCCCAGGAGGTTGGAGGACTCATCGACCCTGATGTCCGGACCTATTAAAAATTTTTATAAAGCATCTATACCCCAAAGCGGTACAACGAGTCCGACCAGAGGTTGAGGACCGTCGGAACCGGAGGGTTTCACGACCCTAATGTTCACACTCGGTGGTGTGGACAGGATCGGAATTCAAAACGTAAAAAAAGGTAGAAAAACGACATAGGGTATACTAAATCTCTAAAAACGACATAGGGTACTCTAAATCTCTACCGAGATGAAAAAAATCGAAAGGATCGTAACTTTACGAACCACAACGATTAGTATGGGGTAGAAATGGTGTGGTAGAAGGAGGGACTGAACGGAAGAATCACATCAAACCAGTTCTTGAACTCCGGTTCAAGAAAAAAAAAAATTTAAATCGAAAATAAAATCCAAACCCCCATGTACACTTCCAAACAATACATCCATTTGAGCACAGTACCCCCAAGCAACATGTCTAACAAAGTAGTGGGTCCATAATTCGGGTCATGGGTTATCGATAAAAAAGACGAGGAGAGAGAGGAGGGTGGGTGGGAGGTGGGAGTTCATCTGGAGTCACAGACAACAAGAAAAGAAACACAAGTACTCAAAAGTAGTAAATCGAGGGTGAATATTTACTCTTATACGTCATAAACCAAAAGACATAAACCAAATAACGATTCCTATTACCGGAGATCGAGGTAGGTACAAGAACGTTTTCTGTACTAGAACGAGAAAAAATACCGACGTATCATAAGATACAACATATACATGATGTAAAAGAAATAGGTTAGACAATGACTACTCGTAAATCCATCTAAGGTACAGAAACGATAACACTTATCACGACGTTACTTGTAAACACACGTACACAGAAATACCATCTTACTAAATATAAGGAGACCCATATATGGGTCATTACCCTAACGACCCAGCTTACCATCAAGACGAAAATGGAGAAACTCATTAGCGGTGTGCCGAAAGGTGTTAATAACCCGATTAAACGTGAGGATGATTGTCATATATTCACAAAGGAAAAGAGACGTTAGAGTGGTCGTAGATAATAAAAAACTGCAAAATAATTATCGGTAAGACTGAACACACTCTACCATAGAGTAGCACCAAAACTAAACGTAAAGAGATCACTACTCGAAAAAAAAAGTATACGACCACCCTGCATATATACAGAAGAAAACTTTTCACAGATACAGGAAACAGATGAAAAATACACCAATAAACAAAAAGAGAACATTTAAATTCAAGGAATATCTACGACCTGTAATCTAGAAACAATCTACGTATCAAATGTTTATAAAATAGGGTAATGCATCCAACAGATAAATGAGACAACTATCAAAGAAAACGACACGTCTTCGAGAATTCAAATTAATCTAGGGTAAACAGTTAAAAACGAAAACAACGTTAACGAAAACTACAGAAACAGTACTTTAGAAACGGGTAAGGATACAGGTCCTACCATATAACGGATTCAACAGAAGGCCCCAAAATATCAAAACCTAAACTGTAAATTCAGAAAGAAGGTAGAACTCCACTAAAAAACATATACCATATTCCTTCCCCAGTCGAAGTTAGAAGACGTACACCGATCGGTCAATAGGGTCGTGGTAAATAACTTATCCCTCAGAAAAGGGGTAACGAACAAAAGTAGTCAAAACAGCTTCTAGTCTACCAGCATCCACACGCCATCCACACACCGGAATAAAGACCCGAGAGATAAGACAAGGTAACCAGATGCACGGACAAAAATATGGTCATGGTACGACAAAACCAATGGCATCGGGGTGTCATATCAAACTTCAGTCCATTACACTACGGGGGTCGAAACAATAAAAACGAATCCTAACGGAACCGATAAGTCTCCGATTCAAGAAAATTCCTCTCCAGACTAACTTGTTCTACGACCTGTCCAGTAACACCACTAGGAAGTGCAGAACTTCTACAGAGGAAGACATTATCTGTTTTCAGTGTGAAAAATGTTCAAAGAGAAAGGAGTGACACTAAACATACACCATCGACTGAAGATAAATATATTGAAGTTCGAGAATGGTAAATTTATAAATATGTGTTCATACTTAGTAACCCTGTTCGGTACCGGTAGGAACTTCTCACACACAGTTCATTTTATCCGCACGAAATCTAAAAGTCATTAAAACCAAAACCCTTTGGCCATGGTACCTTCTCGAAAGTCTACGACTTACACATTAAATGAGGTGAAACCTTATGACATTCATTAAGACGCGGTAACACCTGAAACCGGTGTAGTACGGTGAGAGTTTTTGAAGACTAAGAAAAACTGTCATGGTTCAGTCCCCCGATTCGACAACATATAAGAAAGGAAATTGGGGAACAGATTGATTTCTTACCATTTAAGGTTAAGTAAAGTCTTACCTTACGTGTGTATATCTCAAAGTCCAATACGACTTACACAAAATACTCCTCCGATTTTTATCGAATATTCCTTTTACGACTATCTAAGTTCTTGCTCTTGTTCCCTACATAAATAAACATACTAAATACATCGCGGAAAGAACCTCTCCTGAGTTAAGACTCGAGATTGCAATTATTTGAGATATAGTTAATAGCACTAATAAAAGCTTGGGAACTCGAGGATATAATGATATACACTGGGTAAACATATGGACTGTCAAATGACAATTTAAAAGGTATCACTGGTCAACATTATAAAATTTTCATAGGTCTGTAACTTTTCCGGTTGACACACATAGATACCACACACATACACGAGTCCCCCCACATGATATTTTACTTACAGTTCTAGTAACGTTACCAATTCAAATCCAAAATTTGAGAAACTTGTGGGAATTTCAAGTCTAAAAGTCAACTGTCACCCTAACGGGGGTTTCTACACACCGACGGAATTCCTCGGAAGAACAGGACGATTCGGAGGACCTAAAGGTGGTTACGTACAACGTAAAGATGGACCGACGTTATCTGCGTGTTGACTTATATATAGCACCTGTAAATATTTACAAAGTTTAAATTTTGGTGAGTTTAAAAATTTTCTTGTTCTTAGAAGACACGTAAATTAGATTTAAGACATAGTCGGTAAGAATTTTTATCTTAACTTATTTTAGTAAAACCTACCGTACACCATACGAAAGACCTCTGTATTTGATTGTCTCCCTTGAACTGGAACCCTCCATCCAAACTTAGAGAGATGATAGATGACTACGACACTAAAGTCTTTTCAATCTATTGGAGAGACTCGGAGTCTCTATCATAGATAGAACTTCCCACTTACACGTCTAATTTACGTTTACTTTACATTTCGGGGATGACTTAAAGGACCGGGTCTCATCCACAAGTAATTTACGACTAAAGAAGGGACAGGGTGAAGGACAGTTGTAAAGGACCTGGTTGTTCTACAAATGAGATGTTATAATGGTTATAAAGGACCTGGTTATTCTACAAATGAGATGTCACATATCACTATTAACAGACTACTCTTCGTAAATGTAATTAATTTTACATTTTGACCGAGATCCGGGACCTAAACAGGTTGGGAAAAATAATAGAACCCGAAAACGTTCAGGGTACCTAAAATCTTTACCCTAGTAGGACGACGAACGTCAGGTTTACCAAGTTCCAACTTTAAAAAAAAGGGGAGACAACTTTTTTCAGTCAACGTCGAGACATTATTATTGTCGTCTGTGTATGAAGTACTCCTTGTTACATAAAACCGTTTTCTCAAAAGACAAACTTCGAAGTTTTATGTTTTATGAGACGGTGTAACGGTAATCCGGGCCGCTTCTTGTAACCTCTCCCCAATACCTTAGCCAACCCCACCCCACGCCCTACCTCTCCCCAATACCCTAGCCAACCCCACCACGCCCTACCTCTCCCCAATACCCTAGCAAACCCCACCCCACGCCCTACCTCTCCCAATACCCTAGCCAACCCCACCCCACGCCCTACCTCTCCCCAATACCCTAGCCAACCCCACCACGCCCTACCTCTCCCAATACCCTAGCAAACCCCACCCCACGCCCTACCTCTCCCCAATACCCTAGTCAACCCCACCCCACACCCTACCTCTCCCCAATACCCTAACCAACCCCACCCCACGCCCTACCTCTCCCCAATACCCTAGCCAACCCCACCCCACACCCTACCTCTCCCCAATACCCTAGCCAACCCCACCCCACGCCCTACCTCTCCCCAATACCCTAGCCAACCCCACCACGCCCTACCTCTCCCCAATACCCTAGCAAACCCCACCCCACACCCTACCTCTCCCCAATACCCTAGAGAAGCCCACCCCACGCCCTACCTCTCCCCAATACCGTAGCCAACCCCACCCCACGCCCTACCTCTCCCCAATACCCTAGCCAACCCCACCCCACACCCTACCTCTCCCCAATACCCTATCCAACCCCACCCCACGCCCTACCTCTCCCCAATACCCTAACCAACCCCACCCCACGCCACACCACACAAGACGAAAACCGGTCCGACCTCTCCACTCGAGGTATTGTACCATACCAGTAGGAACGGTACAAACGGACATCACTGGAGGGGACTTGTGAGGATCTACTCTAAAAACAGACGTACCTTCCCTCGAGTTCCTTTAACACTACCCTGGGTGTCATGACTTCACCTGTCCTCGACTTGTTCGTAAACGTGTACTATGGGGATACCTCCAATGAACCATCCTGTCCGATACTTCATCCCCGTCATACCTACTCCAGTGCAAAGAAATCGGGTAAGGAACTCTACTACTACTACTACTACCACTACTACTATTGACCGATGGTAAATAACTCACGGACAGTACCAACCTGAGACACGATCCATGAAATTGTATATAATAGAGAGTAGAATTATTGGGTCTTGTAGAACCCAAAAGGACAAGAATAAAATACCTGTTCCATTGACTTTAAGAACCCCTAGTTCACTGAGGAGGTCCTGGAGTAGTAATCACTCACACCCGGGTCCAGAAACCCACTTACACAACCACATTCTTTTTAAAGGGAAGAAGGACTCGTCCTCCTAAAAAAAAAAAACGACCTCTTACACCACTGGGGAGTAAGAAAGGATTTAGACAGCAAACTGATAATTTGGACAATCCCTGTGACGACCAACTAAGACAAAGAAAGAGTGTGTAGGTATGGCTTAAGAGGATTTCTGTAAACTTCTTTTTAAGGTCTGTTATTTTTACAAATTACTAATATGAAACACTAAGAAGATCTTACCGAAGACCACCGTACACTGAATAACCTTTCTCCGATTGGGACTGACGACGGTTCCTCTGGTTACCCTCTGACCCAGGGTCAACCACCAGGTCCGACGCGGTGTGGCATCCTCAGGTATTGTTCTTCCCGACCGGAGACAACGGGCAACTACGTACTCGGTAGAGTCGTCTCGTCCGGCAGGGGTCAATAAGGAACAGGGTCTACGGAGACGACCAAACAGGATCACGGACGATTGGGAGTCGACAACGGTGAACCTATAATACAGTTCGAAAAGAAGGGTCTTAAAGACTAAATGCTGACCCATACTTCAGTTCCGGATGGACGTATCTGTCTGGGGACATGAACCCTGAGGGTGCTTGACACCAGTACCTTTGTTCGTGGTTCCTGATGGACTGGGAAGATTACAGTGAAAAGACGTCTCTAATCCTCCTCTCTGATTCTTTCGGTTTTTTCTTTTTTAAGGTTCTTACTTTTCCGGTTTTCGTCTTTGTGGATGAGAAGAAGGTCAGAACCGGTCTTTCCCACAGGAATCCCCTTTTTTTCTCCGGTCCCTTACCTCGGGTAAAAATTTCGTTCGTTTCTAGTCAAACCATAAATTTTTATTTTTCACTTGAGGTCATGGTCGATTACACATCCACTTAGCTCCGACCAAATCCGTCGACTTGAAACAAGAACCGATGGACATGTCGTCAACGTCTTGTGAGTCCCCAAGGTCCGTAAAGGTTCACCCTCAACTCAAAACCTCCTTTCAACATCTTAAGGAAAAAGAAAAAAAAGAAAAAAACACTCTGTCTCAGAGAACGAGACAGTGGGTCCGACCTCACGTCACCACGCTAGAACCTAGTGACGTTGGAGACGGAGCGCCCAAGTTCGCTAAGAGGACGGAGTCGCAGATCTCATCGACCCTAATGTCTACACGTGGTGGTGCGGGCCGATTAACATAAAAATCATCTCGACCCCAAAGTGGTACAACCAGAGCTTGAGAACTGGAGCCCACTAGGTGGGTGGAGTCGGAGGGTTTCACGACCCTAATGTCCACACTTGGTGGCGTGGACCGGCATCTCAAGAACTGATCCTCTACGACGTTTAAAGGGAGAATTTAAACGTCGAGGGGCACGCTACTGTTGAAAGTCTCGAACCGTCTCCGTTCTACCATATTTGTACTAAAAATCTAACGTCCCATTAACGACACCAAAGAAACTCAAAAAAGTAGGTAAACGAGGGGTTTATTAAAAACTCTGGATGATACACGGTCCAAGACACCCCTACCTTATCGTTCGTTACTTGTCAACTCACCCCCTCTGTCCGAGAACAGTTTATTAACGTTTTTACTTCCCGATCCTGACCCACGTCACCGAGTGCGGACATTAGGGTCGTGAAACTCCCCGGCTCCACCCGCCTAGTACTCCACTCCTCAAACTCTGATCGGACCGGTTGTACCACTTTGCACCAGAGATGATTTTTATGTTTTTAATCGGCCCCCACCACCGTCCGTGGACATCAGGGTCCATGAACCCCCCGCCTCCGTCCTCTTAGAAACTTGGACCCTCCGTCTCCAAAGTCATTCGACTCTAGTGCGGTAACGTAAGGTCGGACCCGCTGTCCCACTCTGAGACAGAGTTTTTATTTTTTTTTTTAGTTTTATTTATTTGTTTTTATTTTTTACTTCCCGATCCAGGTCAGTTTCCACTTCTAAGACACTTCCTTTTCGTACCCGGCCTCCGTACACGGGGTACAAATCCTCAAGGGTCCCTGACCCTGATACTTCGACGACGACGACGACGAAAAAAAAAAAAAAAAAAAAAAAAATTTACGTCCCAGAGAGAGACAAGTGACACAGTGGGTCCGACCTCACGTCACCACGTTAGTGTCGAGTAACGTAGGACCTGGAGGACCCGAGTTCGCCAGAAGGGTGGAATCGGAAGACTCATCGACGCTGATATCCGCGTCCGACTAAAAAGAAAAAAGAAAGAAAAAAAGAAAAAAAAAAAAAAACCATCTCTACCCAAGAGTGAACAACGGGTCGGACCAGAGTTTGAGGACCCGAGTTCGCTAGGAGGGTGGAACCGGAGGGTCTCACGACCCTAGTGTCCACAATCGGTGGTGTGGACTCCGACCAGAAGGGGAATTCCTCCACCGTGGGTGGACCTAAGGGGTCGTTTGGGTGGACGTAACGTTCCAACTGGGAGTAGTCATGGTCGGTGGAACGGACGATCCAACTGGGAACAGGTCACTCCACTAAAAGGTCCCGGATCGGAGAGACGACAGGGAACGACCGAAGTGGACAACTACAACTACCTCCACCTCGTCTCCGGCAACTCACTTACGCACGTCGACCCGAGTCTCCGGGGAGAAGAGGGGAGGACACTCCACGAACGGGAACTTCCACACCGCTCACTCCTCCGGCCAGTTCCCGTAGGGCCGCCGGAGGTCCGGCATAAACTCACCCAGTAAAGTCGGACGAAGGATAGAGAAAAGACAATGATGGAGATTAACCGTCTCAAAGAACGGTCCAGTTACACCTCCGTCTCTCTACCGGCCTCCCGCCGGTCCCCTCAGTCCGGTCCACACCCGTCCTACCCTAAGACGGAGGAGGGTCCACGGAGCGGACCCCCTACGGGACAGGGTCTTTCGGATGTAAGCACCCTCGGCCGCGTGTCGGGAAGACTCTAGATTTCGAAGGGAGACTTACGACGAAACCTCCTAACACTCTCCATCACTGAGAAGTTTCAAACAAACAAAAGAACTTCGAAAATGGAGATACGTTTATACGCCAAACCTCGTCCCTTCTTTCCAATTGACACTACCGCGGCCGAGAATTGCACCTTACAGGACTTAATTACACCCAAAGTCAGGAGACCGAGTCCTAGGGGACTCCCTCTCAAAAAGAAAGGAGACGTTTTGTGTCCTCTTTTCACTAGGGACACCGAGGCTGGACGGAAGGAACCCAGGACGCCACGTTTTGGTCGACCCTGGCACAGGGCGGGTGGGCTTCCGTCACACCCCTTGGAAAGGAGGTCCAGTAAGGGTAAGTCGACTAACGACGGCCGAGGGGTCCGGTGTTGAGACACGGAAGTCCGCAGACGTGCCCAAAGCTCTACGACCGGTCCGGACTTGAACCACTCGGAGTTCGTCTGGCAAGTTTGGGTAAGTTTACTCCTTCTGGTAGACAAAGGGTCAGAGGTCGACGACGACGAAGTAAACGTTTACCGACCCTACGACGACTCCCCTAGTCCGCCCCTGTGTAGACGTCTGAGACTTCCTCACAACCTTGGCTCTAGGACGACTCTCTTCTTTCCGGCTCGGGAAATTTAGTTGAACGGTTTGTCATGGGGGTCTTCCAGGACTCAACTCTTTCGTCCTCCGTCGGAACGGGAGGACCTTATTGAGAATTGGAAGGGAAAAGAAAACATCGGAACCGGTGAAATTTTCATAAAGAAATAAGTCTTTCACGCGTCACACCCTCCCGGACGAGATACCCGAACCCCCTTTTACAGTTTGCCCTAGACCTGTAGATAGACTGGAAAGTCCCGGTATGTCCCGTTTGCATAGGCGACCTCATACGTGGTAAATAACTTACAAATGTAGTTATAGTCCCTCCACTCGAACAGGGTCGTCGTCGAAGATCCTCGGTGTCCATTGTCATTCACACCGTTCCACTGACAGGGACTTTTGGACGAAGACCTTACTCAGTCCGAAATCCCATACGAGAGACCTTACGTCCGGTCGGCGGGGTTGAGCGTCATTGCGTCCGGGAATCGAGACACCTGACGCACTCCGTGTCGACACCCCTGAGAACGGGTACCAAACCACAAACGTCCCAATAAGAGCCGTACGACACCCCGATCCCATTCAATAGGCCGAGGACTCGGGACGACCCCAAGAGTAGAGTTCCCTTAAGACACCACACAATGACACGGGGTGTACGTTTATAGTCGATGAGAGTTTACACAACCTACCTACTTATCATCTTCCATAAAATTCTTCGGTGTCCGGAGAAACATTTAATTTGTCCGTAGTATGTACCCACAACTATTACTACTTAGAGTGTTTTAGAAGTCTACAAATCAGAGACCCTTGTAAGGTCCTTAGGAGTAAATCCATTGAATATACACTACTCTGGATAAACAAGTGAACTTTCTTTTGGACAAAACTTCAGTCTCCTTACGCTTATCTCCGAGAGTGTACCAACCTTTTTCGTTAGACGTCCGGTCAATGCGGGGCATTTGTCCTTGGGTCCTGACGGGAGGACCGGTCCCGACTCAACGTCCTACCCCTGGGGGGTGATGGAGGTTGGCGGGCGGTCCTACTCCTCACGAACGAGAGTCTGCACGGGGAGTGAAATTTATATGTCTCCGGAAGGATCCGTCGGAAACTAACACAGGAACACCACTGGAACGGGACGTCGTCCGTCGTGACCTCTACAAAAAGAGAAGAGATTTCGTACTGAGACTCCGAGTCGCCACACTCCGACAGGTTCGACTGTGCAAGTGATGACCGTCTCCGCCCAGAGTTTCAGAGTAGGAACCTGTGACCTCGACTTGAAGAACATCACACCCAGAACCTGGTCGTCGTAGTCCGGAGTGGACACCCTTTATTTCTTACAGTCGGGCGTGGACGTCCGGATGACTGGGTCTTAGAAAAAAACAAAAAAGGAAAACTCTGTCTGAAAACGAGAACAACAGGTCCGACCTCACGTTACCGTGTTAGAACCGAGTGACGTTGGAGACGGAGGCTTCAAGTTCACTAAGAGAACGGAGTCGGAGGGCTCATCGACCCTAATATCCGAGGACGGTGGTCTGGACCGATTAAAAACGTAAAAATCATCTCTGTCCCAAAGTGACACAACCGGTCCGACAAGAGATGGAGGACCGGAGTTCACTGGGTGGACAGAACCGGAGGGTTTCACGACCCTAATGTCCGCATTCGGTGTCGCGGGTCGACTGGGTCGTAGAAACCTTCACCCTCGTTCCTTCGACAGAATTTGACTGGTGCACCAAAATGCGTGTCATTTCAGACTCTTTGTAACGTAACTAGGGATGAGGTCAGGGAGAGGCATGTGGAAAACCCACCTCACCCGACCCCTGCGTCTGACAGAAACCGACACGTACAGGATCTCCGACTTGTCCTGCTCTACCCTCGTCACGTCACAGAATTACCCTTAGCCCTAAAAGTGCCTCCTCGACAACCTTGACCCGACTTATCCTCGGACGGTCCGTCGTCTCGACCCACCCGAACATCCATCTCCCTTGTCACGGGTACACCTGTCCATTCGGTCTCACAGTCTCTCTCCCTACACCCCGAACCTCGTTGGTTCGGAGTTACGCGGTACTACAAGAAACCCAAAATAAGAGAGACTGAAACCTCACCAGACACGGAAAAATTTTCTCATCTCTAGTACACGAAAAGTCTTCTAAGGAGACCCCCAGACGCCACCGATGTTCTCCGCGTGGTACCCACTACCCAATCCGCGTAACGTCTCCAGAACACCTCCTGACCTCCTCTGGACACCCTACGTCAAAACGGACATGAAAGAAAGTCTCGATTCGAAAGATAGTCCCTATCCGGATTATCCACTTCCCCACACCCCTGACTAGTCTCCTTCCCGGTCTCCTTTTCTCCCCGAAGTCCCGGCTGAACCTCGAACCCGCCGTCAAGTCACCACACTGAGGGAAGTAGCACATTCTCTTCTCCGACCACCTCCTCCTCCTCCAACTTCCAGTGAACGAACAAAACCTATGCTGGAGACATCTGTAGGTCCAATACATAAAGGAGGGGGGCCCGTCCACCTTTATACTTGGATGTTCGTCCCTGAACTCACCGTAGACGCCCCTCCTCCACCCTTTTCGGTGTGCACGGGTCCTCTGACCTTACGTCCCTTTCCTGGTCTTCTCGGTCTCCATCTTAAGACCCATATAGGTACCTATGTCCTCCCCACCGTCCCTTCCTCTTTAAAGGATCTTTCCGCTCTTCAGGAGGAACTGTACAAGGACAGGTATTCTTGTGTATGCGTGTACATGCGTGGTCGTCCTTCGTCTTACGATTGGCTTCTATTAATTGGGGGTTAAGACACAATCCCTAACTCTTTATCTGGTCCTCGGGACGGGGGAGGAGAGAGTAAAGGACTGGAAGGTGTGACTCTTCTGGACCGATCCGTCGGAACGAAAAAAAGGACAAATCGCCTCCTCACTCCTAAAGTCGGCCTTCCAGAAAGACTACCGTCTACACATTCACGGTCTGTAACACGACCCACGGAAGACACAGGATAGAGTAAATAATAACAAGGACGAGGCTCCTGAACGGAGTTCCAGTATGCTAAACATTCACCGTATCAGAGCCACAGTCACTGTCCAGACAAACCACAGAGAGAGAGAGAGAGAGAGAGAGAGAGATATATATATATATATATATAAAAAAAAAAAAAAAAAAAAAAAAACTCTACCTCAGAGCGAGACAGTAGGTCCGACCTCGTGTCACCGCACTAGAACCGAGTGACGTTGAAGGCGGAGGGTCCAAGTTCGCTAAGAGGACGGAGTCGGAGGGCTCATCGACCCTGATATCCGCGGACGGTGGTACGGGTCGATTGAAAACATAAAAATTATCTCTACCCCAGAGGGGTACAACCGGTCCGACCAGAGCTTGAGGACTGGAACTTACTAGGTGGACGGAGTCGAAGGGTTTCAAGACCCTAATGTCCGTACTCGGTGGTACGGGCCGGAACCAGACATGGAAATTGTGGGGGTCGGAAAAGACTTCTCAGTGGTCTCTTCCCTGTTTTTACTCCGGTATCGGAATGACGATTCCCTGGTACTCTCCGAACCCCATATCGACAGACAACTCTGTCCACGAAATGATGAAACATTCTACTTCTCTCGACGGAGACCGACTCGTGACAGTAATCCTGAGTCCCTTACCTTCACAAAACTCTGGTCTCCCAAGTCAAAGTCCTGACCTCTAGTGTTACGTAAGTAAAATGTCTCACTGTTGAGACATCCCGGTGAGAAGTGGGATTCTAACCCAGTAATTTCCGGTCCGTGTAGGATAAGTGAGGAAGTGGAGGAACACTCGGGGGGTGTACGGAAAACTACTTTCCCAAAAGGGGTCTTGTCACACAGGGTTCTTCGGGACTTCCCGACCTCTACATGGTCGAAAGAGACGATACAGGTCGTTCACATAAAAGTCTTCCATCCTCCGAGCCCGACCCGACCGGTCCGTCGGTCCGTGTGTCTGAGGAGTAACATGTAGGTTCGGCCCCGCACGTCCTGAAGTTGTATCGAACATTGCATTCATAGATAAAGGACCCGCGATGTACTAGATTACCGGACAGCGAAACCCTTTACGAAAGACTTGTTTTCTGAGCTAAATAAATAAATAAATAAAAAACTCTGCCTCAAAGCGAGAACAACGGGTCCAACCTCCCGTCACCGCACTAGAGCCGAGTGCCGTTGGAGGTGGCGGGTCCAAGTTCGCTAAGAGGACGGAGTGGGAGGAATCATCGACCCTAATGTCCGCACACGGTGGTGCGGGCCGATTAAAACATAAAAATCATCTCTGCCCCAAAGAGGTACAACCAGTCCGACCAGAACTTGAGAGGACTGGAGTCCACTAGGTGGGAGGAACCGGAGGGTTTCACGACCCTAATGTCTACACTCGGTGACGCGGGCCGGAAAATAAAAAAATTTAATAATAATAAAAATAAATAAATAAATAAAAAAACTCTACTTCAGAGCGAGACAGTGGGCCGACCTCACGTCACCGTGCTAGAGCCGAGTGACGTTGGAGACGGAGGGACCAAATTCGCTAAGAGGACGGAGTCGGAGGGCTCATCGACCCTAATGTCCCCACGTGGTGGTACGGACCGAATTAAAAACATAAAAATCATCTCTACCCCAAAGTGGTACAACCGGTCCGACGAGAACTTGAGGACTGGAGTCCACTAGGTGGGCGGAGCCGGACGGTTTCACGACCCTAATGTCCGTACTCGGTGGCGTGAGCCGGTCCTGAGTTAAAACTTCAAGAATACGTTCGTTTCGACGGGTATAGATCCTCAAATACGTGTGTCATGACTAAGTTATGGACGCAGAATCACCAGGTAGTCCTTAAAAAGTGAGTACTTTATACTGAAATTATGTGCACAACCCTGGTCTCTCTTTTGGAAGGGAGACACGTAGAAAAAAACCTCTTGTGACAGTACTTGTCGGCTTTTGTAGTCTAGTTTTCGTTCTCCCTATGACTGTTTTGTCCCTCACGCCTAAAGGTGACACCCACCCCTGTAACCCTCTGTGCCACTGAGTGAGGAGTCATTCACGTAAGAATCCGAGAAATGAGACACACGTAAAAATAAAAGAGTACCCGTTGTTATATTAAAGAAAGTTTGTACTTCTCGGTAGGTCGTACAAAGAGTTTCCGTCTGAATTTACTATACTCCCCACACGGATTTATATATTAAAAATTACCAATGGTATAACCTTTGTAATCGGTACTAGGGTAGACTACTGATCCTTGTACTCGGTCAGACCTCAAAGACCTCTTTAGGTCGATGGCGACGTCTCCGCCGACAATCGACAACAATGGCCGTAGGAACAATCGCTGGTCCCTCCAAAGTCAGGGCTGAACACAGATGGTCTGTGGGACTGTTGACCAATCTTTCTCTCCTGACGTGGGAAAGTAGGACGCATGAATAGACAACAAACAACGAAACTGAAGAAAAACAAGAGGCAAAAATACAACCGTCATAAAGAGCTCCATCTCTTGAAAGTGGAAATATAACACGCCTCATAAACAGGGAAGGAGCGGGGGAATTTCTTGTGCATCATGGATACGGAATATTCCAGAGACAAACTACACTCCTTAAACCAGAAGAACGTTCAGCCGAGAACGTCTCCCCTCCGAAACTCCTACAGACCCGACGTCGTCCGACAGAAGCAACGACACATGTGTCGGGAGTACCGTCCCGTACGTTTCCACCAACCAAGACTGAAGTTACCGCCCTGAGGTAACGGAAATAAAAAATTAAATTAATAATAATAATAATAATAAAAACTCTACCTCAAATCAAGACAGTGGGTCCGACCTCACGTCACCACGCTAGACCCGAGTGACGTTGGGGGCGGAGGGCCTAAGTTCGTTAAGAGGACGGAGTCGAAGGGCACATCGACCCTGATGTCCGTGTGTGGTGGTACGGGTAGATTAAAAACACAAAAATCATCTCTGCCCCAAAGCAGAACAACCGGTCCGGCCAGAGCTTGAGGACTGGAGTTCACTAGGTGGACGGACCCGGAGGGTTTCACGACCATAATGTCTGTACTCGGTGGCGTGGACCGGAGGTAACGGAAATAAAGAAAGACGACTATTCAAGACTACGGTCACTATGGGTCTAACACGGTATCCTTTCTCCCCCGACCCGAGAAGGTCTTTGGGATAGAACGTCTTTAGAGAGAAGACAAGGATGCCTGTCTCTTAACCCATAACTGGTCACTCCTGAAGAATGACCCTGACCCGCACCGGTGATGTCCTGTAGAAGGTCTGATTCTCCCGGTCAACCCCCAATGACCTGGTCCCTCCTGTCACCGCCGGTGAATGAACGGTACACGAAACACACGTCACTGATACATCGCTGTAAACGTCGGCCTGACACAAAGAGGACATCTCTGTGACCGTCGGGATGTCGGGATGTCGGCACTGTAAATGAGACATGTTCCACCGTCCTCCACACCCTCCCGTGGCCCTTGGCTTCCGGTAAAATGATGGGAAGGGCGTCGCGAGGACAATGTCACGAACACCCTCAGGGTCGACACGGAGGTCCATGTTTGCCCAAAGAAGGACGTTGGGTGTTGGGACTGTCCTGTACGGAGGGCCCACACGAGGATTGGACGGAGAAGAGAGACGGGGAGGGAGAAAGAGGAGAGGGGAAGGGGAGAGAAAGAAGGAGAACGGAAGGAGAAGAAAGGAGAGGGAGGGAGACAAAGAGAGGGAAGGAAAAGGAACAGAGGCAGAGAGGAGAGGAAAAAGGGGGAGAGGGAGAGAAAGTAGGAAGACAGAGAAGGTCTCCTCAGACAAGTCCCTAAAGAAAGAGAGAAAGAAGAAGGACCTCCTTACACAAATCCCTAACCTGTGGAGACTGAAACCTCCTCCCTCTTTGGAGTCACCCTACCCAAGGTCCTGCTGGGGTGGCGTAGGAACCTTGATCCTACTAGATCTGCAACCTTTTCTGTGGTAGGGACCCTTTGGGGTCTTTTCCGAATTAAACACTTTTCATTACCTCCCTCGACACGGCAACCATCTTTGACGAAAAAAGAAGGAATTGTCAAATTTAGACAGCAGGTAAGAGGCACTTCACTAACCTGCCCCGTTCTGAGTCCAAAGGGTAGACAAGAGACAAACGTAAACCCGCGGTAAAGTTTTTGGTGTGCCCTTTTCAAATATCCGTTTGTAATATTTTTCACTGTCAGACTTCACGACGATAGCGACCAAACCGTTGCATTTCACAATGGACTTTATCGAATGGCAAAGGTTTGGGAAAACGACAAAGTTGACAGAGTTCTGTTGGGAGGGCGACTCTACCCACTCTTCAGGTCGACCTACACACGTCACTTCAGTGTATTCAGTGTCGGAAAAAACTGAAAATGTTCTAAAGGGGGAGGACCCCGATAGAAGTGTGTGTCGCTCCTAAAAAAAGAGAGACAAATGAATATCTCTCCATTTAAGTACGTCGAACACCGATCACCGTGAGACACACTACAGTTTACCAGACGACTCCCCGAGCCTCTCAGTCCGTCGGGGACGGAGTCAAAGAGAGAGAGGGGTCAGTCTCCAGGATACTCGAGGGTTCCTTATTGTCCTACCAAAAGAATCCCTTCCTTCCGGTCCAGTTCCGTCCTTAATGAGTGTCGAGTACACGTCTACGGACAACAATAAGTATGATAAATAAATAAACACAAAAAAAAAACAAACTCTGTCAAAGTGAGTACAGCGGGTCCGACCTCACGTTACCGTACCAGAGCCGAGTGACGTTGGAGGTGGAAGACCCAATTTGCTAAGAGGAGACGGAGTCGGAGGGTTTATCGACCCTAATGTCCGTGTACGGTGGTGCGGGTCGATTAAAAAATATAAATTATCTCTACCCAAAGTGGTACAACCACTCCGACCAGAGCTTGAAGACTAGAGTCCACTAGGTGAGCGAAACCAGAGGGTTTCACGACTTTAATGTCCGTACTCGGTGACACGGACCCGATGAATAAATAAAAACCTCTGTCCAAGAGCAGAGCGACACAGTGGGTCCGTCCTTACGTCACCGCGCTAGTATCGAGTCACGTCGGAGACCCCGAGTTCGCTAGAAGGATGGAGTCGGGGGACACATCGACCCTGATGTCCACAAATAGTAGTAAGGGCCGAAAAAAAAAAAAAAAAAAAGTAAAAAACACCTCTCTCCTAGAATGATACAAGGGATCCGACCAGAACTTGAGGACTGGAGTTCACTAAGAGGGTGGAGCTGGAGGGTTTCACGACCCTAACATCCGTACTGGACGACACGGACCGGGTAAATAAAAAACTAATCGACATGTTCATGGACAGAGAGAGTAAAAATTTCATAGTTTTGTCAGTTAAAAAAAAAAATAAAAAAAAAACTCTACCTCAAAACGAGAACAACGGGGCCGACCTCACGTTACCGCACTCGAGTCGAGTGGTGTTGGAGGTCGAAGACCCAAGTTCGCTAAGAGGACGGAGTCGGAGGGCTCATCGACCCTGATATCCGTACGCGGTGGTACGGGTCGATTAAAACGTAAGAGTCATCTCTGCCCCAAAGAGGTACAACCGGTCCGACCAGAGCTTGAGGACTGGAGTCCACTAGGCGGGCGAAGCCGGAGGGTTTCACGACCCTAATGTTCGTGCTCGGTGGCGCGGGCCGGTCAGCAAAAACAAACAAACAAACAAACAAACAAACAAAAATTTCTTCGACGAACACCGGTCCACGCCACCGATGGTGGACATTAGGATCGTGAAACCCTCCGCCTCCGTCCACCTAACGGACTCGACTCCTCAAACTCTGACCCGACCCGTTGCACCATTTTGGGACAGAGATGATTTTATGTTGTTGTTGTTGTTTTAAGGGTCCGCACTACCGTACGTGGACATTAGGGTAATGAGGTCTCCGACTCCGTCCTCTTAGTGAACTTGGGTCCTCCACCTCGAACGTCACTCGGCTCTAGCGTGGTGACGTGAGGTCGGACCCTCTCTCGCTCTGAGGCAGAGTTTTTTTTTTTTTTTTTTTTTTTTCCGGTCCGTGCCACCGAGTGCGGACATTAGGGTCGTGAAACCCTCCGACTCCACCCGCATAGTGCTCCACTCCTCTAGTTCTAGTAGGACCGGTTGTACCACTTTGGGTGGGGCAGAGATGATTTTTTTTATGGTTTTTAATCGGTCCACACCACCGTCCGAGGACATCAGGGTCGATGAGTCCTCCGACTCCGTCCACTTATCGCACTTGGGCCCTCCACCTCGAACGTCACTCGGTTCTAGCGCGGTGACGTGAGGTCGGACCCGCTGTTTCGGTCTGAGGCAGAGTTTTTTTTTTTCTTTTTTTTCCGACGAACGATTGTGCGACGACCATGAAGGGTTCATAAACTTTGAAGACCCTCTTTTAAGTGCACCTACGTTGACTCGAAATACGTCGTCCCGACGTCATCACACCGGTGCCGTCATCTTTGCTCACAACTCGACACAGGGTCCTTCCTCTGAACCACGGAACAAACAAATGGTCAAAATCCTTTGTCACTGTTTCTAACCGGTTATGATGACACTTCGAACGAACGAAGAAAAGCTGAAAATTAAGTATAACACTTTTTATGTACCTTTGTATAAGAGACAGACACCTTCGGAGACTTTCTCGTAAACACGTATCGTTCCGCCGAAGACCTTGGAAGAGGGGTAACGCAAAACCGTCCTCTACTCCCTCTACAACCCGACACGTGGGGACCACCTAAGCGTGTCCTTTCCACTTTTCATACGGTGTCGTTACCCTTTTTCATTTAGGTCCTTCACGAGTGTACTGATATTTTCCTCAATACATGTAAAGGACCCCTTAAGAAACGAGAAAGTGTCTCGTCCGACACGTCGGACCACCTCAGTCCCTCTCCAACAGGTAGGTACCCCCCACTGGTCTCAATCCCTCCGGGGAAACGTGTACGTCCGTGTCCCCTAAGAGACTAACAGGACCGAGGCGCGTCGGACCCCGGTCCAGTCATGTTGACACCCCTACTTGTACCTCCCGAGTCCCTCACGTACAAACGTCCCTCACCCGTCGCCCAGTCCAGTGGACGTCGTAAGTTTGGGTCTTCTCTTCGATTCGGGACACCTGCCGTTTACCTGGGTTCCTGTGCCCGTCCCTGTCTCGACGAAGGTGACTCGGTCGACAATCCACGAACACAAGAACCGGGGGACCGGCCCCAACAGAAACTATACACAGCACACACGACCCGGGACGTCCGACCCGAACCCCCCGGTGACCCACCGGACCCTCCGATGGTCACACCGTAAACCGGGGAGGGGTCGCATACCGGGGTGGGGTAGGGACGGAGAGAAGAATGAATGTAGGAGGAGAAAAATAAGAGGGGTTGGAGAAAGAGAGAACACACAAATAAGTACGTAAGAGGGATTGTACACGAACGTCTCAGAAGACCCTATGGGTCCCCATAATGACCGTACAAATGATTTCCGTGGCGACTAGGGGTTTTACCCGGGAAACACTTTACTGGTGACTTCCCCACCTCCCTCCTCAGGAACGAAAGAGTCAAATGGTTCTGTCGTCAATGACCAAACTCTGAAACTTCTGTCCTACCGAACTAAAAATACCTATTTGTAGTAATAGAGTAACCACATAAAATCCCCCACTATAAAATGATAGGAACTTCGAACCTATAGATCTACTGTCAAAACTAGACCAAAATGACCCTAGTTTTCGTCAAAATCATGCAGTTCAGTAGAATTGACAGGTAACTCTACCCTGAGGACATTTTAGTGAAACATAGACCTCTATCGTTAGGTTCACAAGACCGACCCGCGTCACCGAGTGCGGATATTAGGGTCGTGAAACCCTCCGGCTCCGCCCGTCTAGTGCTCCAGTCCTCAAGTTCTGGTCGTACCGGTTATACCATTTGCGACAGAGAGTATTTTTATGTTTTTTCAATCGACCCACACCACCACGTGCGGACATTAGGGTTGATGAACCCTCCGACTCCGTCCTCTTAGTGAACTTGGACCCTCCGCCTCCAACGCCACTCGGCTCTAGCACGGTGACCTAAGGTCGGACCCACTGTCTCGTTCTGAGACAGAGTTTTTTTTTTTTTTCTTTTCTTTTCTTTTCTTTTCTTTTTCTTTGGGTCTACAAGACACTAATAGGAGACTTTTAGCACCACGAATTTTTTAGTGCCGTTCGTAGAAGGCGGAACTTCTCATTGTCATTATCACTGTCAGTAATCGGGCTGTACAACATCAACTACTAGTCCAAGTAGAAGCAACCGAGTAACCTTAGAATGGTTATTATTTGGTCATAAACCCATGAGAATGGGACGTTGTCTACCCCTTGTGGTCCGGTTTTCCAATTCGTCCTTACCTCTCCGCACCCTTGAGTCCCGAAGTAGGAGAAGAGCAGGTCCCGTCGTGGGAAGTGGTCCGTAGAGGGTACAGGTCGAGGTTTATTCTGTGTCCAGGAGCGACAGGGGACATGAAGGAAGATCTTGTCGTGCACCATCAGGTCGTCGAGTCTATGGGGGTCAAAGTCGTTCTAAAACCCCAAATGACTAAAATCCACTTCCTTTCCTAAGAGTTACTTTTGTGAAAGTAAATTTTTGTCCTTTAGTATGTAGTATTGAGGAGGAAACGGCCCTCTCTCTAAAAAAAGACGTAGTGTTAACGTTTACGGAACGAATAGAAAAAAAAAAGAAAAAAAGGGGGATTACCTCAGAATCTCGTAAGGAGACGCACTGTATCCCTGTACCAACGTGGAATAGACTCCCAGTCCTACCTCGTCTAACCACACACCCAGGGTCCACGGAAGGGACACTCCCTCCCTTCGAAACGACGAAGACGAGTCGCCGACGGGACCACTAGTTAAGACCGATTCTCCTTTCATGTAAGGTATTGTAAAGACCACTGAACGACTAGTACACTACAACAGTATTATCTGTAACTAGTAAAATACTGGGTCTGACTAGGTTACATTTAAGTAAGATTGTACCACCCACGACAAAGTCGTTACTCAACAACCTCTGGACCCTGAGTTTCCTGTAGACCAGGAACGGAATCGGTCGACAGTTTCCCCAACCTGGTTATCGCAAACCCCGGGGAAGTCGAGAGTACAACTCACTTAGACACTGAGATCCTACAACCCTCACCCTCTACCCGGTTCTAAACCCTGGTCTGACTTAGGGACGGCAGAAGAGGAGGAAGAGTATAAAGAGAAGGAAAGAAAAAAGACAAACCAGAGGTATCAAATTTCATAAAGATAATCAGTGAGTTAAGTCGGCGTAAAACTGAATTGGTCGGAACTCTCTGGACGAGATTCTCGGAAGTTTGATTCAAGGGTTGTAGAAAATTTGAAGCGAAACAGGAAGTGAAGAGTCGAGTTTACGGACAAGAAACCTCTTCAGAGAGACTAACAGAATATGTTGTCCCTAACTTTGTGAAAAACGTTTCCGTTCTGACGTTTATAACATCCCGAACGTCCGGTGTCCCAAAGACAACGTTACTGACTTGAGACGGGAACATTGTGTGTTTTCGTCGCGGTCTGTTATTCCTTACCCGTACCGGCACAAGATTATTTCGAAACAAATGTTTTTGTTCGACGCCGACCGAACCGGGCGCCCGGTAGTAGGCGGTGGAGGACGGTTCCCTGGTCGGGAGGAGACGGTGACGACACACACGGGCATGGAACGGTACAGGAAGAAGGATTACGAATTCGTTCTTGTGACATAAAAAACATCTAAAACATAGATAGCAGACAGTGGGGGTGGTATTACCTGCGAGGTGTTCACGTCCCAGAAATAGAACAGAGGAGAACGACGCCTCGAAGGTCTTATCCGAACAACATATCATCTGTACGTCATTTATTAATGACTCACTCTTTTGTTTACAATCTTTGTATTGGACGGGCAGTCGACCCGAAAGGAACGAAACCCCACGTAAACAGGTACAATGTAAATCGAAGATAAAAGGAGGAAAACAACACTAAGAGAGAAACACAAGTGCACGATCAACCGTAGACCCCGAACCGTACGTACGGAAACCACTACGGGGGAACTCTTCGGGGCCCGGAGGACACACCGACAACTACCACCACCACTCCCCCTAAAGAACAGGGGTTACGTACACCGGGAACGAGGAAAGTGTCACCCTGACTTTGTGTCTAACTGAACTAAAGTCAGAGGACACCCTCTAAACAAGAAGACTCCCCACAGATCCGTTTTGTCAACGGAAACTAGGACGGGACTAAACCACGACAGAGTCACGACCCTTCGAAACGTAAAAGATCCGGACCTTGAGACCCAGGGTAAGTGTGAAGAGTGACCTCCCTACTTTCGGAGGAAGAACCCGGGAGCACCGGTAGGGTCGACCGGCGAGGTCGACAACAATAATTATTTACGGTCACCACAGGAGAGTTGAGGTCACCTCTCCAACACACCCAACCTAGGAACACCCAGGTTAGGGCACGACGTATAGACCCTTGACACTGGAACAAACTGTACCGGTACACAGACGGTTCGTCCTACCCCAGCCACCGCCCTTCGTGTCTCTTGGTACTCTGGGTGCGGAAAAGAGATCCCAGAACCACAGAGGCACCCCTCTACCCTACGTAAGTACTCTTATACCACGTAGGGTACTCGACCGTTTCACCCGTCCACATACCACCTCCCCCTCCCTCGGTCACGAGAAGGCGGGTCCCCCTGACTACGTTCCACTGAGGGTAGTGCCTCCTGGGACGAACTAAACCCAGAACCTCCCACCTACTGTCCCTTCTCTCCCTCCTTCCTGACAGGGATGTCTTCTTCGGACCCTGTACACACCACCCACAACCACTCGTCCCACCCTGAGTCGAAACAGCACACCTCAGCCCCCGTGTGTCGTGGGTCGCCGAAGTAAAGTCCTGGGGACATTCACGTTGCCTCTGACGGAACGTCGACAGACCCGTAAAACGAGAAAAACAAAAACCACAATTCCGGAGATCCGAAAATAGTAAAACCCTTTTGTCGTCCAGAGTCGAGTGGGTCGTGTCTTAATCCAGAGATTTGGCCGTTTCATGACTAGACTTGTACTCTCGAGTACTTTTGAGACCTACCGTTTTTTAGAACATCTCCCTAGGGAATCAAAAGGAACTCAAACTCTGTAAAGTAAAATTCTTCGAACCGGAACCCCGTTGTCTGGTTCAGATCGTGTTTATTATTTCTCACATACACACACACCGCGTGTCAGTGCAAAGTGCATGTTTACACATTTTGAGCCGTAAGAATGTTTATTTTGTATGGTGTTATTGTCTAAAAACGTCCATAATGTCACGTTCGTGCGAAACCGTTAGTTAAATTTGTAAAAGAACACCTTATAAGAAGGTACGATACCAAACCAAACAAAGATTTCGGGGTATCCTACACCTTTGATTCAGTCCTGTCTAAAAGACCCCCATAGGAGACCAACGAGAAGGTCTATGAAGGACTGAAGGACCCCGAACCCCTCTCCACCTACGGACGACCCCGGTAAACGTCTCGTTCTTGTCGAAGAGGACCCTTATTCGTCCGGAGGTGACTGGAAACAACCTGCAAGAGAGGAGAGGGAGGAAGGGTAGACAGAGGCAGAAGAGAGAGGGTGGAAAGACGTCTCGGTGGTTGGTTTATGGTTTAGAGAGTTGGTCTTCACATGCACCGACGCGGTCCCCTCAGCGATCTCCACGCGACGGACAACTTTCTACGGCGGCACTAGTCAACCTGATTCCTACCCCACGTGAACCCCGGGTTGTTATCCTGTCACGAATAACCCCTCATGAACGTCTATTTCCCGCGGTGCGGATCTCTGAGGCCGGAGATACGAACATGACGGTCATCCTGACATCTGTCACTTTGAACCATGAAGTACCACTTACAGTGTCCACTCAACCGGGCGGTCGTGATACGAGAGAGAAGAGACATCGGTAATGTAAAAAAACCGGTTCACTTTTCCATCACTCTAGAGATTAACATTAACCTACGGTCCGTATGTCGAAGTATCAAAAACTTTAAGAAGAAACCCTGGACCACGTGGTCTTTCCGGCTAGTAATTCTTACTATCTTAAGAACACGTGTTTCATTGTAAAAAGAATTCTATCATGCGAAAATAAATTCATTTATGTACGAAAAAAAAAAAAAAAAAACATGGTGACTGTAGAGACCGTAAATCTTATATCCCAACTTTAAACCTATGAGTTCTAAAGACTAAGTAAATAATCTCAAACTCAAAGAGAGGTACTAAAGGAAGATACGTCACTCGCCCTGTCTTGTCCGGGGGAAACACCGGCTCAAATTTCAAGACGAAAGTCTTACAATCAACTGCTACTCTTCCCGGTGTGTCCCTGACTCAAAACAATCCCTAGTTAAAGAAAGAAGTTCCTCTGGGGCGTATGACTTTCCAATTACAACCTTTTTCTCAGAAACCCACGATGTGTTAACCATTTAAACAGTCCCCGAACTTATGACAAACTTCGAACTTTAGGTCAAGAGTATATAGGTTAAAATATCGGACAAATTTATCGCACTTTCGTCTTTTGTAACTCTTAGTATTGTATCTGGTTGACAGTAGTACCTCCCTTTTAAATTCGGTAATTTTGATAGAATTGACTTTTGTTAGGGTCCGAGAAACGCTCCCAAGGACCCAACAACTGAAACGATACCTCTTCCAGAGTCAACATCTATTAACGTTGGAAAAACGAAACGTTTTTTGTGTAGGTACCTTATACAAGAAAACGTATGTCTACGGTAGAGTAGGCCTCTACTACTCCTACTGTGGCTACCACGCCTTCTAAAACAGTCACTCTTGTCATTGTTGTTCTCATTCATTGACGGGCCGAGGCTACCAGGGGCTCTCTCCTCGTACCTCCCTTCAAGACGGACAGTGGACAGAAGAACAGCTGAGAAGACGCGGTACGACACAGGGCGCCGGGAACGGAAAGGGGCGACACAGATGAAAGGACTGAAAGTTTGGACTCTTATTTGGTCACAACGACGTGTCGGAAGAGATAGCAAACAGGAAAGAAGAGCACAGTGACCAGTAAGCAAAAAGTTTCGTCAATGATGAAAAGAAAGGAACTAAAAGGGAAAAGGGAAACTGAAGAGGGATAAGTCTCTGTATTCTTATCATCTTGGTACATTGTAGAACCAAAAGGAACATTAGTCACTAACACGAACCAAATTAGGTCACCACACACTGACCCCGTTAACGGATAAGAACGAGAGGGCCGTGTAACCCGTTATAAACCAACAGTGTTGTCTCCCTCCCCCACGACCACCGGAAATCGACCCCTCCCCGGTCCCTACGTCTCGTGTCGGGGTATTGTTTCTTAATAGACCAGGTTCTACAGTTAGTAGGGATCCCACTCTTTGGGCCGGAGGATGTTGTGTGTGGAGTACGACTCACTTTTACTTCCTGCACACGGAATGAAACATCTGGTGCTAACTTTTCCCTCGGTTCCCACCGAACGAATTACTCCCGGTACTTGTGACTCGCGATTGTACCCTCTCCGGTAAATGAACGCTCCTTCTTGTACCGCATCGGAGAACCTCGACCCGTTGGACCCAAACTTAGAACGAGGTGTTGAAGACTCAACGAGTAAAGTGAAGACACGGAATCAAAGAAATATTTTACCCTCATTATTATTATTATGATAAAAGACCCCAACAATACTCCTAATGTACTCAAGGATCAACATATCACGAGTCTTCTCACCAACGAACGTTTACAAATAAGTTATGTGTTTTATGTTATATCGTAATGAACGTAAAAGGTTACTGAACCGATCTTACAAGGATTTCACAAACATGTATCCCATAACCCTAAGAGACGAATGTACCATATAAGATGTAAAAAGAATTTTCCTAAAATCAGTTAAACCATGTAAATTTGTTCCGGATTCATTATATGGTGTGGGCCGATTAAATACATATATATATATAAAAAAGGGCTCTACGTCAGAACAAGACAGTGGGTCCGACCTCACGTCACCGCGGTAGAACCGAGTGACGTTGGACGTGGAGGGTCCAAGTTCGTTAAGAGGACGGAGTCGGAGGGCTCATTGATCCTGATGTCCCCGGACGGTGATGTGGACCGATTAAAAACATAAAAATCATCTCTACCCCAAAGTGGTACAACCGATCCGACCAGAGCTTGAGAACTGGAACACTAAGTGGACGGAGCCGGAGGGTTTCACGACTCTGATGTCCGCAGTCGGTGGCACGGGTCGGATTAAATACATAAAAATCATCTCTGTCCCAAAATGGTACAACCGGTCCGACCAGAACTTGAGGACTGGAGTTCACTAGGTGGGCGGAGTCGGAGGACTTCACGACCCTAATGTCCACACTCGGTGACGCGGACCGTTATGAAATAAAAAAGCTCGTCAAAGTCCAGGTGTCGTTTTATTTCTCCTTCCTTGTTTCTAAAGGGTATATTAGAAGGGGTTGTGTACGTATCGGACAGGACAATAGTTGTAGGGGTGGTCTTACCATGTAGACAAGGTCAACTACTTGGACGTGACGGTAGTAATAGTGGGTTTCACACACCAACTGAAATCCCATACATTAGTATGTCACACATCGGAAATGTCTAACCGAAGAAACTGAATCATTCTACGTACATTCAAAGAGAGTACAGAAAAGTACCGAACTACCCAGTAAACAAACATCGTGACTCATAAGGTAACAAACATACATAGTTTCAAATAAATGGGCAAATGGATGATTTTCTATAGAGCCGACCCGTGGCAACGAGTGCGGACATTAGGATCGTGAAACACTCCGGCTCCGCCCACCTAGTGAACCCTTGTTTTCAAGCTCTGGTCGAACCGGTTGTACCGTTTTAGGGACAGAGACGATTTTTATGTATCCAATCGGTTCACATCACCACGTACGGACATTAGGGTCGATGAGCCCTCCGACTCCGTACTCTTAGTGAACTTGGGTCCTACGCCTCCAACGTCACTCAGCTCTAGTGTGGTGACGTGAGGGAGGACGGACCCACTGTCTCACTCTGAGGTAGAGTTTTTTTTTTTTTTGTTTGAGACAACGAAGGTTCAAAACTGTCAACGTTTATTTCGACGATGTCTGTAGAAACACGCCCAAAAACACCCCTGTATCAAAAGTTAATGAAACCCATTTACAATTCCTCACACTAACGACCTAATACACTCTTCTCATACAAATCTAAACATCCTTTGGTGGATCGACGGAACGTTTCACCGACGTGGTAAAACATAAGGGTGGTCGTTACTTACTCTCAAGGACAACGAGGTGTAGTAAGCTACACGAACCACAAGACCTAAAACCGGTAAGACTATCCACACATTACCATAAAACAACAAAATTAAATTTAAAGAGACTACTGTCTACTACACTTCGTAGAAAAGTATACTAATTAACGGTAGGTACATAGAAGAAACCACTCTACAGACAATTCCGGCAACCGGGTAAAAAATTAATCCAACAAACAAAAGAATGACAGCTCAATATTCTCAAGAAACATATAAAACCTATTGTCAGGAAATAATGTAGAGAAAACGTTTATCAAAGAGGGGAGTGGACACCGAACGGAAAAGTAAGAGAACTGTCACAGAGAACGTCTCGTCTTTAAAAATTCAAAGTACATCAGACCAAAAAGAAAATACCTACCACGGAAACCACAATATGGATTTTACAGTAGTGGGTTGGGTTCCAGTAGATCTAAAAGAGGATACAATGGAGGATCCTCATAATAACAAAACATAAAACATAAATACACACATTAGATAAAATTCAATTAAAAACATTTCCTACATTCCACACACACACCTAAGTGAAAAATCGGACACCTACAGGTCACCAAGACCCTGATAAACAACTTTTCTGACAGGAAATCCAAAAAAAAAAAAAAAAAAACTCTACCCTCAAAGCGAGAACAACGGGTCCGACCTCGCGTTACCACGCTAGAGTCGAGTGGCGTCGGGGACGGAGGGCCCAAGTTCGTTAAGAGGACGGAGTCGGAGGACTCATCGACCCTAATGTCCATGTACGATGGTGTGGGGCGATTAAAACATAAAAATCATCTCTGCCCCAAAGAGGTACAACCAGTCCGACCAGACCTTGAGGGCTGGAGTCCACTAGACGGACGGAGCCGGAGGGTTTCACGACCCTAATGTCCACACTCGGTGACGCGGGCCGGACAGAAGAATTTCCTTTTTCTATTTTATCTATAACCATCCACGGAGCCTATTTACTCAATGAATTCACTTCTGAATCTAAACAGGGACTCAGAGGATCGTCGACCCCGTTTTCTCTTTATAAAACCAACCACGTCAAAAATGAAAAACAGTTCTCCTTCGAATCCCGTCACCAAGAGTTTCATTTCAAGGACCTGGTCGTCGTAGTCGTAGTGGACTCTTGAGGGAGCTTTACGTCTAAGAGTCCAAGGAGGAGTCTGGGTGACGGAGTCTTTGAGACCCCGACTAAGACTAAGTGTGACTTTACGCTCTTGGTGACCGAATCTTAAACGTGCACCTCCAGACGGGACTTACCCTCGAATGACAATCACCAGAACAAGCATTTTGTCACCTATTATTCCACTCACCTTCATAGAAGACACTAAACATGGTCGGAAGATTTCTCCAATAGTAATAACAATAAATTATTTTTCGTGACTATTCACCTCGTACAGTGAGCGGAGAAAAAAAAAAAAAAAAAAAAAAAAAACCCCTGCCTCAGAACGAGACAACGGGTCCGACCTCACGTCACCACGATAGAGCCGAGTGACGTTCGAGGCGGAGGGCCCAAGTGCGGTAAGAGGACGGAGTCGGAGGGCTCATCGACCCTGATGTCCACGGGTGGTGGTGTGGGCCGATTAAAAAACATAAAAAATCATCTCTACCCCAAGGTGGTACAATCGGTCTTACCAGAGCTAGAGGACTGGAGCACTAGACGAGCGGAGCCGGAGGGTTTCACGACCCTAATGTCCGCACTCGGTGCCGTGGACCGGGTGAGTGAAGAAAACCGGTCACCGAGACCGTACTTCGACCTCCGTTTCTACGACTCCCGGACGTGATCTGTCCGAGACACGACCGACGACCAAGGCAGGTACGGTGGTTATTGGGCTAGTCCACCTCTCTCATAAATAAGAACGAAATAACTTACCTTTTAACACCGAATCGTTCGTTTTCTTCCCGACGCAAAGTCAACATCCGGACAACGGACTCTCGTAGGATCCCAGTGCTACCCCCACCTCACTCTTACGAACATGTCCACAAATGTCGAGAGGTCAAAATGACATACACCCACGGGAGCGATACCTAACTCTGTAGTCTAAGACAGTCGAACCAAAAACCTACGGACCCCTTGACGCAACAGGACCAACAGCCGATGGACGGATTATCGTCCAATGGCACTTTGGTACACTTCGTTATCTTACGTTGTCGTTCCATACCTAATGTACTGTCCGTCCGACTCACCAAGTCTTCCTAATATACGACACCTGGAATACGAAACGTAACACTTGTCACAAGGATTGACGGGTCGCGGGTACGTCTTCCCGGTCCCCCATCTCGTGGGTACACTACTTACGGTTGGTTGTCACATGAACGGTACGGAAGTGGAACGTTCGTCCCAAGAAAACATTAATCGAGAGCTTACTGTCGTTGAGACGGGGACTTTACCCACGAGACGTCACTAATTCCCGATCACAATCGACATGGTCCCTCTATGACGACACTCCTCCACGGAGACAAACCACAGACACTTTGTAATCTACGATAAATTTCACTATCGCCAAGAATCGACCGATGAACCGGAGACGGTAGACAATCACACTAATCCGACCAGACTAAGTGTCCACGTCGGACCCCGCCGACTCTAATTCGTCGACACCAGACACACCTGTCTCCTTACGGTGCCGGCCCCATTAACCGTTCCGTCCTTTCCCCTGCAACGGTAATTTTGTTAAAAAACGGTGGAGTTCACAGTTTACGGACTGGGCTAATTATCCCTTTTAACGTCTTCGTGGTTTAAGAAACATAAAAGTCGGTGGACCTTTTGTGAGTACACAGGTCTAACTAAAGAAACCACGGAAGACTAACAGACTTTTACGGTGACCCCACACAAACATACAAGAAGAAATCCTTGAAACTGTTTACTACGAGGTCACTGGGACACAACTACCACTGCAAAAACCCGAAAAAACTCAAAAAAAAAAAAAAAAAAAAAAGAGGAAAACCTAACTCTGTAACTTTTAAATCAAGACATAGAAGGTCAACCTTTTTATATAACGTCCAATAAGGGAGACGACTAAACGATCTAATAACTAGATTAAAACAACCAATTGTATTCTTCCGTTCGAGTCGACGGACGATCTCACAAAAAATCTAAGACATGTCTCATGCTTTTCGAACCCACGGTTTATGTTACCGTTTTTATTGTTACTTCTTAATTTCTAGCCCGCGCCACCGAGTACCTACATTAGGGTCATGAAACCCTCCGGCTCCGTCCGCCTAGTGTTCCAGTCCTCAAGCTCTGGTCGGACCGGTTATACCACTTTGAGGTAGAGATGATTTTATATTTTTAATCGGCCCGAACCACCGCCCGCGGACTCCGACTCCGTCCTCTTAGTGAACTTGGGCCCTTCACCTCCAACGTCACTCGGCTTTAACACGGTGACGTGGGGTCGGACCCGCTGTCTCACTCTGAGGCAGAGTTTTTTTTTTTTTTTGTTTTTTGACATAGATAATTGTAGTACAACATGTACGTAACTTTTTGGGTCGGTACCCGACTAAACTAACTAGAAAAATTCAACCAAAGAAGTAGTGTCTACACGTCCCGTAAGAGACCAGTATAAAATCGTCGACTGATCGACTACTGGAGTGTACCATGGTCGTGATCTACAAAGGTTCACCTTGTCAGGACACTACAGTAATGTTCGGACCAACGGTCCTTTATTACGACAATGTATACGGGGAGCCACGTTGTGTAAAAGAGGTCTTTCTTTCAACGTCAAAGTATACGATTAAAAACTTTACGTAGGTCCAACTCCCAAAACTTCCCAACTCTTAAATAGGAAAGCGTATCTTTTCATATTCAATTGATCAAGAACGGAAGGGATCCATGATCCATACAATTACCCAATAGACCGTCGTTGATCCATCTACGTATATGGGTAAACAAGCTCCCTAAAAATAACAAAGGTCGAACAAAGCCACTAATTACAAAGACTTCTCGAACTCTGAATCAAAAACTCTTCTAGTACTACCTGCTTTTCAAGTCCAGGTAACGAATTGAGCTCCCTTCACTACCTCTCTGTCAACGTAGTTCTGAGAACGACGATTTCACCAAGAAAGAGAGCTCACTACTCTCTTTTTCATTAAAAGATAAAACCAAAGTAAGGACAACTCTGGACGTCTACGGGTGTGAGGTACAGTCCCTCTTTCCGATAAAAAAAACCTTCATGGATCCCTTTTACTTCCATCAATCGGACTCTAAGGTTTGAGTAAAGTAACTAATTGGACGGCTATTGTCAAGTTTCAGTGGAAACAAGATTAACCCTAAAAATGAACCATCTCTAGGATTCAACCATTGTCGTCCGAAGAATCAACACAACTTCAAAGATCCTTAACTTTTCTTGTTATAGTCATTATTTTTGTTGTTTTTTGGGTGTGTCCGAAACGTTTAAAAATCTTTAAGGGAAACATTACTTTTGTAGTAGTTATTCAACCAAACCCGGTCGTATCGTCGAGCGTGGACATTAAGGTCGATCAACCCTCCGGCTTCGTCCTCCTAGCACATATGGGTCCTCAAACTCTGATCGGAGCCCTCGTATCGTTCTGGCGTAGAGATGTTTTTTATTTTCTAATCGGTCCACACCATCGAGTACGGACGTCAGGGTCAATGAACCCTCCGAGTCCACCCTCCTAGTGGACTCGGGTCCTCCAGTTCCGACGTCACTCGACACCAACATGGTGACGTCACGTCGGACCCGTTGCCTCGTTCTGGGACAGAGAATTTTTCTTCTTTTTCGACGAAAACCATAAAATAGTGTTTATGACAACTACCACAAGGTAGGTTACCAACCTGACTTATAGAAAGAGTCAGAGGAGGAACCAGTTTGTCGTATCGGTTACTAACCTCTTCAAAGGAAACTTCCGTCTAGAACCCTTAAGGGTACCCGATTGACCAGACGATCACCCGAGTCAAGAAAGTGAACACCAATTGAACGAACCAAAACTTTTGTATATAAAGACTAACTTACGGACCGACCAATCGTTCAAAAATTACTCTAAAGAGTTTCGGTGTCTGTATGGGGGAGTATTAGTATAGGAGTGAGTGTAGAGGCATAAAACAATCTAAACAAAAGAGAATCAAATATGGTTTGACTTTCGTCTTGACGTCCCATCACCCCTCGAGACTCTGTAAAAAGGGGACAGTCCTCAGTTTCGTAAGTTTACAGGACTAATCACTATAAAAATTTTCGGGATTAATATCTGAGCTCTGTCTCCGAAATCACCCCGAAATCTCTCAAACACTCTGAATTAGATCCTCGACCTTGTCCGACACAAAAATTTTAAAAAACGTAGGTATTTTTATGTCAACCGTCAGTAACCACCGGCGCCGAGTGTATTTAGAACTTGAAAACTGAATTAATGGTACCCTCTCAAGTTTCCCGTCCGACCTCACCAACTTCCTTGTGACGAGTCCCTCGACCTCTACCCGGACCGGAGTCGGGCCGGAGACCGACACACTGGAACTAGTTTAGTGAATTGGAAAGACCTACTGTAACTATAGTAGTCAGCAACCCGGTCTACCAGTGGCTCCAGAGAAAACCATGTCGGACCATTATACTAAGGTACAAAGAGGAAATTTAGTAACCCGGCACAAGAGACAAAAAACCAAGGTCTCTCTCTCTCTCTCTCTCTCTCTCTCTCTCTCTCTCATCTAATATTTGGAATCCACAGTCGTAACTCTACACGTTCCCAAAACCACCCCCGTCCGGGTCGTCGGATACCAAAGAGTGATTCAAATTTAACGTCCCAGTTTTCTTTAGTGTATTAGGATGGTAAACAACTGTCTTAGTTATGGACAGATCGTGTATCTATGGACCTTTCATACAAGCTTGACCGCCCCTGGAATTAGTCACGTTGATGAAGTAAAATATCGATTTCGAAAATTATCAGTAGGTAGGCAGGTAGGTAGGCAGGCAGGTAGGTAGGTAGGTAGGTAGGTAGGTTATTGCGAACTCACGGATGAGGTATCCGATTTCTGTTGAGGTCGACATGGGAGGTCCACGGGATGACAACAACCAGTCGTAGTCTTCCTCATAAAAAGTCATGTCTCTGTGATTACAACCTTCGTGTGTAGATAGTGTTTCTTCCCCGGGACTCTTTCTTATTGAACCGAGATCCCACCCTTATTATTTCCGACACAACCTCAGGAAACTTCCTTCAAAGACACCCAAATATTTAGAGAGAAATTGAGTAACGTAGAATTTTCTGAAGACAACAGAATTTCATTTTAAGATGAATTATAATAATGATTACACGTTACTGACAATGTCACATCTTTTACTATTACTCATCCATACGATATACGACCACTACCCTAAATTAACTACCCTACCCTAACTAACTAACACCGATCCAGACTGACAAGAAATTGGTCGAGTAAGAATCATAAACTACTAATCCTCTTGTAGTAAGAACACCATGGATAATGTAGTCTTCCAGATTCTTACAGTCTCGGTTTCCTTGGTATGGAGAGTAGCTCCAATTAAACAAAGGAAATGTCCACCTAATCACAGTAAGTAAAACTTACGGTAACCTTCAAATATGGTGTGCAGAGATAATCGACTGAAATTCGGGCGAGAAGTATGTGGAGATTCCATATATTTCAAGTCCCTTTGAGTACACAGGAATCGAACGTCTAAGTAAACTAACTAACTAACTAACTAACTAACTAACTCTGTCTCAAAACGAGAACAGCGGGTCCGACCTCACGTTACCGTACTAGAGCCGAGTGACGTTGGAGACGGAGGACCCAAGTTCGTTAAGAGGACGGAGTGGGAGGGATCATCGACCCTGATGTCGGTACGCAGTGGTACAGGTCGATTAAAAACGTAAAAATCACCTCTGCCCCAAAGTGGTACAACCAGTCCGACCAGAGCCTGAGGACTGGAGTCCACTAGGCGGGTGGAGCCGGAGGGTTTCCGACCCTAATGTCCGCACTCGGTGGCGCGGACCGGACGTCTAAGTAAAATCTATTCTAACAACTCATTTGTAGGGACAATTCGTAGATGATACCTGTTCCGACTAGAGACGAAGTCATCTAGAAATTAAACCATGTACTCAAGGAAGAGGTTTACTCTCAACAATTTCGACAAGTGCTCGGAACCATATTTTCCCCGAAGGAATCCATCTCCTCGGGCAAGATTCACGGACCTACCACAAACAGAGGTCGACAAAACGTCAAGAACCCTCCGGGACCGTAAAGGTACACACAGGAAAGGTTGACGTTTTTGTATGTCTCCTGTGTTCCGACGACTACTTCCTTTGTGTCATCCCGATAGAATATCATAATAATAAAAAGATCTAGAATGTCTAAGTTCCAAGTGTATTTCGATCACATAAAATCCTTCTCGATAACATTTTAATATTTTCTCAAGGTCGGCCCGCGCCATCGAGTGCGGACATTAGGGTCGTGAAACCCTCCGACTCCGTCCACCTAGTACTCCAGTCCTCTAGGTCTGGTAGGACCGATTTTGCCACTTTGGGACCGATTTTGCCACTTTGGGACAGAGATGATTTTTATGTTTTTTTTTTTTTTTTTTTAATCGGCCCGTACCACCGCCCGTGGACATCAGGGTCGATGAGCCCTCCGACTCCGTCCTCTTACCGCACTTGGGCCCTCCGTCTCGAACGTCACTCGGTTCTAGCGCGGTGACGTGAGGTCGGACCCGTTGTCTCGTTCTGCGACAGAGTTTTTTTCCTTTTTTTTTTTTTTCTGAAGGAGGGGAGGGCATAGTTCAAGTAATTTGTATAAACACTCGAACTATAAATTTCTCTCCGACACACGACCACACTACAATCGTCAGTGGTCCCACCCCGACCAGTGTGTACCCTCGGACCCACCTCCCAACACGGACCTAAAAAATACCACCGGGGGTTGGAACCTAGAGACTCTGGATCTACTCGTCGTGACGTGGGCATGGGACGACATACCGACACAGACACAAAACGTCTTCGTCTAAAATATCCACATCGAAACTACTAACTTTATAGTGGGCTCCCTTCACCGATGGACGGTCTTTAAGGTCGTTGTAATAAAGTGGAATCAGGAATTTAGTGAGGGCTCCGTGGTTCTGTTTCCACGCCCAACGGGTACCCGACAACGGTGTCCAGTCCGGACGTATCCACGCGCACCAGACCCGGCCAGGGACCCGACAATGTCTGAGTGGGTACCGAACCGGGTCACTCCCGTCTTTTCTTGTTGTAAGGATCAAGGAAGTCGATTTAGGGTGAAAAAAAAATCCCTTGTATTTTTAGTACGGATTACCATACATTCGTGTATAGACAACTAAAGAAAATACATTTTTTCTTTTCTGTAAGGTGTCCTAGTCGAGTCGTCATTAACTACAATAGACTTTCTCAATGACGTAATTATAAATCGATTAAGTATACTTATCCGATAACACAAATGAATTTGTTTACTGTACTCACGTCTGTGGACTGTCGTACTCCATACGAAAAGTAAATCCAATCTAAACATTTGCAGAAACACATCACTGTTTCGAGTAATAAACAAAACACGAGAGTTACCAAAGAAAAATCACCGACACCGACACCTACCTAAAAAGATTCATCTTCGAAAATTTTACTTTCAAATAACTTTAACAAAGTCATATACGGTCCGGGACTCTCAGAACCCTACTTACCCTTAGTTCATGAGGGACCACTTGGGAGTTTTCTTATCCACGCAAATACCCGTAAGTTGTGGGTCTCGGTTTACAGATGGGTCCAACGTTTACGTTGACCTAAGTTTCCTTCCTTAAGTCGGGGACAAGGAAGAAAGAGGAGGAAGGAGAAGAAGAGAGGACCGAAGCTATCAAAACGGGGAGAAGGGTGACAAAGTCGTAGTATACCCACGTGGATTTAGGGTAGTGAAACTGTGAATCTATTCGTGTCCCTATTTCTATGTCGTACCGGAACATTTCTTTAGAGTCGAGATGGAAACTGTTGTCCAAAGTTCTCGTTCGCACTTCCGATTAACCCCATCCACAAACCTACGTCGCTAAAGTTAAGGACTAACATGGGACTCAGACCGACGATTCACTTCCCCTAGGAATAGGGGGTCCCTGCACGAGATGTGGGCATCTTATCTCCTCTGAAGATTTATACGTAGTCTCTGTTTCGGGGACGGATCCCGGTAAAACGGAACCCAAACACTTGACACACACGACAACAAGTCAGATCGGAAGTAGTCTTTATTCGTATCAATACTTAATCGGAAGATGTTACAAGTTCAGGGACAACCACCGACAAAGTCTCCTTATGTCCCTAAAACCAATGATGAAACGATTCTGTCTTTGTATATACACTTATCAATTTAACGACATGTCATCTCCAAGACCTGTCCTTTTTTCCTCCTGCACACGGAACTGGGTCCGACCGAAAGGGCCTGAAGTCGGAATTTGTAGTCTAACCACCTTCCATGCCTAAGGTTGGAGCACCTCTTCGACGTAGAAGAATCGTCACCTCTCATCCCAACTTCTATCACCCGAGACCGTAGTCTGACTACACCAAGTTTAGAACCGACGTGGAGAAGGTTCGAAACACCGAAAACCGTCCAATGAATTGACGAGACACGGAGTCAAAGGGGTGAACCTTCGGTTCTAATACTATCACGGAAAGAACAACTTCGTAACACTTCTAATTACACAACTGTACATTTTTGAGAAACTCGTCACGAACCGTTTCATCTTCGAAAGTCAGCCATCATCAGTAAGCGGTAATAATCGTCTGTACTTCTTAAATGTCACCATAAGACCGAACTACAACACCGAAAATAAATCTTTTTTATATGAAATGAAACACTAAATTTTGAAAAAAGAACTGAAATTTTTTAGTGAACATAAATACTGAAAGCCCCTGTAGACCTCCCGTATTGAAATTGTATAGTAAATTAACCATCGGAGGAGAATTCAATAGTAATCCACCCCACCATCCCAATACCGTAAGTATTGGTGGTAACCTTTCTTTAAAAAAAAAATTAATTTTTTCAATCATACATAAATCACTATGTCAAAAAAAAAAACAAACAAACAAACATATATTCAAGACTCTTTACATGCTTACTGAGAGACCCAATAAAATAATATAATCTTACTGTTAAATATGATAACTAACGGGAATTTCATTCCGAGGTTACCTATTCAACTATCCCGAAAACTCTTGTTGAACGAAAATGATCACACATATACACTAGTAAATTATCCACACCGTTAGGTTTTACTAGATAAAAACCTCCTGACTCGACAGCGTCAACATATACAACAAGTATACAAATATTTTATCGTAAAATTTTGTACTAAACCGTACTTTAATAAAAGACCGTAGTTCTTGTTCTCTCTCTTCCCCGGAGTTTGTGAAAAAAAAAAAAGAAGGACAACCATCTGTACTTGGTAGGGAGAGACCCTGGAAGACGAGTCGGTCGACCTAATCTGAAGACTTTTATAAAAGGTTTACATTTATAATGGGTTTCTAAATTTTTTATCGGATCGTAAATGTACGTTTCGCTTTACTAGAATGGACAAACCTCAAATGAGTACCTCCCCTTCGACAGGTAGTCATATGTAAGATTATGACAAAAGGTTTTGTCCTCGTGGTATGACCTGGTTGTGTCTTTTCTACCTTTTCGCCGAGGTACGACACGGACGCCGGTTGTGACAGTTCAAAGCGACGGGTCGGCCCCCCTTGGGTTACGGTTGGTACGCCACCGACTTTTTGCCCTTCCTCAAATTCGTCCTCGTAGCGTAACCTCCGATGTTCCATCTTAATTCGAAAGTCTTGTAGTGTAAAGAATGTAAAAACAAATAAATAAATAAATGTAAAAAAAAAACGCTACCTCAGAGCGAGACAGCGGGTCCGACCTCACGGCACCACGCTAGAGCCAAGTGACGTTGGAGGTAGAGGGTCCAAGTTCGCTAAGAGGACGGAGTCGGAGGGCTCATCGACCCTGATGTCCACACACGGTGGTACGGAGCGATTAAAAAACATAGACATCGTCTCTGCCCCAAAGTGGCACAACAGGTCCTACCAGAACTAGAGGACTGGAGCACTAGGCGGACGGAGCCGGAGGGTTTCACAACCCTAATGTCCACACTCGGTGCTACGGGTCGGGATGTAAAAACAAATAAAAAACTTCACGAGTTTTCAATCGTCCTTAATCTTCCTTATGAAATTGTTCTTAGTTATTAACAGTGTTAACGGGTACAGTCCCAAACTATAATTTTTTTTTATAATGGGGCCTGAACGCACATTAAAATTTCATGTTAAGGGCAAACACAACAAGAAGTATACTCCTCTCAAATTATTGTCTTCCCAGCTTTCAACTCTCAGACAAAAGATATACGAAATATCACATATTTTGATTTTGCCCACACCTCAAACTCTTCGCAGTCATATCAAAGGGACAGTCTCGTCCTAACGTACTTATCACTCCCCTGAACCTAATCTCTGACCTCATACTTTATACTACGTAATTCCCTCTCACGCACCTCTACTGTCACCGTTAGACGACAGGAGGAACTTCCTAAGAACTCTCGTGCAGTGTGTTACGGTACTTTAAAATCAGAGTAGTGAGGGATCCCTCAAACTTTAACCGTCGACAGAGGGACGTCTACGGGCGCGTACGAGGAGATCGGAAACAAGTAGGTGAATCGTCTGTAACTAACTCGTGGGACACACGGTCCGTGTGAGGACCCGAGACCCCTCTACTCTCCCACTCCGTACCGGGGTCGAGGTTCCCCGAGAATCAGGTCAGGTCGTCCTCTCCGTCTCCTCTTGAGACCGTTACCCTCCCTGTGTCCAAACCAACTTCAACGTCCTCGTACAACGTAGGGTACCTACATGTACCTTTCCACTATAACCTAACCGCAAACCTTCTTATTCCTCTTTCCTCCAGTCCTTTCCTAAGTCCAGACTCAACCTTCCTTTCTACAGAGTCTTTCTCTCTCTACCTTAAAGGTTTAATAAATCATACCTTCCTCTCTTGACATTATTAACTCGTATACTTTTCCTGACTTCCTTTGGAATACTACTTTAAGAGACTACGTAAACCTTGTATTCACCCGTATAATCAATGGACAACGACGTATTATTTAACGGGGTTCCATACCATCGAAATTCGTTGTAAATAATGGAGTAACAACGGACCTAGTCCTTACTTCCACACCGAATCGACCCAGAAGGTAGAGGTCGACAGAGTGTCCTGACATTCGTTCCTTCCCAACTCCGACTCCAGAGTAACCTTCCCAATTAACCCCTTCCTTGACGAGTACACCAACGACAATCCTAAGTGAAGGAACGTCTCCCGGAGTCAAGGAGTGACTGACAACCGACCCCCGACGGGTGACAAGGTACGGTGTGCCCGGAGAAGTATCCCGTCGACGACAGTAGTCCAACTCGTTTCCTCCTCGGTCTCTCTCTCTCTCGTCCTAGCGTCTTCAGTCTCGGAAAACATTGGATCACAACCTTCCCTGTCGGTGGTGAAAACGAAAAAAGGTAATAATTCGTTCTGTGATCCCTCCTCCAACGGGTTCCTGGACTTACGGTCCTCTGTTCCCCTAGTGGCCTTGGGTAGACCCTTTTGACGTACCACCCTCCTTATCTTCTGCGAGAAATCGAGTCTGGAGTCCAGGAAATGTCGGTCCATCCCTCCTAAGGAGTCATCGTCGTCACCCCACAGGTCCTGACACAGAGTGCACAGAAATTGTGTGGTCGTAGTGAAATCGAGGTAGTAACGACATCCATTTACTCGGAGGAAAGGTGGATTTTTACGGGACGTTGGGAAAAGACTTTAAAGAATCTGTCAATAAGTAGAAATTTCCTAATAAAAGAAGACGTTTTCAAAAACGGAAAAACAAAATTGTGAATCTTTAATTGTAGATCTCCGGTTTTAAGTCTCCTTTTACCCCTGTCGGATACTCATTCAAAGATTCTTGCGTACCACCCGTCACTTGTACACTTTGTCAATACTCCGTCTAGACGATCGTCCACCCATGACAACTTCGAACTTTCATCTTTATGAAACCAACAAAAGGTGTTGAGGATGAACCACCACCTTCGTCCTCCGTCCCCCACTAAACAGGAAGACAAGAATCAAGTCAGGAATCTGGTCTATGCTACTCTAAGTTTCCAACCGGGAAAATTTTCTTTAGAAAAACTTTTTTTTTTCAATTCCTAAAGTACCCCCCTACGACCAATCTTTCCTTCTCAATTCGGTGATTTTAGTGCCGGGGACCCTAACAAAAATTGGTGGTTTACGAAAGACTTTGAGTGTATTAACTACGTCAAGGTTACTAAATAAATTTATGTTAGACTCACACTCTTACCACCAGTTTTAGGACCACCAATTGATTAAAACAGTTAATTCTGTCGGAACATTTATTCATGTTTCTCCTCGACTACTCCGAGGTCTCTGGGGACCCGAGTTTTATTTACCTTGGCTGTAGTAATAATACCCCTTCCTCGAAAAACGTTTAGACTTAATCACTAATGTTTATACGATTCTCTGATTCTCCCGGATTACTCTTTTACGACGGACTAAAAATTGTCCACGTCAAGTCACAATTAATAACTAAGGTTGTAAAGCGATCTACTTCTCGTGGATACAAGATTTTCGTTTTACTCCTGAGGGTCGTCTTTCGGAAATCGGACGGGGACACCTCACGTCTACTGGTTTCACTAAAACAACATAGTGCGACTCGGCAAAGACCTCCCTTTTCCTTTACCTTAAAGTCACACACCCTGTTTTTGGATTTTATATAAAACGAAATGGTTTTTTTTTTTTTTTTTTTTTTTTTTTTTTTTTTCCGGTTTTCGCCGTCTCCCGGTGTGTAAACCTACGTCACACGACCGCACCAGGAGAGGAAAGACCAAGAGACCACCTCTTTCCGATACCGACATCCCACCCCGCCGGACCCTCCAACCGGGCGATCAACGTCTCCACCAGTCGGATCCAACTAGTTCCCGAAAAGTGTTGTCGTCACCGTAACTTGCAAGTAAAACCTCTACGGTCTTTGAGAATCTTTAAGGTGACTCAGGGTTCCCGAAGGCCCTGAACTTTTCCTTTCTGTGTAAAGAGTAGAGGACCCTTCCAAGGAAGTCAATGGATTCCGTAGTAGAAGCGATTACTACACAATTCGGTTGGGGTCCAGGACCTCAGTGACCTCGAGTTTCTCCGAGTAAGGGTGGACACCCGGAGGGGGTACCCCTCGAGGAACCGACCGATACCGGACGCAAACGGAGTCTCTCAGGAACAACCCCGGACTGGTTCCGTCTGAAACCCCTCTTACCAGGGACCACAACCCAAAAGAGAGACTATAAAAGAAGCAATGGATGCATCTGAATTTCTTTACACGGAGACCCAACCCGTGTCACCGTGACATTAGGGTGACGAAACCCTCCGACTCCGTCCTCCTAGTATACTCCGGTCCTCGTGTTCTGGTTGAATCCGTTGTATCACTCTGGGGGTAAAGACGTTTTTTAAATTTGGTAATCGACCCGCATCATCACGAGTGGACATCAGGGTCGATGAGTTCGTCGACTCCACCCTCCTAGCGAACTCGGGTCCTCAAACCCCGACGTCCCTCGACACTAATACGGAGACGTCAGGTCGGACCTACTATCTCCTTCTGAGACAGTTTTTTTTTTTTTTCTTTTTTTTCCATGGAAACGTGTAAACTGAAGTCCCTTGATATAACAATAAAAGTAAGGAGCCGTGAAGGAGTTTTCGTTTCTCTGGATTAACTTTGAGTCTCCCGGACTGTAGATTGACTAAGTAAGGACTGAGGACAGGTAAACGGTGAAACGAAATAAAATAAAAATAAAAAACTCTGACTCAAAACGAGAACAACGGGTCCGACCTCACGTTACCGTACTAGAGTCGTGTGACATTGGAGACGGAGGGCCCAAGTTCGCTAAAAGGACAGAGTCGGAGTGTTCATCGACCCTAATGTCCACGGGCGGTGGTGTGGGTCGATTGAAACATAAAAATCACCTCTACCCCAAAGTGGTACAACCAGTACGACCAGAGCTTGAGGACTGGAGTTCACCAGGTGGGAGGAACCGGAGACGCTCACGACCCTAATGTCCGTACTCGATGACGTGGGCAGGGTAAACGGTCAAATAAATTACTTCTTCGTTTTACAGTTCAAAAGGTTCTATGTAAAAAGGTCTTTCGTTTATGGACTTTTTGAAGAAGTTTGTTTACACACAATAAAGACGTTAAAAAGAAAAAGGAAATATTAAGACAAGTAAGGTATTTGATACTAACACGAAACCACCGGACAGGTAGAGTAAGAAAGATGGGCAAATACCTAACCCGTGGAGCCGTCGGTAGGGGACGTAATGTCGAACAAAACTTTACCGTACGTACACGCCGGATATTTCCCTCCTCCCTTCTGTTTTTTTCGTTTTGTTTCAGTTTCTCTTAATACTTTACACTGTCTTTCGAGTAAAAGTAAGTTTACTGGTTATCTTGATAAACCTTAAGCCGTCAAGTCAGAACAAATAGTTTCTTGGGTACGACTCGGTAGGAATCCACTAATTCTTAGTTTAATAATAAAAATTTCACGTACTCGTTTCAGAACGACCTACAATAATTATACACTAACTATATTATCATTTCCTGAACTTAGTATTGAGATAGAGGGATTAGTATGAATAAGGACCCGAAAACGCAGTCAGAACTGGTACCCGTTCAAAAAAGTCGAGAGACACGGGGTCTTAGGGAACGGAATTTTACCCTTCTAACCGACTTATTAGGACTAGGGAAGTCCGAGACTCTTGGTATTAAATTATCATAGTGGTAGCACATCGTAGTCGGTAAAGAGAAGAATTTGTTGTCGTGTCTAAAAAAAAAAAAAAAAAATTATTTCTCCAATGGAAGTACCGATCTATAAAGTGTCCCGAGTCCTGTCAATAACGTTAAATTACGTCTTTTCGTTCTTCGACCGACTCTATTAATTATCTGGTGGAGTTAAGAGTGGAGGAAGCATCCATTAATAAATCCGTATCCCCCAAGAATTTTTGGTAGAAAATACGGTGAAGCTTCACGGACGTATCTGGTTCTCTCTAGCGTCCTGTCTCCCGAGTAAGTTGCACTGACACTTTAACCGTGTCTTCGGGAGTCGCAACCCATAATGTCCCCAAGTCCAAGGGGACCTCGGGGAGTCGTCTCTCATTTCGTAATAACTCGTACTTGGTTCATATAAAGTCTAGATTCTTTTCTACTAAAAATTTTGAAAACAATATTAGTGATGATTTGACCAACAAAACTTCGTATCCAATTAATCTAAATGTAAAAGATCCAATCAATGAATCTACAGTAAAATTTCTGAAAAACTACTTTACAATACGAATTAGGTGTTCATACAAATCCCCCTCTTTAGTACTGATTACATGAATAGTCGTACAAATATGAAATACCTCTAAAAAAAAGTCACTTCTGTAAAGTCGAAATTAGGGTGTAGTTCGTCAGAAACTACTCCTGTGTCCATATACAAACATAATCGGTTGCAAATACCTGACGAGGGGACGCAGCACTGAATGGTCCACGGAGGGTACCTCGTTCAACGAGTCAGGAAGGTGTCGGGTTTCTCCGTCTGTGACAATAAAACGGGAAAATGTAAACTCCCGAACGGGATGGGGATGGAGTATCCACCGTGTCGACGGTAAACCTGGATGCACCAAAACGTGGTCTTAAATACGAGAACGATTTGACGAACGAAGTTTACATCAAGGCACAAAACATTTTTGTGACAACGACAACTTACTCTTTGTATTACTTTCATTACCGAGGGGTTTTCGTACGTTTCTAGATCGGGTACCATATGTCAACTCTCGTTTCAACCCCTATACTACGACAAGAAAGTTGAAGGTTCTGGAGACACCCAATAAATAAACAAACAAAAACTCTGTCTCAGGGAGATATAACGCGTCCGACCTCACGTCACCATGCTTGTACCGAGTCACGTCAGAACTGGAGGACCCAAGTTCACTAGGAGGACGGAGTCGGAGGACACATCGATCCTGGTGTCCACGTACCGTGGTGTAAACCGATTAAAAATTTAAAAAACATCTCTGCCCCAGAGTGAACCAACGGGTCTGACCGAAGCTTGTGCATTCGAGTTCACTAGGAGGGTGGAGTTGGAGGGTTTCATAACCTTAATGTCCGAACTCTGTGACACGGGTCGACCAATACTCCAAAAATGTAAATAACACCATTATATACGTATTGTATTTTAGATGGTAAATTCAGTAATAGTTCAAATCATCCGTAATTAATGTAAGTACCACAACACGTTGGTAGTGGTGATAAAAGTTTTGAAAAAGTAGAGAGGTTTGTCTTTGAAACATGGGTAATTCATCATTCATGAGTAAAGGGGAGGGGGTGACGTGGACCATTGGAGATTGGATGAAAAACACAGATACTTAAACGGATAAGACACATGGAATATATTCACTTTAGTCCTATAAAAAGGAAAACACAGACCGAATAAAGTGAATTGTTTTCAGGTAGGTATAACATCGTACTTAGTTTTGAAATAAGGAAAAATACCGACTTAATATAAGGTAACATACCTATATGGTGAAAAAAAAAAAAAAAAAAAATTCTGCCTCAAAGTGAGACAACGGGTCCGACCTCACGTCACCACGTTGGAACCGAGTGACGTTGGAGGCGGAGGGTCCAAGCTCGCTAAAAGGACGGAGTCGGAGGACTCATACCCTAATGTCCACGAGTGGTGGTACGGGCCGATTAAAAACATAAAAATCATCTCTGTCCCAAAGTGGTACAACCAGTCCGACCAGAGCTAGAGGACTTGAACGGTAGGTGGGTGGAGTCGGAGGGTTTCACGACCCTAATGTCCGTACTCGGTGACACGGGCCGGGGTGTAAAACAAATAGGTAAGTAGACTACTACTAGTGAACCCAACGAAGATGGAAAACCGATAACACTTATCGGTAACATCGTTAACCACATGTTCATAGACAGGGTCAGGAACGATATTCAAAGAGACCATATATGGATCCTCACCTTAACGTCCTGGTATACCGTAAACAGACAAAACGTTTTCGTTTTTACCCCTTCTAGCACTGTAAAAATTTCTCGATTCAAGTTGTCCGCCACCTACAGGACGGCGTCGGTGGAAACACTCGTGGCTGTTCGTTGCCCGGAGATTCTTTTGTACCGAACAACATTAAGTGAAGGGTGGAGGAGACCTCTCTAGGTCACCAACAAATGGCTCGTCTCCCTTCTCAAAGACGGTGACCAGGGCTCCTAGTCTAACGGGCCGGGACAAGAGACCTGTGGAGGACTTTTCGTTTGAAGAACATAGTTACAACCTCAAATTCGTAATTGTCCACAAACGGAGGTGTAGACGTACCACCACTCGTTGTCGTCCATGGAGACAGGAACTGTACGTTCCAATCAACCGTGTTTACGAAAGTCTTTCCTACCGAAGTTCAGGGGGTCCGTGGACGACTTTCACCCCCTGACCCTACCCTCTTATTCTAAAATACGTAAAAAACAAAAAACAAAACAAAACTCTGTCTCAGAGTGAGACAGTGGGTCCGACCTCATGTCACCGTACTAGAGTCGAGTGACGTCAGAGACAGAGGGCCCAAGTTCGCTAAGAGAACGGAGTCGGAGGACTCATCGACCCTAATGTCCGTGGACGATGGTACGGACTGATTAAAAATATAAAAATCATCTCTGTCTCAAAGTGGTACAACCGGTCCGACCGGAGCTTGAGGACAGGAGTTTACTAGACGGGCGGAGCCGGAGGGTTTCACGACCCTAATGTCCGCACTCGGTGACGTGGACCGTCTAAAAAACGTAAAATTACCGTTGAGTGGACAACTTACTTGACTAGACAAGTACCCCACCCACGGAGACACTTCCGGTCCTAATGTTCTCTAACGACAGAAGGACCCTTTTAACCCACGACTATGACCGCCCTCTTTCCGAACCCTTATAGAAAGACTATAGTGTACCTGTGTCGCAAGATGGACCGTGTCTTATTTTGAAACATAGTGGAAGACGTACAAATAAGACGAACAATAGCTTGTGGACTCATAAACCTTTACAGACCTAAAAAAACGTTACACCTTCCATTTATAGGTCCACTGTCGGACCCAGAAATTGGAAAGTGGGAAGTGGAAAGTGACGCCACAAAACCACAGTTGTTTGATTTAGATGTAAGGGTCAACAGTGGACTCCCATCGGACCCTAAATTATCCGTAAAACCCCCTTACTTCCATTGTCTTCTTAAGGCTTTTTGGACAGACCCGGTGGAACACAGAAACACACCTATCCCACACCTTACAAGTACCTTAGGCGAAGAACATAATATGAACCCTCAAATCCGGTAAAACGAAGTCAGACGAAACAAAGTTATAACTTTACAATAAAATTTTTTCAGAAATCACTTGTATCAAAACTTCAGGTACGAGAGGACAAGACAATGAACCGTCTACTTTTTATTACTACTTAAGGTGTTTCTAAACCGGTACTCGTCCTTTCTTTTTCTCAGCACGAACACAACCAACCACGTCTTAAAGAAGAGAGTGACCGAAAACACAAACAAAACGGTCTAGGTAACCAAGACGTCCCCCATCGATGATAACTTACTAATAGATTCCTAGACAAAATAATATGAAAAAACAACACACACAACTCTAAAGACAAACAAACTTTCCATCTTTATTCTTTTTTCATCCGTTATGGGTATTAGGGTGACGAATTAATATATTTCATGTAACGATTGTTAAACCATATAAAAGAAAGACTAAAATCGACACAAATATCAGTCCGAATATGAAAGTCAAAATATACGTAGAAATCCCACCATTTACACAGACGAAAAAAGAAAAAAAATTTATTTAACCTTAGTACTTAATTGACAAAAAGTAAATAGTTATTGACAAATTACTATGGAATGGTCCAGACTTGTATTATGAAGTAAGAAAAATACTGATATCTGATGCGACAAACTTACTTGAAAGGTAGTCAAGTATGTCCTACTTGATACGTAAGAATTACAGAGAGAGGAACTGTCAAAAAACGAGAATGTTCGTCACGAACTTCGTCGTCAAAACAAGTACACGGAACTTCATTAACACGATAAAAGACACCCGATCGAAAGATCTTCATCTTAATTGATCTAGTTTTTTTTACACACGACGATTAAAATTATCCATGGTCGTTCAATAAAATGTGTTTCCAAAAAGAGTTAAATACAAGGGTAAGAGTTAACCTTAGAAAATAAAGGGATGTGTAAGTGGTTCATGACTTATTGTAACTAGGAAGATTAAAAACAATTAGTCGACCACTTATTGTCACAGAGTAATAACAAAATTAAACGTAAAGGGCCTAGCAATTACTCCAATTCGTAGAAAAGTATACAAATAACCCATAAATGTAAGGGAGAAGAGACTTTCGTTTCTGCCACATACACGTAAACCGGATTGACCGTTTTCTTAACATCGTGACTTTTAGACTCCTTAAATCTTTGTGCGCAACATATATAATGCAGCCTTCTCACCAAAGAAATCCAAATAAGACTTAGAGGTATACCTTTATCTCATTACTTTTTTTTGGGGGTTTGAAACACGAAAACAAACGGTAGAAATATTTCAATTGATAACATCAAAGAATCGAACGATAATTCGTTGGTGATTAGTTACCATCCTATAGGGGATGTTTTCACAGGTCGTCAGGGTGACAACCACCTAAATTCTCGTAGGTAAACCTTTTACGATGTCGAGTATTTTAAACCCAGTTATTTAGTTTATGACCTCGTTACCACATTCTTTTATTTATAATTGTCGTGACGTACCCCGTTATAACTAGATCATGGTTCTAAAGACCTACCTGTCTTTGTGGGACAAACCATTAACACGAAGAGTAACATTTTTGTAAAAATATTTGCAATTGAATAATTATAAACATCACGTAGAGGTCCTTCATTTATAAGTCTCTCGTGCACGAGAACTTCTCCCTAGAACATACCTTACGGTACCGGGGTCACTCTCTGAACTCGACTGGTATAGGGGACCCCAATTTTTTTCCCTCGTCACTCGGTTCGACGTATACGGTTCTAAATTACACAGTCGGCTCAGTCCGCTACAGGGGAGGGACACGTCAAGTCCAAGTCGAGGTAAACCTTATGAGGTACACGGTTTAGACCTAGGTCCGTGTTCTTTCTGTAACTGTCAAACTTACCCCAGGTCTCTGTCCGTGATCGGCACTAATTCCCGAATACCCGTACTGTAAACTCGCCCCCGAGTTTCTTGACTTATAAATGTCGTCCCTATTTACGACCTAATGTACCGAACCACTGCACCCCTGGGCACCGATGTAGGGATTCAATGGACGGTGTACTGACCAAGGGGCATCCGTTTCTCTCTTAGTAAAGACAATGGGAACTCTCGAACTCCACTTCCCTCCCAGAGGAAAACCCAGACACCTGGAGTTCATTTTAGTTCCTCGAATATGGATACACAGGGTACGAGAATCGTATTGCTACGGCAACATCGTGGGTCCCTAGGTCCTAAATCCATCCCTTAAGAGTAACGCGACCTTCTAAATCGTAGGTATAGAGGAGGAGGAAGTCTTCTGTGTAAGACGTACCTTCCACGAATAGAGAGAATTCCCCTCTGCGCGATCGTACAACAGACCCAGGACAATGTTCAGATGCCGAGTTGGTTCTCGTCTTTCGCTCAGAAACAGTATGTCATTTCTGAGAGGTGACAGCTAGTCTACGGGCATCTAAGTAAAAAGACGGTCTGTAAAATGGACGCTGTCACTCCTAGTCAAAGGGTAGTGGTCGAGGTCCGACAATCTGAGACTTTGATGGAAGCATCAACAGCTACTGACGTCGTCGGGTCGTTTCACCGACTGGTCTTGATAGAATTGAGTGACGAACATGAGACAATTCCTCCTTCCTCCGGTTGGAAGTAGGTCACTAGGAAAGATTCTGACAGTCACTACTCGTCGCTGGAGCAAAATCTTGAGTCGTCGTCATGGAGGTGGGACGTCAGTACCGAACGTATCTTGACTCACCGACTGTACTTTTGGCACCGTGAGGTCACACGAGAAGCGTAGAGAATTGAGACAACCGTCCGATTAGTGACCGCGACGAAACGTTTCACCTGTCGACGAGACGGGAGGACAAAAATATCACCTCACCAATGCTCTACTAAAAGAAATAAGAGATCAAAGAATATAGTGAGTACACGAACGTCTACGAGACGGACATAAACAAAAAATGCACTAATTGGGTTTTTGTGAACGTTACGGGTCCCGTACCGAGTCTTCCAGTCAACTTTAAGGACTTTACTATCGATTCCAATCATCCGGAACTGACAAATAAAAAAGTAAAGCAAAGTGACCTCACGGAACAGGTTTTGTGGACATCTCTTACTGAACCTAAGTCTATCTTTATGATTTCGGAGTTTGGGACTTCTATGTTCTACAACGTAAAACACCATTCCTTTTGAGAGCGTTCAAACTTTTAAACTCAGATACCTTTATAAACTTTTCGTCCCCCTCTTGTATTCTTACCGCAGAGAAACACATAACTACCATGGAACCCATCCTCAGTGTTGTCGACTAAAAGTGTACACGACGAATAGAAACTTTTCAGAGTTCTTCAAACACTTGCCTGCCTATATGTTGAACTCAAAACATTCCTAAGTAACGGCGGTATAAACCTTAAGACCCATAAAGAGACTCCTTGTACATATAGATAAGTCGGTGTTGGTCTCTACCCTTCCCGTCTGACTACAAGGGTCGACTTTGAAGAACTCTGTAGGTCTGTTGTAGACTCTTGATACTCGGGGAATCCTCTTTACTTAATCGATGCCGTCGTGTCTCCCGAACCTCGTCACGGACCGTATATCATTTACGAGTGATATTTACAATCAAGATGTACCAAGACACTACGGTATCTCCGACTCCGAAGGATCACCTACCCGTTTGACCATCGAGCGGACGGGCACCGGTAACCATGGTCCGACCGACCACAAGTCCGAGGGACCGGTCAACCGGAGAGGATCTCCTCGGGAGTTTAGGTAATACCATTGTCTGGGTGCGACATGTGACGGCTTATGAGGACGTCTAGACTTATACAGTTATAAACGAAGTGTCCACAAGTGGTACTACTACTACTACCAAAAGTAAAGAGTGCTAAGAATTACTGTCAATAGTTAAATCTTAAATCCACTAAGAAGGTATGGAAAGAACGGAGGAAGTCGAAGAAAAATTTAGTTCTTTCGTGTCATGAACCATAAGACACGATCCTAACAATTTATTGGCGGAAACGAAACTAGAAAAGTCCATGCTTTGGTCGTGACCTCGGAGTAATACCTTTCACACCAGGGTAGACTGTTCCCTTTAATATGGACACATCACCTCTTACTTATGCCCAGGTAGTTAGTGTGCATGGTGGACCTACAACACCCACTCAAACGGAGAGGAGCACACCGCCGACGTATGGTCGGGTAAGAACGAACTGAGCAAACTTTCGTACTTGCAATTCAGGACAAAGAGGGTATTCAAAGTCCTCTTAACCAAGTAAGAATAAGAAAGATGATAGTAAAATGTTCCGACGAAGACAGTAGACTGTTATAAGACAAAAGGTCCGTCGGTCCCAAATACTCGAAACGTACTAGGAGTACCAAGGGTTCGCAGTAGACACATTTCACCTGCACCATACTTTACAGACTGTAAAACCTTCGACTCTAATGAGACTTTTACAATTAACCCGTCCACTTTTCCCATGTCTACACGACATCGTCTGGAAACCAAAATTTTCTCTTCGTAGTAAAGGGGTTGTCCCGTTGACATCTTCCGGTCGACTTCTCATTTCCTTTTCCAGACTCCTGACTCGGACACCGACCGACCTTTTTCCACTTACAACTCCCGGGAAGTGAAGGTAGTGTTCTTTCAGTAATCTGCCATGGTTAAGTCACAGACAAGGACCGTAGATAAAGGAGACACGTTTCCCTTGGTACATATACTCGAATATTTATGTAAAAACAGTCTCACGTGTCTATTCATCCGGTAAAATTAATTTGTAACTTCTGGTGGAGCGGACAACAGAACCTTTAAGTTCAAAGAAGGGTCCAAAACGGACACTACTACCCCGAAACAACATTGATTACTTCTTTCCTCCAAAGACACAGAACCTCCTAACGATTGTATACCTTGAGATGGGTTCTGTATGAAGTAACAACGTCCTACCGTCCAATTCTAGGGAAGGTACATCCCCGGTAGAAAAGAGAAAGGACAGTACACGGAACTGAAAGTTGGACGGTGGAACTCGGAAGAAAACCAAACAGGAGGGGATTTATGTCCAACGATAGAAGACGACATCTGAGTTGAGTCAAGTGTGAGTGCAAAACGGCATTACACTGACAACCATTAAGGTGTTCGGGTGTGGTGGGTGACACGGAGACATTTGCTTCACAGAGGATGTAGTATCGGACACGCACACACGGATCATAGTAGAGTACACACCCAGAGGAAGTTATTTTGTAGAAACTTCTCCCTCTGGGGCAATGTATAACCTTAACGGGTTTTTCGGTGATTTTTTTATTAGGTTTTCGAACTAATTGGTTTAACGTTTCTAAACCAATTAATTTTAAAATCCAATTGACTTTTCATTTGTTTTGATAAAACTAAAAGACAGTTCAATTTACCTTAACCTAGATGCTCTGTGAGACGGAATCTTTCGTACTATATTGGTAATGAAGGTAAACGTATATTCGTAAGTCCCTTTTATCACAAATAAGCTTCTAAACTCAAAACAAGAAGTCTTCGGAAGTACACTTTAAACTATCCAGGAACTTATTACAACTAGGATATCTATAAGTATTTTCTCACTCAAAATCTCGAGAAAGGGGTATCTCTTTTGTACACCGTACAAAGAATCACTCTTAATGGTACAAGTCTATAAAATGTTTTGTTTGTTTTTCTCTTCATTGTGAGTTTAAACTCTTCTTTTACTAATTGTAAACACAACCGTAACTATGTGACATTTAGGTAACTAGTTTCTCGTATACTGAACCGGAAATGGACCCAAGGACACACATGGCTTACACTGCATTTTGATAAAGATAAATCCCTTTCTCTCTAAAACCCGATTTACAAGATTTATGGATTAAAACTTTAATTCATTAAATAACACCCTTTTTTATTAACTCGATATCGTCAGAAAACCCTAATATCGAAACGTATCCAGATGTGTAGTAAGTAATCCGACCCGACCCCGGTAAGATCCGTAGCACCTCAGTCTACCGCCGGTGAGGCCAGACCCGAGAACGAATTTCGTTCAAAATCCAACTCAACAATACATTTTGTAAGTTTTCGGGGAGTGGGGTGGAGGGGAAACTCGAAAGACCGCCGAGTAGGGACACTTCGGGACTTTAGAGAGAATCTCAAATCCCAACCCTAAACTTAACCCGACGACTTATTACCTTAACACGACAGATTACAATTAGGGGACCGTTAGTCAGAACAACTTTTCTCGCATACTAAGTCACCACATTACATCTCTCTCGCACCTCACATACCTCATTACGTCTCTCTCCGGACTAATACAGTGTTTAAACCCTCTAGCGGGTCGATTTGTGCCCGGTTATTACTGTGTTACGACCAACCCTTATAGGTAATTTCGAGTTGAGGTTATTAAAAGGTTCGGAACTTGGAAGAAATATTTATCTTCGGTTTTCAGTCACCTCATTTTCCGTAAAAGTCATTTCTACCTTCACACTTTATGAGAGTAGAGACGAGTTTTGGGATCATTAACGAAACGCTTCGTGATTATTTTATTCTTAACTCAGTCGATTTCTCCGAGTATATCTGCATGTCCCAACCGTCAGTAAGACTTGTAGAGTCGTTCACCTTTGTTTTTCCTAAGTTCGAATTCGTCACTTAAAGACCATCGGGTGTCCGGGTTTACACTATGTGACGACACACTATTGTCGAAAAGTCGGTGGAGAGACAAAGTGTCTTTTAGTCTTTGGGAAAGGGTCACTTTCGCTTCAGGGTAAGAACGGGTGTAAGAAACCCCAAAATAAAAACAAAGATACTATGTATCTAACACCAAGTCTATAATACTTCGTAGTTCTACCCACTCTAGAAAAATAACTTTAAGAAGGAACCTTTCCGTAAGGGTATTCGTGAAATTACATTTTCGGCACATTAAATTCACTGTAAGAACACAAGATCTTAATTTGCCGTTCGGTAACAACACACATTCCCTTTACGAAAGTAAATACCCTCGGGAAAATCCTCGGACCGAACTAGGAGTAATTTTAACTGTGGTAATGAAAAGTCGATAAATGACGTTCCCTTTTAATCACACTACGAGGTGCAAAACCATTAACACCGCTATTATTTTACCCGAGGGGATTTCATCGACACCGAGGCCCTCCACCGCTCGGAAGTGGTAGCAAGTAGTAACTCACCATGGTCTCGGGACCTAAGACTGACTCCAGGACAGTGACACTTCGATGTTACGACCCTACTGAGTAACGTGAAAGGAACACAGGTTTTTACTTCCTTGACCTTGAGTACTTACAATCTTGTTTTTTTCGCCGAATACGGCACCTTACTTGTCGTCCAAACAGGCACCGGTATGGACCCCGGGGATCACTTAACCCTGTTTAATAAATCGAAAAGACTCCGAGACAAAATAGTAGTCATTTTAGCCTTACTACTATGAATGGAGTAAGGATACTACCAACATAATCCAAAGGATCCCATGGGGATTGTTTAATGATATTTGATTAACCGAATTTTGTTTTCTTTAGATAAGAGAATGTCAAGACCTCGGATTTTTAAGTTTTAATTCCACAACCGTTCAAGGTGCGGGGAGAGGGTCGAAGACCATCGACAGGAACCGAACATCTCCGTGGCGAGGTTAGAGACGGAGGTAGAAGTACATCAGTACAAGAGTGACACACAGAGTTTTAGAGGAAGACAGAAGGAGAACACTCCTGTGGACAGTGACCTAAATCCCGGGTGGCATTTAGGTCCTACTCGATTGGAACTATAAAAATTGAATTCATGAAAACGTTTCTGGAAAAAGAAGTTTATTCCAGTGTAAGGATCAAAGGTTCCGAATCCTGCACCTGCATGGAAGAGTTTCCAGTGGGAAGTCGAGTGATGTAATCAATGCTCCGTAGTCAACCCAATCGTCTACTTTTGTAGTCCGACCGTCCATCCACCGGTCGTTGTTTACGACCAAAGGAGGGAAGGTTTGGTCCTAAGAAAACTCCCAATCTTACCTAGAAATTATCGAAAATAATCAGAGTTAGTCTTCAGAATAATTTGTTTGTCTTACGGTAAAACCCCGACCCGTACCACCGAGTGTGGACATTGGATCGTGAACCCCTCCGGCTCCGCCCGTCTAGTGGATTCCAGTCGTCAATCTCTGGTCGGACCAGTTGTACCACTTTGGAGCAAAGATGATTTTTATGTTTTTAATCGGCCCACACCACCACCCGCGGACGTTAGGGTCGATGAGCCCTTCGACTCCATCCTCTTAACGAAATTGGACCCTCCACCTCCACCATCACTCGGTTCTAGTACGGTAACGTGAGGTCGGACCCGTCGTTCTCACTTTGAGGTAGAGTTTTTTCTTTTTTCTTTCGGCCCGCGCCACCGAGTGTGGACATTAGGGTCGTCAAACCCTCCGGCTCCGTCCGTCTAGTACTCCAGTCCTCAAGTTCTGGTCGGACTGGTTGTACCACTTTGGGGCAGAGATGGTTTTTATGTTTTTAATGGGTCCCCACCACCGTCCATGGACATTAGGGTCGATGAGTCCTCCGACTCCGTCCTCTTAGCGAACTTGCGTCCTCCGTCTCCAACGTCACTCGACTCTAACACGGTAACGTGAGGTCGGACCCGCTGTTTCACTCTGAGGCAGAGTTTTTTTTTTTTTTTTTTTTTTTTTCGGTAAAACCCTGGATGTCTGCACCGGTCTCCGACTGTAACTGTAAAGGACGACTCCAAAGGTGGAAACTAATTACGACAGTAGTTCCGGTAGGACTCTGACTAAACCGACAACCTGAACGTCCTCTCCCCACACCTCAAACTCCTGAACTTCAAGTACCTCAACCGAAGAAATGCGGGTGGGGAGGGGAGGGGGTGAAACGTCACCTCCTTCAAGTCCAAGTCGACCCCATTCACTAAACGATTCATTCCCGAACCTCGTCCGTAAGACCTCGACCCCGGAGGTAGACCCACAAGAGGTGCGGATAGACATACTTACGAGGAACGAGAGGTTCGCCTGAAGAAGTAAACTACAAGTGACACCACACAAAGTCATCACTGACGGTGTCGGGCTGAGATTCCTCCACGACGACAGTGGGGTGGGACGAAAGTCAAGAAACGACGTCTTCTGTCTTACACGCCCTCTTTCTACCCTGGAATTTTCTGATCAACGAGAAGGAGTGAGTACATCTGCTAAACCGAAACTTAGCACTTAATAACGAAGAAAACCCGTAAGGTCAAGACGTAAAGGTCTCTGGGAGTCCATACAGTTCGAAAAACGGACCGTAAACTATAAAACCCCCGTTTCATGTCACCTTCACCTTTACCACGGAGACCAAAACAGTTCCGGTCTATACAGAAGAGAGGTGAGGAACACAAAAAACTCTGTCTCAGAACGAAACAACGGGTCCGACCTCATGTCACCGTACTAGAACCGAGTAACTTTGGAGACGGAGGGTCCAAGTTCACTAAGAGGACGGAGACAGAGGACTTATCAACCCTAATATCCGTACACGGTGGTACGGGTCGATCAAAAACATCAAAAATCATCTCTACCCCAAAGTGGTACAACCGGTCCGACCAGAGCTTGTGGACCGGACCTCACTAGGCGGGCGGAGCCGGAGGGTTTCACGGTTCTAATGTCCGTACTCGGTGGCACGGGCCAGAAAATAGTCAAATTGAAAGGTCTTTAAACAAGGGGGACGGACAGGCGTAGGGAAGTTTACTTTCGACATTCGTCGTCCGTCAACAACAAACCCCCGGGTAGTCTCCGGCGTACAGTGAAGACCTACCCAGTCCGTAGTGATGGTCGGGACTGAACTACCGCCGTCTAGTCGTACCGTGACAGTTGATCGGGAACTGTATTTAGACAACATTGAGTCGGGGTCTGTACTATCCTGTGTCGGACTTTCGCGTGTCCTTAGGCATGGTCTCGCTTCAGGGGGGAGTCCACACACAAGTTCTTACTTCGCAGAAAATAAGGTTCGTGACTGACTATTCGAGCTTACACCTCAACTGTGGACCTTCCCTCAAAACCCTCGAAAACCGTCGGGTAGGGGTCACCTTCTTCCTCCTTACCGACTTTAACAACTGACGAACCCCGTCGGAGACAGGGTCCTTCTGTTTCCGAGGTCACACTATCGACTCGACCCCGGTCCCCTGCCTCCGTGCCGCCTCAGGGAGTTTGGTGTCGACCTCACACTTCAAACCTGACAGAGGACCCAACCCTTGTTTCATCACCAATTCATTTACTTCTTCGCCACCGGATCAATTAATTAATTGGACAATTAAGTAATGACTTCGACAGTTCTAAGTCAGTAAGGACGAGTGAACGAGCACTACCTTCCGACGTAGAGTCAGAGCCGAAGGTAGTGTGACACCGAAGACCTACCTTAAAAACAAAGACACACACTATTCCTCACCGACACCACCGTAGTAAATTTACTGTACTAAGACGTGCAGGTCTCTGCAATCCTATAACTTTCGGACTGGTAATGGAAAATCCAACAGTACGAACATGGACAAGGACCGTGTTCCAGAGCCGAGGCATCTCGGGACACCCCAAGACTTGAACTTCGGAGAACTGAATCTCCGAAGGACCGGTCCCGAGTAAACTAAAAGGTATGAGGACTGAAACGACGGTCACTTAAGAAAAGGTAAAGAACGAGACTCACATTCTGAACCACAGGATGGGACTGTGCCCGAGACGTACGGTCGAGATCTCAACGCTTTAGAGTGGCCTCCCCCCGTCTTTCGGGGAGACAACTCTTCCCTAACCCCACCGCACGGTCCATTACCCAGTGTCGCTGTCGGAAAGATTCACCCGAATAAATCAACTGTCTAGTGCCTTGGCCTCGCCTCAACTCCTCCTTCGTGGAAGGAAAACGGCGAAAGCACAGGGGTCGTCGGTAGAGTAGGACAAGAATATTTGGTAGCGACAGTGTCTGTTGGGGATTCCCAGAGATGAGACACGGTCTACGGGAGAGACCTCCAAGTCCACCTTTAATGCACCTCTCCCCACAGTTCAAGACAAAGGTGGGAACGATTGAGATACCGGAATCTTTTCCGTACCTTGGAGACTCGGAGTCAAAGGAACGGACATTTTACCCCACTACTGACAAAGGAACATCGTGATACCCCTCCTCCTCCACCATCCTCTCCGTCGCGAAAATTTATTATCATGGTACGTTGACAATCAGCAATAACACGCAACCAGGGTATGAAGGAGAACGTAGAGGTCTGTCTCGGCACGTGGGACTCGGGTAGGACTACTTTCCTCCCCAGTCAGGACAGGAAAGGAGGTCCTATCTCTAAAGTTTTGAAGGAAACCATCGATGACAAATTACTCGAAAACTAACGATGTTTCGTCGAAAAGTAAGGACAAAGTGTTGTCCCTAGGGCCCCCCGTTTCCGACCAATCACCGTCGATCTAGTGAGGTTTGCATGACTGACCGTTTATGTCTGAGAGGGCGTCTTGACTGGGGTCGTTCTTCGGAAACCCTCGTCCACCATAAGACGCCCACGGTCGAGGGACCCCACCCTCGTCCGTGTGCGGTCGGACCTACCCCGTACCATCTTGAGACGCTACAGTCGAAAAAACAGTGTAAGAGACGTCCGATGGGCAACAGGAAACGGGGTGGTAACTCCTTCCTTCGGAATAACTAACGAAAGCTAAGAACGTCCCCCGGACCCACTCCACCGACCTCTCTCCCGATTATAAACCAGACCGTAAATTAGAACCGTAAAGTAAATACCACACCCGTTTCTCCTACATCTTCACAATTTTAGTTCAATTATAGAATGTCAAAATACATTCTTCTCCAATGGACCTCTAAGTCCACTCCTACCCCGTCTCTCTTTCGACGAAGACAGTCTCGAACCCGTTTATTTGAACGGTACTTTACAGTTAAATCACTACCGTCATTCTCACACGTCATTACACGACCTTGAATCGCTCCAAAGATAGTCGCACACGACTTAACTTTATTAGTTTTTTGTCAAATTATTCAACGAATATAAACCTCAAAACACCAAGAATTGTAACGTTTAAGACTTCGTTCTTTAATCTCAAAGAGAGATTTGAGTAAATGAGTACACCGAAATAGTTGCCGACGGAAACATTTGGCTTTCTGGAGTCAACCCTTCAAAATACTCTGCCTCAGAACAAGACAACGTGTCCGACCTCCCGTCACCGTACTAGAACCGGGTGACGTTGGAGGCAGAGGACCCAAGTTCACTAAGAGGACGGAGTCGGAGGACCATCGACCCTAATATCCGCCTGTAGTAGTACGGACCGATTAAAAACATAAAAATCATCTCTACCTCAAAGTGATACAACGGGTCCGATCGGAACTTGAGGACTGGAGTCTACTAGACGGGCGCGTCCGGAGGGCTTCACGACCCTAATGTCCGTACTCGGTGGCGTGGACCGGACGGTTGAGAACAATTCTACACTCACACCTTACGACACACAAGAAGGGGAAAATTTTCTACACAGACAACCAAACGAAAGTGCCTAAGGGAGAGGGAATCCTCTGGGCCGACAACATAAGTACCAGAAGTACGAACCAAACAAAAGTGTCAGTCTCTTCCATCCTACGACATCCCAAGATGGATGTCCATCCTACACGAGGAATGAATCTCTAAACCTTCCCACCGTAGTCTCTTGGTGACACGCAGAAAGTACTATCGACCAGTTTACACCCACAGACACCCTTTATCTACCGGTTCCCACAGCCACAACGACACCCCTCCAACAAGACAAAGGAGAAGACTCTTCTCTGTCTACTCCGCTACTCCGTTACCCTCGGAGTAACGAAACCGAACCTCCCTCTTTTATCTCGTCTCGAGAGATCGACCCTAAAACACATAAACGACTCAACGTCACCAATTAAGAGATAGGAACTTCGTGCACCGTGCGAGTGCGTCGGAAATACACCAGCTCTCCCACTGTCAGTGAACTTACTCCATATTCCGAAACGGGAGTACCTCAAGGAGTCCAGTGTAAAACTCCAGCTTCTGGTATTTAACCCTACCTTTAAAGATCTAGAACTACCTTGAGGTTGAAAAAGAGAGAAAGAGTTTCGGAGACCTAATGTCCTAAGAGAGTTTGTTCCGACCGTCCTTAAGACAGGTAGGGTTTATTCATACGTTTAGATGTCCAGTTTACCACGGGGTCTGTATAAGGGGTGACCTAGTCCCTCTAACACCAGAAAACTCTCTGTTTGTAACTTATAATAAGATCATCCTAGAAAACCTTTAATACGAGATAATCTTTTTCCTTGAAAAGTAAAATGACCAAGTCACATGTGAGACCTGACTTTGACTTTCCATTTCCTGAATCGGGAAATTTAAAATGTAAAACCGGCCCACACGACCGAGTGCGGACTTTAGGGTCATGAAACTCTCCGACTCCGTCCACCTAGTAAACTCTAGTCCTCAAACTCTGGTCGGACCGGTTGTACCATTTTTGGGTAGAGATGATTTTTTATGTTTTTAATCGGTCCGCACCACAACACACGGACATTAGGGTCGATGAGCCCTCCGACTCCGTCCTCTTAGTGAACTTGCACCCTCCGCCTCCAACGTCACTCGACTCTAACACGGTGACGTGAGGTCTGACCCACTGTCTCACTCTGAGGAAGAGTTTTTGTTTGTTTTTTTTAATTTTATAATTTTTAATCGGTCCGCAGTACCACGTGTGGACATCAGGGTCAATAAGATCTCCGACTCCGTCCTCTTAACGAACATGGGCCCTCCGTCTCCAAGGTCACTCGACTCTAACACGGTAACGTGAGGTCGGACCCGTTGTCTCGCTCTGAGGTAGAGTTTTATTTATTTATTTAAAATGTAAAACCTGACTTTTTTGTTTTGGTAAGACATACACTCTGAGAGTGGCTCACAAGTATCCCTCCCTGACCCCGACCCCGGACTGAACTCCGAAGGGTAGACCGAACCTGTCACTCTTCTCGTCACCGCAAACCTAACTTCCGAAAACACTAGACCCACTGATAAAACTTCAAAGAGAAATCCAGTACGACATGAATCTTCATAGATCTTGGCACTAATAAAAGTCAAAGACTCAAAGTAGAGGTTCTTTTGTTTACCCTAAATAACAAGTCGGAGAGTACAATAAGGATAGTTTCCCTCCGTAAAGAACAAACGAGTCTACCCGACTTTCGAAAATGAAGACGAGCTTGGCGGGATCCTCGTTTTGTTCCGTACACTCTCTCTACTCGTACTATCTAAAAGATCTGAAGAGATCTTCTTTCCGAAAAATCTACCACTTCCAACTACTTTGGACGGTCGTAAAAATGTTACCTGTAGGGAGATACAGACGTGTAGAGTTAGAGGAAGTAAGAATGATCACCGGTTATACGAGAAGAAAGTGCCTACATCATGTTAAGCAAATTAGTATAATTTGTTATACTAACAACACGTCTAGAAAACAAAAGGTCATTTTTTTTGGGATGTCGCTGTTCGAAACAGGTGTGAATAAATCACCCGTAGACACACTTATAAAAAGATCCTGTCTAAACATTTCCAACCAATTGACCTAGTAAAAACTATCTAAAGTCAGTTTGTAAAATTTCGATTCCCCGGAATGAATGAACCTCACCAACGACAGAAACTGCCTCCCGAGGGGACACCAAACCAAAAATCGAAGAAACGTTTAGTAAACTCTCTTCTATGAGATTAACCCTCAAGTGGGTAACATTATTCTCCCATATGGATTAAGGACCTGTAATTTTTTCTTGTTTGAAAAGGTCGAGCTTCCTTTGTAAAAGAAGGGGACTTCCTTTGGGTCGATACGTCTGTGGTCGACTATTAGAACGTAAGGACTTTCTACAACGTGGGGATACCGTTCACCGCCGACGACTCCGAGACTGCACTGAGGGTCCGTACTTGCGAGAGTCGACACAAATGGAGTCGAGGAGCCCTCCCTCGGACCCTCTGACTGCGGACTCAAAATGTAGTCACAGTTTTGGGTTCGTGTTGGATCCCTCCCTGGAGGACGGATCACACACACCCAGTCCTCTATCTTTTCGAGAGTGACTCATTTGACCTGTTCCAGTTATATGGAGCGACTAACTCTTCCATCCAAAAGGTACTGGGATCTTTAACTAGAACAAGTGAGACTCTATAACAGTGGAAACAATACAGAGGAAAAATTTTTTTTTAACACCATTTTATATGTATTGTATTTTATATGGAGACATTGGTAAAAACTTACACATTAAGTAAATGTAATTCATGTAAGTTAAACAAAACGTTAATAGTAATAACAAGTAGAGGTCCTGAAAAGGTAGTAGGGGTTTGGTACTGAGGAAAATCGTTTTCTCTGGTTAAAGCTTGCATTTAAACCGTATTATTGAGAGACCAATGGTTTCTTAGAAGTCAAGACCACTTTGAAAAACTTCCGTCTCTCGAGTCTCACAGAATTTGTGAACCCCACATTTATTGTGTGTCGGGATGAGGACATTAAGCGGGTTCTTCTGGGTTTAACTATGGGTCGACCATCTTCGGTGAGTTGGGGTTCGGTTTATTATGTCGGACATTGTAATTAATCCCTTCCATGATTATTATGTCGGACATTGTAATTAATCCCTTCCATGAAACGGAGGTGGACGAAACCAGAAGGGTCCGGGACTCGGGTCGGTCGTGAAATGAGAGAAGAAGTGAAGTAGCTCGTTCGTGTTTCCGTAATCACCACAAAACGAAGATCGTAAAGTGTCCCACGTCGGAGGTATTCAGTGAAACACTGAAATCACGACCTCCCTCCTGTGAAGTAAAAATGGGTTTGTTCAAACAAGGCGTCTGAAGTGAGAGAGACGTTTCTCTGCACACACAAAATCTCCTTCACCCTCGGGGTCGGCTAAGACGTTCTGAAGGCTCTCAGTCTATAGGTCTGTCTTCTACGCCTGTGGACCCACTGGTCTGTCGCTTCTCCTTTCTTGTTTTGCTCGTACACGGTTCGGACACTCCCTCTTTCCCGTTGTTTGGTCACTGGAAGGTGTCTTTACACAAATTTGTTTTGTTTTGTCCACTAAGACCCACGGGTCGTAGGGTCGGGTGAGTAGATAAGATCCTCCACTGTTCGGTTCTATGACCGACACCCGTGGACCCGAGAAAGACTTCCACCAGAAGGACCGGCAGTATCGCAAGGGAAAAAGACGATTAGTAAAAATCAAGACTGGAAGGAAACACGACTAGAAGTCTTCGACCTCTTTCGAAGCATAAAGACCCTTTTGTTTTGTTTTGAGTCTTGGGTTGCTCTAAATCGGACAGTCCGAACTCACGCAATCCACCTCAGAACTGTTCCGTTACTTGAGTAAGATGATTAACATTAATCGCACCCCGGAAATCGTTCAAGACCCGAGGAGTCTGAAGTCTCTCGAAACTAGCCGGAGGAGGAGGAGGATTATTGGTACGGAGTACGATTGACCAAATCACGCAAAAATACGTTGTTTTCGTTGGTGGCGGATGAGAAATCTTTTTTCGATCCGTCCGAAATCTTTTTCTTAAGAGTCAACAAAAGTGAACAGGAGGTTTAGCGTCTTACAAGAAAGGGAAAAGTCGAGAAACCGCAACGATTCTCTGACGGTAAAACCTCCTTTCCATTAATTTAAAACTAAAATTAAATTTCTGTCTCGTTCGCTCCAATAGGTGCGAGGAATGTACTTACCCCCGGACTCTCGTCCTCTGACCGACAAAGGTCTAGTTATGACCCTTGAGGCACACTAAGCTCAGAGAACCACACACTGACGGCCTCTCTCCACCGAAACTTTACCGAGAAACACCGTTCATGACGGATTGAAAACCCCTCTTTACGAGTCCTCTGGTCACACTCGACCCTTTGGTCGGTGAGACACGAACTAATTAAATATCCACATTAAATTCTCGGACCAAGAGGAAGACTAGGGGCCCTACGTACAAATGACTCGGACATCTGTACTCCGGAGAGCCGAGCCACCTGTAAAAAATACCGGAAACGATACAGTCTCGTTTTCAACATCTAGAGAATACTCGTTTGTATAATGATACAGGTCTCCTCCTGACCGTACAATATTTTAAAGTTACCAGTTAATTGTTTCTAAATAAGAAACAGTGAGTCCATAAAAAAAGGAGAGAGAGAGAGAGAGAGAGAGGGAGTTATTACTGGAGAACCTTCCTTCGTCCGACACGAAAGGACGACGTCAGAAATCCACCCAATACCGAGGGTCGATGTCTCGTCCCGAACTGTCTCGGGTAGGACTATAAAGTTAAGAATCGTCGACCCGAAAGACGAAATCATCTCACCTGTGAACTTCTTTCCCCCGCTCTGGCTCTCACTCTCTCTCTCTTGCGACCCTCTCTTACATAAAAAATTTCGTGAAGTCGGACACAAATGATGCGCAAATAAACCACCTTGGAGTAAGGTCGTCACGTCGGTTGACAGGGCCGTCGTCACCGGCGTGGGAAACCTGACGAAAGGTAAGGCAGAATTAAACCTTAAGTGTGTCGGTGGAAGGTTAGTGAGAAAACTTCCAAGAGTAGAACAAGGTCCAGGTACGTGACACGTAAACGTTGGACGACTTGGAGTCTTGCAGATAAGAATATACACATATATACATTAATTTTAATGTCATTTGTCTCCTCGATGAGTAGTCGGATAAAAGGTACACAAATAGAGTGAGGGAAACATTTTTCCTTTTAGACAAAATATATTATAGACTCTCAATTTGTACGATCTTCTCTTAGAACGGATTTTGACATTTAGGAAGGACAGGAAGGACCACCTCTTCTACACTAAAAACAATAGTGTATCTTCTTCTCTACTTGATCGTGACCCGAAATCAGAGAGCGGGTCTCTATTATGTAGTCCCCTAAGAAAAATATAGTCAAACAACGTTTTTTCAACGTTTGAACTCCCCAAACCAAACGGGTCCCTGGCCCCTCCAAGGACCACCCCTCTTGTGTACTCGAGAAACCCAGTAGCAGGGGAAACAGAGACGGCATCACGGGCGACCCGGTCCGGTGCTTCCCCCGGGGGTGAGACGGGTCGGACGTAGGAGCAGGTGGTAGACGTGGGACGGTAGTGGAGCCAAAAAGTCTTCAATCCTTTCCTCAGGTCCGCGACAGTAGGTGAATGACAAGTGACAAAGACTCCAAGAATCCCTAAGGCTCCCCACCACCTAGCGACTTCCCAAGCTCTCCTCCTCGCGTCGCAAGCCGTCTACGACCGTAGGACCCGGGAAAAGGTTCTGCAGGTCCGGAGGAGGAGGCTGAACAAATTCCCGTCTCTTATTCCAACGTTTCCTTTAGTTTCGGACTACACCTCTTTACTTTGTACTCTGGATGACTGAAAAATTTTTGTAAAATTTATTGTAAGAGATTCCAAAGTAAAATATGACTTCCGTCGACATTATTCAAACCTTCTGTCACATTCCAAAGATAATGTCTTGTTAGGACGAACGTCAAAAAGATGGTCTTCACTCTTTCCCGCCTCCCCCTCACCTCCACCAATTCTCCAATAAAACATATTCCACTCTTTTAAACTTTTCTACTTAAGTTCTGACGTTCGCACATTGTAAACCATACGACATTAAACGTTTACGTTATTGTAATTTGGTAACGTTTGAACCCCACACACACACACACACACACACACACACACACACACACACACACATATGTATCGGCCCTATCGTAACCTTATTGAATTATTGACCTCGAGTCGTCGTGAAACTGGTGTTCCTTTTGTTCTGACGTCGAGACATCACCCGGGACGGTCACAACGGAGTCACTGATTTAAGGGACGGCTTCGGACCGCGTCCGGTCTCTACAGTCCGCCCTACTTTCGTGAGTAACAAGTGCCCCGTAGTACCAAACCATGACGTACGTGTTACAAATGAACACTTTGCTAAATAATCTTTGTTTATACAAATTCTTTCTCCTGAACCAAACTTTGAGTCAACTAGACCGAATACTGTAAATTCTAAAATACTGGAAACAAAGATTCTTATCTACACATCCGGGTGACATTTATAAATAGAATTTTGCGTGGGTGTGATGTGTGTGTGTACGTACATGTTCACGTTTTGACCTTTTGCCTCGGTCCCGTACTTAACTATGATTTCAAGTGTAAAGACACACTTCCTTATTTGGAAGAATGATAAACGATCCACGTATCCTCGTATCAAACACTGGAACAGACCGTCCTAGATCGGGTCTCCTGTCGAAGGGGAGCACGACACTTCAGAGAACCATCCTCCGGACCCCTCCTCTCCTCGCACACAGACAAGCACGCGCCTGAATTGAGACGGGAAGGGTGTACCTACTCCGGTCGACCCTAATTTAGTCTGGAGCCAGTGACGGGCGACACCTGTCCAGGGACCCCACAGGTCGGTCGACGATCCGGACTGGTCCTCCGAACGACCCCGGGTAGGGACCCAGTAACATACTCGGTCTCTCGTTCCCAAAGTGGACTGCAGACTTCCCCGGGTCGAAACTCTAAAAGACGGGTGGTTGTGGTCTTCAGAATTGAAGTCCAAGAAACGAGTCGGATGTACCCGTTATATCCCCGTCTACTTACTAAAGAAACGCCGAGGTCATAGGAATAGAAATATTACACTTTTGTATCTACAGACATTTCACTACCCTCTAAGACCTTACTTTACACGATTCTCATTGGTGATCGTGAAAAAGAAAGAAAAATTTCTGGTCGTTGTCCGAATACGTCATTTCAGTTAAACGTGTACCAGACCGAGAACAGGTTGTTTAAGGTGATCTACTACAAAATTAGACTTTCCAGGTTACTACATCTATAGATAACAAGATTAAACGACAAAGGTCGGGTCACGTACCACTAAGAGTCCATGTCACGTCTCTGTAGGAACCACACGACTCGACCGACTCAAGAGGAGTAAAGGGAGTCAACAAAAAATTGTGACCTCCAATCCCATCACCATGGGTGTGGATCCCCTCCTTCTCTCCCTCCTCCGACCATTCACGTCCGGACAACCCTACCTCAACATAAGTACATACCTGTGTACTAACACAAAACACACCGAAAACTGTCTAGACACATCCTTCCAAGGTCATTCAAACATGCTGTTCTAGTCCATCGTCAGACCACCAGACCACCAATAAATTAAGAAAAATAAAATAAAGTAAAATAACAACGTTCTTACGATTCGTACTCTTGATGGTAGAGTGGATTCAAAAAAAAGAAAAGATTCTGCCCCAGAGTGAGACAACGGGTCCGACCTCACGTTACCGTACTAGCACCGAGTGACGTCGGAGTTGAAGGACCCGAGTTCGGTAAGAGAGTGGAGTCAGGGTTCATGGACCCTGATGTCCGTACGTGGTGGTACAGACCGATTGAAAACATAATAAACATCTCTATCCCTAGAACGATACAACGGGTCCGACCAGGGTGTGAGGACCGGAGTTCGTTAGGAGGACGCAGTCGGAAGTTTCAAGACCCTAATACGAGTTTCCGTACTTGGTGACGCGGACCAGAAGTTGATTCAAAAGTCACATGTTATGCAACAACAACTGATATCCGTGCTACGACACGTCGTCCAGAGATCTCAAACGAGTAGAACGAAATGACTTTGAAATACGGAGAACTAACGTTGAGTGGTAAAGGAAGGGACAGGGTCGGGGACCGTTGGTGGCAAGGCGAGAAACTAAAATACTTACGCTACTTAAATCTATGGAGTATAGTCACCTCAGTCCGTCACAGACAGAAAGACACTGATAGGACAAAGTGAATCGTAGTACCGAAGGTGCAACAGTGTATAACGTGGTAAAGGAGGAAGAAGTACCGACTTATCATAAGGCAACACATATATCGGTGTAACATTTTTAATTAGGAAACCGTCTGTGAATCTAACTAAGGTAAAGAACCGATAACAATTACCACGACGTTAATTATATCCTCACGTCTAGGACTAACGTCAAGAAAATCTATTTATCTCTTCACCCTAACGTCCTAGAATCCCATCAAGACAAAAATTAAAAAACTCCTTGGAGGTATAACAAAAGGTACCACCGACGTAGTAAAATATAAGGGTGGTTGTCACGCGTCCCCAAGGTCACAGAGGTGTAGGAACGGCTGTGAACAGAAAAAAAAAAAAAGAAGGGTAGGACTGTCCACAGTACACTATCGAGGAACACCAAAACTAAACCTTGCGCGGGCTAGAGCAGACTAAACGTAAAGAGATTACTAATCACTGTAACTCTTTGAAAAGTATGTGGATCACCGGTAAACACAGAACCTCTTTACGTATCAATTCAGGAATCGGGTAAAAAGGTACCCATAATGAATTGTGAACTCCTCAGAGTACACACCAACGATCGTGTGGAACCGAACTAACAGAGGTGTTTTCAAAACGTCTCTGGCGGAGAATCGACCTCTCTTCGGAAAGGTCCGTATTCTACTCTCCCACATAAGAAACAACTCTTGCACAAGAGCTTCCTCTCTCTCCGTTCTGTTCACTTCGATCCTTCATTAAAACCCTATGGTAGAGACGGGAAAATATCCCGTCAGATTTTGTATCGGTCCTCAACCTTTGGTCGTAGAGGAATACAAAGTAAGTCACGGTATAACCTTATTCGATTCTTTGTAGATGAACACGTAAATCATTGACCGTATCTCATTGTGGACTATAAGTAGTTTCTCGATTTACCCACTTATTTCTTACTTACTTACCTCACTTAAGGTGTTATTTCTCCACTTAGGGTAATAATTAGTTTAGACAAGTATTGAAACCCGAAATCCGAAATCAAATTAAAAATTTTGTTTCCAACCTTCAGAAGAGTCTCGTAGAATCTTTACATGACCTCGGCTCGCACCACCGAGTGCAGACATTAGGGTCGTTAAACCCTCCGGTTCCGTCCACCTAGCGAACTCGTATCCTCAAACTCTGGTCGGGTCCGTTGTACTACTTTAGGAGAAAGATATTTTGTAAACTTTCAGTCGACCCGCACCACCGCCAACGGACATCAGGGTCGATGAGTCCTCCGACTCCAACCTCTTAGTGGACTCGGACCCTCCGACTCCGACGTCACTCGGCACTAGTACGGTGACGTGAGGTCGGACCCGTTACTTCACTCTGGGGCAGACTCTTTTCTTTTTTTTTACATAACCCTCTGTACACGGATAACTTTGGTAAAAACCATAAGTCTCACAGAAATTTCAATCAGAACAGTAAACGGACACTACAATTCGAACACCAACTCCACTCAAAAACTCTAATAGAGTTTATCCTATTCACTTCTTCGAAGGGAGGGGATGGTAAACAGTGAATCTAACAGTCTCATCTTAAAGAAGGGCATAAGTAGTCCACCGTCACCTGTCGGTTATTGGACCCTACATTATTCAAGAAAAGAGTTAAAAGATTCATTCACAAGAAAAATGTTCCCAGCGCGAGGCCGTCAGAGGAAACTTCAGCAAAGACAATAAGTACCCCGGTGTCACAATAAAGTTTCCACAGTCGGTCGTCCGAACTCCGAAAAGACCGTACTCCAGTGACTGTCGGGAGACCTGTTGTGTCGAATAAATAACCAGAGAGTAAGAGGGTAGGGGTGAGGAGGAAAGAAGGGAGAGAGGTGGTCTCGCTAGCGGAGTGGCCGGGTAGGAGGTTCGGCCTGACGGCCGTTTACGGAGGTGTCACCAGCCTCCTCTGCATCTCAAACAGACGTTCCAAATGTCACTACGGGTCGGGGTGTAGGTCACCTAGTTCGTGCACCTTTTCTTGCCGTCATTTATGCCCGGGCTGCCCGACGGGATGGAGTTCCAAGAGTTCCACTCCTGAAAGACTTAGATTTCCATGGGTGTTGACCCCAGAGGAAGTACCCAAACCGGTGTCCAAGAAACTAAAGGACAACCTCAACTCTCTCCTACTAAGAGAAAAAACTGATCGGTCGTCTCTCACAAGATTCCTTAATTGTCTAGTAATGTGAACGATCATCTTAAAGTCTTCCCTTGATACCTCATCCCCTTCTTGATGATTTGAACCCCTTCTTGATGATTTGAACCTCTCTCTTATCAAGTCGATAAATAGTCGGGACTCTAGCGTCTGTAAATCCGAATCGACGCGGAGATATTTTCATCTCTAGCACTATGAGACAGGGGGTATCCCGCCAACACGTCTTATTTACCCTACCTCACCTACCTTTCTCGAAACATCCGAGTTCCGTAACACGGTCACAACTAACAATGAGACTACAACAAAAGATAATTATCCTGTAATCCTAGGTTAAAATCATCGGTGCAAAATCTTTGTTAAACCTAAAAAAAAAATTGTTTTTGTTTTGTTTTGTTTTGGGACTGGAAACTTTAGGTAAGTCTCCACTAAATCTGTTATTTGAGATCCAGTATAAAGACGTGGTCACTTTACAACTTGTTCCTTTTATAGAAAGGGAGGAATAAAGAATAAACGTTCGGGGGTAAAAGTATCGTAGACGGAGAAAAAATCTAGATCCAAACGAGAAGTCCTCTGACTCCTGTCCCCGTCGATTCAGACATGTCGACCGAGAATTGAGGAACGGATGGTGCGGAGGGTACAGATCAACGAGTACCTCTTACTTACAGGAATTCTTCTTGTAAGAAGGTCATCTTGGTATCCACTGGGTCGATTCTTGAAAGTCGGTTACTTCACAAGAGTGGTCGATTATTAAGGTTCCTAGTTTCCGTAACCCTTTTCTACTGGTTGGACCCCTGGGTGGGCTGGATAGGTCAATCGATAGCGAGTGTGGGAGGACGGGAAGAGAGGTGGTCCAGAAAGGCAACAGGTGGTGACCTGACTAAAACAAGAAATTTTAGGCGTCGGGAAATTACGGCGACAAATCTGCATTACCTCAAACAAAAGAACGCCACACAACCACCACCCTGGTATCTGTTACGATTCTGGAAGGACCAACCGGCAATATAACAAGAGGACACAGACAAGATCGTGAGCCCCTATTTATCAAGGTTACGTCTTCACGACCGAGACAAGTTACACTGGCTCCGCCTACGACCCCTTATATATACATTCCAGAGGTTAATATATCCCGTCCGGTTGGTCAGACGGACCGAGTGACAGGACGGTTTTGTCGTTCCATTGTTACGAAAGTAAAAACAGAAAAAAATTTTTCTTTCGACCTATATCTTCGACTTTTCTGAACCACGAAACCCTCTGACGTCCGTCGAATATCCTATTGAGAACACCGGAACCATATAAATATTATTAGAAAGAAGCCACTACGTCGACCATACTACGGTCATCGGTACCTTTTTACGGGTGTTGCAAGTTTCACGAACGAGGTTAAAGAAGATCTCTAATCGGAGGTGGGGGTGGGTCAAAAATTCAACAAGGAAGACCAACTAGAACAAATCCGACGTGTAAAGGGTAGTAATGACGTGTAATTGTGGTAAATTTTGTGTGCGAAGGTACGGACAAATTATGCCCCGTAAACTCATAGTCGTCTCAAACAGAGGAAGATGAAGTTCAAAAATCCCTTTATAACCGTTCTACGTTAAACAAGTTGTTTCGTAGTAAAGAAACCAACGTACCAACTAGGAATACTCAACGACAAGAACTGGAACAACGTGGTTTAAACTCCCCTCGAGTAGAATTACTTACATGATGACCTGCGATGATTTCCGTTTTCCAACTGAAAAATCCAAACAGTACTGAGTGTAGGTTTACAAATAATTACTTTTCTCTTTTTCGGGTCAAAAAAACCAATGGTTCTACTACGAACGAAGGTAAAGAAAAACAGTTACGATACATCCCGTTCTACCATAGCGTCTTCATTTTTATTGGTCTCGGACCATTGGTTCTGTTGGAAGGTGGGGTTAACCAAGGGTGTCCCGGTCCTCCTACCCACTCCACAGGTAGACCCGAATACACGTCACACAACAGAATTTTGTGTCGTTAAATCTATCTTGATGGGAAAGGAGAACCACCCTCAGACGTCGGTTGTCCTGGTCTTGGTCGAACCGGAAGACCCGTGGTATGAAAACCTTTTGGTGGGGATTTACGTTTGGTTTCGTGTCCGGTTCTCTTGCCTGGAGACACCCAACTAAAAAAGGTACGCAAACTAACGCACGTACACATCCTCCACTTCGGCCACACCACTGCCCGGACACCTCCACTCGACCAGTCACAACGAGGCACAGAGAGCCAACACCCGAAACACCTACCCGACGTCAGCCTTAGAGGGTCACCGGTCGTGGGGGACTTCGGGGGCCACGCTGCGGAACACCAAGGTGTCGGGGGAGGTGTTAGTAAGGACACAGCAGATCGGAAAAGAAAACGAAGGGAACAAAAGATCCGGCGGCCACAATTGTGGTGCCTGTTTCTCTAACTCCAAGAGATATAAGCCTTACATTGAAAACTCCTGCGACCCCTTATATGCACGAACCGCCCATTAAGATAACCCTATAGGAAAGTGAGACGTACCAACTGTCAAGACGGTCCATATATGACAAGAAAGAGAGACCCAAAAAAAGGGAAAAGAACCAACTGACGATATTTTAATTGTGTCGAAGACAATAGTCTTTACCGGGGAAAATAGGAACGTATTTCTATATTTTTTACAATTTTTACTAGGGAGTCCCTATTCTTTTGACGGAACCTTTAAGTGTGTGTCACTCTAGGGTGTGAGTGTAAATACTAGTTCCCTTTAAAGTGGGAATTTTGGACTTCCCTAGAGTATAAAAATCACTCAGTAACTCGGTTACATATTTAATCGGGTAGGGGGAAAGAGAATTCCTTGTTCAACGGTAATGAAACCATTTTAAGTTTCATTAAATAAGAGTAAAGTTTAAGGTAAAACGATTTTAGGACATACACAAAAATAACGAAAGTAGGGTGAAACATAAAAATTGCTCTACATTTATCTCCCTACACATACCTCCTCGGACCCCTCGCCGTGGAGACTTACAGTCTACGTGTCTTCGTCACACAACGGATGGAACCCCTAGCCACCGAACGACGTACAACGCTATCCTACCTGAAAGCCAAACGAAAGTAACGTTTCGTACGAGGACGGTAGAACCCGAACTACAATAAAGACGGAGTGTCTCTTTATTTGTAGTAACGTCGGGACAACGGATTTGTAACGACGACAGACTTAGAAATTGGCTGTAGAGATAAGATCACTTTGAAAGAACTTTAATTTGTGACAGGAGAGACTACGTAGACGGAGAAACAGTAAAGGAAACACTTTGACGTCTCTGACACCAAACGATCGAATACTACAAGGTGAGGTCAATAATTAAGGAACAAAAATCTCATGTCACGAATGGACGTACGAATAAAATGTAGATCATTTTTATTTTATCTAGCAAAGTAAAAACACGACAACGACGACTCTCAAAACTGATAGAACGTTCATAAAAAGACTAATTTTACATATTCGAAAGTTATTATGGTAACGTAGGCAAAAAGGAAAACAACGCTTAGACGAGACACTTATAAACGAAACTTTGTTTCTCTACAGAGAATACAACTTCGAACGAAAATAAACGTCATGACGTAAGACACCACGGATTGACCGTGAAGAATTGGTCAAACGGACTGTCACGATCGTGAATTGATTCTTACGTCAAACTCTTTTTGTGATAAACCTTTATGTGACGAACATCTACCTAGTAGCTCCTGATTCTTCTTCAGTCTGTAACCTTCAACTATATTTTTACACGATTTAATTCATTAATATACATATGAGTGTGTATTATGGAAATACAAAAAAGAAATTCTCTTTTCGACATCACTGTATTGTTATATTGGCCTATACATATTTGAATTTTCCAATAATTTCTTATAATATTAGAAATACATAATACCTAGATTACCAAGATATAATATTCGTTAAGTTAGACACATAAATTACGTAACCAAACAAATACCTGATCTACCATAATTCCTTAAGTGGTTTTGAAAAAGTCTGGTCGGATGATCTACTTGTAGTCAAAGTATACCTTAACACAAGTAGGCCCAATTTAATAGGACACCTCAGAAGGAAACCTTCTCGGATGGGTACATTCTGACTTCGTAACAGTGACAGAGGAATCTTTGTTTTCACCCGTAGCAACTATAAAGTCTTAAAAAATAAACCAAACGTAAGTGTCTGCTAGTACTTTCTATTAGGAAAGTAACACCCATGTCAACCAGCAGGAGGTGACTTTACAGATTGTTTTACACCGGAGTATCGGACGGGACACGTTGACCCACAGTTGGTGAGTGACCTAACGTCCACGGGTGACTCCGATCACTGTCACTGATGGACCCAGGACCACCAGTTTACTACCTGGGGACCAATAAGTAAAAGTAAACCCTCAAAAACCCTTCGGGTGGAACGGAACTCTTACCAGCAGCGGAAAACCAAGGAAACCAACACGATACTACGCAGTCAGACCACACGATTGAGATACCGGACGAATAGACAAGGAGGAGGACACTAGACGTTAGATCGCGGACCTTCTCTTTTCCTCTAATGTCGAAGGGGTCTGATGGACCTCTATCGGTAAATGACGTATCCCCAGAAGAATTAGCGGACATACCACCATTGTCAGTAGGACACGGCTTACTTCTTGTGCTGGTTCTTCGGTCTGAAGTCGTCGGTCGGCCGACACGTGTTCGACTGGTTTGCATAGGGGGACGCCTCTGTCCATTGTCTTTCATCTATTTCTCAAATTTCTTTAAATGAGGAGGGGGTACTGGGTCGGTCGAACACCTAGAACAGGAGACGAAACTACGGTAGCTGAAGACACTCGAAGGTACACGCTCACTAAGACCACACTACGAACCGCCAGTGGGTCAATCACAAACCTCGAACCTCTCAGATCAGTACCACGCAACGAACCTAGTTACCCCAGGTCAAGGTTCCCGTTCTTTCCTGTTATGACAGTCTTAGTCTTTTGATTAGTCGTCCTGACCTTTATTGACCTCCGTTTAGGGGGACACACACAAACTAGTCTGAGTTCATGTCGCCAGAGAAGCTTCGAAATCGGTGTAAGCACAGGACACTAGATTATGGAAAAAATTCTATTCGTACTTGTAAGCGAACCCTGAATACGGTGATCATGCTTTCTCTGAGATTCAAGAGACTGAATAAAAAATTTCAGTTCTAGTCATAGAATACGGGACCCCCACGTAGACTTGACAAACTAAATTTGACAACGTGTTATTGAAAGATGTGTCTTAAAACCGAATTGGAGAAACGTTAAATGTTATCTTAACATACGTAGATAATACAGAGTAACAATCATCAAGTGTCCACACCGACACCTAAATAATCATCTTATAAACATACCTTGGTCGTTGTCTAACAAAAATTGGTGGTTGAACCAGAAACCACCAACGAAAAACGAACACACACGGAGGACTAACCAAATTAAAACGAAACCCCCTCTACCCCGTTCTACCTCGGAGACCACATTTGGTTTCGGGACGTATCCATCCACCCTGTCCTTTACGGAGTCGAGAAAAGACGAATAAGTGTCTCTACCTTCGCCTTCCGTCTACATCTACGTCTTGCAAATGTTTTCGTAAACTTTGAACCAAGACTATTTCCAAAGAAAACTTTATCGTTCATTTTGTCGTTTGAGTAACCGAGATAAAGTCACACATAAAATCATTTTACATGCCCCACGAACAATTTTAAAGTCTAAGGAAACAGAGTCGGGGTCTCTAAGAACAAGTCAGTAGAACCTATCCCGGTCCTTAGACGTAAAATGTGTTCGGGATACCACTAAAATCTTACGTGAAACTCTTTGAGGTCCAATTAAGGTCCGTACGGAGAGGGCCCTGAAGTCCATCCTTACTGTAAAAGACCTGTTCCGTAATCCTTCCTAATCCTTGGTCAACCAGTCGTCACCAAAACCTTACCCAGACCAACAAGTGTTGGGTCGAAGTTTGAGGACCGACTTACCCAGGAACAATTGAAGAGATTTCGGTACAAAGTTCGTCCAGAAAGAAACACCTCTGCCTCCTATCTTAAATTTCACACACAGTTCGCATCCGCTTACTGGTTTAACACAATTGTCGTACCTTTTCTCCCCGGACAACCCAGTGCAGACGGTGGTTCTTACGACAACAGTAAAACTCACTGTACTAATAGAAAGAACCCCGGTCCTTTCGTTTCTACTCCGGTCAACCGGTTGGTCAAAGATCTTCTCAGGTCAGGACTCTATTGAGAATGTACCAAAGATAATAAAAAAAAGATTATCCCTTTTTACCATTGAAGACCTCCGTTGAACATTAAACCGTATCGATCCGGTGACGGGGAATTAATAGAGTAGTAGAAAAAAAGACGTTGACAATTTTACGAAAAGAAAAATGAATTATATCTTCCCATTCTACGGGAATTTTAGGGGGACTGAGTCGGTGTCAGTAGCACAAAAGAAAGGGGTCACGGTCGACCGAAAAGAAGTGACAGGTAGATTCTTATGTCAAACTCTTTTTATCATAAACCTTTATATGACGAACACCTACCTAGGAACTCCTGATTCTTCTCCCGTCTGTAACCTTCAACTGTATTCTTACAAGATTTAATTCATTAATATACATATGAGTGTACGTTATGGTAAATATAAAAAAGAAATTCTCTTAAGTCGGACCGGCCCGCACCACCGAGTGCGGACATTAGGGTCGTGAAACCCTCCGACTCCGCGCACCTAGTGGGCTCCAGTCCTCAAGCTCTGGTAGGTCGGACTGATTGTACAACTTTGGAGCAGAGATGATTTTCATGTTTTTAATCGACCCACACCACCACGTACGGACATCAGGGTCGACGAACCCTCCGACTCCGTCCTCTTAGTGAACTTGGACCCTCCACCTCCAACGTTACTCGGTTCTAGTGTGGTAACGCGAGGTCGGACCCGTTGTTCTCATTTTGAGGCAGAAATTTTTTTTTCTCTCTCTTAAGTCGGATTCAACCAGGAAAAAGGAGAGAAGGGACACAATGGTCTCCCTTGTAGTCTCAAGGAAGGAGAAAAAGAAGGGAGGAAGGAAATAAATAAGTAGTATTAAATGATTCACGCCCCATATTTAGTCCAATGTACATTCTGTGTCGGACAGTGTAAGTGGTCACCAAGGTTCCAATAAACTACCATTTACGGACATTAGGATCGAGGTGTCCTCCGACTTCGCCCTCCTAGGAAACTTGGGTCCTCAAGTTCTGGTCGGACTGGTTGTGTCGCTCTGAGGTTGAGTTTTTTGTTTTGTTTTGTTTTGTTTTGTTTTTGGGTTTCACCCTTTTTTTTCTTTTACATTAACCGAACACAAGTCATCCCGGCTCCTCATATTGTCTTCGTCTCCTTTCCCCCGTTTATGGTCAAGGGACCTTTTCATGTAGAGACGCTCTAATTAAATAAACCCCCCTTACAACTGTGTGGAGTCGAGGAAGATGTACAGGTTCACCCCATGTAATAACCTAGAAGTGTTTCTTACAAAGTAGTCATGCGTACCGGGGAAACCATCTCTTTCTCTACGAATAGCCCATAGACCTATTTTCTCCCAATAACCTGACCTCGACCTTACTTTTCGGGGTCTTTCCGGACGTCTATGCAACTACTGTCTCGTTTATGGTGTCCCTACGGTTCGTACGGAAATGGACTCGGAGATTAGTCTACACAGTTCCTACCCAACAAAGATCCGTAAATACTCCGGTGAAAAATAAGACACAACCGGTCAGAGGAGATCCTGTGTCCCTAGTGAGTCACAGAGGTACCGGGACTGAGAAAGGGAGAGGTTGTGGGTATGTGTGTGTCGCAGAGTGAGTCCAGGGAGTCAGGTAGGAACAAGAGAAAAGTCCTGTTCTTTTCAACCCAAAAGCAAGGAGGACACTCAAAAAGGAAGAACCGTAAATAATTAAACGTGATCTGAATGACCACATTGTGTCTGCAAAGTCAAATACAATAAAAAAACTCGTTTTTATAAAAAAAGGTCATGGTTTCTTCTTTAAGGAACGTTAGTAAAGGATCATTCGCACTTAAAAAACTCTGAAACATACGTGTACCAACTTCTTCCTCTTCGTTGAAAACCCACCACCCTCCGTCTACCGTCCACCGTAGAGGGACACAGGAAACTACCTCCGAGTACAGTGTAAGTCACAGTCCCGAACCCGTGGCACGGTCTGTGACGAGTGGGTGAGGGTGAGGAAACCACGGGTCGCTCAATTTACTCTGGTTGTTGTCGGTCGGGTCTCTCCCCGTAGAAACACTCGCACAACCAAGACCATGTCCATACGACCTGTCGGTCACTGGTCACACTTCGTCGGAAACACTCAATTTCCCCCGTCGTAATGAAAGACACAAAAGGTGTGTAGTTAACCCACCACCCCCTTCCACATCCCCACCCACCTCCTACCTCACGTCTCCTTTGACTCCTACGGACAAATCCTCTGCACGCCACAACGACCCAAACGACTTAGTCAAAATGTAGCTCGTGTAGTCAAAGAAAGAGACCCCGAACTTCGAAGGTATCCCATCCTACCTCTAAATTGACAGAATACCAACCGAGGCAGGTCTATTTAAGTAGAGGACACGTCGAATGTGGGAGAGAGTGACGGCAGTCGTACCATGTTCTCCGACGTCCCACCAAAAAAAAAACAAAAAAAGTCTGAAATCAAAGTGGAAGAGTCGACGACTATATCCATCCGACTTTTGGTCTCTTTTTAGTTCTCGTCTGACCCACGGCACCGAGTACGGACATTAGGGTCGTGAAACCCTCTGGTTCTGTCCGTCTAGTGGACGTCAGTCCTCAAGATCTGGTCGGACCGGTTGTATATCACTTTGGGGTAGAGGTGATTTTTTATGTTTTTAATCGACCCACACCACTACGTACGGACATCAGAGTCGATGAACCCTTTGATTCCGTCCTCTTAGTGATCTTGGGTCCTCCATCTCCAACGTCACTCGACTCTAGCGCGGTGACGTGAGGTCGGAACCACTGTCTCACTATGAGGCAGAGTGTGTTTATTTTATTTTATTTTATTTTATTTTATTTTATTTAGTTCCCGTCACTTCCGATGGAAAACATCGTTATGAAAACTCCGTTTACCGTATAAGGACCCCTGCAATCCTTATCCTGGTTCTACTTCCCCCTCCTCGCCTCGCCCACGGAGCCCCCTCCTTACACACTGAGTCATCGGTCAAGAGTCCAGGTCACAATCACTAGGAGTTTGTATACGGTTTAAGGCCCTTCCCCCTACCTACAAGATGAGGGTCTTCGAGCAAATGACGGACCGTCGACTTGTAGTACTAGACCCTTATAAGAGACATAAAACCAGTTAGTCCACCAGATTTGGAATGGCCGAGGTCTTTTGTAAACCCATTAATCTCACCAGTGCCTACTGAATTGACCTTAGACGGGAAAGTACACCCGTGGAGTAGGAGGGACGGGGATAAAGCGACGAGGGAAAAGAGGAGAGAGTCGGAGGTTTCCTGTACTGTCAAACGGGTTCTAGACTGGACCTGGAACCGACTACGCTAGAGAGCTCGTCTCGGTCGCGTAGACCCCGACCACGCAGTACCGAGACTATCCAAATGAGTGTCTCAGGGTCCCTTTCCGGACGCCCTCCGTCTCTGAGCGATACCCTCTTTTCACTCACAGACTACTTGACGGAACGGATTAATGGATTTAAAACAATACCTCCTTAATTTTTACGTTGAAGTCTTCGGAAACTTCCAAATAGAGTCCGTGGGTCGAACGCCACCACTTTCGTAAAACAAACCGGTATCCCCTCACCACCCGTTCCGAATATAATCTCGTCTTCATACAATTACGGTCGGAGCACAAGAACACCCCCTTCCACCAAACGTCGGATTCTCAGTGTCCCGGACAAACCGTCCGACACCAGGTTCACACAAACAGTCAGGACCCCTCATTTGTGTGTTTATAATTAAGCAGAGAAGAGGGACCTTGTAGAAACGAAGACGAACGAGACAAGAGACTCTTTAGGGGAGATCTACCATTTAAATTAAGTCATATTTCTCTATTGTGACAATCTGGCCCGCGTCACCGGGTGTGGACATTAGGGTCGTGAAACCCTCCGGCTGCATCCACCTAGTGGACTCCAGTCCTCAAGCTCTGGTCGGACTGGTCGCACTACTTTGGTACACAGATGATTTTTATGTTTTAATCGACCCGCACCACCATGTACGGACATTAGGGTCGATGAACCCTCCGACTCCGTCCTCTTAGTGAACTTGGGCCATCCGCCCCCAACGTCACTCGGTTCTAGCACGGACCTATTACTCTCACTTTGAGACAGAGTTTGGTTTTTTTTTTTTTTTTTTTTTTTTTTTCTTTTCTTTGTCTATTGTGACAAAGAACCACCGGGAAATTTTTCTTTCCTTTTTTTTTTTTGTGAAGGAGTGAATTAGAGGGTATACATGATACCTTTACATGCTTTTCGTGTAAATGAATTTTCGAACTGAATACCGTGTACGACCTCTCTAAGGCCTTTCACTCCTTTACCTTAACCTCAGACACTTTTATGTACGAATTTTTTTTTACGGACGGTTCTAAGCCCTCACCCTTTTGTCAAATGATCTCACAAGCACAACTAACAAATATTCATTGAGTGAATAGTGATTGTTCTCTTATACAATTTTAACCAATCCTTACTTTGAGACCTTAACTTCAAAGATCCATCCTTAACTTCTTATTCCTTCTAATACTAAAACACGTTTTCTTTTCTCTTAAATTATCACGATTTCTTCATCTTCCTAAAGTCTCTACTCGTCACCCTCAATAAACTCCAAGGACTAAGTCTCCTTTCTACGGGTCATTTTGTACCTCAGGGTGTCCCCTTACCGGACGGGTCCTGGCCCGGTTCGGGGGTTGTGTCCGAGCGAGAACCTCACCTTCCCTTACTTCTCTTTCGGTCGGCATAAAATATCGGGGTCTCCCCTAAAATTTTCGTATCATTTTTACGTACCTCCATTTTAATTCTATATGGAGTCATCTGTCTCGTTAGTTTAAGATATCAAAGAATCTGAAACGTGCAAAAGAATGGGAAAAGGGGGCAAAGCACAAGAATATTTTCATAAAAGGTCCAAACATGTAAATTAGACTTAGAGGCATGAAGTAGACTTGTTTTAAGGGCATTCAGTAGGAAGAACATCTGGAGTAAAAATTTTAAGATTATTATTACTGTTATTTCAACTATTTCCGAAAGAATAAATAAATAAAAATCCGAAAGGTAAACTTTTCGACAGTGTACTTTTAGAAGAGCTCTGTCAGACAAACCCCCTACCACATCTATGTACACTTGAAAACGGTCCCCAAACACCTACGTCTAAGGAAACCCCAGTACCCACTCGGTATCTCCCCACTTGAAGTCTGACTTACAATTTAAAAAGAGAAGACTCCATTGGGGATTCGGTATAAACAGTAATCCTGGGAGAATGACAGGTCAAAAGGAGGACGGGACTCTACTAAGGGACTGAGGACCTAAGAAGTAGAGGACGAATGATCTTGGGGTCGGGTAGGAACCGTCACTCGTCTCCCGGAGTAGATCGTTTAGTCTGTACGGGTGATTCCGTATAGAAGACGTCAGTCGGAAATTACAGTGACCCAATAGAAGGACCAACGTGTGTCAAACTGTCATGTTAGCAGCGAACCATACGCAACCCCTAACCAAGATTGTTGGGGCTTATATGGTTTTAGACACCTACGGGTTCTGGAAATAAATTTTACCACATCATAAACGTATACTTGACACATGTAGGAGAGTATATGAATCAGTAAAGATCACTATGGACATTATTGATTGCGCAACATTTACGATACATTTATCAACAATATGACATAACAAAAAATAAACATAAAATTTTAACAACATAACAATAAAAAATAATTAATCGAAAGTTTATAAAAACTAGACACTAACCAACTTTGGTACTTACGCCTTGGGTGTCTATACCTCCTGACTGACATAGAATGTGTGTCTTGGTGGGATCCGAGGTTTGCGAGGTTCAATGGGTCTCTCTTCACAGAAACAGACAAGAGAGTCTAGACCCGTCGTTTACTAAGATTTCCCTGATTCTCTTTTATAACGTCACAACCATCGTCTGTAATTGACTCGAGAATCACGGTCCGGATCGTGATTCGTGAAGTAGTCAAAAAAAAAGGGAGTAAAATAGTAGTGTAATTACGACACGTCAACCTGGACAAGGACAGAGGAGAAAAGAAAAAACTCTACCTCAGAACGAGACAGCGGGTCTGACGTCACGTCACCGTGGTAGAGCCGAGTGGCGTTGGAGACGGAGGGTCCAAGTTCGTTAAGAGGACGGAGTCGGAGGGGTCATCGACCCCAATGTCCGTGAGTGGTGGTACGGGCCGATTGAAAAGATAGAAATCATCTCTGTCCCAAAGTGGTACAACCAGTCCGACCAGAGCTTGAGGACTGGAGTCTTCTAGACGGGTGGAACCGAAGGGTTTCACGATCCTAATGTCCACACTCGGTGAGACGGACCGGGGACAGAACAAAAATTGTCTACTCCTTTGGGTCCAGATCTTTCCAATTCACTAAAGGGTTTCGAGTGTGTCACTCACTCACGAGTTTGACCCTGTCCCTGGGACTGTTAGACTGGCGTGTCAGGGTACAATAACGTCAACCAGTCCTACGTCGGACGGATTACGCCCCGGAGTACAACACTTACTACTCGTGTCCTTCCCGTCGTTGCCCTAACCGACAACGGGTGTAGCTTCCTACGTCTCTACGGTGTTTTGGATCGGACCATCGTCTTCCTTCCCGGCTTTCGTCACTAGAACATTCAAAAGTGAGTAAAATCTTCAGTCGTATAAAGTTCGTATACGGGAAGCAAAAGAAAAGGCAACAAGTACGGAGTCGAGTCTAGGAATAATAAGATTTTTTATAAAAACAATTTATTTCATGAAGAAGATCTTGTATTTTCTTAATGTATGTGTACCAGTATTTTAGGTTTACCAGATCTTTCAAGACTTTATTTTACATAAAAGATGGGGGAGAGAGTTGAGGATTAGAGAGACGGGTGTCCACTAGTGACGATTCAGAGAATATATAGGAAGGTCTTTGCAAATTCACGGGAACAAGAGTGTGGAGCGACACCCTGTCGACGGAAGGGGTGTAGGATAAGACACTCGGAGCGACTACTCTCGCCACTAAAAGTCCCTCCTCCGTGTCTTCGGGTCGGTACGGAGACGGAGACGACCCACAATTGCAGTAGGTCCTGACGCCAGGGTTCGTTAACGAATTAGCCAAGGGTGAGGAGATAACTAACGTCGAAGGATACGTGGGGTATCACCTTAGGACCTTTGACCATAGGTCACTACTCCCCGATGCGACGTCCGGTACGTCTCTCACAAGACCGACATGTTGGACGGTCTGGGACCGGTAAACGCCTTCAGCAGGGTAACGATCCGGAGAAAAAAAAAAAAAAAAAAACTCTGCCTCAGAACGAGACAACGGGTCCGACCTCACGACACCACGTTAGAGTCGAGTGACGTTGGAGACGGAGGACCCAAATTCGCTAAGAGGACGGAGTCGGAGGGTTCATCGACCCTAATGTCCGCGGATGGTGGTGTTGGCTGAGTAAAAAAAATAAAAATCATCTCTATCCCAAAGTGGTACAACCGGTCCGACCAGAGTTTGAGGACTGGAGTTCACTAGACGGGTGAAGGAGGAGGGTTTCACGACTCTAATGCCGCACTCGGTGGCGCGGACCGGCCGGCCAAGAATGATCAAACCGACCTCGAAGAACGGGTACTATAGGAGTTCGTATTCCAGGGGGACGTTACTCACCACTAAAAACGGACAAGTACCCCTTCTTGAAAGTCTTCTGGAAGAATCAGAACTTTTGTGGACGCATGAATTCGTAGGTGTCGTGTGCCGGGACTACGTCTTACTTAATCCTCCTGTCTTTCTAAACCCCTTCGTAGTAACCGGCAATTTGGGCGAGGACTTAGAAAGACTCGAGACATCCACCTCGAACTCTACAAGGACACCTGGTTACGTTTGACCTTCAGAACTACAAGAGACTTTCAAGGACCGAAGACTACACAGGGCGTCTGCTCCAATCGAGTGATGTCACTCCAACCTATGGTGTACCGCCCCTGAAATTTCAACAGACAAAGTAGGTCCCACCCCGAATACGGATCAGACACTGGAGTCACCCCTCGTCCTGCCTAAGGGGTCCTCGTGGGTGTAAATGGAAGAGCAGAAAAGGGCGAACGAAGACGGTAAACGAACACGTTGGGTCTGTGAACCCACACTCCTAGAGTCGAGGTGTTAATTACTAAGAAATCAAGGGCGAAAATTTTGTAAAACTGGTATGTTACTTATTTACAACGAGTATGATAGACGTATTACTTCAAATCCTTATTGACGGGGGACGGTTTTCTAACTTACCTTCCGAGTCCTTCACGAGTACATGCAAAATTTTCTATTATCCTTAAGATACACTTTTTACCGGGTGAAGAAATAAAATTATGACTTTTGTTGAAGGATTAGGATTTTACTAAAAGAAGGGGATTAGATAAGAACCCGTAGAAGAACTTAAAGGTCGGACGAAACTCCCTTCAGACCCAAATGTTTCCGCTCTAAGTTTCGAAAAGTTTGTCCTGTCCAGGAGACCAAGGGACACTCTTCTCGGGTCCTGGGTGGGACACTTTCAAGTAGGGTGGATTTAAACAAGTAGACCTGAGTCAGAAACGGTCACACTAACTTCCGCAAACATTCGTGTAGGTCCTCATGATAGGTGGACCCGTCAGTGCGTCCTCTGTCTCGGGTCCCACCCGATCAACGGACGAACCTCTACCTAGCACCAATTGAAGTGTAAGAACAAGAGAACCCGGTTTCAGAACAAGTACCAAATCTTATTCTGTCACAAGTTCGTCGGACACCAGTCTGATTCTAACGCATCAGTAGGAGTTTTCACCGGAAGGTCACACGAGACACACTCAGAAAAAAAAAGGTATCTTTGGTCGGTTTCCTGTCACTATATAAATTCTTTATTAGTAAAATAGTCTGTGTGACTTTACCTAGTCCTATTTGTTCTTTCATTGAGCCACCTCGGGACACATGACGGTCCACCCTCTCCTCAAGAGAACACACCAATACCCTTTTCCACATAAAAGAAAGGTAACTACGAAGTAGGGTGCACAAATCACGTGACCAAAGACTTTGGCTTCTGTTCTCCGTCGGGTAAAGGTGACTTATCGGACCGGTAGTTATTCAAAGGTCTTCCTGACCCCTCTTTGTTTCTTACCGGGGGTTACGACCCCAGACCCCAATAAAACTCAATTTCCCTGAGCCTCGATGACTTACAGAAGGTGTAAGTTCAGGATCTTGAGAAAGGAACTCTATAAGGTGAAATGTAAAGGTTTCTGTCTCCTTTATACCATCTCGGTTAAAGGATTTTCAAAAGCATCTTAAAGTATTCGTGTCGTAACTAGGTACTAGGCCCACCAGACTCTCCCCTAGGTAATAGGTCCCGAGGTCATGTCCACGTCCATGTTGGTATTTCCGTGATTACTTCGGTCTCTCCTGACAGACGTACAGGAGTTCACTGAGAGACCTCCTTAATCCTGTCTTTCTTTTAAATGTAACACTAGTCTACCATATCTTTTTAAAGTATCTTTTTGGACTTGTATCCTTGTATTTTAAACCTACTTTAGACCATGACGTACCTGACCTCCCGTCTCCTCAATCTAAGGTCACCAAAAGATTAAACCAAAGACTGAAGACGGTCGGGGGTTGGGTAAGGAAAGATTCTAAGCTATGAGACCGACCCGAGACCGACTGAAGGTCGGAAGAGTCTACCTCGGTCCTAATGTAGACACAGAAACGTAAAACATAGGTCCAAAGCCGACTCAGGTCGAGGAGGTACTTGAGGTTGTGGGGCGACCACTCCTATTGTTGTGCGGAGAGAAGTTGCCGTCTGTGGGGGTACGACCGTCCCCAGAGGCTCATACTTGAAGGTCTCCTGGGTTTTACCCTCAAAGGTTCTCTATTCACTCATGAAGAGAACCGGTACAGGGTCCTACCTCTGAGTCGATATTTACCCCTATAACCTAATTGTAAAAGAAAAATACTGGGAATCGGTGTTTCCAGAACCACACTACTACAGTCGTCCTCATTCTAACATAAAGATTTATTGGTTGAGGACCTTTTCTTTTTTTACCTAAATTTTTTTTTTTATTGAGGAACTTTCGTCTCGATGAACGGGGACCGACCAGGGGTTTCTTCTACCGTAGACCAATAGTAAAAAATTCACAGACCCGTTAAGTCTGAGGCAGTTTACCTTATTTTCATCTTAATAGGTTAAATATTTTGTCTAGACTGTAAGATCGAAAACCAATGATCTTGTTCTGACAAGAGACAAGTGAAGACACCTCTTTAATCTACGTCTTATATTTACCGGAATTCCTGGCGATGGGTCACAACGACAAGAGTAACCAATAATTACAGTATAACCCGACTTTTCGAAGTTTATACCATGGACTGTAGATTAAAGACACTAGGTATTATAAAAGGAACAACCTACTATGTCTCCACACGGTTAGTCTACAAATCAGTTTTATACCGGTGGACCCACCACAACCCCGATGCATAGAGAACCAGAGCGAACTTGAGGTGCATGACCTCGAGGCAACCCGACGTAAACTTAGGACCGAAACGGTCTGTCACCGACCCGTTGGAGCCCACTCCGTGGACTAAGAGACTTTAAGTAAGAGTATTTTACTCCCACCACCAAGTCTGGAGGGTCCTGACTCGTCTCAAGAACCGAACACGCTCAAAAGGAAAGTAAAGGGAAGTGCACCACCATTGGACCCTCGAGACTTGACGTTTGGAGTCGTCCTAGTAGCACACCCCGTACCTCAGTCACCCGTCTTAAACTCGAGGATCGGGAGCAGGAGATCCGTCCCTGGCTGGGGATCTAGGAGGAATACTTTCCTTCACGTCACCAGTAACATCCCGACAGGTGAGTGAAGACCCCATGAAAAACAGCAGTGTCGAACTCTCATGCCCTTCCACCTTTACGACTGATGAAGACGTAGTGTATGTGACCTTATTCGAGAACTGAACGAATATTCGTCGATGGGACAAACGGAACTGTAAAAGTCATCGAGGAGTCTAATATATGTGAAGAGTACACATGGATATGTGTAAACCTTTACGTTTCTATTCGAGAAGGTCTCTGACTAGACTACTCGAGATAAACCTTCCCTCTCCATCGAATACACCGACCGTGAAGACTAAAACTAAGTGCACTACAGTGTAGTCAAAACAAAGGGTTCACGGTTAAATCTCTACACATGGCAATCGATCCTGACTTATTAACATACCTATAATAAACCAATCTCACAATTACCTTCATTAAAGGTCAACTAAACATATGACATCACTTTTCTGGTGAGTGAGTAAGTGAATAAGTAAGTGAGTTCCGTACAATTAACCTGTAAATGACCACCCCGTGGTCTCTTTTGTGTTTCTTACCAAAGAAATGGACATCCTACACCTCTTTACCTACAAAGAACACTTGAGGCGGTCGGGATCAAACACACACTAATATATGTGTCTATCCAAGTACACGTGTAAGGATATATATATTGACTTGACCCCTCAACACTAGTATAAAATTCTTTAACGTCGAAAGCCCAAATCAGGTATCAAAAACGGTGGACACTGTGGTGTCAGTTGTCACCTTCAGACATACACGGGTTGACAATGGAGGGTGGGCCCCATGGGACTCACACCTTTTAGACTCACGATTTGTAAAGTTTTGTCACAAATCGCGTTTGCATCCACCTTGTCTAAAGGTTACTTACTTCCGATAAATCTTCGTCAAATAATCTAGCCTCCGTCTTCAATATGTTTCTTTCCTAACAATACGAACATCATCGTTCCGCCACCCTGTATTTAATCGGTAAAAAGGTTACGTTTATAAATAAAAGACGGTTCTACAATTTAAATTAAAAGCAAGACCCATCTTTGTTTTACTGGAGTCGTATCGTGTACGACGGGAATCAGAAATACGACGTGAAAACGTTTGATAACACATGAATGGAATTTATGACAAATGATTACCGTCGAGGTACGAAACGACACAATACGAATTCAATCTTTCTCGGCATAAGTATTCATAAGGTTTCTGAAAACGCAAAACAACCAAAGACCTTACGTGTTCCTGTTATATACCGATAAGCAGGCTACACGTATCTGGAACATTAGAATCTTTAAATTAAACACCACAAGTGAAACCTAAAAGAAGTAACAATTAAAATACATCAGTATTCCTGAAAATTTGAATACAGTTTTTTTTTCAGGGGTTAAAAAATCTTAAAAGAAAAATCATTTTTTAATCTCTAAGGAACTTTACGAAAATTCTCCGTATAGGACATTGAACCGTTCCTTACACTGGTATTTTAGGTAACCATAAACTTATTATTAAAATTTCGGTGGTAAAATGTCCCTGTTTTTTTATTCTTGTCAGAATTGCAAAAAAGAAACTCGGTAAGATTTAATGTTTATAAATTAACCGAGTTCTAGTTTTCGAGAAGAGACCGTGAATCCTTTCGACTGGTGGCGTGATCGTTCCTATGGAAGGGATTTCTTTTATTTGGCTCTTATGGTTACACTTTAAATTATCGGCAAGGTGGTCATTAACTGTAAGAGATTTTGCAGTGATCCTTTTATGAGTCCGCGCACACATGGGATTCAGAGTAATCAAGGTATACTATTCGTGAGGTACGAAATCATTCGGCGACTTTCTAAAAATATAAATCAAGACCTTAAAGGGAGTGATGTGGGGTAGTGGTCTACGATACACGATTAGGGGATAAATGTGTAAATCCGACTGTGACCCGTTCGGGGACCCTCTTCCAACGAAACCCGTTCACCAGTACCGCCTTCGTCACCCTTAACTGTTTCTGTTCGGGTTCCTCCGCCAGTGGCACCGGCACTTCTACAACTTTCCACTCGCCCCTCCGCCCTCCGAGCCCCTCCCCGACCCACCTCTCAGAATAGTTCTTTCAAGGAAAACACCGTACACTTGAGATAGTACCGTGCCCCAGTCTCTCGTGTATCAACTGGATCCCCAACTCTTCAAAAGCCATATTTAGTCGTAGAGCCTGTCTGATAAATAGAACTCGACACACATGAATATTTCTTTTCGGTCAAAACAATCTTTCGCCATCGGAGGATGTATCTCAATAAGAAACTGAGGAAGAAGCACTGGTGTTAAGAAGTAAGAGAGACATAAAAATACACGAATCTTTAATAGTTGAGTGTATATTAACTTAAATAATCGATCCTCAACCACACAATCTAAACCCTGAATTTGGAATTGAAATGTTCATGTTCTTTTAAACACAAAAACCTCCCTTGCTTCTCTGCATTCCCTCGTCTTTCGGAAGAGAAAACGCACTCCTTGTTTCGTCTTTACTGTGACCAGACCCTCTCAGTGAATCTTCGACTCTTCCTCACTTGTCCTAGTCCCGACCACGTCTCGGAGGACCCTGTGTATTTGTTAATGGGACTCTACATTTACAGCACAACACAAACACCCTGACACTTGTGAAGATGCAATTGGAAGGTTGGGACGAAGTACGGGTACAGGTTTCTTGAATTTCTTGAAAATTGGTAATTGAATAAGCAGGACGTCATAAGAAAATACTCTTCTCAATATCCCTTGACAGTGTAATATTTAGGAGAACATCCCTAGAGCCTTTCTTCTAGGGTACGGCTCACAAAGGGTGCAAAGGTCCGTCTCTCCGGGTAGGAACCCTATACCACGACCCGTACAGCGTCCGCGAGACCTCAATCCGAAACAGAAAGAAAACACCCAAGAGTACCCTATCAGTAGTGTAGGGAGGGTTCCCCTTCATCGTCCGACCTGAAACAGTTGTTCTACACGTAAAACAAAAAACCCAAAAAATTTTCCGACAAATAGACTCACTGAGGGTTCCTTTTGATCTCACGAAACTCTACAAGGGGTGGAACCTCGGACTACGGCCCCTCCTTGTGACACGACAGAACGGGGTCCACAGTACCGTGGTGACTGACTCCGTCGGGGACCGACGCATGGTCCCGGTCCACACCCCTCCTGGGTCCGAAGAGTAGAGAAAACCGCCTTGAAGACCAAAACGATTACCTCGAGTCTCAATGTACCCTATAACGTTTTTCCCTCCAGACCCTCAAGAGAAAGAGAACACTACGGGTCCGACCGTCGGAAGGGACATTCCTGTGTCTTCCTATAATCAGGGGTTCGGTAACACCGCACAGGAAAGAATGTCGGGTGCCGACACAGAGGGAGGGAGGAGTACCGGGCACCGAGGGAGGAAGTGTATGTAGTCACATTTAAAACGTGTGTGTCAGTGAACATAACTAGAAGGAAAACACTTCGATTTTTTGACAAACGTTGTACCAAGAATAGGTACGGGTATAAAGTAAAAAAAAAATTTCCTTTGGGTCTAAAAAGGTATGACTTAATCGAACTCCACCTCCCGTGTACCCTTTCAGAACGGTGAATCCTCTTAGATTCTCTTCGATTGACGCTCGGGCGCATACACCTTGGACACGGTAAGAACGAACTTTAATGTCTCGCCTTCAAATACATTGAAAAGAATCCTACCCTTGACGTCACGGGAGACTCTTCGGTGATCTTCAGCGTCGGGAAATGGACGAGTCTTACGTGTACGTGTGTGCAAATACCGGGACAAATACCCCTTGGCAGACTTGGGTGGAGCCTTGCGAGATTCCCGGAGCTCCCCGACCCAATTCTTACGAACCAGCCCTCGTTCAGACATCACTAAACTTTACCGGGATGGGAGCCAGAGGAGCGACCAAAGTCCGTGGTACTTCAAACCACACCAAAAGACTCTGCGGAATCTATACCGTCTCCTACTCTAATAGAGTACCAGATCCTTTCTTAACCGTAATCACAGTCTTCGGGGACGAGAGCAGGACTGAGAACCGGGGTAACCGGGGGGTCACTCGAGAAACTGTGTCTCACTCCGTCAAGGGACACATCCGGAAACAGGGAAGGAGCTATTTTACTCCCTCTACTAAACCTTTTAGAAAAGACTAAGACTTTAAGTTAAAGTACGACAAAGTTGATTCAGAAACCGTTGATTGTCATCGACGGGTACTCAATCTCCTTTACTTGACTAAACACTTATACGGATGACAAGTATCTACTACGGTGTCTCTTTCTGGAAAGACTAGACCACAGTCTCTACCTCTACTACTTCTACTAACCCTTTGTGTTCTTATAGTATTTAGAAGAACCTCGGACGTGTGTCCTACCACTCATCCTCCTTTTTGACGTAAGCGGGTTTATGAGACGTCAAACTAACTTAGTAAAATCTTTACCGACCCGAAGGTCTAGGACGAGGGTCTCGTGGGACACACGTACAAATTTCAAGAAAAATTTTAGGGGTAACCTTCTACAAGGATCGGTACTTGTGTTTCTTCCCAGACACGGGCATGGACCCCCGGTCACCTTTCCTCCCACGTCCACTGAAACCTAAACTCCCGGATCTCCCGCGACGACAAAGATCCAGTATTGGACCTCCCCCAAAACCTTTTCCGTCGGAGGAATACAAAAACAAAACATTCACGATTCTCTCTAAACAGTCTTATTCTAGGATACAAAACCAACTCTTCAAGAAGGGAATTTTGTCCCTAACTTCTTAGGTGTAGAACGACACCCAGTGTCTACCGACTCGAGGGTTCTTATCGAATTTTCTCCTCTTTCGCCATACTTCCTTATGCAATAAAAGGGACCCCCTCTCTCTGGGACCGAAGAAGGTAACTTACAAATGACCGTGAAACTTTAGTTAAACGATTCATTAATCATTTGAACTTTTGCGGATAGAAACTGAATCGTTAAAGAGAACATCCAGATATATCATTAACCACTTGAAAAAGACATTTCCCTCCAGCATCTATAAAATCTGAAAACACCCGGCATACCAGAAACAGCGTTGAAGAGCACAGACGGTATCATCACTCTTTCGTCACGATCTTCATGTCTTTACTTACCTGGACCGACGTACGGTTATTTTAAATTAATGGGTTTGTCCGCCATCCGTCCTAAACCGAACGTCCGACATCAGACGGTTGGGGCTCGGATATGGTACCTCTTTAATAACGTGTGCACACATTCCCTTGTACATGTCTCTACAAGTAACGGATGACAAACAATACCGACTTTGGACCTTCGTTTACGGATACGTATATTCCCTTACCTATTTATTTCACACCACACAAATATGCTATGTCATATACGTCGACACTTTTCCTTACTAGACCAAAACAAAAATATTCGGGTTGTCCAAGGTTTTCCTATTACATACCCATTTTTTACAACGTTTCTAGATTCTCGAAATAATAAGTAAATACACTAATTTTTATTATATAATGAATAACTTATCAATTTTACTTGGTTTTCCTATCTCACCTCCCTAGGTAACGAAAGGTTCTCCCGCGTCCACTGTCGTACTCTCACTGTCCCTTCTCGTGCAGTTGACACAGAGACACGGAAAACTCCGATAGTACTGGTTCCCGAATAAATAGTAAAACCTCTCTAATATTAGTATAAAAATACACACGAAAAGACATACAATTTTGAAAAAGAAAAAAGAAGAAGAAAAAAAAAAAAAAAAAAACTCTGTTTCAGAGCGAGACAACGGATCCGACGTCACGTCACCACACTAGAGCCGAGTGATGTCGGAGGTGGAGGACCCAAGTTCGCTAAGAGGACAGAGTCGGAGAGTTCATCGACCCTGATATCCACACACAGTGGTACGGGTCGATTAAAAACATAAAAATCATCTCTGCTCCAAAGCGATACGACCGGTCCGACCAGAACTTGAGGACCGGAGTACACTAGGTGGACGGAGCCGGAGACATTCCCGACCCTAATGTCTATACTCCGTGGTGCGGGTCGGCGACATACAATTTGAAATTTTTTTTTTTTTTTTCGTACCCAACATTATTGATTTTTACAAAACGACTTAACGGGTTCCCCTCTGGGACCTAAGAGAGAAATCCCTCGAAGAGAAGAAGGAGTTGTCCCGGAGAGATACAGTATCAACTCATACGGAGATTTCCGTTGGAGGCTCTTATGGAGGCTCGGGCCTCCGGTGGGCCCTACCTCATGAGGATACTGTAATTGGCACAAGGACTCCTCGTCTACTGGAAGTTCCTGAACCACAGTACGTGGATGGTCGACCGGTCTCCGTACCTCATGAACCGAAGGGTTTTTCACTCAGAAAGTGTAAGATGAACCGACCCACCTTAGGTTGATTTTTACAGAAATTTCTTTTGTCCGTTAAACCTGTACGAGTAAACGATCTAGTTCGGGAGCGTACAGAACATGTTGGACCTTTTATAAATAACGCAATAAGGGTAAACTCAAATTACTTGACAAATTTTGGTTTCGTCGGAGTATTTGGATATCGTAGCGACGTCTCTACTCGTCTTTTCTATGGAGAAGAAACTCTGTCCTGGTACACACTAAAGGGAGCCTTAAGTCGAGAGGTCCACCCTTTACCTACCAAAATTTCCGGGGGAAATTAAGCCTACTAAAAGAAAGAAAGAAAAAAAAAAAAGAATTCGAAGTAAATAAAACACCAATGACTCAAAAACTTGTATCTGAAATCCACAAATCACAAAACCCAAACTATACCGTAATTTATAAGATTCTCATTTCCAGTTTGTTTCCCCATAAAATCATTGGAACGCAGGACCTCGAGACGCAAATAAAACGGAGCAAACCGCCCACTGGGAGACACCAATCTTCAACCGGTCCAGGGGACTCCACCTGACGGACGTAAGGTCCGCACGGTGAATGGCACCTTGAACTTTGTAAAGTCAATAAGACTCTCATCAATCTGTCCACGGGTCTACAGGAGCCTCCGTAAAACCTACTGGGTTTTGAGGGAACAGTCGGGGTGTGTATCCCTTCGCCTCCCCGCCTCGACGGAGGACACGTCTCCACCCGGAACGAGGATGGACGTAACGTCAAATAACGTCACGGTCCTTAAGGAACCCAGGGGTTTCTCCACTCTAGGAGACCAGCCGCACGTGGGAGACAGTGACCCCCAGACCCAACGGACTTCTCAGTGTTTGAGTTCAGAGGTACCCCGGTACGGTCAGTGTGGTGGTTCCGGACGCCTAGTGAGTCTCACGTCTCTAAGCTCCCTACCGACGTGGAGTCGAGATGAGAGACCGGTGTATCCTTGTACCGGGTCTCGATGGGGTACAAGACCTACCAAAAAAGAAAGAAAGTTTGTCCGACCTCACGGCACCGTATTAGTGTCGAGTGACGTCGGAACTGGAGGACCCAAGTCCACTCGGAGGGTGGAGTTGGAGGACTCATCGACCCTCATGCTCCTACACGGTGGTACGGACCGATTCAAAACACAAAAAACAAAAAACAAAACCATCTCTGCCCCAAAACGGAAAAAAGAAAAATTAAATTCTTTTTGAAATTTTTGTAAAAAAGTCCTCTCAAATCTCAAATTCTGAAAAAGTCTAGAAAAAGCATATTTTTAGAGGGTTATATATCCAAAACCCTTTGATTAATTTGTGTCAAAACTGAAGACACTAACACAAATGCATGTGCACGCACACACACGCACATACATCCCATCAAACGGTTAGATAAACCGTAGGTCTCTGTTGGTCTGTCTAGGTCTTGTACCCTGTAAACTGTTCTATAGCGAAGGTTTACAGTCACAGAGCTTTCTGTTTTTGACGACCCCTCTGCCAAGGTCTATTTTCCCCCGGCTACTCTGTTAAGGATTCACATTTTCACCCTAGGACCTGACCTAGGACACCCAGCCCCTCCCACCGGTCAAGAATCTTTCCTGTAAACACTCACAGGAAACTTATACCTGACATATTATAATGACCAATATAAAGACATAGTCACAACTTAAACGGCCCCCACCACTGTCACCATAGACAACATCCTCTTTATGCGACTTCTTAACTCTAAACACTTCATAGTCACTACGGACGTCGAGTCAAAATTCACCAGGTCGGTATTTTATATTAGTTAGGTAAGTGATAGGGTTCACACATACACACACCCCCGTCCACCCCGTCCTGTACCTCTGTCGTTCACTAACTCATCCACATTGTTCGTTTGGGTCGTCACCACCTATGAGTGACACGGTAGGGAGGAAAAGACGTCGACACTTGAGAAGGATTTATTCGGACCCCTCCCATCGGGTAGACATCCGACGGATAAAACTATAAGACCAGAACTAGTGAGGGACGGGATGGACACACCCTCTATCCCCTTCGTCAAAACGTGGGTCGTCCCACCACGATGATCCCCTTTACACCATCCTCCCGACCGAGTCAGTAAAATAATTTAGGAAGTTGTAGATGAGGATCTCGTGGGGGCTACAGAGTACGGGAACCAGTCCGAGAGGTCGCTTCACCGGTCTTCTCTGTATCAGGAACTGGAGGACCCCGTTCTTGGTACCCACTGTCATTCTCTTTAACTGACATTTACACCCTTACTTTTATTCCAACATTTTTTTATAACTTTTTCCACGGTACCTCCTTTGTCCCCCTATTCCGGAATGAGTACGGTCCTGCGACGTGAAACGACAGTGACGGTACCTTCGGAGACTCCCCCTCCTTCTCCTAGTCAATCACGAAGTTTTTACGGAGAGTGACGACGAACACACCACTTACCCTTCCGACTCGGGGACAGTTTCCACTACTACCAAACCCGATCCCAGACAACCCAGGTTTCTGTGGCTCTTTTCGACCACCCGACTACAACCTGTATAAAACGAGAACCCTATTACTTACCTAACTAATCTATCCTCCCTCTCTTTCTCTCTAGTTCCCACTGAAGACCTAAAGGTCGAACTTTTTGACCTACCACCACGTCGAAGGTTCAGACCCTCCTGAACCCTTAGTCCCGACCCCGTCCCCCGTATCTAAACCCACCTTTTAGGCTCGAGCAGAACTCGCATAGACTCAGTAGGTTCCCCTCTATTACTTCTTCGACGTCCGTCGTCGAGTCGAGACTCCCACCCGATTGTCGACCCTCCGTCGTTTCCCTCGACACTCAAGTTCGGTACCCGCACCTGTTTGAGTAGACGCCTCTTCGAACCTTCTCCTCTTATCTTCGGACTTCAGTCCAGGACTCTTTTAAGAGTTTAGATCTCTAACTGACTTTCGTGGTCTTTGTCGTCGCCTCCGGCTCGTCCGTGTCGGACTCGTCATCCTTTTAGTCCTGTGCCTCGTGTCTCCGGGGTGTACCCTCGAAGTCCTTCCTCCCCCGTCCATCATCTCGGAGCCGCGAGTCTGACCACTCTTCGTGCCCACAACTCAGGACCAGGATCTCCGTCACCACCATGGGGACGGGTGGGATCGGGACTCCTGGGTCTCGAGGAAGGACAAAACCTCGACCGTCTCTCTTTTGATTCTCTGCTTGAAACGATTCGTCCCGTTTACGTAGGTAAATTAGCACCTTCTTGCCTTCATGGGTATAATTTCACAACACTATTATCATTGATAGCAATAATAATTAATGACTGGGGAGGCCCTCTTCGATTGGTAGAAGGTCCGTGGCACCGTCTCGTAAACTGTATTTCGTAGAATGCATCGGGAGTCTTGTTGGGCCTTTATCCACCCTAAACCTAGGGGTAACATACCCCCTCCTGCTACTCCTTCGTCGTACTTACCAAACTCTGGTCTACACAGTCCTCCTGAGTCTACAGGAGTGAAGACTCTTCGCCTGAACATCCAGACTTCTCACCTCACCGTCCAGGGTCTGGATCCAGAGGACCAGGGGGTGAGTCGACAGAGGACGAGAGTACTCCGGGGATTGAGAGAGATTTGACTCCGTTCTGGTTACTCTAAGGTGCACCCCCCGCCCACTCCCCAACAAATCACGGGGTCACACCGGAGTAACAGAGATGTAACTTATTGTCGGGTTCCATTTTCCCTATAACATACCCGGAAATTCTGTACCGTACCAAGGTTTCGGTGAATGACCTCCGGTGGACGTCAATTCCTGGGTCTTATCCAAACTTTTACCTCCATCTACTTCTACAATTCGTACCAGGGGAACGCTCCCGAGACGAAGGTTTTTACCTCCCGAATAAGAACTTTCACCTCTTACTTCTTGGTCCGTTTCCCAGGCCGGGACCGAAAGGGTGTGGGTAGGGGAGTGTTACCCCTCGGTACCCGAACACTCTCTGGACGAACGGACTTCCTTCCCCGTTTTCTCTTGACAACTAATGTAGCAATGACTACATGACCCAAGTAGACACGAGTCGCGACCCGGCTAACTCTACTTGTGTGTCACGGACCGGAGGTCGTCGAAAGTCAACACACACATGTACACACACACACGCACTCACACACTCACAACCCCATCCCCAACCCCTAACCTCTGTCTCTTCACTTTTTTGTGGTACCACATATATCGTTACGTTAATCCATTATCCCATAAACTCGGAATGTGTTAAATATTTTAGGAATGATAAAAATCGAGTTTAGTGTGATTAAAATGAAAAAATTGGTTTAGGGTTTGGGTCAATTGGGAGTTTCACAATTTGGACTCGTCAAACAAAAAGCAAAAACAAAAACTCTGTCCCAGAGTGAGACAGTGGACCGACCTCACGTCACCGCACTAGAACCGAGTGACGTCGGAACCGGAGGACCCAAGTTCACTAAGAGGGTGGAGTCGGAGGACTCAACGACCCTGATGTCCGTACATGGTGGTGTGGACCGATAAAAAACCATCTCTGCCCCAAAATGGTATGGTACAACCGGTCCGACCAGAACTTGAGGACTGGAGTTCACTAGACGGGTGGAGTCGGAGGGTTTCACGACCCTAATGTCCGTACTCGGTGACGCGGACCGGGACTCGTCAAAAAAAAAAAAAAACCAACTCTGTCTCAGATCGAGAAAACGGCTCCGACCTCAAGTCACCGCGATAGAGCCGAGTGACGTCGGAGACGGAGGGTCCAAGATCGCTAAGAGGACGGAGTCGGAGGGTTCATCGACCCTGATGTCCGCGAACGGTGGTGCGGGCCGATTAAAAAACACAAAAATCATCTCTACCCCAAAGCGACACAATCGGTCCCACCAGAGGTAGAGGACTGGAGCCCTAGGCGGACGGAACCGGAGGGTTTCACGACCCTATTGTCCACACTCGGTGGTGCGAGTCGGACTCGTCAAAAAAATCACTTCGGGGTCGAAGGGGTGGACATTTTACCCATATTGTGATAGGTACAGTATCCAACGGCGTCCTTAAGCTACAGTAGTCGGTATGACCCGTGTCCCGTATGACAGATGTAGTATCCCTACAACCAGAAGGAAGGGAATCACTGGGTGACTGGAAGTGGATACCTTGTGGTTTGACAGGGTCCCGGGATTAACATATTTTACCAGTCGAGGGACACGACCTCTTGCCGACTGTAAGGACACCTACTGCCCCTAAACCGAACGGAAACTAATGAAAGAAAAAGAGCCCACACCCAAGGTTCAGAGGAGAATAAGTTGGGTCTCCGACCCCAAACTACAAAGGATCGGGGACCCTACTCCCTACCGGTGCGATCTGAGACCGAAAGCGACTCTTCTACCACCTCCCTCGGCAGTCGTCACAGAGACACGTTCGACTCGGGATTACGTATCAACCTCGGGTCACGCACCCTTCGTGTAAGAAGACTGGTGTGTCGAACGGTCTGTGTGTCTCGCGCACAGCCGTCCTCGTGTGGTGGCCCTCTCAAACCGGGCCCCGAACCTTCAAGTTAAACTTGTCCGGAGGTTTTGACCCTTGTCCCGACGTCGGGGTCTGCTTAGAGGTCCGTCGAAGACACTCGAGAGTACAAAGGACGAAGGTTGGACCGGTCCCTAACGTTCGAACGCACCGAAAGAACGAAAGGGCGAAGACCCGAATCCGATGGGCCCTCCGGGTCTTCACACACTTGTGTTCCTTATCGATCCCCAGCCCCACCTTAGTTTATTAAGGAATAAATATAAAGTCCCTAGTGCATCGAACGGGGAAAAAATTAACAGGTAAAGCACCTCACGGATTCTAGCGGGGGTAAAGTCGGAACAACTTACCTGACTATTCTGAAAGACGAAGCATACTATCAATTGGAAACGGTTATTGGTCACATTTTCCGAAGCCACCACTATAAACGAAGAAACACAGAATAGAGAAGGGTTTTATCTTCCACTACTAACCTCTGGGATTAATGGAACATAGAACACCTTTAGAACGATATACTTTCACATTGTTTTTACGTCGTCGAGTGTCATCGCATAGTAAACATCTTTCCTTTTTAGTATCCGGCCCGCACCACCGAGTGCGGATATTAGGGTCATGAAACCCTCCGGCTCCGCCCACCTAGTGAACTCCAGTCCTCAAACTCTGGTCGGACTGGTTGTACCACTTTGGGATAGAGATGGTTTTTATGTTTTAATCGGACTACACCACCACCCGTGGACGTTAGGGTCGATGAACCCTCCGACTCCCGTCCTCTTAGTGAACTTGGACCCTCCGTCTCCAACGTAACTCGGTTCTAGCACGGTGACGTGAGATCGGACCCTTTGTTCTCACTTTGAGGCAGAGTTTTTTTTTTTTTTTTTTTTTTTTTTCTTCCTTTTCAGCATTATCGATCTAGAAAGACTCTGGGTTCTCAATCACAGTTCTGTTATTTAATCGACAAGACGTCGTTCATAAATTATAAAGTCACAAATCTTAGTCACATACACCGTGTAAGTCCGACTCCGGTCCACAATCCTCTTTGACCTGACTCTTGCACCTATCTGCCCGTAACCGGTACCATCTCTGGTTCTTTCCTGTACTGATCAGTAAAGTCCTTGGAATCAGTACCCTGTACCTCCTCCATGTTGTCCCGATTCAAACCTTCGCATCTCTGGGCGATCTGCCCGTCACACCTTCAGAGTCCCCCTCCCCGTCTGTCACTTCTACCGGACCTGATTCCGTAATCGTCACCCTTTCCGTACCACACCTGTGTACCCTTCCGTAAAACCTCAACTTTAGTTGTCCTGAACCCTCCTTACACATTTCTTATGGCCACATATCGAGAGGCTAATTCTCTCTGTTTCGTAACCTCCTCAACTTTGGAACTTAAACTCTGCAGTTCCCTTACAGTCACCCCTTCACAGGGTATCTGTCAACTTTTACTCTTGTACCCAGAGTCCTCCCTCCAGTACTACCTCTATGCTTGAACGCGTATAAAACATACACAAATCTTAATTACGGAACTCCTATATACCTTTATGTATTTGAATTACCTTGTTAAGGAGATAAACTTCCCTGTCTTTTTCTCTTCTCGGTCGGTCTCTAAGATTCTCCCGTCCCTCTCTGTCTCTCCGTCGACTCCCTTCCCCTGCCCTATTTTGATTTGTCTCCCCGACCCACACCACCGAATGTGGACATTAGGATCGTGAAACCCTCCGGCTCCGCCTACCGAGTGGACTCCAGTCCTCAAGCTCTGGTCGGACTGGCTGTACCACTTTGGGGCAGAGATGATTTTTATGTTTTATAATCGGCCCACACCACCGTCCGTGGACATCAGAGTCGATGAGCCCTCCGACTCCGTCCTCTTAGCGAACTTGGGTCCTCCGCCTCCAACGCCACTCGGTTCTAGCGTGGTAACGTGAGGTCGGACCCGCTGTTCCTGTTCTGAGGTACAATTTTGTTTTTTTTGTTTTTGTTCTTTTGGATTTGTCTCCCTGGTAAAATTTTTTGTTCGTTCTTTAGTTATCGTAGACTTCGGTGTCTCCTCCTTGTTGACTCCTCAACCTCCTGCAGTAAACGCAGATTGTTAAGTCTCCAAGAAGTATTCGAAGTCCTCTCCGTTCTCACCTTGTGTCTAATCTTACAAACTCTTCACTGGTCCTTACTTCTTCTGTGTTACAACCTAAAATTGGTTGCGAAGACTTTTAAGTCCAAATTTCCCGTCCTCTCGTTCACAACTCTCTTTTCTAAAATCCTACTAGTCTATGTCTAGATATTCGTCGACTTTCTTTCTGTGACCACACCGACCTGTTGACCTCCATCTTCTCTTATACCAATAAATCAGATGGAAGCGAGAAGTTTTACTAGTAAGATAAATAAATATTAAGGTTTTGTTTATGTACAGCACTAGGTCCGAGAGGCTACTAGGGTCAACTGGACAGAAGAATTAGAATCTCGGTGTGACGCAAAAGAAAAGAAAAGAAAGAAAAAAAAAAAAAAAAAAACTCTGTCTCAGAGTGAGACAGTGGGTCCGACCTCACGTTACCGCACTAGAGTCGAGTGACGTTGGAGACAGAGGGTCCAAGTTCACTAAGAACACGGAGTCGGAGGACTCATCGACCCTGATGTCCACGTGTGGTGGTGCGAGCCGATTAAAAACATCAAAATCGTCTCTACCCTAAAACGGCACAACCGGTCCGACCAGAGCTTGATGACTGGAGTTCACTAGGCGGGTGGAACTGGAGGGTTTCACGACCATAATGTCCGTACTCGGTGGCGTGGGCCGGTGTGACATAAAGAATATCATATGGCGTTGACCAAAAATTGTAGTCGATATAAAAGATAGACGTAAAATTCTTTACTTGTATAAAGGAAAAACAAGACCGCCACAAAACTTTAATCAATAAAGAGAACGAAGAAAGAACTAAAGTCACATAAGTAGCTCTAAATCGTCGGTCTTTACAAAACCATTGTCTTTTGTTACACTACTTTTATCGTCTGAAACCTGAGCGGTCTCTATAGTTGTTATATCTGATAATGTTTTTCTGGTGGTTACATTCAGCTACCGTCATTGTGTCACCCGTCCCCGCCCCCACTCCGAGTCTTACAAGGTCCTTCTTTCCGGCAGTTACAACTCTCGACCCACCCTACCGACCCCTGGGTAAGGGGACGGGGCTAAGGGCAAGAAAACTGAATGATAAGTGTTTGAGAGTTATACGTTTAAATCGGAGATAATACAGTTAAAATCATTTACACTTTGTGAATATATGTCTTATTAGTCGTTGGCGATCCTAAAAGAATACCAAGAGTAGTTCTTGAAAGTATCGTTTTTGATGTCGAACCTTCAATGACCAAATTAAAAACGGATTATTGACCAGTTCCTCGTAGACACACGATCCCTCTATTTCCTATCTTAGGTTCCTCTACCGTAAAATAATTGCCGGGTCTGGACACGTAGAGTGTGTAACAAGTACCAGGAGTAACCCTGACTAAAGACGAGATAACTGACTGATCATTTTTGGCTCTTATAGTCGAGAATTTGTCCCGTATCGGGATAACTCGGACGATTCTATTTAAGAAAATTTATATAAATCAAAAACGTAAAAGGAGATGTAAACGTCCCCGCCGAAGGTCAGTTCACCTACCGAGGTCTTCGGGACAAACTATCTCATATGTGAGTAGTCTCACTACACACTCATTGAGAGAAAAGAGACCGAAAAAGGACCCGAACTCGACGTTTTTATGACATGCATGAAGTGGAAAGAAGGAAGAAATCACCGACGACGTAAAGTGTGTAAGCATCTTCCACGTCCTCGACCGGAATCTTTCCTGTCTAAAATACCATCCGACTATTGGTTACGAGACAATGATTAGACGGACCGAAGTTTCTCGTGTCTTCCACCTTGACGACTGGAGGGGGACGGTCTCGCCTTCAGGAAGGGAACTTGTATAAGTACCTACACGTTGATGTTTCGCCAATAGATTAAGCGGTTCGAGAACCGTACAAGAAGTGAGGTAATTTCCTCATTAGGACCTCGAAAAGGGTGAATGCTCATCAAACAGTATAAAGGGAGATTGGGTCTAAACAGGAATTTCTCACCTCGACTCACTCTACACCAGGTCCGACCCCTGGAGGTGTCCCAGATGAGAGATACAAATAGGGAGTTGTTTTTCCAGACTAGAACGAAACCGTAGGAACTATCGTAAGATCTTTGTGTCATCTTATAAAGATAATACTATATGACTGTTTTGGTCACCCCAGTCCGAGGTTGACTATAAAATCTAAACTTTTAAGTCAACTTCCGACACACGTCACTGAGTATGGACATTAGTTAGGGTCGTGAAACCCTCCCGTTCCGCCCACCTAGTGCTCCAGTCCTCTAGTTCCGGTAGGACCGGTTGTACCACTTTGGGGCAGAGATGATTTTGATGTTTTTAATCGACCCGCATCAATACGCACAGACATTAGAGGTGATGAACCCTCCGACTCCGTCCTCTTAGCGAACTTGGACCCTCAGTCTCCAACGTCACTCGACTCTAACACGGTGACGTGAGGTCGGACCGTTGTCTCGCTCTGAGACAGACCCCTTTTTTTTTAGTGAACTTGATAAAAAATAAACATACTCGTCCTCCTCAAGACCCATCCGTAATTAAGACACGATGGTATCAACCAGGAGAGTTGTTAGGATTTTTTTTCTGTACTGATAGGGTAAAAACGACACTCGTTGACTCCGTGTCTCCGACAAGACGGACAGGACACGACGACGAAAACGAGACATCTTTTGACGCCTCACTTTGTGGTGGTAGCTCATGTCTTCCAACTCAAAGGTCTTGCTGGTACTACATCGATTTGGACCGAGAGAGTCGAACGAGGAGGGTCTCTAACTCGGAGGACTTGAACCGTGTCCTTCAGGTTTAGAGACTTCTCAGTTCACATTTATTTAATACCGGACACTCTACACAAGTCAAAACAACACACGTTGAGTAGACCCCGTACACTAAGGAGTAGGATTGGGGTCGGGTCACGACTAACGGAAACGCTAGAATCATTCAAGGTCTCGGAGACACGTCGTCTACAAGGCGGTCGGTGTGTCCCGTCGACACTAGGACGCCTCAACCGAACGACCGGAATAAGACAGTTGACGGGTAGGACCATCTAGTGTTGGGAACCCAGTCCGTGTATTCCTCAACCTTTCCTCGCATTTCCGAAACTTTGACTCTTTGACTCTAGGAACGTAACGATTGTGGTGTAAATTCTGTTCGTCGAGATAAGGTCTCACTACCGTCAAACGGAAAAACAGATAACTACCTTTTAAGGTAGTCGTGTAGGGGCACAGTAGTAGTAAGCCCCTACGAGAACGTCCCGTCCTTTCTCGTGTATCCTCCTTGACGTCCTCCCGGGTAAACAGAAACTTGAAGTCTTCACTCCTCCACAAATACAGAGTCGACCCGCACAAATCCAAAACCGTTGCACCTACCCAATCATTACGGCACGAAAGAGGAAAACAACGTCGACCAGGAAGCCCCACAATTACACCCTCTAGAAGTGAAATCCCCCGAGCGGGATGGGTCCCTAAGGGCACCTCCTTGAAAAATTCGACGACTTCCTTCCTGTGTCTTACCTATTCGGTCGGTTGACGTGGTTGCTTGACATTCCCGACAACAGAAAGGACGGCCACGGGGTCACCTGAACGGTGTGGTCATTATGGAGAGGACTACATAGAGCAAAAACTTCCGGGGACCAAAGGATTTGTACGAGATTCTTCTTACCGACTTCGAGAGACCCGAGTTAGGTCTCGACCCTATGTATCGCTGTGGCTGTTGGTAATGAACAGACTCTCTTTCTTGTAATAAGACTCATACCTCTCCCGAAACCTAGTCTCCCACAGACCGACGGACCGACTCCCGAGGACTGAAACGTCTCGGTCGTCCTCACCAGAAGGACCCGGTGACACGACGTGGAAGACGCCAGAGGGCACCTCACTGTCCTTCTGGGTGCCCAGTCCTTTGTTCGATCTTTCGGCGCCCCGGCGGGACGTCCCACATCCTAATTCCTTGGTTGTGTCGGAAAGGGACCACCAACACGGACCGGGGGCGGACCGGGGTAGCACCGGTCATCTCTTAGCCACAAAGGTCTTGAAGAGCTTGGTAACTTTTAACGGTAATGTCTAACTGCGGTTGGTGTAAAGGAGTCTCGCTTCCTTGAGCACAAACCAATGGATCCAGAGTGAACACAAAATCACGTCTCTTAATTTGTACACAGGTCCGCGGGAGGAATGACATGGTCTAGACGGACATTTTGGTACTTGACCAAACATCGTTTTGGACGGAGTGTGAAATTCACCTCAATACAACACAAACACTGCACACGGACCACGTTATCTTAGTCACGAAACTTTCCTCAGAGAGACGGAGGACGGAGTTGGGGAGGTCCTAATTGATTCTTCTCACTAACAGGGTCTTTGACGCCAGATAACACATAGTAAAGTACCCCTAAAATATAGTCATTAGGGCACTCACGAAAAGCCACATGGCACCTACAGACTACTTACCGGTGTAAAATATCGTATAATATATTTCCGTAAATAACACGAGAAACAGTAAGGATAACAAAAAAAAGAAAACATTGCATCTCCTAGACAGCTTTGGGTTTTAGTTCTATTCTGGACCCTTCGATTCGGATAGATTCTCAATTAGTCCTTCAATCACACGTCGGGTCACCACCGTCTAATTAAGTAGTTTTTGAACTTCAACATCAAAAGTTTAAAATAAATTAAAAAAAAATTGAGTCCTTCGACACAGTTGATCTTAGTAATTCTGGGTTTCGTGGCCCGTCTATTTATCACCTCGACGAAACCACGACCCGTCCCACAGTCCCCTCCCTTCTGACCTCTGGTCGGGTACCTTTATGCGTAAAAGGAAGTCGGAGGTTTCGTAGAAATCCCACACTGCGGTAACACTCTACAGTGACACCGGGTCCCAATGGTCCCTTTTGTGTATCGACACAGAAAGAACTACCGAAGCTACGGAAAGATTGTACAAAAACATTCAGTTTCACGGAAAGCCTCCTTGACCGTCCCTTCGAAAACCCTTTCACTAAGTACTGGGGGATTAGATCAACGAACCTTCCAAGACTACGTAAAAGGATTAAATGTGGTGCAGGGGTATAACGGATAATTTTGACTGATATTGGTGCATGGGTCACGTATACTTTAATTAAGTTCCTTTAGGTAAAAAGGGTCCATGTACTACTACTCCCTGACAACCGTACGTCACGGGAGGGTCTCTGGTTGCAAGTTCGTCAACCATCTTCTGAACCTAGCTTAAGAGTGAGAGTGTTGGTTACTCCATTCTTGAAGGAAGATCTTCGGGGAACAGGAACCAACAGAACACTCTGTACGCATCACAAAATGTGTGTGTGAGGGGACAACCGACAACCAACCTCAGACACCAGAACAAATAAGAAAAAGGTATCCCAGTCTATCAAGTTGATACCCAAGGAGAGTTTAGTACTAAAAAGAGTCTTGAAGTAAAACACTCAAGACTGAGTACTTTGGTTTCTGTCTCCCTGTAGGGGCTCCGACGGAAGTCACATCGACGACCACCTCGTCAGGCCCCATACACCCTCTCACCCTTTCCCCTTCGTCATAAGTGAACGTAAAACCACACGTACCCTTTTTCGAACCTAAGGACACGTTCAAACTAAGACACGAAACCAGTAATCACCCATTTGACTATTACAAGCAGTAGTAAACGAACTACCTTATGTTACTTCAAAAGATTGTGGTCGAAGACAATGGTGTCATGATAGGATACACTAGGACAACCATTACGATATACGGAACGTCGGAGAAAGATCCACATATATTTGTATGTGACAAAAGATGTTACTCGTTGAATGTACTAAAAATGTATTTTTGTACATGGAAAACAATTTTATAAATAAAAGGGATTTTATAAATACGAGAGCGGACATTAGGGTCGTAAAACCCTTCGGCTCCTCCCGTCTAGTGGACTCCGGTCCTCAAGCTCTCGTCGGACCGGTTGTACCGCTTTGGGACAGAGATGATTTTTATGTTTTTAATCAACCTACACCACCATACACGGACATTAGGGTCGATGAATCCTCCGCTCCATCCCCTTAGCGAACTTGGGTCCTCCACTTCAAACGTCACTGACTCTAACGCGGTGACGTGAGGTCAGACCCTCTGTCTCGTTCTGAAGTAGAGTTTTTCTTTTATTATTATTAAATACTAGGAACGGTTGTTTTATTTGTGAGCAGACAGTGAGTGACACGTTTAAATCGGTACAGTCACCGAGGAAGTTATACGTCTATCTCACGGAAAATATTAATACCTTTCGTATACGAGACTCGTCCTTTCTACTATTTGGGTAGTTCAGATCAGTTTAGAATTCTATCTCTTTAACAATTACTTACATAAAACTCTATAAATTACTCCTACGTGTTATCACAAGAAAATGTGTCCTTTGATTGAGGTTTGGTACGTTAACAGAGTTGTTCTTTTTTCAATTTCAGGGGGTTCATAAAATCTTCCTTTTATTATGTGAATTAAAGACTAAATCCTTTATCAAAATCTCACTAAAAAATTTTTCATTATTAGTTTACATCACTATACTTCAGAATCGAGTCGTCGAAATAGAATACGCAGACTGACACCGGACACGACCTATTTCCTTCTCTAACGTGAATTTACTTATGTCGACTGGAAGTCTTCAACTTTCCTTTCCTTGCCAAGTTCCCCCCCTTCTTTGGTTGAAAGAAGAAGACGGTTTTAACAACAAAGATCATATTCAAGGAAATTGACATCTGAACCTTAGATGACTATAGGGACAAAAAAAGGATAGTCTAGACTTTCAAATACCGAAGTAACTCTTTGACCCTTTTCAACCAGTCCGCGTCACCGAGTACGGACATTAGGGTCGTGAAACCCTCCGGCTCCGTCCGCCTAGTACTCCAGTCCTCAAGGTCTGGTCGGACCGGTTGTACCACTTTGGGACAGAGATGATTTCTATGTTTTTTAATCGGCCCGCACAACCACACGTGGACATTAGGGTCGATGAGGCCCTCCGACTCCGTCCTCTCAGTGAACTTGGCCCCTCCGCCTCCAACGTCACTCGGCTCTAGTACGGTAACGTAAGGTCGGAACCGCTGTCTCGCTCTGAGGCAGAGTTTTTTTTTTTTTTATTTTTATTTTTTCTTTCTTTGGCCCTTTTCGTGATTTCAAGATAAAATTACTAGAGTACAGATACGAGTTTCACTAAATAAATATATAAATGTACATCTCACCCAGGCAACTATGACTTTAAACATAGATCATGGGATTTTATTTTTTCGTCTTACGGTATAACAGACCACCTATATTTTTAGCTTCAAAGAAAGGAAGACTTTTAGTAATGGTATACGAGTTCTTTTTGCCAAGGTAAATCCTGTTTTAAAGCAAAAATAGTAACATTCGTTTTTCAAGAGAAAACTACACCACCCGCACAAACAAAGGTCAACACACCAATTACGACTACAACAACCTTGACTATGTAAGGGGAAGACCCTACGACCCTACCCCTGAGAAAGAGAACGGTTGGGACCACTACTTAATCTCCCAAAACACACACACACACACACACACACACACACACAGAAATTTTTACAGATCAACGGTTGTAAGGTACCCGAGAAAAGACTATTGTGACTCCGACAAACACGACACCAGACGTGAAAAACGGGGGAGAGTCGTTTTGGTGTACAGTATCTTATCAACAACCGAAGACCTACACACTCGTCTTGACGGGGTGACACGGTCGGGTCACCTCCGTCTCTCTGGGTGTTCAAGGGTTAAATCTTTCGAAAAGTATCGAAGTCTTGTCCCCAGCCGTTGACGAAAGACATTTCCCGGTCCCTCATTTATAAAAGTCGAAACGGCCGGGACACCAGAGACAACGTTGAAGCGGTGACATCGGAGTTTCATCGGTGTCTGTTATACATTTATCTACACAAGATCAGACAGAAGATCATTTTAAAATACCTAGGACTTTAACCTTAAAATATATTAACATATATTTAAAATAAGTAAAATTAGGATATTCTATAAGAAGAAGAAAACTAAAAAAAAAAGTTGGCGAATGGTTACAATTTCTGGTAGAAATCGGGAGTCCGGTATGTTTCAGCAGACACCCGTGGGTTCAGCCTCCTTCACAGTGGGACCCCACTAGGTCTCCCGAAAAACGTCGTGGTCGTGACCTACGGAACCCCTCGTTTCCTGTGAAAGACTTAGAGCTTGGAAGTTTTGAAACTTTGAATTGGCTATAAAAGGACTTCAAAGGAAATTGTCACGTAATACCTAAATTGTATGTACTCATACAGATTCGGAAAAAACTTGGACAAATGTAAAAGTTGAGCCTCTCGAAGACTCTCATTAGTCAATGTAGACAATTTAATGGGTGACTTACTTCTTCATAAGGGGAAGTTAATAGGGGCTTTGATGTTATCATTTTACATTAAGTCTTTTATTTATAAGTATCAGAGTTGATGAATTTCCCCCAGACCCCTGGGTGTTGTACAATGGCCAAAAGTAAAACGACCCCGAGCGTAAACTTCGTTCCCGAGATCACTCCTCCACCACATCTGAGTCGCCCAATAAATCCAGGCACACTTCGGCTCAACGGACGGGTCGTGGATATCGAGTTGATCCAAAATAACAAGAGATGGACAGTTATCAACTAAATACTACCTAAGGTTCTCTTTTCGATTCCTGTCGGACCCCATGTAGTCTGCACCAGAGTCCCTCCAGAAGCACCTTCAGTCCACCCGACCCAGAGACAAGTGGAAGATCCCCAGAGGACAGGACAGGGTGCAGGTTATGGGTGTAGAGTTCTCAAACACAAACTTTATTTTGAGAAGAGAAGGGAAGAAAGTCCTTATGAACCTGGAGTCAGTCGGAGAGCTTGGCATAAGTGGAACAATAGGACTGGGTTCTACTTTATTTTGCAGAGAGAAGGGAAGAAAGTCCTTATGAACCTGGAGTCGGTTGGAGAGCTTGTCATAAGTGGATCAATGGGACTGTGTTCTTCAAGAACAAGAAGTCCTCTACTAAGACAAAAAAGAGGTCTGGGGTACGGAATGCTTGGTACGGAAGGAGTCATAGGTGTGTATTTGCCGTCACAATTTTGTACTTACTGACACAGACGGACAGGGGTTTGTCCTGTCGTGACCCTTGGATCGATGTGACTCGTCCCTCTGGTACGGAGGGTCTCGAACAACAGAGGTGAACATATATACCTAGTCTCCTCATTTATTAACCTTTTCATTAGTCGTATACACATTTCTAAATATGTCAACTTTTGAACATTAGAAGGGGTCCTCCTCTTCTTCCAAAGACCTCGTCACCTGACGGTGTTCGGTGGTACATTGGGGAGAGTGGACGGCACGCATGACCGACACCTGGTCATCCTGAGTTCCACCTGCACGCAAGACGGAAGGAACAATTAAAACATTATTAACCTCTTCTAAATACAGTCGTGTGTGAATGTCTCGTGTTTACGTCATATATCCACGACCTACATACATTTATATAAGTTTAATACATATTTATATATAATATATAAATGTTCCTCAATAAAAAACATAACTAAAATTTACCTACAGGGTTACGTGGATCTTTTAACCAGAGAGAAAAAAATTATCGATAAACGATTTACGACAAGAATGTGTATTAAAGAATTAAAAGTGGCTCGTCTCCACCTTTTTATGAAAACGAAAGTCCCTTTTACCATATTGCAATTAAATAATTATTTAACCATTATATGTTTTGTTAATTAGTAAATATCAAAAAAAACATTAAATTCACCGTAAAGATACGTCCGTCGTGTCGTCTGATCAATTAGATAACGAACCTGAATTGATCAATAGTCTAGGAAACTTTTCTCTTATAAATGTTATATACTGATTAAACCCCTTTTACTTCAAAACTAAATAAACACAAATTTACGACGACAGTCTGCTAACAAGAATCTGGAGGATTTACGGGGTATAATTTTCTTGAGTAAGTATCCTTCCACAAAGTAAAACCACACGTTGGGACAGTAATGCAGTTGCGTTGCAGATTGACCTGAAGGGTTCTATTTACCATGGTCGCAGGAGAATTTTCTACGGAATTAGGTAAGGAACTCCTGTCTGGAATCAACTTTACTATCGTCTTACACGAAGAGAGACCGTCGACCGGAAGACGAAGACTCAACGTGTAATTAGTCTAATCGGACATAAGAGAAGTCACTTAAAACTATTACCGAAGGTCTGAGAAACCGCAACCTCTGCGGACAATCCTAGAAGTTCAGGGTAGTATCTTTTAACTTTGTGTCTCAACAAGACGACTATCAAAACCCCTATGCAGGTAGAAAAATTCCCTAACGAAAGTAGATTAAGACCGTCCTGGAGTGGTTTTCTAGGTCGGAGTATGGATGTAGTCTGTTTTATAGCGGCAACAAGGAAGACATGATTTCATAACACAAAACGAAACCTTTGTGGGTGAGTGAAACGTTATCGGCACGTTCTACTTACGTCTAATGTGACTAGAATACACAATGTTTTAACCTCTTTCATAAATTATTTTGGACAATTAAAAATATGACTGTTATTTTTACAAAGATGTCTATAATTACAATTGTTCTGTTTTATTTACAGTGCGTTGAATAAAAAAATTA\n"
     ]
    }
   ],
   "source": [
    "minus_strand_seq = plus_strand_seq.complement()\n",
    "print(minus_strand_seq)"
   ]
  },
  {
   "cell_type": "markdown",
   "metadata": {
    "id": "CXbCwlxGR5CK"
   },
   "source": [
    "__Преобразуем последовательности ДНК в РНК путем замены каждого вхождения тимина (T) урацилом (U) в соответствии с правилами комплементарности Уотсона-Крика.__"
   ]
  },
  {
   "cell_type": "code",
   "execution_count": 20,
   "metadata": {
    "colab": {
     "base_uri": "https://localhost:8080/"
    },
    "id": "Ugk1SxmrJRFX",
    "outputId": "b9e33b77-fad5-4ece-c555-61cd0e61361f"
   },
   "outputs": [
    {
     "data": {
      "text/plain": [
       "Seq('CCGCCGCCGACCUCCUCUCGCGCCACCUCUCGGCUCGCCCGCCCGCCGCCCACG...UUA')"
      ]
     },
     "execution_count": 20,
     "metadata": {},
     "output_type": "execute_result"
    }
   ],
   "source": [
    "m_rna = minus_strand_seq.transcribe()\n",
    "m_rna"
   ]
  },
  {
   "cell_type": "code",
   "execution_count": 21,
   "metadata": {
    "colab": {
     "base_uri": "https://localhost:8080/"
    },
    "id": "pPI7GL1dK7gr",
    "outputId": "f9beff7b-4b11-47f2-d94c-ec919d66505e"
   },
   "outputs": [
    {
     "data": {
      "text/plain": [
       "120128"
      ]
     },
     "execution_count": 21,
     "metadata": {},
     "output_type": "execute_result"
    }
   ],
   "source": [
    "len(m_rna)"
   ]
  },
  {
   "cell_type": "code",
   "execution_count": 22,
   "metadata": {
    "colab": {
     "base_uri": "https://localhost:8080/"
    },
    "id": "INS0ecMDNUlP",
    "outputId": "c5ecda7e-06ff-46fe-c2fa-61ffc1fb2ea6"
   },
   "outputs": [
    {
     "data": {
      "text/plain": [
       "118"
      ]
     },
     "execution_count": 22,
     "metadata": {},
     "output_type": "execute_result"
    }
   ],
   "source": [
    "# Найдем вхождение старт-кодона в последовательности мРНК и отбросим все что до старт-кодона\n",
    "str(m_rna).find('AUG')"
   ]
  },
  {
   "cell_type": "code",
   "execution_count": 23,
   "metadata": {
    "id": "netpolow8NUX"
   },
   "outputs": [],
   "source": [
    "# Отображение последовательности по триплетам\n",
    "def show_in_triplets(seq):\n",
    "  triplets = re.sub('(.{3})', r'\\1 ', str(seq)).split(' ')\n",
    "  return triplets"
   ]
  },
  {
   "cell_type": "code",
   "execution_count": 24,
   "metadata": {
    "colab": {
     "base_uri": "https://localhost:8080/"
    },
    "id": "ioXcQw3q8NUf",
    "outputId": "97fc4df0-2a27-4de8-8141-77fcdcb1c604"
   },
   "outputs": [
    {
     "data": {
      "text/plain": [
       "['CGC', 'AUG', 'GAC', '']"
      ]
     },
     "execution_count": 24,
     "metadata": {},
     "output_type": "execute_result"
    }
   ],
   "source": [
    "show_in_triplets(m_rna[115:124])"
   ]
  },
  {
   "cell_type": "code",
   "execution_count": 25,
   "metadata": {
    "colab": {
     "base_uri": "https://localhost:8080/"
    },
    "id": "fl-A8eWFYlRT",
    "outputId": "ae214b40-3698-456d-9c5c-622149c811d1"
   },
   "outputs": [
    {
     "data": {
      "text/plain": [
       "Seq('AUGGACCGGGCCGCGCCGCUGACGAGAGGCCCGACCGCCCCCGGCCGGCGCUCG...UUA')"
      ]
     },
     "execution_count": 25,
     "metadata": {},
     "output_type": "execute_result"
    }
   ],
   "source": [
    "m_rna_start_translation = m_rna[118::]\n",
    "m_rna_start_translation"
   ]
  },
  {
   "cell_type": "code",
   "execution_count": 26,
   "metadata": {
    "id": "VNxaVhGdKSZV"
   },
   "outputs": [],
   "source": [
    "# m_rna_start = str(m_rna).partition('AUG')\n",
    "# m_rna_start_translation = ''.join(m_rna_start[1::])\n",
    "# print(m_rna_start_translation)\n",
    "# print(len(m_rna_start_translation))"
   ]
  },
  {
   "cell_type": "code",
   "execution_count": 27,
   "metadata": {
    "colab": {
     "base_uri": "https://localhost:8080/"
    },
    "id": "2K6PDM89ZDUB",
    "outputId": "af4b66df-0adc-42a3-a1a3-cdc5982e6a77"
   },
   "outputs": [
    {
     "data": {
      "text/plain": [
       "120010"
      ]
     },
     "execution_count": 27,
     "metadata": {},
     "output_type": "execute_result"
    }
   ],
   "source": [
    "len(m_rna_start_translation)"
   ]
  },
  {
   "cell_type": "markdown",
   "metadata": {
    "id": "5JZADRthTUQ6"
   },
   "source": [
    "__Произведем трансляцию РНК в белок.__"
   ]
  },
  {
   "cell_type": "code",
   "execution_count": 28,
   "metadata": {
    "colab": {
     "base_uri": "https://localhost:8080/"
    },
    "id": "EbKoFllIJbR3",
    "outputId": "c4783567-ccb3-4f94-fa81-e8092f9d6f15"
   },
   "outputs": [
    {
     "name": "stderr",
     "output_type": "stream",
     "text": [
      "/usr/local/lib/python3.9/dist-packages/Bio/Seq.py:2804: BiopythonWarning: Partial codon, len(sequence) not a multiple of three. Explicitly trim the sequence or add trailing N before translation. This may become an error in future.\n",
      "  warnings.warn(\n"
     ]
    },
    {
     "data": {
      "text/plain": [
       "Seq('MDRAAPLTRGPTAPGRRSGPPGLRRRTDARDSEALSARFKPPPLRFGLRKEGEQ...KKI')"
      ]
     },
     "execution_count": 28,
     "metadata": {},
     "output_type": "execute_result"
    }
   ],
   "source": [
    "protein = Seq(m_rna_start_translation).translate()\n",
    "protein"
   ]
  },
  {
   "cell_type": "code",
   "execution_count": 29,
   "metadata": {
    "colab": {
     "base_uri": "https://localhost:8080/"
    },
    "id": "kKqgYRynMl7-",
    "outputId": "604f4f57-d0df-4aba-f6f5-4346ecbcc031"
   },
   "outputs": [
    {
     "data": {
      "text/plain": [
       "40003"
      ]
     },
     "execution_count": 29,
     "metadata": {},
     "output_type": "execute_result"
    }
   ],
   "source": [
    "len(protein)"
   ]
  },
  {
   "cell_type": "code",
   "execution_count": 30,
   "metadata": {
    "id": "uCzW7ci9Jmbb"
   },
   "outputs": [],
   "source": [
    "# Добавим последовательность белка в таблицу\n",
    "df['prot.seq.example'] = str(protein)"
   ]
  },
  {
   "cell_type": "code",
   "execution_count": 31,
   "metadata": {
    "colab": {
     "base_uri": "https://localhost:8080/"
    },
    "id": "UakUlvXzDr9U",
    "outputId": "259353b6-69c6-4ac8-e1ca-6a1eabfc9f78"
   },
   "outputs": [
    {
     "data": {
      "text/plain": [
       "1"
      ]
     },
     "execution_count": 31,
     "metadata": {},
     "output_type": "execute_result"
    }
   ],
   "source": [
    "# Сохраняем полученную последовательность белка в файл\n",
    "record = SeqRecord(protein, id=\"FGFR2 Gene ID: 2263\", description=\"translated Human fibroblast growth factor receptor 2 protein sequence\")\n",
    "outputname = '2263_FGFR2_protein.fasta'\n",
    "SeqIO.write(record, outputname, 'fasta')"
   ]
  },
  {
   "cell_type": "code",
   "execution_count": 32,
   "metadata": {
    "colab": {
     "base_uri": "https://localhost:8080/"
    },
    "id": "-p5ZxFQn9aGt",
    "outputId": "29c84881-a653-42ff-8866-353883335c8f"
   },
   "outputs": [
    {
     "data": {
      "text/plain": [
       "{'DbList': ['pubmed', 'protein', 'nuccore', 'ipg', 'nucleotide', 'structure', 'genome', 'annotinfo', 'assembly', 'bioproject', 'biosample', 'blastdbinfo', 'books', 'cdd', 'clinvar', 'gap', 'gapplus', 'grasp', 'dbvar', 'gene', 'gds', 'geoprofiles', 'homologene', 'medgen', 'mesh', 'nlmcatalog', 'omim', 'orgtrack', 'pmc', 'popset', 'proteinclusters', 'pcassay', 'protfam', 'pccompound', 'pcsubstance', 'seqannot', 'snp', 'sra', 'taxonomy', 'biocollections', 'gtr']}"
      ]
     },
     "execution_count": 32,
     "metadata": {},
     "output_type": "execute_result"
    }
   ],
   "source": [
    "# Получим список баз которым можно обратиться через модуль `Entrez`\n",
    "handle = Entrez.einfo()\n",
    "record = Entrez.read(handle)\n",
    "handle.close()\n",
    "record"
   ]
  },
  {
   "cell_type": "code",
   "execution_count": 33,
   "metadata": {
    "colab": {
     "base_uri": "https://localhost:8080/"
    },
    "id": "fezQ3aTbTB3q",
    "outputId": "2240d04e-26ba-4dd5-8f78-acec6ccd647d"
   },
   "outputs": [
    {
     "data": {
      "text/plain": [
       "{'Count': '27', 'RetMax': '27', 'RetStart': '0', 'IdList': ['1889498142', '1889443442', '1771805607', '1677539445', '1677531698', '1677529853', '1677501539', '2324154561', '1890284386', '1701948118', '394025691', '222144232', '222144230', '1004170713', '2194973501', '568815588', '2217276108', '2217276107', '2217276106', '2217276105', '2217276104', '2217276103', '2217276102', '2217276101', '2217276100', '2217276099', '2217276098'], 'TranslationSet': [{'From': '\"homo sapiens\"[Organism]', 'To': '\"Homo sapiens\"[Organism]'}], 'TranslationStack': [{'Term': 'FGFR2[Gene Name]', 'Field': 'Gene Name', 'Count': '4785', 'Explode': 'N'}, {'Term': '\"Homo sapiens\"[Organism]', 'Field': 'Organism', 'Count': '28318073', 'Explode': 'Y'}, 'AND', {'Term': 'RefSeq[Keyword]', 'Field': 'Keyword', 'Count': '94199127', 'Explode': 'N'}, 'AND'], 'QueryTranslation': 'FGFR2[Gene Name] AND \"Homo sapiens\"[Organism] AND RefSeq[Keyword]'}"
      ]
     },
     "execution_count": 33,
     "metadata": {},
     "output_type": "execute_result"
    }
   ],
   "source": [
    "# Получаем список транскрипций по имени гена из базы `nuccore`\n",
    "handle = Entrez.esearch(db=\"nuccore\",\n",
    "                        term='FGFR2[Gene Name] AND \"homo sapiens\"[Organism] AND RefSeq[Keyword]',\n",
    "                        # usehistory=\"y\",\n",
    "                        retmax=30)\n",
    "record = Entrez.read(handle)\n",
    "handle.close()\n",
    "record"
   ]
  },
  {
   "cell_type": "code",
   "execution_count": 34,
   "metadata": {
    "colab": {
     "base_uri": "https://localhost:8080/"
    },
    "id": "-njbG7M6KqCY",
    "outputId": "471e048e-a28f-4909-f0d4-4d35d5678b5e"
   },
   "outputs": [
    {
     "data": {
      "text/plain": [
       "['1889498142', '1889443442', '1771805607', '1677539445', '1677531698', '1677529853', '1677501539', '2324154561', '1890284386', '1701948118', '394025691', '222144232', '222144230', '1004170713', '2194973501', '568815588', '2217276108', '2217276107', '2217276106', '2217276105', '2217276104', '2217276103', '2217276102', '2217276101', '2217276100', '2217276099', '2217276098']"
      ]
     },
     "execution_count": 34,
     "metadata": {},
     "output_type": "execute_result"
    }
   ],
   "source": [
    "transcript_id_list = record['IdList']\n",
    "transcript_id_list"
   ]
  },
  {
   "cell_type": "code",
   "execution_count": 35,
   "metadata": {
    "id": "0o7KeeRN6zvB"
   },
   "outputs": [],
   "source": [
    "# Выгрузим информацию обо всех транскрипциях гена из `transcript_id_list` \n",
    "def get_transcriptions_info(transcript_id_list):\n",
    "  transcript_info = []\n",
    "  for i in transcript_id_list:\n",
    "    handle = Entrez.efetch(db=\"nuccore\",\n",
    "                           id=i,\n",
    "                           rettype = 'gb',\n",
    "                           retmode = 'text')\n",
    "    info = SeqIO.read(handle, 'gb')\n",
    "    if str(info.name).find('NC') and str(info.name).find('NG'):\n",
    "      transcript_info.append({'id':info.id, 'name':info.name, 'seq':info.seq, 'description':info.description})\n",
    "    # print(info.name)\n",
    "    # print(info.seq)\n",
    "  return transcript_info"
   ]
  },
  {
   "cell_type": "code",
   "execution_count": 36,
   "metadata": {
    "id": "IDAnWR-2MjDK"
   },
   "outputs": [],
   "source": [
    "transcriptions_list = get_transcriptions_info(transcript_id_list)"
   ]
  },
  {
   "cell_type": "code",
   "execution_count": 37,
   "metadata": {
    "colab": {
     "base_uri": "https://localhost:8080/"
    },
    "id": "Zv_LY3b6WaQN",
    "outputId": "26e04e6a-6d24-4183-d4ce-c65e0124b828"
   },
   "outputs": [
    {
     "name": "stdout",
     "output_type": "stream",
     "text": [
      "{'id': 'NM_001144915.2', 'name': 'NM_001144915', 'seq': Seq('AATTTGTTGAGGAATTTCCCCCTAGCCTTGACCCCTTGACAGCTCCCGCTCCTA...TAA'), 'description': 'Homo sapiens fibroblast growth factor receptor 2 (FGFR2), transcript variant 5, mRNA'}\n",
      "{'id': 'NM_001144916.2', 'name': 'NM_001144916', 'seq': Seq('GAGCACACATTGCCTCACTGAAGTGGCTGCACGTATCTGAGTCCTGTAGCTACT...TAA'), 'description': 'Homo sapiens fibroblast growth factor receptor 2 (FGFR2), transcript variant 6, mRNA'}\n",
      "{'id': 'NM_000141.5', 'name': 'NM_000141', 'seq': Seq('GAGAGCGCGGTGGAGAGCCGAGCGGGCGGGCGGCGGGTGCGGAGCGGGCGAGGG...TAA'), 'description': 'Homo sapiens fibroblast growth factor receptor 2 (FGFR2), transcript variant 1, mRNA'}\n",
      "{'id': 'NM_001144918.2', 'name': 'NM_001144918', 'seq': Seq('GAGAGCGCGGTGGAGAGCCGAGCGGGCGGGCGGCGGGTGCGGAGCGGGCGAGGG...TAA'), 'description': 'Homo sapiens fibroblast growth factor receptor 2 (FGFR2), transcript variant 8, mRNA'}\n",
      "{'id': 'NM_001144917.2', 'name': 'NM_001144917', 'seq': Seq('GAGAGCGCGGTGGAGAGCCGAGCGGGCGGGCGGCGGGTGCGGAGCGGGCGAGGG...TAA'), 'description': 'Homo sapiens fibroblast growth factor receptor 2 (FGFR2), transcript variant 7, mRNA'}\n",
      "{'id': 'NM_001320658.2', 'name': 'NM_001320658', 'seq': Seq('GAGAGCGCGGTGGAGAGCCGAGCGGGCGGGCGGCGGGTGCGGAGCGGGCGAGGG...TAA'), 'description': 'Homo sapiens fibroblast growth factor receptor 2 (FGFR2), transcript variant 16, mRNA'}\n",
      "{'id': 'NM_001144919.2', 'name': 'NM_001144919', 'seq': Seq('GAGAGCGCGGTGGAGAGCCGAGCGGGCGGGCGGCGGGTGCGGAGCGGGCGAGGG...AAA'), 'description': 'Homo sapiens fibroblast growth factor receptor 2 (FGFR2), transcript variant 9, mRNA'}\n",
      "{'id': 'NM_022970.4', 'name': 'NM_022970', 'seq': Seq('GAGAGCGCGGTGGAGAGCCGAGCGGGCGGGCGGCGGGTGCGGAGCGGGCGAGGG...TAA'), 'description': 'Homo sapiens fibroblast growth factor receptor 2 (FGFR2), transcript variant 2, mRNA'}\n",
      "{'id': 'NM_001320654.2', 'name': 'NM_001320654', 'seq': Seq('ACAGACTCTCCCGCAGAACTGACCCCAGCAAGAAGCCTTTGGGAGCAGTAGAGA...TAA'), 'description': 'Homo sapiens fibroblast growth factor receptor 2 (FGFR2), transcript variant 15, mRNA'}\n",
      "{'id': 'NR_073009.2', 'name': 'NR_073009', 'seq': Seq('GAGAGCGCGGTGGAGAGCCGAGCGGGCGGGCGGCGGGTGCGGAGCGGGCGAGGG...TAA'), 'description': 'Homo sapiens fibroblast growth factor receptor 2 (FGFR2), transcript variant 14, non-coding RNA'}\n",
      "{'id': 'NM_023029.2', 'name': 'NM_023029', 'seq': Seq('TGACTGCAGCAGCAGCGGCAGCGCCTCGGTTCCTGAGCCCACCGCAGGCTGAAG...AAA'), 'description': 'Homo sapiens fibroblast growth factor receptor 2 (FGFR2), transcript variant 11, mRNA'}\n",
      "{'id': 'NM_001144914.1', 'name': 'NM_001144914', 'seq': Seq('TGACTGCAGCAGCAGCGGCAGCGCCTCGGTTCCTGAGCCCACCGCAGGCTGAAG...AAA'), 'description': 'Homo sapiens fibroblast growth factor receptor 2 (FGFR2), transcript variant 4, mRNA'}\n",
      "{'id': 'NM_001144913.1', 'name': 'NM_001144913', 'seq': Seq('TGACTGCAGCAGCAGCGGCAGCGCCTCGGTTCCTGAGCCCACCGCAGGCTGAAG...AAA'), 'description': 'Homo sapiens fibroblast growth factor receptor 2 (FGFR2), transcript variant 3, mRNA'}\n",
      "{'id': 'XM_017015925.3', 'name': 'XM_017015925', 'seq': Seq('GGCGGCGGCTGGAGGAGAGCGCGGTGGAGAGCCGAGCGGGCGGGCGGCGGGTGC...TAA'), 'description': 'PREDICTED: Homo sapiens fibroblast growth factor receptor 2 (FGFR2), transcript variant X11, mRNA'}\n",
      "{'id': 'XM_017015924.3', 'name': 'XM_017015924', 'seq': Seq('GGCGGCGGCTGGAGGAGAGCGCGGTGGAGAGCCGAGCGGGCGGGCGGCGGGTGC...ATA'), 'description': 'PREDICTED: Homo sapiens fibroblast growth factor receptor 2 (FGFR2), transcript variant X10, mRNA'}\n",
      "{'id': 'XM_024447891.2', 'name': 'XM_024447891', 'seq': Seq('GGCGGCGGCTGGAGGAGAGCGCGGTGGAGAGCCGAGCGGGCGGGCGGCGGGTGC...ATA'), 'description': 'PREDICTED: Homo sapiens fibroblast growth factor receptor 2 (FGFR2), transcript variant X9, mRNA'}\n",
      "{'id': 'XM_024447889.2', 'name': 'XM_024447889', 'seq': Seq('GGCGGCGGCTGGAGGAGAGCGCGGTGGAGAGCCGAGCGGGCGGGCGGCGGGTGC...ATA'), 'description': 'PREDICTED: Homo sapiens fibroblast growth factor receptor 2 (FGFR2), transcript variant X8, mRNA'}\n",
      "{'id': 'XM_024447888.2', 'name': 'XM_024447888', 'seq': Seq('GGCGGCGGCTGGAGGAGAGCGCGGTGGAGAGCCGAGCGGGCGGGCGGCGGGTGC...ATA'), 'description': 'PREDICTED: Homo sapiens fibroblast growth factor receptor 2 (FGFR2), transcript variant X7, mRNA'}\n",
      "{'id': 'XM_024447887.2', 'name': 'XM_024447887', 'seq': Seq('GGCGGCGGCTGGAGGAGAGCGCGGTGGAGAGCCGAGCGGGCGGGCGGCGGGTGC...ATA'), 'description': 'PREDICTED: Homo sapiens fibroblast growth factor receptor 2 (FGFR2), transcript variant X6, mRNA'}\n",
      "{'id': 'XM_024447890.2', 'name': 'XM_024447890', 'seq': Seq('GGCGGCGGCTGGAGGAGAGCGCGGTGGAGAGCCGAGCGGGCGGGCGGCGGGTGC...ATA'), 'description': 'PREDICTED: Homo sapiens fibroblast growth factor receptor 2 (FGFR2), transcript variant X5, mRNA'}\n",
      "{'id': 'XM_017015921.3', 'name': 'XM_017015921', 'seq': Seq('GGCGGCGGCTGGAGGAGAGCGCGGTGGAGAGCCGAGCGGGCGGGCGGCGGGTGC...TAA'), 'description': 'PREDICTED: Homo sapiens fibroblast growth factor receptor 2 (FGFR2), transcript variant X4, mRNA'}\n",
      "{'id': 'XM_017015920.3', 'name': 'XM_017015920', 'seq': Seq('GGCGGCGGCTGGAGGAGAGCGCGGTGGAGAGCCGAGCGGGCGGGCGGCGGGTGC...TAA'), 'description': 'PREDICTED: Homo sapiens fibroblast growth factor receptor 2 (FGFR2), transcript variant X3, mRNA'}\n",
      "{'id': 'XM_006717710.5', 'name': 'XM_006717710', 'seq': Seq('GGCGGCGGCTGGAGGAGAGCGCGGTGGAGAGCCGAGCGGGCGGGCGGCGGGTGC...TAA'), 'description': 'PREDICTED: Homo sapiens fibroblast growth factor receptor 2 (FGFR2), transcript variant X2, mRNA'}\n",
      "{'id': 'XM_006717708.4', 'name': 'XM_006717708', 'seq': Seq('GGCGGCGGCTGGAGGAGAGCGCGGTGGAGAGCCGAGCGGGCGGGCGGCGGGTGC...ATA'), 'description': 'PREDICTED: Homo sapiens fibroblast growth factor receptor 2 (FGFR2), transcript variant X1, mRNA'}\n"
     ]
    }
   ],
   "source": [
    "for transcript in transcriptions_list:\n",
    "  print(transcript)\n",
    "  # print('=' * 200)"
   ]
  },
  {
   "cell_type": "code",
   "execution_count": 38,
   "metadata": {
    "id": "m4Z9rcpFV_Hz"
   },
   "outputs": [],
   "source": [
    "# Находим самую длинную транскрипцию\n",
    "def find_longest_transcript(transcriptions_list):\n",
    "  max = 0\n",
    "  for i in transcriptions_list:\n",
    "    if len(i.get('seq')) > max:\n",
    "      max = len(i.get('seq'))\n",
    "  return max, i.get('name'), i.get('seq'), i.get('description')"
   ]
  },
  {
   "cell_type": "code",
   "execution_count": 39,
   "metadata": {
    "colab": {
     "base_uri": "https://localhost:8080/"
    },
    "id": "fHiCn6opgTXf",
    "outputId": "ab62044d-4a4c-471c-c61b-cb18dd57b78b"
   },
   "outputs": [
    {
     "data": {
      "text/plain": [
       "(4733,\n",
       " 'XM_006717708',\n",
       " Seq('GGCGGCGGCTGGAGGAGAGCGCGGTGGAGAGCCGAGCGGGCGGGCGGCGGGTGC...ATA'),\n",
       " 'PREDICTED: Homo sapiens fibroblast growth factor receptor 2 (FGFR2), transcript variant X1, mRNA')"
      ]
     },
     "execution_count": 39,
     "metadata": {},
     "output_type": "execute_result"
    }
   ],
   "source": [
    "longest_transcript = find_longest_transcript(transcriptions_list)\n",
    "longest_transcript"
   ]
  },
  {
   "cell_type": "code",
   "execution_count": 40,
   "metadata": {
    "colab": {
     "base_uri": "https://localhost:8080/"
    },
    "id": "HZm1EEP3gbMO",
    "outputId": "ecbcd7e5-e7bf-4228-9d5c-479511f1db99"
   },
   "outputs": [
    {
     "name": "stderr",
     "output_type": "stream",
     "text": [
      "/usr/local/lib/python3.9/dist-packages/Bio/Seq.py:2804: BiopythonWarning: Partial codon, len(sequence) not a multiple of three. Explicitly trim the sequence or add trailing N before translation. This may become an error in future.\n",
      "  warnings.warn(\n"
     ]
    },
    {
     "data": {
      "text/plain": [
       "Seq('GGGWRRARWRAERAGGGCGAGEGARAAATKLGRRGAACGVPGPARRLLSGLAGA...FF*')"
      ]
     },
     "execution_count": 40,
     "metadata": {},
     "output_type": "execute_result"
    }
   ],
   "source": [
    "longest_transcript[2].transcribe().translate()"
   ]
  },
  {
   "cell_type": "code",
   "execution_count": 41,
   "metadata": {
    "colab": {
     "base_uri": "https://localhost:8080/"
    },
    "id": "8PrZ03WAgc55",
    "outputId": "458bad3c-0173-44ad-f4b5-670f1840bae6"
   },
   "outputs": [
    {
     "data": {
      "text/plain": [
       "Seq('GGGWRRARWRAERAGGGCGAGEGARAAATKLGRRGAACGVPGPARRLLSGLAGA...FF*')"
      ]
     },
     "execution_count": 41,
     "metadata": {},
     "output_type": "execute_result"
    }
   ],
   "source": [
    "# Переведем нуклеотидную последовательность самой длинной транскрипции в белок\n",
    "long_trans_protein = longest_transcript[2].transcribe().translate()\n",
    "long_trans_protein"
   ]
  },
  {
   "cell_type": "code",
   "execution_count": 42,
   "metadata": {
    "id": "4B2FaLffN9-X"
   },
   "outputs": [],
   "source": [
    "# Добавим сведения о транскрипциях в таблицу\n",
    "df['gr_acid_num'] = len(long_trans_protein)\n",
    "df['num_of_transcripts'] = len(transcriptions_list)"
   ]
  },
  {
   "cell_type": "code",
   "execution_count": 43,
   "metadata": {
    "colab": {
     "base_uri": "https://localhost:8080/",
     "height": 425
    },
    "id": "rucZ9t4UOG_n",
    "outputId": "7a46bd73-23b2-4fb7-93fa-90bbd1b28e25",
    "scrolled": true
   },
   "outputs": [
    {
     "data": {
      "text/html": [
       "\n",
       "  <div id=\"df-4c85dc73-d2bf-4b60-8c7c-6cb69fe4459a\">\n",
       "    <div class=\"colab-df-container\">\n",
       "      <div>\n",
       "<style scoped>\n",
       "    .dataframe tbody tr th:only-of-type {\n",
       "        vertical-align: middle;\n",
       "    }\n",
       "\n",
       "    .dataframe tbody tr th {\n",
       "        vertical-align: top;\n",
       "    }\n",
       "\n",
       "    .dataframe thead th {\n",
       "        text-align: right;\n",
       "    }\n",
       "</style>\n",
       "<table border=\"1\" class=\"dataframe\">\n",
       "  <thead>\n",
       "    <tr style=\"text-align: right;\">\n",
       "      <th></th>\n",
       "      <th>0</th>\n",
       "    </tr>\n",
       "  </thead>\n",
       "  <tbody>\n",
       "    <tr>\n",
       "      <th>gene_name</th>\n",
       "      <td>FGFR2</td>\n",
       "    </tr>\n",
       "    <tr>\n",
       "      <th>gene_id</th>\n",
       "      <td>2263</td>\n",
       "    </tr>\n",
       "    <tr>\n",
       "      <th>interval_from</th>\n",
       "      <td>121478330</td>\n",
       "    </tr>\n",
       "    <tr>\n",
       "      <th>interval_to</th>\n",
       "      <td>121598458</td>\n",
       "    </tr>\n",
       "    <tr>\n",
       "      <th>gi_id</th>\n",
       "      <td>568815588</td>\n",
       "    </tr>\n",
       "    <tr>\n",
       "      <th>nucleotide</th>\n",
       "      <td>NC_000010.11</td>\n",
       "    </tr>\n",
       "    <tr>\n",
       "      <th>strand</th>\n",
       "      <td>minus</td>\n",
       "    </tr>\n",
       "    <tr>\n",
       "      <th>accession</th>\n",
       "      <td>NC_000010</td>\n",
       "    </tr>\n",
       "    <tr>\n",
       "      <th>version</th>\n",
       "      <td>11</td>\n",
       "    </tr>\n",
       "    <tr>\n",
       "      <th>prot.seq.example</th>\n",
       "      <td>MDRAAPLTRGPTAPGRRSGPPGLRRRTDARDSEALSARFKPPPLRF...</td>\n",
       "    </tr>\n",
       "    <tr>\n",
       "      <th>gr_acid_num</th>\n",
       "      <td>1545</td>\n",
       "    </tr>\n",
       "    <tr>\n",
       "      <th>num_of_transcripts</th>\n",
       "      <td>24</td>\n",
       "    </tr>\n",
       "  </tbody>\n",
       "</table>\n",
       "</div>\n",
       "      <button class=\"colab-df-convert\" onclick=\"convertToInteractive('df-4c85dc73-d2bf-4b60-8c7c-6cb69fe4459a')\"\n",
       "              title=\"Convert this dataframe to an interactive table.\"\n",
       "              style=\"display:none;\">\n",
       "        \n",
       "  <svg xmlns=\"http://www.w3.org/2000/svg\" height=\"24px\"viewBox=\"0 0 24 24\"\n",
       "       width=\"24px\">\n",
       "    <path d=\"M0 0h24v24H0V0z\" fill=\"none\"/>\n",
       "    <path d=\"M18.56 5.44l.94 2.06.94-2.06 2.06-.94-2.06-.94-.94-2.06-.94 2.06-2.06.94zm-11 1L8.5 8.5l.94-2.06 2.06-.94-2.06-.94L8.5 2.5l-.94 2.06-2.06.94zm10 10l.94 2.06.94-2.06 2.06-.94-2.06-.94-.94-2.06-.94 2.06-2.06.94z\"/><path d=\"M17.41 7.96l-1.37-1.37c-.4-.4-.92-.59-1.43-.59-.52 0-1.04.2-1.43.59L10.3 9.45l-7.72 7.72c-.78.78-.78 2.05 0 2.83L4 21.41c.39.39.9.59 1.41.59.51 0 1.02-.2 1.41-.59l7.78-7.78 2.81-2.81c.8-.78.8-2.07 0-2.86zM5.41 20L4 18.59l7.72-7.72 1.47 1.35L5.41 20z\"/>\n",
       "  </svg>\n",
       "      </button>\n",
       "      \n",
       "  <style>\n",
       "    .colab-df-container {\n",
       "      display:flex;\n",
       "      flex-wrap:wrap;\n",
       "      gap: 12px;\n",
       "    }\n",
       "\n",
       "    .colab-df-convert {\n",
       "      background-color: #E8F0FE;\n",
       "      border: none;\n",
       "      border-radius: 50%;\n",
       "      cursor: pointer;\n",
       "      display: none;\n",
       "      fill: #1967D2;\n",
       "      height: 32px;\n",
       "      padding: 0 0 0 0;\n",
       "      width: 32px;\n",
       "    }\n",
       "\n",
       "    .colab-df-convert:hover {\n",
       "      background-color: #E2EBFA;\n",
       "      box-shadow: 0px 1px 2px rgba(60, 64, 67, 0.3), 0px 1px 3px 1px rgba(60, 64, 67, 0.15);\n",
       "      fill: #174EA6;\n",
       "    }\n",
       "\n",
       "    [theme=dark] .colab-df-convert {\n",
       "      background-color: #3B4455;\n",
       "      fill: #D2E3FC;\n",
       "    }\n",
       "\n",
       "    [theme=dark] .colab-df-convert:hover {\n",
       "      background-color: #434B5C;\n",
       "      box-shadow: 0px 1px 3px 1px rgba(0, 0, 0, 0.15);\n",
       "      filter: drop-shadow(0px 1px 2px rgba(0, 0, 0, 0.3));\n",
       "      fill: #FFFFFF;\n",
       "    }\n",
       "  </style>\n",
       "\n",
       "      <script>\n",
       "        const buttonEl =\n",
       "          document.querySelector('#df-4c85dc73-d2bf-4b60-8c7c-6cb69fe4459a button.colab-df-convert');\n",
       "        buttonEl.style.display =\n",
       "          google.colab.kernel.accessAllowed ? 'block' : 'none';\n",
       "\n",
       "        async function convertToInteractive(key) {\n",
       "          const element = document.querySelector('#df-4c85dc73-d2bf-4b60-8c7c-6cb69fe4459a');\n",
       "          const dataTable =\n",
       "            await google.colab.kernel.invokeFunction('convertToInteractive',\n",
       "                                                     [key], {});\n",
       "          if (!dataTable) return;\n",
       "\n",
       "          const docLinkHtml = 'Like what you see? Visit the ' +\n",
       "            '<a target=\"_blank\" href=https://colab.research.google.com/notebooks/data_table.ipynb>data table notebook</a>'\n",
       "            + ' to learn more about interactive tables.';\n",
       "          element.innerHTML = '';\n",
       "          dataTable['output_type'] = 'display_data';\n",
       "          await google.colab.output.renderOutput(dataTable, element);\n",
       "          const docLink = document.createElement('div');\n",
       "          docLink.innerHTML = docLinkHtml;\n",
       "          element.appendChild(docLink);\n",
       "        }\n",
       "      </script>\n",
       "    </div>\n",
       "  </div>\n",
       "  "
      ],
      "text/plain": [
       "                                                                    0\n",
       "gene_name                                                       FGFR2\n",
       "gene_id                                                          2263\n",
       "interval_from                                               121478330\n",
       "interval_to                                                 121598458\n",
       "gi_id                                                       568815588\n",
       "nucleotide                                               NC_000010.11\n",
       "strand                                                          minus\n",
       "accession                                                   NC_000010\n",
       "version                                                            11\n",
       "prot.seq.example    MDRAAPLTRGPTAPGRRSGPPGLRRRTDARDSEALSARFKPPPLRF...\n",
       "gr_acid_num                                                      1545\n",
       "num_of_transcripts                                                 24"
      ]
     },
     "execution_count": 43,
     "metadata": {},
     "output_type": "execute_result"
    }
   ],
   "source": [
    "df.T"
   ]
  },
  {
   "cell_type": "markdown",
   "metadata": {},
   "source": [
    "## Задание 3"
   ]
  },
  {
   "cell_type": "code",
   "execution_count": 44,
   "metadata": {
    "colab": {
     "base_uri": "https://localhost:8080/"
    },
    "id": "-8GNmr_7XhuT",
    "outputId": "b0a27ce4-0f17-4414-a35f-f4ad3e4b96f6"
   },
   "outputs": [
    {
     "data": {
      "text/plain": [
       "{'Count': '49', 'RetMax': '49', 'RetStart': '0', 'IdList': ['2134256250', '1850289942', '1847510893', '1845559552', '1589722765', '1564919048', '1554928884', '1554927408', '1434545235', '1358919643', '1274989878', '1057519047', '1057519044', '1057519043', '1057519040', '1057519039', '1057519037', '1057519036', '776587763', '387907372', '387906678', '387906677', '387906676', '281865420', '121918510', '121918509', '121918508', '121918507', '121918506', '121918505', '121918504', '121918502', '121918501', '121918500', '121918499', '121918497', '121918496', '121918495', '121918494', '121918493', '121918492', '121918490', '121918489', '121918488', '121918487', '121913478', '121913477', '79184941', '77543610'], 'TranslationSet': [], 'TranslationStack': [{'Term': '2263[Gene ID]', 'Field': 'Gene ID', 'Count': '51388', 'Explode': 'N'}, {'Term': '\"homo sapiens\"[Organism]', 'Field': 'Organism', 'Count': '1116839409', 'Explode': 'Y'}, 'AND', {'Term': '\"pathogenic\"[Clinical Significance]', 'Field': 'Clinical Significance', 'Count': '130269', 'Explode': 'N'}, 'AND', {'Term': '\"missense variant\"[Function Class]', 'Field': 'Function Class', 'Count': '10256260', 'Explode': 'N'}, 'AND'], 'QueryTranslation': '2263[Gene ID] AND \"homo sapiens\"[Organism] AND \"pathogenic\"[Clinical Significance] AND \"missense variant\"[Function Class]'}"
      ]
     },
     "execution_count": 44,
     "metadata": {},
     "output_type": "execute_result"
    }
   ],
   "source": [
    "# Получаем список ID всех missense мутаций по  ID гена из базы `snp`\n",
    "handle = Entrez.esearch(db=\"snp\",\n",
    "                        term='2263[Gene ID] AND \"homo sapiens\"[Organism] AND \"pathogenic\"[Clinical Significance] AND \"missense variant\"[Function Class]',\n",
    "                        # usehistory=\"y\",\n",
    "                        retmax=100)\n",
    "record = Entrez.read(handle)\n",
    "handle.close()\n",
    "record"
   ]
  },
  {
   "cell_type": "code",
   "execution_count": 45,
   "metadata": {
    "colab": {
     "base_uri": "https://localhost:8080/"
    },
    "id": "H3cCwXdUZmJb",
    "outputId": "327b779d-352b-4a68-dedb-517dcb1cc6e7"
   },
   "outputs": [
    {
     "data": {
      "text/plain": [
       "['2134256250', '1850289942', '1847510893', '1845559552', '1589722765', '1564919048', '1554928884', '1554927408', '1434545235', '1358919643', '1274989878', '1057519047', '1057519044', '1057519043', '1057519040', '1057519039', '1057519037', '1057519036', '776587763', '387907372', '387906678', '387906677', '387906676', '281865420', '121918510', '121918509', '121918508', '121918507', '121918506', '121918505', '121918504', '121918502', '121918501', '121918500', '121918499', '121918497', '121918496', '121918495', '121918494', '121918493', '121918492', '121918490', '121918489', '121918488', '121918487', '121913478', '121913477', '79184941', '77543610']"
      ]
     },
     "execution_count": 45,
     "metadata": {},
     "output_type": "execute_result"
    }
   ],
   "source": [
    "rs_list = record['IdList']\n",
    "rs_list"
   ]
  },
  {
   "cell_type": "code",
   "execution_count": 46,
   "metadata": {
    "id": "DvJsqSBw9A7z"
   },
   "outputs": [],
   "source": [
    "# Получаем информацию по каждой мутации из списка\n",
    "def get_snp_rs_info(rs_list):\n",
    "  snp_rs_info = []\n",
    "  for i in rs_list:\n",
    "    handle = Entrez.esearch(db=\"snp\", term=\"rs\" + i)\n",
    "    record = Entrez.read(handle)\n",
    "    handle.close()\n",
    "    idlist = record[\"IdList\"]\n",
    "    if len(idlist) > 0:\n",
    "        handle = Entrez.esummary(db=\"snp\", id=\",\".join(idlist))\n",
    "        result = Entrez.read(handle)\n",
    "        handle.close()\n",
    "        snp_info = result['DocumentSummarySet']['DocumentSummary'][0]\n",
    "        snp_rs_info.append({'SNP_ID':snp_info['SNP_ID'], 'GENES':snp_info['GENES'], 'ACC':snp_info['ACC'], 'SPDI':snp_info['SPDI']})\n",
    "  return snp_rs_info"
   ]
  },
  {
   "cell_type": "code",
   "execution_count": 47,
   "metadata": {
    "colab": {
     "base_uri": "https://localhost:8080/"
    },
    "id": "VtKmmly81pvh",
    "outputId": "56686346-084d-4d48-b029-0c5957110ee7"
   },
   "outputs": [
    {
     "data": {
      "text/plain": [
       "['1564919048', '1554928884']"
      ]
     },
     "execution_count": 47,
     "metadata": {},
     "output_type": "execute_result"
    }
   ],
   "source": [
    "# Возьмем небольшое количество ID из предыдущего запроса\n",
    "rs_tiny = rs_list[5 : 7]\n",
    "rs_tiny"
   ]
  },
  {
   "cell_type": "code",
   "execution_count": 48,
   "metadata": {
    "colab": {
     "base_uri": "https://localhost:8080/"
    },
    "id": "hCuDChBI_TPt",
    "outputId": "b2315a88-37ee-4ea7-91ad-15d9d233236c"
   },
   "outputs": [
    {
     "data": {
      "text/plain": [
       "[{'SNP_ID': '1564919048',\n",
       "  'GENES': [{'NAME': 'FGFR2', 'GENE_ID': '2263'}],\n",
       "  'ACC': 'NC_000010.11',\n",
       "  'SPDI': 'NC_000010.11:121520105:C:A,NC_000010.11:121520105:C:G,NC_000010.11:121520105:C:T'},\n",
       " {'SNP_ID': '1554928884',\n",
       "  'GENES': [{'NAME': 'FGFR2', 'GENE_ID': '2263'}],\n",
       "  'ACC': 'NC_000010.11',\n",
       "  'SPDI': 'NC_000010.11:121517383:T:A,NC_000010.11:121517383:T:C'}]"
      ]
     },
     "execution_count": 48,
     "metadata": {},
     "output_type": "execute_result"
    }
   ],
   "source": [
    "rs_sample = get_snp_rs_info(rs_tiny)\n",
    "rs_sample"
   ]
  },
  {
   "cell_type": "code",
   "execution_count": 49,
   "metadata": {
    "colab": {
     "base_uri": "https://localhost:8080/",
     "height": 457
    },
    "id": "yVQvY_mKbzMN",
    "outputId": "8653301e-10f8-4c05-9395-a05a3799c977"
   },
   "outputs": [
    {
     "data": {
      "text/html": [
       "\n",
       "  <div id=\"df-31cb8442-565e-40d0-81d6-226ca769e580\">\n",
       "    <div class=\"colab-df-container\">\n",
       "      <div>\n",
       "<style scoped>\n",
       "    .dataframe tbody tr th:only-of-type {\n",
       "        vertical-align: middle;\n",
       "    }\n",
       "\n",
       "    .dataframe tbody tr th {\n",
       "        vertical-align: top;\n",
       "    }\n",
       "\n",
       "    .dataframe thead th {\n",
       "        text-align: right;\n",
       "    }\n",
       "</style>\n",
       "<table border=\"1\" class=\"dataframe\">\n",
       "  <thead>\n",
       "    <tr style=\"text-align: right;\">\n",
       "      <th></th>\n",
       "      <th>0</th>\n",
       "    </tr>\n",
       "  </thead>\n",
       "  <tbody>\n",
       "    <tr>\n",
       "      <th>gene_name</th>\n",
       "      <td>FGFR2</td>\n",
       "    </tr>\n",
       "    <tr>\n",
       "      <th>gene_id</th>\n",
       "      <td>2263</td>\n",
       "    </tr>\n",
       "    <tr>\n",
       "      <th>interval_from</th>\n",
       "      <td>121478330</td>\n",
       "    </tr>\n",
       "    <tr>\n",
       "      <th>interval_to</th>\n",
       "      <td>121598458</td>\n",
       "    </tr>\n",
       "    <tr>\n",
       "      <th>gi_id</th>\n",
       "      <td>568815588</td>\n",
       "    </tr>\n",
       "    <tr>\n",
       "      <th>nucleotide</th>\n",
       "      <td>NC_000010.11</td>\n",
       "    </tr>\n",
       "    <tr>\n",
       "      <th>strand</th>\n",
       "      <td>minus</td>\n",
       "    </tr>\n",
       "    <tr>\n",
       "      <th>accession</th>\n",
       "      <td>NC_000010</td>\n",
       "    </tr>\n",
       "    <tr>\n",
       "      <th>version</th>\n",
       "      <td>11</td>\n",
       "    </tr>\n",
       "    <tr>\n",
       "      <th>prot.seq.example</th>\n",
       "      <td>MDRAAPLTRGPTAPGRRSGPPGLRRRTDARDSEALSARFKPPPLRF...</td>\n",
       "    </tr>\n",
       "    <tr>\n",
       "      <th>gr_acid_num</th>\n",
       "      <td>1545</td>\n",
       "    </tr>\n",
       "    <tr>\n",
       "      <th>num_of_transcripts</th>\n",
       "      <td>24</td>\n",
       "    </tr>\n",
       "    <tr>\n",
       "      <th>rs</th>\n",
       "      <td>49</td>\n",
       "    </tr>\n",
       "  </tbody>\n",
       "</table>\n",
       "</div>\n",
       "      <button class=\"colab-df-convert\" onclick=\"convertToInteractive('df-31cb8442-565e-40d0-81d6-226ca769e580')\"\n",
       "              title=\"Convert this dataframe to an interactive table.\"\n",
       "              style=\"display:none;\">\n",
       "        \n",
       "  <svg xmlns=\"http://www.w3.org/2000/svg\" height=\"24px\"viewBox=\"0 0 24 24\"\n",
       "       width=\"24px\">\n",
       "    <path d=\"M0 0h24v24H0V0z\" fill=\"none\"/>\n",
       "    <path d=\"M18.56 5.44l.94 2.06.94-2.06 2.06-.94-2.06-.94-.94-2.06-.94 2.06-2.06.94zm-11 1L8.5 8.5l.94-2.06 2.06-.94-2.06-.94L8.5 2.5l-.94 2.06-2.06.94zm10 10l.94 2.06.94-2.06 2.06-.94-2.06-.94-.94-2.06-.94 2.06-2.06.94z\"/><path d=\"M17.41 7.96l-1.37-1.37c-.4-.4-.92-.59-1.43-.59-.52 0-1.04.2-1.43.59L10.3 9.45l-7.72 7.72c-.78.78-.78 2.05 0 2.83L4 21.41c.39.39.9.59 1.41.59.51 0 1.02-.2 1.41-.59l7.78-7.78 2.81-2.81c.8-.78.8-2.07 0-2.86zM5.41 20L4 18.59l7.72-7.72 1.47 1.35L5.41 20z\"/>\n",
       "  </svg>\n",
       "      </button>\n",
       "      \n",
       "  <style>\n",
       "    .colab-df-container {\n",
       "      display:flex;\n",
       "      flex-wrap:wrap;\n",
       "      gap: 12px;\n",
       "    }\n",
       "\n",
       "    .colab-df-convert {\n",
       "      background-color: #E8F0FE;\n",
       "      border: none;\n",
       "      border-radius: 50%;\n",
       "      cursor: pointer;\n",
       "      display: none;\n",
       "      fill: #1967D2;\n",
       "      height: 32px;\n",
       "      padding: 0 0 0 0;\n",
       "      width: 32px;\n",
       "    }\n",
       "\n",
       "    .colab-df-convert:hover {\n",
       "      background-color: #E2EBFA;\n",
       "      box-shadow: 0px 1px 2px rgba(60, 64, 67, 0.3), 0px 1px 3px 1px rgba(60, 64, 67, 0.15);\n",
       "      fill: #174EA6;\n",
       "    }\n",
       "\n",
       "    [theme=dark] .colab-df-convert {\n",
       "      background-color: #3B4455;\n",
       "      fill: #D2E3FC;\n",
       "    }\n",
       "\n",
       "    [theme=dark] .colab-df-convert:hover {\n",
       "      background-color: #434B5C;\n",
       "      box-shadow: 0px 1px 3px 1px rgba(0, 0, 0, 0.15);\n",
       "      filter: drop-shadow(0px 1px 2px rgba(0, 0, 0, 0.3));\n",
       "      fill: #FFFFFF;\n",
       "    }\n",
       "  </style>\n",
       "\n",
       "      <script>\n",
       "        const buttonEl =\n",
       "          document.querySelector('#df-31cb8442-565e-40d0-81d6-226ca769e580 button.colab-df-convert');\n",
       "        buttonEl.style.display =\n",
       "          google.colab.kernel.accessAllowed ? 'block' : 'none';\n",
       "\n",
       "        async function convertToInteractive(key) {\n",
       "          const element = document.querySelector('#df-31cb8442-565e-40d0-81d6-226ca769e580');\n",
       "          const dataTable =\n",
       "            await google.colab.kernel.invokeFunction('convertToInteractive',\n",
       "                                                     [key], {});\n",
       "          if (!dataTable) return;\n",
       "\n",
       "          const docLinkHtml = 'Like what you see? Visit the ' +\n",
       "            '<a target=\"_blank\" href=https://colab.research.google.com/notebooks/data_table.ipynb>data table notebook</a>'\n",
       "            + ' to learn more about interactive tables.';\n",
       "          element.innerHTML = '';\n",
       "          dataTable['output_type'] = 'display_data';\n",
       "          await google.colab.output.renderOutput(dataTable, element);\n",
       "          const docLink = document.createElement('div');\n",
       "          docLink.innerHTML = docLinkHtml;\n",
       "          element.appendChild(docLink);\n",
       "        }\n",
       "      </script>\n",
       "    </div>\n",
       "  </div>\n",
       "  "
      ],
      "text/plain": [
       "                                                                    0\n",
       "gene_name                                                       FGFR2\n",
       "gene_id                                                          2263\n",
       "interval_from                                               121478330\n",
       "interval_to                                                 121598458\n",
       "gi_id                                                       568815588\n",
       "nucleotide                                               NC_000010.11\n",
       "strand                                                          minus\n",
       "accession                                                   NC_000010\n",
       "version                                                            11\n",
       "prot.seq.example    MDRAAPLTRGPTAPGRRSGPPGLRRRTDARDSEALSARFKPPPLRF...\n",
       "gr_acid_num                                                      1545\n",
       "num_of_transcripts                                                 24\n",
       "rs                                                                 49"
      ]
     },
     "execution_count": 49,
     "metadata": {},
     "output_type": "execute_result"
    }
   ],
   "source": [
    "# Добавим сведения о количестве missense мутаций FGFR2 в таблицу\n",
    "df['rs'] = len(rs_list)\n",
    "df.T"
   ]
  },
  {
   "cell_type": "code",
   "execution_count": 50,
   "metadata": {
    "colab": {
     "base_uri": "https://localhost:8080/"
    },
    "id": "aiCoPTLZS_E9",
    "outputId": "d27cab06-acbc-4c1f-ead3-fd7e798f02d8"
   },
   "outputs": [
    {
     "data": {
      "text/plain": [
       "MutableSeq('CCGCCGCCGACCTCCTCTCGCGCCACCTCTCGGCTCGCCCGCCCGCCGCCCACG...TTA')"
      ]
     },
     "execution_count": 50,
     "metadata": {},
     "output_type": "execute_result"
    }
   ],
   "source": [
    "# Создаем копию оригинального гена\n",
    "mutable_seq = MutableSeq(minus_strand_seq)\n",
    "mutable_seq"
   ]
  },
  {
   "cell_type": "code",
   "execution_count": 51,
   "metadata": {
    "id": "I5PbpS5Kq-Tg"
   },
   "outputs": [],
   "source": [
    "# Найдем старт кодон\n",
    "def find_start_codon_dna(mutable_seq):\n",
    "  return str(mutable_seq).find('ATG')"
   ]
  },
  {
   "cell_type": "code",
   "execution_count": 52,
   "metadata": {
    "colab": {
     "base_uri": "https://localhost:8080/"
    },
    "id": "cGMlwnWLtJQ0",
    "outputId": "99ba777a-9a95-4e6e-9260-40524d19f50e"
   },
   "outputs": [
    {
     "data": {
      "text/plain": [
       "MutableSeq('ATGGACCGGGCCGCGCCGCTGACGAGAGGCCCGACCGCCCCCGGCCGGCGCTCG...TTA')"
      ]
     },
     "execution_count": 52,
     "metadata": {},
     "output_type": "execute_result"
    }
   ],
   "source": [
    "# Выделим последовательность гена после старт кодона\n",
    "start = find_start_codon_dna(mutable_seq)\n",
    "semantic_seq = mutable_seq[start::]\n",
    "semantic_seq"
   ]
  },
  {
   "cell_type": "markdown",
   "metadata": {
    "id": "LjGKXiPIw2WH"
   },
   "source": [
    "Старт кодон находится в 118-120 положении ДНК. Участок 118-306\n",
    " нуклеотид ДНК будем использовать для мутаций синонимичной замены, миссенс и нонсенс мутаций"
   ]
  },
  {
   "cell_type": "code",
   "execution_count": 53,
   "metadata": {
    "colab": {
     "base_uri": "https://localhost:8080/"
    },
    "id": "y_K2_vrQWZRn",
    "outputId": "e427f59d-1c83-4a8a-ee47-9db19caa15c5"
   },
   "outputs": [
    {
     "name": "stderr",
     "output_type": "stream",
     "text": [
      "/usr/local/lib/python3.9/dist-packages/Bio/Seq.py:2804: BiopythonWarning: Partial codon, len(sequence) not a multiple of three. Explicitly trim the sequence or add trailing N before translation. This may become an error in future.\n",
      "  warnings.warn(\n"
     ]
    },
    {
     "data": {
      "text/plain": [
       "MutableSeq('MDRAAPLTRGPTAPGRRSGPPGLRRRTDARDSEALSARFKPPPLRFGLRKEGEQ...KKI')"
      ]
     },
     "execution_count": 53,
     "metadata": {},
     "output_type": "execute_result"
    }
   ],
   "source": [
    "# Отобразим исходную последовательность белка\n",
    "semantic_seq.transcribe().translate()"
   ]
  },
  {
   "cell_type": "markdown",
   "metadata": {
    "id": "aD5DoCzpFXUt"
   },
   "source": [
    "##### True Silence mutation\n",
    "Для данной мутации мы заменим первый триплет в начале последовательности нашего гена."
   ]
  },
  {
   "cell_type": "code",
   "execution_count": 54,
   "metadata": {
    "id": "Ed1vVB9TH7f7"
   },
   "outputs": [],
   "source": [
    "# Скопируем исходный ген в новую переменную\n",
    "true_silence_seq = mutable_seq"
   ]
  },
  {
   "cell_type": "code",
   "execution_count": 55,
   "metadata": {
    "colab": {
     "base_uri": "https://localhost:8080/"
    },
    "id": "DGF2osDbSwAC",
    "outputId": "d47ce9e0-87b5-4386-a4c4-77351c02603f"
   },
   "outputs": [
    {
     "data": {
      "text/plain": [
       "MutableSeq('CCGCCGCCG')"
      ]
     },
     "execution_count": 55,
     "metadata": {},
     "output_type": "execute_result"
    }
   ],
   "source": [
    "# Отобразим нужный участок последовательности нуклеотидов\n",
    "true_silence_seq[0:9]"
   ]
  },
  {
   "cell_type": "code",
   "execution_count": 56,
   "metadata": {
    "colab": {
     "base_uri": "https://localhost:8080/"
    },
    "id": "L3d7sBirSwAC",
    "outputId": "947ab055-9704-4d9a-a19f-70fa0e66893b"
   },
   "outputs": [
    {
     "data": {
      "text/plain": [
       "MutableSeq('TCTCCGCCG')"
      ]
     },
     "execution_count": 56,
     "metadata": {},
     "output_type": "execute_result"
    }
   ],
   "source": [
    "# Заменим первые три нуклеотида последовательноси 'CCG' на 'TCT'\n",
    "true_silence_seq[0:3] = \"TCT\"\n",
    "true_silence_seq[0:9]"
   ]
  },
  {
   "cell_type": "code",
   "execution_count": 57,
   "metadata": {
    "colab": {
     "base_uri": "https://localhost:8080/"
    },
    "id": "-Hh_izE0H265",
    "outputId": "4d41ace3-9904-49b8-e18d-40f3279e85a5"
   },
   "outputs": [
    {
     "data": {
      "text/plain": [
       "MutableSeq('MDRAAPLTRGPTAPGRRSGPPGLRRRTDARDSEALSARFKPPPLRFGLRKEGEQ...KKI')"
      ]
     },
     "execution_count": 57,
     "metadata": {},
     "output_type": "execute_result"
    }
   ],
   "source": [
    "# Отобразим последовательность белка после изменений (старт кодон в 118 положении)\n",
    "start = find_start_codon_dna(true_silence_seq)\n",
    "true_silence_seq[start::].transcribe().translate()"
   ]
  },
  {
   "cell_type": "code",
   "execution_count": 58,
   "metadata": {
    "colab": {
     "base_uri": "https://localhost:8080/"
    },
    "id": "Ku_hO1BtgFMl",
    "outputId": "425a4666-6572-454c-8a83-a531cc6b3574"
   },
   "outputs": [
    {
     "data": {
      "text/plain": [
       "True"
      ]
     },
     "execution_count": 58,
     "metadata": {},
     "output_type": "execute_result"
    }
   ],
   "source": [
    "# Сравним белковые последовательности до и после изменений\n",
    "semantic_seq.transcribe().translate() == true_silence_seq[start::].transcribe().translate()"
   ]
  },
  {
   "cell_type": "markdown",
   "metadata": {
    "id": "W-iVhOrWDW9T"
   },
   "source": [
    "Последовательность белка не изменилась"
   ]
  },
  {
   "cell_type": "markdown",
   "metadata": {
    "id": "eraw_7xsLGKi"
   },
   "source": [
    "##### Synonimic mutation\n",
    "Для этой и последующих мутаций возьмем участок гена после старт-кодона.\n",
    "Для этого найдем в нуклеотидной последовательности гена позицию первого вхождения триплета `ATG` (`AUG` в мРНК)"
   ]
  },
  {
   "cell_type": "code",
   "execution_count": 59,
   "metadata": {
    "colab": {
     "base_uri": "https://localhost:8080/"
    },
    "id": "4VJmglgGhmfM",
    "outputId": "3351a22e-a139-4d7f-9fcf-b09aa5fe6b79"
   },
   "outputs": [
    {
     "data": {
      "text/plain": [
       "MutableSeq('ATGGACCGGGCCGCGCCGCTGACGAGAGGCCCGACCGCCCCCGGCCGGCGCTCG...TTA')"
      ]
     },
     "execution_count": 59,
     "metadata": {},
     "output_type": "execute_result"
    }
   ],
   "source": [
    "# Скопируем исходный ген в новую переменную\n",
    "synonimic_seq = semantic_seq\n",
    "synonimic_seq"
   ]
  },
  {
   "cell_type": "markdown",
   "metadata": {
    "id": "YPXS6xt2vWCP"
   },
   "source": [
    "Для удобства отобразим участок нуклеотидной последовательности по триплетам, обозначим старт и стоп кодоны в коде ДНК, укажем позиции нуклеотидов (1-я буква триплета) и соответствующих им аминокислот"
   ]
  },
  {
   "cell_type": "code",
   "execution_count": 60,
   "metadata": {
    "id": "3Ka6EYirXE9y"
   },
   "outputs": [],
   "source": [
    "# Функция отображения ДНК по триплетам\n",
    "def view_triplets_dna(string):\n",
    "  protein_seq_pos_num = 0\n",
    "  dna_seq = 0 \n",
    "  codons = [string[i:i+3] for i in range(0, len(string), 3)]\n",
    "  for triplet in codons:\n",
    "    if triplet == 'ATG':\n",
    "      print(f'{protein_seq_pos_num}  {dna_seq}  {triplet}  <<<---START CODON')\n",
    "    elif triplet == 'TAG' or triplet == 'TGA' or triplet == 'TAA':\n",
    "      print(f'{protein_seq_pos_num}  {dna_seq}  {triplet}  <<<---STOP CODON')\n",
    "    else:\n",
    "      print(f'{protein_seq_pos_num}  {dna_seq}  {triplet}')\n",
    "    dna_seq += 3\n",
    "    protein_seq_pos_num += 1"
   ]
  },
  {
   "cell_type": "code",
   "execution_count": 61,
   "metadata": {
    "colab": {
     "base_uri": "https://localhost:8080/"
    },
    "id": "sneWMXvhMLos",
    "outputId": "7b11100b-2ae7-4f52-996c-64516aa20cd3"
   },
   "outputs": [
    {
     "data": {
      "text/plain": [
       "['ATG', 'GAC', 'CGG', 'GCC', 'GCG', 'CCG', 'CTG', 'ACG', 'AGA', 'GGC', '']"
      ]
     },
     "execution_count": 61,
     "metadata": {},
     "output_type": "execute_result"
    }
   ],
   "source": [
    "show_in_triplets(synonimic_seq[:30])"
   ]
  },
  {
   "cell_type": "code",
   "execution_count": 62,
   "metadata": {
    "colab": {
     "base_uri": "https://localhost:8080/"
    },
    "id": "sv_5JDrkZs0o",
    "outputId": "e16967d9-b482-413c-9e0d-b0d7047406f3"
   },
   "outputs": [
    {
     "name": "stdout",
     "output_type": "stream",
     "text": [
      "0  0  ATG  <<<---START CODON\n",
      "1  3  GAC\n",
      "2  6  CGG\n",
      "3  9  GCC\n",
      "4  12  GCG\n",
      "5  15  CCG\n",
      "6  18  CTG\n",
      "7  21  ACG\n",
      "8  24  AGA\n",
      "9  27  GGC\n",
      "10  30  CCG\n",
      "11  33  ACC\n",
      "12  36  GCC\n",
      "13  39  CCC\n",
      "14  42  GGC\n",
      "15  45  CGG\n",
      "16  48  CGC\n",
      "17  51  TCG\n",
      "18  54  GGG\n",
      "19  57  CCC\n",
      "20  60  CCG\n",
      "21  63  GGG\n",
      "22  66  CTC\n",
      "23  69  CGG\n",
      "24  72  CGT\n",
      "25  75  CGA\n",
      "26  78  ACG\n",
      "27  81  GAC\n",
      "28  84  GCG\n",
      "29  87  CGA\n",
      "30  90  GAC\n",
      "31  93  TCG\n",
      "32  96  GAA\n",
      "33  99  GCG\n",
      "34  102  TTG\n",
      "35  105  AGC\n",
      "36  108  GCT\n",
      "37  111  CGT\n",
      "38  114  TTC\n",
      "39  117  AAA\n",
      "40  120  CCA\n",
      "41  123  CCT\n",
      "42  126  CCG\n",
      "43  129  TTG\n",
      "44  132  CGG\n",
      "45  135  TTC\n",
      "46  138  GGA\n",
      "47  141  CTC\n",
      "48  144  AGG\n",
      "49  147  AAA\n",
      "50  150  GAA\n",
      "51  153  GGA\n",
      "52  156  GAG\n",
      "53  159  CAA\n",
      "54  162  GGG\n",
      "55  165  GTT\n",
      "56  168  TAG  <<<---STOP CODON\n",
      "57  171  GCT\n",
      "58  174  CCC\n",
      "59  177  GTC\n",
      "60  180  GGG\n",
      "61  183  CGC\n",
      "62  186  CCG\n"
     ]
    }
   ],
   "source": [
    "view_triplets_dna(synonimic_seq[:189])"
   ]
  },
  {
   "cell_type": "code",
   "execution_count": 63,
   "metadata": {
    "colab": {
     "base_uri": "https://localhost:8080/"
    },
    "id": "CJz4ZkklYOrW",
    "outputId": "1cf7b338-4cc3-41c0-8db0-3b7953754d60"
   },
   "outputs": [
    {
     "data": {
      "text/plain": [
       "MutableSeq('ATGGACCGGGCCGCGCCGCTGACGAGAGGCCCGACCGCCCCCGGCCGGCGCTCG...CCG')"
      ]
     },
     "execution_count": 63,
     "metadata": {},
     "output_type": "execute_result"
    }
   ],
   "source": [
    "synonimic_seq[:189]"
   ]
  },
  {
   "cell_type": "code",
   "execution_count": 64,
   "metadata": {
    "colab": {
     "base_uri": "https://localhost:8080/"
    },
    "id": "VL41M9gywAkn",
    "outputId": "5c48c5f9-0aa2-42f9-dde1-89c95dd3b8fb"
   },
   "outputs": [
    {
     "data": {
      "text/plain": [
       "MutableSeq('MDRAAPLTRGPTAPGRRSGPPGLRRRTDARDSEALSARFKPPPLRFGLRKEGEQ...GRP')"
      ]
     },
     "execution_count": 64,
     "metadata": {},
     "output_type": "execute_result"
    }
   ],
   "source": [
    "synonimic_seq[:189].transcribe().translate()"
   ]
  },
  {
   "cell_type": "markdown",
   "metadata": {
    "id": "252XN2LgxqqW"
   },
   "source": [
    "Как мы видим в начале аминокислотной последовательности белка есть несколько аминокислот 'Аланин'. Посмотрим их кодоны и попробуем заменить так, чтобы аминокислотная последовательность не изменилась"
   ]
  },
  {
   "cell_type": "code",
   "execution_count": 65,
   "metadata": {
    "colab": {
     "base_uri": "https://localhost:8080/"
    },
    "id": "sAtkuYnxKuAr",
    "outputId": "82a1ef2d-ed90-4549-9d96-3de61b3dd387"
   },
   "outputs": [
    {
     "data": {
      "text/plain": [
       "MutableSeq('ATGGACCGGGCCGCG')"
      ]
     },
     "execution_count": 65,
     "metadata": {},
     "output_type": "execute_result"
    }
   ],
   "source": [
    "# Отобразим нужный участок последовательности нуклеотидов\n",
    "synonimic_seq[:15]"
   ]
  },
  {
   "cell_type": "code",
   "execution_count": 66,
   "metadata": {
    "colab": {
     "base_uri": "https://localhost:8080/"
    },
    "id": "pQxw9jMk3Deg",
    "outputId": "5f7879eb-6dce-4459-da60-1e213be7675f"
   },
   "outputs": [
    {
     "data": {
      "text/plain": [
       "MutableSeq('MDRAAPL')"
      ]
     },
     "execution_count": 66,
     "metadata": {},
     "output_type": "execute_result"
    }
   ],
   "source": [
    "# Отобразим белковую последовательность выбранного участка\n",
    "synonimic_seq[0:21].transcribe().translate()"
   ]
  },
  {
   "cell_type": "markdown",
   "metadata": {
    "id": "jVVdJJ5wnmcB"
   },
   "source": [
    "Аминокислота 'Аланин' кодируется одним из четырех триплетов: 'GCT', 'GCC', 'GCA' или 'GCG'. Заменим 2 триплета 'GCC' и 'GCG' в положении 9-14 на 'GCA' и 'GCT'."
   ]
  },
  {
   "cell_type": "code",
   "execution_count": 67,
   "metadata": {
    "colab": {
     "base_uri": "https://localhost:8080/"
    },
    "id": "KF27MZWC8Ept",
    "outputId": "fc2810d5-e3c2-4ba3-e27e-2fd38ad41182"
   },
   "outputs": [
    {
     "data": {
      "text/plain": [
       "MutableSeq('ATGGACCGGGCAGCT')"
      ]
     },
     "execution_count": 67,
     "metadata": {},
     "output_type": "execute_result"
    }
   ],
   "source": [
    "# Заменим последовательность нуклеотидов\n",
    "synonimic_seq[9:12] = \"GCA\"\n",
    "synonimic_seq[12:15] = \"GCT\"\n",
    "synonimic_seq[:15]"
   ]
  },
  {
   "cell_type": "code",
   "execution_count": 68,
   "metadata": {
    "colab": {
     "base_uri": "https://localhost:8080/"
    },
    "id": "p8xugLzAJ9fA",
    "outputId": "f3ae431c-489f-4dbc-8224-1b5d1129ad27"
   },
   "outputs": [
    {
     "data": {
      "text/plain": [
       "MutableSeq('MDRAAPL')"
      ]
     },
     "execution_count": 68,
     "metadata": {},
     "output_type": "execute_result"
    }
   ],
   "source": [
    "# Отобразим мутантную последовательность белка\n",
    "synonimic_seq[:21].transcribe().translate()"
   ]
  },
  {
   "cell_type": "code",
   "execution_count": 69,
   "metadata": {
    "colab": {
     "base_uri": "https://localhost:8080/"
    },
    "id": "lDkGvRrhqOJV",
    "outputId": "17d4f526-5a17-4d9b-f3e1-a39616b6613c"
   },
   "outputs": [
    {
     "data": {
      "text/plain": [
       "True"
      ]
     },
     "execution_count": 69,
     "metadata": {},
     "output_type": "execute_result"
    }
   ],
   "source": [
    "# Сравним белковые последовательности до и после изменений\n",
    "semantic_seq.transcribe().translate() == synonimic_seq.transcribe().translate()"
   ]
  },
  {
   "cell_type": "markdown",
   "metadata": {
    "id": "L81vlRpJCXE_"
   },
   "source": [
    "Не смотря на изменение кода ДНК аминокислотный состав белка остался тем же"
   ]
  },
  {
   "cell_type": "markdown",
   "metadata": {
    "id": "bNi9UDKJKVFd"
   },
   "source": [
    "##### Missense mutation"
   ]
  },
  {
   "cell_type": "code",
   "execution_count": 70,
   "metadata": {
    "colab": {
     "base_uri": "https://localhost:8080/"
    },
    "id": "rQ83wOwGyrvF",
    "outputId": "70cf15de-4024-4ca9-fec0-2ae891413717"
   },
   "outputs": [
    {
     "data": {
      "text/plain": [
       "MutableSeq('ATGGACCGGGCAGCTCCGCTGACGAGAGGCCCGACCGCCCCCGGCCGGCGCTCG...TTA')"
      ]
     },
     "execution_count": 70,
     "metadata": {},
     "output_type": "execute_result"
    }
   ],
   "source": [
    "# Скопируем исходный ген в новую переменную и отбросим нуклеотиды до старт-кодона\n",
    "missense_seq = semantic_seq\n",
    "missense_seq"
   ]
  },
  {
   "cell_type": "code",
   "execution_count": 71,
   "metadata": {
    "colab": {
     "base_uri": "https://localhost:8080/"
    },
    "id": "JXFRnlctJnoY",
    "outputId": "c6a2755e-cb59-45d3-cf91-e007c5d29c49"
   },
   "outputs": [
    {
     "data": {
      "text/plain": [
       "MutableSeq('ATGGACCGGGCAGCTCCGCTGACGAGAGGCCCG')"
      ]
     },
     "execution_count": 71,
     "metadata": {},
     "output_type": "execute_result"
    }
   ],
   "source": [
    "# Отобразим нужный участок последовательности нуклеотидов\n",
    "missense_seq[:33]"
   ]
  },
  {
   "cell_type": "code",
   "execution_count": 72,
   "metadata": {
    "colab": {
     "base_uri": "https://localhost:8080/"
    },
    "id": "7MJ9RkZwEpV-",
    "outputId": "42874810-1c4a-4366-ced2-15145abfdfff"
   },
   "outputs": [
    {
     "data": {
      "text/plain": [
       "MutableSeq('MDRAAPLTRGP')"
      ]
     },
     "execution_count": 72,
     "metadata": {},
     "output_type": "execute_result"
    }
   ],
   "source": [
    "# Отобразим белковую последовательность выбранного участка\n",
    "missense_seq[:33].transcribe().translate()"
   ]
  },
  {
   "cell_type": "markdown",
   "metadata": {
    "id": "XkHwI4dB5-11"
   },
   "source": [
    "Для missense-мутации заменим аминокислоту 'Аргинин' в 9-м положении на 'Аспарагиновую кислоту'. Для этого поменяем триплет 'AGA' [24-26] на 'GAC'"
   ]
  },
  {
   "cell_type": "code",
   "execution_count": 73,
   "metadata": {
    "colab": {
     "base_uri": "https://localhost:8080/"
    },
    "id": "nQeEohylKVPb",
    "outputId": "c351a9f9-875d-4b95-d544-9ad02597a679"
   },
   "outputs": [
    {
     "data": {
      "text/plain": [
       "MutableSeq('ATGGACCGGGCAGCTCCGCTGACGGAC')"
      ]
     },
     "execution_count": 73,
     "metadata": {},
     "output_type": "execute_result"
    }
   ],
   "source": [
    "# Заменим последовательность нуклеотидов\n",
    "missense_seq[24:27] = \"GAC\"\n",
    "missense_seq[:27]"
   ]
  },
  {
   "cell_type": "code",
   "execution_count": 74,
   "metadata": {
    "colab": {
     "base_uri": "https://localhost:8080/"
    },
    "id": "2O75nXtxJG0Y",
    "outputId": "51891d16-4bcc-4c7b-bdd2-f1393e6fa778"
   },
   "outputs": [
    {
     "data": {
      "text/plain": [
       "MutableSeq('MDRAAPLTDGP')"
      ]
     },
     "execution_count": 74,
     "metadata": {},
     "output_type": "execute_result"
    }
   ],
   "source": [
    "# Отобразим мутантную последовательность белка\n",
    "missense_seq[:33].transcribe().translate()"
   ]
  },
  {
   "cell_type": "markdown",
   "metadata": {
    "id": "1LFTcDPMIwe3"
   },
   "source": [
    "##### Nonsense mutation"
   ]
  },
  {
   "cell_type": "code",
   "execution_count": 75,
   "metadata": {
    "colab": {
     "base_uri": "https://localhost:8080/"
    },
    "id": "D89Q0fR39dR3",
    "outputId": "232d7f40-c5de-4c78-9abc-882f7ba38be1"
   },
   "outputs": [
    {
     "data": {
      "text/plain": [
       "MutableSeq('ATGGACCGGGCAGCTCCGCTGACGGACGGCCCGACCGCCCCCGGCCGGCGCTCG...TTA')"
      ]
     },
     "execution_count": 75,
     "metadata": {},
     "output_type": "execute_result"
    }
   ],
   "source": [
    "# Скопируем исходный ген в новую переменную и отбросим нуклеотиды до старт-кодона\n",
    "nonsense_seq = semantic_seq\n",
    "nonsense_seq"
   ]
  },
  {
   "cell_type": "code",
   "execution_count": 76,
   "metadata": {
    "colab": {
     "base_uri": "https://localhost:8080/"
    },
    "id": "ktRfKHKHMlFo",
    "outputId": "f00319c7-d522-439e-97a4-728f07936b10"
   },
   "outputs": [
    {
     "data": {
      "text/plain": [
       "MutableSeq('ATGGACCGGGCAGCTCCGCTGACGGACGGCCCGACCGCCCCCGGCCGGCGC')"
      ]
     },
     "execution_count": 76,
     "metadata": {},
     "output_type": "execute_result"
    }
   ],
   "source": [
    "# Отобразим нужный участок последовательности нуклеотидов\n",
    "nonsense_seq[:51]"
   ]
  },
  {
   "cell_type": "code",
   "execution_count": 77,
   "metadata": {
    "colab": {
     "base_uri": "https://localhost:8080/"
    },
    "id": "MB9PfV7MNNkM",
    "outputId": "fa2dc2cb-b507-433a-862c-7cd9bc737c1a"
   },
   "outputs": [
    {
     "data": {
      "text/plain": [
       "MutableSeq('MDRAAPLTDGPTAPGRR')"
      ]
     },
     "execution_count": 77,
     "metadata": {},
     "output_type": "execute_result"
    }
   ],
   "source": [
    "# Отобразим белковую последовательность выбранного участка\n",
    "nonsense_seq[:51].transcribe().translate()"
   ]
  },
  {
   "cell_type": "code",
   "execution_count": 78,
   "metadata": {
    "colab": {
     "base_uri": "https://localhost:8080/"
    },
    "id": "y-w0MBzPMlFp",
    "outputId": "553c1373-8c36-4768-8a2d-3d7aea7f48c7"
   },
   "outputs": [
    {
     "data": {
      "text/plain": [
       "MutableSeq('ATGGACCGGGCAGCTCCGCTGACGGACGGCTAA')"
      ]
     },
     "execution_count": 78,
     "metadata": {},
     "output_type": "execute_result"
    }
   ],
   "source": [
    "# Заменим последовательность нуклеотидов 'CCG' [30-32] на 'TAA'\n",
    "nonsense_seq[30:33] = \"TAA\"\n",
    "nonsense_seq[:33]"
   ]
  },
  {
   "cell_type": "code",
   "execution_count": 79,
   "metadata": {
    "colab": {
     "base_uri": "https://localhost:8080/"
    },
    "id": "ZzK8k1gkMlFq",
    "outputId": "7a313331-8cc4-4a0e-dfda-14c6159991c3"
   },
   "outputs": [
    {
     "data": {
      "text/plain": [
       "MutableSeq('MDRAAPLTDG*TAPGRR')"
      ]
     },
     "execution_count": 79,
     "metadata": {},
     "output_type": "execute_result"
    }
   ],
   "source": [
    "# Отобразим мутантную последовательность белка\n",
    "nonsense_seq[:51].transcribe().translate()"
   ]
  },
  {
   "cell_type": "markdown",
   "metadata": {
    "id": "zblTW2OfOxcL"
   },
   "source": [
    "В 11-м положении белковой последовательности вместо аминокислоты 'Пролин' (P) появился стоп-кодон. Теперь синтез белка останавливается в этом месте "
   ]
  },
  {
   "cell_type": "markdown",
   "metadata": {
    "id": "WBwOeXH8Iude"
   },
   "source": [
    "__Проверка__"
   ]
  },
  {
   "cell_type": "code",
   "execution_count": 80,
   "metadata": {
    "colab": {
     "base_uri": "https://localhost:8080/"
    },
    "id": "R6Lwg9i0S8fK",
    "outputId": "9095d961-d853-4c0c-935a-17ceeb9f17ba"
   },
   "outputs": [
    {
     "data": {
      "text/plain": [
       "Seq('P')"
      ]
     },
     "execution_count": 80,
     "metadata": {},
     "output_type": "execute_result"
    }
   ],
   "source": [
    "t =   Seq('CCG')\n",
    "t.transcribe().translate()"
   ]
  },
  {
   "cell_type": "code",
   "execution_count": 81,
   "metadata": {
    "colab": {
     "base_uri": "https://localhost:8080/"
    },
    "id": "YJcFXz8KgWqq",
    "outputId": "bf2bb0c8-0879-4e4a-b077-d6a8a3a45f9b"
   },
   "outputs": [
    {
     "data": {
      "text/plain": [
       "Seq('PDVRRM')"
      ]
     },
     "execution_count": 81,
     "metadata": {},
     "output_type": "execute_result"
    }
   ],
   "source": [
    "t =   Seq('CCCGACGUACGCCGCAUG')\n",
    "t.translate()"
   ]
  },
  {
   "cell_type": "markdown",
   "metadata": {},
   "source": [
    "## Задание 4"
   ]
  },
  {
   "cell_type": "code",
   "execution_count": 82,
   "metadata": {
    "colab": {
     "base_uri": "https://localhost:8080/",
     "height": 488
    },
    "id": "ttxkFdl-gYhd",
    "outputId": "b938c36b-8c23-48c4-9350-2311251b3cf5"
   },
   "outputs": [
    {
     "data": {
      "text/html": [
       "\n",
       "  <div id=\"df-833f84d5-44c6-425f-b099-299568800822\">\n",
       "    <div class=\"colab-df-container\">\n",
       "      <div>\n",
       "<style scoped>\n",
       "    .dataframe tbody tr th:only-of-type {\n",
       "        vertical-align: middle;\n",
       "    }\n",
       "\n",
       "    .dataframe tbody tr th {\n",
       "        vertical-align: top;\n",
       "    }\n",
       "\n",
       "    .dataframe thead th {\n",
       "        text-align: right;\n",
       "    }\n",
       "</style>\n",
       "<table border=\"1\" class=\"dataframe\">\n",
       "  <thead>\n",
       "    <tr style=\"text-align: right;\">\n",
       "      <th></th>\n",
       "      <th>0</th>\n",
       "    </tr>\n",
       "  </thead>\n",
       "  <tbody>\n",
       "    <tr>\n",
       "      <th>gene_name</th>\n",
       "      <td>FGFR2</td>\n",
       "    </tr>\n",
       "    <tr>\n",
       "      <th>gene_id</th>\n",
       "      <td>2263</td>\n",
       "    </tr>\n",
       "    <tr>\n",
       "      <th>interval_from</th>\n",
       "      <td>121478330</td>\n",
       "    </tr>\n",
       "    <tr>\n",
       "      <th>interval_to</th>\n",
       "      <td>121598458</td>\n",
       "    </tr>\n",
       "    <tr>\n",
       "      <th>gi_id</th>\n",
       "      <td>568815588</td>\n",
       "    </tr>\n",
       "    <tr>\n",
       "      <th>nucleotide</th>\n",
       "      <td>NC_000010.11</td>\n",
       "    </tr>\n",
       "    <tr>\n",
       "      <th>strand</th>\n",
       "      <td>minus</td>\n",
       "    </tr>\n",
       "    <tr>\n",
       "      <th>accession</th>\n",
       "      <td>NC_000010</td>\n",
       "    </tr>\n",
       "    <tr>\n",
       "      <th>version</th>\n",
       "      <td>11</td>\n",
       "    </tr>\n",
       "    <tr>\n",
       "      <th>prot.seq.example</th>\n",
       "      <td>MDRAAPLTRGPTAPGRRSGPPGLRRRTDARDSEALSARFKPPPLRF...</td>\n",
       "    </tr>\n",
       "    <tr>\n",
       "      <th>gr_acid_num</th>\n",
       "      <td>1545</td>\n",
       "    </tr>\n",
       "    <tr>\n",
       "      <th>num_of_transcripts</th>\n",
       "      <td>24</td>\n",
       "    </tr>\n",
       "    <tr>\n",
       "      <th>rs</th>\n",
       "      <td>49</td>\n",
       "    </tr>\n",
       "    <tr>\n",
       "      <th>3d_structure_known</th>\n",
       "      <td>Yes</td>\n",
       "    </tr>\n",
       "  </tbody>\n",
       "</table>\n",
       "</div>\n",
       "      <button class=\"colab-df-convert\" onclick=\"convertToInteractive('df-833f84d5-44c6-425f-b099-299568800822')\"\n",
       "              title=\"Convert this dataframe to an interactive table.\"\n",
       "              style=\"display:none;\">\n",
       "        \n",
       "  <svg xmlns=\"http://www.w3.org/2000/svg\" height=\"24px\"viewBox=\"0 0 24 24\"\n",
       "       width=\"24px\">\n",
       "    <path d=\"M0 0h24v24H0V0z\" fill=\"none\"/>\n",
       "    <path d=\"M18.56 5.44l.94 2.06.94-2.06 2.06-.94-2.06-.94-.94-2.06-.94 2.06-2.06.94zm-11 1L8.5 8.5l.94-2.06 2.06-.94-2.06-.94L8.5 2.5l-.94 2.06-2.06.94zm10 10l.94 2.06.94-2.06 2.06-.94-2.06-.94-.94-2.06-.94 2.06-2.06.94z\"/><path d=\"M17.41 7.96l-1.37-1.37c-.4-.4-.92-.59-1.43-.59-.52 0-1.04.2-1.43.59L10.3 9.45l-7.72 7.72c-.78.78-.78 2.05 0 2.83L4 21.41c.39.39.9.59 1.41.59.51 0 1.02-.2 1.41-.59l7.78-7.78 2.81-2.81c.8-.78.8-2.07 0-2.86zM5.41 20L4 18.59l7.72-7.72 1.47 1.35L5.41 20z\"/>\n",
       "  </svg>\n",
       "      </button>\n",
       "      \n",
       "  <style>\n",
       "    .colab-df-container {\n",
       "      display:flex;\n",
       "      flex-wrap:wrap;\n",
       "      gap: 12px;\n",
       "    }\n",
       "\n",
       "    .colab-df-convert {\n",
       "      background-color: #E8F0FE;\n",
       "      border: none;\n",
       "      border-radius: 50%;\n",
       "      cursor: pointer;\n",
       "      display: none;\n",
       "      fill: #1967D2;\n",
       "      height: 32px;\n",
       "      padding: 0 0 0 0;\n",
       "      width: 32px;\n",
       "    }\n",
       "\n",
       "    .colab-df-convert:hover {\n",
       "      background-color: #E2EBFA;\n",
       "      box-shadow: 0px 1px 2px rgba(60, 64, 67, 0.3), 0px 1px 3px 1px rgba(60, 64, 67, 0.15);\n",
       "      fill: #174EA6;\n",
       "    }\n",
       "\n",
       "    [theme=dark] .colab-df-convert {\n",
       "      background-color: #3B4455;\n",
       "      fill: #D2E3FC;\n",
       "    }\n",
       "\n",
       "    [theme=dark] .colab-df-convert:hover {\n",
       "      background-color: #434B5C;\n",
       "      box-shadow: 0px 1px 3px 1px rgba(0, 0, 0, 0.15);\n",
       "      filter: drop-shadow(0px 1px 2px rgba(0, 0, 0, 0.3));\n",
       "      fill: #FFFFFF;\n",
       "    }\n",
       "  </style>\n",
       "\n",
       "      <script>\n",
       "        const buttonEl =\n",
       "          document.querySelector('#df-833f84d5-44c6-425f-b099-299568800822 button.colab-df-convert');\n",
       "        buttonEl.style.display =\n",
       "          google.colab.kernel.accessAllowed ? 'block' : 'none';\n",
       "\n",
       "        async function convertToInteractive(key) {\n",
       "          const element = document.querySelector('#df-833f84d5-44c6-425f-b099-299568800822');\n",
       "          const dataTable =\n",
       "            await google.colab.kernel.invokeFunction('convertToInteractive',\n",
       "                                                     [key], {});\n",
       "          if (!dataTable) return;\n",
       "\n",
       "          const docLinkHtml = 'Like what you see? Visit the ' +\n",
       "            '<a target=\"_blank\" href=https://colab.research.google.com/notebooks/data_table.ipynb>data table notebook</a>'\n",
       "            + ' to learn more about interactive tables.';\n",
       "          element.innerHTML = '';\n",
       "          dataTable['output_type'] = 'display_data';\n",
       "          await google.colab.output.renderOutput(dataTable, element);\n",
       "          const docLink = document.createElement('div');\n",
       "          docLink.innerHTML = docLinkHtml;\n",
       "          element.appendChild(docLink);\n",
       "        }\n",
       "      </script>\n",
       "    </div>\n",
       "  </div>\n",
       "  "
      ],
      "text/plain": [
       "                                                                    0\n",
       "gene_name                                                       FGFR2\n",
       "gene_id                                                          2263\n",
       "interval_from                                               121478330\n",
       "interval_to                                                 121598458\n",
       "gi_id                                                       568815588\n",
       "nucleotide                                               NC_000010.11\n",
       "strand                                                          minus\n",
       "accession                                                   NC_000010\n",
       "version                                                            11\n",
       "prot.seq.example    MDRAAPLTRGPTAPGRRSGPPGLRRRTDARDSEALSARFKPPPLRF...\n",
       "gr_acid_num                                                      1545\n",
       "num_of_transcripts                                                 24\n",
       "rs                                                                 49\n",
       "3d_structure_known                                                Yes"
      ]
     },
     "execution_count": 82,
     "metadata": {},
     "output_type": "execute_result"
    }
   ],
   "source": [
    "# Добавим сведения о 3D-структуре FGFR2 в таблицу\n",
    "df['3d_structure_known'] = 'Yes'\n",
    "df.T"
   ]
  }
 ],
 "metadata": {
  "accelerator": "GPU",
  "colab": {
   "provenance": []
  },
  "gpuClass": "standard",
  "kernelspec": {
   "display_name": "Python 3 (ipykernel)",
   "language": "python",
   "name": "python3"
  },
  "language_info": {
   "codemirror_mode": {
    "name": "ipython",
    "version": 3
   },
   "file_extension": ".py",
   "mimetype": "text/x-python",
   "name": "python",
   "nbconvert_exporter": "python",
   "pygments_lexer": "ipython3",
   "version": "3.9.16"
  },
  "nbTranslate": {
   "displayLangs": [
    "*"
   ],
   "hotkey": "alt-t",
   "langInMainMenu": true,
   "sourceLang": "en",
   "targetLang": "fr",
   "useGoogleTranslate": true
  },
  "toc": {
   "base_numbering": 1,
   "nav_menu": {},
   "number_sections": false,
   "sideBar": true,
   "skip_h1_title": false,
   "title_cell": "Table of Contents",
   "title_sidebar": "Contents",
   "toc_cell": false,
   "toc_position": {
    "height": "calc(100% - 180px)",
    "left": "10px",
    "top": "150px",
    "width": "307.2px"
   },
   "toc_section_display": true,
   "toc_window_display": false
  },
  "varInspector": {
   "cols": {
    "lenName": 16,
    "lenType": 16,
    "lenVar": 40
   },
   "kernels_config": {
    "python": {
     "delete_cmd_postfix": "",
     "delete_cmd_prefix": "del ",
     "library": "var_list.py",
     "varRefreshCmd": "print(var_dic_list())"
    },
    "r": {
     "delete_cmd_postfix": ") ",
     "delete_cmd_prefix": "rm(",
     "library": "var_list.r",
     "varRefreshCmd": "cat(var_dic_list()) "
    }
   },
   "types_to_exclude": [
    "module",
    "function",
    "builtin_function_or_method",
    "instance",
    "_Feature"
   ],
   "window_display": false
  }
 },
 "nbformat": 4,
 "nbformat_minor": 1
}
