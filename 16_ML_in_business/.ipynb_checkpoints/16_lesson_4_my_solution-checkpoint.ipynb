{
 "cells": [
  {
   "cell_type": "markdown",
   "metadata": {
    "id": "nl1cxvAZptH-"
   },
   "source": [
    "# Урок 4. Uplift-моделирование\n",
    "## Домашнее задание"
   ]
  },
  {
   "cell_type": "markdown",
   "metadata": {
    "id": "XTsJzoIhptIU"
   },
   "source": [
    "1. скачать набор данных маркетинговых кампаний отсюда https://www.kaggle.com/davinwijaya/customer-retention\n",
    "2. там поле conversion - это целевая переменная, а offer - коммуникация. Переименовать поля (conversion -> target, offer -> treatment) и привести поле treatment к бинарному виду (1 или 0, т.е было какое-то предложение или нет) - значение No Offer означает отсутствие коммуникации, а все остальные - наличие.\n",
    "3. сделать разбиение набора данных не тренировочную и тестовую выборки\n",
    "4. сделать feature engineering на ваше усмотрение (допускается свобода выбора методов)\n",
    "5. провести uplift-моделирование 3 способами: одна модель с признаком коммуникации (S learner), модель с трансформацией таргета (трансформация классов п. 2. 1) и вариант с двумя независимыми моделями\n",
    "6. в конце вывести единую таблицу сравнения метрик uplift@10%, uplift@20% этих 3 моделей\n",
    "7. построить модель UpliftTreeClassifier и попытаться описать словами полученное дерево\n",
    "8. (опционально) для модели S learner (модель с дополнительным признаком коммуникации) построить зависимость таргета (конверсии - поле conversion) от значения uplift: 1) сделать прогноз и получить uplift для тестовой выборки 2) отсортировать тестовую выборку по uplift по убыванию 3) разбить на децили (pandas qcut вам в помощь) 4) для каждого дециля посчитать среднюю conversion\n",
    "9. (опционально) построить модель UpliftRandomForestClassifier и попытаться описать словами полученное дерево"
   ]
  },
  {
   "cell_type": "markdown",
   "metadata": {
    "id": "5i_w-sLIptIN"
   },
   "source": [
    "## Практический пример с соревнования X5 \n",
    "\n",
    "http://retailhero.ai/#rec141268104"
   ]
  },
  {
   "cell_type": "markdown",
   "metadata": {
    "id": "blTG7THkptIN"
   },
   "source": [
    "Импортируем нужные библиотеки и предобработаем данные:"
   ]
  },
  {
   "cell_type": "code",
   "execution_count": 1,
   "metadata": {
    "ExecuteTime": {
     "end_time": "2022-11-10T16:46:18.627749Z",
     "start_time": "2022-11-10T16:46:17.176873Z"
    },
    "id": "ktoJBz6aptIN"
   },
   "outputs": [],
   "source": [
    "%matplotlib inline\n",
    "\n",
    "import pandas as pd; pd.set_option('display.max_columns', None)\n",
    "from sklearn.model_selection import train_test_split"
   ]
  },
  {
   "cell_type": "markdown",
   "metadata": {
    "id": "mBIU3psz3xvv"
   },
   "source": [
    "## Загрузка данных"
   ]
  },
  {
   "cell_type": "code",
   "execution_count": null,
   "metadata": {
    "colab": {
     "base_uri": "https://localhost:8080/"
    },
    "id": "4mGeOqUD34qE",
    "outputId": "4b276e98-f351-4519-df7d-1c3517a73a1d"
   },
   "outputs": [
    {
     "name": "stdout",
     "output_type": "stream",
     "text": [
      "Mounted at /content/drive\n"
     ]
    }
   ],
   "source": [
    "from google.colab import drive\n",
    "drive.mount('/content/drive')"
   ]
  },
  {
   "cell_type": "code",
   "execution_count": null,
   "metadata": {
    "id": "MXTzts6J4K-J"
   },
   "outputs": [],
   "source": [
    "path = '/content/drive/MyDrive/Colab Notebooks/ML в бизнесе/Lesson4/'"
   ]
  },
  {
   "cell_type": "code",
   "execution_count": 2,
   "metadata": {
    "ExecuteTime": {
     "end_time": "2022-11-10T16:46:36.209161Z",
     "start_time": "2022-11-10T16:46:36.127307Z"
    },
    "colab": {
     "base_uri": "https://localhost:8080/",
     "height": 143
    },
    "id": "HxfzyLeR32UE",
    "outputId": "d843d3a2-d0dc-4729-a23d-4c55009133a8"
   },
   "outputs": [
    {
     "data": {
      "text/html": [
       "<div>\n",
       "<style scoped>\n",
       "    .dataframe tbody tr th:only-of-type {\n",
       "        vertical-align: middle;\n",
       "    }\n",
       "\n",
       "    .dataframe tbody tr th {\n",
       "        vertical-align: top;\n",
       "    }\n",
       "\n",
       "    .dataframe thead th {\n",
       "        text-align: right;\n",
       "    }\n",
       "</style>\n",
       "<table border=\"1\" class=\"dataframe\">\n",
       "  <thead>\n",
       "    <tr style=\"text-align: right;\">\n",
       "      <th></th>\n",
       "      <th>recency</th>\n",
       "      <th>history</th>\n",
       "      <th>used_discount</th>\n",
       "      <th>used_bogo</th>\n",
       "      <th>zip_code</th>\n",
       "      <th>is_referral</th>\n",
       "      <th>channel</th>\n",
       "      <th>offer</th>\n",
       "      <th>conversion</th>\n",
       "    </tr>\n",
       "  </thead>\n",
       "  <tbody>\n",
       "    <tr>\n",
       "      <th>0</th>\n",
       "      <td>10</td>\n",
       "      <td>142.44</td>\n",
       "      <td>1</td>\n",
       "      <td>0</td>\n",
       "      <td>Surburban</td>\n",
       "      <td>0</td>\n",
       "      <td>Phone</td>\n",
       "      <td>Buy One Get One</td>\n",
       "      <td>0</td>\n",
       "    </tr>\n",
       "    <tr>\n",
       "      <th>1</th>\n",
       "      <td>6</td>\n",
       "      <td>329.08</td>\n",
       "      <td>1</td>\n",
       "      <td>1</td>\n",
       "      <td>Rural</td>\n",
       "      <td>1</td>\n",
       "      <td>Web</td>\n",
       "      <td>No Offer</td>\n",
       "      <td>0</td>\n",
       "    </tr>\n",
       "    <tr>\n",
       "      <th>2</th>\n",
       "      <td>7</td>\n",
       "      <td>180.65</td>\n",
       "      <td>0</td>\n",
       "      <td>1</td>\n",
       "      <td>Surburban</td>\n",
       "      <td>1</td>\n",
       "      <td>Web</td>\n",
       "      <td>Buy One Get One</td>\n",
       "      <td>0</td>\n",
       "    </tr>\n",
       "  </tbody>\n",
       "</table>\n",
       "</div>"
      ],
      "text/plain": [
       "   recency  history  used_discount  used_bogo   zip_code  is_referral channel  \\\n",
       "0       10   142.44              1          0  Surburban            0   Phone   \n",
       "1        6   329.08              1          1      Rural            1     Web   \n",
       "2        7   180.65              0          1  Surburban            1     Web   \n",
       "\n",
       "             offer  conversion  \n",
       "0  Buy One Get One           0  \n",
       "1         No Offer           0  \n",
       "2  Buy One Get One           0  "
      ]
     },
     "execution_count": 2,
     "metadata": {},
     "output_type": "execute_result"
    }
   ],
   "source": [
    "df = pd.read_csv('16_4_files/HW_data.csv')\n",
    "df.head(3)"
   ]
  },
  {
   "cell_type": "markdown",
   "metadata": {
    "id": "cyK1bXgM5Kt_"
   },
   "source": [
    "### Задание 2. Переименовать поля (conversion -> target, offer -> treatment) и привести поле treatment к бинарному виду (1 или 0, т.е было какое-то предложение или нет) - значение No Offer означает отсутствие коммуникации, а все остальные - наличие."
   ]
  },
  {
   "cell_type": "code",
   "execution_count": 3,
   "metadata": {
    "ExecuteTime": {
     "end_time": "2022-11-10T16:47:27.903257Z",
     "start_time": "2022-11-10T16:47:27.889304Z"
    },
    "id": "4qNnUvwl5HiV"
   },
   "outputs": [],
   "source": [
    "df.rename(columns={'conversion': 'target', 'offer': 'treatment'}, inplace=True)"
   ]
  },
  {
   "cell_type": "code",
   "execution_count": 4,
   "metadata": {
    "ExecuteTime": {
     "end_time": "2022-11-10T16:47:28.898407Z",
     "start_time": "2022-11-10T16:47:28.867522Z"
    },
    "id": "ZAgxD-L7w-bc"
   },
   "outputs": [],
   "source": [
    "df['treatment'] = df['treatment'].apply(lambda x: 0 if x == 'No Offer' else 1)"
   ]
  },
  {
   "cell_type": "code",
   "execution_count": 5,
   "metadata": {
    "ExecuteTime": {
     "end_time": "2022-11-10T16:47:29.718032Z",
     "start_time": "2022-11-10T16:47:29.698053Z"
    },
    "colab": {
     "base_uri": "https://localhost:8080/"
    },
    "id": "sk8--hO17yPf",
    "outputId": "fd262bd2-c29d-40b0-bd80-6a18874fda0b"
   },
   "outputs": [
    {
     "data": {
      "text/plain": [
       "1    42694\n",
       "0    21306\n",
       "Name: treatment, dtype: int64"
      ]
     },
     "execution_count": 5,
     "metadata": {},
     "output_type": "execute_result"
    }
   ],
   "source": [
    "df['treatment'].value_counts()"
   ]
  },
  {
   "cell_type": "code",
   "execution_count": 6,
   "metadata": {
    "ExecuteTime": {
     "end_time": "2022-11-10T16:47:31.028313Z",
     "start_time": "2022-11-10T16:47:31.012355Z"
    },
    "colab": {
     "base_uri": "https://localhost:8080/",
     "height": 206
    },
    "id": "0cGjdFUH8hHc",
    "outputId": "6dc9125d-42fa-40e7-aa5e-94433efb1e60"
   },
   "outputs": [
    {
     "data": {
      "text/html": [
       "<div>\n",
       "<style scoped>\n",
       "    .dataframe tbody tr th:only-of-type {\n",
       "        vertical-align: middle;\n",
       "    }\n",
       "\n",
       "    .dataframe tbody tr th {\n",
       "        vertical-align: top;\n",
       "    }\n",
       "\n",
       "    .dataframe thead th {\n",
       "        text-align: right;\n",
       "    }\n",
       "</style>\n",
       "<table border=\"1\" class=\"dataframe\">\n",
       "  <thead>\n",
       "    <tr style=\"text-align: right;\">\n",
       "      <th></th>\n",
       "      <th>recency</th>\n",
       "      <th>history</th>\n",
       "      <th>used_discount</th>\n",
       "      <th>used_bogo</th>\n",
       "      <th>zip_code</th>\n",
       "      <th>is_referral</th>\n",
       "      <th>channel</th>\n",
       "      <th>treatment</th>\n",
       "      <th>target</th>\n",
       "    </tr>\n",
       "  </thead>\n",
       "  <tbody>\n",
       "    <tr>\n",
       "      <th>0</th>\n",
       "      <td>10</td>\n",
       "      <td>142.44</td>\n",
       "      <td>1</td>\n",
       "      <td>0</td>\n",
       "      <td>Surburban</td>\n",
       "      <td>0</td>\n",
       "      <td>Phone</td>\n",
       "      <td>1</td>\n",
       "      <td>0</td>\n",
       "    </tr>\n",
       "    <tr>\n",
       "      <th>1</th>\n",
       "      <td>6</td>\n",
       "      <td>329.08</td>\n",
       "      <td>1</td>\n",
       "      <td>1</td>\n",
       "      <td>Rural</td>\n",
       "      <td>1</td>\n",
       "      <td>Web</td>\n",
       "      <td>0</td>\n",
       "      <td>0</td>\n",
       "    </tr>\n",
       "    <tr>\n",
       "      <th>2</th>\n",
       "      <td>7</td>\n",
       "      <td>180.65</td>\n",
       "      <td>0</td>\n",
       "      <td>1</td>\n",
       "      <td>Surburban</td>\n",
       "      <td>1</td>\n",
       "      <td>Web</td>\n",
       "      <td>1</td>\n",
       "      <td>0</td>\n",
       "    </tr>\n",
       "    <tr>\n",
       "      <th>3</th>\n",
       "      <td>9</td>\n",
       "      <td>675.83</td>\n",
       "      <td>1</td>\n",
       "      <td>0</td>\n",
       "      <td>Rural</td>\n",
       "      <td>1</td>\n",
       "      <td>Web</td>\n",
       "      <td>1</td>\n",
       "      <td>0</td>\n",
       "    </tr>\n",
       "    <tr>\n",
       "      <th>4</th>\n",
       "      <td>2</td>\n",
       "      <td>45.34</td>\n",
       "      <td>1</td>\n",
       "      <td>0</td>\n",
       "      <td>Urban</td>\n",
       "      <td>0</td>\n",
       "      <td>Web</td>\n",
       "      <td>1</td>\n",
       "      <td>0</td>\n",
       "    </tr>\n",
       "  </tbody>\n",
       "</table>\n",
       "</div>"
      ],
      "text/plain": [
       "   recency  history  used_discount  used_bogo   zip_code  is_referral channel  \\\n",
       "0       10   142.44              1          0  Surburban            0   Phone   \n",
       "1        6   329.08              1          1      Rural            1     Web   \n",
       "2        7   180.65              0          1  Surburban            1     Web   \n",
       "3        9   675.83              1          0      Rural            1     Web   \n",
       "4        2    45.34              1          0      Urban            0     Web   \n",
       "\n",
       "   treatment  target  \n",
       "0          1       0  \n",
       "1          0       0  \n",
       "2          1       0  \n",
       "3          1       0  \n",
       "4          1       0  "
      ]
     },
     "execution_count": 6,
     "metadata": {},
     "output_type": "execute_result"
    }
   ],
   "source": [
    "df.head()"
   ]
  },
  {
   "cell_type": "code",
   "execution_count": 7,
   "metadata": {
    "ExecuteTime": {
     "end_time": "2022-11-10T16:47:33.344052Z",
     "start_time": "2022-11-10T16:47:33.291193Z"
    },
    "colab": {
     "base_uri": "https://localhost:8080/"
    },
    "id": "SO_vEKTR6kLR",
    "outputId": "c6e61d1f-93e1-4f6e-f17a-59d6c484213e"
   },
   "outputs": [
    {
     "name": "stdout",
     "output_type": "stream",
     "text": [
      "<class 'pandas.core.frame.DataFrame'>\n",
      "RangeIndex: 64000 entries, 0 to 63999\n",
      "Data columns (total 9 columns):\n",
      " #   Column         Non-Null Count  Dtype  \n",
      "---  ------         --------------  -----  \n",
      " 0   recency        64000 non-null  int64  \n",
      " 1   history        64000 non-null  float64\n",
      " 2   used_discount  64000 non-null  int64  \n",
      " 3   used_bogo      64000 non-null  int64  \n",
      " 4   zip_code       64000 non-null  object \n",
      " 5   is_referral    64000 non-null  int64  \n",
      " 6   channel        64000 non-null  object \n",
      " 7   treatment      64000 non-null  int64  \n",
      " 8   target         64000 non-null  int64  \n",
      "dtypes: float64(1), int64(6), object(2)\n",
      "memory usage: 4.4+ MB\n"
     ]
    }
   ],
   "source": [
    "df.info()"
   ]
  },
  {
   "cell_type": "code",
   "execution_count": 8,
   "metadata": {
    "ExecuteTime": {
     "end_time": "2022-11-10T16:47:35.113602Z",
     "start_time": "2022-11-10T16:47:35.088666Z"
    },
    "colab": {
     "base_uri": "https://localhost:8080/",
     "height": 143
    },
    "id": "VL8u_x6nptIP",
    "outputId": "1985b590-1196-4b01-ce86-01b64d35736c"
   },
   "outputs": [
    {
     "data": {
      "text/html": [
       "<div>\n",
       "<style scoped>\n",
       "    .dataframe tbody tr th:only-of-type {\n",
       "        vertical-align: middle;\n",
       "    }\n",
       "\n",
       "    .dataframe tbody tr th {\n",
       "        vertical-align: top;\n",
       "    }\n",
       "\n",
       "    .dataframe thead th {\n",
       "        text-align: right;\n",
       "    }\n",
       "</style>\n",
       "<table border=\"1\" class=\"dataframe\">\n",
       "  <thead>\n",
       "    <tr style=\"text-align: right;\">\n",
       "      <th></th>\n",
       "      <th>count</th>\n",
       "      <th>mean</th>\n",
       "      <th>std</th>\n",
       "      <th>min</th>\n",
       "      <th>25%</th>\n",
       "      <th>50%</th>\n",
       "      <th>75%</th>\n",
       "      <th>max</th>\n",
       "    </tr>\n",
       "    <tr>\n",
       "      <th>treatment</th>\n",
       "      <th></th>\n",
       "      <th></th>\n",
       "      <th></th>\n",
       "      <th></th>\n",
       "      <th></th>\n",
       "      <th></th>\n",
       "      <th></th>\n",
       "      <th></th>\n",
       "    </tr>\n",
       "  </thead>\n",
       "  <tbody>\n",
       "    <tr>\n",
       "      <th>0</th>\n",
       "      <td>21306.0</td>\n",
       "      <td>0.106167</td>\n",
       "      <td>0.308059</td>\n",
       "      <td>0.0</td>\n",
       "      <td>0.0</td>\n",
       "      <td>0.0</td>\n",
       "      <td>0.0</td>\n",
       "      <td>1.0</td>\n",
       "    </tr>\n",
       "    <tr>\n",
       "      <th>1</th>\n",
       "      <td>42694.0</td>\n",
       "      <td>0.167049</td>\n",
       "      <td>0.373024</td>\n",
       "      <td>0.0</td>\n",
       "      <td>0.0</td>\n",
       "      <td>0.0</td>\n",
       "      <td>0.0</td>\n",
       "      <td>1.0</td>\n",
       "    </tr>\n",
       "  </tbody>\n",
       "</table>\n",
       "</div>"
      ],
      "text/plain": [
       "             count      mean       std  min  25%  50%  75%  max\n",
       "treatment                                                      \n",
       "0          21306.0  0.106167  0.308059  0.0  0.0  0.0  0.0  1.0\n",
       "1          42694.0  0.167049  0.373024  0.0  0.0  0.0  0.0  1.0"
      ]
     },
     "execution_count": 8,
     "metadata": {},
     "output_type": "execute_result"
    }
   ],
   "source": [
    "df.groupby(\"treatment\")['target'].describe()"
   ]
  },
  {
   "cell_type": "markdown",
   "metadata": {
    "id": "WZLD2WslptIQ"
   },
   "source": [
    "Заведем переменные"
   ]
  },
  {
   "cell_type": "code",
   "execution_count": 9,
   "metadata": {
    "ExecuteTime": {
     "end_time": "2022-11-10T16:47:40.737752Z",
     "start_time": "2022-11-10T16:47:40.712722Z"
    },
    "id": "-O53-qZVptIQ"
   },
   "outputs": [],
   "source": [
    "indices_learn, indices_valid = train_test_split(df, test_size=0.3, random_state=123)\n",
    "\n",
    "\n",
    "X_train = indices_learn.copy()\n",
    "X_train = X_train.drop(columns = ['target', 'treatment'])\n",
    "y_train = indices_learn['target'].copy()\n",
    "treat_train = indices_learn['treatment'].copy()\n",
    "\n",
    "X_val = indices_valid.copy()\n",
    "X_val = X_val.drop(columns = ['target', 'treatment'])\n",
    "y_val = indices_valid['target'].copy()\n",
    "treat_val = indices_valid['treatment'].copy()\n"
   ]
  },
  {
   "cell_type": "code",
   "execution_count": 10,
   "metadata": {
    "ExecuteTime": {
     "end_time": "2022-11-10T16:47:43.318627Z",
     "start_time": "2022-11-10T16:47:43.303580Z"
    },
    "id": "pGxufp6bDMU2"
   },
   "outputs": [],
   "source": [
    "cat_features = ['zip_code', 'channel']\n",
    "models_results = {\n",
    "    'approach': [],\n",
    "    'uplift@10%': [],\n",
    "    'uplift@20%': []\n",
    "}"
   ]
  },
  {
   "cell_type": "markdown",
   "metadata": {
    "id": "a-xwKES_ptIQ"
   },
   "source": [
    "## Подходы с одной моделью\n",
    "### Одна модель с признаком коммуникации\n",
    "Самое простое и интуитивное решение: модель обучается одновременно на двух группах, при этом бинарный флаг коммуникации выступает в качестве дополнительного признака. Каждый объект из тестовой выборки скорим дважды: с флагом коммуникации равным 1 и равным 0. Вычитая вероятности по каждому наблюдению, получим искомы uplift."
   ]
  },
  {
   "cell_type": "code",
   "execution_count": null,
   "metadata": {
    "id": "VpDppjYD0Rbb"
   },
   "outputs": [],
   "source": [
    "# !pip install scikit-uplift catboost"
   ]
  },
  {
   "cell_type": "code",
   "execution_count": 11,
   "metadata": {
    "ExecuteTime": {
     "end_time": "2022-11-10T17:18:44.468841Z",
     "start_time": "2022-11-10T17:18:44.195593Z"
    },
    "id": "Xlicmdo40NL5"
   },
   "outputs": [
    {
     "name": "stderr",
     "output_type": "stream",
     "text": [
      "C:\\Users\\demin\\MySoft\\Anaconda_05_2022\\lib\\site-packages\\xgboost\\compat.py:36: FutureWarning: pandas.Int64Index is deprecated and will be removed from pandas in a future version. Use pandas.Index with the appropriate dtype instead.\n",
      "  from pandas import MultiIndex, Int64Index\n"
     ]
    }
   ],
   "source": [
    "# Инструкция по установке пакета: https://github.com/maks-sh/scikit-uplift\n",
    "# Ссылка на документацию: https://scikit-uplift.readthedocs.io/en/latest/\n",
    "from sklift.metrics import uplift_at_k\n",
    "from sklift.viz import plot_uplift_preds\n",
    "from sklift.models import SoloModel\n",
    "# sklift поддерживает любые модели, \n",
    "# которые удовлетворяют соглашениями scikit-learn\n",
    "# Для примера воспользуемся catboost\n",
    "from catboost import CatBoostClassifier\n"
   ]
  },
  {
   "cell_type": "markdown",
   "metadata": {
    "id": "luOt1zcXDkyJ"
   },
   "source": [
    "## SoloModel"
   ]
  },
  {
   "cell_type": "code",
   "execution_count": 12,
   "metadata": {
    "ExecuteTime": {
     "end_time": "2022-11-10T17:18:52.309353Z",
     "start_time": "2022-11-10T17:18:50.977548Z"
    },
    "colab": {
     "base_uri": "https://localhost:8080/",
     "height": 444
    },
    "id": "K6Fd3EPgptIQ",
    "outputId": "1c797b4d-5824-4f3f-851a-a399f9d7b5e2"
   },
   "outputs": [
    {
     "data": {
      "image/png": "[encoded data removed]",
      "text/plain": [
       "<Figure size 2000x700 with 3 Axes>"
      ]
     },
     "metadata": {},
     "output_type": "display_data"
    }
   ],
   "source": [
    "sm = SoloModel(CatBoostClassifier(iterations=20, thread_count=2, random_state=42, silent=True))\n",
    "sm = sm.fit(X_train, y_train, treat_train, estimator_fit_params={'cat_features': cat_features})\n",
    "\n",
    "uplift_sm = sm.predict(X_val)\n",
    "\n",
    "sm_score_10 = uplift_at_k(y_true=y_val, uplift=uplift_sm, treatment=treat_val, strategy='by_group', k=0.1)\n",
    "sm_score_20 = uplift_at_k(y_true=y_val, uplift=uplift_sm, treatment=treat_val, strategy='by_group', k=0.2)\n",
    "\n",
    "models_results['approach'].append('SoloModel')\n",
    "models_results['uplift@10%'].append(sm_score_10)\n",
    "models_results['uplift@20%'].append(sm_score_20)\n",
    "\n",
    "# Получим условные вероятности выполнения целевого действия при взаимодействии для каждого объекта\n",
    "sm_trmnt_preds = sm.trmnt_preds_\n",
    "# И условные вероятности выполнения целевого действия без взаимодействия для каждого объекта\n",
    "sm_ctrl_preds = sm.ctrl_preds_\n",
    "\n",
    "# Отрисуем распределения вероятностей и их разность (uplift)\n",
    "plot_uplift_preds(trmnt_preds=sm_trmnt_preds, ctrl_preds=sm_ctrl_preds);"
   ]
  },
  {
   "cell_type": "code",
   "execution_count": 13,
   "metadata": {
    "ExecuteTime": {
     "end_time": "2022-11-10T17:18:52.464921Z",
     "start_time": "2022-11-10T17:18:52.451948Z"
    },
    "id": "ipmRIz4_bply"
   },
   "outputs": [],
   "source": [
    "from sklift.viz import plot_uplift_curve"
   ]
  },
  {
   "cell_type": "code",
   "execution_count": 14,
   "metadata": {
    "ExecuteTime": {
     "end_time": "2022-11-10T17:18:53.445844Z",
     "start_time": "2022-11-10T17:18:53.299574Z"
    },
    "colab": {
     "base_uri": "https://localhost:8080/",
     "height": 297
    },
    "id": "Yp3ufCsXhhsa",
    "outputId": "48521541-102a-40d1-d61c-4fbbfa986902"
   },
   "outputs": [
    {
     "data": {
      "text/plain": [
       "<sklift.viz.base.UpliftCurveDisplay at 0x21337c64340>"
      ]
     },
     "execution_count": 14,
     "metadata": {},
     "output_type": "execute_result"
    },
    {
     "data": {
      "image/png": "[encoded data removed]",
      "text/plain": [
       "<Figure size 640x480 with 1 Axes>"
      ]
     },
     "metadata": {},
     "output_type": "display_data"
    }
   ],
   "source": [
    "plot_uplift_curve(y_val, uplift_sm, treat_val, perfect=False)"
   ]
  },
  {
   "cell_type": "markdown",
   "metadata": {
    "id": "80eDlQknptIR"
   },
   "source": [
    "Посмотрим на топ-признаки"
   ]
  },
  {
   "cell_type": "code",
   "execution_count": 15,
   "metadata": {
    "ExecuteTime": {
     "end_time": "2022-11-10T17:18:55.784702Z",
     "start_time": "2022-11-10T17:18:55.774694Z"
    },
    "colab": {
     "base_uri": "https://localhost:8080/",
     "height": 300
    },
    "id": "3vpPIecJptIR",
    "outputId": "e9a60b99-8d6b-499e-b495-ad6e135a2e3b"
   },
   "outputs": [
    {
     "data": {
      "text/html": [
       "<div>\n",
       "<style scoped>\n",
       "    .dataframe tbody tr th:only-of-type {\n",
       "        vertical-align: middle;\n",
       "    }\n",
       "\n",
       "    .dataframe tbody tr th {\n",
       "        vertical-align: top;\n",
       "    }\n",
       "\n",
       "    .dataframe thead th {\n",
       "        text-align: right;\n",
       "    }\n",
       "</style>\n",
       "<table border=\"1\" class=\"dataframe\">\n",
       "  <thead>\n",
       "    <tr style=\"text-align: right;\">\n",
       "      <th></th>\n",
       "      <th>feature_name</th>\n",
       "      <th>feature_score</th>\n",
       "    </tr>\n",
       "  </thead>\n",
       "  <tbody>\n",
       "    <tr>\n",
       "      <th>0</th>\n",
       "      <td>is_referral</td>\n",
       "      <td>19.189426</td>\n",
       "    </tr>\n",
       "    <tr>\n",
       "      <th>1</th>\n",
       "      <td>treatment</td>\n",
       "      <td>17.927079</td>\n",
       "    </tr>\n",
       "    <tr>\n",
       "      <th>2</th>\n",
       "      <td>used_bogo</td>\n",
       "      <td>12.651803</td>\n",
       "    </tr>\n",
       "    <tr>\n",
       "      <th>3</th>\n",
       "      <td>recency</td>\n",
       "      <td>11.793690</td>\n",
       "    </tr>\n",
       "    <tr>\n",
       "      <th>4</th>\n",
       "      <td>channel</td>\n",
       "      <td>11.197806</td>\n",
       "    </tr>\n",
       "    <tr>\n",
       "      <th>5</th>\n",
       "      <td>zip_code</td>\n",
       "      <td>9.776886</td>\n",
       "    </tr>\n",
       "    <tr>\n",
       "      <th>6</th>\n",
       "      <td>used_discount</td>\n",
       "      <td>8.943366</td>\n",
       "    </tr>\n",
       "    <tr>\n",
       "      <th>7</th>\n",
       "      <td>history</td>\n",
       "      <td>8.519945</td>\n",
       "    </tr>\n",
       "  </tbody>\n",
       "</table>\n",
       "</div>"
      ],
      "text/plain": [
       "    feature_name  feature_score\n",
       "0    is_referral      19.189426\n",
       "1      treatment      17.927079\n",
       "2      used_bogo      12.651803\n",
       "3        recency      11.793690\n",
       "4        channel      11.197806\n",
       "5       zip_code       9.776886\n",
       "6  used_discount       8.943366\n",
       "7        history       8.519945"
      ]
     },
     "execution_count": 15,
     "metadata": {},
     "output_type": "execute_result"
    }
   ],
   "source": [
    "# С той же легкостью можно обратиться к обученной модели.\n",
    "# Например, чтобы построить важность признаков:\n",
    "sm_fi = pd.DataFrame({\n",
    "    'feature_name': sm.estimator.feature_names_,\n",
    "    'feature_score': sm.estimator.feature_importances_\n",
    "}).sort_values('feature_score', ascending=False).reset_index(drop=True)\n",
    "\n",
    "sm_fi"
   ]
  },
  {
   "cell_type": "code",
   "execution_count": 16,
   "metadata": {
    "ExecuteTime": {
     "end_time": "2022-11-10T17:18:56.353241Z",
     "start_time": "2022-11-10T17:18:56.341275Z"
    },
    "colab": {
     "base_uri": "https://localhost:8080/",
     "height": 424
    },
    "id": "swtwGqvNQ0pa",
    "outputId": "40b60765-a025-43fe-c890-26bb04e1f7a2"
   },
   "outputs": [
    {
     "data": {
      "text/html": [
       "<div>\n",
       "<style scoped>\n",
       "    .dataframe tbody tr th:only-of-type {\n",
       "        vertical-align: middle;\n",
       "    }\n",
       "\n",
       "    .dataframe tbody tr th {\n",
       "        vertical-align: top;\n",
       "    }\n",
       "\n",
       "    .dataframe thead th {\n",
       "        text-align: right;\n",
       "    }\n",
       "</style>\n",
       "<table border=\"1\" class=\"dataframe\">\n",
       "  <thead>\n",
       "    <tr style=\"text-align: right;\">\n",
       "      <th></th>\n",
       "      <th>true</th>\n",
       "      <th>uplift</th>\n",
       "      <th>treat</th>\n",
       "    </tr>\n",
       "  </thead>\n",
       "  <tbody>\n",
       "    <tr>\n",
       "      <th>19593</th>\n",
       "      <td>1</td>\n",
       "      <td>0.022362</td>\n",
       "      <td>1</td>\n",
       "    </tr>\n",
       "    <tr>\n",
       "      <th>4997</th>\n",
       "      <td>0</td>\n",
       "      <td>-0.001955</td>\n",
       "      <td>0</td>\n",
       "    </tr>\n",
       "    <tr>\n",
       "      <th>36682</th>\n",
       "      <td>0</td>\n",
       "      <td>0.025087</td>\n",
       "      <td>0</td>\n",
       "    </tr>\n",
       "    <tr>\n",
       "      <th>29881</th>\n",
       "      <td>0</td>\n",
       "      <td>0.043634</td>\n",
       "      <td>1</td>\n",
       "    </tr>\n",
       "    <tr>\n",
       "      <th>25401</th>\n",
       "      <td>0</td>\n",
       "      <td>0.034606</td>\n",
       "      <td>1</td>\n",
       "    </tr>\n",
       "    <tr>\n",
       "      <th>...</th>\n",
       "      <td>...</td>\n",
       "      <td>...</td>\n",
       "      <td>...</td>\n",
       "    </tr>\n",
       "    <tr>\n",
       "      <th>39655</th>\n",
       "      <td>0</td>\n",
       "      <td>0.034364</td>\n",
       "      <td>1</td>\n",
       "    </tr>\n",
       "    <tr>\n",
       "      <th>45479</th>\n",
       "      <td>0</td>\n",
       "      <td>0.047622</td>\n",
       "      <td>0</td>\n",
       "    </tr>\n",
       "    <tr>\n",
       "      <th>21007</th>\n",
       "      <td>0</td>\n",
       "      <td>0.063032</td>\n",
       "      <td>1</td>\n",
       "    </tr>\n",
       "    <tr>\n",
       "      <th>39923</th>\n",
       "      <td>0</td>\n",
       "      <td>0.118862</td>\n",
       "      <td>1</td>\n",
       "    </tr>\n",
       "    <tr>\n",
       "      <th>61435</th>\n",
       "      <td>0</td>\n",
       "      <td>0.027976</td>\n",
       "      <td>1</td>\n",
       "    </tr>\n",
       "  </tbody>\n",
       "</table>\n",
       "<p>19200 rows × 3 columns</p>\n",
       "</div>"
      ],
      "text/plain": [
       "       true    uplift  treat\n",
       "19593     1  0.022362      1\n",
       "4997      0 -0.001955      0\n",
       "36682     0  0.025087      0\n",
       "29881     0  0.043634      1\n",
       "25401     0  0.034606      1\n",
       "...     ...       ...    ...\n",
       "39655     0  0.034364      1\n",
       "45479     0  0.047622      0\n",
       "21007     0  0.063032      1\n",
       "39923     0  0.118862      1\n",
       "61435     0  0.027976      1\n",
       "\n",
       "[19200 rows x 3 columns]"
      ]
     },
     "execution_count": 16,
     "metadata": {},
     "output_type": "execute_result"
    }
   ],
   "source": [
    "n = 15\n",
    "data = pd.DataFrame({'true': y_val, 'uplift': uplift_sm, 'treat': treat_val})\n",
    "data"
   ]
  },
  {
   "cell_type": "code",
   "execution_count": 17,
   "metadata": {
    "ExecuteTime": {
     "end_time": "2022-11-10T17:18:56.808263Z",
     "start_time": "2022-11-10T17:18:56.787317Z"
    },
    "colab": {
     "base_uri": "https://localhost:8080/"
    },
    "id": "qdDja6ggWXiK",
    "outputId": "d68962bc-6b5d-49f6-b10f-4f3aa5874f30"
   },
   "outputs": [
    {
     "data": {
      "text/plain": [
       "0.06481923015551162"
      ]
     },
     "execution_count": 17,
     "metadata": {},
     "output_type": "execute_result"
    }
   ],
   "source": [
    "k=0.7\n",
    "uplift_at_k(y_true=y_val, uplift=uplift_sm, treatment=treat_val, strategy='overall', k=k)"
   ]
  },
  {
   "cell_type": "code",
   "execution_count": 18,
   "metadata": {
    "ExecuteTime": {
     "end_time": "2022-11-10T17:18:57.281755Z",
     "start_time": "2022-11-10T17:18:57.269784Z"
    },
    "id": "TLErTGJ0YaRs"
   },
   "outputs": [],
   "source": [
    "df_k = data.sort_values(by='uplift', ascending=False).head(int(len(data)*k))"
   ]
  },
  {
   "cell_type": "code",
   "execution_count": 19,
   "metadata": {
    "ExecuteTime": {
     "end_time": "2022-11-10T17:18:57.565768Z",
     "start_time": "2022-11-10T17:18:57.543827Z"
    },
    "colab": {
     "base_uri": "https://localhost:8080/"
    },
    "id": "kfFA0dLvY7yG",
    "outputId": "8b5d4fcf-0de1-4577-f5c7-86418a395e08"
   },
   "outputs": [
    {
     "data": {
      "text/plain": [
       "0.06486461272292651"
      ]
     },
     "execution_count": 19,
     "metadata": {},
     "output_type": "execute_result"
    }
   ],
   "source": [
    "responce_rate_treat = df_k[(df_k['treat'] == 1)].true.mean()\n",
    "responce_rate_control = df_k[(df_k['treat'] == 0)].true.mean()\n",
    "responce_rate_treat - responce_rate_control"
   ]
  },
  {
   "cell_type": "code",
   "execution_count": 20,
   "metadata": {
    "ExecuteTime": {
     "end_time": "2022-11-10T17:18:57.820065Z",
     "start_time": "2022-11-10T17:18:57.814080Z"
    },
    "id": "-tg2GB_wcwgD"
   },
   "outputs": [],
   "source": [
    "from sklift.metrics import uplift_by_percentile"
   ]
  },
  {
   "cell_type": "code",
   "execution_count": 21,
   "metadata": {
    "ExecuteTime": {
     "end_time": "2022-11-10T17:18:58.103474Z",
     "start_time": "2022-11-10T17:18:58.064597Z"
    },
    "colab": {
     "base_uri": "https://localhost:8080/",
     "height": 464
    },
    "id": "lbjCt5z8dDiE",
    "outputId": "63b9bc0d-1499-49aa-9c85-e978a25e8dd1"
   },
   "outputs": [
    {
     "name": "stderr",
     "output_type": "stream",
     "text": [
      "C:\\Users\\demin\\MySoft\\Anaconda_05_2022\\lib\\site-packages\\numpy\\core\\fromnumeric.py:3162: VisibleDeprecationWarning: Creating an ndarray from ragged nested sequences (which is a list-or-tuple of lists-or-tuples-or ndarrays with different lengths or shapes) is deprecated. If you meant to do this, you must specify 'dtype=object' when creating the ndarray.\n",
      "  return asarray(a).ndim\n"
     ]
    },
    {
     "data": {
      "text/html": [
       "<div>\n",
       "<style scoped>\n",
       "    .dataframe tbody tr th:only-of-type {\n",
       "        vertical-align: middle;\n",
       "    }\n",
       "\n",
       "    .dataframe tbody tr th {\n",
       "        vertical-align: top;\n",
       "    }\n",
       "\n",
       "    .dataframe thead th {\n",
       "        text-align: right;\n",
       "    }\n",
       "</style>\n",
       "<table border=\"1\" class=\"dataframe\">\n",
       "  <thead>\n",
       "    <tr style=\"text-align: right;\">\n",
       "      <th></th>\n",
       "      <th>n_treatment</th>\n",
       "      <th>n_control</th>\n",
       "      <th>response_rate_treatment</th>\n",
       "      <th>response_rate_control</th>\n",
       "      <th>uplift</th>\n",
       "      <th>std_treatment</th>\n",
       "      <th>std_control</th>\n",
       "      <th>std_uplift</th>\n",
       "    </tr>\n",
       "    <tr>\n",
       "      <th>percentile</th>\n",
       "      <th></th>\n",
       "      <th></th>\n",
       "      <th></th>\n",
       "      <th></th>\n",
       "      <th></th>\n",
       "      <th></th>\n",
       "      <th></th>\n",
       "      <th></th>\n",
       "    </tr>\n",
       "  </thead>\n",
       "  <tbody>\n",
       "    <tr>\n",
       "      <th>0-10</th>\n",
       "      <td>1306</td>\n",
       "      <td>614</td>\n",
       "      <td>0.242726</td>\n",
       "      <td>0.157980</td>\n",
       "      <td>0.084745</td>\n",
       "      <td>0.011864</td>\n",
       "      <td>0.014719</td>\n",
       "      <td>0.018905</td>\n",
       "    </tr>\n",
       "    <tr>\n",
       "      <th>10-20</th>\n",
       "      <td>1275</td>\n",
       "      <td>645</td>\n",
       "      <td>0.206275</td>\n",
       "      <td>0.141085</td>\n",
       "      <td>0.065189</td>\n",
       "      <td>0.011332</td>\n",
       "      <td>0.013707</td>\n",
       "      <td>0.017784</td>\n",
       "    </tr>\n",
       "    <tr>\n",
       "      <th>20-30</th>\n",
       "      <td>1280</td>\n",
       "      <td>640</td>\n",
       "      <td>0.178125</td>\n",
       "      <td>0.090625</td>\n",
       "      <td>0.087500</td>\n",
       "      <td>0.010694</td>\n",
       "      <td>0.011348</td>\n",
       "      <td>0.015593</td>\n",
       "    </tr>\n",
       "    <tr>\n",
       "      <th>30-40</th>\n",
       "      <td>1274</td>\n",
       "      <td>646</td>\n",
       "      <td>0.166405</td>\n",
       "      <td>0.103715</td>\n",
       "      <td>0.062690</td>\n",
       "      <td>0.010435</td>\n",
       "      <td>0.011996</td>\n",
       "      <td>0.015899</td>\n",
       "    </tr>\n",
       "    <tr>\n",
       "      <th>40-50</th>\n",
       "      <td>1278</td>\n",
       "      <td>642</td>\n",
       "      <td>0.151800</td>\n",
       "      <td>0.084112</td>\n",
       "      <td>0.067688</td>\n",
       "      <td>0.010037</td>\n",
       "      <td>0.010954</td>\n",
       "      <td>0.014857</td>\n",
       "    </tr>\n",
       "    <tr>\n",
       "      <th>50-60</th>\n",
       "      <td>1292</td>\n",
       "      <td>628</td>\n",
       "      <td>0.151703</td>\n",
       "      <td>0.087580</td>\n",
       "      <td>0.064123</td>\n",
       "      <td>0.009980</td>\n",
       "      <td>0.011280</td>\n",
       "      <td>0.015062</td>\n",
       "    </tr>\n",
       "    <tr>\n",
       "      <th>60-70</th>\n",
       "      <td>1258</td>\n",
       "      <td>662</td>\n",
       "      <td>0.152623</td>\n",
       "      <td>0.132931</td>\n",
       "      <td>0.019693</td>\n",
       "      <td>0.010139</td>\n",
       "      <td>0.013195</td>\n",
       "      <td>0.016641</td>\n",
       "    </tr>\n",
       "    <tr>\n",
       "      <th>70-80</th>\n",
       "      <td>1276</td>\n",
       "      <td>644</td>\n",
       "      <td>0.144984</td>\n",
       "      <td>0.079193</td>\n",
       "      <td>0.065792</td>\n",
       "      <td>0.009856</td>\n",
       "      <td>0.010641</td>\n",
       "      <td>0.014505</td>\n",
       "    </tr>\n",
       "    <tr>\n",
       "      <th>80-90</th>\n",
       "      <td>1271</td>\n",
       "      <td>649</td>\n",
       "      <td>0.133753</td>\n",
       "      <td>0.073960</td>\n",
       "      <td>0.059793</td>\n",
       "      <td>0.009548</td>\n",
       "      <td>0.010273</td>\n",
       "      <td>0.014025</td>\n",
       "    </tr>\n",
       "    <tr>\n",
       "      <th>90-100</th>\n",
       "      <td>1286</td>\n",
       "      <td>634</td>\n",
       "      <td>0.147745</td>\n",
       "      <td>0.102524</td>\n",
       "      <td>0.045221</td>\n",
       "      <td>0.009895</td>\n",
       "      <td>0.012047</td>\n",
       "      <td>0.015590</td>\n",
       "    </tr>\n",
       "    <tr>\n",
       "      <th>total</th>\n",
       "      <td>12796</td>\n",
       "      <td>6404</td>\n",
       "      <td>0.167787</td>\n",
       "      <td>0.105247</td>\n",
       "      <td>0.062540</td>\n",
       "      <td>0.103781</td>\n",
       "      <td>0.120160</td>\n",
       "      <td>0.158860</td>\n",
       "    </tr>\n",
       "  </tbody>\n",
       "</table>\n",
       "</div>"
      ],
      "text/plain": [
       "            n_treatment  n_control  response_rate_treatment  \\\n",
       "percentile                                                    \n",
       "0-10               1306        614                 0.242726   \n",
       "10-20              1275        645                 0.206275   \n",
       "20-30              1280        640                 0.178125   \n",
       "30-40              1274        646                 0.166405   \n",
       "40-50              1278        642                 0.151800   \n",
       "50-60              1292        628                 0.151703   \n",
       "60-70              1258        662                 0.152623   \n",
       "70-80              1276        644                 0.144984   \n",
       "80-90              1271        649                 0.133753   \n",
       "90-100             1286        634                 0.147745   \n",
       "total             12796       6404                 0.167787   \n",
       "\n",
       "            response_rate_control    uplift  std_treatment  std_control  \\\n",
       "percentile                                                                \n",
       "0-10                     0.157980  0.084745       0.011864     0.014719   \n",
       "10-20                    0.141085  0.065189       0.011332     0.013707   \n",
       "20-30                    0.090625  0.087500       0.010694     0.011348   \n",
       "30-40                    0.103715  0.062690       0.010435     0.011996   \n",
       "40-50                    0.084112  0.067688       0.010037     0.010954   \n",
       "50-60                    0.087580  0.064123       0.009980     0.011280   \n",
       "60-70                    0.132931  0.019693       0.010139     0.013195   \n",
       "70-80                    0.079193  0.065792       0.009856     0.010641   \n",
       "80-90                    0.073960  0.059793       0.009548     0.010273   \n",
       "90-100                   0.102524  0.045221       0.009895     0.012047   \n",
       "total                    0.105247  0.062540       0.103781     0.120160   \n",
       "\n",
       "            std_uplift  \n",
       "percentile              \n",
       "0-10          0.018905  \n",
       "10-20         0.017784  \n",
       "20-30         0.015593  \n",
       "30-40         0.015899  \n",
       "40-50         0.014857  \n",
       "50-60         0.015062  \n",
       "60-70         0.016641  \n",
       "70-80         0.014505  \n",
       "80-90         0.014025  \n",
       "90-100        0.015590  \n",
       "total         0.158860  "
      ]
     },
     "execution_count": 21,
     "metadata": {},
     "output_type": "execute_result"
    }
   ],
   "source": [
    "uplift_by_percentile(y_true=y_val, uplift=uplift_sm, treatment=treat_val, strategy='overall', total=True, std=True, bins=10)"
   ]
  },
  {
   "cell_type": "code",
   "execution_count": 22,
   "metadata": {
    "ExecuteTime": {
     "end_time": "2022-11-10T17:18:58.403671Z",
     "start_time": "2022-11-10T17:18:58.397686Z"
    },
    "id": "IwCqkXh7eL3h"
   },
   "outputs": [],
   "source": [
    "from sklift.viz import plot_uplift_by_percentile"
   ]
  },
  {
   "cell_type": "code",
   "execution_count": 23,
   "metadata": {
    "ExecuteTime": {
     "end_time": "2022-11-10T17:18:59.067327Z",
     "start_time": "2022-11-10T17:18:58.729422Z"
    },
    "colab": {
     "base_uri": "https://localhost:8080/",
     "height": 587
    },
    "id": "einPFsbxePvO",
    "outputId": "dc3ebd8a-abd1-46e8-9eb1-bd0b069cb402"
   },
   "outputs": [
    {
     "name": "stderr",
     "output_type": "stream",
     "text": [
      "C:\\Users\\demin\\MySoft\\Anaconda_05_2022\\lib\\site-packages\\numpy\\core\\fromnumeric.py:3162: VisibleDeprecationWarning: Creating an ndarray from ragged nested sequences (which is a list-or-tuple of lists-or-tuples-or ndarrays with different lengths or shapes) is deprecated. If you meant to do this, you must specify 'dtype=object' when creating the ndarray.\n",
      "  return asarray(a).ndim\n"
     ]
    },
    {
     "data": {
      "text/plain": [
       "array([<AxesSubplot:title={'center':'Uplift by percentile\\nweighted average uplift = 0.0625'}>,\n",
       "       <AxesSubplot:title={'center':'Response rate by percentile'}, xlabel='Percentile'>],\n",
       "      dtype=object)"
      ]
     },
     "execution_count": 23,
     "metadata": {},
     "output_type": "execute_result"
    },
    {
     "data": {
      "image/png": "[encoded data removed]",
      "text/plain": [
       "<Figure size 800x600 with 2 Axes>"
      ]
     },
     "metadata": {},
     "output_type": "display_data"
    }
   ],
   "source": [
    "plot_uplift_by_percentile(y_val, uplift_sm, treat_val, strategy='overall', kind = 'bar')"
   ]
  },
  {
   "cell_type": "code",
   "execution_count": 24,
   "metadata": {
    "ExecuteTime": {
     "end_time": "2022-11-10T17:18:59.335067Z",
     "start_time": "2022-11-10T17:18:59.162781Z"
    },
    "colab": {
     "base_uri": "https://localhost:8080/",
     "height": 529
    },
    "id": "mnxYOq_GQhni",
    "outputId": "3da18f7f-37e6-43cc-bd33-22a6f251ddc1"
   },
   "outputs": [
    {
     "name": "stderr",
     "output_type": "stream",
     "text": [
      "C:\\Users\\demin\\MySoft\\Anaconda_05_2022\\lib\\site-packages\\numpy\\core\\fromnumeric.py:3162: VisibleDeprecationWarning: Creating an ndarray from ragged nested sequences (which is a list-or-tuple of lists-or-tuples-or ndarrays with different lengths or shapes) is deprecated. If you meant to do this, you must specify 'dtype=object' when creating the ndarray.\n",
      "  return asarray(a).ndim\n"
     ]
    },
    {
     "data": {
      "text/plain": [
       "<AxesSubplot:title={'center':'Uplift by percentile\\nweighted average uplift = 0.0625'}, xlabel='Percentile', ylabel='Uplift = treatment response rate - control response rate'>"
      ]
     },
     "execution_count": 24,
     "metadata": {},
     "output_type": "execute_result"
    },
    {
     "data": {
      "image/png": "[encoded data removed]",
      "text/plain": [
       "<Figure size 800x600 with 1 Axes>"
      ]
     },
     "metadata": {},
     "output_type": "display_data"
    }
   ],
   "source": [
    "plot_uplift_by_percentile(y_val, uplift_sm, treat_val, strategy='overall', kind = 'line')"
   ]
  },
  {
   "cell_type": "markdown",
   "metadata": {
    "id": "W2LGmNInQC6L"
   },
   "source": [
    "Начиная с 60-го перцентиля по-моему не стоит беспокоить клиентов. Или модель не очень четко сортирует клиентов?"
   ]
  },
  {
   "cell_type": "markdown",
   "metadata": {
    "id": "H_c1CZHgptIR"
   },
   "source": [
    "Трансформация классов\n",
    "Достаточно интересный и математически подтвержденный подход к построению модели, представленный еще в 2012 году. Метод заключается в прогнозировании немного измененного таргета:"
   ]
  },
  {
   "cell_type": "code",
   "execution_count": 25,
   "metadata": {
    "ExecuteTime": {
     "end_time": "2022-11-10T17:19:24.185744Z",
     "start_time": "2022-11-10T17:19:23.582421Z"
    },
    "id": "dJsV-wFAptIS"
   },
   "outputs": [],
   "source": [
    "from sklift.models import ClassTransformation\n",
    "\n",
    "\n",
    "ct = ClassTransformation(CatBoostClassifier(iterations=20, thread_count=2, random_state=42, silent=True))\n",
    "ct = ct.fit(X_train, y_train, treat_train, estimator_fit_params={'cat_features': cat_features})\n",
    "\n",
    "uplift_ct = ct.predict(X_val)\n",
    "\n",
    "ct_score_10 = uplift_at_k(y_true=y_val, uplift=uplift_ct, treatment=treat_val, strategy='by_group', k=0.1)\n",
    "ct_score_20 = uplift_at_k(y_true=y_val, uplift=uplift_ct, treatment=treat_val, strategy='by_group', k=0.2)\n",
    "\n",
    "\n",
    "models_results['approach'].append('ClassTransformation')\n",
    "models_results['uplift@10%'].append(ct_score_10)\n",
    "models_results['uplift@20%'].append(ct_score_20)"
   ]
  },
  {
   "cell_type": "code",
   "execution_count": 26,
   "metadata": {
    "ExecuteTime": {
     "end_time": "2022-11-10T17:19:24.438370Z",
     "start_time": "2022-11-10T17:19:24.283790Z"
    },
    "colab": {
     "base_uri": "https://localhost:8080/",
     "height": 297
    },
    "id": "KFVdKIV9g1Hu",
    "outputId": "e2a1337d-e190-4476-c86f-bbaf9d8c98dd"
   },
   "outputs": [
    {
     "data": {
      "text/plain": [
       "<sklift.viz.base.UpliftCurveDisplay at 0x213377079a0>"
      ]
     },
     "execution_count": 26,
     "metadata": {},
     "output_type": "execute_result"
    },
    {
     "data": {
      "image/png": "[encoded data removed]",
      "text/plain": [
       "<Figure size 640x480 with 1 Axes>"
      ]
     },
     "metadata": {},
     "output_type": "display_data"
    }
   ],
   "source": [
    "plot_uplift_curve(y_val, uplift_ct, treat_val, perfect=False)"
   ]
  },
  {
   "cell_type": "markdown",
   "metadata": {
    "id": "TeimtrmRptIK"
   },
   "source": [
    "## Две независимые модели"
   ]
  },
  {
   "cell_type": "markdown",
   "metadata": {
    "id": "6PGUWJJnptIK"
   },
   "source": [
    "Другие названия: Two models approach, T-learner, difference two models"
   ]
  },
  {
   "cell_type": "markdown",
   "metadata": {
    "id": "qw7fXX37ptIL"
   },
   "source": [
    "Интуитивно понятный и простой метод - моделируем 2 условные вероятности\n",
    "\n",
    "1. обучаем модель прогноза вероятности совершения целевого действия для контрольной группы\n",
    "2. обучаем модель прогноза вероятности совершения целевого действия для экспериментальной группы\n",
    "3. на прогнозе - делаем прогноз для тестовых пользователей двумя моделями и вычитаем из прогноза второй модели прогноз первой"
   ]
  },
  {
   "cell_type": "markdown",
   "metadata": {
    "id": "njUB2EBLptIS"
   },
   "source": [
    "подход заключается в моделировании условных вероятностей тестовой и контрольной групп отдельно. В статьях утверждается, что такой подход достаточно слабый, так как обе модели фокусируются на прогнозировании результата отдельно и поэтому могут пропустить \"более слабые\" различия в выборках."
   ]
  },
  {
   "cell_type": "code",
   "execution_count": 27,
   "metadata": {
    "ExecuteTime": {
     "end_time": "2022-11-10T17:19:46.910207Z",
     "start_time": "2022-11-10T17:19:45.483480Z"
    },
    "colab": {
     "base_uri": "https://localhost:8080/",
     "height": 444
    },
    "id": "ZLEsGV-fptIS",
    "outputId": "90fbeaa4-1531-4d1b-ac89-41c112e33641"
   },
   "outputs": [
    {
     "data": {
      "image/png": "[encoded data removed]",
      "text/plain": [
       "<Figure size 2000x700 with 3 Axes>"
      ]
     },
     "metadata": {},
     "output_type": "display_data"
    }
   ],
   "source": [
    "from sklift.models import TwoModels\n",
    "\n",
    "\n",
    "tm = TwoModels(\n",
    "    estimator_trmnt=CatBoostClassifier(iterations=20, thread_count=2, random_state=42, silent=True), \n",
    "    estimator_ctrl=CatBoostClassifier(iterations=20, thread_count=2, random_state=42, silent=True), \n",
    "    method='vanilla'\n",
    ")\n",
    "tm = tm.fit(\n",
    "    X_train, y_train, treat_train,\n",
    "    estimator_trmnt_fit_params={'cat_features': cat_features}, \n",
    "    estimator_ctrl_fit_params={'cat_features': cat_features}\n",
    ")\n",
    "\n",
    "uplift_tm = tm.predict(X_val)\n",
    "\n",
    "tm_score_10 = uplift_at_k(y_true=y_val, uplift=uplift_tm, treatment=treat_val, strategy='by_group', k=0.1)\n",
    "tm_score_20 = uplift_at_k(y_true=y_val, uplift=uplift_tm, treatment=treat_val, strategy='by_group', k=0.2)\n",
    "\n",
    "\n",
    "models_results['approach'].append('TwoModels')\n",
    "models_results['uplift@10%'].append(tm_score_10)\n",
    "models_results['uplift@20%'].append(tm_score_20)\n",
    "\n",
    "plot_uplift_preds(trmnt_preds=tm.trmnt_preds_, ctrl_preds=tm.ctrl_preds_);"
   ]
  },
  {
   "cell_type": "code",
   "execution_count": 28,
   "metadata": {
    "ExecuteTime": {
     "end_time": "2022-11-10T17:19:47.226996Z",
     "start_time": "2022-11-10T17:19:47.006912Z"
    },
    "colab": {
     "base_uri": "https://localhost:8080/",
     "height": 297
    },
    "id": "LbgqFTB-o4yU",
    "outputId": "9716e4de-f419-4978-d19d-86bb4edf7820"
   },
   "outputs": [
    {
     "data": {
      "text/plain": [
       "<sklift.viz.base.UpliftCurveDisplay at 0x21336c256a0>"
      ]
     },
     "execution_count": 28,
     "metadata": {},
     "output_type": "execute_result"
    },
    {
     "data": {
      "image/png": "[encoded data removed]",
      "text/plain": [
       "<Figure size 640x480 with 1 Axes>"
      ]
     },
     "metadata": {},
     "output_type": "display_data"
    }
   ],
   "source": [
    "plot_uplift_curve(y_val, uplift_tm, treat_val, perfect=False)"
   ]
  },
  {
   "cell_type": "markdown",
   "metadata": {
    "id": "1ac4vZy_ptIT"
   },
   "source": [
    "###  Посмотрим на результаты работы 3-х моделей"
   ]
  },
  {
   "cell_type": "code",
   "execution_count": 29,
   "metadata": {
    "ExecuteTime": {
     "end_time": "2022-11-10T17:19:48.909087Z",
     "start_time": "2022-11-10T17:19:48.885525Z"
    },
    "colab": {
     "base_uri": "https://localhost:8080/",
     "height": 143
    },
    "id": "qbYOT_fBptIT",
    "outputId": "0da0451b-ced4-4f72-df71-151a3aed3ed8"
   },
   "outputs": [
    {
     "data": {
      "text/html": [
       "<div>\n",
       "<style scoped>\n",
       "    .dataframe tbody tr th:only-of-type {\n",
       "        vertical-align: middle;\n",
       "    }\n",
       "\n",
       "    .dataframe tbody tr th {\n",
       "        vertical-align: top;\n",
       "    }\n",
       "\n",
       "    .dataframe thead th {\n",
       "        text-align: right;\n",
       "    }\n",
       "</style>\n",
       "<table border=\"1\" class=\"dataframe\">\n",
       "  <thead>\n",
       "    <tr style=\"text-align: right;\">\n",
       "      <th></th>\n",
       "      <th>approach</th>\n",
       "      <th>uplift@10%</th>\n",
       "      <th>uplift@20%</th>\n",
       "    </tr>\n",
       "  </thead>\n",
       "  <tbody>\n",
       "    <tr>\n",
       "      <th>1</th>\n",
       "      <td>ClassTransformation</td>\n",
       "      <td>0.117411</td>\n",
       "      <td>0.095800</td>\n",
       "    </tr>\n",
       "    <tr>\n",
       "      <th>0</th>\n",
       "      <td>SoloModel</td>\n",
       "      <td>0.089254</td>\n",
       "      <td>0.078994</td>\n",
       "    </tr>\n",
       "    <tr>\n",
       "      <th>2</th>\n",
       "      <td>TwoModels</td>\n",
       "      <td>0.078306</td>\n",
       "      <td>0.068439</td>\n",
       "    </tr>\n",
       "  </tbody>\n",
       "</table>\n",
       "</div>"
      ],
      "text/plain": [
       "              approach  uplift@10%  uplift@20%\n",
       "1  ClassTransformation    0.117411    0.095800\n",
       "0            SoloModel    0.089254    0.078994\n",
       "2            TwoModels    0.078306    0.068439"
      ]
     },
     "execution_count": 29,
     "metadata": {},
     "output_type": "execute_result"
    }
   ],
   "source": [
    "pd.DataFrame(data=models_results).sort_values('uplift@10%', ascending=False)"
   ]
  },
  {
   "cell_type": "markdown",
   "metadata": {
    "id": "sGCswgXTZRPL"
   },
   "source": [
    "Лучший результат показала модель с трансформацией классов"
   ]
  },
  {
   "cell_type": "markdown",
   "metadata": {
    "id": "zVOY2zy4piI9"
   },
   "source": [
    "## UpliftTreeClassifier"
   ]
  },
  {
   "cell_type": "markdown",
   "metadata": {
    "id": "fk-UhEJ9ptIT"
   },
   "source": [
    "#### Вариант с деревом решений"
   ]
  },
  {
   "cell_type": "code",
   "execution_count": 39,
   "metadata": {
    "ExecuteTime": {
     "end_time": "2022-11-10T17:29:15.363680Z",
     "start_time": "2022-11-10T17:29:15.336758Z"
    },
    "id": "j73TVTFuuCaS"
   },
   "outputs": [],
   "source": [
    "indices_learn, indices_valid = train_test_split(df, test_size=0.3, random_state=123)\n",
    "\n",
    "\n",
    "X_train = indices_learn.copy()\n",
    "X_train = X_train.drop(columns = ['target', 'treatment'])\n",
    "y_train = indices_learn['target'].copy()\n",
    "treat_train = indices_learn['treatment'].copy()\n",
    "\n",
    "X_val = indices_valid.copy()\n",
    "X_val = X_val.drop(columns = ['target', 'treatment'])\n",
    "y_val = indices_valid['target'].copy()\n",
    "treat_val = indices_valid['treatment'].copy()"
   ]
  },
  {
   "cell_type": "code",
   "execution_count": 40,
   "metadata": {
    "ExecuteTime": {
     "end_time": "2022-11-10T17:29:17.156068Z",
     "start_time": "2022-11-10T17:29:17.133129Z"
    },
    "colab": {
     "base_uri": "https://localhost:8080/"
    },
    "id": "gYLgUpa-ptIT",
    "outputId": "b4285fee-cb50-4b5e-a4bf-be94549b91c5"
   },
   "outputs": [
    {
     "name": "stderr",
     "output_type": "stream",
     "text": [
      "C:\\Users\\demin\\AppData\\Local\\Temp\\ipykernel_18608\\1144392028.py:1: FutureWarning: In a future version of pandas all arguments of DataFrame.drop except for the argument 'labels' will be keyword-only.\n",
      "  X_train_tree = pd.concat([X_train.drop('zip_code', 1),\n",
      "C:\\Users\\demin\\AppData\\Local\\Temp\\ipykernel_18608\\1144392028.py:1: FutureWarning: In a future version of pandas all arguments of concat except for the argument 'objs' will be keyword-only.\n",
      "  X_train_tree = pd.concat([X_train.drop('zip_code', 1),\n",
      "C:\\Users\\demin\\AppData\\Local\\Temp\\ipykernel_18608\\1144392028.py:3: FutureWarning: In a future version of pandas all arguments of DataFrame.drop except for the argument 'labels' will be keyword-only.\n",
      "  X_train_tree = pd.concat([X_train_tree.drop('channel', 1),\n",
      "C:\\Users\\demin\\AppData\\Local\\Temp\\ipykernel_18608\\1144392028.py:3: FutureWarning: In a future version of pandas all arguments of concat except for the argument 'objs' will be keyword-only.\n",
      "  X_train_tree = pd.concat([X_train_tree.drop('channel', 1),\n"
     ]
    }
   ],
   "source": [
    "X_train_tree = pd.concat([X_train.drop('zip_code', 1), \n",
    "                          pd.get_dummies(X_train['zip_code'], prefix='zip_code')], 1)\n",
    "X_train_tree = pd.concat([X_train_tree.drop('channel', 1), \n",
    "                          pd.get_dummies(X_train['channel'], prefix='channel')], 1)\n",
    "features = [col for col in X_train_tree]"
   ]
  },
  {
   "cell_type": "code",
   "execution_count": 41,
   "metadata": {
    "ExecuteTime": {
     "end_time": "2022-11-10T17:29:17.797908Z",
     "start_time": "2022-11-10T17:29:17.775933Z"
    },
    "colab": {
     "base_uri": "https://localhost:8080/"
    },
    "id": "W23ZtQ5nykt4",
    "outputId": "78dff3d7-1360-434d-a31f-f67058f6dcdf"
   },
   "outputs": [
    {
     "name": "stderr",
     "output_type": "stream",
     "text": [
      "C:\\Users\\demin\\AppData\\Local\\Temp\\ipykernel_18608\\558780033.py:1: FutureWarning: In a future version of pandas all arguments of DataFrame.drop except for the argument 'labels' will be keyword-only.\n",
      "  X_val_tree = pd.concat([X_val.drop('zip_code', 1),\n",
      "C:\\Users\\demin\\AppData\\Local\\Temp\\ipykernel_18608\\558780033.py:1: FutureWarning: In a future version of pandas all arguments of concat except for the argument 'objs' will be keyword-only.\n",
      "  X_val_tree = pd.concat([X_val.drop('zip_code', 1),\n",
      "C:\\Users\\demin\\AppData\\Local\\Temp\\ipykernel_18608\\558780033.py:3: FutureWarning: In a future version of pandas all arguments of DataFrame.drop except for the argument 'labels' will be keyword-only.\n",
      "  X_val_tree = pd.concat([X_val_tree.drop('channel', 1),\n",
      "C:\\Users\\demin\\AppData\\Local\\Temp\\ipykernel_18608\\558780033.py:3: FutureWarning: In a future version of pandas all arguments of concat except for the argument 'objs' will be keyword-only.\n",
      "  X_val_tree = pd.concat([X_val_tree.drop('channel', 1),\n"
     ]
    }
   ],
   "source": [
    "X_val_tree = pd.concat([X_val.drop('zip_code', 1), \n",
    "                          pd.get_dummies(X_val['zip_code'], prefix='zip_code')], 1)\n",
    "X_val_tree = pd.concat([X_val_tree.drop('channel', 1), \n",
    "                          pd.get_dummies(X_val['channel'], prefix='channel')], 1)"
   ]
  },
  {
   "cell_type": "code",
   "execution_count": 42,
   "metadata": {
    "ExecuteTime": {
     "end_time": "2022-11-10T17:29:18.338714Z",
     "start_time": "2022-11-10T17:29:18.313763Z"
    },
    "colab": {
     "base_uri": "https://localhost:8080/",
     "height": 424
    },
    "id": "s9u6Pq9CthgC",
    "outputId": "ef9e4f6b-f5cc-4243-9070-f579be4118e4"
   },
   "outputs": [
    {
     "data": {
      "text/html": [
       "<div>\n",
       "<style scoped>\n",
       "    .dataframe tbody tr th:only-of-type {\n",
       "        vertical-align: middle;\n",
       "    }\n",
       "\n",
       "    .dataframe tbody tr th {\n",
       "        vertical-align: top;\n",
       "    }\n",
       "\n",
       "    .dataframe thead th {\n",
       "        text-align: right;\n",
       "    }\n",
       "</style>\n",
       "<table border=\"1\" class=\"dataframe\">\n",
       "  <thead>\n",
       "    <tr style=\"text-align: right;\">\n",
       "      <th></th>\n",
       "      <th>recency</th>\n",
       "      <th>history</th>\n",
       "      <th>used_discount</th>\n",
       "      <th>used_bogo</th>\n",
       "      <th>is_referral</th>\n",
       "      <th>zip_code_Rural</th>\n",
       "      <th>zip_code_Surburban</th>\n",
       "      <th>zip_code_Urban</th>\n",
       "      <th>channel_Multichannel</th>\n",
       "      <th>channel_Phone</th>\n",
       "      <th>channel_Web</th>\n",
       "    </tr>\n",
       "  </thead>\n",
       "  <tbody>\n",
       "    <tr>\n",
       "      <th>53181</th>\n",
       "      <td>8</td>\n",
       "      <td>121.56</td>\n",
       "      <td>0</td>\n",
       "      <td>1</td>\n",
       "      <td>0</td>\n",
       "      <td>0</td>\n",
       "      <td>1</td>\n",
       "      <td>0</td>\n",
       "      <td>0</td>\n",
       "      <td>0</td>\n",
       "      <td>1</td>\n",
       "    </tr>\n",
       "    <tr>\n",
       "      <th>42635</th>\n",
       "      <td>9</td>\n",
       "      <td>617.62</td>\n",
       "      <td>0</td>\n",
       "      <td>1</td>\n",
       "      <td>1</td>\n",
       "      <td>0</td>\n",
       "      <td>0</td>\n",
       "      <td>1</td>\n",
       "      <td>0</td>\n",
       "      <td>1</td>\n",
       "      <td>0</td>\n",
       "    </tr>\n",
       "    <tr>\n",
       "      <th>6296</th>\n",
       "      <td>5</td>\n",
       "      <td>185.62</td>\n",
       "      <td>1</td>\n",
       "      <td>0</td>\n",
       "      <td>1</td>\n",
       "      <td>1</td>\n",
       "      <td>0</td>\n",
       "      <td>0</td>\n",
       "      <td>0</td>\n",
       "      <td>0</td>\n",
       "      <td>1</td>\n",
       "    </tr>\n",
       "    <tr>\n",
       "      <th>41722</th>\n",
       "      <td>1</td>\n",
       "      <td>359.03</td>\n",
       "      <td>0</td>\n",
       "      <td>1</td>\n",
       "      <td>0</td>\n",
       "      <td>1</td>\n",
       "      <td>0</td>\n",
       "      <td>0</td>\n",
       "      <td>0</td>\n",
       "      <td>0</td>\n",
       "      <td>1</td>\n",
       "    </tr>\n",
       "    <tr>\n",
       "      <th>32660</th>\n",
       "      <td>10</td>\n",
       "      <td>139.68</td>\n",
       "      <td>1</td>\n",
       "      <td>0</td>\n",
       "      <td>0</td>\n",
       "      <td>0</td>\n",
       "      <td>0</td>\n",
       "      <td>1</td>\n",
       "      <td>0</td>\n",
       "      <td>0</td>\n",
       "      <td>1</td>\n",
       "    </tr>\n",
       "    <tr>\n",
       "      <th>...</th>\n",
       "      <td>...</td>\n",
       "      <td>...</td>\n",
       "      <td>...</td>\n",
       "      <td>...</td>\n",
       "      <td>...</td>\n",
       "      <td>...</td>\n",
       "      <td>...</td>\n",
       "      <td>...</td>\n",
       "      <td>...</td>\n",
       "      <td>...</td>\n",
       "      <td>...</td>\n",
       "    </tr>\n",
       "    <tr>\n",
       "      <th>61404</th>\n",
       "      <td>1</td>\n",
       "      <td>172.98</td>\n",
       "      <td>1</td>\n",
       "      <td>0</td>\n",
       "      <td>0</td>\n",
       "      <td>0</td>\n",
       "      <td>1</td>\n",
       "      <td>0</td>\n",
       "      <td>0</td>\n",
       "      <td>0</td>\n",
       "      <td>1</td>\n",
       "    </tr>\n",
       "    <tr>\n",
       "      <th>17730</th>\n",
       "      <td>9</td>\n",
       "      <td>95.41</td>\n",
       "      <td>0</td>\n",
       "      <td>1</td>\n",
       "      <td>0</td>\n",
       "      <td>0</td>\n",
       "      <td>1</td>\n",
       "      <td>0</td>\n",
       "      <td>0</td>\n",
       "      <td>1</td>\n",
       "      <td>0</td>\n",
       "    </tr>\n",
       "    <tr>\n",
       "      <th>28030</th>\n",
       "      <td>1</td>\n",
       "      <td>547.69</td>\n",
       "      <td>1</td>\n",
       "      <td>1</td>\n",
       "      <td>1</td>\n",
       "      <td>1</td>\n",
       "      <td>0</td>\n",
       "      <td>0</td>\n",
       "      <td>1</td>\n",
       "      <td>0</td>\n",
       "      <td>0</td>\n",
       "    </tr>\n",
       "    <tr>\n",
       "      <th>15725</th>\n",
       "      <td>5</td>\n",
       "      <td>341.39</td>\n",
       "      <td>0</td>\n",
       "      <td>1</td>\n",
       "      <td>0</td>\n",
       "      <td>0</td>\n",
       "      <td>1</td>\n",
       "      <td>0</td>\n",
       "      <td>0</td>\n",
       "      <td>1</td>\n",
       "      <td>0</td>\n",
       "    </tr>\n",
       "    <tr>\n",
       "      <th>52734</th>\n",
       "      <td>1</td>\n",
       "      <td>67.15</td>\n",
       "      <td>0</td>\n",
       "      <td>1</td>\n",
       "      <td>0</td>\n",
       "      <td>1</td>\n",
       "      <td>0</td>\n",
       "      <td>0</td>\n",
       "      <td>0</td>\n",
       "      <td>0</td>\n",
       "      <td>1</td>\n",
       "    </tr>\n",
       "  </tbody>\n",
       "</table>\n",
       "<p>44800 rows × 11 columns</p>\n",
       "</div>"
      ],
      "text/plain": [
       "       recency  history  used_discount  used_bogo  is_referral  \\\n",
       "53181        8   121.56              0          1            0   \n",
       "42635        9   617.62              0          1            1   \n",
       "6296         5   185.62              1          0            1   \n",
       "41722        1   359.03              0          1            0   \n",
       "32660       10   139.68              1          0            0   \n",
       "...        ...      ...            ...        ...          ...   \n",
       "61404        1   172.98              1          0            0   \n",
       "17730        9    95.41              0          1            0   \n",
       "28030        1   547.69              1          1            1   \n",
       "15725        5   341.39              0          1            0   \n",
       "52734        1    67.15              0          1            0   \n",
       "\n",
       "       zip_code_Rural  zip_code_Surburban  zip_code_Urban  \\\n",
       "53181               0                   1               0   \n",
       "42635               0                   0               1   \n",
       "6296                1                   0               0   \n",
       "41722               1                   0               0   \n",
       "32660               0                   0               1   \n",
       "...               ...                 ...             ...   \n",
       "61404               0                   1               0   \n",
       "17730               0                   1               0   \n",
       "28030               1                   0               0   \n",
       "15725               0                   1               0   \n",
       "52734               1                   0               0   \n",
       "\n",
       "       channel_Multichannel  channel_Phone  channel_Web  \n",
       "53181                     0              0            1  \n",
       "42635                     0              1            0  \n",
       "6296                      0              0            1  \n",
       "41722                     0              0            1  \n",
       "32660                     0              0            1  \n",
       "...                     ...            ...          ...  \n",
       "61404                     0              0            1  \n",
       "17730                     0              1            0  \n",
       "28030                     1              0            0  \n",
       "15725                     0              1            0  \n",
       "52734                     0              0            1  \n",
       "\n",
       "[44800 rows x 11 columns]"
      ]
     },
     "execution_count": 42,
     "metadata": {},
     "output_type": "execute_result"
    }
   ],
   "source": [
    "X_train_tree"
   ]
  },
  {
   "cell_type": "code",
   "execution_count": 43,
   "metadata": {
    "ExecuteTime": {
     "end_time": "2022-11-10T17:29:19.271292Z",
     "start_time": "2022-11-10T17:29:19.257330Z"
    },
    "colab": {
     "base_uri": "https://localhost:8080/",
     "height": 1000
    },
    "id": "2sFEhvkmptIT",
    "outputId": "d3bb1701-9710-4015-d69b-f6d46f953707",
    "scrolled": false
   },
   "outputs": [
    {
     "ename": "ModuleNotFoundError",
     "evalue": "No module named 'causalml'",
     "output_type": "error",
     "traceback": [
      "\u001b[1;31m---------------------------------------------------------------------------\u001b[0m",
      "\u001b[1;31mModuleNotFoundError\u001b[0m                       Traceback (most recent call last)",
      "File \u001b[1;32m<timed exec>:2\u001b[0m, in \u001b[0;36m<module>\u001b[1;34m\u001b[0m\n",
      "\u001b[1;31mModuleNotFoundError\u001b[0m: No module named 'causalml'"
     ]
    }
   ],
   "source": [
    "%%time\n",
    "from IPython.display import Image\n",
    "from causalml.inference.tree import UpliftTreeClassifier, UpliftRandomForestClassifier\n",
    "from causalml.inference.tree import uplift_tree_string, uplift_tree_plot\n",
    "\n",
    "uplift_model = UpliftTreeClassifier(max_depth=5, min_samples_leaf=200, min_samples_treatment=50,\n",
    "                                    n_reg=100, evaluationFunction='KL', control_name='control')\n",
    "\n",
    "uplift_model.fit(X_train_tree.values,\n",
    "                 treatment=treat_train.map({1: 'treatment1', 0: 'control'}).values,\n",
    "                 y=y_train)\n",
    "\n",
    "graph = uplift_tree_plot(uplift_model.fitted_uplift_tree, features)\n",
    "Image(graph.create_png())"
   ]
  },
  {
   "cell_type": "code",
   "execution_count": 44,
   "metadata": {
    "ExecuteTime": {
     "end_time": "2022-11-13T12:57:26.019720Z",
     "start_time": "2022-11-13T12:57:08.859300Z"
    },
    "id": "CBV_nownpIvv",
    "scrolled": true
   },
   "outputs": [
    {
     "name": "stdout",
     "output_type": "stream",
     "text": [
      "Collecting causalml\n",
      "  Using cached causalml-0.13.0.tar.gz (535 kB)\n",
      "  Preparing metadata (setup.py): started\n",
      "  Preparing metadata (setup.py): finished with status 'done'\n",
      "Requirement already satisfied: setuptools>=41.0.0 in c:\\users\\demin\\mysoft\\anaconda_05_2022\\lib\\site-packages (from causalml) (65.5.0)\n",
      "Requirement already satisfied: forestci==0.6 in c:\\users\\demin\\mysoft\\anaconda_05_2022\\lib\\site-packages (from causalml) (0.6)\n",
      "Requirement already satisfied: pathos==0.2.9 in c:\\users\\demin\\mysoft\\anaconda_05_2022\\lib\\site-packages (from causalml) (0.2.9)\n",
      "Requirement already satisfied: pip>=10.0 in c:\\users\\demin\\mysoft\\anaconda_05_2022\\lib\\site-packages (from causalml) (22.2.2)\n",
      "Requirement already satisfied: numpy>=1.18.5 in c:\\users\\demin\\mysoft\\anaconda_05_2022\\lib\\site-packages (from causalml) (1.21.5)\n",
      "Requirement already satisfied: scipy>=1.4.1 in c:\\users\\demin\\mysoft\\anaconda_05_2022\\lib\\site-packages (from causalml) (1.7.3)\n",
      "Requirement already satisfied: matplotlib in c:\\users\\demin\\mysoft\\anaconda_05_2022\\lib\\site-packages (from causalml) (3.5.3)\n",
      "Requirement already satisfied: pandas>=0.24.1 in c:\\users\\demin\\mysoft\\anaconda_05_2022\\lib\\site-packages (from causalml) (1.4.4)\n",
      "Requirement already satisfied: scikit-learn==1.0.2 in c:\\users\\demin\\mysoft\\anaconda_05_2022\\lib\\site-packages (from causalml) (1.0.2)\n",
      "Requirement already satisfied: statsmodels>=0.9.0 in c:\\users\\demin\\mysoft\\anaconda_05_2022\\lib\\site-packages (from causalml) (0.13.2)\n",
      "Requirement already satisfied: seaborn in c:\\users\\demin\\mysoft\\anaconda_05_2022\\lib\\site-packages (from causalml) (0.12.0)\n",
      "Requirement already satisfied: Cython>=0.28.0 in c:\\users\\demin\\mysoft\\anaconda_05_2022\\lib\\site-packages (from causalml) (0.29.32)\n",
      "Requirement already satisfied: xgboost in c:\\users\\demin\\mysoft\\anaconda_05_2022\\lib\\site-packages (from causalml) (1.7.1)\n",
      "Requirement already satisfied: pydotplus in c:\\users\\demin\\mysoft\\anaconda_05_2022\\lib\\site-packages (from causalml) (2.0.2)\n",
      "Requirement already satisfied: tqdm in c:\\users\\demin\\mysoft\\anaconda_05_2022\\lib\\site-packages (from causalml) (4.64.1)\n",
      "Requirement already satisfied: shap in c:\\users\\demin\\mysoft\\anaconda_05_2022\\lib\\site-packages (from causalml) (0.41.0)\n",
      "Requirement already satisfied: dill in c:\\users\\demin\\mysoft\\anaconda_05_2022\\lib\\site-packages (from causalml) (0.3.6)\n",
      "Requirement already satisfied: lightgbm in c:\\users\\demin\\mysoft\\anaconda_05_2022\\lib\\site-packages (from causalml) (3.2.1)\n",
      "Requirement already satisfied: pygam in c:\\users\\demin\\mysoft\\anaconda_05_2022\\lib\\site-packages (from causalml) (0.8.0)\n",
      "Requirement already satisfied: packaging in c:\\users\\demin\\mysoft\\anaconda_05_2022\\lib\\site-packages (from causalml) (21.3)\n",
      "Requirement already satisfied: torch in c:\\users\\demin\\mysoft\\anaconda_05_2022\\lib\\site-packages (from causalml) (1.13.0)\n",
      "Requirement already satisfied: pyro-ppl in c:\\users\\demin\\mysoft\\anaconda_05_2022\\lib\\site-packages (from causalml) (1.8.2)\n",
      "Requirement already satisfied: graphviz in c:\\users\\demin\\mysoft\\anaconda_05_2022\\lib\\site-packages (from causalml) (0.20.1)\n",
      "Requirement already satisfied: pox>=0.3.1 in c:\\users\\demin\\mysoft\\anaconda_05_2022\\lib\\site-packages (from pathos==0.2.9->causalml) (0.3.2)\n",
      "Requirement already satisfied: multiprocess>=0.70.13 in c:\\users\\demin\\mysoft\\anaconda_05_2022\\lib\\site-packages (from pathos==0.2.9->causalml) (0.70.14)\n",
      "Requirement already satisfied: ppft>=1.7.6.5 in c:\\users\\demin\\mysoft\\anaconda_05_2022\\lib\\site-packages (from pathos==0.2.9->causalml) (1.7.6.6)\n",
      "Requirement already satisfied: joblib>=0.11 in c:\\users\\demin\\mysoft\\anaconda_05_2022\\lib\\site-packages (from scikit-learn==1.0.2->causalml) (1.1.1)\n",
      "Requirement already satisfied: threadpoolctl>=2.0.0 in c:\\users\\demin\\mysoft\\anaconda_05_2022\\lib\\site-packages (from scikit-learn==1.0.2->causalml) (2.2.0)\n",
      "Requirement already satisfied: pytz>=2020.1 in c:\\users\\demin\\mysoft\\anaconda_05_2022\\lib\\site-packages (from pandas>=0.24.1->causalml) (2022.1)\n",
      "Requirement already satisfied: python-dateutil>=2.8.1 in c:\\users\\demin\\mysoft\\anaconda_05_2022\\lib\\site-packages (from pandas>=0.24.1->causalml) (2.8.2)\n",
      "Requirement already satisfied: patsy>=0.5.2 in c:\\users\\demin\\mysoft\\anaconda_05_2022\\lib\\site-packages (from statsmodels>=0.9.0->causalml) (0.5.2)\n",
      "Requirement already satisfied: pyparsing!=3.0.5,>=2.0.2 in c:\\users\\demin\\mysoft\\anaconda_05_2022\\lib\\site-packages (from packaging->causalml) (3.0.9)\n",
      "Requirement already satisfied: wheel in c:\\users\\demin\\mysoft\\anaconda_05_2022\\lib\\site-packages (from lightgbm->causalml) (0.37.1)\n",
      "Requirement already satisfied: kiwisolver>=1.0.1 in c:\\users\\demin\\mysoft\\anaconda_05_2022\\lib\\site-packages (from matplotlib->causalml) (1.4.2)\n",
      "Requirement already satisfied: fonttools>=4.22.0 in c:\\users\\demin\\mysoft\\anaconda_05_2022\\lib\\site-packages (from matplotlib->causalml) (4.25.0)\n",
      "Requirement already satisfied: cycler>=0.10 in c:\\users\\demin\\mysoft\\anaconda_05_2022\\lib\\site-packages (from matplotlib->causalml) (0.11.0)\n",
      "Requirement already satisfied: pillow>=6.2.0 in c:\\users\\demin\\mysoft\\anaconda_05_2022\\lib\\site-packages (from matplotlib->causalml) (9.2.0)\n",
      "Requirement already satisfied: future in c:\\users\\demin\\mysoft\\anaconda_05_2022\\lib\\site-packages (from pygam->causalml) (0.18.2)\n",
      "Requirement already satisfied: progressbar2 in c:\\users\\demin\\mysoft\\anaconda_05_2022\\lib\\site-packages (from pygam->causalml) (4.2.0)\n",
      "Requirement already satisfied: opt-einsum>=2.3.2 in c:\\users\\demin\\mysoft\\anaconda_05_2022\\lib\\site-packages (from pyro-ppl->causalml) (3.3.0)\n",
      "Requirement already satisfied: pyro-api>=0.1.1 in c:\\users\\demin\\mysoft\\anaconda_05_2022\\lib\\site-packages (from pyro-ppl->causalml) (0.1.2)\n",
      "Requirement already satisfied: typing-extensions in c:\\users\\demin\\mysoft\\anaconda_05_2022\\lib\\site-packages (from torch->causalml) (4.3.0)\n",
      "Requirement already satisfied: colorama in c:\\users\\demin\\mysoft\\anaconda_05_2022\\lib\\site-packages (from tqdm->causalml) (0.4.5)\n",
      "Requirement already satisfied: slicer==0.0.7 in c:\\users\\demin\\mysoft\\anaconda_05_2022\\lib\\site-packages (from shap->causalml) (0.0.7)\n",
      "Requirement already satisfied: cloudpickle in c:\\users\\demin\\mysoft\\anaconda_05_2022\\lib\\site-packages (from shap->causalml) (2.0.0)\n",
      "Requirement already satisfied: numba in c:\\users\\demin\\mysoft\\anaconda_05_2022\\lib\\site-packages (from shap->causalml) (0.56.3)\n",
      "Requirement already satisfied: six in c:\\users\\demin\\mysoft\\anaconda_05_2022\\lib\\site-packages (from patsy>=0.5.2->statsmodels>=0.9.0->causalml) (1.16.0)\n",
      "Requirement already satisfied: llvmlite<0.40,>=0.39.0dev0 in c:\\users\\demin\\mysoft\\anaconda_05_2022\\lib\\site-packages (from numba->shap->causalml) (0.39.1)\n",
      "Requirement already satisfied: python-utils>=3.0.0 in c:\\users\\demin\\mysoft\\anaconda_05_2022\\lib\\site-packages (from progressbar2->pygam->causalml) (3.4.5)\n",
      "Building wheels for collected packages: causalml\n",
      "  Building wheel for causalml (setup.py): started\n",
      "  Building wheel for causalml (setup.py): finished with status 'error'\n",
      "  Running setup.py clean for causalml\n",
      "Failed to build causalml\n",
      "Installing collected packages: causalml\n",
      "  Running setup.py install for causalml: started\n",
      "  Running setup.py install for causalml: finished with status 'error'\n"
     ]
    },
    {
     "name": "stderr",
     "output_type": "stream",
     "text": [
      "WARNING: Ignoring invalid distribution -yrsistent (c:\\users\\demin\\mysoft\\anaconda_05_2022\\lib\\site-packages)\n",
      "WARNING: Ignoring invalid distribution -yrsistent (c:\\users\\demin\\mysoft\\anaconda_05_2022\\lib\\site-packages)\n",
      "  error: subprocess-exited-with-error\n",
      "  \n",
      "  python setup.py bdist_wheel did not run successfully.\n",
      "  exit code: 1\n",
      "  \n",
      "  [67 lines of output]\n",
      "  running bdist_wheel\n",
      "  running build\n",
      "  running build_py\n",
      "  creating build\n",
      "  creating build\\lib.win-amd64-cpython-39\n",
      "  creating build\\lib.win-amd64-cpython-39\\causalml\n",
      "  copying causalml\\features.py -> build\\lib.win-amd64-cpython-39\\causalml\n",
      "  copying causalml\\match.py -> build\\lib.win-amd64-cpython-39\\causalml\n",
      "  copying causalml\\propensity.py -> build\\lib.win-amd64-cpython-39\\causalml\n",
      "  copying causalml\\__init__.py -> build\\lib.win-amd64-cpython-39\\causalml\n",
      "  creating build\\lib.win-amd64-cpython-39\\causalml\\dataset\n",
      "  copying causalml\\dataset\\classification.py -> build\\lib.win-amd64-cpython-39\\causalml\\dataset\n",
      "  copying causalml\\dataset\\regression.py -> build\\lib.win-amd64-cpython-39\\causalml\\dataset\n",
      "  copying causalml\\dataset\\synthetic.py -> build\\lib.win-amd64-cpython-39\\causalml\\dataset\n",
      "  copying causalml\\dataset\\__init__.py -> build\\lib.win-amd64-cpython-39\\causalml\\dataset\n",
      "  creating build\\lib.win-amd64-cpython-39\\causalml\\feature_selection\n",
      "  copying causalml\\feature_selection\\filters.py -> build\\lib.win-amd64-cpython-39\\causalml\\feature_selection\n",
      "  copying causalml\\feature_selection\\__init__.py -> build\\lib.win-amd64-cpython-39\\causalml\\feature_selection\n",
      "  creating build\\lib.win-amd64-cpython-39\\causalml\\inference\n",
      "  copying causalml\\inference\\__init__.py -> build\\lib.win-amd64-cpython-39\\causalml\\inference\n",
      "  creating build\\lib.win-amd64-cpython-39\\causalml\\metrics\n",
      "  copying causalml\\metrics\\classification.py -> build\\lib.win-amd64-cpython-39\\causalml\\metrics\n",
      "  copying causalml\\metrics\\const.py -> build\\lib.win-amd64-cpython-39\\causalml\\metrics\n",
      "  copying causalml\\metrics\\regression.py -> build\\lib.win-amd64-cpython-39\\causalml\\metrics\n",
      "  copying causalml\\metrics\\sensitivity.py -> build\\lib.win-amd64-cpython-39\\causalml\\metrics\n",
      "  copying causalml\\metrics\\visualize.py -> build\\lib.win-amd64-cpython-39\\causalml\\metrics\n",
      "  copying causalml\\metrics\\__init__.py -> build\\lib.win-amd64-cpython-39\\causalml\\metrics\n",
      "  creating build\\lib.win-amd64-cpython-39\\causalml\\optimize\n",
      "  copying causalml\\optimize\\pns.py -> build\\lib.win-amd64-cpython-39\\causalml\\optimize\n",
      "  copying causalml\\optimize\\policylearner.py -> build\\lib.win-amd64-cpython-39\\causalml\\optimize\n",
      "  copying causalml\\optimize\\unit_selection.py -> build\\lib.win-amd64-cpython-39\\causalml\\optimize\n",
      "  copying causalml\\optimize\\utils.py -> build\\lib.win-amd64-cpython-39\\causalml\\optimize\n",
      "  copying causalml\\optimize\\value_optimization.py -> build\\lib.win-amd64-cpython-39\\causalml\\optimize\n",
      "  copying causalml\\optimize\\__init__.py -> build\\lib.win-amd64-cpython-39\\causalml\\optimize\n",
      "  creating build\\lib.win-amd64-cpython-39\\causalml\\inference\\iv\n",
      "  copying causalml\\inference\\iv\\drivlearner.py -> build\\lib.win-amd64-cpython-39\\causalml\\inference\\iv\n",
      "  copying causalml\\inference\\iv\\iv_regression.py -> build\\lib.win-amd64-cpython-39\\causalml\\inference\\iv\n",
      "  copying causalml\\inference\\iv\\__init__.py -> build\\lib.win-amd64-cpython-39\\causalml\\inference\\iv\n",
      "  creating build\\lib.win-amd64-cpython-39\\causalml\\inference\\meta\n",
      "  copying causalml\\inference\\meta\\base.py -> build\\lib.win-amd64-cpython-39\\causalml\\inference\\meta\n",
      "  copying causalml\\inference\\meta\\drlearner.py -> build\\lib.win-amd64-cpython-39\\causalml\\inference\\meta\n",
      "  copying causalml\\inference\\meta\\explainer.py -> build\\lib.win-amd64-cpython-39\\causalml\\inference\\meta\n",
      "  copying causalml\\inference\\meta\\rlearner.py -> build\\lib.win-amd64-cpython-39\\causalml\\inference\\meta\n",
      "  copying causalml\\inference\\meta\\slearner.py -> build\\lib.win-amd64-cpython-39\\causalml\\inference\\meta\n",
      "  copying causalml\\inference\\meta\\tlearner.py -> build\\lib.win-amd64-cpython-39\\causalml\\inference\\meta\n",
      "  copying causalml\\inference\\meta\\tmle.py -> build\\lib.win-amd64-cpython-39\\causalml\\inference\\meta\n",
      "  copying causalml\\inference\\meta\\utils.py -> build\\lib.win-amd64-cpython-39\\causalml\\inference\\meta\n",
      "  copying causalml\\inference\\meta\\xlearner.py -> build\\lib.win-amd64-cpython-39\\causalml\\inference\\meta\n",
      "  copying causalml\\inference\\meta\\__init__.py -> build\\lib.win-amd64-cpython-39\\causalml\\inference\\meta\n",
      "  creating build\\lib.win-amd64-cpython-39\\causalml\\inference\\nn\n",
      "  copying causalml\\inference\\nn\\cevae.py -> build\\lib.win-amd64-cpython-39\\causalml\\inference\\nn\n",
      "  copying causalml\\inference\\nn\\__init__.py -> build\\lib.win-amd64-cpython-39\\causalml\\inference\\nn\n",
      "  creating build\\lib.win-amd64-cpython-39\\causalml\\inference\\tf\n",
      "  copying causalml\\inference\\tf\\dragonnet.py -> build\\lib.win-amd64-cpython-39\\causalml\\inference\\tf\n",
      "  copying causalml\\inference\\tf\\utils.py -> build\\lib.win-amd64-cpython-39\\causalml\\inference\\tf\n",
      "  copying causalml\\inference\\tf\\__init__.py -> build\\lib.win-amd64-cpython-39\\causalml\\inference\\tf\n",
      "  creating build\\lib.win-amd64-cpython-39\\causalml\\inference\\tree\n",
      "  copying causalml\\inference\\tree\\plot.py -> build\\lib.win-amd64-cpython-39\\causalml\\inference\\tree\n",
      "  copying causalml\\inference\\tree\\utils.py -> build\\lib.win-amd64-cpython-39\\causalml\\inference\\tree\n",
      "  copying causalml\\inference\\tree\\__init__.py -> build\\lib.win-amd64-cpython-39\\causalml\\inference\\tree\n",
      "  creating build\\lib.win-amd64-cpython-39\\causalml\\inference\\tree\\causal\n",
      "  copying causalml\\inference\\tree\\causal\\causaltree.py -> build\\lib.win-amd64-cpython-39\\causalml\\inference\\tree\\causal\n",
      "  copying causalml\\inference\\tree\\causal\\_tree.py -> build\\lib.win-amd64-cpython-39\\causalml\\inference\\tree\\causal\n",
      "  copying causalml\\inference\\tree\\causal\\__init__.py -> build\\lib.win-amd64-cpython-39\\causalml\\inference\\tree\\causal\n",
      "  running build_ext\n",
      "  building 'causalml.inference.tree.causal.criterion' extension\n",
      "  error: Microsoft Visual C++ 14.0 or greater is required. Get it with \"Microsoft C++ Build Tools\": https://visualstudio.microsoft.com/visual-cpp-build-tools/\n",
      "  [end of output]\n",
      "  \n",
      "  note: This error originates from a subprocess, and is likely not a problem with pip.\n",
      "  ERROR: Failed building wheel for causalml\n",
      "WARNING: Ignoring invalid distribution -yrsistent (c:\\users\\demin\\mysoft\\anaconda_05_2022\\lib\\site-packages)\n",
      "  error: subprocess-exited-with-error\n",
      "  \n",
      "  Running setup.py install for causalml did not run successfully.\n",
      "  exit code: 1\n",
      "  \n",
      "  [69 lines of output]\n",
      "  running install\n",
      "  C:\\Users\\demin\\MySoft\\Anaconda_05_2022\\lib\\site-packages\\setuptools\\command\\install.py:34: SetuptoolsDeprecationWarning: setup.py install is deprecated. Use build and pip and other standards-based tools.\n",
      "    warnings.warn(\n",
      "  running build\n",
      "  running build_py\n",
      "  creating build\n",
      "  creating build\\lib.win-amd64-cpython-39\n",
      "  creating build\\lib.win-amd64-cpython-39\\causalml\n",
      "  copying causalml\\features.py -> build\\lib.win-amd64-cpython-39\\causalml\n",
      "  copying causalml\\match.py -> build\\lib.win-amd64-cpython-39\\causalml\n",
      "  copying causalml\\propensity.py -> build\\lib.win-amd64-cpython-39\\causalml\n",
      "  copying causalml\\__init__.py -> build\\lib.win-amd64-cpython-39\\causalml\n",
      "  creating build\\lib.win-amd64-cpython-39\\causalml\\dataset\n",
      "  copying causalml\\dataset\\classification.py -> build\\lib.win-amd64-cpython-39\\causalml\\dataset\n",
      "  copying causalml\\dataset\\regression.py -> build\\lib.win-amd64-cpython-39\\causalml\\dataset\n",
      "  copying causalml\\dataset\\synthetic.py -> build\\lib.win-amd64-cpython-39\\causalml\\dataset\n",
      "  copying causalml\\dataset\\__init__.py -> build\\lib.win-amd64-cpython-39\\causalml\\dataset\n",
      "  creating build\\lib.win-amd64-cpython-39\\causalml\\feature_selection\n",
      "  copying causalml\\feature_selection\\filters.py -> build\\lib.win-amd64-cpython-39\\causalml\\feature_selection\n",
      "  copying causalml\\feature_selection\\__init__.py -> build\\lib.win-amd64-cpython-39\\causalml\\feature_selection\n",
      "  creating build\\lib.win-amd64-cpython-39\\causalml\\inference\n",
      "  copying causalml\\inference\\__init__.py -> build\\lib.win-amd64-cpython-39\\causalml\\inference\n",
      "  creating build\\lib.win-amd64-cpython-39\\causalml\\metrics\n",
      "  copying causalml\\metrics\\classification.py -> build\\lib.win-amd64-cpython-39\\causalml\\metrics\n",
      "  copying causalml\\metrics\\const.py -> build\\lib.win-amd64-cpython-39\\causalml\\metrics\n",
      "  copying causalml\\metrics\\regression.py -> build\\lib.win-amd64-cpython-39\\causalml\\metrics\n",
      "  copying causalml\\metrics\\sensitivity.py -> build\\lib.win-amd64-cpython-39\\causalml\\metrics\n",
      "  copying causalml\\metrics\\visualize.py -> build\\lib.win-amd64-cpython-39\\causalml\\metrics\n",
      "  copying causalml\\metrics\\__init__.py -> build\\lib.win-amd64-cpython-39\\causalml\\metrics\n",
      "  creating build\\lib.win-amd64-cpython-39\\causalml\\optimize\n",
      "  copying causalml\\optimize\\pns.py -> build\\lib.win-amd64-cpython-39\\causalml\\optimize\n",
      "  copying causalml\\optimize\\policylearner.py -> build\\lib.win-amd64-cpython-39\\causalml\\optimize\n",
      "  copying causalml\\optimize\\unit_selection.py -> build\\lib.win-amd64-cpython-39\\causalml\\optimize\n",
      "  copying causalml\\optimize\\utils.py -> build\\lib.win-amd64-cpython-39\\causalml\\optimize\n",
      "  copying causalml\\optimize\\value_optimization.py -> build\\lib.win-amd64-cpython-39\\causalml\\optimize\n",
      "  copying causalml\\optimize\\__init__.py -> build\\lib.win-amd64-cpython-39\\causalml\\optimize\n",
      "  creating build\\lib.win-amd64-cpython-39\\causalml\\inference\\iv\n",
      "  copying causalml\\inference\\iv\\drivlearner.py -> build\\lib.win-amd64-cpython-39\\causalml\\inference\\iv\n",
      "  copying causalml\\inference\\iv\\iv_regression.py -> build\\lib.win-amd64-cpython-39\\causalml\\inference\\iv\n",
      "  copying causalml\\inference\\iv\\__init__.py -> build\\lib.win-amd64-cpython-39\\causalml\\inference\\iv\n",
      "  creating build\\lib.win-amd64-cpython-39\\causalml\\inference\\meta\n",
      "  copying causalml\\inference\\meta\\base.py -> build\\lib.win-amd64-cpython-39\\causalml\\inference\\meta\n",
      "  copying causalml\\inference\\meta\\drlearner.py -> build\\lib.win-amd64-cpython-39\\causalml\\inference\\meta\n",
      "  copying causalml\\inference\\meta\\explainer.py -> build\\lib.win-amd64-cpython-39\\causalml\\inference\\meta\n",
      "  copying causalml\\inference\\meta\\rlearner.py -> build\\lib.win-amd64-cpython-39\\causalml\\inference\\meta\n",
      "  copying causalml\\inference\\meta\\slearner.py -> build\\lib.win-amd64-cpython-39\\causalml\\inference\\meta\n",
      "  copying causalml\\inference\\meta\\tlearner.py -> build\\lib.win-amd64-cpython-39\\causalml\\inference\\meta\n",
      "  copying causalml\\inference\\meta\\tmle.py -> build\\lib.win-amd64-cpython-39\\causalml\\inference\\meta\n",
      "  copying causalml\\inference\\meta\\utils.py -> build\\lib.win-amd64-cpython-39\\causalml\\inference\\meta\n",
      "  copying causalml\\inference\\meta\\xlearner.py -> build\\lib.win-amd64-cpython-39\\causalml\\inference\\meta\n",
      "  copying causalml\\inference\\meta\\__init__.py -> build\\lib.win-amd64-cpython-39\\causalml\\inference\\meta\n",
      "  creating build\\lib.win-amd64-cpython-39\\causalml\\inference\\nn\n",
      "  copying causalml\\inference\\nn\\cevae.py -> build\\lib.win-amd64-cpython-39\\causalml\\inference\\nn\n",
      "  copying causalml\\inference\\nn\\__init__.py -> build\\lib.win-amd64-cpython-39\\causalml\\inference\\nn\n",
      "  creating build\\lib.win-amd64-cpython-39\\causalml\\inference\\tf\n",
      "  copying causalml\\inference\\tf\\dragonnet.py -> build\\lib.win-amd64-cpython-39\\causalml\\inference\\tf\n",
      "  copying causalml\\inference\\tf\\utils.py -> build\\lib.win-amd64-cpython-39\\causalml\\inference\\tf\n",
      "  copying causalml\\inference\\tf\\__init__.py -> build\\lib.win-amd64-cpython-39\\causalml\\inference\\tf\n",
      "  creating build\\lib.win-amd64-cpython-39\\causalml\\inference\\tree\n",
      "  copying causalml\\inference\\tree\\plot.py -> build\\lib.win-amd64-cpython-39\\causalml\\inference\\tree\n",
      "  copying causalml\\inference\\tree\\utils.py -> build\\lib.win-amd64-cpython-39\\causalml\\inference\\tree\n",
      "  copying causalml\\inference\\tree\\__init__.py -> build\\lib.win-amd64-cpython-39\\causalml\\inference\\tree\n",
      "  creating build\\lib.win-amd64-cpython-39\\causalml\\inference\\tree\\causal\n",
      "  copying causalml\\inference\\tree\\causal\\causaltree.py -> build\\lib.win-amd64-cpython-39\\causalml\\inference\\tree\\causal\n",
      "  copying causalml\\inference\\tree\\causal\\_tree.py -> build\\lib.win-amd64-cpython-39\\causalml\\inference\\tree\\causal\n",
      "  copying causalml\\inference\\tree\\causal\\__init__.py -> build\\lib.win-amd64-cpython-39\\causalml\\inference\\tree\\causal\n",
      "  running build_ext\n",
      "  building 'causalml.inference.tree.causal.criterion' extension\n",
      "  error: Microsoft Visual C++ 14.0 or greater is required. Get it with \"Microsoft C++ Build Tools\": https://visualstudio.microsoft.com/visual-cpp-build-tools/\n",
      "  [end of output]\n",
      "  \n",
      "  note: This error originates from a subprocess, and is likely not a problem with pip.\n",
      "error: legacy-install-failure\n",
      "\n",
      "Encountered error while trying to install package.\n",
      "\n",
      "causalml\n",
      "\n",
      "note: This is an issue with the package mentioned above, not pip.\n",
      "hint: See above for output from the failure.\n",
      "WARNING: Ignoring invalid distribution -yrsistent (c:\\users\\demin\\mysoft\\anaconda_05_2022\\lib\\site-packages)\n",
      "WARNING: Ignoring invalid distribution -yrsistent (c:\\users\\demin\\mysoft\\anaconda_05_2022\\lib\\site-packages)\n",
      "WARNING: Ignoring invalid distribution -yrsistent (c:\\users\\demin\\mysoft\\anaconda_05_2022\\lib\\site-packages)\n"
     ]
    }
   ],
   "source": [
    "!pip install causalml"
   ]
  },
  {
   "cell_type": "code",
   "execution_count": null,
   "metadata": {},
   "outputs": [],
   "source": [
    "\n",
    "error: Microsoft Visual C++ 14.0 or greater is required. Get it with \"Microsoft C++ Build Tools\": https://visualstudio.microsoft.com/visual-cpp-build-tools/\n",
    "      [end of output]\n",
    "\n",
    "  note: This error originates from a subprocess, and is likely not a problem with pip.\n",
    "error: legacy-install-failure\n",
    "\n",
    "× Encountered error while trying to install package.\n",
    "╰─> causalml\n",
    "\n",
    "note: This is an issue with the package mentioned above, not pip.\n"
   ]
  },
  {
   "cell_type": "markdown",
   "metadata": {
    "id": "1hLOK6Xtsk27"
   },
   "source": [
    "По дереву решений можно увидеть по каким признакам (и при каках значениях) лучше выбирать клиентов для совершения звонка (высокое значение uplift score, малое значение p_value, а каких клиентов лучше не беспокоить. Об этом скажет отрицательное значение uplift score. Высокое значение p_value означает, что результаты могут считаться статистически значимыми. Это может быть связано с размером выборки, разбросом данных?"
   ]
  },
  {
   "cell_type": "code",
   "execution_count": 36,
   "metadata": {
    "ExecuteTime": {
     "end_time": "2022-11-10T17:19:57.759273Z",
     "start_time": "2022-11-10T17:19:57.259414Z"
    },
    "colab": {
     "base_uri": "https://localhost:8080/"
    },
    "id": "nXTztcif8ISA",
    "outputId": "4fafd3c8-9842-4024-8b69-c45cf006e7a5"
   },
   "outputs": [
    {
     "ename": "NameError",
     "evalue": "name 'uplift_tree_string' is not defined",
     "output_type": "error",
     "traceback": [
      "\u001b[1;31m---------------------------------------------------------------------------\u001b[0m",
      "\u001b[1;31mNameError\u001b[0m                                 Traceback (most recent call last)",
      "Input \u001b[1;32mIn [36]\u001b[0m, in \u001b[0;36m<cell line: 2>\u001b[1;34m()\u001b[0m\n\u001b[0;32m      1\u001b[0m \u001b[38;5;66;03m# Print uplift tree as a string\u001b[39;00m\n\u001b[1;32m----> 2\u001b[0m result \u001b[38;5;241m=\u001b[39m \u001b[43muplift_tree_string\u001b[49m(uplift_model\u001b[38;5;241m.\u001b[39mfitted_uplift_tree, X_train_tree\u001b[38;5;241m.\u001b[39mcolumns)\n",
      "\u001b[1;31mNameError\u001b[0m: name 'uplift_tree_string' is not defined"
     ]
    }
   ],
   "source": [
    "# Print uplift tree as a string\n",
    "result = uplift_tree_string(uplift_model.fitted_uplift_tree, X_train_tree.columns)"
   ]
  },
  {
   "cell_type": "code",
   "execution_count": 37,
   "metadata": {
    "ExecuteTime": {
     "end_time": "2022-11-10T17:19:58.150780Z",
     "start_time": "2022-11-10T17:19:58.126809Z"
    },
    "colab": {
     "base_uri": "https://localhost:8080/",
     "height": 208
    },
    "id": "TFRo4yJe1Da5",
    "outputId": "7c196c85-9020-4ed3-a9f8-b4ad0102c814"
   },
   "outputs": [
    {
     "ename": "NameError",
     "evalue": "name 'uplift_model' is not defined",
     "output_type": "error",
     "traceback": [
      "\u001b[1;31m---------------------------------------------------------------------------\u001b[0m",
      "\u001b[1;31mNameError\u001b[0m                                 Traceback (most recent call last)",
      "Input \u001b[1;32mIn [37]\u001b[0m, in \u001b[0;36m<cell line: 3>\u001b[1;34m()\u001b[0m\n\u001b[0;32m      1\u001b[0m \u001b[38;5;66;03m### Построим дерево на валидационных данных \u001b[39;00m\n\u001b[0;32m      2\u001b[0m \u001b[38;5;66;03m# The uplift score based on testing dataset is shown as validation uplift score in the tree nodes\u001b[39;00m\n\u001b[1;32m----> 3\u001b[0m \u001b[43muplift_model\u001b[49m\u001b[38;5;241m.\u001b[39mfill(X\u001b[38;5;241m=\u001b[39mX_val_tree\u001b[38;5;241m.\u001b[39mvalues, treatment\u001b[38;5;241m=\u001b[39mtreat_val\u001b[38;5;241m.\u001b[39mmap({\u001b[38;5;241m1\u001b[39m: \u001b[38;5;124m'\u001b[39m\u001b[38;5;124mtreatment1\u001b[39m\u001b[38;5;124m'\u001b[39m, \u001b[38;5;241m0\u001b[39m: \u001b[38;5;124m'\u001b[39m\u001b[38;5;124mcontrol\u001b[39m\u001b[38;5;124m'\u001b[39m})\u001b[38;5;241m.\u001b[39mvalues, y\u001b[38;5;241m=\u001b[39my_val\u001b[38;5;241m.\u001b[39mvalues)\n\u001b[0;32m      5\u001b[0m \u001b[38;5;66;03m# Plot uplift tree\u001b[39;00m\n\u001b[0;32m      6\u001b[0m graph \u001b[38;5;241m=\u001b[39m uplift_tree_plot(uplift_model\u001b[38;5;241m.\u001b[39mfitted_uplift_tree, X_train_tree\u001b[38;5;241m.\u001b[39mcolumns)\n",
      "\u001b[1;31mNameError\u001b[0m: name 'uplift_model' is not defined"
     ]
    }
   ],
   "source": [
    "### Построим дерево на валидационных данных \n",
    "# The uplift score based on testing dataset is shown as validation uplift score in the tree nodes\n",
    "uplift_model.fill(X=X_val_tree.values, treatment=treat_val.map({1: 'treatment1', 0: 'control'}).values, y=y_val.values)\n",
    "\n",
    "# Plot uplift tree\n",
    "graph = uplift_tree_plot(uplift_model.fitted_uplift_tree, X_train_tree.columns)\n",
    "Image(graph.create_png())"
   ]
  },
  {
   "cell_type": "markdown",
   "metadata": {
    "id": "d2bWLd7SbbkU"
   },
   "source": []
  },
  {
   "cell_type": "code",
   "execution_count": null,
   "metadata": {
    "id": "5qURDcK2TCz5"
   },
   "outputs": [],
   "source": [
    "y_pred = uplift_model.predict(X=X_val_tree.values)"
   ]
  },
  {
   "cell_type": "markdown",
   "metadata": {
    "id": "nDMlnIZkptIU"
   },
   "source": [
    "### Ссылки\n",
    "\n",
    "1. https://towardsdatascience.com/a-quick-uplift-modeling-introduction-6e14de32bfe0\n",
    "2. https://habr.com/ru/company/ru_mts/blog/485980/#reference1\n",
    "3. https://en.wikipedia.org/wiki/Uplift_modelling\n",
    "4. https://www.youtube.com/watch?v=yFQAIJBYXI0\n",
    "5. https://www.youtube.com/watch?v=jCUcYiBK03I\n",
    "6. https://www.uplift-modeling.com/en/latest/\n",
    "7. https://arxiv.org/pdf/1809.04559.pdf\n",
    "8. https://catboost.ai/docs/concepts/about.html"
   ]
  },
  {
   "cell_type": "markdown",
   "metadata": {
    "id": "lyuO8euDptIU"
   },
   "source": [
    "### Библиотеки и пакеты\n",
    "\n",
    "1. causalml\n",
    "2. sklift\n",
    "3. catboost"
   ]
  },
  {
   "cell_type": "code",
   "execution_count": null,
   "metadata": {
    "id": "veQ7HS54ptIU"
   },
   "outputs": [],
   "source": []
  }
 ],
 "metadata": {
  "colab": {
   "collapsed_sections": [],
   "provenance": []
  },
  "kernelspec": {
   "display_name": "Python 3 (ipykernel)",
   "language": "python",
   "name": "python3"
  },
  "language_info": {
   "codemirror_mode": {
    "name": "ipython",
    "version": 3
   },
   "file_extension": ".py",
   "mimetype": "text/x-python",
   "name": "python",
   "nbconvert_exporter": "python",
   "pygments_lexer": "ipython3",
   "version": "3.9.13"
  },
  "latex_envs": {
   "LaTeX_envs_menu_present": true,
   "autoclose": true,
   "autocomplete": true,
   "bibliofile": "biblio.bib",
   "cite_by": "apalike",
   "current_citInitial": 1,
   "eqLabelWithNumbers": true,
   "eqNumInitial": 1,
   "hotkeys": {
    "equation": "Ctrl-E",
    "itemize": "Ctrl-I"
   },
   "labels_anchors": false,
   "latex_user_defs": false,
   "report_style_numbering": true,
   "user_envs_cfg": false
  },
  "nbTranslate": {
   "displayLangs": [
    "*"
   ],
   "hotkey": "alt-t",
   "langInMainMenu": true,
   "sourceLang": "en",
   "targetLang": "fr",
   "useGoogleTranslate": true
  },
  "toc": {
   "base_numbering": 1,
   "nav_menu": {},
   "number_sections": false,
   "sideBar": true,
   "skip_h1_title": false,
   "title_cell": "Table of Contents",
   "title_sidebar": "Contents",
   "toc_cell": false,
   "toc_position": {
    "height": "calc(100% - 180px)",
    "left": "10px",
    "top": "150px",
    "width": "256px"
   },
   "toc_section_display": true,
   "toc_window_display": true
  },
  "varInspector": {
   "cols": {
    "lenName": 16,
    "lenType": 16,
    "lenVar": 40
   },
   "kernels_config": {
    "python": {
     "delete_cmd_postfix": "",
     "delete_cmd_prefix": "del ",
     "library": "var_list.py",
     "varRefreshCmd": "print(var_dic_list())"
    },
    "r": {
     "delete_cmd_postfix": ") ",
     "delete_cmd_prefix": "rm(",
     "library": "var_list.r",
     "varRefreshCmd": "cat(var_dic_list()) "
    }
   },
   "types_to_exclude": [
    "module",
    "function",
    "builtin_function_or_method",
    "instance",
    "_Feature"
   ],
   "window_display": false
  }
 },
 "nbformat": 4,
 "nbformat_minor": 1
}
