{
 "cells": [
  {
   "cell_type": "code",
   "execution_count": 1,
   "id": "c22760b3",
   "metadata": {
    "ExecuteTime": {
     "end_time": "2022-12-08T15:32:19.160001Z",
     "start_time": "2022-12-08T15:32:19.146051Z"
    }
   },
   "outputs": [],
   "source": [
    "import urllib.request\n",
    "import json      \n",
    "\n",
    "\n",
    "\n",
    "def get_prediction(x):\n",
    "    age, gender, height, weight, ap_hi, ap_lo, cholesterol, gluc, smoke, alco, active = x\n",
    "#     print(x)\n",
    "    body = {'age' : age, 'gender' : gender, 'height' : height, 'weight' : weight, 'ap_hi' : ap_hi, 'ap_lo' : ap_lo,\n",
    "       'cholesterol' : cholesterol, 'gluc' : gluc, 'smoke' : smoke, 'alco' : alco ,'active' : active}\n",
    "#     print(body)\n",
    "    myurl = \"http://127.0.0.1:5000/predict\"\n",
    "    req = urllib.request.Request(myurl)\n",
    "    req.add_header('Content-Type', 'application/json; charset=utf-8')\n",
    "    jsondata = json.dumps(body)\n",
    "    jsondataasbytes = jsondata.encode('utf-8')   # needs to be bytes\n",
    "    req.add_header('Content-Length', len(jsondataasbytes))\n",
    "#     print (jsondataasbytes)\n",
    "    response = urllib.request.urlopen(req, jsondataasbytes)\n",
    "    return json.loads(response.read())['predictions']"
   ]
  },
  {
   "cell_type": "code",
   "execution_count": 2,
   "id": "15513445",
   "metadata": {
    "ExecuteTime": {
     "end_time": "2022-12-08T15:32:20.429752Z",
     "start_time": "2022-12-08T15:32:20.324256Z"
    }
   },
   "outputs": [
    {
     "name": "stdout",
     "output_type": "stream",
     "text": [
      "Вероятность наличия сердечно-сосудистых заболеваний 0.92\n"
     ]
    }
   ],
   "source": [
    "is_sick = get_prediction([55, 2, 160, 120, 140, 100, 3, 1, 1, 1, 1])\n",
    "print(f\"Вероятность наличия сердечно-сосудистых заболеваний {round(is_sick, 2)}\")"
   ]
  },
  {
   "cell_type": "code",
   "execution_count": null,
   "id": "cfe8a62c",
   "metadata": {},
   "outputs": [],
   "source": []
  }
 ],
 "metadata": {
  "kernelspec": {
   "display_name": "Python 3 (ipykernel)",
   "language": "python",
   "name": "python3"
  },
  "language_info": {
   "codemirror_mode": {
    "name": "ipython",
    "version": 3
   },
   "file_extension": ".py",
   "mimetype": "text/x-python",
   "name": "python",
   "nbconvert_exporter": "python",
   "pygments_lexer": "ipython3",
   "version": "3.9.15"
  },
  "nbTranslate": {
   "displayLangs": [
    "*"
   ],
   "hotkey": "alt-t",
   "langInMainMenu": true,
   "sourceLang": "en",
   "targetLang": "fr",
   "useGoogleTranslate": true
  },
  "toc": {
   "base_numbering": 1,
   "nav_menu": {},
   "number_sections": true,
   "sideBar": true,
   "skip_h1_title": false,
   "title_cell": "Table of Contents",
   "title_sidebar": "Contents",
   "toc_cell": false,
   "toc_position": {},
   "toc_section_display": true,
   "toc_window_display": false
  },
  "varInspector": {
   "cols": {
    "lenName": 16,
    "lenType": 16,
    "lenVar": 40
   },
   "kernels_config": {
    "python": {
     "delete_cmd_postfix": "",
     "delete_cmd_prefix": "del ",
     "library": "var_list.py",
     "varRefreshCmd": "print(var_dic_list())"
    },
    "r": {
     "delete_cmd_postfix": ") ",
     "delete_cmd_prefix": "rm(",
     "library": "var_list.r",
     "varRefreshCmd": "cat(var_dic_list()) "
    }
   },
   "types_to_exclude": [
    "module",
    "function",
    "builtin_function_or_method",
    "instance",
    "_Feature"
   ],
   "window_display": false
  }
 },
 "nbformat": 4,
 "nbformat_minor": 5
}
