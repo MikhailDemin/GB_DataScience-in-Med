{
 "cells": [
  {
   "cell_type": "markdown",
   "id": "f2a3c46f",
   "metadata": {},
   "source": [
    "## Вычисления с помощью Numpy"
   ]
  },
  {
   "cell_type": "markdown",
   "id": "cc74974f",
   "metadata": {},
   "source": [
    "### Задание 1<br>\n",
    "Импортируйте библиотеку $\\mathsf{\\color{darkblue}{Numpy}}$ и дайте ей псевдоним np.\n",
    "Создайте массив $\\mathsf{\\color{darkblue}{Numpy}}$ под названием $\\mathbf{\\color{blue}{a}}$ размером 5x2, то есть состоящий из 5 строк и 2 столбцов. Первый столбец должен содержать числа 1, 2, 3, 3, 1, а второй - числа 6, 8, 11, 10, 7. Будем считать, что каждый столбец - это признак, а строка - наблюдение. Затем найдите среднее значение по каждому признаку, используя метод $\\mathbf{\\color{green}{mean}}$ массива $\\mathsf{\\color{darkblue}{Numpy}}$. Результат запишите в массив $\\mathbf{\\color{blue}{mean\\underline{\\;} a}}$, в нем должно быть 2 элемента.<br>\n",
    "__Решение:__<br>"
   ]
  },
  {
   "cell_type": "code",
   "execution_count": 8,
   "id": "8c7d3e90",
   "metadata": {},
   "outputs": [],
   "source": [
    "import numpy as np\n",
    "import pandas as pd"
   ]
  },
  {
   "cell_type": "code",
   "execution_count": 9,
   "id": "e9185483",
   "metadata": {
    "scrolled": true
   },
   "outputs": [
    {
     "name": "stdout",
     "output_type": "stream",
     "text": [
      "Массив a:\n",
      "[[ 1  6]\n",
      " [ 2  8]\n",
      " [ 3 11]\n",
      " [ 3 10]\n",
      " [ 1  7]]\n"
     ]
    }
   ],
   "source": [
    "a = np.transpose(np.array([[1, 2, 3, 3, 1],\n",
    "             [6, 8, 11, 10, 7]]))\n",
    "print(f'Массив a:\\n{a}')"
   ]
  },
  {
   "cell_type": "code",
   "execution_count": 10,
   "id": "beab7b91",
   "metadata": {},
   "outputs": [
    {
     "data": {
      "text/plain": [
       "array([2. , 8.4])"
      ]
     },
     "execution_count": 10,
     "metadata": {},
     "output_type": "execute_result"
    }
   ],
   "source": [
    "mean_a = np.mean(a, axis=0)\n",
    "mean_a"
   ]
  },
  {
   "cell_type": "markdown",
   "id": "2d39b959",
   "metadata": {},
   "source": [
    "### Задание 2<br>\n",
    "Вычислите массив $\\mathbf{\\color{blue}{a\\underline{\\;} centered}}$, отняв от значений массива “$\\mathbf{\\color{blue}{a}}$” средние значения соответствующих признаков, содержащиеся в массиве $\\mathbf{\\color{blue}{mean\\underline{\\;} a}}$. Вычисление должно производиться в одно действие. Получившийся массив должен иметь размер 5x2.<br>\n",
    "__Решение:__<br>"
   ]
  },
  {
   "cell_type": "code",
   "execution_count": 11,
   "id": "472bd526",
   "metadata": {},
   "outputs": [
    {
     "data": {
      "text/plain": [
       "array([[-1. , -2.4],\n",
       "       [ 0. , -0.4],\n",
       "       [ 1. ,  2.6],\n",
       "       [ 1. ,  1.6],\n",
       "       [-1. , -1.4]])"
      ]
     },
     "execution_count": 11,
     "metadata": {},
     "output_type": "execute_result"
    }
   ],
   "source": [
    "a_centered = a - mean_a\n",
    "a_centered"
   ]
  },
  {
   "cell_type": "markdown",
   "id": "4d73338f",
   "metadata": {},
   "source": [
    "### Задание 3<br>\n",
    "Найдите скалярное произведение столбцов массива $\\mathbf{\\color{blue}{a\\underline{\\;} centered}}$. В результате должна получиться величина $\\mathbf{\\color{blue}{a\\underline{\\;} centered\\underline{\\;} sp}}$. Затем поделите $\\mathbf{\\color{blue}{a\\underline{\\;} centered\\underline{\\;} sp}}$ на N-1, где N - число наблюдений.<br>\n",
    "__Решение:__<br>\n"
   ]
  },
  {
   "cell_type": "code",
   "execution_count": 12,
   "id": "0e688806",
   "metadata": {},
   "outputs": [
    {
     "data": {
      "text/plain": [
       "8.0"
      ]
     },
     "execution_count": 12,
     "metadata": {},
     "output_type": "execute_result"
    }
   ],
   "source": [
    "a_centered_sp = (a_centered[:, 0] @ a_centered[:, 1])\n",
    "a_centered_sp"
   ]
  },
  {
   "cell_type": "code",
   "execution_count": 13,
   "id": "6a95ee69",
   "metadata": {},
   "outputs": [
    {
     "data": {
      "text/plain": [
       "4"
      ]
     },
     "execution_count": 13,
     "metadata": {},
     "output_type": "execute_result"
    }
   ],
   "source": [
    "N_1 = a_centered.shape[0] - 1\n",
    "N_1"
   ]
  },
  {
   "cell_type": "code",
   "execution_count": 14,
   "id": "ea218626",
   "metadata": {},
   "outputs": [
    {
     "data": {
      "text/plain": [
       "2.0"
      ]
     },
     "execution_count": 14,
     "metadata": {},
     "output_type": "execute_result"
    }
   ],
   "source": [
    "a_centered_sp / N_1"
   ]
  },
  {
   "cell_type": "markdown",
   "id": "eac7b977",
   "metadata": {},
   "source": [
    "### Задание 4*<br>\n",
    "Число, которое мы получили в конце задания 3 является ковариацией двух признаков, содержащихся в массиве “$\\mathbf{\\color{blue}{a}}$”. В задании 4 мы делили сумму произведений центрированных признаков на N-1, а не на N, поэтому полученная нами величина является несмещенной оценкой ковариации.<br>\n",
    "В этом задании проверьте получившееся число, вычислив ковариацию еще одним способом - с помощью функции $\\mathbf{\\color{green}{np.cov}}$. В качестве аргумента m функция $\\mathbf{\\color{green}{np.cov}}$ должна принимать транспонированный массив “$\\mathbf{\\color{blue}{a}}$”. В получившейся ковариационной матрице (массив $\\mathsf{\\color{darkblue}{Numpy}}$ размером 2x2) искомое значение ковариации будет равно элементу в строке с индексом 0 и столбце с индексом 1.<br>\n",
    "__Решение:__<br>"
   ]
  },
  {
   "cell_type": "code",
   "execution_count": 15,
   "id": "d12a3989",
   "metadata": {},
   "outputs": [
    {
     "data": {
      "text/plain": [
       "array([[ 1,  2,  3,  3,  1],\n",
       "       [ 6,  8, 11, 10,  7]])"
      ]
     },
     "execution_count": 15,
     "metadata": {},
     "output_type": "execute_result"
    }
   ],
   "source": [
    "m = a.transpose()\n",
    "m"
   ]
  },
  {
   "cell_type": "code",
   "execution_count": 16,
   "id": "9a90b15f",
   "metadata": {
    "scrolled": true
   },
   "outputs": [
    {
     "data": {
      "text/plain": [
       "array([[1. , 2. ],\n",
       "       [2. , 4.3]])"
      ]
     },
     "execution_count": 16,
     "metadata": {},
     "output_type": "execute_result"
    }
   ],
   "source": [
    "t = np.cov(m)\n",
    "t"
   ]
  },
  {
   "cell_type": "code",
   "execution_count": 17,
   "id": "4a8e366c",
   "metadata": {},
   "outputs": [
    {
     "data": {
      "text/plain": [
       "2.0"
      ]
     },
     "execution_count": 17,
     "metadata": {},
     "output_type": "execute_result"
    }
   ],
   "source": [
    "t[0, 1]"
   ]
  },
  {
   "cell_type": "markdown",
   "id": "0e426345",
   "metadata": {},
   "source": [
    "## Работа с данными в Pandas"
   ]
  },
  {
   "cell_type": "markdown",
   "id": "6b2f70e8",
   "metadata": {},
   "source": [
    "### Задание 1<br>\n",
    "Импортируйте библиотеку Pandas и дайте ей псевдоним pd. Создайте датафрейм authors со столбцами author_id и author_name, в которых соответственно содержатся данные: [1, 2, 3] и ['Тургенев', 'Чехов', 'Островский'].\n",
    "Затем создайте датафрейм book cо столбцами author_id, book_title и price, в которых соответственно содержатся данные:\n",
    "[1, 1, 1, 2, 2, 3, 3], ['Отцы и дети', 'Рудин', 'Дворянское гнездо', 'Толстый и тонкий', 'Дама с собачкой', 'Гроза', 'Таланты и\n",
    "поклонники'], [450, 300, 350, 500, 450, 370, 290].\n",
    "__Решение:__<br>"
   ]
  },
  {
   "cell_type": "code",
   "execution_count": null,
   "id": "f8069ca9",
   "metadata": {},
   "outputs": [],
   "source": []
  },
  {
   "cell_type": "markdown",
   "id": "05e87922",
   "metadata": {},
   "source": [
    "### Задание 2<br>\n",
    "Импортируйте библиотеку Pandas и дайте ей псевдоним pd. Создайте датафрейм authors со столбцами author_id и author_name, в которых соответственно содержатся данные: [1, 2, 3] и ['Тургенев', 'Чехов', 'Островский'].\n",
    "Затем создайте датафрейм book cо столбцами author_id, book_title и price, в которых соответственно содержатся данные:\n",
    "[1, 1, 1, 2, 2, 3, 3], ['Отцы и дети', 'Рудин', 'Дворянское гнездо', 'Толстый и тонкий', 'Дама с собачкой', 'Гроза', 'Таланты и\n",
    "поклонники'], [450, 300, 350, 500, 450, 370, 290].\n",
    "__Решение:__<br>"
   ]
  },
  {
   "cell_type": "code",
   "execution_count": null,
   "id": "a185ca54",
   "metadata": {},
   "outputs": [],
   "source": []
  },
  {
   "cell_type": "markdown",
   "id": "06875ad1",
   "metadata": {},
   "source": [
    "### Задание 3<br>\n",
    "Импортируйте библиотеку Pandas и дайте ей псевдоним pd. Создайте датафрейм authors со столбцами author_id и author_name, в которых соответственно содержатся данные: [1, 2, 3] и ['Тургенев', 'Чехов', 'Островский'].\n",
    "Затем создайте датафрейм book cо столбцами author_id, book_title и price, в которых соответственно содержатся данные:\n",
    "[1, 1, 1, 2, 2, 3, 3], ['Отцы и дети', 'Рудин', 'Дворянское гнездо', 'Толстый и тонкий', 'Дама с собачкой', 'Гроза', 'Таланты и\n",
    "поклонники'], [450, 300, 350, 500, 450, 370, 290].\n",
    "__Решение:__<br>"
   ]
  },
  {
   "cell_type": "code",
   "execution_count": null,
   "id": "bb0d0e26",
   "metadata": {},
   "outputs": [],
   "source": []
  },
  {
   "cell_type": "markdown",
   "id": "1fd87eb8",
   "metadata": {},
   "source": [
    "### Задание 4<br>\n",
    "Импортируйте библиотеку Pandas и дайте ей псевдоним pd. Создайте датафрейм authors со столбцами author_id и author_name, в которых соответственно содержатся данные: [1, 2, 3] и ['Тургенев', 'Чехов', 'Островский'].\n",
    "Затем создайте датафрейм book cо столбцами author_id, book_title и price, в которых соответственно содержатся данные:\n",
    "[1, 1, 1, 2, 2, 3, 3], ['Отцы и дети', 'Рудин', 'Дворянское гнездо', 'Толстый и тонкий', 'Дама с собачкой', 'Гроза', 'Таланты и\n",
    "поклонники'], [450, 300, 350, 500, 450, 370, 290].\n",
    "__Решение:__<br>"
   ]
  },
  {
   "cell_type": "code",
   "execution_count": null,
   "id": "7abbd7d1",
   "metadata": {},
   "outputs": [],
   "source": []
  },
  {
   "cell_type": "markdown",
   "id": "1b7b9274",
   "metadata": {},
   "source": [
    "### Задание 5*<br>\n",
    "Импортируйте библиотеку Pandas и дайте ей псевдоним pd. Создайте датафрейм authors со столбцами author_id и author_name, в которых соответственно содержатся данные: [1, 2, 3] и ['Тургенев', 'Чехов', 'Островский'].\n",
    "Затем создайте датафрейм book cо столбцами author_id, book_title и price, в которых соответственно содержатся данные:\n",
    "[1, 1, 1, 2, 2, 3, 3], ['Отцы и дети', 'Рудин', 'Дворянское гнездо', 'Толстый и тонкий', 'Дама с собачкой', 'Гроза', 'Таланты и\n",
    "поклонники'], [450, 300, 350, 500, 450, 370, 290].\n",
    "__Решение:__<br>"
   ]
  }
 ],
 "metadata": {
  "kernelspec": {
   "display_name": "Python 3",
   "language": "python",
   "name": "python3"
  },
  "language_info": {
   "codemirror_mode": {
    "name": "ipython",
    "version": 3
   },
   "file_extension": ".py",
   "mimetype": "text/x-python",
   "name": "python",
   "nbconvert_exporter": "python",
   "pygments_lexer": "ipython3",
   "version": "3.8.10"
  }
 },
 "nbformat": 4,
 "nbformat_minor": 5
}
