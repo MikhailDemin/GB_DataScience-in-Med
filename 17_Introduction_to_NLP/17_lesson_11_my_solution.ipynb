{
 "cells": [
  {
   "cell_type": "markdown",
   "metadata": {
    "id": "J0Qjg6vuaHNt"
   },
   "source": [
    "# Урок 11. Модель Transformer-1\n",
    "## Домашнее задание."
   ]
  },
  {
   "cell_type": "markdown",
   "metadata": {},
   "source": [
    "Разобраться с моделькой перевода (с механизмом внимания) как она устроена,\n",
    "запустить для перевода с русского на английский (при желании можно взять другие пары языков)"
   ]
  },
  {
   "cell_type": "code",
   "execution_count": 1,
   "metadata": {
    "colab": {
     "base_uri": "https://localhost:8080/",
     "height": 419
    },
    "executionInfo": {
     "elapsed": 32860,
     "status": "ok",
     "timestamp": 1677589829937,
     "user": {
      "displayName": "Михаил Демин",
      "userId": "14250540086915616791"
     },
     "user_tz": -600
    },
    "id": "XFG0NDRu5mYQ",
    "outputId": "d5f24f72-016f-4222-9a16-3e125a8986b9"
   },
   "outputs": [
    {
     "name": "stdout",
     "output_type": "stream",
     "text": [
      "\u001b[2K     \u001b[90m━━━━━━━━━━━━━━━━━━━━━━━━━━━━━━━━━━━━━━━━\u001b[0m \u001b[32m5.4/5.4 MB\u001b[0m \u001b[31m12.9 MB/s\u001b[0m eta \u001b[36m0:00:00\u001b[0m\n",
      "\u001b[?25hLooking in indexes: https://pypi.org/simple, https://us-python.pkg.dev/colab-wheels/public/simple/\n",
      "Collecting matplotlib==3.2.2\n",
      "  Downloading matplotlib-3.2.2-cp38-cp38-manylinux1_x86_64.whl (12.4 MB)\n",
      "\u001b[2K     \u001b[90m━━━━━━━━━━━━━━━━━━━━━━━━━━━━━━━━━━━━━━━━\u001b[0m \u001b[32m12.4/12.4 MB\u001b[0m \u001b[31m38.8 MB/s\u001b[0m eta \u001b[36m0:00:00\u001b[0m\n",
      "\u001b[?25hRequirement already satisfied: cycler>=0.10 in /usr/local/lib/python3.8/dist-packages (from matplotlib==3.2.2) (0.11.0)\n",
      "Requirement already satisfied: kiwisolver>=1.0.1 in /usr/local/lib/python3.8/dist-packages (from matplotlib==3.2.2) (1.4.4)\n",
      "Requirement already satisfied: python-dateutil>=2.1 in /usr/local/lib/python3.8/dist-packages (from matplotlib==3.2.2) (2.8.2)\n",
      "Requirement already satisfied: numpy>=1.11 in /usr/local/lib/python3.8/dist-packages (from matplotlib==3.2.2) (1.22.4)\n",
      "Requirement already satisfied: pyparsing!=2.0.4,!=2.1.2,!=2.1.6,>=2.0.1 in /usr/local/lib/python3.8/dist-packages (from matplotlib==3.2.2) (3.0.9)\n",
      "Requirement already satisfied: six>=1.5 in /usr/local/lib/python3.8/dist-packages (from python-dateutil>=2.1->matplotlib==3.2.2) (1.15.0)\n",
      "Installing collected packages: matplotlib\n",
      "  Attempting uninstall: matplotlib\n",
      "    Found existing installation: matplotlib 3.5.3\n",
      "    Uninstalling matplotlib-3.5.3:\n",
      "      Successfully uninstalled matplotlib-3.5.3\n",
      "Successfully installed matplotlib-3.2.2\n"
     ]
    },
    {
     "data": {
      "application/vnd.colab-display-data+json": {
       "pip_warning": {
        "packages": [
         "matplotlib",
         "mpl_toolkits"
        ]
       }
      }
     },
     "metadata": {},
     "output_type": "display_data"
    }
   ],
   "source": [
    "!pip install -q tfds-nightly\n",
    "\n",
    "# Pin matplotlib version to 3.2.2 since in the latest version\n",
    "# transformer.ipynb fails with the following error:\n",
    "# https://stackoverflow.com/questions/62953704/valueerror-the-number-of-fixedlocator-locations-5-usually-from-a-call-to-set\n",
    "!pip install matplotlib==3.2.2"
   ]
  },
  {
   "cell_type": "code",
   "execution_count": 2,
   "metadata": {
    "executionInfo": {
     "elapsed": 3242,
     "status": "ok",
     "timestamp": 1677589833169,
     "user": {
      "displayName": "Михаил Демин",
      "userId": "14250540086915616791"
     },
     "user_tz": -600
    },
    "id": "JjJJyJTZYebt"
   },
   "outputs": [],
   "source": [
    "import tensorflow_datasets as tfds\n",
    "import tensorflow as tf\n",
    "\n",
    "import time\n",
    "import numpy as np\n",
    "import matplotlib.pyplot as plt"
   ]
  },
  {
   "cell_type": "markdown",
   "metadata": {
    "id": "fd1NWMxjfsDd"
   },
   "source": [
    "## Setup input pipeline"
   ]
  },
  {
   "cell_type": "markdown",
   "metadata": {
    "id": "t4_Qt8W1hJE_"
   },
   "source": [
    "Use [TFDS](https://www.tensorflow.org/datasets) to load the Ru-English translation dataset from the [TED Talks Open Translation Project](https://www.ted.com/participate/translate)."
   ]
  },
  {
   "cell_type": "code",
   "execution_count": 3,
   "metadata": {
    "colab": {
     "base_uri": "https://localhost:8080/",
     "height": 168,
     "referenced_widgets": [
      "21a22c0cf1db4afe8b85c2a98e6b00ea",
      "e576cdba3d774476b38ebed2b61a58e6",
      "e81784049f2649598ecb25dbef3b1d9b",
      "cdcc6515657e4d24b0a19b2cf2a0bf4f",
      "ca3c765e63cd41daa1827166ed1cb6c5",
      "960a9f9023ec4180b943732f4b4ebf67",
      "f9097ae79f88464cbb00ddbb84ff7a7c",
      "d48da2b6fffd4ba2b9e6095f62048b9a",
      "ada68a0628784e8b9e8bea348ee8e9fa",
      "769fcd195be6497db071b66c51c04beb",
      "33e29c9596034eaeb9e30304d0771c5a",
      "f337addcdd864668a0287d5c98a8057b",
      "7ce640c71d1e4fd09e854a3ac2cb3e35",
      "8af46e271ba04628af052f047d06cf13",
      "402eefd4c38947c98bc1f9828415fef8",
      "198500121c8d4e548fa30fb27a61d66d",
      "fa8f84b22f0d4aab81fd83a2d383d9c7",
      "b96fcb1426be4d76b1c992c8327bb71a",
      "02cb3d383bcb4187b59e0abd3c13dc8c",
      "c97931f8652b415cb4894ecf42a80818",
      "4d977cae912f408e9c0910feefd5fb3d",
      "c23f5624ca4f4e258ebb2152724959ff",
      "b13217db84ea4ea08ecfd06162de7f34",
      "7f00f95f20c94794a83e64d86c990e8d",
      "6168334214c541e490c4ba5d938f7a4e",
      "8053bc0452664edda8b53c3b803c7136",
      "4537216e76c443bbb7a91533cd471d31",
      "330c5ddbe46a4e38bc2e805495092721",
      "0968600d30b24445880559d6c9e55b28",
      "ba510ab836d44957b63d6a1ceb08149d",
      "818a059008d04cb092c6c163649edebc",
      "cf7a853594d64daeb50129eb6e1fb3a7",
      "4b3d994eb2f84a61942a5fbb0c1aba6a",
      "b83a3c1cbec84df7b80ab123a7f1faf1",
      "bf7f083e184f47ddb7bee9b270a50e26",
      "1c37032e90414083ad622ee7a0f67c05",
      "072bb88f18154b2fae3d0d1a67d7dbf9",
      "49bca3ba670146f2944f0059d4a5996e",
      "94beada069b94d8baa1d8c5b321f5edb",
      "807c368799124d4aa81cc6e489861059",
      "ac7eb7b615994d108aa6a18917686575",
      "66a8456b82424baca6c7dadaa49c3fde",
      "5a283e3a6add46b3a19188080c3e3ab8",
      "0069794296c54a0680417ff91692d115",
      "aab35f63459c4545b632a37611a246cb",
      "8327b27a9ed746b1b1e54037dc60e30f",
      "10122b47d646469f9442f8618caca701",
      "1647854dc0dd4188aac4ff8166f0054e",
      "e0b3ceebe6e149b9a4d745a88c2c8138",
      "638e97f3846946e186c04f9c1095e3c2",
      "864f18f033f641f2983f55f9906e039b",
      "9b1e1a7b7d2644beac8d12317b3c6cf1",
      "ea5f172293234d9186007242bd1255ff",
      "2f4a88886f324e7ca8a6bb9614eff7aa",
      "2861d02bb55a438c9cd2027524a6a021",
      "6492c10f01ca403b9a87b7905e4ae7a8",
      "725b8ee7d6394aaf8876cd5d3eee5740",
      "41a0b54f4e404d568a36d122a072650f",
      "27b34af6e2964f8db01fc7c701acfbad",
      "7f7fff9736a14c3c9ca53baa792dbbcd",
      "c936b834321e4432a2511d0a88b32070",
      "b0178c8ffb934c1e9ea9bb808720fa29",
      "af253ca7030b46438bf0e4b4b9c31332",
      "e6261cf928d740ec90e1e4f03802a3cd",
      "eaa755782de2433a876a898616058680",
      "2454cba57e8f4069b0b93e85d4128cb6",
      "c898ecbd94cc4f2bb4ad7d0441a2dd4f",
      "ce30224b3e1d4405a7221d51e286fccb",
      "4b4ac4baf39a4e179b00e0ffb2003491",
      "d282fa4be526420089d7e40e1720954f",
      "aff8f76bb80b4037805914bcddb903a2",
      "67cfbc8ab04d4205865409b05fb9c9df",
      "c99fdcf7799d45af847eee0b5565304a",
      "cf8db9d4ca9e41aaa61bc6a3d634f607",
      "baf9018a95d34c4c93823b2440f4d5d7",
      "4e332f8efc944611b10922101faa5912",
      "a1b88cc9e6ca48c5a997ba53acaba2b9",
      "574fa67d600244219b76d6330ba03294",
      "1ca03450ffdf48199297e446ed12087f",
      "400d07b3cf754a369e73e51d7da0aede",
      "389902c6621c4903a2fc9cc28a9462d0",
      "10de753360fa4f33bad5e0e0236b8840",
      "e7e0a3c4299447dfaf89c020deed6ccf",
      "73960e406dc24772b0ea3ba64b86bd24",
      "f86f6a5af4114b639972feca51a596dc",
      "547ec8c1c6324a718b332472acf8d80c",
      "7afad1c9c72347ec9046e0918373d395",
      "8325d355b1914d159fd5a98c2278c1b3",
      "8cf3457cc9714ec79adb02b610225199",
      "66db343ecf5f4ceea10268dffa5b66c4",
      "2aed024b3eb74c269dbfeb49290e56e7",
      "60bd47c105bb4e559d195d28de04bc8f",
      "53d4209261ad4e70af7ba03419820055",
      "51f993bd0919435a82ccbccaab4313d1",
      "d2bdd5457f82497cb8bef321a792a0b3",
      "84c26e7728364848854d6f386e86b7b4",
      "d1bff15c3c6a45fab96db3f29775f576",
      "edc2628465824b6da1a2d30533ec2b21",
      "9a256edddbcd402690c9aab72ea08f77",
      "ba970f4409ca42d39f3ab4be715f2324",
      "d5ebb5979a1e4aebbbdd41c17f1ca5ec",
      "caab20b977a74d9584334c406117853b",
      "0bd984b8b5214dae8ee91dc057593385",
      "12b6d2fb2bc642579b034fb35caa2f97",
      "9a9d098f0d7e4881b19b91e7ae8efe63",
      "1cf4b0c6ef49418caf1b9de0dfba4e71",
      "8e233332962e4ba88ae5dbb9cab7c57e",
      "2f2f7364c8384e8db8c771d451e3c506",
      "8cb0a7163a7b4ce8b30fd32f27509b7e",
      "e1af616dfbf44288803f43a591cbf31d"
     ]
    },
    "executionInfo": {
     "elapsed": 52054,
     "status": "ok",
     "timestamp": 1677589885219,
     "user": {
      "displayName": "Михаил Демин",
      "userId": "14250540086915616791"
     },
     "user_tz": -600
    },
    "id": "8q9t4FmN96eN",
    "outputId": "8a69c9a0-07a0-4689-f756-3811c2e9e6f2"
   },
   "outputs": [
    {
     "name": "stdout",
     "output_type": "stream",
     "text": [
      "Downloading and preparing dataset Unknown size (download: Unknown size, generated: Unknown size, total: Unknown size) to /root/tensorflow_datasets/ted_hrlr_translate/ru_to_en/1.0.0...\n"
     ]
    },
    {
     "data": {
      "application/vnd.jupyter.widget-view+json": {
       "model_id": "21a22c0cf1db4afe8b85c2a98e6b00ea",
       "version_major": 2,
       "version_minor": 0
      },
      "text/plain": [
       "Dl Completed...: 0 url [00:00, ? url/s]"
      ]
     },
     "metadata": {},
     "output_type": "display_data"
    },
    {
     "data": {
      "application/vnd.jupyter.widget-view+json": {
       "model_id": "f337addcdd864668a0287d5c98a8057b",
       "version_major": 2,
       "version_minor": 0
      },
      "text/plain": [
       "Dl Size...: 0 MiB [00:00, ? MiB/s]"
      ]
     },
     "metadata": {},
     "output_type": "display_data"
    },
    {
     "data": {
      "application/vnd.jupyter.widget-view+json": {
       "model_id": "b13217db84ea4ea08ecfd06162de7f34",
       "version_major": 2,
       "version_minor": 0
      },
      "text/plain": [
       "Extraction completed...: 0 file [00:00, ? file/s]"
      ]
     },
     "metadata": {},
     "output_type": "display_data"
    },
    {
     "data": {
      "application/vnd.jupyter.widget-view+json": {
       "model_id": "b83a3c1cbec84df7b80ab123a7f1faf1",
       "version_major": 2,
       "version_minor": 0
      },
      "text/plain": [
       "Generating splits...:   0%|          | 0/3 [00:00<?, ? splits/s]"
      ]
     },
     "metadata": {},
     "output_type": "display_data"
    },
    {
     "data": {
      "application/vnd.jupyter.widget-view+json": {
       "model_id": "aab35f63459c4545b632a37611a246cb",
       "version_major": 2,
       "version_minor": 0
      },
      "text/plain": [
       "Generating train examples...: 0 examples [00:00, ? examples/s]"
      ]
     },
     "metadata": {},
     "output_type": "display_data"
    },
    {
     "data": {
      "application/vnd.jupyter.widget-view+json": {
       "model_id": "6492c10f01ca403b9a87b7905e4ae7a8",
       "version_major": 2,
       "version_minor": 0
      },
      "text/plain": [
       "Shuffling /root/tensorflow_datasets/ted_hrlr_translate/ru_to_en/1.0.0.incompleteU089BI/ted_hrlr_translate-trai…"
      ]
     },
     "metadata": {},
     "output_type": "display_data"
    },
    {
     "data": {
      "application/vnd.jupyter.widget-view+json": {
       "model_id": "c898ecbd94cc4f2bb4ad7d0441a2dd4f",
       "version_major": 2,
       "version_minor": 0
      },
      "text/plain": [
       "Generating validation examples...: 0 examples [00:00, ? examples/s]"
      ]
     },
     "metadata": {},
     "output_type": "display_data"
    },
    {
     "data": {
      "application/vnd.jupyter.widget-view+json": {
       "model_id": "574fa67d600244219b76d6330ba03294",
       "version_major": 2,
       "version_minor": 0
      },
      "text/plain": [
       "Shuffling /root/tensorflow_datasets/ted_hrlr_translate/ru_to_en/1.0.0.incompleteU089BI/ted_hrlr_translate-vali…"
      ]
     },
     "metadata": {},
     "output_type": "display_data"
    },
    {
     "data": {
      "application/vnd.jupyter.widget-view+json": {
       "model_id": "8cf3457cc9714ec79adb02b610225199",
       "version_major": 2,
       "version_minor": 0
      },
      "text/plain": [
       "Generating test examples...: 0 examples [00:00, ? examples/s]"
      ]
     },
     "metadata": {},
     "output_type": "display_data"
    },
    {
     "data": {
      "application/vnd.jupyter.widget-view+json": {
       "model_id": "ba970f4409ca42d39f3ab4be715f2324",
       "version_major": 2,
       "version_minor": 0
      },
      "text/plain": [
       "Shuffling /root/tensorflow_datasets/ted_hrlr_translate/ru_to_en/1.0.0.incompleteU089BI/ted_hrlr_translate-test…"
      ]
     },
     "metadata": {},
     "output_type": "display_data"
    },
    {
     "name": "stdout",
     "output_type": "stream",
     "text": [
      "Dataset ted_hrlr_translate downloaded and prepared to /root/tensorflow_datasets/ted_hrlr_translate/ru_to_en/1.0.0. Subsequent calls will reuse this data.\n"
     ]
    }
   ],
   "source": [
    "examples, metadata = tfds.load('ted_hrlr_translate/ru_to_en', with_info=True,\n",
    "                               as_supervised=True)\n",
    "train_examples, val_examples = examples['train'], examples['validation']"
   ]
  },
  {
   "cell_type": "markdown",
   "metadata": {
    "id": "RCEKotqosGfq"
   },
   "source": [
    "Создайте собственный токенизатор подслов из training dataset. "
   ]
  },
  {
   "cell_type": "code",
   "execution_count": 4,
   "metadata": {
    "executionInfo": {
     "elapsed": 578487,
     "status": "ok",
     "timestamp": 1677590463702,
     "user": {
      "displayName": "Михаил Демин",
      "userId": "14250540086915616791"
     },
     "user_tz": -600
    },
    "id": "KVBg5Q8tBk5z"
   },
   "outputs": [],
   "source": [
    "tokenizer_en = tfds.deprecated.text.SubwordTextEncoder.build_from_corpus(\n",
    "    (en.numpy() for ru, en in train_examples), target_vocab_size=2**13)\n",
    "\n",
    "tokenizer_ru = tfds.deprecated.text.SubwordTextEncoder.build_from_corpus(\n",
    "    (ru.numpy() for ru, en in train_examples), target_vocab_size=2**13)"
   ]
  },
  {
   "cell_type": "code",
   "execution_count": 5,
   "metadata": {
    "colab": {
     "base_uri": "https://localhost:8080/"
    },
    "executionInfo": {
     "elapsed": 28,
     "status": "ok",
     "timestamp": 1677590463702,
     "user": {
      "displayName": "Михаил Демин",
      "userId": "14250540086915616791"
     },
     "user_tz": -600
    },
    "id": "4DYWukNFkGQN",
    "outputId": "40c891ef-cbb6-47ef-83f1-a05b7d439069"
   },
   "outputs": [
    {
     "name": "stdout",
     "output_type": "stream",
     "text": [
      "Tokenized string is [8073, 1034, 8104, 5774, 13, 3531, 8035]\n",
      "The original string: Transformer is awesome.\n"
     ]
    }
   ],
   "source": [
    "sample_string = 'Transformer is awesome.'\n",
    "\n",
    "tokenized_string = tokenizer_en.encode(sample_string)\n",
    "print ('Tokenized string is {}'.format(tokenized_string))\n",
    "\n",
    "original_string = tokenizer_en.decode(tokenized_string)\n",
    "print ('The original string: {}'.format(original_string))\n",
    "\n",
    "assert original_string == sample_string"
   ]
  },
  {
   "cell_type": "markdown",
   "metadata": {
    "id": "o9KJWJjrsZ4Y"
   },
   "source": [
    "Токенизатор кодирует строку, разбивая ее на подслова, если слово отсутствует в его словаре.\n",
    "\n"
   ]
  },
  {
   "cell_type": "code",
   "execution_count": 6,
   "metadata": {
    "colab": {
     "base_uri": "https://localhost:8080/"
    },
    "executionInfo": {
     "elapsed": 23,
     "status": "ok",
     "timestamp": 1677590463702,
     "user": {
      "displayName": "Михаил Демин",
      "userId": "14250540086915616791"
     },
     "user_tz": -600
    },
    "id": "bf2ntBxjkqK6",
    "outputId": "55432fea-d974-4ad9-d8c3-0190f2c52578"
   },
   "outputs": [
    {
     "name": "stdout",
     "output_type": "stream",
     "text": [
      "8073 ----> T\n",
      "1034 ----> ran\n",
      "8104 ----> s\n",
      "5774 ----> former \n",
      "13 ----> is \n",
      "3531 ----> awesome\n",
      "8035 ----> .\n"
     ]
    }
   ],
   "source": [
    "for ts in tokenized_string:\n",
    "  print ('{} ----> {}'.format(ts, tokenizer_en.decode([ts])))"
   ]
  },
  {
   "cell_type": "code",
   "execution_count": 7,
   "metadata": {
    "executionInfo": {
     "elapsed": 20,
     "status": "ok",
     "timestamp": 1677590463703,
     "user": {
      "displayName": "Михаил Демин",
      "userId": "14250540086915616791"
     },
     "user_tz": -600
    },
    "id": "bcRp7VcQ5m6g"
   },
   "outputs": [],
   "source": [
    "BUFFER_SIZE = 20000\n",
    "BATCH_SIZE = 64"
   ]
  },
  {
   "cell_type": "markdown",
   "metadata": {
    "id": "kGi4PoVakxdc"
   },
   "source": [
    "Добавьте начальный и конечный токены к входу и цели."
   ]
  },
  {
   "cell_type": "code",
   "execution_count": 8,
   "metadata": {
    "executionInfo": {
     "elapsed": 20,
     "status": "ok",
     "timestamp": 1677590463703,
     "user": {
      "displayName": "Михаил Демин",
      "userId": "14250540086915616791"
     },
     "user_tz": -600
    },
    "id": "UZwnPr4R055s"
   },
   "outputs": [],
   "source": [
    "# two tokenizers (tokenizer_ru and tokenizer_en) are used to encode two languages (lang1 and lang2). \n",
    "# The encode method is then called on each language, which adds the beginning and end of sequence tokens \n",
    "# (tokenizer_ru.vocabsize and tokenizer_en.vocabsize+1) to the encoded text. Finally, the encoded text for both \n",
    "# languages is returned as a tuple.\n",
    "\n",
    "def encode(lang1, lang2):\n",
    "  lang1 = [tokenizer_ru.vocab_size] + tokenizer_ru.encode(\n",
    "      lang1.numpy()) + [tokenizer_ru.vocab_size+1]\n",
    "\n",
    "  lang2 = [tokenizer_en.vocab_size] + tokenizer_en.encode(\n",
    "      lang2.numpy()) + [tokenizer_en.vocab_size+1]\n",
    "  \n",
    "  return lang1, lang2"
   ]
  },
  {
   "cell_type": "markdown",
   "metadata": {
    "id": "Tx1sFbR-9fRs"
   },
   "source": [
    "Вы хотите использовать Dataset.map чтобы применить эту функцию к каждому элементу набора данных. Dataset.map работает в графическом режиме.\n",
    "\n",
    "Тензоры графов не имеют значения.\n",
    "В графическом режиме вы можете использовать только операции и функции TensorFlow.\n",
    "Таким образом, вы не можете напрямую .map эту функцию: вам нужно обернуть ее в tf.py_function . tf.py_function будет передавать обычные тензоры (со значением и .numpy() для доступа к нему) в .numpy() функцию python.\n",
    "\n"
   ]
  },
  {
   "cell_type": "code",
   "execution_count": 9,
   "metadata": {
    "executionInfo": {
     "elapsed": 18,
     "status": "ok",
     "timestamp": 1677590463703,
     "user": {
      "displayName": "Михаил Демин",
      "userId": "14250540086915616791"
     },
     "user_tz": -600
    },
    "id": "Mah1cS-P70Iz"
   },
   "outputs": [],
   "source": [
    "def tf_encode(ru, en):\n",
    "\n",
    "# tf.pyfunction method is used to call a custom function (encode) with two arguments (ru and en). \n",
    "# The two arguments are then mapped to two data types (tf.int64, tf.int64) which will be returned as a tuple containing two Tensors.\n",
    "  result_ru, result_en = tf.py_function(encode, [ru, en], [tf.int64, tf.int64])\n",
    "\n",
    "#set_shape method is used to set the shape of each Tensor to [None], which means that it will be able to accept variable-length inputs.\n",
    "  result_ru.set_shape([None]) \n",
    "  result_en.set_shape([None])\n",
    "\n",
    "  return result_ru, result_en"
   ]
  },
  {
   "cell_type": "code",
   "execution_count": 10,
   "metadata": {
    "executionInfo": {
     "elapsed": 18,
     "status": "ok",
     "timestamp": 1677590463704,
     "user": {
      "displayName": "Михаил Демин",
      "userId": "14250540086915616791"
     },
     "user_tz": -600
    },
    "id": "2QEgbjntk6Yf"
   },
   "outputs": [],
   "source": [
    "MAX_LENGTH = 40"
   ]
  },
  {
   "cell_type": "code",
   "execution_count": 11,
   "metadata": {
    "executionInfo": {
     "elapsed": 18,
     "status": "ok",
     "timestamp": 1677590463704,
     "user": {
      "displayName": "Михаил Демин",
      "userId": "14250540086915616791"
     },
     "user_tz": -600
    },
    "id": "myo7GJnKcVe9"
   },
   "outputs": [],
   "source": [
    "# filter out examples that have a length greater than the specified maxlength. \n",
    "# This is done by checking the length of both x and y using the tf.size method and then using the tf.logicaland method to return\n",
    "#  a boolean value indicating if both lengths are less than the specified max_length."
   ]
  },
  {
   "cell_type": "code",
   "execution_count": 12,
   "metadata": {
    "executionInfo": {
     "elapsed": 18,
     "status": "ok",
     "timestamp": 1677590463704,
     "user": {
      "displayName": "Михаил Демин",
      "userId": "14250540086915616791"
     },
     "user_tz": -600
    },
    "id": "c081xPGv1CPI"
   },
   "outputs": [],
   "source": [
    "def filter_max_length(x, y, max_length=MAX_LENGTH):\n",
    "  return tf.logical_and(tf.size(x) <= max_length,\n",
    "                        tf.size(y) <= max_length)"
   ]
  },
  {
   "cell_type": "code",
   "execution_count": 13,
   "metadata": {
    "executionInfo": {
     "elapsed": 18,
     "status": "ok",
     "timestamp": 1677590463704,
     "user": {
      "displayName": "Михаил Демин",
      "userId": "14250540086915616791"
     },
     "user_tz": -600
    },
    "id": "9mk9AZdZ5bcS"
   },
   "outputs": [],
   "source": [
    "train_dataset = train_examples.map(tf_encode)\n",
    "train_dataset = train_dataset.filter(filter_max_length)\n",
    "# cache the dataset to memory to get a speedup while reading from it.\n",
    "train_dataset = train_dataset.cache()\n",
    "train_dataset = train_dataset.shuffle(BUFFER_SIZE).padded_batch(BATCH_SIZE)\n",
    "train_dataset = train_dataset.prefetch(tf.data.experimental.AUTOTUNE)\n",
    "\n",
    "\n",
    "val_dataset = val_examples.map(tf_encode)\n",
    "val_dataset = val_dataset.filter(filter_max_length).padded_batch(BATCH_SIZE) # create batches of data in which the examples are padded with zeros to match the maximum length."
   ]
  },
  {
   "cell_type": "code",
   "execution_count": 14,
   "metadata": {
    "colab": {
     "base_uri": "https://localhost:8080/"
    },
    "executionInfo": {
     "elapsed": 619,
     "status": "ok",
     "timestamp": 1677590464306,
     "user": {
      "displayName": "Михаил Демин",
      "userId": "14250540086915616791"
     },
     "user_tz": -600
    },
    "id": "_fXvfYVfQr2n",
    "outputId": "4fb28794-054f-4725-f39f-55c56ed35f9f"
   },
   "outputs": [
    {
     "data": {
      "text/plain": [
       "(<tf.Tensor: shape=(64, 38), dtype=int64, numpy=\n",
       " array([[8179,   57,   86, ...,    0,    0,    0],\n",
       "        [8179,    3,   38, ...,    0,    0,    0],\n",
       "        [8179,   57,  135, ...,    0,    0,    0],\n",
       "        ...,\n",
       "        [8179,    3,    7, ...,    0,    0,    0],\n",
       "        [8179,  138,  250, ...,    0,    0,    0],\n",
       "        [8179,   19,    7, ...,    0,    0,    0]])>,\n",
       " <tf.Tensor: shape=(64, 40), dtype=int64, numpy=\n",
       " array([[8245,   90,  101, ...,    0,    0,    0],\n",
       "        [8245,   70,   25, ...,    0,    0,    0],\n",
       "        [8245,   90,  153, ...,    0,    0,    0],\n",
       "        ...,\n",
       "        [8245,    4,   18, ...,    0,    0,    0],\n",
       "        [8245,   19,   59, ...,    0,    0,    0],\n",
       "        [8245,   24,   18, ...,    0,    0,    0]])>)"
      ]
     },
     "execution_count": 14,
     "metadata": {},
     "output_type": "execute_result"
    }
   ],
   "source": [
    "pt_batch, en_batch = next(iter(val_dataset))\n",
    "pt_batch, en_batch"
   ]
  },
  {
   "cell_type": "markdown",
   "metadata": {
    "id": "nBQuibYA4n0n"
   },
   "source": [
    "## Positional encoding\n",
    "\n",
    "Поскольку эта модель не содержит повторений или сверток, добавляется позиционное кодирование, чтобы дать модели некоторую информацию об относительном положении слов в предложении.\n",
    "\n",
    "Вектор позиционного кодирования добавляется к вектору внедрения. Вложения представляют собой токен в d-мерном пространстве, где токены с одинаковым значением будут ближе друг к другу. Но вложения не кодируют относительное положение слов в предложении. Таким образом, после добавления позиционной кодировки слова будут ближе друг к другу на основе сходства их значения и их положения в предложении в d-мерном пространстве.\n",
    "\n",
    "Формула для расчета позиционного кодирования выглядит следующим образом:\n",
    "\n",
    "\n",
    "\n",
    "$$\\Large{PE_{(pos, 2i)} = sin(pos / 10000^{2i / d_{model}})} $$\n",
    "$$\\Large{PE_{(pos, 2i+1)} = cos(pos / 10000^{2i / d_{model}})} $$"
   ]
  },
  {
   "cell_type": "code",
   "execution_count": 15,
   "metadata": {
    "executionInfo": {
     "elapsed": 13,
     "status": "ok",
     "timestamp": 1677590464307,
     "user": {
      "displayName": "Михаил Демин",
      "userId": "14250540086915616791"
     },
     "user_tz": -600
    },
    "id": "WhIOZjMNKujn"
   },
   "outputs": [],
   "source": [
    "def get_angles(pos, i, d_model):\n",
    "  angle_rates = 1 / np.power(10000, (2 * (i//2)) / np.float32(d_model))\n",
    "  print(pos * angle_rates)\n",
    "  return pos * angle_rates"
   ]
  },
  {
   "cell_type": "code",
   "execution_count": 16,
   "metadata": {
    "executionInfo": {
     "elapsed": 16,
     "status": "ok",
     "timestamp": 1677590464310,
     "user": {
      "displayName": "Михаил Демин",
      "userId": "14250540086915616791"
     },
     "user_tz": -600
    },
    "id": "1Rz82wEs5biZ"
   },
   "outputs": [],
   "source": [
    "def positional_encoding(position, d_model):\n",
    "  angle_rads = get_angles(np.arange(position)[:, np.newaxis], # стобец\n",
    "                          np.arange(d_model)[np.newaxis, :], # строка\n",
    "                          d_model)\n",
    "  \n",
    "  # apply sin to even indices in the array; 2i\n",
    "  angle_rads[:, 0::2] = np.sin(angle_rads[:, 0::2])\n",
    "  \n",
    "  # apply cos to odd indices in the array; 2i+1\n",
    "  angle_rads[:, 1::2] = np.cos(angle_rads[:, 1::2])\n",
    "    \n",
    "  pos_encoding = angle_rads[np.newaxis, ...]\n",
    "    \n",
    "  return tf.cast(pos_encoding, dtype=tf.float32)"
   ]
  },
  {
   "cell_type": "code",
   "execution_count": 17,
   "metadata": {
    "colab": {
     "base_uri": "https://localhost:8080/",
     "height": 526
    },
    "executionInfo": {
     "elapsed": 17,
     "status": "ok",
     "timestamp": 1677590464311,
     "user": {
      "displayName": "Михаил Демин",
      "userId": "14250540086915616791"
     },
     "user_tz": -600
    },
    "id": "1kLCla68EloE",
    "outputId": "6a7494f3-19a2-41f3-e379-33ad65296ec8"
   },
   "outputs": [
    {
     "name": "stdout",
     "output_type": "stream",
     "text": [
      "[[0.00000000e+00 0.00000000e+00 0.00000000e+00 ... 0.00000000e+00\n",
      "  0.00000000e+00 0.00000000e+00]\n",
      " [1.00000000e+00 1.00000000e+00 9.64661620e-01 ... 1.07460783e-04\n",
      "  1.03663293e-04 1.03663293e-04]\n",
      " [2.00000000e+00 2.00000000e+00 1.92932324e+00 ... 2.14921566e-04\n",
      "  2.07326586e-04 2.07326586e-04]\n",
      " ...\n",
      " [4.70000000e+01 4.70000000e+01 4.53390961e+01 ... 5.05065679e-03\n",
      "  4.87217476e-03 4.87217476e-03]\n",
      " [4.80000000e+01 4.80000000e+01 4.63037578e+01 ... 5.15811758e-03\n",
      "  4.97583806e-03 4.97583806e-03]\n",
      " [4.90000000e+01 4.90000000e+01 4.72684194e+01 ... 5.26557836e-03\n",
      "  5.07950135e-03 5.07950135e-03]]\n",
      "(1, 50, 512)\n"
     ]
    },
    {
     "data": {
      "image/png": "[encoded data removed]",
      "text/plain": [
       "<Figure size 432x288 with 2 Axes>"
      ]
     },
     "metadata": {
      "needs_background": "light"
     },
     "output_type": "display_data"
    }
   ],
   "source": [
    "# Получаем 50 строк по 512 значений\n",
    "pos_encoding = positional_encoding(50, 512)\n",
    "print (pos_encoding.shape)\n",
    "\n",
    "plt.pcolormesh(pos_encoding[0], cmap='RdBu')\n",
    "plt.xlabel('Depth')\n",
    "plt.xlim((0, 512))\n",
    "plt.ylabel('Position')\n",
    "plt.colorbar()\n",
    "plt.show()"
   ]
  },
  {
   "cell_type": "markdown",
   "metadata": {
    "id": "a_b4ou4TYqUN"
   },
   "source": [
    "## Masking"
   ]
  },
  {
   "cell_type": "markdown",
   "metadata": {
    "id": "s42Uydjkv0hF"
   },
   "source": [
    "Замаскируйте все маркеры площадок в пакете последовательности. Это гарантирует, что модель не обрабатывает отступы как входные данные. Маска указывает, где присутствует значение пэда 0 : она выводит 1 в этих местах и 0 противном случае."
   ]
  },
  {
   "cell_type": "code",
   "execution_count": 18,
   "metadata": {
    "executionInfo": {
     "elapsed": 14,
     "status": "ok",
     "timestamp": 1677590464312,
     "user": {
      "displayName": "Михаил Демин",
      "userId": "14250540086915616791"
     },
     "user_tz": -600
    },
    "id": "U2i8-e1s8ti9"
   },
   "outputs": [],
   "source": [
    "def create_padding_mask(seq):\n",
    "  seq = tf.cast(tf.math.equal(seq, 0), tf.float32) # 1 if element is null, otherwise - 0\n",
    "  \n",
    "  # add extra dimensions to add the padding\n",
    "  # to the attention logits.\n",
    "  return seq[:, tf.newaxis, tf.newaxis, :]  # (batch_size, 1, 1, seq_len)"
   ]
  },
  {
   "cell_type": "code",
   "execution_count": 19,
   "metadata": {
    "colab": {
     "base_uri": "https://localhost:8080/"
    },
    "executionInfo": {
     "elapsed": 15,
     "status": "ok",
     "timestamp": 1677590464313,
     "user": {
      "displayName": "Михаил Демин",
      "userId": "14250540086915616791"
     },
     "user_tz": -600
    },
    "id": "A7BYeBCNvi7n",
    "outputId": "30146641-42f8-4c26-c28a-40d294be73cc"
   },
   "outputs": [
    {
     "data": {
      "text/plain": [
       "<tf.Tensor: shape=(3, 1, 1, 5), dtype=float32, numpy=\n",
       "array([[[[0., 0., 1., 1., 0.]]],\n",
       "\n",
       "\n",
       "       [[[0., 0., 0., 1., 1.]]],\n",
       "\n",
       "\n",
       "       [[[1., 1., 1., 0., 0.]]]], dtype=float32)>"
      ]
     },
     "execution_count": 19,
     "metadata": {},
     "output_type": "execute_result"
    }
   ],
   "source": [
    "x = tf.constant([[7, 6, 0, 0, 1], [1, 2, 3, 0, 0], [0, 0, 0, 4, 5]])\n",
    "create_padding_mask(x)"
   ]
  },
  {
   "cell_type": "markdown",
   "metadata": {
    "id": "Z0hzukDBgVom"
   },
   "source": [
    "Маска упреждающего просмотра используется для маскировки будущих токенов в последовательности. Другими словами, маска указывает, какие записи не следует использовать.\n",
    "\n",
    "Это означает, что для предсказания третьего слова будут использоваться только первое и второе слово. Аналогично для предсказания четвертого слова будут использоваться только первое, второе и третье слово и так далее.\n",
    "\n"
   ]
  },
  {
   "cell_type": "code",
   "execution_count": 20,
   "metadata": {
    "executionInfo": {
     "elapsed": 14,
     "status": "ok",
     "timestamp": 1677590464313,
     "user": {
      "displayName": "Михаил Демин",
      "userId": "14250540086915616791"
     },
     "user_tz": -600
    },
    "id": "dVxS8OPI9uI0"
   },
   "outputs": [],
   "source": [
    "def create_look_ahead_mask(size):\n",
    "  mask = 1 - tf.linalg.band_part(tf.ones((size, size)), -1, 0) # Copy a tensor setting everything outside a central band in each innermost matrix to zero.\n",
    "  return mask  # (seq_len, seq_len) "
   ]
  },
  {
   "cell_type": "code",
   "execution_count": 21,
   "metadata": {
    "colab": {
     "base_uri": "https://localhost:8080/"
    },
    "executionInfo": {
     "elapsed": 14,
     "status": "ok",
     "timestamp": 1677590464314,
     "user": {
      "displayName": "Михаил Демин",
      "userId": "14250540086915616791"
     },
     "user_tz": -600
    },
    "id": "yxKGuXxaBeeE",
    "outputId": "5ea76597-66ed-4324-c98c-59402a8d18d7"
   },
   "outputs": [
    {
     "name": "stdout",
     "output_type": "stream",
     "text": [
      "tf.Tensor([[0.05678511 0.45999086 0.9655584 ]], shape=(1, 3), dtype=float32)\n"
     ]
    },
    {
     "data": {
      "text/plain": [
       "<tf.Tensor: shape=(3, 3), dtype=float32, numpy=\n",
       "array([[0., 1., 1.],\n",
       "       [0., 0., 1.],\n",
       "       [0., 0., 0.]], dtype=float32)>"
      ]
     },
     "execution_count": 21,
     "metadata": {},
     "output_type": "execute_result"
    }
   ],
   "source": [
    "x = tf.random.uniform((1, 3))\n",
    "print(x)\n",
    "temp = create_look_ahead_mask(x.shape[1])\n",
    "temp"
   ]
  },
  {
   "cell_type": "markdown",
   "metadata": {
    "id": "xluDl5cXYy4y"
   },
   "source": [
    "## Scaled dot product attention"
   ]
  },
  {
   "cell_type": "markdown",
   "metadata": {
    "id": "vsxEE_-Wa1gF"
   },
   "source": [
    "<img src=\"https://www.tensorflow.org/images/tutorials/transformer/scaled_attention.png\" width=\"500\" alt=\"scaled_dot_product_attention\">\n",
    "\n",
    "Функция внимания, используемая преобразователем, принимает три входа: Q (запрос), K (ключ), V (значение). Уравнение, используемое для расчета весов внимания:\n",
    "\n",
    "\n",
    "$$\\Large{Attention(Q, K, V) = softmax_k(\\frac{QK^T}{\\sqrt{d_k}}) V} $$\n",
    "\n",
    "Внимание скалярного произведения масштабируется с коэффициентом квадратного корня из глубины. Это сделано потому, что для больших значений глубины скалярное произведение увеличивается по величине, подталкивая функцию softmax, где у него есть небольшие градиенты, что приводит к очень жесткому softmax.\n",
    "\n",
    "Например, предположим, что Q и K имеют среднее значение 0 и дисперсию 1. Их матричное умножение будет иметь среднее значение 0 и дисперсию dk . Следовательно, для масштабирования используется квадратный корень из dk (а не какое-либо другое число), потому что матрица Q и K должна иметь среднее значение 0 и дисперсию 1, и вы получите более мягкий softmax.\n",
    "\n",
    "Маска умножается на -1e9 (близко к отрицательной бесконечности). Это сделано потому, что маска суммируется с умножением масштабированной матрицы Q и K и применяется непосредственно перед softmax. Цель состоит в том, чтобы обнулить эти ячейки, и большие отрицательные входные данные для softmax близки к нулю на выходе.\n",
    "\n"
   ]
  },
  {
   "cell_type": "code",
   "execution_count": 22,
   "metadata": {
    "executionInfo": {
     "elapsed": 13,
     "status": "ok",
     "timestamp": 1677590464314,
     "user": {
      "displayName": "Михаил Демин",
      "userId": "14250540086915616791"
     },
     "user_tz": -600
    },
    "id": "LazzUq3bJ5SH"
   },
   "outputs": [],
   "source": [
    "def scaled_dot_product_attention(q, k, v, mask):\n",
    "  \"\"\"Calculate the attention weights.\n",
    "  q, k, v must have matching leading dimensions.\n",
    "  k, v must have matching penultimate dimension, i.e.: seq_len_k = seq_len_v.\n",
    "  The mask has different shapes depending on its type(padding or look ahead) \n",
    "  but it must be broadcastable for addition.\n",
    "  \n",
    "  Args:\n",
    "    q: query shape == (..., seq_len_q, depth)\n",
    "    k: key shape == (..., seq_len_k, depth)\n",
    "    v: value shape == (..., seq_len_v, depth_v)\n",
    "    mask: Float tensor with shape broadcastable \n",
    "          to (..., seq_len_q, seq_len_k). Defaults to None.\n",
    "    \n",
    "  Returns:\n",
    "    output, attention_weights\n",
    "  \"\"\"\n",
    "\n",
    "  matmul_qk = tf.matmul(q, k, transpose_b=True)  # (..., seq_len_q, seq_len_k)\n",
    "  \n",
    "  # scale matmul_qk\n",
    "  dk = tf.cast(tf.shape(k)[-1], tf.float32)\n",
    "  scaled_attention_logits = matmul_qk / tf.math.sqrt(dk)\n",
    "\n",
    "  # add the mask to the scaled tensor.\n",
    "  if mask is not None:\n",
    "    scaled_attention_logits += (mask * -1e9)  \n",
    "\n",
    "  # softmax is normalized on the last axis (seq_len_k) so that the scores\n",
    "  # add up to 1.\n",
    "  attention_weights = tf.nn.softmax(scaled_attention_logits, axis=-1)  # (..., seq_len_q, seq_len_k)\n",
    "\n",
    "  output = tf.matmul(attention_weights, v)  # (..., seq_len_q, depth_v)\n",
    "\n",
    "  return output, attention_weights"
   ]
  },
  {
   "cell_type": "markdown",
   "metadata": {
    "id": "FiqETnhCkoXh"
   },
   "source": [
    "Поскольку нормализация softmax выполняется для K, его значения определяют степень важности, придаваемой Q.\n",
    "\n",
    "Выходные данные представляют собой умножение весов внимания и вектора V (значения). Это гарантирует, что слова, на которых вы хотите сосредоточиться, останутся как есть, а нерелевантные слова будут удалены.\n",
    "\n"
   ]
  },
  {
   "cell_type": "code",
   "execution_count": 23,
   "metadata": {
    "executionInfo": {
     "elapsed": 13,
     "status": "ok",
     "timestamp": 1677590464314,
     "user": {
      "displayName": "Михаил Демин",
      "userId": "14250540086915616791"
     },
     "user_tz": -600
    },
    "id": "n90YjClyInFy"
   },
   "outputs": [],
   "source": [
    "def print_out(q, k, v):\n",
    "  temp_out, temp_attn = scaled_dot_product_attention(\n",
    "      q, k, v, None)\n",
    "  print ('Attention weights are:')\n",
    "  print (temp_attn)\n",
    "  print ('Output is:')\n",
    "  print (temp_out)"
   ]
  },
  {
   "cell_type": "code",
   "execution_count": 24,
   "metadata": {
    "colab": {
     "base_uri": "https://localhost:8080/"
    },
    "executionInfo": {
     "elapsed": 2818,
     "status": "ok",
     "timestamp": 1677590467120,
     "user": {
      "displayName": "Михаил Демин",
      "userId": "14250540086915616791"
     },
     "user_tz": -600
    },
    "id": "yAzUAf2DPlNt",
    "outputId": "2028de24-2f78-4bfd-f668-6a18b09335af"
   },
   "outputs": [
    {
     "name": "stdout",
     "output_type": "stream",
     "text": [
      "Attention weights are:\n",
      "tf.Tensor([[0. 1. 0. 0.]], shape=(1, 4), dtype=float32)\n",
      "Output is:\n",
      "tf.Tensor([[10.  0.]], shape=(1, 2), dtype=float32)\n"
     ]
    }
   ],
   "source": [
    "np.set_printoptions(suppress=True)\n",
    "\n",
    "temp_k = tf.constant([[10,0,0],\n",
    "                      [0,10,0],\n",
    "                      [0,0,10],\n",
    "                      [0,0,10]], dtype=tf.float32)  # (4, 3)\n",
    "\n",
    "temp_v = tf.constant([[   1,0],\n",
    "                      [  10,0],\n",
    "                      [ 100,5],\n",
    "                      [1000,6]], dtype=tf.float32)  # (4, 2)\n",
    "\n",
    "# This `query` aligns with the second `key`,\n",
    "# so the second `value` is returned.\n",
    "temp_q = tf.constant([[0, 10, 0]], dtype=tf.float32)  # (1, 3)\n",
    "print_out(temp_q, temp_k, temp_v)"
   ]
  },
  {
   "cell_type": "code",
   "execution_count": 25,
   "metadata": {
    "colab": {
     "base_uri": "https://localhost:8080/"
    },
    "executionInfo": {
     "elapsed": 16,
     "status": "ok",
     "timestamp": 1677590467120,
     "user": {
      "displayName": "Михаил Демин",
      "userId": "14250540086915616791"
     },
     "user_tz": -600
    },
    "id": "zg6k-fGhgXra",
    "outputId": "a8be470b-1efa-4ff5-df2d-725972ea0b08"
   },
   "outputs": [
    {
     "name": "stdout",
     "output_type": "stream",
     "text": [
      "Attention weights are:\n",
      "tf.Tensor([[0.  0.  0.5 0.5]], shape=(1, 4), dtype=float32)\n",
      "Output is:\n",
      "tf.Tensor([[550.    5.5]], shape=(1, 2), dtype=float32)\n"
     ]
    }
   ],
   "source": [
    "# This query aligns with a repeated key (third and fourth), \n",
    "# so all associated values get averaged.\n",
    "temp_q = tf.constant([[0, 0, 10]], dtype=tf.float32)  # (1, 3)\n",
    "print_out(temp_q, temp_k, temp_v)"
   ]
  },
  {
   "cell_type": "code",
   "execution_count": 26,
   "metadata": {
    "colab": {
     "base_uri": "https://localhost:8080/"
    },
    "executionInfo": {
     "elapsed": 13,
     "status": "ok",
     "timestamp": 1677590467120,
     "user": {
      "displayName": "Михаил Демин",
      "userId": "14250540086915616791"
     },
     "user_tz": -600
    },
    "id": "UAq3YOzUgXhb",
    "outputId": "bf6abb2d-1d4f-474b-d0f9-899f4e1c2c05"
   },
   "outputs": [
    {
     "name": "stdout",
     "output_type": "stream",
     "text": [
      "Attention weights are:\n",
      "tf.Tensor([[0.5 0.5 0.  0. ]], shape=(1, 4), dtype=float32)\n",
      "Output is:\n",
      "tf.Tensor([[5.5 0. ]], shape=(1, 2), dtype=float32)\n"
     ]
    }
   ],
   "source": [
    "# This query aligns equally with the first and second key, \n",
    "# so their values get averaged.\n",
    "temp_q = tf.constant([[10, 10, 0]], dtype=tf.float32)  # (1, 3)\n",
    "print_out(temp_q, temp_k, temp_v)"
   ]
  },
  {
   "cell_type": "markdown",
   "metadata": {
    "id": "aOz-4_XIhaTP"
   },
   "source": [
    "Pass all the queries together."
   ]
  },
  {
   "cell_type": "code",
   "execution_count": 27,
   "metadata": {
    "colab": {
     "base_uri": "https://localhost:8080/"
    },
    "executionInfo": {
     "elapsed": 11,
     "status": "ok",
     "timestamp": 1677590467121,
     "user": {
      "displayName": "Михаил Демин",
      "userId": "14250540086915616791"
     },
     "user_tz": -600
    },
    "id": "6dlU8Tm-hYrF",
    "outputId": "788e9fee-8fff-4498-9606-2f62db0a012b"
   },
   "outputs": [
    {
     "name": "stdout",
     "output_type": "stream",
     "text": [
      "Attention weights are:\n",
      "tf.Tensor(\n",
      "[[0.   0.   0.5  0.5 ]\n",
      " [0.   1.   0.   0.  ]\n",
      " [0.25 0.25 0.25 0.25]], shape=(3, 4), dtype=float32)\n",
      "Output is:\n",
      "tf.Tensor(\n",
      "[[550.     5.5 ]\n",
      " [ 10.     0.  ]\n",
      " [277.75   2.75]], shape=(3, 2), dtype=float32)\n"
     ]
    }
   ],
   "source": [
    "temp_q = tf.constant([[0, 0, 10], [0, 10, 0], [10, 10, 10]], dtype=tf.float32)  # (3, 3)\n",
    "print_out(temp_q, temp_k, temp_v)"
   ]
  },
  {
   "cell_type": "markdown",
   "metadata": {
    "id": "kmzGPEy64qmA"
   },
   "source": [
    "## Multi-head attention"
   ]
  },
  {
   "cell_type": "markdown",
   "metadata": {
    "id": "fz5BMC8Kaoqo"
   },
   "source": [
    "<img src=\"https://www.tensorflow.org/images/tutorials/transformer/multi_head_attention.png\" width=\"500\" alt=\"multi-head attention\">\n",
    "\n",
    "\n",
    "Многоголовое внимание состоит из четырех частей:\n",
    "\n",
    "* Слои линейные и разбиваются на головы.\n",
    "* Повышенное внимание к скалярному продукту\n",
    "* Конкатенация голов.\n",
    "* Финальный линейный слой."
   ]
  },
  {
   "cell_type": "markdown",
   "metadata": {
    "id": "JPmbr6F1C-v_"
   },
   "source": [
    "Каждый блок внимания с несколькими головами получает три входа; Q (запрос), K (ключ), V (значение). Они проходят через линейные (плотные) слои и разбиваются на несколько головок.\n",
    "\n",
    "scaled_dot_product_attention определенный выше, применяется к каждой голове (транслируется для эффективности). На этапе внимания необходимо использовать соответствующую маску. Затем вывод внимания для каждой головы объединяется (с использованием tf.transpose и tf.reshape ) и пропускается через последний слой Dense .\n",
    "\n",
    "Вместо одной единственной головы внимания Q, K и V разделены на несколько голов, потому что это позволяет модели совместно обращать внимание на информацию в разных положениях из разных пространств представления. После разделения каждая голова имеет уменьшенную размерность, поэтому общая стоимость вычислений такая же, как и внимание одной головы с полной размерностью.\n",
    "\n"
   ]
  },
  {
   "cell_type": "code",
   "execution_count": 28,
   "metadata": {
    "executionInfo": {
     "elapsed": 9,
     "status": "ok",
     "timestamp": 1677590467121,
     "user": {
      "displayName": "Михаил Демин",
      "userId": "14250540086915616791"
     },
     "user_tz": -600
    },
    "id": "BSV3PPKsYecw"
   },
   "outputs": [],
   "source": [
    "class MultiHeadAttention(tf.keras.layers.Layer):\n",
    "  def __init__(self, d_model, num_heads):\n",
    "    super(MultiHeadAttention, self).__init__()\n",
    "    self.num_heads = num_heads\n",
    "    self.d_model = d_model\n",
    "    \n",
    "    assert d_model % self.num_heads == 0\n",
    "    \n",
    "    self.depth = d_model // self.num_heads\n",
    "    \n",
    "    self.wq = tf.keras.layers.Dense(d_model)\n",
    "    self.wk = tf.keras.layers.Dense(d_model)\n",
    "    self.wv = tf.keras.layers.Dense(d_model)\n",
    "    \n",
    "    self.dense = tf.keras.layers.Dense(d_model)\n",
    "        \n",
    "  def split_heads(self, x, batch_size):\n",
    "    \"\"\"Split the last dimension into (num_heads, depth).\n",
    "    Transpose the result such that the shape is (batch_size, num_heads, seq_len, depth)\n",
    "    \"\"\"\n",
    "    # If one component of shape is the special value -1, the size of that dimension is computed so that \n",
    "    # the total size remains constant. In particular, a shape of [-1] flattens into 1-D. \n",
    "    # At most one component of shape can be -1.\n",
    "    \n",
    "    x = tf.reshape(x, (batch_size, -1, self.num_heads, self.depth))\n",
    "    return tf.transpose(x, perm=[0, 2, 1, 3])\n",
    "    \n",
    "  def call(self, v, k, q, mask):\n",
    "    batch_size = tf.shape(q)[0]\n",
    "    \n",
    "    q = self.wq(q)  # (batch_size, seq_len, d_model)\n",
    "    k = self.wk(k)  # (batch_size, seq_len, d_model)\n",
    "    v = self.wv(v)  # (batch_size, seq_len, d_model)\n",
    "    \n",
    "    q = self.split_heads(q, batch_size)  # (batch_size, num_heads, seq_len_q, depth)\n",
    "    k = self.split_heads(k, batch_size)  # (batch_size, num_heads, seq_len_k, depth)\n",
    "    v = self.split_heads(v, batch_size)  # (batch_size, num_heads, seq_len_v, depth)\n",
    "    \n",
    "    # scaled_attention.shape == (batch_size, num_heads, seq_len_q, depth)\n",
    "    # attention_weights.shape == (batch_size, num_heads, seq_len_q, seq_len_k)\n",
    "    scaled_attention, attention_weights = scaled_dot_product_attention(\n",
    "        q, k, v, mask)\n",
    "    \n",
    "    scaled_attention = tf.transpose(scaled_attention, perm=[0, 2, 1, 3])  # (batch_size, seq_len_q, num_heads, depth)\n",
    "\n",
    "    concat_attention = tf.reshape(scaled_attention, \n",
    "                                  (batch_size, -1, self.d_model))  # (batch_size, seq_len_q, d_model)\n",
    "\n",
    "    output = self.dense(concat_attention)  # (batch_size, seq_len_q, d_model)\n",
    "        \n",
    "    return output, attention_weights"
   ]
  },
  {
   "cell_type": "markdown",
   "metadata": {
    "id": "0D8FJue5lDyZ"
   },
   "source": [
    "Создайте слой MultiHeadAttention чтобы попробовать. В каждом месте в последовательности y MultiHeadAttention запускает все 8 головок внимания по всем другим местам в последовательности, возвращая новый вектор той же длины в каждом месте.\n",
    "\n"
   ]
  },
  {
   "cell_type": "code",
   "execution_count": 29,
   "metadata": {
    "colab": {
     "base_uri": "https://localhost:8080/"
    },
    "executionInfo": {
     "elapsed": 9,
     "status": "ok",
     "timestamp": 1677590467122,
     "user": {
      "displayName": "Михаил Демин",
      "userId": "14250540086915616791"
     },
     "user_tz": -600
    },
    "id": "Hu94p-_-2_BX",
    "outputId": "75a54988-6e93-4070-c569-ec3db8badd38"
   },
   "outputs": [
    {
     "name": "stdout",
     "output_type": "stream",
     "text": [
      "Выходные размерности:  \n",
      "\n"
     ]
    },
    {
     "data": {
      "text/plain": [
       "(TensorShape([2, 3, 10]), TensorShape([2, 2, 3, 3]))"
      ]
     },
     "execution_count": 29,
     "metadata": {},
     "output_type": "execute_result"
    }
   ],
   "source": [
    "temp_mha = MultiHeadAttention(d_model=10, num_heads=2)\n",
    "y = tf.random.uniform((2, 3, 10))  # (batch_size, encoder_sequence, d_model)\n",
    "out, attn = temp_mha(y, k=y, q=y, mask=None)\n",
    "print('Выходные размерности:  \\n')\n",
    "out.shape, attn.shape"
   ]
  },
  {
   "cell_type": "markdown",
   "metadata": {
    "id": "RdDqGayx67vv"
   },
   "source": [
    "## Point wise feed forward network"
   ]
  },
  {
   "cell_type": "markdown",
   "metadata": {
    "id": "gBqzJXGfHK3X"
   },
   "source": [
    "Сеть с точечной прямой связью состоит из двух полностью связанных слоев с активацией ReLU между ними.\n"
   ]
  },
  {
   "cell_type": "code",
   "execution_count": 30,
   "metadata": {
    "executionInfo": {
     "elapsed": 6,
     "status": "ok",
     "timestamp": 1677590467122,
     "user": {
      "displayName": "Михаил Демин",
      "userId": "14250540086915616791"
     },
     "user_tz": -600
    },
    "id": "ET7xLt0yCT6Z"
   },
   "outputs": [],
   "source": [
    "def point_wise_feed_forward_network(d_model, dff):\n",
    "  return tf.keras.Sequential([\n",
    "      tf.keras.layers.Dense(dff, activation='relu'),  # (batch_size, seq_len, dff)\n",
    "      tf.keras.layers.Dense(d_model)  # (batch_size, seq_len, d_model)\n",
    "  ])"
   ]
  },
  {
   "cell_type": "code",
   "execution_count": 31,
   "metadata": {
    "colab": {
     "base_uri": "https://localhost:8080/"
    },
    "executionInfo": {
     "elapsed": 644,
     "status": "ok",
     "timestamp": 1677590467760,
     "user": {
      "displayName": "Михаил Демин",
      "userId": "14250540086915616791"
     },
     "user_tz": -600
    },
    "id": "mytb1lPyOHLB",
    "outputId": "0241321a-284a-44eb-bba2-ed2b99b6e400"
   },
   "outputs": [
    {
     "data": {
      "text/plain": [
       "TensorShape([64, 50, 512])"
      ]
     },
     "execution_count": 31,
     "metadata": {},
     "output_type": "execute_result"
    }
   ],
   "source": [
    "sample_ffn = point_wise_feed_forward_network(512, 2048)\n",
    "sample_ffn(tf.random.uniform((64, 50, 512))).shape"
   ]
  },
  {
   "cell_type": "markdown",
   "metadata": {
    "id": "7e7hKcxn6-zd"
   },
   "source": [
    "## Encoder and decoder"
   ]
  },
  {
   "cell_type": "markdown",
   "metadata": {
    "id": "yScbC0MUH8dS"
   },
   "source": [
    "<img src=\"https://www.tensorflow.org/images/tutorials/transformer/transformer.png\" width=\"600\" alt=\"transformer\">"
   ]
  },
  {
   "cell_type": "markdown",
   "metadata": {
    "id": "MfYJG-Kvgwy2"
   },
   "source": [
    "Модель трансформера следует той же общей схеме, что и стандартная последовательность действий с моделью внимания .\n",
    "\n",
    "Входное предложение проходит через N уровней кодировщика, которые генерируют выходные данные для каждого слова / токена в последовательности.\n",
    "Декодер отслеживает вывод кодировщика и свой собственный ввод (самовнимание), чтобы предсказать следующее слово.\n"
   ]
  },
  {
   "cell_type": "markdown",
   "metadata": {
    "id": "QFv-FNYUmvpn"
   },
   "source": [
    "### Encoder layer\n",
    "\n",
    "Каждый уровень кодировщика состоит из подслоев:\n",
    "\n",
    "Многоголовое внимание (с дополнительной маской)\n",
    "Точечные сети прямого распространения.\n",
    "Каждый из этих подуровней имеет остаточную связь вокруг себя, за которой следует нормализация уровня. Остаточные соединения помогают избежать проблемы исчезающего градиента в глубоких сетях.\n",
    "\n",
    "Результатом каждого подслоя является LayerNorm(x + Sublayer(x)) . Нормализация выполняется по d_model (последняя). В трансформаторе N слоев кодировщика.\n",
    "\n"
   ]
  },
  {
   "cell_type": "code",
   "execution_count": 32,
   "metadata": {
    "executionInfo": {
     "elapsed": 18,
     "status": "ok",
     "timestamp": 1677590467761,
     "user": {
      "displayName": "Михаил Демин",
      "userId": "14250540086915616791"
     },
     "user_tz": -600
    },
    "id": "ncyS-Ms3i2x_"
   },
   "outputs": [],
   "source": [
    "class EncoderLayer(tf.keras.layers.Layer):\n",
    "  def __init__(self, d_model, num_heads, dff, rate=0.1):\n",
    "    super(EncoderLayer, self).__init__()\n",
    "\n",
    "    self.mha = MultiHeadAttention(d_model, num_heads)\n",
    "    self.ffn = point_wise_feed_forward_network(d_model, dff)\n",
    "\n",
    "    self.layernorm1 = tf.keras.layers.LayerNormalization(epsilon=1e-6)\n",
    "    self.layernorm2 = tf.keras.layers.LayerNormalization(epsilon=1e-6)\n",
    "    \n",
    "    self.dropout1 = tf.keras.layers.Dropout(rate)\n",
    "    self.dropout2 = tf.keras.layers.Dropout(rate)\n",
    "    \n",
    "  def call(self, x, training, mask):\n",
    "\n",
    "    attn_output, _ = self.mha(x, x, x, mask)  # (batch_size, input_seq_len, d_model)\n",
    "    attn_output = self.dropout1(attn_output, training=training)\n",
    "    out1 = self.layernorm1(x + attn_output)  # (batch_size, input_seq_len, d_model)\n",
    "    \n",
    "    ffn_output = self.ffn(out1)  # (batch_size, input_seq_len, d_model)\n",
    "    ffn_output = self.dropout2(ffn_output, training=training)\n",
    "    out2 = self.layernorm2(out1 + ffn_output)  # (batch_size, input_seq_len, d_model)\n",
    "    \n",
    "    return out2"
   ]
  },
  {
   "cell_type": "code",
   "execution_count": 33,
   "metadata": {
    "colab": {
     "base_uri": "https://localhost:8080/"
    },
    "executionInfo": {
     "elapsed": 17,
     "status": "ok",
     "timestamp": 1677590467761,
     "user": {
      "displayName": "Михаил Демин",
      "userId": "14250540086915616791"
     },
     "user_tz": -600
    },
    "id": "AzZRXdO0mI48",
    "outputId": "a5a580df-773e-4c88-a3c1-295dbe293af1"
   },
   "outputs": [
    {
     "data": {
      "text/plain": [
       "TensorShape([64, 43, 512])"
      ]
     },
     "execution_count": 33,
     "metadata": {},
     "output_type": "execute_result"
    }
   ],
   "source": [
    "sample_encoder_layer = EncoderLayer(512, 8, 2048)\n",
    "\n",
    "sample_encoder_layer_output = sample_encoder_layer(\n",
    "    tf.random.uniform((64, 43, 512)), False, None)\n",
    "\n",
    "sample_encoder_layer_output.shape  # (batch_size, input_seq_len, d_model)"
   ]
  },
  {
   "cell_type": "markdown",
   "metadata": {
    "id": "6LO_48Owmx_o"
   },
   "source": [
    "### Decoder layer\n",
    "\n",
    "Каждый слой декодера состоит из подслоев:\n",
    "\n",
    "Замаскированное внимание с несколькими головами (с опережающей маской и дополнительной маской)\n",
    "Многоголовое внимание (с дополнительной маской). V (значение) и K (ключ) получают выходной сигнал энкодера в качестве входных данных. Q (запрос) получает выходные данные от подуровня замаскированного многоголового внимания.\n",
    "Точечные сети прямого распространения\n",
    "Каждый из этих подуровней имеет остаточную связь вокруг себя, за которой следует нормализация уровня. Результатом каждого подслоя является LayerNorm(x + Sublayer(x)) . Нормализация выполняется по d_model (последняя).\n",
    "\n",
    "В трансформаторе N слоев декодера.\n",
    "\n",
    "Поскольку Q принимает выходные данные от первого блока внимания декодера, а K принимает выходные данные кодировщика, веса внимания представляют важность, придаваемую входу декодера на основе выходных данных кодера. Другими словами, декодер предсказывает следующее слово, глядя на выходные данные кодировщика и самостоятельно присматриваясь к своим собственным выходным данным. См. Демонстрацию выше в разделе «Внимание к скалярному произведению».\n",
    "\n"
   ]
  },
  {
   "cell_type": "code",
   "execution_count": 34,
   "metadata": {
    "executionInfo": {
     "elapsed": 14,
     "status": "ok",
     "timestamp": 1677590467762,
     "user": {
      "displayName": "Михаил Демин",
      "userId": "14250540086915616791"
     },
     "user_tz": -600
    },
    "id": "9SoX0-vd1hue"
   },
   "outputs": [],
   "source": [
    "class DecoderLayer(tf.keras.layers.Layer):\n",
    "  def __init__(self, d_model, num_heads, dff, rate=0.1):\n",
    "    super(DecoderLayer, self).__init__()\n",
    "\n",
    "    self.mha1 = MultiHeadAttention(d_model, num_heads)\n",
    "    self.mha2 = MultiHeadAttention(d_model, num_heads)\n",
    "\n",
    "    self.ffn = point_wise_feed_forward_network(d_model, dff)\n",
    " \n",
    "    self.layernorm1 = tf.keras.layers.LayerNormalization(epsilon=1e-6)\n",
    "    self.layernorm2 = tf.keras.layers.LayerNormalization(epsilon=1e-6)\n",
    "    self.layernorm3 = tf.keras.layers.LayerNormalization(epsilon=1e-6)\n",
    "    \n",
    "    self.dropout1 = tf.keras.layers.Dropout(rate)\n",
    "    self.dropout2 = tf.keras.layers.Dropout(rate)\n",
    "    self.dropout3 = tf.keras.layers.Dropout(rate)\n",
    "    \n",
    "    \n",
    "  def call(self, x, enc_output, training, \n",
    "           look_ahead_mask, padding_mask):\n",
    "    # enc_output.shape == (batch_size, input_seq_len, d_model)\n",
    "\n",
    "    attn1, attn_weights_block1 = self.mha1(x, x, x, look_ahead_mask)  # (batch_size, target_seq_len, d_model)\n",
    "    attn1 = self.dropout1(attn1, training=training)\n",
    "    out1 = self.layernorm1(attn1 + x)\n",
    "    \n",
    "    attn2, attn_weights_block2 = self.mha2(\n",
    "        enc_output, enc_output, out1, padding_mask)  # (batch_size, target_seq_len, d_model)\n",
    "    attn2 = self.dropout2(attn2, training=training)\n",
    "    out2 = self.layernorm2(attn2 + out1)  # (batch_size, target_seq_len, d_model)\n",
    "    \n",
    "    ffn_output = self.ffn(out2)  # (batch_size, target_seq_len, d_model)\n",
    "    ffn_output = self.dropout3(ffn_output, training=training)\n",
    "    out3 = self.layernorm3(ffn_output + out2)  # (batch_size, target_seq_len, d_model)\n",
    "    \n",
    "    return out3, attn_weights_block1, attn_weights_block2"
   ]
  },
  {
   "cell_type": "code",
   "execution_count": 35,
   "metadata": {
    "colab": {
     "base_uri": "https://localhost:8080/"
    },
    "executionInfo": {
     "elapsed": 14,
     "status": "ok",
     "timestamp": 1677590467762,
     "user": {
      "displayName": "Михаил Демин",
      "userId": "14250540086915616791"
     },
     "user_tz": -600
    },
    "id": "Ne2Bqx8k71l0",
    "outputId": "660bd728-def9-401b-da8e-c46937fcb6b0"
   },
   "outputs": [
    {
     "data": {
      "text/plain": [
       "TensorShape([64, 50, 512])"
      ]
     },
     "execution_count": 35,
     "metadata": {},
     "output_type": "execute_result"
    }
   ],
   "source": [
    "sample_decoder_layer = DecoderLayer(512, 8, 2048)\n",
    "\n",
    "sample_decoder_layer_output, _, _ = sample_decoder_layer(\n",
    "    tf.random.uniform((64, 50, 512)), sample_encoder_layer_output, \n",
    "    False, None, None)\n",
    "\n",
    "sample_decoder_layer_output.shape  # (batch_size, target_seq_len, d_model)"
   ]
  },
  {
   "cell_type": "markdown",
   "metadata": {
    "id": "SE1H51Ajm0q1"
   },
   "source": [
    "### Encoder\n",
    "\n",
    "The `Encoder` consists of:\n",
    "1.   Input Embedding\n",
    "2.   Positional Encoding\n",
    "3.   N encoder layers\n",
    "\n",
    "The input is put through an embedding which is summed with the positional encoding. The output of this summation is the input to the encoder layers. The output of the encoder is the input to the decoder."
   ]
  },
  {
   "cell_type": "code",
   "execution_count": 36,
   "metadata": {
    "executionInfo": {
     "elapsed": 10,
     "status": "ok",
     "timestamp": 1677590467763,
     "user": {
      "displayName": "Михаил Демин",
      "userId": "14250540086915616791"
     },
     "user_tz": -600
    },
    "id": "jpEox7gJ8FCI"
   },
   "outputs": [],
   "source": [
    "class Encoder(tf.keras.layers.Layer):\n",
    "  def __init__(self, num_layers, d_model, num_heads, dff, input_vocab_size,\n",
    "               maximum_position_encoding, rate=0.1):\n",
    "    super(Encoder, self).__init__()\n",
    "\n",
    "    self.d_model = d_model\n",
    "    self.num_layers = num_layers\n",
    "    \n",
    "    self.embedding = tf.keras.layers.Embedding(input_vocab_size, d_model)\n",
    "    self.pos_encoding = positional_encoding(maximum_position_encoding, \n",
    "                                            self.d_model)\n",
    "    \n",
    "    \n",
    "    self.enc_layers = [EncoderLayer(d_model, num_heads, dff, rate) \n",
    "                       for _ in range(num_layers)]\n",
    "  \n",
    "    self.dropout = tf.keras.layers.Dropout(rate)\n",
    "        \n",
    "  def call(self, x, training, mask):\n",
    "\n",
    "    seq_len = tf.shape(x)[1] #40\n",
    "    \n",
    "    # adding embedding and position encoding.\n",
    "    x = self.embedding(x)  # (batch_size, input_seq_len, d_model)\n",
    "    x *= tf.math.sqrt(tf.cast(self.d_model, tf.float32))\n",
    "    x += self.pos_encoding[:, :seq_len, :]\n",
    "\n",
    "    x = self.dropout(x, training=training)\n",
    "    \n",
    "    for i in range(self.num_layers):\n",
    "      x = self.enc_layers[i](x, training, mask)\n",
    "    \n",
    "    return x  # (batch_size, input_seq_len, d_model)"
   ]
  },
  {
   "cell_type": "code",
   "execution_count": 37,
   "metadata": {
    "colab": {
     "base_uri": "https://localhost:8080/"
    },
    "executionInfo": {
     "elapsed": 519,
     "status": "ok",
     "timestamp": 1677590468273,
     "user": {
      "displayName": "Михаил Демин",
      "userId": "14250540086915616791"
     },
     "user_tz": -600
    },
    "id": "8QG9nueFQKXx",
    "outputId": "84fa26b2-a266-4465-d215-0dfbcc22fa9f"
   },
   "outputs": [
    {
     "name": "stdout",
     "output_type": "stream",
     "text": [
      "[[   0.            0.            0.         ...    0.\n",
      "     0.            0.        ]\n",
      " [   1.            1.            0.96466162 ...    0.00010746\n",
      "     0.00010366    0.00010366]\n",
      " [   2.            2.            1.92932324 ...    0.00021492\n",
      "     0.00020733    0.00020733]\n",
      " ...\n",
      " [9997.         9997.         9643.72221425 ...    1.07428545\n",
      "     1.03632194    1.03632194]\n",
      " [9998.         9998.         9644.68687587 ...    1.07439291\n",
      "     1.0364256     1.0364256 ]\n",
      " [9999.         9999.         9645.65153749 ...    1.07450037\n",
      "     1.03652927    1.03652927]]\n",
      "(64, 62, 512)\n"
     ]
    }
   ],
   "source": [
    "sample_encoder = Encoder(num_layers=2, d_model=512, num_heads=8, \n",
    "                         dff=2048, input_vocab_size=8500,\n",
    "                         maximum_position_encoding=10000)\n",
    "temp_input = tf.random.uniform((64, 62), dtype=tf.int64, minval=0, maxval=200)\n",
    "\n",
    "sample_encoder_output = sample_encoder(temp_input, training=False, mask=None)\n",
    "\n",
    "print (sample_encoder_output.shape)  # (batch_size, input_seq_len, d_model)"
   ]
  },
  {
   "cell_type": "markdown",
   "metadata": {
    "id": "p-uO6ls8m2O5"
   },
   "source": [
    "### Decoder"
   ]
  },
  {
   "cell_type": "markdown",
   "metadata": {
    "id": "ZtT7PKzrXkNr"
   },
   "source": [
    " The `Decoder` consists of:\n",
    "1.   Output Embedding\n",
    "2.   Positional Encoding\n",
    "3.   N decoder layers\n",
    "\n",
    "The target is put through an embedding which is summed with the positional encoding. The output of this summation is the input to the decoder layers. The output of the decoder is the input to the final linear layer."
   ]
  },
  {
   "cell_type": "code",
   "execution_count": 38,
   "metadata": {
    "executionInfo": {
     "elapsed": 10,
     "status": "ok",
     "timestamp": 1677590468273,
     "user": {
      "displayName": "Михаил Демин",
      "userId": "14250540086915616791"
     },
     "user_tz": -600
    },
    "id": "d5_d5-PLQXwY"
   },
   "outputs": [],
   "source": [
    "class Decoder(tf.keras.layers.Layer):\n",
    "  def __init__(self, num_layers, d_model, num_heads, dff, target_vocab_size,\n",
    "               maximum_position_encoding, rate=0.1):\n",
    "    super(Decoder, self).__init__()\n",
    "\n",
    "    self.d_model = d_model\n",
    "    self.num_layers = num_layers\n",
    "    \n",
    "    self.embedding = tf.keras.layers.Embedding(target_vocab_size, d_model)\n",
    "    self.pos_encoding = positional_encoding(maximum_position_encoding, d_model)\n",
    "    \n",
    "    self.dec_layers = [DecoderLayer(d_model, num_heads, dff, rate) \n",
    "                       for _ in range(num_layers)]\n",
    "    self.dropout = tf.keras.layers.Dropout(rate)\n",
    "    \n",
    "  def call(self, x, enc_output, training, \n",
    "           look_ahead_mask, padding_mask):\n",
    "\n",
    "    seq_len = tf.shape(x)[1]\n",
    "    attention_weights = {}\n",
    "    \n",
    "    x = self.embedding(x)  # (batch_size, target_seq_len, d_model)\n",
    "    x *= tf.math.sqrt(tf.cast(self.d_model, tf.float32))\n",
    "    x += self.pos_encoding[:, :seq_len, :]\n",
    "    \n",
    "    x = self.dropout(x, training=training)\n",
    "\n",
    "    for i in range(self.num_layers):\n",
    "      x, block1, block2 = self.dec_layers[i](x, enc_output, training,\n",
    "                                             look_ahead_mask, padding_mask)\n",
    "      \n",
    "      attention_weights['decoder_layer{}_block1'.format(i+1)] = block1\n",
    "      attention_weights['decoder_layer{}_block2'.format(i+1)] = block2\n",
    "    \n",
    "    # x.shape == (batch_size, target_seq_len, d_model)\n",
    "    return x, attention_weights"
   ]
  },
  {
   "cell_type": "code",
   "execution_count": 39,
   "metadata": {
    "colab": {
     "base_uri": "https://localhost:8080/"
    },
    "executionInfo": {
     "elapsed": 10,
     "status": "ok",
     "timestamp": 1677590468274,
     "user": {
      "displayName": "Михаил Демин",
      "userId": "14250540086915616791"
     },
     "user_tz": -600
    },
    "id": "a1jXoAMRZyvu",
    "outputId": "a606bee2-ee29-4942-d6a9-89bf82d657fb"
   },
   "outputs": [
    {
     "name": "stdout",
     "output_type": "stream",
     "text": [
      "[[   0.            0.            0.         ...    0.\n",
      "     0.            0.        ]\n",
      " [   1.            1.            0.96466162 ...    0.00010746\n",
      "     0.00010366    0.00010366]\n",
      " [   2.            2.            1.92932324 ...    0.00021492\n",
      "     0.00020733    0.00020733]\n",
      " ...\n",
      " [4997.         4997.         4820.4141147  ...    0.53698153\n",
      "     0.51800547    0.51800547]\n",
      " [4998.         4998.         4821.37877632 ...    0.53708899\n",
      "     0.51810914    0.51810914]\n",
      " [4999.         4999.         4822.34343794 ...    0.53719645\n",
      "     0.5182128     0.5182128 ]]\n"
     ]
    },
    {
     "data": {
      "text/plain": [
       "(TensorShape([64, 26, 512]), TensorShape([64, 8, 26, 62]))"
      ]
     },
     "execution_count": 39,
     "metadata": {},
     "output_type": "execute_result"
    }
   ],
   "source": [
    "sample_decoder = Decoder(num_layers=2, d_model=512, num_heads=8, \n",
    "                         dff=2048, target_vocab_size=8000,\n",
    "                         maximum_position_encoding=5000)\n",
    "temp_input = tf.random.uniform((64, 26), dtype=tf.int64, minval=0, maxval=200)\n",
    "\n",
    "output, attn = sample_decoder(temp_input, \n",
    "                              enc_output=sample_encoder_output, \n",
    "                              training=False,\n",
    "                              look_ahead_mask=None, \n",
    "                              padding_mask=None)\n",
    "\n",
    "output.shape, attn['decoder_layer2_block2'].shape"
   ]
  },
  {
   "cell_type": "markdown",
   "metadata": {
    "id": "y54xnJnuYgJ7"
   },
   "source": [
    "## Create the Transformer"
   ]
  },
  {
   "cell_type": "markdown",
   "metadata": {
    "id": "uERO1y54cOKq"
   },
   "source": [
    "Transformer consists of the encoder, decoder and a final linear layer. The output of the decoder is the input to the linear layer and its output is returned."
   ]
  },
  {
   "cell_type": "code",
   "execution_count": 40,
   "metadata": {
    "executionInfo": {
     "elapsed": 6,
     "status": "ok",
     "timestamp": 1677590468274,
     "user": {
      "displayName": "Михаил Демин",
      "userId": "14250540086915616791"
     },
     "user_tz": -600
    },
    "id": "PED3bIpOYkBu"
   },
   "outputs": [],
   "source": [
    "class Transformer(tf.keras.Model):\n",
    "  def __init__(self, num_layers, d_model, num_heads, dff, input_vocab_size, \n",
    "               target_vocab_size, pe_input, pe_target, rate=0.1):\n",
    "    super(Transformer, self).__init__()\n",
    "\n",
    "    self.encoder = Encoder(num_layers, d_model, num_heads, dff, \n",
    "                           input_vocab_size, pe_input, rate)\n",
    "\n",
    "    self.decoder = Decoder(num_layers, d_model, num_heads, dff, \n",
    "                           target_vocab_size, pe_target, rate)\n",
    "\n",
    "    self.final_layer = tf.keras.layers.Dense(target_vocab_size)\n",
    "    \n",
    "  def call(self, inp, tar, training, enc_padding_mask, \n",
    "           look_ahead_mask, dec_padding_mask):\n",
    "\n",
    "    enc_output = self.encoder(inp, training, enc_padding_mask)  # (batch_size, inp_seq_len, d_model)\n",
    "    \n",
    "    # dec_output.shape == (batch_size, tar_seq_len, d_model)\n",
    "    dec_output, attention_weights = self.decoder(\n",
    "        tar, enc_output, training, look_ahead_mask, dec_padding_mask)\n",
    "    \n",
    "    final_output = self.final_layer(dec_output)  # (batch_size, tar_seq_len, target_vocab_size)\n",
    "    \n",
    "    return final_output, attention_weights"
   ]
  },
  {
   "cell_type": "code",
   "execution_count": 41,
   "metadata": {
    "colab": {
     "base_uri": "https://localhost:8080/"
    },
    "executionInfo": {
     "elapsed": 696,
     "status": "ok",
     "timestamp": 1677590468965,
     "user": {
      "displayName": "Михаил Демин",
      "userId": "14250540086915616791"
     },
     "user_tz": -600
    },
    "id": "tJ4fbQcIkHW1",
    "outputId": "2cbd939a-b892-46ac-e866-30e52ea05ddf"
   },
   "outputs": [
    {
     "name": "stdout",
     "output_type": "stream",
     "text": [
      "[[   0.            0.            0.         ...    0.\n",
      "     0.            0.        ]\n",
      " [   1.            1.            0.96466162 ...    0.00010746\n",
      "     0.00010366    0.00010366]\n",
      " [   2.            2.            1.92932324 ...    0.00021492\n",
      "     0.00020733    0.00020733]\n",
      " ...\n",
      " [9997.         9997.         9643.72221425 ...    1.07428545\n",
      "     1.03632194    1.03632194]\n",
      " [9998.         9998.         9644.68687587 ...    1.07439291\n",
      "     1.0364256     1.0364256 ]\n",
      " [9999.         9999.         9645.65153749 ...    1.07450037\n",
      "     1.03652927    1.03652927]]\n",
      "[[   0.            0.            0.         ...    0.\n",
      "     0.            0.        ]\n",
      " [   1.            1.            0.96466162 ...    0.00010746\n",
      "     0.00010366    0.00010366]\n",
      " [   2.            2.            1.92932324 ...    0.00021492\n",
      "     0.00020733    0.00020733]\n",
      " ...\n",
      " [5997.         5997.         5785.07573461 ...    0.64444231\n",
      "     0.62166877    0.62166877]\n",
      " [5998.         5998.         5786.04039623 ...    0.64454978\n",
      "     0.62177243    0.62177243]\n",
      " [5999.         5999.         5787.00505785 ...    0.64465724\n",
      "     0.62187609    0.62187609]]\n"
     ]
    },
    {
     "data": {
      "text/plain": [
       "TensorShape([64, 36, 8000])"
      ]
     },
     "execution_count": 41,
     "metadata": {},
     "output_type": "execute_result"
    }
   ],
   "source": [
    "sample_transformer = Transformer(\n",
    "    num_layers=2, d_model=512, num_heads=8, dff=2048, \n",
    "    input_vocab_size=8500, target_vocab_size=8000, \n",
    "    pe_input=10000, pe_target=6000)\n",
    "\n",
    "temp_input = tf.random.uniform((64, 38), dtype=tf.int64, minval=0, maxval=200)\n",
    "temp_target = tf.random.uniform((64, 36), dtype=tf.int64, minval=0, maxval=200)\n",
    "\n",
    "fn_out, _ = sample_transformer(temp_input, temp_target, training=False, \n",
    "                               enc_padding_mask=None, \n",
    "                               look_ahead_mask=None,\n",
    "                               dec_padding_mask=None)\n",
    "\n",
    "fn_out.shape  # (batch_size, tar_seq_len, target_vocab_size)"
   ]
  },
  {
   "cell_type": "markdown",
   "metadata": {
    "id": "wsINyf1VEQLC"
   },
   "source": [
    "## Set hyperparameters"
   ]
  },
  {
   "cell_type": "markdown",
   "metadata": {
    "id": "zVjWCxFNcgbt"
   },
   "source": [
    "To keep this example small and relatively fast, the values for *num_layers, d_model, and dff* have been reduced. \n",
    "\n",
    "The values used in the base model of transformer were; *num_layers=6*, *d_model = 512*, *dff = 2048*. See the [paper](https://arxiv.org/abs/1706.03762) for all the other versions of the transformer.\n",
    "\n",
    "Note: By changing the values below, you can get the model that achieved state of the art on many tasks."
   ]
  },
  {
   "cell_type": "code",
   "execution_count": 42,
   "metadata": {
    "executionInfo": {
     "elapsed": 13,
     "status": "ok",
     "timestamp": 1677590468965,
     "user": {
      "displayName": "Михаил Демин",
      "userId": "14250540086915616791"
     },
     "user_tz": -600
    },
    "id": "lnJn5SLA2ahP"
   },
   "outputs": [],
   "source": [
    "num_layers = 4\n",
    "d_model = 128\n",
    "dff = 512\n",
    "num_heads = 8\n",
    "\n",
    "input_vocab_size = tokenizer_ru.vocab_size + 2\n",
    "target_vocab_size = tokenizer_en.vocab_size + 2\n",
    "dropout_rate = 0.1"
   ]
  },
  {
   "cell_type": "markdown",
   "metadata": {
    "id": "xYEGhEOtzn5W"
   },
   "source": [
    "## Optimizer"
   ]
  },
  {
   "cell_type": "markdown",
   "metadata": {
    "id": "GOmWW--yP3zx"
   },
   "source": [
    "Use the Adam optimizer with a custom learning rate scheduler according to the formula in the [paper](https://arxiv.org/abs/1706.03762).\n",
    "\n",
    "$$\\Large{lrate = d_{model}^{-0.5} * min(step{\\_}num^{-0.5}, step{\\_}num * warmup{\\_}steps^{-1.5})}$$\n"
   ]
  },
  {
   "cell_type": "code",
   "execution_count": 43,
   "metadata": {
    "executionInfo": {
     "elapsed": 13,
     "status": "ok",
     "timestamp": 1677590468966,
     "user": {
      "displayName": "Михаил Демин",
      "userId": "14250540086915616791"
     },
     "user_tz": -600
    },
    "id": "iYQdOO1axwEI"
   },
   "outputs": [],
   "source": [
    "class CustomSchedule(tf.keras.optimizers.schedules.LearningRateSchedule):\n",
    "  def __init__(self, d_model, warmup_steps=4000):\n",
    "    super(CustomSchedule, self).__init__()\n",
    "    \n",
    "    self.d_model = d_model\n",
    "    self.d_model = tf.cast(self.d_model, tf.float32)\n",
    "\n",
    "    self.warmup_steps = warmup_steps\n",
    "    \n",
    "  def __call__(self, step):\n",
    "    step = tf.cast(step, np.float32)\n",
    "    arg1 = tf.math.rsqrt(step)\n",
    "    arg2 = step * (self.warmup_steps ** -1.5)\n",
    "    return tf.math.rsqrt(self.d_model) * tf.math.minimum(arg1, arg2)"
   ]
  },
  {
   "cell_type": "markdown",
   "metadata": {
    "id": "zkvtTdKawj4p"
   },
   "source": []
  },
  {
   "cell_type": "code",
   "execution_count": 44,
   "metadata": {
    "executionInfo": {
     "elapsed": 13,
     "status": "ok",
     "timestamp": 1677590468966,
     "user": {
      "displayName": "Михаил Демин",
      "userId": "14250540086915616791"
     },
     "user_tz": -600
    },
    "id": "7r4scdulztRx"
   },
   "outputs": [],
   "source": [
    "learning_rate = CustomSchedule(d_model)\n",
    "optimizer = tf.keras.optimizers.Adam(learning_rate, beta_1=0.9, beta_2=0.98, epsilon=1e-9)"
   ]
  },
  {
   "cell_type": "markdown",
   "metadata": {
    "id": "Omzm9c9wyRJM"
   },
   "source": []
  },
  {
   "cell_type": "code",
   "execution_count": 45,
   "metadata": {
    "colab": {
     "base_uri": "https://localhost:8080/",
     "height": 296
    },
    "executionInfo": {
     "elapsed": 11,
     "status": "ok",
     "timestamp": 1677590468966,
     "user": {
      "displayName": "Михаил Демин",
      "userId": "14250540086915616791"
     },
     "user_tz": -600
    },
    "id": "f33ZCgvHpPdG",
    "outputId": "0a70de01-10f9-4bca-a5dd-0919035dab90"
   },
   "outputs": [
    {
     "data": {
      "text/plain": [
       "Text(0.5, 0, 'Train Step')"
      ]
     },
     "execution_count": 45,
     "metadata": {},
     "output_type": "execute_result"
    },
    {
     "data": {
      "image/png": "[encoded data removed]",
      "text/plain": [
       "<Figure size 432x288 with 1 Axes>"
      ]
     },
     "metadata": {
      "needs_background": "light"
     },
     "output_type": "display_data"
    }
   ],
   "source": [
    "temp_learning_rate_schedule = CustomSchedule(d_model)\n",
    "\n",
    "plt.plot(temp_learning_rate_schedule(tf.range(40000, dtype=tf.float32)))\n",
    "plt.ylabel(\"Learning Rate\")\n",
    "plt.xlabel(\"Train Step\")"
   ]
  },
  {
   "cell_type": "markdown",
   "metadata": {
    "id": "YgkDE7hzo8r5"
   },
   "source": [
    "## Loss and metrics"
   ]
  },
  {
   "cell_type": "markdown",
   "metadata": {
    "id": "oxGJtoDuYIHL"
   },
   "source": [
    "Since the target sequences are padded, it is important to apply a padding mask when calculating the loss."
   ]
  },
  {
   "cell_type": "code",
   "execution_count": 46,
   "metadata": {
    "executionInfo": {
     "elapsed": 8,
     "status": "ok",
     "timestamp": 1677590468966,
     "user": {
      "displayName": "Михаил Демин",
      "userId": "14250540086915616791"
     },
     "user_tz": -600
    },
    "id": "MlhsJMm0TW_B"
   },
   "outputs": [],
   "source": [
    "loss_object = tf.keras.losses.SparseCategoricalCrossentropy(\n",
    "    from_logits=True, reduction='none')"
   ]
  },
  {
   "cell_type": "code",
   "execution_count": 47,
   "metadata": {
    "executionInfo": {
     "elapsed": 9,
     "status": "ok",
     "timestamp": 1677590468967,
     "user": {
      "displayName": "Михаил Демин",
      "userId": "14250540086915616791"
     },
     "user_tz": -600
    },
    "id": "67oqVHiT0Eiu"
   },
   "outputs": [],
   "source": [
    "def loss_function(real, pred):\n",
    "  mask = tf.math.logical_not(tf.math.equal(real, 0))\n",
    "  loss_ = loss_object(real, pred)\n",
    "\n",
    "  mask = tf.cast(mask, dtype=loss_.dtype)\n",
    "  loss_ *= mask\n",
    "  \n",
    "  return tf.reduce_sum(loss_)/tf.reduce_sum(mask)\n",
    "\n",
    "\n",
    "def accuracy_function(real, pred):\n",
    "  accuracies = tf.equal(real, tf.argmax(pred, axis=2))\n",
    "  \n",
    "  mask = tf.math.logical_not(tf.math.equal(real, 0))\n",
    "  accuracies = tf.math.logical_and(mask, accuracies)\n",
    "\n",
    "  accuracies = tf.cast(accuracies, dtype=tf.float32)\n",
    "  mask = tf.cast(mask, dtype=tf.float32)\n",
    "  return tf.reduce_sum(accuracies)/tf.reduce_sum(mask)"
   ]
  },
  {
   "cell_type": "code",
   "execution_count": 48,
   "metadata": {
    "executionInfo": {
     "elapsed": 8,
     "status": "ok",
     "timestamp": 1677590468967,
     "user": {
      "displayName": "Михаил Демин",
      "userId": "14250540086915616791"
     },
     "user_tz": -600
    },
    "id": "phlyxMnm-Tpx"
   },
   "outputs": [],
   "source": [
    "train_loss = tf.keras.metrics.Mean(name='train_loss')\n",
    "train_accuracy = tf.keras.metrics.Mean(name='train_accuracy')"
   ]
  },
  {
   "cell_type": "markdown",
   "metadata": {
    "id": "aeHumfr7zmMa"
   },
   "source": [
    "## Training and checkpointing"
   ]
  },
  {
   "cell_type": "code",
   "execution_count": 49,
   "metadata": {
    "colab": {
     "base_uri": "https://localhost:8080/"
    },
    "executionInfo": {
     "elapsed": 1026,
     "status": "ok",
     "timestamp": 1677590469985,
     "user": {
      "displayName": "Михаил Демин",
      "userId": "14250540086915616791"
     },
     "user_tz": -600
    },
    "id": "UiysUa--4tOU",
    "outputId": "bbd45aa2-0b64-4d01-abe3-8186cc154436"
   },
   "outputs": [
    {
     "name": "stdout",
     "output_type": "stream",
     "text": [
      "[[   0.            0.            0.         ...    0.\n",
      "     0.            0.        ]\n",
      " [   1.            1.            0.86596432 ...    0.00013335\n",
      "     0.00011548    0.00011548]\n",
      " [   2.            2.            1.73192865 ...    0.0002667\n",
      "     0.00023096    0.00023096]\n",
      " ...\n",
      " [8178.         8178.         7081.85623644 ...    1.09055383\n",
      "     0.94438071    0.94438071]\n",
      " [8179.         8179.         7082.72220076 ...    1.09068718\n",
      "     0.94449619    0.94449619]\n",
      " [8180.         8180.         7083.58816509 ...    1.09082053\n",
      "     0.94461166    0.94461166]]\n",
      "[[   0.            0.            0.         ...    0.\n",
      "     0.            0.        ]\n",
      " [   1.            1.            0.86596432 ...    0.00013335\n",
      "     0.00011548    0.00011548]\n",
      " [   2.            2.            1.73192865 ...    0.0002667\n",
      "     0.00023096    0.00023096]\n",
      " ...\n",
      " [8244.         8244.         7139.00988178 ...    1.09935507\n",
      "     0.95200227    0.95200227]\n",
      " [8245.         8245.         7139.8758461  ...    1.09948842\n",
      "     0.95211775    0.95211775]\n",
      " [8246.         8246.         7140.74181043 ...    1.09962177\n",
      "     0.95223322    0.95223322]]\n"
     ]
    }
   ],
   "source": [
    "transformer = Transformer(num_layers, d_model, num_heads, dff,\n",
    "                          input_vocab_size, target_vocab_size, \n",
    "                          pe_input=input_vocab_size, \n",
    "                          pe_target=target_vocab_size,\n",
    "                          rate=dropout_rate)"
   ]
  },
  {
   "cell_type": "code",
   "execution_count": 50,
   "metadata": {
    "executionInfo": {
     "elapsed": 6,
     "status": "ok",
     "timestamp": 1677590469985,
     "user": {
      "displayName": "Михаил Демин",
      "userId": "14250540086915616791"
     },
     "user_tz": -600
    },
    "id": "ZOJUSB1T8GjM"
   },
   "outputs": [],
   "source": [
    "def create_masks(inp, tar):\n",
    "  # Encoder padding mask\n",
    "  enc_padding_mask = create_padding_mask(inp)\n",
    "  \n",
    "  # Used in the 2nd attention block in the decoder.\n",
    "  # This padding mask is used to mask the encoder outputs.\n",
    "  dec_padding_mask = create_padding_mask(inp)\n",
    "  \n",
    "  # Used in the 1st attention block in the decoder.\n",
    "  # It is used to pad and mask future tokens in the input received by \n",
    "  # the decoder.\n",
    "  look_ahead_mask = create_look_ahead_mask(tf.shape(tar)[1])\n",
    "  dec_target_padding_mask = create_padding_mask(tar)\n",
    "  combined_mask = tf.maximum(dec_target_padding_mask, look_ahead_mask)\n",
    "  \n",
    "  return enc_padding_mask, combined_mask, dec_padding_mask"
   ]
  },
  {
   "cell_type": "markdown",
   "metadata": {
    "id": "Fzuf06YZp66w"
   },
   "source": [
    "Create the checkpoint path and the checkpoint manager. This will be used to save checkpoints every `n` epochs."
   ]
  },
  {
   "cell_type": "code",
   "execution_count": 51,
   "metadata": {
    "executionInfo": {
     "elapsed": 6,
     "status": "ok",
     "timestamp": 1677590469986,
     "user": {
      "displayName": "Михаил Демин",
      "userId": "14250540086915616791"
     },
     "user_tz": -600
    },
    "id": "hNhuYfllndLZ"
   },
   "outputs": [],
   "source": [
    "checkpoint_path = \"./checkpoints/train\"\n",
    "\n",
    "ckpt = tf.train.Checkpoint(transformer=transformer,\n",
    "                           optimizer=optimizer)\n",
    "\n",
    "ckpt_manager = tf.train.CheckpointManager(ckpt, checkpoint_path, max_to_keep=5)\n",
    "\n",
    "# if a checkpoint exists, restore the latest checkpoint.\n",
    "if ckpt_manager.latest_checkpoint:\n",
    "  ckpt.restore(ckpt_manager.latest_checkpoint)\n",
    "  print ('Latest checkpoint restored!!')"
   ]
  },
  {
   "cell_type": "markdown",
   "metadata": {
    "id": "0Di_Yaa1gf9r"
   },
   "source": [
    "Цель делится на tar_inp и tar_real. tar_inp передается декодеру в качестве входных данных. tar_real - это тот же самый ввод, сдвинутый на 1: в каждом месте tar_input tar_real содержит следующий токен, который должен быть предсказан.\n",
    "\n",
    "Например, sentence = \"SOS Лев в джунглях спит EOS\"\n",
    "\n",
    "tar_inp = \"SOS tar_inp лев в джунглях\"\n",
    "\n",
    "tar_real = \"Лев в джунглях спит EOS\"\n",
    "\n",
    "Преобразователь - это авторегрессивная модель: он делает прогнозы по частям и использует свои выходные данные, чтобы решить, что делать дальше.\n",
    "\n",
    "Во время обучения в этом примере используется принуждение учителя (как в учебнике по созданию текста ). Принуждение учителя передает истинный результат следующему временному шагу независимо от того, что модель предсказывает на текущем временном шаге.\n",
    "\n",
    "Поскольку преобразователь предсказывает каждое слово, самовнимание позволяет ему смотреть на предыдущие слова во входной последовательности, чтобы лучше предсказать следующее слово.\n",
    "\n",
    "Чтобы модель не просматривала ожидаемый результат, в модели используется маска просмотра вперед.\n",
    "\n"
   ]
  },
  {
   "cell_type": "code",
   "execution_count": 52,
   "metadata": {
    "executionInfo": {
     "elapsed": 5,
     "status": "ok",
     "timestamp": 1677590469986,
     "user": {
      "displayName": "Михаил Демин",
      "userId": "14250540086915616791"
     },
     "user_tz": -600
    },
    "id": "LKpoA6q1sJFj"
   },
   "outputs": [],
   "source": [
    "EPOCHS = 30"
   ]
  },
  {
   "cell_type": "code",
   "execution_count": 53,
   "metadata": {
    "executionInfo": {
     "elapsed": 5,
     "status": "ok",
     "timestamp": 1677590469986,
     "user": {
      "displayName": "Михаил Демин",
      "userId": "14250540086915616791"
     },
     "user_tz": -600
    },
    "id": "iJwmp9OE29oj"
   },
   "outputs": [],
   "source": [
    "# The @tf.function trace-compiles train_step into a TF graph for faster\n",
    "# execution. The function specializes to the precise shape of the argument\n",
    "# tensors. To avoid re-tracing due to the variable sequence lengths or variable\n",
    "# batch sizes (the last batch is smaller), use input_signature to specify\n",
    "# more generic shapes.\n",
    "\n",
    "train_step_signature = [\n",
    "    tf.TensorSpec(shape=(None, None), dtype=tf.int64),\n",
    "    tf.TensorSpec(shape=(None, None), dtype=tf.int64),\n",
    "]\n",
    "\n",
    "@tf.function(input_signature=train_step_signature)\n",
    "def train_step(inp, tar):\n",
    "  tar_inp = tar[:, :-1]\n",
    "  tar_real = tar[:, 1:]\n",
    "  \n",
    "  enc_padding_mask, combined_mask, dec_padding_mask = create_masks(inp, tar_inp)\n",
    "  \n",
    "  with tf.GradientTape() as tape:\n",
    "    predictions, _ = transformer(inp, tar_inp, \n",
    "                                 True, \n",
    "                                 enc_padding_mask, \n",
    "                                 combined_mask, \n",
    "                                 dec_padding_mask)\n",
    "    loss = loss_function(tar_real, predictions)\n",
    "\n",
    "  gradients = tape.gradient(loss, transformer.trainable_variables)    \n",
    "  optimizer.apply_gradients(zip(gradients, transformer.trainable_variables))\n",
    "  \n",
    "  train_loss(loss)\n",
    "  train_accuracy(accuracy_function(tar_real, predictions))"
   ]
  },
  {
   "cell_type": "markdown",
   "metadata": {
    "id": "qM2PDWGDJ_8V"
   },
   "source": [
    "Ru is used as the input language and English is the target language."
   ]
  },
  {
   "cell_type": "code",
   "execution_count": 54,
   "metadata": {
    "colab": {
     "base_uri": "https://localhost:8080/"
    },
    "executionInfo": {
     "elapsed": 5244630,
     "status": "ok",
     "timestamp": 1677595714611,
     "user": {
      "displayName": "Михаил Демин",
      "userId": "14250540086915616791"
     },
     "user_tz": -600
    },
    "id": "bbvmaKNiznHZ",
    "outputId": "931134f8-ea61-4d05-e8be-1fec354ec269"
   },
   "outputs": [
    {
     "name": "stdout",
     "output_type": "stream",
     "text": [
      "Epoch 1 Batch 0 Loss 9.0270 Accuracy 0.0000\n",
      "Epoch 1 Batch 50 Loss 8.9683 Accuracy 0.0071\n",
      "Epoch 1 Batch 100 Loss 8.8804 Accuracy 0.0294\n",
      "Epoch 1 Batch 150 Loss 8.7808 Accuracy 0.0375\n",
      "Epoch 1 Batch 200 Loss 8.6539 Accuracy 0.0416\n",
      "Epoch 1 Batch 250 Loss 8.5014 Accuracy 0.0441\n",
      "Epoch 1 Batch 300 Loss 8.3261 Accuracy 0.0467\n",
      "Epoch 1 Batch 350 Loss 8.1401 Accuracy 0.0542\n",
      "Epoch 1 Batch 400 Loss 7.9567 Accuracy 0.0624\n",
      "Epoch 1 Batch 450 Loss 7.7903 Accuracy 0.0694\n",
      "Epoch 1 Batch 500 Loss 7.6417 Accuracy 0.0766\n",
      "Epoch 1 Batch 550 Loss 7.5056 Accuracy 0.0842\n",
      "Epoch 1 Batch 600 Loss 7.3788 Accuracy 0.0916\n",
      "Epoch 1 Batch 650 Loss 7.2567 Accuracy 0.0990\n",
      "Epoch 1 Batch 700 Loss 7.1394 Accuracy 0.1064\n",
      "Epoch 1 Batch 750 Loss 7.0294 Accuracy 0.1135\n",
      "Epoch 1 Batch 800 Loss 6.9251 Accuracy 0.1202\n",
      "Epoch 1 Batch 850 Loss 6.8291 Accuracy 0.1267\n",
      "Epoch 1 Batch 900 Loss 6.7370 Accuracy 0.1329\n",
      "Epoch 1 Batch 950 Loss 6.6508 Accuracy 0.1389\n",
      "Epoch 1 Batch 1000 Loss 6.5717 Accuracy 0.1445\n",
      "Epoch 1 Batch 1050 Loss 6.4984 Accuracy 0.1499\n",
      "Epoch 1 Batch 1100 Loss 6.4291 Accuracy 0.1550\n",
      "Epoch 1 Batch 1150 Loss 6.3637 Accuracy 0.1599\n",
      "Epoch 1 Batch 1200 Loss 6.3011 Accuracy 0.1647\n",
      "Epoch 1 Batch 1250 Loss 6.2442 Accuracy 0.1691\n",
      "Epoch 1 Batch 1300 Loss 6.1898 Accuracy 0.1731\n",
      "Epoch 1 Batch 1350 Loss 6.1379 Accuracy 0.1771\n",
      "Epoch 1 Batch 1400 Loss 6.0892 Accuracy 0.1808\n",
      "Epoch 1 Batch 1450 Loss 6.0426 Accuracy 0.1844\n",
      "Epoch 1 Batch 1500 Loss 5.9971 Accuracy 0.1878\n",
      "Epoch 1 Batch 1550 Loss 5.9543 Accuracy 0.1911\n",
      "Epoch 1 Batch 1600 Loss 5.9140 Accuracy 0.1943\n",
      "Epoch 1 Batch 1650 Loss 5.8749 Accuracy 0.1973\n",
      "Epoch 1 Batch 1700 Loss 5.8381 Accuracy 0.2002\n",
      "Epoch 1 Batch 1750 Loss 5.8019 Accuracy 0.2031\n",
      "Epoch 1 Batch 1800 Loss 5.7673 Accuracy 0.2057\n",
      "Epoch 1 Batch 1850 Loss 5.7346 Accuracy 0.2083\n",
      "Epoch 1 Batch 1900 Loss 5.7029 Accuracy 0.2108\n",
      "Epoch 1 Batch 1950 Loss 5.6726 Accuracy 0.2131\n",
      "Epoch 1 Batch 2000 Loss 5.6434 Accuracy 0.2154\n",
      "Epoch 1 Batch 2050 Loss 5.6151 Accuracy 0.2176\n",
      "Epoch 1 Batch 2100 Loss 5.5876 Accuracy 0.2197\n",
      "Epoch 1 Batch 2150 Loss 5.5611 Accuracy 0.2218\n",
      "Epoch 1 Batch 2200 Loss 5.5350 Accuracy 0.2239\n",
      "Epoch 1 Batch 2250 Loss 5.5098 Accuracy 0.2259\n",
      "Epoch 1 Batch 2300 Loss 5.4851 Accuracy 0.2278\n",
      "Epoch 1 Batch 2350 Loss 5.4610 Accuracy 0.2297\n",
      "Epoch 1 Batch 2400 Loss 5.4386 Accuracy 0.2314\n",
      "Epoch 1 Batch 2450 Loss 5.4163 Accuracy 0.2332\n",
      "Epoch 1 Batch 2500 Loss 5.3949 Accuracy 0.2349\n",
      "Epoch 1 Batch 2550 Loss 5.3735 Accuracy 0.2366\n",
      "Epoch 1 Batch 2600 Loss 5.3529 Accuracy 0.2381\n",
      "Epoch 1 Loss 5.3431 Accuracy 0.2389\n",
      "Time taken for 1 epoch: 459.5653419494629 secs\n",
      "\n",
      "Epoch 2 Batch 0 Loss 4.3040 Accuracy 0.3121\n",
      "Epoch 2 Batch 50 Loss 4.2572 Accuracy 0.3245\n",
      "Epoch 2 Batch 100 Loss 4.2546 Accuracy 0.3249\n",
      "Epoch 2 Batch 150 Loss 4.2314 Accuracy 0.3280\n",
      "Epoch 2 Batch 200 Loss 4.2286 Accuracy 0.3284\n",
      "Epoch 2 Batch 250 Loss 4.2227 Accuracy 0.3285\n",
      "Epoch 2 Batch 300 Loss 4.2127 Accuracy 0.3299\n",
      "Epoch 2 Batch 350 Loss 4.2020 Accuracy 0.3310\n",
      "Epoch 2 Batch 400 Loss 4.1966 Accuracy 0.3311\n",
      "Epoch 2 Batch 450 Loss 4.1887 Accuracy 0.3318\n",
      "Epoch 2 Batch 500 Loss 4.1787 Accuracy 0.3329\n",
      "Epoch 2 Batch 550 Loss 4.1691 Accuracy 0.3340\n",
      "Epoch 2 Batch 600 Loss 4.1606 Accuracy 0.3346\n",
      "Epoch 2 Batch 650 Loss 4.1521 Accuracy 0.3354\n",
      "Epoch 2 Batch 700 Loss 4.1453 Accuracy 0.3361\n",
      "Epoch 2 Batch 750 Loss 4.1364 Accuracy 0.3370\n",
      "Epoch 2 Batch 800 Loss 4.1287 Accuracy 0.3378\n",
      "Epoch 2 Batch 850 Loss 4.1188 Accuracy 0.3387\n",
      "Epoch 2 Batch 900 Loss 4.1101 Accuracy 0.3396\n",
      "Epoch 2 Batch 950 Loss 4.1014 Accuracy 0.3404\n",
      "Epoch 2 Batch 1000 Loss 4.0925 Accuracy 0.3413\n",
      "Epoch 2 Batch 1050 Loss 4.0849 Accuracy 0.3422\n",
      "Epoch 2 Batch 1100 Loss 4.0773 Accuracy 0.3430\n",
      "Epoch 2 Batch 1150 Loss 4.0696 Accuracy 0.3438\n",
      "Epoch 2 Batch 1200 Loss 4.0613 Accuracy 0.3447\n",
      "Epoch 2 Batch 1250 Loss 4.0533 Accuracy 0.3455\n",
      "Epoch 2 Batch 1300 Loss 4.0465 Accuracy 0.3462\n",
      "Epoch 2 Batch 1350 Loss 4.0388 Accuracy 0.3470\n",
      "Epoch 2 Batch 1400 Loss 4.0315 Accuracy 0.3478\n",
      "Epoch 2 Batch 1450 Loss 4.0231 Accuracy 0.3487\n",
      "Epoch 2 Batch 1500 Loss 4.0149 Accuracy 0.3497\n",
      "Epoch 2 Batch 1550 Loss 4.0075 Accuracy 0.3505\n",
      "Epoch 2 Batch 1600 Loss 3.9988 Accuracy 0.3514\n",
      "Epoch 2 Batch 1650 Loss 3.9918 Accuracy 0.3522\n",
      "Epoch 2 Batch 1700 Loss 3.9840 Accuracy 0.3531\n",
      "Epoch 2 Batch 1750 Loss 3.9766 Accuracy 0.3539\n",
      "Epoch 2 Batch 1800 Loss 3.9697 Accuracy 0.3546\n",
      "Epoch 2 Batch 1850 Loss 3.9612 Accuracy 0.3555\n",
      "Epoch 2 Batch 1900 Loss 3.9532 Accuracy 0.3564\n",
      "Epoch 2 Batch 1950 Loss 3.9463 Accuracy 0.3571\n",
      "Epoch 2 Batch 2000 Loss 3.9395 Accuracy 0.3578\n",
      "Epoch 2 Batch 2050 Loss 3.9318 Accuracy 0.3587\n",
      "Epoch 2 Batch 2100 Loss 3.9240 Accuracy 0.3595\n",
      "Epoch 2 Batch 2150 Loss 3.9166 Accuracy 0.3603\n",
      "Epoch 2 Batch 2200 Loss 3.9088 Accuracy 0.3612\n",
      "Epoch 2 Batch 2250 Loss 3.9015 Accuracy 0.3620\n",
      "Epoch 2 Batch 2300 Loss 3.8936 Accuracy 0.3628\n",
      "Epoch 2 Batch 2350 Loss 3.8856 Accuracy 0.3637\n",
      "Epoch 2 Batch 2400 Loss 3.8785 Accuracy 0.3645\n",
      "Epoch 2 Batch 2450 Loss 3.8709 Accuracy 0.3653\n",
      "Epoch 2 Batch 2500 Loss 3.8636 Accuracy 0.3661\n",
      "Epoch 2 Batch 2550 Loss 3.8565 Accuracy 0.3668\n",
      "Epoch 2 Batch 2600 Loss 3.8496 Accuracy 0.3675\n",
      "Epoch 2 Loss 3.8464 Accuracy 0.3678\n",
      "Time taken for 1 epoch: 168.79296350479126 secs\n",
      "\n",
      "Epoch 3 Batch 0 Loss 3.4976 Accuracy 0.4137\n",
      "Epoch 3 Batch 50 Loss 3.4484 Accuracy 0.4115\n",
      "Epoch 3 Batch 100 Loss 3.4298 Accuracy 0.4131\n",
      "Epoch 3 Batch 150 Loss 3.4242 Accuracy 0.4133\n",
      "Epoch 3 Batch 200 Loss 3.4107 Accuracy 0.4145\n",
      "Epoch 3 Batch 250 Loss 3.4083 Accuracy 0.4147\n",
      "Epoch 3 Batch 300 Loss 3.4092 Accuracy 0.4145\n",
      "Epoch 3 Batch 350 Loss 3.4042 Accuracy 0.4152\n",
      "Epoch 3 Batch 400 Loss 3.4020 Accuracy 0.4154\n",
      "Epoch 3 Batch 450 Loss 3.3972 Accuracy 0.4159\n",
      "Epoch 3 Batch 500 Loss 3.3909 Accuracy 0.4165\n",
      "Epoch 3 Batch 550 Loss 3.3835 Accuracy 0.4175\n",
      "Epoch 3 Batch 600 Loss 3.3772 Accuracy 0.4181\n",
      "Epoch 3 Batch 650 Loss 3.3715 Accuracy 0.4188\n",
      "Epoch 3 Batch 700 Loss 3.3656 Accuracy 0.4194\n",
      "Epoch 3 Batch 750 Loss 3.3610 Accuracy 0.4199\n",
      "Epoch 3 Batch 800 Loss 3.3558 Accuracy 0.4205\n",
      "Epoch 3 Batch 850 Loss 3.3511 Accuracy 0.4209\n",
      "Epoch 3 Batch 900 Loss 3.3443 Accuracy 0.4217\n",
      "Epoch 3 Batch 950 Loss 3.3387 Accuracy 0.4222\n",
      "Epoch 3 Batch 1000 Loss 3.3343 Accuracy 0.4226\n",
      "Epoch 3 Batch 1050 Loss 3.3290 Accuracy 0.4233\n",
      "Epoch 3 Batch 1100 Loss 3.3243 Accuracy 0.4237\n",
      "Epoch 3 Batch 1150 Loss 3.3184 Accuracy 0.4244\n",
      "Epoch 3 Batch 1200 Loss 3.3134 Accuracy 0.4251\n",
      "Epoch 3 Batch 1250 Loss 3.3093 Accuracy 0.4256\n",
      "Epoch 3 Batch 1300 Loss 3.3051 Accuracy 0.4260\n",
      "Epoch 3 Batch 1350 Loss 3.2993 Accuracy 0.4268\n",
      "Epoch 3 Batch 1400 Loss 3.2946 Accuracy 0.4273\n",
      "Epoch 3 Batch 1450 Loss 3.2892 Accuracy 0.4278\n",
      "Epoch 3 Batch 1500 Loss 3.2851 Accuracy 0.4283\n",
      "Epoch 3 Batch 1550 Loss 3.2794 Accuracy 0.4290\n",
      "Epoch 3 Batch 1600 Loss 3.2738 Accuracy 0.4296\n",
      "Epoch 3 Batch 1650 Loss 3.2696 Accuracy 0.4301\n",
      "Epoch 3 Batch 1700 Loss 3.2654 Accuracy 0.4306\n",
      "Epoch 3 Batch 1750 Loss 3.2610 Accuracy 0.4311\n",
      "Epoch 3 Batch 1800 Loss 3.2569 Accuracy 0.4315\n",
      "Epoch 3 Batch 1850 Loss 3.2531 Accuracy 0.4320\n",
      "Epoch 3 Batch 1900 Loss 3.2487 Accuracy 0.4325\n",
      "Epoch 3 Batch 1950 Loss 3.2441 Accuracy 0.4330\n",
      "Epoch 3 Batch 2000 Loss 3.2399 Accuracy 0.4334\n",
      "Epoch 3 Batch 2050 Loss 3.2355 Accuracy 0.4340\n",
      "Epoch 3 Batch 2100 Loss 3.2316 Accuracy 0.4345\n",
      "Epoch 3 Batch 2150 Loss 3.2280 Accuracy 0.4348\n",
      "Epoch 3 Batch 2200 Loss 3.2240 Accuracy 0.4353\n",
      "Epoch 3 Batch 2250 Loss 3.2203 Accuracy 0.4357\n",
      "Epoch 3 Batch 2300 Loss 3.2157 Accuracy 0.4362\n",
      "Epoch 3 Batch 2350 Loss 3.2117 Accuracy 0.4366\n",
      "Epoch 3 Batch 2400 Loss 3.2074 Accuracy 0.4371\n",
      "Epoch 3 Batch 2450 Loss 3.2036 Accuracy 0.4375\n",
      "Epoch 3 Batch 2500 Loss 3.1995 Accuracy 0.4380\n",
      "Epoch 3 Batch 2550 Loss 3.1957 Accuracy 0.4384\n",
      "Epoch 3 Batch 2600 Loss 3.1916 Accuracy 0.4389\n",
      "Epoch 3 Loss 3.1898 Accuracy 0.4391\n",
      "Time taken for 1 epoch: 168.00084686279297 secs\n",
      "\n",
      "Epoch 4 Batch 0 Loss 2.9400 Accuracy 0.4812\n",
      "Epoch 4 Batch 50 Loss 2.9496 Accuracy 0.4634\n",
      "Epoch 4 Batch 100 Loss 2.9593 Accuracy 0.4632\n",
      "Epoch 4 Batch 150 Loss 2.9623 Accuracy 0.4631\n",
      "Epoch 4 Batch 200 Loss 2.9570 Accuracy 0.4638\n",
      "Epoch 4 Batch 250 Loss 2.9467 Accuracy 0.4656\n",
      "Epoch 4 Batch 300 Loss 2.9450 Accuracy 0.4658\n",
      "Epoch 4 Batch 350 Loss 2.9390 Accuracy 0.4666\n",
      "Epoch 4 Batch 400 Loss 2.9405 Accuracy 0.4666\n",
      "Epoch 4 Batch 450 Loss 2.9374 Accuracy 0.4670\n",
      "Epoch 4 Batch 500 Loss 2.9346 Accuracy 0.4675\n",
      "Epoch 4 Batch 550 Loss 2.9332 Accuracy 0.4677\n",
      "Epoch 4 Batch 600 Loss 2.9308 Accuracy 0.4683\n",
      "Epoch 4 Batch 650 Loss 2.9261 Accuracy 0.4687\n",
      "Epoch 4 Batch 700 Loss 2.9227 Accuracy 0.4693\n",
      "Epoch 4 Batch 750 Loss 2.9193 Accuracy 0.4696\n",
      "Epoch 4 Batch 800 Loss 2.9169 Accuracy 0.4701\n",
      "Epoch 4 Batch 850 Loss 2.9142 Accuracy 0.4704\n",
      "Epoch 4 Batch 900 Loss 2.9111 Accuracy 0.4708\n",
      "Epoch 4 Batch 950 Loss 2.9082 Accuracy 0.4712\n",
      "Epoch 4 Batch 1000 Loss 2.9071 Accuracy 0.4712\n",
      "Epoch 4 Batch 1050 Loss 2.9043 Accuracy 0.4716\n",
      "Epoch 4 Batch 1100 Loss 2.9009 Accuracy 0.4719\n",
      "Epoch 4 Batch 1150 Loss 2.8995 Accuracy 0.4722\n",
      "Epoch 4 Batch 1200 Loss 2.8973 Accuracy 0.4724\n",
      "Epoch 4 Batch 1250 Loss 2.8958 Accuracy 0.4725\n",
      "Epoch 4 Batch 1300 Loss 2.8923 Accuracy 0.4729\n",
      "Epoch 4 Batch 1350 Loss 2.8896 Accuracy 0.4732\n",
      "Epoch 4 Batch 1400 Loss 2.8872 Accuracy 0.4736\n",
      "Epoch 4 Batch 1450 Loss 2.8845 Accuracy 0.4739\n",
      "Epoch 4 Batch 1500 Loss 2.8821 Accuracy 0.4742\n",
      "Epoch 4 Batch 1550 Loss 2.8796 Accuracy 0.4746\n",
      "Epoch 4 Batch 1600 Loss 2.8771 Accuracy 0.4749\n",
      "Epoch 4 Batch 1650 Loss 2.8746 Accuracy 0.4752\n",
      "Epoch 4 Batch 1700 Loss 2.8722 Accuracy 0.4755\n",
      "Epoch 4 Batch 1750 Loss 2.8702 Accuracy 0.4756\n",
      "Epoch 4 Batch 1800 Loss 2.8685 Accuracy 0.4758\n",
      "Epoch 4 Batch 1850 Loss 2.8664 Accuracy 0.4760\n",
      "Epoch 4 Batch 1900 Loss 2.8643 Accuracy 0.4763\n",
      "Epoch 4 Batch 1950 Loss 2.8620 Accuracy 0.4766\n",
      "Epoch 4 Batch 2000 Loss 2.8604 Accuracy 0.4769\n",
      "Epoch 4 Batch 2050 Loss 2.8579 Accuracy 0.4772\n",
      "Epoch 4 Batch 2100 Loss 2.8555 Accuracy 0.4775\n",
      "Epoch 4 Batch 2150 Loss 2.8533 Accuracy 0.4778\n",
      "Epoch 4 Batch 2200 Loss 2.8513 Accuracy 0.4780\n",
      "Epoch 4 Batch 2250 Loss 2.8491 Accuracy 0.4783\n",
      "Epoch 4 Batch 2300 Loss 2.8471 Accuracy 0.4785\n",
      "Epoch 4 Batch 2350 Loss 2.8448 Accuracy 0.4787\n",
      "Epoch 4 Batch 2400 Loss 2.8430 Accuracy 0.4789\n",
      "Epoch 4 Batch 2450 Loss 2.8412 Accuracy 0.4791\n",
      "Epoch 4 Batch 2500 Loss 2.8389 Accuracy 0.4793\n",
      "Epoch 4 Batch 2550 Loss 2.8368 Accuracy 0.4796\n",
      "Epoch 4 Batch 2600 Loss 2.8347 Accuracy 0.4798\n",
      "Epoch 4 Loss 2.8337 Accuracy 0.4800\n",
      "Time taken for 1 epoch: 166.4137783050537 secs\n",
      "\n",
      "Epoch 5 Batch 0 Loss 2.7361 Accuracy 0.4794\n",
      "Epoch 5 Batch 50 Loss 2.7026 Accuracy 0.4932\n",
      "Epoch 5 Batch 100 Loss 2.6988 Accuracy 0.4946\n",
      "Epoch 5 Batch 150 Loss 2.6996 Accuracy 0.4950\n",
      "Epoch 5 Batch 200 Loss 2.7022 Accuracy 0.4953\n",
      "Epoch 5 Batch 250 Loss 2.6992 Accuracy 0.4958\n",
      "Epoch 5 Batch 300 Loss 2.6946 Accuracy 0.4961\n",
      "Epoch 5 Batch 350 Loss 2.6904 Accuracy 0.4965\n",
      "Epoch 5 Batch 400 Loss 2.6867 Accuracy 0.4973\n",
      "Epoch 5 Batch 450 Loss 2.6850 Accuracy 0.4975\n",
      "Epoch 5 Batch 500 Loss 2.6860 Accuracy 0.4975\n",
      "Epoch 5 Batch 550 Loss 2.6842 Accuracy 0.4977\n",
      "Epoch 5 Batch 600 Loss 2.6847 Accuracy 0.4976\n",
      "Epoch 5 Batch 650 Loss 2.6844 Accuracy 0.4977\n",
      "Epoch 5 Batch 700 Loss 2.6831 Accuracy 0.4979\n",
      "Epoch 5 Batch 750 Loss 2.6811 Accuracy 0.4982\n",
      "Epoch 5 Batch 800 Loss 2.6796 Accuracy 0.4985\n",
      "Epoch 5 Batch 850 Loss 2.6780 Accuracy 0.4987\n",
      "Epoch 5 Batch 900 Loss 2.6780 Accuracy 0.4986\n",
      "Epoch 5 Batch 950 Loss 2.6768 Accuracy 0.4988\n",
      "Epoch 5 Batch 1000 Loss 2.6751 Accuracy 0.4990\n",
      "Epoch 5 Batch 1050 Loss 2.6737 Accuracy 0.4991\n",
      "Epoch 5 Batch 1100 Loss 2.6705 Accuracy 0.4996\n",
      "Epoch 5 Batch 1150 Loss 2.6697 Accuracy 0.4997\n",
      "Epoch 5 Batch 1200 Loss 2.6693 Accuracy 0.4998\n",
      "Epoch 5 Batch 1250 Loss 2.6680 Accuracy 0.5001\n",
      "Epoch 5 Batch 1300 Loss 2.6658 Accuracy 0.5004\n",
      "Epoch 5 Batch 1350 Loss 2.6641 Accuracy 0.5005\n",
      "Epoch 5 Batch 1400 Loss 2.6631 Accuracy 0.5007\n",
      "Epoch 5 Batch 1450 Loss 2.6625 Accuracy 0.5008\n",
      "Epoch 5 Batch 1500 Loss 2.6614 Accuracy 0.5009\n",
      "Epoch 5 Batch 1550 Loss 2.6601 Accuracy 0.5011\n",
      "Epoch 5 Batch 1600 Loss 2.6599 Accuracy 0.5010\n",
      "Epoch 5 Batch 1650 Loss 2.6583 Accuracy 0.5013\n",
      "Epoch 5 Batch 1700 Loss 2.6566 Accuracy 0.5014\n",
      "Epoch 5 Batch 1750 Loss 2.6552 Accuracy 0.5016\n",
      "Epoch 5 Batch 1800 Loss 2.6538 Accuracy 0.5017\n",
      "Epoch 5 Batch 1850 Loss 2.6520 Accuracy 0.5020\n",
      "Epoch 5 Batch 1900 Loss 2.6511 Accuracy 0.5021\n",
      "Epoch 5 Batch 1950 Loss 2.6495 Accuracy 0.5022\n",
      "Epoch 5 Batch 2000 Loss 2.6483 Accuracy 0.5024\n",
      "Epoch 5 Batch 2050 Loss 2.6472 Accuracy 0.5025\n",
      "Epoch 5 Batch 2100 Loss 2.6463 Accuracy 0.5026\n",
      "Epoch 5 Batch 2150 Loss 2.6454 Accuracy 0.5027\n",
      "Epoch 5 Batch 2200 Loss 2.6438 Accuracy 0.5029\n",
      "Epoch 5 Batch 2250 Loss 2.6436 Accuracy 0.5029\n",
      "Epoch 5 Batch 2300 Loss 2.6428 Accuracy 0.5030\n",
      "Epoch 5 Batch 2350 Loss 2.6412 Accuracy 0.5032\n",
      "Epoch 5 Batch 2400 Loss 2.6403 Accuracy 0.5032\n",
      "Epoch 5 Batch 2450 Loss 2.6384 Accuracy 0.5034\n",
      "Epoch 5 Batch 2500 Loss 2.6377 Accuracy 0.5036\n",
      "Epoch 5 Batch 2550 Loss 2.6368 Accuracy 0.5037\n",
      "Epoch 5 Batch 2600 Loss 2.6356 Accuracy 0.5038\n",
      "Saving checkpoint for epoch 5 at ./checkpoints/train/ckpt-1\n",
      "Epoch 5 Loss 2.6351 Accuracy 0.5038\n",
      "Time taken for 1 epoch: 165.43188905715942 secs\n",
      "\n",
      "Epoch 6 Batch 0 Loss 2.4198 Accuracy 0.5409\n",
      "Epoch 6 Batch 50 Loss 2.5444 Accuracy 0.5153\n",
      "Epoch 6 Batch 100 Loss 2.5447 Accuracy 0.5135\n",
      "Epoch 6 Batch 150 Loss 2.5395 Accuracy 0.5138\n",
      "Epoch 6 Batch 200 Loss 2.5340 Accuracy 0.5145\n",
      "Epoch 6 Batch 250 Loss 2.5346 Accuracy 0.5146\n",
      "Epoch 6 Batch 300 Loss 2.5374 Accuracy 0.5146\n",
      "Epoch 6 Batch 350 Loss 2.5377 Accuracy 0.5143\n",
      "Epoch 6 Batch 400 Loss 2.5418 Accuracy 0.5141\n",
      "Epoch 6 Batch 450 Loss 2.5410 Accuracy 0.5144\n",
      "Epoch 6 Batch 500 Loss 2.5404 Accuracy 0.5145\n",
      "Epoch 6 Batch 550 Loss 2.5378 Accuracy 0.5150\n",
      "Epoch 6 Batch 600 Loss 2.5371 Accuracy 0.5153\n",
      "Epoch 6 Batch 650 Loss 2.5351 Accuracy 0.5157\n",
      "Epoch 6 Batch 700 Loss 2.5358 Accuracy 0.5156\n",
      "Epoch 6 Batch 750 Loss 2.5358 Accuracy 0.5157\n",
      "Epoch 6 Batch 800 Loss 2.5356 Accuracy 0.5155\n",
      "Epoch 6 Batch 850 Loss 2.5353 Accuracy 0.5156\n",
      "Epoch 6 Batch 900 Loss 2.5353 Accuracy 0.5155\n",
      "Epoch 6 Batch 950 Loss 2.5336 Accuracy 0.5158\n",
      "Epoch 6 Batch 1000 Loss 2.5326 Accuracy 0.5160\n",
      "Epoch 6 Batch 1050 Loss 2.5309 Accuracy 0.5162\n",
      "Epoch 6 Batch 1100 Loss 2.5321 Accuracy 0.5161\n",
      "Epoch 6 Batch 1150 Loss 2.5305 Accuracy 0.5164\n",
      "Epoch 6 Batch 1200 Loss 2.5286 Accuracy 0.5166\n",
      "Epoch 6 Batch 1250 Loss 2.5282 Accuracy 0.5166\n",
      "Epoch 6 Batch 1300 Loss 2.5271 Accuracy 0.5168\n",
      "Epoch 6 Batch 1350 Loss 2.5262 Accuracy 0.5169\n",
      "Epoch 6 Batch 1400 Loss 2.5249 Accuracy 0.5171\n",
      "Epoch 6 Batch 1450 Loss 2.5234 Accuracy 0.5173\n",
      "Epoch 6 Batch 1500 Loss 2.5232 Accuracy 0.5174\n",
      "Epoch 6 Batch 1550 Loss 2.5229 Accuracy 0.5174\n",
      "Epoch 6 Batch 1600 Loss 2.5220 Accuracy 0.5175\n",
      "Epoch 6 Batch 1650 Loss 2.5210 Accuracy 0.5177\n",
      "Epoch 6 Batch 1700 Loss 2.5207 Accuracy 0.5178\n",
      "Epoch 6 Batch 1750 Loss 2.5196 Accuracy 0.5179\n",
      "Epoch 6 Batch 1800 Loss 2.5191 Accuracy 0.5180\n",
      "Epoch 6 Batch 1850 Loss 2.5183 Accuracy 0.5181\n",
      "Epoch 6 Batch 1900 Loss 2.5175 Accuracy 0.5182\n",
      "Epoch 6 Batch 1950 Loss 2.5162 Accuracy 0.5184\n",
      "Epoch 6 Batch 2000 Loss 2.5159 Accuracy 0.5185\n",
      "Epoch 6 Batch 2050 Loss 2.5149 Accuracy 0.5186\n",
      "Epoch 6 Batch 2100 Loss 2.5142 Accuracy 0.5187\n",
      "Epoch 6 Batch 2150 Loss 2.5136 Accuracy 0.5188\n",
      "Epoch 6 Batch 2200 Loss 2.5133 Accuracy 0.5188\n",
      "Epoch 6 Batch 2250 Loss 2.5122 Accuracy 0.5190\n",
      "Epoch 6 Batch 2300 Loss 2.5115 Accuracy 0.5191\n",
      "Epoch 6 Batch 2350 Loss 2.5107 Accuracy 0.5192\n",
      "Epoch 6 Batch 2400 Loss 2.5100 Accuracy 0.5192\n",
      "Epoch 6 Batch 2450 Loss 2.5091 Accuracy 0.5193\n",
      "Epoch 6 Batch 2500 Loss 2.5087 Accuracy 0.5194\n",
      "Epoch 6 Batch 2550 Loss 2.5082 Accuracy 0.5194\n",
      "Epoch 6 Batch 2600 Loss 2.5079 Accuracy 0.5195\n",
      "Epoch 6 Loss 2.5073 Accuracy 0.5195\n",
      "Time taken for 1 epoch: 165.34186220169067 secs\n",
      "\n",
      "Epoch 7 Batch 0 Loss 2.4194 Accuracy 0.5334\n",
      "Epoch 7 Batch 50 Loss 2.4346 Accuracy 0.5298\n",
      "Epoch 7 Batch 100 Loss 2.4300 Accuracy 0.5285\n",
      "Epoch 7 Batch 150 Loss 2.4285 Accuracy 0.5293\n",
      "Epoch 7 Batch 200 Loss 2.4370 Accuracy 0.5276\n",
      "Epoch 7 Batch 250 Loss 2.4400 Accuracy 0.5277\n",
      "Epoch 7 Batch 300 Loss 2.4407 Accuracy 0.5276\n",
      "Epoch 7 Batch 350 Loss 2.4408 Accuracy 0.5276\n",
      "Epoch 7 Batch 400 Loss 2.4397 Accuracy 0.5276\n",
      "Epoch 7 Batch 450 Loss 2.4377 Accuracy 0.5277\n",
      "Epoch 7 Batch 500 Loss 2.4361 Accuracy 0.5280\n",
      "Epoch 7 Batch 550 Loss 2.4357 Accuracy 0.5280\n",
      "Epoch 7 Batch 600 Loss 2.4362 Accuracy 0.5279\n",
      "Epoch 7 Batch 650 Loss 2.4359 Accuracy 0.5279\n",
      "Epoch 7 Batch 700 Loss 2.4355 Accuracy 0.5279\n",
      "Epoch 7 Batch 750 Loss 2.4363 Accuracy 0.5278\n",
      "Epoch 7 Batch 800 Loss 2.4354 Accuracy 0.5280\n",
      "Epoch 7 Batch 850 Loss 2.4346 Accuracy 0.5281\n",
      "Epoch 7 Batch 900 Loss 2.4355 Accuracy 0.5281\n",
      "Epoch 7 Batch 950 Loss 2.4344 Accuracy 0.5282\n",
      "Epoch 7 Batch 1000 Loss 2.4334 Accuracy 0.5284\n",
      "Epoch 7 Batch 1050 Loss 2.4330 Accuracy 0.5286\n",
      "Epoch 7 Batch 1100 Loss 2.4309 Accuracy 0.5288\n",
      "Epoch 7 Batch 1150 Loss 2.4310 Accuracy 0.5288\n",
      "Epoch 7 Batch 1200 Loss 2.4304 Accuracy 0.5290\n",
      "Epoch 7 Batch 1250 Loss 2.4292 Accuracy 0.5292\n",
      "Epoch 7 Batch 1300 Loss 2.4284 Accuracy 0.5295\n",
      "Epoch 7 Batch 1350 Loss 2.4272 Accuracy 0.5297\n",
      "Epoch 7 Batch 1400 Loss 2.4264 Accuracy 0.5298\n",
      "Epoch 7 Batch 1450 Loss 2.4261 Accuracy 0.5299\n",
      "Epoch 7 Batch 1500 Loss 2.4255 Accuracy 0.5300\n",
      "Epoch 7 Batch 1550 Loss 2.4253 Accuracy 0.5299\n",
      "Epoch 7 Batch 1600 Loss 2.4249 Accuracy 0.5300\n",
      "Epoch 7 Batch 1650 Loss 2.4243 Accuracy 0.5301\n",
      "Epoch 7 Batch 1700 Loss 2.4234 Accuracy 0.5302\n",
      "Epoch 7 Batch 1750 Loss 2.4229 Accuracy 0.5303\n",
      "Epoch 7 Batch 1800 Loss 2.4226 Accuracy 0.5303\n",
      "Epoch 7 Batch 1850 Loss 2.4221 Accuracy 0.5304\n",
      "Epoch 7 Batch 1900 Loss 2.4218 Accuracy 0.5304\n",
      "Epoch 7 Batch 1950 Loss 2.4211 Accuracy 0.5305\n",
      "Epoch 7 Batch 2000 Loss 2.4208 Accuracy 0.5306\n",
      "Epoch 7 Batch 2050 Loss 2.4198 Accuracy 0.5307\n",
      "Epoch 7 Batch 2100 Loss 2.4200 Accuracy 0.5306\n",
      "Epoch 7 Batch 2150 Loss 2.4196 Accuracy 0.5307\n",
      "Epoch 7 Batch 2200 Loss 2.4182 Accuracy 0.5309\n",
      "Epoch 7 Batch 2250 Loss 2.4179 Accuracy 0.5309\n",
      "Epoch 7 Batch 2300 Loss 2.4175 Accuracy 0.5310\n",
      "Epoch 7 Batch 2350 Loss 2.4170 Accuracy 0.5310\n",
      "Epoch 7 Batch 2400 Loss 2.4166 Accuracy 0.5311\n",
      "Epoch 7 Batch 2450 Loss 2.4160 Accuracy 0.5312\n",
      "Epoch 7 Batch 2500 Loss 2.4156 Accuracy 0.5312\n",
      "Epoch 7 Batch 2550 Loss 2.4156 Accuracy 0.5312\n",
      "Epoch 7 Batch 2600 Loss 2.4148 Accuracy 0.5313\n",
      "Epoch 7 Loss 2.4146 Accuracy 0.5313\n",
      "Time taken for 1 epoch: 165.4800043106079 secs\n",
      "\n",
      "Epoch 8 Batch 0 Loss 2.4522 Accuracy 0.5243\n",
      "Epoch 8 Batch 50 Loss 2.3658 Accuracy 0.5365\n",
      "Epoch 8 Batch 100 Loss 2.3682 Accuracy 0.5376\n",
      "Epoch 8 Batch 150 Loss 2.3661 Accuracy 0.5370\n",
      "Epoch 8 Batch 200 Loss 2.3593 Accuracy 0.5381\n",
      "Epoch 8 Batch 250 Loss 2.3633 Accuracy 0.5373\n",
      "Epoch 8 Batch 300 Loss 2.3614 Accuracy 0.5378\n",
      "Epoch 8 Batch 350 Loss 2.3589 Accuracy 0.5380\n",
      "Epoch 8 Batch 400 Loss 2.3583 Accuracy 0.5380\n",
      "Epoch 8 Batch 450 Loss 2.3601 Accuracy 0.5377\n",
      "Epoch 8 Batch 500 Loss 2.3612 Accuracy 0.5377\n",
      "Epoch 8 Batch 550 Loss 2.3599 Accuracy 0.5380\n",
      "Epoch 8 Batch 600 Loss 2.3597 Accuracy 0.5382\n",
      "Epoch 8 Batch 650 Loss 2.3578 Accuracy 0.5384\n",
      "Epoch 8 Batch 700 Loss 2.3585 Accuracy 0.5382\n",
      "Epoch 8 Batch 750 Loss 2.3583 Accuracy 0.5382\n",
      "Epoch 8 Batch 800 Loss 2.3580 Accuracy 0.5382\n",
      "Epoch 8 Batch 850 Loss 2.3581 Accuracy 0.5381\n",
      "Epoch 8 Batch 900 Loss 2.3576 Accuracy 0.5382\n",
      "Epoch 8 Batch 950 Loss 2.3586 Accuracy 0.5383\n",
      "Epoch 8 Batch 1000 Loss 2.3578 Accuracy 0.5384\n",
      "Epoch 8 Batch 1050 Loss 2.3584 Accuracy 0.5384\n",
      "Epoch 8 Batch 1100 Loss 2.3568 Accuracy 0.5385\n",
      "Epoch 8 Batch 1150 Loss 2.3566 Accuracy 0.5387\n",
      "Epoch 8 Batch 1200 Loss 2.3560 Accuracy 0.5388\n",
      "Epoch 8 Batch 1250 Loss 2.3557 Accuracy 0.5389\n",
      "Epoch 8 Batch 1300 Loss 2.3544 Accuracy 0.5391\n",
      "Epoch 8 Batch 1350 Loss 2.3544 Accuracy 0.5391\n",
      "Epoch 8 Batch 1400 Loss 2.3537 Accuracy 0.5392\n",
      "Epoch 8 Batch 1450 Loss 2.3527 Accuracy 0.5393\n",
      "Epoch 8 Batch 1500 Loss 2.3520 Accuracy 0.5394\n",
      "Epoch 8 Batch 1550 Loss 2.3519 Accuracy 0.5394\n",
      "Epoch 8 Batch 1600 Loss 2.3510 Accuracy 0.5395\n",
      "Epoch 8 Batch 1650 Loss 2.3504 Accuracy 0.5396\n",
      "Epoch 8 Batch 1700 Loss 2.3503 Accuracy 0.5396\n",
      "Epoch 8 Batch 1750 Loss 2.3496 Accuracy 0.5397\n",
      "Epoch 8 Batch 1800 Loss 2.3491 Accuracy 0.5398\n",
      "Epoch 8 Batch 1850 Loss 2.3487 Accuracy 0.5398\n",
      "Epoch 8 Batch 1900 Loss 2.3484 Accuracy 0.5399\n",
      "Epoch 8 Batch 1950 Loss 2.3476 Accuracy 0.5399\n",
      "Epoch 8 Batch 2000 Loss 2.3479 Accuracy 0.5399\n",
      "Epoch 8 Batch 2050 Loss 2.3470 Accuracy 0.5400\n",
      "Epoch 8 Batch 2100 Loss 2.3466 Accuracy 0.5401\n",
      "Epoch 8 Batch 2150 Loss 2.3461 Accuracy 0.5401\n",
      "Epoch 8 Batch 2200 Loss 2.3465 Accuracy 0.5400\n",
      "Epoch 8 Batch 2250 Loss 2.3461 Accuracy 0.5401\n",
      "Epoch 8 Batch 2300 Loss 2.3455 Accuracy 0.5402\n",
      "Epoch 8 Batch 2350 Loss 2.3454 Accuracy 0.5403\n",
      "Epoch 8 Batch 2400 Loss 2.3448 Accuracy 0.5404\n",
      "Epoch 8 Batch 2450 Loss 2.3446 Accuracy 0.5404\n",
      "Epoch 8 Batch 2500 Loss 2.3442 Accuracy 0.5405\n",
      "Epoch 8 Batch 2550 Loss 2.3440 Accuracy 0.5405\n",
      "Epoch 8 Batch 2600 Loss 2.3440 Accuracy 0.5405\n",
      "Epoch 8 Loss 2.3442 Accuracy 0.5405\n",
      "Time taken for 1 epoch: 165.57883667945862 secs\n",
      "\n",
      "Epoch 9 Batch 0 Loss 2.3871 Accuracy 0.5265\n",
      "Epoch 9 Batch 50 Loss 2.3270 Accuracy 0.5441\n",
      "Epoch 9 Batch 100 Loss 2.2951 Accuracy 0.5482\n",
      "Epoch 9 Batch 150 Loss 2.2945 Accuracy 0.5481\n",
      "Epoch 9 Batch 200 Loss 2.2990 Accuracy 0.5469\n",
      "Epoch 9 Batch 250 Loss 2.3018 Accuracy 0.5465\n",
      "Epoch 9 Batch 300 Loss 2.2989 Accuracy 0.5467\n",
      "Epoch 9 Batch 350 Loss 2.3035 Accuracy 0.5458\n",
      "Epoch 9 Batch 400 Loss 2.3036 Accuracy 0.5454\n",
      "Epoch 9 Batch 450 Loss 2.3014 Accuracy 0.5460\n",
      "Epoch 9 Batch 500 Loss 2.3017 Accuracy 0.5458\n",
      "Epoch 9 Batch 550 Loss 2.2999 Accuracy 0.5459\n",
      "Epoch 9 Batch 600 Loss 2.2995 Accuracy 0.5461\n",
      "Epoch 9 Batch 650 Loss 2.2994 Accuracy 0.5461\n",
      "Epoch 9 Batch 700 Loss 2.2990 Accuracy 0.5462\n",
      "Epoch 9 Batch 750 Loss 2.2986 Accuracy 0.5464\n",
      "Epoch 9 Batch 800 Loss 2.2975 Accuracy 0.5465\n",
      "Epoch 9 Batch 850 Loss 2.2966 Accuracy 0.5467\n",
      "Epoch 9 Batch 900 Loss 2.2966 Accuracy 0.5466\n",
      "Epoch 9 Batch 950 Loss 2.2969 Accuracy 0.5465\n",
      "Epoch 9 Batch 1000 Loss 2.2979 Accuracy 0.5463\n",
      "Epoch 9 Batch 1050 Loss 2.2975 Accuracy 0.5464\n",
      "Epoch 9 Batch 1100 Loss 2.2969 Accuracy 0.5466\n",
      "Epoch 9 Batch 1150 Loss 2.2964 Accuracy 0.5466\n",
      "Epoch 9 Batch 1200 Loss 2.2952 Accuracy 0.5469\n",
      "Epoch 9 Batch 1250 Loss 2.2959 Accuracy 0.5469\n",
      "Epoch 9 Batch 1300 Loss 2.2954 Accuracy 0.5469\n",
      "Epoch 9 Batch 1350 Loss 2.2953 Accuracy 0.5469\n",
      "Epoch 9 Batch 1400 Loss 2.2945 Accuracy 0.5470\n",
      "Epoch 9 Batch 1450 Loss 2.2939 Accuracy 0.5471\n",
      "Epoch 9 Batch 1500 Loss 2.2928 Accuracy 0.5473\n",
      "Epoch 9 Batch 1550 Loss 2.2927 Accuracy 0.5473\n",
      "Epoch 9 Batch 1600 Loss 2.2925 Accuracy 0.5473\n",
      "Epoch 9 Batch 1650 Loss 2.2929 Accuracy 0.5473\n",
      "Epoch 9 Batch 1700 Loss 2.2926 Accuracy 0.5473\n",
      "Epoch 9 Batch 1750 Loss 2.2920 Accuracy 0.5474\n",
      "Epoch 9 Batch 1800 Loss 2.2915 Accuracy 0.5475\n",
      "Epoch 9 Batch 1850 Loss 2.2915 Accuracy 0.5475\n",
      "Epoch 9 Batch 1900 Loss 2.2920 Accuracy 0.5474\n",
      "Epoch 9 Batch 1950 Loss 2.2916 Accuracy 0.5474\n",
      "Epoch 9 Batch 2000 Loss 2.2911 Accuracy 0.5475\n",
      "Epoch 9 Batch 2050 Loss 2.2908 Accuracy 0.5475\n",
      "Epoch 9 Batch 2100 Loss 2.2898 Accuracy 0.5477\n",
      "Epoch 9 Batch 2150 Loss 2.2902 Accuracy 0.5476\n",
      "Epoch 9 Batch 2200 Loss 2.2897 Accuracy 0.5477\n",
      "Epoch 9 Batch 2250 Loss 2.2899 Accuracy 0.5477\n",
      "Epoch 9 Batch 2300 Loss 2.2895 Accuracy 0.5477\n",
      "Epoch 9 Batch 2350 Loss 2.2890 Accuracy 0.5478\n",
      "Epoch 9 Batch 2400 Loss 2.2895 Accuracy 0.5477\n",
      "Epoch 9 Batch 2450 Loss 2.2894 Accuracy 0.5477\n",
      "Epoch 9 Batch 2500 Loss 2.2889 Accuracy 0.5477\n",
      "Epoch 9 Batch 2550 Loss 2.2888 Accuracy 0.5477\n",
      "Epoch 9 Batch 2600 Loss 2.2884 Accuracy 0.5478\n",
      "Epoch 9 Loss 2.2882 Accuracy 0.5478\n",
      "Time taken for 1 epoch: 169.6482617855072 secs\n",
      "\n",
      "Epoch 10 Batch 0 Loss 2.1396 Accuracy 0.5731\n",
      "Epoch 10 Batch 50 Loss 2.2315 Accuracy 0.5565\n",
      "Epoch 10 Batch 100 Loss 2.2268 Accuracy 0.5572\n",
      "Epoch 10 Batch 150 Loss 2.2320 Accuracy 0.5563\n",
      "Epoch 10 Batch 200 Loss 2.2391 Accuracy 0.5549\n",
      "Epoch 10 Batch 250 Loss 2.2369 Accuracy 0.5551\n",
      "Epoch 10 Batch 300 Loss 2.2390 Accuracy 0.5548\n",
      "Epoch 10 Batch 350 Loss 2.2390 Accuracy 0.5549\n",
      "Epoch 10 Batch 400 Loss 2.2402 Accuracy 0.5546\n",
      "Epoch 10 Batch 450 Loss 2.2430 Accuracy 0.5540\n",
      "Epoch 10 Batch 500 Loss 2.2431 Accuracy 0.5538\n",
      "Epoch 10 Batch 550 Loss 2.2441 Accuracy 0.5537\n",
      "Epoch 10 Batch 600 Loss 2.2438 Accuracy 0.5536\n",
      "Epoch 10 Batch 650 Loss 2.2434 Accuracy 0.5537\n",
      "Epoch 10 Batch 700 Loss 2.2431 Accuracy 0.5536\n",
      "Epoch 10 Batch 750 Loss 2.2460 Accuracy 0.5530\n",
      "Epoch 10 Batch 800 Loss 2.2465 Accuracy 0.5531\n",
      "Epoch 10 Batch 850 Loss 2.2444 Accuracy 0.5534\n",
      "Epoch 10 Batch 900 Loss 2.2451 Accuracy 0.5533\n",
      "Epoch 10 Batch 950 Loss 2.2453 Accuracy 0.5534\n",
      "Epoch 10 Batch 1000 Loss 2.2456 Accuracy 0.5533\n",
      "Epoch 10 Batch 1050 Loss 2.2459 Accuracy 0.5533\n",
      "Epoch 10 Batch 1100 Loss 2.2455 Accuracy 0.5534\n",
      "Epoch 10 Batch 1150 Loss 2.2472 Accuracy 0.5532\n",
      "Epoch 10 Batch 1200 Loss 2.2465 Accuracy 0.5534\n",
      "Epoch 10 Batch 1250 Loss 2.2467 Accuracy 0.5533\n",
      "Epoch 10 Batch 1300 Loss 2.2462 Accuracy 0.5534\n",
      "Epoch 10 Batch 1350 Loss 2.2461 Accuracy 0.5534\n",
      "Epoch 10 Batch 1400 Loss 2.2448 Accuracy 0.5536\n",
      "Epoch 10 Batch 1450 Loss 2.2449 Accuracy 0.5537\n",
      "Epoch 10 Batch 1500 Loss 2.2448 Accuracy 0.5537\n",
      "Epoch 10 Batch 1550 Loss 2.2446 Accuracy 0.5538\n",
      "Epoch 10 Batch 1600 Loss 2.2450 Accuracy 0.5538\n",
      "Epoch 10 Batch 1650 Loss 2.2448 Accuracy 0.5538\n",
      "Epoch 10 Batch 1700 Loss 2.2436 Accuracy 0.5539\n",
      "Epoch 10 Batch 1750 Loss 2.2436 Accuracy 0.5539\n",
      "Epoch 10 Batch 1800 Loss 2.2432 Accuracy 0.5539\n",
      "Epoch 10 Batch 1850 Loss 2.2433 Accuracy 0.5539\n",
      "Epoch 10 Batch 1900 Loss 2.2428 Accuracy 0.5540\n",
      "Epoch 10 Batch 1950 Loss 2.2426 Accuracy 0.5541\n",
      "Epoch 10 Batch 2000 Loss 2.2422 Accuracy 0.5542\n",
      "Epoch 10 Batch 2050 Loss 2.2420 Accuracy 0.5542\n",
      "Epoch 10 Batch 2100 Loss 2.2419 Accuracy 0.5543\n",
      "Epoch 10 Batch 2150 Loss 2.2417 Accuracy 0.5544\n",
      "Epoch 10 Batch 2200 Loss 2.2415 Accuracy 0.5544\n",
      "Epoch 10 Batch 2250 Loss 2.2418 Accuracy 0.5543\n",
      "Epoch 10 Batch 2300 Loss 2.2415 Accuracy 0.5544\n",
      "Epoch 10 Batch 2350 Loss 2.2414 Accuracy 0.5544\n",
      "Epoch 10 Batch 2400 Loss 2.2414 Accuracy 0.5544\n",
      "Epoch 10 Batch 2450 Loss 2.2406 Accuracy 0.5545\n",
      "Epoch 10 Batch 2500 Loss 2.2413 Accuracy 0.5544\n",
      "Epoch 10 Batch 2550 Loss 2.2409 Accuracy 0.5544\n",
      "Epoch 10 Batch 2600 Loss 2.2412 Accuracy 0.5543\n",
      "Saving checkpoint for epoch 10 at ./checkpoints/train/ckpt-2\n",
      "Epoch 10 Loss 2.2410 Accuracy 0.5544\n",
      "Time taken for 1 epoch: 171.90347385406494 secs\n",
      "\n",
      "Epoch 11 Batch 0 Loss 2.0598 Accuracy 0.5897\n",
      "Epoch 11 Batch 50 Loss 2.1957 Accuracy 0.5597\n",
      "Epoch 11 Batch 100 Loss 2.2009 Accuracy 0.5590\n",
      "Epoch 11 Batch 150 Loss 2.2025 Accuracy 0.5587\n",
      "Epoch 11 Batch 200 Loss 2.2032 Accuracy 0.5584\n",
      "Epoch 11 Batch 250 Loss 2.2015 Accuracy 0.5592\n",
      "Epoch 11 Batch 300 Loss 2.2003 Accuracy 0.5596\n",
      "Epoch 11 Batch 350 Loss 2.2018 Accuracy 0.5596\n",
      "Epoch 11 Batch 400 Loss 2.2048 Accuracy 0.5592\n",
      "Epoch 11 Batch 450 Loss 2.2071 Accuracy 0.5588\n",
      "Epoch 11 Batch 500 Loss 2.2064 Accuracy 0.5591\n",
      "Epoch 11 Batch 550 Loss 2.2049 Accuracy 0.5592\n",
      "Epoch 11 Batch 600 Loss 2.2043 Accuracy 0.5593\n",
      "Epoch 11 Batch 650 Loss 2.2027 Accuracy 0.5594\n",
      "Epoch 11 Batch 700 Loss 2.2052 Accuracy 0.5591\n",
      "Epoch 11 Batch 750 Loss 2.2045 Accuracy 0.5592\n",
      "Epoch 11 Batch 800 Loss 2.2051 Accuracy 0.5592\n",
      "Epoch 11 Batch 850 Loss 2.2061 Accuracy 0.5590\n",
      "Epoch 11 Batch 900 Loss 2.2057 Accuracy 0.5591\n",
      "Epoch 11 Batch 950 Loss 2.2059 Accuracy 0.5590\n",
      "Epoch 11 Batch 1000 Loss 2.2069 Accuracy 0.5589\n",
      "Epoch 11 Batch 1050 Loss 2.2079 Accuracy 0.5586\n",
      "Epoch 11 Batch 1100 Loss 2.2067 Accuracy 0.5589\n",
      "Epoch 11 Batch 1150 Loss 2.2058 Accuracy 0.5590\n",
      "Epoch 11 Batch 1200 Loss 2.2061 Accuracy 0.5591\n",
      "Epoch 11 Batch 1250 Loss 2.2056 Accuracy 0.5592\n",
      "Epoch 11 Batch 1300 Loss 2.2050 Accuracy 0.5593\n",
      "Epoch 11 Batch 1350 Loss 2.2045 Accuracy 0.5594\n",
      "Epoch 11 Batch 1400 Loss 2.2046 Accuracy 0.5594\n",
      "Epoch 11 Batch 1450 Loss 2.2035 Accuracy 0.5596\n",
      "Epoch 11 Batch 1500 Loss 2.2045 Accuracy 0.5594\n",
      "Epoch 11 Batch 1550 Loss 2.2045 Accuracy 0.5595\n",
      "Epoch 11 Batch 1600 Loss 2.2053 Accuracy 0.5594\n",
      "Epoch 11 Batch 1650 Loss 2.2046 Accuracy 0.5595\n",
      "Epoch 11 Batch 1700 Loss 2.2042 Accuracy 0.5596\n",
      "Epoch 11 Batch 1750 Loss 2.2039 Accuracy 0.5596\n",
      "Epoch 11 Batch 1800 Loss 2.2039 Accuracy 0.5595\n",
      "Epoch 11 Batch 1850 Loss 2.2037 Accuracy 0.5596\n",
      "Epoch 11 Batch 1900 Loss 2.2040 Accuracy 0.5595\n",
      "Epoch 11 Batch 1950 Loss 2.2038 Accuracy 0.5595\n",
      "Epoch 11 Batch 2000 Loss 2.2035 Accuracy 0.5595\n",
      "Epoch 11 Batch 2050 Loss 2.2034 Accuracy 0.5595\n",
      "Epoch 11 Batch 2100 Loss 2.2030 Accuracy 0.5596\n",
      "Epoch 11 Batch 2150 Loss 2.2028 Accuracy 0.5596\n",
      "Epoch 11 Batch 2200 Loss 2.2027 Accuracy 0.5596\n",
      "Epoch 11 Batch 2250 Loss 2.2026 Accuracy 0.5597\n",
      "Epoch 11 Batch 2300 Loss 2.2024 Accuracy 0.5597\n",
      "Epoch 11 Batch 2350 Loss 2.2022 Accuracy 0.5597\n",
      "Epoch 11 Batch 2400 Loss 2.2024 Accuracy 0.5597\n",
      "Epoch 11 Batch 2450 Loss 2.2018 Accuracy 0.5597\n",
      "Epoch 11 Batch 2500 Loss 2.2022 Accuracy 0.5596\n",
      "Epoch 11 Batch 2550 Loss 2.2019 Accuracy 0.5597\n",
      "Epoch 11 Batch 2600 Loss 2.2021 Accuracy 0.5596\n",
      "Epoch 11 Loss 2.2018 Accuracy 0.5597\n",
      "Time taken for 1 epoch: 166.30353379249573 secs\n",
      "\n",
      "Epoch 12 Batch 0 Loss 2.3126 Accuracy 0.5405\n",
      "Epoch 12 Batch 50 Loss 2.1474 Accuracy 0.5681\n",
      "Epoch 12 Batch 100 Loss 2.1676 Accuracy 0.5638\n",
      "Epoch 12 Batch 150 Loss 2.1699 Accuracy 0.5637\n",
      "Epoch 12 Batch 200 Loss 2.1713 Accuracy 0.5630\n",
      "Epoch 12 Batch 250 Loss 2.1705 Accuracy 0.5634\n",
      "Epoch 12 Batch 300 Loss 2.1732 Accuracy 0.5632\n",
      "Epoch 12 Batch 350 Loss 2.1753 Accuracy 0.5631\n",
      "Epoch 12 Batch 400 Loss 2.1759 Accuracy 0.5630\n",
      "Epoch 12 Batch 450 Loss 2.1755 Accuracy 0.5629\n",
      "Epoch 12 Batch 500 Loss 2.1748 Accuracy 0.5628\n",
      "Epoch 12 Batch 550 Loss 2.1738 Accuracy 0.5630\n",
      "Epoch 12 Batch 600 Loss 2.1748 Accuracy 0.5629\n",
      "Epoch 12 Batch 650 Loss 2.1750 Accuracy 0.5632\n",
      "Epoch 12 Batch 700 Loss 2.1747 Accuracy 0.5632\n",
      "Epoch 12 Batch 750 Loss 2.1733 Accuracy 0.5632\n",
      "Epoch 12 Batch 800 Loss 2.1726 Accuracy 0.5634\n",
      "Epoch 12 Batch 850 Loss 2.1720 Accuracy 0.5633\n",
      "Epoch 12 Batch 900 Loss 2.1725 Accuracy 0.5633\n",
      "Epoch 12 Batch 950 Loss 2.1725 Accuracy 0.5634\n",
      "Epoch 12 Batch 1000 Loss 2.1738 Accuracy 0.5632\n",
      "Epoch 12 Batch 1050 Loss 2.1736 Accuracy 0.5632\n",
      "Epoch 12 Batch 1100 Loss 2.1726 Accuracy 0.5634\n",
      "Epoch 12 Batch 1150 Loss 2.1720 Accuracy 0.5636\n",
      "Epoch 12 Batch 1200 Loss 2.1708 Accuracy 0.5636\n",
      "Epoch 12 Batch 1250 Loss 2.1705 Accuracy 0.5636\n",
      "Epoch 12 Batch 1300 Loss 2.1710 Accuracy 0.5636\n",
      "Epoch 12 Batch 1350 Loss 2.1708 Accuracy 0.5637\n",
      "Epoch 12 Batch 1400 Loss 2.1715 Accuracy 0.5636\n",
      "Epoch 12 Batch 1450 Loss 2.1710 Accuracy 0.5637\n",
      "Epoch 12 Batch 1500 Loss 2.1708 Accuracy 0.5638\n",
      "Epoch 12 Batch 1550 Loss 2.1707 Accuracy 0.5638\n",
      "Epoch 12 Batch 1600 Loss 2.1709 Accuracy 0.5637\n",
      "Epoch 12 Batch 1650 Loss 2.1712 Accuracy 0.5637\n",
      "Epoch 12 Batch 1700 Loss 2.1713 Accuracy 0.5636\n",
      "Epoch 12 Batch 1750 Loss 2.1713 Accuracy 0.5636\n",
      "Epoch 12 Batch 1800 Loss 2.1713 Accuracy 0.5637\n",
      "Epoch 12 Batch 1850 Loss 2.1713 Accuracy 0.5637\n",
      "Epoch 12 Batch 1900 Loss 2.1708 Accuracy 0.5637\n",
      "Epoch 12 Batch 1950 Loss 2.1703 Accuracy 0.5637\n",
      "Epoch 12 Batch 2000 Loss 2.1694 Accuracy 0.5639\n",
      "Epoch 12 Batch 2050 Loss 2.1695 Accuracy 0.5639\n",
      "Epoch 12 Batch 2100 Loss 2.1692 Accuracy 0.5639\n",
      "Epoch 12 Batch 2150 Loss 2.1697 Accuracy 0.5638\n",
      "Epoch 12 Batch 2200 Loss 2.1699 Accuracy 0.5639\n",
      "Epoch 12 Batch 2250 Loss 2.1699 Accuracy 0.5639\n",
      "Epoch 12 Batch 2300 Loss 2.1696 Accuracy 0.5639\n",
      "Epoch 12 Batch 2350 Loss 2.1690 Accuracy 0.5641\n",
      "Epoch 12 Batch 2400 Loss 2.1687 Accuracy 0.5640\n",
      "Epoch 12 Batch 2450 Loss 2.1694 Accuracy 0.5639\n",
      "Epoch 12 Batch 2500 Loss 2.1696 Accuracy 0.5639\n",
      "Epoch 12 Batch 2550 Loss 2.1692 Accuracy 0.5639\n",
      "Epoch 12 Batch 2600 Loss 2.1689 Accuracy 0.5640\n",
      "Epoch 12 Loss 2.1687 Accuracy 0.5640\n",
      "Time taken for 1 epoch: 166.13710403442383 secs\n",
      "\n",
      "Epoch 13 Batch 0 Loss 2.1359 Accuracy 0.5720\n",
      "Epoch 13 Batch 50 Loss 2.1365 Accuracy 0.5694\n",
      "Epoch 13 Batch 100 Loss 2.1480 Accuracy 0.5671\n",
      "Epoch 13 Batch 150 Loss 2.1444 Accuracy 0.5674\n",
      "Epoch 13 Batch 200 Loss 2.1428 Accuracy 0.5674\n",
      "Epoch 13 Batch 250 Loss 2.1458 Accuracy 0.5667\n",
      "Epoch 13 Batch 300 Loss 2.1451 Accuracy 0.5671\n",
      "Epoch 13 Batch 350 Loss 2.1438 Accuracy 0.5677\n",
      "Epoch 13 Batch 400 Loss 2.1444 Accuracy 0.5676\n",
      "Epoch 13 Batch 450 Loss 2.1436 Accuracy 0.5676\n",
      "Epoch 13 Batch 500 Loss 2.1426 Accuracy 0.5679\n",
      "Epoch 13 Batch 550 Loss 2.1431 Accuracy 0.5677\n",
      "Epoch 13 Batch 600 Loss 2.1419 Accuracy 0.5679\n",
      "Epoch 13 Batch 650 Loss 2.1420 Accuracy 0.5678\n",
      "Epoch 13 Batch 700 Loss 2.1419 Accuracy 0.5678\n",
      "Epoch 13 Batch 750 Loss 2.1407 Accuracy 0.5680\n",
      "Epoch 13 Batch 800 Loss 2.1407 Accuracy 0.5680\n",
      "Epoch 13 Batch 850 Loss 2.1401 Accuracy 0.5681\n",
      "Epoch 13 Batch 900 Loss 2.1420 Accuracy 0.5679\n",
      "Epoch 13 Batch 950 Loss 2.1429 Accuracy 0.5679\n",
      "Epoch 13 Batch 1000 Loss 2.1432 Accuracy 0.5679\n",
      "Epoch 13 Batch 1050 Loss 2.1428 Accuracy 0.5680\n",
      "Epoch 13 Batch 1100 Loss 2.1418 Accuracy 0.5681\n",
      "Epoch 13 Batch 1150 Loss 2.1418 Accuracy 0.5681\n",
      "Epoch 13 Batch 1200 Loss 2.1421 Accuracy 0.5682\n",
      "Epoch 13 Batch 1250 Loss 2.1411 Accuracy 0.5683\n",
      "Epoch 13 Batch 1300 Loss 2.1412 Accuracy 0.5683\n",
      "Epoch 13 Batch 1350 Loss 2.1415 Accuracy 0.5682\n",
      "Epoch 13 Batch 1400 Loss 2.1410 Accuracy 0.5682\n",
      "Epoch 13 Batch 1450 Loss 2.1407 Accuracy 0.5682\n",
      "Epoch 13 Batch 1500 Loss 2.1404 Accuracy 0.5683\n",
      "Epoch 13 Batch 1550 Loss 2.1398 Accuracy 0.5684\n",
      "Epoch 13 Batch 1600 Loss 2.1390 Accuracy 0.5685\n",
      "Epoch 13 Batch 1650 Loss 2.1394 Accuracy 0.5684\n",
      "Epoch 13 Batch 1700 Loss 2.1395 Accuracy 0.5684\n",
      "Epoch 13 Batch 1750 Loss 2.1394 Accuracy 0.5685\n",
      "Epoch 13 Batch 1800 Loss 2.1390 Accuracy 0.5685\n",
      "Epoch 13 Batch 1850 Loss 2.1393 Accuracy 0.5685\n",
      "Epoch 13 Batch 1900 Loss 2.1389 Accuracy 0.5686\n",
      "Epoch 13 Batch 1950 Loss 2.1389 Accuracy 0.5685\n",
      "Epoch 13 Batch 2000 Loss 2.1390 Accuracy 0.5685\n",
      "Epoch 13 Batch 2050 Loss 2.1393 Accuracy 0.5684\n",
      "Epoch 13 Batch 2100 Loss 2.1392 Accuracy 0.5684\n",
      "Epoch 13 Batch 2150 Loss 2.1386 Accuracy 0.5685\n",
      "Epoch 13 Batch 2200 Loss 2.1384 Accuracy 0.5685\n",
      "Epoch 13 Batch 2250 Loss 2.1384 Accuracy 0.5685\n",
      "Epoch 13 Batch 2300 Loss 2.1378 Accuracy 0.5686\n",
      "Epoch 13 Batch 2350 Loss 2.1379 Accuracy 0.5686\n",
      "Epoch 13 Batch 2400 Loss 2.1376 Accuracy 0.5686\n",
      "Epoch 13 Batch 2450 Loss 2.1376 Accuracy 0.5686\n",
      "Epoch 13 Batch 2500 Loss 2.1377 Accuracy 0.5686\n",
      "Epoch 13 Batch 2550 Loss 2.1377 Accuracy 0.5686\n",
      "Epoch 13 Batch 2600 Loss 2.1379 Accuracy 0.5685\n",
      "Epoch 13 Loss 2.1382 Accuracy 0.5685\n",
      "Time taken for 1 epoch: 164.89954328536987 secs\n",
      "\n",
      "Epoch 14 Batch 0 Loss 2.0218 Accuracy 0.5896\n",
      "Epoch 14 Batch 50 Loss 2.1050 Accuracy 0.5719\n",
      "Epoch 14 Batch 100 Loss 2.1014 Accuracy 0.5721\n",
      "Epoch 14 Batch 150 Loss 2.1089 Accuracy 0.5709\n",
      "Epoch 14 Batch 200 Loss 2.1065 Accuracy 0.5709\n",
      "Epoch 14 Batch 250 Loss 2.1082 Accuracy 0.5710\n",
      "Epoch 14 Batch 300 Loss 2.1109 Accuracy 0.5709\n",
      "Epoch 14 Batch 350 Loss 2.1143 Accuracy 0.5705\n",
      "Epoch 14 Batch 400 Loss 2.1160 Accuracy 0.5705\n",
      "Epoch 14 Batch 450 Loss 2.1176 Accuracy 0.5705\n",
      "Epoch 14 Batch 500 Loss 2.1166 Accuracy 0.5707\n",
      "Epoch 14 Batch 550 Loss 2.1153 Accuracy 0.5712\n",
      "Epoch 14 Batch 600 Loss 2.1166 Accuracy 0.5710\n",
      "Epoch 14 Batch 650 Loss 2.1156 Accuracy 0.5711\n",
      "Epoch 14 Batch 700 Loss 2.1146 Accuracy 0.5710\n",
      "Epoch 14 Batch 750 Loss 2.1133 Accuracy 0.5712\n",
      "Epoch 14 Batch 800 Loss 2.1148 Accuracy 0.5709\n",
      "Epoch 14 Batch 850 Loss 2.1146 Accuracy 0.5709\n",
      "Epoch 14 Batch 900 Loss 2.1151 Accuracy 0.5709\n",
      "Epoch 14 Batch 950 Loss 2.1159 Accuracy 0.5709\n",
      "Epoch 14 Batch 1000 Loss 2.1159 Accuracy 0.5711\n",
      "Epoch 14 Batch 1050 Loss 2.1155 Accuracy 0.5712\n",
      "Epoch 14 Batch 1100 Loss 2.1150 Accuracy 0.5713\n",
      "Epoch 14 Batch 1150 Loss 2.1152 Accuracy 0.5712\n",
      "Epoch 14 Batch 1200 Loss 2.1148 Accuracy 0.5713\n",
      "Epoch 14 Batch 1250 Loss 2.1146 Accuracy 0.5713\n",
      "Epoch 14 Batch 1300 Loss 2.1145 Accuracy 0.5714\n",
      "Epoch 14 Batch 1350 Loss 2.1132 Accuracy 0.5716\n",
      "Epoch 14 Batch 1400 Loss 2.1137 Accuracy 0.5716\n",
      "Epoch 14 Batch 1450 Loss 2.1134 Accuracy 0.5717\n",
      "Epoch 14 Batch 1500 Loss 2.1139 Accuracy 0.5716\n",
      "Epoch 14 Batch 1550 Loss 2.1132 Accuracy 0.5718\n",
      "Epoch 14 Batch 1600 Loss 2.1137 Accuracy 0.5718\n",
      "Epoch 14 Batch 1650 Loss 2.1131 Accuracy 0.5719\n",
      "Epoch 14 Batch 1700 Loss 2.1129 Accuracy 0.5719\n",
      "Epoch 14 Batch 1750 Loss 2.1134 Accuracy 0.5718\n",
      "Epoch 14 Batch 1800 Loss 2.1132 Accuracy 0.5718\n",
      "Epoch 14 Batch 1850 Loss 2.1132 Accuracy 0.5718\n",
      "Epoch 14 Batch 1900 Loss 2.1138 Accuracy 0.5717\n",
      "Epoch 14 Batch 1950 Loss 2.1135 Accuracy 0.5717\n",
      "Epoch 14 Batch 2000 Loss 2.1133 Accuracy 0.5717\n",
      "Epoch 14 Batch 2050 Loss 2.1127 Accuracy 0.5718\n",
      "Epoch 14 Batch 2100 Loss 2.1128 Accuracy 0.5718\n",
      "Epoch 14 Batch 2150 Loss 2.1125 Accuracy 0.5719\n",
      "Epoch 14 Batch 2200 Loss 2.1123 Accuracy 0.5719\n",
      "Epoch 14 Batch 2250 Loss 2.1123 Accuracy 0.5719\n",
      "Epoch 14 Batch 2300 Loss 2.1125 Accuracy 0.5719\n",
      "Epoch 14 Batch 2350 Loss 2.1123 Accuracy 0.5719\n",
      "Epoch 14 Batch 2400 Loss 2.1121 Accuracy 0.5719\n",
      "Epoch 14 Batch 2450 Loss 2.1120 Accuracy 0.5719\n",
      "Epoch 14 Batch 2500 Loss 2.1124 Accuracy 0.5718\n",
      "Epoch 14 Batch 2550 Loss 2.1125 Accuracy 0.5718\n",
      "Epoch 14 Batch 2600 Loss 2.1130 Accuracy 0.5718\n",
      "Epoch 14 Loss 2.1135 Accuracy 0.5717\n",
      "Time taken for 1 epoch: 163.67085695266724 secs\n",
      "\n",
      "Epoch 15 Batch 0 Loss 2.0638 Accuracy 0.5883\n",
      "Epoch 15 Batch 50 Loss 2.0967 Accuracy 0.5746\n",
      "Epoch 15 Batch 100 Loss 2.0905 Accuracy 0.5750\n",
      "Epoch 15 Batch 150 Loss 2.0865 Accuracy 0.5746\n",
      "Epoch 15 Batch 200 Loss 2.0890 Accuracy 0.5742\n",
      "Epoch 15 Batch 250 Loss 2.0904 Accuracy 0.5740\n",
      "Epoch 15 Batch 300 Loss 2.0907 Accuracy 0.5740\n",
      "Epoch 15 Batch 350 Loss 2.0927 Accuracy 0.5737\n",
      "Epoch 15 Batch 400 Loss 2.0950 Accuracy 0.5731\n",
      "Epoch 15 Batch 450 Loss 2.0932 Accuracy 0.5735\n",
      "Epoch 15 Batch 500 Loss 2.0925 Accuracy 0.5735\n",
      "Epoch 15 Batch 550 Loss 2.0944 Accuracy 0.5736\n",
      "Epoch 15 Batch 600 Loss 2.0931 Accuracy 0.5738\n",
      "Epoch 15 Batch 650 Loss 2.0918 Accuracy 0.5742\n",
      "Epoch 15 Batch 700 Loss 2.0913 Accuracy 0.5741\n",
      "Epoch 15 Batch 750 Loss 2.0911 Accuracy 0.5742\n",
      "Epoch 15 Batch 800 Loss 2.0921 Accuracy 0.5740\n",
      "Epoch 15 Batch 850 Loss 2.0919 Accuracy 0.5740\n",
      "Epoch 15 Batch 900 Loss 2.0923 Accuracy 0.5741\n",
      "Epoch 15 Batch 950 Loss 2.0917 Accuracy 0.5743\n",
      "Epoch 15 Batch 1000 Loss 2.0904 Accuracy 0.5745\n",
      "Epoch 15 Batch 1050 Loss 2.0916 Accuracy 0.5743\n",
      "Epoch 15 Batch 1100 Loss 2.0908 Accuracy 0.5745\n",
      "Epoch 15 Batch 1150 Loss 2.0911 Accuracy 0.5744\n",
      "Epoch 15 Batch 1200 Loss 2.0916 Accuracy 0.5743\n",
      "Epoch 15 Batch 1250 Loss 2.0917 Accuracy 0.5744\n",
      "Epoch 15 Batch 1300 Loss 2.0915 Accuracy 0.5745\n",
      "Epoch 15 Batch 1350 Loss 2.0906 Accuracy 0.5747\n",
      "Epoch 15 Batch 1400 Loss 2.0906 Accuracy 0.5746\n",
      "Epoch 15 Batch 1450 Loss 2.0910 Accuracy 0.5747\n",
      "Epoch 15 Batch 1500 Loss 2.0904 Accuracy 0.5748\n",
      "Epoch 15 Batch 1550 Loss 2.0910 Accuracy 0.5747\n",
      "Epoch 15 Batch 1600 Loss 2.0910 Accuracy 0.5747\n",
      "Epoch 15 Batch 1650 Loss 2.0911 Accuracy 0.5747\n",
      "Epoch 15 Batch 1700 Loss 2.0911 Accuracy 0.5748\n",
      "Epoch 15 Batch 1750 Loss 2.0914 Accuracy 0.5747\n",
      "Epoch 15 Batch 1800 Loss 2.0917 Accuracy 0.5746\n",
      "Epoch 15 Batch 1850 Loss 2.0918 Accuracy 0.5746\n",
      "Epoch 15 Batch 1900 Loss 2.0913 Accuracy 0.5748\n",
      "Epoch 15 Batch 1950 Loss 2.0903 Accuracy 0.5749\n",
      "Epoch 15 Batch 2000 Loss 2.0901 Accuracy 0.5750\n",
      "Epoch 15 Batch 2050 Loss 2.0905 Accuracy 0.5749\n",
      "Epoch 15 Batch 2100 Loss 2.0911 Accuracy 0.5748\n",
      "Epoch 15 Batch 2150 Loss 2.0907 Accuracy 0.5749\n",
      "Epoch 15 Batch 2200 Loss 2.0904 Accuracy 0.5750\n",
      "Epoch 15 Batch 2250 Loss 2.0905 Accuracy 0.5749\n",
      "Epoch 15 Batch 2300 Loss 2.0909 Accuracy 0.5749\n",
      "Epoch 15 Batch 2350 Loss 2.0905 Accuracy 0.5750\n",
      "Epoch 15 Batch 2400 Loss 2.0902 Accuracy 0.5750\n",
      "Epoch 15 Batch 2450 Loss 2.0902 Accuracy 0.5750\n",
      "Epoch 15 Batch 2500 Loss 2.0903 Accuracy 0.5750\n",
      "Epoch 15 Batch 2550 Loss 2.0899 Accuracy 0.5750\n",
      "Epoch 15 Batch 2600 Loss 2.0903 Accuracy 0.5750\n",
      "Saving checkpoint for epoch 15 at ./checkpoints/train/ckpt-3\n",
      "Epoch 15 Loss 2.0904 Accuracy 0.5750\n",
      "Time taken for 1 epoch: 165.37509489059448 secs\n",
      "\n",
      "Epoch 16 Batch 0 Loss 1.9667 Accuracy 0.5899\n",
      "Epoch 16 Batch 50 Loss 2.0519 Accuracy 0.5804\n",
      "Epoch 16 Batch 100 Loss 2.0526 Accuracy 0.5800\n",
      "Epoch 16 Batch 150 Loss 2.0556 Accuracy 0.5798\n",
      "Epoch 16 Batch 200 Loss 2.0544 Accuracy 0.5798\n",
      "Epoch 16 Batch 250 Loss 2.0629 Accuracy 0.5787\n",
      "Epoch 16 Batch 300 Loss 2.0599 Accuracy 0.5789\n",
      "Epoch 16 Batch 350 Loss 2.0621 Accuracy 0.5784\n",
      "Epoch 16 Batch 400 Loss 2.0630 Accuracy 0.5784\n",
      "Epoch 16 Batch 450 Loss 2.0625 Accuracy 0.5783\n",
      "Epoch 16 Batch 500 Loss 2.0648 Accuracy 0.5780\n",
      "Epoch 16 Batch 550 Loss 2.0649 Accuracy 0.5781\n",
      "Epoch 16 Batch 600 Loss 2.0663 Accuracy 0.5779\n",
      "Epoch 16 Batch 650 Loss 2.0656 Accuracy 0.5781\n",
      "Epoch 16 Batch 700 Loss 2.0652 Accuracy 0.5782\n",
      "Epoch 16 Batch 750 Loss 2.0668 Accuracy 0.5779\n",
      "Epoch 16 Batch 800 Loss 2.0680 Accuracy 0.5777\n",
      "Epoch 16 Batch 850 Loss 2.0681 Accuracy 0.5777\n",
      "Epoch 16 Batch 900 Loss 2.0675 Accuracy 0.5778\n",
      "Epoch 16 Batch 950 Loss 2.0703 Accuracy 0.5774\n",
      "Epoch 16 Batch 1000 Loss 2.0702 Accuracy 0.5775\n",
      "Epoch 16 Batch 1050 Loss 2.0704 Accuracy 0.5775\n",
      "Epoch 16 Batch 1100 Loss 2.0708 Accuracy 0.5775\n",
      "Epoch 16 Batch 1150 Loss 2.0710 Accuracy 0.5776\n",
      "Epoch 16 Batch 1200 Loss 2.0714 Accuracy 0.5775\n",
      "Epoch 16 Batch 1250 Loss 2.0709 Accuracy 0.5776\n",
      "Epoch 16 Batch 1300 Loss 2.0709 Accuracy 0.5776\n",
      "Epoch 16 Batch 1350 Loss 2.0707 Accuracy 0.5778\n",
      "Epoch 16 Batch 1400 Loss 2.0706 Accuracy 0.5778\n",
      "Epoch 16 Batch 1450 Loss 2.0701 Accuracy 0.5779\n",
      "Epoch 16 Batch 1500 Loss 2.0707 Accuracy 0.5777\n",
      "Epoch 16 Batch 1550 Loss 2.0703 Accuracy 0.5778\n",
      "Epoch 16 Batch 1600 Loss 2.0708 Accuracy 0.5777\n",
      "Epoch 16 Batch 1650 Loss 2.0706 Accuracy 0.5777\n",
      "Epoch 16 Batch 1700 Loss 2.0707 Accuracy 0.5777\n",
      "Epoch 16 Batch 1750 Loss 2.0702 Accuracy 0.5778\n",
      "Epoch 16 Batch 1800 Loss 2.0703 Accuracy 0.5778\n",
      "Epoch 16 Batch 1850 Loss 2.0703 Accuracy 0.5778\n",
      "Epoch 16 Batch 1900 Loss 2.0708 Accuracy 0.5777\n",
      "Epoch 16 Batch 1950 Loss 2.0708 Accuracy 0.5777\n",
      "Epoch 16 Batch 2000 Loss 2.0708 Accuracy 0.5778\n",
      "Epoch 16 Batch 2050 Loss 2.0705 Accuracy 0.5778\n",
      "Epoch 16 Batch 2100 Loss 2.0703 Accuracy 0.5778\n",
      "Epoch 16 Batch 2150 Loss 2.0700 Accuracy 0.5779\n",
      "Epoch 16 Batch 2200 Loss 2.0694 Accuracy 0.5779\n",
      "Epoch 16 Batch 2250 Loss 2.0699 Accuracy 0.5779\n",
      "Epoch 16 Batch 2300 Loss 2.0694 Accuracy 0.5780\n",
      "Epoch 16 Batch 2350 Loss 2.0690 Accuracy 0.5780\n",
      "Epoch 16 Batch 2400 Loss 2.0690 Accuracy 0.5780\n",
      "Epoch 16 Batch 2450 Loss 2.0687 Accuracy 0.5781\n",
      "Epoch 16 Batch 2500 Loss 2.0689 Accuracy 0.5781\n",
      "Epoch 16 Batch 2550 Loss 2.0691 Accuracy 0.5780\n",
      "Epoch 16 Batch 2600 Loss 2.0692 Accuracy 0.5780\n",
      "Epoch 16 Loss 2.0692 Accuracy 0.5780\n",
      "Time taken for 1 epoch: 163.3128788471222 secs\n",
      "\n",
      "Epoch 17 Batch 0 Loss 1.9938 Accuracy 0.5831\n",
      "Epoch 17 Batch 50 Loss 2.0596 Accuracy 0.5769\n",
      "Epoch 17 Batch 100 Loss 2.0568 Accuracy 0.5783\n",
      "Epoch 17 Batch 150 Loss 2.0546 Accuracy 0.5790\n",
      "Epoch 17 Batch 200 Loss 2.0479 Accuracy 0.5807\n",
      "Epoch 17 Batch 250 Loss 2.0470 Accuracy 0.5810\n",
      "Epoch 17 Batch 300 Loss 2.0456 Accuracy 0.5814\n",
      "Epoch 17 Batch 350 Loss 2.0428 Accuracy 0.5821\n",
      "Epoch 17 Batch 400 Loss 2.0452 Accuracy 0.5816\n",
      "Epoch 17 Batch 450 Loss 2.0446 Accuracy 0.5817\n",
      "Epoch 17 Batch 500 Loss 2.0450 Accuracy 0.5816\n",
      "Epoch 17 Batch 550 Loss 2.0468 Accuracy 0.5815\n",
      "Epoch 17 Batch 600 Loss 2.0481 Accuracy 0.5812\n",
      "Epoch 17 Batch 650 Loss 2.0498 Accuracy 0.5811\n",
      "Epoch 17 Batch 700 Loss 2.0497 Accuracy 0.5808\n",
      "Epoch 17 Batch 750 Loss 2.0503 Accuracy 0.5806\n",
      "Epoch 17 Batch 800 Loss 2.0511 Accuracy 0.5806\n",
      "Epoch 17 Batch 850 Loss 2.0516 Accuracy 0.5806\n",
      "Epoch 17 Batch 900 Loss 2.0516 Accuracy 0.5806\n",
      "Epoch 17 Batch 950 Loss 2.0520 Accuracy 0.5806\n",
      "Epoch 17 Batch 1000 Loss 2.0528 Accuracy 0.5804\n",
      "Epoch 17 Batch 1050 Loss 2.0518 Accuracy 0.5805\n",
      "Epoch 17 Batch 1100 Loss 2.0517 Accuracy 0.5806\n",
      "Epoch 17 Batch 1150 Loss 2.0522 Accuracy 0.5804\n",
      "Epoch 17 Batch 1200 Loss 2.0512 Accuracy 0.5806\n",
      "Epoch 17 Batch 1250 Loss 2.0506 Accuracy 0.5807\n",
      "Epoch 17 Batch 1300 Loss 2.0506 Accuracy 0.5807\n",
      "Epoch 17 Batch 1350 Loss 2.0511 Accuracy 0.5807\n",
      "Epoch 17 Batch 1400 Loss 2.0503 Accuracy 0.5809\n",
      "Epoch 17 Batch 1450 Loss 2.0505 Accuracy 0.5809\n",
      "Epoch 17 Batch 1500 Loss 2.0508 Accuracy 0.5809\n",
      "Epoch 17 Batch 1550 Loss 2.0510 Accuracy 0.5809\n",
      "Epoch 17 Batch 1600 Loss 2.0514 Accuracy 0.5808\n",
      "Epoch 17 Batch 1650 Loss 2.0506 Accuracy 0.5809\n",
      "Epoch 17 Batch 1700 Loss 2.0508 Accuracy 0.5808\n",
      "Epoch 17 Batch 1750 Loss 2.0501 Accuracy 0.5809\n",
      "Epoch 17 Batch 1800 Loss 2.0500 Accuracy 0.5809\n",
      "Epoch 17 Batch 1850 Loss 2.0503 Accuracy 0.5809\n",
      "Epoch 17 Batch 1900 Loss 2.0503 Accuracy 0.5808\n",
      "Epoch 17 Batch 1950 Loss 2.0506 Accuracy 0.5808\n",
      "Epoch 17 Batch 2000 Loss 2.0508 Accuracy 0.5808\n",
      "Epoch 17 Batch 2050 Loss 2.0504 Accuracy 0.5808\n",
      "Epoch 17 Batch 2100 Loss 2.0506 Accuracy 0.5808\n",
      "Epoch 17 Batch 2150 Loss 2.0511 Accuracy 0.5808\n",
      "Epoch 17 Batch 2200 Loss 2.0510 Accuracy 0.5808\n",
      "Epoch 17 Batch 2250 Loss 2.0508 Accuracy 0.5808\n",
      "Epoch 17 Batch 2300 Loss 2.0508 Accuracy 0.5809\n",
      "Epoch 17 Batch 2350 Loss 2.0506 Accuracy 0.5809\n",
      "Epoch 17 Batch 2400 Loss 2.0503 Accuracy 0.5810\n",
      "Epoch 17 Batch 2450 Loss 2.0504 Accuracy 0.5810\n",
      "Epoch 17 Batch 2500 Loss 2.0502 Accuracy 0.5809\n",
      "Epoch 17 Batch 2550 Loss 2.0504 Accuracy 0.5809\n",
      "Epoch 17 Batch 2600 Loss 2.0507 Accuracy 0.5809\n",
      "Epoch 17 Loss 2.0507 Accuracy 0.5808\n",
      "Time taken for 1 epoch: 162.86502647399902 secs\n",
      "\n",
      "Epoch 18 Batch 0 Loss 2.1115 Accuracy 0.5662\n",
      "Epoch 18 Batch 50 Loss 2.0424 Accuracy 0.5821\n",
      "Epoch 18 Batch 100 Loss 2.0261 Accuracy 0.5850\n",
      "Epoch 18 Batch 150 Loss 2.0312 Accuracy 0.5836\n",
      "Epoch 18 Batch 200 Loss 2.0340 Accuracy 0.5833\n",
      "Epoch 18 Batch 250 Loss 2.0291 Accuracy 0.5841\n",
      "Epoch 18 Batch 300 Loss 2.0290 Accuracy 0.5840\n",
      "Epoch 18 Batch 350 Loss 2.0303 Accuracy 0.5835\n",
      "Epoch 18 Batch 400 Loss 2.0327 Accuracy 0.5829\n",
      "Epoch 18 Batch 450 Loss 2.0345 Accuracy 0.5826\n",
      "Epoch 18 Batch 500 Loss 2.0361 Accuracy 0.5824\n",
      "Epoch 18 Batch 550 Loss 2.0365 Accuracy 0.5825\n",
      "Epoch 18 Batch 600 Loss 2.0366 Accuracy 0.5825\n",
      "Epoch 18 Batch 650 Loss 2.0362 Accuracy 0.5824\n",
      "Epoch 18 Batch 700 Loss 2.0346 Accuracy 0.5829\n",
      "Epoch 18 Batch 750 Loss 2.0349 Accuracy 0.5828\n",
      "Epoch 18 Batch 800 Loss 2.0341 Accuracy 0.5830\n",
      "Epoch 18 Batch 850 Loss 2.0328 Accuracy 0.5832\n",
      "Epoch 18 Batch 900 Loss 2.0337 Accuracy 0.5830\n",
      "Epoch 18 Batch 950 Loss 2.0333 Accuracy 0.5832\n",
      "Epoch 18 Batch 1000 Loss 2.0328 Accuracy 0.5834\n",
      "Epoch 18 Batch 1050 Loss 2.0335 Accuracy 0.5832\n",
      "Epoch 18 Batch 1100 Loss 2.0342 Accuracy 0.5831\n",
      "Epoch 18 Batch 1150 Loss 2.0340 Accuracy 0.5831\n",
      "Epoch 18 Batch 1200 Loss 2.0337 Accuracy 0.5832\n",
      "Epoch 18 Batch 1250 Loss 2.0338 Accuracy 0.5832\n",
      "Epoch 18 Batch 1300 Loss 2.0334 Accuracy 0.5832\n",
      "Epoch 18 Batch 1350 Loss 2.0333 Accuracy 0.5833\n",
      "Epoch 18 Batch 1400 Loss 2.0327 Accuracy 0.5835\n",
      "Epoch 18 Batch 1450 Loss 2.0326 Accuracy 0.5834\n",
      "Epoch 18 Batch 1500 Loss 2.0322 Accuracy 0.5835\n",
      "Epoch 18 Batch 1550 Loss 2.0320 Accuracy 0.5835\n",
      "Epoch 18 Batch 1600 Loss 2.0320 Accuracy 0.5835\n",
      "Epoch 18 Batch 1650 Loss 2.0324 Accuracy 0.5835\n",
      "Epoch 18 Batch 1700 Loss 2.0333 Accuracy 0.5834\n",
      "Epoch 18 Batch 1750 Loss 2.0323 Accuracy 0.5835\n",
      "Epoch 18 Batch 1800 Loss 2.0319 Accuracy 0.5835\n",
      "Epoch 18 Batch 1850 Loss 2.0318 Accuracy 0.5835\n",
      "Epoch 18 Batch 1900 Loss 2.0321 Accuracy 0.5834\n",
      "Epoch 18 Batch 1950 Loss 2.0322 Accuracy 0.5834\n",
      "Epoch 18 Batch 2000 Loss 2.0327 Accuracy 0.5833\n",
      "Epoch 18 Batch 2050 Loss 2.0332 Accuracy 0.5833\n",
      "Epoch 18 Batch 2100 Loss 2.0340 Accuracy 0.5832\n",
      "Epoch 18 Batch 2150 Loss 2.0340 Accuracy 0.5832\n",
      "Epoch 18 Batch 2200 Loss 2.0341 Accuracy 0.5832\n",
      "Epoch 18 Batch 2250 Loss 2.0337 Accuracy 0.5832\n",
      "Epoch 18 Batch 2300 Loss 2.0339 Accuracy 0.5832\n",
      "Epoch 18 Batch 2350 Loss 2.0342 Accuracy 0.5832\n",
      "Epoch 18 Batch 2400 Loss 2.0340 Accuracy 0.5832\n",
      "Epoch 18 Batch 2450 Loss 2.0343 Accuracy 0.5832\n",
      "Epoch 18 Batch 2500 Loss 2.0345 Accuracy 0.5831\n",
      "Epoch 18 Batch 2550 Loss 2.0343 Accuracy 0.5831\n",
      "Epoch 18 Batch 2600 Loss 2.0343 Accuracy 0.5831\n",
      "Epoch 18 Loss 2.0344 Accuracy 0.5831\n",
      "Time taken for 1 epoch: 162.19879007339478 secs\n",
      "\n",
      "Epoch 19 Batch 0 Loss 1.9584 Accuracy 0.5990\n",
      "Epoch 19 Batch 50 Loss 2.0225 Accuracy 0.5851\n",
      "Epoch 19 Batch 100 Loss 2.0112 Accuracy 0.5862\n",
      "Epoch 19 Batch 150 Loss 2.0192 Accuracy 0.5857\n",
      "Epoch 19 Batch 200 Loss 2.0202 Accuracy 0.5854\n",
      "Epoch 19 Batch 250 Loss 2.0169 Accuracy 0.5860\n",
      "Epoch 19 Batch 300 Loss 2.0165 Accuracy 0.5859\n",
      "Epoch 19 Batch 350 Loss 2.0139 Accuracy 0.5863\n",
      "Epoch 19 Batch 400 Loss 2.0172 Accuracy 0.5856\n",
      "Epoch 19 Batch 450 Loss 2.0151 Accuracy 0.5859\n",
      "Epoch 19 Batch 500 Loss 2.0153 Accuracy 0.5857\n",
      "Epoch 19 Batch 550 Loss 2.0158 Accuracy 0.5856\n",
      "Epoch 19 Batch 600 Loss 2.0164 Accuracy 0.5856\n",
      "Epoch 19 Batch 650 Loss 2.0169 Accuracy 0.5855\n",
      "Epoch 19 Batch 700 Loss 2.0180 Accuracy 0.5852\n",
      "Epoch 19 Batch 750 Loss 2.0165 Accuracy 0.5853\n",
      "Epoch 19 Batch 800 Loss 2.0158 Accuracy 0.5856\n",
      "Epoch 19 Batch 850 Loss 2.0168 Accuracy 0.5855\n",
      "Epoch 19 Batch 900 Loss 2.0159 Accuracy 0.5858\n",
      "Epoch 19 Batch 950 Loss 2.0160 Accuracy 0.5859\n",
      "Epoch 19 Batch 1000 Loss 2.0158 Accuracy 0.5858\n",
      "Epoch 19 Batch 1050 Loss 2.0164 Accuracy 0.5858\n",
      "Epoch 19 Batch 1100 Loss 2.0173 Accuracy 0.5856\n",
      "Epoch 19 Batch 1150 Loss 2.0173 Accuracy 0.5856\n",
      "Epoch 19 Batch 1200 Loss 2.0173 Accuracy 0.5856\n",
      "Epoch 19 Batch 1250 Loss 2.0166 Accuracy 0.5857\n",
      "Epoch 19 Batch 1300 Loss 2.0166 Accuracy 0.5856\n",
      "Epoch 19 Batch 1350 Loss 2.0164 Accuracy 0.5856\n",
      "Epoch 19 Batch 1400 Loss 2.0171 Accuracy 0.5856\n",
      "Epoch 19 Batch 1450 Loss 2.0171 Accuracy 0.5856\n",
      "Epoch 19 Batch 1500 Loss 2.0177 Accuracy 0.5856\n",
      "Epoch 19 Batch 1550 Loss 2.0176 Accuracy 0.5856\n",
      "Epoch 19 Batch 1600 Loss 2.0178 Accuracy 0.5855\n",
      "Epoch 19 Batch 1650 Loss 2.0180 Accuracy 0.5856\n",
      "Epoch 19 Batch 1700 Loss 2.0176 Accuracy 0.5857\n",
      "Epoch 19 Batch 1750 Loss 2.0180 Accuracy 0.5856\n",
      "Epoch 19 Batch 1800 Loss 2.0181 Accuracy 0.5856\n",
      "Epoch 19 Batch 1850 Loss 2.0178 Accuracy 0.5856\n",
      "Epoch 19 Batch 1900 Loss 2.0177 Accuracy 0.5856\n",
      "Epoch 19 Batch 1950 Loss 2.0177 Accuracy 0.5856\n",
      "Epoch 19 Batch 2000 Loss 2.0176 Accuracy 0.5857\n",
      "Epoch 19 Batch 2050 Loss 2.0174 Accuracy 0.5857\n",
      "Epoch 19 Batch 2100 Loss 2.0179 Accuracy 0.5856\n",
      "Epoch 19 Batch 2150 Loss 2.0178 Accuracy 0.5856\n",
      "Epoch 19 Batch 2200 Loss 2.0180 Accuracy 0.5856\n",
      "Epoch 19 Batch 2250 Loss 2.0180 Accuracy 0.5856\n",
      "Epoch 19 Batch 2300 Loss 2.0180 Accuracy 0.5855\n",
      "Epoch 19 Batch 2350 Loss 2.0180 Accuracy 0.5856\n",
      "Epoch 19 Batch 2400 Loss 2.0177 Accuracy 0.5856\n",
      "Epoch 19 Batch 2450 Loss 2.0177 Accuracy 0.5856\n",
      "Epoch 19 Batch 2500 Loss 2.0180 Accuracy 0.5855\n",
      "Epoch 19 Batch 2550 Loss 2.0181 Accuracy 0.5855\n",
      "Epoch 19 Batch 2600 Loss 2.0179 Accuracy 0.5856\n",
      "Epoch 19 Loss 2.0180 Accuracy 0.5855\n",
      "Time taken for 1 epoch: 162.7699112892151 secs\n",
      "\n",
      "Epoch 20 Batch 0 Loss 1.8930 Accuracy 0.5964\n",
      "Epoch 20 Batch 50 Loss 2.0031 Accuracy 0.5866\n",
      "Epoch 20 Batch 100 Loss 2.0008 Accuracy 0.5876\n",
      "Epoch 20 Batch 150 Loss 1.9913 Accuracy 0.5889\n",
      "Epoch 20 Batch 200 Loss 1.9924 Accuracy 0.5887\n",
      "Epoch 20 Batch 250 Loss 1.9938 Accuracy 0.5886\n",
      "Epoch 20 Batch 300 Loss 1.9964 Accuracy 0.5881\n",
      "Epoch 20 Batch 350 Loss 1.9966 Accuracy 0.5880\n",
      "Epoch 20 Batch 400 Loss 1.9972 Accuracy 0.5880\n",
      "Epoch 20 Batch 450 Loss 1.9966 Accuracy 0.5881\n",
      "Epoch 20 Batch 500 Loss 1.9993 Accuracy 0.5876\n",
      "Epoch 20 Batch 550 Loss 1.9973 Accuracy 0.5880\n",
      "Epoch 20 Batch 600 Loss 1.9980 Accuracy 0.5880\n",
      "Epoch 20 Batch 650 Loss 2.0006 Accuracy 0.5877\n",
      "Epoch 20 Batch 700 Loss 2.0023 Accuracy 0.5876\n",
      "Epoch 20 Batch 750 Loss 2.0024 Accuracy 0.5876\n",
      "Epoch 20 Batch 800 Loss 2.0018 Accuracy 0.5878\n",
      "Epoch 20 Batch 850 Loss 2.0012 Accuracy 0.5878\n",
      "Epoch 20 Batch 900 Loss 2.0006 Accuracy 0.5879\n",
      "Epoch 20 Batch 950 Loss 2.0012 Accuracy 0.5878\n",
      "Epoch 20 Batch 1000 Loss 2.0006 Accuracy 0.5879\n",
      "Epoch 20 Batch 1050 Loss 2.0008 Accuracy 0.5879\n",
      "Epoch 20 Batch 1100 Loss 2.0005 Accuracy 0.5879\n",
      "Epoch 20 Batch 1150 Loss 2.0018 Accuracy 0.5876\n",
      "Epoch 20 Batch 1200 Loss 2.0016 Accuracy 0.5876\n",
      "Epoch 20 Batch 1250 Loss 2.0020 Accuracy 0.5877\n",
      "Epoch 20 Batch 1300 Loss 2.0020 Accuracy 0.5877\n",
      "Epoch 20 Batch 1350 Loss 2.0020 Accuracy 0.5879\n",
      "Epoch 20 Batch 1400 Loss 2.0024 Accuracy 0.5879\n",
      "Epoch 20 Batch 1450 Loss 2.0020 Accuracy 0.5880\n",
      "Epoch 20 Batch 1500 Loss 2.0016 Accuracy 0.5880\n",
      "Epoch 20 Batch 1550 Loss 2.0011 Accuracy 0.5880\n",
      "Epoch 20 Batch 1600 Loss 2.0025 Accuracy 0.5878\n",
      "Epoch 20 Batch 1650 Loss 2.0030 Accuracy 0.5877\n",
      "Epoch 20 Batch 1700 Loss 2.0024 Accuracy 0.5878\n",
      "Epoch 20 Batch 1750 Loss 2.0020 Accuracy 0.5878\n",
      "Epoch 20 Batch 1800 Loss 2.0023 Accuracy 0.5878\n",
      "Epoch 20 Batch 1850 Loss 2.0018 Accuracy 0.5878\n",
      "Epoch 20 Batch 1900 Loss 2.0019 Accuracy 0.5878\n",
      "Epoch 20 Batch 1950 Loss 2.0020 Accuracy 0.5878\n",
      "Epoch 20 Batch 2000 Loss 2.0024 Accuracy 0.5877\n",
      "Epoch 20 Batch 2050 Loss 2.0030 Accuracy 0.5877\n",
      "Epoch 20 Batch 2100 Loss 2.0030 Accuracy 0.5877\n",
      "Epoch 20 Batch 2150 Loss 2.0032 Accuracy 0.5877\n",
      "Epoch 20 Batch 2200 Loss 2.0038 Accuracy 0.5875\n",
      "Epoch 20 Batch 2250 Loss 2.0037 Accuracy 0.5875\n",
      "Epoch 20 Batch 2300 Loss 2.0038 Accuracy 0.5875\n",
      "Epoch 20 Batch 2350 Loss 2.0036 Accuracy 0.5875\n",
      "Epoch 20 Batch 2400 Loss 2.0037 Accuracy 0.5875\n",
      "Epoch 20 Batch 2450 Loss 2.0036 Accuracy 0.5875\n",
      "Epoch 20 Batch 2500 Loss 2.0034 Accuracy 0.5875\n",
      "Epoch 20 Batch 2550 Loss 2.0038 Accuracy 0.5875\n",
      "Epoch 20 Batch 2600 Loss 2.0039 Accuracy 0.5874\n",
      "Saving checkpoint for epoch 20 at ./checkpoints/train/ckpt-4\n",
      "Epoch 20 Loss 2.0041 Accuracy 0.5874\n",
      "Time taken for 1 epoch: 163.68037796020508 secs\n",
      "\n",
      "Epoch 21 Batch 0 Loss 2.1957 Accuracy 0.5658\n",
      "Epoch 21 Batch 50 Loss 2.0002 Accuracy 0.5883\n",
      "Epoch 21 Batch 100 Loss 2.0014 Accuracy 0.5883\n",
      "Epoch 21 Batch 150 Loss 1.9899 Accuracy 0.5894\n",
      "Epoch 21 Batch 200 Loss 1.9913 Accuracy 0.5892\n",
      "Epoch 21 Batch 250 Loss 1.9931 Accuracy 0.5890\n",
      "Epoch 21 Batch 300 Loss 1.9922 Accuracy 0.5890\n",
      "Epoch 21 Batch 350 Loss 1.9932 Accuracy 0.5885\n",
      "Epoch 21 Batch 400 Loss 1.9928 Accuracy 0.5888\n",
      "Epoch 21 Batch 450 Loss 1.9879 Accuracy 0.5897\n",
      "Epoch 21 Batch 500 Loss 1.9889 Accuracy 0.5895\n",
      "Epoch 21 Batch 550 Loss 1.9882 Accuracy 0.5898\n",
      "Epoch 21 Batch 600 Loss 1.9882 Accuracy 0.5896\n",
      "Epoch 21 Batch 650 Loss 1.9882 Accuracy 0.5894\n",
      "Epoch 21 Batch 700 Loss 1.9880 Accuracy 0.5895\n",
      "Epoch 21 Batch 750 Loss 1.9882 Accuracy 0.5896\n",
      "Epoch 21 Batch 800 Loss 1.9877 Accuracy 0.5896\n",
      "Epoch 21 Batch 850 Loss 1.9875 Accuracy 0.5896\n",
      "Epoch 21 Batch 900 Loss 1.9885 Accuracy 0.5894\n",
      "Epoch 21 Batch 950 Loss 1.9878 Accuracy 0.5896\n",
      "Epoch 21 Batch 1000 Loss 1.9886 Accuracy 0.5895\n",
      "Epoch 21 Batch 1050 Loss 1.9886 Accuracy 0.5895\n",
      "Epoch 21 Batch 1100 Loss 1.9884 Accuracy 0.5897\n",
      "Epoch 21 Batch 1150 Loss 1.9897 Accuracy 0.5894\n",
      "Epoch 21 Batch 1200 Loss 1.9894 Accuracy 0.5894\n",
      "Epoch 21 Batch 1250 Loss 1.9893 Accuracy 0.5895\n",
      "Epoch 21 Batch 1300 Loss 1.9895 Accuracy 0.5895\n",
      "Epoch 21 Batch 1350 Loss 1.9894 Accuracy 0.5896\n",
      "Epoch 21 Batch 1400 Loss 1.9893 Accuracy 0.5896\n",
      "Epoch 21 Batch 1450 Loss 1.9896 Accuracy 0.5896\n",
      "Epoch 21 Batch 1500 Loss 1.9894 Accuracy 0.5895\n",
      "Epoch 21 Batch 1550 Loss 1.9898 Accuracy 0.5896\n",
      "Epoch 21 Batch 1600 Loss 1.9897 Accuracy 0.5896\n",
      "Epoch 21 Batch 1650 Loss 1.9891 Accuracy 0.5897\n",
      "Epoch 21 Batch 1700 Loss 1.9887 Accuracy 0.5898\n",
      "Epoch 21 Batch 1750 Loss 1.9884 Accuracy 0.5898\n",
      "Epoch 21 Batch 1800 Loss 1.9881 Accuracy 0.5898\n",
      "Epoch 21 Batch 1850 Loss 1.9888 Accuracy 0.5897\n",
      "Epoch 21 Batch 1900 Loss 1.9886 Accuracy 0.5897\n",
      "Epoch 21 Batch 1950 Loss 1.9887 Accuracy 0.5897\n",
      "Epoch 21 Batch 2000 Loss 1.9890 Accuracy 0.5897\n",
      "Epoch 21 Batch 2050 Loss 1.9886 Accuracy 0.5898\n",
      "Epoch 21 Batch 2100 Loss 1.9887 Accuracy 0.5897\n",
      "Epoch 21 Batch 2150 Loss 1.9893 Accuracy 0.5897\n",
      "Epoch 21 Batch 2200 Loss 1.9894 Accuracy 0.5896\n",
      "Epoch 21 Batch 2250 Loss 1.9898 Accuracy 0.5896\n",
      "Epoch 21 Batch 2300 Loss 1.9893 Accuracy 0.5897\n",
      "Epoch 21 Batch 2350 Loss 1.9893 Accuracy 0.5896\n",
      "Epoch 21 Batch 2400 Loss 1.9893 Accuracy 0.5897\n",
      "Epoch 21 Batch 2450 Loss 1.9892 Accuracy 0.5897\n",
      "Epoch 21 Batch 2500 Loss 1.9896 Accuracy 0.5896\n",
      "Epoch 21 Batch 2550 Loss 1.9896 Accuracy 0.5896\n",
      "Epoch 21 Batch 2600 Loss 1.9901 Accuracy 0.5895\n",
      "Epoch 21 Loss 1.9902 Accuracy 0.5895\n",
      "Time taken for 1 epoch: 162.84766578674316 secs\n",
      "\n",
      "Epoch 22 Batch 0 Loss 2.1483 Accuracy 0.5624\n",
      "Epoch 22 Batch 50 Loss 1.9876 Accuracy 0.5895\n",
      "Epoch 22 Batch 100 Loss 1.9823 Accuracy 0.5902\n",
      "Epoch 22 Batch 150 Loss 1.9755 Accuracy 0.5911\n",
      "Epoch 22 Batch 200 Loss 1.9698 Accuracy 0.5920\n",
      "Epoch 22 Batch 250 Loss 1.9708 Accuracy 0.5925\n",
      "Epoch 22 Batch 300 Loss 1.9748 Accuracy 0.5916\n",
      "Epoch 22 Batch 350 Loss 1.9727 Accuracy 0.5919\n",
      "Epoch 22 Batch 400 Loss 1.9738 Accuracy 0.5915\n",
      "Epoch 22 Batch 450 Loss 1.9741 Accuracy 0.5914\n",
      "Epoch 22 Batch 500 Loss 1.9738 Accuracy 0.5916\n",
      "Epoch 22 Batch 550 Loss 1.9740 Accuracy 0.5917\n",
      "Epoch 22 Batch 600 Loss 1.9733 Accuracy 0.5918\n",
      "Epoch 22 Batch 650 Loss 1.9754 Accuracy 0.5914\n",
      "Epoch 22 Batch 700 Loss 1.9757 Accuracy 0.5914\n",
      "Epoch 22 Batch 750 Loss 1.9761 Accuracy 0.5913\n",
      "Epoch 22 Batch 800 Loss 1.9776 Accuracy 0.5909\n",
      "Epoch 22 Batch 850 Loss 1.9764 Accuracy 0.5912\n",
      "Epoch 22 Batch 900 Loss 1.9782 Accuracy 0.5909\n",
      "Epoch 22 Batch 950 Loss 1.9782 Accuracy 0.5909\n",
      "Epoch 22 Batch 1000 Loss 1.9786 Accuracy 0.5909\n",
      "Epoch 22 Batch 1050 Loss 1.9788 Accuracy 0.5909\n",
      "Epoch 22 Batch 1100 Loss 1.9781 Accuracy 0.5910\n",
      "Epoch 22 Batch 1150 Loss 1.9778 Accuracy 0.5910\n",
      "Epoch 22 Batch 1200 Loss 1.9775 Accuracy 0.5912\n",
      "Epoch 22 Batch 1250 Loss 1.9772 Accuracy 0.5913\n",
      "Epoch 22 Batch 1300 Loss 1.9767 Accuracy 0.5914\n",
      "Epoch 22 Batch 1350 Loss 1.9759 Accuracy 0.5915\n",
      "Epoch 22 Batch 1400 Loss 1.9755 Accuracy 0.5916\n",
      "Epoch 22 Batch 1450 Loss 1.9751 Accuracy 0.5916\n",
      "Epoch 22 Batch 1500 Loss 1.9751 Accuracy 0.5917\n",
      "Epoch 22 Batch 1550 Loss 1.9757 Accuracy 0.5916\n",
      "Epoch 22 Batch 1600 Loss 1.9761 Accuracy 0.5916\n",
      "Epoch 22 Batch 1650 Loss 1.9761 Accuracy 0.5915\n",
      "Epoch 22 Batch 1700 Loss 1.9764 Accuracy 0.5915\n",
      "Epoch 22 Batch 1750 Loss 1.9761 Accuracy 0.5916\n",
      "Epoch 22 Batch 1800 Loss 1.9755 Accuracy 0.5917\n",
      "Epoch 22 Batch 1850 Loss 1.9759 Accuracy 0.5917\n",
      "Epoch 22 Batch 1900 Loss 1.9761 Accuracy 0.5916\n",
      "Epoch 22 Batch 1950 Loss 1.9760 Accuracy 0.5917\n",
      "Epoch 22 Batch 2000 Loss 1.9761 Accuracy 0.5917\n",
      "Epoch 22 Batch 2050 Loss 1.9766 Accuracy 0.5916\n",
      "Epoch 22 Batch 2100 Loss 1.9766 Accuracy 0.5916\n",
      "Epoch 22 Batch 2150 Loss 1.9766 Accuracy 0.5916\n",
      "Epoch 22 Batch 2200 Loss 1.9773 Accuracy 0.5915\n",
      "Epoch 22 Batch 2250 Loss 1.9777 Accuracy 0.5914\n",
      "Epoch 22 Batch 2300 Loss 1.9775 Accuracy 0.5914\n",
      "Epoch 22 Batch 2350 Loss 1.9772 Accuracy 0.5914\n",
      "Epoch 22 Batch 2400 Loss 1.9769 Accuracy 0.5914\n",
      "Epoch 22 Batch 2450 Loss 1.9773 Accuracy 0.5914\n",
      "Epoch 22 Batch 2500 Loss 1.9776 Accuracy 0.5913\n",
      "Epoch 22 Batch 2550 Loss 1.9781 Accuracy 0.5913\n",
      "Epoch 22 Batch 2600 Loss 1.9781 Accuracy 0.5913\n",
      "Epoch 22 Loss 1.9781 Accuracy 0.5914\n",
      "Time taken for 1 epoch: 163.8929934501648 secs\n",
      "\n",
      "Epoch 23 Batch 0 Loss 1.8451 Accuracy 0.6172\n",
      "Epoch 23 Batch 50 Loss 1.9585 Accuracy 0.5927\n",
      "Epoch 23 Batch 100 Loss 1.9405 Accuracy 0.5961\n",
      "Epoch 23 Batch 150 Loss 1.9547 Accuracy 0.5940\n",
      "Epoch 23 Batch 200 Loss 1.9537 Accuracy 0.5942\n",
      "Epoch 23 Batch 250 Loss 1.9580 Accuracy 0.5936\n",
      "Epoch 23 Batch 300 Loss 1.9634 Accuracy 0.5929\n",
      "Epoch 23 Batch 350 Loss 1.9649 Accuracy 0.5926\n",
      "Epoch 23 Batch 400 Loss 1.9646 Accuracy 0.5928\n",
      "Epoch 23 Batch 450 Loss 1.9651 Accuracy 0.5926\n",
      "Epoch 23 Batch 500 Loss 1.9640 Accuracy 0.5926\n",
      "Epoch 23 Batch 550 Loss 1.9638 Accuracy 0.5927\n",
      "Epoch 23 Batch 600 Loss 1.9656 Accuracy 0.5925\n",
      "Epoch 23 Batch 650 Loss 1.9666 Accuracy 0.5924\n",
      "Epoch 23 Batch 700 Loss 1.9664 Accuracy 0.5925\n",
      "Epoch 23 Batch 750 Loss 1.9665 Accuracy 0.5925\n",
      "Epoch 23 Batch 800 Loss 1.9655 Accuracy 0.5927\n",
      "Epoch 23 Batch 850 Loss 1.9643 Accuracy 0.5928\n",
      "Epoch 23 Batch 900 Loss 1.9648 Accuracy 0.5926\n",
      "Epoch 23 Batch 950 Loss 1.9652 Accuracy 0.5926\n",
      "Epoch 23 Batch 1000 Loss 1.9642 Accuracy 0.5927\n",
      "Epoch 23 Batch 1050 Loss 1.9645 Accuracy 0.5928\n",
      "Epoch 23 Batch 1100 Loss 1.9635 Accuracy 0.5929\n",
      "Epoch 23 Batch 1150 Loss 1.9653 Accuracy 0.5927\n",
      "Epoch 23 Batch 1200 Loss 1.9657 Accuracy 0.5927\n",
      "Epoch 23 Batch 1250 Loss 1.9653 Accuracy 0.5926\n",
      "Epoch 23 Batch 1300 Loss 1.9645 Accuracy 0.5928\n",
      "Epoch 23 Batch 1350 Loss 1.9660 Accuracy 0.5926\n",
      "Epoch 23 Batch 1400 Loss 1.9659 Accuracy 0.5925\n",
      "Epoch 23 Batch 1450 Loss 1.9657 Accuracy 0.5926\n",
      "Epoch 23 Batch 1500 Loss 1.9650 Accuracy 0.5927\n",
      "Epoch 23 Batch 1550 Loss 1.9654 Accuracy 0.5927\n",
      "Epoch 23 Batch 1600 Loss 1.9647 Accuracy 0.5928\n",
      "Epoch 23 Batch 1650 Loss 1.9641 Accuracy 0.5929\n",
      "Epoch 23 Batch 1700 Loss 1.9648 Accuracy 0.5928\n",
      "Epoch 23 Batch 1750 Loss 1.9646 Accuracy 0.5929\n",
      "Epoch 23 Batch 1800 Loss 1.9646 Accuracy 0.5929\n",
      "Epoch 23 Batch 1850 Loss 1.9649 Accuracy 0.5928\n",
      "Epoch 23 Batch 1900 Loss 1.9649 Accuracy 0.5928\n",
      "Epoch 23 Batch 1950 Loss 1.9651 Accuracy 0.5928\n",
      "Epoch 23 Batch 2000 Loss 1.9655 Accuracy 0.5928\n",
      "Epoch 23 Batch 2050 Loss 1.9654 Accuracy 0.5928\n",
      "Epoch 23 Batch 2100 Loss 1.9652 Accuracy 0.5929\n",
      "Epoch 23 Batch 2150 Loss 1.9654 Accuracy 0.5928\n",
      "Epoch 23 Batch 2200 Loss 1.9652 Accuracy 0.5928\n",
      "Epoch 23 Batch 2250 Loss 1.9656 Accuracy 0.5928\n",
      "Epoch 23 Batch 2300 Loss 1.9651 Accuracy 0.5929\n",
      "Epoch 23 Batch 2350 Loss 1.9656 Accuracy 0.5929\n",
      "Epoch 23 Batch 2400 Loss 1.9654 Accuracy 0.5930\n",
      "Epoch 23 Batch 2450 Loss 1.9652 Accuracy 0.5930\n",
      "Epoch 23 Batch 2500 Loss 1.9657 Accuracy 0.5929\n",
      "Epoch 23 Batch 2550 Loss 1.9652 Accuracy 0.5930\n",
      "Epoch 23 Batch 2600 Loss 1.9661 Accuracy 0.5928\n",
      "Epoch 23 Loss 1.9664 Accuracy 0.5928\n",
      "Time taken for 1 epoch: 164.8483021259308 secs\n",
      "\n",
      "Epoch 24 Batch 0 Loss 1.9421 Accuracy 0.6007\n",
      "Epoch 24 Batch 50 Loss 1.9324 Accuracy 0.5958\n",
      "Epoch 24 Batch 100 Loss 1.9411 Accuracy 0.5958\n",
      "Epoch 24 Batch 150 Loss 1.9419 Accuracy 0.5961\n",
      "Epoch 24 Batch 200 Loss 1.9467 Accuracy 0.5950\n",
      "Epoch 24 Batch 250 Loss 1.9522 Accuracy 0.5941\n",
      "Epoch 24 Batch 300 Loss 1.9505 Accuracy 0.5946\n",
      "Epoch 24 Batch 350 Loss 1.9494 Accuracy 0.5947\n",
      "Epoch 24 Batch 400 Loss 1.9498 Accuracy 0.5948\n",
      "Epoch 24 Batch 450 Loss 1.9501 Accuracy 0.5947\n",
      "Epoch 24 Batch 500 Loss 1.9493 Accuracy 0.5946\n",
      "Epoch 24 Batch 550 Loss 1.9501 Accuracy 0.5947\n",
      "Epoch 24 Batch 600 Loss 1.9503 Accuracy 0.5947\n",
      "Epoch 24 Batch 650 Loss 1.9519 Accuracy 0.5945\n",
      "Epoch 24 Batch 700 Loss 1.9522 Accuracy 0.5944\n",
      "Epoch 24 Batch 750 Loss 1.9520 Accuracy 0.5944\n",
      "Epoch 24 Batch 800 Loss 1.9521 Accuracy 0.5943\n",
      "Epoch 24 Batch 850 Loss 1.9526 Accuracy 0.5942\n",
      "Epoch 24 Batch 900 Loss 1.9528 Accuracy 0.5944\n",
      "Epoch 24 Batch 950 Loss 1.9530 Accuracy 0.5943\n",
      "Epoch 24 Batch 1000 Loss 1.9539 Accuracy 0.5942\n",
      "Epoch 24 Batch 1050 Loss 1.9535 Accuracy 0.5944\n",
      "Epoch 24 Batch 1100 Loss 1.9540 Accuracy 0.5943\n",
      "Epoch 24 Batch 1150 Loss 1.9541 Accuracy 0.5943\n",
      "Epoch 24 Batch 1200 Loss 1.9542 Accuracy 0.5943\n",
      "Epoch 24 Batch 1250 Loss 1.9534 Accuracy 0.5943\n",
      "Epoch 24 Batch 1300 Loss 1.9527 Accuracy 0.5945\n",
      "Epoch 24 Batch 1350 Loss 1.9539 Accuracy 0.5943\n",
      "Epoch 24 Batch 1400 Loss 1.9537 Accuracy 0.5944\n",
      "Epoch 24 Batch 1450 Loss 1.9537 Accuracy 0.5944\n",
      "Epoch 24 Batch 1500 Loss 1.9543 Accuracy 0.5943\n",
      "Epoch 24 Batch 1550 Loss 1.9541 Accuracy 0.5944\n",
      "Epoch 24 Batch 1600 Loss 1.9543 Accuracy 0.5944\n",
      "Epoch 24 Batch 1650 Loss 1.9539 Accuracy 0.5945\n",
      "Epoch 24 Batch 1700 Loss 1.9538 Accuracy 0.5945\n",
      "Epoch 24 Batch 1750 Loss 1.9545 Accuracy 0.5944\n",
      "Epoch 24 Batch 1800 Loss 1.9541 Accuracy 0.5945\n",
      "Epoch 24 Batch 1850 Loss 1.9538 Accuracy 0.5946\n",
      "Epoch 24 Batch 1900 Loss 1.9539 Accuracy 0.5945\n",
      "Epoch 24 Batch 1950 Loss 1.9539 Accuracy 0.5945\n",
      "Epoch 24 Batch 2000 Loss 1.9541 Accuracy 0.5945\n",
      "Epoch 24 Batch 2050 Loss 1.9544 Accuracy 0.5944\n",
      "Epoch 24 Batch 2100 Loss 1.9546 Accuracy 0.5944\n",
      "Epoch 24 Batch 2150 Loss 1.9545 Accuracy 0.5944\n",
      "Epoch 24 Batch 2200 Loss 1.9548 Accuracy 0.5944\n",
      "Epoch 24 Batch 2250 Loss 1.9548 Accuracy 0.5944\n",
      "Epoch 24 Batch 2300 Loss 1.9550 Accuracy 0.5944\n",
      "Epoch 24 Batch 2350 Loss 1.9552 Accuracy 0.5943\n",
      "Epoch 24 Batch 2400 Loss 1.9556 Accuracy 0.5943\n",
      "Epoch 24 Batch 2450 Loss 1.9558 Accuracy 0.5942\n",
      "Epoch 24 Batch 2500 Loss 1.9556 Accuracy 0.5943\n",
      "Epoch 24 Batch 2550 Loss 1.9552 Accuracy 0.5944\n",
      "Epoch 24 Batch 2600 Loss 1.9557 Accuracy 0.5943\n",
      "Epoch 24 Loss 1.9555 Accuracy 0.5944\n",
      "Time taken for 1 epoch: 165.33475613594055 secs\n",
      "\n",
      "Epoch 25 Batch 0 Loss 1.9340 Accuracy 0.5810\n",
      "Epoch 25 Batch 50 Loss 1.9144 Accuracy 0.6015\n",
      "Epoch 25 Batch 100 Loss 1.9199 Accuracy 0.5998\n",
      "Epoch 25 Batch 150 Loss 1.9321 Accuracy 0.5976\n",
      "Epoch 25 Batch 200 Loss 1.9389 Accuracy 0.5969\n",
      "Epoch 25 Batch 250 Loss 1.9414 Accuracy 0.5973\n",
      "Epoch 25 Batch 300 Loss 1.9424 Accuracy 0.5973\n",
      "Epoch 25 Batch 350 Loss 1.9407 Accuracy 0.5977\n",
      "Epoch 25 Batch 400 Loss 1.9407 Accuracy 0.5972\n",
      "Epoch 25 Batch 450 Loss 1.9385 Accuracy 0.5974\n",
      "Epoch 25 Batch 500 Loss 1.9419 Accuracy 0.5967\n",
      "Epoch 25 Batch 550 Loss 1.9425 Accuracy 0.5964\n",
      "Epoch 25 Batch 600 Loss 1.9437 Accuracy 0.5963\n",
      "Epoch 25 Batch 650 Loss 1.9432 Accuracy 0.5964\n",
      "Epoch 25 Batch 700 Loss 1.9413 Accuracy 0.5966\n",
      "Epoch 25 Batch 750 Loss 1.9415 Accuracy 0.5965\n",
      "Epoch 25 Batch 800 Loss 1.9426 Accuracy 0.5963\n",
      "Epoch 25 Batch 850 Loss 1.9423 Accuracy 0.5963\n",
      "Epoch 25 Batch 900 Loss 1.9427 Accuracy 0.5962\n",
      "Epoch 25 Batch 950 Loss 1.9432 Accuracy 0.5962\n",
      "Epoch 25 Batch 1000 Loss 1.9431 Accuracy 0.5962\n",
      "Epoch 25 Batch 1050 Loss 1.9424 Accuracy 0.5962\n",
      "Epoch 25 Batch 1100 Loss 1.9431 Accuracy 0.5962\n",
      "Epoch 25 Batch 1150 Loss 1.9431 Accuracy 0.5962\n",
      "Epoch 25 Batch 1200 Loss 1.9433 Accuracy 0.5962\n",
      "Epoch 25 Batch 1250 Loss 1.9444 Accuracy 0.5960\n",
      "Epoch 25 Batch 1300 Loss 1.9443 Accuracy 0.5960\n",
      "Epoch 25 Batch 1350 Loss 1.9441 Accuracy 0.5961\n",
      "Epoch 25 Batch 1400 Loss 1.9443 Accuracy 0.5961\n",
      "Epoch 25 Batch 1450 Loss 1.9440 Accuracy 0.5961\n",
      "Epoch 25 Batch 1500 Loss 1.9444 Accuracy 0.5960\n",
      "Epoch 25 Batch 1550 Loss 1.9438 Accuracy 0.5961\n",
      "Epoch 25 Batch 1600 Loss 1.9436 Accuracy 0.5962\n",
      "Epoch 25 Batch 1650 Loss 1.9439 Accuracy 0.5962\n",
      "Epoch 25 Batch 1700 Loss 1.9439 Accuracy 0.5962\n",
      "Epoch 25 Batch 1750 Loss 1.9448 Accuracy 0.5960\n",
      "Epoch 25 Batch 1800 Loss 1.9442 Accuracy 0.5960\n",
      "Epoch 25 Batch 1850 Loss 1.9437 Accuracy 0.5961\n",
      "Epoch 25 Batch 1900 Loss 1.9430 Accuracy 0.5962\n",
      "Epoch 25 Batch 1950 Loss 1.9431 Accuracy 0.5962\n",
      "Epoch 25 Batch 2000 Loss 1.9433 Accuracy 0.5962\n",
      "Epoch 25 Batch 2050 Loss 1.9437 Accuracy 0.5961\n",
      "Epoch 25 Batch 2100 Loss 1.9441 Accuracy 0.5960\n",
      "Epoch 25 Batch 2150 Loss 1.9449 Accuracy 0.5959\n",
      "Epoch 25 Batch 2200 Loss 1.9448 Accuracy 0.5960\n",
      "Epoch 25 Batch 2250 Loss 1.9446 Accuracy 0.5960\n",
      "Epoch 25 Batch 2300 Loss 1.9447 Accuracy 0.5961\n",
      "Epoch 25 Batch 2350 Loss 1.9447 Accuracy 0.5961\n",
      "Epoch 25 Batch 2400 Loss 1.9449 Accuracy 0.5960\n",
      "Epoch 25 Batch 2450 Loss 1.9451 Accuracy 0.5960\n",
      "Epoch 25 Batch 2500 Loss 1.9450 Accuracy 0.5960\n",
      "Epoch 25 Batch 2550 Loss 1.9453 Accuracy 0.5959\n",
      "Epoch 25 Batch 2600 Loss 1.9448 Accuracy 0.5959\n",
      "Saving checkpoint for epoch 25 at ./checkpoints/train/ckpt-5\n",
      "Epoch 25 Loss 1.9448 Accuracy 0.5960\n",
      "Time taken for 1 epoch: 164.2519886493683 secs\n",
      "\n",
      "Epoch 26 Batch 0 Loss 1.9633 Accuracy 0.5890\n",
      "Epoch 26 Batch 50 Loss 1.9205 Accuracy 0.5987\n",
      "Epoch 26 Batch 100 Loss 1.9262 Accuracy 0.5990\n",
      "Epoch 26 Batch 150 Loss 1.9316 Accuracy 0.5982\n",
      "Epoch 26 Batch 200 Loss 1.9251 Accuracy 0.5989\n",
      "Epoch 26 Batch 250 Loss 1.9265 Accuracy 0.5991\n",
      "Epoch 26 Batch 300 Loss 1.9295 Accuracy 0.5986\n",
      "Epoch 26 Batch 350 Loss 1.9303 Accuracy 0.5986\n",
      "Epoch 26 Batch 400 Loss 1.9327 Accuracy 0.5979\n",
      "Epoch 26 Batch 450 Loss 1.9329 Accuracy 0.5980\n",
      "Epoch 26 Batch 500 Loss 1.9350 Accuracy 0.5975\n",
      "Epoch 26 Batch 550 Loss 1.9353 Accuracy 0.5975\n",
      "Epoch 26 Batch 600 Loss 1.9337 Accuracy 0.5979\n",
      "Epoch 26 Batch 650 Loss 1.9345 Accuracy 0.5978\n",
      "Epoch 26 Batch 700 Loss 1.9350 Accuracy 0.5976\n",
      "Epoch 26 Batch 750 Loss 1.9356 Accuracy 0.5975\n",
      "Epoch 26 Batch 800 Loss 1.9351 Accuracy 0.5975\n",
      "Epoch 26 Batch 850 Loss 1.9336 Accuracy 0.5977\n",
      "Epoch 26 Batch 900 Loss 1.9343 Accuracy 0.5976\n",
      "Epoch 26 Batch 950 Loss 1.9344 Accuracy 0.5974\n",
      "Epoch 26 Batch 1000 Loss 1.9346 Accuracy 0.5975\n",
      "Epoch 26 Batch 1050 Loss 1.9348 Accuracy 0.5975\n",
      "Epoch 26 Batch 1100 Loss 1.9341 Accuracy 0.5977\n",
      "Epoch 26 Batch 1150 Loss 1.9334 Accuracy 0.5979\n",
      "Epoch 26 Batch 1200 Loss 1.9327 Accuracy 0.5981\n",
      "Epoch 26 Batch 1250 Loss 1.9325 Accuracy 0.5980\n",
      "Epoch 26 Batch 1300 Loss 1.9324 Accuracy 0.5981\n",
      "Epoch 26 Batch 1350 Loss 1.9327 Accuracy 0.5980\n",
      "Epoch 26 Batch 1400 Loss 1.9328 Accuracy 0.5980\n",
      "Epoch 26 Batch 1450 Loss 1.9330 Accuracy 0.5980\n",
      "Epoch 26 Batch 1500 Loss 1.9342 Accuracy 0.5978\n",
      "Epoch 26 Batch 1550 Loss 1.9349 Accuracy 0.5977\n",
      "Epoch 26 Batch 1600 Loss 1.9351 Accuracy 0.5977\n",
      "Epoch 26 Batch 1650 Loss 1.9355 Accuracy 0.5976\n",
      "Epoch 26 Batch 1700 Loss 1.9355 Accuracy 0.5976\n",
      "Epoch 26 Batch 1750 Loss 1.9352 Accuracy 0.5976\n",
      "Epoch 26 Batch 1800 Loss 1.9357 Accuracy 0.5976\n",
      "Epoch 26 Batch 1850 Loss 1.9354 Accuracy 0.5976\n",
      "Epoch 26 Batch 1900 Loss 1.9351 Accuracy 0.5977\n",
      "Epoch 26 Batch 1950 Loss 1.9351 Accuracy 0.5977\n",
      "Epoch 26 Batch 2000 Loss 1.9348 Accuracy 0.5977\n",
      "Epoch 26 Batch 2050 Loss 1.9344 Accuracy 0.5978\n",
      "Epoch 26 Batch 2100 Loss 1.9346 Accuracy 0.5978\n",
      "Epoch 26 Batch 2150 Loss 1.9351 Accuracy 0.5977\n",
      "Epoch 26 Batch 2200 Loss 1.9356 Accuracy 0.5976\n",
      "Epoch 26 Batch 2250 Loss 1.9356 Accuracy 0.5976\n",
      "Epoch 26 Batch 2300 Loss 1.9354 Accuracy 0.5977\n",
      "Epoch 26 Batch 2350 Loss 1.9356 Accuracy 0.5977\n",
      "Epoch 26 Batch 2400 Loss 1.9354 Accuracy 0.5977\n",
      "Epoch 26 Batch 2450 Loss 1.9353 Accuracy 0.5977\n",
      "Epoch 26 Batch 2500 Loss 1.9355 Accuracy 0.5977\n",
      "Epoch 26 Batch 2550 Loss 1.9358 Accuracy 0.5976\n",
      "Epoch 26 Batch 2600 Loss 1.9361 Accuracy 0.5976\n",
      "Epoch 26 Loss 1.9360 Accuracy 0.5976\n",
      "Time taken for 1 epoch: 163.45603275299072 secs\n",
      "\n",
      "Epoch 27 Batch 0 Loss 1.7228 Accuracy 0.6317\n",
      "Epoch 27 Batch 50 Loss 1.9147 Accuracy 0.6010\n",
      "Epoch 27 Batch 100 Loss 1.9190 Accuracy 0.6009\n",
      "Epoch 27 Batch 150 Loss 1.9177 Accuracy 0.6007\n",
      "Epoch 27 Batch 200 Loss 1.9177 Accuracy 0.6003\n",
      "Epoch 27 Batch 250 Loss 1.9154 Accuracy 0.6007\n",
      "Epoch 27 Batch 300 Loss 1.9167 Accuracy 0.6005\n",
      "Epoch 27 Batch 350 Loss 1.9154 Accuracy 0.6004\n",
      "Epoch 27 Batch 400 Loss 1.9177 Accuracy 0.5998\n",
      "Epoch 27 Batch 450 Loss 1.9181 Accuracy 0.5999\n",
      "Epoch 27 Batch 500 Loss 1.9210 Accuracy 0.5996\n",
      "Epoch 27 Batch 550 Loss 1.9231 Accuracy 0.5992\n",
      "Epoch 27 Batch 600 Loss 1.9227 Accuracy 0.5991\n",
      "Epoch 27 Batch 650 Loss 1.9226 Accuracy 0.5993\n",
      "Epoch 27 Batch 700 Loss 1.9234 Accuracy 0.5990\n",
      "Epoch 27 Batch 750 Loss 1.9243 Accuracy 0.5989\n",
      "Epoch 27 Batch 800 Loss 1.9244 Accuracy 0.5989\n",
      "Epoch 27 Batch 850 Loss 1.9232 Accuracy 0.5991\n",
      "Epoch 27 Batch 900 Loss 1.9241 Accuracy 0.5990\n",
      "Epoch 27 Batch 950 Loss 1.9240 Accuracy 0.5991\n",
      "Epoch 27 Batch 1000 Loss 1.9250 Accuracy 0.5990\n",
      "Epoch 27 Batch 1050 Loss 1.9258 Accuracy 0.5989\n",
      "Epoch 27 Batch 1100 Loss 1.9258 Accuracy 0.5989\n",
      "Epoch 27 Batch 1150 Loss 1.9256 Accuracy 0.5990\n",
      "Epoch 27 Batch 1200 Loss 1.9256 Accuracy 0.5991\n",
      "Epoch 27 Batch 1250 Loss 1.9255 Accuracy 0.5991\n",
      "Epoch 27 Batch 1300 Loss 1.9258 Accuracy 0.5991\n",
      "Epoch 27 Batch 1350 Loss 1.9256 Accuracy 0.5991\n",
      "Epoch 27 Batch 1400 Loss 1.9256 Accuracy 0.5991\n",
      "Epoch 27 Batch 1450 Loss 1.9256 Accuracy 0.5990\n",
      "Epoch 27 Batch 1500 Loss 1.9249 Accuracy 0.5991\n",
      "Epoch 27 Batch 1550 Loss 1.9249 Accuracy 0.5991\n",
      "Epoch 27 Batch 1600 Loss 1.9244 Accuracy 0.5993\n",
      "Epoch 27 Batch 1650 Loss 1.9242 Accuracy 0.5994\n",
      "Epoch 27 Batch 1700 Loss 1.9245 Accuracy 0.5994\n",
      "Epoch 27 Batch 1750 Loss 1.9248 Accuracy 0.5993\n",
      "Epoch 27 Batch 1800 Loss 1.9250 Accuracy 0.5992\n",
      "Epoch 27 Batch 1850 Loss 1.9250 Accuracy 0.5992\n",
      "Epoch 27 Batch 1900 Loss 1.9252 Accuracy 0.5991\n",
      "Epoch 27 Batch 1950 Loss 1.9254 Accuracy 0.5991\n",
      "Epoch 27 Batch 2000 Loss 1.9249 Accuracy 0.5991\n",
      "Epoch 27 Batch 2050 Loss 1.9251 Accuracy 0.5991\n",
      "Epoch 27 Batch 2100 Loss 1.9254 Accuracy 0.5991\n",
      "Epoch 27 Batch 2150 Loss 1.9257 Accuracy 0.5990\n",
      "Epoch 27 Batch 2200 Loss 1.9261 Accuracy 0.5989\n",
      "Epoch 27 Batch 2250 Loss 1.9259 Accuracy 0.5989\n",
      "Epoch 27 Batch 2300 Loss 1.9257 Accuracy 0.5989\n",
      "Epoch 27 Batch 2350 Loss 1.9258 Accuracy 0.5989\n",
      "Epoch 27 Batch 2400 Loss 1.9259 Accuracy 0.5989\n",
      "Epoch 27 Batch 2450 Loss 1.9263 Accuracy 0.5989\n",
      "Epoch 27 Batch 2500 Loss 1.9263 Accuracy 0.5989\n",
      "Epoch 27 Batch 2550 Loss 1.9263 Accuracy 0.5989\n",
      "Epoch 27 Batch 2600 Loss 1.9262 Accuracy 0.5989\n",
      "Epoch 27 Loss 1.9263 Accuracy 0.5989\n",
      "Time taken for 1 epoch: 162.85518288612366 secs\n",
      "\n",
      "Epoch 28 Batch 0 Loss 2.0371 Accuracy 0.5785\n",
      "Epoch 28 Batch 50 Loss 1.8986 Accuracy 0.6011\n",
      "Epoch 28 Batch 100 Loss 1.9100 Accuracy 0.6005\n",
      "Epoch 28 Batch 150 Loss 1.9097 Accuracy 0.6008\n",
      "Epoch 28 Batch 200 Loss 1.9103 Accuracy 0.6008\n",
      "Epoch 28 Batch 250 Loss 1.9074 Accuracy 0.6011\n",
      "Epoch 28 Batch 300 Loss 1.9070 Accuracy 0.6013\n",
      "Epoch 28 Batch 350 Loss 1.9071 Accuracy 0.6014\n",
      "Epoch 28 Batch 400 Loss 1.9100 Accuracy 0.6012\n",
      "Epoch 28 Batch 450 Loss 1.9086 Accuracy 0.6012\n",
      "Epoch 28 Batch 500 Loss 1.9095 Accuracy 0.6011\n",
      "Epoch 28 Batch 550 Loss 1.9104 Accuracy 0.6007\n",
      "Epoch 28 Batch 600 Loss 1.9103 Accuracy 0.6009\n",
      "Epoch 28 Batch 650 Loss 1.9120 Accuracy 0.6008\n",
      "Epoch 28 Batch 700 Loss 1.9124 Accuracy 0.6006\n",
      "Epoch 28 Batch 750 Loss 1.9130 Accuracy 0.6006\n",
      "Epoch 28 Batch 800 Loss 1.9138 Accuracy 0.6006\n",
      "Epoch 28 Batch 850 Loss 1.9134 Accuracy 0.6008\n",
      "Epoch 28 Batch 900 Loss 1.9134 Accuracy 0.6008\n",
      "Epoch 28 Batch 950 Loss 1.9137 Accuracy 0.6006\n",
      "Epoch 28 Batch 1000 Loss 1.9138 Accuracy 0.6006\n",
      "Epoch 28 Batch 1050 Loss 1.9135 Accuracy 0.6007\n",
      "Epoch 28 Batch 1100 Loss 1.9138 Accuracy 0.6006\n",
      "Epoch 28 Batch 1150 Loss 1.9140 Accuracy 0.6006\n",
      "Epoch 28 Batch 1200 Loss 1.9132 Accuracy 0.6007\n",
      "Epoch 28 Batch 1250 Loss 1.9129 Accuracy 0.6008\n",
      "Epoch 28 Batch 1300 Loss 1.9138 Accuracy 0.6006\n",
      "Epoch 28 Batch 1350 Loss 1.9132 Accuracy 0.6007\n",
      "Epoch 28 Batch 1400 Loss 1.9136 Accuracy 0.6007\n",
      "Epoch 28 Batch 1450 Loss 1.9137 Accuracy 0.6008\n",
      "Epoch 28 Batch 1500 Loss 1.9136 Accuracy 0.6008\n",
      "Epoch 28 Batch 1550 Loss 1.9140 Accuracy 0.6008\n",
      "Epoch 28 Batch 1600 Loss 1.9140 Accuracy 0.6008\n",
      "Epoch 28 Batch 1650 Loss 1.9140 Accuracy 0.6008\n",
      "Epoch 28 Batch 1700 Loss 1.9144 Accuracy 0.6007\n",
      "Epoch 28 Batch 1750 Loss 1.9150 Accuracy 0.6006\n",
      "Epoch 28 Batch 1800 Loss 1.9151 Accuracy 0.6005\n",
      "Epoch 28 Batch 1850 Loss 1.9155 Accuracy 0.6005\n",
      "Epoch 28 Batch 1900 Loss 1.9157 Accuracy 0.6004\n",
      "Epoch 28 Batch 1950 Loss 1.9159 Accuracy 0.6003\n",
      "Epoch 28 Batch 2000 Loss 1.9167 Accuracy 0.6002\n",
      "Epoch 28 Batch 2050 Loss 1.9166 Accuracy 0.6002\n",
      "Epoch 28 Batch 2100 Loss 1.9162 Accuracy 0.6003\n",
      "Epoch 28 Batch 2150 Loss 1.9170 Accuracy 0.6001\n",
      "Epoch 28 Batch 2200 Loss 1.9169 Accuracy 0.6002\n",
      "Epoch 28 Batch 2250 Loss 1.9176 Accuracy 0.6001\n",
      "Epoch 28 Batch 2300 Loss 1.9172 Accuracy 0.6002\n",
      "Epoch 28 Batch 2350 Loss 1.9176 Accuracy 0.6002\n",
      "Epoch 28 Batch 2400 Loss 1.9181 Accuracy 0.6001\n",
      "Epoch 28 Batch 2450 Loss 1.9180 Accuracy 0.6001\n",
      "Epoch 28 Batch 2500 Loss 1.9182 Accuracy 0.6001\n",
      "Epoch 28 Batch 2550 Loss 1.9179 Accuracy 0.6002\n",
      "Epoch 28 Batch 2600 Loss 1.9181 Accuracy 0.6002\n",
      "Epoch 28 Loss 1.9178 Accuracy 0.6002\n",
      "Time taken for 1 epoch: 163.07657623291016 secs\n",
      "\n",
      "Epoch 29 Batch 0 Loss 1.9113 Accuracy 0.5841\n",
      "Epoch 29 Batch 50 Loss 1.8989 Accuracy 0.6022\n",
      "Epoch 29 Batch 100 Loss 1.9024 Accuracy 0.6005\n",
      "Epoch 29 Batch 150 Loss 1.9020 Accuracy 0.6017\n",
      "Epoch 29 Batch 200 Loss 1.9021 Accuracy 0.6018\n",
      "Epoch 29 Batch 250 Loss 1.9013 Accuracy 0.6018\n",
      "Epoch 29 Batch 300 Loss 1.9020 Accuracy 0.6018\n",
      "Epoch 29 Batch 350 Loss 1.9024 Accuracy 0.6020\n",
      "Epoch 29 Batch 400 Loss 1.9031 Accuracy 0.6017\n",
      "Epoch 29 Batch 450 Loss 1.9069 Accuracy 0.6010\n",
      "Epoch 29 Batch 500 Loss 1.9065 Accuracy 0.6010\n",
      "Epoch 29 Batch 550 Loss 1.9070 Accuracy 0.6011\n",
      "Epoch 29 Batch 600 Loss 1.9051 Accuracy 0.6017\n",
      "Epoch 29 Batch 650 Loss 1.9048 Accuracy 0.6017\n",
      "Epoch 29 Batch 700 Loss 1.9036 Accuracy 0.6017\n",
      "Epoch 29 Batch 750 Loss 1.9037 Accuracy 0.6017\n",
      "Epoch 29 Batch 800 Loss 1.9055 Accuracy 0.6016\n",
      "Epoch 29 Batch 850 Loss 1.9053 Accuracy 0.6016\n",
      "Epoch 29 Batch 900 Loss 1.9061 Accuracy 0.6015\n",
      "Epoch 29 Batch 950 Loss 1.9069 Accuracy 0.6014\n",
      "Epoch 29 Batch 1000 Loss 1.9067 Accuracy 0.6015\n",
      "Epoch 29 Batch 1050 Loss 1.9061 Accuracy 0.6016\n",
      "Epoch 29 Batch 1100 Loss 1.9061 Accuracy 0.6016\n",
      "Epoch 29 Batch 1150 Loss 1.9056 Accuracy 0.6017\n",
      "Epoch 29 Batch 1200 Loss 1.9056 Accuracy 0.6017\n",
      "Epoch 29 Batch 1250 Loss 1.9063 Accuracy 0.6015\n",
      "Epoch 29 Batch 1300 Loss 1.9062 Accuracy 0.6015\n",
      "Epoch 29 Batch 1350 Loss 1.9063 Accuracy 0.6016\n",
      "Epoch 29 Batch 1400 Loss 1.9059 Accuracy 0.6016\n",
      "Epoch 29 Batch 1450 Loss 1.9063 Accuracy 0.6015\n",
      "Epoch 29 Batch 1500 Loss 1.9067 Accuracy 0.6015\n",
      "Epoch 29 Batch 1550 Loss 1.9070 Accuracy 0.6014\n",
      "Epoch 29 Batch 1600 Loss 1.9067 Accuracy 0.6015\n",
      "Epoch 29 Batch 1650 Loss 1.9068 Accuracy 0.6015\n",
      "Epoch 29 Batch 1700 Loss 1.9068 Accuracy 0.6016\n",
      "Epoch 29 Batch 1750 Loss 1.9066 Accuracy 0.6015\n",
      "Epoch 29 Batch 1800 Loss 1.9071 Accuracy 0.6015\n",
      "Epoch 29 Batch 1850 Loss 1.9079 Accuracy 0.6014\n",
      "Epoch 29 Batch 1900 Loss 1.9081 Accuracy 0.6014\n",
      "Epoch 29 Batch 1950 Loss 1.9080 Accuracy 0.6015\n",
      "Epoch 29 Batch 2000 Loss 1.9079 Accuracy 0.6015\n",
      "Epoch 29 Batch 2050 Loss 1.9079 Accuracy 0.6015\n",
      "Epoch 29 Batch 2100 Loss 1.9080 Accuracy 0.6014\n",
      "Epoch 29 Batch 2150 Loss 1.9080 Accuracy 0.6014\n",
      "Epoch 29 Batch 2200 Loss 1.9081 Accuracy 0.6014\n",
      "Epoch 29 Batch 2250 Loss 1.9084 Accuracy 0.6014\n",
      "Epoch 29 Batch 2300 Loss 1.9087 Accuracy 0.6014\n",
      "Epoch 29 Batch 2350 Loss 1.9083 Accuracy 0.6014\n",
      "Epoch 29 Batch 2400 Loss 1.9086 Accuracy 0.6014\n",
      "Epoch 29 Batch 2450 Loss 1.9083 Accuracy 0.6015\n",
      "Epoch 29 Batch 2500 Loss 1.9078 Accuracy 0.6016\n",
      "Epoch 29 Batch 2550 Loss 1.9080 Accuracy 0.6015\n",
      "Epoch 29 Batch 2600 Loss 1.9085 Accuracy 0.6014\n",
      "Epoch 29 Loss 1.9086 Accuracy 0.6014\n",
      "Time taken for 1 epoch: 164.11253333091736 secs\n",
      "\n",
      "Epoch 30 Batch 0 Loss 2.1313 Accuracy 0.5661\n",
      "Epoch 30 Batch 50 Loss 1.8886 Accuracy 0.6047\n",
      "Epoch 30 Batch 100 Loss 1.8944 Accuracy 0.6044\n",
      "Epoch 30 Batch 150 Loss 1.8900 Accuracy 0.6053\n",
      "Epoch 30 Batch 200 Loss 1.8893 Accuracy 0.6050\n",
      "Epoch 30 Batch 250 Loss 1.8908 Accuracy 0.6046\n",
      "Epoch 30 Batch 300 Loss 1.8897 Accuracy 0.6047\n",
      "Epoch 30 Batch 350 Loss 1.8890 Accuracy 0.6047\n",
      "Epoch 30 Batch 400 Loss 1.8933 Accuracy 0.6040\n",
      "Epoch 30 Batch 450 Loss 1.8960 Accuracy 0.6034\n",
      "Epoch 30 Batch 500 Loss 1.8976 Accuracy 0.6032\n",
      "Epoch 30 Batch 550 Loss 1.8986 Accuracy 0.6030\n",
      "Epoch 30 Batch 600 Loss 1.8991 Accuracy 0.6030\n",
      "Epoch 30 Batch 650 Loss 1.8998 Accuracy 0.6027\n",
      "Epoch 30 Batch 700 Loss 1.8997 Accuracy 0.6027\n",
      "Epoch 30 Batch 750 Loss 1.9005 Accuracy 0.6026\n",
      "Epoch 30 Batch 800 Loss 1.9009 Accuracy 0.6026\n",
      "Epoch 30 Batch 850 Loss 1.8995 Accuracy 0.6029\n",
      "Epoch 30 Batch 900 Loss 1.8989 Accuracy 0.6031\n",
      "Epoch 30 Batch 950 Loss 1.8987 Accuracy 0.6032\n",
      "Epoch 30 Batch 1000 Loss 1.8976 Accuracy 0.6035\n",
      "Epoch 30 Batch 1050 Loss 1.8980 Accuracy 0.6034\n",
      "Epoch 30 Batch 1100 Loss 1.8985 Accuracy 0.6033\n",
      "Epoch 30 Batch 1150 Loss 1.8987 Accuracy 0.6033\n",
      "Epoch 30 Batch 1200 Loss 1.8986 Accuracy 0.6033\n",
      "Epoch 30 Batch 1250 Loss 1.8998 Accuracy 0.6031\n",
      "Epoch 30 Batch 1300 Loss 1.8998 Accuracy 0.6030\n",
      "Epoch 30 Batch 1350 Loss 1.9000 Accuracy 0.6030\n",
      "Epoch 30 Batch 1400 Loss 1.8994 Accuracy 0.6032\n",
      "Epoch 30 Batch 1450 Loss 1.8989 Accuracy 0.6032\n",
      "Epoch 30 Batch 1500 Loss 1.8996 Accuracy 0.6031\n",
      "Epoch 30 Batch 1550 Loss 1.8990 Accuracy 0.6032\n",
      "Epoch 30 Batch 1600 Loss 1.8991 Accuracy 0.6032\n",
      "Epoch 30 Batch 1650 Loss 1.8993 Accuracy 0.6032\n",
      "Epoch 30 Batch 1700 Loss 1.8992 Accuracy 0.6031\n",
      "Epoch 30 Batch 1750 Loss 1.8996 Accuracy 0.6031\n",
      "Epoch 30 Batch 1800 Loss 1.9002 Accuracy 0.6030\n",
      "Epoch 30 Batch 1850 Loss 1.9005 Accuracy 0.6029\n",
      "Epoch 30 Batch 1900 Loss 1.9001 Accuracy 0.6030\n",
      "Epoch 30 Batch 1950 Loss 1.8995 Accuracy 0.6030\n",
      "Epoch 30 Batch 2000 Loss 1.8998 Accuracy 0.6031\n",
      "Epoch 30 Batch 2050 Loss 1.9002 Accuracy 0.6030\n",
      "Epoch 30 Batch 2100 Loss 1.9008 Accuracy 0.6029\n",
      "Epoch 30 Batch 2150 Loss 1.9007 Accuracy 0.6030\n",
      "Epoch 30 Batch 2200 Loss 1.9011 Accuracy 0.6029\n",
      "Epoch 30 Batch 2250 Loss 1.9012 Accuracy 0.6029\n",
      "Epoch 30 Batch 2300 Loss 1.9012 Accuracy 0.6029\n",
      "Epoch 30 Batch 2350 Loss 1.9013 Accuracy 0.6029\n",
      "Epoch 30 Batch 2400 Loss 1.9020 Accuracy 0.6028\n",
      "Epoch 30 Batch 2450 Loss 1.9018 Accuracy 0.6028\n",
      "Epoch 30 Batch 2500 Loss 1.9015 Accuracy 0.6028\n",
      "Epoch 30 Batch 2550 Loss 1.9014 Accuracy 0.6028\n",
      "Epoch 30 Batch 2600 Loss 1.9015 Accuracy 0.6028\n",
      "Saving checkpoint for epoch 30 at ./checkpoints/train/ckpt-6\n",
      "Epoch 30 Loss 1.9017 Accuracy 0.6027\n",
      "Time taken for 1 epoch: 163.43971514701843 secs\n",
      "\n"
     ]
    }
   ],
   "source": [
    "for epoch in range(EPOCHS):\n",
    "  start = time.time()\n",
    "  \n",
    "  train_loss.reset_states()\n",
    "  train_accuracy.reset_states()\n",
    "  \n",
    "  # inp -> portuguese, tar -> english\n",
    "  for (batch, (inp, tar)) in enumerate(train_dataset):\n",
    "    train_step(inp, tar)\n",
    "    \n",
    "    if batch % 50 == 0:\n",
    "      print ('Epoch {} Batch {} Loss {:.4f} Accuracy {:.4f}'.format(\n",
    "          epoch + 1, batch, train_loss.result(), train_accuracy.result()))\n",
    "      \n",
    "  if (epoch + 1) % 5 == 0:\n",
    "    ckpt_save_path = ckpt_manager.save()\n",
    "    print ('Saving checkpoint for epoch {} at {}'.format(epoch+1,\n",
    "                                                         ckpt_save_path))\n",
    "    \n",
    "  print ('Epoch {} Loss {:.4f} Accuracy {:.4f}'.format(epoch + 1, \n",
    "                                                train_loss.result(), \n",
    "                                                train_accuracy.result()))\n",
    "\n",
    "  print ('Time taken for 1 epoch: {} secs\\n'.format(time.time() - start))"
   ]
  },
  {
   "cell_type": "markdown",
   "metadata": {
    "id": "QfcsSWswSdGV"
   },
   "source": [
    "## Evaluate"
   ]
  },
  {
   "cell_type": "markdown",
   "metadata": {
    "id": "y6APsFrgImLW"
   },
   "source": [
    "Для оценки используются следующие шаги:\n",
    "\n",
    "Закодируйте входное предложение с помощью русского токенизатора ( tokenizer_pt ). Кроме того, добавьте начальный и конечный токены, чтобы ввод был эквивалентен тому, с чем обучается модель. Это вход энкодера.\n",
    "Вход декодера - это start token == tokenizer_en.vocab_size .\n",
    "Рассчитайте маски заполнения и маски прогнозирования.\n",
    "Затем decoder выводит прогнозы, глядя на encoder output и собственные выходные данные (самовнимание).\n",
    "Выберите последнее слово и вычислите его argmax.\n",
    "Конкатентируйте предсказанное слово на вход декодера при передаче его в декодер.\n",
    "В этом подходе декодер предсказывает следующее слово на основе предсказанных им предыдущих слов.\n"
   ]
  },
  {
   "cell_type": "code",
   "execution_count": 55,
   "metadata": {
    "executionInfo": {
     "elapsed": 31,
     "status": "ok",
     "timestamp": 1677595714612,
     "user": {
      "displayName": "Михаил Демин",
      "userId": "14250540086915616791"
     },
     "user_tz": -600
    },
    "id": "5buvMlnvyrFm"
   },
   "outputs": [],
   "source": [
    "def evaluate(inp_sentence):\n",
    "  start_token = [tokenizer_ru.vocab_size]\n",
    "  end_token = [tokenizer_ru.vocab_size + 1]\n",
    "  \n",
    "  # inp sentence is portuguese, hence adding the start and end token\n",
    "  inp_sentence = start_token + tokenizer_ru.encode(inp_sentence) + end_token\n",
    "  encoder_input = tf.expand_dims(inp_sentence, 0)\n",
    "  \n",
    "  # as the target is english, the first word to the transformer should be the\n",
    "  # english start token.\n",
    "  decoder_input = [tokenizer_en.vocab_size]\n",
    "  output = tf.expand_dims(decoder_input, 0)\n",
    "    \n",
    "  for i in range(MAX_LENGTH):\n",
    "    enc_padding_mask, combined_mask, dec_padding_mask = create_masks(\n",
    "        encoder_input, output)\n",
    "  \n",
    "    # predictions.shape == (batch_size, seq_len, vocab_size)\n",
    "    predictions, attention_weights = transformer(encoder_input, \n",
    "                                                 output,\n",
    "                                                 False,\n",
    "                                                 enc_padding_mask,\n",
    "                                                 combined_mask,\n",
    "                                                 dec_padding_mask)\n",
    "    \n",
    "    # select the last word from the seq_len dimension\n",
    "    predictions = predictions[: ,-1:, :]  # (batch_size, 1, vocab_size)\n",
    "\n",
    "    predicted_id = tf.cast(tf.argmax(predictions, axis=-1), tf.int32)\n",
    "    \n",
    "    # return the result if the predicted_id is equal to the end token\n",
    "    if predicted_id == tokenizer_en.vocab_size+1:\n",
    "      return tf.squeeze(output, axis=0), attention_weights\n",
    "    \n",
    "    # concatentate the predicted_id to the output which is given to the decoder\n",
    "    # as its input.\n",
    "    output = tf.concat([output, predicted_id], axis=-1)\n",
    "\n",
    "  return tf.squeeze(output, axis=0), attention_weights"
   ]
  },
  {
   "cell_type": "code",
   "execution_count": 56,
   "metadata": {
    "executionInfo": {
     "elapsed": 18,
     "status": "ok",
     "timestamp": 1677595714613,
     "user": {
      "displayName": "Михаил Демин",
      "userId": "14250540086915616791"
     },
     "user_tz": -600
    },
    "id": "CN-BV43FMBej"
   },
   "outputs": [],
   "source": [
    "def plot_attention_weights(attention, sentence, result, layer):\n",
    "  fig = plt.figure(figsize=(16, 8))\n",
    "  \n",
    "  sentence = tokenizer_ru.encode(sentence)\n",
    "  \n",
    "  attention = tf.squeeze(attention[layer], axis=0)\n",
    "  \n",
    "  for head in range(attention.shape[0]):\n",
    "    ax = fig.add_subplot(2, 4, head+1)\n",
    "    \n",
    "    # plot the attention weights\n",
    "    ax.matshow(attention[head][:-1, :], cmap='viridis')\n",
    "\n",
    "    fontdict = {'fontsize': 10}\n",
    "    \n",
    "    ax.set_xticks(range(len(sentence)+2))\n",
    "    ax.set_yticks(range(len(result)))\n",
    "    \n",
    "    ax.set_ylim(len(result)-1.5, -0.5)\n",
    "        \n",
    "    ax.set_xticklabels(\n",
    "        ['<start>']+[tokenizer_ru.decode([i]) for i in sentence]+['<end>'], \n",
    "        fontdict=fontdict, rotation=90)\n",
    "    \n",
    "    ax.set_yticklabels([tokenizer_en.decode([i]) for i in result \n",
    "                        if i < tokenizer_en.vocab_size], \n",
    "                       fontdict=fontdict)\n",
    "    \n",
    "    ax.set_xlabel('Head {}'.format(head+1))\n",
    "  \n",
    "  plt.tight_layout()\n",
    "  plt.show()"
   ]
  },
  {
   "cell_type": "code",
   "execution_count": 57,
   "metadata": {
    "executionInfo": {
     "elapsed": 17,
     "status": "ok",
     "timestamp": 1677595714614,
     "user": {
      "displayName": "Михаил Демин",
      "userId": "14250540086915616791"
     },
     "user_tz": -600
    },
    "id": "lU2_yG_vBGza"
   },
   "outputs": [],
   "source": [
    "def translate(sentence, plot='decoder_layer4_block2'):\n",
    "  result, attention_weights = evaluate(sentence)\n",
    "  # print(attention_weights)\n",
    "  \n",
    "  predicted_sentence = tokenizer_en.decode([i for i in result \n",
    "                                            if i < tokenizer_en.vocab_size])  \n",
    "\n",
    "  print('Input: {}'.format(sentence))\n",
    "  print('Predicted translation: {}'.format(predicted_sentence))\n",
    "  \n",
    "  if plot:\n",
    "    plot_attention_weights(attention_weights, sentence, result, plot)"
   ]
  },
  {
   "cell_type": "markdown",
   "metadata": {
    "id": "C5m_4DBHaV7-"
   },
   "source": [
    "После 15-ти эпох"
   ]
  },
  {
   "cell_type": "code",
   "execution_count": 58,
   "metadata": {
    "colab": {
     "base_uri": "https://localhost:8080/",
     "height": 591
    },
    "executionInfo": {
     "elapsed": 3282,
     "status": "error",
     "timestamp": 1677595717879,
     "user": {
      "displayName": "Михаил Демин",
      "userId": "14250540086915616791"
     },
     "user_tz": -600
    },
    "id": "QHzndZ1xNHKn",
    "outputId": "1fdf2c3f-4dc5-4730-db6c-0c9c7a9d6d92"
   },
   "outputs": [
    {
     "name": "stdout",
     "output_type": "stream",
     "text": [
      "Input: Осенним вечером шёл дождь!\n",
      "Predicted translation: the eduard was raining .\n"
     ]
    },
    {
     "ename": "ValueError",
     "evalue": "ignored",
     "output_type": "error",
     "traceback": [
      "\u001b[0;31m---------------------------------------------------------------------------\u001b[0m",
      "\u001b[0;31mValueError\u001b[0m                                Traceback (most recent call last)",
      "\u001b[0;32m<ipython-input-58-ef1ec48eb702>\u001b[0m in \u001b[0;36m<module>\u001b[0;34m\u001b[0m\n\u001b[0;32m----> 1\u001b[0;31m \u001b[0mtranslate\u001b[0m\u001b[0;34m(\u001b[0m\u001b[0;34m'Осенним вечером шёл дождь!'\u001b[0m\u001b[0;34m)\u001b[0m\u001b[0;34m\u001b[0m\u001b[0;34m\u001b[0m\u001b[0m\n\u001b[0m",
      "\u001b[0;32m<ipython-input-57-e48162765f0c>\u001b[0m in \u001b[0;36mtranslate\u001b[0;34m(sentence, plot)\u001b[0m\n\u001b[1;32m     10\u001b[0m \u001b[0;34m\u001b[0m\u001b[0m\n\u001b[1;32m     11\u001b[0m   \u001b[0;32mif\u001b[0m \u001b[0mplot\u001b[0m\u001b[0;34m:\u001b[0m\u001b[0;34m\u001b[0m\u001b[0;34m\u001b[0m\u001b[0m\n\u001b[0;32m---> 12\u001b[0;31m     \u001b[0mplot_attention_weights\u001b[0m\u001b[0;34m(\u001b[0m\u001b[0mattention_weights\u001b[0m\u001b[0;34m,\u001b[0m \u001b[0msentence\u001b[0m\u001b[0;34m,\u001b[0m \u001b[0mresult\u001b[0m\u001b[0;34m,\u001b[0m \u001b[0mplot\u001b[0m\u001b[0;34m)\u001b[0m\u001b[0;34m\u001b[0m\u001b[0;34m\u001b[0m\u001b[0m\n\u001b[0m",
      "\u001b[0;32m<ipython-input-56-e8a0b767726b>\u001b[0m in \u001b[0;36mplot_attention_weights\u001b[0;34m(attention, sentence, result, layer)\u001b[0m\n\u001b[1;32m     23\u001b[0m         fontdict=fontdict, rotation=90)\n\u001b[1;32m     24\u001b[0m \u001b[0;34m\u001b[0m\u001b[0m\n\u001b[0;32m---> 25\u001b[0;31m     ax.set_yticklabels([tokenizer_en.decode([i]) for i in result \n\u001b[0m\u001b[1;32m     26\u001b[0m                         if i < tokenizer_en.vocab_size], \n\u001b[1;32m     27\u001b[0m                        fontdict=fontdict)\n",
      "\u001b[0;32m/usr/local/lib/python3.8/dist-packages/matplotlib/axes/_base.py\u001b[0m in \u001b[0;36mwrapper\u001b[0;34m(self, *args, **kwargs)\u001b[0m\n\u001b[1;32m     73\u001b[0m     \u001b[0;32mwhile\u001b[0m \u001b[0mi\u001b[0m \u001b[0;34m<\u001b[0m \u001b[0mlen\u001b[0m\u001b[0;34m(\u001b[0m\u001b[0mfmt\u001b[0m\u001b[0;34m)\u001b[0m\u001b[0;34m:\u001b[0m\u001b[0;34m\u001b[0m\u001b[0;34m\u001b[0m\u001b[0m\n\u001b[1;32m     74\u001b[0m         \u001b[0mc\u001b[0m \u001b[0;34m=\u001b[0m \u001b[0mfmt\u001b[0m\u001b[0;34m[\u001b[0m\u001b[0mi\u001b[0m\u001b[0;34m]\u001b[0m\u001b[0;34m\u001b[0m\u001b[0;34m\u001b[0m\u001b[0m\n\u001b[0;32m---> 75\u001b[0;31m         \u001b[0;32mif\u001b[0m \u001b[0mfmt\u001b[0m\u001b[0;34m[\u001b[0m\u001b[0mi\u001b[0m\u001b[0;34m:\u001b[0m\u001b[0mi\u001b[0m\u001b[0;34m+\u001b[0m\u001b[0;36m2\u001b[0m\u001b[0;34m]\u001b[0m \u001b[0;32min\u001b[0m \u001b[0mmlines\u001b[0m\u001b[0;34m.\u001b[0m\u001b[0mlineStyles\u001b[0m\u001b[0;34m:\u001b[0m  \u001b[0;31m# First, the two-char styles.\u001b[0m\u001b[0;34m\u001b[0m\u001b[0;34m\u001b[0m\u001b[0m\n\u001b[0m\u001b[1;32m     76\u001b[0m             \u001b[0;32mif\u001b[0m \u001b[0mlinestyle\u001b[0m \u001b[0;32mis\u001b[0m \u001b[0;32mnot\u001b[0m \u001b[0;32mNone\u001b[0m\u001b[0;34m:\u001b[0m\u001b[0;34m\u001b[0m\u001b[0;34m\u001b[0m\u001b[0m\n\u001b[1;32m     77\u001b[0m                 raise ValueError(\n",
      "\u001b[0;32m/usr/local/lib/python3.8/dist-packages/matplotlib/axis.py\u001b[0m in \u001b[0;36m_set_ticklabels\u001b[0;34m(self, labels, fontdict, minor, **kwargs)\u001b[0m\n\u001b[1;32m   1796\u001b[0m         \u001b[0;32mraise\u001b[0m \u001b[0mNotImplementedError\u001b[0m\u001b[0;34m(\u001b[0m\u001b[0;34m'Derived must override'\u001b[0m\u001b[0;34m)\u001b[0m\u001b[0;34m\u001b[0m\u001b[0;34m\u001b[0m\u001b[0m\n\u001b[1;32m   1797\u001b[0m \u001b[0;34m\u001b[0m\u001b[0m\n\u001b[0;32m-> 1798\u001b[0;31m     \u001b[0;32mdef\u001b[0m \u001b[0mpan\u001b[0m\u001b[0;34m(\u001b[0m\u001b[0mself\u001b[0m\u001b[0;34m,\u001b[0m \u001b[0mnumsteps\u001b[0m\u001b[0;34m)\u001b[0m\u001b[0;34m:\u001b[0m\u001b[0;34m\u001b[0m\u001b[0;34m\u001b[0m\u001b[0m\n\u001b[0m\u001b[1;32m   1799\u001b[0m         \u001b[0;34m\"\"\"Pan by *numsteps* (can be positive or negative).\"\"\"\u001b[0m\u001b[0;34m\u001b[0m\u001b[0;34m\u001b[0m\u001b[0m\n\u001b[1;32m   1800\u001b[0m         \u001b[0mself\u001b[0m\u001b[0;34m.\u001b[0m\u001b[0mmajor\u001b[0m\u001b[0;34m.\u001b[0m\u001b[0mlocator\u001b[0m\u001b[0;34m.\u001b[0m\u001b[0mpan\u001b[0m\u001b[0;34m(\u001b[0m\u001b[0mnumsteps\u001b[0m\u001b[0;34m)\u001b[0m\u001b[0;34m\u001b[0m\u001b[0;34m\u001b[0m\u001b[0m\n",
      "\u001b[0;32m/usr/local/lib/python3.8/dist-packages/matplotlib/axis.py\u001b[0m in \u001b[0;36mset_ticklabels\u001b[0;34m(self, ticklabels, minor, **kwargs)\u001b[0m\n\u001b[1;32m   1718\u001b[0m             \u001b[0;31m# if it is Text, get label content\u001b[0m\u001b[0;34m\u001b[0m\u001b[0;34m\u001b[0m\u001b[0;34m\u001b[0m\u001b[0m\n\u001b[1;32m   1719\u001b[0m             \u001b[0;32mtry\u001b[0m\u001b[0;34m:\u001b[0m\u001b[0;34m\u001b[0m\u001b[0;34m\u001b[0m\u001b[0m\n\u001b[0;32m-> 1720\u001b[0;31m                 \u001b[0mget_labels\u001b[0m\u001b[0;34m.\u001b[0m\u001b[0mappend\u001b[0m\u001b[0;34m(\u001b[0m\u001b[0mt\u001b[0m\u001b[0;34m.\u001b[0m\u001b[0mget_text\u001b[0m\u001b[0;34m(\u001b[0m\u001b[0;34m)\u001b[0m\u001b[0;34m)\u001b[0m\u001b[0;34m\u001b[0m\u001b[0;34m\u001b[0m\u001b[0m\n\u001b[0m\u001b[1;32m   1721\u001b[0m             \u001b[0;31m# otherwise add the label to the list directly\u001b[0m\u001b[0;34m\u001b[0m\u001b[0;34m\u001b[0m\u001b[0;34m\u001b[0m\u001b[0m\n\u001b[1;32m   1722\u001b[0m             \u001b[0;32mexcept\u001b[0m \u001b[0mAttributeError\u001b[0m\u001b[0;34m:\u001b[0m\u001b[0;34m\u001b[0m\u001b[0;34m\u001b[0m\u001b[0m\n",
      "\u001b[0;31mValueError\u001b[0m: The number of FixedLocator locations (10), usually from a call to set_ticks, does not match the number of ticklabels (9)."
     ]
    },
    {
     "data": {
      "image/png": "[encoded data removed]",
      "text/plain": [
       "<Figure size 1152x576 with 1 Axes>"
      ]
     },
     "metadata": {
      "needs_background": "light"
     },
     "output_type": "display_data"
    }
   ],
   "source": [
    "translate('Осенним вечером шёл дождь!')"
   ]
  },
  {
   "cell_type": "code",
   "execution_count": 59,
   "metadata": {
    "colab": {
     "base_uri": "https://localhost:8080/",
     "height": 616
    },
    "executionInfo": {
     "elapsed": 2859,
     "status": "error",
     "timestamp": 1677598990089,
     "user": {
      "displayName": "Михаил Демин",
      "userId": "14250540086915616791"
     },
     "user_tz": -600
    },
    "id": "oAMWA3xvCuDi",
    "outputId": "82816340-5cab-4363-c57f-c15879533139"
   },
   "outputs": [
    {
     "name": "stdout",
     "output_type": "stream",
     "text": [
      "Input: он собирается домой\n",
      "Predicted translation: he gathers home .\n"
     ]
    },
    {
     "ename": "ValueError",
     "evalue": "ignored",
     "output_type": "error",
     "traceback": [
      "\u001b[0;31m---------------------------------------------------------------------------\u001b[0m",
      "\u001b[0;31mValueError\u001b[0m                                Traceback (most recent call last)",
      "\u001b[0;32m<ipython-input-59-919a9c75cc67>\u001b[0m in \u001b[0;36m<module>\u001b[0;34m\u001b[0m\n\u001b[0;32m----> 1\u001b[0;31m \u001b[0mtranslate\u001b[0m\u001b[0;34m(\u001b[0m\u001b[0;34m'он собирается домой'\u001b[0m\u001b[0;34m)\u001b[0m\u001b[0;34m\u001b[0m\u001b[0;34m\u001b[0m\u001b[0m\n\u001b[0m",
      "\u001b[0;32m<ipython-input-57-e48162765f0c>\u001b[0m in \u001b[0;36mtranslate\u001b[0;34m(sentence, plot)\u001b[0m\n\u001b[1;32m     10\u001b[0m \u001b[0;34m\u001b[0m\u001b[0m\n\u001b[1;32m     11\u001b[0m   \u001b[0;32mif\u001b[0m \u001b[0mplot\u001b[0m\u001b[0;34m:\u001b[0m\u001b[0;34m\u001b[0m\u001b[0;34m\u001b[0m\u001b[0m\n\u001b[0;32m---> 12\u001b[0;31m     \u001b[0mplot_attention_weights\u001b[0m\u001b[0;34m(\u001b[0m\u001b[0mattention_weights\u001b[0m\u001b[0;34m,\u001b[0m \u001b[0msentence\u001b[0m\u001b[0;34m,\u001b[0m \u001b[0mresult\u001b[0m\u001b[0;34m,\u001b[0m \u001b[0mplot\u001b[0m\u001b[0;34m)\u001b[0m\u001b[0;34m\u001b[0m\u001b[0;34m\u001b[0m\u001b[0m\n\u001b[0m",
      "\u001b[0;32m<ipython-input-56-e8a0b767726b>\u001b[0m in \u001b[0;36mplot_attention_weights\u001b[0;34m(attention, sentence, result, layer)\u001b[0m\n\u001b[1;32m     23\u001b[0m         fontdict=fontdict, rotation=90)\n\u001b[1;32m     24\u001b[0m \u001b[0;34m\u001b[0m\u001b[0m\n\u001b[0;32m---> 25\u001b[0;31m     ax.set_yticklabels([tokenizer_en.decode([i]) for i in result \n\u001b[0m\u001b[1;32m     26\u001b[0m                         if i < tokenizer_en.vocab_size], \n\u001b[1;32m     27\u001b[0m                        fontdict=fontdict)\n",
      "\u001b[0;32m/usr/local/lib/python3.8/dist-packages/matplotlib/axes/_base.py\u001b[0m in \u001b[0;36mwrapper\u001b[0;34m(self, *args, **kwargs)\u001b[0m\n\u001b[1;32m     73\u001b[0m     \u001b[0;32mwhile\u001b[0m \u001b[0mi\u001b[0m \u001b[0;34m<\u001b[0m \u001b[0mlen\u001b[0m\u001b[0;34m(\u001b[0m\u001b[0mfmt\u001b[0m\u001b[0;34m)\u001b[0m\u001b[0;34m:\u001b[0m\u001b[0;34m\u001b[0m\u001b[0;34m\u001b[0m\u001b[0m\n\u001b[1;32m     74\u001b[0m         \u001b[0mc\u001b[0m \u001b[0;34m=\u001b[0m \u001b[0mfmt\u001b[0m\u001b[0;34m[\u001b[0m\u001b[0mi\u001b[0m\u001b[0;34m]\u001b[0m\u001b[0;34m\u001b[0m\u001b[0;34m\u001b[0m\u001b[0m\n\u001b[0;32m---> 75\u001b[0;31m         \u001b[0;32mif\u001b[0m \u001b[0mfmt\u001b[0m\u001b[0;34m[\u001b[0m\u001b[0mi\u001b[0m\u001b[0;34m:\u001b[0m\u001b[0mi\u001b[0m\u001b[0;34m+\u001b[0m\u001b[0;36m2\u001b[0m\u001b[0;34m]\u001b[0m \u001b[0;32min\u001b[0m \u001b[0mmlines\u001b[0m\u001b[0;34m.\u001b[0m\u001b[0mlineStyles\u001b[0m\u001b[0;34m:\u001b[0m  \u001b[0;31m# First, the two-char styles.\u001b[0m\u001b[0;34m\u001b[0m\u001b[0;34m\u001b[0m\u001b[0m\n\u001b[0m\u001b[1;32m     76\u001b[0m             \u001b[0;32mif\u001b[0m \u001b[0mlinestyle\u001b[0m \u001b[0;32mis\u001b[0m \u001b[0;32mnot\u001b[0m \u001b[0;32mNone\u001b[0m\u001b[0;34m:\u001b[0m\u001b[0;34m\u001b[0m\u001b[0;34m\u001b[0m\u001b[0m\n\u001b[1;32m     77\u001b[0m                 raise ValueError(\n",
      "\u001b[0;32m/usr/local/lib/python3.8/dist-packages/matplotlib/axis.py\u001b[0m in \u001b[0;36m_set_ticklabels\u001b[0;34m(self, labels, fontdict, minor, **kwargs)\u001b[0m\n\u001b[1;32m   1796\u001b[0m         \u001b[0;32mraise\u001b[0m \u001b[0mNotImplementedError\u001b[0m\u001b[0;34m(\u001b[0m\u001b[0;34m'Derived must override'\u001b[0m\u001b[0;34m)\u001b[0m\u001b[0;34m\u001b[0m\u001b[0;34m\u001b[0m\u001b[0m\n\u001b[1;32m   1797\u001b[0m \u001b[0;34m\u001b[0m\u001b[0m\n\u001b[0;32m-> 1798\u001b[0;31m     \u001b[0;32mdef\u001b[0m \u001b[0mpan\u001b[0m\u001b[0;34m(\u001b[0m\u001b[0mself\u001b[0m\u001b[0;34m,\u001b[0m \u001b[0mnumsteps\u001b[0m\u001b[0;34m)\u001b[0m\u001b[0;34m:\u001b[0m\u001b[0;34m\u001b[0m\u001b[0;34m\u001b[0m\u001b[0m\n\u001b[0m\u001b[1;32m   1799\u001b[0m         \u001b[0;34m\"\"\"Pan by *numsteps* (can be positive or negative).\"\"\"\u001b[0m\u001b[0;34m\u001b[0m\u001b[0;34m\u001b[0m\u001b[0m\n\u001b[1;32m   1800\u001b[0m         \u001b[0mself\u001b[0m\u001b[0;34m.\u001b[0m\u001b[0mmajor\u001b[0m\u001b[0;34m.\u001b[0m\u001b[0mlocator\u001b[0m\u001b[0;34m.\u001b[0m\u001b[0mpan\u001b[0m\u001b[0;34m(\u001b[0m\u001b[0mnumsteps\u001b[0m\u001b[0;34m)\u001b[0m\u001b[0;34m\u001b[0m\u001b[0;34m\u001b[0m\u001b[0m\n",
      "\u001b[0;32m/usr/local/lib/python3.8/dist-packages/matplotlib/axis.py\u001b[0m in \u001b[0;36mset_ticklabels\u001b[0;34m(self, ticklabels, minor, **kwargs)\u001b[0m\n\u001b[1;32m   1718\u001b[0m             \u001b[0;31m# if it is Text, get label content\u001b[0m\u001b[0;34m\u001b[0m\u001b[0;34m\u001b[0m\u001b[0;34m\u001b[0m\u001b[0m\n\u001b[1;32m   1719\u001b[0m             \u001b[0;32mtry\u001b[0m\u001b[0;34m:\u001b[0m\u001b[0;34m\u001b[0m\u001b[0;34m\u001b[0m\u001b[0m\n\u001b[0;32m-> 1720\u001b[0;31m                 \u001b[0mget_labels\u001b[0m\u001b[0;34m.\u001b[0m\u001b[0mappend\u001b[0m\u001b[0;34m(\u001b[0m\u001b[0mt\u001b[0m\u001b[0;34m.\u001b[0m\u001b[0mget_text\u001b[0m\u001b[0;34m(\u001b[0m\u001b[0;34m)\u001b[0m\u001b[0;34m)\u001b[0m\u001b[0;34m\u001b[0m\u001b[0;34m\u001b[0m\u001b[0m\n\u001b[0m\u001b[1;32m   1721\u001b[0m             \u001b[0;31m# otherwise add the label to the list directly\u001b[0m\u001b[0;34m\u001b[0m\u001b[0;34m\u001b[0m\u001b[0;34m\u001b[0m\u001b[0m\n\u001b[1;32m   1722\u001b[0m             \u001b[0;32mexcept\u001b[0m \u001b[0mAttributeError\u001b[0m\u001b[0;34m:\u001b[0m\u001b[0;34m\u001b[0m\u001b[0;34m\u001b[0m\u001b[0m\n",
      "\u001b[0;31mValueError\u001b[0m: The number of FixedLocator locations (6), usually from a call to set_ticks, does not match the number of ticklabels (5)."
     ]
    },
    {
     "data": {
      "image/png": "[encoded data removed]",
      "text/plain": [
       "<Figure size 1152x576 with 1 Axes>"
      ]
     },
     "metadata": {
      "needs_background": "light"
     },
     "output_type": "display_data"
    }
   ],
   "source": [
    "translate('он собирается домой')"
   ]
  },
  {
   "cell_type": "markdown",
   "metadata": {
    "id": "m_QhGu_BlhGu"
   },
   "source": [
    "После 30 эпох"
   ]
  },
  {
   "cell_type": "code",
   "execution_count": null,
   "metadata": {
    "executionInfo": {
     "elapsed": 6,
     "status": "aborted",
     "timestamp": 1677598990090,
     "user": {
      "displayName": "Михаил Демин",
      "userId": "14250540086915616791"
     },
     "user_tz": -600
    },
    "id": "vVDReCSWh9ky"
   },
   "outputs": [],
   "source": [
    "translate('Осенним вечером шёл дождь!')"
   ]
  },
  {
   "cell_type": "code",
   "execution_count": 60,
   "metadata": {
    "colab": {
     "base_uri": "https://localhost:8080/",
     "height": 616
    },
    "executionInfo": {
     "elapsed": 1872,
     "status": "error",
     "timestamp": 1677598994253,
     "user": {
      "displayName": "Михаил Демин",
      "userId": "14250540086915616791"
     },
     "user_tz": -600
    },
    "id": "jtDIiLQTh9kz",
    "outputId": "5fa63e5b-6324-4a19-a747-964b2b055bb9"
   },
   "outputs": [
    {
     "name": "stdout",
     "output_type": "stream",
     "text": [
      "Input: он собирается домой\n",
      "Predicted translation: he gathers home .\n"
     ]
    },
    {
     "ename": "ValueError",
     "evalue": "ignored",
     "output_type": "error",
     "traceback": [
      "\u001b[0;31m---------------------------------------------------------------------------\u001b[0m",
      "\u001b[0;31mValueError\u001b[0m                                Traceback (most recent call last)",
      "\u001b[0;32m<ipython-input-60-919a9c75cc67>\u001b[0m in \u001b[0;36m<module>\u001b[0;34m\u001b[0m\n\u001b[0;32m----> 1\u001b[0;31m \u001b[0mtranslate\u001b[0m\u001b[0;34m(\u001b[0m\u001b[0;34m'он собирается домой'\u001b[0m\u001b[0;34m)\u001b[0m\u001b[0;34m\u001b[0m\u001b[0;34m\u001b[0m\u001b[0m\n\u001b[0m",
      "\u001b[0;32m<ipython-input-57-e48162765f0c>\u001b[0m in \u001b[0;36mtranslate\u001b[0;34m(sentence, plot)\u001b[0m\n\u001b[1;32m     10\u001b[0m \u001b[0;34m\u001b[0m\u001b[0m\n\u001b[1;32m     11\u001b[0m   \u001b[0;32mif\u001b[0m \u001b[0mplot\u001b[0m\u001b[0;34m:\u001b[0m\u001b[0;34m\u001b[0m\u001b[0;34m\u001b[0m\u001b[0m\n\u001b[0;32m---> 12\u001b[0;31m     \u001b[0mplot_attention_weights\u001b[0m\u001b[0;34m(\u001b[0m\u001b[0mattention_weights\u001b[0m\u001b[0;34m,\u001b[0m \u001b[0msentence\u001b[0m\u001b[0;34m,\u001b[0m \u001b[0mresult\u001b[0m\u001b[0;34m,\u001b[0m \u001b[0mplot\u001b[0m\u001b[0;34m)\u001b[0m\u001b[0;34m\u001b[0m\u001b[0;34m\u001b[0m\u001b[0m\n\u001b[0m",
      "\u001b[0;32m<ipython-input-56-e8a0b767726b>\u001b[0m in \u001b[0;36mplot_attention_weights\u001b[0;34m(attention, sentence, result, layer)\u001b[0m\n\u001b[1;32m     23\u001b[0m         fontdict=fontdict, rotation=90)\n\u001b[1;32m     24\u001b[0m \u001b[0;34m\u001b[0m\u001b[0m\n\u001b[0;32m---> 25\u001b[0;31m     ax.set_yticklabels([tokenizer_en.decode([i]) for i in result \n\u001b[0m\u001b[1;32m     26\u001b[0m                         if i < tokenizer_en.vocab_size], \n\u001b[1;32m     27\u001b[0m                        fontdict=fontdict)\n",
      "\u001b[0;32m/usr/local/lib/python3.8/dist-packages/matplotlib/axes/_base.py\u001b[0m in \u001b[0;36mwrapper\u001b[0;34m(self, *args, **kwargs)\u001b[0m\n\u001b[1;32m     73\u001b[0m     \u001b[0;32mwhile\u001b[0m \u001b[0mi\u001b[0m \u001b[0;34m<\u001b[0m \u001b[0mlen\u001b[0m\u001b[0;34m(\u001b[0m\u001b[0mfmt\u001b[0m\u001b[0;34m)\u001b[0m\u001b[0;34m:\u001b[0m\u001b[0;34m\u001b[0m\u001b[0;34m\u001b[0m\u001b[0m\n\u001b[1;32m     74\u001b[0m         \u001b[0mc\u001b[0m \u001b[0;34m=\u001b[0m \u001b[0mfmt\u001b[0m\u001b[0;34m[\u001b[0m\u001b[0mi\u001b[0m\u001b[0;34m]\u001b[0m\u001b[0;34m\u001b[0m\u001b[0;34m\u001b[0m\u001b[0m\n\u001b[0;32m---> 75\u001b[0;31m         \u001b[0;32mif\u001b[0m \u001b[0mfmt\u001b[0m\u001b[0;34m[\u001b[0m\u001b[0mi\u001b[0m\u001b[0;34m:\u001b[0m\u001b[0mi\u001b[0m\u001b[0;34m+\u001b[0m\u001b[0;36m2\u001b[0m\u001b[0;34m]\u001b[0m \u001b[0;32min\u001b[0m \u001b[0mmlines\u001b[0m\u001b[0;34m.\u001b[0m\u001b[0mlineStyles\u001b[0m\u001b[0;34m:\u001b[0m  \u001b[0;31m# First, the two-char styles.\u001b[0m\u001b[0;34m\u001b[0m\u001b[0;34m\u001b[0m\u001b[0m\n\u001b[0m\u001b[1;32m     76\u001b[0m             \u001b[0;32mif\u001b[0m \u001b[0mlinestyle\u001b[0m \u001b[0;32mis\u001b[0m \u001b[0;32mnot\u001b[0m \u001b[0;32mNone\u001b[0m\u001b[0;34m:\u001b[0m\u001b[0;34m\u001b[0m\u001b[0;34m\u001b[0m\u001b[0m\n\u001b[1;32m     77\u001b[0m                 raise ValueError(\n",
      "\u001b[0;32m/usr/local/lib/python3.8/dist-packages/matplotlib/axis.py\u001b[0m in \u001b[0;36m_set_ticklabels\u001b[0;34m(self, labels, fontdict, minor, **kwargs)\u001b[0m\n\u001b[1;32m   1796\u001b[0m         \u001b[0;32mraise\u001b[0m \u001b[0mNotImplementedError\u001b[0m\u001b[0;34m(\u001b[0m\u001b[0;34m'Derived must override'\u001b[0m\u001b[0;34m)\u001b[0m\u001b[0;34m\u001b[0m\u001b[0;34m\u001b[0m\u001b[0m\n\u001b[1;32m   1797\u001b[0m \u001b[0;34m\u001b[0m\u001b[0m\n\u001b[0;32m-> 1798\u001b[0;31m     \u001b[0;32mdef\u001b[0m \u001b[0mpan\u001b[0m\u001b[0;34m(\u001b[0m\u001b[0mself\u001b[0m\u001b[0;34m,\u001b[0m \u001b[0mnumsteps\u001b[0m\u001b[0;34m)\u001b[0m\u001b[0;34m:\u001b[0m\u001b[0;34m\u001b[0m\u001b[0;34m\u001b[0m\u001b[0m\n\u001b[0m\u001b[1;32m   1799\u001b[0m         \u001b[0;34m\"\"\"Pan by *numsteps* (can be positive or negative).\"\"\"\u001b[0m\u001b[0;34m\u001b[0m\u001b[0;34m\u001b[0m\u001b[0m\n\u001b[1;32m   1800\u001b[0m         \u001b[0mself\u001b[0m\u001b[0;34m.\u001b[0m\u001b[0mmajor\u001b[0m\u001b[0;34m.\u001b[0m\u001b[0mlocator\u001b[0m\u001b[0;34m.\u001b[0m\u001b[0mpan\u001b[0m\u001b[0;34m(\u001b[0m\u001b[0mnumsteps\u001b[0m\u001b[0;34m)\u001b[0m\u001b[0;34m\u001b[0m\u001b[0;34m\u001b[0m\u001b[0m\n",
      "\u001b[0;32m/usr/local/lib/python3.8/dist-packages/matplotlib/axis.py\u001b[0m in \u001b[0;36mset_ticklabels\u001b[0;34m(self, ticklabels, minor, **kwargs)\u001b[0m\n\u001b[1;32m   1718\u001b[0m             \u001b[0;31m# if it is Text, get label content\u001b[0m\u001b[0;34m\u001b[0m\u001b[0;34m\u001b[0m\u001b[0;34m\u001b[0m\u001b[0m\n\u001b[1;32m   1719\u001b[0m             \u001b[0;32mtry\u001b[0m\u001b[0;34m:\u001b[0m\u001b[0;34m\u001b[0m\u001b[0;34m\u001b[0m\u001b[0m\n\u001b[0;32m-> 1720\u001b[0;31m                 \u001b[0mget_labels\u001b[0m\u001b[0;34m.\u001b[0m\u001b[0mappend\u001b[0m\u001b[0;34m(\u001b[0m\u001b[0mt\u001b[0m\u001b[0;34m.\u001b[0m\u001b[0mget_text\u001b[0m\u001b[0;34m(\u001b[0m\u001b[0;34m)\u001b[0m\u001b[0;34m)\u001b[0m\u001b[0;34m\u001b[0m\u001b[0;34m\u001b[0m\u001b[0m\n\u001b[0m\u001b[1;32m   1721\u001b[0m             \u001b[0;31m# otherwise add the label to the list directly\u001b[0m\u001b[0;34m\u001b[0m\u001b[0;34m\u001b[0m\u001b[0;34m\u001b[0m\u001b[0m\n\u001b[1;32m   1722\u001b[0m             \u001b[0;32mexcept\u001b[0m \u001b[0mAttributeError\u001b[0m\u001b[0;34m:\u001b[0m\u001b[0;34m\u001b[0m\u001b[0;34m\u001b[0m\u001b[0m\n",
      "\u001b[0;31mValueError\u001b[0m: The number of FixedLocator locations (6), usually from a call to set_ticks, does not match the number of ticklabels (5)."
     ]
    },
    {
     "data": {
      "image/png": "[encoded data removed]",
      "text/plain": [
       "<Figure size 1152x576 with 1 Axes>"
      ]
     },
     "metadata": {
      "needs_background": "light"
     },
     "output_type": "display_data"
    }
   ],
   "source": [
    "translate('он собирается домой')"
   ]
  }
 ],
 "metadata": {
  "accelerator": "GPU",
  "colab": {
   "provenance": []
  },
  "gpuClass": "standard",
  "kernelspec": {
   "display_name": "Python 3 (ipykernel)",
   "language": "python",
   "name": "python3"
  },
  "language_info": {
   "codemirror_mode": {
    "name": "ipython",
    "version": 3
   },
   "file_extension": ".py",
   "mimetype": "text/x-python",
   "name": "python",
   "nbconvert_exporter": "python",
   "pygments_lexer": "ipython3",
   "version": "3.9.16"
  },
  "nbTranslate": {
   "displayLangs": [
    "*"
   ],
   "hotkey": "alt-t",
   "langInMainMenu": true,
   "sourceLang": "en",
   "targetLang": "fr",
   "useGoogleTranslate": true
  },
  "toc": {
   "base_numbering": 1,
   "nav_menu": {},
   "number_sections": false,
   "sideBar": true,
   "skip_h1_title": false,
   "title_cell": "Table of Contents",
   "title_sidebar": "Contents",
   "toc_cell": false,
   "toc_position": {},
   "toc_section_display": true,
   "toc_window_display": false
  },
  "varInspector": {
   "cols": {
    "lenName": 16,
    "lenType": 16,
    "lenVar": 40
   },
   "kernels_config": {
    "python": {
     "delete_cmd_postfix": "",
     "delete_cmd_prefix": "del ",
     "library": "var_list.py",
     "varRefreshCmd": "print(var_dic_list())"
    },
    "r": {
     "delete_cmd_postfix": ") ",
     "delete_cmd_prefix": "rm(",
     "library": "var_list.r",
     "varRefreshCmd": "cat(var_dic_list()) "
    }
   },
   "types_to_exclude": [
    "module",
    "function",
    "builtin_function_or_method",
    "instance",
    "_Feature"
   ],
   "window_display": false
  },
  "widgets": {
   "application/vnd.jupyter.widget-state+json": {
    "0069794296c54a0680417ff91692d115": {
     "model_module": "@jupyter-widgets/controls",
     "model_module_version": "1.5.0",
     "model_name": "DescriptionStyleModel",
     "state": {
      "_model_module": "@jupyter-widgets/controls",
      "_model_module_version": "1.5.0",
      "_model_name": "DescriptionStyleModel",
      "_view_count": null,
      "_view_module": "@jupyter-widgets/base",
      "_view_module_version": "1.2.0",
      "_view_name": "StyleView",
      "description_width": ""
     }
    },
    "02cb3d383bcb4187b59e0abd3c13dc8c": {
     "model_module": "@jupyter-widgets/base",
     "model_module_version": "1.2.0",
     "model_name": "LayoutModel",
     "state": {
      "_model_module": "@jupyter-widgets/base",
      "_model_module_version": "1.2.0",
      "_model_name": "LayoutModel",
      "_view_count": null,
      "_view_module": "@jupyter-widgets/base",
      "_view_module_version": "1.2.0",
      "_view_name": "LayoutView",
      "align_content": null,
      "align_items": null,
      "align_self": null,
      "border": null,
      "bottom": null,
      "display": null,
      "flex": null,
      "flex_flow": null,
      "grid_area": null,
      "grid_auto_columns": null,
      "grid_auto_flow": null,
      "grid_auto_rows": null,
      "grid_column": null,
      "grid_gap": null,
      "grid_row": null,
      "grid_template_areas": null,
      "grid_template_columns": null,
      "grid_template_rows": null,
      "height": null,
      "justify_content": null,
      "justify_items": null,
      "left": null,
      "margin": null,
      "max_height": null,
      "max_width": null,
      "min_height": null,
      "min_width": null,
      "object_fit": null,
      "object_position": null,
      "order": null,
      "overflow": null,
      "overflow_x": null,
      "overflow_y": null,
      "padding": null,
      "right": null,
      "top": null,
      "visibility": null,
      "width": "20px"
     }
    },
    "072bb88f18154b2fae3d0d1a67d7dbf9": {
     "model_module": "@jupyter-widgets/controls",
     "model_module_version": "1.5.0",
     "model_name": "HTMLModel",
     "state": {
      "_dom_classes": [],
      "_model_module": "@jupyter-widgets/controls",
      "_model_module_version": "1.5.0",
      "_model_name": "HTMLModel",
      "_view_count": null,
      "_view_module": "@jupyter-widgets/controls",
      "_view_module_version": "1.5.0",
      "_view_name": "HTMLView",
      "description": "",
      "description_tooltip": null,
      "layout": "IPY_MODEL_5a283e3a6add46b3a19188080c3e3ab8",
      "placeholder": "​",
      "style": "IPY_MODEL_0069794296c54a0680417ff91692d115",
      "value": " 3/3 [00:33&lt;00:00,  7.80s/ splits]"
     }
    },
    "0968600d30b24445880559d6c9e55b28": {
     "model_module": "@jupyter-widgets/controls",
     "model_module_version": "1.5.0",
     "model_name": "DescriptionStyleModel",
     "state": {
      "_model_module": "@jupyter-widgets/controls",
      "_model_module_version": "1.5.0",
      "_model_name": "DescriptionStyleModel",
      "_view_count": null,
      "_view_module": "@jupyter-widgets/base",
      "_view_module_version": "1.2.0",
      "_view_name": "StyleView",
      "description_width": ""
     }
    },
    "0bd984b8b5214dae8ee91dc057593385": {
     "model_module": "@jupyter-widgets/controls",
     "model_module_version": "1.5.0",
     "model_name": "HTMLModel",
     "state": {
      "_dom_classes": [],
      "_model_module": "@jupyter-widgets/controls",
      "_model_module_version": "1.5.0",
      "_model_name": "HTMLModel",
      "_view_count": null,
      "_view_module": "@jupyter-widgets/controls",
      "_view_module_version": "1.5.0",
      "_view_name": "HTMLView",
      "description": "",
      "description_tooltip": null,
      "layout": "IPY_MODEL_8cb0a7163a7b4ce8b30fd32f27509b7e",
      "placeholder": "​",
      "style": "IPY_MODEL_e1af616dfbf44288803f43a591cbf31d",
      "value": " 0/5476 [00:00&lt;?, ? examples/s]"
     }
    },
    "10122b47d646469f9442f8618caca701": {
     "model_module": "@jupyter-widgets/controls",
     "model_module_version": "1.5.0",
     "model_name": "FloatProgressModel",
     "state": {
      "_dom_classes": [],
      "_model_module": "@jupyter-widgets/controls",
      "_model_module_version": "1.5.0",
      "_model_name": "FloatProgressModel",
      "_view_count": null,
      "_view_module": "@jupyter-widgets/controls",
      "_view_module_version": "1.5.0",
      "_view_name": "ProgressView",
      "bar_style": "info",
      "description": "",
      "description_tooltip": null,
      "layout": "IPY_MODEL_9b1e1a7b7d2644beac8d12317b3c6cf1",
      "max": 1,
      "min": 0,
      "orientation": "horizontal",
      "style": "IPY_MODEL_ea5f172293234d9186007242bd1255ff",
      "value": 1
     }
    },
    "10de753360fa4f33bad5e0e0236b8840": {
     "model_module": "@jupyter-widgets/base",
     "model_module_version": "1.2.0",
     "model_name": "LayoutModel",
     "state": {
      "_model_module": "@jupyter-widgets/base",
      "_model_module_version": "1.2.0",
      "_model_name": "LayoutModel",
      "_view_count": null,
      "_view_module": "@jupyter-widgets/base",
      "_view_module_version": "1.2.0",
      "_view_name": "LayoutView",
      "align_content": null,
      "align_items": null,
      "align_self": null,
      "border": null,
      "bottom": null,
      "display": null,
      "flex": null,
      "flex_flow": null,
      "grid_area": null,
      "grid_auto_columns": null,
      "grid_auto_flow": null,
      "grid_auto_rows": null,
      "grid_column": null,
      "grid_gap": null,
      "grid_row": null,
      "grid_template_areas": null,
      "grid_template_columns": null,
      "grid_template_rows": null,
      "height": null,
      "justify_content": null,
      "justify_items": null,
      "left": null,
      "margin": null,
      "max_height": null,
      "max_width": null,
      "min_height": null,
      "min_width": null,
      "object_fit": null,
      "object_position": null,
      "order": null,
      "overflow": null,
      "overflow_x": null,
      "overflow_y": null,
      "padding": null,
      "right": null,
      "top": null,
      "visibility": "hidden",
      "width": null
     }
    },
    "12b6d2fb2bc642579b034fb35caa2f97": {
     "model_module": "@jupyter-widgets/base",
     "model_module_version": "1.2.0",
     "model_name": "LayoutModel",
     "state": {
      "_model_module": "@jupyter-widgets/base",
      "_model_module_version": "1.2.0",
      "_model_name": "LayoutModel",
      "_view_count": null,
      "_view_module": "@jupyter-widgets/base",
      "_view_module_version": "1.2.0",
      "_view_name": "LayoutView",
      "align_content": null,
      "align_items": null,
      "align_self": null,
      "border": null,
      "bottom": null,
      "display": null,
      "flex": null,
      "flex_flow": null,
      "grid_area": null,
      "grid_auto_columns": null,
      "grid_auto_flow": null,
      "grid_auto_rows": null,
      "grid_column": null,
      "grid_gap": null,
      "grid_row": null,
      "grid_template_areas": null,
      "grid_template_columns": null,
      "grid_template_rows": null,
      "height": null,
      "justify_content": null,
      "justify_items": null,
      "left": null,
      "margin": null,
      "max_height": null,
      "max_width": null,
      "min_height": null,
      "min_width": null,
      "object_fit": null,
      "object_position": null,
      "order": null,
      "overflow": null,
      "overflow_x": null,
      "overflow_y": null,
      "padding": null,
      "right": null,
      "top": null,
      "visibility": "hidden",
      "width": null
     }
    },
    "1647854dc0dd4188aac4ff8166f0054e": {
     "model_module": "@jupyter-widgets/controls",
     "model_module_version": "1.5.0",
     "model_name": "HTMLModel",
     "state": {
      "_dom_classes": [],
      "_model_module": "@jupyter-widgets/controls",
      "_model_module_version": "1.5.0",
      "_model_name": "HTMLModel",
      "_view_count": null,
      "_view_module": "@jupyter-widgets/controls",
      "_view_module_version": "1.5.0",
      "_view_name": "HTMLView",
      "description": "",
      "description_tooltip": null,
      "layout": "IPY_MODEL_2f4a88886f324e7ca8a6bb9614eff7aa",
      "placeholder": "​",
      "style": "IPY_MODEL_2861d02bb55a438c9cd2027524a6a021",
      "value": " 206950/? [00:31&lt;00:00, 13894.79 examples/s]"
     }
    },
    "198500121c8d4e548fa30fb27a61d66d": {
     "model_module": "@jupyter-widgets/base",
     "model_module_version": "1.2.0",
     "model_name": "LayoutModel",
     "state": {
      "_model_module": "@jupyter-widgets/base",
      "_model_module_version": "1.2.0",
      "_model_name": "LayoutModel",
      "_view_count": null,
      "_view_module": "@jupyter-widgets/base",
      "_view_module_version": "1.2.0",
      "_view_name": "LayoutView",
      "align_content": null,
      "align_items": null,
      "align_self": null,
      "border": null,
      "bottom": null,
      "display": null,
      "flex": null,
      "flex_flow": null,
      "grid_area": null,
      "grid_auto_columns": null,
      "grid_auto_flow": null,
      "grid_auto_rows": null,
      "grid_column": null,
      "grid_gap": null,
      "grid_row": null,
      "grid_template_areas": null,
      "grid_template_columns": null,
      "grid_template_rows": null,
      "height": null,
      "justify_content": null,
      "justify_items": null,
      "left": null,
      "margin": null,
      "max_height": null,
      "max_width": null,
      "min_height": null,
      "min_width": null,
      "object_fit": null,
      "object_position": null,
      "order": null,
      "overflow": null,
      "overflow_x": null,
      "overflow_y": null,
      "padding": null,
      "right": null,
      "top": null,
      "visibility": null,
      "width": null
     }
    },
    "1c37032e90414083ad622ee7a0f67c05": {
     "model_module": "@jupyter-widgets/controls",
     "model_module_version": "1.5.0",
     "model_name": "FloatProgressModel",
     "state": {
      "_dom_classes": [],
      "_model_module": "@jupyter-widgets/controls",
      "_model_module_version": "1.5.0",
      "_model_name": "FloatProgressModel",
      "_view_count": null,
      "_view_module": "@jupyter-widgets/controls",
      "_view_module_version": "1.5.0",
      "_view_name": "ProgressView",
      "bar_style": "",
      "description": "",
      "description_tooltip": null,
      "layout": "IPY_MODEL_ac7eb7b615994d108aa6a18917686575",
      "max": 3,
      "min": 0,
      "orientation": "horizontal",
      "style": "IPY_MODEL_66a8456b82424baca6c7dadaa49c3fde",
      "value": 3
     }
    },
    "1ca03450ffdf48199297e446ed12087f": {
     "model_module": "@jupyter-widgets/controls",
     "model_module_version": "1.5.0",
     "model_name": "HTMLModel",
     "state": {
      "_dom_classes": [],
      "_model_module": "@jupyter-widgets/controls",
      "_model_module_version": "1.5.0",
      "_model_name": "HTMLModel",
      "_view_count": null,
      "_view_module": "@jupyter-widgets/controls",
      "_view_module_version": "1.5.0",
      "_view_name": "HTMLView",
      "description": "",
      "description_tooltip": null,
      "layout": "IPY_MODEL_e7e0a3c4299447dfaf89c020deed6ccf",
      "placeholder": "​",
      "style": "IPY_MODEL_73960e406dc24772b0ea3ba64b86bd24",
      "value": "Shuffling /root/tensorflow_datasets/ted_hrlr_translate/ru_to_en/1.0.0.incompleteU089BI/ted_hrlr_translate-validation.tfrecord*...:   0%"
     }
    },
    "1cf4b0c6ef49418caf1b9de0dfba4e71": {
     "model_module": "@jupyter-widgets/controls",
     "model_module_version": "1.5.0",
     "model_name": "DescriptionStyleModel",
     "state": {
      "_model_module": "@jupyter-widgets/controls",
      "_model_module_version": "1.5.0",
      "_model_name": "DescriptionStyleModel",
      "_view_count": null,
      "_view_module": "@jupyter-widgets/base",
      "_view_module_version": "1.2.0",
      "_view_name": "StyleView",
      "description_width": ""
     }
    },
    "21a22c0cf1db4afe8b85c2a98e6b00ea": {
     "model_module": "@jupyter-widgets/controls",
     "model_module_version": "1.5.0",
     "model_name": "HBoxModel",
     "state": {
      "_dom_classes": [],
      "_model_module": "@jupyter-widgets/controls",
      "_model_module_version": "1.5.0",
      "_model_name": "HBoxModel",
      "_view_count": null,
      "_view_module": "@jupyter-widgets/controls",
      "_view_module_version": "1.5.0",
      "_view_name": "HBoxView",
      "box_style": "",
      "children": [
       "IPY_MODEL_e576cdba3d774476b38ebed2b61a58e6",
       "IPY_MODEL_e81784049f2649598ecb25dbef3b1d9b",
       "IPY_MODEL_cdcc6515657e4d24b0a19b2cf2a0bf4f"
      ],
      "layout": "IPY_MODEL_ca3c765e63cd41daa1827166ed1cb6c5"
     }
    },
    "2454cba57e8f4069b0b93e85d4128cb6": {
     "model_module": "@jupyter-widgets/controls",
     "model_module_version": "1.5.0",
     "model_name": "DescriptionStyleModel",
     "state": {
      "_model_module": "@jupyter-widgets/controls",
      "_model_module_version": "1.5.0",
      "_model_name": "DescriptionStyleModel",
      "_view_count": null,
      "_view_module": "@jupyter-widgets/base",
      "_view_module_version": "1.2.0",
      "_view_name": "StyleView",
      "description_width": ""
     }
    },
    "27b34af6e2964f8db01fc7c701acfbad": {
     "model_module": "@jupyter-widgets/controls",
     "model_module_version": "1.5.0",
     "model_name": "HTMLModel",
     "state": {
      "_dom_classes": [],
      "_model_module": "@jupyter-widgets/controls",
      "_model_module_version": "1.5.0",
      "_model_name": "HTMLModel",
      "_view_count": null,
      "_view_module": "@jupyter-widgets/controls",
      "_view_module_version": "1.5.0",
      "_view_name": "HTMLView",
      "description": "",
      "description_tooltip": null,
      "layout": "IPY_MODEL_eaa755782de2433a876a898616058680",
      "placeholder": "​",
      "style": "IPY_MODEL_2454cba57e8f4069b0b93e85d4128cb6",
      "value": " 172362/208106 [00:00&lt;00:00, 361398.80 examples/s]"
     }
    },
    "2861d02bb55a438c9cd2027524a6a021": {
     "model_module": "@jupyter-widgets/controls",
     "model_module_version": "1.5.0",
     "model_name": "DescriptionStyleModel",
     "state": {
      "_model_module": "@jupyter-widgets/controls",
      "_model_module_version": "1.5.0",
      "_model_name": "DescriptionStyleModel",
      "_view_count": null,
      "_view_module": "@jupyter-widgets/base",
      "_view_module_version": "1.2.0",
      "_view_name": "StyleView",
      "description_width": ""
     }
    },
    "2aed024b3eb74c269dbfeb49290e56e7": {
     "model_module": "@jupyter-widgets/controls",
     "model_module_version": "1.5.0",
     "model_name": "FloatProgressModel",
     "state": {
      "_dom_classes": [],
      "_model_module": "@jupyter-widgets/controls",
      "_model_module_version": "1.5.0",
      "_model_name": "FloatProgressModel",
      "_view_count": null,
      "_view_module": "@jupyter-widgets/controls",
      "_view_module_version": "1.5.0",
      "_view_name": "ProgressView",
      "bar_style": "info",
      "description": "",
      "description_tooltip": null,
      "layout": "IPY_MODEL_84c26e7728364848854d6f386e86b7b4",
      "max": 1,
      "min": 0,
      "orientation": "horizontal",
      "style": "IPY_MODEL_d1bff15c3c6a45fab96db3f29775f576",
      "value": 1
     }
    },
    "2f2f7364c8384e8db8c771d451e3c506": {
     "model_module": "@jupyter-widgets/controls",
     "model_module_version": "1.5.0",
     "model_name": "ProgressStyleModel",
     "state": {
      "_model_module": "@jupyter-widgets/controls",
      "_model_module_version": "1.5.0",
      "_model_name": "ProgressStyleModel",
      "_view_count": null,
      "_view_module": "@jupyter-widgets/base",
      "_view_module_version": "1.2.0",
      "_view_name": "StyleView",
      "bar_color": null,
      "description_width": ""
     }
    },
    "2f4a88886f324e7ca8a6bb9614eff7aa": {
     "model_module": "@jupyter-widgets/base",
     "model_module_version": "1.2.0",
     "model_name": "LayoutModel",
     "state": {
      "_model_module": "@jupyter-widgets/base",
      "_model_module_version": "1.2.0",
      "_model_name": "LayoutModel",
      "_view_count": null,
      "_view_module": "@jupyter-widgets/base",
      "_view_module_version": "1.2.0",
      "_view_name": "LayoutView",
      "align_content": null,
      "align_items": null,
      "align_self": null,
      "border": null,
      "bottom": null,
      "display": null,
      "flex": null,
      "flex_flow": null,
      "grid_area": null,
      "grid_auto_columns": null,
      "grid_auto_flow": null,
      "grid_auto_rows": null,
      "grid_column": null,
      "grid_gap": null,
      "grid_row": null,
      "grid_template_areas": null,
      "grid_template_columns": null,
      "grid_template_rows": null,
      "height": null,
      "justify_content": null,
      "justify_items": null,
      "left": null,
      "margin": null,
      "max_height": null,
      "max_width": null,
      "min_height": null,
      "min_width": null,
      "object_fit": null,
      "object_position": null,
      "order": null,
      "overflow": null,
      "overflow_x": null,
      "overflow_y": null,
      "padding": null,
      "right": null,
      "top": null,
      "visibility": null,
      "width": null
     }
    },
    "330c5ddbe46a4e38bc2e805495092721": {
     "model_module": "@jupyter-widgets/base",
     "model_module_version": "1.2.0",
     "model_name": "LayoutModel",
     "state": {
      "_model_module": "@jupyter-widgets/base",
      "_model_module_version": "1.2.0",
      "_model_name": "LayoutModel",
      "_view_count": null,
      "_view_module": "@jupyter-widgets/base",
      "_view_module_version": "1.2.0",
      "_view_name": "LayoutView",
      "align_content": null,
      "align_items": null,
      "align_self": null,
      "border": null,
      "bottom": null,
      "display": null,
      "flex": null,
      "flex_flow": null,
      "grid_area": null,
      "grid_auto_columns": null,
      "grid_auto_flow": null,
      "grid_auto_rows": null,
      "grid_column": null,
      "grid_gap": null,
      "grid_row": null,
      "grid_template_areas": null,
      "grid_template_columns": null,
      "grid_template_rows": null,
      "height": null,
      "justify_content": null,
      "justify_items": null,
      "left": null,
      "margin": null,
      "max_height": null,
      "max_width": null,
      "min_height": null,
      "min_width": null,
      "object_fit": null,
      "object_position": null,
      "order": null,
      "overflow": null,
      "overflow_x": null,
      "overflow_y": null,
      "padding": null,
      "right": null,
      "top": null,
      "visibility": null,
      "width": null
     }
    },
    "33e29c9596034eaeb9e30304d0771c5a": {
     "model_module": "@jupyter-widgets/controls",
     "model_module_version": "1.5.0",
     "model_name": "DescriptionStyleModel",
     "state": {
      "_model_module": "@jupyter-widgets/controls",
      "_model_module_version": "1.5.0",
      "_model_name": "DescriptionStyleModel",
      "_view_count": null,
      "_view_module": "@jupyter-widgets/base",
      "_view_module_version": "1.2.0",
      "_view_name": "StyleView",
      "description_width": ""
     }
    },
    "389902c6621c4903a2fc9cc28a9462d0": {
     "model_module": "@jupyter-widgets/controls",
     "model_module_version": "1.5.0",
     "model_name": "HTMLModel",
     "state": {
      "_dom_classes": [],
      "_model_module": "@jupyter-widgets/controls",
      "_model_module_version": "1.5.0",
      "_model_name": "HTMLModel",
      "_view_count": null,
      "_view_module": "@jupyter-widgets/controls",
      "_view_module_version": "1.5.0",
      "_view_name": "HTMLView",
      "description": "",
      "description_tooltip": null,
      "layout": "IPY_MODEL_7afad1c9c72347ec9046e0918373d395",
      "placeholder": "​",
      "style": "IPY_MODEL_8325d355b1914d159fd5a98c2278c1b3",
      "value": " 0/4805 [00:00&lt;?, ? examples/s]"
     }
    },
    "400d07b3cf754a369e73e51d7da0aede": {
     "model_module": "@jupyter-widgets/controls",
     "model_module_version": "1.5.0",
     "model_name": "FloatProgressModel",
     "state": {
      "_dom_classes": [],
      "_model_module": "@jupyter-widgets/controls",
      "_model_module_version": "1.5.0",
      "_model_name": "FloatProgressModel",
      "_view_count": null,
      "_view_module": "@jupyter-widgets/controls",
      "_view_module_version": "1.5.0",
      "_view_name": "ProgressView",
      "bar_style": "",
      "description": "",
      "description_tooltip": null,
      "layout": "IPY_MODEL_f86f6a5af4114b639972feca51a596dc",
      "max": 4805,
      "min": 0,
      "orientation": "horizontal",
      "style": "IPY_MODEL_547ec8c1c6324a718b332472acf8d80c",
      "value": 4805
     }
    },
    "402eefd4c38947c98bc1f9828415fef8": {
     "model_module": "@jupyter-widgets/controls",
     "model_module_version": "1.5.0",
     "model_name": "HTMLModel",
     "state": {
      "_dom_classes": [],
      "_model_module": "@jupyter-widgets/controls",
      "_model_module_version": "1.5.0",
      "_model_name": "HTMLModel",
      "_view_count": null,
      "_view_module": "@jupyter-widgets/controls",
      "_view_module_version": "1.5.0",
      "_view_name": "HTMLView",
      "description": "",
      "description_tooltip": null,
      "layout": "IPY_MODEL_4d977cae912f408e9c0910feefd5fb3d",
      "placeholder": "​",
      "style": "IPY_MODEL_c23f5624ca4f4e258ebb2152724959ff",
      "value": " 124/124 [00:13&lt;00:00, 20.05 MiB/s]"
     }
    },
    "41a0b54f4e404d568a36d122a072650f": {
     "model_module": "@jupyter-widgets/controls",
     "model_module_version": "1.5.0",
     "model_name": "FloatProgressModel",
     "state": {
      "_dom_classes": [],
      "_model_module": "@jupyter-widgets/controls",
      "_model_module_version": "1.5.0",
      "_model_name": "FloatProgressModel",
      "_view_count": null,
      "_view_module": "@jupyter-widgets/controls",
      "_view_module_version": "1.5.0",
      "_view_name": "ProgressView",
      "bar_style": "",
      "description": "",
      "description_tooltip": null,
      "layout": "IPY_MODEL_af253ca7030b46438bf0e4b4b9c31332",
      "max": 208106,
      "min": 0,
      "orientation": "horizontal",
      "style": "IPY_MODEL_e6261cf928d740ec90e1e4f03802a3cd",
      "value": 208106
     }
    },
    "4537216e76c443bbb7a91533cd471d31": {
     "model_module": "@jupyter-widgets/base",
     "model_module_version": "1.2.0",
     "model_name": "LayoutModel",
     "state": {
      "_model_module": "@jupyter-widgets/base",
      "_model_module_version": "1.2.0",
      "_model_name": "LayoutModel",
      "_view_count": null,
      "_view_module": "@jupyter-widgets/base",
      "_view_module_version": "1.2.0",
      "_view_name": "LayoutView",
      "align_content": null,
      "align_items": null,
      "align_self": null,
      "border": null,
      "bottom": null,
      "display": null,
      "flex": null,
      "flex_flow": null,
      "grid_area": null,
      "grid_auto_columns": null,
      "grid_auto_flow": null,
      "grid_auto_rows": null,
      "grid_column": null,
      "grid_gap": null,
      "grid_row": null,
      "grid_template_areas": null,
      "grid_template_columns": null,
      "grid_template_rows": null,
      "height": null,
      "justify_content": null,
      "justify_items": null,
      "left": null,
      "margin": null,
      "max_height": null,
      "max_width": null,
      "min_height": null,
      "min_width": null,
      "object_fit": null,
      "object_position": null,
      "order": null,
      "overflow": null,
      "overflow_x": null,
      "overflow_y": null,
      "padding": null,
      "right": null,
      "top": null,
      "visibility": null,
      "width": null
     }
    },
    "49bca3ba670146f2944f0059d4a5996e": {
     "model_module": "@jupyter-widgets/base",
     "model_module_version": "1.2.0",
     "model_name": "LayoutModel",
     "state": {
      "_model_module": "@jupyter-widgets/base",
      "_model_module_version": "1.2.0",
      "_model_name": "LayoutModel",
      "_view_count": null,
      "_view_module": "@jupyter-widgets/base",
      "_view_module_version": "1.2.0",
      "_view_name": "LayoutView",
      "align_content": null,
      "align_items": null,
      "align_self": null,
      "border": null,
      "bottom": null,
      "display": null,
      "flex": null,
      "flex_flow": null,
      "grid_area": null,
      "grid_auto_columns": null,
      "grid_auto_flow": null,
      "grid_auto_rows": null,
      "grid_column": null,
      "grid_gap": null,
      "grid_row": null,
      "grid_template_areas": null,
      "grid_template_columns": null,
      "grid_template_rows": null,
      "height": null,
      "justify_content": null,
      "justify_items": null,
      "left": null,
      "margin": null,
      "max_height": null,
      "max_width": null,
      "min_height": null,
      "min_width": null,
      "object_fit": null,
      "object_position": null,
      "order": null,
      "overflow": null,
      "overflow_x": null,
      "overflow_y": null,
      "padding": null,
      "right": null,
      "top": null,
      "visibility": "hidden",
      "width": null
     }
    },
    "4b3d994eb2f84a61942a5fbb0c1aba6a": {
     "model_module": "@jupyter-widgets/controls",
     "model_module_version": "1.5.0",
     "model_name": "DescriptionStyleModel",
     "state": {
      "_model_module": "@jupyter-widgets/controls",
      "_model_module_version": "1.5.0",
      "_model_name": "DescriptionStyleModel",
      "_view_count": null,
      "_view_module": "@jupyter-widgets/base",
      "_view_module_version": "1.2.0",
      "_view_name": "StyleView",
      "description_width": ""
     }
    },
    "4b4ac4baf39a4e179b00e0ffb2003491": {
     "model_module": "@jupyter-widgets/controls",
     "model_module_version": "1.5.0",
     "model_name": "FloatProgressModel",
     "state": {
      "_dom_classes": [],
      "_model_module": "@jupyter-widgets/controls",
      "_model_module_version": "1.5.0",
      "_model_name": "FloatProgressModel",
      "_view_count": null,
      "_view_module": "@jupyter-widgets/controls",
      "_view_module_version": "1.5.0",
      "_view_name": "ProgressView",
      "bar_style": "info",
      "description": "",
      "description_tooltip": null,
      "layout": "IPY_MODEL_cf8db9d4ca9e41aaa61bc6a3d634f607",
      "max": 1,
      "min": 0,
      "orientation": "horizontal",
      "style": "IPY_MODEL_baf9018a95d34c4c93823b2440f4d5d7",
      "value": 1
     }
    },
    "4d977cae912f408e9c0910feefd5fb3d": {
     "model_module": "@jupyter-widgets/base",
     "model_module_version": "1.2.0",
     "model_name": "LayoutModel",
     "state": {
      "_model_module": "@jupyter-widgets/base",
      "_model_module_version": "1.2.0",
      "_model_name": "LayoutModel",
      "_view_count": null,
      "_view_module": "@jupyter-widgets/base",
      "_view_module_version": "1.2.0",
      "_view_name": "LayoutView",
      "align_content": null,
      "align_items": null,
      "align_self": null,
      "border": null,
      "bottom": null,
      "display": null,
      "flex": null,
      "flex_flow": null,
      "grid_area": null,
      "grid_auto_columns": null,
      "grid_auto_flow": null,
      "grid_auto_rows": null,
      "grid_column": null,
      "grid_gap": null,
      "grid_row": null,
      "grid_template_areas": null,
      "grid_template_columns": null,
      "grid_template_rows": null,
      "height": null,
      "justify_content": null,
      "justify_items": null,
      "left": null,
      "margin": null,
      "max_height": null,
      "max_width": null,
      "min_height": null,
      "min_width": null,
      "object_fit": null,
      "object_position": null,
      "order": null,
      "overflow": null,
      "overflow_x": null,
      "overflow_y": null,
      "padding": null,
      "right": null,
      "top": null,
      "visibility": null,
      "width": null
     }
    },
    "4e332f8efc944611b10922101faa5912": {
     "model_module": "@jupyter-widgets/base",
     "model_module_version": "1.2.0",
     "model_name": "LayoutModel",
     "state": {
      "_model_module": "@jupyter-widgets/base",
      "_model_module_version": "1.2.0",
      "_model_name": "LayoutModel",
      "_view_count": null,
      "_view_module": "@jupyter-widgets/base",
      "_view_module_version": "1.2.0",
      "_view_name": "LayoutView",
      "align_content": null,
      "align_items": null,
      "align_self": null,
      "border": null,
      "bottom": null,
      "display": null,
      "flex": null,
      "flex_flow": null,
      "grid_area": null,
      "grid_auto_columns": null,
      "grid_auto_flow": null,
      "grid_auto_rows": null,
      "grid_column": null,
      "grid_gap": null,
      "grid_row": null,
      "grid_template_areas": null,
      "grid_template_columns": null,
      "grid_template_rows": null,
      "height": null,
      "justify_content": null,
      "justify_items": null,
      "left": null,
      "margin": null,
      "max_height": null,
      "max_width": null,
      "min_height": null,
      "min_width": null,
      "object_fit": null,
      "object_position": null,
      "order": null,
      "overflow": null,
      "overflow_x": null,
      "overflow_y": null,
      "padding": null,
      "right": null,
      "top": null,
      "visibility": null,
      "width": null
     }
    },
    "51f993bd0919435a82ccbccaab4313d1": {
     "model_module": "@jupyter-widgets/base",
     "model_module_version": "1.2.0",
     "model_name": "LayoutModel",
     "state": {
      "_model_module": "@jupyter-widgets/base",
      "_model_module_version": "1.2.0",
      "_model_name": "LayoutModel",
      "_view_count": null,
      "_view_module": "@jupyter-widgets/base",
      "_view_module_version": "1.2.0",
      "_view_name": "LayoutView",
      "align_content": null,
      "align_items": null,
      "align_self": null,
      "border": null,
      "bottom": null,
      "display": null,
      "flex": null,
      "flex_flow": null,
      "grid_area": null,
      "grid_auto_columns": null,
      "grid_auto_flow": null,
      "grid_auto_rows": null,
      "grid_column": null,
      "grid_gap": null,
      "grid_row": null,
      "grid_template_areas": null,
      "grid_template_columns": null,
      "grid_template_rows": null,
      "height": null,
      "justify_content": null,
      "justify_items": null,
      "left": null,
      "margin": null,
      "max_height": null,
      "max_width": null,
      "min_height": null,
      "min_width": null,
      "object_fit": null,
      "object_position": null,
      "order": null,
      "overflow": null,
      "overflow_x": null,
      "overflow_y": null,
      "padding": null,
      "right": null,
      "top": null,
      "visibility": null,
      "width": null
     }
    },
    "53d4209261ad4e70af7ba03419820055": {
     "model_module": "@jupyter-widgets/base",
     "model_module_version": "1.2.0",
     "model_name": "LayoutModel",
     "state": {
      "_model_module": "@jupyter-widgets/base",
      "_model_module_version": "1.2.0",
      "_model_name": "LayoutModel",
      "_view_count": null,
      "_view_module": "@jupyter-widgets/base",
      "_view_module_version": "1.2.0",
      "_view_name": "LayoutView",
      "align_content": null,
      "align_items": null,
      "align_self": null,
      "border": null,
      "bottom": null,
      "display": null,
      "flex": null,
      "flex_flow": null,
      "grid_area": null,
      "grid_auto_columns": null,
      "grid_auto_flow": null,
      "grid_auto_rows": null,
      "grid_column": null,
      "grid_gap": null,
      "grid_row": null,
      "grid_template_areas": null,
      "grid_template_columns": null,
      "grid_template_rows": null,
      "height": null,
      "justify_content": null,
      "justify_items": null,
      "left": null,
      "margin": null,
      "max_height": null,
      "max_width": null,
      "min_height": null,
      "min_width": null,
      "object_fit": null,
      "object_position": null,
      "order": null,
      "overflow": null,
      "overflow_x": null,
      "overflow_y": null,
      "padding": null,
      "right": null,
      "top": null,
      "visibility": "hidden",
      "width": null
     }
    },
    "547ec8c1c6324a718b332472acf8d80c": {
     "model_module": "@jupyter-widgets/controls",
     "model_module_version": "1.5.0",
     "model_name": "ProgressStyleModel",
     "state": {
      "_model_module": "@jupyter-widgets/controls",
      "_model_module_version": "1.5.0",
      "_model_name": "ProgressStyleModel",
      "_view_count": null,
      "_view_module": "@jupyter-widgets/base",
      "_view_module_version": "1.2.0",
      "_view_name": "StyleView",
      "bar_color": null,
      "description_width": ""
     }
    },
    "574fa67d600244219b76d6330ba03294": {
     "model_module": "@jupyter-widgets/controls",
     "model_module_version": "1.5.0",
     "model_name": "HBoxModel",
     "state": {
      "_dom_classes": [],
      "_model_module": "@jupyter-widgets/controls",
      "_model_module_version": "1.5.0",
      "_model_name": "HBoxModel",
      "_view_count": null,
      "_view_module": "@jupyter-widgets/controls",
      "_view_module_version": "1.5.0",
      "_view_name": "HBoxView",
      "box_style": "",
      "children": [
       "IPY_MODEL_1ca03450ffdf48199297e446ed12087f",
       "IPY_MODEL_400d07b3cf754a369e73e51d7da0aede",
       "IPY_MODEL_389902c6621c4903a2fc9cc28a9462d0"
      ],
      "layout": "IPY_MODEL_10de753360fa4f33bad5e0e0236b8840"
     }
    },
    "5a283e3a6add46b3a19188080c3e3ab8": {
     "model_module": "@jupyter-widgets/base",
     "model_module_version": "1.2.0",
     "model_name": "LayoutModel",
     "state": {
      "_model_module": "@jupyter-widgets/base",
      "_model_module_version": "1.2.0",
      "_model_name": "LayoutModel",
      "_view_count": null,
      "_view_module": "@jupyter-widgets/base",
      "_view_module_version": "1.2.0",
      "_view_name": "LayoutView",
      "align_content": null,
      "align_items": null,
      "align_self": null,
      "border": null,
      "bottom": null,
      "display": null,
      "flex": null,
      "flex_flow": null,
      "grid_area": null,
      "grid_auto_columns": null,
      "grid_auto_flow": null,
      "grid_auto_rows": null,
      "grid_column": null,
      "grid_gap": null,
      "grid_row": null,
      "grid_template_areas": null,
      "grid_template_columns": null,
      "grid_template_rows": null,
      "height": null,
      "justify_content": null,
      "justify_items": null,
      "left": null,
      "margin": null,
      "max_height": null,
      "max_width": null,
      "min_height": null,
      "min_width": null,
      "object_fit": null,
      "object_position": null,
      "order": null,
      "overflow": null,
      "overflow_x": null,
      "overflow_y": null,
      "padding": null,
      "right": null,
      "top": null,
      "visibility": null,
      "width": null
     }
    },
    "60bd47c105bb4e559d195d28de04bc8f": {
     "model_module": "@jupyter-widgets/controls",
     "model_module_version": "1.5.0",
     "model_name": "HTMLModel",
     "state": {
      "_dom_classes": [],
      "_model_module": "@jupyter-widgets/controls",
      "_model_module_version": "1.5.0",
      "_model_name": "HTMLModel",
      "_view_count": null,
      "_view_module": "@jupyter-widgets/controls",
      "_view_module_version": "1.5.0",
      "_view_name": "HTMLView",
      "description": "",
      "description_tooltip": null,
      "layout": "IPY_MODEL_edc2628465824b6da1a2d30533ec2b21",
      "placeholder": "​",
      "style": "IPY_MODEL_9a256edddbcd402690c9aab72ea08f77",
      "value": " 5380/? [00:00&lt;00:00, 9917.42 examples/s]"
     }
    },
    "6168334214c541e490c4ba5d938f7a4e": {
     "model_module": "@jupyter-widgets/controls",
     "model_module_version": "1.5.0",
     "model_name": "FloatProgressModel",
     "state": {
      "_dom_classes": [],
      "_model_module": "@jupyter-widgets/controls",
      "_model_module_version": "1.5.0",
      "_model_name": "FloatProgressModel",
      "_view_count": null,
      "_view_module": "@jupyter-widgets/controls",
      "_view_module_version": "1.5.0",
      "_view_name": "ProgressView",
      "bar_style": "success",
      "description": "",
      "description_tooltip": null,
      "layout": "IPY_MODEL_ba510ab836d44957b63d6a1ceb08149d",
      "max": 1,
      "min": 0,
      "orientation": "horizontal",
      "style": "IPY_MODEL_818a059008d04cb092c6c163649edebc",
      "value": 1
     }
    },
    "638e97f3846946e186c04f9c1095e3c2": {
     "model_module": "@jupyter-widgets/base",
     "model_module_version": "1.2.0",
     "model_name": "LayoutModel",
     "state": {
      "_model_module": "@jupyter-widgets/base",
      "_model_module_version": "1.2.0",
      "_model_name": "LayoutModel",
      "_view_count": null,
      "_view_module": "@jupyter-widgets/base",
      "_view_module_version": "1.2.0",
      "_view_name": "LayoutView",
      "align_content": null,
      "align_items": null,
      "align_self": null,
      "border": null,
      "bottom": null,
      "display": null,
      "flex": null,
      "flex_flow": null,
      "grid_area": null,
      "grid_auto_columns": null,
      "grid_auto_flow": null,
      "grid_auto_rows": null,
      "grid_column": null,
      "grid_gap": null,
      "grid_row": null,
      "grid_template_areas": null,
      "grid_template_columns": null,
      "grid_template_rows": null,
      "height": null,
      "justify_content": null,
      "justify_items": null,
      "left": null,
      "margin": null,
      "max_height": null,
      "max_width": null,
      "min_height": null,
      "min_width": null,
      "object_fit": null,
      "object_position": null,
      "order": null,
      "overflow": null,
      "overflow_x": null,
      "overflow_y": null,
      "padding": null,
      "right": null,
      "top": null,
      "visibility": null,
      "width": null
     }
    },
    "6492c10f01ca403b9a87b7905e4ae7a8": {
     "model_module": "@jupyter-widgets/controls",
     "model_module_version": "1.5.0",
     "model_name": "HBoxModel",
     "state": {
      "_dom_classes": [],
      "_model_module": "@jupyter-widgets/controls",
      "_model_module_version": "1.5.0",
      "_model_name": "HBoxModel",
      "_view_count": null,
      "_view_module": "@jupyter-widgets/controls",
      "_view_module_version": "1.5.0",
      "_view_name": "HBoxView",
      "box_style": "",
      "children": [
       "IPY_MODEL_725b8ee7d6394aaf8876cd5d3eee5740",
       "IPY_MODEL_41a0b54f4e404d568a36d122a072650f",
       "IPY_MODEL_27b34af6e2964f8db01fc7c701acfbad"
      ],
      "layout": "IPY_MODEL_7f7fff9736a14c3c9ca53baa792dbbcd"
     }
    },
    "66a8456b82424baca6c7dadaa49c3fde": {
     "model_module": "@jupyter-widgets/controls",
     "model_module_version": "1.5.0",
     "model_name": "ProgressStyleModel",
     "state": {
      "_model_module": "@jupyter-widgets/controls",
      "_model_module_version": "1.5.0",
      "_model_name": "ProgressStyleModel",
      "_view_count": null,
      "_view_module": "@jupyter-widgets/base",
      "_view_module_version": "1.2.0",
      "_view_name": "StyleView",
      "bar_color": null,
      "description_width": ""
     }
    },
    "66db343ecf5f4ceea10268dffa5b66c4": {
     "model_module": "@jupyter-widgets/controls",
     "model_module_version": "1.5.0",
     "model_name": "HTMLModel",
     "state": {
      "_dom_classes": [],
      "_model_module": "@jupyter-widgets/controls",
      "_model_module_version": "1.5.0",
      "_model_name": "HTMLModel",
      "_view_count": null,
      "_view_module": "@jupyter-widgets/controls",
      "_view_module_version": "1.5.0",
      "_view_name": "HTMLView",
      "description": "",
      "description_tooltip": null,
      "layout": "IPY_MODEL_51f993bd0919435a82ccbccaab4313d1",
      "placeholder": "​",
      "style": "IPY_MODEL_d2bdd5457f82497cb8bef321a792a0b3",
      "value": "Generating test examples...: "
     }
    },
    "67cfbc8ab04d4205865409b05fb9c9df": {
     "model_module": "@jupyter-widgets/base",
     "model_module_version": "1.2.0",
     "model_name": "LayoutModel",
     "state": {
      "_model_module": "@jupyter-widgets/base",
      "_model_module_version": "1.2.0",
      "_model_name": "LayoutModel",
      "_view_count": null,
      "_view_module": "@jupyter-widgets/base",
      "_view_module_version": "1.2.0",
      "_view_name": "LayoutView",
      "align_content": null,
      "align_items": null,
      "align_self": null,
      "border": null,
      "bottom": null,
      "display": null,
      "flex": null,
      "flex_flow": null,
      "grid_area": null,
      "grid_auto_columns": null,
      "grid_auto_flow": null,
      "grid_auto_rows": null,
      "grid_column": null,
      "grid_gap": null,
      "grid_row": null,
      "grid_template_areas": null,
      "grid_template_columns": null,
      "grid_template_rows": null,
      "height": null,
      "justify_content": null,
      "justify_items": null,
      "left": null,
      "margin": null,
      "max_height": null,
      "max_width": null,
      "min_height": null,
      "min_width": null,
      "object_fit": null,
      "object_position": null,
      "order": null,
      "overflow": null,
      "overflow_x": null,
      "overflow_y": null,
      "padding": null,
      "right": null,
      "top": null,
      "visibility": null,
      "width": null
     }
    },
    "725b8ee7d6394aaf8876cd5d3eee5740": {
     "model_module": "@jupyter-widgets/controls",
     "model_module_version": "1.5.0",
     "model_name": "HTMLModel",
     "state": {
      "_dom_classes": [],
      "_model_module": "@jupyter-widgets/controls",
      "_model_module_version": "1.5.0",
      "_model_name": "HTMLModel",
      "_view_count": null,
      "_view_module": "@jupyter-widgets/controls",
      "_view_module_version": "1.5.0",
      "_view_name": "HTMLView",
      "description": "",
      "description_tooltip": null,
      "layout": "IPY_MODEL_c936b834321e4432a2511d0a88b32070",
      "placeholder": "​",
      "style": "IPY_MODEL_b0178c8ffb934c1e9ea9bb808720fa29",
      "value": "Shuffling /root/tensorflow_datasets/ted_hrlr_translate/ru_to_en/1.0.0.incompleteU089BI/ted_hrlr_translate-train.tfrecord*...:  83%"
     }
    },
    "73960e406dc24772b0ea3ba64b86bd24": {
     "model_module": "@jupyter-widgets/controls",
     "model_module_version": "1.5.0",
     "model_name": "DescriptionStyleModel",
     "state": {
      "_model_module": "@jupyter-widgets/controls",
      "_model_module_version": "1.5.0",
      "_model_name": "DescriptionStyleModel",
      "_view_count": null,
      "_view_module": "@jupyter-widgets/base",
      "_view_module_version": "1.2.0",
      "_view_name": "StyleView",
      "description_width": ""
     }
    },
    "769fcd195be6497db071b66c51c04beb": {
     "model_module": "@jupyter-widgets/base",
     "model_module_version": "1.2.0",
     "model_name": "LayoutModel",
     "state": {
      "_model_module": "@jupyter-widgets/base",
      "_model_module_version": "1.2.0",
      "_model_name": "LayoutModel",
      "_view_count": null,
      "_view_module": "@jupyter-widgets/base",
      "_view_module_version": "1.2.0",
      "_view_name": "LayoutView",
      "align_content": null,
      "align_items": null,
      "align_self": null,
      "border": null,
      "bottom": null,
      "display": null,
      "flex": null,
      "flex_flow": null,
      "grid_area": null,
      "grid_auto_columns": null,
      "grid_auto_flow": null,
      "grid_auto_rows": null,
      "grid_column": null,
      "grid_gap": null,
      "grid_row": null,
      "grid_template_areas": null,
      "grid_template_columns": null,
      "grid_template_rows": null,
      "height": null,
      "justify_content": null,
      "justify_items": null,
      "left": null,
      "margin": null,
      "max_height": null,
      "max_width": null,
      "min_height": null,
      "min_width": null,
      "object_fit": null,
      "object_position": null,
      "order": null,
      "overflow": null,
      "overflow_x": null,
      "overflow_y": null,
      "padding": null,
      "right": null,
      "top": null,
      "visibility": null,
      "width": null
     }
    },
    "7afad1c9c72347ec9046e0918373d395": {
     "model_module": "@jupyter-widgets/base",
     "model_module_version": "1.2.0",
     "model_name": "LayoutModel",
     "state": {
      "_model_module": "@jupyter-widgets/base",
      "_model_module_version": "1.2.0",
      "_model_name": "LayoutModel",
      "_view_count": null,
      "_view_module": "@jupyter-widgets/base",
      "_view_module_version": "1.2.0",
      "_view_name": "LayoutView",
      "align_content": null,
      "align_items": null,
      "align_self": null,
      "border": null,
      "bottom": null,
      "display": null,
      "flex": null,
      "flex_flow": null,
      "grid_area": null,
      "grid_auto_columns": null,
      "grid_auto_flow": null,
      "grid_auto_rows": null,
      "grid_column": null,
      "grid_gap": null,
      "grid_row": null,
      "grid_template_areas": null,
      "grid_template_columns": null,
      "grid_template_rows": null,
      "height": null,
      "justify_content": null,
      "justify_items": null,
      "left": null,
      "margin": null,
      "max_height": null,
      "max_width": null,
      "min_height": null,
      "min_width": null,
      "object_fit": null,
      "object_position": null,
      "order": null,
      "overflow": null,
      "overflow_x": null,
      "overflow_y": null,
      "padding": null,
      "right": null,
      "top": null,
      "visibility": null,
      "width": null
     }
    },
    "7ce640c71d1e4fd09e854a3ac2cb3e35": {
     "model_module": "@jupyter-widgets/controls",
     "model_module_version": "1.5.0",
     "model_name": "HTMLModel",
     "state": {
      "_dom_classes": [],
      "_model_module": "@jupyter-widgets/controls",
      "_model_module_version": "1.5.0",
      "_model_name": "HTMLModel",
      "_view_count": null,
      "_view_module": "@jupyter-widgets/controls",
      "_view_module_version": "1.5.0",
      "_view_name": "HTMLView",
      "description": "",
      "description_tooltip": null,
      "layout": "IPY_MODEL_fa8f84b22f0d4aab81fd83a2d383d9c7",
      "placeholder": "​",
      "style": "IPY_MODEL_b96fcb1426be4d76b1c992c8327bb71a",
      "value": "Dl Size...: 100%"
     }
    },
    "7f00f95f20c94794a83e64d86c990e8d": {
     "model_module": "@jupyter-widgets/controls",
     "model_module_version": "1.5.0",
     "model_name": "HTMLModel",
     "state": {
      "_dom_classes": [],
      "_model_module": "@jupyter-widgets/controls",
      "_model_module_version": "1.5.0",
      "_model_name": "HTMLModel",
      "_view_count": null,
      "_view_module": "@jupyter-widgets/controls",
      "_view_module_version": "1.5.0",
      "_view_name": "HTMLView",
      "description": "",
      "description_tooltip": null,
      "layout": "IPY_MODEL_330c5ddbe46a4e38bc2e805495092721",
      "placeholder": "​",
      "style": "IPY_MODEL_0968600d30b24445880559d6c9e55b28",
      "value": "Extraction completed...: 100%"
     }
    },
    "7f7fff9736a14c3c9ca53baa792dbbcd": {
     "model_module": "@jupyter-widgets/base",
     "model_module_version": "1.2.0",
     "model_name": "LayoutModel",
     "state": {
      "_model_module": "@jupyter-widgets/base",
      "_model_module_version": "1.2.0",
      "_model_name": "LayoutModel",
      "_view_count": null,
      "_view_module": "@jupyter-widgets/base",
      "_view_module_version": "1.2.0",
      "_view_name": "LayoutView",
      "align_content": null,
      "align_items": null,
      "align_self": null,
      "border": null,
      "bottom": null,
      "display": null,
      "flex": null,
      "flex_flow": null,
      "grid_area": null,
      "grid_auto_columns": null,
      "grid_auto_flow": null,
      "grid_auto_rows": null,
      "grid_column": null,
      "grid_gap": null,
      "grid_row": null,
      "grid_template_areas": null,
      "grid_template_columns": null,
      "grid_template_rows": null,
      "height": null,
      "justify_content": null,
      "justify_items": null,
      "left": null,
      "margin": null,
      "max_height": null,
      "max_width": null,
      "min_height": null,
      "min_width": null,
      "object_fit": null,
      "object_position": null,
      "order": null,
      "overflow": null,
      "overflow_x": null,
      "overflow_y": null,
      "padding": null,
      "right": null,
      "top": null,
      "visibility": "hidden",
      "width": null
     }
    },
    "8053bc0452664edda8b53c3b803c7136": {
     "model_module": "@jupyter-widgets/controls",
     "model_module_version": "1.5.0",
     "model_name": "HTMLModel",
     "state": {
      "_dom_classes": [],
      "_model_module": "@jupyter-widgets/controls",
      "_model_module_version": "1.5.0",
      "_model_name": "HTMLModel",
      "_view_count": null,
      "_view_module": "@jupyter-widgets/controls",
      "_view_module_version": "1.5.0",
      "_view_name": "HTMLView",
      "description": "",
      "description_tooltip": null,
      "layout": "IPY_MODEL_cf7a853594d64daeb50129eb6e1fb3a7",
      "placeholder": "​",
      "style": "IPY_MODEL_4b3d994eb2f84a61942a5fbb0c1aba6a",
      "value": " 112/112 [00:13&lt;00:00, 17.13 file/s]"
     }
    },
    "807c368799124d4aa81cc6e489861059": {
     "model_module": "@jupyter-widgets/controls",
     "model_module_version": "1.5.0",
     "model_name": "DescriptionStyleModel",
     "state": {
      "_model_module": "@jupyter-widgets/controls",
      "_model_module_version": "1.5.0",
      "_model_name": "DescriptionStyleModel",
      "_view_count": null,
      "_view_module": "@jupyter-widgets/base",
      "_view_module_version": "1.2.0",
      "_view_name": "StyleView",
      "description_width": ""
     }
    },
    "818a059008d04cb092c6c163649edebc": {
     "model_module": "@jupyter-widgets/controls",
     "model_module_version": "1.5.0",
     "model_name": "ProgressStyleModel",
     "state": {
      "_model_module": "@jupyter-widgets/controls",
      "_model_module_version": "1.5.0",
      "_model_name": "ProgressStyleModel",
      "_view_count": null,
      "_view_module": "@jupyter-widgets/base",
      "_view_module_version": "1.2.0",
      "_view_name": "StyleView",
      "bar_color": null,
      "description_width": ""
     }
    },
    "8325d355b1914d159fd5a98c2278c1b3": {
     "model_module": "@jupyter-widgets/controls",
     "model_module_version": "1.5.0",
     "model_name": "DescriptionStyleModel",
     "state": {
      "_model_module": "@jupyter-widgets/controls",
      "_model_module_version": "1.5.0",
      "_model_name": "DescriptionStyleModel",
      "_view_count": null,
      "_view_module": "@jupyter-widgets/base",
      "_view_module_version": "1.2.0",
      "_view_name": "StyleView",
      "description_width": ""
     }
    },
    "8327b27a9ed746b1b1e54037dc60e30f": {
     "model_module": "@jupyter-widgets/controls",
     "model_module_version": "1.5.0",
     "model_name": "HTMLModel",
     "state": {
      "_dom_classes": [],
      "_model_module": "@jupyter-widgets/controls",
      "_model_module_version": "1.5.0",
      "_model_name": "HTMLModel",
      "_view_count": null,
      "_view_module": "@jupyter-widgets/controls",
      "_view_module_version": "1.5.0",
      "_view_name": "HTMLView",
      "description": "",
      "description_tooltip": null,
      "layout": "IPY_MODEL_638e97f3846946e186c04f9c1095e3c2",
      "placeholder": "​",
      "style": "IPY_MODEL_864f18f033f641f2983f55f9906e039b",
      "value": "Generating train examples...: "
     }
    },
    "84c26e7728364848854d6f386e86b7b4": {
     "model_module": "@jupyter-widgets/base",
     "model_module_version": "1.2.0",
     "model_name": "LayoutModel",
     "state": {
      "_model_module": "@jupyter-widgets/base",
      "_model_module_version": "1.2.0",
      "_model_name": "LayoutModel",
      "_view_count": null,
      "_view_module": "@jupyter-widgets/base",
      "_view_module_version": "1.2.0",
      "_view_name": "LayoutView",
      "align_content": null,
      "align_items": null,
      "align_self": null,
      "border": null,
      "bottom": null,
      "display": null,
      "flex": null,
      "flex_flow": null,
      "grid_area": null,
      "grid_auto_columns": null,
      "grid_auto_flow": null,
      "grid_auto_rows": null,
      "grid_column": null,
      "grid_gap": null,
      "grid_row": null,
      "grid_template_areas": null,
      "grid_template_columns": null,
      "grid_template_rows": null,
      "height": null,
      "justify_content": null,
      "justify_items": null,
      "left": null,
      "margin": null,
      "max_height": null,
      "max_width": null,
      "min_height": null,
      "min_width": null,
      "object_fit": null,
      "object_position": null,
      "order": null,
      "overflow": null,
      "overflow_x": null,
      "overflow_y": null,
      "padding": null,
      "right": null,
      "top": null,
      "visibility": null,
      "width": "20px"
     }
    },
    "864f18f033f641f2983f55f9906e039b": {
     "model_module": "@jupyter-widgets/controls",
     "model_module_version": "1.5.0",
     "model_name": "DescriptionStyleModel",
     "state": {
      "_model_module": "@jupyter-widgets/controls",
      "_model_module_version": "1.5.0",
      "_model_name": "DescriptionStyleModel",
      "_view_count": null,
      "_view_module": "@jupyter-widgets/base",
      "_view_module_version": "1.2.0",
      "_view_name": "StyleView",
      "description_width": ""
     }
    },
    "8af46e271ba04628af052f047d06cf13": {
     "model_module": "@jupyter-widgets/controls",
     "model_module_version": "1.5.0",
     "model_name": "FloatProgressModel",
     "state": {
      "_dom_classes": [],
      "_model_module": "@jupyter-widgets/controls",
      "_model_module_version": "1.5.0",
      "_model_name": "FloatProgressModel",
      "_view_count": null,
      "_view_module": "@jupyter-widgets/controls",
      "_view_module_version": "1.5.0",
      "_view_name": "ProgressView",
      "bar_style": "success",
      "description": "",
      "description_tooltip": null,
      "layout": "IPY_MODEL_02cb3d383bcb4187b59e0abd3c13dc8c",
      "max": 1,
      "min": 0,
      "orientation": "horizontal",
      "style": "IPY_MODEL_c97931f8652b415cb4894ecf42a80818",
      "value": 1
     }
    },
    "8cb0a7163a7b4ce8b30fd32f27509b7e": {
     "model_module": "@jupyter-widgets/base",
     "model_module_version": "1.2.0",
     "model_name": "LayoutModel",
     "state": {
      "_model_module": "@jupyter-widgets/base",
      "_model_module_version": "1.2.0",
      "_model_name": "LayoutModel",
      "_view_count": null,
      "_view_module": "@jupyter-widgets/base",
      "_view_module_version": "1.2.0",
      "_view_name": "LayoutView",
      "align_content": null,
      "align_items": null,
      "align_self": null,
      "border": null,
      "bottom": null,
      "display": null,
      "flex": null,
      "flex_flow": null,
      "grid_area": null,
      "grid_auto_columns": null,
      "grid_auto_flow": null,
      "grid_auto_rows": null,
      "grid_column": null,
      "grid_gap": null,
      "grid_row": null,
      "grid_template_areas": null,
      "grid_template_columns": null,
      "grid_template_rows": null,
      "height": null,
      "justify_content": null,
      "justify_items": null,
      "left": null,
      "margin": null,
      "max_height": null,
      "max_width": null,
      "min_height": null,
      "min_width": null,
      "object_fit": null,
      "object_position": null,
      "order": null,
      "overflow": null,
      "overflow_x": null,
      "overflow_y": null,
      "padding": null,
      "right": null,
      "top": null,
      "visibility": null,
      "width": null
     }
    },
    "8cf3457cc9714ec79adb02b610225199": {
     "model_module": "@jupyter-widgets/controls",
     "model_module_version": "1.5.0",
     "model_name": "HBoxModel",
     "state": {
      "_dom_classes": [],
      "_model_module": "@jupyter-widgets/controls",
      "_model_module_version": "1.5.0",
      "_model_name": "HBoxModel",
      "_view_count": null,
      "_view_module": "@jupyter-widgets/controls",
      "_view_module_version": "1.5.0",
      "_view_name": "HBoxView",
      "box_style": "",
      "children": [
       "IPY_MODEL_66db343ecf5f4ceea10268dffa5b66c4",
       "IPY_MODEL_2aed024b3eb74c269dbfeb49290e56e7",
       "IPY_MODEL_60bd47c105bb4e559d195d28de04bc8f"
      ],
      "layout": "IPY_MODEL_53d4209261ad4e70af7ba03419820055"
     }
    },
    "8e233332962e4ba88ae5dbb9cab7c57e": {
     "model_module": "@jupyter-widgets/base",
     "model_module_version": "1.2.0",
     "model_name": "LayoutModel",
     "state": {
      "_model_module": "@jupyter-widgets/base",
      "_model_module_version": "1.2.0",
      "_model_name": "LayoutModel",
      "_view_count": null,
      "_view_module": "@jupyter-widgets/base",
      "_view_module_version": "1.2.0",
      "_view_name": "LayoutView",
      "align_content": null,
      "align_items": null,
      "align_self": null,
      "border": null,
      "bottom": null,
      "display": null,
      "flex": null,
      "flex_flow": null,
      "grid_area": null,
      "grid_auto_columns": null,
      "grid_auto_flow": null,
      "grid_auto_rows": null,
      "grid_column": null,
      "grid_gap": null,
      "grid_row": null,
      "grid_template_areas": null,
      "grid_template_columns": null,
      "grid_template_rows": null,
      "height": null,
      "justify_content": null,
      "justify_items": null,
      "left": null,
      "margin": null,
      "max_height": null,
      "max_width": null,
      "min_height": null,
      "min_width": null,
      "object_fit": null,
      "object_position": null,
      "order": null,
      "overflow": null,
      "overflow_x": null,
      "overflow_y": null,
      "padding": null,
      "right": null,
      "top": null,
      "visibility": null,
      "width": null
     }
    },
    "94beada069b94d8baa1d8c5b321f5edb": {
     "model_module": "@jupyter-widgets/base",
     "model_module_version": "1.2.0",
     "model_name": "LayoutModel",
     "state": {
      "_model_module": "@jupyter-widgets/base",
      "_model_module_version": "1.2.0",
      "_model_name": "LayoutModel",
      "_view_count": null,
      "_view_module": "@jupyter-widgets/base",
      "_view_module_version": "1.2.0",
      "_view_name": "LayoutView",
      "align_content": null,
      "align_items": null,
      "align_self": null,
      "border": null,
      "bottom": null,
      "display": null,
      "flex": null,
      "flex_flow": null,
      "grid_area": null,
      "grid_auto_columns": null,
      "grid_auto_flow": null,
      "grid_auto_rows": null,
      "grid_column": null,
      "grid_gap": null,
      "grid_row": null,
      "grid_template_areas": null,
      "grid_template_columns": null,
      "grid_template_rows": null,
      "height": null,
      "justify_content": null,
      "justify_items": null,
      "left": null,
      "margin": null,
      "max_height": null,
      "max_width": null,
      "min_height": null,
      "min_width": null,
      "object_fit": null,
      "object_position": null,
      "order": null,
      "overflow": null,
      "overflow_x": null,
      "overflow_y": null,
      "padding": null,
      "right": null,
      "top": null,
      "visibility": null,
      "width": null
     }
    },
    "960a9f9023ec4180b943732f4b4ebf67": {
     "model_module": "@jupyter-widgets/base",
     "model_module_version": "1.2.0",
     "model_name": "LayoutModel",
     "state": {
      "_model_module": "@jupyter-widgets/base",
      "_model_module_version": "1.2.0",
      "_model_name": "LayoutModel",
      "_view_count": null,
      "_view_module": "@jupyter-widgets/base",
      "_view_module_version": "1.2.0",
      "_view_name": "LayoutView",
      "align_content": null,
      "align_items": null,
      "align_self": null,
      "border": null,
      "bottom": null,
      "display": null,
      "flex": null,
      "flex_flow": null,
      "grid_area": null,
      "grid_auto_columns": null,
      "grid_auto_flow": null,
      "grid_auto_rows": null,
      "grid_column": null,
      "grid_gap": null,
      "grid_row": null,
      "grid_template_areas": null,
      "grid_template_columns": null,
      "grid_template_rows": null,
      "height": null,
      "justify_content": null,
      "justify_items": null,
      "left": null,
      "margin": null,
      "max_height": null,
      "max_width": null,
      "min_height": null,
      "min_width": null,
      "object_fit": null,
      "object_position": null,
      "order": null,
      "overflow": null,
      "overflow_x": null,
      "overflow_y": null,
      "padding": null,
      "right": null,
      "top": null,
      "visibility": null,
      "width": null
     }
    },
    "9a256edddbcd402690c9aab72ea08f77": {
     "model_module": "@jupyter-widgets/controls",
     "model_module_version": "1.5.0",
     "model_name": "DescriptionStyleModel",
     "state": {
      "_model_module": "@jupyter-widgets/controls",
      "_model_module_version": "1.5.0",
      "_model_name": "DescriptionStyleModel",
      "_view_count": null,
      "_view_module": "@jupyter-widgets/base",
      "_view_module_version": "1.2.0",
      "_view_name": "StyleView",
      "description_width": ""
     }
    },
    "9a9d098f0d7e4881b19b91e7ae8efe63": {
     "model_module": "@jupyter-widgets/base",
     "model_module_version": "1.2.0",
     "model_name": "LayoutModel",
     "state": {
      "_model_module": "@jupyter-widgets/base",
      "_model_module_version": "1.2.0",
      "_model_name": "LayoutModel",
      "_view_count": null,
      "_view_module": "@jupyter-widgets/base",
      "_view_module_version": "1.2.0",
      "_view_name": "LayoutView",
      "align_content": null,
      "align_items": null,
      "align_self": null,
      "border": null,
      "bottom": null,
      "display": null,
      "flex": null,
      "flex_flow": null,
      "grid_area": null,
      "grid_auto_columns": null,
      "grid_auto_flow": null,
      "grid_auto_rows": null,
      "grid_column": null,
      "grid_gap": null,
      "grid_row": null,
      "grid_template_areas": null,
      "grid_template_columns": null,
      "grid_template_rows": null,
      "height": null,
      "justify_content": null,
      "justify_items": null,
      "left": null,
      "margin": null,
      "max_height": null,
      "max_width": null,
      "min_height": null,
      "min_width": null,
      "object_fit": null,
      "object_position": null,
      "order": null,
      "overflow": null,
      "overflow_x": null,
      "overflow_y": null,
      "padding": null,
      "right": null,
      "top": null,
      "visibility": null,
      "width": null
     }
    },
    "9b1e1a7b7d2644beac8d12317b3c6cf1": {
     "model_module": "@jupyter-widgets/base",
     "model_module_version": "1.2.0",
     "model_name": "LayoutModel",
     "state": {
      "_model_module": "@jupyter-widgets/base",
      "_model_module_version": "1.2.0",
      "_model_name": "LayoutModel",
      "_view_count": null,
      "_view_module": "@jupyter-widgets/base",
      "_view_module_version": "1.2.0",
      "_view_name": "LayoutView",
      "align_content": null,
      "align_items": null,
      "align_self": null,
      "border": null,
      "bottom": null,
      "display": null,
      "flex": null,
      "flex_flow": null,
      "grid_area": null,
      "grid_auto_columns": null,
      "grid_auto_flow": null,
      "grid_auto_rows": null,
      "grid_column": null,
      "grid_gap": null,
      "grid_row": null,
      "grid_template_areas": null,
      "grid_template_columns": null,
      "grid_template_rows": null,
      "height": null,
      "justify_content": null,
      "justify_items": null,
      "left": null,
      "margin": null,
      "max_height": null,
      "max_width": null,
      "min_height": null,
      "min_width": null,
      "object_fit": null,
      "object_position": null,
      "order": null,
      "overflow": null,
      "overflow_x": null,
      "overflow_y": null,
      "padding": null,
      "right": null,
      "top": null,
      "visibility": null,
      "width": "20px"
     }
    },
    "a1b88cc9e6ca48c5a997ba53acaba2b9": {
     "model_module": "@jupyter-widgets/controls",
     "model_module_version": "1.5.0",
     "model_name": "DescriptionStyleModel",
     "state": {
      "_model_module": "@jupyter-widgets/controls",
      "_model_module_version": "1.5.0",
      "_model_name": "DescriptionStyleModel",
      "_view_count": null,
      "_view_module": "@jupyter-widgets/base",
      "_view_module_version": "1.2.0",
      "_view_name": "StyleView",
      "description_width": ""
     }
    },
    "aab35f63459c4545b632a37611a246cb": {
     "model_module": "@jupyter-widgets/controls",
     "model_module_version": "1.5.0",
     "model_name": "HBoxModel",
     "state": {
      "_dom_classes": [],
      "_model_module": "@jupyter-widgets/controls",
      "_model_module_version": "1.5.0",
      "_model_name": "HBoxModel",
      "_view_count": null,
      "_view_module": "@jupyter-widgets/controls",
      "_view_module_version": "1.5.0",
      "_view_name": "HBoxView",
      "box_style": "",
      "children": [
       "IPY_MODEL_8327b27a9ed746b1b1e54037dc60e30f",
       "IPY_MODEL_10122b47d646469f9442f8618caca701",
       "IPY_MODEL_1647854dc0dd4188aac4ff8166f0054e"
      ],
      "layout": "IPY_MODEL_e0b3ceebe6e149b9a4d745a88c2c8138"
     }
    },
    "ac7eb7b615994d108aa6a18917686575": {
     "model_module": "@jupyter-widgets/base",
     "model_module_version": "1.2.0",
     "model_name": "LayoutModel",
     "state": {
      "_model_module": "@jupyter-widgets/base",
      "_model_module_version": "1.2.0",
      "_model_name": "LayoutModel",
      "_view_count": null,
      "_view_module": "@jupyter-widgets/base",
      "_view_module_version": "1.2.0",
      "_view_name": "LayoutView",
      "align_content": null,
      "align_items": null,
      "align_self": null,
      "border": null,
      "bottom": null,
      "display": null,
      "flex": null,
      "flex_flow": null,
      "grid_area": null,
      "grid_auto_columns": null,
      "grid_auto_flow": null,
      "grid_auto_rows": null,
      "grid_column": null,
      "grid_gap": null,
      "grid_row": null,
      "grid_template_areas": null,
      "grid_template_columns": null,
      "grid_template_rows": null,
      "height": null,
      "justify_content": null,
      "justify_items": null,
      "left": null,
      "margin": null,
      "max_height": null,
      "max_width": null,
      "min_height": null,
      "min_width": null,
      "object_fit": null,
      "object_position": null,
      "order": null,
      "overflow": null,
      "overflow_x": null,
      "overflow_y": null,
      "padding": null,
      "right": null,
      "top": null,
      "visibility": null,
      "width": null
     }
    },
    "ada68a0628784e8b9e8bea348ee8e9fa": {
     "model_module": "@jupyter-widgets/controls",
     "model_module_version": "1.5.0",
     "model_name": "ProgressStyleModel",
     "state": {
      "_model_module": "@jupyter-widgets/controls",
      "_model_module_version": "1.5.0",
      "_model_name": "ProgressStyleModel",
      "_view_count": null,
      "_view_module": "@jupyter-widgets/base",
      "_view_module_version": "1.2.0",
      "_view_name": "StyleView",
      "bar_color": null,
      "description_width": ""
     }
    },
    "af253ca7030b46438bf0e4b4b9c31332": {
     "model_module": "@jupyter-widgets/base",
     "model_module_version": "1.2.0",
     "model_name": "LayoutModel",
     "state": {
      "_model_module": "@jupyter-widgets/base",
      "_model_module_version": "1.2.0",
      "_model_name": "LayoutModel",
      "_view_count": null,
      "_view_module": "@jupyter-widgets/base",
      "_view_module_version": "1.2.0",
      "_view_name": "LayoutView",
      "align_content": null,
      "align_items": null,
      "align_self": null,
      "border": null,
      "bottom": null,
      "display": null,
      "flex": null,
      "flex_flow": null,
      "grid_area": null,
      "grid_auto_columns": null,
      "grid_auto_flow": null,
      "grid_auto_rows": null,
      "grid_column": null,
      "grid_gap": null,
      "grid_row": null,
      "grid_template_areas": null,
      "grid_template_columns": null,
      "grid_template_rows": null,
      "height": null,
      "justify_content": null,
      "justify_items": null,
      "left": null,
      "margin": null,
      "max_height": null,
      "max_width": null,
      "min_height": null,
      "min_width": null,
      "object_fit": null,
      "object_position": null,
      "order": null,
      "overflow": null,
      "overflow_x": null,
      "overflow_y": null,
      "padding": null,
      "right": null,
      "top": null,
      "visibility": null,
      "width": null
     }
    },
    "aff8f76bb80b4037805914bcddb903a2": {
     "model_module": "@jupyter-widgets/base",
     "model_module_version": "1.2.0",
     "model_name": "LayoutModel",
     "state": {
      "_model_module": "@jupyter-widgets/base",
      "_model_module_version": "1.2.0",
      "_model_name": "LayoutModel",
      "_view_count": null,
      "_view_module": "@jupyter-widgets/base",
      "_view_module_version": "1.2.0",
      "_view_name": "LayoutView",
      "align_content": null,
      "align_items": null,
      "align_self": null,
      "border": null,
      "bottom": null,
      "display": null,
      "flex": null,
      "flex_flow": null,
      "grid_area": null,
      "grid_auto_columns": null,
      "grid_auto_flow": null,
      "grid_auto_rows": null,
      "grid_column": null,
      "grid_gap": null,
      "grid_row": null,
      "grid_template_areas": null,
      "grid_template_columns": null,
      "grid_template_rows": null,
      "height": null,
      "justify_content": null,
      "justify_items": null,
      "left": null,
      "margin": null,
      "max_height": null,
      "max_width": null,
      "min_height": null,
      "min_width": null,
      "object_fit": null,
      "object_position": null,
      "order": null,
      "overflow": null,
      "overflow_x": null,
      "overflow_y": null,
      "padding": null,
      "right": null,
      "top": null,
      "visibility": "hidden",
      "width": null
     }
    },
    "b0178c8ffb934c1e9ea9bb808720fa29": {
     "model_module": "@jupyter-widgets/controls",
     "model_module_version": "1.5.0",
     "model_name": "DescriptionStyleModel",
     "state": {
      "_model_module": "@jupyter-widgets/controls",
      "_model_module_version": "1.5.0",
      "_model_name": "DescriptionStyleModel",
      "_view_count": null,
      "_view_module": "@jupyter-widgets/base",
      "_view_module_version": "1.2.0",
      "_view_name": "StyleView",
      "description_width": ""
     }
    },
    "b13217db84ea4ea08ecfd06162de7f34": {
     "model_module": "@jupyter-widgets/controls",
     "model_module_version": "1.5.0",
     "model_name": "HBoxModel",
     "state": {
      "_dom_classes": [],
      "_model_module": "@jupyter-widgets/controls",
      "_model_module_version": "1.5.0",
      "_model_name": "HBoxModel",
      "_view_count": null,
      "_view_module": "@jupyter-widgets/controls",
      "_view_module_version": "1.5.0",
      "_view_name": "HBoxView",
      "box_style": "",
      "children": [
       "IPY_MODEL_7f00f95f20c94794a83e64d86c990e8d",
       "IPY_MODEL_6168334214c541e490c4ba5d938f7a4e",
       "IPY_MODEL_8053bc0452664edda8b53c3b803c7136"
      ],
      "layout": "IPY_MODEL_4537216e76c443bbb7a91533cd471d31"
     }
    },
    "b83a3c1cbec84df7b80ab123a7f1faf1": {
     "model_module": "@jupyter-widgets/controls",
     "model_module_version": "1.5.0",
     "model_name": "HBoxModel",
     "state": {
      "_dom_classes": [],
      "_model_module": "@jupyter-widgets/controls",
      "_model_module_version": "1.5.0",
      "_model_name": "HBoxModel",
      "_view_count": null,
      "_view_module": "@jupyter-widgets/controls",
      "_view_module_version": "1.5.0",
      "_view_name": "HBoxView",
      "box_style": "",
      "children": [
       "IPY_MODEL_bf7f083e184f47ddb7bee9b270a50e26",
       "IPY_MODEL_1c37032e90414083ad622ee7a0f67c05",
       "IPY_MODEL_072bb88f18154b2fae3d0d1a67d7dbf9"
      ],
      "layout": "IPY_MODEL_49bca3ba670146f2944f0059d4a5996e"
     }
    },
    "b96fcb1426be4d76b1c992c8327bb71a": {
     "model_module": "@jupyter-widgets/controls",
     "model_module_version": "1.5.0",
     "model_name": "DescriptionStyleModel",
     "state": {
      "_model_module": "@jupyter-widgets/controls",
      "_model_module_version": "1.5.0",
      "_model_name": "DescriptionStyleModel",
      "_view_count": null,
      "_view_module": "@jupyter-widgets/base",
      "_view_module_version": "1.2.0",
      "_view_name": "StyleView",
      "description_width": ""
     }
    },
    "ba510ab836d44957b63d6a1ceb08149d": {
     "model_module": "@jupyter-widgets/base",
     "model_module_version": "1.2.0",
     "model_name": "LayoutModel",
     "state": {
      "_model_module": "@jupyter-widgets/base",
      "_model_module_version": "1.2.0",
      "_model_name": "LayoutModel",
      "_view_count": null,
      "_view_module": "@jupyter-widgets/base",
      "_view_module_version": "1.2.0",
      "_view_name": "LayoutView",
      "align_content": null,
      "align_items": null,
      "align_self": null,
      "border": null,
      "bottom": null,
      "display": null,
      "flex": null,
      "flex_flow": null,
      "grid_area": null,
      "grid_auto_columns": null,
      "grid_auto_flow": null,
      "grid_auto_rows": null,
      "grid_column": null,
      "grid_gap": null,
      "grid_row": null,
      "grid_template_areas": null,
      "grid_template_columns": null,
      "grid_template_rows": null,
      "height": null,
      "justify_content": null,
      "justify_items": null,
      "left": null,
      "margin": null,
      "max_height": null,
      "max_width": null,
      "min_height": null,
      "min_width": null,
      "object_fit": null,
      "object_position": null,
      "order": null,
      "overflow": null,
      "overflow_x": null,
      "overflow_y": null,
      "padding": null,
      "right": null,
      "top": null,
      "visibility": null,
      "width": "20px"
     }
    },
    "ba970f4409ca42d39f3ab4be715f2324": {
     "model_module": "@jupyter-widgets/controls",
     "model_module_version": "1.5.0",
     "model_name": "HBoxModel",
     "state": {
      "_dom_classes": [],
      "_model_module": "@jupyter-widgets/controls",
      "_model_module_version": "1.5.0",
      "_model_name": "HBoxModel",
      "_view_count": null,
      "_view_module": "@jupyter-widgets/controls",
      "_view_module_version": "1.5.0",
      "_view_name": "HBoxView",
      "box_style": "",
      "children": [
       "IPY_MODEL_d5ebb5979a1e4aebbbdd41c17f1ca5ec",
       "IPY_MODEL_caab20b977a74d9584334c406117853b",
       "IPY_MODEL_0bd984b8b5214dae8ee91dc057593385"
      ],
      "layout": "IPY_MODEL_12b6d2fb2bc642579b034fb35caa2f97"
     }
    },
    "baf9018a95d34c4c93823b2440f4d5d7": {
     "model_module": "@jupyter-widgets/controls",
     "model_module_version": "1.5.0",
     "model_name": "ProgressStyleModel",
     "state": {
      "_model_module": "@jupyter-widgets/controls",
      "_model_module_version": "1.5.0",
      "_model_name": "ProgressStyleModel",
      "_view_count": null,
      "_view_module": "@jupyter-widgets/base",
      "_view_module_version": "1.2.0",
      "_view_name": "StyleView",
      "bar_color": null,
      "description_width": ""
     }
    },
    "bf7f083e184f47ddb7bee9b270a50e26": {
     "model_module": "@jupyter-widgets/controls",
     "model_module_version": "1.5.0",
     "model_name": "HTMLModel",
     "state": {
      "_dom_classes": [],
      "_model_module": "@jupyter-widgets/controls",
      "_model_module_version": "1.5.0",
      "_model_name": "HTMLModel",
      "_view_count": null,
      "_view_module": "@jupyter-widgets/controls",
      "_view_module_version": "1.5.0",
      "_view_name": "HTMLView",
      "description": "",
      "description_tooltip": null,
      "layout": "IPY_MODEL_94beada069b94d8baa1d8c5b321f5edb",
      "placeholder": "​",
      "style": "IPY_MODEL_807c368799124d4aa81cc6e489861059",
      "value": "Generating splits...: 100%"
     }
    },
    "c23f5624ca4f4e258ebb2152724959ff": {
     "model_module": "@jupyter-widgets/controls",
     "model_module_version": "1.5.0",
     "model_name": "DescriptionStyleModel",
     "state": {
      "_model_module": "@jupyter-widgets/controls",
      "_model_module_version": "1.5.0",
      "_model_name": "DescriptionStyleModel",
      "_view_count": null,
      "_view_module": "@jupyter-widgets/base",
      "_view_module_version": "1.2.0",
      "_view_name": "StyleView",
      "description_width": ""
     }
    },
    "c898ecbd94cc4f2bb4ad7d0441a2dd4f": {
     "model_module": "@jupyter-widgets/controls",
     "model_module_version": "1.5.0",
     "model_name": "HBoxModel",
     "state": {
      "_dom_classes": [],
      "_model_module": "@jupyter-widgets/controls",
      "_model_module_version": "1.5.0",
      "_model_name": "HBoxModel",
      "_view_count": null,
      "_view_module": "@jupyter-widgets/controls",
      "_view_module_version": "1.5.0",
      "_view_name": "HBoxView",
      "box_style": "",
      "children": [
       "IPY_MODEL_ce30224b3e1d4405a7221d51e286fccb",
       "IPY_MODEL_4b4ac4baf39a4e179b00e0ffb2003491",
       "IPY_MODEL_d282fa4be526420089d7e40e1720954f"
      ],
      "layout": "IPY_MODEL_aff8f76bb80b4037805914bcddb903a2"
     }
    },
    "c936b834321e4432a2511d0a88b32070": {
     "model_module": "@jupyter-widgets/base",
     "model_module_version": "1.2.0",
     "model_name": "LayoutModel",
     "state": {
      "_model_module": "@jupyter-widgets/base",
      "_model_module_version": "1.2.0",
      "_model_name": "LayoutModel",
      "_view_count": null,
      "_view_module": "@jupyter-widgets/base",
      "_view_module_version": "1.2.0",
      "_view_name": "LayoutView",
      "align_content": null,
      "align_items": null,
      "align_self": null,
      "border": null,
      "bottom": null,
      "display": null,
      "flex": null,
      "flex_flow": null,
      "grid_area": null,
      "grid_auto_columns": null,
      "grid_auto_flow": null,
      "grid_auto_rows": null,
      "grid_column": null,
      "grid_gap": null,
      "grid_row": null,
      "grid_template_areas": null,
      "grid_template_columns": null,
      "grid_template_rows": null,
      "height": null,
      "justify_content": null,
      "justify_items": null,
      "left": null,
      "margin": null,
      "max_height": null,
      "max_width": null,
      "min_height": null,
      "min_width": null,
      "object_fit": null,
      "object_position": null,
      "order": null,
      "overflow": null,
      "overflow_x": null,
      "overflow_y": null,
      "padding": null,
      "right": null,
      "top": null,
      "visibility": null,
      "width": null
     }
    },
    "c97931f8652b415cb4894ecf42a80818": {
     "model_module": "@jupyter-widgets/controls",
     "model_module_version": "1.5.0",
     "model_name": "ProgressStyleModel",
     "state": {
      "_model_module": "@jupyter-widgets/controls",
      "_model_module_version": "1.5.0",
      "_model_name": "ProgressStyleModel",
      "_view_count": null,
      "_view_module": "@jupyter-widgets/base",
      "_view_module_version": "1.2.0",
      "_view_name": "StyleView",
      "bar_color": null,
      "description_width": ""
     }
    },
    "c99fdcf7799d45af847eee0b5565304a": {
     "model_module": "@jupyter-widgets/controls",
     "model_module_version": "1.5.0",
     "model_name": "DescriptionStyleModel",
     "state": {
      "_model_module": "@jupyter-widgets/controls",
      "_model_module_version": "1.5.0",
      "_model_name": "DescriptionStyleModel",
      "_view_count": null,
      "_view_module": "@jupyter-widgets/base",
      "_view_module_version": "1.2.0",
      "_view_name": "StyleView",
      "description_width": ""
     }
    },
    "ca3c765e63cd41daa1827166ed1cb6c5": {
     "model_module": "@jupyter-widgets/base",
     "model_module_version": "1.2.0",
     "model_name": "LayoutModel",
     "state": {
      "_model_module": "@jupyter-widgets/base",
      "_model_module_version": "1.2.0",
      "_model_name": "LayoutModel",
      "_view_count": null,
      "_view_module": "@jupyter-widgets/base",
      "_view_module_version": "1.2.0",
      "_view_name": "LayoutView",
      "align_content": null,
      "align_items": null,
      "align_self": null,
      "border": null,
      "bottom": null,
      "display": null,
      "flex": null,
      "flex_flow": null,
      "grid_area": null,
      "grid_auto_columns": null,
      "grid_auto_flow": null,
      "grid_auto_rows": null,
      "grid_column": null,
      "grid_gap": null,
      "grid_row": null,
      "grid_template_areas": null,
      "grid_template_columns": null,
      "grid_template_rows": null,
      "height": null,
      "justify_content": null,
      "justify_items": null,
      "left": null,
      "margin": null,
      "max_height": null,
      "max_width": null,
      "min_height": null,
      "min_width": null,
      "object_fit": null,
      "object_position": null,
      "order": null,
      "overflow": null,
      "overflow_x": null,
      "overflow_y": null,
      "padding": null,
      "right": null,
      "top": null,
      "visibility": null,
      "width": null
     }
    },
    "caab20b977a74d9584334c406117853b": {
     "model_module": "@jupyter-widgets/controls",
     "model_module_version": "1.5.0",
     "model_name": "FloatProgressModel",
     "state": {
      "_dom_classes": [],
      "_model_module": "@jupyter-widgets/controls",
      "_model_module_version": "1.5.0",
      "_model_name": "FloatProgressModel",
      "_view_count": null,
      "_view_module": "@jupyter-widgets/controls",
      "_view_module_version": "1.5.0",
      "_view_name": "ProgressView",
      "bar_style": "",
      "description": "",
      "description_tooltip": null,
      "layout": "IPY_MODEL_8e233332962e4ba88ae5dbb9cab7c57e",
      "max": 5476,
      "min": 0,
      "orientation": "horizontal",
      "style": "IPY_MODEL_2f2f7364c8384e8db8c771d451e3c506",
      "value": 5476
     }
    },
    "cdcc6515657e4d24b0a19b2cf2a0bf4f": {
     "model_module": "@jupyter-widgets/controls",
     "model_module_version": "1.5.0",
     "model_name": "HTMLModel",
     "state": {
      "_dom_classes": [],
      "_model_module": "@jupyter-widgets/controls",
      "_model_module_version": "1.5.0",
      "_model_name": "HTMLModel",
      "_view_count": null,
      "_view_module": "@jupyter-widgets/controls",
      "_view_module_version": "1.5.0",
      "_view_name": "HTMLView",
      "description": "",
      "description_tooltip": null,
      "layout": "IPY_MODEL_769fcd195be6497db071b66c51c04beb",
      "placeholder": "​",
      "style": "IPY_MODEL_33e29c9596034eaeb9e30304d0771c5a",
      "value": " 1/1 [00:13&lt;00:00,  6.82s/ url]"
     }
    },
    "ce30224b3e1d4405a7221d51e286fccb": {
     "model_module": "@jupyter-widgets/controls",
     "model_module_version": "1.5.0",
     "model_name": "HTMLModel",
     "state": {
      "_dom_classes": [],
      "_model_module": "@jupyter-widgets/controls",
      "_model_module_version": "1.5.0",
      "_model_name": "HTMLModel",
      "_view_count": null,
      "_view_module": "@jupyter-widgets/controls",
      "_view_module_version": "1.5.0",
      "_view_name": "HTMLView",
      "description": "",
      "description_tooltip": null,
      "layout": "IPY_MODEL_67cfbc8ab04d4205865409b05fb9c9df",
      "placeholder": "​",
      "style": "IPY_MODEL_c99fdcf7799d45af847eee0b5565304a",
      "value": "Generating validation examples...: "
     }
    },
    "cf7a853594d64daeb50129eb6e1fb3a7": {
     "model_module": "@jupyter-widgets/base",
     "model_module_version": "1.2.0",
     "model_name": "LayoutModel",
     "state": {
      "_model_module": "@jupyter-widgets/base",
      "_model_module_version": "1.2.0",
      "_model_name": "LayoutModel",
      "_view_count": null,
      "_view_module": "@jupyter-widgets/base",
      "_view_module_version": "1.2.0",
      "_view_name": "LayoutView",
      "align_content": null,
      "align_items": null,
      "align_self": null,
      "border": null,
      "bottom": null,
      "display": null,
      "flex": null,
      "flex_flow": null,
      "grid_area": null,
      "grid_auto_columns": null,
      "grid_auto_flow": null,
      "grid_auto_rows": null,
      "grid_column": null,
      "grid_gap": null,
      "grid_row": null,
      "grid_template_areas": null,
      "grid_template_columns": null,
      "grid_template_rows": null,
      "height": null,
      "justify_content": null,
      "justify_items": null,
      "left": null,
      "margin": null,
      "max_height": null,
      "max_width": null,
      "min_height": null,
      "min_width": null,
      "object_fit": null,
      "object_position": null,
      "order": null,
      "overflow": null,
      "overflow_x": null,
      "overflow_y": null,
      "padding": null,
      "right": null,
      "top": null,
      "visibility": null,
      "width": null
     }
    },
    "cf8db9d4ca9e41aaa61bc6a3d634f607": {
     "model_module": "@jupyter-widgets/base",
     "model_module_version": "1.2.0",
     "model_name": "LayoutModel",
     "state": {
      "_model_module": "@jupyter-widgets/base",
      "_model_module_version": "1.2.0",
      "_model_name": "LayoutModel",
      "_view_count": null,
      "_view_module": "@jupyter-widgets/base",
      "_view_module_version": "1.2.0",
      "_view_name": "LayoutView",
      "align_content": null,
      "align_items": null,
      "align_self": null,
      "border": null,
      "bottom": null,
      "display": null,
      "flex": null,
      "flex_flow": null,
      "grid_area": null,
      "grid_auto_columns": null,
      "grid_auto_flow": null,
      "grid_auto_rows": null,
      "grid_column": null,
      "grid_gap": null,
      "grid_row": null,
      "grid_template_areas": null,
      "grid_template_columns": null,
      "grid_template_rows": null,
      "height": null,
      "justify_content": null,
      "justify_items": null,
      "left": null,
      "margin": null,
      "max_height": null,
      "max_width": null,
      "min_height": null,
      "min_width": null,
      "object_fit": null,
      "object_position": null,
      "order": null,
      "overflow": null,
      "overflow_x": null,
      "overflow_y": null,
      "padding": null,
      "right": null,
      "top": null,
      "visibility": null,
      "width": "20px"
     }
    },
    "d1bff15c3c6a45fab96db3f29775f576": {
     "model_module": "@jupyter-widgets/controls",
     "model_module_version": "1.5.0",
     "model_name": "ProgressStyleModel",
     "state": {
      "_model_module": "@jupyter-widgets/controls",
      "_model_module_version": "1.5.0",
      "_model_name": "ProgressStyleModel",
      "_view_count": null,
      "_view_module": "@jupyter-widgets/base",
      "_view_module_version": "1.2.0",
      "_view_name": "StyleView",
      "bar_color": null,
      "description_width": ""
     }
    },
    "d282fa4be526420089d7e40e1720954f": {
     "model_module": "@jupyter-widgets/controls",
     "model_module_version": "1.5.0",
     "model_name": "HTMLModel",
     "state": {
      "_dom_classes": [],
      "_model_module": "@jupyter-widgets/controls",
      "_model_module_version": "1.5.0",
      "_model_name": "HTMLModel",
      "_view_count": null,
      "_view_module": "@jupyter-widgets/controls",
      "_view_module_version": "1.5.0",
      "_view_name": "HTMLView",
      "description": "",
      "description_tooltip": null,
      "layout": "IPY_MODEL_4e332f8efc944611b10922101faa5912",
      "placeholder": "​",
      "style": "IPY_MODEL_a1b88cc9e6ca48c5a997ba53acaba2b9",
      "value": " 4204/? [00:00&lt;00:00, 8678.22 examples/s]"
     }
    },
    "d2bdd5457f82497cb8bef321a792a0b3": {
     "model_module": "@jupyter-widgets/controls",
     "model_module_version": "1.5.0",
     "model_name": "DescriptionStyleModel",
     "state": {
      "_model_module": "@jupyter-widgets/controls",
      "_model_module_version": "1.5.0",
      "_model_name": "DescriptionStyleModel",
      "_view_count": null,
      "_view_module": "@jupyter-widgets/base",
      "_view_module_version": "1.2.0",
      "_view_name": "StyleView",
      "description_width": ""
     }
    },
    "d48da2b6fffd4ba2b9e6095f62048b9a": {
     "model_module": "@jupyter-widgets/base",
     "model_module_version": "1.2.0",
     "model_name": "LayoutModel",
     "state": {
      "_model_module": "@jupyter-widgets/base",
      "_model_module_version": "1.2.0",
      "_model_name": "LayoutModel",
      "_view_count": null,
      "_view_module": "@jupyter-widgets/base",
      "_view_module_version": "1.2.0",
      "_view_name": "LayoutView",
      "align_content": null,
      "align_items": null,
      "align_self": null,
      "border": null,
      "bottom": null,
      "display": null,
      "flex": null,
      "flex_flow": null,
      "grid_area": null,
      "grid_auto_columns": null,
      "grid_auto_flow": null,
      "grid_auto_rows": null,
      "grid_column": null,
      "grid_gap": null,
      "grid_row": null,
      "grid_template_areas": null,
      "grid_template_columns": null,
      "grid_template_rows": null,
      "height": null,
      "justify_content": null,
      "justify_items": null,
      "left": null,
      "margin": null,
      "max_height": null,
      "max_width": null,
      "min_height": null,
      "min_width": null,
      "object_fit": null,
      "object_position": null,
      "order": null,
      "overflow": null,
      "overflow_x": null,
      "overflow_y": null,
      "padding": null,
      "right": null,
      "top": null,
      "visibility": null,
      "width": "20px"
     }
    },
    "d5ebb5979a1e4aebbbdd41c17f1ca5ec": {
     "model_module": "@jupyter-widgets/controls",
     "model_module_version": "1.5.0",
     "model_name": "HTMLModel",
     "state": {
      "_dom_classes": [],
      "_model_module": "@jupyter-widgets/controls",
      "_model_module_version": "1.5.0",
      "_model_name": "HTMLModel",
      "_view_count": null,
      "_view_module": "@jupyter-widgets/controls",
      "_view_module_version": "1.5.0",
      "_view_name": "HTMLView",
      "description": "",
      "description_tooltip": null,
      "layout": "IPY_MODEL_9a9d098f0d7e4881b19b91e7ae8efe63",
      "placeholder": "​",
      "style": "IPY_MODEL_1cf4b0c6ef49418caf1b9de0dfba4e71",
      "value": "Shuffling /root/tensorflow_datasets/ted_hrlr_translate/ru_to_en/1.0.0.incompleteU089BI/ted_hrlr_translate-test.tfrecord*...:   0%"
     }
    },
    "e0b3ceebe6e149b9a4d745a88c2c8138": {
     "model_module": "@jupyter-widgets/base",
     "model_module_version": "1.2.0",
     "model_name": "LayoutModel",
     "state": {
      "_model_module": "@jupyter-widgets/base",
      "_model_module_version": "1.2.0",
      "_model_name": "LayoutModel",
      "_view_count": null,
      "_view_module": "@jupyter-widgets/base",
      "_view_module_version": "1.2.0",
      "_view_name": "LayoutView",
      "align_content": null,
      "align_items": null,
      "align_self": null,
      "border": null,
      "bottom": null,
      "display": null,
      "flex": null,
      "flex_flow": null,
      "grid_area": null,
      "grid_auto_columns": null,
      "grid_auto_flow": null,
      "grid_auto_rows": null,
      "grid_column": null,
      "grid_gap": null,
      "grid_row": null,
      "grid_template_areas": null,
      "grid_template_columns": null,
      "grid_template_rows": null,
      "height": null,
      "justify_content": null,
      "justify_items": null,
      "left": null,
      "margin": null,
      "max_height": null,
      "max_width": null,
      "min_height": null,
      "min_width": null,
      "object_fit": null,
      "object_position": null,
      "order": null,
      "overflow": null,
      "overflow_x": null,
      "overflow_y": null,
      "padding": null,
      "right": null,
      "top": null,
      "visibility": "hidden",
      "width": null
     }
    },
    "e1af616dfbf44288803f43a591cbf31d": {
     "model_module": "@jupyter-widgets/controls",
     "model_module_version": "1.5.0",
     "model_name": "DescriptionStyleModel",
     "state": {
      "_model_module": "@jupyter-widgets/controls",
      "_model_module_version": "1.5.0",
      "_model_name": "DescriptionStyleModel",
      "_view_count": null,
      "_view_module": "@jupyter-widgets/base",
      "_view_module_version": "1.2.0",
      "_view_name": "StyleView",
      "description_width": ""
     }
    },
    "e576cdba3d774476b38ebed2b61a58e6": {
     "model_module": "@jupyter-widgets/controls",
     "model_module_version": "1.5.0",
     "model_name": "HTMLModel",
     "state": {
      "_dom_classes": [],
      "_model_module": "@jupyter-widgets/controls",
      "_model_module_version": "1.5.0",
      "_model_name": "HTMLModel",
      "_view_count": null,
      "_view_module": "@jupyter-widgets/controls",
      "_view_module_version": "1.5.0",
      "_view_name": "HTMLView",
      "description": "",
      "description_tooltip": null,
      "layout": "IPY_MODEL_960a9f9023ec4180b943732f4b4ebf67",
      "placeholder": "​",
      "style": "IPY_MODEL_f9097ae79f88464cbb00ddbb84ff7a7c",
      "value": "Dl Completed...: 100%"
     }
    },
    "e6261cf928d740ec90e1e4f03802a3cd": {
     "model_module": "@jupyter-widgets/controls",
     "model_module_version": "1.5.0",
     "model_name": "ProgressStyleModel",
     "state": {
      "_model_module": "@jupyter-widgets/controls",
      "_model_module_version": "1.5.0",
      "_model_name": "ProgressStyleModel",
      "_view_count": null,
      "_view_module": "@jupyter-widgets/base",
      "_view_module_version": "1.2.0",
      "_view_name": "StyleView",
      "bar_color": null,
      "description_width": ""
     }
    },
    "e7e0a3c4299447dfaf89c020deed6ccf": {
     "model_module": "@jupyter-widgets/base",
     "model_module_version": "1.2.0",
     "model_name": "LayoutModel",
     "state": {
      "_model_module": "@jupyter-widgets/base",
      "_model_module_version": "1.2.0",
      "_model_name": "LayoutModel",
      "_view_count": null,
      "_view_module": "@jupyter-widgets/base",
      "_view_module_version": "1.2.0",
      "_view_name": "LayoutView",
      "align_content": null,
      "align_items": null,
      "align_self": null,
      "border": null,
      "bottom": null,
      "display": null,
      "flex": null,
      "flex_flow": null,
      "grid_area": null,
      "grid_auto_columns": null,
      "grid_auto_flow": null,
      "grid_auto_rows": null,
      "grid_column": null,
      "grid_gap": null,
      "grid_row": null,
      "grid_template_areas": null,
      "grid_template_columns": null,
      "grid_template_rows": null,
      "height": null,
      "justify_content": null,
      "justify_items": null,
      "left": null,
      "margin": null,
      "max_height": null,
      "max_width": null,
      "min_height": null,
      "min_width": null,
      "object_fit": null,
      "object_position": null,
      "order": null,
      "overflow": null,
      "overflow_x": null,
      "overflow_y": null,
      "padding": null,
      "right": null,
      "top": null,
      "visibility": null,
      "width": null
     }
    },
    "e81784049f2649598ecb25dbef3b1d9b": {
     "model_module": "@jupyter-widgets/controls",
     "model_module_version": "1.5.0",
     "model_name": "FloatProgressModel",
     "state": {
      "_dom_classes": [],
      "_model_module": "@jupyter-widgets/controls",
      "_model_module_version": "1.5.0",
      "_model_name": "FloatProgressModel",
      "_view_count": null,
      "_view_module": "@jupyter-widgets/controls",
      "_view_module_version": "1.5.0",
      "_view_name": "ProgressView",
      "bar_style": "success",
      "description": "",
      "description_tooltip": null,
      "layout": "IPY_MODEL_d48da2b6fffd4ba2b9e6095f62048b9a",
      "max": 1,
      "min": 0,
      "orientation": "horizontal",
      "style": "IPY_MODEL_ada68a0628784e8b9e8bea348ee8e9fa",
      "value": 1
     }
    },
    "ea5f172293234d9186007242bd1255ff": {
     "model_module": "@jupyter-widgets/controls",
     "model_module_version": "1.5.0",
     "model_name": "ProgressStyleModel",
     "state": {
      "_model_module": "@jupyter-widgets/controls",
      "_model_module_version": "1.5.0",
      "_model_name": "ProgressStyleModel",
      "_view_count": null,
      "_view_module": "@jupyter-widgets/base",
      "_view_module_version": "1.2.0",
      "_view_name": "StyleView",
      "bar_color": null,
      "description_width": ""
     }
    },
    "eaa755782de2433a876a898616058680": {
     "model_module": "@jupyter-widgets/base",
     "model_module_version": "1.2.0",
     "model_name": "LayoutModel",
     "state": {
      "_model_module": "@jupyter-widgets/base",
      "_model_module_version": "1.2.0",
      "_model_name": "LayoutModel",
      "_view_count": null,
      "_view_module": "@jupyter-widgets/base",
      "_view_module_version": "1.2.0",
      "_view_name": "LayoutView",
      "align_content": null,
      "align_items": null,
      "align_self": null,
      "border": null,
      "bottom": null,
      "display": null,
      "flex": null,
      "flex_flow": null,
      "grid_area": null,
      "grid_auto_columns": null,
      "grid_auto_flow": null,
      "grid_auto_rows": null,
      "grid_column": null,
      "grid_gap": null,
      "grid_row": null,
      "grid_template_areas": null,
      "grid_template_columns": null,
      "grid_template_rows": null,
      "height": null,
      "justify_content": null,
      "justify_items": null,
      "left": null,
      "margin": null,
      "max_height": null,
      "max_width": null,
      "min_height": null,
      "min_width": null,
      "object_fit": null,
      "object_position": null,
      "order": null,
      "overflow": null,
      "overflow_x": null,
      "overflow_y": null,
      "padding": null,
      "right": null,
      "top": null,
      "visibility": null,
      "width": null
     }
    },
    "edc2628465824b6da1a2d30533ec2b21": {
     "model_module": "@jupyter-widgets/base",
     "model_module_version": "1.2.0",
     "model_name": "LayoutModel",
     "state": {
      "_model_module": "@jupyter-widgets/base",
      "_model_module_version": "1.2.0",
      "_model_name": "LayoutModel",
      "_view_count": null,
      "_view_module": "@jupyter-widgets/base",
      "_view_module_version": "1.2.0",
      "_view_name": "LayoutView",
      "align_content": null,
      "align_items": null,
      "align_self": null,
      "border": null,
      "bottom": null,
      "display": null,
      "flex": null,
      "flex_flow": null,
      "grid_area": null,
      "grid_auto_columns": null,
      "grid_auto_flow": null,
      "grid_auto_rows": null,
      "grid_column": null,
      "grid_gap": null,
      "grid_row": null,
      "grid_template_areas": null,
      "grid_template_columns": null,
      "grid_template_rows": null,
      "height": null,
      "justify_content": null,
      "justify_items": null,
      "left": null,
      "margin": null,
      "max_height": null,
      "max_width": null,
      "min_height": null,
      "min_width": null,
      "object_fit": null,
      "object_position": null,
      "order": null,
      "overflow": null,
      "overflow_x": null,
      "overflow_y": null,
      "padding": null,
      "right": null,
      "top": null,
      "visibility": null,
      "width": null
     }
    },
    "f337addcdd864668a0287d5c98a8057b": {
     "model_module": "@jupyter-widgets/controls",
     "model_module_version": "1.5.0",
     "model_name": "HBoxModel",
     "state": {
      "_dom_classes": [],
      "_model_module": "@jupyter-widgets/controls",
      "_model_module_version": "1.5.0",
      "_model_name": "HBoxModel",
      "_view_count": null,
      "_view_module": "@jupyter-widgets/controls",
      "_view_module_version": "1.5.0",
      "_view_name": "HBoxView",
      "box_style": "",
      "children": [
       "IPY_MODEL_7ce640c71d1e4fd09e854a3ac2cb3e35",
       "IPY_MODEL_8af46e271ba04628af052f047d06cf13",
       "IPY_MODEL_402eefd4c38947c98bc1f9828415fef8"
      ],
      "layout": "IPY_MODEL_198500121c8d4e548fa30fb27a61d66d"
     }
    },
    "f86f6a5af4114b639972feca51a596dc": {
     "model_module": "@jupyter-widgets/base",
     "model_module_version": "1.2.0",
     "model_name": "LayoutModel",
     "state": {
      "_model_module": "@jupyter-widgets/base",
      "_model_module_version": "1.2.0",
      "_model_name": "LayoutModel",
      "_view_count": null,
      "_view_module": "@jupyter-widgets/base",
      "_view_module_version": "1.2.0",
      "_view_name": "LayoutView",
      "align_content": null,
      "align_items": null,
      "align_self": null,
      "border": null,
      "bottom": null,
      "display": null,
      "flex": null,
      "flex_flow": null,
      "grid_area": null,
      "grid_auto_columns": null,
      "grid_auto_flow": null,
      "grid_auto_rows": null,
      "grid_column": null,
      "grid_gap": null,
      "grid_row": null,
      "grid_template_areas": null,
      "grid_template_columns": null,
      "grid_template_rows": null,
      "height": null,
      "justify_content": null,
      "justify_items": null,
      "left": null,
      "margin": null,
      "max_height": null,
      "max_width": null,
      "min_height": null,
      "min_width": null,
      "object_fit": null,
      "object_position": null,
      "order": null,
      "overflow": null,
      "overflow_x": null,
      "overflow_y": null,
      "padding": null,
      "right": null,
      "top": null,
      "visibility": null,
      "width": null
     }
    },
    "f9097ae79f88464cbb00ddbb84ff7a7c": {
     "model_module": "@jupyter-widgets/controls",
     "model_module_version": "1.5.0",
     "model_name": "DescriptionStyleModel",
     "state": {
      "_model_module": "@jupyter-widgets/controls",
      "_model_module_version": "1.5.0",
      "_model_name": "DescriptionStyleModel",
      "_view_count": null,
      "_view_module": "@jupyter-widgets/base",
      "_view_module_version": "1.2.0",
      "_view_name": "StyleView",
      "description_width": ""
     }
    },
    "fa8f84b22f0d4aab81fd83a2d383d9c7": {
     "model_module": "@jupyter-widgets/base",
     "model_module_version": "1.2.0",
     "model_name": "LayoutModel",
     "state": {
      "_model_module": "@jupyter-widgets/base",
      "_model_module_version": "1.2.0",
      "_model_name": "LayoutModel",
      "_view_count": null,
      "_view_module": "@jupyter-widgets/base",
      "_view_module_version": "1.2.0",
      "_view_name": "LayoutView",
      "align_content": null,
      "align_items": null,
      "align_self": null,
      "border": null,
      "bottom": null,
      "display": null,
      "flex": null,
      "flex_flow": null,
      "grid_area": null,
      "grid_auto_columns": null,
      "grid_auto_flow": null,
      "grid_auto_rows": null,
      "grid_column": null,
      "grid_gap": null,
      "grid_row": null,
      "grid_template_areas": null,
      "grid_template_columns": null,
      "grid_template_rows": null,
      "height": null,
      "justify_content": null,
      "justify_items": null,
      "left": null,
      "margin": null,
      "max_height": null,
      "max_width": null,
      "min_height": null,
      "min_width": null,
      "object_fit": null,
      "object_position": null,
      "order": null,
      "overflow": null,
      "overflow_x": null,
      "overflow_y": null,
      "padding": null,
      "right": null,
      "top": null,
      "visibility": null,
      "width": null
     }
    }
   }
  }
 },
 "nbformat": 4,
 "nbformat_minor": 1
}
