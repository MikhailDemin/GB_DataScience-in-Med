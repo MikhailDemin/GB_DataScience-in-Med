{
 "cells": [
  {
   "cell_type": "markdown",
   "metadata": {
    "id": "PSIhuaBEA-jM"
   },
   "source": [
    "## Задача 1-1. \n",
    "Из колоды в 52 карты извлекаются случайным образом 4 карты."
   ]
  },
  {
   "cell_type": "markdown",
   "metadata": {
    "id": "pP4OpS4HA-jO"
   },
   "source": [
    "a) Найти вероятность того, что все карты – крести."
   ]
  },
  {
   "cell_type": "markdown",
   "metadata": {
    "id": "k0BfhWJLA-jP"
   },
   "source": [
    "### Решение:\n",
    "[1] Число возможных комбинаций 4 карты крести:\n",
    "$$C_{13}^4=\\frac{13!}{4!(13-4)!}=\\frac{9!*10*11*12*13}{4!*9!}$$"
   ]
  },
  {
   "cell_type": "code",
   "execution_count": 2,
   "metadata": {
    "id": "7h1BCHFpA-jP",
    "outputId": "6a6bc14f-ad98-48b4-bcdf-5d3280ce1da4"
   },
   "outputs": [
    {
     "name": "stdout",
     "output_type": "stream",
     "text": [
      "715\n"
     ]
    }
   ],
   "source": [
    "from math import factorial as fact\n",
    "def comb(n, k):\n",
    "    return int(fact(n) / (fact(k) * fact(n - k)))\n",
    "c_4_13 = comb(13, 4)\n",
    "print(c_4_13)"
   ]
  },
  {
   "cell_type": "markdown",
   "metadata": {
    "id": "766H5eVHA-jR"
   },
   "source": [
    "[2] Общее число возможных комбинаций 4 карт:\n",
    "$$C_{52}^4=\\frac{52!}{4!(52-4)!}=\\frac{48!*49*50*51*52}{4!48!}$$"
   ]
  },
  {
   "cell_type": "code",
   "execution_count": 3,
   "metadata": {
    "id": "tgjXC3QVA-jR",
    "outputId": "9997a1ca-838e-48c4-fb78-e03d5d3add6f"
   },
   "outputs": [
    {
     "name": "stdout",
     "output_type": "stream",
     "text": [
      "270725\n"
     ]
    }
   ],
   "source": [
    "c_4_52 = comb(52, 4)\n",
    "print(c_4_52)"
   ]
  },
  {
   "cell_type": "markdown",
   "metadata": {
    "id": "iDpVcSHMA-jR"
   },
   "source": [
    "Вероятность вытащить 4 крестовых карты: $$P(A)=\\frac{A}{N}=\\frac{715}{270725}=0,002641 $$"
   ]
  },
  {
   "cell_type": "code",
   "execution_count": 4,
   "metadata": {
    "id": "M9Kb_xzZA-jR",
    "outputId": "4cfd89ad-a7c4-4b79-8909-65e050f07bd7"
   },
   "outputs": [
    {
     "name": "stdout",
     "output_type": "stream",
     "text": [
      "0.26410564225690275\n"
     ]
    }
   ],
   "source": [
    "r = float(c_4_13 / c_4_52)\n",
    "print(r*100)"
   ]
  },
  {
   "cell_type": "markdown",
   "metadata": {
    "id": "hdwndXSqA-jS"
   },
   "source": [
    "#### Ответ 1-1а: вероятность вытащить 4 крестовых карты составляет 0,2641%"
   ]
  },
  {
   "cell_type": "markdown",
   "metadata": {
    "id": "4Y7ppTAoA-jS"
   },
   "source": [
    "б) Найти вероятность, что среди 4-х карт окажется хотя бы один туз."
   ]
  },
  {
   "cell_type": "markdown",
   "metadata": {
    "id": "GM0qCDjvA-jS"
   },
   "source": [
    "### Решение:\n",
    "[1] Найдем все сочетания 4-х карт без тузов (52 карты - 4 туза = 48) $C_{48}^4$:"
   ]
  },
  {
   "cell_type": "code",
   "execution_count": 5,
   "metadata": {
    "id": "bVbVjwHzA-jS",
    "outputId": "c180928d-9ece-495e-bea6-4a339b1c882e"
   },
   "outputs": [
    {
     "name": "stdout",
     "output_type": "stream",
     "text": [
      "194580\n"
     ]
    }
   ],
   "source": [
    "c_4_48 = comb(48, 4)\n",
    "print(c_4_48)"
   ]
  },
  {
   "cell_type": "markdown",
   "metadata": {
    "id": "vvQ6UlpqA-jS"
   },
   "source": [
    "[2] Число исходов в котрых хотя бы 1 туз (или 2, или 3, или 4) $$C_T =C_{52}-C_{48}^4=270725-194580=76145$$"
   ]
  },
  {
   "cell_type": "code",
   "execution_count": 6,
   "metadata": {
    "id": "M3k0lMNBA-jT",
    "outputId": "663b5e6c-af4b-4b4d-d068-911f34b212ca"
   },
   "outputs": [
    {
     "name": "stdout",
     "output_type": "stream",
     "text": [
      "76145\n"
     ]
    }
   ],
   "source": [
    "c_1_4 = c_4_52 - c_4_48\n",
    "print(c_1_4)"
   ]
  },
  {
   "cell_type": "markdown",
   "metadata": {
    "id": "k4mLtNjKA-jT"
   },
   "source": [
    "$P(A)= \\frac{76145}{270725}$"
   ]
  },
  {
   "cell_type": "code",
   "execution_count": 7,
   "metadata": {
    "id": "YfQUm8LiA-jT",
    "outputId": "b108ef31-b36a-47d1-822d-81ba8fbfcbf5"
   },
   "outputs": [
    {
     "name": "stdout",
     "output_type": "stream",
     "text": [
      "28.126327454058547\n"
     ]
    }
   ],
   "source": [
    "prob_min_one_ace = c_1_4 / c_4_52\n",
    "print(prob_min_one_ace * 100)"
   ]
  },
  {
   "cell_type": "markdown",
   "metadata": {
    "id": "ZvOo6AbIA-jT"
   },
   "source": [
    "#### Ответ 1-1б: вероятность, что среди 4-х карт окажется хотя бы один туз составляет 28.126%"
   ]
  },
  {
   "cell_type": "markdown",
   "metadata": {
    "id": "0IBEagzTA-jU"
   },
   "source": [
    "## Задача 1-2.\n",
    "На входной двери подъезда установлен кодовый замок, содержащий десять кнопок с цифрами от 0 до 9. Код содержит три цифры, которые нужно нажать одновременно. Какова вероятность того, что человек, не знающий код, откроет дверь с первой попытки?"
   ]
  },
  {
   "cell_type": "markdown",
   "metadata": {
    "id": "PE1gg1vPA-jU"
   },
   "source": [
    "### Решение:\n",
    "[1] Общее число возможных комбинаций кодового замка:\n",
    "$$C_{10}^3=\\frac{10!}{3!(10-3)!}$$"
   ]
  },
  {
   "cell_type": "code",
   "execution_count": 8,
   "metadata": {
    "id": "AlecpovnA-jU",
    "outputId": "538275d7-45c3-4126-ea2f-de650d8c11ae"
   },
   "outputs": [
    {
     "name": "stdout",
     "output_type": "stream",
     "text": [
      "120\n"
     ]
    }
   ],
   "source": [
    "c_3_10 = comb(10, 3)\n",
    "print(c_3_10)"
   ]
  },
  {
   "cell_type": "markdown",
   "metadata": {
    "id": "AIPyqtU5A-jU"
   },
   "source": [
    "[2] Так как по условию все три кнопки нужно нажать одновременно => имеем 1 благоприятный исход: $P(A)= \\frac{1}{120}$"
   ]
  },
  {
   "cell_type": "code",
   "execution_count": 9,
   "metadata": {
    "id": "-rD-C_gFA-jU",
    "outputId": "7089cede-e3cd-42b0-c083-649fe5df6e83"
   },
   "outputs": [
    {
     "name": "stdout",
     "output_type": "stream",
     "text": [
      "0.008333333333333333\n"
     ]
    }
   ],
   "source": [
    "prob_code = 1 / c_3_10\n",
    "print(prob_code)"
   ]
  },
  {
   "cell_type": "markdown",
   "metadata": {
    "id": "KSD9_fzsA-jV"
   },
   "source": [
    "#### Ответ 1-2: вероятность открытия замка с 1 попытки составляет 0.008(3)"
   ]
  },
  {
   "cell_type": "markdown",
   "metadata": {
    "id": "a-w7T6n3A-jV"
   },
   "source": [
    "## Задача 1-3.\n",
    "В ящике имеется 15 деталей, из которых 9 окрашены. Рабочий случайным образом извлекает 3 детали. Какова вероятность того, что все извлеченные детали окрашены?"
   ]
  },
  {
   "cell_type": "markdown",
   "metadata": {
    "id": "LCWi2cJUA-jV"
   },
   "source": [
    "### Решение:\n",
    "[1] Число сочетаний окрашенных деталей:\n",
    "$$C_{9}^3=\\frac{9!}{3!(9-3)!}$$"
   ]
  },
  {
   "cell_type": "code",
   "execution_count": 10,
   "metadata": {
    "id": "gA6MAKJRA-jV",
    "outputId": "bbd760bc-f09c-4ba8-e2a3-31778dfd4d50"
   },
   "outputs": [
    {
     "name": "stdout",
     "output_type": "stream",
     "text": [
      "84\n"
     ]
    }
   ],
   "source": [
    "c_3_9 = comb(9, 3)\n",
    "print(c_3_9)"
   ]
  },
  {
   "cell_type": "markdown",
   "metadata": {
    "id": "WUN_5ovrA-jV"
   },
   "source": [
    "[2] Общее число сочетаний деталей в ящике:\n",
    "$$C_{15}^3=\\frac{15!}{3!(15-3)!}$$"
   ]
  },
  {
   "cell_type": "code",
   "execution_count": 11,
   "metadata": {
    "id": "6FVKL_G2A-jW",
    "outputId": "c3d69f02-9e50-4b3f-aa56-378bea5f645a"
   },
   "outputs": [
    {
     "name": "stdout",
     "output_type": "stream",
     "text": [
      "455\n"
     ]
    }
   ],
   "source": [
    "c_3_15 = comb(15, 3)\n",
    "print(c_3_15)"
   ]
  },
  {
   "cell_type": "markdown",
   "metadata": {
    "id": "GtjKTvubA-jW"
   },
   "source": [
    "[3] Вероятность благоприятного исхода: $P= \\frac{C_{9}^3}{C_{15}^3}$"
   ]
  },
  {
   "cell_type": "code",
   "execution_count": 12,
   "metadata": {
    "id": "zMUkU-JfA-jW",
    "outputId": "07804300-ffc6-4f0c-d135-b2f9252568e2",
    "scrolled": true
   },
   "outputs": [
    {
     "name": "stdout",
     "output_type": "stream",
     "text": [
      "0.18461538461538463\n"
     ]
    }
   ],
   "source": [
    "prob_all_painted_balls = c_3_9 / c_3_15\n",
    "print(prob_all_painted_balls)"
   ]
  },
  {
   "cell_type": "markdown",
   "metadata": {
    "id": "IDaELzCQA-jW"
   },
   "source": [
    "##### Проверка:\n",
    "$$P= \\frac{C_{9}^3}{C_{15}^3}=\\frac{\\frac{9!}{3!(9-3)!}}{\\frac{15!}{3!(15-3)!}}=\\frac{{9!}*{12!}}{{6!}*{15!}}$$"
   ]
  },
  {
   "cell_type": "code",
   "execution_count": 13,
   "metadata": {
    "id": "7GXjCDItA-jX",
    "outputId": "8db2a89f-1823-4c1a-8c73-5ce436a1e4e5"
   },
   "outputs": [
    {
     "name": "stdout",
     "output_type": "stream",
     "text": [
      "0.18461538461538463\n"
     ]
    }
   ],
   "source": [
    "prob_1_3_test = (fact(9) * fact(12)) / (fact(6) * fact(15))\n",
    "print(prob_1_3_test)"
   ]
  },
  {
   "cell_type": "markdown",
   "metadata": {
    "id": "HcpMM_thA-jX"
   },
   "source": [
    "#### Ответ 1-3: вероятность того, что все извлеченные детали окрашены составляет 0.1846"
   ]
  },
  {
   "cell_type": "markdown",
   "metadata": {
    "id": "cjQTz4PCA-jX"
   },
   "source": [
    "## Задача 1-4.\n",
    "В лотерее 100 билетов. Из них 2 выигрышных. Какова вероятность того, что 2 приобретенных билета окажутся выигрышными?"
   ]
  },
  {
   "cell_type": "markdown",
   "metadata": {
    "id": "PplvZxy0A-jX"
   },
   "source": [
    "### Решение:\n",
    "[1] Общее число возможных сочетаний выигрышных билетов:\n",
    "$$C_{100}^2=\\frac{100!}{2!(100-2)!}$$"
   ]
  },
  {
   "cell_type": "code",
   "execution_count": 14,
   "metadata": {
    "id": "ZiNzY6nDA-jX",
    "outputId": "c58c26e7-a9a8-46ed-e397-ac29d7951536"
   },
   "outputs": [
    {
     "name": "stdout",
     "output_type": "stream",
     "text": [
      "4950\n"
     ]
    }
   ],
   "source": [
    "c_2_100 = comb(100, 2)\n",
    "print(c_2_100)"
   ]
  },
  {
   "cell_type": "markdown",
   "metadata": {
    "id": "WWZ-CAt2A-jY"
   },
   "source": [
    "[2] Вероятность благоприятного исхода: $P= \\frac1{C_{100}^2}$"
   ]
  },
  {
   "cell_type": "code",
   "execution_count": 15,
   "metadata": {
    "id": "ITTP7j7uA-jY",
    "outputId": "50adc2f8-783b-4897-9801-ab9b6ee20154"
   },
   "outputs": [
    {
     "name": "stdout",
     "output_type": "stream",
     "text": [
      "0.0202020202020202\n"
     ]
    }
   ],
   "source": [
    "prob_win = 1 / c_2_100\n",
    "print((prob_win)*100)"
   ]
  },
  {
   "cell_type": "markdown",
   "metadata": {
    "id": "JMN-gWz3A-jY"
   },
   "source": [
    "#### Ответ 1-4: вероятность того, что 2 приобретенных билета окажутся выигрышными составляет 2,02%"
   ]
  }
 ],
 "metadata": {
  "colab": {
   "name": "Копия блокнота \"04_lesson_1_my_solution.ipynb\"",
   "provenance": []
  },
  "kernelspec": {
   "display_name": "Python 3",
   "language": "python",
   "name": "python3"
  },
  "language_info": {
   "codemirror_mode": {
    "name": "ipython",
    "version": 3
   },
   "file_extension": ".py",
   "mimetype": "text/x-python",
   "name": "python",
   "nbconvert_exporter": "python",
   "pygments_lexer": "ipython3",
   "version": "3.8.8"
  }
 },
 "nbformat": 4,
 "nbformat_minor": 1
}
