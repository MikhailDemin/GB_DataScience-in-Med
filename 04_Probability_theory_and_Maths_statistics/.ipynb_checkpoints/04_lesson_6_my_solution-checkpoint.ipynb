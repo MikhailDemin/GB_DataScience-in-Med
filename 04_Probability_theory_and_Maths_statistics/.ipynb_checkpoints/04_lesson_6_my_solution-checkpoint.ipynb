{
 "cells": [
  {
   "cell_type": "code",
   "execution_count": 7,
   "id": "061afedf",
   "metadata": {},
   "outputs": [],
   "source": [
    "import numpy as np\n",
    "import pandas as pd"
   ]
  },
  {
   "cell_type": "markdown",
   "id": "0e958a46",
   "metadata": {},
   "source": [
    "## Задача 6-1.\n",
    "Даны значения величины заработной платы заемщиков банка (zp) и значения их поведенческого кредитного скоринга (ks):\n",
    "zp = [35, 45, 190, 200, 40, 70, 54, 150, 120, 110],\n",
    "ks = [401, 574, 874, 919, 459, 739, 653, 902, 746, 832].\n",
    "1) Найдите ковариацию этих двух величин с помощью элементарных действий, а затем с помощью функции cov из numpy\n",
    "Полученные значения должны быть равны.\n",
    "\n",
    "2) Найдите коэффициент корреляции Пирсона с помощью ковариации и среднеквадратичных отклонений двух признаков,\n",
    "а затем с использованием функций из библиотек numpy и pandas."
   ]
  },
  {
   "cell_type": "markdown",
   "id": "62294c67",
   "metadata": {},
   "source": [
    "## Решение:\n",
    "1) [1] Вычислим ковариацию полученных данных согласно формуле:\n",
    "$$\\mathsf{cov_{XY}} = M[(X - M(X))(Y - M(Y))] = M(XY) - M(X)\\cdot M(Y)$$\n",
    "\n",
    "где $X$ и $Y$ - выборки данных, $M$ - математическое ожидание"
   ]
  },
  {
   "cell_type": "code",
   "execution_count": 8,
   "id": "643aa932",
   "metadata": {
    "scrolled": true
   },
   "outputs": [
    {
     "name": "stdout",
     "output_type": "stream",
     "text": [
      "Ковариация равна: 𝖼𝗈𝗏 = 9157.84\n"
     ]
    }
   ],
   "source": [
    "zp = np.array([35, 45, 190, 200, 40, 70, 54, 150, 120, 110])\n",
    "ks = np.array([401, 574, 874, 919, 459, 739, 653, 902, 746, 832])\n",
    "print ('Ковариация равна: 𝖼𝗈𝗏 =', (round(((zp * ks).mean() - zp.mean() * ks.mean()), 2)))"
   ]
  },
  {
   "cell_type": "markdown",
   "id": "14eb88b9",
   "metadata": {},
   "source": [
    "[2] применим функцию $\\mathsf{\\color{green}{cov}}$ из пакета $\\mathsf{\\color{darkblue}{numpy}}$ и сравним полученные значения:"
   ]
  },
  {
   "cell_type": "code",
   "execution_count": 9,
   "id": "2887c977",
   "metadata": {
    "scrolled": true
   },
   "outputs": [
    {
     "name": "stdout",
     "output_type": "stream",
     "text": [
      "Не смещенная оценка: 10175.38\n",
      "Смещенная оценка: 9157.84\n"
     ]
    }
   ],
   "source": [
    "print ('Не смещенная оценка:', round((np.cov(zp, ks)[0, 1]), 2))\n",
    "print ('Смещенная оценка:', (np.cov(zp, ks, ddof = 0)[0, 1]))"
   ]
  },
  {
   "cell_type": "markdown",
   "id": "6d871192",
   "metadata": {},
   "source": [
    "2) Зная ковариацию и среднее квадратичное отклонение каждого из двух признаков, можно вычислить коэффициент корреляции Пирсона:\n",
    "$$r_{XY} = \\frac{\\mathsf{cov_{XY}}}{\\sigma_{X}\\sigma_{Y}}$$"
   ]
  },
  {
   "cell_type": "code",
   "execution_count": 10,
   "id": "8b363175",
   "metadata": {
    "scrolled": true
   },
   "outputs": [
    {
     "name": "stdout",
     "output_type": "stream",
     "text": [
      "Не смещенная оценка zp: 62.313\n",
      "Не смещенная оценка ks: 183.995\n",
      "Коэффициент корреляции Пирсона по не смещенной оценке: 0.88749\n",
      "Коэффициент корреляции Пирсона по смещенной оценке: 0.88749\n"
     ]
    }
   ],
   "source": [
    "print ('Не смещенная оценка zp:', round((zp.std(ddof = 1)), 3))\n",
    "print ('Не смещенная оценка ks:', round((ks.std(ddof = 1)), 3))\n",
    "print ('Коэффициент корреляции Пирсона по не смещенной оценке:', round(((np.cov(zp, ks)[0, 1]) / ((zp.std(ddof = 1)) * (ks.std(ddof = 1)))), 5))\n",
    "print ('Коэффициент корреляции Пирсона по смещенной оценке:', round(((np.cov(zp, ks, ddof = 0)[0, 1]) / (zp.std() * ks.std())), 5))"
   ]
  },
  {
   "cell_type": "markdown",
   "id": "a502db53",
   "metadata": {},
   "source": [
    "$\\color{red}{\\textbf {UPD}}$ решение 6-1 через $\\mathsf{\\color{darkblue}{pandas}}$"
   ]
  },
  {
   "cell_type": "code",
   "execution_count": 11,
   "id": "2b39d565",
   "metadata": {},
   "outputs": [
    {
     "data": {
      "text/html": [
       "<div>\n",
       "<style scoped>\n",
       "    .dataframe tbody tr th:only-of-type {\n",
       "        vertical-align: middle;\n",
       "    }\n",
       "\n",
       "    .dataframe tbody tr th {\n",
       "        vertical-align: top;\n",
       "    }\n",
       "\n",
       "    .dataframe thead th {\n",
       "        text-align: right;\n",
       "    }\n",
       "</style>\n",
       "<table border=\"1\" class=\"dataframe\">\n",
       "  <thead>\n",
       "    <tr style=\"text-align: right;\">\n",
       "      <th></th>\n",
       "      <th>zp</th>\n",
       "      <th>ks</th>\n",
       "    </tr>\n",
       "  </thead>\n",
       "  <tbody>\n",
       "    <tr>\n",
       "      <th>0</th>\n",
       "      <td>35</td>\n",
       "      <td>401</td>\n",
       "    </tr>\n",
       "    <tr>\n",
       "      <th>1</th>\n",
       "      <td>45</td>\n",
       "      <td>574</td>\n",
       "    </tr>\n",
       "    <tr>\n",
       "      <th>2</th>\n",
       "      <td>190</td>\n",
       "      <td>874</td>\n",
       "    </tr>\n",
       "    <tr>\n",
       "      <th>3</th>\n",
       "      <td>200</td>\n",
       "      <td>919</td>\n",
       "    </tr>\n",
       "    <tr>\n",
       "      <th>4</th>\n",
       "      <td>40</td>\n",
       "      <td>459</td>\n",
       "    </tr>\n",
       "    <tr>\n",
       "      <th>5</th>\n",
       "      <td>70</td>\n",
       "      <td>739</td>\n",
       "    </tr>\n",
       "    <tr>\n",
       "      <th>6</th>\n",
       "      <td>54</td>\n",
       "      <td>653</td>\n",
       "    </tr>\n",
       "    <tr>\n",
       "      <th>7</th>\n",
       "      <td>150</td>\n",
       "      <td>902</td>\n",
       "    </tr>\n",
       "    <tr>\n",
       "      <th>8</th>\n",
       "      <td>120</td>\n",
       "      <td>746</td>\n",
       "    </tr>\n",
       "    <tr>\n",
       "      <th>9</th>\n",
       "      <td>110</td>\n",
       "      <td>832</td>\n",
       "    </tr>\n",
       "  </tbody>\n",
       "</table>\n",
       "</div>"
      ],
      "text/plain": [
       "    zp   ks\n",
       "0   35  401\n",
       "1   45  574\n",
       "2  190  874\n",
       "3  200  919\n",
       "4   40  459\n",
       "5   70  739\n",
       "6   54  653\n",
       "7  150  902\n",
       "8  120  746\n",
       "9  110  832"
      ]
     },
     "execution_count": 11,
     "metadata": {},
     "output_type": "execute_result"
    }
   ],
   "source": [
    "df = pd.DataFrame({'zp':zp, 'ks':ks}, columns = ['zp', 'ks'])\n",
    "df"
   ]
  },
  {
   "cell_type": "code",
   "execution_count": 12,
   "id": "63907637",
   "metadata": {},
   "outputs": [
    {
     "name": "stdout",
     "output_type": "stream",
     "text": [
      "Не смещенная оценка: 10175.38\n"
     ]
    },
    {
     "data": {
      "text/html": [
       "<div>\n",
       "<style scoped>\n",
       "    .dataframe tbody tr th:only-of-type {\n",
       "        vertical-align: middle;\n",
       "    }\n",
       "\n",
       "    .dataframe tbody tr th {\n",
       "        vertical-align: top;\n",
       "    }\n",
       "\n",
       "    .dataframe thead th {\n",
       "        text-align: right;\n",
       "    }\n",
       "</style>\n",
       "<table border=\"1\" class=\"dataframe\">\n",
       "  <thead>\n",
       "    <tr style=\"text-align: right;\">\n",
       "      <th></th>\n",
       "      <th>zp</th>\n",
       "      <th>ks</th>\n",
       "    </tr>\n",
       "  </thead>\n",
       "  <tbody>\n",
       "    <tr>\n",
       "      <th>zp</th>\n",
       "      <td>1.00000</td>\n",
       "      <td>0.88749</td>\n",
       "    </tr>\n",
       "    <tr>\n",
       "      <th>ks</th>\n",
       "      <td>0.88749</td>\n",
       "      <td>1.00000</td>\n",
       "    </tr>\n",
       "  </tbody>\n",
       "</table>\n",
       "</div>"
      ],
      "text/plain": [
       "         zp       ks\n",
       "zp  1.00000  0.88749\n",
       "ks  0.88749  1.00000"
      ]
     },
     "execution_count": 12,
     "metadata": {},
     "output_type": "execute_result"
    }
   ],
   "source": [
    "print ('Не смещенная оценка:', round((df.cov().values[0, 1]), 2))\n",
    "df.corr()"
   ]
  },
  {
   "cell_type": "markdown",
   "id": "d8f874e3",
   "metadata": {},
   "source": [
    "## Ответ 6-1:\n",
    "### 1) Ковариация равна: $\\mathsf{cov_{zp,\\:ks}} = 9157.84$\n",
    "### 2) Коэффициент корреляции Пирсона равен: $r_{zp,\\:ks} = 0.88749$"
   ]
  },
  {
   "cell_type": "markdown",
   "id": "c5d32551",
   "metadata": {},
   "source": [
    "## Задача 6-2.\n",
    "Измерены значения IQ выборки студентов, обучающихся в местных технических вузах:\n",
    "131, 125, 115, 122, 131, 115, 107, 99, 125, 111. Известно, что в генеральной совокупности IQ распределен нормально. Найдите доверительный интервал для математического ожидания с надежностью 0.95"
   ]
  },
  {
   "cell_type": "markdown",
   "id": "9ae4c0f8",
   "metadata": {},
   "source": [
    "## Решение:\n",
    "Т.к. параметры генеральной совокупности неизвестны, кроме того, что распределение нормальное, то будем использовать распределение Стюдента для нахождения доверительного интервала по формуле:\n",
    "$$P \\left(\\overline{X} + t_{\\dfrac \\alpha 2} \\cdot \\dfrac \\sigma {\\sqrt{n}} \n",
    "\\leq M(X) \\leq \\overline{X} + t_{\\dfrac \\alpha 2} \\cdot \\dfrac \\sigma {\\sqrt{n}}\\right)$$"
   ]
  },
  {
   "cell_type": "code",
   "execution_count": 13,
   "id": "817104eb",
   "metadata": {},
   "outputs": [
    {
     "name": "stdout",
     "output_type": "stream",
     "text": [
      "Выборочная средняя: 𝑋 = 118.1\n",
      "Размер выборки: n = 10\n",
      "Распределения Стьюдента t = 2.262 для выборки из n = 10 c надежностью 0.95\n",
      "Выборочное смещенное среднеквадратичное отклонение: 𝜎 = 10.5457\n",
      "Доверительный интервал для математического ожидания с надежностью 0.95: P = [110.556, 125.644]\n"
     ]
    }
   ],
   "source": [
    "from scipy import stats\n",
    "m = 0.95\n",
    "iq = np.array([131, 125, 115, 122, 131, 115, 107, 99, 125, 111])\n",
    "x_mean = iq.mean()\n",
    "n =  iq.shape[0]\n",
    "a_2 = round(((1 - m) / 2), 3)\n",
    "t = stats.t.ppf(1-a_2, n-1)\n",
    "sigma = iq.std(ddof=1)\n",
    "P = [round((x_mean- t * sigma / np.sqrt(n)), 3), round((x_mean + t * sigma / np.sqrt(n)), 3)]\n",
    "print(f'Выборочная средняя: 𝑋 = {x_mean}')\n",
    "print(f'Размер выборки: n = {n}')\n",
    "print(f'Распределения Стьюдента t = {round(t, 3)} для выборки из n = {n} c надежностью 0.95')\n",
    "print(f'Выборочное смещенное среднеквадратичное отклонение: 𝜎 = {round(sigma, 4)}')\n",
    "print(f'Доверительный интервал для математического ожидания с надежностью 0.95: P = {P}')"
   ]
  },
  {
   "cell_type": "markdown",
   "id": "8b3a73d2",
   "metadata": {},
   "source": [
    "## Ответ 6-2:\n",
    "### Доверительный интервал для математического ожидания с надежностью 0.95 равен: P = [110.556, 125.644]"
   ]
  },
  {
   "cell_type": "markdown",
   "id": "10dfef20",
   "metadata": {},
   "source": [
    "## Задача 6-3.\n",
    "Известно, что рост футболистов в сборной распределен нормально с дисперсией генеральной совокупности, равной 25 кв.см. Объем выборки равен 27, среднее выборочное составляет 174.2. Найдите доверительный интервал для математического ожидания с надежностью 0.95."
   ]
  },
  {
   "cell_type": "markdown",
   "id": "7681645e",
   "metadata": {},
   "source": [
    "## Решение:\n",
    "[1] Найдем доверительный интервал согласно формуле:\n",
    "$\\mu \\pm Z_{\\frac \\alpha 2} \\cdot \\dfrac \\sigma {\\sqrt{n}}$, где:\n",
    "- $n = 27$\n",
    "- $1-\\alpha = 95\\%$\n",
    "- $\\alpha = 5\\%$\n",
    "- $\\mu = 174.2$\n",
    "- $\\sigma^2 = 25$"
   ]
  },
  {
   "cell_type": "code",
   "execution_count": 14,
   "id": "aa757057",
   "metadata": {},
   "outputs": [
    {
     "name": "stdout",
     "output_type": "stream",
     "text": [
      "Значение 𝛼/2 = 0.025\n"
     ]
    }
   ],
   "source": [
    "a_2 = round(((1 - m) / 2), 3)\n",
    "print(f'Значение 𝛼/2 = {a_2}')"
   ]
  },
  {
   "cell_type": "markdown",
   "id": "191cb877",
   "metadata": {},
   "source": [
    "[2] Табличное значение $Z$-критерия для $1-{\\frac \\alpha 2}=1-0.025=0.975$ составляет $Z=1.96$\n",
    "\n",
    "[3] Внесем известные значения в формулу [1] и вычислим границы доверительного интервала:"
   ]
  },
  {
   "cell_type": "code",
   "execution_count": 15,
   "id": "fc5562d9",
   "metadata": {},
   "outputs": [
    {
     "name": "stdout",
     "output_type": "stream",
     "text": [
      "𝜎 = 5.0\n",
      "Левая граница доверительного интервала равна 172.314\n",
      "Правая граница доверительного интервала равна 176.086\n"
     ]
    }
   ],
   "source": [
    "n = 27\n",
    "mu = 174.2\n",
    "sq_sig = 25\n",
    "sig = np.sqrt(sq_sig)\n",
    "z = 1.96\n",
    "print(f'𝜎 = {sig}')\n",
    "print(f'Левая граница доверительного интервала равна {round((mu - (z * sig / (np.sqrt(n)))), 3)}')\n",
    "print(f'Правая граница доверительного интервала равна {round((mu + (z * sig / (np.sqrt(n)))), 3)}')"
   ]
  },
  {
   "cell_type": "markdown",
   "id": "285b5603",
   "metadata": {},
   "source": [
    "## Ответ 6-3:\n",
    "### Доверительный интервал для математического ожидания с надежностью 0.95 равен: P = [172.314, 176.086]"
   ]
  },
  {
   "cell_type": "code",
   "execution_count": null,
   "id": "66326e79",
   "metadata": {},
   "outputs": [],
   "source": []
  }
 ],
 "metadata": {
  "kernelspec": {
   "display_name": "Python 3",
   "language": "python",
   "name": "python3"
  },
  "language_info": {
   "codemirror_mode": {
    "name": "ipython",
    "version": 3
   },
   "file_extension": ".py",
   "mimetype": "text/x-python",
   "name": "python",
   "nbconvert_exporter": "python",
   "pygments_lexer": "ipython3",
   "version": "3.8.8"
  }
 },
 "nbformat": 4,
 "nbformat_minor": 5
}
