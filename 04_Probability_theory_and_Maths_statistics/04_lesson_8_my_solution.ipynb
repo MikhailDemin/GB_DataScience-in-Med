{
 "cells": [
  {
   "cell_type": "code",
   "execution_count": 46,
   "id": "f678a489",
   "metadata": {},
   "outputs": [],
   "source": [
    "import numpy as np\n",
    "import pandas as pd\n",
    "from scipy import stats\n",
    "import matplotlib.pyplot as plt"
   ]
  },
  {
   "cell_type": "markdown",
   "id": "6981dd4e",
   "metadata": {},
   "source": [
    "## Задача 8-1.\n",
    "Провести дисперсионный анализ для определения того, есть ли различия среднего роста среди взрослых футболистов, хоккеистов и штангистов. Даны значения роста в трех группах случайно выбранных спортсменов:\n",
    "- Футболисты: 173, 175, 180, 178, 177, 185, 183, 182.\n",
    "- Хоккеисты: 177, 179, 180, 188, 177, 172, 171, 184, 180.\n",
    "- Штангисты: 172, 173, 169, 177, 166, 180, 178, 177, 172, 166, 170."
   ]
  },
  {
   "cell_type": "markdown",
   "id": "0b6268cf",
   "metadata": {},
   "source": [
    "## Решение:\n",
    "[1] Сформулируем нулевую и альтернативную гипотезы:\n",
    "- Гипотеза $H_0$: средний рост спорстменов не зависит от спортивной дисциплины ($\\mu_1 = \\mu_2 = \\mu_3$).\n",
    "\n",
    "- Гипотеза $H_1$: средний рост спорстменов зависит от спортивной дисциплины ($\\mu_1\\ne\\mu_2\\ne\\mu_3$).\n",
    "\n",
    "[2] Для удобства дальнейших расчетов введем следующий нейминг групп спортсменов:\n",
    "- Футболисты - football players = fp\n",
    "- Хоккеисты - hockey players = hp\n",
    "- Штангисты - power lifters = pl"
   ]
  },
  {
   "cell_type": "code",
   "execution_count": 75,
   "id": "17b8c75b",
   "metadata": {},
   "outputs": [
    {
     "data": {
      "image/png": "[encoded data removed]",
      "text/plain": [
       "<Figure size 504x504 with 1 Axes>"
      ]
     },
     "metadata": {
      "needs_background": "light"
     },
     "output_type": "display_data"
    }
   ],
   "source": [
    "%matplotlib inline\n",
    "plt.rcParams['figure.figsize'] = [7, 7]\n",
    "x1 = [1] * len(fp)\n",
    "y1 = fp\n",
    "x2 = [2] * len(hp)\n",
    "y2 = hp\n",
    "x3 = [3] * len(pl)\n",
    "y3 = pl\n",
    "plt.scatter(x1, y1, marker = 'o',color = 'r', s = 50 ,label = 'Футболисты')\n",
    "plt.scatter(x2, y2, marker = 'd',color = 'g', s = 50 ,label = 'Хоккеисты')\n",
    "plt.scatter(x3, y3, marker = 's',color = 'b', s = 50 ,label = 'Штангисты')\n",
    "plt.legend(loc = 'best')\n",
    "plt.xlabel('Спортивная дисциплина')\n",
    "plt.ylabel('Рост, см')\n",
    "plt.show()"
   ]
  },
  {
   "cell_type": "markdown",
   "id": "15b90531",
   "metadata": {},
   "source": [
    "[3] Выведем количество измерений в каждой выборке и общее количество измерений:\n",
    "$$n = \\sum\\limits_{i=1}^{k}n_i\\;\\;\\;\\;\\;\\;\\;\\;\\;\\;\\;\\;\\;\\;(1),$$\n",
    "где $n_i$ общее число измерений\n",
    "\n",
    "[4] Вычислим средние значения по каждой выборке $(\\mathrm{\\overline{fp}}, \\mathrm{\\overline{hp}}\\;и\\; \\mathrm{\\overline{pl}})$ и общее среденее по всем выборкам $(\\mathrm{\\overline Y})$ с помощью формул:\n",
    "$$\\overline{y}_{i} = \\frac{1}{n_i}\\sum\\limits_{j=1}^{n_i}y_{ij}\\;\\;\\;\\;\\;\\;\\;\\;\\;\\;\\;\\;\\;\\;(2),$$\n",
    "где $\\overline{y}_{i}$ — среднее значение переменной Y на i-м уровне\n",
    "$$\\overline{Y} = \\frac{1}{n}\\sum\\limits_{i=1}^{k}\\sum\\limits_{j=1}^{n_i}y_{ij} = \\frac{1}{n}\\sum\\limits_{i=1}^{k}\\overline{y}_{i}n_{i}\\;\\;\\;\\;\\;\\;\\;\\;\\;\\;\\;\\;\\;\\;(3),$$\n",
    "где $\\overline{Y}$ — среднее значение переменной **Y** по всем значениям"
   ]
  },
  {
   "cell_type": "code",
   "execution_count": 26,
   "id": "877af87b",
   "metadata": {},
   "outputs": [
    {
     "name": "stdout",
     "output_type": "stream",
     "text": [
      "Количество измерений:\n",
      " - для футболистов n_fp = 8\n",
      " - для хоккеистов n_hp = 9\n",
      " - для штангистов n_pl = 11\n",
      "Количество измерений по всем выборкам: N = 28\n",
      "Cреднее значение роста равно:\n",
      " - для футболистов fp = 179.125\n",
      " - для хоккеистов hp = 178.667\n",
      " - для штангистов pl = 172.727\n",
      "Cреднее значение по всем наблюдениям: Y = 176.464\n"
     ]
    }
   ],
   "source": [
    "fp = np.array([173, 175, 180, 178, 177, 185, 183, 182])\n",
    "hp = np.array([177, 179, 180, 188, 177, 172, 171, 184, 180])\n",
    "pl = np.array([172, 173, 169, 177, 166, 180, 178, 177, 172, 166, 170])\n",
    "\n",
    "n_fp = fp.shape[0]\n",
    "n_hp = hp.shape[0]\n",
    "n_pl = pl.shape[0]\n",
    "n_all = len(height)\n",
    "print(f'Количество измерений:')\n",
    "print(f' - для футболистов n_fp = {n_fp}')\n",
    "print(f' - для хоккеистов n_hp = {n_hp}')\n",
    "print(f' - для штангистов n_pl = {n_pl}')\n",
    "print(f'Количество измерений по всем выборкам: N = {n_all}')\n",
    "\n",
    "fp_mean = fp.mean()\n",
    "hp_mean = hp.mean()\n",
    "pl_mean = pl.mean()\n",
    "height = np.concatenate([fp, hp, pl])\n",
    "height_mean = height.mean()\n",
    "print(f'Cреднее значение роста равно:')\n",
    "print(f' - для футболистов fp = {round(fp_mean, 3)}')\n",
    "print(f' - для хоккеистов hp = {round(hp_mean, 3)}')\n",
    "print(f' - для штангистов pl = {round(pl_mean, 3)}')\n",
    "print(f'Cреднее значение по всем наблюдениям: Y = {round(height_mean, 3)}')"
   ]
  },
  {
   "cell_type": "markdown",
   "id": "43442cde",
   "metadata": {},
   "source": [
    "[5] Вычислим суммы квадратов используя следующие формулы:\n",
    "$$S^2 = \\sum\\limits_{i=1}^{k}\\sum\\limits_{j=1}^{n_i}({y}_{ij} - \\overline{Y})^2\\;\\;\\;\\;\\;\\;\\;\\;\\;\\;\\;\\;\\;\\;(4),$$\n",
    "где $S^2$ — сумма квадратов отклонений наблюдений от общего среднего\n",
    "$$S_F^2 = \\sum\\limits_{i=1}^{k}(\\overline{y}_i - \\overline{Y})^2n_i\\;\\;\\;\\;\\;\\;\\;\\;\\;\\;\\;\\;\\;\\;(5),$$\n",
    "где $S_F^2$ — сумма квадратов отклонений средних групповых значений от общего среднего значения $\\overline{Y}$\n",
    "$$S_{rest}^{2} = \\sum\\limits_{i=1}^{k}\\sum\\limits_{j=1}^{n_i}(y_{ij} - \\overline{y}_i)^2\\;\\;\\;\\;\\;\\;\\;\\;\\;\\;\\;\\;\\;\\;(6),$$\n",
    "где $S_{rest}^2$ — остаточная сумма квадратов отклонений\n",
    "\n"
   ]
  },
  {
   "cell_type": "code",
   "execution_count": 27,
   "id": "84cae932",
   "metadata": {
    "scrolled": true
   },
   "outputs": [
    {
     "name": "stdout",
     "output_type": "stream",
     "text": [
      "Сумма квадратов отклонений наблюдений от общего среднего: 𝑆2 = 830.964\n",
      "Сумма квадратов отклонений средних групповых от общего среднего: 𝑆2_𝐹 = 253.907\n",
      "Остаточная сумма квадратов отклонений: 𝑆2_𝑟𝑒𝑠𝑡 = 577.057\n"
     ]
    }
   ],
   "source": [
    "S2 = ((height - height_mean) ** 2).sum()\n",
    "S2_F = n_fp * (fp_mean - height_mean) ** 2 + n_hp * (hp_mean - height_mean) ** 2 + n_pl * (pl_mean - height_mean) ** 2\n",
    "S2_rest = ((fp - fp_mean)**2).sum() + ((hp - hp_mean) ** 2).sum() + ((pl - pl_mean) ** 2).sum()\n",
    "print(f'Сумма квадратов отклонений наблюдений от общего среднего: 𝑆2 = {round(S2, 3)}')\n",
    "print(f'Сумма квадратов отклонений средних групповых от общего среднего: 𝑆2_𝐹 = {round(S2_F, 3)}')\n",
    "print(f'Остаточная сумма квадратов отклонений: 𝑆2_𝑟𝑒𝑠𝑡 = {round(S2_rest, 3)}')"
   ]
  },
  {
   "cell_type": "markdown",
   "id": "e61832de",
   "metadata": {},
   "source": [
    "[6] Проверим правильность вычислений сопоставлением сумм квадратов отклонений:\n",
    "\n",
    "Cумма квадратов отклонений наблюдений от общего среднего дожна быть равна:\n",
    "$$S^2 = S_F^2 + S_{rest}^2\\;\\;\\;\\;\\;\\;\\;\\;\\;\\;\\;\\;\\;\\;(7)$$"
   ]
  },
  {
   "cell_type": "code",
   "execution_count": 28,
   "id": "2bdc55e1",
   "metadata": {},
   "outputs": [
    {
     "name": "stdout",
     "output_type": "stream",
     "text": [
      "𝑆2 = 253.907 + 577.057 = 830.964285714286\n",
      "Расчеты верны: 830.9642857 = 830.9642857\n"
     ]
    }
   ],
   "source": [
    "print(f'𝑆2 = {round(S2_F, 3)} + {round(S2_rest, 3)} = {S2_F + S2_rest}')\n",
    "a = round((S2_F + S2_rest), 7)\n",
    "b = round(S2, 7)\n",
    "if a == b:\n",
    "    print(f'Расчеты верны: {a} = {b}')\n",
    "else:\n",
    "    print(f'Расчетное значение ≠ найденному по формуле: {S2_F + S2_rest} ≠ {S2}')"
   ]
  },
  {
   "cell_type": "markdown",
   "id": "0b0c1ca5",
   "metadata": {},
   "source": [
    "[5] Согласно условию, переменная $\\mathbf{\\color{magenta}{height}}$ имеет $k=3$ выборок, а общее число наблюдений $n=28$.\n",
    "\n",
    "Вычислим значения дисперсий:\n",
    "$$\\sigma_{common}^{2} = \\frac{S^2}{n - 1} = \\frac{1}{n-1}\\sum\\limits_{i=1}^{k}\\sum\\limits_{j=1}^{n_i}(y_{ij} - \\overline{Y})^2\\;\\;\\;\\;\\;\\;\\;\\;\\;\\;\\;\\;\\;\\;(8),$$\n",
    "где $\\sigma_{common}^{2}$ — общая дисперсия\n",
    "$$\\sigma_{F}^{2} = \\frac{S_{F}^{2}}{k-1} = \\frac{1}{k-1}\\sum\\limits_{i=1}^{k}(\\overline{y}_i - \\overline{Y})^{2}n_i\\;\\;\\;\\;\\;\\;\\;\\;\\;\\;\\;\\;\\;\\;(9),$$\n",
    "где $\\sigma_{F}^{2}$ — факторная дисперсия\n",
    "$$\\sigma_{rest}^{2} = \\frac{S_{rest}^{2}}{n - k} = \\frac{1}{n - k}\\sum\\limits_{i=1}^{k}\\sum\\limits_{j=1}^{n_i}(y_{ij} - \\overline{y}_i)^2\\;\\;\\;\\;\\;\\;\\;\\;\\;\\;\\;\\;\\;\\;(10),$$\n",
    "где $\\sigma_{𝑟𝑒𝑠𝑡}^{2}$ — остаточная дисперсия"
   ]
  },
  {
   "cell_type": "code",
   "execution_count": 29,
   "id": "f2f01a0c",
   "metadata": {
    "scrolled": true
   },
   "outputs": [
    {
     "name": "stdout",
     "output_type": "stream",
     "text": [
      "Общая дисперсия: 𝜎2_𝑐𝑜𝑚𝑚𝑜𝑛= 30.776\n",
      "Факторная дисперсия: 𝜎2_𝐹 = 126.954\n",
      "Остаточная дисперсия: 𝜎2_𝑟𝑒𝑠𝑡 = 23.082\n"
     ]
    }
   ],
   "source": [
    "k = 3\n",
    "sig2_comm = S2 / (n_all -1)\n",
    "sig2_F = S2_F / (k - 1)\n",
    "sig2_rest = S2_rest / (n_all - k)\n",
    "print(f'Общая дисперсия: 𝜎2_𝑐𝑜𝑚𝑚𝑜𝑛= {round(sig2_comm, 3)}')\n",
    "print(f'Факторная дисперсия: 𝜎2_𝐹 = {round(sig2_F, 3)}')\n",
    "print(f'Остаточная дисперсия: 𝜎2_𝑟𝑒𝑠𝑡 = {round(sig2_rest, 3)}')"
   ]
  },
  {
   "cell_type": "markdown",
   "id": "4d961c84",
   "metadata": {},
   "source": [
    "[7] Рассчитаем значение критерия Фишера-Снедекора $F_H$:\n",
    "$$F_H = \\frac{\\sigma_{F}^{2}}{\\sigma_{ост}^{2}}\\;\\;\\;\\;\\;\\;\\;\\;\\;\\;\\;\\;\\;\\;(11),$$\n",
    "где $F_H$ — критерий Фишера-Снедекора"
   ]
  },
  {
   "cell_type": "code",
   "execution_count": 41,
   "id": "710cf8e8",
   "metadata": {
    "scrolled": false
   },
   "outputs": [
    {
     "name": "stdout",
     "output_type": "stream",
     "text": [
      " Рассчетное значение критерия Фишера-Снедекора 𝐹_𝐻 = 5.50005\n"
     ]
    }
   ],
   "source": [
    "F_H = sig2_F / sig2_rest\n",
    "print(f' Рассчетное значение критерия Фишера-Снедекора 𝐹_𝐻 = {round(F_H, 5)}')"
   ]
  },
  {
   "cell_type": "markdown",
   "id": "c9a5315d",
   "metadata": {},
   "source": [
    "[8] Проверим правильность расчета $F_H$ с помощью функции $\\mathbf{\\color{green}{stats.f\\_oneway}}$ из пакета $\\mathbf{\\color{darkblue}{scipy}}$:"
   ]
  },
  {
   "cell_type": "code",
   "execution_count": 38,
   "id": "d16beb5f",
   "metadata": {
    "scrolled": true
   },
   "outputs": [
    {
     "data": {
      "text/plain": [
       "F_onewayResult(statistic=5.500053450812596, pvalue=0.010482206918698694)"
      ]
     },
     "execution_count": 38,
     "metadata": {},
     "output_type": "execute_result"
    }
   ],
   "source": [
    "stats.f_oneway(fp, hp, pl)"
   ]
  },
  {
   "cell_type": "markdown",
   "id": "41eb9728",
   "metadata": {},
   "source": [
    "Расчет $F_H$ произведен верно."
   ]
  },
  {
   "cell_type": "markdown",
   "id": "e697f4a0",
   "metadata": {},
   "source": [
    "[9] Найдем $F_{crit}$ из таблицы критических точек распределения Фишера-Снедекора для заданного уровня значимости $\\alpha=0.05$ двух степеней свободы $df_{inter} = k - 1=3-1=2$ (относится к числителю соотношения) и $df_{inner} = n - k=28-3=25$ (относится к знаменателю):\n",
    "\n",
    "$F_{crit}=5.57$\n",
    "\n",
    "[10] Сравним значения $F_H$ и $F_{crit}$:"
   ]
  },
  {
   "cell_type": "code",
   "execution_count": null,
   "id": "53626a3b",
   "metadata": {},
   "outputs": [],
   "source": [
    "#ax.annotate('local max', xy=(2, 1), xytext=(3, 1.5),\n",
    "#            arrowprops=dict(facecolor='black', shrink=0.05),\n",
    "#            )\n",
    "#ax.set_xlim(0, 4)"
   ]
  },
  {
   "cell_type": "markdown",
   "id": "4823f9c4",
   "metadata": {},
   "source": [
    "$F_H=5.50$ меньше $F_{crit}=5.57$, следовательно верна нулевая гипотеза $H_0$: средний рост спорстменов не зависит от спортивной дисциплины ($\\mu_1 = \\mu_2 = \\mu_3$)."
   ]
  },
  {
   "cell_type": "markdown",
   "id": "bf9370c3",
   "metadata": {},
   "source": [
    "## Ответ 8-1:\n",
    "### Верна нулевая гипотеза $H_0$: средний рост спорстменов не зависит от спортивной дисциплины ($\\mu_1 = \\mu_2 = \\mu_3$)."
   ]
  },
  {
   "cell_type": "code",
   "execution_count": null,
   "id": "b0dd183f",
   "metadata": {},
   "outputs": [],
   "source": []
  }
 ],
 "metadata": {
  "kernelspec": {
   "display_name": "Python 3",
   "language": "python",
   "name": "python3"
  },
  "language_info": {
   "codemirror_mode": {
    "name": "ipython",
    "version": 3
   },
   "file_extension": ".py",
   "mimetype": "text/x-python",
   "name": "python",
   "nbconvert_exporter": "python",
   "pygments_lexer": "ipython3",
   "version": "3.8.8"
  }
 },
 "nbformat": 4,
 "nbformat_minor": 5
}
