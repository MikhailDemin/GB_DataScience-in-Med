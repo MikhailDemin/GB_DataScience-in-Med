{
 "cells": [
  {
   "cell_type": "markdown",
   "id": "6981dd4e",
   "metadata": {},
   "source": [
    "## Задача 8-1.\n",
    "Провести дисперсионный анализ для определения того, есть ли различия среднего роста среди взрослых футболистов, хоккеистов и штангистов. Даны значения роста в трех группах случайно выбранных спортсменов: Футболисты: 173, 175, 180, 178, 177, 185, 183, 182. Хоккеисты: 177, 179, 180, 188, 177, 172, 171, 184, 180. Штангисты: 172, 173, 169, 177, 166, 180, 178, 177, 172, 166, 170."
   ]
  },
  {
   "cell_type": "markdown",
   "id": "0b6268cf",
   "metadata": {},
   "source": [
    "## Решение:\n",
    "1) [1] Вычислим ковариацию полученных данных согласно формуле:"
   ]
  },
  {
   "cell_type": "code",
   "execution_count": null,
   "id": "119a4c59",
   "metadata": {},
   "outputs": [],
   "source": []
  },
  {
   "cell_type": "markdown",
   "id": "bf9370c3",
   "metadata": {},
   "source": [
    "## Ответ 7-1:\n",
    "### 1) Ковариация равна: $\\mathsf{cov_{zp,\\:ks}} = 9157.84$"
   ]
  },
  {
   "cell_type": "code",
   "execution_count": null,
   "id": "4e4386ce",
   "metadata": {},
   "outputs": [],
   "source": []
  }
 ],
 "metadata": {
  "kernelspec": {
   "display_name": "Python 3",
   "language": "python",
   "name": "python3"
  },
  "language_info": {
   "codemirror_mode": {
    "name": "ipython",
    "version": 3
   },
   "file_extension": ".py",
   "mimetype": "text/x-python",
   "name": "python",
   "nbconvert_exporter": "python",
   "pygments_lexer": "ipython3",
   "version": "3.8.8"
  }
 },
 "nbformat": 4,
 "nbformat_minor": 5
}
