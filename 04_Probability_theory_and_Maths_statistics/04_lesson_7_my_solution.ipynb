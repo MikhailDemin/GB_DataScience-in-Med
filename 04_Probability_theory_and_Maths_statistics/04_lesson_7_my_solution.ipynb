{
 "cells": [
  {
   "cell_type": "code",
   "execution_count": 1,
   "id": "f0584970",
   "metadata": {},
   "outputs": [],
   "source": [
    "import numpy as np\n",
    "import matplotlib.pyplot as plt"
   ]
  },
  {
   "cell_type": "markdown",
   "id": "e3f0250e",
   "metadata": {},
   "source": [
    "## Задача 7-1.\n",
    "Даны значения величины заработной платы заемщиков банка (zp) и значения их поведенческого кредитного скоринга (ks): zp = [35, 45, 190, 200, 40, 70, 54, 150, 120, 110], ks = [401, 574, 874, 919, 459, 739, 653, 902, 746, 832]. Используя математические операции, посчитать коэффициенты линейной регрессии, приняв за X заработную плату (то есть, zp - признак), а за y - значения скорингового балла (то есть, ks - целевая переменная). Произвести расчет как с использованием intercept, так и без."
   ]
  },
  {
   "cell_type": "markdown",
   "id": "d3b6e868",
   "metadata": {},
   "source": [
    "## Решение:\n",
    "#### [A] Найдем коэффициенты линейной регрессии с помощью формул для парной регрессии:\n",
    "\n",
    "###### 1) Запишем уравнение линейной регрессии:\n",
    "$$\\widehat{y} = \\beta_0 + \\beta_1 \\cdot x,$$ где $y$ - значения поведенческого кредитного скоринга заемщиков (ks), $x$ - значения величины заработной платы заемщиков банка (zp)\n",
    "\n",
    "###### 2) Для парной регрессии коэффициенты вычисляются по формулам:\n",
    "$$\\beta_1 = \\frac{\\overline{yx} - \\overline y \\cdot \\overline x}{\\overline{x^2} - (\\overline x)^2}, \\: \\beta_0 = \\overline y - \\beta_1 \\cdot {\\overline x},$$где $x$, $y$ — данные из выборки, а $\\overline{x},\\:\\overline{y}$ обозначают выборочное среднее"
   ]
  },
  {
   "cell_type": "code",
   "execution_count": 2,
   "id": "822cb531",
   "metadata": {},
   "outputs": [
    {
     "name": "stdout",
     "output_type": "stream",
     "text": [
      "Коэффициенты линейной регрессии: 𝛽0 = 444.177, 𝛽1 = 2.621\n"
     ]
    }
   ],
   "source": [
    "zp = np.array([35, 45, 190, 200, 40, 70, 54, 150, 120, 110])\n",
    "ks = np.array([401, 574, 874, 919, 459, 739, 653, 902, 746, 832])\n",
    "b_1 = (np.mean(zp*ks) - np.mean(zp)*np.mean(ks))/(np.mean(zp**2)-np.mean(zp)**2)\n",
    "b_0 = np.mean(ks) - b_1*np.mean(zp)\n",
    "print(f'Коэффициенты линейной регрессии: 𝛽0 = {round(b_0, 3)}, 𝛽1 = {round(b_1, 3)}')"
   ]
  },
  {
   "cell_type": "code",
   "execution_count": 3,
   "id": "db7aad25",
   "metadata": {},
   "outputs": [
    {
     "data": {
      "image/png": "[encoded data removed]",
      "text/plain": [
       "<Figure size 432x288 with 1 Axes>"
      ]
     },
     "metadata": {
      "needs_background": "light"
     },
     "output_type": "display_data"
    }
   ],
   "source": [
    "%matplotlib inline\n",
    "plt.scatter(zp, ks)\n",
    "ox = zp\n",
    "oy = b_0+b_1*zp\n",
    "plt.plot(ox, oy, color='red')\n",
    "plt.show()"
   ]
  },
  {
   "cell_type": "markdown",
   "id": "b0a4a1b9",
   "metadata": {},
   "source": [
    "#### [Б] Найдем коэффициенты линейной регрессии матричным методом:\n",
    "#### а) без интерсепта:\n",
    "###### 1) Запишем уравнение линейной регрессии без интерсепта:\n",
    "$$\\widehat y = \\beta_1 \\cdot x,$$ где $y$ - значения поведенческого кредитного скоринга заемщиков (ks), $x$ - значения величины заработной платы заемщиков банка (zp)\n",
    "\n",
    "###### 2) Вычисление коэффициента $\\beta_1$ (без интерсепта) производится с помощью матрицы вида:\n",
    "$$\\begin{pmatrix} y_1 \\\\ y_2 \\\\ \\vdots\\\\ y_n \\end{pmatrix}=\\begin{pmatrix} x_1 \\\\ x_2 \\\\ \\vdots\\\\ x_n \\end{pmatrix} \\bullet \\begin{pmatrix} \\; \\\\ \\beta_1 \\\\ \\; \\\\ \\; \\end{pmatrix}$$\n",
    "\n",
    "Тогда формула для вычисления коэффициента примет вид:\n",
    "$$\\widehat B = \\left(X^T \\cdot X\\right)^{-1} \\cdot X^T \\cdot Y,$$ где $\\widehat B$ - коэффициент $\\beta_1$ уравнения, $X^T$ - транспонированная матрица значений заработной платы заемщиков банка (zp)"
   ]
  },
  {
   "cell_type": "code",
   "execution_count": 4,
   "id": "e076f63f",
   "metadata": {},
   "outputs": [],
   "source": [
    "#print(dir(np.dot))\n",
    "#print (np.dot.__doc__)\n",
    "#print (np.linalg.inv.__doc__)\n",
    "#print (np.reshape.__doc__)"
   ]
  },
  {
   "cell_type": "code",
   "execution_count": 5,
   "id": "3f0ed0e0",
   "metadata": {
    "scrolled": true
   },
   "outputs": [
    {
     "name": "stdout",
     "output_type": "stream",
     "text": [
      "Значения величины заработной платы заемщиков банка (zp):\n",
      "[[ 35]\n",
      " [ 45]\n",
      " [190]\n",
      " [200]\n",
      " [ 40]\n",
      " [ 70]\n",
      " [ 54]\n",
      " [150]\n",
      " [120]\n",
      " [110]]\n",
      "Значения поведенческого кредитного скоринга заемщиков (ks):\n",
      "[[401]\n",
      " [574]\n",
      " [874]\n",
      " [919]\n",
      " [459]\n",
      " [739]\n",
      " [653]\n",
      " [902]\n",
      " [746]\n",
      " [832]]\n",
      "Коэффициент линейной регрессии (без интерсепта): 𝛽1 = [[5.88982042]]\n"
     ]
    }
   ],
   "source": [
    "X = zp.reshape((10,1))\n",
    "Y = ks.reshape((10,1))\n",
    "B_1_no_int = np.dot(np.linalg.inv(np.dot(X.T, X)), X.T @ Y)\n",
    "print(f'Значения величины заработной платы заемщиков банка (zp):')\n",
    "print(X)\n",
    "print(f'Значения поведенческого кредитного скоринга заемщиков (ks):')\n",
    "print(Y)\n",
    "print(f'Коэффициент линейной регрессии (без интерсепта): 𝛽1 = {B_1_no_int}')"
   ]
  },
  {
   "cell_type": "markdown",
   "id": "24cfdb27",
   "metadata": {},
   "source": [
    "#### б) с интерсептом:\n",
    "###### 1) Запишем уравнение линейной регрессии с интерсептом:\n",
    "$$\\widehat{y} = \\beta_0 + \\beta_1 \\cdot x,$$ где $y$ - значения поведенческого кредитного скоринга заемщиков (ks), $x$ - значения величины заработной платы заемщиков банка (zp)\n",
    "\n",
    "###### 2) Вычисление коэффициентов $\\beta_0$ и $\\beta_1$ производится с помощью матрицы вида:\n",
    "$$\\begin{pmatrix} y_1 \\\\ y_2 \\\\ \\vdots\\\\ y_n \\end{pmatrix}=\\begin{pmatrix} 1 & x_1 \\\\ 1 & x_2 \\\\ \\vdots & \\vdots\\\\ 1 & x_n \\end{pmatrix} \\bullet \\begin{pmatrix} \\; \\\\ \\beta_0 \\\\ \\beta_1 \\\\ \\; \\end{pmatrix}$$\n",
    "\n",
    "Формула для вычисления коэффициентов не меняется и имеет вид:\n",
    "$$\\widehat B = \\left(X^T \\cdot X\\right)^{-1} \\cdot X^T \\cdot Y,$$ где $\\widehat B$ - коэффициент $\\beta_1$ уравнения, $X^T$ - транспонированная матрица значений заработной платы заемщиков банка (zp)"
   ]
  },
  {
   "cell_type": "code",
   "execution_count": 6,
   "id": "871fe8b9",
   "metadata": {},
   "outputs": [
    {
     "data": {
      "text/plain": [
       "array([[  1.,  35.],\n",
       "       [  1.,  45.],\n",
       "       [  1., 190.],\n",
       "       [  1., 200.],\n",
       "       [  1.,  40.],\n",
       "       [  1.,  70.],\n",
       "       [  1.,  54.],\n",
       "       [  1., 150.],\n",
       "       [  1., 120.],\n",
       "       [  1., 110.]])"
      ]
     },
     "execution_count": 6,
     "metadata": {},
     "output_type": "execute_result"
    }
   ],
   "source": [
    "X_1 = np.hstack([np.ones((10, 1)), X])\n",
    "X_1"
   ]
  },
  {
   "cell_type": "code",
   "execution_count": 7,
   "id": "bb5934ea",
   "metadata": {},
   "outputs": [
    {
     "name": "stdout",
     "output_type": "stream",
     "text": [
      "Коэффициенты линейной регрессии (с интерсептом): 𝛽0, 𝛽1 = [[444.17735732]\n",
      " [  2.62053888]]\n"
     ]
    }
   ],
   "source": [
    "B_w_int = np.dot(np.linalg.inv(np.dot(X_1.T, X_1)), X_1.T @ Y)\n",
    "print(f'Коэффициенты линейной регрессии (с интерсептом): 𝛽0, 𝛽1 = {B_w_int}')"
   ]
  },
  {
   "cell_type": "markdown",
   "id": "9fa54315",
   "metadata": {},
   "source": [
    "## Ответ 7-1:\n",
    "### Уравнение линейной регрессии с найденными коэффициентами:\n",
    "- без интересепта: $\\widehat y = 5.89 x$\n",
    "- с интерсептом: $\\widehat{y} = 444.177 + 2.621 x$"
   ]
  },
  {
   "cell_type": "markdown",
   "id": "3e523dcc",
   "metadata": {},
   "source": [
    "## Задача 7-2.\n",
    "Посчитать коэффициент линейной регрессии при заработной плате (zp), используя градиентный спуск (без intercept)."
   ]
  },
  {
   "cell_type": "markdown",
   "id": "4f355760",
   "metadata": {},
   "source": [
    "## Решение:\n",
    "###### Запишем уравнение линейной регрессии без интерсепта:\n",
    "$$\\widehat y = \\beta_1 \\cdot x,$$ где $y$ - значения поведенческого кредитного скоринга заемщиков (ks), $x$ - значения величины заработной платы заемщиков банка (zp)"
   ]
  },
  {
   "cell_type": "code",
   "execution_count": 8,
   "id": "12aa0705",
   "metadata": {},
   "outputs": [
    {
     "name": "stdout",
     "output_type": "stream",
     "text": [
      "Скорость обучения: 𝛼 = 1e-06\n"
     ]
    }
   ],
   "source": [
    "n = len(zp)\n",
    "B1 = 0.1\n",
    "alpha = 1e-6\n",
    "print(f'Скорость обучения: 𝛼 = {alpha}')"
   ]
  },
  {
   "cell_type": "code",
   "execution_count": 9,
   "id": "db711a1b",
   "metadata": {},
   "outputs": [],
   "source": [
    "def mse_(B1, ks=ks, zp=zp, n=10):\n",
    "    return np.sum((B1 * zp - ks) ** 2) / n"
   ]
  },
  {
   "cell_type": "code",
   "execution_count": 10,
   "id": "1795cb96",
   "metadata": {},
   "outputs": [
    {
     "name": "stdout",
     "output_type": "stream",
     "text": [
      "Итерация: 0, B1 = 0.25952808, mse = 493237.7212546963\n",
      "Итерация: 2000, B1 = 5.889820420132673, mse = 56516.85841571943\n",
      "Итерация: 4000, B1 = 5.889820420132673, mse = 56516.85841571943\n",
      "Итерация: 6000, B1 = 5.889820420132673, mse = 56516.85841571943\n",
      "Итерация: 8000, B1 = 5.889820420132673, mse = 56516.85841571943\n",
      "Итерация: 10000, B1 = 5.889820420132673, mse = 56516.85841571943\n"
     ]
    }
   ],
   "source": [
    "for i in range (10001):\n",
    "    B1 -= alpha * (2/n) * np.sum((B1 *zp - ks) * zp)\n",
    "    if i % 2000==0:\n",
    "        print('Итерация: {i}, B1 = {B1}, mse = {mse}'.format(i = i, B1 = B1, mse = mse_(B1)))"
   ]
  },
  {
   "cell_type": "markdown",
   "id": "00675cef",
   "metadata": {},
   "source": [
    "## Ответ 7-2:\n",
    "### Коэффициент $\\beta_1$ найденный методом градиентного спуска (без интерсепта): $\\beta_1 = 5.89$"
   ]
  },
  {
   "cell_type": "markdown",
   "id": "c915a565",
   "metadata": {},
   "source": [
    "## Задача 7-3*.\n",
    "Произвести вычисления как в пункте 2, но с вычислением intercept. Учесть, что изменение коэффициентов должно производиться на каждом шаге одновременно (то есть изменение одного коэффициента не должно влиять на изменение другого во время одной итерации)."
   ]
  },
  {
   "cell_type": "markdown",
   "id": "4ad03918",
   "metadata": {},
   "source": [
    "## Решение:\n",
    "###### Запишем уравнение линейной регрессии с интерсептом:\n",
    "$$\\widehat{y} = \\beta_0 + \\beta_1 \\cdot x,$$ где $y$ - значения поведенческого кредитного скоринга заемщиков (ks), $x$ - значения величины заработной платы заемщиков банка (zp)"
   ]
  },
  {
   "cell_type": "code",
   "execution_count": 11,
   "id": "be387bcf",
   "metadata": {},
   "outputs": [
    {
     "name": "stdout",
     "output_type": "stream",
     "text": [
      "Скорость обучения: 𝛼 = 5e-06\n"
     ]
    }
   ],
   "source": [
    "alpha = 5e-6\n",
    "print(f'Скорость обучения: 𝛼 = {alpha}')"
   ]
  },
  {
   "cell_type": "code",
   "execution_count": 12,
   "id": "571f790b",
   "metadata": {},
   "outputs": [],
   "source": [
    "B0 = 0.1\n",
    "B1 = 0.1\n",
    "\n",
    "def mse_(B0, B1, ks=ks, zp=zp, n=10):\n",
    "    return np.sum((B0 + B1 * zp - ks) ** 2) / n"
   ]
  },
  {
   "cell_type": "code",
   "execution_count": 13,
   "id": "3c094aa3",
   "metadata": {},
   "outputs": [
    {
     "name": "stdout",
     "output_type": "stream",
     "text": [
      "Итерация: 0, B0 = 0.10699660000000001, B1 = 0.8975390000000001, mse = 399736.8945969929\n",
      "Итерация: 300000, B0 = 236.7158499652068, B1 = 4.147547300567454, mse = 17388.2222155033\n",
      "Итерация: 600000, B0 = 347.2471366420882, B1 = 3.3339881619365928, mse = 8853.714668002625\n",
      "Итерация: 900000, B0 = 398.8895938201226, B1 = 2.9538768446643724, mse = 6990.676245326846\n",
      "Итерация: 1200000, B0 = 423.01799640699176, B1 = 2.7762811338454414, mse = 6583.984688134168\n",
      "Итерация: 1500000, B0 = 434.291275085185, B1 = 2.693304818571127, mse = 6495.206045311317\n",
      "Итерация: 1800000, B0 = 439.55837934948744, B1 = 2.6545366024652957, mse = 6475.8261312657405\n",
      "Итерация: 2100000, B0 = 442.0192772056387, B1 = 2.636423306218581, mse = 6471.595597249101\n",
      "Итерация: 2400000, B0 = 443.16905855694154, B1 = 2.6279604071254554, mse = 6470.67209376895\n",
      "Итерация: 2700000, B0 = 443.7062597058993, B1 = 2.6240063691588547, mse = 6470.470497782609\n",
      "Итерация: 3000000, B0 = 443.95725096967476, B1 = 2.622158962487855, mse = 6470.42649043171\n",
      "Итерация: 3300000, B0 = 444.0745191747448, B1 = 2.621295816651287, mse = 6470.416883856849\n",
      "Итерация: 3600000, B0 = 444.12930925673925, B1 = 2.620892537423722, mse = 6470.414786791736\n",
      "Итерация: 3900000, B0 = 444.1549082934155, B1 = 2.620704117195801, mse = 6470.414329013371\n"
     ]
    }
   ],
   "source": [
    "for i in range (3900001):\n",
    "    ks_pred = B0 + B1 * zp\n",
    "    B0 -= alpha * (2/n) * np.sum(ks_pred - ks)\n",
    "    B1 -= alpha * (2/n) * np.sum((ks_pred - ks) * zp)\n",
    "    if i % 300000==0:\n",
    "        print('Итерация: {i}, B0 = {B0}, B1 = {B1}, mse = {mse}'.format(i = i, B0 = B0, B1 = B1, mse = mse_(B0, B1)))"
   ]
  },
  {
   "cell_type": "markdown",
   "id": "74040650",
   "metadata": {},
   "source": [
    "## Ответ 7-3*:\n",
    "### Коэффициенты $\\beta_0$ и $\\beta_1$ найденные методом градиентного спуска (с интерсептом): $\\beta_0 = 444.155$, $\\beta_1 = 2.621$"
   ]
  },
  {
   "cell_type": "code",
   "execution_count": null,
   "id": "790ab719",
   "metadata": {},
   "outputs": [],
   "source": []
  }
 ],
 "metadata": {
  "kernelspec": {
   "display_name": "Python 3",
   "language": "python",
   "name": "python3"
  },
  "language_info": {
   "codemirror_mode": {
    "name": "ipython",
    "version": 3
   },
   "file_extension": ".py",
   "mimetype": "text/x-python",
   "name": "python",
   "nbconvert_exporter": "python",
   "pygments_lexer": "ipython3",
   "version": "3.8.10"
  }
 },
 "nbformat": 4,
 "nbformat_minor": 5
}
