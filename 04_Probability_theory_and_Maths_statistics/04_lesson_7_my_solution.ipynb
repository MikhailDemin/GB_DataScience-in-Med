{
 "cells": [
  {
   "cell_type": "markdown",
   "id": "23a978ae",
   "metadata": {},
   "source": [
    "## Задача 7-1.\n",
    "Даны значения величины заработной платы заемщиков банка (zp) и значения их поведенческого кредитного скоринга (ks): zp = [35, 45, 190, 200, 40, 70, 54, 150, 120, 110], ks = [401, 574, 874, 919, 459, 739, 653, 902, 746, 832]. Используя математические операции, посчитать коэффициенты линейной регрессии, приняв за X заработную плату (то есть, zp - признак), а за y - значения скорингового балла (то есть, ks - целевая переменная). Произвести расчет как с использованием intercept, так и без."
   ]
  },
  {
   "cell_type": "markdown",
   "id": "d3b6e868",
   "metadata": {},
   "source": [
    "## Решение:\n",
    "1) [1] Вычислим ковариацию полученных данных согласно формуле:"
   ]
  },
  {
   "cell_type": "code",
   "execution_count": null,
   "id": "822cb531",
   "metadata": {},
   "outputs": [],
   "source": []
  },
  {
   "cell_type": "markdown",
   "id": "9fa54315",
   "metadata": {},
   "source": [
    "## Ответ 7-1:\n",
    "### 1) Ковариация равна: $\\mathsf{cov_{zp,\\:ks}} = 9157.84$"
   ]
  },
  {
   "cell_type": "markdown",
   "id": "3e523dcc",
   "metadata": {},
   "source": [
    "## Задача 7-2.\n",
    "Посчитать коэффициент линейной регрессии при заработной плате (zp), используя градиентный спуск (без intercept)."
   ]
  },
  {
   "cell_type": "markdown",
   "id": "4f355760",
   "metadata": {},
   "source": [
    "## Решение:\n",
    "1) [1] Вычислим ковариацию полученных данных согласно формуле:"
   ]
  },
  {
   "cell_type": "code",
   "execution_count": null,
   "id": "db711a1b",
   "metadata": {},
   "outputs": [],
   "source": []
  },
  {
   "cell_type": "markdown",
   "id": "00675cef",
   "metadata": {},
   "source": [
    "## Ответ 7-2:\n",
    "### 1) Ковариация равна: $\\mathsf{cov_{zp,\\:ks}} = 9157.84$"
   ]
  },
  {
   "cell_type": "markdown",
   "id": "c915a565",
   "metadata": {},
   "source": [
    "## Задача 7-3*.\n",
    "Произвести вычисления как в пункте 2, но с вычислением intercept. Учесть, что изменение коэффициентов должно производиться на каждом шаге одновременно (то есть изменение одного коэффициента не должно влиять на изменение другого во время одной итерации)."
   ]
  },
  {
   "cell_type": "markdown",
   "id": "4ad03918",
   "metadata": {},
   "source": [
    "## Решение:\n",
    "1) [1] Вычислим ковариацию полученных данных согласно формуле:"
   ]
  },
  {
   "cell_type": "code",
   "execution_count": null,
   "id": "571f790b",
   "metadata": {},
   "outputs": [],
   "source": []
  },
  {
   "cell_type": "markdown",
   "id": "74040650",
   "metadata": {},
   "source": [
    "## Ответ 7-3*:\n",
    "### 1) Ковариация равна: $\\mathsf{cov_{zp,\\:ks}} = 9157.84$"
   ]
  },
  {
   "cell_type": "markdown",
   "id": "5a1e4de4",
   "metadata": {},
   "source": []
  },
  {
   "cell_type": "markdown",
   "id": "bbcaf936",
   "metadata": {},
   "source": []
  },
  {
   "cell_type": "code",
   "execution_count": null,
   "id": "b270f944",
   "metadata": {},
   "outputs": [],
   "source": []
  },
  {
   "cell_type": "code",
   "execution_count": null,
   "id": "3168daf5",
   "metadata": {},
   "outputs": [],
   "source": []
  },
  {
   "cell_type": "code",
   "execution_count": null,
   "id": "fac9443c",
   "metadata": {},
   "outputs": [],
   "source": []
  },
  {
   "cell_type": "code",
   "execution_count": null,
   "id": "c7495682",
   "metadata": {},
   "outputs": [],
   "source": []
  },
  {
   "cell_type": "code",
   "execution_count": null,
   "id": "60bcf10b",
   "metadata": {},
   "outputs": [],
   "source": []
  },
  {
   "cell_type": "code",
   "execution_count": null,
   "id": "536e5d98",
   "metadata": {},
   "outputs": [],
   "source": []
  }
 ],
 "metadata": {
  "kernelspec": {
   "display_name": "Python 3",
   "language": "python",
   "name": "python3"
  },
  "language_info": {
   "codemirror_mode": {
    "name": "ipython",
    "version": 3
   },
   "file_extension": ".py",
   "mimetype": "text/x-python",
   "name": "python",
   "nbconvert_exporter": "python",
   "pygments_lexer": "ipython3",
   "version": "3.8.8"
  }
 },
 "nbformat": 4,
 "nbformat_minor": 5
}
