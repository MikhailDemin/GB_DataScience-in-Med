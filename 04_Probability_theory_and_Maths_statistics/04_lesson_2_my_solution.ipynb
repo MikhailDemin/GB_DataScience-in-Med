{
 "cells": [
  {
   "cell_type": "markdown",
   "metadata": {},
   "source": [
    "## Задача 2-1. \n",
    "Вероятность того, что стрелок попадет в мишень, выстрелив один раз, равна 0.8. Стрелок выстрелил 100 раз. Найдите вероятность того, что стрелок попадет в цель ровно 85 раз."
   ]
  },
  {
   "cell_type": "markdown",
   "metadata": {},
   "source": [
    "### Решение:\n",
    "[1] Найдем биномиальное распределение по формуле Бернулли:\n",
    "$$P_n(X=k)=C_n^kp^kq^{n-k}=C_{100}^{85}*{0,8}^{85}*{0,2}^{100-85}={\\frac{100!}{85!(100-85)!}}*{0,8}^{85}*{0,2}^{15}$$"
   ]
  },
  {
   "cell_type": "code",
   "execution_count": 69,
   "metadata": {
    "scrolled": true
   },
   "outputs": [
    {
     "name": "stdout",
     "output_type": "stream",
     "text": [
      "p = 0.8\n",
      "q = 0.2\n",
      "n = 100\n",
      "k = 85\n",
      "Число сочетаний благоприятных исходов C_100^85 = 2.5333847134998864e+17\n",
      "Вероятность того, что стрелок попадет в цель ровно 85 раз: 0.04806\n"
     ]
    }
   ],
   "source": [
    "from math import factorial as fact\n",
    "def b_spread(p,k,n):\n",
    "    q = round((1 - p), 1)\n",
    "    return print(f'p = {p}\\n'\n",
    "                 f'q = {q}\\n'\n",
    "                 f'n = {n}\\n'\n",
    "                 f'k = {k}\\n'\n",
    "                 f'Число сочетаний благоприятных исходов C_100^85 = {fact(n) / (fact(k)*fact(n-k))}\\n'\n",
    "                 f'Вероятность того, что стрелок попадет в цель ровно 85 раз: '\n",
    "                 f'{round((fact(n) / (fact(k)*fact(n-k)) * p**k * q**(n-k)), 5)}')\n",
    "b_spread(0.8,85,100)"
   ]
  },
  {
   "cell_type": "markdown",
   "metadata": {},
   "source": [
    "#### Ответ 2-1: вероятность того, что стрелок попадет в цель ровно 85 раз составляет 4,806%"
   ]
  },
  {
   "cell_type": "markdown",
   "metadata": {},
   "source": [
    "## Задача 2-2. \n",
    "Вероятность того, что лампочка перегорит в течение первого дня эксплуатации, равна 0.0004. В жилом комплексе после ремонта в один день включили 5000 новых лампочек."
   ]
  },
  {
   "cell_type": "markdown",
   "metadata": {},
   "source": [
    "а) Какова вероятность, что ни одна из них не перегорит в первый день?"
   ]
  },
  {
   "cell_type": "markdown",
   "metadata": {},
   "source": [
    "### Решение:\n",
    "[1] Так как вероятность перегорания лампы 0.0004 < 0.1 воспользуемся распределением Пуассона:\n",
    "$$\\lambda=5000*0.0004=2$$\n",
    "$$P_m\\approx{\\frac{\\lambda^m}{m!}}{e^{-\\lambda}}={\\frac{2^0}{0!}}*{2,71828^{-2}}$$"
   ]
  },
  {
   "cell_type": "code",
   "execution_count": 6,
   "metadata": {
    "scrolled": true
   },
   "outputs": [
    {
     "name": "stdout",
     "output_type": "stream",
     "text": [
      "p = 0.0004\n",
      "n = 5000\n",
      "lambda = 2.0\n",
      "m = 0\n",
      "Вероятность того, что перегорят ровно две лампочки: 0.1353352832366127\n"
     ]
    }
   ],
   "source": [
    "from math import factorial as fact\n",
    "import numpy as np\n",
    "def p_spread(n, p, m):\n",
    "    lmbd = n * p\n",
    "    return print(f'p = {p}\\n'\n",
    "                 f'n = {n}\\n'\n",
    "                 f'lambda = {lmbd}\\n'\n",
    "                 f'm = {m}\\n'\n",
    "                 f'Вероятность того, что перегорят ровно две лампочки: '\n",
    "                 f'{(lmbd ** m / fact(m)) * np.exp(-lmbd)}')\n",
    "p_spread(5000,0.0004,0)"
   ]
  },
  {
   "cell_type": "markdown",
   "metadata": {},
   "source": [
    "#### Ответ 2-2а: вероятность того, что ни одна из лампочек не перегорит в первый день составляет 13,53%"
   ]
  },
  {
   "cell_type": "markdown",
   "metadata": {},
   "source": [
    "б) Какова вероятность, что перегорят ровно две?"
   ]
  },
  {
   "cell_type": "markdown",
   "metadata": {},
   "source": [
    "### Решение:\n",
    "[1] Так как вероятность перегорания лампы 0.0004 < 0.1 воспользуемся распределением Пуассона:\n",
    "$$\\lambda=5000*0.0004=2$$\n",
    "$$P_m\\approx{\\frac{\\lambda^m}{m!}}{e^{-\\lambda}}={\\frac{2^2}{2!}}*{2,71828^{-2}}$$"
   ]
  },
  {
   "cell_type": "code",
   "execution_count": 5,
   "metadata": {},
   "outputs": [
    {
     "name": "stdout",
     "output_type": "stream",
     "text": [
      "p = 0.0004\n",
      "n = 5000\n",
      "lambda = 2.0\n",
      "m = 2\n",
      "Вероятность того, что перегорят ровно две лампочки: 0.2706705664732254\n"
     ]
    }
   ],
   "source": [
    "from math import factorial as fact\n",
    "import numpy as np\n",
    "def p_spread(n, p, m):\n",
    "    lmbd = n * p\n",
    "    return print(f'p = {p}\\n'\n",
    "                 f'n = {n}\\n'\n",
    "                 f'lambda = {lmbd}\\n'\n",
    "                 f'm = {m}\\n'\n",
    "                 f'Вероятность того, что перегорят ровно две лампочки: '\n",
    "                 f'{(lmbd ** m / fact(m)) * np.exp(-lmbd)}')\n",
    "p_spread(5000,0.0004,2)"
   ]
  },
  {
   "cell_type": "markdown",
   "metadata": {},
   "source": [
    "#### Ответ 2-2б: вероятность того, что перегорят ровно две лампочки составляет 27,067%"
   ]
  },
  {
   "cell_type": "markdown",
   "metadata": {},
   "source": [
    "## Задача 2-3. \n",
    "Монету подбросили 144 раза. Какова вероятность, что орел выпадет ровно 70 раз?"
   ]
  },
  {
   "cell_type": "markdown",
   "metadata": {},
   "source": [
    "### Решение:\n",
    "[1] Найдем биномиальное распределение по формуле Бернулли:\n",
    "$$P_n(X=k)=C_n^kp^kq^{n-k}=C_{144}^{70}*{0,5}^{70}*{0,5}^{144-70}={\\frac{144!}{70!(144-70)!}}*{0,5}^{70}*{0,5}^{74}$$"
   ]
  },
  {
   "cell_type": "code",
   "execution_count": 70,
   "metadata": {},
   "outputs": [
    {
     "name": "stdout",
     "output_type": "stream",
     "text": [
      "p = 0.5\n",
      "q = 0.5\n",
      "n = 144\n",
      "k = 70\n",
      "Число сочетаний благоприятных исходов C_144^70 = 1.4007495090837087e+42\n",
      "Вероятность того, что орел выпадет ровно 70 раз: 0.06281\n"
     ]
    }
   ],
   "source": [
    "from math import factorial as fact\n",
    "def b_spread(p,k,n):\n",
    "    q = round((1 - p), 1)\n",
    "    return print(f'p = {p}\\n'\n",
    "                 f'q = {q}\\n'\n",
    "                 f'n = {n}\\n'\n",
    "                 f'k = {k}\\n'\n",
    "                 f'Число сочетаний благоприятных исходов C_144^70 = {fact(n) / (fact(k)*fact(n-k))}\\n'\n",
    "                 f'Вероятность того, что орел выпадет ровно 70 раз: '\n",
    "                 f'{round((fact(n) / (fact(k)*fact(n-k)) * p**k * q**(n-k)), 5)}')\n",
    "b_spread(0.5,70,144)"
   ]
  },
  {
   "cell_type": "markdown",
   "metadata": {},
   "source": [
    "#### Ответ 2-3: вероятность того, что орел выпадет ровно 70 раз составляет 6,281%"
   ]
  },
  {
   "cell_type": "markdown",
   "metadata": {},
   "source": [
    "## Задача 2-4. \n",
    "В первом ящике находится 10 мячей, из которых 7 - белые. Во втором ящике - 11 мячей, из которых 9 белых. Из каждого ящика вытаскивают случайным образом по два мяча."
   ]
  },
  {
   "cell_type": "markdown",
   "metadata": {},
   "source": [
    "а) Какова вероятность того, что все мячи белые?"
   ]
  },
  {
   "cell_type": "markdown",
   "metadata": {},
   "source": [
    "### Решение:\n",
    "[1] Вероятнось вынуть 2 белых мяча из 1-го ящика: $P_1^{бел}=\\frac{C_{7}^2}{C_{10}^2}=\\frac{\\frac{7!}{2!(7-2)!}}{\\frac{10!}{2!(10-2)!}}$\n",
    "\n",
    "[2] Вероятнось вынуть 2 белых мяча из 2-го ящика: $P_2^{бел}=\\frac{C_{9}^2}{C_{11}^2}=\\frac{\\frac{9!}{2!(9-2)!}}{\\frac{11!}{2!(11-2)!}}$\n",
    "\n",
    "[3] Вероятность того, что все мячи белые:\n",
    "$$P_{1, 2}^{бел}=P_1^{бел}*P_2^{бел}={\\frac{C_{7}^2}{C_{10}^2}}*{\\frac{C_{9}^2}{C_{11}^2}}={\\frac{\\frac{7!}{2!(7-2)!}}{\\frac{10!}{2!(10-2)!}}}*{\\frac{\\frac{9!}{2!(9-2)!}}{\\frac{11!}{2!(11-2)!}}}$$"
   ]
  },
  {
   "cell_type": "code",
   "execution_count": 32,
   "metadata": {},
   "outputs": [
    {
     "name": "stdout",
     "output_type": "stream",
     "text": [
      "Вероятнось вынуть 2 белых мяча из 1-го ящика = 0.4666667\n",
      "Вероятнось вынуть 2 белых мяча из 2-го ящика = 0.6545455\n",
      "Вероятность того, что все мячи белые = 0.3054545\n"
     ]
    }
   ],
   "source": [
    "from scipy.special import comb\n",
    "print(f'Вероятнось вынуть 2 белых мяча из 1-го ящика = {round((comb(7, 2, exact = False, repetition=False) / comb(10, 2, exact = False, repetition=False)), 7)}\\n'\n",
    "      f'Вероятнось вынуть 2 белых мяча из 2-го ящика = {round((comb(9, 2, exact = False, repetition=False) / comb(11, 2, exact = False, repetition=False)), 7)}\\n'\n",
    "      f'Вероятность того, что все мячи белые = {round(((comb(7, 2, exact = False, repetition=False) / comb(10, 2, exact = False, repetition=False)) * (comb(9, 2, exact = False, repetition=False) / comb(11, 2, exact = False, repetition=False))), 7)}')"
   ]
  },
  {
   "cell_type": "markdown",
   "metadata": {},
   "source": [
    "#### Ответ 2-4а: вероятность того, что все мячи белые составляет 30,54(54)%"
   ]
  },
  {
   "cell_type": "markdown",
   "metadata": {},
   "source": [
    "б) Какова вероятность того, что ровно два мяча белые?"
   ]
  },
  {
   "cell_type": "markdown",
   "metadata": {},
   "source": [
    "### Решение:\n",
    "[1] Вероятнось вынуть 2 белых мяча из 1-го ящика и 2 черных мяча из 2-го ящика: $P_1={\\frac{C_{7}^2}{C_{10}^2}}*{\\frac{C_{2}^2}{C_{11}^2}}={\\frac{\\frac{7!}{2!(7-2)!}}{\\frac{10!}{2!(10-2)!}}}*{\\frac{\\frac{2!}{2!(2-2)!}}{\\frac{11!}{2!(11-2)!}}}$\n",
    "\n",
    "[2] Вероятнось вынуть 2 черных мяча из 1-го ящика и 2 белых мяча из 2-го ящика: $P_2={\\frac{C_{3}^2}{C_{10}^2}}*{\\frac{C_{9}^2}{C_{11}^2}}={\\frac{\\frac{3!}{2!(3-2)!}}{\\frac{10!}{2!(10-2)!}}}*{\\frac{\\frac{9!}{2!(9-2)!}}{\\frac{11!}{2!(11-2)!}}}$\n",
    "\n",
    "[3] Вероятность вынуть 1 черный и 1 белый мяч из каждого ящика:\n",
    "$P_3=\\left({\\frac{{C_{7}^1}*{C_{3}^1}}{C_{10}^2}}\\right)*\\left({\\frac{{C_{9}^1}*{C_{2}^1}}{C_{11}^2}}\\right)=\\left({\\frac{{\\frac{7!}{1!(7-1)!}}*{\\frac{3!}{1!(3-1)!}}}{\\frac{10!}{2!(10-2)!}}}\\right)*\\left({\\frac{{\\frac{9!}{1!(9-1)!}}*{\\frac{2!}{1!(2-1)!}}}{\\frac{11!}{2!(11-2)!}}}\\right)$\n",
    "\n",
    "[4] Вероятность того, что ровно два мяча белые: $P=P_1+P_2+P_3$"
   ]
  },
  {
   "cell_type": "code",
   "execution_count": 40,
   "metadata": {},
   "outputs": [
    {
     "name": "stdout",
     "output_type": "stream",
     "text": [
      "Вероятнось вынуть 2 белых мяча из 1-го ящика и 2 черных мяча из 2-го ящика = 0.0084848\n",
      "Вероятнось вынуть 2 черных мяча из 1-го ящика и 2 белых мяча из 2-го ящика = 0.0436364\n",
      "Вероятнось вынуть 1 черный и 1 белый мяч из каждого ящика = 0.1527273\n",
      "Вероятность того, что ровно два мяча белые = 0.2048485\n"
     ]
    }
   ],
   "source": [
    "p1 = (comb(7, 2, exact = False, repetition=False) / comb(10, 2, exact = False, repetition=False)) * (comb(2, 2, exact = False, repetition=False) / comb(11, 2, exact = False, repetition=False))\n",
    "p2 = (comb(3, 2, exact = False, repetition=False) / comb(10, 2, exact = False, repetition=False)) * (comb(9, 2, exact = False, repetition=False) / comb(11, 2, exact = False, repetition=False))\n",
    "p3 = ((comb(7, 1, exact = False, repetition=False) * (comb(3, 1, exact = False, repetition=False))) / comb(10, 2, exact = False, repetition=False)) * (((comb(9, 1, exact = False, repetition=False)) * (comb(2, 1, exact = False, repetition=False))) / comb(11, 2, exact = False, repetition=False))\n",
    "print(f'Вероятнось вынуть 2 белых мяча из 1-го ящика и 2 черных мяча из 2-го ящика = {round(p1, 7)}\\n'\n",
    "      f'Вероятнось вынуть 2 черных мяча из 1-го ящика и 2 белых мяча из 2-го ящика = {round(p2, 7)}\\n'\n",
    "      f'Вероятнось вынуть 1 черный и 1 белый мяч из каждого ящика = {round(p3, 7)}\\n'\n",
    "      f'Вероятность того, что ровно два мяча белые = {round((p1 + p2 + p3), 7)}')"
   ]
  },
  {
   "cell_type": "markdown",
   "metadata": {},
   "source": [
    "#### Ответ 2-4б: вероятность того, что ровно два мяча белые составляет 20,48(48)%"
   ]
  },
  {
   "cell_type": "markdown",
   "metadata": {},
   "source": [
    "в) Какова вероятность того, что хотя бы один мяч белый?"
   ]
  },
  {
   "cell_type": "markdown",
   "metadata": {},
   "source": [
    "### Решение:\n",
    "[1] Вероятность того, что хотя бы один мяч белый:\n",
    "$$P=1-\\left({P_1^{черн}*P_2^{черн}}\\right)=1-\\left({{\\frac{C_{3}^2}{C_{10}^2}}*{\\frac{C_{2}^2}{C_{11}^2}}}\\right)=1-\\left({\\frac{\\frac{3!}{2!(3-2)!}}{\\frac{10!}{2!(10-2)!}}}*{\\frac{\\frac{2!}{2!(2-2)!}}{\\frac{11!}{2!(11-2)!}}}\\right)$$"
   ]
  },
  {
   "cell_type": "code",
   "execution_count": 34,
   "metadata": {},
   "outputs": [
    {
     "name": "stdout",
     "output_type": "stream",
     "text": [
      "Вероятнось вынуть 2 черных мяча из 1-го ящика = 0.0666667\n",
      "Вероятнось вынуть 2 черных мяча из 2-го ящика = 0.0181818\n",
      "Вероятность того, что хотя бы один мяч белый = 0.9987879\n"
     ]
    }
   ],
   "source": [
    "print(f'Вероятнось вынуть 2 черных мяча из 1-го ящика = {round((comb(3, 2, exact = False, repetition=False) / comb(10, 2, exact = False, repetition=False)), 7)}\\n'\n",
    "      f'Вероятнось вынуть 2 черных мяча из 2-го ящика = {round((comb(2, 2, exact = False, repetition=False) / comb(11, 2, exact = False, repetition=False)), 7)}\\n'\n",
    "      f'Вероятность того, что хотя бы один мяч белый = {round((1-(comb(3, 2, exact = False, repetition=False) / comb(10, 2, exact = False, repetition=False)) * (comb(2, 2, exact = False, repetition=False) / comb(11, 2, exact = False, repetition=False))), 7)}')"
   ]
  },
  {
   "cell_type": "markdown",
   "metadata": {},
   "source": [
    "#### Ответ 2-4в: вероятность того, что хотя бы один мяч белый составляет 99,87(87)%"
   ]
  }
 ],
 "metadata": {
  "kernelspec": {
   "display_name": "Python 3",
   "language": "python",
   "name": "python3"
  },
  "language_info": {
   "codemirror_mode": {
    "name": "ipython",
    "version": 3
   },
   "file_extension": ".py",
   "mimetype": "text/x-python",
   "name": "python",
   "nbconvert_exporter": "python",
   "pygments_lexer": "ipython3",
   "version": "3.8.8"
  }
 },
 "nbformat": 4,
 "nbformat_minor": 4
}
