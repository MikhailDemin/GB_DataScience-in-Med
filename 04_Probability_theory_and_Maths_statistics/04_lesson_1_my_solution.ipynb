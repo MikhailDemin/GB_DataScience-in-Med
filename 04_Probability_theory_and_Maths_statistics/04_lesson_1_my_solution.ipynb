{
 "cells": [
  {
   "cell_type": "markdown",
   "metadata": {},
   "source": [
    "## Задача 1-1. \n",
    "Из колоды в 52 карты извлекаются случайным образом 4 карты."
   ]
  },
  {
   "cell_type": "markdown",
   "metadata": {},
   "source": [
    "a) Найти вероятность того, что все карты – крести."
   ]
  },
  {
   "cell_type": "markdown",
   "metadata": {},
   "source": [
    "### Решение:\n",
    "[1] Число возможных комбинаций 4 карты крести:\n",
    "$$C_{13}^4=\\frac{13!}{4!(13-4)!}=\\frac{9!*10*11*12*13}{4!*9!}$$"
   ]
  },
  {
   "cell_type": "code",
   "execution_count": 20,
   "metadata": {},
   "outputs": [
    {
     "name": "stdout",
     "output_type": "stream",
     "text": [
      "715\n"
     ]
    }
   ],
   "source": [
    "from math import factorial as fact\n",
    "def comb(n, k):\n",
    "    return int(fact(n) / (fact(k) * fact(n - k)))\n",
    "c_4_13 = comb(13, 4)\n",
    "print(c_4_13)"
   ]
  },
  {
   "cell_type": "markdown",
   "metadata": {},
   "source": [
    "[2] Общее число возможных комбинаций 4 карт:\n",
    "$$C_{52}^4=\\frac{52!}{4!(52-4)!}=\\frac{48!*49*50*51*52}{4!48!}$$"
   ]
  },
  {
   "cell_type": "code",
   "execution_count": 12,
   "metadata": {},
   "outputs": [
    {
     "name": "stdout",
     "output_type": "stream",
     "text": [
      "270725\n"
     ]
    }
   ],
   "source": [
    "c_4_52 = comb(52, 4)\n",
    "print(c_4_52)"
   ]
  },
  {
   "cell_type": "markdown",
   "metadata": {},
   "source": [
    "Вероятность вытащить 4 крестовых карты $$P(A)=\\frac{число-благоприятных-исходов}{общее-число-исходов}=\\frac{715}{270725}=0,002641 $$"
   ]
  },
  {
   "cell_type": "code",
   "execution_count": 17,
   "metadata": {},
   "outputs": [
    {
     "name": "stdout",
     "output_type": "stream",
     "text": [
      "0.26410564225690275\n"
     ]
    }
   ],
   "source": [
    "r = float(c_4_13 / c_4_52)\n",
    "print(r*100)"
   ]
  },
  {
   "cell_type": "markdown",
   "metadata": {},
   "source": [
    "#### Ответ 1-1а: вероятность вытащить 4 крестовых карты составляет 0,2641%"
   ]
  },
  {
   "cell_type": "markdown",
   "metadata": {},
   "source": [
    "б) Найти вероятность, что среди 4-х карт окажется хотя бы один туз."
   ]
  },
  {
   "cell_type": "markdown",
   "metadata": {},
   "source": [
    "### Решение:\n",
    "[1] Найдем все сочетания 4-х карт без тузов (52 карты - 4 туза = 48) $C_{48}^4$:"
   ]
  },
  {
   "cell_type": "code",
   "execution_count": 11,
   "metadata": {},
   "outputs": [
    {
     "name": "stdout",
     "output_type": "stream",
     "text": [
      "194580\n"
     ]
    }
   ],
   "source": [
    "c_4_48 = comb(48, 4)\n",
    "print(c_4_48)"
   ]
  },
  {
   "cell_type": "markdown",
   "metadata": {},
   "source": [
    "[2] Число исходов в котрых хотя бы 1 туз (или 2, или 3, или 4) $$C_T =C_{52}-C_{48}^4=270725-194580=76145$$"
   ]
  },
  {
   "cell_type": "code",
   "execution_count": 18,
   "metadata": {},
   "outputs": [
    {
     "name": "stdout",
     "output_type": "stream",
     "text": [
      "76145\n"
     ]
    }
   ],
   "source": [
    "c_1_4 = c_4_52 - c_4_48\n",
    "print(c_1_4)"
   ]
  },
  {
   "cell_type": "markdown",
   "metadata": {},
   "source": [
    "$P(A)= \\frac{76145}{270725}$"
   ]
  },
  {
   "cell_type": "code",
   "execution_count": 19,
   "metadata": {},
   "outputs": [
    {
     "name": "stdout",
     "output_type": "stream",
     "text": [
      "28.126327454058547\n"
     ]
    }
   ],
   "source": [
    "prob_min_one_ace = c_1_4 / c_4_52\n",
    "print(prob_min_one_ace * 100)"
   ]
  },
  {
   "cell_type": "markdown",
   "metadata": {},
   "source": [
    "#### Ответ 1-1б: вероятность, что среди 4-х карт окажется хотя бы один туз составляет 28.126%"
   ]
  },
  {
   "cell_type": "markdown",
   "metadata": {},
   "source": [
    "## Задача 1-2.\n",
    "На входной двери подъезда установлен кодовый замок, содержащий десять кнопок с цифрами от 0 до 9. Код содержит три цифры, которые нужно нажать одновременно. Какова вероятность того, что человек, не знающий код, откроет дверь с первой попытки?"
   ]
  },
  {
   "cell_type": "markdown",
   "metadata": {},
   "source": [
    "### Решение:\n",
    "[1] Общее число возможных комбинаций кодового замка:\n",
    "$$C_{10}^3=\\frac{10!}{3!(10-3)!}$$"
   ]
  },
  {
   "cell_type": "code",
   "execution_count": 13,
   "metadata": {},
   "outputs": [
    {
     "name": "stdout",
     "output_type": "stream",
     "text": [
      "120\n"
     ]
    }
   ],
   "source": [
    "c_3_10 = comb(10, 3)\n",
    "print(c_3_10)"
   ]
  },
  {
   "cell_type": "markdown",
   "metadata": {},
   "source": [
    "[2] Так как по условию все три кнопки нужно нажать одновременно => имеем 1 благоприятный исход: $P(A)= \\frac{1}{120}$"
   ]
  },
  {
   "cell_type": "code",
   "execution_count": 15,
   "metadata": {},
   "outputs": [
    {
     "name": "stdout",
     "output_type": "stream",
     "text": [
      "0.008333333333333333\n"
     ]
    }
   ],
   "source": [
    "prob_code = 1 / c_3_10\n",
    "print(prob_code)"
   ]
  },
  {
   "cell_type": "markdown",
   "metadata": {},
   "source": [
    "#### Ответ 1-2: вероятность открытия замка с 1 попытки составляет 0.008(3)"
   ]
  },
  {
   "cell_type": "markdown",
   "metadata": {},
   "source": [
    "## Задача 1-3.\n",
    "В ящике имеется 15 деталей, из которых 9 окрашены. Рабочий случайным образом извлекает 3 детали. Какова вероятность того, что все извлеченные детали окрашены?"
   ]
  },
  {
   "cell_type": "markdown",
   "metadata": {},
   "source": [
    "### Решение:\n",
    "[1] Число сочетаний окрашенных деталей:\n",
    "$$C_{9}^3=\\frac{9!}{3!(9-3)!}$$"
   ]
  },
  {
   "cell_type": "code",
   "execution_count": 16,
   "metadata": {},
   "outputs": [
    {
     "name": "stdout",
     "output_type": "stream",
     "text": [
      "84\n"
     ]
    }
   ],
   "source": [
    "c_3_9 = comb(9, 3)\n",
    "print(c_3_9)"
   ]
  },
  {
   "cell_type": "markdown",
   "metadata": {},
   "source": [
    "[2] Общее число сочетаний деталей в ящике:\n",
    "$$C_{15}^3=\\frac{15!}{3!(15-3)!}$$"
   ]
  },
  {
   "cell_type": "code",
   "execution_count": 17,
   "metadata": {},
   "outputs": [
    {
     "name": "stdout",
     "output_type": "stream",
     "text": [
      "455\n"
     ]
    }
   ],
   "source": [
    "c_3_15 = comb(15, 3)\n",
    "print(c_3_15)"
   ]
  },
  {
   "cell_type": "markdown",
   "metadata": {},
   "source": [
    "[3] Вероятность благоприятного исхода: $P= \\frac{C_{9}^3}{C_{15}^3}$"
   ]
  },
  {
   "cell_type": "code",
   "execution_count": 18,
   "metadata": {
    "scrolled": true
   },
   "outputs": [
    {
     "name": "stdout",
     "output_type": "stream",
     "text": [
      "0.18461538461538463\n"
     ]
    }
   ],
   "source": [
    "prob_all_painted_balls = c_3_9 / c_3_15\n",
    "print(prob_all_painted_balls)"
   ]
  },
  {
   "cell_type": "markdown",
   "metadata": {},
   "source": [
    "##### Проверка:\n",
    "$$P= \\frac{C_{9}^3}{C_{15}^3}=\\frac{\\frac{9!}{3!(9-3)!}}{\\frac{15!}{3!(15-3)!}}=\\frac{{9!}*{12!}}{{6!}*{15!}}$$"
   ]
  },
  {
   "cell_type": "code",
   "execution_count": 22,
   "metadata": {},
   "outputs": [
    {
     "name": "stdout",
     "output_type": "stream",
     "text": [
      "0.18461538461538463\n"
     ]
    }
   ],
   "source": [
    "prob_1_3_test = (fact(9) * fact(12)) / (fact(6) * fact(15))\n",
    "print(prob_1_3_test)"
   ]
  },
  {
   "cell_type": "markdown",
   "metadata": {},
   "source": [
    "#### Ответ 1-3: вероятность того, что все извлеченные детали окрашены составляет 0.1846"
   ]
  },
  {
   "cell_type": "markdown",
   "metadata": {},
   "source": [
    "## Задача 1-4.\n",
    "В лотерее 100 билетов. Из них 2 выигрышных. Какова вероятность того, что 2 приобретенных билета окажутся выигрышными?"
   ]
  },
  {
   "cell_type": "markdown",
   "metadata": {},
   "source": [
    "### Решение:\n",
    "[1] Общее число возможных сочетаний выигрышных билетов:\n",
    "$$C_{100}^2=\\frac{100!}{2!(100-2)!}$$"
   ]
  },
  {
   "cell_type": "code",
   "execution_count": 23,
   "metadata": {},
   "outputs": [
    {
     "name": "stdout",
     "output_type": "stream",
     "text": [
      "4950\n"
     ]
    }
   ],
   "source": [
    "c_2_100 = comb(100, 2)\n",
    "print(c_2_100)"
   ]
  },
  {
   "cell_type": "markdown",
   "metadata": {},
   "source": [
    "[2] Вероятность благоприятного исхода: $P= \\frac1{C_{100}^2}$"
   ]
  },
  {
   "cell_type": "code",
   "execution_count": 25,
   "metadata": {},
   "outputs": [
    {
     "name": "stdout",
     "output_type": "stream",
     "text": [
      "0.0202020202020202\n"
     ]
    }
   ],
   "source": [
    "prob_win = 1 / c_2_100\n",
    "print((prob_win)*100)"
   ]
  },
  {
   "cell_type": "markdown",
   "metadata": {},
   "source": [
    "#### Ответ 1-4: вероятность того, что 2 приобретенных билета окажутся выигрышными составляет 2,02%"
   ]
  }
 ],
 "metadata": {
  "kernelspec": {
   "display_name": "Python 3",
   "language": "python",
   "name": "python3"
  },
  "language_info": {
   "codemirror_mode": {
    "name": "ipython",
    "version": 3
   },
   "file_extension": ".py",
   "mimetype": "text/x-python",
   "name": "python",
   "nbconvert_exporter": "python",
   "pygments_lexer": "ipython3",
   "version": "3.8.5"
  }
 },
 "nbformat": 4,
 "nbformat_minor": 4
}
