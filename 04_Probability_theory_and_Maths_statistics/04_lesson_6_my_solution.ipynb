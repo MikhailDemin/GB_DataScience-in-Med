{
 "cells": [
  {
   "cell_type": "markdown",
   "id": "0e958a46",
   "metadata": {},
   "source": [
    "## Задача 6-1.\n",
    "Даны значения величины заработной платы заемщиков банка (zp) и значения их поведенческого кредитного скоринга (ks):\n",
    "zp = [35, 45, 190, 200, 40, 70, 54, 150, 120, 110],\n",
    "ks = [401, 574, 874, 919, 459, 739, 653, 902, 746, 832].\n",
    "1) Найдите ковариацию этих двух величин с помощью элементарных действий, а затем с помощью функции cov из numpy\n",
    "Полученные значения должны быть равны.\n",
    "\n",
    "2) Найдите коэффициент корреляции Пирсона с помощью ковариации и среднеквадратичных отклонений двух признаков,\n",
    "а затем с использованием функций из библиотек numpy и pandas."
   ]
  },
  {
   "cell_type": "markdown",
   "id": "62294c67",
   "metadata": {},
   "source": [
    "### Решение:\n",
    "Найдем доверительный интервал согласно формуле:$$P \\left(\\overline{X} + Z_{\\dfrac \\alpha 2} \\cdot \\dfrac \\sigma {\\sqrt{n}} \n",
    "\\leq M(X) \\leq \\overline{X} + Z_{\\dfrac \\alpha 2} \\cdot \\dfrac \\sigma {\\sqrt{n}}\\right)$$\n",
    "\n",
    "где $\\overline{X} = 80$, $S = 16$, $n = 256$, а $Z$ найдем по таблице значений: $Z = 1,96$"
   ]
  },
  {
   "cell_type": "code",
   "execution_count": null,
   "id": "643aa932",
   "metadata": {},
   "outputs": [],
   "source": []
  },
  {
   "cell_type": "markdown",
   "id": "d8f874e3",
   "metadata": {},
   "source": [
    "#### Ответ 6-1: Доверительный интервал равен: (78.04, 81.96)"
   ]
  },
  {
   "cell_type": "markdown",
   "id": "c5d32551",
   "metadata": {},
   "source": [
    "## Задача 6-2.\n",
    "Измерены значения IQ выборки студентов, обучающихся в местных технических вузах:\n",
    "131, 125, 115, 122, 131, 115, 107, 99, 125, 111. Известно, что в генеральной совокупности IQ распределен нормально. Найдите доверительный интервал для математического ожидания с надежностью 0.95"
   ]
  },
  {
   "cell_type": "markdown",
   "id": "9ae4c0f8",
   "metadata": {},
   "source": [
    "Решение:\n",
    "Найдем доверительный интервал согласно формуле:"
   ]
  },
  {
   "cell_type": "code",
   "execution_count": null,
   "id": "817104eb",
   "metadata": {},
   "outputs": [],
   "source": []
  },
  {
   "cell_type": "markdown",
   "id": "8b3a73d2",
   "metadata": {},
   "source": [
    "###### Ответ 6-2: Доверительный интервал равен: (78.04, 81.96)"
   ]
  },
  {
   "cell_type": "markdown",
   "id": "10dfef20",
   "metadata": {},
   "source": [
    "## Задача 6-3. Известно, что рост футболистов в сборной распределен нормально\n",
    "с дисперсией генеральной совокупности, равной 25 кв.см. Объем выборки равен 27,\n",
    "среднее выборочное составляет 174.2. Найдите доверительный интервал для математического\n",
    "ожидания с надежностью 0.95."
   ]
  },
  {
   "cell_type": "markdown",
   "id": "7681645e",
   "metadata": {},
   "source": []
  },
  {
   "cell_type": "code",
   "execution_count": null,
   "id": "aa757057",
   "metadata": {},
   "outputs": [],
   "source": []
  },
  {
   "cell_type": "markdown",
   "id": "191cb877",
   "metadata": {},
   "source": []
  },
  {
   "cell_type": "code",
   "execution_count": null,
   "id": "fc5562d9",
   "metadata": {},
   "outputs": [],
   "source": []
  },
  {
   "cell_type": "code",
   "execution_count": null,
   "id": "bf28538b",
   "metadata": {},
   "outputs": [],
   "source": []
  }
 ],
 "metadata": {
  "kernelspec": {
   "display_name": "Python 3",
   "language": "python",
   "name": "python3"
  },
  "language_info": {
   "codemirror_mode": {
    "name": "ipython",
    "version": 3
   },
   "file_extension": ".py",
   "mimetype": "text/x-python",
   "name": "python",
   "nbconvert_exporter": "python",
   "pygments_lexer": "ipython3",
   "version": "3.8.8"
  }
 },
 "nbformat": 4,
 "nbformat_minor": 5
}
