{
 "cells": [
  {
   "cell_type": "markdown",
   "id": "3edb7c7b",
   "metadata": {},
   "source": [
    "# Урок 4. Способы улучшения полученной модели."
   ]
  },
  {
   "cell_type": "markdown",
   "id": "eb137092",
   "metadata": {},
   "source": [
    "## Домашнее задание"
   ]
  },
  {
   "cell_type": "markdown",
   "id": "ca1feabf",
   "metadata": {},
   "source": [
    "### 1. Расскажите, как работает регуляризация в решающих деревьях, какие параметры мы штрафуем в данных алгоритмах?"
   ]
  },
  {
   "cell_type": "markdown",
   "id": "7c4c91d5",
   "metadata": {},
   "source": [
    "В решающих деревьях обучение регулируется следующими способами:\n",
    " - Ограничить максимальную глубину дерева\n",
    " - Увеличить минимальное количество листьев"
   ]
  },
  {
   "cell_type": "markdown",
   "id": "9c290f30",
   "metadata": {},
   "source": [
    "### 2. По какому принципу рассчитывается \"важность признака (feature_importance)\" в ансамблях деревьев?"
   ]
  },
  {
   "cell_type": "markdown",
   "id": "2ec16f99",
   "metadata": {},
   "source": [
    "Важность признака в решающих деревьях представляет собой разницу в ошибке при подстановке случайных значений в модель. Чем больше разница, тем более значим признак. В ансамблях деревьев важность признака аггрегируется из всех деревьев."
   ]
  }
 ],
 "metadata": {
  "kernelspec": {
   "display_name": "Python 3 (ipykernel)",
   "language": "python",
   "name": "python3"
  },
  "language_info": {
   "codemirror_mode": {
    "name": "ipython",
    "version": 3
   },
   "file_extension": ".py",
   "mimetype": "text/x-python",
   "name": "python",
   "nbconvert_exporter": "python",
   "pygments_lexer": "ipython3",
   "version": "3.8.12"
  },
  "toc": {
   "base_numbering": 1,
   "nav_menu": {},
   "number_sections": false,
   "sideBar": true,
   "skip_h1_title": false,
   "title_cell": "Table of Contents",
   "title_sidebar": "Contents",
   "toc_cell": false,
   "toc_position": {},
   "toc_section_display": true,
   "toc_window_display": false
  },
  "varInspector": {
   "cols": {
    "lenName": 16,
    "lenType": 16,
    "lenVar": 40
   },
   "kernels_config": {
    "python": {
     "delete_cmd_postfix": "",
     "delete_cmd_prefix": "del ",
     "library": "var_list.py",
     "varRefreshCmd": "print(var_dic_list())"
    },
    "r": {
     "delete_cmd_postfix": ") ",
     "delete_cmd_prefix": "rm(",
     "library": "var_list.r",
     "varRefreshCmd": "cat(var_dic_list()) "
    }
   },
   "types_to_exclude": [
    "module",
    "function",
    "builtin_function_or_method",
    "instance",
    "_Feature"
   ],
   "window_display": false
  }
 },
 "nbformat": 4,
 "nbformat_minor": 5
}
