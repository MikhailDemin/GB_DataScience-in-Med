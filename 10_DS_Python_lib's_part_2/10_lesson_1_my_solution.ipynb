{
 "cells": [
  {
   "cell_type": "markdown",
   "id": "3edb7c7b",
   "metadata": {},
   "source": [
    "# Урок 1. Введение в задачу классификации. Постановка задачи и подготовка данных."
   ]
  },
  {
   "cell_type": "markdown",
   "id": "eb137092",
   "metadata": {},
   "source": [
    "## Домашнее задание"
   ]
  },
  {
   "cell_type": "markdown",
   "id": "ca1feabf",
   "metadata": {},
   "source": [
    "### 1. Приведите по 2 примера, когда лучше максимизировать Precision, а когда Recall."
   ]
  },
  {
   "cell_type": "markdown",
   "id": "7c4c91d5",
   "metadata": {},
   "source": [
    "__Precision:__<br>\n",
    "1. Распознавание номеров автомобилей, соответствие изображения определенному набору цифр да/нет\n",
    "2. Технический контроль на производстве, пройден/не пройден\n",
    "\n",
    "__Recall aka sensitivity:__<br>\n",
    "1. Мошеннические транзакции в банке, есть/нет\n",
    "2. Поисковые машины, релевантность запросу пользователя подходит/не подходит"
   ]
  },
  {
   "cell_type": "markdown",
   "id": "9c290f30",
   "metadata": {},
   "source": [
    "### 2. Почему мы используем F-меру, почему, например, нельзя просто взять среднее от Precision и Recall?"
   ]
  },
  {
   "cell_type": "markdown",
   "id": "2ec16f99",
   "metadata": {},
   "source": [
    "Среднее от Precision и Recall не учитывает вес каждого из компонентов. Используя F-меру мы можем более точно фокусироваться на нужной нам метрике в зависимости от задачи. Кроме того, F-мера позволяет нам бороться с разбалансировкой классов."
   ]
  }
 ],
 "metadata": {
  "kernelspec": {
   "display_name": "Python 3 (ipykernel)",
   "language": "python",
   "name": "python3"
  },
  "language_info": {
   "codemirror_mode": {
    "name": "ipython",
    "version": 3
   },
   "file_extension": ".py",
   "mimetype": "text/x-python",
   "name": "python",
   "nbconvert_exporter": "python",
   "pygments_lexer": "ipython3",
   "version": "3.8.12"
  },
  "varInspector": {
   "cols": {
    "lenName": 16,
    "lenType": 16,
    "lenVar": 40
   },
   "kernels_config": {
    "python": {
     "delete_cmd_postfix": "",
     "delete_cmd_prefix": "del ",
     "library": "var_list.py",
     "varRefreshCmd": "print(var_dic_list())"
    },
    "r": {
     "delete_cmd_postfix": ") ",
     "delete_cmd_prefix": "rm(",
     "library": "var_list.r",
     "varRefreshCmd": "cat(var_dic_list()) "
    }
   },
   "types_to_exclude": [
    "module",
    "function",
    "builtin_function_or_method",
    "instance",
    "_Feature"
   ],
   "window_display": false
  }
 },
 "nbformat": 4,
 "nbformat_minor": 5
}
