{
 "cells": [
  {
   "cell_type": "markdown",
   "id": "a3ff53f4",
   "metadata": {},
   "source": [
    "# Курсовой проект"
   ]
  },
  {
   "cell_type": "markdown",
   "id": "52007a9e",
   "metadata": {},
   "source": [
    "## Задача<a class=\"anchor\" id=\"task\"></a>\n",
    "\n",
    "Требуется, на основании имеющихся данных о клиентах банка, построить модель, используя обучающий датасет, для прогнозирования невыполнения долговых обязательств по текущему кредиту. Выполнить прогноз для примеров из тестового датасета.\n",
    "\n",
    "**Целевая переменная**\n",
    "\n",
    "Credit Default - факт невыполнения кредитных обязательств\n",
    "\n",
    "**Метрика качества**\n",
    "\n",
    "F1-score (sklearn.metrics.f1_score)\n",
    "\n",
    "**Требования к решению**\n",
    "\n",
    "*Целевая метрика*\n",
    "* F1 > 0.5\n",
    "* Метрика оценивается по качеству прогноза для главного класса (1 - просрочка по кредиту)\n",
    "\n",
    "*Решение должно содержать*\n",
    "1. Тетрадка Jupyter Notebook с кодом Вашего решения\n",
    "2. Укажите свой ник на kaggle\n",
    "\n",
    "*Рекомендации для файла с кодом (ipynb)*\n",
    "1. Файл должен содержать заголовки и комментарии (markdown)\n",
    "2. Повторяющиеся операции лучше оформлять в виде функций\n",
    "3. По возможности добавлять графики, описывающие данные (около 3-5)\n",
    "4. Добавлять только лучшую модель, то есть не включать в код все варианты решения проекта\n",
    "5. Скрипт проекта должен отрабатывать от начала и до конца (от загрузки данных до выгрузки предсказаний)\n",
    "6. Весь проект должен быть в одном скрипте (файл ipynb)."
   ]
  },
  {
   "cell_type": "markdown",
   "id": "b835d4df",
   "metadata": {},
   "source": [
    "### Примерное описание этапов выполнения курсового проекта\n",
    "\n",
    "**Построение модели классификации**\n",
    "1. Обзор обучающего датасета\n",
    "2. Анализ данных\n",
    "3. Обработка пропусков\n",
    "4. Обработка выбросов\n",
    "5. Отбор признаков\n",
    "6. Балансировка классов\n",
    "7. Подбор моделей, получение бейзлана\n",
    "8. Выбор наилучшей модели, настройка гиперпараметров\n",
    "9. Проверка качества, борьба с переобучением\n",
    "10. Интерпретация результатов\n",
    "\n",
    "**Прогнозирование на тестовом датасете**\n",
    "1. Выполнить для тестового датасета те же этапы обработки и построения признаков\n",
    "2. Спрогнозировать целевую переменную, используя модель, построенную на обучающем датасете\n",
    "3. Прогнозы должны быть для всех примеров из тестового датасета (для всех строк)\n",
    "4. Соблюдать исходный порядок примеров из тестового датасета"
   ]
  },
  {
   "cell_type": "markdown",
   "id": "a276afe5",
   "metadata": {},
   "source": [
    "### Обзор данных\n",
    "**Описание датасета**\n",
    "\n",
    "* **Home Ownership** - домовладение\n",
    "* **Annual Income** - годовой доход\n",
    "* **Years in current job** - количество лет на текущем месте работы\n",
    "* **Tax Liens** - налоговые обременения\n",
    "* **Number of Open Accounts** - количество открытых счетов\n",
    "* **Years of Credit History** - количество лет кредитной истории\n",
    "* **Maximum Open Credit** - наибольший открытый кредит (максимальная сумма, которая когда-либо была доступна клиенту)\n",
    "* **Number of Credit Problems** - количество проблем с кредитом\n",
    "* **Months since last delinquent** - количество месяцев с последней просрочки платежа\n",
    "* **Bankruptcies** - банкротства\n",
    "* **Purpose** - цель кредита\n",
    "* **Term** - срок кредита\n",
    "* **Current Loan Amount** - текущая сумма кредита (сумма, которую еще предстоит выплатить клиенту)\n",
    "* **Current Credit Balance** - текущий кредитный баланс (сумма, которую может тратить клиент с кредитного счета)\n",
    "* **Monthly Debt** - ежемесячный долг\n",
    "* **Credit Score** - баллы кредитного рейтинга\n",
    "* **Credit Default** - факт невыполнения кредитных обязательств (0 - погашен вовремя, 1 - просрочка)"
   ]
  },
  {
   "cell_type": "markdown",
   "id": "73a44898",
   "metadata": {},
   "source": [
    "### Подключение библиотек и скриптов"
   ]
  },
  {
   "cell_type": "code",
   "execution_count": 1,
   "id": "805b9cda",
   "metadata": {},
   "outputs": [
    {
     "name": "stdout",
     "output_type": "stream",
     "text": [
      "Wall time: 3.24 s\n"
     ]
    }
   ],
   "source": [
    "%%time\n",
    "import pandas as pd\n",
    "import numpy as np\n",
    "import pickle\n",
    "import random\n",
    "from pathlib import Path\n",
    "\n",
    "from sklearn.preprocessing import StandardScaler, MinMaxScaler\n",
    "from sklearn.model_selection import train_test_split, ShuffleSplit, cross_val_score, learning_curve\n",
    "from sklearn.model_selection import StratifiedKFold, GridSearchCV, RandomizedSearchCV\n",
    "from sklearn.metrics import classification_report, f1_score, precision_score, recall_score\n",
    "\n",
    "from sklearn.tree import DecisionTreeClassifier\n",
    "from sklearn.linear_model import LogisticRegression\n",
    "from sklearn.neighbors import KNeighborsClassifier\n",
    "\n",
    "from scipy.stats import mannwhitneyu\n",
    "\n",
    "import xgboost as xgb\n",
    "import lightgbm as lgbm\n",
    "import catboost as catb\n",
    "\n",
    "import seaborn as sns\n",
    "from matplotlib import pyplot as plt\n",
    "%matplotlib inline\n",
    "\n",
    "import warnings\n",
    "warnings.filterwarnings('ignore')"
   ]
  },
  {
   "cell_type": "markdown",
   "id": "d2e68ffb",
   "metadata": {},
   "source": [
    "## Функции\n",
    "### Метрики качества модели"
   ]
  },
  {
   "cell_type": "code",
   "execution_count": 2,
   "id": "462de0d2",
   "metadata": {
    "code_folding": []
   },
   "outputs": [],
   "source": [
    "def get_classification_report(y_train_true, y_train_pred, y_valid_true, y_valid_pred):\n",
    "    print('TRAIN\\n\\n' + classification_report(y_train_true, y_train_pred))\n",
    "    print('TEST\\n\\n' + classification_report(y_valid_true, y_valid_pred))\n",
    "    print('CONFUSION MATRIX\\n')\n",
    "    print(pd.crosstab(y_valid_true, y_valid_pred))"
   ]
  },
  {
   "cell_type": "code",
   "execution_count": 3,
   "id": "834c6a35",
   "metadata": {},
   "outputs": [],
   "source": [
    "def evaluate_preds(model, X_train, X_valid, y_train, y_valid):\n",
    "    y_train_pred = model.predict(X_train)\n",
    "    y_valid_pred = model.predict(X_valid)\n",
    "    print(\"TRAIN\\n\", round(f1_score(y_train, y_train_pred), 3))\n",
    "    print(\"TEST\\n\", round(f1_score(y_valid, y_valid_pred), 3))\n",
    "    get_classification_report(y_train, y_train_pred, y_valid, y_valid_pred)"
   ]
  },
  {
   "cell_type": "markdown",
   "id": "160192aa",
   "metadata": {},
   "source": [
    "### Балансировка классов"
   ]
  },
  {
   "cell_type": "code",
   "execution_count": 4,
   "id": "01bfa6a5",
   "metadata": {},
   "outputs": [],
   "source": [
    "def balance_df_by_target(df, target_name, method='over'):\n",
    "\n",
    "    assert method in ['over', 'under', 'tomek', 'smote'], 'Неверный метод сэмплирования'\n",
    "    \n",
    "    target_counts = df[target_name].value_counts()\n",
    "\n",
    "    major_class_name = target_counts.argmax()\n",
    "    minor_class_name = target_counts.argmin()\n",
    "\n",
    "    disbalance_coeff = int(target_counts[major_class_name] / target_counts[minor_class_name]) - 1\n",
    "    if method == 'over':\n",
    "        for i in range(disbalance_coeff):\n",
    "            sample = df[df[target_name] == minor_class_name].sample(target_counts[minor_class_name])\n",
    "            df = df.append(sample, ignore_index=True)\n",
    "            \n",
    "    elif method == 'under':\n",
    "        df_ = df.copy()\n",
    "        df = df_[df_[target_name] == minor_class_name]\n",
    "        tmp = df_[df_[target_name] == major_class_name]\n",
    "        df = df.append(tmp.iloc[\n",
    "            np.random.randint(0, tmp.shape[0], target_counts[minor_class_name])\n",
    "        ], ignore_index=True)\n",
    "\n",
    "    elif method == 'tomek':\n",
    "        from imblearn.under_sampling import TomekLinks\n",
    "        tl = TomekLinks()\n",
    "        X_tomek, y_tomek = tl.fit_resample(df.drop(columns=target_name), df[target_name])\n",
    "        df = pd.concat([X_tomek, y_tomek], axis=1)\n",
    "    \n",
    "    elif method == 'smote':\n",
    "        from imblearn.over_sampling import SMOTE\n",
    "        smote = SMOTE()\n",
    "        X_smote, y_smote = smote.fit_resample(df.drop(columns=target_name), df[target_name])\n",
    "        df = pd.concat([X_smote, y_smote], axis=1)\n",
    "\n",
    "    return df.sample(frac=1) "
   ]
  },
  {
   "cell_type": "markdown",
   "id": "45fa0bc5",
   "metadata": {},
   "source": [
    "### Подбор оптимального размера выборки, кривая обучения"
   ]
  },
  {
   "cell_type": "code",
   "execution_count": 5,
   "id": "e6ad097c",
   "metadata": {},
   "outputs": [],
   "source": [
    "def show_learning_curve_plot(estimator, X, y, cv=3, n_jobs=-1, train_sizes=np.linspace(.1, 1.0, 5)):\n",
    "\n",
    "    train_sizes, train_scores, test_scores = learning_curve(estimator, X, y, \n",
    "                                                            cv=cv, \n",
    "                                                            scoring='f1',\n",
    "                                                            train_sizes=train_sizes, \n",
    "                                                            n_jobs=n_jobs)\n",
    "    train_scores_mean = np.mean(train_scores, axis=1)\n",
    "    train_scores_std = np.std(train_scores, axis=1)\n",
    "    test_scores_mean = np.mean(test_scores, axis=1)\n",
    "    test_scores_std = np.std(test_scores, axis=1)\n",
    "\n",
    "    plt.figure(figsize=(15,8))\n",
    "    plt.fill_between(train_sizes, train_scores_mean - train_scores_std,\n",
    "                     train_scores_mean + train_scores_std, alpha=0.1, color=\"r\")\n",
    "    plt.fill_between(train_sizes, test_scores_mean - test_scores_std,\n",
    "                     test_scores_mean + test_scores_std, alpha=0.1, color=\"g\")\n",
    "    plt.plot(train_sizes, train_scores_mean, 'o-', color=\"r\",\n",
    "             label=\"Training score\")\n",
    "    plt.plot(train_sizes, test_scores_mean, 'o-', color=\"g\",\n",
    "             label=\"Cross-validation score\")\n",
    "\n",
    "    plt.title(f\"Learning curves ({type(estimator).__name__})\")\n",
    "    plt.xlabel(\"Training examples\")\n",
    "    plt.ylabel(\"Score\")     \n",
    "    plt.legend(loc=\"best\")\n",
    "    plt.grid()\n",
    "    plt.show()"
   ]
  },
  {
   "cell_type": "markdown",
   "id": "1279c620",
   "metadata": {},
   "source": [
    "### Выбор порога вероятности для определения класса"
   ]
  },
  {
   "cell_type": "code",
   "execution_count": 6,
   "id": "d9fedcac",
   "metadata": {},
   "outputs": [],
   "source": [
    "def show_proba_calibration_plots(y_predicted_probs, y_true_labels):\n",
    "    preds_with_true_labels = np.array(list(zip(y_predicted_probs, y_true_labels)))\n",
    "\n",
    "    thresholds = []\n",
    "    precisions = []\n",
    "    recalls = []\n",
    "    f1_scores = []\n",
    "\n",
    "    for threshold in np.linspace(0.1, 0.9, 9):\n",
    "        thresholds.append(threshold)\n",
    "        precisions.append(precision_score(y_true_labels, list(map(int, y_predicted_probs > threshold))))\n",
    "        recalls.append(recall_score(y_true_labels, list(map(int, y_predicted_probs > threshold))))\n",
    "        f1_scores.append(f1_score(y_true_labels, list(map(int, y_predicted_probs > threshold))))\n",
    "\n",
    "    scores_table = pd.DataFrame({'f1':f1_scores,\n",
    "                                 'precision':precisions,\n",
    "                                 'recall':recalls,\n",
    "                                 'probability':thresholds}).sort_values('f1', ascending=False).round(3)\n",
    "  \n",
    "    figure = plt.figure(figsize = (15, 5))\n",
    "\n",
    "    plt1 = figure.add_subplot(121)\n",
    "    plt1.plot(thresholds, precisions, label='Precision', linewidth=4)\n",
    "    plt1.plot(thresholds, recalls, label='Recall', linewidth=4)\n",
    "    plt1.plot(thresholds, f1_scores, label='F1', linewidth=4)\n",
    "    plt1.set_ylabel('Scores')\n",
    "    plt1.set_xlabel('Probability threshold')\n",
    "    plt1.set_title('Probabilities threshold calibration')\n",
    "    plt1.legend(bbox_to_anchor=(0.25, 0.25))   \n",
    "    plt1.table(cellText = scores_table.values,\n",
    "               colLabels = scores_table.columns, \n",
    "               colLoc = 'center', cellLoc = 'center', loc = 'bottom', bbox = [0, -1.3, 1, 1])\n",
    "\n",
    "    plt2 = figure.add_subplot(122)\n",
    "    plt2.hist(preds_with_true_labels[preds_with_true_labels[:, 1] == 0][:, 0], \n",
    "              label='Another class', color='royalblue', alpha=1)\n",
    "    plt2.hist(preds_with_true_labels[preds_with_true_labels[:, 1] == 1][:, 0], \n",
    "              label='Main class', color='darkcyan', alpha=0.8)\n",
    "    plt2.set_ylabel('Number of examples')\n",
    "    plt2.set_xlabel('Probabilities')\n",
    "    plt2.set_title('Probability histogram')\n",
    "    plt2.legend(bbox_to_anchor=(1, 1))\n",
    "\n",
    "    plt.show()"
   ]
  },
  {
   "cell_type": "markdown",
   "id": "fe26af81",
   "metadata": {},
   "source": [
    "### Важность признаков"
   ]
  },
  {
   "cell_type": "code",
   "execution_count": 7,
   "id": "007cf069",
   "metadata": {},
   "outputs": [],
   "source": [
    "def show_feature_importances(feature_names, feature_importances, get_top=None):\n",
    "    feature_importances = pd.DataFrame({'feature': feature_names, 'importance': feature_importances})\n",
    "    feature_importances = feature_importances.sort_values('importance', ascending=False)\n",
    "       \n",
    "    plt.figure(figsize = (20, len(feature_importances) * 0.355))\n",
    "    \n",
    "    sns.barplot(feature_importances['importance'], feature_importances['feature'])\n",
    "    \n",
    "    plt.xlabel('Importance')\n",
    "    plt.title('Importance of features')\n",
    "    plt.show()\n",
    "    \n",
    "    if get_top is not None:\n",
    "        return feature_importances['feature'][:get_top].tolist()"
   ]
  },
  {
   "cell_type": "markdown",
   "id": "c2d95e73",
   "metadata": {},
   "source": [
    "## Пути к директориям и файлам"
   ]
  },
  {
   "cell_type": "code",
   "execution_count": 8,
   "id": "6338b6f4",
   "metadata": {},
   "outputs": [],
   "source": [
    "DATA_ROOT = Path('./data_source/')\n",
    "MODELS_PATH = Path('./models/')\n",
    "\n",
    "# input\n",
    "TRAIN_DATASET_PATH = DATA_ROOT / 'train.csv'\n",
    "TEST_DATASET_PATH = DATA_ROOT / 'test.csv'\n",
    "SUBMIT_DATASET_PATH = DATA_ROOT / 'sample_submission.csv'\n",
    "\n",
    "# output\n",
    "PREPARED_TRAIN_DATASET_PATH = 'train_prep.csv'\n",
    "PREPARED_TEST_DATASET_PATH = 'test_prep.csv'\n",
    "PREDICTION_SET = 'sample_submission.csv'"
   ]
  },
  {
   "cell_type": "markdown",
   "id": "be6158ba",
   "metadata": {},
   "source": [
    "#### Загрузка данных"
   ]
  },
  {
   "cell_type": "code",
   "execution_count": 9,
   "id": "1c4d3a69",
   "metadata": {},
   "outputs": [],
   "source": [
    "df_train_base = pd.read_csv(TRAIN_DATASET_PATH)\n",
    "df_test_base = pd.read_csv(TEST_DATASET_PATH)"
   ]
  },
  {
   "cell_type": "code",
   "execution_count": 10,
   "id": "b7f70268",
   "metadata": {},
   "outputs": [
    {
     "data": {
      "text/plain": [
       "(7500, 17)"
      ]
     },
     "execution_count": 10,
     "metadata": {},
     "output_type": "execute_result"
    }
   ],
   "source": [
    "df_train_base.shape"
   ]
  },
  {
   "cell_type": "code",
   "execution_count": 11,
   "id": "b1175aa0",
   "metadata": {},
   "outputs": [
    {
     "data": {
      "text/plain": [
       "(2500, 16)"
      ]
     },
     "execution_count": 11,
     "metadata": {},
     "output_type": "execute_result"
    }
   ],
   "source": [
    "df_test_base.shape"
   ]
  },
  {
   "cell_type": "markdown",
   "id": "ba6b8ce3",
   "metadata": {},
   "source": [
    "## Анализ данных\n",
    "### Обзор обучающей выборки"
   ]
  },
  {
   "cell_type": "code",
   "execution_count": 12,
   "id": "378e60e0",
   "metadata": {},
   "outputs": [
    {
     "data": {
      "text/html": [
       "<div>\n",
       "<style scoped>\n",
       "    .dataframe tbody tr th:only-of-type {\n",
       "        vertical-align: middle;\n",
       "    }\n",
       "\n",
       "    .dataframe tbody tr th {\n",
       "        vertical-align: top;\n",
       "    }\n",
       "\n",
       "    .dataframe thead th {\n",
       "        text-align: right;\n",
       "    }\n",
       "</style>\n",
       "<table border=\"1\" class=\"dataframe\">\n",
       "  <thead>\n",
       "    <tr style=\"text-align: right;\">\n",
       "      <th></th>\n",
       "      <th>0</th>\n",
       "      <th>1</th>\n",
       "      <th>2</th>\n",
       "      <th>3</th>\n",
       "      <th>4</th>\n",
       "    </tr>\n",
       "  </thead>\n",
       "  <tbody>\n",
       "    <tr>\n",
       "      <th>Home Ownership</th>\n",
       "      <td>Own Home</td>\n",
       "      <td>Own Home</td>\n",
       "      <td>Home Mortgage</td>\n",
       "      <td>Own Home</td>\n",
       "      <td>Rent</td>\n",
       "    </tr>\n",
       "    <tr>\n",
       "      <th>Annual Income</th>\n",
       "      <td>482087.0</td>\n",
       "      <td>1025487.0</td>\n",
       "      <td>751412.0</td>\n",
       "      <td>805068.0</td>\n",
       "      <td>776264.0</td>\n",
       "    </tr>\n",
       "    <tr>\n",
       "      <th>Years in current job</th>\n",
       "      <td>NaN</td>\n",
       "      <td>10+ years</td>\n",
       "      <td>8 years</td>\n",
       "      <td>6 years</td>\n",
       "      <td>8 years</td>\n",
       "    </tr>\n",
       "    <tr>\n",
       "      <th>Tax Liens</th>\n",
       "      <td>0.0</td>\n",
       "      <td>0.0</td>\n",
       "      <td>0.0</td>\n",
       "      <td>0.0</td>\n",
       "      <td>0.0</td>\n",
       "    </tr>\n",
       "    <tr>\n",
       "      <th>Number of Open Accounts</th>\n",
       "      <td>11.0</td>\n",
       "      <td>15.0</td>\n",
       "      <td>11.0</td>\n",
       "      <td>8.0</td>\n",
       "      <td>13.0</td>\n",
       "    </tr>\n",
       "    <tr>\n",
       "      <th>Years of Credit History</th>\n",
       "      <td>26.3</td>\n",
       "      <td>15.3</td>\n",
       "      <td>35.0</td>\n",
       "      <td>22.5</td>\n",
       "      <td>13.6</td>\n",
       "    </tr>\n",
       "    <tr>\n",
       "      <th>Maximum Open Credit</th>\n",
       "      <td>685960.0</td>\n",
       "      <td>1181730.0</td>\n",
       "      <td>1182434.0</td>\n",
       "      <td>147400.0</td>\n",
       "      <td>385836.0</td>\n",
       "    </tr>\n",
       "    <tr>\n",
       "      <th>Number of Credit Problems</th>\n",
       "      <td>1.0</td>\n",
       "      <td>0.0</td>\n",
       "      <td>0.0</td>\n",
       "      <td>1.0</td>\n",
       "      <td>1.0</td>\n",
       "    </tr>\n",
       "    <tr>\n",
       "      <th>Months since last delinquent</th>\n",
       "      <td>NaN</td>\n",
       "      <td>NaN</td>\n",
       "      <td>NaN</td>\n",
       "      <td>NaN</td>\n",
       "      <td>NaN</td>\n",
       "    </tr>\n",
       "    <tr>\n",
       "      <th>Bankruptcies</th>\n",
       "      <td>1.0</td>\n",
       "      <td>0.0</td>\n",
       "      <td>0.0</td>\n",
       "      <td>1.0</td>\n",
       "      <td>0.0</td>\n",
       "    </tr>\n",
       "    <tr>\n",
       "      <th>Purpose</th>\n",
       "      <td>debt consolidation</td>\n",
       "      <td>debt consolidation</td>\n",
       "      <td>debt consolidation</td>\n",
       "      <td>debt consolidation</td>\n",
       "      <td>debt consolidation</td>\n",
       "    </tr>\n",
       "    <tr>\n",
       "      <th>Term</th>\n",
       "      <td>Short Term</td>\n",
       "      <td>Long Term</td>\n",
       "      <td>Short Term</td>\n",
       "      <td>Short Term</td>\n",
       "      <td>Short Term</td>\n",
       "    </tr>\n",
       "    <tr>\n",
       "      <th>Current Loan Amount</th>\n",
       "      <td>99999999.0</td>\n",
       "      <td>264968.0</td>\n",
       "      <td>99999999.0</td>\n",
       "      <td>121396.0</td>\n",
       "      <td>125840.0</td>\n",
       "    </tr>\n",
       "    <tr>\n",
       "      <th>Current Credit Balance</th>\n",
       "      <td>47386.0</td>\n",
       "      <td>394972.0</td>\n",
       "      <td>308389.0</td>\n",
       "      <td>95855.0</td>\n",
       "      <td>93309.0</td>\n",
       "    </tr>\n",
       "    <tr>\n",
       "      <th>Monthly Debt</th>\n",
       "      <td>7914.0</td>\n",
       "      <td>18373.0</td>\n",
       "      <td>13651.0</td>\n",
       "      <td>11338.0</td>\n",
       "      <td>7180.0</td>\n",
       "    </tr>\n",
       "    <tr>\n",
       "      <th>Credit Score</th>\n",
       "      <td>749.0</td>\n",
       "      <td>737.0</td>\n",
       "      <td>742.0</td>\n",
       "      <td>694.0</td>\n",
       "      <td>719.0</td>\n",
       "    </tr>\n",
       "    <tr>\n",
       "      <th>Credit Default</th>\n",
       "      <td>0</td>\n",
       "      <td>1</td>\n",
       "      <td>0</td>\n",
       "      <td>0</td>\n",
       "      <td>0</td>\n",
       "    </tr>\n",
       "  </tbody>\n",
       "</table>\n",
       "</div>"
      ],
      "text/plain": [
       "                                               0                   1  \\\n",
       "Home Ownership                          Own Home            Own Home   \n",
       "Annual Income                           482087.0           1025487.0   \n",
       "Years in current job                         NaN           10+ years   \n",
       "Tax Liens                                    0.0                 0.0   \n",
       "Number of Open Accounts                     11.0                15.0   \n",
       "Years of Credit History                     26.3                15.3   \n",
       "Maximum Open Credit                     685960.0           1181730.0   \n",
       "Number of Credit Problems                    1.0                 0.0   \n",
       "Months since last delinquent                 NaN                 NaN   \n",
       "Bankruptcies                                 1.0                 0.0   \n",
       "Purpose                       debt consolidation  debt consolidation   \n",
       "Term                                  Short Term           Long Term   \n",
       "Current Loan Amount                   99999999.0            264968.0   \n",
       "Current Credit Balance                   47386.0            394972.0   \n",
       "Monthly Debt                              7914.0             18373.0   \n",
       "Credit Score                               749.0               737.0   \n",
       "Credit Default                                 0                   1   \n",
       "\n",
       "                                               2                   3  \\\n",
       "Home Ownership                     Home Mortgage            Own Home   \n",
       "Annual Income                           751412.0            805068.0   \n",
       "Years in current job                     8 years             6 years   \n",
       "Tax Liens                                    0.0                 0.0   \n",
       "Number of Open Accounts                     11.0                 8.0   \n",
       "Years of Credit History                     35.0                22.5   \n",
       "Maximum Open Credit                    1182434.0            147400.0   \n",
       "Number of Credit Problems                    0.0                 1.0   \n",
       "Months since last delinquent                 NaN                 NaN   \n",
       "Bankruptcies                                 0.0                 1.0   \n",
       "Purpose                       debt consolidation  debt consolidation   \n",
       "Term                                  Short Term          Short Term   \n",
       "Current Loan Amount                   99999999.0            121396.0   \n",
       "Current Credit Balance                  308389.0             95855.0   \n",
       "Monthly Debt                             13651.0             11338.0   \n",
       "Credit Score                               742.0               694.0   \n",
       "Credit Default                                 0                   0   \n",
       "\n",
       "                                               4  \n",
       "Home Ownership                              Rent  \n",
       "Annual Income                           776264.0  \n",
       "Years in current job                     8 years  \n",
       "Tax Liens                                    0.0  \n",
       "Number of Open Accounts                     13.0  \n",
       "Years of Credit History                     13.6  \n",
       "Maximum Open Credit                     385836.0  \n",
       "Number of Credit Problems                    1.0  \n",
       "Months since last delinquent                 NaN  \n",
       "Bankruptcies                                 0.0  \n",
       "Purpose                       debt consolidation  \n",
       "Term                                  Short Term  \n",
       "Current Loan Amount                     125840.0  \n",
       "Current Credit Balance                   93309.0  \n",
       "Monthly Debt                              7180.0  \n",
       "Credit Score                               719.0  \n",
       "Credit Default                                 0  "
      ]
     },
     "execution_count": 12,
     "metadata": {},
     "output_type": "execute_result"
    }
   ],
   "source": [
    "df_train_base.head().T"
   ]
  },
  {
   "cell_type": "code",
   "execution_count": 13,
   "id": "dcefbcb4",
   "metadata": {
    "scrolled": true
   },
   "outputs": [
    {
     "name": "stdout",
     "output_type": "stream",
     "text": [
      "<class 'pandas.core.frame.DataFrame'>\n",
      "RangeIndex: 7500 entries, 0 to 7499\n",
      "Data columns (total 17 columns):\n",
      " #   Column                        Non-Null Count  Dtype  \n",
      "---  ------                        --------------  -----  \n",
      " 0   Home Ownership                7500 non-null   object \n",
      " 1   Annual Income                 5943 non-null   float64\n",
      " 2   Years in current job          7129 non-null   object \n",
      " 3   Tax Liens                     7500 non-null   float64\n",
      " 4   Number of Open Accounts       7500 non-null   float64\n",
      " 5   Years of Credit History       7500 non-null   float64\n",
      " 6   Maximum Open Credit           7500 non-null   float64\n",
      " 7   Number of Credit Problems     7500 non-null   float64\n",
      " 8   Months since last delinquent  3419 non-null   float64\n",
      " 9   Bankruptcies                  7486 non-null   float64\n",
      " 10  Purpose                       7500 non-null   object \n",
      " 11  Term                          7500 non-null   object \n",
      " 12  Current Loan Amount           7500 non-null   float64\n",
      " 13  Current Credit Balance        7500 non-null   float64\n",
      " 14  Monthly Debt                  7500 non-null   float64\n",
      " 15  Credit Score                  5943 non-null   float64\n",
      " 16  Credit Default                7500 non-null   int64  \n",
      "dtypes: float64(12), int64(1), object(4)\n",
      "memory usage: 996.2+ KB\n"
     ]
    }
   ],
   "source": [
    "df_train_base.info()"
   ]
  },
  {
   "cell_type": "markdown",
   "id": "67a5b88d",
   "metadata": {},
   "source": [
    "Из описания обучающей выборки видим, что есть пропуски в признаках:\n",
    " - Annual Income\n",
    " - Years in current job\n",
    " - Months since last delinquent\n",
    " - Credit Score\n",
    " - Bankruptcies"
   ]
  },
  {
   "cell_type": "code",
   "execution_count": 14,
   "id": "635ebd87",
   "metadata": {
    "scrolled": true
   },
   "outputs": [
    {
     "data": {
      "text/html": [
       "<div>\n",
       "<style scoped>\n",
       "    .dataframe tbody tr th:only-of-type {\n",
       "        vertical-align: middle;\n",
       "    }\n",
       "\n",
       "    .dataframe tbody tr th {\n",
       "        vertical-align: top;\n",
       "    }\n",
       "\n",
       "    .dataframe thead th {\n",
       "        text-align: right;\n",
       "    }\n",
       "</style>\n",
       "<table border=\"1\" class=\"dataframe\">\n",
       "  <thead>\n",
       "    <tr style=\"text-align: right;\">\n",
       "      <th></th>\n",
       "      <th>count</th>\n",
       "      <th>mean</th>\n",
       "      <th>std</th>\n",
       "      <th>min</th>\n",
       "      <th>25%</th>\n",
       "      <th>50%</th>\n",
       "      <th>75%</th>\n",
       "      <th>max</th>\n",
       "    </tr>\n",
       "  </thead>\n",
       "  <tbody>\n",
       "    <tr>\n",
       "      <th>Annual Income</th>\n",
       "      <td>5943.0</td>\n",
       "      <td>1.366392e+06</td>\n",
       "      <td>8.453392e+05</td>\n",
       "      <td>164597.0</td>\n",
       "      <td>844341.0</td>\n",
       "      <td>1168386.0</td>\n",
       "      <td>1640137.00</td>\n",
       "      <td>1.014934e+07</td>\n",
       "    </tr>\n",
       "    <tr>\n",
       "      <th>Tax Liens</th>\n",
       "      <td>7500.0</td>\n",
       "      <td>3.013333e-02</td>\n",
       "      <td>2.716035e-01</td>\n",
       "      <td>0.0</td>\n",
       "      <td>0.0</td>\n",
       "      <td>0.0</td>\n",
       "      <td>0.00</td>\n",
       "      <td>7.000000e+00</td>\n",
       "    </tr>\n",
       "    <tr>\n",
       "      <th>Number of Open Accounts</th>\n",
       "      <td>7500.0</td>\n",
       "      <td>1.113093e+01</td>\n",
       "      <td>4.908924e+00</td>\n",
       "      <td>2.0</td>\n",
       "      <td>8.0</td>\n",
       "      <td>10.0</td>\n",
       "      <td>14.00</td>\n",
       "      <td>4.300000e+01</td>\n",
       "    </tr>\n",
       "    <tr>\n",
       "      <th>Years of Credit History</th>\n",
       "      <td>7500.0</td>\n",
       "      <td>1.831747e+01</td>\n",
       "      <td>7.041946e+00</td>\n",
       "      <td>4.0</td>\n",
       "      <td>13.5</td>\n",
       "      <td>17.0</td>\n",
       "      <td>21.80</td>\n",
       "      <td>5.770000e+01</td>\n",
       "    </tr>\n",
       "    <tr>\n",
       "      <th>Maximum Open Credit</th>\n",
       "      <td>7500.0</td>\n",
       "      <td>9.451537e+05</td>\n",
       "      <td>1.602622e+07</td>\n",
       "      <td>0.0</td>\n",
       "      <td>279229.5</td>\n",
       "      <td>478159.0</td>\n",
       "      <td>793501.50</td>\n",
       "      <td>1.304726e+09</td>\n",
       "    </tr>\n",
       "    <tr>\n",
       "      <th>Number of Credit Problems</th>\n",
       "      <td>7500.0</td>\n",
       "      <td>1.700000e-01</td>\n",
       "      <td>4.985978e-01</td>\n",
       "      <td>0.0</td>\n",
       "      <td>0.0</td>\n",
       "      <td>0.0</td>\n",
       "      <td>0.00</td>\n",
       "      <td>7.000000e+00</td>\n",
       "    </tr>\n",
       "    <tr>\n",
       "      <th>Months since last delinquent</th>\n",
       "      <td>3419.0</td>\n",
       "      <td>3.469260e+01</td>\n",
       "      <td>2.168881e+01</td>\n",
       "      <td>0.0</td>\n",
       "      <td>16.0</td>\n",
       "      <td>32.0</td>\n",
       "      <td>50.00</td>\n",
       "      <td>1.180000e+02</td>\n",
       "    </tr>\n",
       "    <tr>\n",
       "      <th>Bankruptcies</th>\n",
       "      <td>7486.0</td>\n",
       "      <td>1.171520e-01</td>\n",
       "      <td>3.471917e-01</td>\n",
       "      <td>0.0</td>\n",
       "      <td>0.0</td>\n",
       "      <td>0.0</td>\n",
       "      <td>0.00</td>\n",
       "      <td>4.000000e+00</td>\n",
       "    </tr>\n",
       "    <tr>\n",
       "      <th>Current Loan Amount</th>\n",
       "      <td>7500.0</td>\n",
       "      <td>1.187318e+07</td>\n",
       "      <td>3.192612e+07</td>\n",
       "      <td>11242.0</td>\n",
       "      <td>180169.0</td>\n",
       "      <td>309573.0</td>\n",
       "      <td>519882.00</td>\n",
       "      <td>1.000000e+08</td>\n",
       "    </tr>\n",
       "    <tr>\n",
       "      <th>Current Credit Balance</th>\n",
       "      <td>7500.0</td>\n",
       "      <td>2.898332e+05</td>\n",
       "      <td>3.178714e+05</td>\n",
       "      <td>0.0</td>\n",
       "      <td>114256.5</td>\n",
       "      <td>209323.0</td>\n",
       "      <td>360406.25</td>\n",
       "      <td>6.506797e+06</td>\n",
       "    </tr>\n",
       "    <tr>\n",
       "      <th>Monthly Debt</th>\n",
       "      <td>7500.0</td>\n",
       "      <td>1.831445e+04</td>\n",
       "      <td>1.192676e+04</td>\n",
       "      <td>0.0</td>\n",
       "      <td>10067.5</td>\n",
       "      <td>16076.5</td>\n",
       "      <td>23818.00</td>\n",
       "      <td>1.366790e+05</td>\n",
       "    </tr>\n",
       "    <tr>\n",
       "      <th>Credit Score</th>\n",
       "      <td>5943.0</td>\n",
       "      <td>1.151087e+03</td>\n",
       "      <td>1.604451e+03</td>\n",
       "      <td>585.0</td>\n",
       "      <td>711.0</td>\n",
       "      <td>731.0</td>\n",
       "      <td>743.00</td>\n",
       "      <td>7.510000e+03</td>\n",
       "    </tr>\n",
       "    <tr>\n",
       "      <th>Credit Default</th>\n",
       "      <td>7500.0</td>\n",
       "      <td>2.817333e-01</td>\n",
       "      <td>4.498740e-01</td>\n",
       "      <td>0.0</td>\n",
       "      <td>0.0</td>\n",
       "      <td>0.0</td>\n",
       "      <td>1.00</td>\n",
       "      <td>1.000000e+00</td>\n",
       "    </tr>\n",
       "  </tbody>\n",
       "</table>\n",
       "</div>"
      ],
      "text/plain": [
       "                               count          mean           std       min  \\\n",
       "Annual Income                 5943.0  1.366392e+06  8.453392e+05  164597.0   \n",
       "Tax Liens                     7500.0  3.013333e-02  2.716035e-01       0.0   \n",
       "Number of Open Accounts       7500.0  1.113093e+01  4.908924e+00       2.0   \n",
       "Years of Credit History       7500.0  1.831747e+01  7.041946e+00       4.0   \n",
       "Maximum Open Credit           7500.0  9.451537e+05  1.602622e+07       0.0   \n",
       "Number of Credit Problems     7500.0  1.700000e-01  4.985978e-01       0.0   \n",
       "Months since last delinquent  3419.0  3.469260e+01  2.168881e+01       0.0   \n",
       "Bankruptcies                  7486.0  1.171520e-01  3.471917e-01       0.0   \n",
       "Current Loan Amount           7500.0  1.187318e+07  3.192612e+07   11242.0   \n",
       "Current Credit Balance        7500.0  2.898332e+05  3.178714e+05       0.0   \n",
       "Monthly Debt                  7500.0  1.831445e+04  1.192676e+04       0.0   \n",
       "Credit Score                  5943.0  1.151087e+03  1.604451e+03     585.0   \n",
       "Credit Default                7500.0  2.817333e-01  4.498740e-01       0.0   \n",
       "\n",
       "                                   25%        50%         75%           max  \n",
       "Annual Income                 844341.0  1168386.0  1640137.00  1.014934e+07  \n",
       "Tax Liens                          0.0        0.0        0.00  7.000000e+00  \n",
       "Number of Open Accounts            8.0       10.0       14.00  4.300000e+01  \n",
       "Years of Credit History           13.5       17.0       21.80  5.770000e+01  \n",
       "Maximum Open Credit           279229.5   478159.0   793501.50  1.304726e+09  \n",
       "Number of Credit Problems          0.0        0.0        0.00  7.000000e+00  \n",
       "Months since last delinquent      16.0       32.0       50.00  1.180000e+02  \n",
       "Bankruptcies                       0.0        0.0        0.00  4.000000e+00  \n",
       "Current Loan Amount           180169.0   309573.0   519882.00  1.000000e+08  \n",
       "Current Credit Balance        114256.5   209323.0   360406.25  6.506797e+06  \n",
       "Monthly Debt                   10067.5    16076.5    23818.00  1.366790e+05  \n",
       "Credit Score                     711.0      731.0      743.00  7.510000e+03  \n",
       "Credit Default                     0.0        0.0        1.00  1.000000e+00  "
      ]
     },
     "execution_count": 14,
     "metadata": {},
     "output_type": "execute_result"
    }
   ],
   "source": [
    "df_train_base.describe().T"
   ]
  },
  {
   "cell_type": "markdown",
   "id": "af090a78",
   "metadata": {},
   "source": [
    "#### Выделение целевой переменной и групп признаков"
   ]
  },
  {
   "cell_type": "code",
   "execution_count": 15,
   "id": "9a0122be",
   "metadata": {},
   "outputs": [],
   "source": [
    "TARGET_NAME = 'Credit Default'\n",
    "\n",
    "NUM_FEATURE_NAMES = ['Annual Income', 'Tax Liens', 'Number of Open Accounts', 'Years of Credit History',\n",
    "                     'Maximum Open Credit', 'Number of Credit Problems', 'Months since last delinquent',\n",
    "                     'Bankruptcies', 'Current Loan Amount', 'Current Credit Balance', 'Monthly Debt',\n",
    "                     'Credit Score']\n",
    "\n",
    "CAT_FEATURE_NAMES = ['Home Ownership', 'Years in current job', 'Purpose', 'Term']"
   ]
  },
  {
   "cell_type": "markdown",
   "id": "677c227c",
   "metadata": {},
   "source": [
    "#### Анализ значений целевой переменной"
   ]
  },
  {
   "cell_type": "code",
   "execution_count": 16,
   "id": "3d52f78a",
   "metadata": {
    "scrolled": false
   },
   "outputs": [
    {
     "data": {
      "image/png": "[encoded data removed]",
      "text/plain": [
       "<Figure size 288x288 with 1 Axes>"
      ]
     },
     "metadata": {
      "needs_background": "light"
     },
     "output_type": "display_data"
    }
   ],
   "source": [
    "df_train_base[TARGET_NAME].hist(figsize=(4, 4), bins=20, grid=False);"
   ]
  },
  {
   "cell_type": "code",
   "execution_count": 17,
   "id": "a692537f",
   "metadata": {},
   "outputs": [
    {
     "data": {
      "text/plain": [
       "0    5387\n",
       "1    2113\n",
       "Name: Credit Default, dtype: int64"
      ]
     },
     "execution_count": 17,
     "metadata": {},
     "output_type": "execute_result"
    }
   ],
   "source": [
    "df_train_base[TARGET_NAME].value_counts()"
   ]
  },
  {
   "cell_type": "markdown",
   "id": "50fe511d",
   "metadata": {},
   "source": [
    "Соотношение класов в целевой переменной примерно 2 к 1. Дисбаланс классов присутствует, но его влияние на результат предсказаний не слишком велико. При построении модели можно будет сделать балансировку классов."
   ]
  },
  {
   "cell_type": "markdown",
   "id": "876d14c6",
   "metadata": {},
   "source": [
    "#### Анализ числовых признаков"
   ]
  },
  {
   "cell_type": "code",
   "execution_count": 18,
   "id": "d1d4654c",
   "metadata": {
    "scrolled": true
   },
   "outputs": [
    {
     "data": {
      "image/png": "[encoded data removed]",
      "text/plain": [
       "<Figure size 1440x1440 with 12 Axes>"
      ]
     },
     "metadata": {
      "needs_background": "light"
     },
     "output_type": "display_data"
    }
   ],
   "source": [
    "df_train_base[NUM_FEATURE_NAMES].hist(figsize=(20, 20), bins=20, grid=False);"
   ]
  },
  {
   "cell_type": "code",
   "execution_count": 19,
   "id": "4ca56745",
   "metadata": {},
   "outputs": [
    {
     "name": "stdout",
     "output_type": "stream",
     "text": [
      "Annual Income\n",
      "\n",
      "1338113.0    4\n",
      "969475.0     4\n",
      "1161660.0    4\n",
      "1043651.0    4\n",
      "1058376.0    4\n",
      "            ..\n",
      "1272316.0    1\n",
      "712082.0     1\n",
      "695476.0     1\n",
      "678889.0     1\n",
      "402192.0     1\n",
      "Name: Annual Income, Length: 5478, dtype: int64\n",
      "****************************************************************************************************\n",
      "\n",
      "Tax Liens\n",
      "\n",
      "0.0    7366\n",
      "1.0      83\n",
      "2.0      30\n",
      "3.0      10\n",
      "4.0       6\n",
      "6.0       2\n",
      "5.0       2\n",
      "7.0       1\n",
      "Name: Tax Liens, dtype: int64\n",
      "****************************************************************************************************\n",
      "\n",
      "Number of Open Accounts\n",
      "\n",
      "9.0     728\n",
      "11.0    692\n",
      "10.0    677\n",
      "8.0     638\n",
      "7.0     613\n",
      "12.0    562\n",
      "6.0     504\n",
      "13.0    465\n",
      "14.0    420\n",
      "5.0     325\n",
      "15.0    313\n",
      "16.0    265\n",
      "17.0    232\n",
      "4.0     212\n",
      "18.0    143\n",
      "19.0    139\n",
      "3.0      95\n",
      "20.0     93\n",
      "21.0     78\n",
      "23.0     59\n",
      "24.0     50\n",
      "22.0     49\n",
      "25.0     32\n",
      "2.0      28\n",
      "28.0     14\n",
      "27.0     14\n",
      "26.0     12\n",
      "30.0     11\n",
      "29.0     10\n",
      "32.0      6\n",
      "33.0      6\n",
      "31.0      6\n",
      "34.0      2\n",
      "37.0      2\n",
      "43.0      1\n",
      "41.0      1\n",
      "38.0      1\n",
      "35.0      1\n",
      "42.0      1\n",
      "Name: Number of Open Accounts, dtype: int64\n",
      "****************************************************************************************************\n",
      "\n",
      "Years of Credit History\n",
      "\n",
      "15.0    104\n",
      "16.0     99\n",
      "16.5     91\n",
      "17.0     86\n",
      "17.5     83\n",
      "       ... \n",
      "44.0      1\n",
      "39.8      1\n",
      "40.0      1\n",
      "39.9      1\n",
      "48.3      1\n",
      "Name: Years of Credit History, Length: 408, dtype: int64\n",
      "****************************************************************************************************\n",
      "\n",
      "Maximum Open Credit\n",
      "\n",
      "0.0         65\n",
      "319110.0     5\n",
      "246224.0     3\n",
      "344058.0     3\n",
      "513524.0     3\n",
      "            ..\n",
      "668360.0     1\n",
      "642224.0     1\n",
      "779372.0     1\n",
      "372812.0     1\n",
      "480832.0     1\n",
      "Name: Maximum Open Credit, Length: 6963, dtype: int64\n",
      "****************************************************************************************************\n",
      "\n",
      "Number of Credit Problems\n",
      "\n",
      "0.0    6469\n",
      "1.0     882\n",
      "2.0      93\n",
      "3.0      35\n",
      "4.0       9\n",
      "5.0       7\n",
      "6.0       4\n",
      "7.0       1\n",
      "Name: Number of Credit Problems, dtype: int64\n",
      "****************************************************************************************************\n",
      "\n",
      "Months since last delinquent\n",
      "\n",
      "14.0     76\n",
      "29.0     71\n",
      "33.0     68\n",
      "8.0      68\n",
      "12.0     65\n",
      "         ..\n",
      "86.0      1\n",
      "118.0     1\n",
      "84.0      1\n",
      "91.0      1\n",
      "92.0      1\n",
      "Name: Months since last delinquent, Length: 89, dtype: int64\n",
      "****************************************************************************************************\n",
      "\n",
      "Bankruptcies\n",
      "\n",
      "0.0    6660\n",
      "1.0     786\n",
      "2.0      31\n",
      "3.0       7\n",
      "4.0       2\n",
      "Name: Bankruptcies, dtype: int64\n",
      "****************************************************************************************************\n",
      "\n",
      "Current Loan Amount\n",
      "\n",
      "99999999.0    870\n",
      "218064.0        6\n",
      "89298.0         6\n",
      "222926.0        5\n",
      "265826.0        5\n",
      "             ... \n",
      "351626.0        1\n",
      "212498.0        1\n",
      "187682.0        1\n",
      "108922.0        1\n",
      "26928.0         1\n",
      "Name: Current Loan Amount, Length: 5386, dtype: int64\n",
      "****************************************************************************************************\n",
      "\n",
      "Current Credit Balance\n",
      "\n",
      "0.0         53\n",
      "191710.0     5\n",
      "106818.0     4\n",
      "83638.0      4\n",
      "136401.0     4\n",
      "            ..\n",
      "445360.0     1\n",
      "243371.0     1\n",
      "25688.0      1\n",
      "62054.0      1\n",
      "288192.0     1\n",
      "Name: Current Credit Balance, Length: 6592, dtype: int64\n",
      "****************************************************************************************************\n",
      "\n",
      "Monthly Debt\n",
      "\n",
      "0.0        6\n",
      "19222.0    4\n",
      "19667.0    4\n",
      "12986.0    3\n",
      "13356.0    3\n",
      "          ..\n",
      "33217.0    1\n",
      "8203.0     1\n",
      "15150.0    1\n",
      "1992.0     1\n",
      "9061.0     1\n",
      "Name: Monthly Debt, Length: 6716, dtype: int64\n",
      "****************************************************************************************************\n",
      "\n",
      "Credit Score\n",
      "\n",
      "740.0     169\n",
      "747.0     168\n",
      "748.0     157\n",
      "745.0     152\n",
      "742.0     151\n",
      "         ... \n",
      "616.0       1\n",
      "6600.0      1\n",
      "629.0       1\n",
      "6820.0      1\n",
      "6060.0      1\n",
      "Name: Credit Score, Length: 268, dtype: int64\n",
      "****************************************************************************************************\n",
      "\n"
     ]
    }
   ],
   "source": [
    "for num_colname in df_train_base.select_dtypes(include='float64').columns:\n",
    "    print(str(num_colname) + '\\n\\n' + str(df_train_base[num_colname].value_counts()) + '\\n' + '*' * 100 + '\\n')"
   ]
  },
  {
   "cell_type": "markdown",
   "id": "9446afa7",
   "metadata": {},
   "source": [
    "В признаке `Current Loan Amount` 870 записей имеют значение 99 999 999.0, что явно указывет на некорректность внесенных данных и является выбросом. При обработке необходимо будет это исправить заменой значений.<br>\n",
    "Признаки `Current Credit Balance, Monthly Debt, Current Loan Amount и Credit Score`судя по графикам также имеют выбросы. Рассмотрим эти признаки отдельно."
   ]
  },
  {
   "cell_type": "code",
   "execution_count": 20,
   "id": "7d23303a",
   "metadata": {
    "scrolled": false
   },
   "outputs": [
    {
     "data": {
      "image/png": "[encoded data removed]",
      "text/plain": [
       "<Figure size 432x432 with 1 Axes>"
      ]
     },
     "metadata": {
      "needs_background": "light"
     },
     "output_type": "display_data"
    }
   ],
   "source": [
    "df_train_base['Monthly Debt'].hist(figsize=(6, 6), bins=40, grid=False);"
   ]
  },
  {
   "cell_type": "markdown",
   "id": "40ed3897",
   "metadata": {},
   "source": [
    "Значения `Monthly Debt` более 60 000 можно считать выбросами"
   ]
  },
  {
   "cell_type": "code",
   "execution_count": 21,
   "id": "fdbe0c3f",
   "metadata": {
    "scrolled": false
   },
   "outputs": [
    {
     "data": {
      "image/png": "[encoded data removed]",
      "text/plain": [
       "<Figure size 432x432 with 1 Axes>"
      ]
     },
     "metadata": {
      "needs_background": "light"
     },
     "output_type": "display_data"
    }
   ],
   "source": [
    "df_train_base['Credit Score'].hist(figsize=(6, 6), bins=15, grid=False);"
   ]
  },
  {
   "cell_type": "markdown",
   "id": "c0273bb9",
   "metadata": {},
   "source": [
    "Значения `Credit Score` более 6000 являются выбросами"
   ]
  },
  {
   "cell_type": "code",
   "execution_count": 22,
   "id": "ecf86d84",
   "metadata": {
    "scrolled": true
   },
   "outputs": [
    {
     "data": {
      "image/png": "[encoded data removed]",
      "text/plain": [
       "<Figure size 432x432 with 1 Axes>"
      ]
     },
     "metadata": {
      "needs_background": "light"
     },
     "output_type": "display_data"
    }
   ],
   "source": [
    "df_train_base['Current Credit Balance'].hist(figsize=(6, 6), bins=15, grid=False);"
   ]
  },
  {
   "cell_type": "markdown",
   "id": "2a9cfe4e",
   "metadata": {},
   "source": [
    "Значения `Current Credit Balance` более 200 000 также можно откорректировать"
   ]
  },
  {
   "cell_type": "markdown",
   "id": "518e3987",
   "metadata": {},
   "source": [
    "#### Анализ категориальных признаков"
   ]
  },
  {
   "cell_type": "code",
   "execution_count": 23,
   "id": "2d90ba3d",
   "metadata": {
    "scrolled": false
   },
   "outputs": [
    {
     "name": "stdout",
     "output_type": "stream",
     "text": [
      "Home Ownership\n",
      "\n",
      "Home Mortgage    3637\n",
      "Rent             3204\n",
      "Own Home          647\n",
      "Have Mortgage      12\n",
      "Name: Home Ownership, dtype: int64\n",
      "****************************************************************************************************\n",
      "\n",
      "Years in current job\n",
      "\n",
      "10+ years    2332\n",
      "2 years       705\n",
      "3 years       620\n",
      "< 1 year      563\n",
      "5 years       516\n",
      "1 year        504\n",
      "4 years       469\n",
      "6 years       426\n",
      "7 years       396\n",
      "8 years       339\n",
      "9 years       259\n",
      "Name: Years in current job, dtype: int64\n",
      "****************************************************************************************************\n",
      "\n",
      "Purpose\n",
      "\n",
      "debt consolidation      5944\n",
      "other                    665\n",
      "home improvements        412\n",
      "business loan            129\n",
      "buy a car                 96\n",
      "medical bills             71\n",
      "major purchase            40\n",
      "take a trip               37\n",
      "buy house                 34\n",
      "small business            26\n",
      "wedding                   15\n",
      "moving                    11\n",
      "educational expenses      10\n",
      "vacation                   8\n",
      "renewable energy           2\n",
      "Name: Purpose, dtype: int64\n",
      "****************************************************************************************************\n",
      "\n",
      "Term\n",
      "\n",
      "Short Term    5556\n",
      "Long Term     1944\n",
      "Name: Term, dtype: int64\n",
      "****************************************************************************************************\n",
      "\n"
     ]
    }
   ],
   "source": [
    "for cat_colname in df_train_base.select_dtypes(include='object').columns:\n",
    "    print(str(cat_colname) + '\\n\\n' + str(df_train_base[cat_colname].value_counts()) + '\\n' + '*' * 100 + '\\n')"
   ]
  },
  {
   "cell_type": "markdown",
   "id": "5b81f209",
   "metadata": {},
   "source": [
    "#### Корреляция признаков с целевой переменной"
   ]
  },
  {
   "cell_type": "code",
   "execution_count": 24,
   "id": "128b9dc0",
   "metadata": {},
   "outputs": [
    {
     "data": {
      "image/png": "[encoded data removed]",
      "text/plain": [
       "<Figure size 720x576 with 1 Axes>"
      ]
     },
     "metadata": {
      "needs_background": "light"
     },
     "output_type": "display_data"
    }
   ],
   "source": [
    "corr_with_target = df_train_base[NUM_FEATURE_NAMES + [TARGET_NAME]].corr().iloc[:-1, -1].sort_values(ascending=False)\n",
    "\n",
    "plt.figure(figsize=(10, 8))\n",
    "\n",
    "sns.barplot(x=corr_with_target.values, y=corr_with_target.index)\n",
    "\n",
    "plt.title('Корреляция с целевой переменной')\n",
    "plt.show()"
   ]
  },
  {
   "cell_type": "markdown",
   "id": "9efb8613",
   "metadata": {},
   "source": [
    "Наблюдаем сильную прямую корреляцию целевой переменной с количественным признаком `'Credit Score'` и обратную корреляцию с признаками `'Annual Income'` и `'Current Loan Amount'`"
   ]
  },
  {
   "cell_type": "code",
   "execution_count": 25,
   "id": "fa534b8f",
   "metadata": {
    "scrolled": true
   },
   "outputs": [
    {
     "data": {
      "image/png": "[encoded data removed]",
      "text/plain": [
       "<Figure size 936x720 with 1 Axes>"
      ]
     },
     "metadata": {
      "needs_background": "light"
     },
     "output_type": "display_data"
    },
    {
     "name": "stdout",
     "output_type": "stream",
     "text": [
      "Wall time: 2.45 s\n"
     ]
    }
   ],
   "source": [
    "%%time\n",
    "plt.figure(figsize=(13, 10))\n",
    "\n",
    "sns.countplot(x=\"Credit Score\", hue=TARGET_NAME, data=df_train_base)\n",
    "plt.title('Credit Score сгрупированный целевой переменной')\n",
    "plt.legend(title='Target', loc='upper right')\n",
    "\n",
    "plt.show()"
   ]
  },
  {
   "cell_type": "markdown",
   "id": "6f848d2a",
   "metadata": {},
   "source": [
    "### Обзор тестовой выборки"
   ]
  },
  {
   "cell_type": "code",
   "execution_count": 26,
   "id": "22d54fbb",
   "metadata": {},
   "outputs": [
    {
     "data": {
      "text/html": [
       "<div>\n",
       "<style scoped>\n",
       "    .dataframe tbody tr th:only-of-type {\n",
       "        vertical-align: middle;\n",
       "    }\n",
       "\n",
       "    .dataframe tbody tr th {\n",
       "        vertical-align: top;\n",
       "    }\n",
       "\n",
       "    .dataframe thead th {\n",
       "        text-align: right;\n",
       "    }\n",
       "</style>\n",
       "<table border=\"1\" class=\"dataframe\">\n",
       "  <thead>\n",
       "    <tr style=\"text-align: right;\">\n",
       "      <th></th>\n",
       "      <th>0</th>\n",
       "      <th>1</th>\n",
       "      <th>2</th>\n",
       "      <th>3</th>\n",
       "      <th>4</th>\n",
       "    </tr>\n",
       "  </thead>\n",
       "  <tbody>\n",
       "    <tr>\n",
       "      <th>Home Ownership</th>\n",
       "      <td>Rent</td>\n",
       "      <td>Rent</td>\n",
       "      <td>Home Mortgage</td>\n",
       "      <td>Home Mortgage</td>\n",
       "      <td>Home Mortgage</td>\n",
       "    </tr>\n",
       "    <tr>\n",
       "      <th>Annual Income</th>\n",
       "      <td>NaN</td>\n",
       "      <td>231838.0</td>\n",
       "      <td>1152540.0</td>\n",
       "      <td>1220313.0</td>\n",
       "      <td>2340952.0</td>\n",
       "    </tr>\n",
       "    <tr>\n",
       "      <th>Years in current job</th>\n",
       "      <td>4 years</td>\n",
       "      <td>1 year</td>\n",
       "      <td>3 years</td>\n",
       "      <td>10+ years</td>\n",
       "      <td>6 years</td>\n",
       "    </tr>\n",
       "    <tr>\n",
       "      <th>Tax Liens</th>\n",
       "      <td>0.0</td>\n",
       "      <td>0.0</td>\n",
       "      <td>0.0</td>\n",
       "      <td>0.0</td>\n",
       "      <td>0.0</td>\n",
       "    </tr>\n",
       "    <tr>\n",
       "      <th>Number of Open Accounts</th>\n",
       "      <td>9.0</td>\n",
       "      <td>6.0</td>\n",
       "      <td>10.0</td>\n",
       "      <td>16.0</td>\n",
       "      <td>11.0</td>\n",
       "    </tr>\n",
       "    <tr>\n",
       "      <th>Years of Credit History</th>\n",
       "      <td>12.5</td>\n",
       "      <td>32.7</td>\n",
       "      <td>13.7</td>\n",
       "      <td>17.0</td>\n",
       "      <td>23.6</td>\n",
       "    </tr>\n",
       "    <tr>\n",
       "      <th>Maximum Open Credit</th>\n",
       "      <td>220968.0</td>\n",
       "      <td>55946.0</td>\n",
       "      <td>204600.0</td>\n",
       "      <td>456302.0</td>\n",
       "      <td>1207272.0</td>\n",
       "    </tr>\n",
       "    <tr>\n",
       "      <th>Number of Credit Problems</th>\n",
       "      <td>0.0</td>\n",
       "      <td>0.0</td>\n",
       "      <td>0.0</td>\n",
       "      <td>0.0</td>\n",
       "      <td>0.0</td>\n",
       "    </tr>\n",
       "    <tr>\n",
       "      <th>Months since last delinquent</th>\n",
       "      <td>70.0</td>\n",
       "      <td>8.0</td>\n",
       "      <td>NaN</td>\n",
       "      <td>70.0</td>\n",
       "      <td>NaN</td>\n",
       "    </tr>\n",
       "    <tr>\n",
       "      <th>Bankruptcies</th>\n",
       "      <td>0.0</td>\n",
       "      <td>0.0</td>\n",
       "      <td>0.0</td>\n",
       "      <td>0.0</td>\n",
       "      <td>0.0</td>\n",
       "    </tr>\n",
       "    <tr>\n",
       "      <th>Purpose</th>\n",
       "      <td>debt consolidation</td>\n",
       "      <td>educational expenses</td>\n",
       "      <td>debt consolidation</td>\n",
       "      <td>debt consolidation</td>\n",
       "      <td>debt consolidation</td>\n",
       "    </tr>\n",
       "    <tr>\n",
       "      <th>Term</th>\n",
       "      <td>Short Term</td>\n",
       "      <td>Short Term</td>\n",
       "      <td>Short Term</td>\n",
       "      <td>Short Term</td>\n",
       "      <td>Long Term</td>\n",
       "    </tr>\n",
       "    <tr>\n",
       "      <th>Current Loan Amount</th>\n",
       "      <td>162470.0</td>\n",
       "      <td>78298.0</td>\n",
       "      <td>200178.0</td>\n",
       "      <td>217382.0</td>\n",
       "      <td>777634.0</td>\n",
       "    </tr>\n",
       "    <tr>\n",
       "      <th>Current Credit Balance</th>\n",
       "      <td>105906.0</td>\n",
       "      <td>46037.0</td>\n",
       "      <td>146490.0</td>\n",
       "      <td>213199.0</td>\n",
       "      <td>425391.0</td>\n",
       "    </tr>\n",
       "    <tr>\n",
       "      <th>Monthly Debt</th>\n",
       "      <td>6813.0</td>\n",
       "      <td>2318.0</td>\n",
       "      <td>18729.0</td>\n",
       "      <td>27559.0</td>\n",
       "      <td>42605.0</td>\n",
       "    </tr>\n",
       "    <tr>\n",
       "      <th>Credit Score</th>\n",
       "      <td>NaN</td>\n",
       "      <td>699.0</td>\n",
       "      <td>7260.0</td>\n",
       "      <td>739.0</td>\n",
       "      <td>706.0</td>\n",
       "    </tr>\n",
       "  </tbody>\n",
       "</table>\n",
       "</div>"
      ],
      "text/plain": [
       "                                               0                     1  \\\n",
       "Home Ownership                              Rent                  Rent   \n",
       "Annual Income                                NaN              231838.0   \n",
       "Years in current job                     4 years                1 year   \n",
       "Tax Liens                                    0.0                   0.0   \n",
       "Number of Open Accounts                      9.0                   6.0   \n",
       "Years of Credit History                     12.5                  32.7   \n",
       "Maximum Open Credit                     220968.0               55946.0   \n",
       "Number of Credit Problems                    0.0                   0.0   \n",
       "Months since last delinquent                70.0                   8.0   \n",
       "Bankruptcies                                 0.0                   0.0   \n",
       "Purpose                       debt consolidation  educational expenses   \n",
       "Term                                  Short Term            Short Term   \n",
       "Current Loan Amount                     162470.0               78298.0   \n",
       "Current Credit Balance                  105906.0               46037.0   \n",
       "Monthly Debt                              6813.0                2318.0   \n",
       "Credit Score                                 NaN                 699.0   \n",
       "\n",
       "                                               2                   3  \\\n",
       "Home Ownership                     Home Mortgage       Home Mortgage   \n",
       "Annual Income                          1152540.0           1220313.0   \n",
       "Years in current job                     3 years           10+ years   \n",
       "Tax Liens                                    0.0                 0.0   \n",
       "Number of Open Accounts                     10.0                16.0   \n",
       "Years of Credit History                     13.7                17.0   \n",
       "Maximum Open Credit                     204600.0            456302.0   \n",
       "Number of Credit Problems                    0.0                 0.0   \n",
       "Months since last delinquent                 NaN                70.0   \n",
       "Bankruptcies                                 0.0                 0.0   \n",
       "Purpose                       debt consolidation  debt consolidation   \n",
       "Term                                  Short Term          Short Term   \n",
       "Current Loan Amount                     200178.0            217382.0   \n",
       "Current Credit Balance                  146490.0            213199.0   \n",
       "Monthly Debt                             18729.0             27559.0   \n",
       "Credit Score                              7260.0               739.0   \n",
       "\n",
       "                                               4  \n",
       "Home Ownership                     Home Mortgage  \n",
       "Annual Income                          2340952.0  \n",
       "Years in current job                     6 years  \n",
       "Tax Liens                                    0.0  \n",
       "Number of Open Accounts                     11.0  \n",
       "Years of Credit History                     23.6  \n",
       "Maximum Open Credit                    1207272.0  \n",
       "Number of Credit Problems                    0.0  \n",
       "Months since last delinquent                 NaN  \n",
       "Bankruptcies                                 0.0  \n",
       "Purpose                       debt consolidation  \n",
       "Term                                   Long Term  \n",
       "Current Loan Amount                     777634.0  \n",
       "Current Credit Balance                  425391.0  \n",
       "Monthly Debt                             42605.0  \n",
       "Credit Score                               706.0  "
      ]
     },
     "execution_count": 26,
     "metadata": {},
     "output_type": "execute_result"
    }
   ],
   "source": [
    "df_test_base.head().T"
   ]
  },
  {
   "cell_type": "code",
   "execution_count": 27,
   "id": "26d46ee7",
   "metadata": {
    "scrolled": true
   },
   "outputs": [
    {
     "name": "stdout",
     "output_type": "stream",
     "text": [
      "<class 'pandas.core.frame.DataFrame'>\n",
      "RangeIndex: 2500 entries, 0 to 2499\n",
      "Data columns (total 16 columns):\n",
      " #   Column                        Non-Null Count  Dtype  \n",
      "---  ------                        --------------  -----  \n",
      " 0   Home Ownership                2500 non-null   object \n",
      " 1   Annual Income                 1987 non-null   float64\n",
      " 2   Years in current job          2414 non-null   object \n",
      " 3   Tax Liens                     2500 non-null   float64\n",
      " 4   Number of Open Accounts       2500 non-null   float64\n",
      " 5   Years of Credit History       2500 non-null   float64\n",
      " 6   Maximum Open Credit           2500 non-null   float64\n",
      " 7   Number of Credit Problems     2500 non-null   float64\n",
      " 8   Months since last delinquent  1142 non-null   float64\n",
      " 9   Bankruptcies                  2497 non-null   float64\n",
      " 10  Purpose                       2500 non-null   object \n",
      " 11  Term                          2500 non-null   object \n",
      " 12  Current Loan Amount           2500 non-null   float64\n",
      " 13  Current Credit Balance        2500 non-null   float64\n",
      " 14  Monthly Debt                  2500 non-null   float64\n",
      " 15  Credit Score                  1987 non-null   float64\n",
      "dtypes: float64(12), object(4)\n",
      "memory usage: 312.6+ KB\n"
     ]
    }
   ],
   "source": [
    "df_test_base.info()"
   ]
  },
  {
   "cell_type": "markdown",
   "id": "2f95a56c",
   "metadata": {},
   "source": [
    "Из описания тестовой выборки видим, что есть пропуски в признаках:\n",
    " - Annual Income\n",
    " - Years in current job\n",
    " - Months since last delinquent\n",
    " - Credit Score\n",
    " - Bankruptcies\n",
    " \n",
    " Пропуски в тех же признаках, что и в обучающей выборке."
   ]
  },
  {
   "cell_type": "code",
   "execution_count": 28,
   "id": "89660daf",
   "metadata": {
    "scrolled": true
   },
   "outputs": [
    {
     "data": {
      "text/html": [
       "<div>\n",
       "<style scoped>\n",
       "    .dataframe tbody tr th:only-of-type {\n",
       "        vertical-align: middle;\n",
       "    }\n",
       "\n",
       "    .dataframe tbody tr th {\n",
       "        vertical-align: top;\n",
       "    }\n",
       "\n",
       "    .dataframe thead th {\n",
       "        text-align: right;\n",
       "    }\n",
       "</style>\n",
       "<table border=\"1\" class=\"dataframe\">\n",
       "  <thead>\n",
       "    <tr style=\"text-align: right;\">\n",
       "      <th></th>\n",
       "      <th>count</th>\n",
       "      <th>mean</th>\n",
       "      <th>std</th>\n",
       "      <th>min</th>\n",
       "      <th>25%</th>\n",
       "      <th>50%</th>\n",
       "      <th>75%</th>\n",
       "      <th>max</th>\n",
       "    </tr>\n",
       "  </thead>\n",
       "  <tbody>\n",
       "    <tr>\n",
       "      <th>Annual Income</th>\n",
       "      <td>1987.0</td>\n",
       "      <td>1.366922e+06</td>\n",
       "      <td>9.171252e+05</td>\n",
       "      <td>106533.0</td>\n",
       "      <td>852311.50</td>\n",
       "      <td>1178475.0</td>\n",
       "      <td>1629734.5</td>\n",
       "      <td>14975610.0</td>\n",
       "    </tr>\n",
       "    <tr>\n",
       "      <th>Tax Liens</th>\n",
       "      <td>2500.0</td>\n",
       "      <td>3.520000e-02</td>\n",
       "      <td>3.862909e-01</td>\n",
       "      <td>0.0</td>\n",
       "      <td>0.00</td>\n",
       "      <td>0.0</td>\n",
       "      <td>0.0</td>\n",
       "      <td>15.0</td>\n",
       "    </tr>\n",
       "    <tr>\n",
       "      <th>Number of Open Accounts</th>\n",
       "      <td>2500.0</td>\n",
       "      <td>1.118440e+01</td>\n",
       "      <td>4.852774e+00</td>\n",
       "      <td>1.0</td>\n",
       "      <td>8.00</td>\n",
       "      <td>10.0</td>\n",
       "      <td>14.0</td>\n",
       "      <td>48.0</td>\n",
       "    </tr>\n",
       "    <tr>\n",
       "      <th>Years of Credit History</th>\n",
       "      <td>2500.0</td>\n",
       "      <td>1.832592e+01</td>\n",
       "      <td>7.254659e+00</td>\n",
       "      <td>3.9</td>\n",
       "      <td>13.40</td>\n",
       "      <td>17.0</td>\n",
       "      <td>22.1</td>\n",
       "      <td>53.4</td>\n",
       "    </tr>\n",
       "    <tr>\n",
       "      <th>Maximum Open Credit</th>\n",
       "      <td>2500.0</td>\n",
       "      <td>7.105704e+05</td>\n",
       "      <td>1.511983e+06</td>\n",
       "      <td>0.0</td>\n",
       "      <td>278586.00</td>\n",
       "      <td>478676.0</td>\n",
       "      <td>802598.5</td>\n",
       "      <td>54484386.0</td>\n",
       "    </tr>\n",
       "    <tr>\n",
       "      <th>Number of Credit Problems</th>\n",
       "      <td>2500.0</td>\n",
       "      <td>1.620000e-01</td>\n",
       "      <td>5.598941e-01</td>\n",
       "      <td>0.0</td>\n",
       "      <td>0.00</td>\n",
       "      <td>0.0</td>\n",
       "      <td>0.0</td>\n",
       "      <td>15.0</td>\n",
       "    </tr>\n",
       "    <tr>\n",
       "      <th>Months since last delinquent</th>\n",
       "      <td>1142.0</td>\n",
       "      <td>3.418126e+01</td>\n",
       "      <td>2.202428e+01</td>\n",
       "      <td>0.0</td>\n",
       "      <td>16.00</td>\n",
       "      <td>30.0</td>\n",
       "      <td>50.0</td>\n",
       "      <td>82.0</td>\n",
       "    </tr>\n",
       "    <tr>\n",
       "      <th>Bankruptcies</th>\n",
       "      <td>2497.0</td>\n",
       "      <td>1.069283e-01</td>\n",
       "      <td>3.571893e-01</td>\n",
       "      <td>0.0</td>\n",
       "      <td>0.00</td>\n",
       "      <td>0.0</td>\n",
       "      <td>0.0</td>\n",
       "      <td>5.0</td>\n",
       "    </tr>\n",
       "    <tr>\n",
       "      <th>Current Loan Amount</th>\n",
       "      <td>2500.0</td>\n",
       "      <td>1.215572e+07</td>\n",
       "      <td>3.226097e+07</td>\n",
       "      <td>15422.0</td>\n",
       "      <td>187126.50</td>\n",
       "      <td>322366.0</td>\n",
       "      <td>522582.5</td>\n",
       "      <td>99999999.0</td>\n",
       "    </tr>\n",
       "    <tr>\n",
       "      <th>Current Credit Balance</th>\n",
       "      <td>2500.0</td>\n",
       "      <td>2.963966e+05</td>\n",
       "      <td>3.783020e+05</td>\n",
       "      <td>0.0</td>\n",
       "      <td>110114.50</td>\n",
       "      <td>207385.0</td>\n",
       "      <td>366348.5</td>\n",
       "      <td>6030087.0</td>\n",
       "    </tr>\n",
       "    <tr>\n",
       "      <th>Monthly Debt</th>\n",
       "      <td>2500.0</td>\n",
       "      <td>1.827134e+04</td>\n",
       "      <td>1.154388e+04</td>\n",
       "      <td>93.0</td>\n",
       "      <td>10024.75</td>\n",
       "      <td>16642.5</td>\n",
       "      <td>24146.0</td>\n",
       "      <td>93555.0</td>\n",
       "    </tr>\n",
       "    <tr>\n",
       "      <th>Credit Score</th>\n",
       "      <td>1987.0</td>\n",
       "      <td>1.234517e+03</td>\n",
       "      <td>1.740219e+03</td>\n",
       "      <td>585.0</td>\n",
       "      <td>710.00</td>\n",
       "      <td>731.0</td>\n",
       "      <td>743.0</td>\n",
       "      <td>7480.0</td>\n",
       "    </tr>\n",
       "  </tbody>\n",
       "</table>\n",
       "</div>"
      ],
      "text/plain": [
       "                               count          mean           std       min  \\\n",
       "Annual Income                 1987.0  1.366922e+06  9.171252e+05  106533.0   \n",
       "Tax Liens                     2500.0  3.520000e-02  3.862909e-01       0.0   \n",
       "Number of Open Accounts       2500.0  1.118440e+01  4.852774e+00       1.0   \n",
       "Years of Credit History       2500.0  1.832592e+01  7.254659e+00       3.9   \n",
       "Maximum Open Credit           2500.0  7.105704e+05  1.511983e+06       0.0   \n",
       "Number of Credit Problems     2500.0  1.620000e-01  5.598941e-01       0.0   \n",
       "Months since last delinquent  1142.0  3.418126e+01  2.202428e+01       0.0   \n",
       "Bankruptcies                  2497.0  1.069283e-01  3.571893e-01       0.0   \n",
       "Current Loan Amount           2500.0  1.215572e+07  3.226097e+07   15422.0   \n",
       "Current Credit Balance        2500.0  2.963966e+05  3.783020e+05       0.0   \n",
       "Monthly Debt                  2500.0  1.827134e+04  1.154388e+04      93.0   \n",
       "Credit Score                  1987.0  1.234517e+03  1.740219e+03     585.0   \n",
       "\n",
       "                                    25%        50%        75%         max  \n",
       "Annual Income                 852311.50  1178475.0  1629734.5  14975610.0  \n",
       "Tax Liens                          0.00        0.0        0.0        15.0  \n",
       "Number of Open Accounts            8.00       10.0       14.0        48.0  \n",
       "Years of Credit History           13.40       17.0       22.1        53.4  \n",
       "Maximum Open Credit           278586.00   478676.0   802598.5  54484386.0  \n",
       "Number of Credit Problems          0.00        0.0        0.0        15.0  \n",
       "Months since last delinquent      16.00       30.0       50.0        82.0  \n",
       "Bankruptcies                       0.00        0.0        0.0         5.0  \n",
       "Current Loan Amount           187126.50   322366.0   522582.5  99999999.0  \n",
       "Current Credit Balance        110114.50   207385.0   366348.5   6030087.0  \n",
       "Monthly Debt                   10024.75    16642.5    24146.0     93555.0  \n",
       "Credit Score                     710.00      731.0      743.0      7480.0  "
      ]
     },
     "execution_count": 28,
     "metadata": {},
     "output_type": "execute_result"
    }
   ],
   "source": [
    "df_test_base.describe().T"
   ]
  },
  {
   "cell_type": "markdown",
   "id": "53071bfe",
   "metadata": {},
   "source": [
    "#### Анализ числовых признаков"
   ]
  },
  {
   "cell_type": "code",
   "execution_count": 29,
   "id": "81062e5a",
   "metadata": {
    "scrolled": true
   },
   "outputs": [
    {
     "data": {
      "text/plain": [
       "array([[<AxesSubplot:title={'center':'Annual Income'}>,\n",
       "        <AxesSubplot:title={'center':'Tax Liens'}>,\n",
       "        <AxesSubplot:title={'center':'Number of Open Accounts'}>],\n",
       "       [<AxesSubplot:title={'center':'Years of Credit History'}>,\n",
       "        <AxesSubplot:title={'center':'Maximum Open Credit'}>,\n",
       "        <AxesSubplot:title={'center':'Number of Credit Problems'}>],\n",
       "       [<AxesSubplot:title={'center':'Months since last delinquent'}>,\n",
       "        <AxesSubplot:title={'center':'Bankruptcies'}>,\n",
       "        <AxesSubplot:title={'center':'Current Loan Amount'}>],\n",
       "       [<AxesSubplot:title={'center':'Current Credit Balance'}>,\n",
       "        <AxesSubplot:title={'center':'Monthly Debt'}>,\n",
       "        <AxesSubplot:title={'center':'Credit Score'}>]], dtype=object)"
      ]
     },
     "execution_count": 29,
     "metadata": {},
     "output_type": "execute_result"
    },
    {
     "data": {
      "image/png": "[encoded data removed]",
      "text/plain": [
       "<Figure size 1440x1440 with 12 Axes>"
      ]
     },
     "metadata": {
      "needs_background": "light"
     },
     "output_type": "display_data"
    }
   ],
   "source": [
    "df_test_base[NUM_FEATURE_NAMES].hist(figsize=(20, 20), bins=20, grid=False)"
   ]
  },
  {
   "cell_type": "code",
   "execution_count": 30,
   "id": "6ad0d553",
   "metadata": {
    "scrolled": false
   },
   "outputs": [
    {
     "name": "stdout",
     "output_type": "stream",
     "text": [
      "Annual Income\n",
      "\n",
      "1025145.0    3\n",
      "1328803.0    3\n",
      "1214993.0    3\n",
      "1237109.0    3\n",
      "1204619.0    2\n",
      "            ..\n",
      "763838.0     1\n",
      "1221168.0    1\n",
      "651377.0     1\n",
      "1735479.0    1\n",
      "1694439.0    1\n",
      "Name: Annual Income, Length: 1929, dtype: int64\n",
      "****************************************************************************************************\n",
      "\n",
      "Tax Liens\n",
      "\n",
      "0.0     2445\n",
      "1.0       45\n",
      "2.0        5\n",
      "5.0        1\n",
      "4.0        1\n",
      "6.0        1\n",
      "3.0        1\n",
      "15.0       1\n",
      "Name: Tax Liens, dtype: int64\n",
      "****************************************************************************************************\n",
      "\n",
      "Number of Open Accounts\n",
      "\n",
      "9.0     245\n",
      "8.0     223\n",
      "10.0    218\n",
      "11.0    211\n",
      "12.0    204\n",
      "6.0     183\n",
      "13.0    178\n",
      "7.0     176\n",
      "14.0    159\n",
      "5.0     106\n",
      "15.0     97\n",
      "16.0     81\n",
      "17.0     66\n",
      "4.0      63\n",
      "18.0     52\n",
      "19.0     46\n",
      "20.0     37\n",
      "21.0     29\n",
      "3.0      29\n",
      "22.0     26\n",
      "23.0     17\n",
      "27.0     10\n",
      "24.0      9\n",
      "2.0       7\n",
      "30.0      6\n",
      "25.0      6\n",
      "26.0      5\n",
      "28.0      3\n",
      "33.0      2\n",
      "31.0      1\n",
      "1.0       1\n",
      "36.0      1\n",
      "29.0      1\n",
      "34.0      1\n",
      "48.0      1\n",
      "Name: Number of Open Accounts, dtype: int64\n",
      "****************************************************************************************************\n",
      "\n",
      "Years of Credit History\n",
      "\n",
      "16.5    35\n",
      "14.0    33\n",
      "16.0    32\n",
      "17.0    30\n",
      "17.5    28\n",
      "        ..\n",
      "53.4     1\n",
      "38.2     1\n",
      "5.6      1\n",
      "29.6     1\n",
      "45.6     1\n",
      "Name: Years of Credit History, Length: 345, dtype: int64\n",
      "****************************************************************************************************\n",
      "\n",
      "Maximum Open Credit\n",
      "\n",
      "0.0          14\n",
      "220968.0      2\n",
      "674344.0      2\n",
      "1138478.0     2\n",
      "437228.0      2\n",
      "             ..\n",
      "181764.0      1\n",
      "604406.0      1\n",
      "248512.0      1\n",
      "215666.0      1\n",
      "1199748.0     1\n",
      "Name: Maximum Open Credit, Length: 2435, dtype: int64\n",
      "****************************************************************************************************\n",
      "\n",
      "Number of Credit Problems\n",
      "\n",
      "0.0     2177\n",
      "1.0      280\n",
      "2.0       29\n",
      "3.0        7\n",
      "5.0        4\n",
      "7.0        1\n",
      "4.0        1\n",
      "15.0       1\n",
      "Name: Number of Credit Problems, dtype: int64\n",
      "****************************************************************************************************\n",
      "\n",
      "Months since last delinquent\n",
      "\n",
      "16.0    30\n",
      "23.0    28\n",
      "14.0    28\n",
      "24.0    26\n",
      "13.0    25\n",
      "        ..\n",
      "64.0     5\n",
      "65.0     5\n",
      "81.0     5\n",
      "60.0     5\n",
      "82.0     3\n",
      "Name: Months since last delinquent, Length: 83, dtype: int64\n",
      "****************************************************************************************************\n",
      "\n",
      "Bankruptcies\n",
      "\n",
      "0.0    2252\n",
      "1.0     234\n",
      "2.0       5\n",
      "3.0       3\n",
      "5.0       2\n",
      "4.0       1\n",
      "Name: Bankruptcies, dtype: int64\n",
      "****************************************************************************************************\n",
      "\n",
      "Current Loan Amount\n",
      "\n",
      "99999999.0    297\n",
      "269544.0        3\n",
      "264638.0        3\n",
      "327404.0        3\n",
      "110462.0        3\n",
      "             ... \n",
      "445016.0        1\n",
      "142824.0        1\n",
      "494010.0        1\n",
      "439472.0        1\n",
      "763004.0        1\n",
      "Name: Current Loan Amount, Length: 2026, dtype: int64\n",
      "****************************************************************************************************\n",
      "\n",
      "Current Credit Balance\n",
      "\n",
      "0.0         11\n",
      "169917.0     4\n",
      "153064.0     3\n",
      "109440.0     3\n",
      "93936.0      3\n",
      "            ..\n",
      "21508.0      1\n",
      "103455.0     1\n",
      "786448.0     1\n",
      "37829.0      1\n",
      "559531.0     1\n",
      "Name: Current Credit Balance, Length: 2385, dtype: int64\n",
      "****************************************************************************************************\n",
      "\n",
      "Monthly Debt\n",
      "\n",
      "24146.0    3\n",
      "23239.0    2\n",
      "17789.0    2\n",
      "28119.0    2\n",
      "32198.0    2\n",
      "          ..\n",
      "11273.0    1\n",
      "18352.0    1\n",
      "25457.0    1\n",
      "11178.0    1\n",
      "23440.0    1\n",
      "Name: Monthly Debt, Length: 2416, dtype: int64\n",
      "****************************************************************************************************\n",
      "\n",
      "Credit Score\n",
      "\n",
      "746.0     56\n",
      "739.0     55\n",
      "741.0     54\n",
      "740.0     50\n",
      "747.0     49\n",
      "          ..\n",
      "617.0      1\n",
      "6670.0     1\n",
      "6550.0     1\n",
      "6650.0     1\n",
      "6470.0     1\n",
      "Name: Credit Score, Length: 211, dtype: int64\n",
      "****************************************************************************************************\n",
      "\n"
     ]
    }
   ],
   "source": [
    "for num_colname in df_test_base.select_dtypes(include='float64').columns:\n",
    "    print(str(num_colname) + '\\n\\n' + str(df_test_base[num_colname].value_counts()) + '\\n' + '*' * 100 + '\\n')"
   ]
  },
  {
   "cell_type": "markdown",
   "id": "54b89767",
   "metadata": {},
   "source": [
    "В признаке `Current Loan Amount` 870 записей имеют значение 99 999 999.0, что явно указывет на некорректность внесенных данных и является выбросом. При обработке необходимо будет это исправить заменой значений.<br>\n",
    "Признаки `Current Credit Balance, Monthly Debt, Current Loan Amount и Credit Score`судя по графикам также имеют выбросы. Рассмотрим эти признаки отдельно."
   ]
  },
  {
   "cell_type": "code",
   "execution_count": 31,
   "id": "0ca56e5c",
   "metadata": {
    "scrolled": false
   },
   "outputs": [
    {
     "data": {
      "text/plain": [
       "<AxesSubplot:>"
      ]
     },
     "execution_count": 31,
     "metadata": {},
     "output_type": "execute_result"
    },
    {
     "data": {
      "image/png": "[encoded data removed]",
      "text/plain": [
       "<Figure size 432x432 with 1 Axes>"
      ]
     },
     "metadata": {
      "needs_background": "light"
     },
     "output_type": "display_data"
    }
   ],
   "source": [
    "df_test_base['Monthly Debt'].hist(figsize=(6, 6), bins=40, grid=False)"
   ]
  },
  {
   "cell_type": "markdown",
   "id": "be18b0f4",
   "metadata": {},
   "source": [
    "Значения `Monthly Debt` более 60 000 можно считать выбросами"
   ]
  },
  {
   "cell_type": "code",
   "execution_count": 32,
   "id": "99314856",
   "metadata": {
    "scrolled": true
   },
   "outputs": [
    {
     "data": {
      "text/plain": [
       "<AxesSubplot:>"
      ]
     },
     "execution_count": 32,
     "metadata": {},
     "output_type": "execute_result"
    },
    {
     "data": {
      "image/png": "[encoded data removed]",
      "text/plain": [
       "<Figure size 432x432 with 1 Axes>"
      ]
     },
     "metadata": {
      "needs_background": "light"
     },
     "output_type": "display_data"
    }
   ],
   "source": [
    "df_test_base['Credit Score'].hist(figsize=(6, 6), bins=15, grid=False)"
   ]
  },
  {
   "cell_type": "markdown",
   "id": "b5e37479",
   "metadata": {},
   "source": [
    "Значения `Credit Score` более 6000 являются выбросами"
   ]
  },
  {
   "cell_type": "code",
   "execution_count": 33,
   "id": "eaa97dcb",
   "metadata": {
    "scrolled": true
   },
   "outputs": [
    {
     "data": {
      "text/plain": [
       "<AxesSubplot:>"
      ]
     },
     "execution_count": 33,
     "metadata": {},
     "output_type": "execute_result"
    },
    {
     "data": {
      "image/png": "[encoded data removed]",
      "text/plain": [
       "<Figure size 432x432 with 1 Axes>"
      ]
     },
     "metadata": {
      "needs_background": "light"
     },
     "output_type": "display_data"
    }
   ],
   "source": [
    "df_test_base['Current Credit Balance'].hist(\n",
    "    figsize=(6, 6), bins=15, grid=False)"
   ]
  },
  {
   "cell_type": "markdown",
   "id": "adf5c36f",
   "metadata": {},
   "source": [
    "Значения `Current Credit Balance` более 200 000 также можно откорректировать"
   ]
  },
  {
   "cell_type": "markdown",
   "id": "9becb952",
   "metadata": {},
   "source": [
    "#### Анализ категориальных признаков"
   ]
  },
  {
   "cell_type": "code",
   "execution_count": 34,
   "id": "aa739d81",
   "metadata": {
    "scrolled": false
   },
   "outputs": [
    {
     "name": "stdout",
     "output_type": "stream",
     "text": [
      "Home Ownership\n",
      "\n",
      "Home Mortgage    3637\n",
      "Rent             3204\n",
      "Own Home          647\n",
      "Have Mortgage      12\n",
      "Name: Home Ownership, dtype: int64\n",
      "****************************************************************************************************\n",
      "\n",
      "Years in current job\n",
      "\n",
      "10+ years    2332\n",
      "2 years       705\n",
      "3 years       620\n",
      "< 1 year      563\n",
      "5 years       516\n",
      "1 year        504\n",
      "4 years       469\n",
      "6 years       426\n",
      "7 years       396\n",
      "8 years       339\n",
      "9 years       259\n",
      "Name: Years in current job, dtype: int64\n",
      "****************************************************************************************************\n",
      "\n",
      "Purpose\n",
      "\n",
      "debt consolidation      5944\n",
      "other                    665\n",
      "home improvements        412\n",
      "business loan            129\n",
      "buy a car                 96\n",
      "medical bills             71\n",
      "major purchase            40\n",
      "take a trip               37\n",
      "buy house                 34\n",
      "small business            26\n",
      "wedding                   15\n",
      "moving                    11\n",
      "educational expenses      10\n",
      "vacation                   8\n",
      "renewable energy           2\n",
      "Name: Purpose, dtype: int64\n",
      "****************************************************************************************************\n",
      "\n",
      "Term\n",
      "\n",
      "Short Term    5556\n",
      "Long Term     1944\n",
      "Name: Term, dtype: int64\n",
      "****************************************************************************************************\n",
      "\n"
     ]
    }
   ],
   "source": [
    "for cat_colname in df_train_base.select_dtypes(include='object').columns:\n",
    "    print(str(cat_colname) + '\\n\\n' +\n",
    "          str(df_train_base[cat_colname].value_counts()) + '\\n' + '*' * 100 + '\\n')"
   ]
  },
  {
   "cell_type": "markdown",
   "id": "3d7ac606",
   "metadata": {},
   "source": [
    "В целом тестовая и обучающая выборки сопоставимы по признакам. Имеют одинаковые проблемы с выбросами и пропусками. Следовательно могут обрабатываться одинаково."
   ]
  },
  {
   "cell_type": "markdown",
   "id": "23129aea",
   "metadata": {},
   "source": [
    "### Анализ признакового пространства\n",
    "#### Матрица корреляции признаков для обучающей выборки"
   ]
  },
  {
   "cell_type": "code",
   "execution_count": 35,
   "id": "41b272f2",
   "metadata": {
    "scrolled": true
   },
   "outputs": [
    {
     "data": {
      "image/png": "[encoded data removed]",
      "text/plain": [
       "<Figure size 864x504 with 2 Axes>"
      ]
     },
     "metadata": {
      "needs_background": "light"
     },
     "output_type": "display_data"
    }
   ],
   "source": [
    "plt.figure(figsize=(12, 7))\n",
    "\n",
    "sns.set(font_scale=1.2)\n",
    "\n",
    "corr_matrix = df_train_base.corr()\n",
    "corr_matrix = np.round(corr_matrix, 2)\n",
    "corr_matrix[np.abs(corr_matrix) < 0.3] = 0\n",
    "\n",
    "sns.heatmap(corr_matrix, annot=True, linewidths=.5, cmap='coolwarm')\n",
    "\n",
    "plt.title('Матрица корреляции признаков обучающей выборки')\n",
    "plt.show()"
   ]
  },
  {
   "cell_type": "markdown",
   "id": "eb91dd3c",
   "metadata": {},
   "source": [
    "Видим сильную корреляцию ($\\geq 0,5$) следующих признаков:\n",
    " - `'Number of Credit Problems'` $\\iff$ `'Bankruptcies'` $=0,73$\n",
    " - `'Annual Income'` $\\iff$ `'Monthly Debt'` $=0,58$\n",
    " - `'Tax Liens'` $\\iff$ `'Number of Credit Problems'` $=0,6$\n",
    " - `'Monthly Debt'` $\\iff$ `'Current Credit Balance'` $=0,5$"
   ]
  },
  {
   "cell_type": "markdown",
   "id": "78aeab7e",
   "metadata": {},
   "source": [
    "#### Матрица корреляции признаков для тестовой выборки"
   ]
  },
  {
   "cell_type": "code",
   "execution_count": 36,
   "id": "13f8d45d",
   "metadata": {},
   "outputs": [
    {
     "data": {
      "image/png": "[encoded data removed]",
      "text/plain": [
       "<Figure size 864x504 with 2 Axes>"
      ]
     },
     "metadata": {},
     "output_type": "display_data"
    }
   ],
   "source": [
    "plt.figure(figsize=(12, 7))\n",
    "\n",
    "sns.set(font_scale=1.2)\n",
    "\n",
    "corr_matrix = df_test_base.corr()\n",
    "corr_matrix = np.round(corr_matrix, 2)\n",
    "corr_matrix[np.abs(corr_matrix) < 0.3] = 0\n",
    "\n",
    "sns.heatmap(corr_matrix, annot=True, linewidths=.5, cmap='coolwarm')\n",
    "\n",
    "plt.title('Матрица корреляции признаков тестовой выборки')\n",
    "plt.show()"
   ]
  },
  {
   "cell_type": "markdown",
   "id": "b33f4a77",
   "metadata": {},
   "source": [
    "Сильная ($\\geq 0,5$) корреляция сохраняется на том же уровне на тех же признаках, что и в обучающем сете:\n",
    " - `'Number of Credit Problems'` $\\iff$ `'Bankruptcies'` $=0,64$\n",
    " - `'Annual Income'` $\\iff$ `'Monthly Debt'` $=0,5$\n",
    " - `'Tax Liens'` $\\iff$ `'Number of Credit Problems'` $=0,72$\n",
    " - `'Monthly Debt'` $\\iff$ `'Current Credit Balance'` $=0,5$\n",
    "\n",
    "Кроме того добавилась корреляция на признаках `'Current Credit Balance'` $\\iff$ `'Maximum Open Credit'` $=0,67$"
   ]
  },
  {
   "cell_type": "markdown",
   "id": "e185fda5",
   "metadata": {},
   "source": [
    "## Обработка признаков и подготовка датасета\n",
    "\n",
    "Перед обработкой данных скопируем сеты в новые переменные и дальнейшие манипуляции будем проводить с ними."
   ]
  },
  {
   "cell_type": "code",
   "execution_count": 37,
   "id": "9b386a75",
   "metadata": {},
   "outputs": [],
   "source": [
    "df_train = df_train_base.copy()\n",
    "df_test = df_test_base.copy()"
   ]
  },
  {
   "cell_type": "markdown",
   "id": "f1375553",
   "metadata": {},
   "source": [
    "#### Обработка категориальных признаков\n",
    "\n",
    "`Home Ownership` и `Purpose` преведем в цифру вероятности возврата кредита, `Years in current job` переведем в численные значения, `Term` сделаем бинарным."
   ]
  },
  {
   "cell_type": "code",
   "execution_count": 38,
   "id": "ca5eb1b5",
   "metadata": {},
   "outputs": [],
   "source": [
    "df_cat = df_train.groupby('Home Ownership', as_index=False).mean()[['Home Ownership', 'Credit Default']].rename(columns={\n",
    "    'Credit Default': 'target_Home_Ownership'\n",
    "})\n",
    "df_cat = pd.DataFrame(df_cat)\n",
    "\n",
    "df_train = df_train.merge(df_cat, on='Home Ownership', how='left')\n",
    "df_test = df_test_base.merge(df_cat, on='Home Ownership', how='left')\n",
    "df_train['Years in current job'] = df_train['Years in current job'].replace({'< 1 year': 0, '1 year': 1, '2 years': 2,\n",
    "                                                                             '3 years': 3, '4 years': 4, '5 years': 5,\n",
    "                                                                             '6 years': 6, '7 years': 7, '8 years': 8, '9 years': 9, '10+ years': 10})\n",
    "\n",
    "df_test['Years in current job'] = df_test['Years in current job'].replace({'< 1 year': 0, '1 year': 1, '2 years': 2,\n",
    "                                                                           '3 years': 3, '4 years': 4, '5 years': 5,\n",
    "                                                                           '6 years': 6, '7 years': 7, '8 years': 8, '9 years': 9, '10+ years': 10})\n",
    "df_cat = df_train.groupby('Purpose', as_index=False).mean()[['Purpose', 'Credit Default']].rename(columns={\n",
    "    'Credit Default': 'target_Purpose'})\n",
    "df_cat = pd.DataFrame(df_cat)\n",
    "df_train = df_train.merge(df_cat, on='Purpose', how='left')\n",
    "df_test = df_test.merge(df_cat, on='Purpose', how='left')\n",
    "\n",
    "df_train['Term'] = df_train['Term'].map(\n",
    "    {'Long Term': '1', 'Short Term': '2'}).astype(int)\n",
    "df_test['Term'] = df_test['Term'].map(\n",
    "    {'Long Term': '1', 'Short Term': '2'}).astype(int)"
   ]
  },
  {
   "cell_type": "code",
   "execution_count": 39,
   "id": "a022873a",
   "metadata": {
    "scrolled": true
   },
   "outputs": [
    {
     "name": "stdout",
     "output_type": "stream",
     "text": [
      "<class 'pandas.core.frame.DataFrame'>\n",
      "Int64Index: 7500 entries, 0 to 7499\n",
      "Data columns (total 19 columns):\n",
      " #   Column                        Non-Null Count  Dtype  \n",
      "---  ------                        --------------  -----  \n",
      " 0   Home Ownership                7500 non-null   object \n",
      " 1   Annual Income                 5943 non-null   float64\n",
      " 2   Years in current job          7129 non-null   float64\n",
      " 3   Tax Liens                     7500 non-null   float64\n",
      " 4   Number of Open Accounts       7500 non-null   float64\n",
      " 5   Years of Credit History       7500 non-null   float64\n",
      " 6   Maximum Open Credit           7500 non-null   float64\n",
      " 7   Number of Credit Problems     7500 non-null   float64\n",
      " 8   Months since last delinquent  3419 non-null   float64\n",
      " 9   Bankruptcies                  7486 non-null   float64\n",
      " 10  Purpose                       7500 non-null   object \n",
      " 11  Term                          7500 non-null   int32  \n",
      " 12  Current Loan Amount           7500 non-null   float64\n",
      " 13  Current Credit Balance        7500 non-null   float64\n",
      " 14  Monthly Debt                  7500 non-null   float64\n",
      " 15  Credit Score                  5943 non-null   float64\n",
      " 16  Credit Default                7500 non-null   int64  \n",
      " 17  target_Home_Ownership         7500 non-null   float64\n",
      " 18  target_Purpose                7500 non-null   float64\n",
      "dtypes: float64(15), int32(1), int64(1), object(2)\n",
      "memory usage: 1.1+ MB\n"
     ]
    }
   ],
   "source": [
    "df_train.info()"
   ]
  },
  {
   "cell_type": "code",
   "execution_count": 40,
   "id": "9066e770",
   "metadata": {},
   "outputs": [
    {
     "name": "stdout",
     "output_type": "stream",
     "text": [
      "<class 'pandas.core.frame.DataFrame'>\n",
      "Int64Index: 2500 entries, 0 to 2499\n",
      "Data columns (total 18 columns):\n",
      " #   Column                        Non-Null Count  Dtype  \n",
      "---  ------                        --------------  -----  \n",
      " 0   Home Ownership                2500 non-null   object \n",
      " 1   Annual Income                 1987 non-null   float64\n",
      " 2   Years in current job          2414 non-null   float64\n",
      " 3   Tax Liens                     2500 non-null   float64\n",
      " 4   Number of Open Accounts       2500 non-null   float64\n",
      " 5   Years of Credit History       2500 non-null   float64\n",
      " 6   Maximum Open Credit           2500 non-null   float64\n",
      " 7   Number of Credit Problems     2500 non-null   float64\n",
      " 8   Months since last delinquent  1142 non-null   float64\n",
      " 9   Bankruptcies                  2497 non-null   float64\n",
      " 10  Purpose                       2500 non-null   object \n",
      " 11  Term                          2500 non-null   int32  \n",
      " 12  Current Loan Amount           2500 non-null   float64\n",
      " 13  Current Credit Balance        2500 non-null   float64\n",
      " 14  Monthly Debt                  2500 non-null   float64\n",
      " 15  Credit Score                  1987 non-null   float64\n",
      " 16  target_Home_Ownership         2500 non-null   float64\n",
      " 17  target_Purpose                2500 non-null   float64\n",
      "dtypes: float64(15), int32(1), object(2)\n",
      "memory usage: 361.3+ KB\n"
     ]
    }
   ],
   "source": [
    "df_test.info()"
   ]
  },
  {
   "cell_type": "markdown",
   "id": "715845c3",
   "metadata": {},
   "source": [
    "#### Генерация признаков"
   ]
  },
  {
   "cell_type": "code",
   "execution_count": null,
   "id": "0bbd95b7",
   "metadata": {},
   "outputs": [],
   "source": []
  },
  {
   "cell_type": "code",
   "execution_count": null,
   "id": "cfe07b6a",
   "metadata": {},
   "outputs": [],
   "source": []
  },
  {
   "cell_type": "code",
   "execution_count": null,
   "id": "9c40cf29",
   "metadata": {},
   "outputs": [],
   "source": []
  },
  {
   "cell_type": "code",
   "execution_count": null,
   "id": "bdfba5c7",
   "metadata": {},
   "outputs": [],
   "source": []
  },
  {
   "cell_type": "code",
   "execution_count": null,
   "id": "3c207db3",
   "metadata": {},
   "outputs": [],
   "source": []
  },
  {
   "cell_type": "code",
   "execution_count": null,
   "id": "135916b0",
   "metadata": {},
   "outputs": [],
   "source": []
  },
  {
   "cell_type": "code",
   "execution_count": null,
   "id": "996f1ad1",
   "metadata": {},
   "outputs": [],
   "source": []
  },
  {
   "cell_type": "code",
   "execution_count": null,
   "id": "5f8757bb",
   "metadata": {},
   "outputs": [],
   "source": []
  },
  {
   "cell_type": "markdown",
   "id": "2292625f",
   "metadata": {},
   "source": [
    "#### Сохранение подготовленных датасетов в файлы."
   ]
  },
  {
   "cell_type": "code",
   "execution_count": null,
   "id": "f0c42e13",
   "metadata": {},
   "outputs": [],
   "source": [
    "df_train.to_csv('train_prep.csv', index=False)\n",
    "df_test.to_csv('test_prep.csv', index=False)"
   ]
  },
  {
   "cell_type": "code",
   "execution_count": null,
   "id": "482b99ce",
   "metadata": {},
   "outputs": [],
   "source": []
  }
 ],
 "metadata": {
  "kernelspec": {
   "display_name": "Python 3 (ipykernel)",
   "language": "python",
   "name": "python3"
  },
  "language_info": {
   "codemirror_mode": {
    "name": "ipython",
    "version": 3
   },
   "file_extension": ".py",
   "mimetype": "text/x-python",
   "name": "python",
   "nbconvert_exporter": "python",
   "pygments_lexer": "ipython3",
   "version": "3.8.12"
  },
  "toc": {
   "base_numbering": 1,
   "nav_menu": {
    "height": "203px",
    "width": "248px"
   },
   "number_sections": false,
   "sideBar": true,
   "skip_h1_title": false,
   "title_cell": "Table of Contents",
   "title_sidebar": "Contents",
   "toc_cell": false,
   "toc_position": {},
   "toc_section_display": true,
   "toc_window_display": false
  },
  "varInspector": {
   "cols": {
    "lenName": 16,
    "lenType": 16,
    "lenVar": 40
   },
   "kernels_config": {
    "python": {
     "delete_cmd_postfix": "",
     "delete_cmd_prefix": "del ",
     "library": "var_list.py",
     "varRefreshCmd": "print(var_dic_list())"
    },
    "r": {
     "delete_cmd_postfix": ") ",
     "delete_cmd_prefix": "rm(",
     "library": "var_list.r",
     "varRefreshCmd": "cat(var_dic_list()) "
    }
   },
   "types_to_exclude": [
    "module",
    "function",
    "builtin_function_or_method",
    "instance",
    "_Feature"
   ],
   "window_display": false
  }
 },
 "nbformat": 4,
 "nbformat_minor": 5
}
