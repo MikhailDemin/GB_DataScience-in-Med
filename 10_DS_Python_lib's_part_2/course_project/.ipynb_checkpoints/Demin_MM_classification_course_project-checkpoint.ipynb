{
 "cells": [
  {
   "cell_type": "markdown",
   "id": "a3ff53f4",
   "metadata": {},
   "source": [
    "# Курсовой проект"
   ]
  },
  {
   "cell_type": "markdown",
   "id": "52007a9e",
   "metadata": {},
   "source": [
    "## Задача<a class=\"anchor\" id=\"task\"></a>\n",
    "\n",
    "Требуется, на основании имеющихся данных о клиентах банка, построить модель, используя обучающий датасет, для прогнозирования невыполнения долговых обязательств по текущему кредиту. Выполнить прогноз для примеров из тестового датасета.\n",
    "\n",
    "**Целевая переменная**\n",
    "\n",
    "Credit Default - факт невыполнения кредитных обязательств\n",
    "\n",
    "**Метрика качества**\n",
    "\n",
    "F1-score (sklearn.metrics.f1_score)\n",
    "\n",
    "**Требования к решению**\n",
    "\n",
    "*Целевая метрика*\n",
    "* F1 > 0.5\n",
    "* Метрика оценивается по качеству прогноза для главного класса (1 - просрочка по кредиту)\n",
    "\n",
    "*Решение должно содержать*\n",
    "1. Тетрадка Jupyter Notebook с кодом Вашего решения\n",
    "2. Укажите свой ник на kaggle\n",
    "\n",
    "*Рекомендации для файла с кодом (ipynb)*\n",
    "1. Файл должен содержать заголовки и комментарии (markdown)\n",
    "2. Повторяющиеся операции лучше оформлять в виде функций\n",
    "3. По возможности добавлять графики, описывающие данные (около 3-5)\n",
    "4. Добавлять только лучшую модель, то есть не включать в код все варианты решения проекта\n",
    "5. Скрипт проекта должен отрабатывать от начала и до конца (от загрузки данных до выгрузки предсказаний)\n",
    "6. Весь проект должен быть в одном скрипте (файл ipynb)."
   ]
  },
  {
   "cell_type": "markdown",
   "id": "b835d4df",
   "metadata": {},
   "source": [
    "### Примерное описание этапов выполнения курсового проекта\n",
    "\n",
    "**Построение модели классификации**\n",
    "1. Обзор обучающего датасета\n",
    "2. Анализ данных\n",
    "3. Обработка пропусков\n",
    "4. Обработка выбросов\n",
    "5. Отбор признаков\n",
    "6. Балансировка классов\n",
    "7. Подбор моделей, получение бейзлана\n",
    "8. Выбор наилучшей модели, настройка гиперпараметров\n",
    "9. Проверка качества, борьба с переобучением\n",
    "10. Интерпретация результатов\n",
    "\n",
    "**Прогнозирование на тестовом датасете**\n",
    "1. Выполнить для тестового датасета те же этапы обработки и построения признаков\n",
    "2. Спрогнозировать целевую переменную, используя модель, построенную на обучающем датасете\n",
    "3. Прогнозы должны быть для всех примеров из тестового датасета (для всех строк)\n",
    "4. Соблюдать исходный порядок примеров из тестового датасета"
   ]
  },
  {
   "cell_type": "markdown",
   "id": "a276afe5",
   "metadata": {},
   "source": [
    "### Обзор данных\n",
    "**Описание датасета**\n",
    "\n",
    "* **Home Ownership** - домовладение\n",
    "* **Annual Income** - годовой доход\n",
    "* **Years in current job** - количество лет на текущем месте работы\n",
    "* **Tax Liens** - налоговые обременения\n",
    "* **Number of Open Accounts** - количество открытых счетов\n",
    "* **Years of Credit History** - количество лет кредитной истории\n",
    "* **Maximum Open Credit** - наибольший открытый кредит (максимальная сумма, которая когда-либо была доступна клиенту)\n",
    "* **Number of Credit Problems** - количество проблем с кредитом\n",
    "* **Months since last delinquent** - количество месяцев с последней просрочки платежа\n",
    "* **Bankruptcies** - банкротства\n",
    "* **Purpose** - цель кредита\n",
    "* **Term** - срок кредита\n",
    "* **Current Loan Amount** - текущая сумма кредита (сумма, которую еще предстоит выплатить клиенту)\n",
    "* **Current Credit Balance** - текущий кредитный баланс (сумма, которую может тратить клиент с кредитного счета)\n",
    "* **Monthly Debt** - ежемесячный долг\n",
    "* **Credit Score** - баллы кредитного рейтинга\n",
    "* **Credit Default** - факт невыполнения кредитных обязательств (0 - погашен вовремя, 1 - просрочка)"
   ]
  },
  {
   "cell_type": "markdown",
   "id": "73a44898",
   "metadata": {},
   "source": [
    "## Решение\n",
    "### Подключение библиотек и скриптов"
   ]
  },
  {
   "cell_type": "code",
   "execution_count": 2,
   "id": "805b9cda",
   "metadata": {},
   "outputs": [
    {
     "name": "stdout",
     "output_type": "stream",
     "text": [
      "Wall time: 1.82 s\n"
     ]
    }
   ],
   "source": [
    "%%time\n",
    "import pandas as pd\n",
    "import numpy as np\n",
    "import pickle\n",
    "import random\n",
    "from pathlib import Path\n",
    "\n",
    "from sklearn.preprocessing import StandardScaler, MinMaxScaler\n",
    "from sklearn.model_selection import train_test_split, ShuffleSplit, cross_val_score, learning_curve\n",
    "from sklearn.model_selection import StratifiedKFold, GridSearchCV, RandomizedSearchCV\n",
    "from sklearn.metrics import classification_report, f1_score, precision_score, recall_score\n",
    "\n",
    "from sklearn.tree import DecisionTreeClassifier\n",
    "from sklearn.linear_model import LogisticRegression\n",
    "from sklearn.neighbors import KNeighborsClassifier\n",
    "import xgboost as xgb\n",
    "import lightgbm as lgbm\n",
    "import catboost as catb\n",
    "\n",
    "import seaborn as sns\n",
    "from matplotlib import pyplot as plt\n",
    "%matplotlib inline\n",
    "\n",
    "import warnings\n",
    "warnings.filterwarnings('ignore')"
   ]
  },
  {
   "cell_type": "markdown",
   "id": "c2d95e73",
   "metadata": {},
   "source": [
    "#### Пути к директориям и файлам"
   ]
  },
  {
   "cell_type": "code",
   "execution_count": 19,
   "id": "6338b6f4",
   "metadata": {},
   "outputs": [],
   "source": [
    "DATA_ROOT = Path('./data_source/')\n",
    "MODELS_PATH = Path('./models/')\n",
    "\n",
    "# input\n",
    "TRAIN_DATASET_PATH = DATA_ROOT / 'train.csv'\n",
    "TEST_DATASET_PATH = DATA_ROOT / 'test.csv'\n",
    "SUBMIT_DATASET_PATH = DATA_ROOT / 'sample_submission.csv'\n",
    "\n",
    "# output\n",
    "PREPARED_TRAIN_DATASET_PATH = 'train_prep.csv'\n",
    "PREPARED_TEST_DATASET_PATH = 'test_prep.csv'\n",
    "PREDICTION_SET = 'sample_submission.csv'"
   ]
  },
  {
   "cell_type": "markdown",
   "id": "be6158ba",
   "metadata": {},
   "source": [
    "#### Загрузка данных"
   ]
  },
  {
   "cell_type": "code",
   "execution_count": 7,
   "id": "1c4d3a69",
   "metadata": {},
   "outputs": [],
   "source": [
    "df_train_base = pd.read_csv(TRAIN_DATASET_PATH)\n",
    "df_test_base = pd.read_csv(TEST_DATASET_PATH)"
   ]
  },
  {
   "cell_type": "code",
   "execution_count": 26,
   "id": "ce99b7ee",
   "metadata": {},
   "outputs": [
    {
     "data": {
      "text/plain": [
       "(7500, 17)"
      ]
     },
     "execution_count": 26,
     "metadata": {},
     "output_type": "execute_result"
    }
   ],
   "source": [
    "df_train_base.shape"
   ]
  },
  {
   "cell_type": "code",
   "execution_count": 27,
   "id": "27f9a93e",
   "metadata": {},
   "outputs": [
    {
     "data": {
      "text/plain": [
       "(2500, 16)"
      ]
     },
     "execution_count": 27,
     "metadata": {},
     "output_type": "execute_result"
    }
   ],
   "source": [
    "df_test_base.shape"
   ]
  },
  {
   "cell_type": "markdown",
   "id": "0e441b61",
   "metadata": {},
   "source": [
    "### Анализ данных"
   ]
  },
  {
   "cell_type": "code",
   "execution_count": 8,
   "id": "378e60e0",
   "metadata": {},
   "outputs": [
    {
     "data": {
      "text/html": [
       "<div>\n",
       "<style scoped>\n",
       "    .dataframe tbody tr th:only-of-type {\n",
       "        vertical-align: middle;\n",
       "    }\n",
       "\n",
       "    .dataframe tbody tr th {\n",
       "        vertical-align: top;\n",
       "    }\n",
       "\n",
       "    .dataframe thead th {\n",
       "        text-align: right;\n",
       "    }\n",
       "</style>\n",
       "<table border=\"1\" class=\"dataframe\">\n",
       "  <thead>\n",
       "    <tr style=\"text-align: right;\">\n",
       "      <th></th>\n",
       "      <th>0</th>\n",
       "      <th>1</th>\n",
       "      <th>2</th>\n",
       "      <th>3</th>\n",
       "      <th>4</th>\n",
       "    </tr>\n",
       "  </thead>\n",
       "  <tbody>\n",
       "    <tr>\n",
       "      <th>Home Ownership</th>\n",
       "      <td>Own Home</td>\n",
       "      <td>Own Home</td>\n",
       "      <td>Home Mortgage</td>\n",
       "      <td>Own Home</td>\n",
       "      <td>Rent</td>\n",
       "    </tr>\n",
       "    <tr>\n",
       "      <th>Annual Income</th>\n",
       "      <td>482087.0</td>\n",
       "      <td>1025487.0</td>\n",
       "      <td>751412.0</td>\n",
       "      <td>805068.0</td>\n",
       "      <td>776264.0</td>\n",
       "    </tr>\n",
       "    <tr>\n",
       "      <th>Years in current job</th>\n",
       "      <td>NaN</td>\n",
       "      <td>10+ years</td>\n",
       "      <td>8 years</td>\n",
       "      <td>6 years</td>\n",
       "      <td>8 years</td>\n",
       "    </tr>\n",
       "    <tr>\n",
       "      <th>Tax Liens</th>\n",
       "      <td>0.0</td>\n",
       "      <td>0.0</td>\n",
       "      <td>0.0</td>\n",
       "      <td>0.0</td>\n",
       "      <td>0.0</td>\n",
       "    </tr>\n",
       "    <tr>\n",
       "      <th>Number of Open Accounts</th>\n",
       "      <td>11.0</td>\n",
       "      <td>15.0</td>\n",
       "      <td>11.0</td>\n",
       "      <td>8.0</td>\n",
       "      <td>13.0</td>\n",
       "    </tr>\n",
       "    <tr>\n",
       "      <th>Years of Credit History</th>\n",
       "      <td>26.3</td>\n",
       "      <td>15.3</td>\n",
       "      <td>35.0</td>\n",
       "      <td>22.5</td>\n",
       "      <td>13.6</td>\n",
       "    </tr>\n",
       "    <tr>\n",
       "      <th>Maximum Open Credit</th>\n",
       "      <td>685960.0</td>\n",
       "      <td>1181730.0</td>\n",
       "      <td>1182434.0</td>\n",
       "      <td>147400.0</td>\n",
       "      <td>385836.0</td>\n",
       "    </tr>\n",
       "    <tr>\n",
       "      <th>Number of Credit Problems</th>\n",
       "      <td>1.0</td>\n",
       "      <td>0.0</td>\n",
       "      <td>0.0</td>\n",
       "      <td>1.0</td>\n",
       "      <td>1.0</td>\n",
       "    </tr>\n",
       "    <tr>\n",
       "      <th>Months since last delinquent</th>\n",
       "      <td>NaN</td>\n",
       "      <td>NaN</td>\n",
       "      <td>NaN</td>\n",
       "      <td>NaN</td>\n",
       "      <td>NaN</td>\n",
       "    </tr>\n",
       "    <tr>\n",
       "      <th>Bankruptcies</th>\n",
       "      <td>1.0</td>\n",
       "      <td>0.0</td>\n",
       "      <td>0.0</td>\n",
       "      <td>1.0</td>\n",
       "      <td>0.0</td>\n",
       "    </tr>\n",
       "    <tr>\n",
       "      <th>Purpose</th>\n",
       "      <td>debt consolidation</td>\n",
       "      <td>debt consolidation</td>\n",
       "      <td>debt consolidation</td>\n",
       "      <td>debt consolidation</td>\n",
       "      <td>debt consolidation</td>\n",
       "    </tr>\n",
       "    <tr>\n",
       "      <th>Term</th>\n",
       "      <td>Short Term</td>\n",
       "      <td>Long Term</td>\n",
       "      <td>Short Term</td>\n",
       "      <td>Short Term</td>\n",
       "      <td>Short Term</td>\n",
       "    </tr>\n",
       "    <tr>\n",
       "      <th>Current Loan Amount</th>\n",
       "      <td>99999999.0</td>\n",
       "      <td>264968.0</td>\n",
       "      <td>99999999.0</td>\n",
       "      <td>121396.0</td>\n",
       "      <td>125840.0</td>\n",
       "    </tr>\n",
       "    <tr>\n",
       "      <th>Current Credit Balance</th>\n",
       "      <td>47386.0</td>\n",
       "      <td>394972.0</td>\n",
       "      <td>308389.0</td>\n",
       "      <td>95855.0</td>\n",
       "      <td>93309.0</td>\n",
       "    </tr>\n",
       "    <tr>\n",
       "      <th>Monthly Debt</th>\n",
       "      <td>7914.0</td>\n",
       "      <td>18373.0</td>\n",
       "      <td>13651.0</td>\n",
       "      <td>11338.0</td>\n",
       "      <td>7180.0</td>\n",
       "    </tr>\n",
       "    <tr>\n",
       "      <th>Credit Score</th>\n",
       "      <td>749.0</td>\n",
       "      <td>737.0</td>\n",
       "      <td>742.0</td>\n",
       "      <td>694.0</td>\n",
       "      <td>719.0</td>\n",
       "    </tr>\n",
       "    <tr>\n",
       "      <th>Credit Default</th>\n",
       "      <td>0</td>\n",
       "      <td>1</td>\n",
       "      <td>0</td>\n",
       "      <td>0</td>\n",
       "      <td>0</td>\n",
       "    </tr>\n",
       "  </tbody>\n",
       "</table>\n",
       "</div>"
      ],
      "text/plain": [
       "                                               0                   1  \\\n",
       "Home Ownership                          Own Home            Own Home   \n",
       "Annual Income                           482087.0           1025487.0   \n",
       "Years in current job                         NaN           10+ years   \n",
       "Tax Liens                                    0.0                 0.0   \n",
       "Number of Open Accounts                     11.0                15.0   \n",
       "Years of Credit History                     26.3                15.3   \n",
       "Maximum Open Credit                     685960.0           1181730.0   \n",
       "Number of Credit Problems                    1.0                 0.0   \n",
       "Months since last delinquent                 NaN                 NaN   \n",
       "Bankruptcies                                 1.0                 0.0   \n",
       "Purpose                       debt consolidation  debt consolidation   \n",
       "Term                                  Short Term           Long Term   \n",
       "Current Loan Amount                   99999999.0            264968.0   \n",
       "Current Credit Balance                   47386.0            394972.0   \n",
       "Monthly Debt                              7914.0             18373.0   \n",
       "Credit Score                               749.0               737.0   \n",
       "Credit Default                                 0                   1   \n",
       "\n",
       "                                               2                   3  \\\n",
       "Home Ownership                     Home Mortgage            Own Home   \n",
       "Annual Income                           751412.0            805068.0   \n",
       "Years in current job                     8 years             6 years   \n",
       "Tax Liens                                    0.0                 0.0   \n",
       "Number of Open Accounts                     11.0                 8.0   \n",
       "Years of Credit History                     35.0                22.5   \n",
       "Maximum Open Credit                    1182434.0            147400.0   \n",
       "Number of Credit Problems                    0.0                 1.0   \n",
       "Months since last delinquent                 NaN                 NaN   \n",
       "Bankruptcies                                 0.0                 1.0   \n",
       "Purpose                       debt consolidation  debt consolidation   \n",
       "Term                                  Short Term          Short Term   \n",
       "Current Loan Amount                   99999999.0            121396.0   \n",
       "Current Credit Balance                  308389.0             95855.0   \n",
       "Monthly Debt                             13651.0             11338.0   \n",
       "Credit Score                               742.0               694.0   \n",
       "Credit Default                                 0                   0   \n",
       "\n",
       "                                               4  \n",
       "Home Ownership                              Rent  \n",
       "Annual Income                           776264.0  \n",
       "Years in current job                     8 years  \n",
       "Tax Liens                                    0.0  \n",
       "Number of Open Accounts                     13.0  \n",
       "Years of Credit History                     13.6  \n",
       "Maximum Open Credit                     385836.0  \n",
       "Number of Credit Problems                    1.0  \n",
       "Months since last delinquent                 NaN  \n",
       "Bankruptcies                                 0.0  \n",
       "Purpose                       debt consolidation  \n",
       "Term                                  Short Term  \n",
       "Current Loan Amount                     125840.0  \n",
       "Current Credit Balance                   93309.0  \n",
       "Monthly Debt                              7180.0  \n",
       "Credit Score                               719.0  \n",
       "Credit Default                                 0  "
      ]
     },
     "execution_count": 8,
     "metadata": {},
     "output_type": "execute_result"
    }
   ],
   "source": [
    "df_train_base.head().T"
   ]
  },
  {
   "cell_type": "code",
   "execution_count": 9,
   "id": "dcefbcb4",
   "metadata": {},
   "outputs": [
    {
     "name": "stdout",
     "output_type": "stream",
     "text": [
      "<class 'pandas.core.frame.DataFrame'>\n",
      "RangeIndex: 7500 entries, 0 to 7499\n",
      "Data columns (total 17 columns):\n",
      " #   Column                        Non-Null Count  Dtype  \n",
      "---  ------                        --------------  -----  \n",
      " 0   Home Ownership                7500 non-null   object \n",
      " 1   Annual Income                 5943 non-null   float64\n",
      " 2   Years in current job          7129 non-null   object \n",
      " 3   Tax Liens                     7500 non-null   float64\n",
      " 4   Number of Open Accounts       7500 non-null   float64\n",
      " 5   Years of Credit History       7500 non-null   float64\n",
      " 6   Maximum Open Credit           7500 non-null   float64\n",
      " 7   Number of Credit Problems     7500 non-null   float64\n",
      " 8   Months since last delinquent  3419 non-null   float64\n",
      " 9   Bankruptcies                  7486 non-null   float64\n",
      " 10  Purpose                       7500 non-null   object \n",
      " 11  Term                          7500 non-null   object \n",
      " 12  Current Loan Amount           7500 non-null   float64\n",
      " 13  Current Credit Balance        7500 non-null   float64\n",
      " 14  Monthly Debt                  7500 non-null   float64\n",
      " 15  Credit Score                  5943 non-null   float64\n",
      " 16  Credit Default                7500 non-null   int64  \n",
      "dtypes: float64(12), int64(1), object(4)\n",
      "memory usage: 996.2+ KB\n"
     ]
    }
   ],
   "source": [
    "df_train_base.info()"
   ]
  },
  {
   "cell_type": "markdown",
   "id": "e7d3912d",
   "metadata": {},
   "source": [
    "Из описания обучающей выборки видим, что есть пропуски в признаках:\n",
    " - Annual Income\n",
    " - Years in current job\n",
    " - Months since last delinquent\n",
    " - Credit Score"
   ]
  },
  {
   "cell_type": "code",
   "execution_count": 10,
   "id": "635ebd87",
   "metadata": {},
   "outputs": [
    {
     "data": {
      "text/html": [
       "<div>\n",
       "<style scoped>\n",
       "    .dataframe tbody tr th:only-of-type {\n",
       "        vertical-align: middle;\n",
       "    }\n",
       "\n",
       "    .dataframe tbody tr th {\n",
       "        vertical-align: top;\n",
       "    }\n",
       "\n",
       "    .dataframe thead th {\n",
       "        text-align: right;\n",
       "    }\n",
       "</style>\n",
       "<table border=\"1\" class=\"dataframe\">\n",
       "  <thead>\n",
       "    <tr style=\"text-align: right;\">\n",
       "      <th></th>\n",
       "      <th>count</th>\n",
       "      <th>mean</th>\n",
       "      <th>std</th>\n",
       "      <th>min</th>\n",
       "      <th>25%</th>\n",
       "      <th>50%</th>\n",
       "      <th>75%</th>\n",
       "      <th>max</th>\n",
       "    </tr>\n",
       "  </thead>\n",
       "  <tbody>\n",
       "    <tr>\n",
       "      <th>Annual Income</th>\n",
       "      <td>5943.0</td>\n",
       "      <td>1.366392e+06</td>\n",
       "      <td>8.453392e+05</td>\n",
       "      <td>164597.0</td>\n",
       "      <td>844341.0</td>\n",
       "      <td>1168386.0</td>\n",
       "      <td>1640137.00</td>\n",
       "      <td>1.014934e+07</td>\n",
       "    </tr>\n",
       "    <tr>\n",
       "      <th>Tax Liens</th>\n",
       "      <td>7500.0</td>\n",
       "      <td>3.013333e-02</td>\n",
       "      <td>2.716035e-01</td>\n",
       "      <td>0.0</td>\n",
       "      <td>0.0</td>\n",
       "      <td>0.0</td>\n",
       "      <td>0.00</td>\n",
       "      <td>7.000000e+00</td>\n",
       "    </tr>\n",
       "    <tr>\n",
       "      <th>Number of Open Accounts</th>\n",
       "      <td>7500.0</td>\n",
       "      <td>1.113093e+01</td>\n",
       "      <td>4.908924e+00</td>\n",
       "      <td>2.0</td>\n",
       "      <td>8.0</td>\n",
       "      <td>10.0</td>\n",
       "      <td>14.00</td>\n",
       "      <td>4.300000e+01</td>\n",
       "    </tr>\n",
       "    <tr>\n",
       "      <th>Years of Credit History</th>\n",
       "      <td>7500.0</td>\n",
       "      <td>1.831747e+01</td>\n",
       "      <td>7.041946e+00</td>\n",
       "      <td>4.0</td>\n",
       "      <td>13.5</td>\n",
       "      <td>17.0</td>\n",
       "      <td>21.80</td>\n",
       "      <td>5.770000e+01</td>\n",
       "    </tr>\n",
       "    <tr>\n",
       "      <th>Maximum Open Credit</th>\n",
       "      <td>7500.0</td>\n",
       "      <td>9.451537e+05</td>\n",
       "      <td>1.602622e+07</td>\n",
       "      <td>0.0</td>\n",
       "      <td>279229.5</td>\n",
       "      <td>478159.0</td>\n",
       "      <td>793501.50</td>\n",
       "      <td>1.304726e+09</td>\n",
       "    </tr>\n",
       "    <tr>\n",
       "      <th>Number of Credit Problems</th>\n",
       "      <td>7500.0</td>\n",
       "      <td>1.700000e-01</td>\n",
       "      <td>4.985978e-01</td>\n",
       "      <td>0.0</td>\n",
       "      <td>0.0</td>\n",
       "      <td>0.0</td>\n",
       "      <td>0.00</td>\n",
       "      <td>7.000000e+00</td>\n",
       "    </tr>\n",
       "    <tr>\n",
       "      <th>Months since last delinquent</th>\n",
       "      <td>3419.0</td>\n",
       "      <td>3.469260e+01</td>\n",
       "      <td>2.168881e+01</td>\n",
       "      <td>0.0</td>\n",
       "      <td>16.0</td>\n",
       "      <td>32.0</td>\n",
       "      <td>50.00</td>\n",
       "      <td>1.180000e+02</td>\n",
       "    </tr>\n",
       "    <tr>\n",
       "      <th>Bankruptcies</th>\n",
       "      <td>7486.0</td>\n",
       "      <td>1.171520e-01</td>\n",
       "      <td>3.471917e-01</td>\n",
       "      <td>0.0</td>\n",
       "      <td>0.0</td>\n",
       "      <td>0.0</td>\n",
       "      <td>0.00</td>\n",
       "      <td>4.000000e+00</td>\n",
       "    </tr>\n",
       "    <tr>\n",
       "      <th>Current Loan Amount</th>\n",
       "      <td>7500.0</td>\n",
       "      <td>1.187318e+07</td>\n",
       "      <td>3.192612e+07</td>\n",
       "      <td>11242.0</td>\n",
       "      <td>180169.0</td>\n",
       "      <td>309573.0</td>\n",
       "      <td>519882.00</td>\n",
       "      <td>1.000000e+08</td>\n",
       "    </tr>\n",
       "    <tr>\n",
       "      <th>Current Credit Balance</th>\n",
       "      <td>7500.0</td>\n",
       "      <td>2.898332e+05</td>\n",
       "      <td>3.178714e+05</td>\n",
       "      <td>0.0</td>\n",
       "      <td>114256.5</td>\n",
       "      <td>209323.0</td>\n",
       "      <td>360406.25</td>\n",
       "      <td>6.506797e+06</td>\n",
       "    </tr>\n",
       "    <tr>\n",
       "      <th>Monthly Debt</th>\n",
       "      <td>7500.0</td>\n",
       "      <td>1.831445e+04</td>\n",
       "      <td>1.192676e+04</td>\n",
       "      <td>0.0</td>\n",
       "      <td>10067.5</td>\n",
       "      <td>16076.5</td>\n",
       "      <td>23818.00</td>\n",
       "      <td>1.366790e+05</td>\n",
       "    </tr>\n",
       "    <tr>\n",
       "      <th>Credit Score</th>\n",
       "      <td>5943.0</td>\n",
       "      <td>1.151087e+03</td>\n",
       "      <td>1.604451e+03</td>\n",
       "      <td>585.0</td>\n",
       "      <td>711.0</td>\n",
       "      <td>731.0</td>\n",
       "      <td>743.00</td>\n",
       "      <td>7.510000e+03</td>\n",
       "    </tr>\n",
       "    <tr>\n",
       "      <th>Credit Default</th>\n",
       "      <td>7500.0</td>\n",
       "      <td>2.817333e-01</td>\n",
       "      <td>4.498740e-01</td>\n",
       "      <td>0.0</td>\n",
       "      <td>0.0</td>\n",
       "      <td>0.0</td>\n",
       "      <td>1.00</td>\n",
       "      <td>1.000000e+00</td>\n",
       "    </tr>\n",
       "  </tbody>\n",
       "</table>\n",
       "</div>"
      ],
      "text/plain": [
       "                               count          mean           std       min  \\\n",
       "Annual Income                 5943.0  1.366392e+06  8.453392e+05  164597.0   \n",
       "Tax Liens                     7500.0  3.013333e-02  2.716035e-01       0.0   \n",
       "Number of Open Accounts       7500.0  1.113093e+01  4.908924e+00       2.0   \n",
       "Years of Credit History       7500.0  1.831747e+01  7.041946e+00       4.0   \n",
       "Maximum Open Credit           7500.0  9.451537e+05  1.602622e+07       0.0   \n",
       "Number of Credit Problems     7500.0  1.700000e-01  4.985978e-01       0.0   \n",
       "Months since last delinquent  3419.0  3.469260e+01  2.168881e+01       0.0   \n",
       "Bankruptcies                  7486.0  1.171520e-01  3.471917e-01       0.0   \n",
       "Current Loan Amount           7500.0  1.187318e+07  3.192612e+07   11242.0   \n",
       "Current Credit Balance        7500.0  2.898332e+05  3.178714e+05       0.0   \n",
       "Monthly Debt                  7500.0  1.831445e+04  1.192676e+04       0.0   \n",
       "Credit Score                  5943.0  1.151087e+03  1.604451e+03     585.0   \n",
       "Credit Default                7500.0  2.817333e-01  4.498740e-01       0.0   \n",
       "\n",
       "                                   25%        50%         75%           max  \n",
       "Annual Income                 844341.0  1168386.0  1640137.00  1.014934e+07  \n",
       "Tax Liens                          0.0        0.0        0.00  7.000000e+00  \n",
       "Number of Open Accounts            8.0       10.0       14.00  4.300000e+01  \n",
       "Years of Credit History           13.5       17.0       21.80  5.770000e+01  \n",
       "Maximum Open Credit           279229.5   478159.0   793501.50  1.304726e+09  \n",
       "Number of Credit Problems          0.0        0.0        0.00  7.000000e+00  \n",
       "Months since last delinquent      16.0       32.0       50.00  1.180000e+02  \n",
       "Bankruptcies                       0.0        0.0        0.00  4.000000e+00  \n",
       "Current Loan Amount           180169.0   309573.0   519882.00  1.000000e+08  \n",
       "Current Credit Balance        114256.5   209323.0   360406.25  6.506797e+06  \n",
       "Monthly Debt                   10067.5    16076.5    23818.00  1.366790e+05  \n",
       "Credit Score                     711.0      731.0      743.00  7.510000e+03  \n",
       "Credit Default                     0.0        0.0        1.00  1.000000e+00  "
      ]
     },
     "execution_count": 10,
     "metadata": {},
     "output_type": "execute_result"
    }
   ],
   "source": [
    "df_train_base.describe().T"
   ]
  },
  {
   "cell_type": "markdown",
   "id": "da285761",
   "metadata": {},
   "source": [
    "#### Выделение целевой переменной и групп признаков"
   ]
  },
  {
   "cell_type": "code",
   "execution_count": 14,
   "id": "9a0122be",
   "metadata": {},
   "outputs": [],
   "source": [
    "TARGET_NAME = 'Credit Default'\n",
    "\n",
    "NUM_FEATURE_NAMES = ['Annual Income', 'Tax Liens', 'Number of Open Accounts', 'Years of Credit History',\n",
    "                     'Maximum Open Credit', 'Number of Credit Problems', 'Months since last delinquent',\n",
    "                     'Bankruptcies', 'Current Loan Amount', 'Current Credit Balance', 'Monthly Debt',\n",
    "                     'Credit Score']\n",
    "\n",
    "CAT_FEATURE_NAMES = ['Home Ownership', 'Years in current job', 'Purpose', 'Term']"
   ]
  },
  {
   "cell_type": "markdown",
   "id": "6dc9e885",
   "metadata": {},
   "source": [
    "#### Матрица корреляции признаков"
   ]
  },
  {
   "cell_type": "code",
   "execution_count": 18,
   "id": "4f32ee1c",
   "metadata": {},
   "outputs": [
    {
     "data": {
      "image/png": "[encoded data removed]",
      "text/plain": [
       "<Figure size 864x504 with 2 Axes>"
      ]
     },
     "metadata": {
      "needs_background": "light"
     },
     "output_type": "display_data"
    }
   ],
   "source": [
    "plt.figure(figsize=(12, 7))\n",
    "\n",
    "# sns.set(font_scale=1.4)\n",
    "\n",
    "corr_matrix = df_train_base.corr()\n",
    "corr_matrix = np.round(corr_matrix, 2)\n",
    "corr_matrix[np.abs(corr_matrix) < 0.3] = 0\n",
    "\n",
    "sns.heatmap(corr_matrix, annot=True, linewidths=.5, cmap='coolwarm')\n",
    "\n",
    "plt.title('Матрица корреляции признаков')\n",
    "plt.show()"
   ]
  },
  {
   "cell_type": "markdown",
   "id": "8be57fec",
   "metadata": {},
   "source": [
    "Видим сильную корреляцию признаков в следующих парах:\n",
    " - 'Number of Credit Problems' $\\iff$ 'Bankruptcies'\n",
    " - 'Annual Income' $\\iff$ 'Monthly Debt'\n",
    " - 'Tax Liens' $\\iff$ 'Number of Credit Problems'"
   ]
  },
  {
   "cell_type": "code",
   "execution_count": 20,
   "id": "5c817226",
   "metadata": {},
   "outputs": [
    {
     "data": {
      "text/plain": [
       "array([[<AxesSubplot:title={'center':'Annual Income'}>,\n",
       "        <AxesSubplot:title={'center':'Tax Liens'}>,\n",
       "        <AxesSubplot:title={'center':'Number of Open Accounts'}>],\n",
       "       [<AxesSubplot:title={'center':'Years of Credit History'}>,\n",
       "        <AxesSubplot:title={'center':'Maximum Open Credit'}>,\n",
       "        <AxesSubplot:title={'center':'Number of Credit Problems'}>],\n",
       "       [<AxesSubplot:title={'center':'Months since last delinquent'}>,\n",
       "        <AxesSubplot:title={'center':'Bankruptcies'}>,\n",
       "        <AxesSubplot:title={'center':'Current Loan Amount'}>],\n",
       "       [<AxesSubplot:title={'center':'Current Credit Balance'}>,\n",
       "        <AxesSubplot:title={'center':'Monthly Debt'}>,\n",
       "        <AxesSubplot:title={'center':'Credit Score'}>]], dtype=object)"
      ]
     },
     "execution_count": 20,
     "metadata": {},
     "output_type": "execute_result"
    },
    {
     "data": {
      "image/png": "[encoded data removed]",
      "text/plain": [
       "<Figure size 1152x1152 with 12 Axes>"
      ]
     },
     "metadata": {
      "needs_background": "light"
     },
     "output_type": "display_data"
    }
   ],
   "source": [
    "df_train_base[NUM_FEATURE_NAMES].hist(figsize=(16, 16), bins=20, grid=False)"
   ]
  },
  {
   "cell_type": "code",
   "execution_count": 21,
   "id": "2a8a6884",
   "metadata": {
    "scrolled": true
   },
   "outputs": [
    {
     "data": {
      "image/png": "[encoded data removed]",
      "text/plain": [
       "<Figure size 288x288 with 1 Axes>"
      ]
     },
     "metadata": {
      "needs_background": "light"
     },
     "output_type": "display_data"
    }
   ],
   "source": [
    "df_train_base[TARGET_NAME].hist(figsize=(4, 4), bins=20, grid=False);"
   ]
  },
  {
   "cell_type": "code",
   "execution_count": 24,
   "id": "38ac6a81",
   "metadata": {},
   "outputs": [
    {
     "name": "stdout",
     "output_type": "stream",
     "text": [
      "Home Ownership\n",
      "\n",
      "Home Mortgage    3637\n",
      "Rent             3204\n",
      "Own Home          647\n",
      "Have Mortgage      12\n",
      "Name: Home Ownership, dtype: int64\n",
      "****************************************************************************************************\n",
      "\n",
      "Years in current job\n",
      "\n",
      "10+ years    2332\n",
      "2 years       705\n",
      "3 years       620\n",
      "< 1 year      563\n",
      "5 years       516\n",
      "1 year        504\n",
      "4 years       469\n",
      "6 years       426\n",
      "7 years       396\n",
      "8 years       339\n",
      "9 years       259\n",
      "Name: Years in current job, dtype: int64\n",
      "****************************************************************************************************\n",
      "\n",
      "Purpose\n",
      "\n",
      "debt consolidation      5944\n",
      "other                    665\n",
      "home improvements        412\n",
      "business loan            129\n",
      "buy a car                 96\n",
      "medical bills             71\n",
      "major purchase            40\n",
      "take a trip               37\n",
      "buy house                 34\n",
      "small business            26\n",
      "wedding                   15\n",
      "moving                    11\n",
      "educational expenses      10\n",
      "vacation                   8\n",
      "renewable energy           2\n",
      "Name: Purpose, dtype: int64\n",
      "****************************************************************************************************\n",
      "\n",
      "Term\n",
      "\n",
      "Short Term    5556\n",
      "Long Term     1944\n",
      "Name: Term, dtype: int64\n",
      "****************************************************************************************************\n",
      "\n"
     ]
    }
   ],
   "source": [
    "for cat_colname in df_train_base.select_dtypes(include='object').columns:\n",
    "    print(str(cat_colname) + '\\n\\n' + str(df_train_base[cat_colname].value_counts()) + '\\n' + '*' * 100 + '\\n')"
   ]
  },
  {
   "cell_type": "markdown",
   "id": "8f0ac085",
   "metadata": {},
   "source": [
    "#### Корреляция с целевой переменной"
   ]
  },
  {
   "cell_type": "code",
   "execution_count": 16,
   "id": "128b9dc0",
   "metadata": {},
   "outputs": [
    {
     "data": {
      "image/png": "[encoded data removed]",
      "text/plain": [
       "<Figure size 720x576 with 1 Axes>"
      ]
     },
     "metadata": {
      "needs_background": "light"
     },
     "output_type": "display_data"
    }
   ],
   "source": [
    "corr_with_target = df_train_base[NUM_FEATURE_NAMES + [TARGET_NAME]].corr().iloc[:-1, -1].sort_values(ascending=False)\n",
    "\n",
    "plt.figure(figsize=(10, 8))\n",
    "\n",
    "sns.barplot(x=corr_with_target.values, y=corr_with_target.index)\n",
    "\n",
    "plt.title('Корреляция с целевой переменной')\n",
    "plt.show()"
   ]
  },
  {
   "cell_type": "markdown",
   "id": "ded839d0",
   "metadata": {},
   "source": [
    "Наблюдаем сильную прямую корреляцию целевой переменной с количественным признаком `'Credit Score'` и обратную корреляцию с признаками `'Annual Income'` и `'Current Loan Amount'`"
   ]
  },
  {
   "cell_type": "markdown",
   "id": "7c47c292",
   "metadata": {},
   "source": [
    "Обработка категориальных признаков\n",
    "\n",
    "Home Ownership и Purpose преведем в цифру вероятности возврата кредита, Years in current job переведем в численные значения, Term сделаем бинарным."
   ]
  },
  {
   "cell_type": "code",
   "execution_count": 32,
   "id": "ca5eb1b5",
   "metadata": {},
   "outputs": [
    {
     "ename": "NameError",
     "evalue": "name 'test_df' is not defined",
     "output_type": "error",
     "traceback": [
      "\u001b[1;31m---------------------------------------------------------------------------\u001b[0m",
      "\u001b[1;31mNameError\u001b[0m                                 Traceback (most recent call last)",
      "\u001b[1;32m~\\AppData\\Local\\Temp/ipykernel_17352/2590525602.py\u001b[0m in \u001b[0;36m<module>\u001b[1;34m\u001b[0m\n\u001b[0;32m     10\u001b[0m                                                                  '6 years':6, '7 years':7,'8 years':8,'9 years':9,'10+ years':10})\n\u001b[0;32m     11\u001b[0m \u001b[1;33m\u001b[0m\u001b[0m\n\u001b[1;32m---> 12\u001b[1;33m test_df['Years in current job'] = test_df['Years in current job'].replace({'< 1 year':0, '1 year':1, '2 years':2,\n\u001b[0m\u001b[0;32m     13\u001b[0m                                                                  \u001b[1;34m'3 years'\u001b[0m\u001b[1;33m:\u001b[0m\u001b[1;36m3\u001b[0m\u001b[1;33m,\u001b[0m \u001b[1;34m'4 years'\u001b[0m\u001b[1;33m:\u001b[0m\u001b[1;36m4\u001b[0m\u001b[1;33m,\u001b[0m \u001b[1;34m'5 years'\u001b[0m\u001b[1;33m:\u001b[0m\u001b[1;36m5\u001b[0m\u001b[1;33m,\u001b[0m\u001b[1;33m\u001b[0m\u001b[1;33m\u001b[0m\u001b[0m\n\u001b[0;32m     14\u001b[0m                                                                  '6 years':6, '7 years':7,'8 years':8,'9 years':9,'10+ years':10})\n",
      "\u001b[1;31mNameError\u001b[0m: name 'test_df' is not defined"
     ]
    }
   ],
   "source": [
    "df_cat = df_train_base.groupby('Home Ownership', as_index=False).mean()[['Home Ownership', 'Credit Default']].rename(columns={\n",
    "    'Credit Default': 'target_Home_Ownership'\n",
    "})\n",
    "df_cat = pd.DataFrame(df_cat)\n",
    "\n",
    "df_train = df_train_base.merge(df_cat, on='Home Ownership', how='left')\n",
    "df_test = df_test_base.merge(df_cat, on='Home Ownership', how='left')\n",
    "df_train['Years in current job'] = df_train['Years in current job'].replace({'< 1 year':0, '1 year':1, '2 years':2,\n",
    "                                                                 '3 years':3, '4 years':4, '5 years':5, \n",
    "                                                                 '6 years':6, '7 years':7,'8 years':8,'9 years':9,'10+ years':10})\n",
    "\n",
    "df_test_base['Years in current job'] = df_test_base['Years in current job'].replace({'< 1 year':0, '1 year':1, '2 years':2,\n",
    "                                                                 '3 years':3, '4 years':4, '5 years':5, \n",
    "                                                                 '6 years':6, '7 years':7,'8 years':8,'9 years':9,'10+ years':10})\n",
    "df_cat = df.groupby('Purpose', as_index=False).mean()[['Purpose', 'Credit Default']].rename(columns={\n",
    "    'Credit Default': 'target_Purpose'\n",
    "})\n",
    "df_cat = pd.DataFrame(df_cat)\n",
    "df = df.merge(df_cat, on='Purpose', how='left')\n",
    "test_df = test_df.merge(df_cat, on='Purpose', how='left')\n",
    "\n",
    "df['Term'] = df['Term'].map({'Long Term':'1', 'Short Term':'2'}).astype(int)\n",
    "test_df['Term'] = test_df['Term'].map({'Long Term':'1', 'Short Term':'2'}).astype(int)"
   ]
  },
  {
   "cell_type": "code",
   "execution_count": null,
   "id": "25c6079e",
   "metadata": {},
   "outputs": [],
   "source": []
  }
 ],
 "metadata": {
  "kernelspec": {
   "display_name": "Python 3 (ipykernel)",
   "language": "python",
   "name": "python3"
  },
  "language_info": {
   "codemirror_mode": {
    "name": "ipython",
    "version": 3
   },
   "file_extension": ".py",
   "mimetype": "text/x-python",
   "name": "python",
   "nbconvert_exporter": "python",
   "pygments_lexer": "ipython3",
   "version": "3.8.12"
  },
  "toc": {
   "base_numbering": 1,
   "nav_menu": {
    "height": "203px",
    "width": "248px"
   },
   "number_sections": false,
   "sideBar": true,
   "skip_h1_title": false,
   "title_cell": "Table of Contents",
   "title_sidebar": "Contents",
   "toc_cell": false,
   "toc_position": {},
   "toc_section_display": true,
   "toc_window_display": false
  },
  "varInspector": {
   "cols": {
    "lenName": 16,
    "lenType": 16,
    "lenVar": 40
   },
   "kernels_config": {
    "python": {
     "delete_cmd_postfix": "",
     "delete_cmd_prefix": "del ",
     "library": "var_list.py",
     "varRefreshCmd": "print(var_dic_list())"
    },
    "r": {
     "delete_cmd_postfix": ") ",
     "delete_cmd_prefix": "rm(",
     "library": "var_list.r",
     "varRefreshCmd": "cat(var_dic_list()) "
    }
   },
   "types_to_exclude": [
    "module",
    "function",
    "builtin_function_or_method",
    "instance",
    "_Feature"
   ],
   "window_display": false
  }
 },
 "nbformat": 4,
 "nbformat_minor": 5
}
