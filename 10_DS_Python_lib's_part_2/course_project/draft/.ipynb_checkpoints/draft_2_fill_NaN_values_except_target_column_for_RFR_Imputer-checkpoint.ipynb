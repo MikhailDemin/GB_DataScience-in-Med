{
 "cells": [
  {
   "cell_type": "markdown",
   "id": "a3ff53f4",
   "metadata": {},
   "source": [
    "# Курсовой проект"
   ]
  },
  {
   "cell_type": "markdown",
   "id": "b7b534e4",
   "metadata": {},
   "source": [
    "<span class=\"burk\">SDFHHVNKEFIUDHJEKRFIUCHNMEKRIFGUHFDNMKEOIRFUHJMDLEOIRFUGHFN</span>"
   ]
  },
  {
   "cell_type": "code",
   "execution_count": 70,
   "id": "e323365d",
   "metadata": {
    "scrolled": true
   },
   "outputs": [
    {
     "name": "stdout",
     "output_type": "stream",
     "text": [
      "['Annual Income', 'Years in current job', 'Maximum Open Credit', 'Months since last delinquent', 'Bankruptcies', 'Current Loan Amount', 'Credit Score']\n"
     ]
    }
   ],
   "source": [
    "print(MISSED_VALUES_FEATURE_NAMES)"
   ]
  },
  {
   "cell_type": "code",
   "execution_count": 157,
   "id": "20f44750",
   "metadata": {},
   "outputs": [],
   "source": [
    "df_try = TRAIN_train[PROCESSING_NUM_FEATURE_NAMES + [PROCESSING_TARGET_NAME]].copy()"
   ]
  },
  {
   "cell_type": "code",
   "execution_count": 158,
   "id": "525afea7",
   "metadata": {
    "collapsed": true
   },
   "outputs": [
    {
     "name": "stdout",
     "output_type": "stream",
     "text": [
      "<class 'pandas.core.frame.DataFrame'>\n",
      "Int64Index: 5250 entries, 5636 to 1025\n",
      "Data columns (total 17 columns):\n",
      " #   Column                        Non-Null Count  Dtype  \n",
      "---  ------                        --------------  -----  \n",
      " 0   Annual Income                 4161 non-null   float64\n",
      " 1   Years in current job          5250 non-null   float64\n",
      " 2   Tax Liens                     5250 non-null   float64\n",
      " 3   Number of Open Accounts       5250 non-null   float64\n",
      " 4   Years of Credit History       5250 non-null   float64\n",
      " 5   Maximum Open Credit           5249 non-null   float64\n",
      " 6   Number of Credit Problems     5250 non-null   float64\n",
      " 7   Months since last delinquent  2415 non-null   float64\n",
      " 8   Bankruptcies                  5250 non-null   float64\n",
      " 9   Term                          5250 non-null   float64\n",
      " 10  Current Loan Amount           4647 non-null   float64\n",
      " 11  Current Credit Balance        5250 non-null   float64\n",
      " 12  Monthly Debt                  5250 non-null   float64\n",
      " 13  Credit Score                  4161 non-null   float64\n",
      " 14  target_Home_Ownership         5250 non-null   float64\n",
      " 15  target_Purpose                5250 non-null   float64\n",
      " 16  Credit Default                5250 non-null   int64  \n",
      "dtypes: float64(16), int64(1)\n",
      "memory usage: 867.3 KB\n"
     ]
    }
   ],
   "source": [
    "df_try.info()"
   ]
  },
  {
   "cell_type": "code",
   "execution_count": 73,
   "id": "ab5b0e93",
   "metadata": {
    "collapsed": true
   },
   "outputs": [
    {
     "name": "stdout",
     "output_type": "stream",
     "text": [
      "null_feature_list_copy:\n",
      "['Annual Income', 'Years in current job', 'Maximum Open Credit', 'Months since last delinquent', 'Bankruptcies', 'Current Loan Amount', 'Credit Score']\n"
     ]
    }
   ],
   "source": [
    "feature = 'Current Loan Amount'\n",
    "null_feature_list_copy = MISSED_VALUES_FEATURE_NAMES.copy()\n",
    "print(f'null_feature_list_copy:\\n{null_feature_list_copy}')"
   ]
  },
  {
   "cell_type": "code",
   "execution_count": 74,
   "id": "8e61e03c",
   "metadata": {
    "scrolled": true
   },
   "outputs": [
    {
     "name": "stdout",
     "output_type": "stream",
     "text": [
      "null_feature_list_copy:\n",
      "['Annual Income', 'Years in current job', 'Maximum Open Credit', 'Months since last delinquent', 'Bankruptcies', 'Credit Score']\n",
      "Wall time: 997 µs\n"
     ]
    }
   ],
   "source": [
    "%%time\n",
    "null_feature_list_copy.remove(feature)\n",
    "print(f'null_feature_list_copy:\\n{null_feature_list_copy}')"
   ]
  },
  {
   "cell_type": "code",
   "execution_count": 75,
   "id": "e58104c7",
   "metadata": {
    "scrolled": true
   },
   "outputs": [],
   "source": [
    "for null_feature in null_feature_list_copy:\n",
    "    df_try.loc[df_try[null_feature].isna(), null_feature] = -0.0"
   ]
  },
  {
   "cell_type": "code",
   "execution_count": 76,
   "id": "adee1dcb",
   "metadata": {
    "collapsed": true
   },
   "outputs": [
    {
     "name": "stdout",
     "output_type": "stream",
     "text": [
      "<class 'pandas.core.frame.DataFrame'>\n",
      "Int64Index: 5250 entries, 5636 to 1025\n",
      "Data columns (total 17 columns):\n",
      " #   Column                        Non-Null Count  Dtype  \n",
      "---  ------                        --------------  -----  \n",
      " 0   Annual Income                 5250 non-null   float64\n",
      " 1   Years in current job          5250 non-null   float64\n",
      " 2   Tax Liens                     5250 non-null   float64\n",
      " 3   Number of Open Accounts       5250 non-null   float64\n",
      " 4   Years of Credit History       5250 non-null   float64\n",
      " 5   Maximum Open Credit           5250 non-null   float64\n",
      " 6   Number of Credit Problems     5250 non-null   float64\n",
      " 7   Months since last delinquent  5250 non-null   float64\n",
      " 8   Bankruptcies                  5250 non-null   float64\n",
      " 9   Term                          5250 non-null   float64\n",
      " 10  Current Loan Amount           4647 non-null   float64\n",
      " 11  Current Credit Balance        5250 non-null   float64\n",
      " 12  Monthly Debt                  5250 non-null   float64\n",
      " 13  Credit Score                  5250 non-null   float64\n",
      " 14  target_Home_Ownership         5250 non-null   float64\n",
      " 15  target_Purpose                5250 non-null   float64\n",
      " 16  Credit Default                5250 non-null   int64  \n",
      "dtypes: float64(16), int64(1)\n",
      "memory usage: 867.3 KB\n"
     ]
    }
   ],
   "source": [
    "df_try.info()"
   ]
  },
  {
   "cell_type": "code",
   "execution_count": null,
   "id": "f9b8b944",
   "metadata": {},
   "outputs": [],
   "source": [
    "# df_base.columns.drop(TARGET_NAME)"
   ]
  },
  {
   "cell_type": "code",
   "execution_count": 77,
   "id": "6823ebed",
   "metadata": {},
   "outputs": [
    {
     "name": "stdout",
     "output_type": "stream",
     "text": [
      "TRAIN_train [Current Loan Amount]: 603 NaN values\n"
     ]
    }
   ],
   "source": [
    "for num_colname in df_try.select_dtypes(include='float64').columns:\n",
    "    if df_try[num_colname].isna().sum() > 0:\n",
    "        print(f'TRAIN_train [{num_colname}]: {TRAIN_train[num_colname].isna().sum()} NaN values')"
   ]
  },
  {
   "cell_type": "code",
   "execution_count": 78,
   "id": "eb5de8be",
   "metadata": {},
   "outputs": [
    {
     "name": "stdout",
     "output_type": "stream",
     "text": [
      "Months since last delinquent --- 0 null values\n"
     ]
    }
   ],
   "source": [
    "feature_name = 'Months since last delinquent'\n",
    "print(f'{feature_name} --- {df_try[feature_name].isna().sum()} null values')"
   ]
  },
  {
   "cell_type": "code",
   "execution_count": 154,
   "id": "299b8538",
   "metadata": {},
   "outputs": [],
   "source": [
    "def imputer_rfr(data, target_col):\n",
    "    data = data.copy()\n",
    "    \n",
    "    features = data.columns\n",
    "    \n",
    "    data = data[features]\n",
    "    \n",
    "    train = data[~data[target_col].isna()]\n",
    "    predict_data = data[data[target_col].isna()]\n",
    "\n",
    "    X = train.drop(columns=target_col)\n",
    "    y = train[target_col]\n",
    "    \n",
    "    X_train, X_test, y_train, y_test = train_test_split(X, y,\n",
    "                                                        test_size=0.2,\n",
    "                                                        shuffle=True,\n",
    "                                                        random_state=21)\n",
    "    \n",
    "    model = RandomForestRegressor(n_estimators=100,\n",
    "                                  max_depth=5,\n",
    "                                  random_state=21,\n",
    "                                  verbose=1)\n",
    "    model.fit(X_train, y_train)\n",
    "    \n",
    "    pred_train = model.predict(X_train)\n",
    "    pred_test = model.predict(X_test)\n",
    "    \n",
    "    print(f\"r2 на train: {r2_score(y_train, pred_train)}\")\n",
    "    print(f\"r2 на test: {r2_score(y_test, pred_test)}\")\n",
    "\n",
    "    pred = model.predict(predict_data.drop(columns=target_col))\n",
    "\n",
    "    data.loc[data[target_col].isna(), target_col] = list(pred)\n",
    "    return model, data"
   ]
  },
  {
   "cell_type": "code",
   "execution_count": 155,
   "id": "8549fc3e",
   "metadata": {},
   "outputs": [],
   "source": [
    "df_try_copy = df_try.copy()"
   ]
  },
  {
   "cell_type": "code",
   "execution_count": 156,
   "id": "f6a2f902",
   "metadata": {
    "scrolled": true
   },
   "outputs": [
    {
     "name": "stderr",
     "output_type": "stream",
     "text": [
      "[Parallel(n_jobs=1)]: Using backend SequentialBackend with 1 concurrent workers.\n"
     ]
    },
    {
     "name": "stdout",
     "output_type": "stream",
     "text": [
      "r2 на train: 0.5324279535121476\n",
      "r2 на test: 0.4552868437526061\n",
      "Wall time: 682 ms\n"
     ]
    },
    {
     "name": "stderr",
     "output_type": "stream",
     "text": [
      "[Parallel(n_jobs=1)]: Done 100 out of 100 | elapsed:    0.5s finished\n",
      "[Parallel(n_jobs=1)]: Using backend SequentialBackend with 1 concurrent workers.\n",
      "[Parallel(n_jobs=1)]: Done 100 out of 100 | elapsed:    0.0s finished\n",
      "[Parallel(n_jobs=1)]: Using backend SequentialBackend with 1 concurrent workers.\n",
      "[Parallel(n_jobs=1)]: Done 100 out of 100 | elapsed:    0.0s finished\n",
      "[Parallel(n_jobs=1)]: Using backend SequentialBackend with 1 concurrent workers.\n",
      "[Parallel(n_jobs=1)]: Done 100 out of 100 | elapsed:    0.0s finished\n"
     ]
    }
   ],
   "source": [
    "%%time\n",
    "feature_null_value_predictor, df_try_copy = imputer_rfr(df_try_copy, feature)"
   ]
  },
  {
   "cell_type": "code",
   "execution_count": 91,
   "id": "9248fee2",
   "metadata": {
    "collapsed": true
   },
   "outputs": [
    {
     "name": "stdout",
     "output_type": "stream",
     "text": [
      "<class 'pandas.core.frame.DataFrame'>\n",
      "Int64Index: 5250 entries, 5636 to 1025\n",
      "Data columns (total 17 columns):\n",
      " #   Column                        Non-Null Count  Dtype  \n",
      "---  ------                        --------------  -----  \n",
      " 0   Annual Income                 5250 non-null   float64\n",
      " 1   Years in current job          5250 non-null   float64\n",
      " 2   Tax Liens                     5250 non-null   float64\n",
      " 3   Number of Open Accounts       5250 non-null   float64\n",
      " 4   Years of Credit History       5250 non-null   float64\n",
      " 5   Maximum Open Credit           5250 non-null   float64\n",
      " 6   Number of Credit Problems     5250 non-null   float64\n",
      " 7   Months since last delinquent  5250 non-null   float64\n",
      " 8   Bankruptcies                  5250 non-null   float64\n",
      " 9   Term                          5250 non-null   float64\n",
      " 10  Current Loan Amount           5250 non-null   float64\n",
      " 11  Current Credit Balance        5250 non-null   float64\n",
      " 12  Monthly Debt                  5250 non-null   float64\n",
      " 13  Credit Score                  5250 non-null   float64\n",
      " 14  target_Home_Ownership         5250 non-null   float64\n",
      " 15  target_Purpose                5250 non-null   float64\n",
      " 16  Credit Default                5250 non-null   int64  \n",
      "dtypes: float64(16), int64(1)\n",
      "memory usage: 867.3 KB\n"
     ]
    }
   ],
   "source": [
    "df_try_copy.info()"
   ]
  },
  {
   "cell_type": "code",
   "execution_count": 132,
   "id": "af59573b",
   "metadata": {},
   "outputs": [],
   "source": [
    "df_try_copy.to_csv('data/try_copy.csv', index=False, encoding='utf-8')"
   ]
  },
  {
   "cell_type": "code",
   "execution_count": 133,
   "id": "c90a59d6",
   "metadata": {
    "collapsed": true
   },
   "outputs": [
    {
     "data": {
      "image/png": "[encoded data removed]",
      "text/plain": [
       "<Figure size 432x432 with 1 Axes>"
      ]
     },
     "metadata": {},
     "output_type": "display_data"
    }
   ],
   "source": [
    "df_try['Current Loan Amount'].hist(\n",
    "    figsize=(6, 6), bins=30, grid=False)\n",
    "plt.axvline(x=df_try['Current Loan Amount'].mean(),\n",
    "            label='mean', color='orange')\n",
    "plt.axvline(x=df_try['Current Loan Amount'].median(\n",
    "), label='median', linestyle='--', color='red')\n",
    "plt.ylabel('accounts')\n",
    "plt.xlabel('Current Loan Amount')\n",
    "plt.title('TEST Current Loan Amount distribution')\n",
    "plt.legend()\n",
    "plt.show()"
   ]
  },
  {
   "cell_type": "code",
   "execution_count": 134,
   "id": "4af8bfaa",
   "metadata": {
    "collapsed": true
   },
   "outputs": [
    {
     "data": {
      "image/png": "[encoded data removed]",
      "text/plain": [
       "<Figure size 432x432 with 1 Axes>"
      ]
     },
     "metadata": {},
     "output_type": "display_data"
    }
   ],
   "source": [
    "df_try_copy['Current Loan Amount'].hist(\n",
    "    figsize=(6, 6), bins=30, grid=False)\n",
    "plt.axvline(x=df_try_copy['Current Loan Amount'].mean(),\n",
    "            label='mean', color='orange')\n",
    "plt.axvline(x=df_try_copy['Current Loan Amount'].median(\n",
    "), label='median', linestyle='--', color='red')\n",
    "plt.ylabel('accounts')\n",
    "plt.xlabel('Current Loan Amount')\n",
    "plt.title('TEST Current Loan Amount distribution')\n",
    "plt.legend()\n",
    "plt.show()"
   ]
  },
  {
   "cell_type": "code",
   "execution_count": null,
   "id": "67648d10",
   "metadata": {},
   "outputs": [],
   "source": []
  },
  {
   "cell_type": "code",
   "execution_count": null,
   "id": "4cedb3b6",
   "metadata": {},
   "outputs": [],
   "source": []
  },
  {
   "cell_type": "code",
   "execution_count": null,
   "id": "f7ea6b1e",
   "metadata": {},
   "outputs": [],
   "source": [
    "print(df_train_copy[NUM_FEATURE_NAMES_PROCESS].dtypes)"
   ]
  },
  {
   "cell_type": "code",
   "execution_count": null,
   "id": "8fa24760",
   "metadata": {},
   "outputs": [],
   "source": [
    "%%time\n",
    "max_open_credit_pred, df = imputer_rfr(df_train_copy, 'Maximum Open Credit')"
   ]
  },
  {
   "cell_type": "code",
   "execution_count": null,
   "id": "2b89f89c",
   "metadata": {},
   "outputs": [],
   "source": []
  },
  {
   "cell_type": "code",
   "execution_count": null,
   "id": "cbc617c4",
   "metadata": {},
   "outputs": [],
   "source": []
  },
  {
   "cell_type": "code",
   "execution_count": null,
   "id": "60461827",
   "metadata": {},
   "outputs": [],
   "source": []
  },
  {
   "cell_type": "code",
   "execution_count": null,
   "id": "d967dc91",
   "metadata": {},
   "outputs": [],
   "source": [
    "predict_data = df_test_copy[df_test_copy[feature_name].isna()]\n",
    "pred = score_predictor.predict(predict_data.drop(columns=feature_name))\n",
    "df_test_copy.loc[df_test_copy[feature_name].isna(), feature_name] = list(pred)"
   ]
  },
  {
   "cell_type": "code",
   "execution_count": null,
   "id": "5e518e10",
   "metadata": {},
   "outputs": [],
   "source": []
  },
  {
   "cell_type": "code",
   "execution_count": null,
   "id": "8ebdc693",
   "metadata": {},
   "outputs": [],
   "source": []
  },
  {
   "cell_type": "code",
   "execution_count": null,
   "id": "16c94ca3",
   "metadata": {},
   "outputs": [],
   "source": []
  },
  {
   "cell_type": "markdown",
   "id": "2292625f",
   "metadata": {},
   "source": [
    "### Сохранение подготовленных датасетов в файлы."
   ]
  },
  {
   "cell_type": "code",
   "execution_count": null,
   "id": "f0c42e13",
   "metadata": {},
   "outputs": [],
   "source": [
    "df_train.to_csv('train_prep.csv', index=False)\n",
    "df_test.to_csv('test_prep.csv', index=False)"
   ]
  },
  {
   "cell_type": "code",
   "execution_count": null,
   "id": "c778d64f",
   "metadata": {},
   "outputs": [],
   "source": [
    "disbalance = y_train.value_counts()[0] / y_train.value_counts()[1]\n",
    "disbalance"
   ]
  },
  {
   "cell_type": "code",
   "execution_count": null,
   "id": "760b92c7",
   "metadata": {},
   "outputs": [],
   "source": []
  },
  {
   "cell_type": "code",
   "execution_count": null,
   "id": "ad2d24ab",
   "metadata": {},
   "outputs": [],
   "source": []
  },
  {
   "cell_type": "code",
   "execution_count": null,
   "id": "c6928e96",
   "metadata": {},
   "outputs": [],
   "source": []
  },
  {
   "cell_type": "code",
   "execution_count": null,
   "id": "721863ab",
   "metadata": {},
   "outputs": [],
   "source": []
  },
  {
   "cell_type": "code",
   "execution_count": null,
   "id": "f4864bcb",
   "metadata": {},
   "outputs": [],
   "source": [
    "df['Months since last delinquent'].hist(figsize=(10, 6), bins=40, grid=False)\n",
    "plt.axvline(x=df['Months since last delinquent'].mean(), label='mean', color='orange')\n",
    "plt.axvline(x=df['Months since last delinquent'].median(), label='median', linestyle='--', color='red')\n",
    "plt.axvline(x=df['Months since last delinquent'].mode()[0], label='mode', linestyle='-.', color='blue')\n",
    "plt.ylabel('accounts')\n",
    "plt.xlabel('Months since last delinquent')\n",
    "plt.title('TRAIN Months since last delinquent distribution')\n",
    "plt.legend()\n",
    "plt.show()"
   ]
  },
  {
   "cell_type": "code",
   "execution_count": null,
   "id": "cf467f96",
   "metadata": {},
   "outputs": [],
   "source": [
    "corr_with_target = df[NUM_FEATURE_NAMES_PROCESS + [TARGET_NAME_PROCESS]].corr().iloc[:-1, -1].sort_values(ascending=False)\n",
    "\n",
    "plt.figure(figsize=(10, 8))\n",
    "\n",
    "sns.barplot(x=corr_with_target.values, y=corr_with_target.index)\n",
    "\n",
    "plt.title('Корреляция с целевой переменной')\n",
    "plt.show()"
   ]
  },
  {
   "cell_type": "code",
   "execution_count": null,
   "id": "ef0c858c",
   "metadata": {},
   "outputs": [],
   "source": [
    "for num_colname in df_test.select_dtypes(include='float64').columns:\n",
    "    if df[num_colname].isna().sum() > 0:\n",
    "        print('TRAIN' + '   ' + str(num_colname) + ': ' + str(df[num_colname].isna().sum()) + ' NaN values')"
   ]
  },
  {
   "cell_type": "code",
   "execution_count": null,
   "id": "73dfc3d6",
   "metadata": {},
   "outputs": [],
   "source": [
    "#df_test[OUTLIER_VALUES_FEATURE_NAMES].hist(figsize=(20, 20), bins=40, grid=False);"
   ]
  },
  {
   "cell_type": "code",
   "execution_count": null,
   "id": "7fc285df",
   "metadata": {},
   "outputs": [],
   "source": [
    "TRAIN_train['Months since last delinquent'].hist(figsize=(10, 6), bins=40, grid=False)\n",
    "plt.axvline(x=TRAIN_train['Months since last delinquent'].mean(), label='mean', color='orange')\n",
    "plt.axvline(x=TRAIN_train['Months since last delinquent'].median(), label='median', linestyle='--', color='red')\n",
    "plt.axvline(x=TRAIN_train['Months since last delinquent'].mode()[0], label='mode', linestyle='-.', color='blue')\n",
    "plt.ylabel('accounts')\n",
    "plt.xlabel('Months since last delinquent')\n",
    "plt.title('TRAIN_train [Months since last delinquent distribution]')\n",
    "plt.legend()\n",
    "plt.show()"
   ]
  },
  {
   "cell_type": "code",
   "execution_count": null,
   "id": "c69a11f0",
   "metadata": {},
   "outputs": [],
   "source": [
    "df_train.loc[df_train['Annual Income'].isna(), 'Annual Income'] = df_train['Annual Income'].median()\n",
    "df_test.loc[df_test['Annual Income'].isna(), 'Annual Income'] = df_test['Annual Income'].median()\n",
    "\n",
    "df_train.loc[df_train['Months since last delinquent'].isna(), 'Months since last delinquent'] = df_train['Months since last delinquent'].median()\n",
    "df_test.loc[df_test['Months since last delinquent'].isna(), 'Months since last delinquent'] = df_test['Months since last delinquent'].median()\n",
    "\n",
    "df_train.loc[df_train['Bankruptcies'].isna(), 'Bankruptcies'] = df_train['Bankruptcies'].median()\n",
    "df_test.loc[df_test['Bankruptcies'].isna(), 'Bankruptcies'] = df_test['Bankruptcies'].median()\n",
    "\n",
    "df_train.loc[df_train['Years in current job'].isna(), 'Years in current job'] = df_train['Years in current job'].mode()[0]\n",
    "df_test.loc[df_test['Years in current job'].isna(), 'Years in current job'] = df_test['Years in current job'].mode()[0]"
   ]
  },
  {
   "cell_type": "code",
   "execution_count": null,
   "id": "0ece9bc5",
   "metadata": {},
   "outputs": [],
   "source": [
    "# TARGET_NAME = 'Credit Default'\n",
    "\n",
    "# NUM_FEATURE_NAMES_BASE = ['Annual Income', 'Tax Liens', 'Number of Open Accounts', 'Years of Credit History',\n",
    "#                      'Maximum Open Credit', 'Number of Credit Problems', 'Months since last delinquent',\n",
    "#                      'Bankruptcies', 'Current Loan Amount', 'Current Credit Balance', 'Monthly Debt',\n",
    "#                      'Credit Score']\n",
    "\n",
    "# CAT_FEATURE_NAMES_BASE = ['Home Ownership', 'Years in current job', 'Purpose', 'Term']"
   ]
  },
  {
   "cell_type": "code",
   "execution_count": null,
   "id": "b3acd7bd",
   "metadata": {},
   "outputs": [],
   "source": []
  },
  {
   "cell_type": "code",
   "execution_count": null,
   "id": "f0deb718",
   "metadata": {},
   "outputs": [],
   "source": []
  },
  {
   "cell_type": "markdown",
   "id": "64ba6848",
   "metadata": {},
   "source": [
    "## Построение базовых моделей"
   ]
  },
  {
   "cell_type": "code",
   "execution_count": null,
   "id": "24b9f6cb",
   "metadata": {},
   "outputs": [],
   "source": []
  },
  {
   "cell_type": "code",
   "execution_count": null,
   "id": "8b24f22b",
   "metadata": {},
   "outputs": [],
   "source": []
  },
  {
   "cell_type": "code",
   "execution_count": null,
   "id": "a4cc409a",
   "metadata": {},
   "outputs": [],
   "source": []
  },
  {
   "cell_type": "code",
   "execution_count": null,
   "id": "a614a592",
   "metadata": {},
   "outputs": [],
   "source": []
  },
  {
   "cell_type": "code",
   "execution_count": null,
   "id": "9a7010e1",
   "metadata": {},
   "outputs": [],
   "source": []
  },
  {
   "cell_type": "code",
   "execution_count": null,
   "id": "f0a71b0b",
   "metadata": {},
   "outputs": [],
   "source": []
  },
  {
   "cell_type": "code",
   "execution_count": null,
   "id": "02002e77",
   "metadata": {},
   "outputs": [],
   "source": []
  },
  {
   "cell_type": "code",
   "execution_count": null,
   "id": "f4edd253",
   "metadata": {},
   "outputs": [],
   "source": []
  },
  {
   "cell_type": "code",
   "execution_count": null,
   "id": "f46d09d2",
   "metadata": {},
   "outputs": [],
   "source": []
  },
  {
   "cell_type": "code",
   "execution_count": null,
   "id": "defc8fa0",
   "metadata": {},
   "outputs": [],
   "source": []
  },
  {
   "cell_type": "code",
   "execution_count": null,
   "id": "1746facb",
   "metadata": {},
   "outputs": [],
   "source": []
  },
  {
   "cell_type": "code",
   "execution_count": null,
   "id": "e5a76afb",
   "metadata": {},
   "outputs": [],
   "source": []
  },
  {
   "cell_type": "code",
   "execution_count": null,
   "id": "ed796829",
   "metadata": {},
   "outputs": [],
   "source": []
  },
  {
   "cell_type": "code",
   "execution_count": null,
   "id": "480ff3cf",
   "metadata": {},
   "outputs": [],
   "source": []
  },
  {
   "cell_type": "code",
   "execution_count": null,
   "id": "6756ccf3",
   "metadata": {},
   "outputs": [],
   "source": []
  },
  {
   "cell_type": "code",
   "execution_count": null,
   "id": "6f6bc172",
   "metadata": {},
   "outputs": [],
   "source": []
  },
  {
   "cell_type": "code",
   "execution_count": null,
   "id": "75e9620d",
   "metadata": {},
   "outputs": [],
   "source": []
  },
  {
   "cell_type": "code",
   "execution_count": null,
   "id": "3278dce8",
   "metadata": {},
   "outputs": [],
   "source": []
  },
  {
   "cell_type": "code",
   "execution_count": null,
   "id": "333a7ee4",
   "metadata": {},
   "outputs": [],
   "source": []
  },
  {
   "cell_type": "code",
   "execution_count": null,
   "id": "d5a3767e",
   "metadata": {},
   "outputs": [],
   "source": []
  },
  {
   "cell_type": "code",
   "execution_count": null,
   "id": "d95af341",
   "metadata": {},
   "outputs": [],
   "source": []
  },
  {
   "cell_type": "code",
   "execution_count": null,
   "id": "3172290d",
   "metadata": {},
   "outputs": [],
   "source": []
  },
  {
   "cell_type": "code",
   "execution_count": null,
   "id": "f76f303b",
   "metadata": {},
   "outputs": [],
   "source": []
  },
  {
   "cell_type": "code",
   "execution_count": null,
   "id": "d46e930d",
   "metadata": {},
   "outputs": [],
   "source": []
  },
  {
   "cell_type": "code",
   "execution_count": null,
   "id": "51ef1292",
   "metadata": {},
   "outputs": [],
   "source": []
  },
  {
   "cell_type": "code",
   "execution_count": null,
   "id": "14d369c5",
   "metadata": {},
   "outputs": [],
   "source": []
  },
  {
   "cell_type": "code",
   "execution_count": null,
   "id": "f0813635",
   "metadata": {},
   "outputs": [],
   "source": []
  },
  {
   "cell_type": "code",
   "execution_count": null,
   "id": "4c595bed",
   "metadata": {},
   "outputs": [],
   "source": []
  },
  {
   "cell_type": "code",
   "execution_count": null,
   "id": "8cc8942f",
   "metadata": {},
   "outputs": [],
   "source": []
  },
  {
   "cell_type": "code",
   "execution_count": null,
   "id": "99e9870f",
   "metadata": {},
   "outputs": [],
   "source": []
  },
  {
   "cell_type": "code",
   "execution_count": null,
   "id": "a604ef9c",
   "metadata": {},
   "outputs": [],
   "source": []
  },
  {
   "cell_type": "code",
   "execution_count": null,
   "id": "2957a4da",
   "metadata": {},
   "outputs": [],
   "source": []
  },
  {
   "cell_type": "code",
   "execution_count": null,
   "id": "7f73f648",
   "metadata": {},
   "outputs": [],
   "source": []
  },
  {
   "cell_type": "code",
   "execution_count": null,
   "id": "d7ccb1c2",
   "metadata": {},
   "outputs": [],
   "source": []
  },
  {
   "cell_type": "code",
   "execution_count": null,
   "id": "b5d28f44",
   "metadata": {},
   "outputs": [],
   "source": []
  },
  {
   "cell_type": "code",
   "execution_count": null,
   "id": "4863fe24",
   "metadata": {},
   "outputs": [],
   "source": []
  },
  {
   "cell_type": "code",
   "execution_count": null,
   "id": "891a0998",
   "metadata": {},
   "outputs": [],
   "source": []
  },
  {
   "cell_type": "code",
   "execution_count": null,
   "id": "45239dab",
   "metadata": {},
   "outputs": [],
   "source": []
  },
  {
   "cell_type": "code",
   "execution_count": null,
   "id": "1395096d",
   "metadata": {},
   "outputs": [],
   "source": []
  },
  {
   "cell_type": "code",
   "execution_count": null,
   "id": "ab4898f1",
   "metadata": {},
   "outputs": [],
   "source": []
  },
  {
   "cell_type": "code",
   "execution_count": null,
   "id": "eca4c73f",
   "metadata": {},
   "outputs": [],
   "source": []
  },
  {
   "cell_type": "code",
   "execution_count": null,
   "id": "e890c7e2",
   "metadata": {},
   "outputs": [],
   "source": []
  },
  {
   "cell_type": "code",
   "execution_count": null,
   "id": "b100a766",
   "metadata": {},
   "outputs": [],
   "source": []
  },
  {
   "cell_type": "code",
   "execution_count": null,
   "id": "b0b5a77b",
   "metadata": {},
   "outputs": [],
   "source": []
  },
  {
   "cell_type": "code",
   "execution_count": null,
   "id": "9c40cf29",
   "metadata": {},
   "outputs": [],
   "source": []
  },
  {
   "cell_type": "code",
   "execution_count": null,
   "id": "bdfba5c7",
   "metadata": {},
   "outputs": [],
   "source": []
  },
  {
   "cell_type": "code",
   "execution_count": null,
   "id": "3c207db3",
   "metadata": {},
   "outputs": [],
   "source": []
  },
  {
   "cell_type": "code",
   "execution_count": null,
   "id": "135916b0",
   "metadata": {},
   "outputs": [],
   "source": []
  },
  {
   "cell_type": "code",
   "execution_count": null,
   "id": "996f1ad1",
   "metadata": {},
   "outputs": [],
   "source": []
  },
  {
   "cell_type": "code",
   "execution_count": null,
   "id": "5f8757bb",
   "metadata": {},
   "outputs": [],
   "source": []
  },
  {
   "cell_type": "code",
   "execution_count": null,
   "id": "482b99ce",
   "metadata": {},
   "outputs": [],
   "source": []
  }
 ],
 "metadata": {
  "kernelspec": {
   "display_name": "Python 3 (ipykernel)",
   "language": "python",
   "name": "python3"
  },
  "language_info": {
   "codemirror_mode": {
    "name": "ipython",
    "version": 3
   },
   "file_extension": ".py",
   "mimetype": "text/x-python",
   "name": "python",
   "nbconvert_exporter": "python",
   "pygments_lexer": "ipython3",
   "version": "3.8.12"
  },
  "toc": {
   "base_numbering": 1,
   "nav_menu": {
    "height": "203px",
    "width": "248px"
   },
   "number_sections": false,
   "sideBar": true,
   "skip_h1_title": false,
   "title_cell": "Table of Contents",
   "title_sidebar": "Contents",
   "toc_cell": false,
   "toc_position": {},
   "toc_section_display": true,
   "toc_window_display": false
  },
  "varInspector": {
   "cols": {
    "lenName": 16,
    "lenType": 16,
    "lenVar": 40
   },
   "kernels_config": {
    "python": {
     "delete_cmd_postfix": "",
     "delete_cmd_prefix": "del ",
     "library": "var_list.py",
     "varRefreshCmd": "print(var_dic_list())"
    },
    "r": {
     "delete_cmd_postfix": ") ",
     "delete_cmd_prefix": "rm(",
     "library": "var_list.r",
     "varRefreshCmd": "cat(var_dic_list()) "
    }
   },
   "types_to_exclude": [
    "module",
    "function",
    "builtin_function_or_method",
    "instance",
    "_Feature"
   ],
   "window_display": false
  }
 },
 "nbformat": 4,
 "nbformat_minor": 5
}
