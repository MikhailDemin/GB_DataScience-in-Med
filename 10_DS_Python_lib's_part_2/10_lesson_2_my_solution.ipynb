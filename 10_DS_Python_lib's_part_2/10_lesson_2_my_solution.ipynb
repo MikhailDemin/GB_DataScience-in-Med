{
 "cells": [
  {
   "cell_type": "markdown",
   "id": "3edb7c7b",
   "metadata": {},
   "source": [
    "# Урок 2. Анализ данных и проверка статистических гипотез."
   ]
  },
  {
   "cell_type": "markdown",
   "id": "eb137092",
   "metadata": {},
   "source": [
    "## Домашнее задание"
   ]
  },
  {
   "cell_type": "markdown",
   "id": "ca1feabf",
   "metadata": {},
   "source": [
    "### 1. В чём различие между зависимыми и независимыми выборками?"
   ]
  },
  {
   "cell_type": "markdown",
   "id": "7c4c91d5",
   "metadata": {},
   "source": [
    "__Зависимые aka Связные выборки:__<br>\n",
    "1. Имеют зависимость: одному объекту из множества А соответствует один и только один объект из множества В и наоборот (болты-гайки, мужья-жены, больные-здоровые, и т. д.).\n",
    "2. Объем выборки всегда одинаков\n",
    "3. Изменение объектов затрагивает связанные объекты.\n",
    "\n",
    "__Независимые:__<br>\n",
    "1. Объекты не зависят друг от друга.\n",
    "2. Объем выборки может различаться у разных групп объектов.\n",
    "3. Изменение объектов НЕ затрагивает другие объекты."
   ]
  },
  {
   "cell_type": "markdown",
   "id": "9c290f30",
   "metadata": {},
   "source": [
    "### 2. Когда применяются параметрические статистические критерии, а когда — их непараметрические аналоги?"
   ]
  },
  {
   "cell_type": "markdown",
   "id": "2ec16f99",
   "metadata": {},
   "source": [
    "В зависимости от исследуемых данных: если известно распределение (чаще всего нормальное) - применяются параметричекие критерии, если распределение неизвестно - непараметрические критерии. Например Хи-квадрат Пирсона оперирует частотами наблюдаемых параметров, что не требует применения закона распределения."
   ]
  },
  {
   "cell_type": "markdown",
   "id": "7b3a1e9e",
   "metadata": {},
   "source": [
    "__Комментарии преподавателя:__<br>\n",
    "Юлия Пономарёва・Преподаватель<br>\n",
    "Добрый вечер!\n",
    "\n",
    "1. Здесь всё верно, очень хорошо расписано и есть примеры.\n",
    "2. И здесь тоже всё отлично. Здорово, что описали особенности критериев, привели их примеры и написали про основные отличия между критериями."
   ]
  }
 ],
 "metadata": {
  "kernelspec": {
   "display_name": "Python 3 (ipykernel)",
   "language": "python",
   "name": "python3"
  },
  "language_info": {
   "codemirror_mode": {
    "name": "ipython",
    "version": 3
   },
   "file_extension": ".py",
   "mimetype": "text/x-python",
   "name": "python",
   "nbconvert_exporter": "python",
   "pygments_lexer": "ipython3",
   "version": "3.8.12"
  },
  "varInspector": {
   "cols": {
    "lenName": 16,
    "lenType": 16,
    "lenVar": 40
   },
   "kernels_config": {
    "python": {
     "delete_cmd_postfix": "",
     "delete_cmd_prefix": "del ",
     "library": "var_list.py",
     "varRefreshCmd": "print(var_dic_list())"
    },
    "r": {
     "delete_cmd_postfix": ") ",
     "delete_cmd_prefix": "rm(",
     "library": "var_list.r",
     "varRefreshCmd": "cat(var_dic_list()) "
    }
   },
   "types_to_exclude": [
    "module",
    "function",
    "builtin_function_or_method",
    "instance",
    "_Feature"
   ],
   "window_display": false
  }
 },
 "nbformat": 4,
 "nbformat_minor": 5
}
