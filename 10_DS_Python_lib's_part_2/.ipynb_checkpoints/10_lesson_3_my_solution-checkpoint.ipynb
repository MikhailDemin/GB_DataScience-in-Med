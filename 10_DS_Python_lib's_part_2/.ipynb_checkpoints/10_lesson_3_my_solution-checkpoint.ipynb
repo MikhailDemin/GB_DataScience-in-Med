{
 "cells": [
  {
   "cell_type": "markdown",
   "id": "3edb7c7b",
   "metadata": {},
   "source": [
    "# Урок 3. Построение модели классификации."
   ]
  },
  {
   "cell_type": "markdown",
   "id": "eb137092",
   "metadata": {},
   "source": [
    "## Домашнее задание"
   ]
  },
  {
   "cell_type": "markdown",
   "id": "ca1feabf",
   "metadata": {},
   "source": [
    "### 1. Для чего и в каких случаях полезны различные варианты усреднения для метрик качества классификации: micro, macro, weighted?"
   ]
  },
  {
   "cell_type": "markdown",
   "id": "7c4c91d5",
   "metadata": {},
   "source": [
    "Усреднение метрик качества необходимо при количестве классов более 2, так как многие метрики классификации определены для двоичной классификации в двух классах.<br>\n",
    "```Scikit-learn``` предоставляет несколько методов усреднения, три из которых:\n",
    " - макро (macro) — вычислит метрику для каждого класса независимо, затем возьмет среднее\n",
    " - микро (micro) — будет агрегировать вклады всех классов для вычисления средней метрики (лучший выбор при дисбалансе классов) \n",
    " - взвешенный (weighted) — вычисление метрик для каждого класса и получение взвешенного среднего по числу выборок на каждый класс"
   ]
  },
  {
   "cell_type": "markdown",
   "id": "9c290f30",
   "metadata": {},
   "source": [
    "### 2. В чём разница между моделями xgboost, lightgbm и catboost или какие их основные особенности?"
   ]
  },
  {
   "cell_type": "markdown",
   "id": "2ec16f99",
   "metadata": {},
   "source": [
    "1. __XGBoost__ реализация почти классического алгоритма градиентного бустинга в виде отдельной библиотеки:\n",
    " - для управления моделью используется три коэффициента:<br>\n",
    "   а. $\\lambda$ - регуляризация<br>\n",
    "   b. $\\gamma$ - минимальный прирост, чтобы не убирать разделение<br>\n",
    "   c. $\\eta$ - learning rate (скорость обучения)<br>\n",
    " - на каждой итерации оценивается __Похожесть ($Similarity$)__ полученных предсказаний и __Прирост ($Gain$)__\n",
    " - __Похожесть ($Similarity$)__ является основой для построения модели\n",
    " - с помощью $Gain \\pm \\gamma$ принимается решение о дальнейшем ветвлении дерева\n",
    "\n",
    "\n",
    "2. __LightGBM__ для ускорения своей работы использует принципы:\n",
    " - Gradient-based One-Side Sampling (GOSS) - добавляет в выборку данные с наибольшей ошибкой, либо относящиеся к выбросам (ускорение по строкам)\n",
    " - Exclusive Feature Bundling (EFB) - объединение свойств на основе их значений (ускорение по признакам).\n",
    " Основное отличие от других алгоритмов в том что, LightGBM растит дерево предсказаний по листу в котором наибольшая ошибка.\n",
    "\n",
    "\n",
    "3. __CatBoost:__\n",
    " - использует симметричные деревья для ускорения построения модели\n",
    " - лучше других моделей обрабатывает категориальные признаки\n",
    " - борется с переобучением, для этого:<br>\n",
    "   а. использует высокий уровень рандома (перемешивание выборки и высокий рандом в начале построения дерева)<br>\n",
    "   b. обучает несколько моделей за итерацию и высчитывает отклонение по моделям, объекты которых не участвовали в обучении"
   ]
  },
  {
   "cell_type": "markdown",
   "id": "276872d5",
   "metadata": {},
   "source": [
    "__Комментарии преподавателя:__<br>\n",
    "Юлия Пономарёва・Преподаватель<br>\n",
    "Добрый день!\n",
    "\n",
    "1. Всё верно написали\n",
    "2. Очень хорошо и подробно расписали особенности каждой модели"
   ]
  },
  {
   "cell_type": "code",
   "execution_count": 1,
   "id": "7327139f",
   "metadata": {
    "scrolled": true
   },
   "outputs": [
    {
     "data": {
      "text/plain": [
       "staticmethod"
      ]
     },
     "execution_count": 1,
     "metadata": {},
     "output_type": "execute_result"
    }
   ],
   "source": [
    "staticmethod"
   ]
  }
 ],
 "metadata": {
  "kernelspec": {
   "display_name": "Python 3 (ipykernel)",
   "language": "python",
   "name": "python3"
  },
  "language_info": {
   "codemirror_mode": {
    "name": "ipython",
    "version": 3
   },
   "file_extension": ".py",
   "mimetype": "text/x-python",
   "name": "python",
   "nbconvert_exporter": "python",
   "pygments_lexer": "ipython3",
   "version": "3.8.12"
  },
  "toc": {
   "base_numbering": 1,
   "nav_menu": {},
   "number_sections": false,
   "sideBar": true,
   "skip_h1_title": false,
   "title_cell": "Table of Contents",
   "title_sidebar": "Contents",
   "toc_cell": false,
   "toc_position": {},
   "toc_section_display": true,
   "toc_window_display": false
  },
  "varInspector": {
   "cols": {
    "lenName": 16,
    "lenType": 16,
    "lenVar": 40
   },
   "kernels_config": {
    "python": {
     "delete_cmd_postfix": "",
     "delete_cmd_prefix": "del ",
     "library": "var_list.py",
     "varRefreshCmd": "print(var_dic_list())"
    },
    "r": {
     "delete_cmd_postfix": ") ",
     "delete_cmd_prefix": "rm(",
     "library": "var_list.r",
     "varRefreshCmd": "cat(var_dic_list()) "
    }
   },
   "types_to_exclude": [
    "module",
    "function",
    "builtin_function_or_method",
    "instance",
    "_Feature"
   ],
   "window_display": false
  }
 },
 "nbformat": 4,
 "nbformat_minor": 5
}
