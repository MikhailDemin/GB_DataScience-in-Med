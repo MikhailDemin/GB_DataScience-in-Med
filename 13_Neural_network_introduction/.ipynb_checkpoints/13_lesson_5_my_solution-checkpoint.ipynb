{
 "cells": [
  {
   "cell_type": "markdown",
   "metadata": {},
   "source": [
    "# Урок 5. Рекуррентные нейронные сети\n",
    "# Домашнее задание"
   ]
  },
  {
   "cell_type": "code",
   "execution_count": 212,
   "metadata": {},
   "outputs": [],
   "source": [
    "# importing the tensorflow package\n",
    "import tensorflow as tf"
   ]
  },
  {
   "cell_type": "code",
   "execution_count": 213,
   "metadata": {},
   "outputs": [
    {
     "data": {
      "text/plain": [
       "True"
      ]
     },
     "execution_count": 213,
     "metadata": {},
     "output_type": "execute_result"
    }
   ],
   "source": [
    "tf.test.is_built_with_cuda()"
   ]
  },
  {
   "cell_type": "code",
   "execution_count": 214,
   "metadata": {},
   "outputs": [
    {
     "data": {
      "text/plain": [
       "[PhysicalDevice(name='/physical_device:GPU:0', device_type='GPU')]"
      ]
     },
     "execution_count": 214,
     "metadata": {},
     "output_type": "execute_result"
    }
   ],
   "source": [
    "tf.config.list_physical_devices('GPU')"
   ]
  },
  {
   "cell_type": "markdown",
   "metadata": {
    "id": "woGBZYFp9QcG"
   },
   "source": [
    "# Simple RNN (numpy)"
   ]
  },
  {
   "cell_type": "code",
   "execution_count": 215,
   "metadata": {
    "id": "1IeLm6hQ9x6v"
   },
   "outputs": [],
   "source": [
    "# в первую очередь подключим numpy и библиотеку copy, которая понадобится, чтобы сделать deepcopy ряда элементов\n",
    "import numpy as np\n",
    "np.random.seed(0)"
   ]
  },
  {
   "cell_type": "code",
   "execution_count": 216,
   "metadata": {
    "id": "UZtmaKOq8lCx"
   },
   "outputs": [],
   "source": [
    "# вычислим сигмоиду\n",
    "def sigmoid(x):\n",
    "    output = 1/(1+np.exp(-x))\n",
    "    return output\n",
    "\n",
    "# конвертируем значение функции сигмоиды в ее производную. \n",
    "def sigmoid_output_to_derivative(output):\n",
    "    return output*(1-output)"
   ]
  },
  {
   "cell_type": "code",
   "execution_count": 217,
   "metadata": {
    "id": "9vj58G8z95xM"
   },
   "outputs": [],
   "source": [
    "# генерация тренировочного датасета\n",
    "\n",
    "int2binary = {}\n",
    "binary_dim = 8\n",
    "\n",
    "largest_number = pow(2,binary_dim)\n",
    "binary = np.unpackbits(\n",
    "    np.array([list(range(largest_number))],dtype=np.uint8).T,axis=1)\n",
    "for i in range(largest_number):\n",
    "    int2binary[i] = binary[i]"
   ]
  },
  {
   "cell_type": "code",
   "execution_count": 218,
   "metadata": {
    "id": "IBHmBV8t-Bpt"
   },
   "outputs": [
    {
     "data": {
      "text/plain": [
       "{0: array([0, 0, 0, 0, 0, 0, 0, 0], dtype=uint8),\n",
       " 1: array([0, 0, 0, 0, 0, 0, 0, 1], dtype=uint8),\n",
       " 2: array([0, 0, 0, 0, 0, 0, 1, 0], dtype=uint8),\n",
       " 3: array([0, 0, 0, 0, 0, 0, 1, 1], dtype=uint8),\n",
       " 4: array([0, 0, 0, 0, 0, 1, 0, 0], dtype=uint8),\n",
       " 5: array([0, 0, 0, 0, 0, 1, 0, 1], dtype=uint8),\n",
       " 6: array([0, 0, 0, 0, 0, 1, 1, 0], dtype=uint8),\n",
       " 7: array([0, 0, 0, 0, 0, 1, 1, 1], dtype=uint8),\n",
       " 8: array([0, 0, 0, 0, 1, 0, 0, 0], dtype=uint8),\n",
       " 9: array([0, 0, 0, 0, 1, 0, 0, 1], dtype=uint8),\n",
       " 10: array([0, 0, 0, 0, 1, 0, 1, 0], dtype=uint8),\n",
       " 11: array([0, 0, 0, 0, 1, 0, 1, 1], dtype=uint8),\n",
       " 12: array([0, 0, 0, 0, 1, 1, 0, 0], dtype=uint8),\n",
       " 13: array([0, 0, 0, 0, 1, 1, 0, 1], dtype=uint8),\n",
       " 14: array([0, 0, 0, 0, 1, 1, 1, 0], dtype=uint8),\n",
       " 15: array([0, 0, 0, 0, 1, 1, 1, 1], dtype=uint8),\n",
       " 16: array([0, 0, 0, 1, 0, 0, 0, 0], dtype=uint8),\n",
       " 17: array([0, 0, 0, 1, 0, 0, 0, 1], dtype=uint8),\n",
       " 18: array([0, 0, 0, 1, 0, 0, 1, 0], dtype=uint8),\n",
       " 19: array([0, 0, 0, 1, 0, 0, 1, 1], dtype=uint8),\n",
       " 20: array([0, 0, 0, 1, 0, 1, 0, 0], dtype=uint8),\n",
       " 21: array([0, 0, 0, 1, 0, 1, 0, 1], dtype=uint8),\n",
       " 22: array([0, 0, 0, 1, 0, 1, 1, 0], dtype=uint8),\n",
       " 23: array([0, 0, 0, 1, 0, 1, 1, 1], dtype=uint8),\n",
       " 24: array([0, 0, 0, 1, 1, 0, 0, 0], dtype=uint8),\n",
       " 25: array([0, 0, 0, 1, 1, 0, 0, 1], dtype=uint8),\n",
       " 26: array([0, 0, 0, 1, 1, 0, 1, 0], dtype=uint8),\n",
       " 27: array([0, 0, 0, 1, 1, 0, 1, 1], dtype=uint8),\n",
       " 28: array([0, 0, 0, 1, 1, 1, 0, 0], dtype=uint8),\n",
       " 29: array([0, 0, 0, 1, 1, 1, 0, 1], dtype=uint8),\n",
       " 30: array([0, 0, 0, 1, 1, 1, 1, 0], dtype=uint8),\n",
       " 31: array([0, 0, 0, 1, 1, 1, 1, 1], dtype=uint8),\n",
       " 32: array([0, 0, 1, 0, 0, 0, 0, 0], dtype=uint8),\n",
       " 33: array([0, 0, 1, 0, 0, 0, 0, 1], dtype=uint8),\n",
       " 34: array([0, 0, 1, 0, 0, 0, 1, 0], dtype=uint8),\n",
       " 35: array([0, 0, 1, 0, 0, 0, 1, 1], dtype=uint8),\n",
       " 36: array([0, 0, 1, 0, 0, 1, 0, 0], dtype=uint8),\n",
       " 37: array([0, 0, 1, 0, 0, 1, 0, 1], dtype=uint8),\n",
       " 38: array([0, 0, 1, 0, 0, 1, 1, 0], dtype=uint8),\n",
       " 39: array([0, 0, 1, 0, 0, 1, 1, 1], dtype=uint8),\n",
       " 40: array([0, 0, 1, 0, 1, 0, 0, 0], dtype=uint8),\n",
       " 41: array([0, 0, 1, 0, 1, 0, 0, 1], dtype=uint8),\n",
       " 42: array([0, 0, 1, 0, 1, 0, 1, 0], dtype=uint8),\n",
       " 43: array([0, 0, 1, 0, 1, 0, 1, 1], dtype=uint8),\n",
       " 44: array([0, 0, 1, 0, 1, 1, 0, 0], dtype=uint8),\n",
       " 45: array([0, 0, 1, 0, 1, 1, 0, 1], dtype=uint8),\n",
       " 46: array([0, 0, 1, 0, 1, 1, 1, 0], dtype=uint8),\n",
       " 47: array([0, 0, 1, 0, 1, 1, 1, 1], dtype=uint8),\n",
       " 48: array([0, 0, 1, 1, 0, 0, 0, 0], dtype=uint8),\n",
       " 49: array([0, 0, 1, 1, 0, 0, 0, 1], dtype=uint8),\n",
       " 50: array([0, 0, 1, 1, 0, 0, 1, 0], dtype=uint8),\n",
       " 51: array([0, 0, 1, 1, 0, 0, 1, 1], dtype=uint8),\n",
       " 52: array([0, 0, 1, 1, 0, 1, 0, 0], dtype=uint8),\n",
       " 53: array([0, 0, 1, 1, 0, 1, 0, 1], dtype=uint8),\n",
       " 54: array([0, 0, 1, 1, 0, 1, 1, 0], dtype=uint8),\n",
       " 55: array([0, 0, 1, 1, 0, 1, 1, 1], dtype=uint8),\n",
       " 56: array([0, 0, 1, 1, 1, 0, 0, 0], dtype=uint8),\n",
       " 57: array([0, 0, 1, 1, 1, 0, 0, 1], dtype=uint8),\n",
       " 58: array([0, 0, 1, 1, 1, 0, 1, 0], dtype=uint8),\n",
       " 59: array([0, 0, 1, 1, 1, 0, 1, 1], dtype=uint8),\n",
       " 60: array([0, 0, 1, 1, 1, 1, 0, 0], dtype=uint8),\n",
       " 61: array([0, 0, 1, 1, 1, 1, 0, 1], dtype=uint8),\n",
       " 62: array([0, 0, 1, 1, 1, 1, 1, 0], dtype=uint8),\n",
       " 63: array([0, 0, 1, 1, 1, 1, 1, 1], dtype=uint8),\n",
       " 64: array([0, 1, 0, 0, 0, 0, 0, 0], dtype=uint8),\n",
       " 65: array([0, 1, 0, 0, 0, 0, 0, 1], dtype=uint8),\n",
       " 66: array([0, 1, 0, 0, 0, 0, 1, 0], dtype=uint8),\n",
       " 67: array([0, 1, 0, 0, 0, 0, 1, 1], dtype=uint8),\n",
       " 68: array([0, 1, 0, 0, 0, 1, 0, 0], dtype=uint8),\n",
       " 69: array([0, 1, 0, 0, 0, 1, 0, 1], dtype=uint8),\n",
       " 70: array([0, 1, 0, 0, 0, 1, 1, 0], dtype=uint8),\n",
       " 71: array([0, 1, 0, 0, 0, 1, 1, 1], dtype=uint8),\n",
       " 72: array([0, 1, 0, 0, 1, 0, 0, 0], dtype=uint8),\n",
       " 73: array([0, 1, 0, 0, 1, 0, 0, 1], dtype=uint8),\n",
       " 74: array([0, 1, 0, 0, 1, 0, 1, 0], dtype=uint8),\n",
       " 75: array([0, 1, 0, 0, 1, 0, 1, 1], dtype=uint8),\n",
       " 76: array([0, 1, 0, 0, 1, 1, 0, 0], dtype=uint8),\n",
       " 77: array([0, 1, 0, 0, 1, 1, 0, 1], dtype=uint8),\n",
       " 78: array([0, 1, 0, 0, 1, 1, 1, 0], dtype=uint8),\n",
       " 79: array([0, 1, 0, 0, 1, 1, 1, 1], dtype=uint8),\n",
       " 80: array([0, 1, 0, 1, 0, 0, 0, 0], dtype=uint8),\n",
       " 81: array([0, 1, 0, 1, 0, 0, 0, 1], dtype=uint8),\n",
       " 82: array([0, 1, 0, 1, 0, 0, 1, 0], dtype=uint8),\n",
       " 83: array([0, 1, 0, 1, 0, 0, 1, 1], dtype=uint8),\n",
       " 84: array([0, 1, 0, 1, 0, 1, 0, 0], dtype=uint8),\n",
       " 85: array([0, 1, 0, 1, 0, 1, 0, 1], dtype=uint8),\n",
       " 86: array([0, 1, 0, 1, 0, 1, 1, 0], dtype=uint8),\n",
       " 87: array([0, 1, 0, 1, 0, 1, 1, 1], dtype=uint8),\n",
       " 88: array([0, 1, 0, 1, 1, 0, 0, 0], dtype=uint8),\n",
       " 89: array([0, 1, 0, 1, 1, 0, 0, 1], dtype=uint8),\n",
       " 90: array([0, 1, 0, 1, 1, 0, 1, 0], dtype=uint8),\n",
       " 91: array([0, 1, 0, 1, 1, 0, 1, 1], dtype=uint8),\n",
       " 92: array([0, 1, 0, 1, 1, 1, 0, 0], dtype=uint8),\n",
       " 93: array([0, 1, 0, 1, 1, 1, 0, 1], dtype=uint8),\n",
       " 94: array([0, 1, 0, 1, 1, 1, 1, 0], dtype=uint8),\n",
       " 95: array([0, 1, 0, 1, 1, 1, 1, 1], dtype=uint8),\n",
       " 96: array([0, 1, 1, 0, 0, 0, 0, 0], dtype=uint8),\n",
       " 97: array([0, 1, 1, 0, 0, 0, 0, 1], dtype=uint8),\n",
       " 98: array([0, 1, 1, 0, 0, 0, 1, 0], dtype=uint8),\n",
       " 99: array([0, 1, 1, 0, 0, 0, 1, 1], dtype=uint8),\n",
       " 100: array([0, 1, 1, 0, 0, 1, 0, 0], dtype=uint8),\n",
       " 101: array([0, 1, 1, 0, 0, 1, 0, 1], dtype=uint8),\n",
       " 102: array([0, 1, 1, 0, 0, 1, 1, 0], dtype=uint8),\n",
       " 103: array([0, 1, 1, 0, 0, 1, 1, 1], dtype=uint8),\n",
       " 104: array([0, 1, 1, 0, 1, 0, 0, 0], dtype=uint8),\n",
       " 105: array([0, 1, 1, 0, 1, 0, 0, 1], dtype=uint8),\n",
       " 106: array([0, 1, 1, 0, 1, 0, 1, 0], dtype=uint8),\n",
       " 107: array([0, 1, 1, 0, 1, 0, 1, 1], dtype=uint8),\n",
       " 108: array([0, 1, 1, 0, 1, 1, 0, 0], dtype=uint8),\n",
       " 109: array([0, 1, 1, 0, 1, 1, 0, 1], dtype=uint8),\n",
       " 110: array([0, 1, 1, 0, 1, 1, 1, 0], dtype=uint8),\n",
       " 111: array([0, 1, 1, 0, 1, 1, 1, 1], dtype=uint8),\n",
       " 112: array([0, 1, 1, 1, 0, 0, 0, 0], dtype=uint8),\n",
       " 113: array([0, 1, 1, 1, 0, 0, 0, 1], dtype=uint8),\n",
       " 114: array([0, 1, 1, 1, 0, 0, 1, 0], dtype=uint8),\n",
       " 115: array([0, 1, 1, 1, 0, 0, 1, 1], dtype=uint8),\n",
       " 116: array([0, 1, 1, 1, 0, 1, 0, 0], dtype=uint8),\n",
       " 117: array([0, 1, 1, 1, 0, 1, 0, 1], dtype=uint8),\n",
       " 118: array([0, 1, 1, 1, 0, 1, 1, 0], dtype=uint8),\n",
       " 119: array([0, 1, 1, 1, 0, 1, 1, 1], dtype=uint8),\n",
       " 120: array([0, 1, 1, 1, 1, 0, 0, 0], dtype=uint8),\n",
       " 121: array([0, 1, 1, 1, 1, 0, 0, 1], dtype=uint8),\n",
       " 122: array([0, 1, 1, 1, 1, 0, 1, 0], dtype=uint8),\n",
       " 123: array([0, 1, 1, 1, 1, 0, 1, 1], dtype=uint8),\n",
       " 124: array([0, 1, 1, 1, 1, 1, 0, 0], dtype=uint8),\n",
       " 125: array([0, 1, 1, 1, 1, 1, 0, 1], dtype=uint8),\n",
       " 126: array([0, 1, 1, 1, 1, 1, 1, 0], dtype=uint8),\n",
       " 127: array([0, 1, 1, 1, 1, 1, 1, 1], dtype=uint8),\n",
       " 128: array([1, 0, 0, 0, 0, 0, 0, 0], dtype=uint8),\n",
       " 129: array([1, 0, 0, 0, 0, 0, 0, 1], dtype=uint8),\n",
       " 130: array([1, 0, 0, 0, 0, 0, 1, 0], dtype=uint8),\n",
       " 131: array([1, 0, 0, 0, 0, 0, 1, 1], dtype=uint8),\n",
       " 132: array([1, 0, 0, 0, 0, 1, 0, 0], dtype=uint8),\n",
       " 133: array([1, 0, 0, 0, 0, 1, 0, 1], dtype=uint8),\n",
       " 134: array([1, 0, 0, 0, 0, 1, 1, 0], dtype=uint8),\n",
       " 135: array([1, 0, 0, 0, 0, 1, 1, 1], dtype=uint8),\n",
       " 136: array([1, 0, 0, 0, 1, 0, 0, 0], dtype=uint8),\n",
       " 137: array([1, 0, 0, 0, 1, 0, 0, 1], dtype=uint8),\n",
       " 138: array([1, 0, 0, 0, 1, 0, 1, 0], dtype=uint8),\n",
       " 139: array([1, 0, 0, 0, 1, 0, 1, 1], dtype=uint8),\n",
       " 140: array([1, 0, 0, 0, 1, 1, 0, 0], dtype=uint8),\n",
       " 141: array([1, 0, 0, 0, 1, 1, 0, 1], dtype=uint8),\n",
       " 142: array([1, 0, 0, 0, 1, 1, 1, 0], dtype=uint8),\n",
       " 143: array([1, 0, 0, 0, 1, 1, 1, 1], dtype=uint8),\n",
       " 144: array([1, 0, 0, 1, 0, 0, 0, 0], dtype=uint8),\n",
       " 145: array([1, 0, 0, 1, 0, 0, 0, 1], dtype=uint8),\n",
       " 146: array([1, 0, 0, 1, 0, 0, 1, 0], dtype=uint8),\n",
       " 147: array([1, 0, 0, 1, 0, 0, 1, 1], dtype=uint8),\n",
       " 148: array([1, 0, 0, 1, 0, 1, 0, 0], dtype=uint8),\n",
       " 149: array([1, 0, 0, 1, 0, 1, 0, 1], dtype=uint8),\n",
       " 150: array([1, 0, 0, 1, 0, 1, 1, 0], dtype=uint8),\n",
       " 151: array([1, 0, 0, 1, 0, 1, 1, 1], dtype=uint8),\n",
       " 152: array([1, 0, 0, 1, 1, 0, 0, 0], dtype=uint8),\n",
       " 153: array([1, 0, 0, 1, 1, 0, 0, 1], dtype=uint8),\n",
       " 154: array([1, 0, 0, 1, 1, 0, 1, 0], dtype=uint8),\n",
       " 155: array([1, 0, 0, 1, 1, 0, 1, 1], dtype=uint8),\n",
       " 156: array([1, 0, 0, 1, 1, 1, 0, 0], dtype=uint8),\n",
       " 157: array([1, 0, 0, 1, 1, 1, 0, 1], dtype=uint8),\n",
       " 158: array([1, 0, 0, 1, 1, 1, 1, 0], dtype=uint8),\n",
       " 159: array([1, 0, 0, 1, 1, 1, 1, 1], dtype=uint8),\n",
       " 160: array([1, 0, 1, 0, 0, 0, 0, 0], dtype=uint8),\n",
       " 161: array([1, 0, 1, 0, 0, 0, 0, 1], dtype=uint8),\n",
       " 162: array([1, 0, 1, 0, 0, 0, 1, 0], dtype=uint8),\n",
       " 163: array([1, 0, 1, 0, 0, 0, 1, 1], dtype=uint8),\n",
       " 164: array([1, 0, 1, 0, 0, 1, 0, 0], dtype=uint8),\n",
       " 165: array([1, 0, 1, 0, 0, 1, 0, 1], dtype=uint8),\n",
       " 166: array([1, 0, 1, 0, 0, 1, 1, 0], dtype=uint8),\n",
       " 167: array([1, 0, 1, 0, 0, 1, 1, 1], dtype=uint8),\n",
       " 168: array([1, 0, 1, 0, 1, 0, 0, 0], dtype=uint8),\n",
       " 169: array([1, 0, 1, 0, 1, 0, 0, 1], dtype=uint8),\n",
       " 170: array([1, 0, 1, 0, 1, 0, 1, 0], dtype=uint8),\n",
       " 171: array([1, 0, 1, 0, 1, 0, 1, 1], dtype=uint8),\n",
       " 172: array([1, 0, 1, 0, 1, 1, 0, 0], dtype=uint8),\n",
       " 173: array([1, 0, 1, 0, 1, 1, 0, 1], dtype=uint8),\n",
       " 174: array([1, 0, 1, 0, 1, 1, 1, 0], dtype=uint8),\n",
       " 175: array([1, 0, 1, 0, 1, 1, 1, 1], dtype=uint8),\n",
       " 176: array([1, 0, 1, 1, 0, 0, 0, 0], dtype=uint8),\n",
       " 177: array([1, 0, 1, 1, 0, 0, 0, 1], dtype=uint8),\n",
       " 178: array([1, 0, 1, 1, 0, 0, 1, 0], dtype=uint8),\n",
       " 179: array([1, 0, 1, 1, 0, 0, 1, 1], dtype=uint8),\n",
       " 180: array([1, 0, 1, 1, 0, 1, 0, 0], dtype=uint8),\n",
       " 181: array([1, 0, 1, 1, 0, 1, 0, 1], dtype=uint8),\n",
       " 182: array([1, 0, 1, 1, 0, 1, 1, 0], dtype=uint8),\n",
       " 183: array([1, 0, 1, 1, 0, 1, 1, 1], dtype=uint8),\n",
       " 184: array([1, 0, 1, 1, 1, 0, 0, 0], dtype=uint8),\n",
       " 185: array([1, 0, 1, 1, 1, 0, 0, 1], dtype=uint8),\n",
       " 186: array([1, 0, 1, 1, 1, 0, 1, 0], dtype=uint8),\n",
       " 187: array([1, 0, 1, 1, 1, 0, 1, 1], dtype=uint8),\n",
       " 188: array([1, 0, 1, 1, 1, 1, 0, 0], dtype=uint8),\n",
       " 189: array([1, 0, 1, 1, 1, 1, 0, 1], dtype=uint8),\n",
       " 190: array([1, 0, 1, 1, 1, 1, 1, 0], dtype=uint8),\n",
       " 191: array([1, 0, 1, 1, 1, 1, 1, 1], dtype=uint8),\n",
       " 192: array([1, 1, 0, 0, 0, 0, 0, 0], dtype=uint8),\n",
       " 193: array([1, 1, 0, 0, 0, 0, 0, 1], dtype=uint8),\n",
       " 194: array([1, 1, 0, 0, 0, 0, 1, 0], dtype=uint8),\n",
       " 195: array([1, 1, 0, 0, 0, 0, 1, 1], dtype=uint8),\n",
       " 196: array([1, 1, 0, 0, 0, 1, 0, 0], dtype=uint8),\n",
       " 197: array([1, 1, 0, 0, 0, 1, 0, 1], dtype=uint8),\n",
       " 198: array([1, 1, 0, 0, 0, 1, 1, 0], dtype=uint8),\n",
       " 199: array([1, 1, 0, 0, 0, 1, 1, 1], dtype=uint8),\n",
       " 200: array([1, 1, 0, 0, 1, 0, 0, 0], dtype=uint8),\n",
       " 201: array([1, 1, 0, 0, 1, 0, 0, 1], dtype=uint8),\n",
       " 202: array([1, 1, 0, 0, 1, 0, 1, 0], dtype=uint8),\n",
       " 203: array([1, 1, 0, 0, 1, 0, 1, 1], dtype=uint8),\n",
       " 204: array([1, 1, 0, 0, 1, 1, 0, 0], dtype=uint8),\n",
       " 205: array([1, 1, 0, 0, 1, 1, 0, 1], dtype=uint8),\n",
       " 206: array([1, 1, 0, 0, 1, 1, 1, 0], dtype=uint8),\n",
       " 207: array([1, 1, 0, 0, 1, 1, 1, 1], dtype=uint8),\n",
       " 208: array([1, 1, 0, 1, 0, 0, 0, 0], dtype=uint8),\n",
       " 209: array([1, 1, 0, 1, 0, 0, 0, 1], dtype=uint8),\n",
       " 210: array([1, 1, 0, 1, 0, 0, 1, 0], dtype=uint8),\n",
       " 211: array([1, 1, 0, 1, 0, 0, 1, 1], dtype=uint8),\n",
       " 212: array([1, 1, 0, 1, 0, 1, 0, 0], dtype=uint8),\n",
       " 213: array([1, 1, 0, 1, 0, 1, 0, 1], dtype=uint8),\n",
       " 214: array([1, 1, 0, 1, 0, 1, 1, 0], dtype=uint8),\n",
       " 215: array([1, 1, 0, 1, 0, 1, 1, 1], dtype=uint8),\n",
       " 216: array([1, 1, 0, 1, 1, 0, 0, 0], dtype=uint8),\n",
       " 217: array([1, 1, 0, 1, 1, 0, 0, 1], dtype=uint8),\n",
       " 218: array([1, 1, 0, 1, 1, 0, 1, 0], dtype=uint8),\n",
       " 219: array([1, 1, 0, 1, 1, 0, 1, 1], dtype=uint8),\n",
       " 220: array([1, 1, 0, 1, 1, 1, 0, 0], dtype=uint8),\n",
       " 221: array([1, 1, 0, 1, 1, 1, 0, 1], dtype=uint8),\n",
       " 222: array([1, 1, 0, 1, 1, 1, 1, 0], dtype=uint8),\n",
       " 223: array([1, 1, 0, 1, 1, 1, 1, 1], dtype=uint8),\n",
       " 224: array([1, 1, 1, 0, 0, 0, 0, 0], dtype=uint8),\n",
       " 225: array([1, 1, 1, 0, 0, 0, 0, 1], dtype=uint8),\n",
       " 226: array([1, 1, 1, 0, 0, 0, 1, 0], dtype=uint8),\n",
       " 227: array([1, 1, 1, 0, 0, 0, 1, 1], dtype=uint8),\n",
       " 228: array([1, 1, 1, 0, 0, 1, 0, 0], dtype=uint8),\n",
       " 229: array([1, 1, 1, 0, 0, 1, 0, 1], dtype=uint8),\n",
       " 230: array([1, 1, 1, 0, 0, 1, 1, 0], dtype=uint8),\n",
       " 231: array([1, 1, 1, 0, 0, 1, 1, 1], dtype=uint8),\n",
       " 232: array([1, 1, 1, 0, 1, 0, 0, 0], dtype=uint8),\n",
       " 233: array([1, 1, 1, 0, 1, 0, 0, 1], dtype=uint8),\n",
       " 234: array([1, 1, 1, 0, 1, 0, 1, 0], dtype=uint8),\n",
       " 235: array([1, 1, 1, 0, 1, 0, 1, 1], dtype=uint8),\n",
       " 236: array([1, 1, 1, 0, 1, 1, 0, 0], dtype=uint8),\n",
       " 237: array([1, 1, 1, 0, 1, 1, 0, 1], dtype=uint8),\n",
       " 238: array([1, 1, 1, 0, 1, 1, 1, 0], dtype=uint8),\n",
       " 239: array([1, 1, 1, 0, 1, 1, 1, 1], dtype=uint8),\n",
       " 240: array([1, 1, 1, 1, 0, 0, 0, 0], dtype=uint8),\n",
       " 241: array([1, 1, 1, 1, 0, 0, 0, 1], dtype=uint8),\n",
       " 242: array([1, 1, 1, 1, 0, 0, 1, 0], dtype=uint8),\n",
       " 243: array([1, 1, 1, 1, 0, 0, 1, 1], dtype=uint8),\n",
       " 244: array([1, 1, 1, 1, 0, 1, 0, 0], dtype=uint8),\n",
       " 245: array([1, 1, 1, 1, 0, 1, 0, 1], dtype=uint8),\n",
       " 246: array([1, 1, 1, 1, 0, 1, 1, 0], dtype=uint8),\n",
       " 247: array([1, 1, 1, 1, 0, 1, 1, 1], dtype=uint8),\n",
       " 248: array([1, 1, 1, 1, 1, 0, 0, 0], dtype=uint8),\n",
       " 249: array([1, 1, 1, 1, 1, 0, 0, 1], dtype=uint8),\n",
       " 250: array([1, 1, 1, 1, 1, 0, 1, 0], dtype=uint8),\n",
       " 251: array([1, 1, 1, 1, 1, 0, 1, 1], dtype=uint8),\n",
       " 252: array([1, 1, 1, 1, 1, 1, 0, 0], dtype=uint8),\n",
       " 253: array([1, 1, 1, 1, 1, 1, 0, 1], dtype=uint8),\n",
       " 254: array([1, 1, 1, 1, 1, 1, 1, 0], dtype=uint8),\n",
       " 255: array([1, 1, 1, 1, 1, 1, 1, 1], dtype=uint8)}"
      ]
     },
     "execution_count": 218,
     "metadata": {},
     "output_type": "execute_result"
    }
   ],
   "source": [
    "int2binary"
   ]
  },
  {
   "cell_type": "code",
   "execution_count": 219,
   "metadata": {
    "id": "9tgnwNHr-EKS"
   },
   "outputs": [],
   "source": [
    "# входные переменные\n",
    "alpha = 0.1\n",
    "input_dim = 2\n",
    "hidden_dim = 16\n",
    "output_dim = 1"
   ]
  },
  {
   "cell_type": "code",
   "execution_count": 221,
   "metadata": {
    "id": "sWBQy1Cw-gKH"
   },
   "outputs": [],
   "source": [
    "# инициализация весов нейронной сети\n",
    "synapse_0 = 2*np.random.random((input_dim,hidden_dim)) - 1\n",
    "synapse_1 = 2*np.random.random((hidden_dim,output_dim)) - 1\n",
    "synapse_h = 2*np.random.random((hidden_dim,hidden_dim)) - 1\n",
    "\n",
    "synapse_0_update = np.zeros_like(synapse_0)\n",
    "synapse_1_update = np.zeros_like(synapse_1)\n",
    "synapse_h_update = np.zeros_like(synapse_h)"
   ]
  },
  {
   "cell_type": "code",
   "execution_count": 222,
   "metadata": {
    "colab": {
     "base_uri": "https://localhost:8080/"
    },
    "id": "PL0Sv2wj_JSu",
    "outputId": "7174fa45-1ae5-4e28-abf4-ea29e625808c"
   },
   "outputs": [
    {
     "name": "stdout",
     "output_type": "stream",
     "text": [
      "Error:[4.05575799]\n",
      "Pred:[0 0 0 0 0 0 0 0]\n",
      "True:[1 0 1 1 0 1 0 0]\n",
      "106 + 74 = 0\n",
      "------------\n",
      "Error:[3.95984093]\n",
      "Pred:[1 1 0 1 1 1 0 0]\n",
      "True:[1 0 1 1 0 1 1 1]\n",
      "72 + 111 = 220\n",
      "------------\n",
      "Error:[3.83035052]\n",
      "Pred:[0 0 0 0 1 1 1 1]\n",
      "True:[0 0 1 0 1 0 1 0]\n",
      "3 + 39 = 15\n",
      "------------\n",
      "Error:[3.67901258]\n",
      "Pred:[1 1 0 1 0 0 1 0]\n",
      "True:[1 0 0 0 0 0 1 0]\n",
      "57 + 73 = 210\n",
      "------------\n",
      "Error:[2.48982914]\n",
      "Pred:[1 0 1 0 1 0 0 1]\n",
      "True:[1 0 1 0 1 0 0 1]\n",
      "65 + 104 = 169\n",
      "------------\n",
      "Error:[1.82459631]\n",
      "Pred:[1 1 1 0 1 0 1 1]\n",
      "True:[1 1 1 0 1 0 1 1]\n",
      "110 + 125 = 235\n",
      "------------\n",
      "Error:[0.78802117]\n",
      "Pred:[1 0 0 0 0 0 0 1]\n",
      "True:[1 0 0 0 0 0 0 1]\n",
      "104 + 25 = 129\n",
      "------------\n",
      "Error:[0.56644891]\n",
      "Pred:[0 1 0 1 1 0 1 1]\n",
      "True:[0 1 0 1 1 0 1 1]\n",
      "48 + 43 = 91\n",
      "------------\n",
      "Error:[0.33546596]\n",
      "Pred:[0 1 1 0 1 1 0 0]\n",
      "True:[0 1 1 0 1 1 0 0]\n",
      "97 + 11 = 108\n",
      "------------\n",
      "Error:[0.2955171]\n",
      "Pred:[0 0 1 0 0 1 1 1]\n",
      "True:[0 0 1 0 0 1 1 1]\n",
      "23 + 16 = 39\n",
      "------------\n"
     ]
    }
   ],
   "source": [
    "# тренировочная логика\n",
    "for j in range(10000):\n",
    "    # генерация простой проблемы сложения (a + b = c)\n",
    "    a_int = np.random.randint(largest_number/2) # int version\n",
    "    a = int2binary[a_int] # бинарное кодирование\n",
    "\n",
    "    b_int = np.random.randint(largest_number/2) # int version\n",
    "    b = int2binary[b_int] # бинарное кодирование\n",
    "\n",
    "    # правильный ответ\n",
    "    c_int = a_int + b_int\n",
    "    c = int2binary[c_int]\n",
    "\n",
    "    # место где мы располагаем результаты модели(бинарно закодированные)\n",
    "    d = np.zeros_like(c)\n",
    "\n",
    "    overallError = 0\n",
    "    \n",
    "    layer_2_deltas = list()\n",
    "    # здесь будет храниться внутреннее состояние\n",
    "    layer_1_values = list()\n",
    "    layer_1_values.append(np.zeros(hidden_dim))\n",
    "    \n",
    "    # движение вдоль позиций бинарной кодировки\n",
    "    for position in range(binary_dim):\n",
    "        \n",
    "        # генерация input и output\n",
    "        X = np.array([[a[binary_dim - position - 1], b[binary_dim - position - 1]]])\n",
    "        y = np.array([[c[binary_dim - position - 1]]]).T\n",
    "\n",
    "        # внутренний слой (input ~+ предыдущий внутренний)\n",
    "        layer_1 = sigmoid(np.dot(X, synapse_0) + np.dot(layer_1_values[-1], synapse_h))\n",
    "\n",
    "        # output layer (новое бинарное представление)\n",
    "        layer_2 = sigmoid(np.dot(layer_1, synapse_1))\n",
    "\n",
    "        # подсчет ошибки и дельты для вычисления градиентов\n",
    "        layer_2_error = y - layer_2\n",
    "        layer_2_deltas.append((layer_2_error)*sigmoid_output_to_derivative(layer_2))\n",
    "        overallError += np.abs(layer_2_error[0])\n",
    "    \n",
    "        # декодируем оценку чтобы мы могли ее вывести на экран\n",
    "        d[binary_dim - position - 1] = np.round(layer_2[0][0])\n",
    "        \n",
    "        # сохраняем внутренний слой, чтобы мы могли его использовать в след. timestep\n",
    "        layer_1_values.append(layer_1.copy())\n",
    "    \n",
    "    # выполним обратный градиентный спуск\n",
    "    future_layer_1_delta = np.zeros(hidden_dim)\n",
    "    for position in range(binary_dim):\n",
    "        X = np.array([[a[position], b[position]]])\n",
    "        layer_1 = layer_1_values[-position-1]\n",
    "        prev_layer_1 = layer_1_values[-position-2]\n",
    "        \n",
    "        # величина ошибки в output layer\n",
    "        layer_2_delta = layer_2_deltas[-position-1]\n",
    "        # величина ошибки в hidden layer\n",
    "        layer_1_delta = (future_layer_1_delta.dot(synapse_h.T) + layer_2_delta.dot(synapse_1.T)) * sigmoid_output_to_derivative(layer_1)\n",
    "\n",
    "        # обновление всех весов и пробуем заново\n",
    "        synapse_1_update += np.atleast_2d(layer_1).T.dot(layer_2_delta)\n",
    "        synapse_h_update += np.atleast_2d(prev_layer_1).T.dot(layer_1_delta)\n",
    "        synapse_0_update += X.T.dot(layer_1_delta)\n",
    "        \n",
    "        future_layer_1_delta = layer_1_delta\n",
    "    \n",
    "\n",
    "    synapse_0 += synapse_0_update * alpha\n",
    "    synapse_1 += synapse_1_update * alpha\n",
    "    synapse_h += synapse_h_update * alpha    \n",
    "\n",
    "    synapse_0_update *= 0\n",
    "    synapse_1_update *= 0\n",
    "    synapse_h_update *= 0\n",
    "    \n",
    "    # вывод на экран процесса обучения\n",
    "    if(j % 1000 == 0):\n",
    "        print(\"Error:\" + str(overallError))\n",
    "        print(\"Pred:\" + str(d))\n",
    "        print(\"True:\" + str(c))\n",
    "        out = 0\n",
    "        for index,x in enumerate(reversed(d)):\n",
    "            out += x*pow(2,index)\n",
    "        print(str(a_int) + \" + \" + str(b_int) + \" = \" + str(out))\n",
    "        print(\"------------\")\n"
   ]
  },
  {
   "cell_type": "markdown",
   "metadata": {},
   "source": [
    "### <span class=\"burk\">Задание 1.</span>\n",
    "**Попробуйте изменить параметры нейронной сети, работающей с датасетом ```imdb```, либо\n",
    "нейронной сети, работающей ```airline-passengers``` (она прилагается вместе с датасетом к\n",
    "уроку в виде отдельного скрипта) так, чтобы улучшить её точность. Приложите анализ.**"
   ]
  },
  {
   "cell_type": "markdown",
   "metadata": {
    "id": "xiq0R-hnCu7j"
   },
   "source": [
    "# IMDB reviews (keras)"
   ]
  },
  {
   "cell_type": "code",
   "execution_count": 223,
   "metadata": {
    "id": "ch2IbkRVCI8P"
   },
   "outputs": [],
   "source": [
    "from __future__ import print_function\n",
    "\n",
    "from tensorflow.keras.preprocessing import sequence\n",
    "from tensorflow.keras.models import Sequential\n",
    "from tensorflow.keras.layers import Dense, Embedding\n",
    "from tensorflow.keras.layers import LSTM\n",
    "from tensorflow.keras.datasets import imdb"
   ]
  },
  {
   "cell_type": "code",
   "execution_count": 224,
   "metadata": {
    "id": "2OjBlxbTC3Nx"
   },
   "outputs": [],
   "source": [
    "max_features = 20000\n",
    "\n",
    "# обрезание текстов после данного количества слов (среди top max_features наиболее используемые слова)\n",
    "maxlen = 80\n",
    "batch_size = 50 # увеличьте значение для ускорения обучения"
   ]
  },
  {
   "cell_type": "code",
   "execution_count": 225,
   "metadata": {
    "colab": {
     "base_uri": "https://localhost:8080/"
    },
    "id": "2qU_kiLbC2jK",
    "outputId": "0e06ad04-2342-4bf3-d483-3a8f7fd055f5"
   },
   "outputs": [
    {
     "name": "stdout",
     "output_type": "stream",
     "text": [
      "Загрузка данных...\n"
     ]
    }
   ],
   "source": [
    "print('Загрузка данных...')\n",
    "(x_train, y_train), (x_test, y_test) = imdb.load_data(num_words=max_features)"
   ]
  },
  {
   "cell_type": "code",
   "execution_count": 226,
   "metadata": {},
   "outputs": [
    {
     "data": {
      "text/plain": [
       "[1,\n",
       " 14,\n",
       " 22,\n",
       " 16,\n",
       " 43,\n",
       " 530,\n",
       " 973,\n",
       " 1622,\n",
       " 1385,\n",
       " 65,\n",
       " 458,\n",
       " 4468,\n",
       " 66,\n",
       " 3941,\n",
       " 4,\n",
       " 173,\n",
       " 36,\n",
       " 256,\n",
       " 5,\n",
       " 25,\n",
       " 100,\n",
       " 43,\n",
       " 838,\n",
       " 112,\n",
       " 50,\n",
       " 670,\n",
       " 2,\n",
       " 9,\n",
       " 35,\n",
       " 480,\n",
       " 284,\n",
       " 5,\n",
       " 150,\n",
       " 4,\n",
       " 172,\n",
       " 112,\n",
       " 167,\n",
       " 2,\n",
       " 336,\n",
       " 385,\n",
       " 39,\n",
       " 4,\n",
       " 172,\n",
       " 4536,\n",
       " 1111,\n",
       " 17,\n",
       " 546,\n",
       " 38,\n",
       " 13,\n",
       " 447,\n",
       " 4,\n",
       " 192,\n",
       " 50,\n",
       " 16,\n",
       " 6,\n",
       " 147,\n",
       " 2025,\n",
       " 19,\n",
       " 14,\n",
       " 22,\n",
       " 4,\n",
       " 1920,\n",
       " 4613,\n",
       " 469,\n",
       " 4,\n",
       " 22,\n",
       " 71,\n",
       " 87,\n",
       " 12,\n",
       " 16,\n",
       " 43,\n",
       " 530,\n",
       " 38,\n",
       " 76,\n",
       " 15,\n",
       " 13,\n",
       " 1247,\n",
       " 4,\n",
       " 22,\n",
       " 17,\n",
       " 515,\n",
       " 17,\n",
       " 12,\n",
       " 16,\n",
       " 626,\n",
       " 18,\n",
       " 19193,\n",
       " 5,\n",
       " 62,\n",
       " 386,\n",
       " 12,\n",
       " 8,\n",
       " 316,\n",
       " 8,\n",
       " 106,\n",
       " 5,\n",
       " 4,\n",
       " 2223,\n",
       " 5244,\n",
       " 16,\n",
       " 480,\n",
       " 66,\n",
       " 3785,\n",
       " 33,\n",
       " 4,\n",
       " 130,\n",
       " 12,\n",
       " 16,\n",
       " 38,\n",
       " 619,\n",
       " 5,\n",
       " 25,\n",
       " 124,\n",
       " 51,\n",
       " 36,\n",
       " 135,\n",
       " 48,\n",
       " 25,\n",
       " 1415,\n",
       " 33,\n",
       " 6,\n",
       " 22,\n",
       " 12,\n",
       " 215,\n",
       " 28,\n",
       " 77,\n",
       " 52,\n",
       " 5,\n",
       " 14,\n",
       " 407,\n",
       " 16,\n",
       " 82,\n",
       " 10311,\n",
       " 8,\n",
       " 4,\n",
       " 107,\n",
       " 117,\n",
       " 5952,\n",
       " 15,\n",
       " 256,\n",
       " 4,\n",
       " 2,\n",
       " 7,\n",
       " 3766,\n",
       " 5,\n",
       " 723,\n",
       " 36,\n",
       " 71,\n",
       " 43,\n",
       " 530,\n",
       " 476,\n",
       " 26,\n",
       " 400,\n",
       " 317,\n",
       " 46,\n",
       " 7,\n",
       " 4,\n",
       " 12118,\n",
       " 1029,\n",
       " 13,\n",
       " 104,\n",
       " 88,\n",
       " 4,\n",
       " 381,\n",
       " 15,\n",
       " 297,\n",
       " 98,\n",
       " 32,\n",
       " 2071,\n",
       " 56,\n",
       " 26,\n",
       " 141,\n",
       " 6,\n",
       " 194,\n",
       " 7486,\n",
       " 18,\n",
       " 4,\n",
       " 226,\n",
       " 22,\n",
       " 21,\n",
       " 134,\n",
       " 476,\n",
       " 26,\n",
       " 480,\n",
       " 5,\n",
       " 144,\n",
       " 30,\n",
       " 5535,\n",
       " 18,\n",
       " 51,\n",
       " 36,\n",
       " 28,\n",
       " 224,\n",
       " 92,\n",
       " 25,\n",
       " 104,\n",
       " 4,\n",
       " 226,\n",
       " 65,\n",
       " 16,\n",
       " 38,\n",
       " 1334,\n",
       " 88,\n",
       " 12,\n",
       " 16,\n",
       " 283,\n",
       " 5,\n",
       " 16,\n",
       " 4472,\n",
       " 113,\n",
       " 103,\n",
       " 32,\n",
       " 15,\n",
       " 16,\n",
       " 5345,\n",
       " 19,\n",
       " 178,\n",
       " 32]"
      ]
     },
     "execution_count": 226,
     "metadata": {},
     "output_type": "execute_result"
    }
   ],
   "source": [
    "x_train[0]"
   ]
  },
  {
   "cell_type": "code",
   "execution_count": 228,
   "metadata": {},
   "outputs": [],
   "source": [
    "# Retrieve the word index file mapping words to indices\n",
    "word_index = imdb.get_word_index()\n",
    "# Reverse the word index to obtain a dict mapping indices to words\n",
    "inverted_word_index = dict((i, word) for (word, i) in word_index.items())\n",
    "# Decode the first sequence in the dataset\n",
    "decoded_sequence = \" \".join(inverted_word_index[i] for i in x_train[0])"
   ]
  },
  {
   "cell_type": "code",
   "execution_count": 229,
   "metadata": {},
   "outputs": [
    {
     "data": {
      "text/plain": [
       "\"the as you with out themselves powerful lets loves their becomes reaching had journalist of lot from anyone to have after out atmosphere never more room and it so heart shows to years of every never going and help moments or of every chest visual movie except her was several of enough more with is now current film as you of mine potentially unfortunately of you than him that with out themselves her get for was camp of you movie sometimes movie that with scary but pratfalls to story wonderful that in seeing in character to of 70s musicians with heart had shadows they of here that with her serious to have does when from why what have critics they is you that isn't one will very to as itself with other tricky in of seen over landed for anyone of and br show's to whether from than out themselves history he name half some br of 'n odd was two most of mean for 1 any an boat she he should is thought frog but of script you not while history he heart to real at barrel but when from one bit then have two of script their with her nobody most that with wasn't to with armed acting watch an for with heartfelt film want an\""
      ]
     },
     "execution_count": 229,
     "metadata": {},
     "output_type": "execute_result"
    }
   ],
   "source": [
    "decoded_sequence"
   ]
  },
  {
   "cell_type": "code",
   "execution_count": 230,
   "metadata": {
    "colab": {
     "base_uri": "https://localhost:8080/"
    },
    "id": "MtJSwOPDC7__",
    "outputId": "f4977635-7bbf-4c44-dcfc-ec7f60b569cb"
   },
   "outputs": [
    {
     "name": "stdout",
     "output_type": "stream",
     "text": [
      "25000 тренировочные последовательности\n",
      "25000 тестовые последовательности\n"
     ]
    }
   ],
   "source": [
    "print(len(x_train), 'тренировочные последовательности')\n",
    "print(len(x_test), 'тестовые последовательности')"
   ]
  },
  {
   "cell_type": "code",
   "execution_count": 239,
   "metadata": {
    "colab": {
     "base_uri": "https://localhost:8080/"
    },
    "id": "f-z0-a_pFCwE",
    "outputId": "167b86e1-a7ac-4d85-92ef-28a9e25f9f9d"
   },
   "outputs": [
    {
     "data": {
      "text/plain": [
       "80"
      ]
     },
     "execution_count": 239,
     "metadata": {},
     "output_type": "execute_result"
    }
   ],
   "source": [
    "len(x_train[0])"
   ]
  },
  {
   "cell_type": "code",
   "execution_count": 234,
   "metadata": {
    "colab": {
     "base_uri": "https://localhost:8080/"
    },
    "id": "CGAsy1MFDEVZ",
    "outputId": "43a45e8a-6e44-4ed6-e0a1-6b85b3d0fd7a"
   },
   "outputs": [
    {
     "name": "stdout",
     "output_type": "stream",
     "text": [
      "x_train shape: (25000, 80)\n",
      "x_test shape: (25000, 80)\n"
     ]
    }
   ],
   "source": [
    "x_train = sequence.pad_sequences(x_train, maxlen=maxlen)\n",
    "x_test = sequence.pad_sequences(x_test, maxlen=maxlen)\n",
    "print('x_train shape:', x_train.shape)\n",
    "print('x_test shape:', x_test.shape)"
   ]
  },
  {
   "cell_type": "code",
   "execution_count": 236,
   "metadata": {},
   "outputs": [
    {
     "data": {
      "text/plain": [
       "20000"
      ]
     },
     "execution_count": 236,
     "metadata": {},
     "output_type": "execute_result"
    }
   ],
   "source": [
    "max_features"
   ]
  },
  {
   "cell_type": "code",
   "execution_count": 235,
   "metadata": {
    "id": "s4YPiv4OFQJX"
   },
   "outputs": [],
   "source": [
    "layer = Embedding(max_features, 128)"
   ]
  },
  {
   "cell_type": "code",
   "execution_count": 238,
   "metadata": {
    "id": "e9AmlPFXyIg1"
   },
   "outputs": [
    {
     "data": {
      "text/plain": [
       "TensorShape([80, 128])"
      ]
     },
     "execution_count": 238,
     "metadata": {},
     "output_type": "execute_result"
    }
   ],
   "source": [
    "layer(x_train[0]).shape"
   ]
  },
  {
   "cell_type": "code",
   "execution_count": 261,
   "metadata": {
    "colab": {
     "base_uri": "https://localhost:8080/"
    },
    "id": "SuCf2ixNDJ8m",
    "outputId": "56b46e29-4ad0-4dcd-918e-2887c954398e"
   },
   "outputs": [
    {
     "name": "stdout",
     "output_type": "stream",
     "text": [
      "Построение модели...\n",
      "WARNING:tensorflow:Layer lstm_8 will not use cuDNN kernels since it doesn't meet the criteria. It will use a generic GPU kernel as fallback when running on GPU.\n"
     ]
    }
   ],
   "source": [
    "print('Построение модели...')\n",
    "model = Sequential()\n",
    "model.add(Embedding(max_features, 128))\n",
    "model.add(LSTM(128, dropout=0.2, recurrent_dropout=0.2))\n",
    "model.add(Dense(1, activation='sigmoid'))"
   ]
  },
  {
   "cell_type": "code",
   "execution_count": 262,
   "metadata": {
    "id": "pKTWAEViFOdj"
   },
   "outputs": [],
   "source": [
    "model.compile(loss='binary_crossentropy',\n",
    "              optimizer='adam',\n",
    "              metrics=['accuracy'])"
   ]
  },
  {
   "cell_type": "code",
   "execution_count": 263,
   "metadata": {
    "colab": {
     "base_uri": "https://localhost:8080/"
    },
    "id": "STDbV391GfDO",
    "outputId": "68b470ca-7816-4526-a9f3-799ca12546c9"
   },
   "outputs": [
    {
     "name": "stdout",
     "output_type": "stream",
     "text": [
      "Процесс обучения...\n",
      "500/500 [==============================] - 244s 484ms/step - loss: 0.4485 - accuracy: 0.7782 - val_loss: 0.3713 - val_accuracy: 0.8364\n"
     ]
    },
    {
     "data": {
      "text/plain": [
       "<keras.callbacks.History at 0x17559502080>"
      ]
     },
     "execution_count": 263,
     "metadata": {},
     "output_type": "execute_result"
    }
   ],
   "source": [
    "print('Процесс обучения...')\n",
    "model.fit(x_train, y_train,\n",
    "          batch_size=batch_size,\n",
    "          epochs=1, # увеличьте при необходимости\n",
    "          validation_data=(x_test, y_test))"
   ]
  },
  {
   "cell_type": "code",
   "execution_count": 264,
   "metadata": {
    "colab": {
     "base_uri": "https://localhost:8080/"
    },
    "id": "09mnjJl0GlB7",
    "outputId": "e9673b14-5e9e-4809-e1e4-855afc0e00f4"
   },
   "outputs": [
    {
     "name": "stdout",
     "output_type": "stream",
     "text": [
      "500/500 [==============================] - 52s 103ms/step - loss: 0.3713 - accuracy: 0.8364\n"
     ]
    }
   ],
   "source": [
    "score, acc = model.evaluate(x_test, y_test,\n",
    "                            batch_size=batch_size)"
   ]
  },
  {
   "cell_type": "code",
   "execution_count": 265,
   "metadata": {
    "colab": {
     "base_uri": "https://localhost:8080/"
    },
    "id": "DY6eThlJGnIs",
    "outputId": "181a131c-7453-4e9f-e5cf-f70a3bceba14",
    "scrolled": true
   },
   "outputs": [
    {
     "name": "stdout",
     "output_type": "stream",
     "text": [
      "Результат при тестировании: 0.37133365869522095\n",
      "Тестовая точность: 0.8363999724388123\n"
     ]
    }
   ],
   "source": [
    "print('Результат при тестировании:', score)\n",
    "print('Тестовая точность:', acc)"
   ]
  },
  {
   "cell_type": "markdown",
   "metadata": {},
   "source": [
    "### <span class=\"burk\">Задание 2.</span>\n",
    "**Попробуйте изменить параметры нейронной сети, генерирующей текст таким образом,\n",
    "чтобы добиться генерации как можно более осмысленного текста. Пришлите лучший\n",
    "текст из получившихся и опишите предпринятые для его получения действия. Можно\n",
    "использовать текст другого произведения.**"
   ]
  },
  {
   "cell_type": "markdown",
   "metadata": {
    "id": "2xLGyQjYG3eq"
   },
   "source": [
    "# Генерация текста на основе книжки «Алиса в стране чудес»"
   ]
  },
  {
   "cell_type": "code",
   "execution_count": 244,
   "metadata": {
    "id": "99v6TBSqHBjU"
   },
   "outputs": [],
   "source": [
    "import numpy as np\n",
    "from tensorflow.keras.layers import Dense, Activation\n",
    "from tensorflow.keras.layers import SimpleRNN, LSTM, GRU\n",
    "from tensorflow.keras.models import Sequential"
   ]
  },
  {
   "cell_type": "code",
   "execution_count": 245,
   "metadata": {
    "id": "0FoMKffgHIyR"
   },
   "outputs": [],
   "source": [
    "# построчное чтение из примера с текстом \n",
    "with open(\"alice_in_wonderland.txt\", 'rb') as _in:\n",
    "    lines = []\n",
    "    for line in _in:\n",
    "        line = line.strip().lower().decode(\"ascii\", \"ignore\")\n",
    "        if len(line) == 0:\n",
    "            continue\n",
    "        lines.append(line)\n",
    "text = \" \".join(lines)\n",
    "chars = set(text)\n",
    "nb_chars = len(chars)"
   ]
  },
  {
   "cell_type": "code",
   "execution_count": 247,
   "metadata": {
    "colab": {
     "base_uri": "https://localhost:8080/"
    },
    "id": "Qu08wn8GztrM",
    "outputId": "68ef69cd-25f8-498f-8930-bc88d066d463"
   },
   "outputs": [
    {
     "data": {
      "text/plain": [
       "55"
      ]
     },
     "execution_count": 247,
     "metadata": {},
     "output_type": "execute_result"
    }
   ],
   "source": [
    "len(chars)"
   ]
  },
  {
   "cell_type": "code",
   "execution_count": 249,
   "metadata": {
    "id": "xlcUCnMRHfzk"
   },
   "outputs": [],
   "source": [
    "# создание индекса символов и reverse mapping чтобы передвигаться между значениями numerical\n",
    "# ID and a specific character. The numerical ID will correspond to a column\n",
    "# ID и определенный символ. Numerical ID будет соответсвовать колонке\n",
    "# число при использовании one-hot кодировки для представление входов символов\n",
    "char2index = {c: i for i, c in enumerate(chars)}\n",
    "index2char = {i: c for i, c in enumerate(chars)}"
   ]
  },
  {
   "cell_type": "code",
   "execution_count": 255,
   "metadata": {
    "scrolled": true
   },
   "outputs": [
    {
     "data": {
      "text/plain": [
       "{0: 'c',\n",
       " 1: 'w',\n",
       " 2: '?',\n",
       " 3: ' ',\n",
       " 4: 'h',\n",
       " 5: ')',\n",
       " 6: 'e',\n",
       " 7: 'n',\n",
       " 8: 'z',\n",
       " 9: '.',\n",
       " 10: 't',\n",
       " 11: '%',\n",
       " 12: 'u',\n",
       " 13: '5',\n",
       " 14: ';',\n",
       " 15: '9',\n",
       " 16: 'o',\n",
       " 17: '[',\n",
       " 18: '/',\n",
       " 19: '#',\n",
       " 20: 'p',\n",
       " 21: '6',\n",
       " 22: '@',\n",
       " 23: 'm',\n",
       " 24: '2',\n",
       " 25: '1',\n",
       " 26: '$',\n",
       " 27: 'a',\n",
       " 28: '!',\n",
       " 29: 'i',\n",
       " 30: 'l',\n",
       " 31: ',',\n",
       " 32: '_',\n",
       " 33: '8',\n",
       " 34: '7',\n",
       " 35: '*',\n",
       " 36: 'b',\n",
       " 37: 'j',\n",
       " 38: 'v',\n",
       " 39: 'k',\n",
       " 40: 'y',\n",
       " 41: '4',\n",
       " 42: 's',\n",
       " 43: ':',\n",
       " 44: 'q',\n",
       " 45: '(',\n",
       " 46: 'r',\n",
       " 47: 'g',\n",
       " 48: 'x',\n",
       " 49: '0',\n",
       " 50: 'd',\n",
       " 51: 'f',\n",
       " 52: '-',\n",
       " 53: ']',\n",
       " 54: '3'}"
      ]
     },
     "execution_count": 255,
     "metadata": {},
     "output_type": "execute_result"
    }
   ],
   "source": [
    "index2char"
   ]
  },
  {
   "cell_type": "code",
   "execution_count": 250,
   "metadata": {
    "id": "TQZaEpb-Hlyg"
   },
   "outputs": [],
   "source": [
    "# для удобства выберете фиксированную длину последовательность 10 символов \n",
    "SEQLEN, STEP = 10, 1\n",
    "input_chars, label_chars = [], []\n",
    "\n",
    "# конвертация data в серии разных SEQLEN-length субпоследовательностей\n",
    "for i in range(0, len(text) - SEQLEN, STEP):\n",
    "    input_chars.append(text[i: i + SEQLEN])\n",
    "    label_chars.append(text[i + SEQLEN])"
   ]
  },
  {
   "cell_type": "code",
   "execution_count": 253,
   "metadata": {},
   "outputs": [
    {
     "data": {
      "text/plain": [
       "158773"
      ]
     },
     "execution_count": 253,
     "metadata": {},
     "output_type": "execute_result"
    }
   ],
   "source": [
    "len(input_chars)"
   ]
  },
  {
   "cell_type": "code",
   "execution_count": 251,
   "metadata": {
    "colab": {
     "base_uri": "https://localhost:8080/"
    },
    "id": "BEMyktdvHqjc",
    "outputId": "0c0d6b26-f4d3-43d2-9901-917f9eaa6d27"
   },
   "outputs": [
    {
     "data": {
      "text/plain": [
       "('project gu', 't')"
      ]
     },
     "execution_count": 251,
     "metadata": {},
     "output_type": "execute_result"
    }
   ],
   "source": [
    "input_chars[0], label_chars[0]"
   ]
  },
  {
   "cell_type": "code",
   "execution_count": 252,
   "metadata": {
    "colab": {
     "base_uri": "https://localhost:8080/"
    },
    "id": "9F663JydpkOv",
    "outputId": "2f231045-430f-41ff-db42-5bac19152907"
   },
   "outputs": [
    {
     "data": {
      "text/plain": [
       "('roject gut', 'e')"
      ]
     },
     "execution_count": 252,
     "metadata": {},
     "output_type": "execute_result"
    }
   ],
   "source": [
    "input_chars[1], label_chars[1]"
   ]
  },
  {
   "cell_type": "code",
   "execution_count": 254,
   "metadata": {
    "colab": {
     "base_uri": "https://localhost:8080/"
    },
    "id": "9L3y9LfmHywZ",
    "outputId": "1192ea8e-a540-4367-9171-4663d2535497"
   },
   "outputs": [
    {
     "name": "stderr",
     "output_type": "stream",
     "text": [
      "C:\\Users\\Pirozhok\\AppData\\Local\\Temp\\ipykernel_23436\\1321165275.py:3: DeprecationWarning: `np.bool` is a deprecated alias for the builtin `bool`. To silence this warning, use `bool` by itself. Doing this will not modify any behavior and is safe. If you specifically wanted the numpy scalar type, use `np.bool_` here.\n",
      "Deprecated in NumPy 1.20; for more details and guidance: https://numpy.org/devdocs/release/1.20.0-notes.html#deprecations\n",
      "  X = np.zeros((len(input_chars), SEQLEN, nb_chars), dtype=np.bool)\n",
      "C:\\Users\\Pirozhok\\AppData\\Local\\Temp\\ipykernel_23436\\1321165275.py:4: DeprecationWarning: `np.bool` is a deprecated alias for the builtin `bool`. To silence this warning, use `bool` by itself. Doing this will not modify any behavior and is safe. If you specifically wanted the numpy scalar type, use `np.bool_` here.\n",
      "Deprecated in NumPy 1.20; for more details and guidance: https://numpy.org/devdocs/release/1.20.0-notes.html#deprecations\n",
      "  y = np.zeros((len(input_chars), nb_chars), dtype=np.bool)\n"
     ]
    }
   ],
   "source": [
    "# Вычисление one-hot encoding входных последовательностей X и следующего символа (the label) y\n",
    "\n",
    "X = np.zeros((len(input_chars), SEQLEN, nb_chars), dtype=np.bool)\n",
    "y = np.zeros((len(input_chars), nb_chars), dtype=np.bool)\n",
    "for i, input_char in enumerate(input_chars):\n",
    "    for j, ch in enumerate(input_char):\n",
    "        X[i, j, char2index[ch]] = 1\n",
    "    y[i, char2index[label_chars[i]]] = 1"
   ]
  },
  {
   "cell_type": "code",
   "execution_count": 257,
   "metadata": {},
   "outputs": [
    {
     "data": {
      "text/plain": [
       "(158773, 10, 55)"
      ]
     },
     "execution_count": 257,
     "metadata": {},
     "output_type": "execute_result"
    }
   ],
   "source": [
    "X.shape"
   ]
  },
  {
   "cell_type": "code",
   "execution_count": 258,
   "metadata": {
    "id": "FWqwrcHiH6gw"
   },
   "outputs": [],
   "source": [
    "# установка ряда метапамертров  для нейронной сети и процесса тренировки\n",
    "BATCH_SIZE, HIDDEN_SIZE = 128, 128\n",
    "NUM_ITERATIONS = 10 # 25 должно быть достаточно\n",
    "NUM_EPOCHS_PER_ITERATION = 1\n",
    "NUM_PREDS_PER_EPOCH = 100"
   ]
  },
  {
   "cell_type": "code",
   "execution_count": 259,
   "metadata": {
    "id": "XOhbTKqmIApm"
   },
   "outputs": [
    {
     "name": "stdout",
     "output_type": "stream",
     "text": [
      "WARNING:tensorflow:Layer gru_11 will not use cuDNN kernels since it doesn't meet the criteria. It will use a generic GPU kernel as fallback when running on GPU.\n",
      "WARNING:tensorflow:Layer gru_12 will not use cuDNN kernels since it doesn't meet the criteria. It will use a generic GPU kernel as fallback when running on GPU.\n"
     ]
    }
   ],
   "source": [
    "'''\n",
    "Создание очень простой рекуррентной нейронной сети. В ней будет один реккурентный закодированный входной слой. \n",
    "За ним последует полносвязный слой связанный с набором возможных следующих символов, \n",
    "которые конвертированы в вероятностные результаты через стандартную softmax активацию \n",
    "с multi-class cross-encoding loss функцию ссылающуются на предсказание one-hot encoding лейбл символа\n",
    "'''\n",
    "\n",
    "model = Sequential()\n",
    "model.add(\n",
    "    GRU(  # вы можете изменить эту часть на LSTM или SimpleRNN, чтобы попробовать альтернативы\n",
    "        HIDDEN_SIZE,\n",
    "        return_sequences=True,\n",
    "        input_shape=(SEQLEN, nb_chars),\n",
    "        unroll=True\n",
    "    )\n",
    ")\n",
    "\n",
    "model.add(\n",
    "    GRU(  # вы можете изменить эту часть на LSTM или SimpleRNN, чтобы попробовать альтернативы\n",
    "        HIDDEN_SIZE,\n",
    "        return_sequences=False,\n",
    "        unroll=True\n",
    "    )\n",
    ")\n",
    "\n",
    "model.add(Dense(nb_chars))\n",
    "model.add(Activation(\"softmax\"))\n",
    "model.compile(loss=\"categorical_crossentropy\", optimizer=\"rmsprop\")"
   ]
  },
  {
   "cell_type": "code",
   "execution_count": 260,
   "metadata": {
    "colab": {
     "base_uri": "https://localhost:8080/"
    },
    "id": "CsGE7YUdITrA",
    "outputId": "7e54fc46-8b4d-498b-ec84-0399313d11f3",
    "scrolled": true
   },
   "outputs": [
    {
     "name": "stdout",
     "output_type": "stream",
     "text": [
      "==================================================\n",
      "Итерация #: 0\n",
      "1241/1241 [==============================] - 67s 49ms/step - loss: 2.1828\n",
      "Генерация из посева: t before t\n",
      "t before the project and the project and the project and the project and the project and the project and the p==================================================\n",
      "Итерация #: 1\n",
      "1241/1241 [==============================] - 60s 49ms/step - loss: 1.7513\n",
      "Генерация из посева:  baby--the\n",
      " baby--the had not and the rabbit and the rabbit and the rabbit and the rabbit and the rabbit and the rabbit a==================================================\n",
      "Итерация #: 2\n",
      "1241/1241 [==============================] - 62s 50ms/step - loss: 1.5765\n",
      "Генерация из посева: alice appe\n",
      "alice appeared to the gryphon and the gryphon and the gryphon and the gryphon and the gryphon and the gryphon ==================================================\n",
      "Итерация #: 3\n",
      "1241/1241 [==============================] - 60s 48ms/step - loss: 1.4625\n",
      "Генерация из посева: ut i dont \n",
      "ut i dont the more the more the more the more the more the more the more the more the more the more the more t==================================================\n",
      "Итерация #: 4\n",
      "1241/1241 [==============================] - 60s 48ms/step - loss: 1.3815\n",
      "Генерация из посева: alice dodg\n",
      "alice dodg to the time to see it as she said to see it as she said to see it as she said to see it as she said==================================================\n",
      "Итерация #: 5\n",
      "1241/1241 [==============================] - 58s 47ms/step - loss: 1.3208\n",
      "Генерация из посева: ve a look \n",
      "ve a look at all the some to be a little thing in the seated the gryphon, and the dormouse the dormouse the do==================================================\n",
      "Итерация #: 6\n",
      "1241/1241 [==============================] - 56s 45ms/step - loss: 1.2706\n",
      "Генерация из посева: ice in a t\n",
      "ice in a tone of the words were the words were the words were the words were the words were the words were the==================================================\n",
      "Итерация #: 7\n",
      "1241/1241 [==============================] - 51s 41ms/step - loss: 1.2292\n",
      "Генерация из посева: t, you may\n",
      "t, you may continued to be a little took the words with a sort of the work in a conversations to the words wit==================================================\n",
      "Итерация #: 8\n",
      "1241/1241 [==============================] - 51s 41ms/step - loss: 1.1925\n",
      "Генерация из посева: ! said the\n",
      "! said the caterpillar called a little girl you think you can do not cats and was a good deal sat down and she==================================================\n",
      "Итерация #: 9\n",
      "1241/1241 [==============================] - 46s 37ms/step - loss: 1.1592\n",
      "Генерация из посева: ng to alic\n",
      "ng to alice had not a little golden key, and she could not to see it was a low voice, and said to herself, and"
     ]
    }
   ],
   "source": [
    "# выполнение серий тренировочных и демонстрационных итераций \n",
    "for iteration in range(NUM_ITERATIONS):\n",
    "\n",
    "    # для каждой итерации запуск передачи данных в модель \n",
    "    print(\"=\" * 50)\n",
    "    print(\"Итерация #: %d\" % (iteration))\n",
    "    model.fit(X, y, batch_size=BATCH_SIZE, epochs=NUM_EPOCHS_PER_ITERATION)\n",
    "\n",
    "    # Select a random example input sequence.\n",
    "    test_idx = np.random.randint(len(input_chars))\n",
    "    test_chars = input_chars[test_idx]\n",
    "\n",
    "    # для числа шагов предсказаний использование текущей тренируемой модели \n",
    "    # конструирование one-hot encoding для тестирования input и добавление предсказания.\n",
    "    print(\"Генерация из посева: %s\" % (test_chars))\n",
    "    print(test_chars, end=\"\")\n",
    "    for i in range(NUM_PREDS_PER_EPOCH):\n",
    "\n",
    "        # здесь one-hot encoding.\n",
    "        X_test = np.zeros((1, SEQLEN, nb_chars))\n",
    "        for j, ch in enumerate(test_chars):\n",
    "            X_test[0, j, char2index[ch]] = 1\n",
    "\n",
    "        # осуществление предсказания с помощью текущей модели.\n",
    "        pred = model.predict(X_test, verbose=0)[0]\n",
    "        y_pred = index2char[np.argmax(pred)]\n",
    "\n",
    "        # вывод предсказания добавленного к тестовому примеру \n",
    "        print(y_pred, end=\"\")\n",
    "\n",
    "        # инкрементация тестового примера содержащего предсказание\n",
    "        test_chars = test_chars[1:] + y_pred"
   ]
  },
  {
   "cell_type": "markdown",
   "metadata": {},
   "source": [
    "### <span class=\"burk\">Задание 3$^*$.</span>\n",
    "**Попробуйте реализовать нейронную сеть архитектуры LSTM на numpy.**"
   ]
  },
  {
   "cell_type": "markdown",
   "metadata": {},
   "source": [
    "### <span class=\"burk\">Задание 4$^*$.</span>\n",
    "***Предложите свои варианты решения проблемы исчезающего градиента в RNN.**"
   ]
  },
  {
   "cell_type": "code",
   "execution_count": null,
   "metadata": {
    "id": "CNR_gBGoIZUN"
   },
   "outputs": [],
   "source": []
  }
 ],
 "metadata": {
  "accelerator": "GPU",
  "colab": {
   "name": "Lesson 5.ipynb",
   "provenance": []
  },
  "kernelspec": {
   "display_name": "Python 3 (ipykernel)",
   "language": "python",
   "name": "python3"
  },
  "language_info": {
   "codemirror_mode": {
    "name": "ipython",
    "version": 3
   },
   "file_extension": ".py",
   "mimetype": "text/x-python",
   "name": "python",
   "nbconvert_exporter": "python",
   "pygments_lexer": "ipython3",
   "version": "3.9.12"
  },
  "toc": {
   "base_numbering": 1,
   "nav_menu": {},
   "number_sections": false,
   "sideBar": true,
   "skip_h1_title": false,
   "title_cell": "Table of Contents",
   "title_sidebar": "Contents",
   "toc_cell": false,
   "toc_position": {},
   "toc_section_display": true,
   "toc_window_display": false
  },
  "varInspector": {
   "cols": {
    "lenName": 16,
    "lenType": 16,
    "lenVar": 40
   },
   "kernels_config": {
    "python": {
     "delete_cmd_postfix": "",
     "delete_cmd_prefix": "del ",
     "library": "var_list.py",
     "varRefreshCmd": "print(var_dic_list())"
    },
    "r": {
     "delete_cmd_postfix": ") ",
     "delete_cmd_prefix": "rm(",
     "library": "var_list.r",
     "varRefreshCmd": "cat(var_dic_list()) "
    }
   },
   "types_to_exclude": [
    "module",
    "function",
    "builtin_function_or_method",
    "instance",
    "_Feature"
   ],
   "window_display": false
  }
 },
 "nbformat": 4,
 "nbformat_minor": 1
}
