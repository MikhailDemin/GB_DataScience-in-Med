{
 "cells": [
  {
   "cell_type": "markdown",
   "metadata": {
    "id": "zzyo25bnaP30"
   },
   "source": [
    "# Урок 3. TensorFlow\n",
    "# Домашнее задание"
   ]
  },
  {
   "cell_type": "markdown",
   "metadata": {
    "id": "NR2KbuiU2o9l"
   },
   "source": [
    "### <span class=\"burk\">Задание 1.</span>\n",
    "**Имеются два массива с рукописными буквами и с характеристиками вина. Нужно выбрать датасет, возможно, предварительно обработать, создать модель, обучить и проверить точность на тестовом датасете. Напишите свои мысли по поводу результатов.\n",
    "При желании можно рассмотреть оба датасета, можете попробовать применить другие методы машинного обучения, известные вам, и сравнить результаты обучения.**"
   ]
  },
  {
   "cell_type": "markdown",
   "metadata": {
    "id": "M72ajz7tRQuN"
   },
   "source": [
    "## Датасет с винами"
   ]
  },
  {
   "cell_type": "markdown",
   "metadata": {
    "id": "089ZkMffRYu6"
   },
   "source": [
    "https://scikit-learn.org/stable/modules/generated/sklearn.datasets.load_wine.html#sklearn.datasets.load_wine"
   ]
  },
  {
   "cell_type": "code",
   "execution_count": 44,
   "metadata": {
    "executionInfo": {
     "elapsed": 370,
     "status": "ok",
     "timestamp": 1654746739188,
     "user": {
      "displayName": "Михаил Демин",
      "userId": "14250540086915616791"
     },
     "user_tz": -600
    },
    "id": "SkW0cWmmQWEv"
   },
   "outputs": [],
   "source": [
    "from sklearn.datasets import load_wine\n",
    "from sklearn.model_selection import train_test_split"
   ]
  },
  {
   "cell_type": "code",
   "execution_count": 45,
   "metadata": {
    "executionInfo": {
     "elapsed": 371,
     "status": "ok",
     "timestamp": 1654746742126,
     "user": {
      "displayName": "Михаил Демин",
      "userId": "14250540086915616791"
     },
     "user_tz": -600
    },
    "id": "yXhssEenSe8S"
   },
   "outputs": [],
   "source": [
    "data = load_wine()"
   ]
  },
  {
   "cell_type": "code",
   "execution_count": 46,
   "metadata": {
    "colab": {
     "base_uri": "https://localhost:8080/"
    },
    "executionInfo": {
     "elapsed": 2,
     "status": "ok",
     "timestamp": 1654746743499,
     "user": {
      "displayName": "Михаил Демин",
      "userId": "14250540086915616791"
     },
     "user_tz": -600
    },
    "id": "DTyfGtPIRjbP",
    "outputId": "ff77d2c6-ea5d-4e72-d1d3-0af638a4cbec"
   },
   "outputs": [
    {
     "data": {
      "text/plain": [
       "['class_0', 'class_1', 'class_2']"
      ]
     },
     "execution_count": 46,
     "metadata": {},
     "output_type": "execute_result"
    }
   ],
   "source": [
    "list(data.target_names)"
   ]
  },
  {
   "cell_type": "code",
   "execution_count": 47,
   "metadata": {
    "colab": {
     "base_uri": "https://localhost:8080/"
    },
    "executionInfo": {
     "elapsed": 4,
     "status": "ok",
     "timestamp": 1654746744497,
     "user": {
      "displayName": "Михаил Демин",
      "userId": "14250540086915616791"
     },
     "user_tz": -600
    },
    "id": "tvnxIsLpRQGC",
    "outputId": "006c31e6-3626-4157-da1e-a29b425b5e1a"
   },
   "outputs": [
    {
     "data": {
      "text/plain": [
       "['alcohol',\n",
       " 'malic_acid',\n",
       " 'ash',\n",
       " 'alcalinity_of_ash',\n",
       " 'magnesium',\n",
       " 'total_phenols',\n",
       " 'flavanoids',\n",
       " 'nonflavanoid_phenols',\n",
       " 'proanthocyanins',\n",
       " 'color_intensity',\n",
       " 'hue',\n",
       " 'od280/od315_of_diluted_wines',\n",
       " 'proline']"
      ]
     },
     "execution_count": 47,
     "metadata": {},
     "output_type": "execute_result"
    }
   ],
   "source": [
    "data.feature_names"
   ]
  },
  {
   "cell_type": "code",
   "execution_count": 48,
   "metadata": {
    "colab": {
     "base_uri": "https://localhost:8080/"
    },
    "executionInfo": {
     "elapsed": 2,
     "status": "ok",
     "timestamp": 1654746746489,
     "user": {
      "displayName": "Михаил Демин",
      "userId": "14250540086915616791"
     },
     "user_tz": -600
    },
    "id": "F6E3WMc2Rl0y",
    "outputId": "48e9ed0d-2063-40e5-d46e-a8a5d6c15a33"
   },
   "outputs": [
    {
     "data": {
      "text/plain": [
       "((178, 13), (178,))"
      ]
     },
     "execution_count": 48,
     "metadata": {},
     "output_type": "execute_result"
    }
   ],
   "source": [
    "data.data.shape, data.target.shape"
   ]
  },
  {
   "cell_type": "code",
   "execution_count": 49,
   "metadata": {
    "executionInfo": {
     "elapsed": 373,
     "status": "ok",
     "timestamp": 1654746765297,
     "user": {
      "displayName": "Михаил Демин",
      "userId": "14250540086915616791"
     },
     "user_tz": -600
    },
    "id": "YZqtD7GFRsnQ"
   },
   "outputs": [],
   "source": [
    "X_train, X_test, y_train, y_test = train_test_split(data.data, data.target, test_size=0.25, shuffle=True, random_state=0)"
   ]
  },
  {
   "cell_type": "code",
   "execution_count": 50,
   "metadata": {
    "colab": {
     "base_uri": "https://localhost:8080/"
    },
    "executionInfo": {
     "elapsed": 3,
     "status": "ok",
     "timestamp": 1654746766693,
     "user": {
      "displayName": "Михаил Демин",
      "userId": "14250540086915616791"
     },
     "user_tz": -600
    },
    "id": "ZI_B1C6FSYFu",
    "outputId": "c8428914-da69-4f32-a3bb-295f3a20faa2"
   },
   "outputs": [
    {
     "data": {
      "text/plain": [
       "((133, 13), (45, 13), (133,), (45,))"
      ]
     },
     "execution_count": 50,
     "metadata": {},
     "output_type": "execute_result"
    }
   ],
   "source": [
    "X_train.shape, X_test.shape, y_train.shape, y_test.shape"
   ]
  },
  {
   "cell_type": "markdown",
   "metadata": {
    "id": "gAqpMfDiSkZ5"
   },
   "source": [
    "# Датасет с рукописными буквами"
   ]
  },
  {
   "cell_type": "markdown",
   "metadata": {
    "id": "m5rHCIuXVrmj"
   },
   "source": [
    "https://www.tensorflow.org/datasets/catalog/binary_alpha_digits"
   ]
  },
  {
   "cell_type": "code",
   "execution_count": 27,
   "metadata": {
    "colab": {
     "base_uri": "https://localhost:8080/"
    },
    "executionInfo": {
     "elapsed": 386,
     "status": "ok",
     "timestamp": 1654740208043,
     "user": {
      "displayName": "Михаил Демин",
      "userId": "14250540086915616791"
     },
     "user_tz": -600
    },
    "id": "HJ5kP17IjmW0",
    "outputId": "863164a2-820d-4c7e-dbf8-eedcea8d62cf"
   },
   "outputs": [
    {
     "name": "stdout",
     "output_type": "stream",
     "text": [
      "TensorFlow version:  2.8.2\n",
      "Keras version:  2.8.0\n",
      "Matplotlib version:  3.2.2\n",
      "Numpy version:  1.21.6\n",
      "Sci-Kit Learn version:  1.0.2\n"
     ]
    }
   ],
   "source": [
    "# TensorFlow and tf.keras\n",
    "import tensorflow as tf\n",
    "from tensorflow import keras\n",
    "\n",
    "# Helper libraries\n",
    "import numpy as np\n",
    "import matplotlib\n",
    "import matplotlib.pyplot as plt\n",
    "import sklearn\n",
    "from sklearn.model_selection import train_test_split\n",
    "# from sklearn.metrics import classification_report, multilabel_confusion_matrix\n",
    "\n",
    "print(\"TensorFlow version: \", tf.__version__)\n",
    "print(\"Keras version: \", keras.__version__)\n",
    "print(\"Matplotlib version: \", matplotlib.__version__)\n",
    "print(\"Numpy version: \", np.__version__)\n",
    "print(\"Sci-Kit Learn version: \", sklearn.__version__)"
   ]
  },
  {
   "cell_type": "code",
   "execution_count": 2,
   "metadata": {
    "colab": {
     "base_uri": "https://localhost:8080/"
    },
    "executionInfo": {
     "elapsed": 2640,
     "status": "ok",
     "timestamp": 1654738934512,
     "user": {
      "displayName": "Михаил Демин",
      "userId": "14250540086915616791"
     },
     "user_tz": -600
    },
    "id": "EKZvyQUBcepr",
    "outputId": "7b4319fa-94b9-4a40-ce3e-35ada12ad46a"
   },
   "outputs": [
    {
     "name": "stdout",
     "output_type": "stream",
     "text": [
      "Drive already mounted at /content/drive; to attempt to forcibly remount, call drive.mount(\"/content/drive\", force_remount=True).\n"
     ]
    }
   ],
   "source": [
    "from google.colab import drive\n",
    "drive.mount('/content/drive')"
   ]
  },
  {
   "cell_type": "code",
   "execution_count": 3,
   "metadata": {
    "colab": {
     "base_uri": "https://localhost:8080/"
    },
    "executionInfo": {
     "elapsed": 8,
     "status": "ok",
     "timestamp": 1654738934513,
     "user": {
      "displayName": "Михаил Демин",
      "userId": "14250540086915616791"
     },
     "user_tz": -600
    },
    "id": "OMHXQi0ZSimY",
    "outputId": "2f5a3586-1f29-4c66-a4e9-e3aebcf19ea3"
   },
   "outputs": [
    {
     "name": "stdout",
     "output_type": "stream",
     "text": [
      "['0', '1', '2', '3', '4', '5', '6', '7', '8', '9', 'A', 'B', 'C', 'D', 'E', 'F', 'G', 'H', 'I', 'J', 'K', 'L', 'M', 'N', 'O', 'P', 'Q', 'R', 'S', 'T', 'U', 'V', 'W', 'X', 'Y', 'Z']\n"
     ]
    }
   ],
   "source": [
    "classes = [str(i) for i in range(10)] +  list('ABCDEFGHIJKLMNOPQRSTUVWXYZ')\n",
    "print(classes)\n",
    "\n",
    "X = np.load('/content/drive/MyDrive/Colab Notebooks/13_3_binary_alpha_digits_images.npy')\n",
    "y = np.load('/content/drive/MyDrive/Colab Notebooks/13_3_binary_alpha_digits_labels.npy')"
   ]
  },
  {
   "cell_type": "code",
   "execution_count": 4,
   "metadata": {
    "colab": {
     "base_uri": "https://localhost:8080/"
    },
    "executionInfo": {
     "elapsed": 7,
     "status": "ok",
     "timestamp": 1654738934513,
     "user": {
      "displayName": "Михаил Демин",
      "userId": "14250540086915616791"
     },
     "user_tz": -600
    },
    "id": "-KABm1zlKMi-",
    "outputId": "15e67e23-5fe8-41ed-c853-f6f79f28e7a4"
   },
   "outputs": [
    {
     "data": {
      "text/plain": [
       "((1404, 20, 16), (1404,))"
      ]
     },
     "execution_count": 4,
     "metadata": {},
     "output_type": "execute_result"
    }
   ],
   "source": [
    "X.shape, y.shape"
   ]
  },
  {
   "cell_type": "code",
   "execution_count": 5,
   "metadata": {
    "colab": {
     "base_uri": "https://localhost:8080/",
     "height": 353
    },
    "executionInfo": {
     "elapsed": 2129,
     "status": "ok",
     "timestamp": 1654738941297,
     "user": {
      "displayName": "Михаил Демин",
      "userId": "14250540086915616791"
     },
     "user_tz": -600
    },
    "id": "4nmyuGLyC3W9",
    "outputId": "afcd1f6b-61e0-4fb1-cb62-efbb7ce462ef"
   },
   "outputs": [
    {
     "data": {
      "image/png": "[encoded data removed]",
      "text/plain": [
       "<Figure size 720x360 with 15 Axes>"
      ]
     },
     "metadata": {},
     "output_type": "display_data"
    }
   ],
   "source": [
    "fig, axes = plt.subplots(3, 5, figsize=(10, 5))\n",
    "fig.suptitle('binary alpha digits', fontsize=20)\n",
    "n = 0\n",
    "for ax in axes.flat:\n",
    "    ax.set_yticks([])\n",
    "    ax.set_xticks([])\n",
    "    ax.imshow(X[n], cmap=plt.cm.binary)\n",
    "    ax.set_xlabel(classes[y[n]])\n",
    "    n += 1"
   ]
  },
  {
   "cell_type": "code",
   "execution_count": 6,
   "metadata": {
    "executionInfo": {
     "elapsed": 3,
     "status": "ok",
     "timestamp": 1654738941297,
     "user": {
      "displayName": "Михаил Демин",
      "userId": "14250540086915616791"
     },
     "user_tz": -600
    },
    "id": "vT0h7llNocV5"
   },
   "outputs": [],
   "source": [
    "train_images, test_images, train_labels, test_labels = train_test_split(X, y,\n",
    "                                                      shuffle=True,\n",
    "                                                      test_size=0.2,\n",
    "                                                      random_state=21,\n",
    "                                                      stratify=y\n",
    "                                                      )"
   ]
  },
  {
   "cell_type": "code",
   "execution_count": 7,
   "metadata": {
    "colab": {
     "base_uri": "https://localhost:8080/"
    },
    "executionInfo": {
     "elapsed": 622,
     "status": "ok",
     "timestamp": 1654738944036,
     "user": {
      "displayName": "Михаил Демин",
      "userId": "14250540086915616791"
     },
     "user_tz": -600
    },
    "id": "L4_AHfJCqFMG",
    "outputId": "6e21d8a0-a286-4e8e-8a83-bc2e967de87e"
   },
   "outputs": [
    {
     "name": "stdout",
     "output_type": "stream",
     "text": [
      "(1123, 20, 16)\n",
      "1123\n",
      "[ 2 14  1 ...  7  2  2]\n"
     ]
    }
   ],
   "source": [
    "print(train_images.shape, len(train_labels), train_labels, sep='\\n')"
   ]
  },
  {
   "cell_type": "code",
   "execution_count": 8,
   "metadata": {
    "colab": {
     "base_uri": "https://localhost:8080/"
    },
    "executionInfo": {
     "elapsed": 550,
     "status": "ok",
     "timestamp": 1654738944582,
     "user": {
      "displayName": "Михаил Демин",
      "userId": "14250540086915616791"
     },
     "user_tz": -600
    },
    "id": "-57Z2zeMqg-R",
    "outputId": "c037b36b-c73d-48a6-9ef3-4a605f86a577"
   },
   "outputs": [
    {
     "name": "stdout",
     "output_type": "stream",
     "text": [
      "(281, 20, 16)\n",
      "281\n",
      "[23 20 11 33  9  1  3 25 24 23 18 24 32 19 14 28 16  9 35  5 14 20  1 26\n",
      " 17  1 16 20 34 22 25 11 31 12 34  3  8 28  6 13  8 29 21 27 15 23  6  9\n",
      " 11  2 34 18 33 32 31  5 17 12 16 31 20 30 12 35 26  0 24 32  9  4 21 35\n",
      " 20 21 10 22 27 30 20 32 15 15 17 13 23 28  9 17 27  7 32 29  0 25  0 17\n",
      " 29  5 34 25 30 29 18 13  2  3 25  2 14 15  8 17  7 18 10 29 18 11 35 27\n",
      "  4 30 26  4 33 30 15 19 22 19  3 23 25 12  7  2 26 16 21 19  4  3 24 31\n",
      " 29  2 35 33 22  8 11 24 19 16 28  6  8  5  0 13  4 28 26 26 14 20 18 33\n",
      " 11 27  9  5 10 10 12  2 30  3  1 31 15  8 28 16  0 19 12  8 32  6 29 24\n",
      " 11  6 21  2 19 34 20  4  4 17 12 24 17 11 31 13  5 35 34 25  5 22 31 14\n",
      " 22 29 10 18  7  7 25 34 14 13 15  6 30 27  2 28 14  1 24 33 15  3 12 16\n",
      "  1 22 14 35 33 26 21  4 10  8  7 30 10  6 21 33  0 16 13 35 19 10  5 26\n",
      "  0 23 22  9 34 28  1  9 21  0 27  6 23 31  7 32 27]\n"
     ]
    }
   ],
   "source": [
    "print(test_images.shape, len(test_labels), test_labels, sep='\\n')"
   ]
  },
  {
   "cell_type": "markdown",
   "metadata": {
    "id": "7vfowXMJiwOY"
   },
   "source": [
    "## Обучение"
   ]
  },
  {
   "cell_type": "code",
   "execution_count": 35,
   "metadata": {
    "executionInfo": {
     "elapsed": 590,
     "status": "ok",
     "timestamp": 1654741128386,
     "user": {
      "displayName": "Михаил Демин",
      "userId": "14250540086915616791"
     },
     "user_tz": -600
    },
    "id": "mP7Xm1Za-Bxw"
   },
   "outputs": [],
   "source": [
    "model = keras.Sequential([\n",
    "    keras.layers.Flatten(input_shape=(20, 16)),\n",
    "    keras.layers.Dense(128, activation='tanh'),\n",
    "    keras.layers.Dense(128, activation='tanh'),\n",
    "    keras.layers.Dense(256, activation='tanh'),\n",
    "    keras.layers.Dense(36)\n",
    "])\n",
    "\n",
    "model.compile(optimizer=tf.keras.optimizers.Adam(learning_rate=0.001),\n",
    "              loss=tf.keras.losses.SparseCategoricalCrossentropy(from_logits=True),\n",
    "              metrics=['accuracy'])"
   ]
  },
  {
   "cell_type": "code",
   "execution_count": 16,
   "metadata": {
    "executionInfo": {
     "elapsed": 333,
     "status": "ok",
     "timestamp": 1654739032776,
     "user": {
      "displayName": "Михаил Демин",
      "userId": "14250540086915616791"
     },
     "user_tz": -600
    },
    "id": "3haX-iZQH0_H"
   },
   "outputs": [],
   "source": [
    "model = keras.Sequential([\n",
    "    keras.layers.Flatten(input_shape=(20, 16)),\n",
    "    keras.layers.Dense(128, activation='relu'),\n",
    "    keras.layers.Dense(128, activation='relu'),\n",
    "    keras.layers.Dense(36)\n",
    "])\n",
    "\n",
    "model.compile(optimizer=tf.keras.optimizers.Adam(learning_rate=0.001),\n",
    "              loss=tf.keras.losses.SparseCategoricalCrossentropy(from_logits=True),\n",
    "              metrics=['accuracy'])"
   ]
  },
  {
   "cell_type": "code",
   "execution_count": 36,
   "metadata": {
    "colab": {
     "base_uri": "https://localhost:8080/"
    },
    "executionInfo": {
     "elapsed": 2008,
     "status": "ok",
     "timestamp": 1654741132157,
     "user": {
      "displayName": "Михаил Демин",
      "userId": "14250540086915616791"
     },
     "user_tz": -600
    },
    "id": "AGyxsHyQizAU",
    "outputId": "3b0143f0-ecfd-4f58-a33c-3008034d3f2b"
   },
   "outputs": [
    {
     "name": "stdout",
     "output_type": "stream",
     "text": [
      "Epoch 1/9\n",
      "36/36 [==============================] - 1s 4ms/step - loss: 2.7871 - accuracy: 0.3028\n",
      "Epoch 2/9\n",
      "36/36 [==============================] - 0s 4ms/step - loss: 1.3824 - accuracy: 0.6643\n",
      "Epoch 3/9\n",
      "36/36 [==============================] - 0s 4ms/step - loss: 0.9532 - accuracy: 0.7471\n",
      "Epoch 4/9\n",
      "36/36 [==============================] - 0s 4ms/step - loss: 0.7255 - accuracy: 0.7979\n",
      "Epoch 5/9\n",
      "36/36 [==============================] - 0s 4ms/step - loss: 0.5673 - accuracy: 0.8486\n",
      "Epoch 6/9\n",
      "36/36 [==============================] - 0s 4ms/step - loss: 0.4657 - accuracy: 0.8736\n",
      "Epoch 7/9\n",
      "36/36 [==============================] - 0s 4ms/step - loss: 0.3752 - accuracy: 0.9003\n",
      "Epoch 8/9\n",
      "36/36 [==============================] - 0s 4ms/step - loss: 0.2923 - accuracy: 0.9350\n",
      "Epoch 9/9\n",
      "36/36 [==============================] - 0s 3ms/step - loss: 0.2268 - accuracy: 0.9537\n"
     ]
    }
   ],
   "source": [
    "hstr = model.fit(train_images, train_labels, epochs=9, verbose=1)"
   ]
  },
  {
   "cell_type": "code",
   "execution_count": 37,
   "metadata": {
    "colab": {
     "base_uri": "https://localhost:8080/"
    },
    "executionInfo": {
     "elapsed": 349,
     "status": "ok",
     "timestamp": 1654741143130,
     "user": {
      "displayName": "Михаил Демин",
      "userId": "14250540086915616791"
     },
     "user_tz": -600
    },
    "id": "2nmBLE3oxB6q",
    "outputId": "e59aee06-69f3-47d0-f428-453619290b78"
   },
   "outputs": [
    {
     "data": {
      "text/plain": [
       "{'accuracy': [0.30276045203208923,\n",
       "  0.6642920970916748,\n",
       "  0.7471059560775757,\n",
       "  0.7978628873825073,\n",
       "  0.8486197590827942,\n",
       "  0.8735529780387878,\n",
       "  0.9002671241760254,\n",
       "  0.9349955320358276,\n",
       "  0.9536954760551453],\n",
       " 'loss': [2.7871339321136475,\n",
       "  1.3823736906051636,\n",
       "  0.9532217383384705,\n",
       "  0.7254570722579956,\n",
       "  0.5673330426216125,\n",
       "  0.4656907320022583,\n",
       "  0.3751522898674011,\n",
       "  0.29233887791633606,\n",
       "  0.22676490247249603]}"
      ]
     },
     "execution_count": 37,
     "metadata": {},
     "output_type": "execute_result"
    }
   ],
   "source": [
    "hstr.history"
   ]
  },
  {
   "cell_type": "code",
   "execution_count": 38,
   "metadata": {
    "colab": {
     "base_uri": "https://localhost:8080/"
    },
    "executionInfo": {
     "elapsed": 381,
     "status": "ok",
     "timestamp": 1654741145867,
     "user": {
      "displayName": "Михаил Демин",
      "userId": "14250540086915616791"
     },
     "user_tz": -600
    },
    "id": "Il3qffQ7x0co",
    "outputId": "b9a44735-0352-42ce-d360-71568dd309b6"
   },
   "outputs": [
    {
     "name": "stdout",
     "output_type": "stream",
     "text": [
      "Model: \"sequential_7\"\n",
      "_________________________________________________________________\n",
      " Layer (type)                Output Shape              Param #   \n",
      "=================================================================\n",
      " flatten_6 (Flatten)         (None, 320)               0         \n",
      "                                                                 \n",
      " dense_14 (Dense)            (None, 128)               41088     \n",
      "                                                                 \n",
      " dense_15 (Dense)            (None, 128)               16512     \n",
      "                                                                 \n",
      " dense_16 (Dense)            (None, 256)               33024     \n",
      "                                                                 \n",
      " dense_17 (Dense)            (None, 36)                9252      \n",
      "                                                                 \n",
      "=================================================================\n",
      "Total params: 99,876\n",
      "Trainable params: 99,876\n",
      "Non-trainable params: 0\n",
      "_________________________________________________________________\n"
     ]
    }
   ],
   "source": [
    "model.summary()"
   ]
  },
  {
   "cell_type": "code",
   "execution_count": 39,
   "metadata": {
    "colab": {
     "base_uri": "https://localhost:8080/",
     "height": 644
    },
    "executionInfo": {
     "elapsed": 550,
     "status": "ok",
     "timestamp": 1654741154619,
     "user": {
      "displayName": "Михаил Демин",
      "userId": "14250540086915616791"
     },
     "user_tz": -600
    },
    "id": "M6sVHlYtFKYS",
    "outputId": "5f267175-dad5-4f07-9872-c54c42c21797"
   },
   "outputs": [
    {
     "data": {
      "image/png": "[encoded data removed]",
      "text/plain": [
       "<IPython.core.display.Image object>"
      ]
     },
     "execution_count": 39,
     "metadata": {},
     "output_type": "execute_result"
    }
   ],
   "source": [
    "from keras.utils.vis_utils import plot_model\n",
    "\n",
    "plot_model(model, show_shapes=True, show_layer_names=True)"
   ]
  },
  {
   "cell_type": "code",
   "execution_count": 40,
   "metadata": {
    "colab": {
     "base_uri": "https://localhost:8080/"
    },
    "executionInfo": {
     "elapsed": 342,
     "status": "ok",
     "timestamp": 1654741160192,
     "user": {
      "displayName": "Михаил Демин",
      "userId": "14250540086915616791"
     },
     "user_tz": -600
    },
    "id": "BH3V0uMGFQo8",
    "outputId": "027bb8a2-e33f-40cf-e5e7-72ca771c6e6c"
   },
   "outputs": [
    {
     "data": {
      "text/plain": [
       "array([[-2.2709649 , -1.5966699 , -4.5147734 , ...,  2.1620312 ,\n",
       "         2.4313376 , -4.1636887 ],\n",
       "       [-4.8235097 ,  0.62785274, -5.0027304 , ...,  4.189828  ,\n",
       "         3.570388  , -0.6936084 ],\n",
       "       [-0.48572448,  1.5394822 , -2.4049444 , ..., -0.47264233,\n",
       "        -3.390039  , -1.2827586 ],\n",
       "       ...,\n",
       "       [-1.1946322 ,  0.4510166 ,  0.29642278, ...,  0.29048964,\n",
       "         3.894626  ,  2.749915  ],\n",
       "       [ 2.3317533 , -0.17972939,  1.9463257 , ..., -2.610443  ,\n",
       "        -5.201926  , -0.42306194],\n",
       "       [-0.96037126,  0.44096527, -3.3073497 , ...,  3.121016  ,\n",
       "        -0.53384936,  0.4917567 ]], dtype=float32)"
      ]
     },
     "execution_count": 40,
     "metadata": {},
     "output_type": "execute_result"
    }
   ],
   "source": [
    "model.predict(test_images)"
   ]
  },
  {
   "cell_type": "code",
   "execution_count": 41,
   "metadata": {
    "executionInfo": {
     "elapsed": 372,
     "status": "ok",
     "timestamp": 1654741167306,
     "user": {
      "displayName": "Михаил Демин",
      "userId": "14250540086915616791"
     },
     "user_tz": -600
    },
    "id": "RfZC_1VaFfCf"
   },
   "outputs": [],
   "source": [
    "probability_model = tf.keras.Sequential([model, \n",
    "                                         tf.keras.layers.Softmax()])\n",
    "predictions = probability_model.predict(test_images)"
   ]
  },
  {
   "cell_type": "code",
   "execution_count": 42,
   "metadata": {
    "colab": {
     "base_uri": "https://localhost:8080/"
    },
    "executionInfo": {
     "elapsed": 4,
     "status": "ok",
     "timestamp": 1654741171866,
     "user": {
      "displayName": "Михаил Демин",
      "userId": "14250540086915616791"
     },
     "user_tz": -600
    },
    "id": "JUwNZNDDFhkl",
    "outputId": "c3dbcdfd-65be-49ce-c76f-5f27e2dabd08"
   },
   "outputs": [
    {
     "name": "stdout",
     "output_type": "stream",
     "text": [
      "[1.6299175e-05 3.1989537e-05 1.7285893e-06 1.0484325e-04 8.2326087e-04\n",
      " 1.1048137e-06 6.0524739e-04 3.3090153e-05 6.7704481e-05 5.7596545e-04\n",
      " 2.3195554e-02 1.9636702e-05 5.1153995e-07 1.2485913e-04 5.3889448e-06\n",
      " 2.9967619e-05 6.8823225e-05 1.1366028e-01 2.7763149e-06 3.8618570e-08\n",
      " 2.3548587e-03 3.0755985e-04 7.7105373e-02 4.5524269e-01 4.0670307e-05\n",
      " 3.3822407e-03 3.9099145e-04 3.6113858e-04 1.1139765e-05 8.4644796e-07\n",
      " 8.1772795e-03 1.8135695e-03 3.0827183e-01 1.3721171e-03 1.7961779e-03\n",
      " 2.4556471e-06]\n",
      "23\n",
      "23\n"
     ]
    }
   ],
   "source": [
    "print(predictions[0],\n",
    "      np.argmax(predictions[0]),\n",
    "      test_labels[0],\n",
    "      sep='\\n')"
   ]
  },
  {
   "cell_type": "code",
   "execution_count": null,
   "metadata": {
    "id": "BycawaX4LQpZ"
   },
   "outputs": [],
   "source": []
  },
  {
   "cell_type": "code",
   "execution_count": null,
   "metadata": {
    "id": "quWDZXfFRBgF"
   },
   "outputs": [],
   "source": []
  }
 ],
 "metadata": {
  "colab": {
   "collapsed_sections": [],
   "name": "13_lesson_3_my_solution.ipynb",
   "provenance": []
  },
  "kernelspec": {
   "display_name": "Python 3 (ipykernel)",
   "language": "python",
   "name": "python3"
  },
  "language_info": {
   "codemirror_mode": {
    "name": "ipython",
    "version": 3
   },
   "file_extension": ".py",
   "mimetype": "text/x-python",
   "name": "python",
   "nbconvert_exporter": "python",
   "pygments_lexer": "ipython3",
   "version": "3.9.12"
  },
  "toc": {
   "base_numbering": 1,
   "nav_menu": {},
   "number_sections": false,
   "sideBar": true,
   "skip_h1_title": false,
   "title_cell": "Table of Contents",
   "title_sidebar": "Contents",
   "toc_cell": false,
   "toc_position": {},
   "toc_section_display": true,
   "toc_window_display": false
  },
  "varInspector": {
   "cols": {
    "lenName": 16,
    "lenType": 16,
    "lenVar": 40
   },
   "kernels_config": {
    "python": {
     "delete_cmd_postfix": "",
     "delete_cmd_prefix": "del ",
     "library": "var_list.py",
     "varRefreshCmd": "print(var_dic_list())"
    },
    "r": {
     "delete_cmd_postfix": ") ",
     "delete_cmd_prefix": "rm(",
     "library": "var_list.r",
     "varRefreshCmd": "cat(var_dic_list()) "
    }
   },
   "types_to_exclude": [
    "module",
    "function",
    "builtin_function_or_method",
    "instance",
    "_Feature"
   ],
   "window_display": false
  }
 },
 "nbformat": 4,
 "nbformat_minor": 1
}
