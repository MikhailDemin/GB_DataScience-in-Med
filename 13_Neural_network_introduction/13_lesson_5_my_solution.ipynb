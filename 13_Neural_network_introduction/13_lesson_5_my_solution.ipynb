{
 "cells": [
  {
   "cell_type": "markdown",
   "metadata": {
    "id": "CDj2yRbG5bNd"
   },
   "source": [
    "# Урок 5. Рекуррентные нейронные сети\n",
    "# Домашнее задание"
   ]
  },
  {
   "cell_type": "code",
   "execution_count": null,
   "metadata": {
    "id": "6g6mArOh5bNh"
   },
   "outputs": [],
   "source": [
    "# importing the tensorflow package\n",
    "import tensorflow as tf"
   ]
  },
  {
   "cell_type": "code",
   "execution_count": null,
   "metadata": {
    "colab": {
     "base_uri": "https://localhost:8080/"
    },
    "executionInfo": {
     "elapsed": 20,
     "status": "ok",
     "timestamp": 1655541428260,
     "user": {
      "displayName": "Михаил Демин",
      "userId": "14250540086915616791"
     },
     "user_tz": -600
    },
    "id": "ZcYld9Hb5bNj",
    "outputId": "4170ae27-39ac-407d-c59d-a6625fb2a6c1"
   },
   "outputs": [
    {
     "data": {
      "text/plain": [
       "True"
      ]
     },
     "execution_count": 2,
     "metadata": {},
     "output_type": "execute_result"
    }
   ],
   "source": [
    "tf.test.is_built_with_cuda()"
   ]
  },
  {
   "cell_type": "code",
   "execution_count": null,
   "metadata": {
    "colab": {
     "base_uri": "https://localhost:8080/"
    },
    "executionInfo": {
     "elapsed": 15,
     "status": "ok",
     "timestamp": 1655541428260,
     "user": {
      "displayName": "Михаил Демин",
      "userId": "14250540086915616791"
     },
     "user_tz": -600
    },
    "id": "nxBta3oR5bNk",
    "outputId": "07f7af3b-d74a-4394-e057-f82bc7b4c8c3"
   },
   "outputs": [
    {
     "data": {
      "text/plain": [
       "[PhysicalDevice(name='/physical_device:GPU:0', device_type='GPU')]"
      ]
     },
     "execution_count": 3,
     "metadata": {},
     "output_type": "execute_result"
    }
   ],
   "source": [
    "tf.config.list_physical_devices('GPU')"
   ]
  },
  {
   "cell_type": "markdown",
   "metadata": {
    "id": "n_cvCYGD5bNk"
   },
   "source": [
    "### <span class=\"burk\">Задание 1.</span>\n",
    "**Попробуйте изменить параметры нейронной сети, работающей с датасетом ```imdb```, либо\n",
    "нейронной сети, работающей ```airline-passengers``` (она прилагается вместе с датасетом к\n",
    "уроку в виде отдельного скрипта) так, чтобы улучшить её точность. Приложите анализ.**"
   ]
  },
  {
   "cell_type": "markdown",
   "metadata": {
    "id": "xiq0R-hnCu7j"
   },
   "source": [
    "## IMDB reviews (keras)"
   ]
  },
  {
   "cell_type": "code",
   "execution_count": null,
   "metadata": {
    "id": "ch2IbkRVCI8P"
   },
   "outputs": [],
   "source": [
    "from __future__ import print_function\n",
    "\n",
    "from tensorflow.keras.preprocessing import sequence\n",
    "from tensorflow.keras.models import Sequential\n",
    "from tensorflow.keras.layers import Dense, Embedding\n",
    "from tensorflow.keras.layers import LSTM\n",
    "from tensorflow.keras.datasets import imdb"
   ]
  },
  {
   "cell_type": "code",
   "execution_count": null,
   "metadata": {
    "id": "2OjBlxbTC3Nx"
   },
   "outputs": [],
   "source": [
    "max_features = 100000\n",
    "\n",
    "# обрезание текстов после данного количества слов (среди top max_features наиболее используемые слова)\n",
    "maxlen = 150\n",
    "batch_size = 300 # увеличьте значение для ускорения обучения"
   ]
  },
  {
   "cell_type": "code",
   "execution_count": null,
   "metadata": {
    "colab": {
     "base_uri": "https://localhost:8080/"
    },
    "executionInfo": {
     "elapsed": 4286,
     "status": "ok",
     "timestamp": 1655541505698,
     "user": {
      "displayName": "Михаил Демин",
      "userId": "14250540086915616791"
     },
     "user_tz": -600
    },
    "id": "2qU_kiLbC2jK",
    "outputId": "2dad0c8f-3f20-4fc8-eaec-daf093e2897e"
   },
   "outputs": [
    {
     "name": "stdout",
     "output_type": "stream",
     "text": [
      "Загрузка данных...\n"
     ]
    }
   ],
   "source": [
    "print('Загрузка данных...')\n",
    "(x_train, y_train), (x_test, y_test) = imdb.load_data(num_words=max_features)"
   ]
  },
  {
   "cell_type": "code",
   "execution_count": null,
   "metadata": {
    "colab": {
     "base_uri": "https://localhost:8080/"
    },
    "executionInfo": {
     "elapsed": 335,
     "status": "ok",
     "timestamp": 1655541507816,
     "user": {
      "displayName": "Михаил Демин",
      "userId": "14250540086915616791"
     },
     "user_tz": -600
    },
    "id": "AOZFkPNn5bNn",
    "outputId": "2e16a3d2-2638-491b-c078-4e07f5c9904c"
   },
   "outputs": [
    {
     "data": {
      "text/plain": [
       "[1,\n",
       " 14,\n",
       " 22,\n",
       " 16,\n",
       " 43,\n",
       " 530,\n",
       " 973,\n",
       " 1622,\n",
       " 1385,\n",
       " 65,\n",
       " 458,\n",
       " 4468,\n",
       " 66,\n",
       " 3941,\n",
       " 4,\n",
       " 173,\n",
       " 36,\n",
       " 256,\n",
       " 5,\n",
       " 25,\n",
       " 100,\n",
       " 43,\n",
       " 838,\n",
       " 112,\n",
       " 50,\n",
       " 670,\n",
       " 22665,\n",
       " 9,\n",
       " 35,\n",
       " 480,\n",
       " 284,\n",
       " 5,\n",
       " 150,\n",
       " 4,\n",
       " 172,\n",
       " 112,\n",
       " 167,\n",
       " 21631,\n",
       " 336,\n",
       " 385,\n",
       " 39,\n",
       " 4,\n",
       " 172,\n",
       " 4536,\n",
       " 1111,\n",
       " 17,\n",
       " 546,\n",
       " 38,\n",
       " 13,\n",
       " 447,\n",
       " 4,\n",
       " 192,\n",
       " 50,\n",
       " 16,\n",
       " 6,\n",
       " 147,\n",
       " 2025,\n",
       " 19,\n",
       " 14,\n",
       " 22,\n",
       " 4,\n",
       " 1920,\n",
       " 4613,\n",
       " 469,\n",
       " 4,\n",
       " 22,\n",
       " 71,\n",
       " 87,\n",
       " 12,\n",
       " 16,\n",
       " 43,\n",
       " 530,\n",
       " 38,\n",
       " 76,\n",
       " 15,\n",
       " 13,\n",
       " 1247,\n",
       " 4,\n",
       " 22,\n",
       " 17,\n",
       " 515,\n",
       " 17,\n",
       " 12,\n",
       " 16,\n",
       " 626,\n",
       " 18,\n",
       " 19193,\n",
       " 5,\n",
       " 62,\n",
       " 386,\n",
       " 12,\n",
       " 8,\n",
       " 316,\n",
       " 8,\n",
       " 106,\n",
       " 5,\n",
       " 4,\n",
       " 2223,\n",
       " 5244,\n",
       " 16,\n",
       " 480,\n",
       " 66,\n",
       " 3785,\n",
       " 33,\n",
       " 4,\n",
       " 130,\n",
       " 12,\n",
       " 16,\n",
       " 38,\n",
       " 619,\n",
       " 5,\n",
       " 25,\n",
       " 124,\n",
       " 51,\n",
       " 36,\n",
       " 135,\n",
       " 48,\n",
       " 25,\n",
       " 1415,\n",
       " 33,\n",
       " 6,\n",
       " 22,\n",
       " 12,\n",
       " 215,\n",
       " 28,\n",
       " 77,\n",
       " 52,\n",
       " 5,\n",
       " 14,\n",
       " 407,\n",
       " 16,\n",
       " 82,\n",
       " 10311,\n",
       " 8,\n",
       " 4,\n",
       " 107,\n",
       " 117,\n",
       " 5952,\n",
       " 15,\n",
       " 256,\n",
       " 4,\n",
       " 31050,\n",
       " 7,\n",
       " 3766,\n",
       " 5,\n",
       " 723,\n",
       " 36,\n",
       " 71,\n",
       " 43,\n",
       " 530,\n",
       " 476,\n",
       " 26,\n",
       " 400,\n",
       " 317,\n",
       " 46,\n",
       " 7,\n",
       " 4,\n",
       " 12118,\n",
       " 1029,\n",
       " 13,\n",
       " 104,\n",
       " 88,\n",
       " 4,\n",
       " 381,\n",
       " 15,\n",
       " 297,\n",
       " 98,\n",
       " 32,\n",
       " 2071,\n",
       " 56,\n",
       " 26,\n",
       " 141,\n",
       " 6,\n",
       " 194,\n",
       " 7486,\n",
       " 18,\n",
       " 4,\n",
       " 226,\n",
       " 22,\n",
       " 21,\n",
       " 134,\n",
       " 476,\n",
       " 26,\n",
       " 480,\n",
       " 5,\n",
       " 144,\n",
       " 30,\n",
       " 5535,\n",
       " 18,\n",
       " 51,\n",
       " 36,\n",
       " 28,\n",
       " 224,\n",
       " 92,\n",
       " 25,\n",
       " 104,\n",
       " 4,\n",
       " 226,\n",
       " 65,\n",
       " 16,\n",
       " 38,\n",
       " 1334,\n",
       " 88,\n",
       " 12,\n",
       " 16,\n",
       " 283,\n",
       " 5,\n",
       " 16,\n",
       " 4472,\n",
       " 113,\n",
       " 103,\n",
       " 32,\n",
       " 15,\n",
       " 16,\n",
       " 5345,\n",
       " 19,\n",
       " 178,\n",
       " 32]"
      ]
     },
     "execution_count": 24,
     "metadata": {},
     "output_type": "execute_result"
    }
   ],
   "source": [
    "x_train[0]"
   ]
  },
  {
   "cell_type": "code",
   "execution_count": null,
   "metadata": {
    "id": "OalQL-JO5bNo"
   },
   "outputs": [],
   "source": [
    "# Retrieve the word index file mapping words to indices\n",
    "word_index = imdb.get_word_index()\n",
    "# Reverse the word index to obtain a dict mapping indices to words\n",
    "inverted_word_index = dict((i, word) for (word, i) in word_index.items())\n",
    "# Decode the first sequence in the dataset\n",
    "decoded_sequence = \" \".join(inverted_word_index[i] for i in x_train[0])"
   ]
  },
  {
   "cell_type": "code",
   "execution_count": null,
   "metadata": {
    "colab": {
     "base_uri": "https://localhost:8080/",
     "height": 139
    },
    "executionInfo": {
     "elapsed": 7,
     "status": "ok",
     "timestamp": 1655541508871,
     "user": {
      "displayName": "Михаил Демин",
      "userId": "14250540086915616791"
     },
     "user_tz": -600
    },
    "id": "q-qGyk7f5bNo",
    "outputId": "24bf679f-59ef-4b17-a1d4-aadc161afa0e"
   },
   "outputs": [
    {
     "data": {
      "application/vnd.google.colaboratory.intrinsic+json": {
       "type": "string"
      },
      "text/plain": [
       "\"the as you with out themselves powerful lets loves their becomes reaching had journalist of lot from anyone to have after out atmosphere never more room titillate it so heart shows to years of every never going villaronga help moments or of every chest visual movie except her was several of enough more with is now current film as you of mine potentially unfortunately of you than him that with out themselves her get for was camp of you movie sometimes movie that with scary but pratfalls to story wonderful that in seeing in character to of 70s musicians with heart had shadows they of here that with her serious to have does when from why what have critics they is you that isn't one will very to as itself with other tricky in of seen over landed for anyone of gilmore's br show's to whether from than out themselves history he name half some br of 'n odd was two most of mean for 1 any an boat she he should is thought frog but of script you not while history he heart to real at barrel but when from one bit then have two of script their with her nobody most that with wasn't to with armed acting watch an for with heartfelt film want an\""
      ]
     },
     "execution_count": 26,
     "metadata": {},
     "output_type": "execute_result"
    }
   ],
   "source": [
    "decoded_sequence"
   ]
  },
  {
   "cell_type": "code",
   "execution_count": null,
   "metadata": {
    "colab": {
     "base_uri": "https://localhost:8080/"
    },
    "executionInfo": {
     "elapsed": 348,
     "status": "ok",
     "timestamp": 1655541510630,
     "user": {
      "displayName": "Михаил Демин",
      "userId": "14250540086915616791"
     },
     "user_tz": -600
    },
    "id": "MtJSwOPDC7__",
    "outputId": "7e410f53-fa5b-4909-9b64-f23db6476be8"
   },
   "outputs": [
    {
     "name": "stdout",
     "output_type": "stream",
     "text": [
      "25000 тренировочные последовательности\n",
      "25000 тестовые последовательности\n"
     ]
    }
   ],
   "source": [
    "print(len(x_train), 'тренировочные последовательности')\n",
    "print(len(x_test), 'тестовые последовательности')"
   ]
  },
  {
   "cell_type": "code",
   "execution_count": null,
   "metadata": {
    "colab": {
     "base_uri": "https://localhost:8080/"
    },
    "executionInfo": {
     "elapsed": 2,
     "status": "ok",
     "timestamp": 1655541511687,
     "user": {
      "displayName": "Михаил Демин",
      "userId": "14250540086915616791"
     },
     "user_tz": -600
    },
    "id": "f-z0-a_pFCwE",
    "outputId": "58beb1b0-7416-41b0-a212-50278a778261"
   },
   "outputs": [
    {
     "data": {
      "text/plain": [
       "218"
      ]
     },
     "execution_count": 28,
     "metadata": {},
     "output_type": "execute_result"
    }
   ],
   "source": [
    "len(x_train[0])"
   ]
  },
  {
   "cell_type": "code",
   "execution_count": null,
   "metadata": {
    "colab": {
     "base_uri": "https://localhost:8080/"
    },
    "executionInfo": {
     "elapsed": 1177,
     "status": "ok",
     "timestamp": 1655541513801,
     "user": {
      "displayName": "Михаил Демин",
      "userId": "14250540086915616791"
     },
     "user_tz": -600
    },
    "id": "CGAsy1MFDEVZ",
    "outputId": "e727a6e8-3c84-4441-f4a7-300565b1350e"
   },
   "outputs": [
    {
     "name": "stdout",
     "output_type": "stream",
     "text": [
      "x_train shape: (25000, 150)\n",
      "x_test shape: (25000, 150)\n"
     ]
    }
   ],
   "source": [
    "x_train = sequence.pad_sequences(x_train, maxlen=maxlen)\n",
    "x_test = sequence.pad_sequences(x_test, maxlen=maxlen)\n",
    "print('x_train shape:', x_train.shape)\n",
    "print('x_test shape:', x_test.shape)"
   ]
  },
  {
   "cell_type": "code",
   "execution_count": null,
   "metadata": {
    "colab": {
     "base_uri": "https://localhost:8080/"
    },
    "executionInfo": {
     "elapsed": 504,
     "status": "ok",
     "timestamp": 1655541515425,
     "user": {
      "displayName": "Михаил Демин",
      "userId": "14250540086915616791"
     },
     "user_tz": -600
    },
    "id": "AfeppVE75bNp",
    "outputId": "4b141e49-165e-4755-e734-998572cea19e"
   },
   "outputs": [
    {
     "data": {
      "text/plain": [
       "100000"
      ]
     },
     "execution_count": 30,
     "metadata": {},
     "output_type": "execute_result"
    }
   ],
   "source": [
    "max_features"
   ]
  },
  {
   "cell_type": "code",
   "execution_count": null,
   "metadata": {
    "id": "s4YPiv4OFQJX"
   },
   "outputs": [],
   "source": [
    "layer = Embedding(max_features, 128)"
   ]
  },
  {
   "cell_type": "code",
   "execution_count": null,
   "metadata": {
    "colab": {
     "base_uri": "https://localhost:8080/"
    },
    "executionInfo": {
     "elapsed": 2,
     "status": "ok",
     "timestamp": 1655541517274,
     "user": {
      "displayName": "Михаил Демин",
      "userId": "14250540086915616791"
     },
     "user_tz": -600
    },
    "id": "e9AmlPFXyIg1",
    "outputId": "71499f9d-cc3b-4421-8d9d-152014285984"
   },
   "outputs": [
    {
     "data": {
      "text/plain": [
       "TensorShape([150, 128])"
      ]
     },
     "execution_count": 32,
     "metadata": {},
     "output_type": "execute_result"
    }
   ],
   "source": [
    "layer(x_train[0]).shape"
   ]
  },
  {
   "cell_type": "code",
   "execution_count": null,
   "metadata": {
    "colab": {
     "base_uri": "https://localhost:8080/"
    },
    "executionInfo": {
     "elapsed": 331,
     "status": "ok",
     "timestamp": 1655541518536,
     "user": {
      "displayName": "Михаил Демин",
      "userId": "14250540086915616791"
     },
     "user_tz": -600
    },
    "id": "SuCf2ixNDJ8m",
    "outputId": "aa0f5d5e-67e5-4d3e-8417-9114d78f3e87"
   },
   "outputs": [
    {
     "name": "stdout",
     "output_type": "stream",
     "text": [
      "Построение модели...\n",
      "WARNING:tensorflow:Layer lstm_1 will not use cuDNN kernels since it doesn't meet the criteria. It will use a generic GPU kernel as fallback when running on GPU.\n"
     ]
    }
   ],
   "source": [
    "print('Построение модели...')\n",
    "model = Sequential()\n",
    "model.add(Embedding(max_features, 128))\n",
    "model.add(LSTM(128, dropout=0.1, recurrent_dropout=0.1))\n",
    "model.add(Dense(1, activation='sigmoid'))"
   ]
  },
  {
   "cell_type": "code",
   "execution_count": null,
   "metadata": {
    "id": "pKTWAEViFOdj"
   },
   "outputs": [],
   "source": [
    "model.compile(loss='binary_crossentropy',\n",
    "              optimizer='adam',\n",
    "              metrics=['accuracy'])"
   ]
  },
  {
   "cell_type": "code",
   "execution_count": null,
   "metadata": {
    "colab": {
     "base_uri": "https://localhost:8080/"
    },
    "executionInfo": {
     "elapsed": 144658,
     "status": "ok",
     "timestamp": 1655541671963,
     "user": {
      "displayName": "Михаил Демин",
      "userId": "14250540086915616791"
     },
     "user_tz": -600
    },
    "id": "STDbV391GfDO",
    "outputId": "0367a075-9fad-481c-8346-6315b8775b40"
   },
   "outputs": [
    {
     "name": "stdout",
     "output_type": "stream",
     "text": [
      "Процесс обучения...\n",
      "Epoch 1/2\n",
      "84/84 [==============================] - 64s 729ms/step - loss: 0.5087 - accuracy: 0.7365 - val_loss: 0.3523 - val_accuracy: 0.8557\n",
      "Epoch 2/2\n",
      "84/84 [==============================] - 59s 702ms/step - loss: 0.2103 - accuracy: 0.9211 - val_loss: 0.3144 - val_accuracy: 0.8662\n"
     ]
    },
    {
     "data": {
      "text/plain": [
       "<keras.callbacks.History at 0x7f05d4ed27d0>"
      ]
     },
     "execution_count": 35,
     "metadata": {},
     "output_type": "execute_result"
    }
   ],
   "source": [
    "print('Процесс обучения...')\n",
    "model.fit(x_train, y_train,\n",
    "          batch_size=batch_size,\n",
    "          epochs=2, # увеличьте при необходимости\n",
    "          validation_data=(x_test, y_test))"
   ]
  },
  {
   "cell_type": "code",
   "execution_count": null,
   "metadata": {
    "colab": {
     "base_uri": "https://localhost:8080/"
    },
    "executionInfo": {
     "elapsed": 5174,
     "status": "ok",
     "timestamp": 1655541677134,
     "user": {
      "displayName": "Михаил Демин",
      "userId": "14250540086915616791"
     },
     "user_tz": -600
    },
    "id": "09mnjJl0GlB7",
    "outputId": "5a4422b9-58f6-42b1-eed3-e73c648666d1"
   },
   "outputs": [
    {
     "name": "stdout",
     "output_type": "stream",
     "text": [
      "84/84 [==============================] - 4s 47ms/step - loss: 0.3144 - accuracy: 0.8662\n"
     ]
    }
   ],
   "source": [
    "score, acc = model.evaluate(x_test, y_test,\n",
    "                            batch_size=batch_size)"
   ]
  },
  {
   "cell_type": "code",
   "execution_count": null,
   "metadata": {
    "colab": {
     "base_uri": "https://localhost:8080/"
    },
    "executionInfo": {
     "elapsed": 12,
     "status": "ok",
     "timestamp": 1655541677135,
     "user": {
      "displayName": "Михаил Демин",
      "userId": "14250540086915616791"
     },
     "user_tz": -600
    },
    "id": "DY6eThlJGnIs",
    "outputId": "47e942b8-fc04-43df-bd04-e3f1981ae58a",
    "scrolled": true
   },
   "outputs": [
    {
     "name": "stdout",
     "output_type": "stream",
     "text": [
      "Результат при тестировании: 0.3144340217113495\n",
      "Тестовая точность: 0.8662400245666504\n"
     ]
    }
   ],
   "source": [
    "print('Результат при тестировании:', score)\n",
    "print('Тестовая точность:', acc)"
   ]
  },
  {
   "cell_type": "markdown",
   "metadata": {
    "id": "6tTXyQjr-djY"
   },
   "source": [
    "### <span class=\"girk\">Выводы:</span>  \n",
    " 1. Удалось повысить точность модели на сете IMDB до 0,86 путём увеличения максимального количества признаков до 100 000. \n",
    " 2. При этом был увеличен ```batch_size``` до 300.\n",
    " 3. Также была увеличена ```max_len``` до 150. \n",
    " 4. Количество эпох было увеличено до 2. Большее количество эпох ведёт к переобучению."
   ]
  },
  {
   "cell_type": "markdown",
   "metadata": {
    "id": "4zEoNaiE5bNs"
   },
   "source": [
    "### <span class=\"burk\">Задание 2.</span>\n",
    "**Попробуйте изменить параметры нейронной сети, генерирующей текст таким образом,\n",
    "чтобы добиться генерации как можно более осмысленного текста. Пришлите лучший\n",
    "текст из получившихся и опишите предпринятые для его получения действия. Можно\n",
    "использовать текст другого произведения.**"
   ]
  },
  {
   "cell_type": "markdown",
   "metadata": {
    "id": "2xLGyQjYG3eq"
   },
   "source": [
    "## Генерация текста на основе ~~книжки «Алиса в стране чудес»~~ статьи о ЯП [Python](https://ru.wikipedia.org/wiki/Python) из Википедии"
   ]
  },
  {
   "cell_type": "code",
   "execution_count": null,
   "metadata": {
    "id": "99v6TBSqHBjU"
   },
   "outputs": [],
   "source": [
    "import numpy as np\n",
    "from tensorflow.keras.layers import Dense, Activation\n",
    "from tensorflow.keras.layers import SimpleRNN, LSTM, GRU\n",
    "from tensorflow.keras.models import Sequential"
   ]
  },
  {
   "cell_type": "code",
   "execution_count": null,
   "metadata": {
    "colab": {
     "base_uri": "https://localhost:8080/"
    },
    "executionInfo": {
     "elapsed": 19869,
     "status": "ok",
     "timestamp": 1655548239944,
     "user": {
      "displayName": "Михаил Демин",
      "userId": "14250540086915616791"
     },
     "user_tz": -600
    },
    "id": "MOrs4ZLnAC7S",
    "outputId": "a88c981a-c9ff-479e-ecb8-d1b3b1683cb4"
   },
   "outputs": [
    {
     "name": "stdout",
     "output_type": "stream",
     "text": [
      "Mounted at /content/drive\n"
     ]
    }
   ],
   "source": [
    "# from google.colab import drive\n",
    "# drive.mount('/content/drive')"
   ]
  },
  {
   "cell_type": "code",
   "execution_count": null,
   "metadata": {
    "id": "0FoMKffgHIyR"
   },
   "outputs": [],
   "source": [
    "# построчное чтение из примера с текстом \n",
    "# with open(\"/content/drive/MyDrive/Colab Notebooks/13_5_files/13_5_python_wikipedia.txt\", 'rb') as _in:\n",
    "with open(\"13_5_files/13_5_python_wikipedia.txt\", 'rb') as _in:\n",
    "    lines = []\n",
    "    for line in _in:\n",
    "        line = line.strip().lower().decode(\"utf8\", \"ignore\")\n",
    "        if len(line) == 0:\n",
    "            continue\n",
    "        lines.append(line)\n",
    "text = \" \".join(lines)\n",
    "chars = set(text)\n",
    "nb_chars = len(chars)"
   ]
  },
  {
   "cell_type": "code",
   "execution_count": null,
   "metadata": {
    "colab": {
     "base_uri": "https://localhost:8080/"
    },
    "executionInfo": {
     "elapsed": 3,
     "status": "ok",
     "timestamp": 1655554483837,
     "user": {
      "displayName": "Михаил Демин",
      "userId": "14250540086915616791"
     },
     "user_tz": -600
    },
    "id": "Qu08wn8GztrM",
    "outputId": "d65fd646-dd0f-46f9-ff46-3ea5caa67ef2"
   },
   "outputs": [
    {
     "data": {
      "text/plain": [
       "150"
      ]
     },
     "execution_count": 46,
     "metadata": {},
     "output_type": "execute_result"
    }
   ],
   "source": [
    "len(chars)"
   ]
  },
  {
   "cell_type": "code",
   "execution_count": null,
   "metadata": {
    "id": "xlcUCnMRHfzk"
   },
   "outputs": [],
   "source": [
    "# создание индекса символов и reverse mapping чтобы передвигаться между значениями numerical\n",
    "# ID and a specific character. The numerical ID will correspond to a column\n",
    "# ID и определенный символ. Numerical ID будет соответсвовать колонке\n",
    "# число при использовании one-hot кодировки для представление входов символов\n",
    "char2index = {c: i for i, c in enumerate(chars)}\n",
    "index2char = {i: c for i, c in enumerate(chars)}"
   ]
  },
  {
   "cell_type": "code",
   "execution_count": null,
   "metadata": {
    "colab": {
     "base_uri": "https://localhost:8080/"
    },
    "executionInfo": {
     "elapsed": 5,
     "status": "ok",
     "timestamp": 1655554484502,
     "user": {
      "displayName": "Михаил Демин",
      "userId": "14250540086915616791"
     },
     "user_tz": -600
    },
    "id": "Md0UCrSu5bNt",
    "outputId": "e089bcb9-7f30-441d-a613-3e628baebac4",
    "scrolled": true
   },
   "outputs": [
    {
     "data": {
      "text/plain": [
       "{0: 'ч',\n",
       " 1: 'ь',\n",
       " 2: 'z',\n",
       " 3: '8',\n",
       " 4: 'р',\n",
       " 5: '/',\n",
       " 6: '–',\n",
       " 7: 'θ',\n",
       " 8: '5',\n",
       " 9: 'Р',\n",
       " 10: ')',\n",
       " 11: 'Э',\n",
       " 12: 'Д',\n",
       " 13: 'b',\n",
       " 14: 'с',\n",
       " 15: 'ю',\n",
       " 16: 'т',\n",
       " 17: 'ф',\n",
       " 18: 'ˈ',\n",
       " 19: 'i',\n",
       " 20: '6',\n",
       " 21: 'Е',\n",
       " 22: '-',\n",
       " 23: 'ъ',\n",
       " 24: 'p',\n",
       " 25: '|',\n",
       " 26: '\\\\',\n",
       " 27: ':',\n",
       " 28: '(',\n",
       " 29: 'е',\n",
       " 30: '3',\n",
       " 31: 'л',\n",
       " 32: '[',\n",
       " 33: 'С',\n",
       " 34: '@',\n",
       " 35: 'Г',\n",
       " 36: 'у',\n",
       " 37: '?',\n",
       " 38: 'ё',\n",
       " 39: ']',\n",
       " 40: 'В',\n",
       " 41: 'я',\n",
       " 42: 'x',\n",
       " 43: 'ш',\n",
       " 44: '_',\n",
       " 45: '>',\n",
       " 46: '—',\n",
       " 47: '№',\n",
       " 48: 'ц',\n",
       " 49: 'd',\n",
       " 50: 'Ж',\n",
       " 51: 'g',\n",
       " 52: 'Ъ',\n",
       " 53: 't',\n",
       " 54: 'ɪ',\n",
       " 55: '0',\n",
       " 56: 'в',\n",
       " 57: 'q',\n",
       " 58: 'б',\n",
       " 59: '+',\n",
       " 60: '9',\n",
       " 61: 'Л',\n",
       " 62: 'щ',\n",
       " 63: '←',\n",
       " 64: '“',\n",
       " 65: 'о',\n",
       " 66: '`',\n",
       " 67: 'и',\n",
       " 68: 'e',\n",
       " 69: '!',\n",
       " 70: 'г',\n",
       " 71: 'п',\n",
       " 72: 'v',\n",
       " 73: 'j',\n",
       " 74: 'И',\n",
       " 75: 'Х',\n",
       " 76: 'm',\n",
       " 77: 'ы',\n",
       " 78: 'д',\n",
       " 79: '\\u200b',\n",
       " 80: 's',\n",
       " 81: ';',\n",
       " 82: 'r',\n",
       " 83: '’',\n",
       " 84: 'u',\n",
       " 85: '®',\n",
       " 86: '2',\n",
       " 87: 'Ч',\n",
       " 88: 'Ц',\n",
       " 89: '#',\n",
       " 90: 'У',\n",
       " 91: '%',\n",
       " 92: '\"',\n",
       " 93: 'к',\n",
       " 94: 'Н',\n",
       " 95: 'й',\n",
       " 96: 'М',\n",
       " 97: '4',\n",
       " 98: 'ʌ',\n",
       " 99: 'з',\n",
       " 100: 'h',\n",
       " 101: 'ə',\n",
       " 102: '1',\n",
       " 103: '&',\n",
       " 104: '…',\n",
       " 105: 'З',\n",
       " 106: ',',\n",
       " 107: '}',\n",
       " 108: 'О',\n",
       " 109: ' ',\n",
       " 110: \"'\",\n",
       " 111: 'Ю',\n",
       " 112: 'Ш',\n",
       " 113: 'k',\n",
       " 114: '»',\n",
       " 115: '\\t',\n",
       " 116: 'l',\n",
       " 117: '{',\n",
       " 118: 'э',\n",
       " 119: 'ж',\n",
       " 120: 'c',\n",
       " 121: 'П',\n",
       " 122: '́',\n",
       " 123: '*',\n",
       " 124: 'Б',\n",
       " 125: 'é',\n",
       " 126: 'К',\n",
       " 127: '.',\n",
       " 128: 'х',\n",
       " 129: '7',\n",
       " 130: '„',\n",
       " 131: '<',\n",
       " 132: '”',\n",
       " 133: 'y',\n",
       " 134: 'ü',\n",
       " 135: 'f',\n",
       " 136: 'o',\n",
       " 137: 'Я',\n",
       " 138: 'Т',\n",
       " 139: 'а',\n",
       " 140: 'ő',\n",
       " 141: 'n',\n",
       " 142: 'a',\n",
       " 143: 'А',\n",
       " 144: 'w',\n",
       " 145: '«',\n",
       " 146: '=',\n",
       " 147: 'н',\n",
       " 148: 'м',\n",
       " 149: 'Ф'}"
      ]
     },
     "execution_count": 48,
     "metadata": {},
     "output_type": "execute_result"
    }
   ],
   "source": [
    "index2char"
   ]
  },
  {
   "cell_type": "code",
   "execution_count": null,
   "metadata": {
    "id": "TQZaEpb-Hlyg"
   },
   "outputs": [],
   "source": [
    "# для удобства выберете фиксированную длину последовательность 10 символов \n",
    "SEQLEN, STEP = 100, 1\n",
    "input_chars, label_chars = [], []\n",
    "\n",
    "# конвертация data в серии разных SEQLEN-length субпоследовательностей\n",
    "for i in range(0, len(text) - SEQLEN, STEP):\n",
    "    input_chars.append(text[i: i + SEQLEN])\n",
    "    label_chars.append(text[i + SEQLEN])"
   ]
  },
  {
   "cell_type": "code",
   "execution_count": null,
   "metadata": {
    "colab": {
     "base_uri": "https://localhost:8080/"
    },
    "executionInfo": {
     "elapsed": 2,
     "status": "ok",
     "timestamp": 1655554567556,
     "user": {
      "displayName": "Михаил Демин",
      "userId": "14250540086915616791"
     },
     "user_tz": -600
    },
    "id": "xitb8Bzj5bNt",
    "outputId": "394972ea-1547-4e89-9384-e5e99dcd2d25"
   },
   "outputs": [
    {
     "data": {
      "text/plain": [
       "116429"
      ]
     },
     "execution_count": 54,
     "metadata": {},
     "output_type": "execute_result"
    }
   ],
   "source": [
    "len(input_chars)"
   ]
  },
  {
   "cell_type": "code",
   "execution_count": null,
   "metadata": {
    "colab": {
     "base_uri": "https://localhost:8080/"
    },
    "executionInfo": {
     "elapsed": 357,
     "status": "ok",
     "timestamp": 1655554572038,
     "user": {
      "displayName": "Михаил Демин",
      "userId": "14250540086915616791"
     },
     "user_tz": -600
    },
    "id": "BEMyktdvHqjc",
    "outputId": "fc6431ca-c0bc-4322-f29a-ea7bed1ed81f"
   },
   "outputs": [
    {
     "data": {
      "text/plain": [
       "('python Материал из Википедии — свободной энциклопедии Текущая версия страницы пока не проверялась оп',\n",
       " 'ы')"
      ]
     },
     "execution_count": 55,
     "metadata": {},
     "output_type": "execute_result"
    }
   ],
   "source": [
    "input_chars[0], label_chars[0]"
   ]
  },
  {
   "cell_type": "code",
   "execution_count": null,
   "metadata": {
    "colab": {
     "base_uri": "https://localhost:8080/"
    },
    "executionInfo": {
     "elapsed": 358,
     "status": "ok",
     "timestamp": 1655554580555,
     "user": {
      "displayName": "Михаил Демин",
      "userId": "14250540086915616791"
     },
     "user_tz": -600
    },
    "id": "9F663JydpkOv",
    "outputId": "62534ae2-cbb5-4ee4-bd10-28861ef44919"
   },
   "outputs": [
    {
     "data": {
      "text/plain": [
       "('ython Материал из Википедии — свободной энциклопедии Текущая версия страницы пока не проверялась опы',\n",
       " 'т')"
      ]
     },
     "execution_count": 56,
     "metadata": {},
     "output_type": "execute_result"
    }
   ],
   "source": [
    "input_chars[1], label_chars[1]"
   ]
  },
  {
   "cell_type": "code",
   "execution_count": null,
   "metadata": {
    "colab": {
     "base_uri": "https://localhost:8080/"
    },
    "executionInfo": {
     "elapsed": 5643,
     "status": "ok",
     "timestamp": 1655554587669,
     "user": {
      "displayName": "Михаил Демин",
      "userId": "14250540086915616791"
     },
     "user_tz": -600
    },
    "id": "9L3y9LfmHywZ",
    "outputId": "6a7a72ac-380f-49a3-a3b7-8076b1b6b446"
   },
   "outputs": [
    {
     "name": "stderr",
     "output_type": "stream",
     "text": [
      "/usr/local/lib/python3.7/dist-packages/ipykernel_launcher.py:3: DeprecationWarning: `np.bool` is a deprecated alias for the builtin `bool`. To silence this warning, use `bool` by itself. Doing this will not modify any behavior and is safe. If you specifically wanted the numpy scalar type, use `np.bool_` here.\n",
      "Deprecated in NumPy 1.20; for more details and guidance: https://numpy.org/devdocs/release/1.20.0-notes.html#deprecations\n",
      "  This is separate from the ipykernel package so we can avoid doing imports until\n",
      "/usr/local/lib/python3.7/dist-packages/ipykernel_launcher.py:4: DeprecationWarning: `np.bool` is a deprecated alias for the builtin `bool`. To silence this warning, use `bool` by itself. Doing this will not modify any behavior and is safe. If you specifically wanted the numpy scalar type, use `np.bool_` here.\n",
      "Deprecated in NumPy 1.20; for more details and guidance: https://numpy.org/devdocs/release/1.20.0-notes.html#deprecations\n",
      "  after removing the cwd from sys.path.\n"
     ]
    }
   ],
   "source": [
    "# Вычисление one-hot encoding входных последовательностей X и следующего символа (the label) y\n",
    "\n",
    "X = np.zeros((len(input_chars), SEQLEN, nb_chars), dtype=np.bool)\n",
    "y = np.zeros((len(input_chars), nb_chars), dtype=np.bool)\n",
    "for i, input_char in enumerate(input_chars):\n",
    "    for j, ch in enumerate(input_char):\n",
    "        X[i, j, char2index[ch]] = 1\n",
    "    y[i, char2index[label_chars[i]]] = 1"
   ]
  },
  {
   "cell_type": "code",
   "execution_count": null,
   "metadata": {
    "colab": {
     "base_uri": "https://localhost:8080/"
    },
    "executionInfo": {
     "elapsed": 347,
     "status": "ok",
     "timestamp": 1655554618149,
     "user": {
      "displayName": "Михаил Демин",
      "userId": "14250540086915616791"
     },
     "user_tz": -600
    },
    "id": "5nOR3uhO5bNu",
    "outputId": "95b7a666-f622-4267-8de5-082219e95576"
   },
   "outputs": [
    {
     "data": {
      "text/plain": [
       "(116429, 100, 150)"
      ]
     },
     "execution_count": 59,
     "metadata": {},
     "output_type": "execute_result"
    }
   ],
   "source": [
    "X.shape"
   ]
  },
  {
   "cell_type": "code",
   "execution_count": null,
   "metadata": {
    "id": "FWqwrcHiH6gw"
   },
   "outputs": [],
   "source": [
    "# установка ряда метапамертров  для нейронной сети и процесса тренировки\n",
    "BATCH_SIZE, HIDDEN_SIZE = 256, 256\n",
    "NUM_ITERATIONS = 25 # 25 должно быть достаточно\n",
    "NUM_EPOCHS_PER_ITERATION = 2\n",
    "NUM_PREDS_PER_EPOCH = 100"
   ]
  },
  {
   "cell_type": "code",
   "execution_count": null,
   "metadata": {
    "colab": {
     "base_uri": "https://localhost:8080/"
    },
    "executionInfo": {
     "elapsed": 2726,
     "status": "ok",
     "timestamp": 1655554623645,
     "user": {
      "displayName": "Михаил Демин",
      "userId": "14250540086915616791"
     },
     "user_tz": -600
    },
    "id": "XOhbTKqmIApm",
    "outputId": "6c68e20e-a3b3-4f3c-d15b-57db6d283c3c"
   },
   "outputs": [
    {
     "name": "stdout",
     "output_type": "stream",
     "text": [
      "WARNING:tensorflow:Layer gru_4 will not use cuDNN kernels since it doesn't meet the criteria. It will use a generic GPU kernel as fallback when running on GPU.\n",
      "WARNING:tensorflow:Layer gru_5 will not use cuDNN kernels since it doesn't meet the criteria. It will use a generic GPU kernel as fallback when running on GPU.\n"
     ]
    }
   ],
   "source": [
    "'''\n",
    "Создание очень простой рекуррентной нейронной сети. В ней будет один реккурентный закодированный входной слой. \n",
    "За ним последует полносвязный слой связанный с набором возможных следующих символов, \n",
    "которые конвертированы в вероятностные результаты через стандартную softmax активацию \n",
    "с multi-class cross-encoding loss функцию ссылающуются на предсказание one-hot encoding лейбл символа\n",
    "'''\n",
    "\n",
    "model = Sequential()\n",
    "model.add(\n",
    "    GRU(  # вы можете изменить эту часть на LSTM или SimpleRNN, чтобы попробовать альтернативы\n",
    "        HIDDEN_SIZE,\n",
    "        return_sequences=True,\n",
    "        input_shape=(SEQLEN, nb_chars),\n",
    "        unroll=True\n",
    "    )\n",
    ")\n",
    "\n",
    "model.add(\n",
    "    GRU(  # вы можете изменить эту часть на LSTM или SimpleRNN, чтобы попробовать альтернативы\n",
    "        HIDDEN_SIZE,\n",
    "        return_sequences=False,\n",
    "        unroll=True\n",
    "    )\n",
    ")\n",
    "\n",
    "model.add(Dense(nb_chars))\n",
    "model.add(Activation(\"softmax\"))\n",
    "model.compile(loss=\"categorical_crossentropy\", optimizer=\"rmsprop\")"
   ]
  },
  {
   "cell_type": "code",
   "execution_count": null,
   "metadata": {
    "colab": {
     "base_uri": "https://localhost:8080/"
    },
    "executionInfo": {
     "elapsed": 2540412,
     "status": "ok",
     "timestamp": 1655557164432,
     "user": {
      "displayName": "Михаил Демин",
      "userId": "14250540086915616791"
     },
     "user_tz": -600
    },
    "id": "CsGE7YUdITrA",
    "outputId": "f135ff59-7887-470e-f2c5-142063257a42",
    "scrolled": true
   },
   "outputs": [
    {
     "name": "stdout",
     "output_type": "stream",
     "text": [
      "==================================================\n",
      "Итерация #: 0\n",
      "Epoch 1/2\n",
      "455/455 [==============================] - 81s 94ms/step - loss: 2.7670\n",
      "Epoch 2/2\n",
      "455/455 [==============================] - 42s 92ms/step - loss: 2.0702\n",
      "Генерация из посева: ямо из среды разработки. Распространяется бесплатно, лицензия gnu gpl v3. pycharm — полнофункциональ\n",
      "ямо из среды разработки. Распространяется бесплатно, лицензия gnu gpl v3. pycharm — полнофункциональности на python программирования с модерже с программирования с модерже с программирования с модерже==================================================\n",
      "Итерация #: 1\n",
      "Epoch 1/2\n",
      "455/455 [==============================] - 46s 100ms/step - loss: 1.8010\n",
      "Epoch 2/2\n",
      "455/455 [==============================] - 42s 93ms/step - loss: 1.6228\n",
      "Генерация из посева: вано 2 июня 2009 года. pep 373 -- python 2.7 release schedule. python.org. Дата обращения: 9 января \n",
      "вано 2 июня 2009 года. pep 373 -- python 2.7 release schedule. python.org. Дата обращения: 9 января 2021 года. python software for intere for intere for intere for intere for intere for intere for int==================================================\n",
      "Итерация #: 2\n",
      "Epoch 1/2\n",
      "455/455 [==============================] - 42s 91ms/step - loss: 1.4906\n",
      "Epoch 2/2\n",
      "455/455 [==============================] - 42s 92ms/step - loss: 1.3822\n",
      "Генерация из посева: ующего их программиста. Необходимые для интроспекции данные хранятся в специальных атрибутах. Так, н\n",
      "ующего их программиста. Необходимые для интроспекции данные хранятся в специальных атрибутах. Так, на python применяется в строкой и модуля для python в отличие от быть операции в отличием и модуля дл==================================================\n",
      "Итерация #: 3\n",
      "Epoch 1/2\n",
      "455/455 [==============================] - 42s 91ms/step - loss: 1.2927\n",
      "Epoch 2/2\n",
      "455/455 [==============================] - 41s 90ms/step - loss: 1.2127\n",
      "Генерация из посева: box также активно применяется python, а из-за сложностей динамической типизации и огромного количест\n",
      "box также активно применяется python, а из-за сложностей динамической типизации и огромного количество исполнения кода и получения объектами и объектами и объектами и объектами и объектами и объектами==================================================\n",
      "Итерация #: 4\n",
      "Epoch 1/2\n",
      "455/455 [==============================] - 41s 90ms/step - loss: 1.1386\n",
      "Epoch 2/2\n",
      "455/455 [==============================] - 42s 93ms/step - loss: 1.0693\n",
      "Генерация из посева: cosystem, sd times (12.02.2021). Архивировано 25 февраля 2021 года. Дата обращения 4 апреля 2021. we\n",
      "cosystem, sd times (12.02.2021). Архивировано 25 февраля 2021 года. Дата обращения 4 апреля 2021. wey of python enhancement programming in python enhancement proposals (англ.) // international (англ.)==================================================\n",
      "Итерация #: 5\n",
      "Epoch 1/2\n",
      "455/455 [==============================] - 41s 90ms/step - loss: 1.0037\n",
      "Epoch 2/2\n",
      "455/455 [==============================] - 41s 89ms/step - loss: 0.9397\n",
      "Генерация из посева: лжен располагаться специальный раздел. Вы можете помочь проекту, написав этот раздел. Основная стать\n",
      "лжен располагаться специальный раздел. Вы можете помочь проекту, написав этот раздел. Основная статья: jython — реализация python поддержка python по сравнению с python по сравнению с системы и послед==================================================\n",
      "Итерация #: 6\n",
      "Epoch 1/2\n",
      "455/455 [==============================] - 41s 90ms/step - loss: 0.8780\n",
      "Epoch 2/2\n",
      "455/455 [==============================] - 41s 91ms/step - loss: 0.8182\n",
      "Генерация из посева:  и фреймворках python, таких как pyro, ply, cherry, django и др., значительно экономя время использу\n",
      " и фреймворках python, таких как pyro, ply, cherry, django и др., значительно экономя время используется в объекта с помощью расширения и приложений. Поддерживает поддержка полученного разработчика py==================================================\n",
      "Итерация #: 7\n",
      "Epoch 1/2\n",
      "455/455 [==============================] - 41s 89ms/step - loss: 0.7602\n",
      "Epoch 2/2\n",
      "455/455 [==============================] - 41s 90ms/step - loss: 0.7054\n",
      "Генерация из посева:  объекта и класса до первой перезаписи может стать причиной неожиданного эффекта: если в программе м\n",
      " объекта и класса до первой перезаписи может стать причиной неожиданного эффекта: если в программе модуля для работы с ним. Парадигма numpy: # только один азменяемый\tСтроковый тип\t'wiki source method\"==================================================\n",
      "Итерация #: 8\n",
      "Epoch 1/2\n",
      "455/455 [==============================] - 43s 94ms/step - loss: 0.6516\n",
      "Epoch 2/2\n",
      "455/455 [==============================] - 41s 90ms/step - loss: 0.6042\n",
      "Генерация из посева: with \"python\", \"record\" with \"instance\", and \"procedure\" with \"function or method\", and you get a pr\n",
      "with \"python\", \"record\" with \"instance\", and \"procedure\" with \"function or method\", and you get a pretty ach research repuration (10 august 2004). Дата обращения: 11 марта 2021. Архивировано 28 января==================================================\n",
      "Итерация #: 9\n",
      "Epoch 1/2\n",
      "455/455 [==============================] - 42s 92ms/step - loss: 0.5569\n",
      "Epoch 2/2\n",
      "455/455 [==============================] - 43s 95ms/step - loss: 0.5123\n",
      "Генерация из посева: го сообщества пользователей считается, наряду с дизайнерской интуицией Гвидо, одним из факторов успе\n",
      "го сообщества пользователей считается, наряду с дизайнерской интуицией Гвидо, одним из факторов успеха python применение позволяют создавать производные метапрограммирования и программирования и призв==================================================\n",
      "Итерация #: 10\n",
      "Epoch 1/2\n",
      "455/455 [==============================] - 42s 91ms/step - loss: 0.4727\n",
      "Epoch 2/2\n",
      "455/455 [==============================] - 42s 92ms/step - loss: 0.4357\n",
      "Генерация из посева: ществляется оператором import. После импорта модуль представлен отдельным объектом, дающим доступ к \n",
      "ществляется оператором import. После импорта модуль представлен отдельным объектом, дающим доступ к полям (эмуляция только операции вставки и они таких реализаций python имеет удобные программ на кото==================================================\n",
      "Итерация #: 11\n",
      "Epoch 1/2\n",
      "455/455 [==============================] - 42s 91ms/step - loss: 0.4023\n",
      "Epoch 2/2\n",
      "455/455 [==============================] - 42s 92ms/step - loss: 0.3723\n",
      "Генерация из посева: истему python, Издательство «Открытые системы» (02.03.2021). Архивировано 9 июня 2021 года. Дата обр\n",
      "истему python, Издательство «Открытые системы» (02.03.2021). Архивировано 9 июня 2021 года. Дата обращения 4 апреля 2021. egic vessume (англ.). python software foundation. Дата обращения: 19 марта 200==================================================\n",
      "Итерация #: 12\n",
      "Epoch 1/2\n",
      "455/455 [==============================] - 40s 88ms/step - loss: 0.3466\n",
      "Epoch 2/2\n",
      "455/455 [==============================] - 40s 88ms/step - loss: 0.3207\n",
      "Генерация из посева: вободный графический симулятор сети gns3[en], который также хорошо зарекомендовал себя в корпоративн\n",
      "вободный графический симулятор сети gns3[en], который также хорошо зарекомендовал себя в корпоративной среде и использованием наследования. Поэтому если python построен по иногические разных языков пр==================================================\n",
      "Итерация #: 13\n",
      "Epoch 1/2\n",
      "455/455 [==============================] - 40s 88ms/step - loss: 0.3009\n",
      "Epoch 2/2\n",
      "455/455 [==============================] - 41s 90ms/step - loss: 0.2828\n",
      "Генерация из посева: ддержку функционального программирования в традициях Лиспа. Так, в python есть функции filter, map и\n",
      "ддержку функционального программирования в традициях Лиспа. Так, в python есть функции filter, map и reduce; также некоторые другие другие расширений, не обращающихся к данным интерпретатора (gil)[159==================================================\n",
      "Итерация #: 14\n",
      "Epoch 1/2\n",
      "455/455 [==============================] - 40s 89ms/step - loss: 0.2658\n",
      "Epoch 2/2\n",
      "455/455 [==============================] - 40s 89ms/step - loss: 0.2502\n",
      "Генерация из посева: thon. — Москва: Издательство Юрайт, 2022. — 210 с. — (Высшее образование). — isbn 978-5-534-14638-7.\n",
      "thon. — Москва: Издательство Юрайт, 2022. — 210 с. — (Высшее образование). — isbn 978-5-534-14638-7. Ссылки python программы в msil, таким обеспечить этим потокам и работать в качестве записей с неиме==================================================\n",
      "Итерация #: 15\n",
      "Epoch 1/2\n",
      "455/455 [==============================] - 40s 89ms/step - loss: 0.2398\n",
      "Epoch 2/2\n",
      "455/455 [==============================] - 40s 88ms/step - loss: 0.2297\n",
      "Генерация из посева: роен доступ к документации[82](переменная __doc__), что используется современными ide (Интегрированн\n",
      "роен доступ к документации[82](переменная __doc__), что используется современными ide (Интегрированная среда для написания командных файлов ОС. Лёгкость обращения из python-скриптов к внешним программ==================================================\n",
      "Итерация #: 16\n",
      "Epoch 1/2\n",
      "455/455 [==============================] - 41s 90ms/step - loss: 0.2181\n",
      "Epoch 2/2\n",
      "455/455 [==============================] - 40s 88ms/step - loss: 0.2098\n",
      "Генерация из посева: которое уже не отразится на объекте print(obj1.color)        # выводится поле ОБЪЕКТА # Скрипт вывед\n",
      "которое уже не отразится на объекте print(obj1.color)        # выводится поле ОБЪЕКТА # Скрипт выведет: red green blue В применяется языком для выполнения статистических контекства влияной типизацией ==================================================\n",
      "Итерация #: 17\n",
      "Epoch 1/2\n",
      "455/455 [==============================] - 40s 88ms/step - loss: 0.2026\n",
      "Epoch 2/2\n",
      "455/455 [==============================] - 41s 91ms/step - loss: 0.1966\n",
      "Генерация из посева:  фреймворках python, таких как pyro, ply, cherry, django и др., значительно экономя время использующ\n",
      " фреймворках python, таких как pyro, ply, cherry, django и др., значительно экономя время использующего их программиста модулей на основе её черызы спосситствия его применение в программе и привыкли д==================================================\n",
      "Итерация #: 18\n",
      "Epoch 1/2\n",
      "455/455 [==============================] - 40s 88ms/step - loss: 0.1899\n",
      "Epoch 2/2\n",
      "455/455 [==============================] - 41s 90ms/step - loss: 0.1850\n",
      "Генерация из посева:  и python. Дата обращения: 15 мая 2014. Архивировано 18 декабря 2014 года. pyinline: mix other langu\n",
      " и python. Дата обращения: 15 мая 2014. Архивировано 18 декабря 2014 года. pyinline: mix other languages directly inline. developer. artima (13 january 2003). Дата обращения: 24 сентября 2011. Архивир==================================================\n",
      "Итерация #: 19\n",
      "Epoch 1/2\n",
      "455/455 [==============================] - 40s 88ms/step - loss: 0.1799\n",
      "Epoch 2/2\n",
      "455/455 [==============================] - 40s 88ms/step - loss: 0.1746\n",
      "Генерация из посева: imple though an important programming language (англ.) // international research journal of engineer\n",
      "imple though an important programming language (англ.) // international research journal of engineering and technology (irjet). — 2019. — 2 february (vol. 9, iss. 1). — p. 82. — issn 1742-6596 1742-65==================================================\n",
      "Итерация #: 20\n",
      "Epoch 1/2\n",
      "455/455 [==============================] - 41s 91ms/step - loss: 0.1716\n",
      "Epoch 2/2\n",
      "455/455 [==============================] - 40s 89ms/step - loss: 0.1685\n",
      "Генерация из посева: ов дизайна python является принцип наименьшего удивления, критики отмечают целый ряд архитектурных р\n",
      "ов дизайна python является принцип наименьшего удивления, критики отмечают целый ряд архитектурных решений, которые могли бы предложить незначительной степени отдельные и методы[43], также можно менят==================================================\n",
      "Итерация #: 21\n",
      "Epoch 1/2\n",
      "455/455 [==============================] - 41s 90ms/step - loss: 0.1649\n",
      "Epoch 2/2\n",
      "455/455 [==============================] - 41s 90ms/step - loss: 0.1602\n",
      "Генерация из посева: ction            1 6 return_value Имена в языке имеют позднее связывание, в результате чего можно пи\n",
      "ction            1 6 return_value Имена в языке имеют позднее связывание, в результате чего можно писать обращения к переменным, методам и атрибутам, которых ещё нет, но они должны быть закрыты, ресур==================================================\n",
      "Итерация #: 22\n",
      "Epoch 1/2\n",
      "455/455 [==============================] - 42s 91ms/step - loss: 0.1572\n",
      "Epoch 2/2\n",
      "455/455 [==============================] - 41s 89ms/step - loss: 0.1566\n",
      "Генерация из посева: даже применить doctest (англ.) для автоматического тестирования модуля. Парадигмы программирования p\n",
      "даже применить doctest (англ.) для автоматического тестирования модуля. Парадигмы программирования python — мультипартору метода throws (перезаписы языка вызов функций, модули для работы с регулярными==================================================\n",
      "Итерация #: 23\n",
      "Epoch 1/2\n",
      "455/455 [==============================] - 41s 90ms/step - loss: 0.1533\n",
      "Epoch 2/2\n",
      "455/455 [==============================] - 41s 90ms/step - loss: 0.1533\n",
      "Генерация из посева: вместо явной обработки исключений удобнее использовать блок with (доступен, начиная с python 2.5). И\n",
      "вместо явной обработки исключений удобнее использовать блок with (доступен, начиная с python 2.5). Итераторы В программах на python 3[13-] just-0т-2-иa python 3.0 первона подсвлают наследование от бол==================================================\n",
      "Итерация #: 24\n",
      "Epoch 1/2\n",
      "455/455 [==============================] - 40s 88ms/step - loss: 0.1498\n",
      "Epoch 2/2\n",
      "455/455 [==============================] - 41s 90ms/step - loss: 0.1490\n",
      "Генерация из посева: terface). python предоставляет простой и удобный программный интерфейс c api для написания собственн\n",
      "terface). python предоставляет простой и удобный программный интерфейс c api для написания собственных модулей на языках Си и c++. Сайт по разработан к которых операторов достаточно требовательно на п"
     ]
    }
   ],
   "source": [
    "# выполнение серий тренировочных и демонстрационных итераций \n",
    "for iteration in range(NUM_ITERATIONS):\n",
    "\n",
    "    # для каждой итерации запуск передачи данных в модель \n",
    "    print(\"=\" * 50)\n",
    "    print(\"Итерация #: %d\" % (iteration))\n",
    "    model.fit(X, y, batch_size=BATCH_SIZE, epochs=NUM_EPOCHS_PER_ITERATION)\n",
    "\n",
    "    # Select a random example input sequence.\n",
    "    test_idx = np.random.randint(len(input_chars))\n",
    "    test_chars = input_chars[test_idx]\n",
    "\n",
    "    # для числа шагов предсказаний использование текущей тренируемой модели \n",
    "    # конструирование one-hot encoding для тестирования input и добавление предсказания.\n",
    "    print(\"Генерация из посева: %s\" % (test_chars))\n",
    "    print(test_chars, end=\"\")\n",
    "    for i in range(NUM_PREDS_PER_EPOCH):\n",
    "\n",
    "        # здесь one-hot encoding.\n",
    "        X_test = np.zeros((1, SEQLEN, nb_chars))\n",
    "        for j, ch in enumerate(test_chars):\n",
    "            X_test[0, j, char2index[ch]] = 1\n",
    "\n",
    "        # осуществление предсказания с помощью текущей модели.\n",
    "        pred = model.predict(X_test, verbose=0)[0]\n",
    "        y_pred = index2char[np.argmax(pred)]\n",
    "\n",
    "        # вывод предсказания добавленного к тестовому примеру \n",
    "        print(y_pred, end=\"\")\n",
    "\n",
    "        # инкрементация тестового примера содержащего предсказание\n",
    "        test_chars = test_chars[1:] + y_pred"
   ]
  },
  {
   "cell_type": "markdown",
   "metadata": {
    "id": "UU6X7DFL6qaQ"
   },
   "source": [
    "### <span class=\"girk\">Выводы:</span>  \n",
    " 1. Была использована статья из Википедии о ЯП [Python](https://ru.wikipedia.org/wiki/Python)\n",
    " 2. Длина генерируемой последовательности (```seqlen```) была увеличена до 100.\n",
    " 3. ```batch_size``` и ```hidden_size``` увеличены до 256.\n",
    " 4. Количество итераций увеличено до 25, в каждой итерации 2 эпохи.\n",
    " 5. Время обучения модели 42 мин 20 сек.\n",
    " 6. Финальная ошибка составила 0,149."
   ]
  },
  {
   "cell_type": "markdown",
   "metadata": {
    "id": "CfZ4dewS5bNv"
   },
   "source": [
    "### <span class=\"burk\">Задание 3$^*$.</span>\n",
    "**Попробуйте реализовать нейронную сеть архитектуры LSTM на numpy.**"
   ]
  },
  {
   "cell_type": "code",
   "execution_count": 1,
   "metadata": {
    "executionInfo": {
     "elapsed": 604,
     "status": "ok",
     "timestamp": 1655992655780,
     "user": {
      "displayName": "Михаил Демин",
      "userId": "14250540086915616791"
     },
     "user_tz": -600
    },
    "id": "0ct48eIe2jYH"
   },
   "outputs": [],
   "source": [
    "import numpy as np\n",
    "import sys\n",
    "import pandas as pd\n",
    "import datetime\n",
    "import sys\n",
    "import random\n",
    "import time\n",
    "import math\n",
    "from matplotlib import pyplot as plt"
   ]
  },
  {
   "cell_type": "markdown",
   "metadata": {
    "id": "KmI42UHB2jYH"
   },
   "source": [
    "__Реализация LSTM__"
   ]
  },
  {
   "cell_type": "code",
   "execution_count": 2,
   "metadata": {
    "executionInfo": {
     "elapsed": 1811,
     "status": "ok",
     "timestamp": 1655992657589,
     "user": {
      "displayName": "Михаил Демин",
      "userId": "14250540086915616791"
     },
     "user_tz": -600
    },
    "id": "CExu0zb92jYI"
   },
   "outputs": [],
   "source": [
    "class Optimizer:\n",
    "    #USE SAME DEFAULTS AS KERAS ADAM OPTIMIZER\n",
    "    def __init__(self, lr=.1, beta_1=0.9, beta_2=0.999,\n",
    "                 epsilon=0, decay=0., **kwargs):\n",
    "        \n",
    "        allowed_kwargs = {'clipnorm', 'clipvalue'}\n",
    "        for k in kwargs:\n",
    "            if k not in allowed_kwargs:\n",
    "                raise TypeError('Unexpected keyword argument '\n",
    "                                'passed to optimizer: ' + str(k))\n",
    "        self.__dict__.update(kwargs)\n",
    "        self.iterations = 1\n",
    "        self.lr = lr\n",
    "        self.beta_1 = beta_1\n",
    "        self.beta_2 = beta_2\n",
    "        self.decay = decay\n",
    "        self.epsilon = epsilon\n",
    "        self.initial_decay = decay\n",
    "\n",
    "    def get_ADAM(self, params, grads):\n",
    "\n",
    "        original_shapes = [x.shape for x in params]\n",
    "        params = [x.flatten() for x in params]\n",
    "        grads = [x.flatten() for x in grads]\n",
    "        \n",
    "        lr = self.lr\n",
    "        if self.initial_decay > 0:\n",
    "            lr *= (1. / (1. + self.decay * self.iterations))\n",
    "\n",
    "        t = self.iterations + 1\n",
    "        lr_t = lr * (np.sqrt(1. - np.power(self.beta_2, t)) /\n",
    "                     (1. - np.power(self.beta_1, t)))\n",
    "\n",
    "        if not hasattr(self, 'ms'):\n",
    "            self.ms = [np.zeros(p.shape) for p in params]\n",
    "            self.vs = [np.zeros(p.shape) for p in params]\n",
    "    \n",
    "        ret = [None] * len(params)\n",
    "        for i, p, g, m, v in zip(range(len(params)), params, grads, self.ms, self.vs):\n",
    "            m_t = (self.beta_1 * m) + (1. - self.beta_1) * g\n",
    "            v_t = (self.beta_2 * v) + (1. - self.beta_2) * np.square(g)\n",
    "            p_t = p - lr_t * m_t / (np.sqrt(v_t) + self.epsilon)\n",
    "            self.ms[i] = m_t\n",
    "            self.vs[i] = v_t\n",
    "            ret[i] = p_t\n",
    "        self.iterations += 1\n",
    "  \n",
    "        for i in range(len(ret)):\n",
    "            ret[i] = ret[i].reshape(original_shapes[i])\n",
    "\n",
    "        return np.array(ret)\n",
    "\n",
    "\n",
    "    def get_SGD(self, w,p):\n",
    "        for x,y in zip(w,p):\n",
    "                    x+=self.lr*y\n",
    "        return w[0],w[1],w[2],w[3],w[4],w[5],w[6],w[7],w[8],w[9]\n",
    "\n",
    "def sigmoid(x): \n",
    "    return 1. / (1 + np.exp(-x))\n",
    "\n",
    "def sigmoid_derivative(values): \n",
    "    return values*(1-values)\n",
    "\n",
    "def tanh_derivative(values): \n",
    "    return 1. - values ** 2\n",
    "\n",
    "# createst uniform random array w/ values in [a,b) and shape args\n",
    "def rand_arr(a, b, *args): \n",
    "    np.random.seed(0)\n",
    "    return (np.random.rand(*args) * (b - a) + a)*.1\n",
    "\n",
    "class LstmParam:\n",
    "    def __init__(self, mem_cell_ct, x_dim,optimization):\n",
    "        self.mem_cell_ct = mem_cell_ct\n",
    "        self.x_dim = x_dim\n",
    "        concat_len = x_dim + mem_cell_ct\n",
    "        \n",
    "        self.opt=Optimizer()\n",
    "        self.optimization=optimization\n",
    "\n",
    "        # weight matrices\n",
    "        self.wg = rand_arr(-0.1, 0.1, mem_cell_ct, concat_len)\n",
    "        self.wi = rand_arr(-0.1, 0.1, mem_cell_ct, concat_len) \n",
    "        self.wf = rand_arr(-0.1, 0.1, mem_cell_ct, concat_len)\n",
    "        self.wo = rand_arr(-0.1, 0.1, mem_cell_ct, concat_len)\n",
    "\n",
    "        # bias terms\n",
    "        self.bg = rand_arr(-0.1, 0.1, mem_cell_ct) \n",
    "        self.bi = rand_arr(-0.1, 0.1, mem_cell_ct) \n",
    "        self.bf = rand_arr(-0.1, 0.1, mem_cell_ct) \n",
    "        self.bo = rand_arr(-0.1, 0.1, mem_cell_ct)\n",
    "\n",
    "\n",
    "        \n",
    "        # diffs (derivative of loss function w.r.t. all parameters)\n",
    "        self.wg_diff = np.zeros((mem_cell_ct, concat_len)) \n",
    "        self.wi_diff = np.zeros((mem_cell_ct, concat_len)) \n",
    "        self.wf_diff = np.zeros((mem_cell_ct, concat_len)) \n",
    "        self.wo_diff = np.zeros((mem_cell_ct, concat_len)) \n",
    "        self.bg_diff = np.zeros(mem_cell_ct) \n",
    "        self.bi_diff = np.zeros(mem_cell_ct) \n",
    "        self.bf_diff = np.zeros(mem_cell_ct) \n",
    "        self.bo_diff = np.zeros(mem_cell_ct) \n",
    "\n",
    "    def apply_diff(self, lr = .1):\n",
    "        if(self.optimization=='adam'):\n",
    "            self.wg=self.opt.get_ADAM(self.wg,self.wg_diff)\n",
    "            self.wi=self.opt.get_ADAM(np.array(self.wi),np.array(self.wi_diff))\n",
    "            self.wf=self.opt.get_ADAM(np.array(self.wf),np.array(self.wf_diff))\n",
    "            self.wo=self.opt.get_ADAM(np.array(self.wo),np.array(self.wo_diff))\n",
    "\n",
    "        else:\n",
    "            #This is the stochastic gradient descent code\n",
    "            self.wg -= lr * self.wg_diff\n",
    "            self.wi -= lr * self.wi_diff\n",
    "            self.wf -= lr * self.wf_diff\n",
    "            self.wo -= lr * self.wo_diff\n",
    "\n",
    "\n",
    "        \n",
    "        self.bg -= lr * self.bg_diff\n",
    "        self.bi -= lr * self.bi_diff\n",
    "        self.bf -= lr * self.bf_diff\n",
    "        self.bo -= lr * self.bo_diff\n",
    "        \n",
    "        # reset diffs to zero\n",
    "        self.wg_diff = np.zeros_like(self.wg)\n",
    "        self.wi_diff = np.zeros_like(self.wi) \n",
    "        self.wf_diff = np.zeros_like(self.wf) \n",
    "        self.wo_diff = np.zeros_like(self.wo) \n",
    "        self.bg_diff = np.zeros_like(self.bg)\n",
    "        self.bi_diff = np.zeros_like(self.bi) \n",
    "        self.bf_diff = np.zeros_like(self.bf) \n",
    "        self.bo_diff = np.zeros_like(self.bo) \n",
    "\n",
    "class LstmState:\n",
    "    def __init__(self, mem_cell_ct, x_dim):\n",
    "        self.g = np.zeros(mem_cell_ct)\n",
    "        self.i = np.zeros(mem_cell_ct)\n",
    "        self.f = np.zeros(mem_cell_ct)\n",
    "        self.o = np.zeros(mem_cell_ct)\n",
    "        self.s = np.zeros(mem_cell_ct)\n",
    "        self.h = np.zeros(mem_cell_ct)\n",
    "        self.bottom_diff_h = np.zeros_like(self.h)\n",
    "        self.bottom_diff_s = np.zeros_like(self.s)\n",
    "    \n",
    "class LstmNode:\n",
    "    def __init__(self, lstm_param, lstm_state):\n",
    "        # store reference to parameters and to activations\n",
    "        self.state = lstm_state\n",
    "        self.param = lstm_param\n",
    "\n",
    "        # non-recurrent input concatenated with recurrent input\n",
    "        self.xc = None\n",
    "\n",
    "    def bottom_data_is(self, x, s_prev = None, h_prev = None):\n",
    "        # if this is the first lstm node in the network\n",
    "        if s_prev is None: s_prev = np.zeros_like(self.state.s)\n",
    "        if h_prev is None: h_prev = np.zeros_like(self.state.h)\n",
    "        # save data for use in backprop\n",
    "        self.s_prev = s_prev\n",
    "        self.h_prev = h_prev\n",
    "\n",
    "        # concatenate x(t) and h(t-1)\n",
    "        xc = np.hstack((x,  h_prev))\n",
    "        self.state.g = np.tanh(np.dot(self.param.wg, xc) + self.param.bg)\n",
    "        self.state.i = sigmoid(np.dot(self.param.wi, xc) + self.param.bi)\n",
    "        self.state.f = sigmoid(np.dot(self.param.wf, xc) + self.param.bf)\n",
    "        self.state.o = sigmoid(np.dot(self.param.wo, xc) + self.param.bo)\n",
    "        self.state.s = self.state.g * self.state.i + s_prev * self.state.f\n",
    "        self.state.h = self.state.s * self.state.o\n",
    "\n",
    "        self.xc = xc\n",
    "\n",
    "    \n",
    "    def top_diff_is(self, top_diff_h, top_diff_s):\n",
    "        # notice that top_diff_s is carried along the constant error carousel\n",
    "        ds = self.state.o * top_diff_h + top_diff_s\n",
    "        do = self.state.s * top_diff_h\n",
    "        di = self.state.g * ds\n",
    "        dg = self.state.i * ds\n",
    "        df = self.s_prev * ds\n",
    "\n",
    "        # diffs w.r.t. vector inside sigma / tanh function\n",
    "        di_input = sigmoid_derivative(self.state.i) * di \n",
    "        df_input = sigmoid_derivative(self.state.f) * df \n",
    "        do_input = sigmoid_derivative(self.state.o) * do \n",
    "        dg_input = tanh_derivative(self.state.g) * dg\n",
    "\n",
    "        # diffs w.r.t. inputs\n",
    "        self.param.wi_diff += np.outer(di_input, self.xc)\n",
    "        self.param.wf_diff += np.outer(df_input, self.xc)\n",
    "        self.param.wo_diff += np.outer(do_input, self.xc)\n",
    "        self.param.wg_diff += np.outer(dg_input, self.xc)\n",
    "        self.param.bi_diff += di_input\n",
    "        self.param.bf_diff += df_input       \n",
    "        self.param.bo_diff += do_input\n",
    "        self.param.bg_diff += dg_input\n",
    "\n",
    "        #for dparam in [self.param.wi_diff, self.param.wf_diff , self.param.wo_diff, self.param.wg_diff, self.param.bi_diff, self.param.bf_diff, self.param.bo_diff, self.param.bg_diff]:\n",
    "        #    np.clip(dparam, -1, 1, out=dparam)\n",
    "\n",
    "        # compute bottom diff\n",
    "        dxc = np.zeros_like(self.xc)\n",
    "        dxc += np.dot(self.param.wi.T, di_input)\n",
    "        dxc += np.dot(self.param.wf.T, df_input)\n",
    "        dxc += np.dot(self.param.wo.T, do_input)\n",
    "        dxc += np.dot(self.param.wg.T, dg_input)\n",
    "\n",
    "        # save bottom diffs\n",
    "        self.state.bottom_diff_s = ds * self.state.f\n",
    "        self.state.bottom_diff_h = dxc[self.param.x_dim:]\n",
    "\n",
    "class LstmNetwork():\n",
    "    def __init__(self, lstm_param, loss):\n",
    "        self.lstm_param = lstm_param\n",
    "        self.lstm_node_list = []\n",
    "        # input sequence\n",
    "        self.x_list = []\n",
    "        self.loss=loss\n",
    "\n",
    "    def y_list_is(self, y_list, loss_layer):\n",
    "        \"\"\"\n",
    "        Updates diffs by setting target sequence \n",
    "        with corresponding loss layer. \n",
    "        Will *NOT* update parameters.  To update parameters,\n",
    "        call self.lstm_param.apply_diff()\n",
    "        \"\"\"\n",
    "        assert len(y_list) == len(self.x_list)\n",
    "        idx = len(self.x_list) - 1\n",
    "        # first node only gets diffs from label ...\n",
    "        loss = loss_layer.loss(self.lstm_node_list[idx].state.h, y_list[idx],self.loss)\n",
    "\n",
    "        diff_h =loss_layer.bottom_diff(self.lstm_node_list[idx].state.h, y_list[idx])\n",
    "\n",
    "        # here s is not affecting loss due to h(t+1), hence we set equal to zero\n",
    "        diff_s = np.zeros(self.lstm_param.mem_cell_ct)\n",
    "        self.lstm_node_list[idx].top_diff_is(diff_h, diff_s)\n",
    "        idx -= 1\n",
    "\n",
    "        ### ... following nodes also get diffs from next nodes, hence we add diffs to diff_h\n",
    "        ### we also propagate error along constant error carousel using diff_s\n",
    "        while idx >= 0:\n",
    "            loss += loss_layer.loss(self.lstm_node_list[idx].state.h, y_list[idx],self.loss)\n",
    "            diff_h = loss_layer.bottom_diff(self.lstm_node_list[idx].state.h, y_list[idx])\n",
    "            diff_h += self.lstm_node_list[idx + 1].state.bottom_diff_h\n",
    "            diff_s = self.lstm_node_list[idx + 1].state.bottom_diff_s\n",
    "            self.lstm_node_list[idx].top_diff_is(diff_h, diff_s)\n",
    "            idx -= 1 \n",
    "\n",
    "        return loss\n",
    "\n",
    "    def x_list_clear(self):\n",
    "        self.x_list = []\n",
    "\n",
    "    def x_list_add(self, x):\n",
    "        self.x_list.append(x)\n",
    "       # print(self.x_list)\n",
    "        if len(self.x_list) > len(self.lstm_node_list):\n",
    "            # need to add new lstm node, create new state mem\n",
    "            lstm_state = LstmState(self.lstm_param.mem_cell_ct, self.lstm_param.x_dim)\n",
    "            self.lstm_node_list.append(LstmNode(self.lstm_param, lstm_state))\n",
    "\n",
    "        # get index of most recent x input\n",
    "        idx = len(self.x_list) - 1\n",
    "        if idx == 0:\n",
    "            # no recurrent inputs yet\n",
    "            self.lstm_node_list[idx].bottom_data_is(x)\n",
    "        else:\n",
    "            s_prev = self.lstm_node_list[idx - 1].state.s\n",
    "            h_prev = self.lstm_node_list[idx - 1].state.h\n",
    "            self.lstm_node_list[idx].bottom_data_is(x, s_prev, h_prev)\n",
    "\n",
    "\n",
    "\n",
    "class LossLayer:\n",
    "    \"\"\"\n",
    "    Computes square loss with first element of hidden layer array.\n",
    "    MG-Attempted to add in mae loss for comparison, but RMSE and MAE loss performed the same.  \n",
    "    \"\"\"\n",
    "    @classmethod\n",
    "    def loss(self,pred, label,fn):\n",
    "        if(fn=='mae'):\n",
    "            return LossLayer.loss_mae(pred,label)\n",
    "        else:\n",
    "            return LossLayer.loss_rmse(pred,label)\n",
    "    \n",
    "    # MG added mean absolute error\n",
    "    @classmethod\n",
    "    def loss_mae(self, pred, label):\n",
    "        return (np.abs(pred[0]-label))\n",
    "        #return (pred[0] - label) ** 2\n",
    "    \n",
    "    @classmethod\n",
    "    def loss_rmse(self, pred, label):\n",
    "        return (pred[0] - label) ** 2\n",
    "\n",
    "    @classmethod\n",
    "    def bottom_diff(self, pred, label):\n",
    "        diff = np.zeros_like(pred)\n",
    "        diff[0] =2*(pred[0] - label)\n",
    "        return diff\n",
    "\n",
    "\n",
    "\n",
    "def train(loss, optimization):\n",
    "    mem_cell_ct = 50\n",
    "    x_dim = 4\n",
    "    lstm_param = LstmParam(mem_cell_ct, x_dim,optimization)\n",
    "    lstm_net = LstmNetwork(lstm_param,loss)\n",
    "    losses=[]\n",
    "    bestLoss=1e5\n",
    "    print(\"Training...\")\n",
    "    for cur_iter in range(100):\n",
    "       \n",
    "        for ind in range(len(Y)):\n",
    "            lstm_net.x_list_add(X[ind])\n",
    "\n",
    "        if(cur_iter%50==0):\n",
    "            print(\"iter\", \"%2s\" % str(cur_iter), end=\": \")\n",
    "            print(\"y_pred = [\" +\n",
    "                  \", \".join([\"% 2.5f\" % lstm_net.lstm_node_list[ind].state.h[0] for ind in range(len(Y))]) +\n",
    "                  \"]\", end=\", \")\n",
    "\n",
    "        loss = lstm_net.y_list_is(Y, LossLayer)\n",
    "        losses.append(loss)\n",
    "        if(loss<bestLoss):\n",
    "            best_lstm_net = LstmNetwork(lstm_param,loss)\n",
    "            \n",
    "        lstm_param.apply_diff(lr=0.1)\n",
    "        \n",
    "        if(cur_iter%50==0):\n",
    "            print(\"loss:\", \"%.3e\" % loss)\n",
    "\n",
    "        lstm_net.x_list_clear()\n",
    "    \n",
    "    for ind in range(len(Y)):\n",
    "        best_lstm_net.x_list_add(X[ind])   \n",
    "    loss = best_lstm_net.y_list_is(Y, LossLayer)\n",
    "    return losses, [ best_lstm_net.lstm_node_list[ind].state.h[0] for ind in range(len(Y))],loss"
   ]
  },
  {
   "cell_type": "markdown",
   "metadata": {
    "id": "x2eVgoUZ2jYJ"
   },
   "source": [
    "__Проверка работы LSTM с помощью датасета [турбин ветрогенераторов](https://opendata-renewables.engie.com/explore/dataset/d543716b-368d-4c53-8fb1-55addbe8d3ad/information)__"
   ]
  },
  {
   "cell_type": "code",
   "execution_count": 3,
   "metadata": {
    "colab": {
     "base_uri": "https://localhost:8080/"
    },
    "executionInfo": {
     "elapsed": 7,
     "status": "ok",
     "timestamp": 1655992657590,
     "user": {
      "displayName": "Михаил Демин",
      "userId": "14250540086915616791"
     },
     "user_tz": -600
    },
    "id": "G6RsUy922jYK",
    "outputId": "71f3e7c7-9cfa-419e-a191-528010a3a834"
   },
   "outputs": [
    {
     "name": "stdout",
     "output_type": "stream",
     "text": [
      "1.3.5\n"
     ]
    }
   ],
   "source": [
    "print(pd.__version__)"
   ]
  },
  {
   "cell_type": "code",
   "execution_count": 4,
   "metadata": {
    "colab": {
     "base_uri": "https://localhost:8080/"
    },
    "executionInfo": {
     "elapsed": 17505,
     "status": "ok",
     "timestamp": 1655992743161,
     "user": {
      "displayName": "Михаил Демин",
      "userId": "14250540086915616791"
     },
     "user_tz": -600
    },
    "id": "m-wtyKLg25AY",
    "outputId": "0f49ed5c-63c9-436d-c68e-729ebbf598d9"
   },
   "outputs": [
    {
     "name": "stdout",
     "output_type": "stream",
     "text": [
      "Mounted at /content/drive\n"
     ]
    }
   ],
   "source": [
    "# from google.colab import drive\n",
    "# drive.mount('/content/drive')"
   ]
  },
  {
   "cell_type": "code",
   "execution_count": 5,
   "metadata": {
    "executionInfo": {
     "elapsed": 573,
     "status": "ok",
     "timestamp": 1655992879002,
     "user": {
      "displayName": "Михаил Демин",
      "userId": "14250540086915616791"
     },
     "user_tz": -600
    },
    "id": "YoQ4mYG82jYL"
   },
   "outputs": [],
   "source": [
    "def firstTurbineData():\n",
    "    df = pd.read_csv('13_5_files/13_5_la-haute-borne-data-2013-2016.zip', compression='zip', sep=';')\n",
    "#     df = pd.read_csv('/content/drive/MyDrive/Colab Notebooks/13_5_files/13_5_la-haute-borne-data-2013-2016.zip', compression='zip', sep=';')\n",
    "    df['Date_time'] = df['Date_time'].astype(str).str[:-6] #remove timezone (caused me an hour of pain)\n",
    "    df.Date_time=pd.to_datetime(df['Date_time'])\n",
    "    df=df.fillna(method='ffill')\n",
    "\n",
    "    df=df.sort_values(by='Date_time')\n",
    "    df = df.reset_index()\n",
    "    turbines=df.Wind_turbine_name.unique()\n",
    "    print(\"Turbine name: \"+str(turbines[0]))\n",
    "    turbineData=df[df['Wind_turbine_name']==turbines[0]]\n",
    "    return turbineData"
   ]
  },
  {
   "cell_type": "code",
   "execution_count": 6,
   "metadata": {
    "executionInfo": {
     "elapsed": 346,
     "status": "ok",
     "timestamp": 1655992882546,
     "user": {
      "displayName": "Михаил Демин",
      "userId": "14250540086915616791"
     },
     "user_tz": -600
    },
    "id": "qW79NEm82jYL"
   },
   "outputs": [],
   "source": [
    "def createGraph(losses, title):\n",
    "    X = np.arange(0,len(losses))\n",
    "    figure = plt.figure()\n",
    "    tick_plot = figure.add_subplot(1, 1, 1)\n",
    "    tick_plot.plot(X, losses,  color='green', linestyle='-', marker='*' )\n",
    "    plt.xlabel('Iteration')\n",
    "    plt.ylabel('Loss')\n",
    "    plt.title(title)\n",
    "    plt.show()"
   ]
  },
  {
   "cell_type": "code",
   "execution_count": 7,
   "metadata": {
    "colab": {
     "base_uri": "https://localhost:8080/"
    },
    "executionInfo": {
     "elapsed": 27292,
     "status": "ok",
     "timestamp": 1655992911592,
     "user": {
      "displayName": "Михаил Демин",
      "userId": "14250540086915616791"
     },
     "user_tz": -600
    },
    "id": "nWCq0Gtp2jYL",
    "outputId": "a7b89c40-5663-4f16-d65d-da6b793a7166"
   },
   "outputs": [
    {
     "name": "stdout",
     "output_type": "stream",
     "text": [
      "Turbine name: R80721\n"
     ]
    }
   ],
   "source": [
    "np.random.seed(0)\n",
    "date_to_test=datetime.datetime(2016, 1, 1)\n",
    "turbineData=np.sin(firstTurbineData().Wa_c_avg.values)[:10]\n",
    "X=np.array([turbineData[:4],\n",
    "                   turbineData[1:5],\n",
    "                   turbineData[2:6],\n",
    "                   turbineData[3:7],\n",
    "                   turbineData[4:8],\n",
    "                   turbineData[5:9]])\n",
    "Y=np.array([turbineData[4],\n",
    "                   turbineData[5],\n",
    "                   turbineData[6],\n",
    "                   turbineData[7],\n",
    "                   turbineData[8],\n",
    "                   turbineData[9]])"
   ]
  },
  {
   "cell_type": "code",
   "execution_count": 8,
   "metadata": {
    "colab": {
     "base_uri": "https://localhost:8080/",
     "height": 811
    },
    "executionInfo": {
     "elapsed": 1147,
     "status": "ok",
     "timestamp": 1655992918167,
     "user": {
      "displayName": "Михаил Демин",
      "userId": "14250540086915616791"
     },
     "user_tz": -600
    },
    "id": "3gsYADRR2jYL",
    "outputId": "3a376010-2e55-44da-86db-f25b02ea5053"
   },
   "outputs": [
    {
     "name": "stdout",
     "output_type": "stream",
     "text": [
      "Training...\n",
      "iter  0: y_pred = [ 0.00108, -0.00002,  0.00000, -0.00100, -0.00186, -0.00256], loss: 4.310e+00\n",
      "iter 50: y_pred = [-0.66191, -0.71090, -0.89819, -0.91046, -0.25084,  0.32850], loss: 6.103e-01\n",
      "Actual vs Predicted:\n",
      "[-0.74654112 -0.63873121 -0.99740539 -0.98523556 -0.61536436  0.99904773]\n",
      "[-0.6980795278198333, -0.6653296474150135, -1.0782442904093137, -1.0197363139763171, -0.416890582846464, 0.6280927602182216]\n"
     ]
    },
    {
     "data": {
      "image/png": "[encoded data removed]",
      "text/plain": [
       "<Figure size 432x288 with 1 Axes>"
      ]
     },
     "metadata": {
      "needs_background": "light"
     },
     "output_type": "display_data"
    },
    {
     "name": "stdout",
     "output_type": "stream",
     "text": [
      "Training...\n",
      "iter  0: y_pred = [ 0.00108, -0.00002,  0.00000, -0.00100, -0.00186, -0.00256], loss: 4.310e+00\n",
      "iter 50: y_pred = [-0.55828, -0.63017, -0.99232, -1.07980, -0.26594,  0.72508], loss: 2.416e-01\n",
      "Actual vs Predicted:\n",
      "[-0.74654112 -0.63873121 -0.99740539 -0.98523556 -0.61536436  0.99904773]\n",
      "[-0.6597688608475415, -0.6374425449213699, -1.0003941492065804, -0.9904697237226413, -0.3040602009717203, 0.6936808830841577]\n"
     ]
    },
    {
     "data": {
      "image/png": "[encoded data removed]",
      "text/plain": [
       "<Figure size 432x288 with 1 Axes>"
      ]
     },
     "metadata": {
      "needs_background": "light"
     },
     "output_type": "display_data"
    }
   ],
   "source": [
    "losses, predictions,loss=train('rmse','sgd')\n",
    "print(\"Actual vs Predicted:\")\n",
    "print(Y)\n",
    "print(predictions)\n",
    "createGraph(losses,\"SGD Optimization\\nLoss=\"+str(loss))\n",
    "losses, predictions,loss=train('rmse','adam')\n",
    "print(\"Actual vs Predicted:\")\n",
    "print(Y)\n",
    "print(predictions)\n",
    "createGraph(losses,\"Adam Optimization\\nLoss=\"+str(loss))"
   ]
  },
  {
   "cell_type": "markdown",
   "metadata": {
    "id": "MN2D620d2jYL"
   },
   "source": [
    "#### Реализация LSTM с помощью NumPy взята [здесь](https://mattgorb.github.io/lstm_numpy)"
   ]
  },
  {
   "cell_type": "markdown",
   "metadata": {
    "id": "QOJ0J7IP5bNv"
   },
   "source": [
    "### <span class=\"burk\">Задание 4$^*$.</span>\n",
    "**Предложите свои варианты решения проблемы исчезающего градиента в RNN.**  \n",
    " 1. Использование других функций активации (т. н. выпрямители):\n",
    "   * GeLU - Линейная единица измерения ошибки Гаусса\n",
    "   * SiLU - Sigmoid Linear Unit\n",
    "   * softplus\n",
    "   * Параметрическое ReLU\n",
    " 2. Более быстрое оборудование\n",
    " 3. Остаточные нейронные сети\n",
    " 4. Применение алгоритмов не основанных на градиенте"
   ]
  },
  {
   "cell_type": "markdown",
   "metadata": {
    "id": "CNR_gBGoIZUN"
   },
   "source": [
    "__*Комментарии преподавателя:*__<br>\n",
    "*Милена Сокол・Преподаватель<br>*\n",
    "\n",
    "Здравствуйте\n",
    "\n",
    "Спасибо большое, очень хорошая и интересная работа  \n",
    "Хорошо получилось со статьей с вики"
   ]
  },
  {
   "cell_type": "code",
   "execution_count": null,
   "metadata": {},
   "outputs": [],
   "source": []
  }
 ],
 "metadata": {
  "accelerator": "GPU",
  "colab": {
   "collapsed_sections": [
    "4zEoNaiE5bNs"
   ],
   "name": "13_lesson_5_my_solution.ipynb",
   "provenance": []
  },
  "kernelspec": {
   "display_name": "Python 3 (ipykernel)",
   "language": "python",
   "name": "python3"
  },
  "language_info": {
   "codemirror_mode": {
    "name": "ipython",
    "version": 3
   },
   "file_extension": ".py",
   "mimetype": "text/x-python",
   "name": "python",
   "nbconvert_exporter": "python",
   "pygments_lexer": "ipython3",
   "version": "3.9.12"
  },
  "toc": {
   "base_numbering": 1,
   "nav_menu": {},
   "number_sections": false,
   "sideBar": true,
   "skip_h1_title": false,
   "title_cell": "Table of Contents",
   "title_sidebar": "Contents",
   "toc_cell": false,
   "toc_position": {},
   "toc_section_display": true,
   "toc_window_display": false
  },
  "varInspector": {
   "cols": {
    "lenName": 16,
    "lenType": 16,
    "lenVar": 40
   },
   "kernels_config": {
    "python": {
     "delete_cmd_postfix": "",
     "delete_cmd_prefix": "del ",
     "library": "var_list.py",
     "varRefreshCmd": "print(var_dic_list())"
    },
    "r": {
     "delete_cmd_postfix": ") ",
     "delete_cmd_prefix": "rm(",
     "library": "var_list.r",
     "varRefreshCmd": "cat(var_dic_list()) "
    }
   },
   "types_to_exclude": [
    "module",
    "function",
    "builtin_function_or_method",
    "instance",
    "_Feature"
   ],
   "window_display": false
  }
 },
 "nbformat": 4,
 "nbformat_minor": 1
}
