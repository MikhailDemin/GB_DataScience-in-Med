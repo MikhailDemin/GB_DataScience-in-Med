{
 "cells": [
  {
   "cell_type": "markdown",
   "metadata": {
    "id": "zzyo25bnaP30"
   },
   "source": [
    "# Урок 3. TensorFlow\n",
    "# Домашнее задание"
   ]
  },
  {
   "cell_type": "markdown",
   "metadata": {
    "id": "NR2KbuiU2o9l"
   },
   "source": [
    "### <span class=\"burk\">Задание 1.</span>\n",
    "**Имеются два массива с рукописными буквами и с характеристиками вина. Нужно выбрать датасет, возможно, предварительно обработать, создать модель, обучить и проверить точность на тестовом датасете. Напишите свои мысли по поводу результатов.\n",
    "При желании можно рассмотреть оба датасета, можете попробовать применить другие методы машинного обучения, известные вам, и сравнить результаты обучения.**"
   ]
  },
  {
   "cell_type": "markdown",
   "metadata": {
    "id": "M72ajz7tRQuN"
   },
   "source": [
    "## Датасет с винами"
   ]
  },
  {
   "cell_type": "markdown",
   "metadata": {
    "id": "089ZkMffRYu6"
   },
   "source": [
    "https://scikit-learn.org/stable/modules/generated/sklearn.datasets.load_wine.html#sklearn.datasets.load_wine"
   ]
  },
  {
   "cell_type": "code",
   "execution_count": 39,
   "metadata": {
    "executionInfo": {
     "elapsed": 316,
     "status": "ok",
     "timestamp": 1655961230439,
     "user": {
      "displayName": "Михаил Демин",
      "userId": "14250540086915616791"
     },
     "user_tz": -600
    },
    "id": "KGvJto-D-tWG"
   },
   "outputs": [],
   "source": [
    "import tensorflow as tf\n",
    "from tensorflow import keras\n",
    "\n",
    "import numpy as np\n",
    "import matplotlib.pyplot as plt"
   ]
  },
  {
   "cell_type": "code",
   "execution_count": 40,
   "metadata": {
    "executionInfo": {
     "elapsed": 2,
     "status": "ok",
     "timestamp": 1655961231731,
     "user": {
      "displayName": "Михаил Демин",
      "userId": "14250540086915616791"
     },
     "user_tz": -600
    },
    "id": "SkW0cWmmQWEv"
   },
   "outputs": [],
   "source": [
    "from sklearn.datasets import load_wine\n",
    "from sklearn.model_selection import train_test_split\n",
    "from sklearn.preprocessing import StandardScaler\n",
    "from sklearn.metrics import classification_report"
   ]
  },
  {
   "cell_type": "code",
   "execution_count": 41,
   "metadata": {
    "executionInfo": {
     "elapsed": 2,
     "status": "ok",
     "timestamp": 1655961232968,
     "user": {
      "displayName": "Михаил Демин",
      "userId": "14250540086915616791"
     },
     "user_tz": -600
    },
    "id": "bZ6Q96uo-tWJ"
   },
   "outputs": [],
   "source": [
    "def seed_random(seed=123):\n",
    "  # The below is necessary for starting Numpy generated random numbers\n",
    "  # in a well-defined initial state.\n",
    "  np.random.seed(123)\n",
    "\n",
    "  # The below is necessary for starting core Python generated random numbers\n",
    "  # in a well-defined state.\n",
    "  python_random.seed(123)\n",
    "\n",
    "  # The below set_seed() will make random number generation\n",
    "  # in the TensorFlow backend have a well-defined initial state.\n",
    "  # For further details, see:\n",
    "  # https://www.tensorflow.org/api_docs/python/tf/random/set_seed\n",
    "  tf.random.set_seed(1234)"
   ]
  },
  {
   "cell_type": "code",
   "execution_count": 42,
   "metadata": {
    "executionInfo": {
     "elapsed": 3,
     "status": "ok",
     "timestamp": 1655961233303,
     "user": {
      "displayName": "Михаил Демин",
      "userId": "14250540086915616791"
     },
     "user_tz": -600
    },
    "id": "yXhssEenSe8S"
   },
   "outputs": [],
   "source": [
    "data = load_wine()"
   ]
  },
  {
   "cell_type": "code",
   "execution_count": 43,
   "metadata": {
    "executionInfo": {
     "elapsed": 10,
     "status": "ok",
     "timestamp": 1655961233958,
     "user": {
      "displayName": "Михаил Демин",
      "userId": "14250540086915616791"
     },
     "user_tz": -600
    },
    "id": "8YkJMzGJ-tWL"
   },
   "outputs": [],
   "source": [
    "X = data['data']\n",
    "y = data['target']"
   ]
  },
  {
   "cell_type": "code",
   "execution_count": 44,
   "metadata": {
    "colab": {
     "base_uri": "https://localhost:8080/"
    },
    "executionInfo": {
     "elapsed": 9,
     "status": "ok",
     "timestamp": 1655961233958,
     "user": {
      "displayName": "Михаил Демин",
      "userId": "14250540086915616791"
     },
     "user_tz": -600
    },
    "id": "_TcoO6Ci-tWM",
    "outputId": "08309ae9-025e-44f1-9c0f-7c5185d73e2a"
   },
   "outputs": [
    {
     "data": {
      "text/plain": [
       "array([[1.423e+01, 1.710e+00, 2.430e+00, ..., 1.040e+00, 3.920e+00,\n",
       "        1.065e+03],\n",
       "       [1.320e+01, 1.780e+00, 2.140e+00, ..., 1.050e+00, 3.400e+00,\n",
       "        1.050e+03],\n",
       "       [1.316e+01, 2.360e+00, 2.670e+00, ..., 1.030e+00, 3.170e+00,\n",
       "        1.185e+03],\n",
       "       ...,\n",
       "       [1.327e+01, 4.280e+00, 2.260e+00, ..., 5.900e-01, 1.560e+00,\n",
       "        8.350e+02],\n",
       "       [1.317e+01, 2.590e+00, 2.370e+00, ..., 6.000e-01, 1.620e+00,\n",
       "        8.400e+02],\n",
       "       [1.413e+01, 4.100e+00, 2.740e+00, ..., 6.100e-01, 1.600e+00,\n",
       "        5.600e+02]])"
      ]
     },
     "execution_count": 44,
     "metadata": {},
     "output_type": "execute_result"
    }
   ],
   "source": [
    "X"
   ]
  },
  {
   "cell_type": "code",
   "execution_count": 45,
   "metadata": {
    "colab": {
     "base_uri": "https://localhost:8080/"
    },
    "executionInfo": {
     "elapsed": 3,
     "status": "ok",
     "timestamp": 1655961234899,
     "user": {
      "displayName": "Михаил Демин",
      "userId": "14250540086915616791"
     },
     "user_tz": -600
    },
    "id": "DTyfGtPIRjbP",
    "outputId": "af4ec679-8808-488c-bf0c-ddd67807a41e"
   },
   "outputs": [
    {
     "data": {
      "text/plain": [
       "['class_0', 'class_1', 'class_2']"
      ]
     },
     "execution_count": 45,
     "metadata": {},
     "output_type": "execute_result"
    }
   ],
   "source": [
    "list(data.target_names)"
   ]
  },
  {
   "cell_type": "code",
   "execution_count": 46,
   "metadata": {
    "colab": {
     "base_uri": "https://localhost:8080/"
    },
    "executionInfo": {
     "elapsed": 3,
     "status": "ok",
     "timestamp": 1655961236816,
     "user": {
      "displayName": "Михаил Демин",
      "userId": "14250540086915616791"
     },
     "user_tz": -600
    },
    "id": "tvnxIsLpRQGC",
    "outputId": "1583d7f5-623a-4ebf-b415-f66a9ac60e78",
    "scrolled": true
   },
   "outputs": [
    {
     "data": {
      "text/plain": [
       "['alcohol',\n",
       " 'malic_acid',\n",
       " 'ash',\n",
       " 'alcalinity_of_ash',\n",
       " 'magnesium',\n",
       " 'total_phenols',\n",
       " 'flavanoids',\n",
       " 'nonflavanoid_phenols',\n",
       " 'proanthocyanins',\n",
       " 'color_intensity',\n",
       " 'hue',\n",
       " 'od280/od315_of_diluted_wines',\n",
       " 'proline']"
      ]
     },
     "execution_count": 46,
     "metadata": {},
     "output_type": "execute_result"
    }
   ],
   "source": [
    "data.feature_names"
   ]
  },
  {
   "cell_type": "code",
   "execution_count": 47,
   "metadata": {
    "colab": {
     "base_uri": "https://localhost:8080/"
    },
    "executionInfo": {
     "elapsed": 6,
     "status": "ok",
     "timestamp": 1655961237765,
     "user": {
      "displayName": "Михаил Демин",
      "userId": "14250540086915616791"
     },
     "user_tz": -600
    },
    "id": "F6E3WMc2Rl0y",
    "outputId": "0c3d664f-22a7-453d-dab9-5f17e4eef7bd"
   },
   "outputs": [
    {
     "data": {
      "text/plain": [
       "((178, 13), (178,))"
      ]
     },
     "execution_count": 47,
     "metadata": {},
     "output_type": "execute_result"
    }
   ],
   "source": [
    "X.shape, y.shape"
   ]
  },
  {
   "cell_type": "code",
   "execution_count": 48,
   "metadata": {
    "executionInfo": {
     "elapsed": 592,
     "status": "ok",
     "timestamp": 1655961238716,
     "user": {
      "displayName": "Михаил Демин",
      "userId": "14250540086915616791"
     },
     "user_tz": -600
    },
    "id": "YZqtD7GFRsnQ"
   },
   "outputs": [],
   "source": [
    "X_train, X_test, y_train, y_test = train_test_split(X, y, test_size=0.33, shuffle=True, random_state=0)"
   ]
  },
  {
   "cell_type": "code",
   "execution_count": 49,
   "metadata": {
    "colab": {
     "base_uri": "https://localhost:8080/"
    },
    "executionInfo": {
     "elapsed": 2,
     "status": "ok",
     "timestamp": 1655961239722,
     "user": {
      "displayName": "Михаил Демин",
      "userId": "14250540086915616791"
     },
     "user_tz": -600
    },
    "id": "ZI_B1C6FSYFu",
    "outputId": "88052956-b6ad-48da-ca2a-7132b1f09e6e"
   },
   "outputs": [
    {
     "data": {
      "text/plain": [
       "((119, 13), (59, 13), (119,), (59,))"
      ]
     },
     "execution_count": 49,
     "metadata": {},
     "output_type": "execute_result"
    }
   ],
   "source": [
    "X_train.shape, X_test.shape, y_train.shape, y_test.shape"
   ]
  },
  {
   "cell_type": "code",
   "execution_count": 50,
   "metadata": {
    "executionInfo": {
     "elapsed": 355,
     "status": "ok",
     "timestamp": 1655961248313,
     "user": {
      "displayName": "Михаил Демин",
      "userId": "14250540086915616791"
     },
     "user_tz": -600
    },
    "id": "ZRSXktBJ-tWP"
   },
   "outputs": [],
   "source": [
    "scaler = StandardScaler()"
   ]
  },
  {
   "cell_type": "code",
   "execution_count": 54,
   "metadata": {
    "executionInfo": {
     "elapsed": 329,
     "status": "ok",
     "timestamp": 1655961291341,
     "user": {
      "displayName": "Михаил Демин",
      "userId": "14250540086915616791"
     },
     "user_tz": -600
    },
    "id": "YFfyhR74-tWQ"
   },
   "outputs": [],
   "source": [
    "X_train = scaler.fit(X_train).transform(X_train)\n",
    "X_test = scaler.transform(X_test)"
   ]
  },
  {
   "cell_type": "code",
   "execution_count": 56,
   "metadata": {
    "executionInfo": {
     "elapsed": 328,
     "status": "ok",
     "timestamp": 1655961342711,
     "user": {
      "displayName": "Михаил Демин",
      "userId": "14250540086915616791"
     },
     "user_tz": -600
    },
    "id": "3ryE8SFn-tWQ"
   },
   "outputs": [],
   "source": [
    "model = keras.Sequential([\n",
    "    keras.layers.Flatten(input_shape=(13,)),\n",
    "    keras.layers.Dense(500, activation='relu'),\n",
    "    keras.layers.Dense(500, activation='relu'),\n",
    "    keras.layers.Dense(500, activation='relu'),\n",
    "    keras.layers.Dense(3),\n",
    "])"
   ]
  },
  {
   "cell_type": "code",
   "execution_count": 58,
   "metadata": {
    "executionInfo": {
     "elapsed": 352,
     "status": "ok",
     "timestamp": 1655961409591,
     "user": {
      "displayName": "Михаил Демин",
      "userId": "14250540086915616791"
     },
     "user_tz": -600
    },
    "id": "7GwUPuJP-tWQ"
   },
   "outputs": [],
   "source": [
    "model.compile(optimizer=tf.keras.optimizers.Adam(learning_rate=0.001),\n",
    "             loss=tf.keras.losses.SparseCategoricalCrossentropy(from_logits=True),\n",
    "             metrics=['accuracy'])"
   ]
  },
  {
   "cell_type": "code",
   "execution_count": 59,
   "metadata": {
    "colab": {
     "base_uri": "https://localhost:8080/"
    },
    "executionInfo": {
     "elapsed": 1074,
     "status": "ok",
     "timestamp": 1655961413968,
     "user": {
      "displayName": "Михаил Демин",
      "userId": "14250540086915616791"
     },
     "user_tz": -600
    },
    "id": "ebpVdfbN-tWQ",
    "outputId": "8ce7f3ce-f4a8-4d28-e22e-7292fd760d07"
   },
   "outputs": [
    {
     "name": "stdout",
     "output_type": "stream",
     "text": [
      "Epoch 1/9\n",
      "4/4 - 0s - loss: 0.7794 - accuracy: 0.7563 - 491ms/epoch - 123ms/step\n",
      "Epoch 2/9\n",
      "4/4 - 0s - loss: 0.1887 - accuracy: 0.9748 - 37ms/epoch - 9ms/step\n",
      "Epoch 3/9\n",
      "4/4 - 0s - loss: 0.0516 - accuracy: 0.9916 - 42ms/epoch - 11ms/step\n",
      "Epoch 4/9\n",
      "4/4 - 0s - loss: 0.0170 - accuracy: 1.0000 - 38ms/epoch - 10ms/step\n",
      "Epoch 5/9\n",
      "4/4 - 0s - loss: 0.0042 - accuracy: 1.0000 - 42ms/epoch - 11ms/step\n",
      "Epoch 6/9\n",
      "4/4 - 0s - loss: 0.0024 - accuracy: 1.0000 - 44ms/epoch - 11ms/step\n",
      "Epoch 7/9\n",
      "4/4 - 0s - loss: 8.9752e-04 - accuracy: 1.0000 - 35ms/epoch - 9ms/step\n",
      "Epoch 8/9\n",
      "4/4 - 0s - loss: 5.8700e-04 - accuracy: 1.0000 - 35ms/epoch - 9ms/step\n",
      "Epoch 9/9\n",
      "4/4 - 0s - loss: 3.3310e-04 - accuracy: 1.0000 - 40ms/epoch - 10ms/step\n"
     ]
    }
   ],
   "source": [
    "h = model.fit(X_train, y_train, epochs=9, verbose=2)"
   ]
  },
  {
   "cell_type": "code",
   "execution_count": 61,
   "metadata": {
    "executionInfo": {
     "elapsed": 345,
     "status": "ok",
     "timestamp": 1655961427506,
     "user": {
      "displayName": "Михаил Демин",
      "userId": "14250540086915616791"
     },
     "user_tz": -600
    },
    "id": "FlSjQ5-U-tWR"
   },
   "outputs": [],
   "source": [
    "probability_model = tf.keras.Sequential([\n",
    "    model,\n",
    "    tf.keras.layers.Softmax()\n",
    "])\n",
    "\n",
    "predictions = probability_model.predict(X_test)"
   ]
  },
  {
   "cell_type": "code",
   "execution_count": 62,
   "metadata": {
    "colab": {
     "base_uri": "https://localhost:8080/"
    },
    "executionInfo": {
     "elapsed": 337,
     "status": "ok",
     "timestamp": 1655961429740,
     "user": {
      "displayName": "Михаил Демин",
      "userId": "14250540086915616791"
     },
     "user_tz": -600
    },
    "id": "xQ7PjgyB-tWR",
    "outputId": "ffb6dbbe-dda8-4667-f7a3-55a1ad6b5fbe"
   },
   "outputs": [
    {
     "name": "stdout",
     "output_type": "stream",
     "text": [
      "              precision    recall  f1-score   support\n",
      "\n",
      "           0       1.00      1.00      1.00        20\n",
      "           1       1.00      0.96      0.98        24\n",
      "           2       0.94      1.00      0.97        15\n",
      "\n",
      "    accuracy                           0.98        59\n",
      "   macro avg       0.98      0.99      0.98        59\n",
      "weighted avg       0.98      0.98      0.98        59\n",
      "\n"
     ]
    }
   ],
   "source": [
    "print(classification_report(y_test, predictions.argmax(-1)))"
   ]
  },
  {
   "cell_type": "markdown",
   "metadata": {
    "id": "gAqpMfDiSkZ5"
   },
   "source": [
    "# Датасет с рукописными буквами"
   ]
  },
  {
   "cell_type": "markdown",
   "metadata": {
    "id": "m5rHCIuXVrmj"
   },
   "source": [
    "https://www.tensorflow.org/datasets/catalog/binary_alpha_digits"
   ]
  },
  {
   "cell_type": "code",
   "execution_count": null,
   "metadata": {
    "colab": {
     "base_uri": "https://localhost:8080/"
    },
    "executionInfo": {
     "elapsed": 356,
     "status": "ok",
     "timestamp": 1654839006710,
     "user": {
      "displayName": "Михаил Демин",
      "userId": "14250540086915616791"
     },
     "user_tz": -600
    },
    "id": "HJ5kP17IjmW0",
    "outputId": "253afedd-8532-4cd8-8080-6019d33499ce"
   },
   "outputs": [
    {
     "name": "stdout",
     "output_type": "stream",
     "text": [
      "TensorFlow version:  2.8.2\n",
      "Keras version:  2.8.0\n",
      "Matplotlib version:  3.2.2\n",
      "Numpy version:  1.21.6\n",
      "Sci-Kit Learn version:  1.0.2\n"
     ]
    }
   ],
   "source": [
    "# TensorFlow and tf.keras\n",
    "import tensorflow as tf\n",
    "from tensorflow import keras\n",
    "\n",
    "# Helper libraries\n",
    "import numpy as np\n",
    "import matplotlib\n",
    "import matplotlib.pyplot as plt\n",
    "import sklearn\n",
    "from sklearn.model_selection import train_test_split\n",
    "# from sklearn.metrics import classification_report, multilabel_confusion_matrix\n",
    "\n",
    "print(\"TensorFlow version: \", tf.__version__)\n",
    "print(\"Keras version: \", keras.__version__)\n",
    "print(\"Matplotlib version: \", matplotlib.__version__)\n",
    "print(\"Numpy version: \", np.__version__)\n",
    "print(\"Sci-Kit Learn version: \", sklearn.__version__)"
   ]
  },
  {
   "cell_type": "code",
   "execution_count": null,
   "metadata": {
    "colab": {
     "base_uri": "https://localhost:8080/"
    },
    "executionInfo": {
     "elapsed": 2955,
     "status": "ok",
     "timestamp": 1654839010036,
     "user": {
      "displayName": "Михаил Демин",
      "userId": "14250540086915616791"
     },
     "user_tz": -600
    },
    "id": "EKZvyQUBcepr",
    "outputId": "2b656928-f5bd-4f66-d9fa-35be564590d1"
   },
   "outputs": [
    {
     "name": "stdout",
     "output_type": "stream",
     "text": [
      "Drive already mounted at /content/drive; to attempt to forcibly remount, call drive.mount(\"/content/drive\", force_remount=True).\n"
     ]
    }
   ],
   "source": [
    "# from google.colab import drive\n",
    "# drive.mount('/content/drive')"
   ]
  },
  {
   "cell_type": "code",
   "execution_count": null,
   "metadata": {
    "colab": {
     "base_uri": "https://localhost:8080/"
    },
    "executionInfo": {
     "elapsed": 7,
     "status": "ok",
     "timestamp": 1654839010037,
     "user": {
      "displayName": "Михаил Демин",
      "userId": "14250540086915616791"
     },
     "user_tz": -600
    },
    "id": "OMHXQi0ZSimY",
    "outputId": "81a61162-4a1e-4447-cf6b-736eb873563a"
   },
   "outputs": [
    {
     "name": "stdout",
     "output_type": "stream",
     "text": [
      "['0', '1', '2', '3', '4', '5', '6', '7', '8', '9', 'A', 'B', 'C', 'D', 'E', 'F', 'G', 'H', 'I', 'J', 'K', 'L', 'M', 'N', 'O', 'P', 'Q', 'R', 'S', 'T', 'U', 'V', 'W', 'X', 'Y', 'Z']\n"
     ]
    }
   ],
   "source": [
    "classes = [str(i) for i in range(10)] +  list('ABCDEFGHIJKLMNOPQRSTUVWXYZ')\n",
    "print(classes)\n",
    "\n",
    "# X = np.load('/content/drive/MyDrive/Colab Notebooks/13_3_binary_alpha_digits_images.npy')\n",
    "# y = np.load('/content/drive/MyDrive/Colab Notebooks/13_3_binary_alpha_digits_labels.npy')"
   ]
  },
  {
   "cell_type": "code",
   "execution_count": null,
   "metadata": {
    "id": "3s1_yS07-tWS"
   },
   "outputs": [],
   "source": [
    "X = np.load('13_3_binary_alpha_digits_images.npy')\n",
    "Y = np.load('13_3_binary_alpha_digits_labels.npy')"
   ]
  },
  {
   "cell_type": "code",
   "execution_count": null,
   "metadata": {
    "colab": {
     "base_uri": "https://localhost:8080/"
    },
    "executionInfo": {
     "elapsed": 4,
     "status": "ok",
     "timestamp": 1654839010037,
     "user": {
      "displayName": "Михаил Демин",
      "userId": "14250540086915616791"
     },
     "user_tz": -600
    },
    "id": "-KABm1zlKMi-",
    "outputId": "c82446e6-25b5-4f4b-f782-f190a3ea0437"
   },
   "outputs": [
    {
     "data": {
      "text/plain": [
       "((1404, 20, 16), (1404,))"
      ]
     },
     "execution_count": 15,
     "metadata": {},
     "output_type": "execute_result"
    }
   ],
   "source": [
    "X.shape, y.shape"
   ]
  },
  {
   "cell_type": "code",
   "execution_count": null,
   "metadata": {
    "colab": {
     "base_uri": "https://localhost:8080/",
     "height": 353
    },
    "executionInfo": {
     "elapsed": 442,
     "status": "ok",
     "timestamp": 1654839010476,
     "user": {
      "displayName": "Михаил Демин",
      "userId": "14250540086915616791"
     },
     "user_tz": -600
    },
    "id": "4nmyuGLyC3W9",
    "outputId": "30d8d771-b61a-40ea-b845-d073b44dce03"
   },
   "outputs": [
    {
     "data": {
      "image/png": "[encoded data removed]",
      "text/plain": [
       "<Figure size 720x360 with 15 Axes>"
      ]
     },
     "metadata": {},
     "output_type": "display_data"
    }
   ],
   "source": [
    "fig, axes = plt.subplots(3, 5, figsize=(10, 5))\n",
    "fig.suptitle('binary alpha digits', fontsize=20)\n",
    "n = 0\n",
    "for ax in axes.flat:\n",
    "    ax.set_yticks([])\n",
    "    ax.set_xticks([])\n",
    "    ax.imshow(X[n], cmap=plt.cm.binary)\n",
    "    ax.set_xlabel(classes[y[n]])\n",
    "    n += 1"
   ]
  },
  {
   "cell_type": "code",
   "execution_count": null,
   "metadata": {
    "id": "vT0h7llNocV5"
   },
   "outputs": [],
   "source": [
    "train_images, test_images, train_labels, test_labels = train_test_split(X, y,\n",
    "                                                      shuffle=True,\n",
    "                                                      test_size=0.2,\n",
    "                                                      random_state=21,\n",
    "                                                      stratify=y\n",
    "                                                      )"
   ]
  },
  {
   "cell_type": "code",
   "execution_count": null,
   "metadata": {
    "colab": {
     "base_uri": "https://localhost:8080/"
    },
    "executionInfo": {
     "elapsed": 12,
     "status": "ok",
     "timestamp": 1654839010477,
     "user": {
      "displayName": "Михаил Демин",
      "userId": "14250540086915616791"
     },
     "user_tz": -600
    },
    "id": "L4_AHfJCqFMG",
    "outputId": "99b9cd48-4609-4727-f550-5f3abe5cdc08"
   },
   "outputs": [
    {
     "name": "stdout",
     "output_type": "stream",
     "text": [
      "(1123, 20, 16)\n",
      "1123\n",
      "[ 2 14  1 ...  7  2  2]\n"
     ]
    }
   ],
   "source": [
    "print(train_images.shape, len(train_labels), train_labels, sep='\\n')"
   ]
  },
  {
   "cell_type": "code",
   "execution_count": null,
   "metadata": {
    "colab": {
     "base_uri": "https://localhost:8080/"
    },
    "executionInfo": {
     "elapsed": 5,
     "status": "ok",
     "timestamp": 1654839010477,
     "user": {
      "displayName": "Михаил Демин",
      "userId": "14250540086915616791"
     },
     "user_tz": -600
    },
    "id": "-57Z2zeMqg-R",
    "outputId": "1e4effda-30a3-4bfd-f6f4-cb0a612f5a4b"
   },
   "outputs": [
    {
     "name": "stdout",
     "output_type": "stream",
     "text": [
      "(281, 20, 16)\n",
      "281\n",
      "[23 20 11 33  9  1  3 25 24 23 18 24 32 19 14 28 16  9 35  5 14 20  1 26\n",
      " 17  1 16 20 34 22 25 11 31 12 34  3  8 28  6 13  8 29 21 27 15 23  6  9\n",
      " 11  2 34 18 33 32 31  5 17 12 16 31 20 30 12 35 26  0 24 32  9  4 21 35\n",
      " 20 21 10 22 27 30 20 32 15 15 17 13 23 28  9 17 27  7 32 29  0 25  0 17\n",
      " 29  5 34 25 30 29 18 13  2  3 25  2 14 15  8 17  7 18 10 29 18 11 35 27\n",
      "  4 30 26  4 33 30 15 19 22 19  3 23 25 12  7  2 26 16 21 19  4  3 24 31\n",
      " 29  2 35 33 22  8 11 24 19 16 28  6  8  5  0 13  4 28 26 26 14 20 18 33\n",
      " 11 27  9  5 10 10 12  2 30  3  1 31 15  8 28 16  0 19 12  8 32  6 29 24\n",
      " 11  6 21  2 19 34 20  4  4 17 12 24 17 11 31 13  5 35 34 25  5 22 31 14\n",
      " 22 29 10 18  7  7 25 34 14 13 15  6 30 27  2 28 14  1 24 33 15  3 12 16\n",
      "  1 22 14 35 33 26 21  4 10  8  7 30 10  6 21 33  0 16 13 35 19 10  5 26\n",
      "  0 23 22  9 34 28  1  9 21  0 27  6 23 31  7 32 27]\n"
     ]
    }
   ],
   "source": [
    "print(test_images.shape, len(test_labels), test_labels, sep='\\n')"
   ]
  },
  {
   "cell_type": "markdown",
   "metadata": {
    "id": "7vfowXMJiwOY"
   },
   "source": [
    "## Обучение"
   ]
  },
  {
   "cell_type": "code",
   "execution_count": null,
   "metadata": {
    "id": "mP7Xm1Za-Bxw"
   },
   "outputs": [],
   "source": [
    "model = keras.Sequential([\n",
    "    keras.layers.Flatten(input_shape=(20, 16)),\n",
    "    keras.layers.Dense(512, activation='tanh'),\n",
    "    keras.layers.Dense(512, activation='tanh'),\n",
    "    keras.layers.Dense(512, activation='tanh'),\n",
    "    keras.layers.Dense(512, activation='tanh'),\n",
    "    keras.layers.Dense(36)\n",
    "])\n",
    "\n",
    "model.compile(optimizer=tf.keras.optimizers.Adam(learning_rate=0.001),\n",
    "              loss=tf.keras.losses.SparseCategoricalCrossentropy(from_logits=True),\n",
    "              metrics=['accuracy'])"
   ]
  },
  {
   "cell_type": "code",
   "execution_count": null,
   "metadata": {
    "colab": {
     "base_uri": "https://localhost:8080/"
    },
    "executionInfo": {
     "elapsed": 6886,
     "status": "ok",
     "timestamp": 1654841031840,
     "user": {
      "displayName": "Михаил Демин",
      "userId": "14250540086915616791"
     },
     "user_tz": -600
    },
    "id": "AGyxsHyQizAU",
    "outputId": "7f67f536-08f8-49fc-b931-0bf67f3257b6"
   },
   "outputs": [
    {
     "name": "stdout",
     "output_type": "stream",
     "text": [
      "Epoch 1/13\n",
      "36/36 [==============================] - 1s 13ms/step - loss: 1.9835 - accuracy: 0.4550\n",
      "Epoch 2/13\n",
      "36/36 [==============================] - 0s 13ms/step - loss: 0.9280 - accuracy: 0.7142\n",
      "Epoch 3/13\n",
      "36/36 [==============================] - 1s 14ms/step - loss: 0.6872 - accuracy: 0.7801\n",
      "Epoch 4/13\n",
      "36/36 [==============================] - 0s 13ms/step - loss: 0.5267 - accuracy: 0.8406\n",
      "Epoch 5/13\n",
      "36/36 [==============================] - 0s 13ms/step - loss: 0.2838 - accuracy: 0.9225\n",
      "Epoch 6/13\n",
      "36/36 [==============================] - 0s 13ms/step - loss: 0.2375 - accuracy: 0.9261\n",
      "Epoch 7/13\n",
      "36/36 [==============================] - 1s 14ms/step - loss: 0.1291 - accuracy: 0.9581\n",
      "Epoch 8/13\n",
      "36/36 [==============================] - 0s 13ms/step - loss: 0.1221 - accuracy: 0.9492\n",
      "Epoch 9/13\n",
      "36/36 [==============================] - 1s 14ms/step - loss: 0.0791 - accuracy: 0.9671\n",
      "Epoch 10/13\n",
      "36/36 [==============================] - 0s 12ms/step - loss: 0.0692 - accuracy: 0.9777\n",
      "Epoch 11/13\n",
      "36/36 [==============================] - 0s 13ms/step - loss: 0.0795 - accuracy: 0.9653\n",
      "Epoch 12/13\n",
      "36/36 [==============================] - 0s 13ms/step - loss: 0.0555 - accuracy: 0.9742\n",
      "Epoch 13/13\n",
      "36/36 [==============================] - 1s 15ms/step - loss: 0.0584 - accuracy: 0.9706\n"
     ]
    }
   ],
   "source": [
    "hstr = model.fit(train_images, train_labels, epochs=13, verbose=1)"
   ]
  },
  {
   "cell_type": "code",
   "execution_count": null,
   "metadata": {
    "colab": {
     "base_uri": "https://localhost:8080/"
    },
    "executionInfo": {
     "elapsed": 20,
     "status": "ok",
     "timestamp": 1654841031841,
     "user": {
      "displayName": "Михаил Демин",
      "userId": "14250540086915616791"
     },
     "user_tz": -600
    },
    "id": "2nmBLE3oxB6q",
    "outputId": "bd337f47-8173-4837-aed1-39197d07f1df"
   },
   "outputs": [
    {
     "data": {
      "text/plain": [
       "{'accuracy': [0.455031156539917,\n",
       "  0.7141584753990173,\n",
       "  0.780053436756134,\n",
       "  0.8406054973602295,\n",
       "  0.9225289225578308,\n",
       "  0.9260908365249634,\n",
       "  0.9581478238105774,\n",
       "  0.9492431282997131,\n",
       "  0.9670525193214417,\n",
       "  0.9777382016181946,\n",
       "  0.9652715921401978,\n",
       "  0.974176287651062,\n",
       "  0.9706144332885742],\n",
       " 'loss': [1.9835121631622314,\n",
       "  0.9279754757881165,\n",
       "  0.6871654987335205,\n",
       "  0.5266770124435425,\n",
       "  0.28383198380470276,\n",
       "  0.23750659823417664,\n",
       "  0.12905095517635345,\n",
       "  0.12206165492534637,\n",
       "  0.0791059210896492,\n",
       "  0.06919395923614502,\n",
       "  0.07947593182325363,\n",
       "  0.05552491918206215,\n",
       "  0.05837201699614525]}"
      ]
     },
     "execution_count": 98,
     "metadata": {},
     "output_type": "execute_result"
    }
   ],
   "source": [
    "hstr.history"
   ]
  },
  {
   "cell_type": "code",
   "execution_count": null,
   "metadata": {
    "colab": {
     "base_uri": "https://localhost:8080/"
    },
    "executionInfo": {
     "elapsed": 17,
     "status": "ok",
     "timestamp": 1654841031841,
     "user": {
      "displayName": "Михаил Демин",
      "userId": "14250540086915616791"
     },
     "user_tz": -600
    },
    "id": "Il3qffQ7x0co",
    "outputId": "cd0e40d6-cdc5-4f9b-941a-1e377ec46fc4"
   },
   "outputs": [
    {
     "name": "stdout",
     "output_type": "stream",
     "text": [
      "Model: \"sequential_20\"\n",
      "_________________________________________________________________\n",
      " Layer (type)                Output Shape              Param #   \n",
      "=================================================================\n",
      " flatten_12 (Flatten)        (None, 320)               0         \n",
      "                                                                 \n",
      " dense_39 (Dense)            (None, 512)               164352    \n",
      "                                                                 \n",
      " dense_40 (Dense)            (None, 512)               262656    \n",
      "                                                                 \n",
      " dense_41 (Dense)            (None, 512)               262656    \n",
      "                                                                 \n",
      " dense_42 (Dense)            (None, 512)               262656    \n",
      "                                                                 \n",
      " dense_43 (Dense)            (None, 36)                18468     \n",
      "                                                                 \n",
      "=================================================================\n",
      "Total params: 970,788\n",
      "Trainable params: 970,788\n",
      "Non-trainable params: 0\n",
      "_________________________________________________________________\n"
     ]
    }
   ],
   "source": [
    "model.summary()"
   ]
  },
  {
   "cell_type": "code",
   "execution_count": null,
   "metadata": {
    "colab": {
     "base_uri": "https://localhost:8080/",
     "height": 754
    },
    "executionInfo": {
     "elapsed": 14,
     "status": "ok",
     "timestamp": 1654841031842,
     "user": {
      "displayName": "Михаил Демин",
      "userId": "14250540086915616791"
     },
     "user_tz": -600
    },
    "id": "M6sVHlYtFKYS",
    "outputId": "9bb701f4-89dc-498a-e76a-c6c16715b003"
   },
   "outputs": [
    {
     "data": {
      "image/png": "[encoded data removed]",
      "text/plain": [
       "<IPython.core.display.Image object>"
      ]
     },
     "execution_count": 100,
     "metadata": {},
     "output_type": "execute_result"
    }
   ],
   "source": [
    "from keras.utils.vis_utils import plot_model\n",
    "\n",
    "plot_model(model, show_shapes=True, show_layer_names=True)"
   ]
  },
  {
   "cell_type": "code",
   "execution_count": null,
   "metadata": {
    "colab": {
     "base_uri": "https://localhost:8080/"
    },
    "executionInfo": {
     "elapsed": 405,
     "status": "ok",
     "timestamp": 1654841032241,
     "user": {
      "displayName": "Михаил Демин",
      "userId": "14250540086915616791"
     },
     "user_tz": -600
    },
    "id": "BH3V0uMGFQo8",
    "outputId": "1af4e317-acab-4a0c-eb9d-0efef03b09d2"
   },
   "outputs": [
    {
     "data": {
      "text/plain": [
       "array([[-3.4046378e+00, -1.3104746e+00, -2.7819281e+00, ...,\n",
       "         2.0114949e+00,  1.5134329e+00, -1.6232747e+00],\n",
       "       [-8.9792137e+00,  9.9153146e-02, -5.6144209e+00, ...,\n",
       "         4.8919439e+00,  6.4678612e+00,  5.0391686e-01],\n",
       "       [-9.5556408e-01,  4.5315466e+00, -4.0285797e+00, ...,\n",
       "         1.0114318e+00, -2.3664412e+00,  1.8173397e-01],\n",
       "       ...,\n",
       "       [ 1.2238834e+00, -1.1247933e+00,  2.2945895e+00, ...,\n",
       "        -1.8202375e+00,  3.3222976e+00,  3.3971860e+00],\n",
       "       [ 4.8280649e+00,  8.9894795e-01,  1.4379878e+00, ...,\n",
       "        -4.6233506e+00, -1.0583694e+01,  7.9369275e-03],\n",
       "       [-3.9731622e+00,  2.7237792e+00, -4.3751569e+00, ...,\n",
       "         2.8208776e+00,  6.8903375e-01, -1.7390740e-01]], dtype=float32)"
      ]
     },
     "execution_count": 101,
     "metadata": {},
     "output_type": "execute_result"
    }
   ],
   "source": [
    "model.predict(test_images)"
   ]
  },
  {
   "cell_type": "code",
   "execution_count": null,
   "metadata": {
    "id": "RfZC_1VaFfCf"
   },
   "outputs": [],
   "source": [
    "probability_model = tf.keras.Sequential([model, \n",
    "                                         tf.keras.layers.Softmax()])\n",
    "predictions = probability_model.predict(test_images)"
   ]
  },
  {
   "cell_type": "code",
   "execution_count": null,
   "metadata": {
    "colab": {
     "base_uri": "https://localhost:8080/"
    },
    "executionInfo": {
     "elapsed": 4,
     "status": "ok",
     "timestamp": 1654841032242,
     "user": {
      "displayName": "Михаил Демин",
      "userId": "14250540086915616791"
     },
     "user_tz": -600
    },
    "id": "JUwNZNDDFhkl",
    "outputId": "60407b47-8c0b-48a2-e629-f5a40d4da8e2"
   },
   "outputs": [
    {
     "name": "stdout",
     "output_type": "stream",
     "text": [
      "[1.52527804e-07 1.23831865e-06 2.84307418e-07 2.57820502e-05\n",
      " 4.41117772e-05 4.21301607e-08 7.14569842e-06 4.52472619e-07\n",
      " 2.48650963e-06 1.46773564e-05 1.70152052e-03 5.78145432e-07\n",
      " 1.00174082e-08 6.32130614e-05 2.71723565e-07 1.93613076e-07\n",
      " 8.10857784e-07 5.09482517e-04 7.19391764e-08 2.22846741e-10\n",
      " 2.33394923e-04 4.25573853e-05 6.58225501e-04 9.50646162e-01\n",
      " 3.86464137e-07 3.21052576e-05 1.13760405e-04 3.44440414e-05\n",
      " 7.52290035e-08 1.94376049e-09 8.15511667e-05 3.03250727e-05\n",
      " 4.56983373e-02 3.43198408e-05 2.08564106e-05 9.05701086e-07]\n",
      "23\n",
      "23\n"
     ]
    }
   ],
   "source": [
    "print(predictions[0],\n",
    "      np.argmax(predictions[0]),\n",
    "      test_labels[0],\n",
    "      sep='\\n')"
   ]
  },
  {
   "cell_type": "code",
   "execution_count": null,
   "metadata": {
    "colab": {
     "base_uri": "https://localhost:8080/"
    },
    "executionInfo": {
     "elapsed": 381,
     "status": "ok",
     "timestamp": 1654841032621,
     "user": {
      "displayName": "Михаил Демин",
      "userId": "14250540086915616791"
     },
     "user_tz": -600
    },
    "id": "BycawaX4LQpZ",
    "outputId": "57e08374-745f-4cda-85c5-8a21709a5d92"
   },
   "outputs": [
    {
     "name": "stdout",
     "output_type": "stream",
     "text": [
      "9/9 [==============================] - 0s 5ms/step - loss: 1.0120 - accuracy: 0.7046\n",
      "Test loss: 1.0120494365692139\n",
      "Test accuracy: 0.7046263217926025\n"
     ]
    }
   ],
   "source": [
    "score = model.evaluate(test_images, test_labels, verbose=1)\n",
    "print('Test loss:', score[0])\n",
    "print('Test accuracy:', score[1])"
   ]
  },
  {
   "cell_type": "markdown",
   "metadata": {
    "id": "quWDZXfFRBgF"
   },
   "source": [
    "__*Комментарии преподавателя:*__<br>\n",
    "*Милена Сокол・Преподаватель<br>*\n",
    "\n",
    "Здравствуйте!\n",
    "\n",
    "Хорошая работа, получилось отличное качество"
   ]
  },
  {
   "cell_type": "code",
   "execution_count": null,
   "metadata": {},
   "outputs": [],
   "source": []
  }
 ],
 "metadata": {
  "colab": {
   "collapsed_sections": [],
   "name": "13_lesson_3_my_solution.ipynb",
   "provenance": []
  },
  "kernelspec": {
   "display_name": "Python 3 (ipykernel)",
   "language": "python",
   "name": "python3"
  },
  "language_info": {
   "codemirror_mode": {
    "name": "ipython",
    "version": 3
   },
   "file_extension": ".py",
   "mimetype": "text/x-python",
   "name": "python",
   "nbconvert_exporter": "python",
   "pygments_lexer": "ipython3",
   "version": "3.9.12"
  },
  "toc": {
   "base_numbering": 1,
   "nav_menu": {},
   "number_sections": false,
   "sideBar": true,
   "skip_h1_title": false,
   "title_cell": "Table of Contents",
   "title_sidebar": "Contents",
   "toc_cell": false,
   "toc_position": {},
   "toc_section_display": true,
   "toc_window_display": false
  },
  "varInspector": {
   "cols": {
    "lenName": 16,
    "lenType": 16,
    "lenVar": 40
   },
   "kernels_config": {
    "python": {
     "delete_cmd_postfix": "",
     "delete_cmd_prefix": "del ",
     "library": "var_list.py",
     "varRefreshCmd": "print(var_dic_list())"
    },
    "r": {
     "delete_cmd_postfix": ") ",
     "delete_cmd_prefix": "rm(",
     "library": "var_list.r",
     "varRefreshCmd": "cat(var_dic_list()) "
    }
   },
   "types_to_exclude": [
    "module",
    "function",
    "builtin_function_or_method",
    "instance",
    "_Feature"
   ],
   "window_display": false
  }
 },
 "nbformat": 4,
 "nbformat_minor": 1
}
