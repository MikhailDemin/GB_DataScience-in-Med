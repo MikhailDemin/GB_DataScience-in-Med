{
 "cells": [
  {
   "cell_type": "markdown",
   "id": "BaAsDhWFAKMv",
   "metadata": {
    "id": "BaAsDhWFAKMv"
   },
   "source": [
    "# Урок 3. Медицинское исследование: гипотеза, получение данных.  Генерация синтетических данных. Подготовка данных к анализу."
   ]
  },
  {
   "cell_type": "markdown",
   "id": "A7ubXm7xW9_A",
   "metadata": {
    "id": "A7ubXm7xW9_A"
   },
   "source": [
    "## Домашнее задание"
   ]
  },
  {
   "cell_type": "markdown",
   "id": "3z2HVE_HXLen",
   "metadata": {
    "id": "3z2HVE_HXLen"
   },
   "source": [
    "- **Описание задания**:\n",
    "Когда пациент принимает какое-либо лекарство, у него может возникнуть побочный эффект от лекарства или побочную реакцию на лекарство (ADR). Мы можем использовать [CUI](https://www.nlm.nih.gov/research/umls/new_users/glossary.html#:~:text=CUI%20-%20The%20Concept%20Unique%20Identifier%20for%20a%20Metathesaurus%20concept%20to%20which%20strings%20with%20the%20same%20meaning%20are%20linked.%20One%20of%20the%20principles%20of%20the%20Metathesaurus%20is%20that%20meanings%20should%20be%20preserved%20over%20time%20regardless%20of%20what%20terms%20(atoms)%20are%20used%20to%20express%20those%20meanings.), уникальный идентификатор концепта для  Metathesaurus, чтобы определить, какие нежелательные реакции упоминаются в сообщениях пациентов. Это поможет представлять обзоры лекарств в структурированном виде.\n",
    "\n",
    "   Цель этого задания – помочь вам научиться идентифицировать (ADR) по описаниям пациентов о нежелательных реакциях на лекарственные препараты. Вы сможете:\n",
    "  - Используйте подход NLP для извлечения побочных эффектов из обзоров лекарств.\n",
    "\n",
    "### Уровни сложности извлечения концептов\n",
    "- Давайте рассмотрим один из способов классификации сложности извлечения ADR на основе сравнения их представления с представлением CUI.\n",
    "- Это всего лишь один из способов взглянуть на это, но он поможет вам выработать подход к захвату как можно большего количества явлений.\n",
    "\n",
    "#### Уровень 1\n",
    "- На уровне 1 вы обнаружите, что слова, описывающие нежелательную реакцию, точно такие же, как понятия CUI.\n",
    "> Вот пример:\n",
    "> - Sentence text: `I was unable to sleep, had blurred vision, and felt sick to my stomach.`\n",
    "> - ADR: **blurred vision**\n",
    "> - CUI concept: **blurred vision**\n",
    "> - CUI: **C0344232** (You can lookup CUI at [SIDER](http://sideeffects.embl.de/))\n",
    "\n",
    "- Кроме того, слова определяются как «одинаковые», даже если они представляют собой разные производные (обычно разные суффиксы в английском языке) одного и того же слова. Те же леммы или те же основы примерно.\n",
    ">Вот еще один пример, который в этом наборе данных считается уровнем 1:\n",
    "> - Sentence text: `Muscle spasms, muscle twitching, muscle soreness, insomnia, mental confusion, flush, brain zaps.`\n",
    "> - ADR: **flush**\n",
    "> - CUI Concept: **flushing**\n",
    "> - CUI: **C0016382** (You can lookup CUI at [SIDER](http://sideeffects.embl.de/))\n",
    "\n",
    "#### Уровень 2\n",
    "- На уровне 2 вы можете обнаружить, что слова, описывающие нежелательную реакцию, совпадают с понятиями CUI, хотя порядок слов может быть другим.\n",
    "> Вот пример:\n",
    "> - Sentence text: `Weight gain, HAIR LOSS, increased depression, fatigue, lethargy.`\n",
    "> - ADR: **HAIR LOSS**\n",
    "> - CUI concept: **Loss of hair**\n",
    "> - CUI: **C0002170** (You can lookup CUI at [SIDER](http://sideeffects.embl.de/))\n",
    "\n",
    "#### Уровень 3\n",
    "- На уровне 3 вы можете обнаружить, что, помимо разницы в порядке слов, только некоторые слова, описывающие нежелательную реакцию, точно такие же, как в понятиях CUI.\n",
    "> Вот пример:\n",
    "> - Sentence text: `It's been four days since I discontinued, and I'm still wiped out and dizzy with flu-like symptoms.`\n",
    "> - ADR: **flu-like symptoms**\n",
    "> - CUI concept: **Influenza-like symptoms**\n",
    "> - CUI: **C0392171** (You can lookup CUI at [SIDER](http://sideeffects.embl.de/))\n",
    "\n",
    "#### Уровень 4\n",
    "- На уровне 4 вы обнаружите, что ни одно из слов, описывающих нежелательную реакцию, не совпадает со словами в концепциях CUI, но при этом имеет то же значение.\n",
    "> Вот пример:\n",
    "> - Sentence text: `Also I had a severe inablility to concentrate which made it impossible to do my job,I am a Registered Nurse.`\n",
    "> - ADR: **impossible to do my job**\n",
    "> - CUI concept: **Restricted work performance**\n",
    "> - CUI: **C0557386** (You can lookup CUI at [SIDER](http://sideeffects.embl.de/))\n",
    "\n",
    "#### Уровень 5 &nbsp; &nbsp; (От вас не ожидается, что вы их решите)\n",
    "- На уровне 5 вы можете обнаружить, что слова, описывающие побочную реакцию, не совпадают с понятиями CUI и имеют разные значения. ADR может предлагать концепцию CUI посредством следствия или посредством какого-либо другого лингвистического или контекстуального механизма. Если вы сумеете их идентифицировать, это будет очень впечатляюще!\n",
    "> Вот пример:\n",
    "> - Sentence text: `20 pounds total in 6 months Appetite increase .`\n",
    "> - ADR: **20 pounds total**\n",
    "> - CUI concept: **Body Weight Changes**\n",
    "> - CUI: **C0005911** (You can lookup CUI at [SIDER](http://sideeffects.embl.de/))\n",
    "\n",
    "### Предоставленные файлы\n",
    "Один из файлов, которые у вас есть для этого задания, называется «побочные_эффекеты.txt». Обзоры лекарств разделены предложением. Для каждой строки есть «row_id» и «sentence_text», разделенные табуляцией.\n",
    "\n",
    "> Вот пример:\n",
    "`7<tab>I was unable to sleep, had blurred vision, and felt sick to my stomach.`\n",
    "\n",
    "Другой файл называется CUI_concepts.txt. АПИ и текст его концепции указаны в каждой строке.\n",
    "\n",
    "> Вот пример:\n",
    "`C0344232<tab>Blurred vision,Blurring of visual image`"
   ]
  },
  {
   "cell_type": "markdown",
   "id": "ODQrOm9rYd5R",
   "metadata": {
    "id": "ODQrOm9rYd5R"
   },
   "source": [
    "### Шаблоны кода\n",
    "\n",
    "##### Пожалуйста, измените шаблон кода настолько, насколько захотите. Вы можете использовать любые стандартные функции Python или, если хотите, написать свои собственные вспомогательные функции!\n",
    "\n",
    "#### Шаг 1: Чтение файла данных\n",
    "- Попробуйте распечатать несколько строк и посмотреть примеры в наборе данных, с которым вы работаете. Вы будете протестированы на небольшом подмножестве из них, но ваши функции должны применяться в целом."
   ]
  },
  {
   "cell_type": "code",
   "execution_count": 22,
   "id": "50daTmUycXlW",
   "metadata": {
    "colab": {
     "base_uri": "https://localhost:8080/"
    },
    "executionInfo": {
     "elapsed": 736,
     "status": "ok",
     "timestamp": 1710394621766,
     "user": {
      "displayName": "Михаил Демин",
      "userId": "14250540086915616791"
     },
     "user_tz": -600
    },
    "id": "50daTmUycXlW",
    "outputId": "d90f3afb-05d3-42e0-c97e-885c99ae6fed"
   },
   "outputs": [
    {
     "name": "stderr",
     "output_type": "stream",
     "text": [
      "[nltk_data] Downloading package stopwords to /root/nltk_data...\n",
      "[nltk_data]   Unzipping corpora/stopwords.zip.\n"
     ]
    }
   ],
   "source": [
    "from string import punctuation as punct\n",
    "import nltk\n",
    "nltk.download('stopwords')\n",
    "from nltk.stem.porter import PorterStemmer\n",
    "porter_stemmer = PorterStemmer()"
   ]
  },
  {
   "cell_type": "code",
   "execution_count": 1,
   "id": "JE7Lt-pPxmej",
   "metadata": {
    "colab": {
     "base_uri": "https://localhost:8080/"
    },
    "executionInfo": {
     "elapsed": 3062,
     "status": "ok",
     "timestamp": 1710393421668,
     "user": {
      "displayName": "Михаил Демин",
      "userId": "14250540086915616791"
     },
     "user_tz": -600
    },
    "id": "JE7Lt-pPxmej",
    "outputId": "a69bc353-b890-4930-b1e3-c8ffb10c9e63"
   },
   "outputs": [
    {
     "name": "stdout",
     "output_type": "stream",
     "text": [
      "Drive already mounted at /content/drive; to attempt to forcibly remount, call drive.mount(\"/content/drive\", force_remount=True).\n"
     ]
    }
   ],
   "source": [
    "# from google.colab import drive\n",
    "# drive.mount('/content/drive')"
   ]
  },
  {
   "cell_type": "code",
   "execution_count": null,
   "id": "62b5ec4a",
   "metadata": {},
   "outputs": [],
   "source": [
    "# with open('/content/drive/MyDrive/Colab Notebooks/GB/22_3/побочные_эффекеты.txt') as file:"
   ]
  },
  {
   "cell_type": "code",
   "execution_count": 115,
   "id": "jIcLaeXeK1yg",
   "metadata": {
    "ExecuteTime": {
     "end_time": "2024-03-13T06:42:10.161332Z",
     "start_time": "2024-03-13T06:42:10.153280Z"
    },
    "colab": {
     "base_uri": "https://localhost:8080/"
    },
    "executionInfo": {
     "elapsed": 387,
     "status": "ok",
     "timestamp": 1710401714370,
     "user": {
      "displayName": "Михаил Демин",
      "userId": "14250540086915616791"
     },
     "user_tz": -600
    },
    "id": "jIcLaeXeK1yg",
    "outputId": "625e3693-1a29-4c09-ccb3-f98d50a180be"
   },
   "outputs": [
    {
     "name": "stdout",
     "output_type": "stream",
     "text": [
      "id\tText\n",
      "\n",
      "1\textreme weight gain, short-term memory loss, hair loss.\n",
      "\n",
      "2\tCOMPLETELY DESTROYED SEXUALLY FUNCTIONING .\n",
      "\n",
      "3\tJust TWO tablets of Lexapro 10mg completely destroyed my sexual functioning, probably for life.\n",
      "\n",
      "4\tIt's called PSSD: post-SSRI sexual dysfunction.\n",
      "\n"
     ]
    }
   ],
   "source": [
    "with open('22_3_SEM_files/_побочные_эффекеты.txt') as file:\n",
    "  documents = file.readlines()\n",
    "\n",
    "# напечатаем первые 5 строк файла.\n",
    "# Не стесняйтесь просматривать любое количество\n",
    "print(*documents[:5], sep = '\\n')"
   ]
  },
  {
   "cell_type": "markdown",
   "id": "lJhamuRVYpRx",
   "metadata": {
    "id": "lJhamuRVYpRx"
   },
   "source": [
    "#### Шаг 2. Считайте файл CUI и сохраните его для удобного поиска.\n",
    "- Сохраните все CUI и соответствующие им ключевые слова.\n",
    "— Идея такая: пройтись по каждому CUI, чтобы определить, присутствует ли он в данном текстовом сегменте."
   ]
  },
  {
   "cell_type": "code",
   "execution_count": null,
   "id": "4dba1831",
   "metadata": {},
   "outputs": [],
   "source": [
    "# with open('/content/drive/MyDrive/Colab Notebooks/GB/22_3/концепты.tsv') as cuifile: # CUI явления"
   ]
  },
  {
   "cell_type": "code",
   "execution_count": 116,
   "id": "O9L13ifMYw9E",
   "metadata": {
    "ExecuteTime": {
     "end_time": "2024-03-13T06:41:55.403059Z",
     "start_time": "2024-03-13T06:41:55.380802Z"
    },
    "colab": {
     "base_uri": "https://localhost:8080/"
    },
    "executionInfo": {
     "elapsed": 371,
     "status": "ok",
     "timestamp": 1710401726365,
     "user": {
      "displayName": "Михаил Демин",
      "userId": "14250540086915616791"
     },
     "user_tz": -600
    },
    "id": "O9L13ifMYw9E",
    "outputId": "65e5ca81-5961-4237-f021-2cc0cce6bf47"
   },
   "outputs": [
    {
     "name": "stdout",
     "output_type": "stream",
     "text": [
      "CUI\tCONCEPT\tSNOMED_CODE\n",
      "\n"
     ]
    }
   ],
   "source": [
    "cuinames = []\n",
    "concepts = []\n",
    "with open('22_3_SEM_files/_концепты.tsv') as cuifile: # CUI явления\n",
    "  print(next(cuifile))  # пропустите заголовок, распечатайте, чтобы увидеть структуру строки\n",
    "  for i, line in enumerate(cuifile):\n",
    "    fields = line.split('\\t')\n",
    "    # удалите конечные пробелы (и нечетные случайные nbsp...)\n",
    "    cui = fields[0].strip()\n",
    "    # храните различные текстовые представления концептов\n",
    "    # но отбросьте дублирующиеся текстовые представления для одного и того же концепта\n",
    "    texts = set(f.strip() for f in fields[1].split(','))\n",
    "    for t in texts:\n",
    "      # всегда добавляйте вместе, чтобы обеспечить одинаковый индекс\n",
    "      cuinames.append(cui)\n",
    "      concepts.append(t.strip().lower())"
   ]
  },
  {
   "cell_type": "code",
   "execution_count": 117,
   "id": "q6dLGCNIZBCh",
   "metadata": {
    "ExecuteTime": {
     "end_time": "2024-03-13T06:41:58.360351Z",
     "start_time": "2024-03-13T06:41:58.340324Z"
    },
    "colab": {
     "base_uri": "https://localhost:8080/"
    },
    "executionInfo": {
     "elapsed": 366,
     "status": "ok",
     "timestamp": 1710401728256,
     "user": {
      "displayName": "Михаил Демин",
      "userId": "14250540086915616791"
     },
     "user_tz": -600
    },
    "id": "q6dLGCNIZBCh",
    "outputId": "a9bed506-1742-4615-b623-34e4db4e0046"
   },
   "outputs": [
    {
     "name": "stdout",
     "output_type": "stream",
     "text": [
      "738 738\n",
      "CUI: C0000765\tConcept: excessive body weight gain\n",
      "CUI: C0000765\tConcept: excessive weight gain\n",
      "CUI: C0701811\tConcept: poor short-term memory\n",
      "CUI: C0002170\tConcept: loss of hair\n",
      "CUI: C0002170\tConcept: alopecia\n",
      "CUI: C0549622\tConcept: sexual disorder\n",
      "CUI: C0549622\tConcept: sexual dysfunction\n",
      "CUI: C0027497\tConcept: nausea\n",
      "CUI: C0344232\tConcept: blurred vision\n",
      "CUI: C0344232\tConcept: blurring of visual image\n",
      "CUI: C0037316\tConcept: sleep deprivation\n",
      "CUI: C0037316\tConcept: sleep deprivation\n",
      "CUI: C0424000\tConcept: feeling suicidal\n",
      "CUI: C0424565\tConcept: cannot sleep at all\n",
      "CUI: C1971624\tConcept: loss of appetite\n",
      "CUI: C0558066\tConcept: intrusive thoughts\n",
      "CUI: C0557386\tConcept: restricted work performance\n",
      "CUI: C0086769\tConcept: panic attack\n",
      "CUI: C0086769\tConcept: panic attacks\n",
      "CUI: C0003467\tConcept: anxiety\n"
     ]
    }
   ],
   "source": [
    "print(len(concepts), len(cuinames))  # проверка на вменяемость\n",
    "# распечатайте несколько CUIs. Исследуйте CUIs, пробуя различные диапазоны,\n",
    "# или распечатайте весь список, если хотите.\n",
    "for i in list(range(0,20)):\n",
    "  print('CUI: {}\\tConcept: {}'.format(cuinames[i], concepts[i]))"
   ]
  },
  {
   "cell_type": "markdown",
   "id": "9EUPAzveY-Dq",
   "metadata": {
    "id": "9EUPAzveY-Dq"
   },
   "source": [
    "### Шаг 3: Извлечение концептов\n",
    "\n",
    "#### Уровень 1 — Точное совпадение\n",
    "- Давайте начнем с извлечения примеров только уровня 1. Все, что нам нужно сделать, это посмотреть, совпадают ли точные слова:\n",
    "   - Сначала выберем метод предварительной обработки.\n",
    "   - Тогда мы извлечем АДР\n",
    "\n",
    "#### Предварительная обработка 1\n",
    "Давайте решим, как преобразовать (нормализовать) наш текст, чтобы нам было легче работать с вводом и CUI.\n",
    "   — Мы начнем с токенизации текста, чтобы у нас был список слов, а не одна строка.\n",
    "   - Кроме того, мы можем сократить текст, чтобы позаботиться о большинстве терминов, связанных с словообразованием!\n",
    "     - То есть слова с одной основой, но с разными приставками, суффиксами или, возможно, различиями в середине слова. &nbsp; Обычно не все словообразовательные формы слов могут быть обработаны стеммером, поэтому это несовершенный метод. &nbsp; Это нормально!\n",
    "     - Помните, что даже несмотря на то, что это удобно для сопоставления слов с похожими корнями, стемминг всегда удаляет потенциально полезную семантическую информацию (есть причины, по которым мы говорим С суффиксами). &nbsp; Часто нам хотелось бы получить не только основу, но и сохранить необработанную форму, чтобы иметь больше информации. &nbsp; Для данной задачи это может не потребоваться.\n",
    "   - В любом случае, мы применим эту предварительную обработку как к CUI, так и к предложениям, чтобы мы могли воспользоваться их преобразованием одинаковым образом.\n",
    "   - Вы можете решить проблему по-своему."
   ]
  },
  {
   "cell_type": "code",
   "execution_count": 5,
   "id": "TWwY9DGaZGtw",
   "metadata": {
    "ExecuteTime": {
     "end_time": "2024-03-12T12:51:42.169541Z",
     "start_time": "2024-03-12T12:51:40.188352Z"
    },
    "executionInfo": {
     "elapsed": 1547,
     "status": "ok",
     "timestamp": 1710393435214,
     "user": {
      "displayName": "Михаил Демин",
      "userId": "14250540086915616791"
     },
     "user_tz": -600
    },
    "id": "TWwY9DGaZGtw"
   },
   "outputs": [],
   "source": [
    "# Это предложение для первого уровня.\n",
    "# Убедитесь, что вы понимаете, что он делает, что в этом может помочь\n",
    "\n",
    "def text_preprocessing_1(sentence):\n",
    "    \"\"\"Read in a sentence and return a list of tokens\n",
    "       which are lower case and punctuation free.\n",
    "       sentence must be a string\"\"\"\n",
    "     # убираем знаки препинания из предложения и заменяем их на ' '\n",
    "     # (пункт взят из строкового модуля, импортированного выше)\n",
    "    s = sentence.translate(sentence.maketrans(punct, ' '*len(punct)))\n",
    "    # простая токенизация\n",
    "    toks = s.split()\n",
    "    # нижний регист\n",
    "    lowered = [w.lower() for w in toks]\n",
    "    stemmed = [porter_stemmer.stem(w) for w in lowered]\n",
    "\n",
    "    return stemmed"
   ]
  },
  {
   "cell_type": "markdown",
   "id": "k7bxcO3sZeTk",
   "metadata": {
    "id": "k7bxcO3sZeTk"
   },
   "source": [
    "#### Проверка концептов 1\n",
    "- Заполните следующую заглушку функции, чтобы извлечь примеры концепций уровня 1.\n",
    "- Эти функции проверки концептов должны возвращать ТОЛЬКО ИСТИНА или ЛОЖЬ. Вам не нужно указывать, где в тексте находится ДОПОГ или что представляет собой текст, представляющий ДОПОГ.\n",
    "- Не стесняйтесь использовать любые встроенные функции Python или определять свои собственные, которые помогут вам!\n",
    "- Вы будете протестированы на комбинированной реализации `text_preprocessing_1()` и `check_concept_1()`. Изменение `text_preprocessing_1()` не является обязательным!"
   ]
  },
  {
   "cell_type": "code",
   "execution_count": 6,
   "id": "s20msmHlZjTS",
   "metadata": {
    "ExecuteTime": {
     "end_time": "2024-03-13T06:27:48.744283Z",
     "start_time": "2024-03-13T06:27:48.728315Z"
    },
    "executionInfo": {
     "elapsed": 2,
     "status": "ok",
     "timestamp": 1710393449870,
     "user": {
      "displayName": "Михаил Демин",
      "userId": "14250540086915616791"
     },
     "user_tz": -600
    },
    "id": "s20msmHlZjTS"
   },
   "outputs": [],
   "source": [
    "# 1 уровень кода\n",
    "def check_concept_1(concept, sentence):\n",
    "    \"\"\"Проверьте, упоминается ли в предложении концепты CUI.\n",
    "    Верните TRUE, если концепт присутствует, верните FALSE, если нет \"\"\"\n",
    "    # предварительная обработка понятия и предложения\n",
    "    c_lst = text_preprocessing_1(concept)\n",
    "    s_lst = text_preprocessing_1(sentence)\n",
    "\n",
    "    if all(word in s_lst for word in c_lst):\n",
    "        return True\n",
    "    else:\n",
    "        return False# И/ИЛИ здесь"
   ]
  },
  {
   "cell_type": "markdown",
   "id": "HvpovqenZ_ZB",
   "metadata": {
    "id": "HvpovqenZ_ZB"
   },
   "source": [
    "Подсказка: если текст понятия является подпоследовательностью предложения, то в предложении имеется точное совпадение понятия.\n",
    "\n",
    "Ниже приведены несколько примеров уровня 1. Ваша реализация `check_concept_1()` должна возвращать True для этих входных данных."
   ]
  },
  {
   "cell_type": "code",
   "execution_count": 55,
   "id": "25PcWfHuZ_yq",
   "metadata": {
    "ExecuteTime": {
     "end_time": "2024-03-13T05:23:22.443907Z",
     "start_time": "2024-03-13T05:23:22.438909Z"
    },
    "colab": {
     "base_uri": "https://localhost:8080/"
    },
    "executionInfo": {
     "elapsed": 410,
     "status": "ok",
     "timestamp": 1710398318999,
     "user": {
      "displayName": "Михаил Демин",
      "userId": "14250540086915616791"
     },
     "user_tz": -600
    },
    "id": "25PcWfHuZ_yq",
    "outputId": "fce3188b-5f77-4579-82ae-1c48581b6e17"
   },
   "outputs": [
    {
     "name": "stdout",
     "output_type": "stream",
     "text": [
      "True\n"
     ]
    }
   ],
   "source": [
    "# пример уровеня 1\n",
    "concept_1 = 'Blurred vision' # то же CUI как 'Blurring of visual image'\n",
    "sentence_1 = 'I was unable to sleep, had blurred vision, and felt sick to my stomach.'\n",
    "\n",
    "ans_1 = check_concept_1(concept_1, sentence_1) # должно быть True!\n",
    "print(bool(ans_1))   # должен печатать True\n",
    "\n",
    "concept2_1 = ''\n",
    "sentence2_1 = ''"
   ]
  },
  {
   "cell_type": "code",
   "execution_count": 16,
   "id": "31676a5d",
   "metadata": {
    "ExecuteTime": {
     "end_time": "2024-03-13T05:23:23.973437Z",
     "start_time": "2024-03-13T05:23:23.956281Z"
    },
    "executionInfo": {
     "elapsed": 364,
     "status": "ok",
     "timestamp": 1710394178350,
     "user": {
      "displayName": "Михаил Демин",
      "userId": "14250540086915616791"
     },
     "user_tz": -600
    },
    "id": "31676a5d"
   },
   "outputs": [],
   "source": [
    "concept1_1 = 'Blurred vision'\n",
    "sentence1_1 = 'I was unable to sleep, had blurred vision, and felt sick to my stomach.'\n",
    "# copy c,s2_1\n",
    "assert(check_concept_1(concept1_1, sentence1_1))\n",
    "assert(check_concept_1(concept2_1, sentence2_1))\n",
    "# исключение"
   ]
  },
  {
   "cell_type": "code",
   "execution_count": null,
   "id": "bXXyEHZ4auiQ",
   "metadata": {
    "id": "bXXyEHZ4auiQ"
   },
   "outputs": [],
   "source": [
    "# Убедитесь, что вы реализуете каждый уровень по очереди.\n",
    "# (Не заставляйте check_concept_1() возвращать True для (многих) примеров уровня 2, 3 или 4)"
   ]
  },
  {
   "cell_type": "code",
   "execution_count": 84,
   "id": "TjPxYxtAt7CB",
   "metadata": {
    "colab": {
     "base_uri": "https://localhost:8080/"
    },
    "executionInfo": {
     "elapsed": 361,
     "status": "ok",
     "timestamp": 1710399864680,
     "user": {
      "displayName": "Михаил Демин",
      "userId": "14250540086915616791"
     },
     "user_tz": -600
    },
    "id": "TjPxYxtAt7CB",
    "outputId": "d034cad8-f03c-4b99-d10a-340104e42a9e"
   },
   "outputs": [
    {
     "name": "stdout",
     "output_type": "stream",
     "text": [
      "1,C0000765,0\n",
      "1,C0000765,0\n",
      "1,C0701811,0\n",
      "1,C0002170,0\n",
      "1,C0002170,0\n",
      "1,C0549622,0\n",
      "1,C0549622,0\n",
      "1,C0027497,0\n",
      "1,C0344232,0\n",
      "1,C0344232,0\n",
      "1,C0037316,0\n",
      "1,C0037316,0\n",
      "1,C0424000,0\n",
      "1,C0424565,0\n",
      "1,C1971624,0\n",
      "1,C0558066,0\n",
      "1,C0557386,0\n",
      "1,C0086769,0\n",
      "1,C0086769,0\n",
      "1,C0003467,0\n",
      "1,C0231403,0\n",
      "1,C0233754,0\n",
      "1,C0917801,0\n",
      "1,C0917801,0\n",
      "1,C0012833,0\n",
      "1,C0010201,0\n",
      "1,C0043094,1\n",
      "1,C0043094,1\n",
      "1,C2981158,0\n",
      "1,C0583237,0\n",
      "1,C0039231,0\n",
      "1,C0522365,0\n",
      "1,C0424573,0\n",
      "1,C0560765,0\n",
      "1,C0042571,0\n",
      "1,C0043352,0\n",
      "2,C0000765,0\n",
      "2,C0000765,0\n",
      "2,C0701811,0\n",
      "2,C0002170,0\n",
      "2,C0002170,0\n",
      "2,C0549622,0\n",
      "2,C0549622,0\n",
      "2,C0027497,0\n",
      "2,C0344232,0\n",
      "2,C0344232,0\n",
      "2,C0037316,0\n",
      "2,C0037316,0\n",
      "2,C0424000,0\n",
      "2,C0424565,0\n",
      "2,C1971624,0\n",
      "2,C0558066,0\n",
      "2,C0557386,0\n",
      "2,C0086769,0\n",
      "2,C0086769,0\n",
      "2,C0003467,0\n",
      "2,C0231403,0\n",
      "2,C0233754,0\n",
      "2,C0917801,0\n",
      "2,C0917801,0\n",
      "2,C0012833,0\n",
      "2,C0010201,0\n",
      "2,C0043094,0\n",
      "2,C0043094,0\n",
      "2,C2981158,0\n",
      "2,C0583237,0\n",
      "2,C0039231,0\n",
      "2,C0522365,0\n",
      "2,C0424573,0\n",
      "2,C0560765,0\n",
      "2,C0042571,0\n",
      "2,C0043352,0\n",
      "3,C0000765,0\n",
      "3,C0000765,0\n",
      "3,C0701811,0\n",
      "3,C0002170,0\n",
      "3,C0002170,0\n",
      "3,C0549622,0\n",
      "3,C0549622,0\n",
      "3,C0027497,0\n",
      "3,C0344232,0\n",
      "3,C0344232,0\n",
      "3,C0037316,0\n",
      "3,C0037316,0\n",
      "3,C0424000,0\n",
      "3,C0424565,0\n",
      "3,C1971624,0\n",
      "3,C0558066,0\n",
      "3,C0557386,0\n",
      "3,C0086769,0\n",
      "3,C0086769,0\n",
      "3,C0003467,0\n",
      "3,C0231403,0\n",
      "3,C0233754,0\n",
      "3,C0917801,0\n",
      "3,C0917801,0\n",
      "3,C0012833,0\n",
      "3,C0010201,0\n",
      "3,C0043094,0\n",
      "3,C0043094,0\n",
      "3,C2981158,0\n",
      "3,C0583237,0\n",
      "3,C0039231,0\n",
      "3,C0522365,0\n",
      "3,C0424573,0\n",
      "3,C0560765,0\n",
      "3,C0042571,0\n",
      "3,C0043352,0\n",
      "4,C0000765,0\n",
      "4,C0000765,0\n",
      "4,C0701811,0\n",
      "4,C0002170,0\n",
      "4,C0002170,0\n",
      "4,C0549622,0\n",
      "4,C0549622,1\n",
      "4,C0027497,0\n",
      "4,C0344232,0\n",
      "4,C0344232,0\n",
      "4,C0037316,0\n",
      "4,C0037316,0\n",
      "4,C0424000,0\n",
      "4,C0424565,0\n",
      "4,C1971624,0\n",
      "4,C0558066,0\n",
      "4,C0557386,0\n",
      "4,C0086769,0\n",
      "4,C0086769,0\n",
      "4,C0003467,0\n",
      "4,C0231403,0\n",
      "4,C0233754,0\n",
      "4,C0917801,0\n",
      "4,C0917801,0\n",
      "4,C0012833,0\n",
      "4,C0010201,0\n",
      "4,C0043094,0\n",
      "4,C0043094,0\n",
      "4,C2981158,0\n",
      "4,C0583237,0\n",
      "4,C0039231,0\n",
      "4,C0522365,0\n",
      "4,C0424573,0\n",
      "4,C0560765,0\n",
      "4,C0042571,0\n",
      "4,C0043352,0\n",
      "5,C0000765,0\n",
      "5,C0000765,0\n",
      "5,C0701811,0\n",
      "5,C0002170,0\n",
      "5,C0002170,0\n",
      "5,C0549622,0\n",
      "5,C0549622,0\n",
      "5,C0027497,0\n",
      "5,C0344232,0\n",
      "5,C0344232,0\n",
      "5,C0037316,0\n",
      "5,C0037316,0\n",
      "5,C0424000,0\n",
      "5,C0424565,0\n",
      "5,C1971624,0\n",
      "5,C0558066,0\n",
      "5,C0557386,0\n",
      "5,C0086769,0\n",
      "5,C0086769,0\n",
      "5,C0003467,0\n",
      "5,C0231403,0\n",
      "5,C0233754,0\n",
      "5,C0917801,0\n",
      "5,C0917801,0\n",
      "5,C0012833,0\n",
      "5,C0010201,0\n",
      "5,C0043094,0\n",
      "5,C0043094,0\n",
      "5,C2981158,0\n",
      "5,C0583237,0\n",
      "5,C0039231,0\n",
      "5,C0522365,0\n",
      "5,C0424573,0\n",
      "5,C0560765,0\n",
      "5,C0042571,0\n",
      "5,C0043352,0\n",
      "6,C0000765,0\n",
      "6,C0000765,0\n",
      "6,C0701811,0\n",
      "6,C0002170,0\n",
      "6,C0002170,0\n",
      "6,C0549622,0\n",
      "6,C0549622,0\n",
      "6,C0027497,1\n",
      "6,C0344232,1\n",
      "6,C0344232,0\n",
      "6,C0037316,0\n",
      "6,C0037316,0\n",
      "6,C0424000,0\n",
      "6,C0424565,0\n",
      "6,C1971624,0\n",
      "6,C0558066,0\n",
      "6,C0557386,0\n",
      "6,C0086769,0\n",
      "6,C0086769,0\n",
      "6,C0003467,0\n",
      "6,C0231403,0\n",
      "6,C0233754,0\n",
      "6,C0917801,0\n",
      "6,C0917801,0\n",
      "6,C0012833,0\n",
      "6,C0010201,0\n",
      "6,C0043094,0\n",
      "6,C0043094,0\n",
      "6,C2981158,0\n",
      "6,C0583237,0\n",
      "6,C0039231,0\n",
      "6,C0522365,0\n",
      "6,C0424573,0\n",
      "6,C0560765,0\n",
      "6,C0042571,0\n",
      "6,C0043352,0\n",
      "7,C0000765,0\n",
      "7,C0000765,0\n",
      "7,C0701811,0\n",
      "7,C0002170,0\n",
      "7,C0002170,0\n",
      "7,C0549622,0\n",
      "7,C0549622,0\n",
      "7,C0027497,0\n",
      "7,C0344232,1\n",
      "7,C0344232,0\n",
      "7,C0037316,0\n",
      "7,C0037316,0\n",
      "7,C0424000,0\n",
      "7,C0424565,0\n",
      "7,C1971624,0\n",
      "7,C0558066,0\n",
      "7,C0557386,0\n",
      "7,C0086769,0\n",
      "7,C0086769,0\n",
      "7,C0003467,0\n",
      "7,C0231403,0\n",
      "7,C0233754,0\n",
      "7,C0917801,0\n",
      "7,C0917801,0\n",
      "7,C0012833,0\n",
      "7,C0010201,0\n",
      "7,C0043094,0\n",
      "7,C0043094,0\n",
      "7,C2981158,0\n",
      "7,C0583237,0\n",
      "7,C0039231,0\n",
      "7,C0522365,0\n",
      "7,C0424573,0\n",
      "7,C0560765,0\n",
      "7,C0042571,0\n",
      "7,C0043352,0\n",
      "8,C0000765,0\n",
      "8,C0000765,0\n",
      "8,C0701811,0\n",
      "8,C0002170,0\n",
      "8,C0002170,0\n",
      "8,C0549622,0\n",
      "8,C0549622,0\n",
      "8,C0027497,0\n",
      "8,C0344232,0\n",
      "8,C0344232,0\n",
      "8,C0037316,0\n",
      "8,C0037316,0\n",
      "8,C0424000,0\n",
      "8,C0424565,0\n",
      "8,C1971624,0\n",
      "8,C0558066,0\n",
      "8,C0557386,0\n",
      "8,C0086769,0\n",
      "8,C0086769,0\n",
      "8,C0003467,0\n",
      "8,C0231403,0\n",
      "8,C0233754,0\n",
      "8,C0917801,0\n",
      "8,C0917801,0\n",
      "8,C0012833,0\n",
      "8,C0010201,0\n",
      "8,C0043094,0\n",
      "8,C0043094,0\n",
      "8,C2981158,0\n",
      "8,C0583237,0\n",
      "8,C0039231,0\n",
      "8,C0522365,0\n",
      "8,C0424573,0\n",
      "8,C0560765,0\n",
      "8,C0042571,0\n",
      "8,C0043352,0\n",
      "9,C0000765,0\n",
      "9,C0000765,0\n",
      "9,C0701811,0\n",
      "9,C0002170,0\n",
      "9,C0002170,0\n",
      "9,C0549622,0\n",
      "9,C0549622,0\n",
      "9,C0027497,0\n",
      "9,C0344232,0\n",
      "9,C0344232,0\n",
      "9,C0037316,0\n",
      "9,C0037316,0\n",
      "9,C0424000,0\n",
      "9,C0424565,0\n",
      "9,C1971624,0\n",
      "9,C0558066,0\n",
      "9,C0557386,0\n",
      "9,C0086769,0\n",
      "9,C0086769,0\n",
      "9,C0003467,0\n",
      "9,C0231403,0\n",
      "9,C0233754,0\n",
      "9,C0917801,0\n",
      "9,C0917801,0\n",
      "9,C0012833,0\n",
      "9,C0010201,0\n",
      "9,C0043094,0\n",
      "9,C0043094,0\n",
      "9,C2981158,0\n",
      "9,C0583237,0\n",
      "9,C0039231,0\n",
      "9,C0522365,0\n",
      "9,C0424573,0\n",
      "9,C0560765,0\n",
      "9,C0042571,0\n",
      "9,C0043352,0\n"
     ]
    }
   ],
   "source": [
    "for (index, sentence) in enumerate(documents):\n",
    "  if index in range(1,10):\n",
    "    for cui, concept in zip(cuinames, concepts):\n",
    "      mention_1 = 1 if check_concept_1(concept, sentence) else 0\n",
    "      print(f'{sentence[0]},{cui},{mention_1}')"
   ]
  },
  {
   "cell_type": "markdown",
   "id": "lrI1dTcbauPw",
   "metadata": {
    "id": "lrI1dTcbauPw"
   },
   "source": [
    "### Уровень 2 — Точное совпадение, возможно, не по порядку\n",
    "\n",
    "- Теперь мы хотим посмотреть, появляются ли понятия, но не обязательно со словами в правильном порядке.\n",
    "- Есть много способов справиться с этим.&nbsp; Некоторые найдут больше, чем другие, и многие из них вызовут ложные срабатывания.\n",
    "- Вам предстоит найти баланс для каждого уровня. Почти всегда будут компромиссы.\n",
    "\n",
    "#### Предварительная обработка 2\n",
    "- Для уровня 1 мы токенизировали текст и убрали знаки препинания.\n",
    "- Вы могли заметить, что в приведенном выше примере концептов уровня 2 («ВЫПАДЕНИЕ ВОЛОС» от «Потеря волос») слова не только были не в порядке, но также включали слово между ними. Это действительно характерно для концепций «не по порядку», поскольку изменение порядка слов и добавление предлога между ними (или удаление предлога и изменение порядка) часто имеет аналогичное значение в английском языке (и, конечно же, в других языках могут быть аналогичные явления).\n",
    "- Это сильно зависит от точных слов, и нам не следует слишком увязнуть в деталях, потому что мы можем просто удалить все наиболее распространенные «функции» или «стоп-слова», чтобы «решить» эту проблему.\n",
    "- Такие слова, как «the», «of» и даже «and», играют важную роль в формировании точного значения, но их удаление не должно создать особых проблем для задачи, поставленной уровнем 2:"
   ]
  },
  {
   "cell_type": "code",
   "execution_count": 28,
   "id": "-cQCME5za590",
   "metadata": {
    "executionInfo": {
     "elapsed": 427,
     "status": "ok",
     "timestamp": 1710394931403,
     "user": {
      "displayName": "Михаил Демин",
      "userId": "14250540086915616791"
     },
     "user_tz": -600
    },
    "id": "-cQCME5za590"
   },
   "outputs": [],
   "source": [
    "def text_preprocessing_2(sentence, stemm=True):\n",
    "    \"\"\"Прочитайте предложение и верните список токенов, в которых нет основы, нет знаков препинания и стоп-слов.\n",
    "        предложение должно быть строкой\"\"\"\n",
    "    # Все предоставленное text_preprocessing_1 в одной строке\n",
    "    toks = [porter_stemmer.stem(w.lower()) if stemm else w.lower() for w in\n",
    "             sentence.translate(sentence.maketrans(punct, ' '*len(punct))).split()]\n",
    "    # toks = text_preprocessing_1(sentence) # эквивалентно, если вы не меняли text_preprocessing_1\n",
    "\n",
    "    # Получить список стоп-слов из известного источника\n",
    "    stopwords = nltk.corpus.stopwords.words('english')\n",
    "\n",
    "    no_stopword = [tok for tok in toks if tok.lower() not in stopwords]\n",
    "     # Вы можете изменить эту функцию, если считаете, что она вам поможет.\n",
    "     # Не стесняйтесь добавлять или удалять шаги!\n",
    "\n",
    "    final = no_stopword\n",
    "    return final"
   ]
  },
  {
   "cell_type": "markdown",
   "id": "r-IlyLCabcj7",
   "metadata": {
    "id": "r-IlyLCabcj7"
   },
   "source": [
    "#### Проверка концептов 2\n",
    "- Заполните следующую заглушку функции, чтобы извлечь примеры концептов уровня 2.\n",
    "- Не стесняйтесь использовать любые встроенные функции Python или определять свои собственные, которые помогут вам, если вы захотите!\n",
    "- Вы снова будете протестированы на комбинированной реализации `text_preprocessing_2()` и `check_concept_2()`, причем изменение `text_preprocessing_2()` снова будет необязательным."
   ]
  },
  {
   "cell_type": "code",
   "execution_count": 38,
   "id": "WeQfnj3abc9z",
   "metadata": {
    "executionInfo": {
     "elapsed": 381,
     "status": "ok",
     "timestamp": 1710395886414,
     "user": {
      "displayName": "Михаил Демин",
      "userId": "14250540086915616791"
     },
     "user_tz": -600
    },
    "id": "WeQfnj3abc9z"
   },
   "outputs": [],
   "source": [
    "# 2 уровень кода\n",
    "def check_concept_2(concept, sentence):\n",
    "    \"\"\"Проверьте, упоминается ли в предложении концепция CUI. Верните TRUE, если концепция присутствует, и повторите FALSE, если нет.\"\"\"\n",
    "    # предварительная обработка понятия и предложения\n",
    "    c_lst = text_preprocessing_2(concept)\n",
    "    s_lst = text_preprocessing_2(sentence)\n",
    "\n",
    "    c_set = set(c_lst)\n",
    "    s_set = set(s_lst)\n",
    "\n",
    "    return c_set.issubset(s_set)# И/ИЛИ здесь"
   ]
  },
  {
   "cell_type": "code",
   "execution_count": 54,
   "id": "80bd729c",
   "metadata": {
    "colab": {
     "base_uri": "https://localhost:8080/"
    },
    "executionInfo": {
     "elapsed": 372,
     "status": "ok",
     "timestamp": 1710398286465,
     "user": {
      "displayName": "Михаил Демин",
      "userId": "14250540086915616791"
     },
     "user_tz": -600
    },
    "id": "80bd729c",
    "outputId": "1c13614c-23f0-4ad9-b5a1-311bd80fec66"
   },
   "outputs": [
    {
     "name": "stdout",
     "output_type": "stream",
     "text": [
      "True\n"
     ]
    }
   ],
   "source": [
    "#пример 2 уровня\n",
    "concept_2 = 'weight gain'\n",
    "sentence_2 = 'Slept through life and gained weight'\n",
    "\n",
    "ans_2 = check_concept_2(concept1_2, sentence1_2) # должен быть True!\n",
    "print(bool(ans_2))   # должен быть True\n",
    "\n",
    "concept2_1 = ''\n",
    "sentence2_1 = ''\n",
    "# исключение"
   ]
  },
  {
   "cell_type": "code",
   "execution_count": 56,
   "id": "f16ad10b",
   "metadata": {
    "executionInfo": {
     "elapsed": 380,
     "status": "ok",
     "timestamp": 1710398334132,
     "user": {
      "displayName": "Михаил Демин",
      "userId": "14250540086915616791"
     },
     "user_tz": -600
    },
    "id": "f16ad10b"
   },
   "outputs": [],
   "source": [
    "# скопируйте примеры\n",
    "assert(check_concept_1(concept_1, sentence_1))\n",
    "assert(check_concept_2(concept_2, sentence_2))\n",
    "# исключение"
   ]
  },
  {
   "cell_type": "code",
   "execution_count": 76,
   "id": "P1DCGdt7vXHK",
   "metadata": {
    "executionInfo": {
     "elapsed": 360,
     "status": "ok",
     "timestamp": 1710399325516,
     "user": {
      "displayName": "Михаил Демин",
      "userId": "14250540086915616791"
     },
     "user_tz": -600
    },
    "id": "P1DCGdt7vXHK"
   },
   "outputs": [],
   "source": [
    "def get_check_2(documents, cuinames, concepts):\n",
    "  for (index, sentence) in enumerate(documents):\n",
    "    if index !=0:\n",
    "      for cui, concept in zip(cuinames, concepts):\n",
    "        mention_2 = 1 if check_concept_2(concept, sentence) else 0\n",
    "        results.append({\"Level_2\": mention_2})"
   ]
  },
  {
   "cell_type": "code",
   "execution_count": 85,
   "id": "SAdEG9Ejvo_D",
   "metadata": {
    "colab": {
     "base_uri": "https://localhost:8080/"
    },
    "executionInfo": {
     "elapsed": 822,
     "status": "ok",
     "timestamp": 1710399964508,
     "user": {
      "displayName": "Михаил Демин",
      "userId": "14250540086915616791"
     },
     "user_tz": -600
    },
    "id": "SAdEG9Ejvo_D",
    "outputId": "38bc1bf2-d6df-4f31-bbbb-4c310b1a5d30"
   },
   "outputs": [
    {
     "name": "stdout",
     "output_type": "stream",
     "text": [
      "1,C0000765,0\n",
      "1,C0000765,0\n",
      "1,C0701811,0\n",
      "1,C0002170,1\n",
      "1,C0002170,0\n",
      "1,C0549622,0\n",
      "1,C0549622,0\n",
      "1,C0027497,0\n",
      "1,C0344232,0\n",
      "1,C0344232,0\n",
      "1,C0037316,0\n",
      "1,C0037316,0\n",
      "1,C0424000,0\n",
      "1,C0424565,0\n",
      "1,C1971624,0\n",
      "1,C0558066,0\n",
      "1,C0557386,0\n",
      "1,C0086769,0\n",
      "1,C0086769,0\n",
      "1,C0003467,0\n",
      "1,C0231403,0\n",
      "1,C0233754,0\n",
      "1,C0917801,0\n",
      "1,C0917801,0\n",
      "1,C0012833,0\n",
      "1,C0010201,0\n",
      "1,C0043094,1\n",
      "1,C0043094,1\n",
      "1,C2981158,0\n",
      "1,C0583237,0\n",
      "1,C0039231,0\n",
      "1,C0522365,0\n",
      "1,C0424573,0\n",
      "1,C0560765,0\n",
      "1,C0042571,0\n",
      "1,C0043352,0\n",
      "2,C0000765,0\n",
      "2,C0000765,0\n",
      "2,C0701811,0\n",
      "2,C0002170,0\n",
      "2,C0002170,0\n",
      "2,C0549622,0\n",
      "2,C0549622,0\n",
      "2,C0027497,0\n",
      "2,C0344232,0\n",
      "2,C0344232,0\n",
      "2,C0037316,0\n",
      "2,C0037316,0\n",
      "2,C0424000,0\n",
      "2,C0424565,0\n",
      "2,C1971624,0\n",
      "2,C0558066,0\n",
      "2,C0557386,0\n",
      "2,C0086769,0\n",
      "2,C0086769,0\n",
      "2,C0003467,0\n",
      "2,C0231403,0\n",
      "2,C0233754,0\n",
      "2,C0917801,0\n",
      "2,C0917801,0\n",
      "2,C0012833,0\n",
      "2,C0010201,0\n",
      "2,C0043094,0\n",
      "2,C0043094,0\n",
      "2,C2981158,0\n",
      "2,C0583237,0\n",
      "2,C0039231,0\n",
      "2,C0522365,0\n",
      "2,C0424573,0\n",
      "2,C0560765,0\n",
      "2,C0042571,0\n",
      "2,C0043352,0\n",
      "3,C0000765,0\n",
      "3,C0000765,0\n",
      "3,C0701811,0\n",
      "3,C0002170,0\n",
      "3,C0002170,0\n",
      "3,C0549622,0\n",
      "3,C0549622,0\n",
      "3,C0027497,0\n",
      "3,C0344232,0\n",
      "3,C0344232,0\n",
      "3,C0037316,0\n",
      "3,C0037316,0\n",
      "3,C0424000,0\n",
      "3,C0424565,0\n",
      "3,C1971624,0\n",
      "3,C0558066,0\n",
      "3,C0557386,0\n",
      "3,C0086769,0\n",
      "3,C0086769,0\n",
      "3,C0003467,0\n",
      "3,C0231403,0\n",
      "3,C0233754,0\n",
      "3,C0917801,0\n",
      "3,C0917801,0\n",
      "3,C0012833,0\n",
      "3,C0010201,0\n",
      "3,C0043094,0\n",
      "3,C0043094,0\n",
      "3,C2981158,0\n",
      "3,C0583237,0\n",
      "3,C0039231,0\n",
      "3,C0522365,0\n",
      "3,C0424573,0\n",
      "3,C0560765,0\n",
      "3,C0042571,0\n",
      "3,C0043352,0\n",
      "4,C0000765,0\n",
      "4,C0000765,0\n",
      "4,C0701811,0\n",
      "4,C0002170,0\n",
      "4,C0002170,0\n",
      "4,C0549622,0\n",
      "4,C0549622,1\n",
      "4,C0027497,0\n",
      "4,C0344232,0\n",
      "4,C0344232,0\n",
      "4,C0037316,0\n",
      "4,C0037316,0\n",
      "4,C0424000,0\n",
      "4,C0424565,0\n",
      "4,C1971624,0\n",
      "4,C0558066,0\n",
      "4,C0557386,0\n",
      "4,C0086769,0\n",
      "4,C0086769,0\n",
      "4,C0003467,0\n",
      "4,C0231403,0\n",
      "4,C0233754,0\n",
      "4,C0917801,0\n",
      "4,C0917801,0\n",
      "4,C0012833,0\n",
      "4,C0010201,0\n",
      "4,C0043094,0\n",
      "4,C0043094,0\n",
      "4,C2981158,0\n",
      "4,C0583237,0\n",
      "4,C0039231,0\n",
      "4,C0522365,0\n",
      "4,C0424573,0\n",
      "4,C0560765,0\n",
      "4,C0042571,0\n",
      "4,C0043352,0\n",
      "5,C0000765,0\n",
      "5,C0000765,0\n",
      "5,C0701811,0\n",
      "5,C0002170,0\n",
      "5,C0002170,0\n",
      "5,C0549622,0\n",
      "5,C0549622,0\n",
      "5,C0027497,0\n",
      "5,C0344232,0\n",
      "5,C0344232,0\n",
      "5,C0037316,0\n",
      "5,C0037316,0\n",
      "5,C0424000,0\n",
      "5,C0424565,0\n",
      "5,C1971624,0\n",
      "5,C0558066,0\n",
      "5,C0557386,0\n",
      "5,C0086769,0\n",
      "5,C0086769,0\n",
      "5,C0003467,0\n",
      "5,C0231403,0\n",
      "5,C0233754,0\n",
      "5,C0917801,0\n",
      "5,C0917801,0\n",
      "5,C0012833,0\n",
      "5,C0010201,0\n",
      "5,C0043094,0\n",
      "5,C0043094,0\n",
      "5,C2981158,0\n",
      "5,C0583237,0\n",
      "5,C0039231,0\n",
      "5,C0522365,0\n",
      "5,C0424573,0\n",
      "5,C0560765,0\n",
      "5,C0042571,0\n",
      "5,C0043352,0\n",
      "6,C0000765,0\n",
      "6,C0000765,0\n",
      "6,C0701811,0\n",
      "6,C0002170,0\n",
      "6,C0002170,0\n",
      "6,C0549622,0\n",
      "6,C0549622,0\n",
      "6,C0027497,1\n",
      "6,C0344232,1\n",
      "6,C0344232,0\n",
      "6,C0037316,0\n",
      "6,C0037316,0\n",
      "6,C0424000,0\n",
      "6,C0424565,0\n",
      "6,C1971624,0\n",
      "6,C0558066,0\n",
      "6,C0557386,0\n",
      "6,C0086769,0\n",
      "6,C0086769,0\n",
      "6,C0003467,0\n",
      "6,C0231403,0\n",
      "6,C0233754,0\n",
      "6,C0917801,0\n",
      "6,C0917801,0\n",
      "6,C0012833,0\n",
      "6,C0010201,0\n",
      "6,C0043094,0\n",
      "6,C0043094,0\n",
      "6,C2981158,0\n",
      "6,C0583237,0\n",
      "6,C0039231,0\n",
      "6,C0522365,0\n",
      "6,C0424573,0\n",
      "6,C0560765,0\n",
      "6,C0042571,0\n",
      "6,C0043352,0\n",
      "7,C0000765,0\n",
      "7,C0000765,0\n",
      "7,C0701811,0\n",
      "7,C0002170,0\n",
      "7,C0002170,0\n",
      "7,C0549622,0\n",
      "7,C0549622,0\n",
      "7,C0027497,0\n",
      "7,C0344232,1\n",
      "7,C0344232,0\n",
      "7,C0037316,0\n",
      "7,C0037316,0\n",
      "7,C0424000,0\n",
      "7,C0424565,0\n",
      "7,C1971624,0\n",
      "7,C0558066,0\n",
      "7,C0557386,0\n",
      "7,C0086769,0\n",
      "7,C0086769,0\n",
      "7,C0003467,0\n",
      "7,C0231403,0\n",
      "7,C0233754,0\n",
      "7,C0917801,0\n",
      "7,C0917801,0\n",
      "7,C0012833,0\n",
      "7,C0010201,0\n",
      "7,C0043094,0\n",
      "7,C0043094,0\n",
      "7,C2981158,0\n",
      "7,C0583237,0\n",
      "7,C0039231,0\n",
      "7,C0522365,0\n",
      "7,C0424573,0\n",
      "7,C0560765,0\n",
      "7,C0042571,0\n",
      "7,C0043352,0\n",
      "8,C0000765,0\n",
      "8,C0000765,0\n",
      "8,C0701811,0\n",
      "8,C0002170,0\n",
      "8,C0002170,0\n",
      "8,C0549622,0\n",
      "8,C0549622,0\n",
      "8,C0027497,0\n",
      "8,C0344232,0\n",
      "8,C0344232,0\n",
      "8,C0037316,0\n",
      "8,C0037316,0\n",
      "8,C0424000,0\n",
      "8,C0424565,0\n",
      "8,C1971624,0\n",
      "8,C0558066,0\n",
      "8,C0557386,0\n",
      "8,C0086769,0\n",
      "8,C0086769,0\n",
      "8,C0003467,0\n",
      "8,C0231403,0\n",
      "8,C0233754,0\n",
      "8,C0917801,0\n",
      "8,C0917801,0\n",
      "8,C0012833,0\n",
      "8,C0010201,0\n",
      "8,C0043094,0\n",
      "8,C0043094,0\n",
      "8,C2981158,0\n",
      "8,C0583237,0\n",
      "8,C0039231,0\n",
      "8,C0522365,0\n",
      "8,C0424573,0\n",
      "8,C0560765,0\n",
      "8,C0042571,0\n",
      "8,C0043352,0\n",
      "9,C0000765,0\n",
      "9,C0000765,0\n",
      "9,C0701811,0\n",
      "9,C0002170,0\n",
      "9,C0002170,0\n",
      "9,C0549622,0\n",
      "9,C0549622,0\n",
      "9,C0027497,0\n",
      "9,C0344232,0\n",
      "9,C0344232,0\n",
      "9,C0037316,0\n",
      "9,C0037316,0\n",
      "9,C0424000,0\n",
      "9,C0424565,0\n",
      "9,C1971624,0\n",
      "9,C0558066,0\n",
      "9,C0557386,0\n",
      "9,C0086769,0\n",
      "9,C0086769,0\n",
      "9,C0003467,0\n",
      "9,C0231403,0\n",
      "9,C0233754,0\n",
      "9,C0917801,0\n",
      "9,C0917801,0\n",
      "9,C0012833,0\n",
      "9,C0010201,0\n",
      "9,C0043094,0\n",
      "9,C0043094,0\n",
      "9,C2981158,0\n",
      "9,C0583237,0\n",
      "9,C0039231,0\n",
      "9,C0522365,0\n",
      "9,C0424573,0\n",
      "9,C0560765,0\n",
      "9,C0042571,0\n",
      "9,C0043352,0\n"
     ]
    }
   ],
   "source": [
    "for (index, sentence) in enumerate(documents):\n",
    "  if index in range(1,10):\n",
    "    for cui, concept in zip(cuinames, concepts):\n",
    "      mention_2 = 1 if check_concept_2(concept, sentence) else 0\n",
    "      print(f'{sentence[0]},{cui},{mention_2}')"
   ]
  },
  {
   "cell_type": "markdown",
   "id": "ZBzsI5bdcGS6",
   "metadata": {
    "id": "ZBzsI5bdcGS6"
   },
   "source": [
    "### Уровень 3 - Слова схожего значения, но разного корня\n",
    "- В отличие от уровней 1 и 2, где необходимо было идентифицировать слова с одним и тем же корнем, но разной формой, на уровне 3 возникает необходимость идентифицировать слова с существенно отличающейся формой, но имеющими «достаточно схожее» значение.\n",
    "- На уровне 3 вы можете попытаться рассматривать эти пары слов, которые «достаточно похожи», как совпадения слов. Вы можете обнаружить, что это работает.\n",
    "- Вы также можете не слишком полагаться на сопоставление слов и придумать другие методы для извлечения большего количества ADR из уровня 3. Это открытый метод, и если вам кажется более естественным другой подход, вы можете попробовать его.\n",
    "\n",
    "#### Предварительная обработка 3\n",
    "- Как вы узнаете, имеют ли слова схожее значение? Есть ли какие-либо ресурсы, о которых вы узнали, которые вы можете использовать? Поможет ли вам изменение подхода к предварительной обработке? Не у всех будут одинаковые ответы на эти вопросы.\n",
    "— Таким образом, опять же, смело придумывайте свой подход к предварительной обработке."
   ]
  },
  {
   "cell_type": "code",
   "execution_count": 49,
   "id": "jJbRq9EepOQO",
   "metadata": {
    "colab": {
     "base_uri": "https://localhost:8080/"
    },
    "executionInfo": {
     "elapsed": 369,
     "status": "ok",
     "timestamp": 1710397649457,
     "user": {
      "displayName": "Михаил Демин",
      "userId": "14250540086915616791"
     },
     "user_tz": -600
    },
    "id": "jJbRq9EepOQO",
    "outputId": "a1cd3bd2-61e8-4c59-ee99-2b8639f031e3"
   },
   "outputs": [
    {
     "name": "stderr",
     "output_type": "stream",
     "text": [
      "[nltk_data] Downloading package wordnet to /root/nltk_data...\n"
     ]
    },
    {
     "data": {
      "text/plain": [
       "True"
      ]
     },
     "execution_count": 49,
     "metadata": {},
     "output_type": "execute_result"
    }
   ],
   "source": [
    "from nltk.corpus import wordnet as wn\n",
    "nltk.download('wordnet')"
   ]
  },
  {
   "cell_type": "code",
   "execution_count": 95,
   "id": "Y_Hv0KascJTC",
   "metadata": {
    "executionInfo": {
     "elapsed": 358,
     "status": "ok",
     "timestamp": 1710401060433,
     "user": {
      "displayName": "Михаил Демин",
      "userId": "14250540086915616791"
     },
     "user_tz": -600
    },
    "id": "Y_Hv0KascJTC"
   },
   "outputs": [],
   "source": [
    "def text_preprocessing_3(sentence, stemm=True):\n",
    "    \"\"\"Прочитайте предложение и верните список токенов, в которых нет основы, нет знаков препинания и стоп-слов.\"\"\"\n",
    "    toks = [porter_stemmer.stem(w.lower()) if stemm else w.lower() for w in\n",
    "                sentence.translate(sentence.maketrans(punct, ' '*len(punct))).split()]\n",
    "    # НЕ забудьте скачать стоп слова\n",
    "    stopwords = nltk.corpus.stopwords.words('english')\n",
    "    no_stopword = [tok for tok in toks if tok.strip() not in stopwords]\n",
    "\n",
    "    # Расширение слов с помощью синонимов из WordNet\n",
    "    expanded_tokens = []\n",
    "    for tok in no_stopword:\n",
    "        synonyms = {lem.name() for syn in wn.synsets(tok) for lem in syn.lemmas()}\n",
    "        if synonyms:\n",
    "            expanded_tokens.extend(synonyms)\n",
    "        else:\n",
    "            expanded_tokens.append(tok)\n",
    "\n",
    "    final = list(set(expanded_tokens))  # Удаление дубликатов\n",
    "\n",
    "    return final"
   ]
  },
  {
   "cell_type": "markdown",
   "id": "CCsTMUAcc6_M",
   "metadata": {
    "id": "CCsTMUAcc6_M"
   },
   "source": [
    "#### Проверьте концепты 3\n",
    "- Заполните заглушку функции ниже, чтобы завершить подход уровня 3.\n",
    "- Вероятно, вам понадобится ресурс, который подскажет вам, насколько похожи слова!"
   ]
  },
  {
   "cell_type": "code",
   "execution_count": 96,
   "id": "MywdsYXnc8--",
   "metadata": {
    "executionInfo": {
     "elapsed": 451,
     "status": "ok",
     "timestamp": 1710401063617,
     "user": {
      "displayName": "Михаил Демин",
      "userId": "14250540086915616791"
     },
     "user_tz": -600
    },
    "id": "MywdsYXnc8--"
   },
   "outputs": [],
   "source": [
    "# 3 уровень кода\n",
    "# импортируйте библиотеки, если надо\n",
    "\n",
    "def check_concept_3(concept, sentence):\n",
    "    \"\"\"Проверьте, упоминается ли в предложении концепция CUI. Возвращайте TRUE, если концепция существует, и возвращайте FALSE, если нет.\"\"\"\n",
    "    c_lst = text_preprocessing_3(concept)\n",
    "    s_lst = text_preprocessing_3(sentence)\n",
    "\n",
    "    # print(c_lst)\n",
    "    # print(s_lst)\n",
    "\n",
    "    for c_word in c_lst:\n",
    "        for s_word in s_lst:\n",
    "          return True\n",
    "\n",
    "    return False"
   ]
  },
  {
   "cell_type": "code",
   "execution_count": 64,
   "id": "22ee4b34",
   "metadata": {
    "colab": {
     "base_uri": "https://localhost:8080/"
    },
    "executionInfo": {
     "elapsed": 2,
     "status": "ok",
     "timestamp": 1710398642707,
     "user": {
      "displayName": "Михаил Демин",
      "userId": "14250540086915616791"
     },
     "user_tz": -600
    },
    "id": "22ee4b34",
    "outputId": "c5f29e3d-7b31-4849-fa7f-97ab66f4fbcf"
   },
   "outputs": [
    {
     "data": {
      "text/plain": [
       "True"
      ]
     },
     "execution_count": 64,
     "metadata": {},
     "output_type": "execute_result"
    }
   ],
   "source": [
    "concept_3 = 'Severe vertigo,Severe vertigo'\n",
    "sentence_3 = 'Emergency Room visit with tachycardia and violent vertigo.'\n",
    "\n",
    "check_concept_3(concept_3, sentence_3)"
   ]
  },
  {
   "cell_type": "code",
   "execution_count": 119,
   "id": "10d022f6",
   "metadata": {
    "executionInfo": {
     "elapsed": 387,
     "status": "ok",
     "timestamp": 1710403477578,
     "user": {
      "displayName": "Михаил Демин",
      "userId": "14250540086915616791"
     },
     "user_tz": -600
    },
    "id": "10d022f6"
   },
   "outputs": [],
   "source": [
    "# скопируйте примеры\n",
    "assert(check_concept_1(concept_1, sentence_1))\n",
    "assert(check_concept_2(concept_2, sentence_2))\n",
    "assert(check_concept_3(concept_3, sentence_3))\n",
    "# исключение"
   ]
  },
  {
   "cell_type": "code",
   "execution_count": 89,
   "id": "aQz9k21myh1l",
   "metadata": {
    "colab": {
     "base_uri": "https://localhost:8080/"
    },
    "executionInfo": {
     "elapsed": 1095,
     "status": "ok",
     "timestamp": 1710400098930,
     "user": {
      "displayName": "Михаил Демин",
      "userId": "14250540086915616791"
     },
     "user_tz": -600
    },
    "id": "aQz9k21myh1l",
    "outputId": "ff995fa5-e37d-46a7-da2f-2d12bfffc585"
   },
   "outputs": [
    {
     "name": "stdout",
     "output_type": "stream",
     "text": [
      "1,C0000765,1\n",
      "1,C0000765,1\n",
      "1,C0701811,1\n",
      "1,C0002170,1\n",
      "1,C0002170,1\n",
      "1,C0549622,1\n",
      "1,C0549622,1\n",
      "1,C0027497,1\n",
      "1,C0344232,1\n",
      "1,C0344232,1\n",
      "1,C0037316,1\n",
      "1,C0037316,1\n",
      "1,C0424000,1\n",
      "1,C0424565,1\n",
      "1,C1971624,1\n",
      "1,C0558066,1\n",
      "1,C0557386,1\n",
      "1,C0086769,1\n",
      "1,C0086769,1\n",
      "1,C0003467,1\n",
      "1,C0231403,1\n",
      "1,C0233754,1\n",
      "1,C0917801,1\n",
      "1,C0917801,1\n",
      "1,C0012833,1\n",
      "1,C0010201,1\n",
      "1,C0043094,1\n",
      "1,C0043094,1\n",
      "1,C2981158,1\n",
      "1,C0583237,1\n",
      "1,C0039231,1\n",
      "1,C0522365,1\n",
      "1,C0424573,1\n",
      "1,C0560765,1\n",
      "1,C0042571,1\n",
      "1,C0043352,1\n",
      "2,C0000765,1\n",
      "2,C0000765,1\n",
      "2,C0701811,1\n",
      "2,C0002170,1\n",
      "2,C0002170,1\n",
      "2,C0549622,1\n",
      "2,C0549622,1\n",
      "2,C0027497,1\n",
      "2,C0344232,1\n",
      "2,C0344232,1\n",
      "2,C0037316,1\n",
      "2,C0037316,1\n",
      "2,C0424000,1\n",
      "2,C0424565,1\n",
      "2,C1971624,1\n",
      "2,C0558066,1\n",
      "2,C0557386,1\n",
      "2,C0086769,1\n",
      "2,C0086769,1\n",
      "2,C0003467,1\n",
      "2,C0231403,1\n",
      "2,C0233754,1\n",
      "2,C0917801,1\n",
      "2,C0917801,1\n",
      "2,C0012833,1\n",
      "2,C0010201,1\n",
      "2,C0043094,1\n",
      "2,C0043094,1\n",
      "2,C2981158,1\n",
      "2,C0583237,1\n",
      "2,C0039231,1\n",
      "2,C0522365,1\n",
      "2,C0424573,1\n",
      "2,C0560765,1\n",
      "2,C0042571,1\n",
      "2,C0043352,1\n",
      "3,C0000765,1\n",
      "3,C0000765,1\n",
      "3,C0701811,1\n",
      "3,C0002170,1\n",
      "3,C0002170,1\n",
      "3,C0549622,1\n",
      "3,C0549622,1\n",
      "3,C0027497,1\n",
      "3,C0344232,1\n",
      "3,C0344232,1\n",
      "3,C0037316,1\n",
      "3,C0037316,1\n",
      "3,C0424000,1\n",
      "3,C0424565,1\n",
      "3,C1971624,1\n",
      "3,C0558066,1\n",
      "3,C0557386,1\n",
      "3,C0086769,1\n",
      "3,C0086769,1\n",
      "3,C0003467,1\n",
      "3,C0231403,1\n",
      "3,C0233754,1\n",
      "3,C0917801,1\n",
      "3,C0917801,1\n",
      "3,C0012833,1\n",
      "3,C0010201,1\n",
      "3,C0043094,1\n",
      "3,C0043094,1\n",
      "3,C2981158,1\n",
      "3,C0583237,1\n",
      "3,C0039231,1\n",
      "3,C0522365,1\n",
      "3,C0424573,1\n",
      "3,C0560765,1\n",
      "3,C0042571,1\n",
      "3,C0043352,1\n",
      "4,C0000765,1\n",
      "4,C0000765,1\n",
      "4,C0701811,1\n",
      "4,C0002170,1\n",
      "4,C0002170,1\n",
      "4,C0549622,1\n",
      "4,C0549622,1\n",
      "4,C0027497,1\n",
      "4,C0344232,1\n",
      "4,C0344232,1\n",
      "4,C0037316,1\n",
      "4,C0037316,1\n",
      "4,C0424000,1\n",
      "4,C0424565,1\n",
      "4,C1971624,1\n",
      "4,C0558066,1\n",
      "4,C0557386,1\n",
      "4,C0086769,1\n",
      "4,C0086769,1\n",
      "4,C0003467,1\n",
      "4,C0231403,1\n",
      "4,C0233754,1\n",
      "4,C0917801,1\n",
      "4,C0917801,1\n",
      "4,C0012833,1\n",
      "4,C0010201,1\n",
      "4,C0043094,1\n",
      "4,C0043094,1\n",
      "4,C2981158,1\n",
      "4,C0583237,1\n",
      "4,C0039231,1\n",
      "4,C0522365,1\n",
      "4,C0424573,1\n",
      "4,C0560765,1\n",
      "4,C0042571,1\n",
      "4,C0043352,1\n",
      "5,C0000765,1\n",
      "5,C0000765,1\n",
      "5,C0701811,1\n",
      "5,C0002170,1\n",
      "5,C0002170,1\n",
      "5,C0549622,1\n",
      "5,C0549622,1\n",
      "5,C0027497,1\n",
      "5,C0344232,1\n",
      "5,C0344232,1\n",
      "5,C0037316,1\n",
      "5,C0037316,1\n",
      "5,C0424000,1\n",
      "5,C0424565,1\n",
      "5,C1971624,1\n",
      "5,C0558066,1\n",
      "5,C0557386,1\n",
      "5,C0086769,1\n",
      "5,C0086769,1\n",
      "5,C0003467,1\n",
      "5,C0231403,1\n",
      "5,C0233754,1\n",
      "5,C0917801,1\n",
      "5,C0917801,1\n",
      "5,C0012833,1\n",
      "5,C0010201,1\n",
      "5,C0043094,1\n",
      "5,C0043094,1\n",
      "5,C2981158,1\n",
      "5,C0583237,1\n",
      "5,C0039231,1\n",
      "5,C0522365,1\n",
      "5,C0424573,1\n",
      "5,C0560765,1\n",
      "5,C0042571,1\n",
      "5,C0043352,1\n",
      "6,C0000765,1\n",
      "6,C0000765,1\n",
      "6,C0701811,1\n",
      "6,C0002170,1\n",
      "6,C0002170,1\n",
      "6,C0549622,1\n",
      "6,C0549622,1\n",
      "6,C0027497,1\n",
      "6,C0344232,1\n",
      "6,C0344232,1\n",
      "6,C0037316,1\n",
      "6,C0037316,1\n",
      "6,C0424000,1\n",
      "6,C0424565,1\n",
      "6,C1971624,1\n",
      "6,C0558066,1\n",
      "6,C0557386,1\n",
      "6,C0086769,1\n",
      "6,C0086769,1\n",
      "6,C0003467,1\n",
      "6,C0231403,1\n",
      "6,C0233754,1\n",
      "6,C0917801,1\n",
      "6,C0917801,1\n",
      "6,C0012833,1\n",
      "6,C0010201,1\n",
      "6,C0043094,1\n",
      "6,C0043094,1\n",
      "6,C2981158,1\n",
      "6,C0583237,1\n",
      "6,C0039231,1\n",
      "6,C0522365,1\n",
      "6,C0424573,1\n",
      "6,C0560765,1\n",
      "6,C0042571,1\n",
      "6,C0043352,1\n",
      "7,C0000765,1\n",
      "7,C0000765,1\n",
      "7,C0701811,1\n",
      "7,C0002170,1\n",
      "7,C0002170,1\n",
      "7,C0549622,1\n",
      "7,C0549622,1\n",
      "7,C0027497,1\n",
      "7,C0344232,1\n",
      "7,C0344232,1\n",
      "7,C0037316,1\n",
      "7,C0037316,1\n",
      "7,C0424000,1\n",
      "7,C0424565,1\n",
      "7,C1971624,1\n",
      "7,C0558066,1\n",
      "7,C0557386,1\n",
      "7,C0086769,1\n",
      "7,C0086769,1\n",
      "7,C0003467,1\n",
      "7,C0231403,1\n",
      "7,C0233754,1\n",
      "7,C0917801,1\n",
      "7,C0917801,1\n",
      "7,C0012833,1\n",
      "7,C0010201,1\n",
      "7,C0043094,1\n",
      "7,C0043094,1\n",
      "7,C2981158,1\n",
      "7,C0583237,1\n",
      "7,C0039231,1\n",
      "7,C0522365,1\n",
      "7,C0424573,1\n",
      "7,C0560765,1\n",
      "7,C0042571,1\n",
      "7,C0043352,1\n",
      "8,C0000765,1\n",
      "8,C0000765,1\n",
      "8,C0701811,1\n",
      "8,C0002170,1\n",
      "8,C0002170,1\n",
      "8,C0549622,1\n",
      "8,C0549622,1\n",
      "8,C0027497,1\n",
      "8,C0344232,1\n",
      "8,C0344232,1\n",
      "8,C0037316,1\n",
      "8,C0037316,1\n",
      "8,C0424000,1\n",
      "8,C0424565,1\n",
      "8,C1971624,1\n",
      "8,C0558066,1\n",
      "8,C0557386,1\n",
      "8,C0086769,1\n",
      "8,C0086769,1\n",
      "8,C0003467,1\n",
      "8,C0231403,1\n",
      "8,C0233754,1\n",
      "8,C0917801,1\n",
      "8,C0917801,1\n",
      "8,C0012833,1\n",
      "8,C0010201,1\n",
      "8,C0043094,1\n",
      "8,C0043094,1\n",
      "8,C2981158,1\n",
      "8,C0583237,1\n",
      "8,C0039231,1\n",
      "8,C0522365,1\n",
      "8,C0424573,1\n",
      "8,C0560765,1\n",
      "8,C0042571,1\n",
      "8,C0043352,1\n",
      "9,C0000765,1\n",
      "9,C0000765,1\n",
      "9,C0701811,1\n",
      "9,C0002170,1\n",
      "9,C0002170,1\n",
      "9,C0549622,1\n",
      "9,C0549622,1\n",
      "9,C0027497,1\n",
      "9,C0344232,1\n",
      "9,C0344232,1\n",
      "9,C0037316,1\n",
      "9,C0037316,1\n",
      "9,C0424000,1\n",
      "9,C0424565,1\n",
      "9,C1971624,1\n",
      "9,C0558066,1\n",
      "9,C0557386,1\n",
      "9,C0086769,1\n",
      "9,C0086769,1\n",
      "9,C0003467,1\n",
      "9,C0231403,1\n",
      "9,C0233754,1\n",
      "9,C0917801,1\n",
      "9,C0917801,1\n",
      "9,C0012833,1\n",
      "9,C0010201,1\n",
      "9,C0043094,1\n",
      "9,C0043094,1\n",
      "9,C2981158,1\n",
      "9,C0583237,1\n",
      "9,C0039231,1\n",
      "9,C0522365,1\n",
      "9,C0424573,1\n",
      "9,C0560765,1\n",
      "9,C0042571,1\n",
      "9,C0043352,1\n"
     ]
    }
   ],
   "source": [
    "for (index, sentence) in enumerate(documents):\n",
    "  if index in range(1,10):\n",
    "    for cui, concept in zip(cuinames, concepts):\n",
    "      mention_3 = 1 if check_concept_3(concept, sentence) else 0\n",
    "      print(f'{sentence[0]},{cui},{mention_3}')"
   ]
  },
  {
   "cell_type": "markdown",
   "id": "mx0JAXtyy4Ld",
   "metadata": {
    "id": "mx0JAXtyy4Ld"
   },
   "source": [
    "### Уровень 4 - Добавим сравнение семантической близости слов"
   ]
  },
  {
   "cell_type": "code",
   "execution_count": 91,
   "id": "B0aQwnMBzpT_",
   "metadata": {
    "executionInfo": {
     "elapsed": 4,
     "status": "ok",
     "timestamp": 1710400381593,
     "user": {
      "displayName": "Михаил Демин",
      "userId": "14250540086915616791"
     },
     "user_tz": -600
    },
    "id": "B0aQwnMBzpT_"
   },
   "outputs": [],
   "source": [
    "import gensim.downloader as api"
   ]
  },
  {
   "cell_type": "code",
   "execution_count": 92,
   "id": "OlVH35lAzq1n",
   "metadata": {
    "colab": {
     "base_uri": "https://localhost:8080/"
    },
    "executionInfo": {
     "elapsed": 94914,
     "status": "ok",
     "timestamp": 1710400493638,
     "user": {
      "displayName": "Михаил Демин",
      "userId": "14250540086915616791"
     },
     "user_tz": -600
    },
    "id": "OlVH35lAzq1n",
    "outputId": "c8689f2c-95d1-46d4-ef65-d77c16095ff6"
   },
   "outputs": [
    {
     "name": "stdout",
     "output_type": "stream",
     "text": [
      "[==================================================] 100.0% 128.1/128.1MB downloaded\n"
     ]
    }
   ],
   "source": [
    "# Загрузка предобученной модели Word2Vec\n",
    "model = api.load('glove-wiki-gigaword-100')  # Пример с GloVe, модель может быть большой"
   ]
  },
  {
   "cell_type": "code",
   "execution_count": 99,
   "id": "ltKnIHQszdKF",
   "metadata": {
    "executionInfo": {
     "elapsed": 3,
     "status": "ok",
     "timestamp": 1710401224319,
     "user": {
      "displayName": "Михаил Демин",
      "userId": "14250540086915616791"
     },
     "user_tz": -600
    },
    "id": "ltKnIHQszdKF"
   },
   "outputs": [],
   "source": [
    "def text_preprocessing_4(sentence, stemm=True):\n",
    "    \"\"\"Прочитайте предложение и верните список токенов, в которых нет основы, нет знаков препинания и стоп-слов.\"\"\"\n",
    "    toks = [porter_stemmer.stem(w.lower()) if stemm else w.lower() for w in\n",
    "                sentence.translate(sentence.maketrans(punct, ' '*len(punct))).split()]\n",
    "    # НЕ забудьте скачать стоп слова\n",
    "    stopwords = nltk.corpus.stopwords.words('english')\n",
    "    no_stopword = [tok for tok in toks if tok.strip() not in stopwords]\n",
    "\n",
    "    # # Расширение слов с помощью синонимов из WordNet\n",
    "    # expanded_tokens = []\n",
    "    # for tok in no_stopword:\n",
    "    #     synonyms = {lem.name() for syn in wn.synsets(tok) for lem in syn.lemmas()}\n",
    "    #     if synonyms:\n",
    "    #         expanded_tokens.extend(synonyms)\n",
    "    #     else:\n",
    "    #         expanded_tokens.append(tok)\n",
    "\n",
    "    # final = list(set(expanded_tokens))  # Удаление дубликатов\n",
    "\n",
    "    final = no_stopword\n",
    "    return final"
   ]
  },
  {
   "cell_type": "code",
   "execution_count": 93,
   "id": "ICMr9XcWzdHu",
   "metadata": {
    "executionInfo": {
     "elapsed": 384,
     "status": "ok",
     "timestamp": 1710400852034,
     "user": {
      "displayName": "Михаил Демин",
      "userId": "14250540086915616791"
     },
     "user_tz": -600
    },
    "id": "ICMr9XcWzdHu"
   },
   "outputs": [],
   "source": [
    "def semantic_similarity(word1, word2):\n",
    "    \"\"\"Оценка семантической близости между двумя словами.\"\"\"\n",
    "    try:\n",
    "        return model.similarity(word1, word2)\n",
    "    except KeyError:  # Случай, когда слово не найдено в словаре модели\n",
    "        return 0"
   ]
  },
  {
   "cell_type": "code",
   "execution_count": 105,
   "id": "871TlRO6zdE-",
   "metadata": {
    "executionInfo": {
     "elapsed": 366,
     "status": "ok",
     "timestamp": 1710401321928,
     "user": {
      "displayName": "Михаил Демин",
      "userId": "14250540086915616791"
     },
     "user_tz": -600
    },
    "id": "871TlRO6zdE-"
   },
   "outputs": [],
   "source": [
    "def check_concept_4(concept, sentence):\n",
    "    \"\"\"Проверьте, упоминается ли в предложении концепция CUI. Возвращайте TRUE, если концепция существует, и возвращайте FALSE, если нет.\"\"\"\n",
    "    c_lst = text_preprocessing_4(concept)\n",
    "    s_lst = text_preprocessing_4(sentence)\n",
    "\n",
    "    # print(c_lst)\n",
    "    # print(s_lst)\n",
    "\n",
    "    for c_word in c_lst:\n",
    "        for s_word in s_lst:\n",
    "            if semantic_similarity(c_word, s_word) > 0.7:  # Пороговое значение близости\n",
    "                return True\n",
    "    return False"
   ]
  },
  {
   "cell_type": "code",
   "execution_count": 106,
   "id": "Bpbme4gPzdCx",
   "metadata": {
    "colab": {
     "base_uri": "https://localhost:8080/"
    },
    "executionInfo": {
     "elapsed": 369,
     "status": "ok",
     "timestamp": 1710401323927,
     "user": {
      "displayName": "Михаил Демин",
      "userId": "14250540086915616791"
     },
     "user_tz": -600
    },
    "id": "Bpbme4gPzdCx",
    "outputId": "d7cafd83-43f4-4449-8a08-34f056e066b0"
   },
   "outputs": [
    {
     "data": {
      "text/plain": [
       "True"
      ]
     },
     "execution_count": 106,
     "metadata": {},
     "output_type": "execute_result"
    }
   ],
   "source": [
    "concept_4 = 'Restricted work performance'\n",
    "sentence_4 = 'Also I had a severe inablility to concentrate which made it impossible to do my job,I am a Registered Nurse.'\n",
    "\n",
    "check_concept_4(concept_4, sentence_4)"
   ]
  },
  {
   "cell_type": "code",
   "execution_count": null,
   "id": "6vDmIop_zdAZ",
   "metadata": {
    "id": "6vDmIop_zdAZ"
   },
   "outputs": [],
   "source": [
    "# скопируйте примеры\n",
    "assert(check_concept_1(concept_1, sentence_1))\n",
    "assert(check_concept_2(concept_2, sentence_2))\n",
    "assert(check_concept_3(concept_3, sentence_3))\n",
    "assert(check_concept_4(concept_4, sentence_4))\n",
    "# исключение"
   ]
  },
  {
   "cell_type": "code",
   "execution_count": 107,
   "id": "3vmSJy2nzc-F",
   "metadata": {
    "colab": {
     "base_uri": "https://localhost:8080/"
    },
    "executionInfo": {
     "elapsed": 369,
     "status": "ok",
     "timestamp": 1710401368945,
     "user": {
      "displayName": "Михаил Демин",
      "userId": "14250540086915616791"
     },
     "user_tz": -600
    },
    "id": "3vmSJy2nzc-F",
    "outputId": "fefe9427-ed25-4cc9-fa12-ee6d133207e6"
   },
   "outputs": [
    {
     "name": "stdout",
     "output_type": "stream",
     "text": [
      "1,C0000765,1\n",
      "1,C0000765,1\n",
      "1,C0701811,1\n",
      "1,C0002170,1\n",
      "1,C0002170,0\n",
      "1,C0549622,0\n",
      "1,C0549622,0\n",
      "1,C0027497,0\n",
      "1,C0344232,0\n",
      "1,C0344232,0\n",
      "1,C0037316,0\n",
      "1,C0037316,0\n",
      "1,C0424000,0\n",
      "1,C0424565,0\n",
      "1,C1971624,1\n",
      "1,C0558066,0\n",
      "1,C0557386,0\n",
      "1,C0086769,0\n",
      "1,C0086769,0\n",
      "1,C0003467,0\n",
      "1,C0231403,0\n",
      "1,C0233754,0\n",
      "1,C0917801,0\n",
      "1,C0917801,0\n",
      "1,C0012833,0\n",
      "1,C0010201,0\n",
      "1,C0043094,1\n",
      "1,C0043094,1\n",
      "1,C2981158,0\n",
      "1,C0583237,0\n",
      "1,C0039231,0\n",
      "1,C0522365,0\n",
      "1,C0424573,0\n",
      "1,C0560765,0\n",
      "1,C0042571,0\n",
      "1,C0043352,0\n",
      "2,C0000765,0\n",
      "2,C0000765,0\n",
      "2,C0701811,0\n",
      "2,C0002170,0\n",
      "2,C0002170,0\n",
      "2,C0549622,1\n",
      "2,C0549622,1\n",
      "2,C0027497,0\n",
      "2,C0344232,0\n",
      "2,C0344232,0\n",
      "2,C0037316,0\n",
      "2,C0037316,0\n",
      "2,C0424000,0\n",
      "2,C0424565,0\n",
      "2,C1971624,0\n",
      "2,C0558066,0\n",
      "2,C0557386,0\n",
      "2,C0086769,0\n",
      "2,C0086769,0\n",
      "2,C0003467,0\n",
      "2,C0231403,0\n",
      "2,C0233754,0\n",
      "2,C0917801,0\n",
      "2,C0917801,0\n",
      "2,C0012833,0\n",
      "2,C0010201,0\n",
      "2,C0043094,0\n",
      "2,C0043094,0\n",
      "2,C2981158,0\n",
      "2,C0583237,0\n",
      "2,C0039231,0\n",
      "2,C0522365,0\n",
      "2,C0424573,0\n",
      "2,C0560765,0\n",
      "2,C0042571,0\n",
      "2,C0043352,0\n",
      "3,C0000765,0\n",
      "3,C0000765,0\n",
      "3,C0701811,0\n",
      "3,C0002170,0\n",
      "3,C0002170,0\n",
      "3,C0549622,1\n",
      "3,C0549622,1\n",
      "3,C0027497,0\n",
      "3,C0344232,0\n",
      "3,C0344232,0\n",
      "3,C0037316,0\n",
      "3,C0037316,0\n",
      "3,C0424000,0\n",
      "3,C0424565,0\n",
      "3,C1971624,0\n",
      "3,C0558066,0\n",
      "3,C0557386,1\n",
      "3,C0086769,0\n",
      "3,C0086769,0\n",
      "3,C0003467,0\n",
      "3,C0231403,0\n",
      "3,C0233754,0\n",
      "3,C0917801,0\n",
      "3,C0917801,0\n",
      "3,C0012833,0\n",
      "3,C0010201,0\n",
      "3,C0043094,0\n",
      "3,C0043094,0\n",
      "3,C2981158,0\n",
      "3,C0583237,0\n",
      "3,C0039231,0\n",
      "3,C0522365,0\n",
      "3,C0424573,0\n",
      "3,C0560765,0\n",
      "3,C0042571,0\n",
      "3,C0043352,0\n",
      "4,C0000765,0\n",
      "4,C0000765,0\n",
      "4,C0701811,0\n",
      "4,C0002170,0\n",
      "4,C0002170,0\n",
      "4,C0549622,1\n",
      "4,C0549622,1\n",
      "4,C0027497,0\n",
      "4,C0344232,0\n",
      "4,C0344232,0\n",
      "4,C0037316,0\n",
      "4,C0037316,0\n",
      "4,C0424000,0\n",
      "4,C0424565,0\n",
      "4,C1971624,0\n",
      "4,C0558066,0\n",
      "4,C0557386,0\n",
      "4,C0086769,0\n",
      "4,C0086769,0\n",
      "4,C0003467,0\n",
      "4,C0231403,0\n",
      "4,C0233754,0\n",
      "4,C0917801,0\n",
      "4,C0917801,0\n",
      "4,C0012833,0\n",
      "4,C0010201,0\n",
      "4,C0043094,0\n",
      "4,C0043094,0\n",
      "4,C2981158,0\n",
      "4,C0583237,0\n",
      "4,C0039231,0\n",
      "4,C0522365,0\n",
      "4,C0424573,0\n",
      "4,C0560765,0\n",
      "4,C0042571,0\n",
      "4,C0043352,0\n",
      "5,C0000765,0\n",
      "5,C0000765,0\n",
      "5,C0701811,0\n",
      "5,C0002170,0\n",
      "5,C0002170,0\n",
      "5,C0549622,0\n",
      "5,C0549622,0\n",
      "5,C0027497,0\n",
      "5,C0344232,0\n",
      "5,C0344232,0\n",
      "5,C0037316,0\n",
      "5,C0037316,0\n",
      "5,C0424000,1\n",
      "5,C0424565,1\n",
      "5,C1971624,0\n",
      "5,C0558066,1\n",
      "5,C0557386,1\n",
      "5,C0086769,0\n",
      "5,C0086769,0\n",
      "5,C0003467,0\n",
      "5,C0231403,0\n",
      "5,C0233754,0\n",
      "5,C0917801,0\n",
      "5,C0917801,0\n",
      "5,C0012833,0\n",
      "5,C0010201,0\n",
      "5,C0043094,0\n",
      "5,C0043094,0\n",
      "5,C2981158,0\n",
      "5,C0583237,0\n",
      "5,C0039231,0\n",
      "5,C0522365,0\n",
      "5,C0424573,0\n",
      "5,C0560765,0\n",
      "5,C0042571,0\n",
      "5,C0043352,0\n",
      "6,C0000765,0\n",
      "6,C0000765,0\n",
      "6,C0701811,0\n",
      "6,C0002170,0\n",
      "6,C0002170,0\n",
      "6,C0549622,0\n",
      "6,C0549622,0\n",
      "6,C0027497,1\n",
      "6,C0344232,1\n",
      "6,C0344232,1\n",
      "6,C0037316,1\n",
      "6,C0037316,1\n",
      "6,C0424000,1\n",
      "6,C0424565,1\n",
      "6,C1971624,0\n",
      "6,C0558066,1\n",
      "6,C0557386,0\n",
      "6,C0086769,0\n",
      "6,C0086769,0\n",
      "6,C0003467,0\n",
      "6,C0231403,0\n",
      "6,C0233754,0\n",
      "6,C0917801,0\n",
      "6,C0917801,1\n",
      "6,C0012833,0\n",
      "6,C0010201,0\n",
      "6,C0043094,0\n",
      "6,C0043094,0\n",
      "6,C2981158,0\n",
      "6,C0583237,0\n",
      "6,C0039231,0\n",
      "6,C0522365,0\n",
      "6,C0424573,0\n",
      "6,C0560765,0\n",
      "6,C0042571,0\n",
      "6,C0043352,0\n",
      "7,C0000765,0\n",
      "7,C0000765,0\n",
      "7,C0701811,0\n",
      "7,C0002170,0\n",
      "7,C0002170,0\n",
      "7,C0549622,0\n",
      "7,C0549622,0\n",
      "7,C0027497,0\n",
      "7,C0344232,1\n",
      "7,C0344232,1\n",
      "7,C0037316,1\n",
      "7,C0037316,1\n",
      "7,C0424000,1\n",
      "7,C0424565,1\n",
      "7,C1971624,0\n",
      "7,C0558066,1\n",
      "7,C0557386,0\n",
      "7,C0086769,0\n",
      "7,C0086769,0\n",
      "7,C0003467,0\n",
      "7,C0231403,0\n",
      "7,C0233754,0\n",
      "7,C0917801,0\n",
      "7,C0917801,0\n",
      "7,C0012833,0\n",
      "7,C0010201,0\n",
      "7,C0043094,0\n",
      "7,C0043094,0\n",
      "7,C2981158,0\n",
      "7,C0583237,0\n",
      "7,C0039231,0\n",
      "7,C0522365,0\n",
      "7,C0424573,0\n",
      "7,C0560765,0\n",
      "7,C0042571,0\n",
      "7,C0043352,0\n",
      "8,C0000765,0\n",
      "8,C0000765,0\n",
      "8,C0701811,0\n",
      "8,C0002170,0\n",
      "8,C0002170,0\n",
      "8,C0549622,0\n",
      "8,C0549622,0\n",
      "8,C0027497,0\n",
      "8,C0344232,0\n",
      "8,C0344232,0\n",
      "8,C0037316,0\n",
      "8,C0037316,0\n",
      "8,C0424000,0\n",
      "8,C0424565,0\n",
      "8,C1971624,0\n",
      "8,C0558066,0\n",
      "8,C0557386,0\n",
      "8,C0086769,0\n",
      "8,C0086769,0\n",
      "8,C0003467,0\n",
      "8,C0231403,0\n",
      "8,C0233754,0\n",
      "8,C0917801,0\n",
      "8,C0917801,0\n",
      "8,C0012833,0\n",
      "8,C0010201,0\n",
      "8,C0043094,0\n",
      "8,C0043094,0\n",
      "8,C2981158,0\n",
      "8,C0583237,0\n",
      "8,C0039231,0\n",
      "8,C0522365,0\n",
      "8,C0424573,0\n",
      "8,C0560765,0\n",
      "8,C0042571,0\n",
      "8,C0043352,0\n",
      "9,C0000765,0\n",
      "9,C0000765,0\n",
      "9,C0701811,0\n",
      "9,C0002170,0\n",
      "9,C0002170,0\n",
      "9,C0549622,0\n",
      "9,C0549622,0\n",
      "9,C0027497,0\n",
      "9,C0344232,0\n",
      "9,C0344232,0\n",
      "9,C0037316,0\n",
      "9,C0037316,0\n",
      "9,C0424000,1\n",
      "9,C0424565,0\n",
      "9,C1971624,0\n",
      "9,C0558066,1\n",
      "9,C0557386,0\n",
      "9,C0086769,0\n",
      "9,C0086769,0\n",
      "9,C0003467,0\n",
      "9,C0231403,0\n",
      "9,C0233754,0\n",
      "9,C0917801,0\n",
      "9,C0917801,0\n",
      "9,C0012833,0\n",
      "9,C0010201,0\n",
      "9,C0043094,0\n",
      "9,C0043094,0\n",
      "9,C2981158,0\n",
      "9,C0583237,0\n",
      "9,C0039231,0\n",
      "9,C0522365,0\n",
      "9,C0424573,0\n",
      "9,C0560765,0\n",
      "9,C0042571,0\n",
      "9,C0043352,0\n"
     ]
    }
   ],
   "source": [
    "for (index, sentence) in enumerate(documents):\n",
    "  if index in range(1,10):\n",
    "    for cui, concept in zip(cuinames, concepts):\n",
    "      mention_4 = 1 if check_concept_4(concept, sentence) else 0\n",
    "      print(f'{sentence[0]},{cui},{mention_4}')"
   ]
  },
  {
   "cell_type": "code",
   "execution_count": 113,
   "id": "giS3q9VZwebP",
   "metadata": {
    "executionInfo": {
     "elapsed": 395,
     "status": "ok",
     "timestamp": 1710401700108,
     "user": {
      "displayName": "Михаил Демин",
      "userId": "14250540086915616791"
     },
     "user_tz": -600
    },
    "id": "giS3q9VZwebP"
   },
   "outputs": [],
   "source": [
    "results = []"
   ]
  },
  {
   "cell_type": "code",
   "execution_count": 120,
   "id": "3e2c6404",
   "metadata": {
    "ExecuteTime": {
     "end_time": "2024-03-13T07:32:48.768546Z",
     "start_time": "2024-03-13T07:32:48.362493Z"
    },
    "executionInfo": {
     "elapsed": 5817650,
     "status": "ok",
     "timestamp": 1710409306158,
     "user": {
      "displayName": "Михаил Демин",
      "userId": "14250540086915616791"
     },
     "user_tz": -600
    },
    "id": "3e2c6404"
   },
   "outputs": [],
   "source": [
    "for (index, sentence) in enumerate(documents):\n",
    "  if index !=0:\n",
    "    for cui, concept in zip(cuinames, concepts):\n",
    "      mention_1 = 1 if check_concept_1(concept, sentence) else 0\n",
    "      mention_2 = 1 if check_concept_2(concept, sentence) else 0\n",
    "      mention_3 = 1 if check_concept_3(concept, sentence) else 0\n",
    "      mention_4 = 1 if check_concept_4(concept, sentence) else 0\n",
    "      results.append({\n",
    "          \"sentence_id\": sentence[0],\n",
    "          \"CUI\": cui,\n",
    "          \"Level_1\": mention_1,\n",
    "          \"Level_2\": mention_2,\n",
    "          \"Level_3\": mention_3,\n",
    "          \"Level_4\": mention_4\n",
    "            })"
   ]
  },
  {
   "cell_type": "code",
   "execution_count": 111,
   "id": "ZOCwwkuDABj9",
   "metadata": {
    "colab": {
     "base_uri": "https://localhost:8080/"
    },
    "executionInfo": {
     "elapsed": 387,
     "status": "ok",
     "timestamp": 1710401632220,
     "user": {
      "displayName": "Михаил Демин",
      "userId": "14250540086915616791"
     },
     "user_tz": -600
    },
    "id": "ZOCwwkuDABj9",
    "outputId": "1e6a15dc-b40b-468b-b60e-a6a475d62558"
   },
   "outputs": [
    {
     "data": {
      "text/plain": [
       "7128"
      ]
     },
     "execution_count": 111,
     "metadata": {},
     "output_type": "execute_result"
    }
   ],
   "source": [
    "# Test\n",
    "# len(results)"
   ]
  },
  {
   "cell_type": "code",
   "execution_count": 121,
   "id": "Tmt24tjX4itF",
   "metadata": {
    "colab": {
     "base_uri": "https://localhost:8080/"
    },
    "executionInfo": {
     "elapsed": 12,
     "status": "ok",
     "timestamp": 1710409306630,
     "user": {
      "displayName": "Михаил Демин",
      "userId": "14250540086915616791"
     },
     "user_tz": -600
    },
    "id": "Tmt24tjX4itF",
    "outputId": "9fc7c8e4-ab10-4d83-f110-c5a0fb762228"
   },
   "outputs": [
    {
     "data": {
      "text/plain": [
       "2069122"
      ]
     },
     "execution_count": 121,
     "metadata": {},
     "output_type": "execute_result"
    }
   ],
   "source": [
    "len(results)"
   ]
  },
  {
   "cell_type": "code",
   "execution_count": 122,
   "id": "hMO0oqqCVsNS",
   "metadata": {
    "colab": {
     "base_uri": "https://localhost:8080/"
    },
    "executionInfo": {
     "elapsed": 7,
     "status": "ok",
     "timestamp": 1710409306631,
     "user": {
      "displayName": "Михаил Демин",
      "userId": "14250540086915616791"
     },
     "user_tz": -600
    },
    "id": "hMO0oqqCVsNS",
    "outputId": "ae946c37-6e09-4ab9-b2cd-ab9f7eb46c19"
   },
   "outputs": [
    {
     "name": "stdout",
     "output_type": "stream",
     "text": [
      "1,C0000765,0,0,1,1\n",
      "\n",
      "1,C0000765,0,0,1,1\n",
      "\n",
      "1,C0701811,0,0,1,1\n",
      "\n",
      "1,C0002170,0,1,1,1\n",
      "\n",
      "1,C0002170,0,0,1,0\n",
      "\n",
      "1,C0549622,0,0,1,0\n",
      "\n",
      "1,C0549622,0,0,1,0\n",
      "\n",
      "1,C0027497,0,0,1,0\n",
      "\n",
      "1,C0344232,0,0,1,0\n",
      "\n",
      "1,C0344232,0,0,1,0\n",
      "\n"
     ]
    }
   ],
   "source": [
    "# Вывод результатов\n",
    "for result in results[:10]:\n",
    "    print(f'{result[\"sentence_id\"]},{result[\"CUI\"]},{result[\"Level_1\"]},{result[\"Level_2\"]},{result[\"Level_3\"]},{result[\"Level_4\"]}\\n')\n",
    "    # print(f'{result}\\n')"
   ]
  },
  {
   "cell_type": "markdown",
   "id": "622bc591",
   "metadata": {
    "id": "622bc591"
   },
   "source": [
    "Ваш финальный результат представьте в виде csv файла с колонками: sentence_id (например: для первой строки файла  \n",
    "1\textreme weight gain, short-term memory loss, hair loss. sentence_id == drug_ADRs.txt), вторая колонка - CUI, следующие 5 колонок: level_1 .... level_5 для каждого уровня, где будет либо 1 либо 0.\n",
    "```\n",
    "1,C0000765,0,1,0,0,0\n",
    "1,C0701811,0,0,1,0,0\n",
    "1,C0002170,0,1,0,0,0\n",
    "```\n",
    "\n",
    "ваша_фамилия_3.csv"
   ]
  },
  {
   "cell_type": "code",
   "execution_count": 125,
   "id": "11b5ef28",
   "metadata": {
    "executionInfo": {
     "elapsed": 410,
     "status": "ok",
     "timestamp": 1710409937570,
     "user": {
      "displayName": "Михаил Демин",
      "userId": "14250540086915616791"
     },
     "user_tz": -600
    },
    "id": "11b5ef28"
   },
   "outputs": [],
   "source": [
    "# with open('/content/drive/MyDrive/Colab Notebooks/GB/22_3/out.csv', 'w') as output:\n",
    "#   output.write"
   ]
  },
  {
   "cell_type": "code",
   "execution_count": 126,
   "id": "kgycF9iqX5V_",
   "metadata": {
    "executionInfo": {
     "elapsed": 1006,
     "status": "ok",
     "timestamp": 1710409983995,
     "user": {
      "displayName": "Михаил Демин",
      "userId": "14250540086915616791"
     },
     "user_tz": -600
    },
    "id": "kgycF9iqX5V_"
   },
   "outputs": [],
   "source": [
    "import pandas as pd"
   ]
  },
  {
   "cell_type": "code",
   "execution_count": 127,
   "id": "ZvF1y7kSYSJC",
   "metadata": {
    "executionInfo": {
     "elapsed": 6438,
     "status": "ok",
     "timestamp": 1710410028866,
     "user": {
      "displayName": "Михаил Демин",
      "userId": "14250540086915616791"
     },
     "user_tz": -600
    },
    "id": "ZvF1y7kSYSJC"
   },
   "outputs": [],
   "source": [
    "df = pd.DataFrame(results)"
   ]
  },
  {
   "cell_type": "code",
   "execution_count": 130,
   "id": "9RMS3MpvYbxS",
   "metadata": {
    "executionInfo": {
     "elapsed": 7434,
     "status": "ok",
     "timestamp": 1710410227873,
     "user": {
      "displayName": "Михаил Демин",
      "userId": "14250540086915616791"
     },
     "user_tz": -600
    },
    "id": "9RMS3MpvYbxS"
   },
   "outputs": [],
   "source": [
    "# df.to_csv('/content/drive/MyDrive/Colab Notebooks/GB/22_3/Demin_MM_3.csv', encoding='utf-8')\n",
    "df.to_csv('22_3_SEM_files/_Demin_MM_3.csv', encoding='utf-8')"
   ]
  },
  {
   "cell_type": "markdown",
   "id": "a0a4b1a7",
   "metadata": {
    "id": "rwdMgqaXZMG2"
   },
   "source": [
    "__*Комментарии преподавателя:*__<br>\n",
    "*Александр Алексеюк・Преподаватель<br>*\n",
    "\n",
    "><br>\n",
    "\n"
   ]
  },
  {
   "cell_type": "code",
   "execution_count": null,
   "id": "d212e039",
   "metadata": {},
   "outputs": [],
   "source": []
  }
 ],
 "metadata": {
  "colab": {
   "provenance": []
  },
  "kernelspec": {
   "display_name": "Python 3 (ipykernel)",
   "language": "python",
   "name": "python3"
  },
  "language_info": {
   "codemirror_mode": {
    "name": "ipython",
    "version": 3
   },
   "file_extension": ".py",
   "mimetype": "text/x-python",
   "name": "python",
   "nbconvert_exporter": "python",
   "pygments_lexer": "ipython3",
   "version": "3.9.7"
  },
  "latex_envs": {
   "LaTeX_envs_menu_present": true,
   "autoclose": true,
   "autocomplete": true,
   "bibliofile": "biblio.bib",
   "cite_by": "apalike",
   "current_citInitial": 1,
   "eqLabelWithNumbers": true,
   "eqNumInitial": 1,
   "hotkeys": {
    "equation": "Ctrl-E",
    "itemize": "Ctrl-I"
   },
   "labels_anchors": false,
   "latex_user_defs": false,
   "report_style_numbering": true,
   "user_envs_cfg": false
  },
  "nbTranslate": {
   "displayLangs": [
    "*"
   ],
   "hotkey": "alt-t",
   "langInMainMenu": true,
   "sourceLang": "en",
   "targetLang": "fr",
   "useGoogleTranslate": true
  },
  "toc": {
   "base_numbering": 1,
   "nav_menu": {},
   "number_sections": false,
   "sideBar": true,
   "skip_h1_title": false,
   "title_cell": "Table of Contents",
   "title_sidebar": "Contents",
   "toc_cell": false,
   "toc_position": {},
   "toc_section_display": true,
   "toc_window_display": false
  },
  "varInspector": {
   "cols": {
    "lenName": 16,
    "lenType": 16,
    "lenVar": 40
   },
   "kernels_config": {
    "python": {
     "delete_cmd_postfix": "",
     "delete_cmd_prefix": "del ",
     "library": "var_list.py",
     "varRefreshCmd": "print(var_dic_list())"
    },
    "r": {
     "delete_cmd_postfix": ") ",
     "delete_cmd_prefix": "rm(",
     "library": "var_list.r",
     "varRefreshCmd": "cat(var_dic_list()) "
    }
   },
   "types_to_exclude": [
    "module",
    "function",
    "builtin_function_or_method",
    "instance",
    "_Feature"
   ],
   "window_display": false
  }
 },
 "nbformat": 4,
 "nbformat_minor": 5
}
