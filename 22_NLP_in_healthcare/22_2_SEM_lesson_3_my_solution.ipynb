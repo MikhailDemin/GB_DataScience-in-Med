{
 "cells": [
  {
   "cell_type": "markdown",
   "id": "BaAsDhWFAKMv",
   "metadata": {
    "id": "BaAsDhWFAKMv"
   },
   "source": [
    "# Урок 3. Медицинское исследование: гипотеза, получение данных.  Генерация синтетических данных. Подготовка данных к анализу."
   ]
  },
  {
   "cell_type": "markdown",
   "id": "A7ubXm7xW9_A",
   "metadata": {
    "id": "A7ubXm7xW9_A"
   },
   "source": [
    "## Домашнее задание"
   ]
  },
  {
   "cell_type": "markdown",
   "id": "3z2HVE_HXLen",
   "metadata": {
    "id": "3z2HVE_HXLen"
   },
   "source": [
    "- **Описание задания**:\n",
    "Когда пациент принимает какое-либо лекарство, у него может возникнуть побочный эффект от лекарства или побочную реакцию на лекарство (ADR). Мы можем использовать [CUI](https://www.nlm.nih.gov/research/umls/new_users/glossary.html#:~:text=CUI%20-%20The%20Concept%20Unique%20Identifier%20for%20a%20Metathesaurus%20concept%20to%20which%20strings%20with%20the%20same%20meaning%20are%20linked.%20One%20of%20the%20principles%20of%20the%20Metathesaurus%20is%20that%20meanings%20should%20be%20preserved%20over%20time%20regardless%20of%20what%20terms%20(atoms)%20are%20used%20to%20express%20those%20meanings.), уникальный идентификатор концепта для  Metathesaurus, чтобы определить, какие нежелательные реакции упоминаются в сообщениях пациентов. Это поможет представлять обзоры лекарств в структурированном виде.\n",
    "\n",
    "   Цель этого задания – помочь вам научиться идентифицировать (ADR) по описаниям пациентов о нежелательных реакциях на лекарственные препараты. Вы сможете:\n",
    "  - Используйте подход NLP для извлечения побочных эффектов из обзоров лекарств.\n",
    "\n",
    "### Уровни сложности извлечения концептов\n",
    "- Давайте рассмотрим один из способов классификации сложности извлечения ADR на основе сравнения их представления с представлением CUI.\n",
    "- Это всего лишь один из способов взглянуть на это, но он поможет вам выработать подход к захвату как можно большего количества явлений.\n",
    "\n",
    "#### 1-й уровень\n",
    "- На уровне 1 вы обнаружите, что слова, описывающие нежелательную реакцию, точно такие же, как понятия CUI.\n",
    "> Вот пример:\n",
    "> - Sentence text: `I was unable to sleep, had blurred vision, and felt sick to my stomach.`\n",
    "> - ADR: **blurred vision**\n",
    "> - CUI concept: **blurred vision**\n",
    "> - CUI: **C0344232** (You can lookup CUI at [SIDER](http://sideeffects.embl.de/))\n",
    "\n",
    "- Кроме того, слова определяются как «одинаковые», даже если они представляют собой разные производные (обычно разные суффиксы в английском языке) одного и того же слова. Те же леммы или те же основы примерно.\n",
    ">Вот еще один пример, который в этом наборе данных считается уровнем 1:\n",
    "> - Sentence text: `Muscle spasms, muscle twitching, muscle soreness, insomnia, mental confusion, flush, brain zaps.`\n",
    "> - ADR: **flush**\n",
    "> - CUI Concept: **flushing**\n",
    "> - CUI: **C0016382** (You can lookup CUI at [SIDER](http://sideeffects.embl.de/))\n",
    "\n",
    "#### Уровень 2\n",
    "- На уровне 2 вы можете обнаружить, что слова, описывающие нежелательную реакцию, совпадают с понятиями CUI, хотя порядок слов может быть другим.\n",
    "> Вот пример:\n",
    "> - Sentence text: `Weight gain, HAIR LOSS, increased depression, fatigue, lethargy.`\n",
    "> - ADR: **HAIR LOSS**\n",
    "> - CUI concept: **Loss of hair**\n",
    "> - CUI: **C0002170** (You can lookup CUI at [SIDER](http://sideeffects.embl.de/))\n",
    "\n",
    "#### Уровень 3\n",
    "- На уровне 3 вы можете обнаружить, что, помимо разницы в порядке слов, только некоторые слова, описывающие нежелательную реакцию, точно такие же, как в понятиях CUI.\n",
    "> Вот пример:\n",
    "> - Sentence text: `It's been four days since I discontinued, and I'm still wiped out and dizzy with flu-like symptoms.`\n",
    "> - ADR: **flu-like symptoms**\n",
    "> - CUI concept: **Influenza-like symptoms**\n",
    "> - CUI: **C0392171** (You can lookup CUI at [SIDER](http://sideeffects.embl.de/))\n",
    "\n",
    "#### Уровень 4\n",
    "- На уровне 4 вы обнаружите, что ни одно из слов, описывающих нежелательную реакцию, не совпадает со словами в концепциях CUI, но при этом имеет то же значение.\n",
    "> Вот пример:\n",
    "> - Sentence text: `Also I had a severe inablility to concentrate which made it impossible to do my job,I am a Registered Nurse.`\n",
    "> - ADR: **impossible to do my job**\n",
    "> - CUI concept: **Restricted work performance**\n",
    "> - CUI: **C0557386** (You can lookup CUI at [SIDER](http://sideeffects.embl.de/))\n",
    "\n",
    "#### Уровень 5 &nbsp; &nbsp; (От вас не ожидается, что вы их решите)\n",
    "- На уровне 5 вы можете обнаружить, что слова, описывающие побочную реакцию, не совпадают с понятиями CUI и имеют разные значения. ADR может предлагать концепцию CUI посредством следствия или посредством какого-либо другого лингвистического или контекстуального механизма. Если вы сумеете их идентифицировать, это будет очень впечатляюще!\n",
    "> Вот пример:\n",
    "> - Sentence text: `20 pounds total in 6 months Appetite increase .`\n",
    "> - ADR: **20 pounds total**\n",
    "> - CUI concept: **Body Weight Changes**\n",
    "> - CUI: **C0005911** (You can lookup CUI at [SIDER](http://sideeffects.embl.de/))\n",
    "\n",
    "### Предоставленные файлы\n",
    "Один из файлов, которые у вас есть для этого задания, называется «побочные_эффекеты.txt». Обзоры лекарств разделены предложением. Для каждой строки есть «row_id» и «sentence_text», разделенные табуляцией.\n",
    "\n",
    "> Вот пример:\n",
    "`7<tab>I was unable to sleep, had blurred vision, and felt sick to my stomach.`\n",
    "\n",
    "Другой файл называется CUI_concepts.txt. АПИ и текст его концепции указаны в каждой строке.\n",
    "\n",
    "> Вот пример:\n",
    "`C0344232<tab>Blurred vision,Blurring of visual image`"
   ]
  },
  {
   "cell_type": "markdown",
   "id": "ODQrOm9rYd5R",
   "metadata": {
    "id": "ODQrOm9rYd5R"
   },
   "source": [
    "### Шаблоны кода\n",
    "\n",
    "##### Пожалуйста, измените шаблон кода настолько, насколько захотите. Вы можете использовать любые стандартные функции Python или, если хотите, написать свои собственные вспомогательные функции!\n",
    "\n",
    "#### Шаг 1: Чтение файла данных\n",
    "- Попробуйте распечатать несколько строк и посмотреть примеры в наборе данных, с которым вы работаете. Вы будете протестированы на небольшом подмножестве из них, но ваши функции должны применяться в целом."
   ]
  },
  {
   "cell_type": "code",
   "execution_count": 2,
   "id": "jIcLaeXeK1yg",
   "metadata": {
    "ExecuteTime": {
     "end_time": "2024-03-12T11:22:12.529778Z",
     "start_time": "2024-03-12T11:22:12.521783Z"
    },
    "id": "jIcLaeXeK1yg",
    "outputId": "dc10c166-3ba6-4123-939a-a69e8082ca01"
   },
   "outputs": [
    {
     "name": "stdout",
     "output_type": "stream",
     "text": [
      "id\tText\n",
      "\n",
      "1\textreme weight gain, short-term memory loss, hair loss.\n",
      "\n",
      "2\tCOMPLETELY DESTROYED SEXUALLY FUNCTIONING .\n",
      "\n",
      "3\tJust TWO tablets of Lexapro 10mg completely destroyed my sexual functioning, probably for life.\n",
      "\n",
      "4\tIt's called PSSD: post-SSRI sexual dysfunction.\n",
      "\n",
      "5\tAnd there is a chance that it will give you PSSD, which as the name suggests persists even after you stop taking the drug, Just google 'PSSD' and you'll see what I mean, So please: NEVER take this drug, not even one tablet.\n",
      "\n",
      "6\tNausea, Blurred Vision, 3 to 5 hours sleep, Suicidal Thoughts.\n",
      "\n",
      "7\tI was unable to sleep, had blurred vision, and felt sick to my stomach.\n",
      "\n",
      "8\tUnable to eat anything significant for the 3 days.\n",
      "\n",
      "9\tWhile driving to a friends house crazy thoughts kept happening.\n",
      "\n"
     ]
    }
   ],
   "source": [
    "with open('22_3_SEM_files/побочные_эффекеты.txt') as file:\n",
    "  documents = file.readlines()\n",
    "\n",
    "# напечатаем первые 5 строк файла.\n",
    "# Не стесняйтесь просматривать любое количество\n",
    "print(*documents[:10], sep = '\\n')"
   ]
  },
  {
   "cell_type": "markdown",
   "id": "lJhamuRVYpRx",
   "metadata": {
    "id": "lJhamuRVYpRx"
   },
   "source": [
    "#### Шаг 2. Считайте файл CUI и сохраните его для удобного поиска.\n",
    "- Сохраните все CUI и соответствующие им ключевые слова.\n",
    "— Идея такая: пройтись по каждому CUI, чтобы определить, присутствует ли он в данном текстовом сегменте."
   ]
  },
  {
   "cell_type": "code",
   "execution_count": 4,
   "id": "O9L13ifMYw9E",
   "metadata": {
    "ExecuteTime": {
     "end_time": "2024-03-12T11:22:56.983526Z",
     "start_time": "2024-03-12T11:22:56.966566Z"
    },
    "id": "O9L13ifMYw9E",
    "outputId": "03a8548e-0ede-4ea9-c929-8c0de04fccaf"
   },
   "outputs": [
    {
     "name": "stdout",
     "output_type": "stream",
     "text": [
      "CUI\tCONCEPT\tSNOMED_CODE\n",
      "\n"
     ]
    }
   ],
   "source": [
    "cuinames = []\n",
    "concepts = []\n",
    "with open('22_3_SEM_files/концепты.tsv') as cuifile: # CUI явления\n",
    "  print(next(cuifile))  # пропустите заголовок, распечатайте, чтобы увидеть структуру строки\n",
    "  for i, line in enumerate(cuifile):\n",
    "    fields = line.split('\\t')\n",
    "    # удалите конечные пробелы (и нечетные случайные nbsp...)\n",
    "    cui = fields[0].strip()\n",
    "    # храните различные текстовые представления концептов\n",
    "    # но отбросьте дублирующиеся текстовые представления для одного и того же концепта\n",
    "    texts = set(f.strip() for f in fields[1].split(','))\n",
    "    for t in texts:\n",
    "      # всегда добавляйте вместе, чтобы обеспечить одинаковый индекс\n",
    "      cuinames.append(cui)\n",
    "      concepts.append(t.strip().lower())"
   ]
  },
  {
   "cell_type": "code",
   "execution_count": 5,
   "id": "q6dLGCNIZBCh",
   "metadata": {
    "ExecuteTime": {
     "end_time": "2024-03-12T11:23:10.474166Z",
     "start_time": "2024-03-12T11:23:10.457175Z"
    },
    "id": "q6dLGCNIZBCh",
    "outputId": "205628b2-bb09-4bc9-a948-c957ec291fd4"
   },
   "outputs": [
    {
     "name": "stdout",
     "output_type": "stream",
     "text": [
      "738 738\n",
      "CUI: C0231528\tConcept: myalgia\n",
      "CUI: C0009676\tConcept: confusion\n",
      "CUI: C0009676\tConcept: confusional state\n",
      "CUI: C0016382\tConcept: face goes red\n",
      "CUI: C0016382\tConcept: flushing\n",
      "CUI: C0033893\tConcept: tension-type headache\n",
      "CUI: C0033893\tConcept: tension headache\n",
      "CUI: C0700590\tConcept: excessive sweating\n",
      "CUI: C0700590\tConcept: increased sweating\n",
      "CUI: C0242350\tConcept: erectile dysfunction\n",
      "CUI: C0242350\tConcept: impotence\n",
      "CUI: C0149931\tConcept: migraine\n",
      "CUI: C0149931\tConcept: migraine disorders\n",
      "CUI: C0497247\tConcept: finding of increased blood pressure\n",
      "CUI: C0497247\tConcept: increase in blood pressure\n",
      "CUI: C0235195\tConcept: sedated state\n",
      "CUI: C0235195\tConcept: sedated\n",
      "CUI: C0424444\tConcept: clenching teeth\n",
      "CUI: C0234022\tConcept: orgasm incapacity\n",
      "CUI: C0456820\tConcept: loss of capacity to feel emotions\n",
      "CUI: C0002622\tConcept: amnesia\n",
      "CUI: C0233469\tConcept: blunted affect\n",
      "CUI: C0233484\tConcept: emotionally detached\n",
      "CUI: C0233794\tConcept: memory impairment\n",
      "CUI: C0701810\tConcept: poor long-term memory\n",
      "CUI: C0701810\tConcept: long-term memory loss\n",
      "CUI: C0006325\tConcept: grinding teeth\n",
      "CUI: C0006325\tConcept: bruxism\n",
      "CUI: C0018681\tConcept: headache\n",
      "CUI: C0042963\tConcept: vomiting\n",
      "CUI: C0042963\tConcept: vomiting symptom\n",
      "CUI: C4075722\tConcept: wakes up during night\n",
      "CUI: C0860645\tConcept: bizarre dreams\n",
      "CUI: C0233763\tConcept: visual\n",
      "CUI: C0233763\tConcept: visual hallucinations\n"
     ]
    }
   ],
   "source": [
    "print(len(concepts), len(cuinames))  # проверка на вменяемость\n",
    "# распечатайте несколько CUIs. Исследуйте CUIs, пробуя различные диапазоны,\n",
    "# или распечатайте весь список, если хотите.\n",
    "for i in list(range(42,77)):\n",
    "  print('CUI: {}\\tConcept: {}'.format(cuinames[i], concepts[i]))"
   ]
  },
  {
   "cell_type": "markdown",
   "id": "9EUPAzveY-Dq",
   "metadata": {
    "id": "9EUPAzveY-Dq"
   },
   "source": [
    "### Шаг 3: Извлечение концептов\n",
    "\n",
    "#### Уровень 1 — Точное совпадение\n",
    "- Давайте начнем с извлечения примеров только уровня 1. Все, что нам нужно сделать, это посмотреть, совпадают ли точные слова:\n",
    "   - Сначала выберем метод предварительной обработки.\n",
    "   - Тогда мы извлечем АДР\n",
    "\n",
    "#### Предварительная обработка 1\n",
    "Давайте решим, как преобразовать (нормализовать) наш текст, чтобы нам было легче работать с вводом и CUI.\n",
    "   — Мы начнем с токенизации текста, чтобы у нас был список слов, а не одна строка.\n",
    "   - Кроме того, мы можем сократить текст, чтобы позаботиться о большинстве терминов, связанных с словообразованием!\n",
    "     - То есть слова с одной основой, но с разными приставками, суффиксами или, возможно, различиями в середине слова. &nbsp; Обычно не все словообразовательные формы слов могут быть обработаны стеммером, поэтому это несовершенный метод. &nbsp; Это нормально!\n",
    "     - Помните, что даже несмотря на то, что это удобно для сопоставления слов с похожими корнями, стемминг всегда удаляет потенциально полезную семантическую информацию (есть причины, по которым мы говорим С суффиксами). &nbsp; Часто нам хотелось бы получить не только основу, но и сохранить необработанную форму, чтобы иметь больше информации. &nbsp; Для данной задачи это может не потребоваться.\n",
    "   - В любом случае, мы применим эту предварительную обработку как к CUI, так и к предложениям, чтобы мы могли воспользоваться их преобразованием одинаковым образом.\n",
    "   - Вы можете решить проблему по-своему."
   ]
  },
  {
   "cell_type": "code",
   "execution_count": 6,
   "id": "TWwY9DGaZGtw",
   "metadata": {
    "ExecuteTime": {
     "end_time": "2024-03-12T12:51:42.169541Z",
     "start_time": "2024-03-12T12:51:40.188352Z"
    },
    "id": "TWwY9DGaZGtw"
   },
   "outputs": [],
   "source": [
    "from string import punctuation as punct\n",
    "from nltk.stem.porter import PorterStemmer\n",
    "porter_stemmer = PorterStemmer()\n",
    "# Это предложение для первого уровня.\n",
    "# Убедитесь, что вы понимаете, что он делает, что в этом может помочь\n",
    "\n",
    "def text_preprocessing_1(sentence):\n",
    "    \"\"\"Read in a sentence and return a list of tokens\n",
    "       which are lower case and punctuation free.\n",
    "       sentence must be a string\"\"\"\n",
    "     # убираем знаки препинания из предложения и заменяем их на ' '\n",
    "     # (пункт взят из строкового модуля, импортированного выше)\n",
    "    s = sentence.translate(sentence.maketrans(punct, ' '*len(punct)))\n",
    "    # простая токенизация\n",
    "    toks = s.split()\n",
    "    # нижний регист\n",
    "    lowered = [w.lower() for w in toks]\n",
    "    stemmed = [porter_stemmer.stem(w) for w in lowered]\n",
    "\n",
    "    return stemmed"
   ]
  },
  {
   "cell_type": "markdown",
   "id": "k7bxcO3sZeTk",
   "metadata": {
    "id": "k7bxcO3sZeTk"
   },
   "source": [
    "#### Проверка концептов 1\n",
    "- Заполните следующую заглушку функции, чтобы извлечь примеры концепций уровня 1.\n",
    "- Эти функции проверки концептов должны возвращать ТОЛЬКО ИСТИНА или ЛОЖЬ. Вам не нужно указывать, где в тексте находится ДОПОГ или что представляет собой текст, представляющий ДОПОГ.\n",
    "- Не стесняйтесь использовать любые встроенные функции Python или определять свои собственные, которые помогут вам!\n",
    "- Вы будете протестированы на комбинированной реализации `text_preprocessing_1()` и `check_concept_1()`. Изменение `text_preprocessing_1()` не является обязательным!"
   ]
  },
  {
   "cell_type": "code",
   "execution_count": 7,
   "id": "s20msmHlZjTS",
   "metadata": {
    "ExecuteTime": {
     "end_time": "2024-03-12T12:51:51.655776Z",
     "start_time": "2024-03-12T12:51:51.638744Z"
    },
    "id": "s20msmHlZjTS"
   },
   "outputs": [],
   "source": [
    "# 1 уровень кода\n",
    "def check_concept_1(concept, sentence):\n",
    "    \"\"\"Проверьте, упоминается ли в предложении концепты CUI.\n",
    "    Верните TRUE, если концепт присутствует, верните FALSE, если нет \"\"\"\n",
    "    # предварительная обработка понятия и предложения\n",
    "    c_lst = text_preprocessing_1(concept)\n",
    "    s_lst = text_preprocessing_1(sentence)\n",
    "\n",
    "    # Здесь ваш код\n",
    "\n",
    "    return False# И/ИЛИ здесь"
   ]
  },
  {
   "cell_type": "markdown",
   "id": "HvpovqenZ_ZB",
   "metadata": {
    "id": "HvpovqenZ_ZB"
   },
   "source": [
    "Подсказка: если текст понятия является подпоследовательностью предложения, то в предложении имеется точное совпадение понятия.\n",
    "\n",
    "Ниже приведены несколько примеров уровня 1. Ваша реализация `check_concept_1()` должна возвращать True для этих входных данных."
   ]
  },
  {
   "cell_type": "code",
   "execution_count": 36,
   "id": "25PcWfHuZ_yq",
   "metadata": {
    "id": "25PcWfHuZ_yq",
    "outputId": "2548124b-b1ce-4bd4-eacb-20be97239634"
   },
   "outputs": [
    {
     "name": "stdout",
     "output_type": "stream",
     "text": [
      "False\n"
     ]
    }
   ],
   "source": [
    "# пример уровеня 1\n",
    "concept1_1 = 'Blurred vision' # то же CUI как 'Blurring of visual image'\n",
    "sentence1_1 = 'I was unable to sleep, had blurred vision, and felt sick to my stomach.'\n",
    "\n",
    "ans1_1 = check_concept_1(concept1_1, sentence1_1) # должно быть True!\n",
    "print(bool(ans1_1))   # должен печатать True\n",
    "\n",
    "concept2_1 = ''\n",
    "sentence2_1 = ''"
   ]
  },
  {
   "cell_type": "code",
   "execution_count": null,
   "id": "31676a5d",
   "metadata": {
    "id": "31676a5d"
   },
   "outputs": [],
   "source": [
    "concept1_1 = 'Blurred vision'\n",
    "sentence1_1 = 'I was unable to sleep, had blurred vision, and felt sick to my stomach.'\n",
    "# copy c,s2_1\n",
    "assert(check_concept_1(concept1_1, sentence1_1))\n",
    "assert(check_concept_1(concept2_1, sentence2_1))\n",
    "# исключение"
   ]
  },
  {
   "cell_type": "code",
   "execution_count": null,
   "id": "bXXyEHZ4auiQ",
   "metadata": {
    "id": "bXXyEHZ4auiQ"
   },
   "outputs": [],
   "source": [
    "# Убедитесь, что вы реализуете каждый уровень по очереди.\n",
    "# (Не заставляйте check_concept_1() возвращать True для (многих) примеров уровня 2, 3 или 4)"
   ]
  },
  {
   "cell_type": "markdown",
   "id": "lrI1dTcbauPw",
   "metadata": {
    "id": "lrI1dTcbauPw"
   },
   "source": [
    "### Уровень 2 — Точное совпадение, возможно, не по порядку\n",
    "\n",
    "- Теперь мы хотим посмотреть, появляются ли понятия, но не обязательно со словами в правильном порядке.\n",
    "- Есть много способов справиться с этим.&nbsp; Некоторые найдут больше, чем другие, и многие из них вызовут ложные срабатывания.\n",
    "- Вам предстоит найти баланс для каждого уровня. Почти всегда будут компромиссы.\n",
    "\n",
    "#### Предварительная обработка 2\n",
    "- Для уровня 1 мы токенизировали текст и убрали знаки препинания.\n",
    "- Вы могли заметить, что в приведенном выше примере концептов уровня 2 («ВЫПАДЕНИЕ ВОЛОС» от «Потеря волос») слова не только были не в порядке, но также включали слово между ними. Это действительно характерно для концепций «не по порядку», поскольку изменение порядка слов и добавление предлога между ними (или удаление предлога и изменение порядка) часто имеет аналогичное значение в английском языке (и, конечно же, в других языках могут быть аналогичные явления).\n",
    "- Это сильно зависит от точных слов, и нам не следует слишком увязнуть в деталях, потому что мы можем просто удалить все наиболее распространенные «функции» или «стоп-слова», чтобы «решить» эту проблему.\n",
    "- Такие слова, как «the», «of» и даже «and», играют важную роль в формировании точного значения, но их удаление не должно создать особых проблем для задачи, поставленной уровнем 2:"
   ]
  },
  {
   "cell_type": "code",
   "execution_count": null,
   "id": "-cQCME5za590",
   "metadata": {
    "id": "-cQCME5za590"
   },
   "outputs": [],
   "source": [
    "# они импортируются снова, если вы сначала не запустите приведенный выше код!\n",
    "from string import punctuation as punct\n",
    "import nltk\n",
    "from nltk.stem.porter import PorterStemmer\n",
    "porter_stemmer = PorterStemmer()\n",
    "\n",
    "def text_preprocessing_2(sentence, stemm=True):\n",
    "    \"\"\"Прочитайте предложение и верните список токенов, в которых нет основы, нет знаков препинания и стоп-слов.\n",
    "        предложение должно быть строкой\"\"\"\n",
    "    # Все предоставленное text_preprocessing_1 в одной строке\n",
    "    toks = [porter_stemmer.stem(w.lower()) if stemm else w.lower() for w in\n",
    "             sentence.translate(sentence.maketrans(punct, ' '*len(punct))).split()]\n",
    "    # toks = text_preprocessing_1(sentence) # эквивалентно, если вы не меняли text_preprocessing_1\n",
    "\n",
    "    # Получить список стоп-слов из известного источника\n",
    "    stopwords = nltk.corpus.stopwords.words('english')\n",
    "\n",
    "    no_stopword = [tok for tok in toks if tok.lower() not in stopwords]\n",
    "     # Вы можете изменить эту функцию, если считаете, что она вам поможет.\n",
    "     # Не стесняйтесь добавлять или удалять шаги!\n",
    "\n",
    "    final = no_stopword\n",
    "    return final"
   ]
  },
  {
   "cell_type": "markdown",
   "id": "r-IlyLCabcj7",
   "metadata": {
    "id": "r-IlyLCabcj7"
   },
   "source": [
    "#### Проверка концептов 2\n",
    "- Заполните следующую заглушку функции, чтобы извлечь примеры концептов уровня 2.\n",
    "- Не стесняйтесь использовать любые встроенные функции Python или определять свои собственные, которые помогут вам, если вы захотите!\n",
    "- Вы снова будете протестированы на комбинированной реализации `text_preprocessing_2()` и `check_concept_2()`, причем изменение `text_preprocessing_2()` снова будет необязательным."
   ]
  },
  {
   "cell_type": "code",
   "execution_count": null,
   "id": "WeQfnj3abc9z",
   "metadata": {
    "id": "WeQfnj3abc9z"
   },
   "outputs": [],
   "source": [
    "# 2 уровень кода\n",
    "def check_concept_2(concept, sentence):\n",
    "    \"\"\"Проверьте, упоминается ли в предложении концепция CUI. Верните TRUE, если концепция присутствует, и повторите FALSE, если нет.\"\"\"\n",
    "    # предварительная обработка понятия и предложения\n",
    "    c_lst = text_preprocessing_2(concept)\n",
    "    s_lst = text_preprocessing_2(sentence)\n",
    "\n",
    "    # ваш код здесь\n",
    "\n",
    "    return False# И/ИЛИ здесь"
   ]
  },
  {
   "cell_type": "code",
   "execution_count": null,
   "id": "80bd729c",
   "metadata": {
    "id": "80bd729c"
   },
   "outputs": [],
   "source": [
    "#пример 2 уровня\n",
    "concept1_1 = ''\n",
    "sentence1_1 = ''\n",
    "\n",
    "ans1_2 = check_concept_2(concept1_2, sentence1_2) # должен быть True!\n",
    "print(bool(ans1_2))   # должен быть True\n",
    "\n",
    "concept2_1 = ''\n",
    "sentence2_1 = ''\n",
    "# исключение"
   ]
  },
  {
   "cell_type": "code",
   "execution_count": null,
   "id": "f16ad10b",
   "metadata": {
    "id": "f16ad10b"
   },
   "outputs": [],
   "source": [
    "# скопируйте примеры\n",
    "assert(check_concept_1(concept1_1, sentence1_1))\n",
    "assert(check_concept_1(concept2_1, sentence2_1))\n",
    "# исключение"
   ]
  },
  {
   "cell_type": "markdown",
   "id": "ZBzsI5bdcGS6",
   "metadata": {
    "id": "ZBzsI5bdcGS6"
   },
   "source": [
    "### Уровень 3 - Слова схожего значения, но разного корня\n",
    "- В отличие от уровней 1 и 2, где необходимо было идентифицировать слова с одним и тем же корнем, но разной формой, на уровне 3 возникает необходимость идентифицировать слова с существенно отличающейся формой, но имеющими «достаточно схожее» значение.\n",
    "- На уровне 3 вы можете попытаться рассматривать эти пары слов, которые «достаточно похожи», как совпадения слов. Вы можете обнаружить, что это работает.\n",
    "- Вы также можете не слишком полагаться на сопоставление слов и придумать другие методы для извлечения большего количества ADR из уровня 3. Это открытый метод, и если вам кажется более естественным другой подход, вы можете попробовать его.\n",
    "\n",
    "#### Предварительная обработка 3\n",
    "- Как вы узнаете, имеют ли слова схожее значение? Есть ли какие-либо ресурсы, о которых вы узнали, которые вы можете использовать? Поможет ли вам изменение подхода к предварительной обработке? Не у всех будут одинаковые ответы на эти вопросы.\n",
    "— Таким образом, опять же, смело придумывайте свой подход к предварительной обработке."
   ]
  },
  {
   "cell_type": "code",
   "execution_count": null,
   "id": "Y_Hv0KascJTC",
   "metadata": {
    "id": "Y_Hv0KascJTC"
   },
   "outputs": [],
   "source": [
    "import string\n",
    "import nltk\n",
    "from nltk.stem.porter import PorterStemmer\n",
    "porter_stemmer = PorterStemmer()\n",
    "\n",
    "def text_preprocessing_3(sentence, stemm=True):\n",
    "    \"\"\"Прочитайте предложение и верните список токенов, в которых нет основы, нет знаков препинания и стоп-слов.\"\"\"\n",
    "    toks = [porter_stemmer.stem(w.lower()) if stemm else w.lower() for w in\n",
    "                sentence.translate(sentence.maketrans(string.punctuation, ' '*len(string.punctuation))).split()]\n",
    "    # НЕ забудьте скачать стоп слова\n",
    "    stopwords = nltk.corpus.stopwords.words('english')\n",
    "    no_stopword = [tok for tok in toks if tok.strip() not in stopwords]\n",
    "\n",
    "    ### ВЫ МОЖЕТЕ ДОБАВИТЬ ВСЕ, ЧТО СЧИТАЕТЕ, МОЖЕТ БЫТЬ ПОЛЕЗНЫМ ###\n",
    "\n",
    "    final = no_stopword\n",
    "    return final"
   ]
  },
  {
   "cell_type": "markdown",
   "id": "CCsTMUAcc6_M",
   "metadata": {
    "id": "CCsTMUAcc6_M"
   },
   "source": [
    "#### Проверьте концепты 3\n",
    "- Заполните заглушку функции ниже, чтобы завершить подход уровня 3.\n",
    "- Вероятно, вам понадобится ресурс, который подскажет вам, насколько похожи слова!"
   ]
  },
  {
   "cell_type": "code",
   "execution_count": null,
   "id": "MywdsYXnc8--",
   "metadata": {
    "id": "MywdsYXnc8--"
   },
   "outputs": [],
   "source": [
    "# 3 уровень кода\n",
    "# импортируйте библиотеки, если надо\n",
    "\n",
    "def check_concept_3(concept, sentence):\n",
    "    \"\"\"Проверьте, упоминается ли в предложении концепция CUI. Возвращайте TRUE, если концепция существует, и возвращайте FALSE, если нет.\"\"\"\n",
    "    c_lst = text_preprocessing_3(concept)\n",
    "    s_lst = text_preprocessing_3(sentence)\n",
    "\n",
    "    ### ВАШ КОД ЗДЕСЬ ###\n",
    "\n",
    "    return False# И/ИЛИ Здесь"
   ]
  },
  {
   "cell_type": "code",
   "execution_count": null,
   "id": "22ee4b34",
   "metadata": {
    "id": "22ee4b34"
   },
   "outputs": [],
   "source": [
    "concept3 = 'Severe vertigo,Severe vertigo'\n",
    "sentence3 = 'Emergency Room visit with tachycardia and violent vertigo.'\n",
    "\n",
    "check_concept_3(concept3, sentence3)"
   ]
  },
  {
   "cell_type": "markdown",
   "id": "622bc591",
   "metadata": {
    "id": "622bc591"
   },
   "source": [
    "Ваш финальный результат представьте в виде csv файла с колонками: sentence_id (например: для первой строки файла  \n",
    "1\textreme weight gain, short-term memory loss, hair loss. sentence_id == drug_ADRs.txt), вторая колонка - CUI, следующие 5 колонок: level_1 .... level_5 для каждого уровня, где будет либо 1 либо 0.\n",
    "```\n",
    "1,C0000765,0,1,0,0,0\n",
    "1,C0701811,0,0,1,0,0\n",
    "1,C0002170,0,1,0,0,0\n",
    "```\n",
    "\n",
    "ваша_фамилия_3.csv"
   ]
  },
  {
   "cell_type": "code",
   "execution_count": null,
   "id": "11b5ef28",
   "metadata": {
    "id": "11b5ef28"
   },
   "outputs": [],
   "source": []
  }
 ],
 "metadata": {
  "colab": {
   "provenance": []
  },
  "kernelspec": {
   "display_name": "Python 3 (ipykernel)",
   "language": "python",
   "name": "python3"
  },
  "language_info": {
   "codemirror_mode": {
    "name": "ipython",
    "version": 3
   },
   "file_extension": ".py",
   "mimetype": "text/x-python",
   "name": "python",
   "nbconvert_exporter": "python",
   "pygments_lexer": "ipython3",
   "version": "3.9.7"
  },
  "latex_envs": {
   "LaTeX_envs_menu_present": true,
   "autoclose": true,
   "autocomplete": true,
   "bibliofile": "biblio.bib",
   "cite_by": "apalike",
   "current_citInitial": 1,
   "eqLabelWithNumbers": true,
   "eqNumInitial": 1,
   "hotkeys": {
    "equation": "Ctrl-E",
    "itemize": "Ctrl-I"
   },
   "labels_anchors": false,
   "latex_user_defs": false,
   "report_style_numbering": true,
   "user_envs_cfg": false
  },
  "nbTranslate": {
   "displayLangs": [
    "*"
   ],
   "hotkey": "alt-t",
   "langInMainMenu": true,
   "sourceLang": "en",
   "targetLang": "fr",
   "useGoogleTranslate": true
  },
  "toc": {
   "base_numbering": 1,
   "nav_menu": {},
   "number_sections": false,
   "sideBar": true,
   "skip_h1_title": false,
   "title_cell": "Table of Contents",
   "title_sidebar": "Contents",
   "toc_cell": false,
   "toc_position": {},
   "toc_section_display": true,
   "toc_window_display": false
  },
  "varInspector": {
   "cols": {
    "lenName": 16,
    "lenType": 16,
    "lenVar": 40
   },
   "kernels_config": {
    "python": {
     "delete_cmd_postfix": "",
     "delete_cmd_prefix": "del ",
     "library": "var_list.py",
     "varRefreshCmd": "print(var_dic_list())"
    },
    "r": {
     "delete_cmd_postfix": ") ",
     "delete_cmd_prefix": "rm(",
     "library": "var_list.r",
     "varRefreshCmd": "cat(var_dic_list()) "
    }
   },
   "types_to_exclude": [
    "module",
    "function",
    "builtin_function_or_method",
    "instance",
    "_Feature"
   ],
   "window_display": false
  }
 },
 "nbformat": 4,
 "nbformat_minor": 5
}
