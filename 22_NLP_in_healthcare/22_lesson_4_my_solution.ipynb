{
 "cells": [
  {
   "cell_type": "markdown",
   "id": "b40d2d9d",
   "metadata": {
    "id": "b40d2d9d"
   },
   "source": [
    "# Урок 4. Формулировка и проверка гипотез."
   ]
  },
  {
   "cell_type": "markdown",
   "id": "b46d93dd",
   "metadata": {
    "id": "b46d93dd"
   },
   "source": [
    "## Домашнее задание"
   ]
  },
  {
   "cell_type": "code",
   "execution_count": 1,
   "id": "2b0d74de",
   "metadata": {
    "executionInfo": {
     "elapsed": 1072,
     "status": "ok",
     "timestamp": 1711037234997,
     "user": {
      "displayName": "Михаил Демин",
      "userId": "14250540086915616791"
     },
     "user_tz": -600
    },
    "id": "2b0d74de"
   },
   "outputs": [],
   "source": [
    "import pandas as pd\n",
    "import numpy as np\n",
    "from scipy import stats\n",
    "import matplotlib.pyplot as plt\n",
    "from scipy.stats import mannwhitneyu,ttest_ind, kruskal,chisquare, pearsonr, spearmanr\n",
    "from sklearn import preprocessing\n",
    "from sklearn.preprocessing import StandardScaler\n",
    "from sklearn.model_selection import train_test_split\n",
    "import seaborn as sns\n",
    "import matplotlib.pyplot as plt"
   ]
  },
  {
   "cell_type": "code",
   "execution_count": 2,
   "id": "NPdb6nPmQ4Uk",
   "metadata": {
    "colab": {
     "base_uri": "https://localhost:8080/"
    },
    "executionInfo": {
     "elapsed": 66096,
     "status": "ok",
     "timestamp": 1711037301036,
     "user": {
      "displayName": "Михаил Демин",
      "userId": "14250540086915616791"
     },
     "user_tz": -600
    },
    "id": "NPdb6nPmQ4Uk",
    "outputId": "4e6b452b-bb25-43a4-b40e-a87a58378336"
   },
   "outputs": [
    {
     "name": "stdout",
     "output_type": "stream",
     "text": [
      "Mounted at /content/drive\n"
     ]
    }
   ],
   "source": [
    "from google.colab import drive\n",
    "drive.mount('/content/drive')"
   ]
  },
  {
   "cell_type": "code",
   "execution_count": 3,
   "id": "0ec7f0e7",
   "metadata": {
    "colab": {
     "base_uri": "https://localhost:8080/"
    },
    "executionInfo": {
     "elapsed": 3265,
     "status": "ok",
     "timestamp": 1711037304249,
     "user": {
      "displayName": "Михаил Демин",
      "userId": "14250540086915616791"
     },
     "user_tz": -600
    },
    "id": "0ec7f0e7",
    "outputId": "783e661f-9f9b-4b50-dc0f-18d11b213e12"
   },
   "outputs": [
    {
     "name": "stdout",
     "output_type": "stream",
     "text": [
      "<class 'pandas.core.frame.DataFrame'>\n",
      "RangeIndex: 54976 entries, 0 to 54975\n",
      "Data columns (total 20 columns):\n",
      " #   Column          Non-Null Count  Dtype  \n",
      "---  ------          --------------  -----  \n",
      " 0   Unnamed: 0      54976 non-null  int64  \n",
      " 1   person_id       54976 non-null  int64  \n",
      " 2   procalcitonine  54976 non-null  float64\n",
      " 3   fibrinogen      42093 non-null  float64\n",
      " 4   creatinine      54967 non-null  float64\n",
      " 5   wbc             54970 non-null  float64\n",
      " 6   hb              54970 non-null  float64\n",
      " 7   plt             54957 non-null  float64\n",
      " 8   crp             54930 non-null  float64\n",
      " 9   esr             46623 non-null  float64\n",
      " 10  lymph           54928 non-null  float64\n",
      " 11  pneumonia       54976 non-null  int64  \n",
      " 12  ihd             54976 non-null  int64  \n",
      " 13  dm              54976 non-null  int64  \n",
      " 14  ah              54976 non-null  int64  \n",
      " 15  sex             54976 non-null  int64  \n",
      " 16  len             54976 non-null  int64  \n",
      " 17  age             54976 non-null  int64  \n",
      " 18  GFR             54967 non-null  float64\n",
      " 19  ab_indication   54976 non-null  int64  \n",
      "dtypes: float64(10), int64(10)\n",
      "memory usage: 8.4 MB\n"
     ]
    }
   ],
   "source": [
    "df = pd.read_csv('/content/drive/MyDrive/Colab Notebooks/GB/22_4/data/final_ab_ds.csv')\n",
    "df.info()"
   ]
  },
  {
   "cell_type": "code",
   "execution_count": 4,
   "id": "beda4378",
   "metadata": {
    "executionInfo": {
     "elapsed": 201,
     "status": "ok",
     "timestamp": 1711037304250,
     "user": {
      "displayName": "Михаил Демин",
      "userId": "14250540086915616791"
     },
     "user_tz": -600
    },
    "id": "beda4378"
   },
   "outputs": [],
   "source": [
    "df = df.dropna()"
   ]
  },
  {
   "cell_type": "code",
   "execution_count": 5,
   "id": "g4nOrPlStWNV",
   "metadata": {
    "colab": {
     "base_uri": "https://localhost:8080/",
     "height": 714
    },
    "executionInfo": {
     "elapsed": 193,
     "status": "ok",
     "timestamp": 1711037304251,
     "user": {
      "displayName": "Михаил Демин",
      "userId": "14250540086915616791"
     },
     "user_tz": -600
    },
    "id": "g4nOrPlStWNV",
    "outputId": "4597b2e2-4346-499b-ee52-ce4c6e6bf5ef"
   },
   "outputs": [
    {
     "data": {
      "application/vnd.google.colaboratory.intrinsic+json": {
       "summary": "{\n  \"name\": \"df\",\n  \"rows\": 35680,\n  \"fields\": [\n    {\n      \"column\": \"Unnamed: 0\",\n      \"properties\": {\n        \"dtype\": \"number\",\n        \"std\": 288422,\n        \"min\": 15,\n        \"max\": 999995,\n        \"num_unique_values\": 35680,\n        \"samples\": [\n          776709,\n          499192,\n          175223\n        ],\n        \"semantic_type\": \"\",\n        \"description\": \"\"\n      }\n    },\n    {\n      \"column\": \"person_id\",\n      \"properties\": {\n        \"dtype\": \"number\",\n        \"std\": 376,\n        \"min\": 108,\n        \"max\": 1103,\n        \"num_unique_values\": 996,\n        \"samples\": [\n          715,\n          544,\n          464\n        ],\n        \"semantic_type\": \"\",\n        \"description\": \"\"\n      }\n    },\n    {\n      \"column\": \"procalcitonine\",\n      \"properties\": {\n        \"dtype\": \"number\",\n        \"std\": 0.19117898623238205,\n        \"min\": 0.0,\n        \"max\": 0.8035858963862474,\n        \"num_unique_values\": 29756,\n        \"samples\": [\n          0.4755667277775403,\n          0.0457714805520319,\n          0.3248307844811286\n        ],\n        \"semantic_type\": \"\",\n        \"description\": \"\"\n      }\n    },\n    {\n      \"column\": \"fibrinogen\",\n      \"properties\": {\n        \"dtype\": \"number\",\n        \"std\": 2.7438906396143525,\n        \"min\": 2.44,\n        \"max\": 18.0,\n        \"num_unique_values\": 34955,\n        \"samples\": [\n          8.4570534293311,\n          13.099476995325611,\n          4.725090709935374\n        ],\n        \"semantic_type\": \"\",\n        \"description\": \"\"\n      }\n    },\n    {\n      \"column\": \"creatinine\",\n      \"properties\": {\n        \"dtype\": \"number\",\n        \"std\": 0.1297867777112972,\n        \"min\": 0.667420814479638,\n        \"max\": 1.4788848307978135,\n        \"num_unique_values\": 35139,\n        \"samples\": [\n          0.9503763617386176,\n          0.7683676057038471,\n          1.133945242921387\n        ],\n        \"semantic_type\": \"\",\n        \"description\": \"\"\n      }\n    },\n    {\n      \"column\": \"wbc\",\n      \"properties\": {\n        \"dtype\": \"number\",\n        \"std\": 12.964722392046227,\n        \"min\": 0.41,\n        \"max\": 81.01646825692376,\n        \"num_unique_values\": 32379,\n        \"samples\": [\n          24.36328954474596,\n          2.20084779170913,\n          13.5356285328796\n        ],\n        \"semantic_type\": \"\",\n        \"description\": \"\"\n      }\n    },\n    {\n      \"column\": \"hb\",\n      \"properties\": {\n        \"dtype\": \"number\",\n        \"std\": 13.38810940224832,\n        \"min\": 85.0,\n        \"max\": 203.2696510719232,\n        \"num_unique_values\": 35677,\n        \"samples\": [\n          144.60236902305832,\n          138.73871014163987,\n          138.96459482588867\n        ],\n        \"semantic_type\": \"\",\n        \"description\": \"\"\n      }\n    },\n    {\n      \"column\": \"plt\",\n      \"properties\": {\n        \"dtype\": \"number\",\n        \"std\": 196.52735171112627,\n        \"min\": 4.1,\n        \"max\": 894.0,\n        \"num_unique_values\": 34122,\n        \"samples\": [\n          368.7011657638173,\n          264.5938573044631,\n          429.782534909295\n        ],\n        \"semantic_type\": \"\",\n        \"description\": \"\"\n      }\n    },\n    {\n      \"column\": \"crp\",\n      \"properties\": {\n        \"dtype\": \"number\",\n        \"std\": 33.695465026398125,\n        \"min\": 0.8,\n        \"max\": 193.08351731277563,\n        \"num_unique_values\": 29185,\n        \"samples\": [\n          60.95288718725448,\n          53.52759595581668,\n          92.49896880181674\n        ],\n        \"semantic_type\": \"\",\n        \"description\": \"\"\n      }\n    },\n    {\n      \"column\": \"esr\",\n      \"properties\": {\n        \"dtype\": \"number\",\n        \"std\": 15.05035263228837,\n        \"min\": 1.0,\n        \"max\": 63.0,\n        \"num_unique_values\": 33835,\n        \"samples\": [\n          18.125456706478975,\n          36.64144205046013,\n          21.057836464499843\n        ],\n        \"semantic_type\": \"\",\n        \"description\": \"\"\n      }\n    },\n    {\n      \"column\": \"lymph\",\n      \"properties\": {\n        \"dtype\": \"number\",\n        \"std\": 8.843542419486013,\n        \"min\": 0.01,\n        \"max\": 43.0,\n        \"num_unique_values\": 33937,\n        \"samples\": [\n          14.508560698072628,\n          18.664930257782373,\n          32.2112032676805\n        ],\n        \"semantic_type\": \"\",\n        \"description\": \"\"\n      }\n    },\n    {\n      \"column\": \"pneumonia\",\n      \"properties\": {\n        \"dtype\": \"number\",\n        \"std\": 0,\n        \"min\": 1,\n        \"max\": 1,\n        \"num_unique_values\": 1,\n        \"samples\": [\n          1\n        ],\n        \"semantic_type\": \"\",\n        \"description\": \"\"\n      }\n    },\n    {\n      \"column\": \"ihd\",\n      \"properties\": {\n        \"dtype\": \"number\",\n        \"std\": 0,\n        \"min\": 0,\n        \"max\": 1,\n        \"num_unique_values\": 2,\n        \"samples\": [\n          1\n        ],\n        \"semantic_type\": \"\",\n        \"description\": \"\"\n      }\n    },\n    {\n      \"column\": \"dm\",\n      \"properties\": {\n        \"dtype\": \"number\",\n        \"std\": 0,\n        \"min\": 0,\n        \"max\": 1,\n        \"num_unique_values\": 2,\n        \"samples\": [\n          1\n        ],\n        \"semantic_type\": \"\",\n        \"description\": \"\"\n      }\n    },\n    {\n      \"column\": \"ah\",\n      \"properties\": {\n        \"dtype\": \"number\",\n        \"std\": 0,\n        \"min\": 0,\n        \"max\": 0,\n        \"num_unique_values\": 1,\n        \"samples\": [\n          0\n        ],\n        \"semantic_type\": \"\",\n        \"description\": \"\"\n      }\n    },\n    {\n      \"column\": \"sex\",\n      \"properties\": {\n        \"dtype\": \"number\",\n        \"std\": 0,\n        \"min\": 0,\n        \"max\": 1,\n        \"num_unique_values\": 2,\n        \"samples\": [\n          0\n        ],\n        \"semantic_type\": \"\",\n        \"description\": \"\"\n      }\n    },\n    {\n      \"column\": \"len\",\n      \"properties\": {\n        \"dtype\": \"number\",\n        \"std\": 10,\n        \"min\": 5,\n        \"max\": 52,\n        \"num_unique_values\": 48,\n        \"samples\": [\n          39\n        ],\n        \"semantic_type\": \"\",\n        \"description\": \"\"\n      }\n    },\n    {\n      \"column\": \"age\",\n      \"properties\": {\n        \"dtype\": \"number\",\n        \"std\": 6,\n        \"min\": 25,\n        \"max\": 84,\n        \"num_unique_values\": 23,\n        \"samples\": [\n          50\n        ],\n        \"semantic_type\": \"\",\n        \"description\": \"\"\n      }\n    },\n    {\n      \"column\": \"GFR\",\n      \"properties\": {\n        \"dtype\": \"number\",\n        \"std\": 12.2400473022242,\n        \"min\": 39.08096753127646,\n        \"max\": 127.97287924190374,\n        \"num_unique_values\": 35151,\n        \"samples\": [\n          55.034027393688426\n        ],\n        \"semantic_type\": \"\",\n        \"description\": \"\"\n      }\n    },\n    {\n      \"column\": \"ab_indication\",\n      \"properties\": {\n        \"dtype\": \"number\",\n        \"std\": 0,\n        \"min\": 0,\n        \"max\": 1,\n        \"num_unique_values\": 2,\n        \"samples\": [\n          1\n        ],\n        \"semantic_type\": \"\",\n        \"description\": \"\"\n      }\n    }\n  ]\n}",
       "type": "dataframe",
       "variable_name": "df"
      },
      "text/html": [
       "\n",
       "  <div id=\"df-1a21c821-c68a-42f5-a0fe-02ebcd4a8b42\" class=\"colab-df-container\">\n",
       "    <div>\n",
       "<style scoped>\n",
       "    .dataframe tbody tr th:only-of-type {\n",
       "        vertical-align: middle;\n",
       "    }\n",
       "\n",
       "    .dataframe tbody tr th {\n",
       "        vertical-align: top;\n",
       "    }\n",
       "\n",
       "    .dataframe thead th {\n",
       "        text-align: right;\n",
       "    }\n",
       "</style>\n",
       "<table border=\"1\" class=\"dataframe\">\n",
       "  <thead>\n",
       "    <tr style=\"text-align: right;\">\n",
       "      <th></th>\n",
       "      <th>Unnamed: 0</th>\n",
       "      <th>person_id</th>\n",
       "      <th>procalcitonine</th>\n",
       "      <th>fibrinogen</th>\n",
       "      <th>creatinine</th>\n",
       "      <th>wbc</th>\n",
       "      <th>hb</th>\n",
       "      <th>plt</th>\n",
       "      <th>crp</th>\n",
       "      <th>esr</th>\n",
       "      <th>lymph</th>\n",
       "      <th>pneumonia</th>\n",
       "      <th>ihd</th>\n",
       "      <th>dm</th>\n",
       "      <th>ah</th>\n",
       "      <th>sex</th>\n",
       "      <th>len</th>\n",
       "      <th>age</th>\n",
       "      <th>GFR</th>\n",
       "      <th>ab_indication</th>\n",
       "    </tr>\n",
       "  </thead>\n",
       "  <tbody>\n",
       "    <tr>\n",
       "      <th>1</th>\n",
       "      <td>3822</td>\n",
       "      <td>158</td>\n",
       "      <td>0.000000</td>\n",
       "      <td>8.909846</td>\n",
       "      <td>1.030282</td>\n",
       "      <td>1.363834</td>\n",
       "      <td>143.647123</td>\n",
       "      <td>644.437365</td>\n",
       "      <td>58.343027</td>\n",
       "      <td>34.424705</td>\n",
       "      <td>23.300684</td>\n",
       "      <td>1</td>\n",
       "      <td>0</td>\n",
       "      <td>0</td>\n",
       "      <td>0</td>\n",
       "      <td>1</td>\n",
       "      <td>17</td>\n",
       "      <td>56</td>\n",
       "      <td>60.894798</td>\n",
       "      <td>0</td>\n",
       "    </tr>\n",
       "    <tr>\n",
       "      <th>2</th>\n",
       "      <td>915492</td>\n",
       "      <td>342</td>\n",
       "      <td>0.000000</td>\n",
       "      <td>7.092240</td>\n",
       "      <td>1.027174</td>\n",
       "      <td>25.710224</td>\n",
       "      <td>130.864644</td>\n",
       "      <td>483.261016</td>\n",
       "      <td>0.800000</td>\n",
       "      <td>25.493102</td>\n",
       "      <td>27.004637</td>\n",
       "      <td>1</td>\n",
       "      <td>0</td>\n",
       "      <td>0</td>\n",
       "      <td>0</td>\n",
       "      <td>1</td>\n",
       "      <td>34</td>\n",
       "      <td>56</td>\n",
       "      <td>61.117621</td>\n",
       "      <td>0</td>\n",
       "    </tr>\n",
       "    <tr>\n",
       "      <th>3</th>\n",
       "      <td>641908</td>\n",
       "      <td>108</td>\n",
       "      <td>0.134918</td>\n",
       "      <td>13.265546</td>\n",
       "      <td>0.707201</td>\n",
       "      <td>0.410000</td>\n",
       "      <td>141.945473</td>\n",
       "      <td>477.671705</td>\n",
       "      <td>7.526411</td>\n",
       "      <td>46.599795</td>\n",
       "      <td>17.167563</td>\n",
       "      <td>1</td>\n",
       "      <td>0</td>\n",
       "      <td>0</td>\n",
       "      <td>0</td>\n",
       "      <td>1</td>\n",
       "      <td>26</td>\n",
       "      <td>56</td>\n",
       "      <td>95.972393</td>\n",
       "      <td>0</td>\n",
       "    </tr>\n",
       "    <tr>\n",
       "      <th>4</th>\n",
       "      <td>89879</td>\n",
       "      <td>108</td>\n",
       "      <td>0.000000</td>\n",
       "      <td>15.336425</td>\n",
       "      <td>1.094880</td>\n",
       "      <td>12.546527</td>\n",
       "      <td>120.607466</td>\n",
       "      <td>704.633325</td>\n",
       "      <td>27.180197</td>\n",
       "      <td>35.411333</td>\n",
       "      <td>15.268175</td>\n",
       "      <td>1</td>\n",
       "      <td>0</td>\n",
       "      <td>0</td>\n",
       "      <td>0</td>\n",
       "      <td>1</td>\n",
       "      <td>28</td>\n",
       "      <td>56</td>\n",
       "      <td>56.578279</td>\n",
       "      <td>0</td>\n",
       "    </tr>\n",
       "    <tr>\n",
       "      <th>5</th>\n",
       "      <td>744110</td>\n",
       "      <td>980</td>\n",
       "      <td>0.324985</td>\n",
       "      <td>9.899282</td>\n",
       "      <td>1.265045</td>\n",
       "      <td>7.001120</td>\n",
       "      <td>125.988145</td>\n",
       "      <td>166.613698</td>\n",
       "      <td>0.800000</td>\n",
       "      <td>27.280940</td>\n",
       "      <td>12.404405</td>\n",
       "      <td>1</td>\n",
       "      <td>1</td>\n",
       "      <td>0</td>\n",
       "      <td>0</td>\n",
       "      <td>1</td>\n",
       "      <td>33</td>\n",
       "      <td>48</td>\n",
       "      <td>50.257856</td>\n",
       "      <td>0</td>\n",
       "    </tr>\n",
       "    <tr>\n",
       "      <th>6</th>\n",
       "      <td>682124</td>\n",
       "      <td>205</td>\n",
       "      <td>0.000000</td>\n",
       "      <td>13.047944</td>\n",
       "      <td>0.777954</td>\n",
       "      <td>23.620463</td>\n",
       "      <td>144.569637</td>\n",
       "      <td>308.392879</td>\n",
       "      <td>8.999358</td>\n",
       "      <td>15.863399</td>\n",
       "      <td>17.785517</td>\n",
       "      <td>1</td>\n",
       "      <td>1</td>\n",
       "      <td>0</td>\n",
       "      <td>0</td>\n",
       "      <td>1</td>\n",
       "      <td>41</td>\n",
       "      <td>56</td>\n",
       "      <td>85.522548</td>\n",
       "      <td>0</td>\n",
       "    </tr>\n",
       "    <tr>\n",
       "      <th>7</th>\n",
       "      <td>908706</td>\n",
       "      <td>972</td>\n",
       "      <td>0.204717</td>\n",
       "      <td>8.516950</td>\n",
       "      <td>0.671374</td>\n",
       "      <td>31.017388</td>\n",
       "      <td>155.390774</td>\n",
       "      <td>440.785501</td>\n",
       "      <td>105.874631</td>\n",
       "      <td>27.831268</td>\n",
       "      <td>35.063580</td>\n",
       "      <td>1</td>\n",
       "      <td>1</td>\n",
       "      <td>0</td>\n",
       "      <td>0</td>\n",
       "      <td>1</td>\n",
       "      <td>48</td>\n",
       "      <td>56</td>\n",
       "      <td>102.198267</td>\n",
       "      <td>0</td>\n",
       "    </tr>\n",
       "    <tr>\n",
       "      <th>8</th>\n",
       "      <td>179693</td>\n",
       "      <td>243</td>\n",
       "      <td>0.159605</td>\n",
       "      <td>9.146573</td>\n",
       "      <td>0.989730</td>\n",
       "      <td>11.418947</td>\n",
       "      <td>137.050013</td>\n",
       "      <td>529.147331</td>\n",
       "      <td>13.175892</td>\n",
       "      <td>32.946863</td>\n",
       "      <td>25.367765</td>\n",
       "      <td>1</td>\n",
       "      <td>0</td>\n",
       "      <td>0</td>\n",
       "      <td>0</td>\n",
       "      <td>1</td>\n",
       "      <td>20</td>\n",
       "      <td>56</td>\n",
       "      <td>63.924039</td>\n",
       "      <td>0</td>\n",
       "    </tr>\n",
       "    <tr>\n",
       "      <th>9</th>\n",
       "      <td>103294</td>\n",
       "      <td>1103</td>\n",
       "      <td>0.305162</td>\n",
       "      <td>4.577210</td>\n",
       "      <td>1.061662</td>\n",
       "      <td>13.730590</td>\n",
       "      <td>135.855400</td>\n",
       "      <td>366.984412</td>\n",
       "      <td>80.341438</td>\n",
       "      <td>26.105165</td>\n",
       "      <td>10.744268</td>\n",
       "      <td>1</td>\n",
       "      <td>0</td>\n",
       "      <td>0</td>\n",
       "      <td>0</td>\n",
       "      <td>1</td>\n",
       "      <td>27</td>\n",
       "      <td>64</td>\n",
       "      <td>55.516282</td>\n",
       "      <td>0</td>\n",
       "    </tr>\n",
       "    <tr>\n",
       "      <th>11</th>\n",
       "      <td>576357</td>\n",
       "      <td>938</td>\n",
       "      <td>0.294488</td>\n",
       "      <td>5.396272</td>\n",
       "      <td>0.996770</td>\n",
       "      <td>0.410000</td>\n",
       "      <td>132.807655</td>\n",
       "      <td>342.620102</td>\n",
       "      <td>64.413576</td>\n",
       "      <td>28.491794</td>\n",
       "      <td>24.380682</td>\n",
       "      <td>1</td>\n",
       "      <td>0</td>\n",
       "      <td>0</td>\n",
       "      <td>0</td>\n",
       "      <td>1</td>\n",
       "      <td>26</td>\n",
       "      <td>48</td>\n",
       "      <td>67.042295</td>\n",
       "      <td>0</td>\n",
       "    </tr>\n",
       "    <tr>\n",
       "      <th>12</th>\n",
       "      <td>945578</td>\n",
       "      <td>797</td>\n",
       "      <td>0.000000</td>\n",
       "      <td>11.267176</td>\n",
       "      <td>0.991910</td>\n",
       "      <td>32.059969</td>\n",
       "      <td>108.714544</td>\n",
       "      <td>463.463834</td>\n",
       "      <td>6.287295</td>\n",
       "      <td>27.203281</td>\n",
       "      <td>18.841937</td>\n",
       "      <td>1</td>\n",
       "      <td>1</td>\n",
       "      <td>0</td>\n",
       "      <td>0</td>\n",
       "      <td>1</td>\n",
       "      <td>38</td>\n",
       "      <td>60</td>\n",
       "      <td>61.987787</td>\n",
       "      <td>0</td>\n",
       "    </tr>\n",
       "    <tr>\n",
       "      <th>13</th>\n",
       "      <td>668423</td>\n",
       "      <td>563</td>\n",
       "      <td>0.100044</td>\n",
       "      <td>8.206627</td>\n",
       "      <td>0.837759</td>\n",
       "      <td>21.957430</td>\n",
       "      <td>113.270114</td>\n",
       "      <td>307.202955</td>\n",
       "      <td>44.387527</td>\n",
       "      <td>22.760095</td>\n",
       "      <td>17.807171</td>\n",
       "      <td>1</td>\n",
       "      <td>0</td>\n",
       "      <td>0</td>\n",
       "      <td>0</td>\n",
       "      <td>1</td>\n",
       "      <td>37</td>\n",
       "      <td>56</td>\n",
       "      <td>78.197563</td>\n",
       "      <td>0</td>\n",
       "    </tr>\n",
       "    <tr>\n",
       "      <th>14</th>\n",
       "      <td>293434</td>\n",
       "      <td>1048</td>\n",
       "      <td>0.279753</td>\n",
       "      <td>9.237688</td>\n",
       "      <td>1.122505</td>\n",
       "      <td>27.551411</td>\n",
       "      <td>144.055110</td>\n",
       "      <td>85.053871</td>\n",
       "      <td>22.449883</td>\n",
       "      <td>24.662759</td>\n",
       "      <td>19.968242</td>\n",
       "      <td>1</td>\n",
       "      <td>1</td>\n",
       "      <td>0</td>\n",
       "      <td>0</td>\n",
       "      <td>1</td>\n",
       "      <td>45</td>\n",
       "      <td>60</td>\n",
       "      <td>53.378098</td>\n",
       "      <td>0</td>\n",
       "    </tr>\n",
       "    <tr>\n",
       "      <th>15</th>\n",
       "      <td>159510</td>\n",
       "      <td>1103</td>\n",
       "      <td>0.186244</td>\n",
       "      <td>3.024130</td>\n",
       "      <td>0.961837</td>\n",
       "      <td>30.674373</td>\n",
       "      <td>138.838745</td>\n",
       "      <td>525.387724</td>\n",
       "      <td>99.958928</td>\n",
       "      <td>40.309024</td>\n",
       "      <td>21.249976</td>\n",
       "      <td>1</td>\n",
       "      <td>1</td>\n",
       "      <td>0</td>\n",
       "      <td>0</td>\n",
       "      <td>1</td>\n",
       "      <td>41</td>\n",
       "      <td>61</td>\n",
       "      <td>63.888140</td>\n",
       "      <td>0</td>\n",
       "    </tr>\n",
       "    <tr>\n",
       "      <th>16</th>\n",
       "      <td>5925</td>\n",
       "      <td>998</td>\n",
       "      <td>0.222931</td>\n",
       "      <td>4.624272</td>\n",
       "      <td>0.667421</td>\n",
       "      <td>27.007027</td>\n",
       "      <td>139.313471</td>\n",
       "      <td>147.268440</td>\n",
       "      <td>60.652150</td>\n",
       "      <td>42.194046</td>\n",
       "      <td>6.915613</td>\n",
       "      <td>1</td>\n",
       "      <td>0</td>\n",
       "      <td>0</td>\n",
       "      <td>0</td>\n",
       "      <td>1</td>\n",
       "      <td>27</td>\n",
       "      <td>48</td>\n",
       "      <td>108.880638</td>\n",
       "      <td>0</td>\n",
       "    </tr>\n",
       "    <tr>\n",
       "      <th>17</th>\n",
       "      <td>385581</td>\n",
       "      <td>108</td>\n",
       "      <td>0.056326</td>\n",
       "      <td>14.472922</td>\n",
       "      <td>0.888639</td>\n",
       "      <td>0.410000</td>\n",
       "      <td>153.945682</td>\n",
       "      <td>458.050116</td>\n",
       "      <td>14.893726</td>\n",
       "      <td>24.468633</td>\n",
       "      <td>29.555894</td>\n",
       "      <td>1</td>\n",
       "      <td>0</td>\n",
       "      <td>0</td>\n",
       "      <td>0</td>\n",
       "      <td>1</td>\n",
       "      <td>23</td>\n",
       "      <td>56</td>\n",
       "      <td>72.817415</td>\n",
       "      <td>0</td>\n",
       "    </tr>\n",
       "    <tr>\n",
       "      <th>20</th>\n",
       "      <td>606299</td>\n",
       "      <td>1092</td>\n",
       "      <td>0.244450</td>\n",
       "      <td>8.549927</td>\n",
       "      <td>1.125501</td>\n",
       "      <td>37.663143</td>\n",
       "      <td>122.271390</td>\n",
       "      <td>131.188279</td>\n",
       "      <td>4.453801</td>\n",
       "      <td>20.969468</td>\n",
       "      <td>5.210443</td>\n",
       "      <td>1</td>\n",
       "      <td>1</td>\n",
       "      <td>0</td>\n",
       "      <td>0</td>\n",
       "      <td>1</td>\n",
       "      <td>40</td>\n",
       "      <td>60</td>\n",
       "      <td>53.206370</td>\n",
       "      <td>0</td>\n",
       "    </tr>\n",
       "    <tr>\n",
       "      <th>21</th>\n",
       "      <td>645060</td>\n",
       "      <td>169</td>\n",
       "      <td>0.232569</td>\n",
       "      <td>9.844164</td>\n",
       "      <td>0.848789</td>\n",
       "      <td>15.129009</td>\n",
       "      <td>129.565897</td>\n",
       "      <td>372.738283</td>\n",
       "      <td>0.800000</td>\n",
       "      <td>3.023908</td>\n",
       "      <td>23.140705</td>\n",
       "      <td>1</td>\n",
       "      <td>0</td>\n",
       "      <td>0</td>\n",
       "      <td>0</td>\n",
       "      <td>1</td>\n",
       "      <td>22</td>\n",
       "      <td>56</td>\n",
       "      <td>76.970583</td>\n",
       "      <td>0</td>\n",
       "    </tr>\n",
       "    <tr>\n",
       "      <th>23</th>\n",
       "      <td>653717</td>\n",
       "      <td>704</td>\n",
       "      <td>0.194793</td>\n",
       "      <td>7.542321</td>\n",
       "      <td>1.200582</td>\n",
       "      <td>22.912345</td>\n",
       "      <td>128.893945</td>\n",
       "      <td>455.647546</td>\n",
       "      <td>22.992415</td>\n",
       "      <td>28.204268</td>\n",
       "      <td>7.902855</td>\n",
       "      <td>1</td>\n",
       "      <td>0</td>\n",
       "      <td>0</td>\n",
       "      <td>0</td>\n",
       "      <td>1</td>\n",
       "      <td>28</td>\n",
       "      <td>56</td>\n",
       "      <td>50.612661</td>\n",
       "      <td>0</td>\n",
       "    </tr>\n",
       "    <tr>\n",
       "      <th>25</th>\n",
       "      <td>459165</td>\n",
       "      <td>1103</td>\n",
       "      <td>0.399378</td>\n",
       "      <td>6.352770</td>\n",
       "      <td>1.095731</td>\n",
       "      <td>39.675392</td>\n",
       "      <td>141.410515</td>\n",
       "      <td>65.444053</td>\n",
       "      <td>66.440737</td>\n",
       "      <td>29.846696</td>\n",
       "      <td>15.298656</td>\n",
       "      <td>1</td>\n",
       "      <td>1</td>\n",
       "      <td>0</td>\n",
       "      <td>0</td>\n",
       "      <td>1</td>\n",
       "      <td>52</td>\n",
       "      <td>64</td>\n",
       "      <td>53.436224</td>\n",
       "      <td>0</td>\n",
       "    </tr>\n",
       "  </tbody>\n",
       "</table>\n",
       "</div>\n",
       "    <div class=\"colab-df-buttons\">\n",
       "\n",
       "  <div class=\"colab-df-container\">\n",
       "    <button class=\"colab-df-convert\" onclick=\"convertToInteractive('df-1a21c821-c68a-42f5-a0fe-02ebcd4a8b42')\"\n",
       "            title=\"Convert this dataframe to an interactive table.\"\n",
       "            style=\"display:none;\">\n",
       "\n",
       "  <svg xmlns=\"http://www.w3.org/2000/svg\" height=\"24px\" viewBox=\"0 -960 960 960\">\n",
       "    <path d=\"M120-120v-720h720v720H120Zm60-500h600v-160H180v160Zm220 220h160v-160H400v160Zm0 220h160v-160H400v160ZM180-400h160v-160H180v160Zm440 0h160v-160H620v160ZM180-180h160v-160H180v160Zm440 0h160v-160H620v160Z\"/>\n",
       "  </svg>\n",
       "    </button>\n",
       "\n",
       "  <style>\n",
       "    .colab-df-container {\n",
       "      display:flex;\n",
       "      gap: 12px;\n",
       "    }\n",
       "\n",
       "    .colab-df-convert {\n",
       "      background-color: #E8F0FE;\n",
       "      border: none;\n",
       "      border-radius: 50%;\n",
       "      cursor: pointer;\n",
       "      display: none;\n",
       "      fill: #1967D2;\n",
       "      height: 32px;\n",
       "      padding: 0 0 0 0;\n",
       "      width: 32px;\n",
       "    }\n",
       "\n",
       "    .colab-df-convert:hover {\n",
       "      background-color: #E2EBFA;\n",
       "      box-shadow: 0px 1px 2px rgba(60, 64, 67, 0.3), 0px 1px 3px 1px rgba(60, 64, 67, 0.15);\n",
       "      fill: #174EA6;\n",
       "    }\n",
       "\n",
       "    .colab-df-buttons div {\n",
       "      margin-bottom: 4px;\n",
       "    }\n",
       "\n",
       "    [theme=dark] .colab-df-convert {\n",
       "      background-color: #3B4455;\n",
       "      fill: #D2E3FC;\n",
       "    }\n",
       "\n",
       "    [theme=dark] .colab-df-convert:hover {\n",
       "      background-color: #434B5C;\n",
       "      box-shadow: 0px 1px 3px 1px rgba(0, 0, 0, 0.15);\n",
       "      filter: drop-shadow(0px 1px 2px rgba(0, 0, 0, 0.3));\n",
       "      fill: #FFFFFF;\n",
       "    }\n",
       "  </style>\n",
       "\n",
       "    <script>\n",
       "      const buttonEl =\n",
       "        document.querySelector('#df-1a21c821-c68a-42f5-a0fe-02ebcd4a8b42 button.colab-df-convert');\n",
       "      buttonEl.style.display =\n",
       "        google.colab.kernel.accessAllowed ? 'block' : 'none';\n",
       "\n",
       "      async function convertToInteractive(key) {\n",
       "        const element = document.querySelector('#df-1a21c821-c68a-42f5-a0fe-02ebcd4a8b42');\n",
       "        const dataTable =\n",
       "          await google.colab.kernel.invokeFunction('convertToInteractive',\n",
       "                                                    [key], {});\n",
       "        if (!dataTable) return;\n",
       "\n",
       "        const docLinkHtml = 'Like what you see? Visit the ' +\n",
       "          '<a target=\"_blank\" href=https://colab.research.google.com/notebooks/data_table.ipynb>data table notebook</a>'\n",
       "          + ' to learn more about interactive tables.';\n",
       "        element.innerHTML = '';\n",
       "        dataTable['output_type'] = 'display_data';\n",
       "        await google.colab.output.renderOutput(dataTable, element);\n",
       "        const docLink = document.createElement('div');\n",
       "        docLink.innerHTML = docLinkHtml;\n",
       "        element.appendChild(docLink);\n",
       "      }\n",
       "    </script>\n",
       "  </div>\n",
       "\n",
       "\n",
       "<div id=\"df-3545403b-66b4-4030-b6a4-5f327ae9839c\">\n",
       "  <button class=\"colab-df-quickchart\" onclick=\"quickchart('df-3545403b-66b4-4030-b6a4-5f327ae9839c')\"\n",
       "            title=\"Suggest charts\"\n",
       "            style=\"display:none;\">\n",
       "\n",
       "<svg xmlns=\"http://www.w3.org/2000/svg\" height=\"24px\"viewBox=\"0 0 24 24\"\n",
       "     width=\"24px\">\n",
       "    <g>\n",
       "        <path d=\"M19 3H5c-1.1 0-2 .9-2 2v14c0 1.1.9 2 2 2h14c1.1 0 2-.9 2-2V5c0-1.1-.9-2-2-2zM9 17H7v-7h2v7zm4 0h-2V7h2v10zm4 0h-2v-4h2v4z\"/>\n",
       "    </g>\n",
       "</svg>\n",
       "  </button>\n",
       "\n",
       "<style>\n",
       "  .colab-df-quickchart {\n",
       "      --bg-color: #E8F0FE;\n",
       "      --fill-color: #1967D2;\n",
       "      --hover-bg-color: #E2EBFA;\n",
       "      --hover-fill-color: #174EA6;\n",
       "      --disabled-fill-color: #AAA;\n",
       "      --disabled-bg-color: #DDD;\n",
       "  }\n",
       "\n",
       "  [theme=dark] .colab-df-quickchart {\n",
       "      --bg-color: #3B4455;\n",
       "      --fill-color: #D2E3FC;\n",
       "      --hover-bg-color: #434B5C;\n",
       "      --hover-fill-color: #FFFFFF;\n",
       "      --disabled-bg-color: #3B4455;\n",
       "      --disabled-fill-color: #666;\n",
       "  }\n",
       "\n",
       "  .colab-df-quickchart {\n",
       "    background-color: var(--bg-color);\n",
       "    border: none;\n",
       "    border-radius: 50%;\n",
       "    cursor: pointer;\n",
       "    display: none;\n",
       "    fill: var(--fill-color);\n",
       "    height: 32px;\n",
       "    padding: 0;\n",
       "    width: 32px;\n",
       "  }\n",
       "\n",
       "  .colab-df-quickchart:hover {\n",
       "    background-color: var(--hover-bg-color);\n",
       "    box-shadow: 0 1px 2px rgba(60, 64, 67, 0.3), 0 1px 3px 1px rgba(60, 64, 67, 0.15);\n",
       "    fill: var(--button-hover-fill-color);\n",
       "  }\n",
       "\n",
       "  .colab-df-quickchart-complete:disabled,\n",
       "  .colab-df-quickchart-complete:disabled:hover {\n",
       "    background-color: var(--disabled-bg-color);\n",
       "    fill: var(--disabled-fill-color);\n",
       "    box-shadow: none;\n",
       "  }\n",
       "\n",
       "  .colab-df-spinner {\n",
       "    border: 2px solid var(--fill-color);\n",
       "    border-color: transparent;\n",
       "    border-bottom-color: var(--fill-color);\n",
       "    animation:\n",
       "      spin 1s steps(1) infinite;\n",
       "  }\n",
       "\n",
       "  @keyframes spin {\n",
       "    0% {\n",
       "      border-color: transparent;\n",
       "      border-bottom-color: var(--fill-color);\n",
       "      border-left-color: var(--fill-color);\n",
       "    }\n",
       "    20% {\n",
       "      border-color: transparent;\n",
       "      border-left-color: var(--fill-color);\n",
       "      border-top-color: var(--fill-color);\n",
       "    }\n",
       "    30% {\n",
       "      border-color: transparent;\n",
       "      border-left-color: var(--fill-color);\n",
       "      border-top-color: var(--fill-color);\n",
       "      border-right-color: var(--fill-color);\n",
       "    }\n",
       "    40% {\n",
       "      border-color: transparent;\n",
       "      border-right-color: var(--fill-color);\n",
       "      border-top-color: var(--fill-color);\n",
       "    }\n",
       "    60% {\n",
       "      border-color: transparent;\n",
       "      border-right-color: var(--fill-color);\n",
       "    }\n",
       "    80% {\n",
       "      border-color: transparent;\n",
       "      border-right-color: var(--fill-color);\n",
       "      border-bottom-color: var(--fill-color);\n",
       "    }\n",
       "    90% {\n",
       "      border-color: transparent;\n",
       "      border-bottom-color: var(--fill-color);\n",
       "    }\n",
       "  }\n",
       "</style>\n",
       "\n",
       "  <script>\n",
       "    async function quickchart(key) {\n",
       "      const quickchartButtonEl =\n",
       "        document.querySelector('#' + key + ' button');\n",
       "      quickchartButtonEl.disabled = true;  // To prevent multiple clicks.\n",
       "      quickchartButtonEl.classList.add('colab-df-spinner');\n",
       "      try {\n",
       "        const charts = await google.colab.kernel.invokeFunction(\n",
       "            'suggestCharts', [key], {});\n",
       "      } catch (error) {\n",
       "        console.error('Error during call to suggestCharts:', error);\n",
       "      }\n",
       "      quickchartButtonEl.classList.remove('colab-df-spinner');\n",
       "      quickchartButtonEl.classList.add('colab-df-quickchart-complete');\n",
       "    }\n",
       "    (() => {\n",
       "      let quickchartButtonEl =\n",
       "        document.querySelector('#df-3545403b-66b4-4030-b6a4-5f327ae9839c button');\n",
       "      quickchartButtonEl.style.display =\n",
       "        google.colab.kernel.accessAllowed ? 'block' : 'none';\n",
       "    })();\n",
       "  </script>\n",
       "</div>\n",
       "    </div>\n",
       "  </div>\n"
      ],
      "text/plain": [
       "    Unnamed: 0  person_id  procalcitonine  fibrinogen  creatinine        wbc  \\\n",
       "1         3822        158        0.000000    8.909846    1.030282   1.363834   \n",
       "2       915492        342        0.000000    7.092240    1.027174  25.710224   \n",
       "3       641908        108        0.134918   13.265546    0.707201   0.410000   \n",
       "4        89879        108        0.000000   15.336425    1.094880  12.546527   \n",
       "5       744110        980        0.324985    9.899282    1.265045   7.001120   \n",
       "6       682124        205        0.000000   13.047944    0.777954  23.620463   \n",
       "7       908706        972        0.204717    8.516950    0.671374  31.017388   \n",
       "8       179693        243        0.159605    9.146573    0.989730  11.418947   \n",
       "9       103294       1103        0.305162    4.577210    1.061662  13.730590   \n",
       "11      576357        938        0.294488    5.396272    0.996770   0.410000   \n",
       "12      945578        797        0.000000   11.267176    0.991910  32.059969   \n",
       "13      668423        563        0.100044    8.206627    0.837759  21.957430   \n",
       "14      293434       1048        0.279753    9.237688    1.122505  27.551411   \n",
       "15      159510       1103        0.186244    3.024130    0.961837  30.674373   \n",
       "16        5925        998        0.222931    4.624272    0.667421  27.007027   \n",
       "17      385581        108        0.056326   14.472922    0.888639   0.410000   \n",
       "20      606299       1092        0.244450    8.549927    1.125501  37.663143   \n",
       "21      645060        169        0.232569    9.844164    0.848789  15.129009   \n",
       "23      653717        704        0.194793    7.542321    1.200582  22.912345   \n",
       "25      459165       1103        0.399378    6.352770    1.095731  39.675392   \n",
       "\n",
       "            hb         plt         crp        esr      lymph  pneumonia  ihd  \\\n",
       "1   143.647123  644.437365   58.343027  34.424705  23.300684          1    0   \n",
       "2   130.864644  483.261016    0.800000  25.493102  27.004637          1    0   \n",
       "3   141.945473  477.671705    7.526411  46.599795  17.167563          1    0   \n",
       "4   120.607466  704.633325   27.180197  35.411333  15.268175          1    0   \n",
       "5   125.988145  166.613698    0.800000  27.280940  12.404405          1    1   \n",
       "6   144.569637  308.392879    8.999358  15.863399  17.785517          1    1   \n",
       "7   155.390774  440.785501  105.874631  27.831268  35.063580          1    1   \n",
       "8   137.050013  529.147331   13.175892  32.946863  25.367765          1    0   \n",
       "9   135.855400  366.984412   80.341438  26.105165  10.744268          1    0   \n",
       "11  132.807655  342.620102   64.413576  28.491794  24.380682          1    0   \n",
       "12  108.714544  463.463834    6.287295  27.203281  18.841937          1    1   \n",
       "13  113.270114  307.202955   44.387527  22.760095  17.807171          1    0   \n",
       "14  144.055110   85.053871   22.449883  24.662759  19.968242          1    1   \n",
       "15  138.838745  525.387724   99.958928  40.309024  21.249976          1    1   \n",
       "16  139.313471  147.268440   60.652150  42.194046   6.915613          1    0   \n",
       "17  153.945682  458.050116   14.893726  24.468633  29.555894          1    0   \n",
       "20  122.271390  131.188279    4.453801  20.969468   5.210443          1    1   \n",
       "21  129.565897  372.738283    0.800000   3.023908  23.140705          1    0   \n",
       "23  128.893945  455.647546   22.992415  28.204268   7.902855          1    0   \n",
       "25  141.410515   65.444053   66.440737  29.846696  15.298656          1    1   \n",
       "\n",
       "    dm  ah  sex  len  age         GFR  ab_indication  \n",
       "1    0   0    1   17   56   60.894798              0  \n",
       "2    0   0    1   34   56   61.117621              0  \n",
       "3    0   0    1   26   56   95.972393              0  \n",
       "4    0   0    1   28   56   56.578279              0  \n",
       "5    0   0    1   33   48   50.257856              0  \n",
       "6    0   0    1   41   56   85.522548              0  \n",
       "7    0   0    1   48   56  102.198267              0  \n",
       "8    0   0    1   20   56   63.924039              0  \n",
       "9    0   0    1   27   64   55.516282              0  \n",
       "11   0   0    1   26   48   67.042295              0  \n",
       "12   0   0    1   38   60   61.987787              0  \n",
       "13   0   0    1   37   56   78.197563              0  \n",
       "14   0   0    1   45   60   53.378098              0  \n",
       "15   0   0    1   41   61   63.888140              0  \n",
       "16   0   0    1   27   48  108.880638              0  \n",
       "17   0   0    1   23   56   72.817415              0  \n",
       "20   0   0    1   40   60   53.206370              0  \n",
       "21   0   0    1   22   56   76.970583              0  \n",
       "23   0   0    1   28   56   50.612661              0  \n",
       "25   0   0    1   52   64   53.436224              0  "
      ]
     },
     "execution_count": 5,
     "metadata": {},
     "output_type": "execute_result"
    }
   ],
   "source": [
    "df.head(20)"
   ]
  },
  {
   "cell_type": "code",
   "execution_count": 6,
   "id": "db28b456",
   "metadata": {
    "colab": {
     "base_uri": "https://localhost:8080/"
    },
    "executionInfo": {
     "elapsed": 19,
     "status": "ok",
     "timestamp": 1711037304252,
     "user": {
      "displayName": "Михаил Демин",
      "userId": "14250540086915616791"
     },
     "user_tz": -600
    },
    "id": "db28b456",
    "outputId": "ca9256df-de62-460d-c0dd-5109ba10714e"
   },
   "outputs": [
    {
     "name": "stdout",
     "output_type": "stream",
     "text": [
      "Examples:\n",
      "    Total: 35680\n",
      "    Positive: 8873 (24.9% of total)\n",
      "\n"
     ]
    }
   ],
   "source": [
    "neg, pos = np.bincount(df['ab_indication'])\n",
    "total = neg + pos\n",
    "print('Examples:\\n    Total: {}\\n    Positive: {} ({:.1f}% of total)\\n'.format(\n",
    "    total, pos, 100 * pos / total))"
   ]
  },
  {
   "cell_type": "markdown",
   "id": "028a6b36",
   "metadata": {
    "id": "028a6b36"
   },
   "source": [
    "Отметим, что данные несбалансированы"
   ]
  },
  {
   "cell_type": "code",
   "execution_count": 7,
   "id": "69d61f0c",
   "metadata": {
    "colab": {
     "base_uri": "https://localhost:8080/",
     "height": 1000
    },
    "executionInfo": {
     "elapsed": 1925,
     "status": "ok",
     "timestamp": 1711037306163,
     "user": {
      "displayName": "Михаил Демин",
      "userId": "14250540086915616791"
     },
     "user_tz": -600
    },
    "id": "69d61f0c",
    "outputId": "82fddc80-6c2c-4a84-fcd6-43ba75ae64c2"
   },
   "outputs": [
    {
     "data": {
      "image/png": "[encoded data removed]",
      "text/plain": [
       "<Figure size 1800x1800 with 2 Axes>"
      ]
     },
     "metadata": {},
     "output_type": "display_data"
    }
   ],
   "source": [
    "#Построим корреляционную матрицу\n",
    "cmap = sns.diverging_palette(275,150,  s=40, l=65, n=9)\n",
    "corrmat = df.corr()\n",
    "plt.subplots(figsize=(18, 18))\n",
    "sns.heatmap(corrmat, cmap= cmap, annot=True, square=True);"
   ]
  },
  {
   "cell_type": "code",
   "execution_count": 8,
   "id": "6529a107",
   "metadata": {
    "executionInfo": {
     "elapsed": 27,
     "status": "ok",
     "timestamp": 1711037306164,
     "user": {
      "displayName": "Михаил Демин",
      "userId": "14250540086915616791"
     },
     "user_tz": -600
    },
    "id": "6529a107"
   },
   "outputs": [],
   "source": [
    "columns =['plt', 'esr', 'fibrinogen', 'creatinine', 'wbc',  'crp','lymph']\n",
    "df_no_ind = df[df['ab_indication'] == 0]\n",
    "df_ind = df[df['ab_indication'] == 1]"
   ]
  },
  {
   "cell_type": "code",
   "execution_count": 28,
   "id": "70f092bb",
   "metadata": {
    "colab": {
     "base_uri": "https://localhost:8080/",
     "height": 461
    },
    "executionInfo": {
     "elapsed": 499,
     "status": "ok",
     "timestamp": 1711044169258,
     "user": {
      "displayName": "Михаил Демин",
      "userId": "14250540086915616791"
     },
     "user_tz": -600
    },
    "id": "70f092bb",
    "outputId": "9574f4f7-486f-4533-de2c-6fe69b7ffcb8"
   },
   "outputs": [
    {
     "data": {
      "application/vnd.google.colaboratory.intrinsic+json": {
       "summary": "{\n  \"name\": \"df_no_ind\",\n  \"rows\": 26807,\n  \"fields\": [\n    {\n      \"column\": \"Unnamed: 0\",\n      \"properties\": {\n        \"dtype\": \"number\",\n        \"std\": 288252,\n        \"min\": 15,\n        \"max\": 999995,\n        \"num_unique_values\": 26807,\n        \"samples\": [\n          354919,\n          291908,\n          785690\n        ],\n        \"semantic_type\": \"\",\n        \"description\": \"\"\n      }\n    },\n    {\n      \"column\": \"person_id\",\n      \"properties\": {\n        \"dtype\": \"number\",\n        \"std\": 347,\n        \"min\": 108,\n        \"max\": 1103,\n        \"num_unique_values\": 996,\n        \"samples\": [\n          715,\n          544,\n          464\n        ],\n        \"semantic_type\": \"\",\n        \"description\": \"\"\n      }\n    },\n    {\n      \"column\": \"procalcitonine\",\n      \"properties\": {\n        \"dtype\": \"number\",\n        \"std\": 0.11623501728635817,\n        \"min\": 0.0,\n        \"max\": 0.449992599688296,\n        \"num_unique_values\": 20883,\n        \"samples\": [\n          0.1674071303141938,\n          0.0132794184137575,\n          0.2250432807014222\n        ],\n        \"semantic_type\": \"\",\n        \"description\": \"\"\n      }\n    },\n    {\n      \"column\": \"fibrinogen\",\n      \"properties\": {\n        \"dtype\": \"number\",\n        \"std\": 2.6811555220617036,\n        \"min\": 2.44,\n        \"max\": 18.0,\n        \"num_unique_values\": 26478,\n        \"samples\": [\n          9.126940015827916,\n          7.832545867632565,\n          6.790715703514543\n        ],\n        \"semantic_type\": \"\",\n        \"description\": \"\"\n      }\n    },\n    {\n      \"column\": \"creatinine\",\n      \"properties\": {\n        \"dtype\": \"number\",\n        \"std\": 0.12949713254908296,\n        \"min\": 0.667420814479638,\n        \"max\": 1.4788848307978135,\n        \"num_unique_values\": 26393,\n        \"samples\": [\n          0.8993651277986064,\n          1.195836831076564,\n          1.0534194668411234\n        ],\n        \"semantic_type\": \"\",\n        \"description\": \"\"\n      }\n    },\n    {\n      \"column\": \"wbc\",\n      \"properties\": {\n        \"dtype\": \"number\",\n        \"std\": 12.561731117400395,\n        \"min\": 0.41,\n        \"max\": 76.8709415514686,\n        \"num_unique_values\": 23955,\n        \"samples\": [\n          18.55933707033991,\n          10.287573689030468,\n          15.229836467986082\n        ],\n        \"semantic_type\": \"\",\n        \"description\": \"\"\n      }\n    },\n    {\n      \"column\": \"hb\",\n      \"properties\": {\n        \"dtype\": \"number\",\n        \"std\": 13.035434023788243,\n        \"min\": 85.0,\n        \"max\": 190.6243732763288,\n        \"num_unique_values\": 26804,\n        \"samples\": [\n          129.2105898591699,\n          127.01973382110782,\n          136.88603710681778\n        ],\n        \"semantic_type\": \"\",\n        \"description\": \"\"\n      }\n    },\n    {\n      \"column\": \"plt\",\n      \"properties\": {\n        \"dtype\": \"number\",\n        \"std\": 175.71560833370606,\n        \"min\": 4.1,\n        \"max\": 894.0,\n        \"num_unique_values\": 26473,\n        \"samples\": [\n          697.8759840740163,\n          591.71867385959,\n          835.0925190060246\n        ],\n        \"semantic_type\": \"\",\n        \"description\": \"\"\n      }\n    },\n    {\n      \"column\": \"crp\",\n      \"properties\": {\n        \"dtype\": \"number\",\n        \"std\": 31.24880895038675,\n        \"min\": 0.8,\n        \"max\": 193.08351731277563,\n        \"num_unique_values\": 20892,\n        \"samples\": [\n          67.9745480091226,\n          9.482795159537378,\n          55.3858129833722\n        ],\n        \"semantic_type\": \"\",\n        \"description\": \"\"\n      }\n    },\n    {\n      \"column\": \"esr\",\n      \"properties\": {\n        \"dtype\": \"number\",\n        \"std\": 15.009047091623628,\n        \"min\": 1.0,\n        \"max\": 63.0,\n        \"num_unique_values\": 25507,\n        \"samples\": [\n          20.45354690018304,\n          36.60770808212634,\n          19.69863931330565\n        ],\n        \"semantic_type\": \"\",\n        \"description\": \"\"\n      }\n    },\n    {\n      \"column\": \"lymph\",\n      \"properties\": {\n        \"dtype\": \"number\",\n        \"std\": 8.771631765313833,\n        \"min\": 0.01,\n        \"max\": 43.0,\n        \"num_unique_values\": 25871,\n        \"samples\": [\n          15.524314534963413,\n          14.225045536190583,\n          11.120212257207816\n        ],\n        \"semantic_type\": \"\",\n        \"description\": \"\"\n      }\n    },\n    {\n      \"column\": \"pneumonia\",\n      \"properties\": {\n        \"dtype\": \"number\",\n        \"std\": 0,\n        \"min\": 1,\n        \"max\": 1,\n        \"num_unique_values\": 1,\n        \"samples\": [\n          1\n        ],\n        \"semantic_type\": \"\",\n        \"description\": \"\"\n      }\n    },\n    {\n      \"column\": \"ihd\",\n      \"properties\": {\n        \"dtype\": \"number\",\n        \"std\": 0,\n        \"min\": 0,\n        \"max\": 1,\n        \"num_unique_values\": 2,\n        \"samples\": [\n          1\n        ],\n        \"semantic_type\": \"\",\n        \"description\": \"\"\n      }\n    },\n    {\n      \"column\": \"dm\",\n      \"properties\": {\n        \"dtype\": \"number\",\n        \"std\": 0,\n        \"min\": 0,\n        \"max\": 0,\n        \"num_unique_values\": 1,\n        \"samples\": [\n          0\n        ],\n        \"semantic_type\": \"\",\n        \"description\": \"\"\n      }\n    },\n    {\n      \"column\": \"ah\",\n      \"properties\": {\n        \"dtype\": \"number\",\n        \"std\": 0,\n        \"min\": 0,\n        \"max\": 0,\n        \"num_unique_values\": 1,\n        \"samples\": [\n          0\n        ],\n        \"semantic_type\": \"\",\n        \"description\": \"\"\n      }\n    },\n    {\n      \"column\": \"sex\",\n      \"properties\": {\n        \"dtype\": \"number\",\n        \"std\": 0,\n        \"min\": 0,\n        \"max\": 1,\n        \"num_unique_values\": 2,\n        \"samples\": [\n          0\n        ],\n        \"semantic_type\": \"\",\n        \"description\": \"\"\n      }\n    },\n    {\n      \"column\": \"len\",\n      \"properties\": {\n        \"dtype\": \"number\",\n        \"std\": 9,\n        \"min\": 5,\n        \"max\": 52,\n        \"num_unique_values\": 48,\n        \"samples\": [\n          39\n        ],\n        \"semantic_type\": \"\",\n        \"description\": \"\"\n      }\n    },\n    {\n      \"column\": \"age\",\n      \"properties\": {\n        \"dtype\": \"number\",\n        \"std\": 4,\n        \"min\": 25,\n        \"max\": 79,\n        \"num_unique_values\": 16,\n        \"samples\": [\n          56\n        ],\n        \"semantic_type\": \"\",\n        \"description\": \"\"\n      }\n    },\n    {\n      \"column\": \"GFR\",\n      \"properties\": {\n        \"dtype\": \"number\",\n        \"std\": 12.032166886332588,\n        \"min\": 39.3362815567157,\n        \"max\": 127.97287924190374,\n        \"num_unique_values\": 26399,\n        \"samples\": [\n          57.83705020759498\n        ],\n        \"semantic_type\": \"\",\n        \"description\": \"\"\n      }\n    },\n    {\n      \"column\": \"ab_indication\",\n      \"properties\": {\n        \"dtype\": \"number\",\n        \"std\": 0,\n        \"min\": 0,\n        \"max\": 0,\n        \"num_unique_values\": 1,\n        \"samples\": [\n          0\n        ],\n        \"semantic_type\": \"\",\n        \"description\": \"\"\n      }\n    }\n  ]\n}",
       "type": "dataframe",
       "variable_name": "df_no_ind"
      },
      "text/html": [
       "\n",
       "  <div id=\"df-90dee1ff-4d04-4f35-a514-83cd2b19977d\" class=\"colab-df-container\">\n",
       "    <div>\n",
       "<style scoped>\n",
       "    .dataframe tbody tr th:only-of-type {\n",
       "        vertical-align: middle;\n",
       "    }\n",
       "\n",
       "    .dataframe tbody tr th {\n",
       "        vertical-align: top;\n",
       "    }\n",
       "\n",
       "    .dataframe thead th {\n",
       "        text-align: right;\n",
       "    }\n",
       "</style>\n",
       "<table border=\"1\" class=\"dataframe\">\n",
       "  <thead>\n",
       "    <tr style=\"text-align: right;\">\n",
       "      <th></th>\n",
       "      <th>Unnamed: 0</th>\n",
       "      <th>person_id</th>\n",
       "      <th>procalcitonine</th>\n",
       "      <th>fibrinogen</th>\n",
       "      <th>creatinine</th>\n",
       "      <th>wbc</th>\n",
       "      <th>hb</th>\n",
       "      <th>plt</th>\n",
       "      <th>crp</th>\n",
       "      <th>esr</th>\n",
       "      <th>lymph</th>\n",
       "      <th>pneumonia</th>\n",
       "      <th>ihd</th>\n",
       "      <th>dm</th>\n",
       "      <th>ah</th>\n",
       "      <th>sex</th>\n",
       "      <th>len</th>\n",
       "      <th>age</th>\n",
       "      <th>GFR</th>\n",
       "      <th>ab_indication</th>\n",
       "    </tr>\n",
       "  </thead>\n",
       "  <tbody>\n",
       "    <tr>\n",
       "      <th>1</th>\n",
       "      <td>3822</td>\n",
       "      <td>158</td>\n",
       "      <td>0.000000</td>\n",
       "      <td>8.909846</td>\n",
       "      <td>1.030282</td>\n",
       "      <td>1.363834</td>\n",
       "      <td>143.647123</td>\n",
       "      <td>644.437365</td>\n",
       "      <td>58.343027</td>\n",
       "      <td>34.424705</td>\n",
       "      <td>23.300684</td>\n",
       "      <td>1</td>\n",
       "      <td>0</td>\n",
       "      <td>0</td>\n",
       "      <td>0</td>\n",
       "      <td>1</td>\n",
       "      <td>17</td>\n",
       "      <td>56</td>\n",
       "      <td>60.894798</td>\n",
       "      <td>0</td>\n",
       "    </tr>\n",
       "    <tr>\n",
       "      <th>2</th>\n",
       "      <td>915492</td>\n",
       "      <td>342</td>\n",
       "      <td>0.000000</td>\n",
       "      <td>7.092240</td>\n",
       "      <td>1.027174</td>\n",
       "      <td>25.710224</td>\n",
       "      <td>130.864644</td>\n",
       "      <td>483.261016</td>\n",
       "      <td>0.800000</td>\n",
       "      <td>25.493102</td>\n",
       "      <td>27.004637</td>\n",
       "      <td>1</td>\n",
       "      <td>0</td>\n",
       "      <td>0</td>\n",
       "      <td>0</td>\n",
       "      <td>1</td>\n",
       "      <td>34</td>\n",
       "      <td>56</td>\n",
       "      <td>61.117621</td>\n",
       "      <td>0</td>\n",
       "    </tr>\n",
       "    <tr>\n",
       "      <th>3</th>\n",
       "      <td>641908</td>\n",
       "      <td>108</td>\n",
       "      <td>0.134918</td>\n",
       "      <td>13.265546</td>\n",
       "      <td>0.707201</td>\n",
       "      <td>0.410000</td>\n",
       "      <td>141.945473</td>\n",
       "      <td>477.671705</td>\n",
       "      <td>7.526411</td>\n",
       "      <td>46.599795</td>\n",
       "      <td>17.167563</td>\n",
       "      <td>1</td>\n",
       "      <td>0</td>\n",
       "      <td>0</td>\n",
       "      <td>0</td>\n",
       "      <td>1</td>\n",
       "      <td>26</td>\n",
       "      <td>56</td>\n",
       "      <td>95.972393</td>\n",
       "      <td>0</td>\n",
       "    </tr>\n",
       "    <tr>\n",
       "      <th>4</th>\n",
       "      <td>89879</td>\n",
       "      <td>108</td>\n",
       "      <td>0.000000</td>\n",
       "      <td>15.336425</td>\n",
       "      <td>1.094880</td>\n",
       "      <td>12.546527</td>\n",
       "      <td>120.607466</td>\n",
       "      <td>704.633325</td>\n",
       "      <td>27.180197</td>\n",
       "      <td>35.411333</td>\n",
       "      <td>15.268175</td>\n",
       "      <td>1</td>\n",
       "      <td>0</td>\n",
       "      <td>0</td>\n",
       "      <td>0</td>\n",
       "      <td>1</td>\n",
       "      <td>28</td>\n",
       "      <td>56</td>\n",
       "      <td>56.578279</td>\n",
       "      <td>0</td>\n",
       "    </tr>\n",
       "    <tr>\n",
       "      <th>5</th>\n",
       "      <td>744110</td>\n",
       "      <td>980</td>\n",
       "      <td>0.324985</td>\n",
       "      <td>9.899282</td>\n",
       "      <td>1.265045</td>\n",
       "      <td>7.001120</td>\n",
       "      <td>125.988145</td>\n",
       "      <td>166.613698</td>\n",
       "      <td>0.800000</td>\n",
       "      <td>27.280940</td>\n",
       "      <td>12.404405</td>\n",
       "      <td>1</td>\n",
       "      <td>1</td>\n",
       "      <td>0</td>\n",
       "      <td>0</td>\n",
       "      <td>1</td>\n",
       "      <td>33</td>\n",
       "      <td>48</td>\n",
       "      <td>50.257856</td>\n",
       "      <td>0</td>\n",
       "    </tr>\n",
       "    <tr>\n",
       "      <th>...</th>\n",
       "      <td>...</td>\n",
       "      <td>...</td>\n",
       "      <td>...</td>\n",
       "      <td>...</td>\n",
       "      <td>...</td>\n",
       "      <td>...</td>\n",
       "      <td>...</td>\n",
       "      <td>...</td>\n",
       "      <td>...</td>\n",
       "      <td>...</td>\n",
       "      <td>...</td>\n",
       "      <td>...</td>\n",
       "      <td>...</td>\n",
       "      <td>...</td>\n",
       "      <td>...</td>\n",
       "      <td>...</td>\n",
       "      <td>...</td>\n",
       "      <td>...</td>\n",
       "      <td>...</td>\n",
       "      <td>...</td>\n",
       "    </tr>\n",
       "    <tr>\n",
       "      <th>41224</th>\n",
       "      <td>718264</td>\n",
       "      <td>706</td>\n",
       "      <td>0.112622</td>\n",
       "      <td>11.122910</td>\n",
       "      <td>0.954530</td>\n",
       "      <td>13.101311</td>\n",
       "      <td>141.795781</td>\n",
       "      <td>374.247891</td>\n",
       "      <td>21.111733</td>\n",
       "      <td>19.814036</td>\n",
       "      <td>12.839993</td>\n",
       "      <td>1</td>\n",
       "      <td>1</td>\n",
       "      <td>0</td>\n",
       "      <td>0</td>\n",
       "      <td>1</td>\n",
       "      <td>42</td>\n",
       "      <td>56</td>\n",
       "      <td>66.784947</td>\n",
       "      <td>0</td>\n",
       "    </tr>\n",
       "    <tr>\n",
       "      <th>41225</th>\n",
       "      <td>556216</td>\n",
       "      <td>1103</td>\n",
       "      <td>0.199631</td>\n",
       "      <td>7.135134</td>\n",
       "      <td>1.099085</td>\n",
       "      <td>36.772744</td>\n",
       "      <td>137.856675</td>\n",
       "      <td>178.047896</td>\n",
       "      <td>48.956390</td>\n",
       "      <td>17.813114</td>\n",
       "      <td>0.010000</td>\n",
       "      <td>1</td>\n",
       "      <td>0</td>\n",
       "      <td>0</td>\n",
       "      <td>0</td>\n",
       "      <td>1</td>\n",
       "      <td>39</td>\n",
       "      <td>35</td>\n",
       "      <td>65.268376</td>\n",
       "      <td>0</td>\n",
       "    </tr>\n",
       "    <tr>\n",
       "      <th>41227</th>\n",
       "      <td>144924</td>\n",
       "      <td>1013</td>\n",
       "      <td>0.335003</td>\n",
       "      <td>4.822600</td>\n",
       "      <td>0.905691</td>\n",
       "      <td>19.587708</td>\n",
       "      <td>136.475023</td>\n",
       "      <td>261.638296</td>\n",
       "      <td>115.226867</td>\n",
       "      <td>41.099277</td>\n",
       "      <td>10.731909</td>\n",
       "      <td>1</td>\n",
       "      <td>0</td>\n",
       "      <td>0</td>\n",
       "      <td>0</td>\n",
       "      <td>1</td>\n",
       "      <td>28</td>\n",
       "      <td>35</td>\n",
       "      <td>82.474743</td>\n",
       "      <td>0</td>\n",
       "    </tr>\n",
       "    <tr>\n",
       "      <th>41229</th>\n",
       "      <td>818312</td>\n",
       "      <td>1103</td>\n",
       "      <td>0.125672</td>\n",
       "      <td>2.440000</td>\n",
       "      <td>0.957168</td>\n",
       "      <td>39.037341</td>\n",
       "      <td>163.876818</td>\n",
       "      <td>161.291325</td>\n",
       "      <td>127.079600</td>\n",
       "      <td>22.661706</td>\n",
       "      <td>13.759877</td>\n",
       "      <td>1</td>\n",
       "      <td>1</td>\n",
       "      <td>0</td>\n",
       "      <td>0</td>\n",
       "      <td>1</td>\n",
       "      <td>52</td>\n",
       "      <td>26</td>\n",
       "      <td>82.177240</td>\n",
       "      <td>0</td>\n",
       "    </tr>\n",
       "    <tr>\n",
       "      <th>41231</th>\n",
       "      <td>942273</td>\n",
       "      <td>878</td>\n",
       "      <td>0.012489</td>\n",
       "      <td>7.939977</td>\n",
       "      <td>0.946938</td>\n",
       "      <td>28.296942</td>\n",
       "      <td>129.378013</td>\n",
       "      <td>383.096802</td>\n",
       "      <td>31.694810</td>\n",
       "      <td>41.224334</td>\n",
       "      <td>2.274455</td>\n",
       "      <td>1</td>\n",
       "      <td>1</td>\n",
       "      <td>0</td>\n",
       "      <td>0</td>\n",
       "      <td>1</td>\n",
       "      <td>40</td>\n",
       "      <td>60</td>\n",
       "      <td>65.564415</td>\n",
       "      <td>0</td>\n",
       "    </tr>\n",
       "  </tbody>\n",
       "</table>\n",
       "<p>26807 rows × 20 columns</p>\n",
       "</div>\n",
       "    <div class=\"colab-df-buttons\">\n",
       "\n",
       "  <div class=\"colab-df-container\">\n",
       "    <button class=\"colab-df-convert\" onclick=\"convertToInteractive('df-90dee1ff-4d04-4f35-a514-83cd2b19977d')\"\n",
       "            title=\"Convert this dataframe to an interactive table.\"\n",
       "            style=\"display:none;\">\n",
       "\n",
       "  <svg xmlns=\"http://www.w3.org/2000/svg\" height=\"24px\" viewBox=\"0 -960 960 960\">\n",
       "    <path d=\"M120-120v-720h720v720H120Zm60-500h600v-160H180v160Zm220 220h160v-160H400v160Zm0 220h160v-160H400v160ZM180-400h160v-160H180v160Zm440 0h160v-160H620v160ZM180-180h160v-160H180v160Zm440 0h160v-160H620v160Z\"/>\n",
       "  </svg>\n",
       "    </button>\n",
       "\n",
       "  <style>\n",
       "    .colab-df-container {\n",
       "      display:flex;\n",
       "      gap: 12px;\n",
       "    }\n",
       "\n",
       "    .colab-df-convert {\n",
       "      background-color: #E8F0FE;\n",
       "      border: none;\n",
       "      border-radius: 50%;\n",
       "      cursor: pointer;\n",
       "      display: none;\n",
       "      fill: #1967D2;\n",
       "      height: 32px;\n",
       "      padding: 0 0 0 0;\n",
       "      width: 32px;\n",
       "    }\n",
       "\n",
       "    .colab-df-convert:hover {\n",
       "      background-color: #E2EBFA;\n",
       "      box-shadow: 0px 1px 2px rgba(60, 64, 67, 0.3), 0px 1px 3px 1px rgba(60, 64, 67, 0.15);\n",
       "      fill: #174EA6;\n",
       "    }\n",
       "\n",
       "    .colab-df-buttons div {\n",
       "      margin-bottom: 4px;\n",
       "    }\n",
       "\n",
       "    [theme=dark] .colab-df-convert {\n",
       "      background-color: #3B4455;\n",
       "      fill: #D2E3FC;\n",
       "    }\n",
       "\n",
       "    [theme=dark] .colab-df-convert:hover {\n",
       "      background-color: #434B5C;\n",
       "      box-shadow: 0px 1px 3px 1px rgba(0, 0, 0, 0.15);\n",
       "      filter: drop-shadow(0px 1px 2px rgba(0, 0, 0, 0.3));\n",
       "      fill: #FFFFFF;\n",
       "    }\n",
       "  </style>\n",
       "\n",
       "    <script>\n",
       "      const buttonEl =\n",
       "        document.querySelector('#df-90dee1ff-4d04-4f35-a514-83cd2b19977d button.colab-df-convert');\n",
       "      buttonEl.style.display =\n",
       "        google.colab.kernel.accessAllowed ? 'block' : 'none';\n",
       "\n",
       "      async function convertToInteractive(key) {\n",
       "        const element = document.querySelector('#df-90dee1ff-4d04-4f35-a514-83cd2b19977d');\n",
       "        const dataTable =\n",
       "          await google.colab.kernel.invokeFunction('convertToInteractive',\n",
       "                                                    [key], {});\n",
       "        if (!dataTable) return;\n",
       "\n",
       "        const docLinkHtml = 'Like what you see? Visit the ' +\n",
       "          '<a target=\"_blank\" href=https://colab.research.google.com/notebooks/data_table.ipynb>data table notebook</a>'\n",
       "          + ' to learn more about interactive tables.';\n",
       "        element.innerHTML = '';\n",
       "        dataTable['output_type'] = 'display_data';\n",
       "        await google.colab.output.renderOutput(dataTable, element);\n",
       "        const docLink = document.createElement('div');\n",
       "        docLink.innerHTML = docLinkHtml;\n",
       "        element.appendChild(docLink);\n",
       "      }\n",
       "    </script>\n",
       "  </div>\n",
       "\n",
       "\n",
       "<div id=\"df-121db69d-37d8-42e2-b9f6-36b4abb5c733\">\n",
       "  <button class=\"colab-df-quickchart\" onclick=\"quickchart('df-121db69d-37d8-42e2-b9f6-36b4abb5c733')\"\n",
       "            title=\"Suggest charts\"\n",
       "            style=\"display:none;\">\n",
       "\n",
       "<svg xmlns=\"http://www.w3.org/2000/svg\" height=\"24px\"viewBox=\"0 0 24 24\"\n",
       "     width=\"24px\">\n",
       "    <g>\n",
       "        <path d=\"M19 3H5c-1.1 0-2 .9-2 2v14c0 1.1.9 2 2 2h14c1.1 0 2-.9 2-2V5c0-1.1-.9-2-2-2zM9 17H7v-7h2v7zm4 0h-2V7h2v10zm4 0h-2v-4h2v4z\"/>\n",
       "    </g>\n",
       "</svg>\n",
       "  </button>\n",
       "\n",
       "<style>\n",
       "  .colab-df-quickchart {\n",
       "      --bg-color: #E8F0FE;\n",
       "      --fill-color: #1967D2;\n",
       "      --hover-bg-color: #E2EBFA;\n",
       "      --hover-fill-color: #174EA6;\n",
       "      --disabled-fill-color: #AAA;\n",
       "      --disabled-bg-color: #DDD;\n",
       "  }\n",
       "\n",
       "  [theme=dark] .colab-df-quickchart {\n",
       "      --bg-color: #3B4455;\n",
       "      --fill-color: #D2E3FC;\n",
       "      --hover-bg-color: #434B5C;\n",
       "      --hover-fill-color: #FFFFFF;\n",
       "      --disabled-bg-color: #3B4455;\n",
       "      --disabled-fill-color: #666;\n",
       "  }\n",
       "\n",
       "  .colab-df-quickchart {\n",
       "    background-color: var(--bg-color);\n",
       "    border: none;\n",
       "    border-radius: 50%;\n",
       "    cursor: pointer;\n",
       "    display: none;\n",
       "    fill: var(--fill-color);\n",
       "    height: 32px;\n",
       "    padding: 0;\n",
       "    width: 32px;\n",
       "  }\n",
       "\n",
       "  .colab-df-quickchart:hover {\n",
       "    background-color: var(--hover-bg-color);\n",
       "    box-shadow: 0 1px 2px rgba(60, 64, 67, 0.3), 0 1px 3px 1px rgba(60, 64, 67, 0.15);\n",
       "    fill: var(--button-hover-fill-color);\n",
       "  }\n",
       "\n",
       "  .colab-df-quickchart-complete:disabled,\n",
       "  .colab-df-quickchart-complete:disabled:hover {\n",
       "    background-color: var(--disabled-bg-color);\n",
       "    fill: var(--disabled-fill-color);\n",
       "    box-shadow: none;\n",
       "  }\n",
       "\n",
       "  .colab-df-spinner {\n",
       "    border: 2px solid var(--fill-color);\n",
       "    border-color: transparent;\n",
       "    border-bottom-color: var(--fill-color);\n",
       "    animation:\n",
       "      spin 1s steps(1) infinite;\n",
       "  }\n",
       "\n",
       "  @keyframes spin {\n",
       "    0% {\n",
       "      border-color: transparent;\n",
       "      border-bottom-color: var(--fill-color);\n",
       "      border-left-color: var(--fill-color);\n",
       "    }\n",
       "    20% {\n",
       "      border-color: transparent;\n",
       "      border-left-color: var(--fill-color);\n",
       "      border-top-color: var(--fill-color);\n",
       "    }\n",
       "    30% {\n",
       "      border-color: transparent;\n",
       "      border-left-color: var(--fill-color);\n",
       "      border-top-color: var(--fill-color);\n",
       "      border-right-color: var(--fill-color);\n",
       "    }\n",
       "    40% {\n",
       "      border-color: transparent;\n",
       "      border-right-color: var(--fill-color);\n",
       "      border-top-color: var(--fill-color);\n",
       "    }\n",
       "    60% {\n",
       "      border-color: transparent;\n",
       "      border-right-color: var(--fill-color);\n",
       "    }\n",
       "    80% {\n",
       "      border-color: transparent;\n",
       "      border-right-color: var(--fill-color);\n",
       "      border-bottom-color: var(--fill-color);\n",
       "    }\n",
       "    90% {\n",
       "      border-color: transparent;\n",
       "      border-bottom-color: var(--fill-color);\n",
       "    }\n",
       "  }\n",
       "</style>\n",
       "\n",
       "  <script>\n",
       "    async function quickchart(key) {\n",
       "      const quickchartButtonEl =\n",
       "        document.querySelector('#' + key + ' button');\n",
       "      quickchartButtonEl.disabled = true;  // To prevent multiple clicks.\n",
       "      quickchartButtonEl.classList.add('colab-df-spinner');\n",
       "      try {\n",
       "        const charts = await google.colab.kernel.invokeFunction(\n",
       "            'suggestCharts', [key], {});\n",
       "      } catch (error) {\n",
       "        console.error('Error during call to suggestCharts:', error);\n",
       "      }\n",
       "      quickchartButtonEl.classList.remove('colab-df-spinner');\n",
       "      quickchartButtonEl.classList.add('colab-df-quickchart-complete');\n",
       "    }\n",
       "    (() => {\n",
       "      let quickchartButtonEl =\n",
       "        document.querySelector('#df-121db69d-37d8-42e2-b9f6-36b4abb5c733 button');\n",
       "      quickchartButtonEl.style.display =\n",
       "        google.colab.kernel.accessAllowed ? 'block' : 'none';\n",
       "    })();\n",
       "  </script>\n",
       "</div>\n",
       "    </div>\n",
       "  </div>\n"
      ],
      "text/plain": [
       "       Unnamed: 0  person_id  procalcitonine  fibrinogen  creatinine  \\\n",
       "1            3822        158        0.000000    8.909846    1.030282   \n",
       "2          915492        342        0.000000    7.092240    1.027174   \n",
       "3          641908        108        0.134918   13.265546    0.707201   \n",
       "4           89879        108        0.000000   15.336425    1.094880   \n",
       "5          744110        980        0.324985    9.899282    1.265045   \n",
       "...           ...        ...             ...         ...         ...   \n",
       "41224      718264        706        0.112622   11.122910    0.954530   \n",
       "41225      556216       1103        0.199631    7.135134    1.099085   \n",
       "41227      144924       1013        0.335003    4.822600    0.905691   \n",
       "41229      818312       1103        0.125672    2.440000    0.957168   \n",
       "41231      942273        878        0.012489    7.939977    0.946938   \n",
       "\n",
       "             wbc          hb         plt         crp        esr      lymph  \\\n",
       "1       1.363834  143.647123  644.437365   58.343027  34.424705  23.300684   \n",
       "2      25.710224  130.864644  483.261016    0.800000  25.493102  27.004637   \n",
       "3       0.410000  141.945473  477.671705    7.526411  46.599795  17.167563   \n",
       "4      12.546527  120.607466  704.633325   27.180197  35.411333  15.268175   \n",
       "5       7.001120  125.988145  166.613698    0.800000  27.280940  12.404405   \n",
       "...          ...         ...         ...         ...        ...        ...   \n",
       "41224  13.101311  141.795781  374.247891   21.111733  19.814036  12.839993   \n",
       "41225  36.772744  137.856675  178.047896   48.956390  17.813114   0.010000   \n",
       "41227  19.587708  136.475023  261.638296  115.226867  41.099277  10.731909   \n",
       "41229  39.037341  163.876818  161.291325  127.079600  22.661706  13.759877   \n",
       "41231  28.296942  129.378013  383.096802   31.694810  41.224334   2.274455   \n",
       "\n",
       "       pneumonia  ihd  dm  ah  sex  len  age        GFR  ab_indication  \n",
       "1              1    0   0   0    1   17   56  60.894798              0  \n",
       "2              1    0   0   0    1   34   56  61.117621              0  \n",
       "3              1    0   0   0    1   26   56  95.972393              0  \n",
       "4              1    0   0   0    1   28   56  56.578279              0  \n",
       "5              1    1   0   0    1   33   48  50.257856              0  \n",
       "...          ...  ...  ..  ..  ...  ...  ...        ...            ...  \n",
       "41224          1    1   0   0    1   42   56  66.784947              0  \n",
       "41225          1    0   0   0    1   39   35  65.268376              0  \n",
       "41227          1    0   0   0    1   28   35  82.474743              0  \n",
       "41229          1    1   0   0    1   52   26  82.177240              0  \n",
       "41231          1    1   0   0    1   40   60  65.564415              0  \n",
       "\n",
       "[26807 rows x 20 columns]"
      ]
     },
     "execution_count": 28,
     "metadata": {},
     "output_type": "execute_result"
    }
   ],
   "source": [
    "df_no_ind"
   ]
  },
  {
   "cell_type": "code",
   "execution_count": 10,
   "id": "de522ccd",
   "metadata": {
    "colab": {
     "base_uri": "https://localhost:8080/"
    },
    "executionInfo": {
     "elapsed": 28,
     "status": "ok",
     "timestamp": 1711037306166,
     "user": {
      "displayName": "Михаил Демин",
      "userId": "14250540086915616791"
     },
     "user_tz": -600
    },
    "id": "de522ccd",
    "outputId": "b7f57cd8-28b6-461a-cc3a-70c92ecb83f5"
   },
   "outputs": [
    {
     "name": "stdout",
     "output_type": "stream",
     "text": [
      "Данные plt распределены ненормально,           p-value - 1.7142533019814427e-20\n",
      "Данные plt распределены ненормально,           p-value - 0.0\n",
      "Данные esr распределены ненормально,           p-value - 1.1145927985239595e-40\n",
      "Данные esr распределены ненормально,           p-value - 1.4016444175928051e-30\n",
      "Данные fibrinogen распределены ненормально,           p-value - 9.587672119282562e-20\n",
      "Данные fibrinogen распределены ненормально,           p-value - 4.379362085706425e-27\n",
      "Данные creatinine распределены ненормально,           p-value - 1.95159155019103e-23\n",
      "Данные creatinine распределены ненормально,           p-value - 3.3187122212667564e-13\n",
      "Данные wbc распределены ненормально,           p-value - 0.0\n",
      "Данные wbc распределены ненормально,           p-value - 9.937696198009841e-29\n",
      "Данные crp распределены ненормально,           p-value - 0.0\n",
      "Данные crp распределены ненормально,           p-value - 9.361197117922101e-34\n",
      "Данные lymph распределены ненормально,           p-value - 1.4651632359869695e-36\n",
      "Данные lymph распределены ненормально,           p-value - 1.6418576901373012e-38\n"
     ]
    }
   ],
   "source": [
    "import warnings\n",
    "warnings.filterwarnings('ignore')\n",
    "for i in columns:\n",
    "  lst1 = df_no_ind[i]\n",
    "  lst2 = df_ind[i]\n",
    "  shapiro_test = stats.shapiro(lst1) # тест шапиро-уилка\n",
    "  shapiro_test2 = stats.shapiro(lst2) # тест шапиро-уилка\n",
    "  if shapiro_test[1] < .05:\n",
    "    print('Данные {0} распределены ненормально,\\\n",
    "           p-value - {1}'.format(i,  shapiro_test[1]))\n",
    "  if shapiro_test2[1] < .05:\n",
    "    print('Данные {0} распределены ненормально,\\\n",
    "           p-value - {1}'.format(i,  shapiro_test2[1]))\n",
    "  else:\n",
    "    pass"
   ]
  },
  {
   "cell_type": "markdown",
   "id": "5fc63e3c",
   "metadata": {
    "id": "5fc63e3c"
   },
   "source": [
    "p-value ниже 0.05, т.о мы  отвергаем нулевую гипотезу о нормальности распределения и будем работать с данными используя непараметрические стат.методы"
   ]
  },
  {
   "cell_type": "code",
   "execution_count": 11,
   "id": "556b735d",
   "metadata": {
    "executionInfo": {
     "elapsed": 21,
     "status": "ok",
     "timestamp": 1711037306167,
     "user": {
      "displayName": "Михаил Демин",
      "userId": "14250540086915616791"
     },
     "user_tz": -600
    },
    "id": "556b735d"
   },
   "outputs": [],
   "source": [
    "def Basic_statistics(lst_1, lst_2):\n",
    "    \"\"\"\n",
    "    Функция \"Базовые статистики\"\n",
    "\n",
    "    На вход получает 2 списка данных для сравнения.\n",
    "    На выходе получаем p-values, при сравнении признаков.\n",
    "    В частности: показаны, не показаны антибиотики\n",
    "    \"\"\"\n",
    "    res_kw = kruskal(lst_1, lst_2)## краскела уолиса\n",
    "    anova = stats.f_oneway(lst_1, lst_2) #тест анова\n",
    "    return res_kw[1],  anova[1]"
   ]
  },
  {
   "cell_type": "code",
   "execution_count": 12,
   "id": "86466dab",
   "metadata": {
    "colab": {
     "base_uri": "https://localhost:8080/"
    },
    "executionInfo": {
     "elapsed": 583,
     "status": "ok",
     "timestamp": 1711037306730,
     "user": {
      "displayName": "Михаил Демин",
      "userId": "14250540086915616791"
     },
     "user_tz": -600
    },
    "id": "86466dab",
    "outputId": "c57d4a2d-4bd3-4cc7-ab48-b3daf0103bde"
   },
   "outputs": [
    {
     "name": "stdout",
     "output_type": "stream",
     "text": [
      "Данные plt статисически значимо различаются в подгруппах,           p-value - 0.0, тест Крускала-Уоллиса\n",
      "Данные plt статисически значимо различаются в подгруппах,           p-value - 0.0, тест Анова\n",
      "Данные esr статисически значимо различаются в подгруппах,           p-value - 2.7536251235414657e-121, тест Крускала-Уоллиса\n",
      "Данные esr статисически значимо различаются в подгруппах,           p-value - 2.1921373115857108e-126, тест Анова\n",
      "Данные fibrinogen статисически значимо различаются в подгруппах,           p-value - 0.0, тест Крускала-Уоллиса\n",
      "Данные fibrinogen статисически значимо различаются в подгруппах,           p-value - 0.0, тест Анова\n",
      "Данные creatinine статисически значимо различаются в подгруппах,           p-value - 0.003026493786471801, тест Крускала-Уоллиса\n",
      "Данные creatinine статисически значимо различаются в подгруппах,           p-value - 0.0003838304871477176, тест Анова\n",
      "Данные wbc статисически значимо различаются в подгруппах,           p-value - 9.49496142847372e-224, тест Крускала-Уоллиса\n",
      "Данные wbc статисически значимо различаются в подгруппах,           p-value - 1.0511236917346988e-243, тест Анова\n",
      "Данные crp статисически значимо различаются в подгруппах,           p-value - 0.0, тест Крускала-Уоллиса\n",
      "Данные crp статисически значимо различаются в подгруппах,           p-value - 0.0, тест Анова\n",
      "Данные lymph статисически значимо различаются в подгруппах,           p-value - 0.0, тест Крускала-Уоллиса\n",
      "Данные lymph статисически значимо различаются в подгруппах,           p-value - 0.0, тест Анова\n"
     ]
    }
   ],
   "source": [
    "for col in columns:\n",
    "  lst1 = df_no_ind[col]\n",
    "  lst2 = df_ind[col]\n",
    "  kw =  Basic_statistics(lst1, lst2)[0]\n",
    "  an =  Basic_statistics(lst1, lst2)[1]\n",
    "  if kw < .05:\n",
    "    print('Данные {0} статисически значимо различаются в подгруппах,\\\n",
    "           p-value - {1}, тест Крускала-Уоллиса'.format(col,  kw))\n",
    "  if an < .05:\n",
    "    print('Данные {0} статисически значимо различаются в подгруппах,\\\n",
    "           p-value - {1}, тест Анова'.format(col,  an))\n",
    "  else:\n",
    "    pass\n"
   ]
  },
  {
   "cell_type": "markdown",
   "id": "5e3bdaba",
   "metadata": {
    "id": "5e3bdaba"
   },
   "source": [
    "#### Выводы:\n",
    "\n",
    "\n",
    "- 1.   В подгруппах есть  статистически значимые различия\n",
    "- 2.   На данном этапе есть основание полагать, что есть некая закономерность в анализах у пациентов с показаниями к антибиотикотерапии"
   ]
  },
  {
   "cell_type": "code",
   "execution_count": 13,
   "id": "15b9b7e5",
   "metadata": {
    "executionInfo": {
     "elapsed": 17,
     "status": "ok",
     "timestamp": 1711037306731,
     "user": {
      "displayName": "Михаил Демин",
      "userId": "14250540086915616791"
     },
     "user_tz": -600
    },
    "id": "15b9b7e5"
   },
   "outputs": [],
   "source": [
    "from sklearn.model_selection import train_test_split"
   ]
  },
  {
   "cell_type": "code",
   "execution_count": 45,
   "id": "d9e189ce",
   "metadata": {
    "executionInfo": {
     "elapsed": 561,
     "status": "ok",
     "timestamp": 1711044950731,
     "user": {
      "displayName": "Михаил Демин",
      "userId": "14250540086915616791"
     },
     "user_tz": -600
    },
    "id": "d9e189ce"
   },
   "outputs": [],
   "source": [
    "# разделяем набор данных на тренировочную, тестовую и валидационную части и нормализуем данные\n",
    "X = df.drop(['Unnamed: 0', 'person_id', 'ab_indication'], axis=1)\n",
    "Y = df['ab_indication']\n",
    "X_train, X_test, Y_train, Y_test = train_test_split(X, Y,\n",
    "                                                    test_size = 0.30,\n",
    "                                                    stratify = Y,\n",
    "                                                    random_state = 42)\n",
    "X_train, X_val, Y_train, Y_val = train_test_split(X_train, Y_train,\n",
    "                                                  test_size = 0.30,\n",
    "                                                  stratify = Y_train,\n",
    "                                                  random_state = 42)"
   ]
  },
  {
   "cell_type": "code",
   "execution_count": 46,
   "id": "cDDmVR4J2tDK",
   "metadata": {
    "colab": {
     "base_uri": "https://localhost:8080/"
    },
    "executionInfo": {
     "elapsed": 612,
     "status": "ok",
     "timestamp": 1711044954179,
     "user": {
      "displayName": "Михаил Демин",
      "userId": "14250540086915616791"
     },
     "user_tz": -600
    },
    "id": "cDDmVR4J2tDK",
    "outputId": "4a05a731-59f7-489a-a4b5-009c141e48ad"
   },
   "outputs": [
    {
     "name": "stdout",
     "output_type": "stream",
     "text": [
      "(17483, 17)\n",
      "(17483,)\n",
      "(10704, 17)\n",
      "(10704,)\n",
      "(7493, 17)\n",
      "(7493,)\n"
     ]
    }
   ],
   "source": [
    "print(X_train.shape)\n",
    "print(Y_train.shape)\n",
    "print(X_test.shape)\n",
    "print(Y_test.shape)\n",
    "print(X_val.shape)\n",
    "print(Y_val.shape)"
   ]
  },
  {
   "cell_type": "markdown",
   "id": "a6d65959",
   "metadata": {
    "id": "a6d65959"
   },
   "source": [
    "**Этап построения модели машинного обучения**\n",
    "\n",
    "---\n",
    "Стандартные шаги перед обучением (стандартизация/нормализаця), решение необходомости ресамплинга из-за дисбаланса данных, выбор параметров модели и бизнесс логика - ***ваше домашнее задание***\n"
   ]
  },
  {
   "cell_type": "markdown",
   "id": "oiws38qdPjYt",
   "metadata": {
    "id": "oiws38qdPjYt"
   },
   "source": [
    "Наиболее очевидной бизнес-логикой из представленных данных является Оптимизация распределения препарата:\n",
    "        анализ предсказанных вероятностей использования препарата позволит определить регионы или клиники, где спрос на препарат может быть выше. Это позволит оптимизировать распределение препарата среди лечебных учреждений на основе результатов анализов."
   ]
  },
  {
   "cell_type": "markdown",
   "id": "9tQxnu_IPi4_",
   "metadata": {
    "id": "9tQxnu_IPi4_"
   },
   "source": [
    "Используем простую модель логистической регрессии и посмотрим, как она справится с задачей классификации назначения антибиотиков. Будем использовать библиотеку scikit-learn для построения модели и оценки ее производительности.\n"
   ]
  },
  {
   "cell_type": "code",
   "execution_count": 35,
   "id": "2Tx6gFsbPkD1",
   "metadata": {
    "executionInfo": {
     "elapsed": 447,
     "status": "ok",
     "timestamp": 1711044589074,
     "user": {
      "displayName": "Михаил Демин",
      "userId": "14250540086915616791"
     },
     "user_tz": -600
    },
    "id": "2Tx6gFsbPkD1"
   },
   "outputs": [],
   "source": [
    "import pandas as pd\n",
    "from sklearn.model_selection import train_test_split\n",
    "from sklearn.preprocessing import StandardScaler\n",
    "from sklearn.linear_model import LogisticRegression\n",
    "from sklearn.metrics import accuracy_score, classification_report, confusion_matrix\n",
    "from sklearn.metrics import roc_auc_score"
   ]
  },
  {
   "cell_type": "markdown",
   "id": "pcn7tsE2O5o2",
   "metadata": {
    "id": "pcn7tsE2O5o2"
   },
   "source": [
    "Так как данные не сбалансированы, обязательно вводим веса классов `class_weight='balanced'`."
   ]
  },
  {
   "cell_type": "code",
   "execution_count": 47,
   "id": "miTNeMbyxoe-",
   "metadata": {
    "colab": {
     "base_uri": "https://localhost:8080/"
    },
    "executionInfo": {
     "elapsed": 2509,
     "status": "ok",
     "timestamp": 1711044960317,
     "user": {
      "displayName": "Михаил Демин",
      "userId": "14250540086915616791"
     },
     "user_tz": -600
    },
    "id": "miTNeMbyxoe-",
    "outputId": "f9fc9e00-8272-4395-a15e-6d03432aa60a"
   },
   "outputs": [
    {
     "name": "stdout",
     "output_type": "stream",
     "text": [
      "Validation Accuracy: 0.9817162685172828\n",
      "              precision    recall  f1-score   support\n",
      "\n",
      "           0       1.00      0.98      0.99      5630\n",
      "           1       0.93      1.00      0.96      1863\n",
      "\n",
      "    accuracy                           0.98      7493\n",
      "   macro avg       0.97      0.99      0.98      7493\n",
      "weighted avg       0.98      0.98      0.98      7493\n",
      "\n"
     ]
    }
   ],
   "source": [
    "# Создание и обучение модели логистической регрессии\n",
    "model = LogisticRegression(class_weight='balanced', max_iter=1000)\n",
    "model.fit(X_train, Y_train)\n",
    "\n",
    "# Оценка модели на валидационном наборе данных\n",
    "Y_val_pred = model.predict(X_val)\n",
    "print(\"Validation Accuracy:\", accuracy_score(Y_val, Y_val_pred))\n",
    "print(classification_report(Y_val, Y_val_pred))"
   ]
  },
  {
   "cell_type": "code",
   "execution_count": 48,
   "id": "aGg2YypOxocb",
   "metadata": {
    "colab": {
     "base_uri": "https://localhost:8080/"
    },
    "executionInfo": {
     "elapsed": 426,
     "status": "ok",
     "timestamp": 1711044966609,
     "user": {
      "displayName": "Михаил Демин",
      "userId": "14250540086915616791"
     },
     "user_tz": -600
    },
    "id": "aGg2YypOxocb",
    "outputId": "d19df90c-4188-4711-bf71-a9f1ee4835fa"
   },
   "outputs": [
    {
     "name": "stdout",
     "output_type": "stream",
     "text": [
      "Test Accuracy: 0.9785127055306427\n",
      "              precision    recall  f1-score   support\n",
      "\n",
      "           0       1.00      0.97      0.99      8042\n",
      "           1       0.92      1.00      0.96      2662\n",
      "\n",
      "    accuracy                           0.98     10704\n",
      "   macro avg       0.96      0.99      0.97     10704\n",
      "weighted avg       0.98      0.98      0.98     10704\n",
      "\n"
     ]
    }
   ],
   "source": [
    "# Финальная оценка модели на тестовом наборе данных\n",
    "Y_test_pred = model.predict(X_test)\n",
    "print(\"Test Accuracy:\", accuracy_score(Y_test, Y_test_pred))\n",
    "print(classification_report(Y_test, Y_test_pred))"
   ]
  },
  {
   "cell_type": "code",
   "execution_count": 49,
   "id": "UfEvKJjxLtS9",
   "metadata": {
    "colab": {
     "base_uri": "https://localhost:8080/"
    },
    "executionInfo": {
     "elapsed": 431,
     "status": "ok",
     "timestamp": 1711045206805,
     "user": {
      "displayName": "Михаил Демин",
      "userId": "14250540086915616791"
     },
     "user_tz": -600
    },
    "id": "UfEvKJjxLtS9",
    "outputId": "976fea3e-d3a1-464e-cfa5-658161736bee"
   },
   "outputs": [
    {
     "name": "stdout",
     "output_type": "stream",
     "text": [
      "ROC-AUC на валидационной выборке: 0.9997992122943856\n"
     ]
    }
   ],
   "source": [
    "# Предсказание вероятностей классов для валидационной выборки\n",
    "Y_val_pred_proba = model.predict_proba(X_val)[:, 1]\n",
    "\n",
    "# Вычисление ROC-AUC для валидационной выборки\n",
    "roc_auc = roc_auc_score(Y_val, Y_val_pred_proba)\n",
    "print(\"ROC-AUC на валидационной выборке:\", roc_auc)"
   ]
  },
  {
   "cell_type": "code",
   "execution_count": 50,
   "id": "CUqTHp4DLtP9",
   "metadata": {
    "colab": {
     "base_uri": "https://localhost:8080/"
    },
    "executionInfo": {
     "elapsed": 449,
     "status": "ok",
     "timestamp": 1711045264230,
     "user": {
      "displayName": "Михаил Демин",
      "userId": "14250540086915616791"
     },
     "user_tz": -600
    },
    "id": "CUqTHp4DLtP9",
    "outputId": "7d38147b-c2bb-4bbe-c14f-c884c4ebd6ab"
   },
   "outputs": [
    {
     "name": "stdout",
     "output_type": "stream",
     "text": [
      "ROC-AUC на тестовой выборке: 0.9997861060387138\n"
     ]
    }
   ],
   "source": [
    "# Предсказание вероятностей классов для валидационной выборки\n",
    "Y_test_pred_proba = model.predict_proba(X_test)[:, 1]\n",
    "\n",
    "# Вычисление ROC-AUC для валидационной выборки\n",
    "roc_auc = roc_auc_score(Y_test, Y_test_pred_proba)\n",
    "print(\"ROC-AUC на тестовой выборке:\", roc_auc)"
   ]
  },
  {
   "cell_type": "markdown",
   "id": "9e17f907",
   "metadata": {
    "id": "9e17f907"
   },
   "source": [
    "__*Комментарии преподавателя:*__<br>\n",
    "*Александр Алексеюк・Преподаватель<br>*\n",
    "\n",
    ">Здравсвтуйте.\n",
    ">\n",
    ">1) вы не \"продали\" мне своё решение. Если бы я был вашим менеджером, я бы сказал: а какой смысл выделять ресурс на разработу вашего решения, если я не вижу никакой бизнес/общественной пользы?  \n",
    "2) Вы \"потрогали\" метрики. Но не объяснили какие поставили себе ограничения и к чему стремились  \n",
    "3) Вы допуслити серьёзную ошибку, непозволительную для продакшна: вы не исключили из анализа прокальцитонин, который являлся маркером показания к АБ терапии, тем самым, ваша модель просто предсказывает то, что мы и так \"руками\" назначили: если прокальцитонин 0.45 и выше - 1, иначе - 0  \n",
    "Понятное дело, что это \"игрушечное\" задание и у вас, возможно, совсем нет времени на то, чтобы решать то, что не будет использоваться, но, тут уже вопрос привычки: нельзя привыкать делать явную лажу.\n",
    "\n",
    ">Я, надеюсь, что вы не обидетесь на мой довольно жёсткий ответ, но тут я оцениваю не вас как специалиста, а только то, что вы сделали.\n",
    "<br>\n"
   ]
  },
  {
   "cell_type": "code",
   "execution_count": null,
   "id": "SFN5m1vPxoWQ",
   "metadata": {
    "id": "SFN5m1vPxoWQ"
   },
   "outputs": [],
   "source": []
  },
  {
   "cell_type": "code",
   "execution_count": null,
   "id": "Wt2LnparRgLC",
   "metadata": {
    "id": "Wt2LnparRgLC"
   },
   "outputs": [],
   "source": []
  },
  {
   "cell_type": "code",
   "execution_count": null,
   "id": "d17G2U5bxoQt",
   "metadata": {
    "id": "d17G2U5bxoQt"
   },
   "outputs": [],
   "source": []
  },
  {
   "cell_type": "code",
   "execution_count": null,
   "id": "1xh-Y4HMxoNt",
   "metadata": {
    "id": "1xh-Y4HMxoNt"
   },
   "outputs": [],
   "source": []
  },
  {
   "cell_type": "code",
   "execution_count": null,
   "id": "d67dd59d",
   "metadata": {
    "id": "d67dd59d"
   },
   "outputs": [],
   "source": [
    "# скачать, если не установлено\n",
    "!pip install https://s3-us-west-2.amazonaws.com/ai2-s2-scispacy/releases/v0.5.1/en_core_sci_lg-0.5.1.tar.gz"
   ]
  },
  {
   "cell_type": "code",
   "execution_count": 17,
   "id": "49d11a38",
   "metadata": {
    "executionInfo": {
     "elapsed": 14954,
     "status": "ok",
     "timestamp": 1711019746967,
     "user": {
      "displayName": "Михаил Демин",
      "userId": "14250540086915616791"
     },
     "user_tz": -600
    },
    "id": "49d11a38"
   },
   "outputs": [],
   "source": [
    "import re\n",
    "import time\n",
    "import spacy\n",
    "import gensim\n",
    "from sklearn.metrics.pairwise import cosine_similarity"
   ]
  },
  {
   "cell_type": "code",
   "execution_count": null,
   "id": "bad81547",
   "metadata": {
    "id": "bad81547"
   },
   "outputs": [],
   "source": [
    "# прочитаем наши датасеты, где таргет_вокаб - это то, к чему мы хотим превести, а ту_мап - что мы хотим перевести\n",
    "adverse_effects = pd.read_csv('/content/drive/MyDrive/Colab Notebooks/GB/22_4/data/to_find', sep = '|')\n",
    "CUIs = pd.read_csv('/content/drive/MyDrive/Colab Notebooks/GB/22_4/data/концепты.tsv', sep = '\\t')\n",
    "adverse_effects.head()"
   ]
  },
  {
   "cell_type": "code",
   "execution_count": null,
   "id": "570c37da",
   "metadata": {
    "id": "570c37da"
   },
   "outputs": [],
   "source": [
    "CUIs.head()"
   ]
  },
  {
   "cell_type": "code",
   "execution_count": 20,
   "id": "48c456b5",
   "metadata": {
    "executionInfo": {
     "elapsed": 27601,
     "status": "ok",
     "timestamp": 1711019775750,
     "user": {
      "displayName": "Михаил Демин",
      "userId": "14250540086915616791"
     },
     "user_tz": -600
    },
    "id": "48c456b5"
   },
   "outputs": [],
   "source": [
    "# Загрузка модели для английского языка\n",
    "nlp = spacy.load(\"en_core_sci_lg\")"
   ]
  },
  {
   "cell_type": "code",
   "execution_count": 21,
   "id": "20606351",
   "metadata": {
    "executionInfo": {
     "elapsed": 27,
     "status": "ok",
     "timestamp": 1711019775752,
     "user": {
      "displayName": "Михаил Демин",
      "userId": "14250540086915616791"
     },
     "user_tz": -600
    },
    "id": "20606351"
   },
   "outputs": [],
   "source": [
    "stop_words = ['noc', 'nos', '[d]', 'unknown_unit', '|', 'see comment', 'due', 'nec', 'unspecified', '[v]', '(see comments)']\n",
    "# убрать ненужные слова (если, конечно, они вообще есть)\n",
    "adverse_effects['adv_name_processed'] = adverse_effects['Text'].apply(lambda x: re.sub(r\"\\s+\", \" \", str(x).encode('ascii', 'ignore').decode()) if isinstance(x, str) else str(x))\n",
    "CUIs['concept_name_processed'] = CUIs['CONCEPT'].apply(lambda x: re.sub(r\"\\s+\", \" \", str(x.encode('ascii', 'ignore').decode())))"
   ]
  },
  {
   "cell_type": "code",
   "execution_count": 22,
   "id": "35c5fac0",
   "metadata": {
    "executionInfo": {
     "elapsed": 22,
     "status": "ok",
     "timestamp": 1711019775753,
     "user": {
      "displayName": "Михаил Демин",
      "userId": "14250540086915616791"
     },
     "user_tz": -600
    },
    "id": "35c5fac0"
   },
   "outputs": [],
   "source": [
    "# убрать пунктуацию, символы\n",
    "adverse_effects['adv_name_processed'] = adverse_effects['adv_name_processed'].map(lambda x: re.sub('[,\\.!;?)%(\\'\\\":\\-]', '', x))\n",
    "CUIs['concept_name_processed'] = CUIs['concept_name_processed'].map(lambda x: re.sub('[,\\.!;?)%(\\'\\\":\\-]', '', x))"
   ]
  },
  {
   "cell_type": "code",
   "execution_count": 23,
   "id": "f13d864f",
   "metadata": {
    "executionInfo": {
     "elapsed": 23,
     "status": "ok",
     "timestamp": 1711019775755,
     "user": {
      "displayName": "Михаил Демин",
      "userId": "14250540086915616791"
     },
     "user_tz": -600
    },
    "id": "f13d864f"
   },
   "outputs": [],
   "source": [
    "# из верхнего регистра переведём всё в нижний\n",
    "adverse_effects['adv_name_processed'] = adverse_effects['adv_name_processed'].map(lambda x: x.lower())\n",
    "CUIs['concept_name_processed'] = CUIs['concept_name_processed'].map(lambda x: x.lower())"
   ]
  },
  {
   "cell_type": "code",
   "execution_count": 24,
   "id": "12e6df57",
   "metadata": {
    "executionInfo": {
     "elapsed": 21,
     "status": "ok",
     "timestamp": 1711019775755,
     "user": {
      "displayName": "Михаил Демин",
      "userId": "14250540086915616791"
     },
     "user_tz": -600
    },
    "id": "12e6df57"
   },
   "outputs": [],
   "source": [
    "# уберём стоп слова\n",
    "adverse_effects['adv_name_processed'] = adverse_effects['adv_name_processed'].apply(lambda x: ' '.join([word for word in x.split() if word not in (stop_words)]))\n",
    "CUIs['concept_name_processed'] = CUIs['concept_name_processed'].apply(lambda x: ' '.join([word for word in x.split() if word not in (stop_words)]))"
   ]
  },
  {
   "cell_type": "code",
   "execution_count": 25,
   "id": "b57c81b5",
   "metadata": {
    "executionInfo": {
     "elapsed": 18,
     "status": "ok",
     "timestamp": 1711019775756,
     "user": {
      "displayName": "Михаил Демин",
      "userId": "14250540086915616791"
     },
     "user_tz": -600
    },
    "id": "b57c81b5"
   },
   "outputs": [],
   "source": [
    "def tokenize(text):\n",
    "    doc = nlp(text)\n",
    "    tokens = [token.text for token in doc if not token.is_punct and not token.is_space]\n",
    "    return tokens"
   ]
  },
  {
   "cell_type": "code",
   "execution_count": 26,
   "id": "f0cb9be8",
   "metadata": {
    "colab": {
     "base_uri": "https://localhost:8080/"
    },
    "executionInfo": {
     "elapsed": 12229,
     "status": "ok",
     "timestamp": 1711019787971,
     "user": {
      "displayName": "Михаил Демин",
      "userId": "14250540086915616791"
     },
     "user_tz": -600
    },
    "id": "f0cb9be8",
    "outputId": "a78af9c0-fb4b-4c57-bf3a-e7fc3e3edb54"
   },
   "outputs": [
    {
     "name": "stdout",
     "output_type": "stream",
     "text": [
      "Затраченное время: 0.2 секунд(ы)\n"
     ]
    }
   ],
   "source": [
    "start_time = time.time()\n",
    "\n",
    "adverse_effects['adv_name_processed'] = adverse_effects['adv_name_processed'].apply(tokenize)\n",
    "CUIs['concept_name_processed'] = CUIs['concept_name_processed'].apply(tokenize)\n",
    "\n",
    "elapsed_time = (time.time() - start_time)/60\n",
    "print(f\"Затраченное время: {elapsed_time:.1f} секунд(ы)\")"
   ]
  },
  {
   "cell_type": "code",
   "execution_count": 27,
   "id": "7793e311",
   "metadata": {
    "executionInfo": {
     "elapsed": 17,
     "status": "ok",
     "timestamp": 1711019787972,
     "user": {
      "displayName": "Михаил Демин",
      "userId": "14250540086915616791"
     },
     "user_tz": -600
    },
    "id": "7793e311"
   },
   "outputs": [],
   "source": [
    "def lemmatize(text):\n",
    "    doc = nlp(text)\n",
    "    lemmatized_tokens = [token.lemma_ for token in doc]\n",
    "    return lemmatized_tokens"
   ]
  },
  {
   "cell_type": "code",
   "execution_count": 28,
   "id": "d3e80104",
   "metadata": {
    "colab": {
     "base_uri": "https://localhost:8080/"
    },
    "executionInfo": {
     "elapsed": 14037,
     "status": "ok",
     "timestamp": 1711019801996,
     "user": {
      "displayName": "Михаил Демин",
      "userId": "14250540086915616791"
     },
     "user_tz": -600
    },
    "id": "d3e80104",
    "outputId": "c4380a2d-8dd2-46dc-ae87-a07c381a7a6c"
   },
   "outputs": [
    {
     "name": "stdout",
     "output_type": "stream",
     "text": [
      "Затраченное время: 0.2 секунд(ы)\n"
     ]
    }
   ],
   "source": [
    "start_time = time.time()\n",
    "# Применение функции к вашему столбцу\n",
    "adverse_effects['adv_name_processed'] = adverse_effects['adv_name_processed'].apply(lambda x: lemmatize(' '.join(x)))\n",
    "CUIs['concept_name_processed'] = CUIs['concept_name_processed'].apply(lambda x: lemmatize(' '.join(x)))\n",
    "elapsed_time = (time.time() - start_time)/60\n",
    "print(f\"Затраченное время: {elapsed_time:.1f} секунд(ы)\")"
   ]
  },
  {
   "cell_type": "code",
   "execution_count": null,
   "id": "201aa4d3",
   "metadata": {
    "id": "201aa4d3"
   },
   "outputs": [],
   "source": [
    "adverse_effects.head(10)"
   ]
  },
  {
   "cell_type": "code",
   "execution_count": null,
   "id": "6cdcf80c",
   "metadata": {
    "id": "6cdcf80c"
   },
   "outputs": [],
   "source": [
    "CUIs.head(10)"
   ]
  },
  {
   "cell_type": "code",
   "execution_count": 31,
   "id": "c7d2de24",
   "metadata": {
    "executionInfo": {
     "elapsed": 22,
     "status": "ok",
     "timestamp": 1711019802000,
     "user": {
      "displayName": "Михаил Демин",
      "userId": "14250540086915616791"
     },
     "user_tz": -600
    },
    "id": "c7d2de24"
   },
   "outputs": [],
   "source": [
    "adverse_effects['adv_name_processed'] = adverse_effects['adv_name_processed'].apply(lambda x: sorted(x))\n",
    "CUIs['concept_name_processed'] = CUIs['concept_name_processed'].apply(lambda x: sorted(x))"
   ]
  },
  {
   "cell_type": "code",
   "execution_count": null,
   "id": "9N3ZYFR5t-_T",
   "metadata": {
    "id": "9N3ZYFR5t-_T"
   },
   "outputs": [],
   "source": [
    "!wget http://nlp.stanford.edu/data/glove.6B.zip\n",
    "!unzip glove*.zip"
   ]
  },
  {
   "cell_type": "code",
   "execution_count": null,
   "id": "H8J5g-q1UpUi",
   "metadata": {
    "id": "H8J5g-q1UpUi"
   },
   "outputs": [],
   "source": [
    "!wget https://ftp.ncbi.nlm.nih.gov/pub/lu/Suppl/BioSentVec/BioWordVec_PubMed_MIMICIII_d200.vec.bin"
   ]
  },
  {
   "cell_type": "code",
   "execution_count": 38,
   "id": "wvI7egc43ItJ",
   "metadata": {
    "executionInfo": {
     "elapsed": 344305,
     "status": "ok",
     "timestamp": 1711022618034,
     "user": {
      "displayName": "Михаил Демин",
      "userId": "14250540086915616791"
     },
     "user_tz": -600
    },
    "id": "wvI7egc43ItJ"
   },
   "outputs": [],
   "source": [
    "from gensim.test.utils import datapath, get_tmpfile\n",
    "from gensim.models import KeyedVectors\n",
    "from gensim.scripts.glove2word2vec import glove2word2vec\n",
    "\n",
    "# Replace 'path_to_glove_file/glove.6B.300d.txt' with your GloVe file path\n",
    "glove_file = 'glove.6B.300d.txt'\n",
    "\n",
    "# Convert GloVe format to Word2Vec format\n",
    "word2vec_temp_file = get_tmpfile(\"glove_word2vec.txt\")\n",
    "glove2word2vec(glove_file, word2vec_temp_file)\n",
    "\n",
    "# Load GloVe embeddings using Gensim\n",
    "glove_model = KeyedVectors.load_word2vec_format(word2vec_temp_file)"
   ]
  },
  {
   "cell_type": "code",
   "execution_count": null,
   "id": "d6274c61",
   "metadata": {
    "id": "d6274c61"
   },
   "outputs": [],
   "source": [
    "# Загрузите предварительно обученную модель встраивания слов\n",
    "# model_path = 'BioWordVec_PubMed_MIMICIII_d200.vec.bin' # скачать здесь https://github.com/ncbi-nlp/BioSentVec\n",
    "# word2vec_model = gensim.models.KeyedVectors.load_word2vec_format(model_path, binary=True)"
   ]
  },
  {
   "cell_type": "code",
   "execution_count": 36,
   "id": "02aa6296",
   "metadata": {
    "executionInfo": {
     "elapsed": 554,
     "status": "ok",
     "timestamp": 1711022176757,
     "user": {
      "displayName": "Михаил Демин",
      "userId": "14250540086915616791"
     },
     "user_tz": -600
    },
    "id": "02aa6296"
   },
   "outputs": [],
   "source": [
    "# Функция для векторизации текста с использованием BioWordVec\n",
    "def vectorize_text_with_gensim_embeddings(text, model):\n",
    "    tokens = text.split()\n",
    "    vectors = [model[token] for token in tokens if token in model]\n",
    "    if vectors:\n",
    "        return np.mean(vectors, axis=0)  # Усреднение векторов\n",
    "    else:\n",
    "        return np.zeros(model.vector_size)  # Возвращает нулевой вектор, если нет известных слов"
   ]
  },
  {
   "cell_type": "code",
   "execution_count": 39,
   "id": "5d548ae2",
   "metadata": {
    "colab": {
     "base_uri": "https://localhost:8080/"
    },
    "executionInfo": {
     "elapsed": 543,
     "status": "ok",
     "timestamp": 1711022628141,
     "user": {
      "displayName": "Михаил Демин",
      "userId": "14250540086915616791"
     },
     "user_tz": -600
    },
    "id": "5d548ae2",
    "outputId": "b3413323-9805-4e1a-cdea-21d5ed724876"
   },
   "outputs": [
    {
     "name": "stdout",
     "output_type": "stream",
     "text": [
      "Затраченное время: 0.0 секунд(ы)\n"
     ]
    }
   ],
   "source": [
    "start_time = time.time()\n",
    "# Применение функции к медицинским терминам в обоих наборах данных\n",
    "adverse_effects['adv_eff_vector'] = adverse_effects['adv_name_processed'].apply(lambda x: vectorize_text_with_gensim_embeddings(' '.join(x), glove_model))\n",
    "CUIs['CUI_vector'] = CUIs['concept_name_processed'].apply(lambda x: vectorize_text_with_gensim_embeddings(' '.join(x), glove_model))\n",
    "# Удаление строк с отсутствующими векторами\n",
    "adverse_effects = adverse_effects.dropna(subset=['adv_eff_vector'])\n",
    "CUIs = CUIs.dropna(subset=['CUI_vector'])\n",
    "elapsed_time = (time.time() - start_time)/60\n",
    "print(f\"Затраченное время: {elapsed_time:.1f} секунд(ы)\")"
   ]
  },
  {
   "cell_type": "code",
   "execution_count": 40,
   "id": "97edd0d4",
   "metadata": {
    "colab": {
     "base_uri": "https://localhost:8080/"
    },
    "executionInfo": {
     "elapsed": 5,
     "status": "ok",
     "timestamp": 1711022632430,
     "user": {
      "displayName": "Михаил Демин",
      "userId": "14250540086915616791"
     },
     "user_tz": -600
    },
    "id": "97edd0d4",
    "outputId": "7709abc1-1f92-4163-9dda-ab491982e3c1"
   },
   "outputs": [
    {
     "name": "stdout",
     "output_type": "stream",
     "text": [
      "Затраченное время: 0.0 секунд(ы)\n"
     ]
    }
   ],
   "source": [
    "start_time = time.time()\n",
    "num_top_matches = 2\n",
    "v1 = np.vstack(adverse_effects['adv_eff_vector'])\n",
    "v2 = np.vstack(CUIs['CUI_vector'])\n",
    "elapsed_time = (time.time() - start_time) / 60\n",
    "print(f\"Затраченное время: {elapsed_time:.1f} секунд(ы)\")"
   ]
  },
  {
   "cell_type": "code",
   "execution_count": 41,
   "id": "e01ab2e9",
   "metadata": {
    "colab": {
     "base_uri": "https://localhost:8080/"
    },
    "executionInfo": {
     "elapsed": 600,
     "status": "ok",
     "timestamp": 1711022637133,
     "user": {
      "displayName": "Михаил Демин",
      "userId": "14250540086915616791"
     },
     "user_tz": -600
    },
    "id": "e01ab2e9",
    "outputId": "c1ae59a8-f54c-4255-cf15-5c9364ddb80d"
   },
   "outputs": [
    {
     "name": "stdout",
     "output_type": "stream",
     "text": [
      "Затраченное время: 0.1 секунд(ы)\n"
     ]
    }
   ],
   "source": [
    "similarity = cosine_similarity(v1, v2)\n",
    "tops = (-similarity).argsort()[:, :num_top_matches]\n",
    "\n",
    "joined_table = pd.concat(\n",
    "    [pd.concat(\n",
    "        [adverse_effects.loc[[i], ['Text', 'id']].reset_index(drop=True),\n",
    "         CUIs.loc[[t], ['CUI', 'CONCEPT']].reset_index(drop=True),\n",
    "         pd.Series(similarity[i][t], name='Similarity')], axis= 1\n",
    "    )\n",
    "     for i in range(0, len(adverse_effects)) for t in tops[i]]\n",
    ").reset_index(drop=True)\n",
    "\n",
    "elapsed_time = (time.time() - start_time) / 60\n",
    "print(f\"Затраченное время: {elapsed_time:.1f} секунд(ы)\")"
   ]
  },
  {
   "cell_type": "code",
   "execution_count": null,
   "id": "2a22a2ac",
   "metadata": {
    "id": "2a22a2ac"
   },
   "outputs": [],
   "source": [
    "joined_table.head(30)"
   ]
  },
  {
   "cell_type": "code",
   "execution_count": null,
   "id": "ad20116c",
   "metadata": {
    "id": "ad20116c"
   },
   "outputs": [],
   "source": []
  },
  {
   "cell_type": "code",
   "execution_count": null,
   "id": "12ca3281",
   "metadata": {
    "id": "12ca3281"
   },
   "outputs": [],
   "source": []
  },
  {
   "cell_type": "code",
   "execution_count": null,
   "id": "a1339b7f",
   "metadata": {
    "id": "a1339b7f"
   },
   "outputs": [],
   "source": []
  },
  {
   "cell_type": "code",
   "execution_count": null,
   "id": "78a19f28",
   "metadata": {
    "id": "78a19f28"
   },
   "outputs": [],
   "source": []
  },
  {
   "cell_type": "code",
   "execution_count": null,
   "id": "5df96760",
   "metadata": {
    "id": "5df96760"
   },
   "outputs": [],
   "source": []
  },
  {
   "cell_type": "code",
   "execution_count": null,
   "id": "2a905e32",
   "metadata": {
    "id": "2a905e32"
   },
   "outputs": [],
   "source": []
  }
 ],
 "metadata": {
  "colab": {
   "provenance": []
  },
  "kernelspec": {
   "display_name": "Python 3 (ipykernel)",
   "language": "python",
   "name": "python3"
  },
  "language_info": {
   "codemirror_mode": {
    "name": "ipython",
    "version": 3
   },
   "file_extension": ".py",
   "mimetype": "text/x-python",
   "name": "python",
   "nbconvert_exporter": "python",
   "pygments_lexer": "ipython3",
   "version": "3.9.7"
  },
  "latex_envs": {
   "LaTeX_envs_menu_present": true,
   "autoclose": true,
   "autocomplete": true,
   "bibliofile": "biblio.bib",
   "cite_by": "apalike",
   "current_citInitial": 1,
   "eqLabelWithNumbers": true,
   "eqNumInitial": 1,
   "hotkeys": {
    "equation": "Ctrl-E",
    "itemize": "Ctrl-I"
   },
   "labels_anchors": false,
   "latex_user_defs": false,
   "report_style_numbering": true,
   "user_envs_cfg": false
  },
  "nbTranslate": {
   "displayLangs": [
    "*"
   ],
   "hotkey": "alt-t",
   "langInMainMenu": true,
   "sourceLang": "en",
   "targetLang": "fr",
   "useGoogleTranslate": true
  },
  "toc": {
   "base_numbering": 1,
   "nav_menu": {},
   "number_sections": false,
   "sideBar": true,
   "skip_h1_title": false,
   "title_cell": "Table of Contents",
   "title_sidebar": "Contents",
   "toc_cell": false,
   "toc_position": {},
   "toc_section_display": true,
   "toc_window_display": false
  },
  "varInspector": {
   "cols": {
    "lenName": 16,
    "lenType": 16,
    "lenVar": 40
   },
   "kernels_config": {
    "python": {
     "delete_cmd_postfix": "",
     "delete_cmd_prefix": "del ",
     "library": "var_list.py",
     "varRefreshCmd": "print(var_dic_list())"
    },
    "r": {
     "delete_cmd_postfix": ") ",
     "delete_cmd_prefix": "rm(",
     "library": "var_list.r",
     "varRefreshCmd": "cat(var_dic_list()) "
    }
   },
   "types_to_exclude": [
    "module",
    "function",
    "builtin_function_or_method",
    "instance",
    "_Feature"
   ],
   "window_display": false
  }
 },
 "nbformat": 4,
 "nbformat_minor": 5
}
