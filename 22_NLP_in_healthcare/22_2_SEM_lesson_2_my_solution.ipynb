{
 "cells": [
  {
   "cell_type": "markdown",
   "id": "9af885eb",
   "metadata": {
    "id": "T8PvOuuYdCem"
   },
   "source": [
    "# Урок 2. Создание реляционной базы данных"
   ]
  },
  {
   "cell_type": "markdown",
   "id": "b6dfa862",
   "metadata": {
    "id": "-4H6HbTLm-Pb"
   },
   "source": [
    "## Домашнее задание\n",
    "\n",
    "### Базовый уровень\n",
    "1. Загрузить файлы в созданную базу данных\n",
    "\n",
    "2. Выслать результаты запроса подсчёта пациентов по полу (`SELECT sex_concept_id, COUNT(*) FROM gb_rwd.person GROUP BY sex_concept_id`) в виде файла с названием \"lesson2_{your_surname}.csv\""
   ]
  },
  {
   "cell_type": "markdown",
   "id": "T8PvOuuYdCem",
   "metadata": {
    "id": "T8PvOuuYdCem"
   },
   "source": [
    "#### Создание БД\n",
    "На первом этапе, необходимо создать базу данных (можно использовать дефолтную)\n",
    "\n",
    "Затем, в этой базе данных создадим схему gb_rwd\n",
    "\n",
    "\n",
    "В каждой таблице есть первичный ключ (который мы не обозначаем явным образом), который позволяет объединять все таблицы в случае написания запроса"
   ]
  },
  {
   "cell_type": "markdown",
   "id": "gPTO1cNeojQS",
   "metadata": {
    "id": "gPTO1cNeojQS"
   },
   "source": [
    "\n",
    "Создадим свою базу данных для RWD исследования\n",
    "```\n",
    "CREATE schema gb_rwd;\n",
    "\n",
    "CREATE TABLE gb_rwd.person (\n",
    "  person_id int, -- первичный ключ\n",
    "  date_of_birth date,\n",
    "  sex_concept_id int, -- вторичный ключ\n",
    "  hospital_days int\n",
    ");\n",
    "\n",
    "CREATE TABLE gb_rwd.measurement (\n",
    "  measurement_id int, -- первичный ключ\n",
    "  measurement_concept_id int, -- вторичный ключ\n",
    "  measurement_date date,\n",
    "  value float,\n",
    "  person_id int -- вторичный ключ\n",
    ");\n",
    "\n",
    "CREATE TABLE gb_rwd.vocabulary (\n",
    "  concept_id int, -- первичный ключ\n",
    "  concept_name varchar(255),\n",
    "  domain varchar(150),\n",
    "  code varchar(150)\n",
    ");\n",
    "\n",
    "CREATE TABLE gb_rwd.condition (\n",
    "  condition_id int, -- первичный ключ\n",
    "  condition_concept_id int, -- вторичный ключ\n",
    "\tcondition_date date,\n",
    "  person_id int -- вторичный ключ\n",
    ");\n",
    "\n",
    "CREATE TABLE gb_rwd.drug (\n",
    "  drug_id int, -- первичный ключ\n",
    "  drug_concept_id int, -- вторичный ключ\n",
    "  drug_date date,\n",
    "  person_id int -- вторичный ключ\n",
    ");\n",
    "\n",
    "CREATE TABLE gb_rwd.procedure (\n",
    "  procedure_id int, -- первичный ключ\n",
    "  procedure_concept_id int, -- вторичный ключ\n",
    "  procedure_date date,\n",
    "  person_id int -- вторичный ключ\n",
    ");\n",
    "\n",
    "```\n",
    "\n"
   ]
  },
  {
   "cell_type": "markdown",
   "id": "KNJEnY40ysH0",
   "metadata": {
    "id": "KNJEnY40ysH0"
   },
   "source": [
    "База данные в excel формате\n",
    "Скачайте и вставьте таблицу словарь в sql таблицу vocabulary"
   ]
  },
  {
   "cell_type": "markdown",
   "id": "3THxosGFeFP5",
   "metadata": {
    "id": "3THxosGFeFP5"
   },
   "source": [
    "Например, если мы хотим выбрать все значения пациентов возраста от 18 до 65 лет.\n",
    "\n",
    "Для этого сначала выбираем записи из таблицы `person`, затем, соединяем с таблицей `measurement` по полю `person_id`"
   ]
  },
  {
   "cell_type": "markdown",
   "id": "-lno1-q0fQo9",
   "metadata": {
    "id": "-lno1-q0fQo9"
   },
   "source": [
    "## Подготовка csv для базы данных"
   ]
  },
  {
   "cell_type": "code",
   "execution_count": 1,
   "id": "11d76cb1",
   "metadata": {
    "ExecuteTime": {
     "end_time": "2024-02-27T11:35:02.166086Z",
     "start_time": "2024-02-27T11:35:01.800314Z"
    },
    "id": "11d76cb1"
   },
   "outputs": [],
   "source": [
    "import warnings\n",
    "warnings.filterwarnings(\"ignore\")\n",
    "import re\n",
    "from re import sub, search, findall\n",
    "import pandas  as pd\n",
    "from datetime import datetime\n",
    "import numpy as np\n",
    "import glob\n",
    "import os"
   ]
  },
  {
   "cell_type": "code",
   "execution_count": 2,
   "id": "f5c6ab3a",
   "metadata": {
    "ExecuteTime": {
     "end_time": "2024-02-27T11:35:02.947931Z",
     "start_time": "2024-02-27T11:35:02.869906Z"
    }
   },
   "outputs": [
    {
     "name": "stdout",
     "output_type": "stream",
     "text": [
      "Active code page: 65001\n"
     ]
    }
   ],
   "source": [
    "!chcp 65001"
   ]
  },
  {
   "cell_type": "code",
   "execution_count": 3,
   "id": "d5c35538",
   "metadata": {
    "ExecuteTime": {
     "end_time": "2024-02-27T11:35:03.632275Z",
     "start_time": "2024-02-27T11:35:03.614287Z"
    },
    "id": "d5c35538"
   },
   "outputs": [],
   "source": [
    "def epi_dates_preparation(strng):\n",
    "    data_1 =  sub(r'(0?[1-9]|[12]\\d|30|31)[.](0?[1-9]|1[0-2])[.](\\d{4})',\n",
    "                     '\\\\1-\\\\2-\\\\3', strng)\n",
    "    return sub(r'(0?[1-9]|[12]\\d|30|31)[.](0?[1-9]|1[0-2])[.](\\d{2})',\n",
    "                  '\\\\1-\\\\2-20\\\\3', data_1)"
   ]
  },
  {
   "cell_type": "markdown",
   "id": "JU5FsAMMfi_x",
   "metadata": {
    "id": "JU5FsAMMfi_x"
   },
   "source": [
    "Примитивный, но работоспособный вариант определения пола: удаляем всё, что есть в эпикризе после 1 упоминания слова \"диагноз\" и ищем \"вна\", а у мужчин - \"вич\""
   ]
  },
  {
   "cell_type": "code",
   "execution_count": 4,
   "id": "me-rXij6WFCq",
   "metadata": {
    "ExecuteTime": {
     "end_time": "2024-02-27T11:35:04.306110Z",
     "start_time": "2024-02-27T11:35:04.300075Z"
    },
    "id": "me-rXij6WFCq"
   },
   "outputs": [],
   "source": [
    "def read_txt(ff):\n",
    "  with open(ff, encoding='utf-8', errors='ignore') as f:\n",
    "    f = f.read()\n",
    "    return f"
   ]
  },
  {
   "cell_type": "code",
   "execution_count": 5,
   "id": "EV_GlAR4AnMY",
   "metadata": {
    "ExecuteTime": {
     "end_time": "2024-02-27T11:35:04.541429Z",
     "start_time": "2024-02-27T11:35:04.527825Z"
    },
    "id": "EV_GlAR4AnMY"
   },
   "outputs": [],
   "source": [
    "def get_gender(file_):\n",
    "  file_ = sub('диагноз.*', '', file_)\n",
    "  if 'вна' in file_:\n",
    "    return 25\n",
    "  else:\n",
    "    return 26\n"
   ]
  },
  {
   "cell_type": "markdown",
   "id": "PJyxafKlgEsb",
   "metadata": {
    "id": "PJyxafKlgEsb"
   },
   "source": [
    "Убираем \"лишнеее\".\n",
    "Подходы: фичи или мусор?"
   ]
  },
  {
   "cell_type": "code",
   "execution_count": 6,
   "id": "ZWv_ahTpYVoT",
   "metadata": {
    "ExecuteTime": {
     "end_time": "2024-02-27T11:35:04.919644Z",
     "start_time": "2024-02-27T11:35:04.904684Z"
    },
    "id": "ZWv_ahTpYVoT"
   },
   "outputs": [],
   "source": [
    "def remover(file_):\n",
    "  file_ = ''.join(file_.split()).lower()\n",
    "  stop_element = [',',':', '/t', 'менее']\n",
    "  for elem in stop_element:\n",
    "    if elem == ',':\n",
    "      file_ = sub(elem, '.', file_)\n",
    "    else:\n",
    "      file_ = sub(elem, '', file_)\n",
    "  return(file_)"
   ]
  },
  {
   "cell_type": "markdown",
   "id": "8110e357",
   "metadata": {
    "id": "pHy59DjeAu20"
   },
   "source": [
    "``` def preparator(path):\n",
    "\tdef inner_preparator(fun):\n",
    "\t\tdef wrapper(*args, **kwargs):\n",
    "\t\t\ttxt2 = epi_dates_preparation(remover(read_txt(path)))\n",
    "\t\t\treturn fun(txt2)\n",
    "\t\treturn wrapper\n",
    "\treturn inner_preparator ```"
   ]
  },
  {
   "cell_type": "markdown",
   "id": "9Eqfma7LWa9D",
   "metadata": {
    "id": "9Eqfma7LWa9D"
   },
   "source": [
    "\n",
    "\n",
    "```\n",
    "CREATE TABLE gb_rwd.person (\n",
    "  person_id int, -- первичный ключ\n",
    "  date_of_birth date,\n",
    "  sex_concept_id int, -- вторичный ключ\n",
    "  hospital_days int\n",
    ");\n",
    "```\n",
    "\n"
   ]
  },
  {
   "cell_type": "markdown",
   "id": "rCRcM2fagJ7g",
   "metadata": {
    "id": "rCRcM2fagJ7g"
   },
   "source": [
    "Собираем все файлы"
   ]
  },
  {
   "cell_type": "code",
   "execution_count": 8,
   "id": "M0PS9IDlWdNX",
   "metadata": {
    "ExecuteTime": {
     "end_time": "2024-02-27T11:37:17.264278Z",
     "start_time": "2024-02-27T11:37:17.248345Z"
    },
    "id": "M0PS9IDlWdNX"
   },
   "outputs": [
    {
     "data": {
      "text/plain": [
       "['22_2_SEM_files/rwd_raw\\\\file (1067).txt',\n",
       " '22_2_SEM_files/rwd_raw\\\\file (1068).txt',\n",
       " '22_2_SEM_files/rwd_raw\\\\file (1069).txt',\n",
       " '22_2_SEM_files/rwd_raw\\\\file (107).txt',\n",
       " '22_2_SEM_files/rwd_raw\\\\file (1070).txt',\n",
       " '22_2_SEM_files/rwd_raw\\\\file (1071).txt',\n",
       " '22_2_SEM_files/rwd_raw\\\\file (1072).txt',\n",
       " '22_2_SEM_files/rwd_raw\\\\file (1073).txt',\n",
       " '22_2_SEM_files/rwd_raw\\\\file (1074).txt',\n",
       " '22_2_SEM_files/rwd_raw\\\\file (1075).txt',\n",
       " '22_2_SEM_files/rwd_raw\\\\file (1078).txt',\n",
       " '22_2_SEM_files/rwd_raw\\\\file (1079).txt',\n",
       " '22_2_SEM_files/rwd_raw\\\\file (108).txt',\n",
       " '22_2_SEM_files/rwd_raw\\\\file (1080).txt',\n",
       " '22_2_SEM_files/rwd_raw\\\\file (1081).txt',\n",
       " '22_2_SEM_files/rwd_raw\\\\file (1082).txt',\n",
       " '22_2_SEM_files/rwd_raw\\\\file (1083).txt',\n",
       " '22_2_SEM_files/rwd_raw\\\\file (1084).txt',\n",
       " '22_2_SEM_files/rwd_raw\\\\file (1085).txt',\n",
       " '22_2_SEM_files/rwd_raw\\\\file (1086).txt',\n",
       " '22_2_SEM_files/rwd_raw\\\\file (1087).txt',\n",
       " '22_2_SEM_files/rwd_raw\\\\file (1088).txt',\n",
       " '22_2_SEM_files/rwd_raw\\\\file (109).txt',\n",
       " '22_2_SEM_files/rwd_raw\\\\file (1090).txt',\n",
       " '22_2_SEM_files/rwd_raw\\\\file (1091).txt',\n",
       " '22_2_SEM_files/rwd_raw\\\\file (1093).txt',\n",
       " '22_2_SEM_files/rwd_raw\\\\file (1094).txt',\n",
       " '22_2_SEM_files/rwd_raw\\\\file (1095).txt',\n",
       " '22_2_SEM_files/rwd_raw\\\\file (1096).txt',\n",
       " '22_2_SEM_files/rwd_raw\\\\file (1097).txt',\n",
       " '22_2_SEM_files/rwd_raw\\\\file (1098).txt',\n",
       " '22_2_SEM_files/rwd_raw\\\\file (1100).txt',\n",
       " '22_2_SEM_files/rwd_raw\\\\file (1102).txt',\n",
       " '22_2_SEM_files/rwd_raw\\\\file (1103).txt']"
      ]
     },
     "execution_count": 8,
     "metadata": {},
     "output_type": "execute_result"
    }
   ],
   "source": [
    "lst_of_txts = list(glob.glob(os.path.join('22_2_SEM_files/rwd_raw', '*.txt')))\n",
    "lst_of_txts"
   ]
  },
  {
   "cell_type": "code",
   "execution_count": 9,
   "id": "00a02551",
   "metadata": {
    "ExecuteTime": {
     "end_time": "2024-02-27T11:37:25.362900Z",
     "start_time": "2024-02-27T11:37:25.341956Z"
    }
   },
   "outputs": [
    {
     "data": {
      "text/plain": [
       "34"
      ]
     },
     "execution_count": 9,
     "metadata": {},
     "output_type": "execute_result"
    }
   ],
   "source": [
    "len(lst_of_txts)"
   ]
  },
  {
   "cell_type": "markdown",
   "id": "pkmzYOBHgbAq",
   "metadata": {
    "id": "pkmzYOBHgbAq"
   },
   "source": [
    "*Функциональный подход*"
   ]
  },
  {
   "cell_type": "code",
   "execution_count": 10,
   "id": "Y7r3skagWfwO",
   "metadata": {
    "ExecuteTime": {
     "end_time": "2024-02-27T11:37:27.498348Z",
     "start_time": "2024-02-27T11:37:27.356156Z"
    },
    "id": "Y7r3skagWfwO"
   },
   "outputs": [],
   "source": [
    "patient_ids = list(map(lambda file_: int(search(r'\\d+', file_)[0]), lst_of_txts))\n",
    "list_of_epi = list(map(lambda file_: epi_dates_preparation(remover(read_txt(file_))) , lst_of_txts))\n",
    "gender_list = list(map(lambda file_: get_gender(epi_dates_preparation(remover(read_txt(file_)))) , lst_of_txts))"
   ]
  },
  {
   "cell_type": "code",
   "execution_count": 11,
   "id": "f0c1f91d",
   "metadata": {
    "ExecuteTime": {
     "end_time": "2024-02-27T11:37:29.470083Z",
     "start_time": "2024-02-27T11:37:29.463072Z"
    },
    "scrolled": true
   },
   "outputs": [
    {
     "data": {
      "text/plain": [
       "[25,\n",
       " 25,\n",
       " 25,\n",
       " 25,\n",
       " 25,\n",
       " 25,\n",
       " 25,\n",
       " 25,\n",
       " 26,\n",
       " 26,\n",
       " 26,\n",
       " 25,\n",
       " 26,\n",
       " 25,\n",
       " 25,\n",
       " 26,\n",
       " 26,\n",
       " 25,\n",
       " 26,\n",
       " 25,\n",
       " 26,\n",
       " 25,\n",
       " 25,\n",
       " 26,\n",
       " 25,\n",
       " 25,\n",
       " 25,\n",
       " 25,\n",
       " 26,\n",
       " 26,\n",
       " 26,\n",
       " 25,\n",
       " 25,\n",
       " 25]"
      ]
     },
     "execution_count": 11,
     "metadata": {},
     "output_type": "execute_result"
    }
   ],
   "source": [
    "gender_list"
   ]
  },
  {
   "cell_type": "markdown",
   "id": "-sN2S1ZIgw2v",
   "metadata": {
    "id": "-sN2S1ZIgw2v"
   },
   "source": [
    "### Начнём с таблицы `person`"
   ]
  },
  {
   "cell_type": "code",
   "execution_count": 14,
   "id": "jsekIyFEY54Y",
   "metadata": {
    "ExecuteTime": {
     "end_time": "2024-02-27T12:19:33.476891Z",
     "start_time": "2024-02-27T12:19:33.465774Z"
    },
    "id": "jsekIyFEY54Y"
   },
   "outputs": [],
   "source": [
    "def prepare_person_table(\n",
    "    gender_list,\n",
    "    list_of_epi,\n",
    "    patient_ids,\n",
    "    hospital_days = [],\n",
    "    date_of_birth = []\n",
    "    ):\n",
    "    for file_ in list_of_epi:\n",
    "        admission = findall('\\d{2}-\\d{2}-\\d{4}', file_)[1]\n",
    "        discharge = findall('\\d{2}-\\d{2}-\\d{4}', file_)[-1]\n",
    "        hospital_days.append(\n",
    "            datetime.strptime(discharge, '%d-%m-%Y').date() -\n",
    "            datetime.strptime(admission, '%d-%m-%Y').date())\n",
    "        date_of_birth.append(findall('\\d{2}-\\d{2}-\\d{4}', file_)[0])\n",
    "        data_dct = {'person_id ': patient_ids, 'date_of_birth': date_of_birth, 'hospital_days':hospital_days,'sex_concept_id ': gender_list}\n",
    "        df = pd.DataFrame(data_dct)\n",
    "        df = df.replace(r'', np.nan, regex=True)\n",
    "        df['hospital_days'] = df['hospital_days'].dt.days.astype('int16')\n",
    "        df['date_of_birth'] = pd.to_datetime(df.date_of_birth)\n",
    "        return df"
   ]
  },
  {
   "cell_type": "code",
   "execution_count": 15,
   "id": "vGF70CyCbEJb",
   "metadata": {
    "ExecuteTime": {
     "end_time": "2024-02-27T12:19:38.369947Z",
     "start_time": "2024-02-27T12:19:37.101942Z"
    },
    "colab": {
     "base_uri": "https://localhost:8080/",
     "height": 1000
    },
    "executionInfo": {
     "elapsed": 6,
     "status": "ok",
     "timestamp": 1687865061850,
     "user": {
      "displayName": "Alexander Alexeyuk",
      "userId": "03081604251474508209"
     },
     "user_tz": -180
    },
    "id": "vGF70CyCbEJb",
    "outputId": "bbb14f4b-1131-4b38-e271-8c18efacd0cc"
   },
   "outputs": [
    {
     "ename": "ValueError",
     "evalue": "All arrays must be of the same length",
     "output_type": "error",
     "traceback": [
      "\u001b[1;31m---------------------------------------------------------------------------\u001b[0m",
      "\u001b[1;31mValueError\u001b[0m                                Traceback (most recent call last)",
      "Cell \u001b[1;32mIn[15], line 1\u001b[0m\n\u001b[1;32m----> 1\u001b[0m patient_table \u001b[38;5;241m=\u001b[39m \u001b[43mprepare_person_table\u001b[49m\u001b[43m(\u001b[49m\u001b[43mgender_list\u001b[49m\u001b[43m \u001b[49m\u001b[38;5;241;43m=\u001b[39;49m\u001b[43m \u001b[49m\u001b[43mgender_list\u001b[49m\u001b[43m,\u001b[49m\n\u001b[0;32m      2\u001b[0m \u001b[43m                          \u001b[49m\u001b[43mlist_of_epi\u001b[49m\u001b[43m \u001b[49m\u001b[38;5;241;43m=\u001b[39;49m\u001b[43m \u001b[49m\u001b[43mlist_of_epi\u001b[49m\u001b[43m,\u001b[49m\n\u001b[0;32m      3\u001b[0m \u001b[43m                          \u001b[49m\u001b[43mpatient_ids\u001b[49m\u001b[43m \u001b[49m\u001b[38;5;241;43m=\u001b[39;49m\u001b[43m \u001b[49m\u001b[43mpatient_ids\u001b[49m\u001b[43m)\u001b[49m\n\u001b[0;32m      4\u001b[0m patient_table\n",
      "Cell \u001b[1;32mIn[14], line 16\u001b[0m, in \u001b[0;36mprepare_person_table\u001b[1;34m(gender_list, list_of_epi, patient_ids, hospital_days, date_of_birth)\u001b[0m\n\u001b[0;32m     14\u001b[0m date_of_birth\u001b[38;5;241m.\u001b[39mappend(findall(\u001b[38;5;124m'\u001b[39m\u001b[38;5;124m\\\u001b[39m\u001b[38;5;124md\u001b[39m\u001b[38;5;132;01m{2}\u001b[39;00m\u001b[38;5;124m-\u001b[39m\u001b[38;5;124m\\\u001b[39m\u001b[38;5;124md\u001b[39m\u001b[38;5;132;01m{2}\u001b[39;00m\u001b[38;5;124m-\u001b[39m\u001b[38;5;124m\\\u001b[39m\u001b[38;5;124md\u001b[39m\u001b[38;5;132;01m{4}\u001b[39;00m\u001b[38;5;124m'\u001b[39m, file_)[\u001b[38;5;241m0\u001b[39m])\n\u001b[0;32m     15\u001b[0m data_dct \u001b[38;5;241m=\u001b[39m {\u001b[38;5;124m'\u001b[39m\u001b[38;5;124mperson_id \u001b[39m\u001b[38;5;124m'\u001b[39m: patient_ids, \u001b[38;5;124m'\u001b[39m\u001b[38;5;124mdate_of_birth\u001b[39m\u001b[38;5;124m'\u001b[39m: date_of_birth, \u001b[38;5;124m'\u001b[39m\u001b[38;5;124mhospital_days\u001b[39m\u001b[38;5;124m'\u001b[39m:hospital_days,\u001b[38;5;124m'\u001b[39m\u001b[38;5;124msex_concept_id \u001b[39m\u001b[38;5;124m'\u001b[39m: gender_list}\n\u001b[1;32m---> 16\u001b[0m df \u001b[38;5;241m=\u001b[39m \u001b[43mpd\u001b[49m\u001b[38;5;241;43m.\u001b[39;49m\u001b[43mDataFrame\u001b[49m\u001b[43m(\u001b[49m\u001b[43mdata_dct\u001b[49m\u001b[43m)\u001b[49m\n\u001b[0;32m     17\u001b[0m df \u001b[38;5;241m=\u001b[39m df\u001b[38;5;241m.\u001b[39mreplace(\u001b[38;5;124mr\u001b[39m\u001b[38;5;124m'\u001b[39m\u001b[38;5;124m'\u001b[39m, np\u001b[38;5;241m.\u001b[39mnan, regex\u001b[38;5;241m=\u001b[39m\u001b[38;5;28;01mTrue\u001b[39;00m)\n\u001b[0;32m     18\u001b[0m df[\u001b[38;5;124m'\u001b[39m\u001b[38;5;124mhospital_days\u001b[39m\u001b[38;5;124m'\u001b[39m] \u001b[38;5;241m=\u001b[39m df[\u001b[38;5;124m'\u001b[39m\u001b[38;5;124mhospital_days\u001b[39m\u001b[38;5;124m'\u001b[39m]\u001b[38;5;241m.\u001b[39mdt\u001b[38;5;241m.\u001b[39mdays\u001b[38;5;241m.\u001b[39mastype(\u001b[38;5;124m'\u001b[39m\u001b[38;5;124mint16\u001b[39m\u001b[38;5;124m'\u001b[39m)\n",
      "File \u001b[1;32m~\\MySoft\\Anaconda_05_2022\\lib\\site-packages\\pandas\\core\\frame.py:733\u001b[0m, in \u001b[0;36mDataFrame.__init__\u001b[1;34m(self, data, index, columns, dtype, copy)\u001b[0m\n\u001b[0;32m    727\u001b[0m     mgr \u001b[38;5;241m=\u001b[39m \u001b[38;5;28mself\u001b[39m\u001b[38;5;241m.\u001b[39m_init_mgr(\n\u001b[0;32m    728\u001b[0m         data, axes\u001b[38;5;241m=\u001b[39m{\u001b[38;5;124m\"\u001b[39m\u001b[38;5;124mindex\u001b[39m\u001b[38;5;124m\"\u001b[39m: index, \u001b[38;5;124m\"\u001b[39m\u001b[38;5;124mcolumns\u001b[39m\u001b[38;5;124m\"\u001b[39m: columns}, dtype\u001b[38;5;241m=\u001b[39mdtype, copy\u001b[38;5;241m=\u001b[39mcopy\n\u001b[0;32m    729\u001b[0m     )\n\u001b[0;32m    731\u001b[0m \u001b[38;5;28;01melif\u001b[39;00m \u001b[38;5;28misinstance\u001b[39m(data, \u001b[38;5;28mdict\u001b[39m):\n\u001b[0;32m    732\u001b[0m     \u001b[38;5;66;03m# GH#38939 de facto copy defaults to False only in non-dict cases\u001b[39;00m\n\u001b[1;32m--> 733\u001b[0m     mgr \u001b[38;5;241m=\u001b[39m \u001b[43mdict_to_mgr\u001b[49m\u001b[43m(\u001b[49m\u001b[43mdata\u001b[49m\u001b[43m,\u001b[49m\u001b[43m \u001b[49m\u001b[43mindex\u001b[49m\u001b[43m,\u001b[49m\u001b[43m \u001b[49m\u001b[43mcolumns\u001b[49m\u001b[43m,\u001b[49m\u001b[43m \u001b[49m\u001b[43mdtype\u001b[49m\u001b[38;5;241;43m=\u001b[39;49m\u001b[43mdtype\u001b[49m\u001b[43m,\u001b[49m\u001b[43m \u001b[49m\u001b[43mcopy\u001b[49m\u001b[38;5;241;43m=\u001b[39;49m\u001b[43mcopy\u001b[49m\u001b[43m,\u001b[49m\u001b[43m \u001b[49m\u001b[43mtyp\u001b[49m\u001b[38;5;241;43m=\u001b[39;49m\u001b[43mmanager\u001b[49m\u001b[43m)\u001b[49m\n\u001b[0;32m    734\u001b[0m \u001b[38;5;28;01melif\u001b[39;00m \u001b[38;5;28misinstance\u001b[39m(data, ma\u001b[38;5;241m.\u001b[39mMaskedArray):\n\u001b[0;32m    735\u001b[0m     \u001b[38;5;28;01mfrom\u001b[39;00m \u001b[38;5;21;01mnumpy\u001b[39;00m\u001b[38;5;21;01m.\u001b[39;00m\u001b[38;5;21;01mma\u001b[39;00m \u001b[38;5;28;01mimport\u001b[39;00m mrecords\n",
      "File \u001b[1;32m~\\MySoft\\Anaconda_05_2022\\lib\\site-packages\\pandas\\core\\internals\\construction.py:503\u001b[0m, in \u001b[0;36mdict_to_mgr\u001b[1;34m(data, index, columns, dtype, typ, copy)\u001b[0m\n\u001b[0;32m    499\u001b[0m     \u001b[38;5;28;01melse\u001b[39;00m:\n\u001b[0;32m    500\u001b[0m         \u001b[38;5;66;03m# dtype check to exclude e.g. range objects, scalars\u001b[39;00m\n\u001b[0;32m    501\u001b[0m         arrays \u001b[38;5;241m=\u001b[39m [x\u001b[38;5;241m.\u001b[39mcopy() \u001b[38;5;28;01mif\u001b[39;00m \u001b[38;5;28mhasattr\u001b[39m(x, \u001b[38;5;124m\"\u001b[39m\u001b[38;5;124mdtype\u001b[39m\u001b[38;5;124m\"\u001b[39m) \u001b[38;5;28;01melse\u001b[39;00m x \u001b[38;5;28;01mfor\u001b[39;00m x \u001b[38;5;129;01min\u001b[39;00m arrays]\n\u001b[1;32m--> 503\u001b[0m \u001b[38;5;28;01mreturn\u001b[39;00m \u001b[43marrays_to_mgr\u001b[49m\u001b[43m(\u001b[49m\u001b[43marrays\u001b[49m\u001b[43m,\u001b[49m\u001b[43m \u001b[49m\u001b[43mcolumns\u001b[49m\u001b[43m,\u001b[49m\u001b[43m \u001b[49m\u001b[43mindex\u001b[49m\u001b[43m,\u001b[49m\u001b[43m \u001b[49m\u001b[43mdtype\u001b[49m\u001b[38;5;241;43m=\u001b[39;49m\u001b[43mdtype\u001b[49m\u001b[43m,\u001b[49m\u001b[43m \u001b[49m\u001b[43mtyp\u001b[49m\u001b[38;5;241;43m=\u001b[39;49m\u001b[43mtyp\u001b[49m\u001b[43m,\u001b[49m\u001b[43m \u001b[49m\u001b[43mconsolidate\u001b[49m\u001b[38;5;241;43m=\u001b[39;49m\u001b[43mcopy\u001b[49m\u001b[43m)\u001b[49m\n",
      "File \u001b[1;32m~\\MySoft\\Anaconda_05_2022\\lib\\site-packages\\pandas\\core\\internals\\construction.py:114\u001b[0m, in \u001b[0;36marrays_to_mgr\u001b[1;34m(arrays, columns, index, dtype, verify_integrity, typ, consolidate)\u001b[0m\n\u001b[0;32m    111\u001b[0m \u001b[38;5;28;01mif\u001b[39;00m verify_integrity:\n\u001b[0;32m    112\u001b[0m     \u001b[38;5;66;03m# figure out the index, if necessary\u001b[39;00m\n\u001b[0;32m    113\u001b[0m     \u001b[38;5;28;01mif\u001b[39;00m index \u001b[38;5;129;01mis\u001b[39;00m \u001b[38;5;28;01mNone\u001b[39;00m:\n\u001b[1;32m--> 114\u001b[0m         index \u001b[38;5;241m=\u001b[39m \u001b[43m_extract_index\u001b[49m\u001b[43m(\u001b[49m\u001b[43marrays\u001b[49m\u001b[43m)\u001b[49m\n\u001b[0;32m    115\u001b[0m     \u001b[38;5;28;01melse\u001b[39;00m:\n\u001b[0;32m    116\u001b[0m         index \u001b[38;5;241m=\u001b[39m ensure_index(index)\n",
      "File \u001b[1;32m~\\MySoft\\Anaconda_05_2022\\lib\\site-packages\\pandas\\core\\internals\\construction.py:677\u001b[0m, in \u001b[0;36m_extract_index\u001b[1;34m(data)\u001b[0m\n\u001b[0;32m    675\u001b[0m lengths \u001b[38;5;241m=\u001b[39m \u001b[38;5;28mlist\u001b[39m(\u001b[38;5;28mset\u001b[39m(raw_lengths))\n\u001b[0;32m    676\u001b[0m \u001b[38;5;28;01mif\u001b[39;00m \u001b[38;5;28mlen\u001b[39m(lengths) \u001b[38;5;241m>\u001b[39m \u001b[38;5;241m1\u001b[39m:\n\u001b[1;32m--> 677\u001b[0m     \u001b[38;5;28;01mraise\u001b[39;00m \u001b[38;5;167;01mValueError\u001b[39;00m(\u001b[38;5;124m\"\u001b[39m\u001b[38;5;124mAll arrays must be of the same length\u001b[39m\u001b[38;5;124m\"\u001b[39m)\n\u001b[0;32m    679\u001b[0m \u001b[38;5;28;01mif\u001b[39;00m have_dicts:\n\u001b[0;32m    680\u001b[0m     \u001b[38;5;28;01mraise\u001b[39;00m \u001b[38;5;167;01mValueError\u001b[39;00m(\n\u001b[0;32m    681\u001b[0m         \u001b[38;5;124m\"\u001b[39m\u001b[38;5;124mMixing dicts with non-Series may lead to ambiguous ordering.\u001b[39m\u001b[38;5;124m\"\u001b[39m\n\u001b[0;32m    682\u001b[0m     )\n",
      "\u001b[1;31mValueError\u001b[0m: All arrays must be of the same length"
     ]
    }
   ],
   "source": [
    "patient_table = prepare_person_table(gender_list = gender_list,\n",
    "                          list_of_epi = list_of_epi,\n",
    "                          patient_ids = patient_ids)\n",
    "patient_table"
   ]
  },
  {
   "cell_type": "code",
   "execution_count": 17,
   "id": "dE8fd4yEgkMz",
   "metadata": {
    "id": "dE8fd4yEgkMz"
   },
   "outputs": [],
   "source": [
    "patient_table.to_csv('person.csv', index=False)"
   ]
  },
  {
   "cell_type": "markdown",
   "id": "bXA6dKMthL7g",
   "metadata": {
    "id": "bXA6dKMthL7g"
   },
   "source": [
    "### Создание файла для таблицы `measurement`"
   ]
  },
  {
   "cell_type": "markdown",
   "id": "sejoSFT2eNh9",
   "metadata": {
    "id": "sejoSFT2eNh9"
   },
   "source": [
    "\n",
    "\n",
    "```\n",
    "CREATE TABLE gb_rwd.measurement (\n",
    "  measurement_id int, -- первичный ключ\n",
    "  measurement_concept_id int, -- вторичный ключ\n",
    "  measurement_date date,\n",
    "  value float,\n",
    "  person_id int -- вторичный ключ\n",
    ");\n",
    "```\n",
    "\n"
   ]
  },
  {
   "cell_type": "markdown",
   "id": "Cpff654ChWzy",
   "metadata": {
    "id": "Cpff654ChWzy"
   },
   "source": [
    "Для того, чтобы сделать процесс формирования таблицы более программатичным,\n",
    "создадим словарь где ключ - название анализа, а значение это словарь в котором ключ тип исследования, а значение это идентификатор"
   ]
  },
  {
   "cell_type": "code",
   "execution_count": 19,
   "id": "0ia6NNcocRs1",
   "metadata": {
    "id": "0ia6NNcocRs1"
   },
   "outputs": [],
   "source": [
    "measurements_map = {\n",
    "    'фибриноген': {'гемостазиограмма': 6},\n",
    "    'креатинин': {'биохимическоеисследованиекрови': 7},\n",
    "    'лейкоциты': {'общийанализкрови': 8},\n",
    "    'гемоглобин': {'общийанализкрови': 9},\n",
    "    'тромбоциты': {'общийанализкрови': 10},\n",
    "    '.-реактивныйбелок': {'биохимическоеисследованиекрови': 11},\n",
    "    'соэ': {'общийанализкрови': 12},\n",
    "    'лимфоциты': {'общийанализкрови': 13}\n",
    "    ,'прокальцитонин': {'ифаанализ': 27}\n",
    "}"
   ]
  },
  {
   "cell_type": "code",
   "execution_count": 20,
   "id": "Ut8BONpLhQl0",
   "metadata": {
    "colab": {
     "base_uri": "https://localhost:8080/"
    },
    "executionInfo": {
     "elapsed": 258,
     "status": "ok",
     "timestamp": 1692981053079,
     "user": {
      "displayName": "Alexander Alexeyuk",
      "userId": "03081604251474508209"
     },
     "user_tz": -180
    },
    "id": "Ut8BONpLhQl0",
    "outputId": "e289c683-06d4-494a-f888-d3896a9c65fe"
   },
   "outputs": [
    {
     "name": "stdout",
     "output_type": "stream",
     "text": [
      "{'гемостазиограмма': 6} 6\n",
      "{'биохимическоеисследованиекрови': 7} 7\n",
      "{'общийанализкрови': 8} 8\n",
      "{'общийанализкрови': 9} 9\n",
      "{'общийанализкрови': 10} 10\n",
      "{'биохимическоеисследованиекрови': 11} 11\n",
      "{'общийанализкрови': 12} 12\n",
      "{'общийанализкрови': 13} 13\n",
      "{'ифаанализ': 27} 27\n"
     ]
    }
   ],
   "source": [
    "for measurement_name , sub_dict in measurements_map.items():\n",
    "    for measurement_type, measurement_concept_id_ in sub_dict.items():\n",
    "      print(sub_dict, measurement_concept_id_)"
   ]
  },
  {
   "cell_type": "code",
   "execution_count": null,
   "id": "fhtH5SeJhR7h",
   "metadata": {
    "id": "fhtH5SeJhR7h"
   },
   "outputs": [],
   "source": []
  },
  {
   "cell_type": "code",
   "execution_count": 21,
   "id": "lH6Ld9RT1zye",
   "metadata": {
    "id": "lH6Ld9RT1zye"
   },
   "outputs": [],
   "source": [
    "def measurements_template(\n",
    "    list_of_epicrisis,\n",
    "    patient_ids,\n",
    "    measurements_map,\n",
    "    measurement_id = [],\n",
    "    measurement_date  = [],\n",
    "    measurement_concept_id = [],\n",
    "    patient_id = [],\n",
    "    value = []\n",
    "    ):\n",
    "  for measurement_name , sub_dict in measurements_map.items():\n",
    "    for measurement_type, concept_id in sub_dict.items():\n",
    "        for file_, patient_id_ in zip(list_of_epicrisis, patient_ids):\n",
    "            pattern0 = ''.join(['r(\\d{2}-\\d{2}-\\d{4})(', measurement_type, ')'])\n",
    "            file_ = sub(pattern0, r'\\2\\1', file_)\n",
    "            pattern1 = ''.join(['(?<=', measurement_type, ')', '(\\d{2}-\\d{2}-\\d{4}|)'])\n",
    "            for date in findall(pattern1, file_):\n",
    "              measurement_date .append(date)\n",
    "              patient_id.append(patient_id_)\n",
    "              measurement_concept_id.append(concept_id)\n",
    "            pattern2 = ''.join(['(', measurement_type, ')', '(\\d{2}-\\d{2}-\\d{4}|)'])\n",
    "            file_1 = sub(pattern2, r'\\2\\1', file_)\n",
    "            pattern3 = ''.join(['(', measurement_type, '.*?)', '(?=\\d{2}-\\d{2}-\\d{4})'])\n",
    "            for value_ in findall(pattern3, file_1):\n",
    "              value_ = sub(''.join(['(.*)(', measurement_name, ')', '(\\d.\\d*)']), r'\\3\\2\\1', value_)\n",
    "              value_ = sub(''.join(['(', measurement_name, '|', measurement_type, ').*']) , '', value_)\n",
    "              value_ = re.sub('[^0-9.]|х10|x10', '', value_)\n",
    "\n",
    "              if value_:\n",
    "                  value.append(value_)\n",
    "              else:\n",
    "                  value.append('NA')\n",
    "\n",
    "  data_dct = {'person_id': patient_id, 'measurement_concept_id': measurement_concept_id,\n",
    "                      'measurement_date': measurement_date ,'value': value}\n",
    "  df = pd.DataFrame.from_dict(data_dct, orient='index')\n",
    "\n",
    "  df = df.transpose()\n",
    "  df['measurement_id'] = df.index + 1\n",
    "  df = df[df.measurement_date != '']\n",
    "  df = df[df.value != 'NA']\n",
    "  df['measurement_date'] = pd.to_datetime(df.measurement_date)\n",
    "\n",
    "  return df"
   ]
  },
  {
   "cell_type": "code",
   "execution_count": 22,
   "id": "0Mc68ST1JtiJ",
   "metadata": {
    "colab": {
     "base_uri": "https://localhost:8080/",
     "height": 494
    },
    "executionInfo": {
     "elapsed": 3561,
     "status": "ok",
     "timestamp": 1687851001138,
     "user": {
      "displayName": "Alexander Alexeyuk",
      "userId": "03081604251474508209"
     },
     "user_tz": -180
    },
    "id": "0Mc68ST1JtiJ",
    "outputId": "6b15420e-56fa-4cb2-d269-f2af8af53229"
   },
   "outputs": [
    {
     "data": {
      "text/html": [
       "<div>\n",
       "<style scoped>\n",
       "    .dataframe tbody tr th:only-of-type {\n",
       "        vertical-align: middle;\n",
       "    }\n",
       "\n",
       "    .dataframe tbody tr th {\n",
       "        vertical-align: top;\n",
       "    }\n",
       "\n",
       "    .dataframe thead th {\n",
       "        text-align: right;\n",
       "    }\n",
       "</style>\n",
       "<table border=\"1\" class=\"dataframe\">\n",
       "  <thead>\n",
       "    <tr style=\"text-align: right;\">\n",
       "      <th></th>\n",
       "      <th>person_id</th>\n",
       "      <th>measurement_concept_id</th>\n",
       "      <th>measurement_date</th>\n",
       "      <th>value</th>\n",
       "      <th>measurement_id</th>\n",
       "    </tr>\n",
       "  </thead>\n",
       "  <tbody>\n",
       "    <tr>\n",
       "      <th>0</th>\n",
       "      <td>1067</td>\n",
       "      <td>6</td>\n",
       "      <td>2020-12-14</td>\n",
       "      <td>4.8</td>\n",
       "      <td>1</td>\n",
       "    </tr>\n",
       "    <tr>\n",
       "      <th>1</th>\n",
       "      <td>1068</td>\n",
       "      <td>6</td>\n",
       "      <td>2020-12-14</td>\n",
       "      <td>6.38</td>\n",
       "      <td>2</td>\n",
       "    </tr>\n",
       "    <tr>\n",
       "      <th>2</th>\n",
       "      <td>1069</td>\n",
       "      <td>6</td>\n",
       "      <td>2020-12-13</td>\n",
       "      <td>5.9</td>\n",
       "      <td>3</td>\n",
       "    </tr>\n",
       "    <tr>\n",
       "      <th>3</th>\n",
       "      <td>107</td>\n",
       "      <td>6</td>\n",
       "      <td>2021-01-20</td>\n",
       "      <td>2.42</td>\n",
       "      <td>4</td>\n",
       "    </tr>\n",
       "    <tr>\n",
       "      <th>4</th>\n",
       "      <td>107</td>\n",
       "      <td>6</td>\n",
       "      <td>2021-01-21</td>\n",
       "      <td>4</td>\n",
       "      <td>5</td>\n",
       "    </tr>\n",
       "    <tr>\n",
       "      <th>...</th>\n",
       "      <td>...</td>\n",
       "      <td>...</td>\n",
       "      <td>...</td>\n",
       "      <td>...</td>\n",
       "      <td>...</td>\n",
       "    </tr>\n",
       "    <tr>\n",
       "      <th>1490</th>\n",
       "      <td>1102</td>\n",
       "      <td>27</td>\n",
       "      <td>2020-12-24</td>\n",
       "      <td>None</td>\n",
       "      <td>1491</td>\n",
       "    </tr>\n",
       "    <tr>\n",
       "      <th>1491</th>\n",
       "      <td>1103</td>\n",
       "      <td>27</td>\n",
       "      <td>2020-12-21</td>\n",
       "      <td>None</td>\n",
       "      <td>1492</td>\n",
       "    </tr>\n",
       "    <tr>\n",
       "      <th>1492</th>\n",
       "      <td>1103</td>\n",
       "      <td>27</td>\n",
       "      <td>2020-12-21</td>\n",
       "      <td>None</td>\n",
       "      <td>1493</td>\n",
       "    </tr>\n",
       "    <tr>\n",
       "      <th>1493</th>\n",
       "      <td>1103</td>\n",
       "      <td>27</td>\n",
       "      <td>2020-12-22</td>\n",
       "      <td>None</td>\n",
       "      <td>1494</td>\n",
       "    </tr>\n",
       "    <tr>\n",
       "      <th>1494</th>\n",
       "      <td>1103</td>\n",
       "      <td>27</td>\n",
       "      <td>2020-12-28</td>\n",
       "      <td>None</td>\n",
       "      <td>1495</td>\n",
       "    </tr>\n",
       "  </tbody>\n",
       "</table>\n",
       "<p>1272 rows × 5 columns</p>\n",
       "</div>"
      ],
      "text/plain": [
       "     person_id measurement_concept_id measurement_date value  measurement_id\n",
       "0         1067                      6       2020-12-14   4.8               1\n",
       "1         1068                      6       2020-12-14  6.38               2\n",
       "2         1069                      6       2020-12-13   5.9               3\n",
       "3          107                      6       2021-01-20  2.42               4\n",
       "4          107                      6       2021-01-21     4               5\n",
       "...        ...                    ...              ...   ...             ...\n",
       "1490      1102                     27       2020-12-24  None            1491\n",
       "1491      1103                     27       2020-12-21  None            1492\n",
       "1492      1103                     27       2020-12-21  None            1493\n",
       "1493      1103                     27       2020-12-22  None            1494\n",
       "1494      1103                     27       2020-12-28  None            1495\n",
       "\n",
       "[1272 rows x 5 columns]"
      ]
     },
     "execution_count": 22,
     "metadata": {},
     "output_type": "execute_result"
    }
   ],
   "source": [
    "patient_ids = list(map(lambda file_: int(search(r'\\d+', file_)[0]), lst_of_txts))\n",
    "list_of_epi = list(map(lambda file_: epi_dates_preparation(remover(read_txt(file_))) , lst_of_txts))\n",
    "measurement_data = measurements_template(list_of_epicrisis = list_of_epi, patient_ids = patient_ids, measurements_map = measurements_map)\n",
    "measurement_data"
   ]
  },
  {
   "cell_type": "code",
   "execution_count": 24,
   "id": "nPpB07vTM3Zl",
   "metadata": {
    "id": "nPpB07vTM3Zl"
   },
   "outputs": [],
   "source": [
    "measurement_data.to_csv('measurements.csv', index=False)"
   ]
  },
  {
   "cell_type": "markdown",
   "id": "nMJ73FwhixZG",
   "metadata": {
    "id": "nMJ73FwhixZG"
   },
   "source": [
    "Учитывая, что ошибки в написании препаратов это нередкость и препараты могут иметь разные коммерческие названия, тогда наша задача сделать \"маппинг\" этих препаратов к ингредиенту."
   ]
  },
  {
   "cell_type": "code",
   "execution_count": 23,
   "id": "Q2PA8jwvkGBv",
   "metadata": {
    "id": "Q2PA8jwvkGBv"
   },
   "outputs": [],
   "source": [
    "treatment_map = {\n",
    "    'лизиноприл':{'л.з.....ил|лизитар|лизинеоприл|лизоретик|диротон': 20},\n",
    "    'цефтриаксон':{'три.....ф|цефт.....он|цефтриакосн': 16},\n",
    "    \"бисопролол\":{\"б.с.пр..ол|бисопралдол|бикард|конкор\": 21},\n",
    "     \"аспирин\": {\"аспкиард|кардиомагнил|ас....рд\": 22},\n",
    "     \"дексаметазон\": {\"декс.......н|дексаетазон\": 15},\n",
    "     \"азитромицин\": {\"азит.......\": 18},\n",
    "    'гепарин': {'гепарин': 19 }\n",
    "}"
   ]
  },
  {
   "cell_type": "markdown",
   "id": "k22MiFKGL4yZ",
   "metadata": {
    "id": "k22MiFKGL4yZ"
   },
   "source": [
    "\n",
    "\n",
    "```\n",
    "CREATE TABLE gb_rwd.drug (\n",
    "  drug_id int, -- первичный ключ\n",
    "  drug_concept_id int, -- вторичный ключ\n",
    "  drug_date date,\n",
    "  person_id int -- вторичный ключ\n",
    ");\n",
    "```\n",
    "\n"
   ]
  },
  {
   "cell_type": "code",
   "execution_count": 24,
   "id": "fMaCVSYqK4jO",
   "metadata": {
    "id": "fMaCVSYqK4jO"
   },
   "outputs": [],
   "source": [
    "def treatment_detection(\n",
    "    list_of_epicrisis,\n",
    "    patient_ids,\n",
    "    treatment_map,\n",
    "    drug_date  = [],\n",
    "    drug_concept_id = [],\n",
    "    patient_id = []\n",
    "    ):\n",
    "  for drug_name , sub_dct in treatment_map.items():\n",
    "    for variations, drug_id in    sub_dct.items():\n",
    "      for file_, patient_id_ in zip(list_of_epicrisis, patient_ids):\n",
    "        file_ = sub(variations, drug_name, file_)\n",
    "        if drug_name in  file_:\n",
    "          drug_date.append(findall('\\d{2}-\\d{2}-\\d{4}', file_)[-1])\n",
    "          drug_concept_id.append(drug_id)\n",
    "          patient_id.append(patient_id_)\n",
    "    data_dct = {'person_id': patient_id, 'drug_concept_id': drug_concept_id,\n",
    "                      'drug_date': drug_date }\n",
    "  df = pd.DataFrame(data_dct)\n",
    "  df['drug_id'] = df.index + 1\n",
    "  df['drug_date'] = pd.to_datetime(df.drug_date)\n",
    "  return(df)"
   ]
  },
  {
   "cell_type": "code",
   "execution_count": 25,
   "id": "lB4JOa2tNi4-",
   "metadata": {
    "colab": {
     "base_uri": "https://localhost:8080/"
    },
    "executionInfo": {
     "elapsed": 345,
     "status": "ok",
     "timestamp": 1687697769180,
     "user": {
      "displayName": "Alexander Alexeyuk",
      "userId": "03081604251474508209"
     },
     "user_tz": -180
    },
    "id": "lB4JOa2tNi4-",
    "outputId": "a49ca690-e2a1-4342-a715-4d2e1f828e9f"
   },
   "outputs": [],
   "source": [
    "drug_data = treatment_detection(\n",
    "    list_of_epicrisis = list_of_epi,\n",
    "    patient_ids = patient_ids,\n",
    "     treatment_map = treatment_map\n",
    ")"
   ]
  },
  {
   "cell_type": "code",
   "execution_count": 30,
   "id": "b30fb9d3",
   "metadata": {},
   "outputs": [
    {
     "data": {
      "text/html": [
       "<div>\n",
       "<style scoped>\n",
       "    .dataframe tbody tr th:only-of-type {\n",
       "        vertical-align: middle;\n",
       "    }\n",
       "\n",
       "    .dataframe tbody tr th {\n",
       "        vertical-align: top;\n",
       "    }\n",
       "\n",
       "    .dataframe thead th {\n",
       "        text-align: right;\n",
       "    }\n",
       "</style>\n",
       "<table border=\"1\" class=\"dataframe\">\n",
       "  <thead>\n",
       "    <tr style=\"text-align: right;\">\n",
       "      <th></th>\n",
       "      <th>person_id</th>\n",
       "      <th>drug_concept_id</th>\n",
       "      <th>drug_date</th>\n",
       "      <th>drug_id</th>\n",
       "    </tr>\n",
       "  </thead>\n",
       "  <tbody>\n",
       "    <tr>\n",
       "      <th>0</th>\n",
       "      <td>1073</td>\n",
       "      <td>20</td>\n",
       "      <td>2020-12-24</td>\n",
       "      <td>1</td>\n",
       "    </tr>\n",
       "    <tr>\n",
       "      <th>1</th>\n",
       "      <td>1079</td>\n",
       "      <td>20</td>\n",
       "      <td>2021-01-12</td>\n",
       "      <td>2</td>\n",
       "    </tr>\n",
       "    <tr>\n",
       "      <th>2</th>\n",
       "      <td>1097</td>\n",
       "      <td>20</td>\n",
       "      <td>2021-01-14</td>\n",
       "      <td>3</td>\n",
       "    </tr>\n",
       "    <tr>\n",
       "      <th>3</th>\n",
       "      <td>1070</td>\n",
       "      <td>16</td>\n",
       "      <td>2021-02-01</td>\n",
       "      <td>4</td>\n",
       "    </tr>\n",
       "    <tr>\n",
       "      <th>4</th>\n",
       "      <td>1072</td>\n",
       "      <td>16</td>\n",
       "      <td>2020-12-18</td>\n",
       "      <td>5</td>\n",
       "    </tr>\n",
       "    <tr>\n",
       "      <th>...</th>\n",
       "      <td>...</td>\n",
       "      <td>...</td>\n",
       "      <td>...</td>\n",
       "      <td>...</td>\n",
       "    </tr>\n",
       "    <tr>\n",
       "      <th>79</th>\n",
       "      <td>1094</td>\n",
       "      <td>19</td>\n",
       "      <td>2020-12-28</td>\n",
       "      <td>80</td>\n",
       "    </tr>\n",
       "    <tr>\n",
       "      <th>80</th>\n",
       "      <td>1096</td>\n",
       "      <td>19</td>\n",
       "      <td>2020-12-30</td>\n",
       "      <td>81</td>\n",
       "    </tr>\n",
       "    <tr>\n",
       "      <th>81</th>\n",
       "      <td>1098</td>\n",
       "      <td>19</td>\n",
       "      <td>2021-01-19</td>\n",
       "      <td>82</td>\n",
       "    </tr>\n",
       "    <tr>\n",
       "      <th>82</th>\n",
       "      <td>1100</td>\n",
       "      <td>19</td>\n",
       "      <td>2021-01-04</td>\n",
       "      <td>83</td>\n",
       "    </tr>\n",
       "    <tr>\n",
       "      <th>83</th>\n",
       "      <td>1102</td>\n",
       "      <td>19</td>\n",
       "      <td>2021-01-04</td>\n",
       "      <td>84</td>\n",
       "    </tr>\n",
       "  </tbody>\n",
       "</table>\n",
       "<p>84 rows × 4 columns</p>\n",
       "</div>"
      ],
      "text/plain": [
       "    person_id  drug_concept_id  drug_date  drug_id\n",
       "0        1073               20 2020-12-24        1\n",
       "1        1079               20 2021-01-12        2\n",
       "2        1097               20 2021-01-14        3\n",
       "3        1070               16 2021-02-01        4\n",
       "4        1072               16 2020-12-18        5\n",
       "..        ...              ...        ...      ...\n",
       "79       1094               19 2020-12-28       80\n",
       "80       1096               19 2020-12-30       81\n",
       "81       1098               19 2021-01-19       82\n",
       "82       1100               19 2021-01-04       83\n",
       "83       1102               19 2021-01-04       84\n",
       "\n",
       "[84 rows x 4 columns]"
      ]
     },
     "execution_count": 30,
     "metadata": {},
     "output_type": "execute_result"
    }
   ],
   "source": [
    "drug_data"
   ]
  },
  {
   "cell_type": "code",
   "execution_count": 31,
   "id": "pAIlR_1rih5x",
   "metadata": {
    "id": "pAIlR_1rih5x"
   },
   "outputs": [],
   "source": [
    "drug_data.to_csv('drugs.csv', index=False)"
   ]
  },
  {
   "cell_type": "markdown",
   "id": "Qp5YIzA_mZ-S",
   "metadata": {
    "id": "Qp5YIzA_mZ-S"
   },
   "source": [
    "Сейчас поработаем с доменом \"Заболевания\""
   ]
  },
  {
   "cell_type": "code",
   "execution_count": 26,
   "id": "yZEYtlhWoGBz",
   "metadata": {
    "id": "yZEYtlhWoGBz"
   },
   "outputs": [],
   "source": [
    "condition_procedures_map = {\n",
    "    1:\t{'Внегоспитальная пневмония': 'пне...ния|внегоспитальная|внебольничная'},\n",
    "    2:\t{'Ишемическая болезнь сердца': 'ссн|ибс|атеросклеротический|кардиосклероз|фп|фибрил....' },\n",
    "    3:\t{'Сахарный диабет': 'д.абет|сдтип|сд2|сд1|сах.....'},\n",
    "    4:\t{'Коронавирусная инфекция': 'covid19|коронавирусная|b34|sarscov2'},\n",
    "    5:\t{'Артериальная гипертензия': 'аг\\d|агi|артериальнаягипер '},\n",
    "    23:\t{'Рентгелологическое исследование грудной клетки': 'rgогк|ргогк'},\n",
    "    24:\t{'Электрокардиография': 'экг|электрокардио'}\n",
    "}"
   ]
  },
  {
   "cell_type": "code",
   "execution_count": 27,
   "id": "23R-tzOmNs93",
   "metadata": {
    "id": "23R-tzOmNs93"
   },
   "outputs": [],
   "source": [
    "def condition_detection(\n",
    "    list_of_epicrisis,\n",
    "    patient_ids,\n",
    "    condition_map,\n",
    "    condition_date  = [],\n",
    "    condition_concept_id = [],\n",
    "    patient_id = []\n",
    "    ):\n",
    "  for concept_id , sub_dct in condition_map.items():\n",
    "    if concept_id < 6:\n",
    "      for condition, variations in  sub_dct.items():\n",
    "        for file_, patient_id_ in zip(list_of_epicrisis, patient_ids):\n",
    "          file_ = sub(variations, condition, file_)\n",
    "          if condition in  file_:\n",
    "            condition_date.append(findall('\\d{2}-\\d{2}-\\d{4}', file_)[-1])\n",
    "            condition_concept_id.append(concept_id)\n",
    "            patient_id.append(patient_id_)\n",
    "    data_dct = {'person_id': patient_id, 'condition_concept_id': condition_concept_id,\n",
    "                      'condition_date': condition_date }\n",
    "  df = pd.DataFrame(data_dct)\n",
    "  df['condition_id'] = df.index + 1\n",
    "  df['condition_date'] = pd.to_datetime(df.condition_date)\n",
    "  return(df)"
   ]
  },
  {
   "cell_type": "code",
   "execution_count": 28,
   "id": "DRBW0Rx6rQ6F",
   "metadata": {
    "colab": {
     "base_uri": "https://localhost:8080/"
    },
    "executionInfo": {
     "elapsed": 235,
     "status": "ok",
     "timestamp": 1687697813419,
     "user": {
      "displayName": "Alexander Alexeyuk",
      "userId": "03081604251474508209"
     },
     "user_tz": -180
    },
    "id": "DRBW0Rx6rQ6F",
    "outputId": "412403da-e322-49e8-e71c-bc4aa65db941"
   },
   "outputs": [],
   "source": [
    "condition_data = condition_detection(\n",
    "    list_of_epicrisis = list_of_epi,\n",
    "    patient_ids = patient_ids,\n",
    "     condition_map = condition_procedures_map\n",
    ")\n",
    "condition_data.to_csv('conditions.csv', index=False)"
   ]
  },
  {
   "cell_type": "code",
   "execution_count": 29,
   "id": "I3w5j3oWVzSI",
   "metadata": {
    "id": "I3w5j3oWVzSI"
   },
   "outputs": [],
   "source": [
    "def procedures_detection(\n",
    "    list_of_epicrisis,\n",
    "    patient_ids,\n",
    "    procedure_map,\n",
    "    procedure_date  = [],\n",
    "    procedure_concept_id = [],\n",
    "    patient_id = []\n",
    "    ):\n",
    "  for concept_id , sub_dct in procedure_map.items():\n",
    "    if concept_id > 6:\n",
    "      for procedure, variations in  sub_dct.items():\n",
    "        for file_, patient_id_ in zip(list_of_epicrisis, patient_ids):\n",
    "          file_ = sub(variations, procedure, file_)\n",
    "          if procedure in  file_:\n",
    "            procedure_date.append(findall('\\d{2}-\\d{2}-\\d{4}', file_)[-1])\n",
    "            procedure_concept_id.append(concept_id)\n",
    "            patient_id.append(patient_id_)\n",
    "    data_dct = {'person_id': patient_id, 'procedure_concept_id': procedure_concept_id,\n",
    "                      'procedure_date': procedure_date}\n",
    "  df = pd.DataFrame(data_dct)\n",
    "  df['procedure_id'] = df.index + 1\n",
    "  df['procedure_date'] = pd.to_datetime(df.procedure_date)\n",
    "  return(df)"
   ]
  },
  {
   "cell_type": "code",
   "execution_count": 30,
   "id": "2nHhZNy5VzQQ",
   "metadata": {
    "colab": {
     "base_uri": "https://localhost:8080/"
    },
    "executionInfo": {
     "elapsed": 2,
     "status": "ok",
     "timestamp": 1687697787913,
     "user": {
      "displayName": "Alexander Alexeyuk",
      "userId": "03081604251474508209"
     },
     "user_tz": -180
    },
    "id": "2nHhZNy5VzQQ",
    "outputId": "ed6f37f4-7620-458d-c6d3-68bd46cd912e"
   },
   "outputs": [],
   "source": [
    "procedures_data = procedures_detection(\n",
    "    list_of_epicrisis = list_of_epi,\n",
    "    patient_ids = patient_ids,\n",
    "    procedure_map = condition_procedures_map\n",
    ")\n",
    "procedures_data.to_csv('procedures.csv', index=False)"
   ]
  },
  {
   "cell_type": "markdown",
   "id": "b59a3d1c",
   "metadata": {},
   "source": [
    "Импортируем данные в нашу базу данных"
   ]
  },
  {
   "cell_type": "markdown",
   "id": "-4H6HbTLm-Pb",
   "metadata": {
    "id": "-4H6HbTLm-Pb"
   },
   "source": [
    "### Продвинутый уровень\n",
    "\n",
    "1.   Создать класс EpicPars\n",
    "2.   Создать документацию для пользователя\n",
    "3.   Сделать пример использования вашего импортируемого класса\n",
    "\n",
    "\n",
    "***Необходимо отметить, что написание документации - важнейший навык в работе, т.к. ваши коллеги не имеют тот же опыт, что и вы. Поэтому понимать и использовать ваш код будут только в том случае, если есть понимание того, что и зачем происходит и как этим пользоваться.***"
   ]
  },
  {
   "cell_type": "markdown",
   "id": "CSWgrSK-vUYz",
   "metadata": {
    "id": "CSWgrSK-vUYz"
   },
   "source": [
    "Пример документации и R\n",
    "\n",
    "Для нас будет приемлимо написать по-русски, объяснить что происходит, какие есть атрибуты, методы и т.д."
   ]
  },
  {
   "cell_type": "markdown",
   "id": "8SiJ-yTYvDVP",
   "metadata": {
    "id": "8SiJ-yTYvDVP"
   },
   "source": [
    "\n",
    "\n",
    "```\n",
    "Return the First or Last Parts of an Object\n",
    "Description\n",
    "Returns the first or last parts of a vector, matrix, table, data frame or function. Since head() and tail() are generic functions, they may also have been extended to other classes.\n",
    "\n",
    "Usage\n",
    "head(x, ...)\n",
    "## Default S3 method:\n",
    "head(x, n = 6L, ...)\n",
    "\n",
    "## S3 method for class 'matrix'\n",
    "head(x, n = 6L, ...) # is exported as head.matrix()\n",
    "## NB: The methods for 'data.frame' and 'array'  are identical to the 'matrix' one\n",
    "\n",
    "## S3 method for class 'ftable'\n",
    "head(x, n = 6L, ...)\n",
    "## S3 method for class 'function'\n",
    "head(x, n = 6L, ...)\n",
    "\n",
    "\n",
    "tail(x, ...)\n",
    "## Default S3 method:\n",
    "tail(x, n = 6L, keepnums = FALSE, addrownums, ...)\n",
    "## S3 method for class 'matrix'\n",
    "tail(x, n = 6L, keepnums = TRUE, addrownums, ...) # exported as tail.matrix()\n",
    "## NB: The methods for 'data.frame', 'array', and 'table'\n",
    "##     are identical to the  'matrix'  one\n",
    "\n",
    "## S3 method for class 'ftable'\n",
    "tail(x, n = 6L, keepnums = FALSE, addrownums, ...)\n",
    "## S3 method for class 'function'\n",
    "tail(x, n = 6L, ...)\n",
    "Arguments\n",
    "x\n",
    "an object\n",
    "\n",
    "n\n",
    "an integer vector of length up to dim(x) (or 1, for non-dimensioned objects). Values specify the indices to be selected in the corresponding dimension (or along the length) of the object. A positive value of n[i] includes the first/last n[i] indices in that dimension, while a negative value excludes the last/first abs(n[i]), including all remaining indices. NA or non-specified values (when length(n) < length(dim(x))) select all indices in that dimension. Must contain at least one non-missing value.\n",
    "\n",
    "keepnums\n",
    "in each dimension, if no names in that dimension are present, create them using the indices included in that dimension. Ignored if dim(x) is NULL or its length 1.\n",
    "\n",
    "addrownums\n",
    "deprecated - keepnums should be used instead. Taken as the value of keepnums if it is explicitly set when keepnums is not.\n",
    "\n",
    "...\n",
    "arguments to be passed to or from other methods.\n",
    "\n",
    "Details\n",
    "For vector/array based objects, head() (tail()) returns a subset of the same dimensionality as x, usually of the same class. For historical reasons, by default they select the first (last) 6 indices in the first dimension (\"rows\") or along the length of a non-dimensioned vector, and the full extent (all indices) in any remaining dimensions. head.matrix() and tail.matrix() are exported.\n",
    "\n",
    "The default and array(/matrix) methods for head() and tail() are quite general. They will work as is for any class which has a dim() method, a length() method (only required if dim() returns NULL), and a [ method (that accepts the drop argument and can subset in all dimensions in the dimensioned case).\n",
    "\n",
    "For functions, the lines of the deparsed function are returned as character strings.\n",
    "\n",
    "When x is an array(/matrix) of dimensionality two and more, tail() will add dimnames similar to how they would appear in a full printing of x for all dimensions k where n[k] is specified and non-missing and dimnames(x)[[k]] (or dimnames(x) itself) is NULL. Specifically, the form of the added dimnames will vary for different dimensions as follows:\n",
    "\n",
    "k=1 (rows):\n",
    "\"[n,]\" (right justified with whitespace padding)\n",
    "\n",
    "k=2 (columns):\n",
    "\"[,n]\" (with no whitespace padding)\n",
    "\n",
    "k>2 (higher dims):\n",
    "\"n\", i.e., the indices as character values\n",
    "\n",
    "Setting keepnums = FALSE suppresses this behaviour.\n",
    "\n",
    "As data.frame subsetting (‘indexing’) keeps attributes, so do the head() and tail() methods for data frames.\n",
    "\n",
    "Value\n",
    "An object (usually) like x but generally smaller. Hence, for arrays, the result corresponds to x[.., drop=FALSE]. For ftable objects x, a transformed format(x).\n",
    "\n",
    "Note\n",
    "For array inputs the output of tail when keepnums is TRUE, any dimnames vectors added for dimensions >2 are the original numeric indices in that dimension as character vectors. This means that, e.g., for 3-dimensional array arr, tail(arr, c(2,2,-1))[ , , 2] and tail(arr, c(2,2,-1))[ , , \"2\"] may both be valid but have completely different meanings.\n",
    "\n",
    "Author(s)\n",
    "Patrick Burns, improved and corrected by R-Core. Negative argument added by Vincent Goulet. Multi-dimension support added by Gabriel Becker.\n",
    "\n",
    "Examples\n",
    "Run examples\n",
    "\n",
    "head(letters)\n",
    "head(letters, n = -6L)\n",
    "\n",
    "head(freeny.x, n = 10L)\n",
    "head(freeny.y)\n",
    "\n",
    "head(iris3)\n",
    "head(iris3, c(6L, 2L))\n",
    "head(iris3, c(6L, -1L, 2L))\n",
    "\n",
    "tail(letters)\n",
    "tail(letters, n = -6L)\n",
    "\n",
    "tail(freeny.x)\n",
    "## the bottom-right \"corner\" :\n",
    "tail(freeny.x, n = c(4, 2))\n",
    "tail(freeny.y)\n",
    "\n",
    "tail(iris3)\n",
    "tail(iris3, c(6L, 2L))\n",
    "tail(iris3, c(6L, -1L, 2L))\n",
    "\n",
    "## iris with dimnames stripped\n",
    "a3d <- iris3 ; dimnames(a3d) <- NULL\n",
    "tail(a3d, c(6, -1, 2)) # keepnums = TRUE is default here!\n",
    "tail(a3d, c(6, -1, 2), keepnums = FALSE)\n",
    "\n",
    "## data frame w/ a (non-standard) attribute:\n",
    "treeS <- structure(trees, foo = \"bar\")\n",
    "(n <- nrow(treeS))\n",
    "stopifnot(exprs = { # attribute is kept\n",
    "    identical(htS <- head(treeS), treeS[1:6, ])\n",
    "    identical(attr(htS, \"foo\") , \"bar\")\n",
    "    identical(tlS <- tail(treeS), treeS[(n-5):n, ])\n",
    "    ## BUT if I use \"useAttrib(.)\", this is *not* ok, when n is of length 2:\n",
    "    ## --- because [i,j]-indexing of data frames *also* drops \"other\" attributes ..\n",
    "    identical(tail(treeS, 3:2), treeS[(n-2):n, 2:3] )\n",
    "})\n",
    "\n",
    "tail(library) # last lines of function\n",
    "\n",
    "head(stats::ftable(Titanic))\n",
    "\n",
    "## 1d-array (with named dim) :\n",
    "a1 <- array(1:7, 7); names(dim(a1)) <- \"O2\"\n",
    "stopifnot(exprs = {\n",
    "  identical( tail(a1, 10), a1)\n",
    "  identical( head(a1, 10), a1)\n",
    "  identical( head(a1, 1), a1 [1 , drop=FALSE] ) # was a1[1] in R <= 3.6.x\n",
    "  identical( tail(a1, 2), a1[6:7])\n",
    "  identical( tail(a1, 1), a1 [7 , drop=FALSE] ) # was a1[7] in R <= 3.6.x\n",
    "})\n",
    "```\n",
    "\n"
   ]
  },
  {
   "cell_type": "code",
   "execution_count": null,
   "id": "rH6XdjDunzZc",
   "metadata": {
    "id": "rH6XdjDunzZc"
   },
   "outputs": [],
   "source": []
  }
 ],
 "metadata": {
  "colab": {
   "provenance": [
    {
     "file_id": "1P-O8546azaksvBW5rxrOTno5fjcgaClL",
     "timestamp": 1686573470720
    }
   ]
  },
  "kernelspec": {
   "display_name": "Python 3 (ipykernel)",
   "language": "python",
   "name": "python3"
  },
  "language_info": {
   "codemirror_mode": {
    "name": "ipython",
    "version": 3
   },
   "file_extension": ".py",
   "mimetype": "text/x-python",
   "name": "python",
   "nbconvert_exporter": "python",
   "pygments_lexer": "ipython3",
   "version": "3.9.7"
  },
  "nbTranslate": {
   "displayLangs": [
    "*"
   ],
   "hotkey": "alt-t",
   "langInMainMenu": true,
   "sourceLang": "en",
   "targetLang": "fr",
   "useGoogleTranslate": true
  },
  "toc": {
   "base_numbering": 1,
   "nav_menu": {},
   "number_sections": false,
   "sideBar": true,
   "skip_h1_title": false,
   "title_cell": "Table of Contents",
   "title_sidebar": "Contents",
   "toc_cell": false,
   "toc_position": {},
   "toc_section_display": true,
   "toc_window_display": false
  },
  "varInspector": {
   "cols": {
    "lenName": 16,
    "lenType": 16,
    "lenVar": 40
   },
   "kernels_config": {
    "python": {
     "delete_cmd_postfix": "",
     "delete_cmd_prefix": "del ",
     "library": "var_list.py",
     "varRefreshCmd": "print(var_dic_list())"
    },
    "r": {
     "delete_cmd_postfix": ") ",
     "delete_cmd_prefix": "rm(",
     "library": "var_list.r",
     "varRefreshCmd": "cat(var_dic_list()) "
    }
   },
   "types_to_exclude": [
    "module",
    "function",
    "builtin_function_or_method",
    "instance",
    "_Feature"
   ],
   "window_display": false
  }
 },
 "nbformat": 4,
 "nbformat_minor": 5
}
