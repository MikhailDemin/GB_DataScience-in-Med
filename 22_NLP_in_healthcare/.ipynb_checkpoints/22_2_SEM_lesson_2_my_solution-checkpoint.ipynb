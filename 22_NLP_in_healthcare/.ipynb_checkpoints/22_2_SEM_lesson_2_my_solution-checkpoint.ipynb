{
 "cells": [
  {
   "cell_type": "markdown",
   "id": "897926b6",
   "metadata": {
    "id": "T8PvOuuYdCem"
   },
   "source": [
    "# Урок 2. Создание реляционной базы данных"
   ]
  },
  {
   "cell_type": "markdown",
   "id": "7ee67a21",
   "metadata": {
    "id": "-4H6HbTLm-Pb"
   },
   "source": [
    "## Домашнее задание\n",
    "\n",
    "### Базовый уровень\n",
    "1. Загрузить файлы в созданную базу данных\n",
    "\n",
    "2. Выслать результаты запроса подсчёта пациентов по полю (`SELECT sex_concept_id, COUNT(*) FROM gb_rwd.person GROUP BY sex_concept_id`) в виде файла с названием \"lesson2_{your_surname}.csv\""
   ]
  },
  {
   "cell_type": "markdown",
   "id": "T8PvOuuYdCem",
   "metadata": {
    "id": "T8PvOuuYdCem"
   },
   "source": [
    "#### Создание БД\n",
    "На первом этапе, необходимо создать базу данных (можно использовать дефолтную)\n",
    "\n",
    "Затем, в этой базе данных создадим схему gb_rwd\n",
    "\n",
    "\n",
    "В каждой таблице есть первичный ключ (который мы не обозначаем явным образом), который позволяет объединять все таблицы в случае написания запроса"
   ]
  },
  {
   "cell_type": "markdown",
   "id": "06f5d66c",
   "metadata": {
    "id": "gPTO1cNeojQS"
   },
   "source": [
    "\n",
    "Создадим свою базу данных для RWD исследования\n",
    "```\n",
    "CREATE schema gb_rwd;\n",
    "\n",
    "CREATE TABLE gb_rwd.person (\n",
    "  person_id int, -- первичный ключ\n",
    "  date_of_birth date,\n",
    "  sex_concept_id int, -- вторичный ключ\n",
    "  hospital_days int\n",
    ");\n",
    "\n",
    "CREATE TABLE gb_rwd.measurement (\n",
    "  measurement_id int, -- первичный ключ\n",
    "  measurement_concept_id int, -- вторичный ключ\n",
    "  measurement_date date,\n",
    "  value float,\n",
    "  person_id int -- вторичный ключ\n",
    ");\n",
    "\n",
    "CREATE TABLE gb_rwd.vocabulary (\n",
    "  concept_id int, -- первичный ключ\n",
    "  concept_name varchar(255),\n",
    "  domain varchar(150),\n",
    "  code varchar(150)\n",
    ");\n",
    "\n",
    "CREATE TABLE gb_rwd.condition (\n",
    "  condition_id int, -- первичный ключ\n",
    "  condition_concept_id int, -- вторичный ключ\n",
    "\tcondition_date date,\n",
    "  person_id int -- вторичный ключ\n",
    ");\n",
    "\n",
    "CREATE TABLE gb_rwd.drug (\n",
    "  drug_id int, -- первичный ключ\n",
    "  drug_concept_id int, -- вторичный ключ\n",
    "  drug_date date,\n",
    "  person_id int -- вторичный ключ\n",
    ");\n",
    "\n",
    "CREATE TABLE gb_rwd.procedure (\n",
    "  procedure_id int, -- первичный ключ\n",
    "  procedure_concept_id int, -- вторичный ключ\n",
    "  procedure_date date,\n",
    "  person_id int -- вторичный ключ\n",
    ");\n",
    "\n",
    "```\n",
    "\n"
   ]
  },
  {
   "cell_type": "markdown",
   "id": "KNJEnY40ysH0",
   "metadata": {
    "id": "KNJEnY40ysH0"
   },
   "source": [
    "База данные в excel формате\n",
    "Скачайте и вставьте таблицу словарь в sql таблицу vocabulary"
   ]
  },
  {
   "cell_type": "markdown",
   "id": "3THxosGFeFP5",
   "metadata": {
    "id": "3THxosGFeFP5"
   },
   "source": [
    "Например, если мы хотим выбрать все значения пациентов возраста от 18 до 65 лет.\n",
    "\n",
    "Для этого сначала выбираем записи из таблицы `person`, затем, соединяем с таблицей `measurement` по полю `person_id`"
   ]
  },
  {
   "cell_type": "markdown",
   "id": "-lno1-q0fQo9",
   "metadata": {
    "id": "-lno1-q0fQo9"
   },
   "source": [
    "## Подготовка csv для базы данных"
   ]
  },
  {
   "cell_type": "code",
   "execution_count": 1,
   "id": "11d76cb1",
   "metadata": {
    "ExecuteTime": {
     "end_time": "2024-03-06T18:38:44.557188Z",
     "start_time": "2024-03-06T18:38:43.656383Z"
    },
    "id": "11d76cb1"
   },
   "outputs": [],
   "source": [
    "import warnings\n",
    "warnings.filterwarnings(\"ignore\")\n",
    "import re\n",
    "from re import sub, search, findall\n",
    "import pandas  as pd\n",
    "from datetime import datetime\n",
    "import numpy as np\n",
    "import glob\n",
    "import os"
   ]
  },
  {
   "cell_type": "code",
   "execution_count": 2,
   "id": "2fd8ea91",
   "metadata": {
    "ExecuteTime": {
     "end_time": "2024-03-06T18:38:46.060285Z",
     "start_time": "2024-03-06T18:38:45.968803Z"
    },
    "scrolled": false
   },
   "outputs": [
    {
     "name": "stdout",
     "output_type": "stream",
     "text": [
      "Active code page: 65001\n"
     ]
    }
   ],
   "source": [
    "!chcp 65001"
   ]
  },
  {
   "cell_type": "code",
   "execution_count": null,
   "id": "97bc09fe",
   "metadata": {
    "ExecuteTime": {
     "end_time": "2024-03-02T06:59:22.241762Z",
     "start_time": "2024-03-02T06:59:11.585117Z"
    }
   },
   "outputs": [],
   "source": [
    "# conda install psycopg2"
   ]
  },
  {
   "cell_type": "code",
   "execution_count": null,
   "id": "d1cc6ae9",
   "metadata": {
    "ExecuteTime": {
     "end_time": "2024-03-03T02:10:00.532066Z",
     "start_time": "2024-03-03T02:10:00.489800Z"
    }
   },
   "outputs": [],
   "source": [
    "# import psycopg2\n",
    "\n",
    "# try:\n",
    "#     # пытаемся подключиться к базе данных\n",
    "#     conn = psycopg2.connect(dbname='postgres', user='postgres', password='root', host='192.168.0.6:5432')\n",
    "# except:\n",
    "#     # в случае сбоя подключения будет выведено сообщение в STDOUT\n",
    "#     print('Can`t establish connection to database')\n"
   ]
  },
  {
   "cell_type": "code",
   "execution_count": 3,
   "id": "d5c35538",
   "metadata": {
    "ExecuteTime": {
     "end_time": "2024-03-06T18:38:49.231792Z",
     "start_time": "2024-03-06T18:38:49.217831Z"
    },
    "id": "d5c35538"
   },
   "outputs": [],
   "source": [
    "def epi_dates_preparation(strng):\n",
    "    data_1 =  sub(r'(0?[1-9]|[12]\\d|30|31)[.](0?[1-9]|1[0-2])[.](\\d{4})',\n",
    "                     '\\\\1-\\\\2-\\\\3', strng)\n",
    "    return sub(r'(0?[1-9]|[12]\\d|30|31)[.](0?[1-9]|1[0-2])[.](\\d{2})',\n",
    "                  '\\\\1-\\\\2-20\\\\3', data_1)"
   ]
  },
  {
   "cell_type": "markdown",
   "id": "JU5FsAMMfi_x",
   "metadata": {
    "id": "JU5FsAMMfi_x"
   },
   "source": [
    "Примитивный, но работоспособный вариант определения пола: удаляем всё, что есть в эпикризе после 1 упоминания слова \"диагноз\" и ищем \"вна\", а у мужчин - \"вич\""
   ]
  },
  {
   "cell_type": "code",
   "execution_count": 4,
   "id": "me-rXij6WFCq",
   "metadata": {
    "ExecuteTime": {
     "end_time": "2024-03-06T18:38:50.817958Z",
     "start_time": "2024-03-06T18:38:50.808956Z"
    },
    "id": "me-rXij6WFCq"
   },
   "outputs": [],
   "source": [
    "def read_txt(ff):\n",
    "  with open(ff, encoding='utf-8', errors='ignore') as f:\n",
    "    f = f.read()\n",
    "    return f"
   ]
  },
  {
   "cell_type": "code",
   "execution_count": 5,
   "id": "EV_GlAR4AnMY",
   "metadata": {
    "ExecuteTime": {
     "end_time": "2024-03-06T18:38:52.206512Z",
     "start_time": "2024-03-06T18:38:52.199553Z"
    },
    "id": "EV_GlAR4AnMY"
   },
   "outputs": [],
   "source": [
    "def get_gender(file_):\n",
    "  file_ = sub('диагноз.*', '', file_)\n",
    "  if 'вна' in file_:\n",
    "    return 25\n",
    "  else:\n",
    "    return 26\n"
   ]
  },
  {
   "cell_type": "markdown",
   "id": "PJyxafKlgEsb",
   "metadata": {
    "id": "PJyxafKlgEsb"
   },
   "source": [
    "Убираем \"лишнеее\".\n",
    "Подходы: фичи или мусор?"
   ]
  },
  {
   "cell_type": "code",
   "execution_count": 6,
   "id": "ZWv_ahTpYVoT",
   "metadata": {
    "ExecuteTime": {
     "end_time": "2024-03-06T18:38:53.840070Z",
     "start_time": "2024-03-06T18:38:53.821009Z"
    },
    "id": "ZWv_ahTpYVoT"
   },
   "outputs": [],
   "source": [
    "def remover(file_):\n",
    "  file_ = ''.join(file_.split()).lower()\n",
    "  stop_element = [',',':', '/t', 'менее']\n",
    "  for elem in stop_element:\n",
    "    if elem == ',':\n",
    "      file_ = sub(elem, '.', file_)\n",
    "    else:\n",
    "      file_ = sub(elem, '', file_)\n",
    "  return(file_)"
   ]
  },
  {
   "cell_type": "markdown",
   "id": "8110e357",
   "metadata": {
    "id": "pHy59DjeAu20"
   },
   "source": [
    "``` def preparator(path):\n",
    "\tdef inner_preparator(fun):\n",
    "\t\tdef wrapper(*args, **kwargs):\n",
    "\t\t\ttxt2 = epi_dates_preparation(remover(read_txt(path)))\n",
    "\t\t\treturn fun(txt2)\n",
    "\t\treturn wrapper\n",
    "\treturn inner_preparator ```"
   ]
  },
  {
   "cell_type": "markdown",
   "id": "9Eqfma7LWa9D",
   "metadata": {
    "id": "9Eqfma7LWa9D"
   },
   "source": [
    "\n",
    "\n",
    "```\n",
    "CREATE TABLE gb_rwd.person (\n",
    "  person_id int, -- первичный ключ\n",
    "  date_of_birth date,\n",
    "  sex_concept_id int, -- вторичный ключ\n",
    "  hospital_days int\n",
    ");\n",
    "```\n",
    "\n"
   ]
  },
  {
   "cell_type": "markdown",
   "id": "rCRcM2fagJ7g",
   "metadata": {
    "id": "rCRcM2fagJ7g"
   },
   "source": [
    "Собираем все файлы"
   ]
  },
  {
   "cell_type": "code",
   "execution_count": 7,
   "id": "M0PS9IDlWdNX",
   "metadata": {
    "ExecuteTime": {
     "end_time": "2024-03-06T18:38:57.079826Z",
     "start_time": "2024-03-06T18:38:57.048909Z"
    },
    "collapsed": true,
    "id": "M0PS9IDlWdNX"
   },
   "outputs": [
    {
     "data": {
      "text/plain": [
       "['22_2_SEM_files/rwd_raw\\\\file (1067).txt',\n",
       " '22_2_SEM_files/rwd_raw\\\\file (1068).txt',\n",
       " '22_2_SEM_files/rwd_raw\\\\file (1069).txt',\n",
       " '22_2_SEM_files/rwd_raw\\\\file (107).txt',\n",
       " '22_2_SEM_files/rwd_raw\\\\file (1070).txt',\n",
       " '22_2_SEM_files/rwd_raw\\\\file (1071).txt',\n",
       " '22_2_SEM_files/rwd_raw\\\\file (1072).txt',\n",
       " '22_2_SEM_files/rwd_raw\\\\file (1073).txt',\n",
       " '22_2_SEM_files/rwd_raw\\\\file (1074).txt',\n",
       " '22_2_SEM_files/rwd_raw\\\\file (1075).txt',\n",
       " '22_2_SEM_files/rwd_raw\\\\file (1078).txt',\n",
       " '22_2_SEM_files/rwd_raw\\\\file (1079).txt',\n",
       " '22_2_SEM_files/rwd_raw\\\\file (108).txt',\n",
       " '22_2_SEM_files/rwd_raw\\\\file (1080).txt',\n",
       " '22_2_SEM_files/rwd_raw\\\\file (1081).txt',\n",
       " '22_2_SEM_files/rwd_raw\\\\file (1082).txt',\n",
       " '22_2_SEM_files/rwd_raw\\\\file (1083).txt',\n",
       " '22_2_SEM_files/rwd_raw\\\\file (1084).txt',\n",
       " '22_2_SEM_files/rwd_raw\\\\file (1085).txt',\n",
       " '22_2_SEM_files/rwd_raw\\\\file (1086).txt',\n",
       " '22_2_SEM_files/rwd_raw\\\\file (1087).txt',\n",
       " '22_2_SEM_files/rwd_raw\\\\file (1088).txt',\n",
       " '22_2_SEM_files/rwd_raw\\\\file (109).txt',\n",
       " '22_2_SEM_files/rwd_raw\\\\file (1090).txt',\n",
       " '22_2_SEM_files/rwd_raw\\\\file (1091).txt',\n",
       " '22_2_SEM_files/rwd_raw\\\\file (1093).txt',\n",
       " '22_2_SEM_files/rwd_raw\\\\file (1094).txt',\n",
       " '22_2_SEM_files/rwd_raw\\\\file (1095).txt',\n",
       " '22_2_SEM_files/rwd_raw\\\\file (1096).txt',\n",
       " '22_2_SEM_files/rwd_raw\\\\file (1097).txt',\n",
       " '22_2_SEM_files/rwd_raw\\\\file (1098).txt',\n",
       " '22_2_SEM_files/rwd_raw\\\\file (1100).txt',\n",
       " '22_2_SEM_files/rwd_raw\\\\file (1102).txt',\n",
       " '22_2_SEM_files/rwd_raw\\\\file (1103).txt']"
      ]
     },
     "execution_count": 7,
     "metadata": {},
     "output_type": "execute_result"
    }
   ],
   "source": [
    "lst_of_txts = list(glob.glob(os.path.join('22_2_SEM_files/rwd_raw', '*.txt')))\n",
    "lst_of_txts"
   ]
  },
  {
   "cell_type": "markdown",
   "id": "pkmzYOBHgbAq",
   "metadata": {
    "id": "pkmzYOBHgbAq"
   },
   "source": [
    "*Функциональный подход*"
   ]
  },
  {
   "cell_type": "code",
   "execution_count": 8,
   "id": "Y7r3skagWfwO",
   "metadata": {
    "ExecuteTime": {
     "end_time": "2024-03-06T18:39:03.770749Z",
     "start_time": "2024-03-06T18:39:03.623892Z"
    },
    "id": "Y7r3skagWfwO"
   },
   "outputs": [],
   "source": [
    "patient_ids = list(map(lambda file_: int(search(r'\\d{3,4}', file_)[0]), lst_of_txts))\n",
    "list_of_epi = list(map(lambda file_: epi_dates_preparation(remover(read_txt(file_))) , lst_of_txts))\n",
    "gender_list = list(map(lambda file_: get_gender(epi_dates_preparation(remover(read_txt(file_)))) , lst_of_txts))"
   ]
  },
  {
   "cell_type": "markdown",
   "id": "-sN2S1ZIgw2v",
   "metadata": {
    "id": "-sN2S1ZIgw2v"
   },
   "source": [
    "### Начнём с таблицы `person`"
   ]
  },
  {
   "cell_type": "code",
   "execution_count": 9,
   "id": "jsekIyFEY54Y",
   "metadata": {
    "ExecuteTime": {
     "end_time": "2024-03-06T18:39:05.241347Z",
     "start_time": "2024-03-06T18:39:05.229355Z"
    },
    "id": "jsekIyFEY54Y"
   },
   "outputs": [],
   "source": [
    "def prepare_person_table(\n",
    "    gender_list,\n",
    "    list_of_epi,\n",
    "    patient_ids,\n",
    "    hospital_days = [],\n",
    "    date_of_birth = []\n",
    "    ):\n",
    "    for file_ in list_of_epi:\n",
    "        admission = findall('\\d{2}-\\d{2}-\\d{4}', file_)[1]\n",
    "        discharge = findall('\\d{2}-\\d{2}-\\d{4}', file_)[-1]\n",
    "        hospital_days.append(\n",
    "            datetime.strptime(discharge, '%d-%m-%Y').date() -\n",
    "            datetime.strptime(admission, '%d-%m-%Y').date())\n",
    "        date_of_birth.append(findall('\\d{2}-\\d{2}-\\d{4}', file_)[0])\n",
    "        data_dct = {'person_id': patient_ids, 'date_of_birth': date_of_birth, 'hospital_days':hospital_days,'sex_concept_id ': gender_list}\n",
    "    df = pd.DataFrame(data_dct)\n",
    "    df = df.replace(r'', np.nan, regex=True)\n",
    "    df['hospital_days'] = df['hospital_days'].dt.days.astype('int16')\n",
    "    df['date_of_birth'] = pd.to_datetime(df.date_of_birth, dayfirst=True)\n",
    "    return df"
   ]
  },
  {
   "cell_type": "code",
   "execution_count": 10,
   "id": "vGF70CyCbEJb",
   "metadata": {
    "ExecuteTime": {
     "end_time": "2024-03-06T18:39:06.406797Z",
     "start_time": "2024-03-06T18:39:06.334981Z"
    },
    "colab": {
     "base_uri": "https://localhost:8080/",
     "height": 1000
    },
    "collapsed": true,
    "executionInfo": {
     "elapsed": 6,
     "status": "ok",
     "timestamp": 1687865061850,
     "user": {
      "displayName": "Alexander Alexeyuk",
      "userId": "03081604251474508209"
     },
     "user_tz": -180
    },
    "id": "vGF70CyCbEJb",
    "outputId": "bbb14f4b-1131-4b38-e271-8c18efacd0cc"
   },
   "outputs": [
    {
     "data": {
      "text/html": [
       "<div>\n",
       "<style scoped>\n",
       "    .dataframe tbody tr th:only-of-type {\n",
       "        vertical-align: middle;\n",
       "    }\n",
       "\n",
       "    .dataframe tbody tr th {\n",
       "        vertical-align: top;\n",
       "    }\n",
       "\n",
       "    .dataframe thead th {\n",
       "        text-align: right;\n",
       "    }\n",
       "</style>\n",
       "<table border=\"1\" class=\"dataframe\">\n",
       "  <thead>\n",
       "    <tr style=\"text-align: right;\">\n",
       "      <th></th>\n",
       "      <th>person_id</th>\n",
       "      <th>date_of_birth</th>\n",
       "      <th>hospital_days</th>\n",
       "      <th>sex_concept_id</th>\n",
       "    </tr>\n",
       "  </thead>\n",
       "  <tbody>\n",
       "    <tr>\n",
       "      <th>0</th>\n",
       "      <td>1067</td>\n",
       "      <td>1978-11-11</td>\n",
       "      <td>11</td>\n",
       "      <td>25</td>\n",
       "    </tr>\n",
       "    <tr>\n",
       "      <th>1</th>\n",
       "      <td>1068</td>\n",
       "      <td>1952-03-28</td>\n",
       "      <td>17</td>\n",
       "      <td>25</td>\n",
       "    </tr>\n",
       "    <tr>\n",
       "      <th>2</th>\n",
       "      <td>1069</td>\n",
       "      <td>1962-11-02</td>\n",
       "      <td>17</td>\n",
       "      <td>25</td>\n",
       "    </tr>\n",
       "    <tr>\n",
       "      <th>3</th>\n",
       "      <td>107</td>\n",
       "      <td>1938-02-24</td>\n",
       "      <td>17</td>\n",
       "      <td>25</td>\n",
       "    </tr>\n",
       "    <tr>\n",
       "      <th>4</th>\n",
       "      <td>1070</td>\n",
       "      <td>1959-11-10</td>\n",
       "      <td>50</td>\n",
       "      <td>25</td>\n",
       "    </tr>\n",
       "    <tr>\n",
       "      <th>5</th>\n",
       "      <td>1071</td>\n",
       "      <td>1942-09-25</td>\n",
       "      <td>18</td>\n",
       "      <td>25</td>\n",
       "    </tr>\n",
       "    <tr>\n",
       "      <th>6</th>\n",
       "      <td>1072</td>\n",
       "      <td>1967-02-21</td>\n",
       "      <td>5</td>\n",
       "      <td>25</td>\n",
       "    </tr>\n",
       "    <tr>\n",
       "      <th>7</th>\n",
       "      <td>1073</td>\n",
       "      <td>1959-02-09</td>\n",
       "      <td>11</td>\n",
       "      <td>25</td>\n",
       "    </tr>\n",
       "    <tr>\n",
       "      <th>8</th>\n",
       "      <td>1074</td>\n",
       "      <td>1961-02-18</td>\n",
       "      <td>45</td>\n",
       "      <td>26</td>\n",
       "    </tr>\n",
       "    <tr>\n",
       "      <th>9</th>\n",
       "      <td>1075</td>\n",
       "      <td>1967-02-20</td>\n",
       "      <td>16</td>\n",
       "      <td>26</td>\n",
       "    </tr>\n",
       "    <tr>\n",
       "      <th>10</th>\n",
       "      <td>1078</td>\n",
       "      <td>1950-08-29</td>\n",
       "      <td>21</td>\n",
       "      <td>26</td>\n",
       "    </tr>\n",
       "    <tr>\n",
       "      <th>11</th>\n",
       "      <td>1079</td>\n",
       "      <td>1962-04-03</td>\n",
       "      <td>28</td>\n",
       "      <td>25</td>\n",
       "    </tr>\n",
       "    <tr>\n",
       "      <th>12</th>\n",
       "      <td>108</td>\n",
       "      <td>1965-07-22</td>\n",
       "      <td>22</td>\n",
       "      <td>26</td>\n",
       "    </tr>\n",
       "    <tr>\n",
       "      <th>13</th>\n",
       "      <td>1080</td>\n",
       "      <td>1961-11-26</td>\n",
       "      <td>9</td>\n",
       "      <td>25</td>\n",
       "    </tr>\n",
       "    <tr>\n",
       "      <th>14</th>\n",
       "      <td>1081</td>\n",
       "      <td>1973-04-13</td>\n",
       "      <td>6</td>\n",
       "      <td>25</td>\n",
       "    </tr>\n",
       "    <tr>\n",
       "      <th>15</th>\n",
       "      <td>1082</td>\n",
       "      <td>1952-04-12</td>\n",
       "      <td>14</td>\n",
       "      <td>26</td>\n",
       "    </tr>\n",
       "    <tr>\n",
       "      <th>16</th>\n",
       "      <td>1083</td>\n",
       "      <td>1944-02-10</td>\n",
       "      <td>5</td>\n",
       "      <td>26</td>\n",
       "    </tr>\n",
       "    <tr>\n",
       "      <th>17</th>\n",
       "      <td>1084</td>\n",
       "      <td>1964-07-04</td>\n",
       "      <td>19</td>\n",
       "      <td>25</td>\n",
       "    </tr>\n",
       "    <tr>\n",
       "      <th>18</th>\n",
       "      <td>1085</td>\n",
       "      <td>1955-05-08</td>\n",
       "      <td>36</td>\n",
       "      <td>26</td>\n",
       "    </tr>\n",
       "    <tr>\n",
       "      <th>19</th>\n",
       "      <td>1086</td>\n",
       "      <td>1960-02-09</td>\n",
       "      <td>13</td>\n",
       "      <td>25</td>\n",
       "    </tr>\n",
       "    <tr>\n",
       "      <th>20</th>\n",
       "      <td>1087</td>\n",
       "      <td>1982-07-26</td>\n",
       "      <td>7</td>\n",
       "      <td>26</td>\n",
       "    </tr>\n",
       "    <tr>\n",
       "      <th>21</th>\n",
       "      <td>1088</td>\n",
       "      <td>1973-08-26</td>\n",
       "      <td>19</td>\n",
       "      <td>25</td>\n",
       "    </tr>\n",
       "    <tr>\n",
       "      <th>22</th>\n",
       "      <td>109</td>\n",
       "      <td>1970-08-09</td>\n",
       "      <td>16</td>\n",
       "      <td>25</td>\n",
       "    </tr>\n",
       "    <tr>\n",
       "      <th>23</th>\n",
       "      <td>1090</td>\n",
       "      <td>1973-06-01</td>\n",
       "      <td>32</td>\n",
       "      <td>26</td>\n",
       "    </tr>\n",
       "    <tr>\n",
       "      <th>24</th>\n",
       "      <td>1091</td>\n",
       "      <td>1961-09-08</td>\n",
       "      <td>12</td>\n",
       "      <td>25</td>\n",
       "    </tr>\n",
       "    <tr>\n",
       "      <th>25</th>\n",
       "      <td>1093</td>\n",
       "      <td>1957-05-25</td>\n",
       "      <td>52</td>\n",
       "      <td>25</td>\n",
       "    </tr>\n",
       "    <tr>\n",
       "      <th>26</th>\n",
       "      <td>1094</td>\n",
       "      <td>1946-06-26</td>\n",
       "      <td>10</td>\n",
       "      <td>25</td>\n",
       "    </tr>\n",
       "    <tr>\n",
       "      <th>27</th>\n",
       "      <td>1095</td>\n",
       "      <td>1937-02-22</td>\n",
       "      <td>19</td>\n",
       "      <td>25</td>\n",
       "    </tr>\n",
       "    <tr>\n",
       "      <th>28</th>\n",
       "      <td>1096</td>\n",
       "      <td>1947-02-20</td>\n",
       "      <td>12</td>\n",
       "      <td>26</td>\n",
       "    </tr>\n",
       "    <tr>\n",
       "      <th>29</th>\n",
       "      <td>1097</td>\n",
       "      <td>1946-03-02</td>\n",
       "      <td>26</td>\n",
       "      <td>26</td>\n",
       "    </tr>\n",
       "    <tr>\n",
       "      <th>30</th>\n",
       "      <td>1098</td>\n",
       "      <td>1986-01-22</td>\n",
       "      <td>31</td>\n",
       "      <td>26</td>\n",
       "    </tr>\n",
       "    <tr>\n",
       "      <th>31</th>\n",
       "      <td>1100</td>\n",
       "      <td>1964-01-20</td>\n",
       "      <td>16</td>\n",
       "      <td>25</td>\n",
       "    </tr>\n",
       "    <tr>\n",
       "      <th>32</th>\n",
       "      <td>1102</td>\n",
       "      <td>1984-11-10</td>\n",
       "      <td>14</td>\n",
       "      <td>25</td>\n",
       "    </tr>\n",
       "    <tr>\n",
       "      <th>33</th>\n",
       "      <td>1103</td>\n",
       "      <td>1995-02-01</td>\n",
       "      <td>25</td>\n",
       "      <td>25</td>\n",
       "    </tr>\n",
       "  </tbody>\n",
       "</table>\n",
       "</div>"
      ],
      "text/plain": [
       "    person_id date_of_birth  hospital_days  sex_concept_id \n",
       "0        1067    1978-11-11             11               25\n",
       "1        1068    1952-03-28             17               25\n",
       "2        1069    1962-11-02             17               25\n",
       "3         107    1938-02-24             17               25\n",
       "4        1070    1959-11-10             50               25\n",
       "5        1071    1942-09-25             18               25\n",
       "6        1072    1967-02-21              5               25\n",
       "7        1073    1959-02-09             11               25\n",
       "8        1074    1961-02-18             45               26\n",
       "9        1075    1967-02-20             16               26\n",
       "10       1078    1950-08-29             21               26\n",
       "11       1079    1962-04-03             28               25\n",
       "12        108    1965-07-22             22               26\n",
       "13       1080    1961-11-26              9               25\n",
       "14       1081    1973-04-13              6               25\n",
       "15       1082    1952-04-12             14               26\n",
       "16       1083    1944-02-10              5               26\n",
       "17       1084    1964-07-04             19               25\n",
       "18       1085    1955-05-08             36               26\n",
       "19       1086    1960-02-09             13               25\n",
       "20       1087    1982-07-26              7               26\n",
       "21       1088    1973-08-26             19               25\n",
       "22        109    1970-08-09             16               25\n",
       "23       1090    1973-06-01             32               26\n",
       "24       1091    1961-09-08             12               25\n",
       "25       1093    1957-05-25             52               25\n",
       "26       1094    1946-06-26             10               25\n",
       "27       1095    1937-02-22             19               25\n",
       "28       1096    1947-02-20             12               26\n",
       "29       1097    1946-03-02             26               26\n",
       "30       1098    1986-01-22             31               26\n",
       "31       1100    1964-01-20             16               25\n",
       "32       1102    1984-11-10             14               25\n",
       "33       1103    1995-02-01             25               25"
      ]
     },
     "execution_count": 10,
     "metadata": {},
     "output_type": "execute_result"
    }
   ],
   "source": [
    "patient_table = prepare_person_table(gender_list = gender_list,\n",
    "                          list_of_epi = list_of_epi,\n",
    "                          patient_ids = patient_ids)\n",
    "patient_table"
   ]
  },
  {
   "cell_type": "code",
   "execution_count": 11,
   "id": "dE8fd4yEgkMz",
   "metadata": {
    "ExecuteTime": {
     "end_time": "2024-03-06T18:39:31.622848Z",
     "start_time": "2024-03-06T18:39:31.600903Z"
    },
    "id": "dE8fd4yEgkMz"
   },
   "outputs": [],
   "source": [
    "patient_table.to_csv('22_2_SEM_files/self_data_prep/person.csv', index=False)"
   ]
  },
  {
   "cell_type": "markdown",
   "id": "bXA6dKMthL7g",
   "metadata": {
    "id": "bXA6dKMthL7g"
   },
   "source": [
    "### Создание файла для таблицы `measurement`"
   ]
  },
  {
   "cell_type": "markdown",
   "id": "sejoSFT2eNh9",
   "metadata": {
    "id": "sejoSFT2eNh9"
   },
   "source": [
    "\n",
    "\n",
    "```\n",
    "CREATE TABLE gb_rwd.measurement (\n",
    "  measurement_id int, -- первичный ключ\n",
    "  measurement_concept_id int, -- вторичный ключ\n",
    "  measurement_date date,\n",
    "  value float,\n",
    "  person_id int -- вторичный ключ\n",
    ");\n",
    "```\n",
    "\n"
   ]
  },
  {
   "cell_type": "markdown",
   "id": "Cpff654ChWzy",
   "metadata": {
    "id": "Cpff654ChWzy"
   },
   "source": [
    "Для того, чтобы сделать процесс формирования таблицы более программатичным,\n",
    "создадим словарь где ключ - название анализа, а значение это словарь в котором ключ тип исследования, а значение это идентификатор"
   ]
  },
  {
   "cell_type": "code",
   "execution_count": 12,
   "id": "0ia6NNcocRs1",
   "metadata": {
    "ExecuteTime": {
     "end_time": "2024-03-06T18:39:33.865453Z",
     "start_time": "2024-03-06T18:39:33.856171Z"
    },
    "id": "0ia6NNcocRs1"
   },
   "outputs": [],
   "source": [
    "measurements_map = {\n",
    "    'фибриноген': {'гемостазиограмма': 6},\n",
    "    'креатинин': {'биохимическоеисследованиекрови': 7},\n",
    "    'лейкоциты': {'общийанализкрови': 8},\n",
    "    'гемоглобин': {'общийанализкрови': 9},\n",
    "    'тромбоциты': {'общийанализкрови': 10},\n",
    "    '.-реактивныйбелок': {'биохимическоеисследованиекрови': 11},\n",
    "    'соэ': {'общийанализкрови': 12},\n",
    "    'лимфоциты': {'общийанализкрови': 13}\n",
    "    ,'прокальцитонин': {'ифаанализ': 27}\n",
    "}"
   ]
  },
  {
   "cell_type": "code",
   "execution_count": 13,
   "id": "Ut8BONpLhQl0",
   "metadata": {
    "ExecuteTime": {
     "end_time": "2024-03-06T18:39:34.636631Z",
     "start_time": "2024-03-06T18:39:34.622559Z"
    },
    "colab": {
     "base_uri": "https://localhost:8080/"
    },
    "collapsed": true,
    "executionInfo": {
     "elapsed": 258,
     "status": "ok",
     "timestamp": 1692981053079,
     "user": {
      "displayName": "Alexander Alexeyuk",
      "userId": "03081604251474508209"
     },
     "user_tz": -180
    },
    "id": "Ut8BONpLhQl0",
    "outputId": "e289c683-06d4-494a-f888-d3896a9c65fe"
   },
   "outputs": [
    {
     "name": "stdout",
     "output_type": "stream",
     "text": [
      "{'гемостазиограмма': 6} 6\n",
      "{'биохимическоеисследованиекрови': 7} 7\n",
      "{'общийанализкрови': 8} 8\n",
      "{'общийанализкрови': 9} 9\n",
      "{'общийанализкрови': 10} 10\n",
      "{'биохимическоеисследованиекрови': 11} 11\n",
      "{'общийанализкрови': 12} 12\n",
      "{'общийанализкрови': 13} 13\n",
      "{'ифаанализ': 27} 27\n"
     ]
    }
   ],
   "source": [
    "for measurement_name , sub_dict in measurements_map.items():\n",
    "    for measurement_type, measurement_concept_id_ in sub_dict.items():\n",
    "      print(sub_dict, measurement_concept_id_)"
   ]
  },
  {
   "cell_type": "code",
   "execution_count": 14,
   "id": "lH6Ld9RT1zye",
   "metadata": {
    "ExecuteTime": {
     "end_time": "2024-03-06T18:39:39.070878Z",
     "start_time": "2024-03-06T18:39:39.060937Z"
    },
    "code_folding": [],
    "id": "lH6Ld9RT1zye"
   },
   "outputs": [],
   "source": [
    "def measurements_template(\n",
    "    list_of_epicrisis,\n",
    "    patient_ids,\n",
    "    measurements_map,\n",
    "    measurement_id = [],\n",
    "    measurement_date  = [],\n",
    "    measurement_concept_id = [],\n",
    "    patient_id = [],\n",
    "    value = []\n",
    "    ):\n",
    "  for measurement_name , sub_dict in measurements_map.items():\n",
    "    for measurement_type, concept_id in sub_dict.items():\n",
    "        for file_, patient_id_ in zip(list_of_epicrisis, patient_ids):\n",
    "            pattern0 = ''.join(['r(\\d{2}-\\d{2}-\\d{4})(', measurement_type, ')'])\n",
    "            file_ = sub(pattern0, r'\\2\\1', file_)\n",
    "            pattern1 = ''.join(['(?<=', measurement_type, ')', '(\\d{2}-\\d{2}-\\d{4}|)'])\n",
    "            for date in findall(pattern1, file_):\n",
    "              measurement_date .append(date)\n",
    "              patient_id.append(patient_id_)\n",
    "              measurement_concept_id.append(concept_id)\n",
    "            pattern2 = ''.join(['(', measurement_type, ')', '(\\d{2}-\\d{2}-\\d{4}|)'])\n",
    "            file_1 = sub(pattern2, r'\\2\\1', file_)\n",
    "            pattern3 = ''.join(['(', measurement_type, '.*?)', '(?=\\d{2}-\\d{2}-\\d{4})'])\n",
    "            for value_ in findall(pattern3, file_1):\n",
    "              value_ = sub(''.join(['(.*)(', measurement_name, ')', '(\\d.\\d*)']), r'\\3\\2\\1', value_)\n",
    "              value_ = sub(''.join(['(', measurement_name, '|', measurement_type, ').*']) , '', value_)\n",
    "              value_ = re.sub('[^0-9.]|х10|x10', '', value_)\n",
    "\n",
    "              if value_:\n",
    "                  value.append(value_)\n",
    "              else:\n",
    "                  value.append('NA')\n",
    "\n",
    "  data_dct = {'person_id': patient_id, 'measurement_concept_id': measurement_concept_id,\n",
    "                      'measurement_date': measurement_date ,'value': value}\n",
    "  df = pd.DataFrame.from_dict(data_dct, orient='index')\n",
    "\n",
    "  df = df.transpose()\n",
    "  df['measurement_id'] = df.index + 1\n",
    "  df = df[df.measurement_date != '']\n",
    "  df = df[df.value != 'NA']\n",
    "  df['measurement_date'] = pd.to_datetime(df.measurement_date)\n",
    "\n",
    "  return df"
   ]
  },
  {
   "cell_type": "code",
   "execution_count": 15,
   "id": "0Mc68ST1JtiJ",
   "metadata": {
    "ExecuteTime": {
     "end_time": "2024-03-06T18:39:41.500652Z",
     "start_time": "2024-03-06T18:39:40.016997Z"
    },
    "colab": {
     "base_uri": "https://localhost:8080/",
     "height": 494
    },
    "collapsed": true,
    "executionInfo": {
     "elapsed": 3561,
     "status": "ok",
     "timestamp": 1687851001138,
     "user": {
      "displayName": "Alexander Alexeyuk",
      "userId": "03081604251474508209"
     },
     "user_tz": -180
    },
    "id": "0Mc68ST1JtiJ",
    "outputId": "6b15420e-56fa-4cb2-d269-f2af8af53229"
   },
   "outputs": [
    {
     "data": {
      "text/html": [
       "<div>\n",
       "<style scoped>\n",
       "    .dataframe tbody tr th:only-of-type {\n",
       "        vertical-align: middle;\n",
       "    }\n",
       "\n",
       "    .dataframe tbody tr th {\n",
       "        vertical-align: top;\n",
       "    }\n",
       "\n",
       "    .dataframe thead th {\n",
       "        text-align: right;\n",
       "    }\n",
       "</style>\n",
       "<table border=\"1\" class=\"dataframe\">\n",
       "  <thead>\n",
       "    <tr style=\"text-align: right;\">\n",
       "      <th></th>\n",
       "      <th>person_id</th>\n",
       "      <th>measurement_concept_id</th>\n",
       "      <th>measurement_date</th>\n",
       "      <th>value</th>\n",
       "      <th>measurement_id</th>\n",
       "    </tr>\n",
       "  </thead>\n",
       "  <tbody>\n",
       "    <tr>\n",
       "      <th>0</th>\n",
       "      <td>1067</td>\n",
       "      <td>6</td>\n",
       "      <td>2020-12-14</td>\n",
       "      <td>4.8</td>\n",
       "      <td>1</td>\n",
       "    </tr>\n",
       "    <tr>\n",
       "      <th>1</th>\n",
       "      <td>1068</td>\n",
       "      <td>6</td>\n",
       "      <td>2020-12-14</td>\n",
       "      <td>6.38</td>\n",
       "      <td>2</td>\n",
       "    </tr>\n",
       "    <tr>\n",
       "      <th>2</th>\n",
       "      <td>1069</td>\n",
       "      <td>6</td>\n",
       "      <td>2020-12-13</td>\n",
       "      <td>5.9</td>\n",
       "      <td>3</td>\n",
       "    </tr>\n",
       "    <tr>\n",
       "      <th>3</th>\n",
       "      <td>107</td>\n",
       "      <td>6</td>\n",
       "      <td>2021-01-20</td>\n",
       "      <td>2.42</td>\n",
       "      <td>4</td>\n",
       "    </tr>\n",
       "    <tr>\n",
       "      <th>4</th>\n",
       "      <td>107</td>\n",
       "      <td>6</td>\n",
       "      <td>2021-01-21</td>\n",
       "      <td>4</td>\n",
       "      <td>5</td>\n",
       "    </tr>\n",
       "    <tr>\n",
       "      <th>...</th>\n",
       "      <td>...</td>\n",
       "      <td>...</td>\n",
       "      <td>...</td>\n",
       "      <td>...</td>\n",
       "      <td>...</td>\n",
       "    </tr>\n",
       "    <tr>\n",
       "      <th>1490</th>\n",
       "      <td>1102</td>\n",
       "      <td>27</td>\n",
       "      <td>2020-12-24</td>\n",
       "      <td>None</td>\n",
       "      <td>1491</td>\n",
       "    </tr>\n",
       "    <tr>\n",
       "      <th>1491</th>\n",
       "      <td>1103</td>\n",
       "      <td>27</td>\n",
       "      <td>2020-12-21</td>\n",
       "      <td>None</td>\n",
       "      <td>1492</td>\n",
       "    </tr>\n",
       "    <tr>\n",
       "      <th>1492</th>\n",
       "      <td>1103</td>\n",
       "      <td>27</td>\n",
       "      <td>2020-12-21</td>\n",
       "      <td>None</td>\n",
       "      <td>1493</td>\n",
       "    </tr>\n",
       "    <tr>\n",
       "      <th>1493</th>\n",
       "      <td>1103</td>\n",
       "      <td>27</td>\n",
       "      <td>2020-12-22</td>\n",
       "      <td>None</td>\n",
       "      <td>1494</td>\n",
       "    </tr>\n",
       "    <tr>\n",
       "      <th>1494</th>\n",
       "      <td>1103</td>\n",
       "      <td>27</td>\n",
       "      <td>2020-12-28</td>\n",
       "      <td>None</td>\n",
       "      <td>1495</td>\n",
       "    </tr>\n",
       "  </tbody>\n",
       "</table>\n",
       "<p>1272 rows × 5 columns</p>\n",
       "</div>"
      ],
      "text/plain": [
       "     person_id measurement_concept_id measurement_date value  measurement_id\n",
       "0         1067                      6       2020-12-14   4.8               1\n",
       "1         1068                      6       2020-12-14  6.38               2\n",
       "2         1069                      6       2020-12-13   5.9               3\n",
       "3          107                      6       2021-01-20  2.42               4\n",
       "4          107                      6       2021-01-21     4               5\n",
       "...        ...                    ...              ...   ...             ...\n",
       "1490      1102                     27       2020-12-24  None            1491\n",
       "1491      1103                     27       2020-12-21  None            1492\n",
       "1492      1103                     27       2020-12-21  None            1493\n",
       "1493      1103                     27       2020-12-22  None            1494\n",
       "1494      1103                     27       2020-12-28  None            1495\n",
       "\n",
       "[1272 rows x 5 columns]"
      ]
     },
     "execution_count": 15,
     "metadata": {},
     "output_type": "execute_result"
    }
   ],
   "source": [
    "measurement_data = measurements_template(list_of_epicrisis = list_of_epi, patient_ids = patient_ids, measurements_map = measurements_map)\n",
    "measurement_data"
   ]
  },
  {
   "cell_type": "code",
   "execution_count": 16,
   "id": "nPpB07vTM3Zl",
   "metadata": {
    "ExecuteTime": {
     "end_time": "2024-03-06T18:39:49.743723Z",
     "start_time": "2024-03-06T18:39:49.724766Z"
    },
    "id": "nPpB07vTM3Zl"
   },
   "outputs": [],
   "source": [
    "measurement_data.to_csv('22_2_SEM_files/self_data_prep/measurements.csv', index=False)"
   ]
  },
  {
   "cell_type": "markdown",
   "id": "nMJ73FwhixZG",
   "metadata": {
    "id": "nMJ73FwhixZG"
   },
   "source": [
    "Учитывая, что ошибки в написании препаратов это нередкость и препараты могут иметь разные коммерческие названия, тогда наша задача сделать \"маппинг\" этих препаратов к ингредиенту."
   ]
  },
  {
   "cell_type": "code",
   "execution_count": 17,
   "id": "Q2PA8jwvkGBv",
   "metadata": {
    "ExecuteTime": {
     "end_time": "2024-03-06T18:39:52.121841Z",
     "start_time": "2024-03-06T18:39:52.107882Z"
    },
    "id": "Q2PA8jwvkGBv"
   },
   "outputs": [],
   "source": [
    "treatment_map = {\n",
    "    'лизиноприл':{'л.з.....ил|лизитар|лизинеоприл|лизоретик|диротон': 20},\n",
    "    'цефтриаксон':{'три.....ф|цефт.....он|цефтриакосн': 16},\n",
    "    \"бисопролол\":{\"б.с.пр..ол|бисопралдол|бикард|конкор\": 21},\n",
    "     \"аспирин\": {\"аспкиард|кардиомагнил|ас....рд\": 22},\n",
    "     \"дексаметазон\": {\"декс.......н|дексаетазон\": 15},\n",
    "     \"азитромицин\": {\"азит.......\": 18},\n",
    "    'гепарин': {'гепарин': 19 }\n",
    "}"
   ]
  },
  {
   "cell_type": "markdown",
   "id": "k22MiFKGL4yZ",
   "metadata": {
    "id": "k22MiFKGL4yZ"
   },
   "source": [
    "\n",
    "\n",
    "```\n",
    "CREATE TABLE gb_rwd.drug (\n",
    "  drug_id int, -- первичный ключ\n",
    "  drug_concept_id int, -- вторичный ключ\n",
    "  drug_date date,\n",
    "  person_id int -- вторичный ключ\n",
    ");\n",
    "```\n",
    "\n"
   ]
  },
  {
   "cell_type": "code",
   "execution_count": 18,
   "id": "fMaCVSYqK4jO",
   "metadata": {
    "ExecuteTime": {
     "end_time": "2024-03-06T18:39:54.265685Z",
     "start_time": "2024-03-06T18:39:54.244565Z"
    },
    "id": "fMaCVSYqK4jO"
   },
   "outputs": [],
   "source": [
    "def treatment_detection(\n",
    "    list_of_epicrisis,\n",
    "    patient_ids,\n",
    "    treatment_map,\n",
    "    drug_date  = [],\n",
    "    drug_concept_id = [],\n",
    "    patient_id = []\n",
    "    ):\n",
    "  for drug_name , sub_dct in treatment_map.items():\n",
    "    for variations, drug_id in    sub_dct.items():\n",
    "      for file_, patient_id_ in zip(list_of_epicrisis, patient_ids):\n",
    "        file_ = sub(variations, drug_name, file_)\n",
    "        if drug_name in  file_:\n",
    "          drug_date.append(findall('\\d{2}-\\d{2}-\\d{4}', file_)[-1])\n",
    "          drug_concept_id.append(drug_id)\n",
    "          patient_id.append(patient_id_)\n",
    "    data_dct = {'person_id': patient_id, 'drug_concept_id': drug_concept_id,\n",
    "                      'drug_date': drug_date }\n",
    "  df = pd.DataFrame(data_dct)\n",
    "  df['drug_id'] = df.index + 1\n",
    "  df['drug_date'] = pd.to_datetime(df.drug_date)\n",
    "  return(df)"
   ]
  },
  {
   "cell_type": "code",
   "execution_count": 19,
   "id": "lB4JOa2tNi4-",
   "metadata": {
    "ExecuteTime": {
     "end_time": "2024-03-06T18:39:55.631040Z",
     "start_time": "2024-03-06T18:39:55.589789Z"
    },
    "colab": {
     "base_uri": "https://localhost:8080/"
    },
    "executionInfo": {
     "elapsed": 345,
     "status": "ok",
     "timestamp": 1687697769180,
     "user": {
      "displayName": "Alexander Alexeyuk",
      "userId": "03081604251474508209"
     },
     "user_tz": -180
    },
    "id": "lB4JOa2tNi4-",
    "outputId": "a49ca690-e2a1-4342-a715-4d2e1f828e9f"
   },
   "outputs": [],
   "source": [
    "drug_data = treatment_detection(\n",
    "    list_of_epicrisis = list_of_epi,\n",
    "    patient_ids = patient_ids,\n",
    "     treatment_map = treatment_map\n",
    ")"
   ]
  },
  {
   "cell_type": "code",
   "execution_count": 20,
   "id": "b30fb9d3",
   "metadata": {
    "ExecuteTime": {
     "end_time": "2024-03-06T18:39:56.529348Z",
     "start_time": "2024-03-06T18:39:56.512361Z"
    },
    "collapsed": true
   },
   "outputs": [
    {
     "data": {
      "text/html": [
       "<div>\n",
       "<style scoped>\n",
       "    .dataframe tbody tr th:only-of-type {\n",
       "        vertical-align: middle;\n",
       "    }\n",
       "\n",
       "    .dataframe tbody tr th {\n",
       "        vertical-align: top;\n",
       "    }\n",
       "\n",
       "    .dataframe thead th {\n",
       "        text-align: right;\n",
       "    }\n",
       "</style>\n",
       "<table border=\"1\" class=\"dataframe\">\n",
       "  <thead>\n",
       "    <tr style=\"text-align: right;\">\n",
       "      <th></th>\n",
       "      <th>person_id</th>\n",
       "      <th>drug_concept_id</th>\n",
       "      <th>drug_date</th>\n",
       "      <th>drug_id</th>\n",
       "    </tr>\n",
       "  </thead>\n",
       "  <tbody>\n",
       "    <tr>\n",
       "      <th>0</th>\n",
       "      <td>1073</td>\n",
       "      <td>20</td>\n",
       "      <td>2020-12-24</td>\n",
       "      <td>1</td>\n",
       "    </tr>\n",
       "    <tr>\n",
       "      <th>1</th>\n",
       "      <td>1079</td>\n",
       "      <td>20</td>\n",
       "      <td>2021-01-12</td>\n",
       "      <td>2</td>\n",
       "    </tr>\n",
       "    <tr>\n",
       "      <th>2</th>\n",
       "      <td>1097</td>\n",
       "      <td>20</td>\n",
       "      <td>2021-01-14</td>\n",
       "      <td>3</td>\n",
       "    </tr>\n",
       "    <tr>\n",
       "      <th>3</th>\n",
       "      <td>1070</td>\n",
       "      <td>16</td>\n",
       "      <td>2021-02-01</td>\n",
       "      <td>4</td>\n",
       "    </tr>\n",
       "    <tr>\n",
       "      <th>4</th>\n",
       "      <td>1072</td>\n",
       "      <td>16</td>\n",
       "      <td>2020-12-18</td>\n",
       "      <td>5</td>\n",
       "    </tr>\n",
       "    <tr>\n",
       "      <th>...</th>\n",
       "      <td>...</td>\n",
       "      <td>...</td>\n",
       "      <td>...</td>\n",
       "      <td>...</td>\n",
       "    </tr>\n",
       "    <tr>\n",
       "      <th>79</th>\n",
       "      <td>1094</td>\n",
       "      <td>19</td>\n",
       "      <td>2020-12-28</td>\n",
       "      <td>80</td>\n",
       "    </tr>\n",
       "    <tr>\n",
       "      <th>80</th>\n",
       "      <td>1096</td>\n",
       "      <td>19</td>\n",
       "      <td>2020-12-30</td>\n",
       "      <td>81</td>\n",
       "    </tr>\n",
       "    <tr>\n",
       "      <th>81</th>\n",
       "      <td>1098</td>\n",
       "      <td>19</td>\n",
       "      <td>2021-01-19</td>\n",
       "      <td>82</td>\n",
       "    </tr>\n",
       "    <tr>\n",
       "      <th>82</th>\n",
       "      <td>1100</td>\n",
       "      <td>19</td>\n",
       "      <td>2021-01-04</td>\n",
       "      <td>83</td>\n",
       "    </tr>\n",
       "    <tr>\n",
       "      <th>83</th>\n",
       "      <td>1102</td>\n",
       "      <td>19</td>\n",
       "      <td>2021-01-04</td>\n",
       "      <td>84</td>\n",
       "    </tr>\n",
       "  </tbody>\n",
       "</table>\n",
       "<p>84 rows × 4 columns</p>\n",
       "</div>"
      ],
      "text/plain": [
       "    person_id  drug_concept_id  drug_date  drug_id\n",
       "0        1073               20 2020-12-24        1\n",
       "1        1079               20 2021-01-12        2\n",
       "2        1097               20 2021-01-14        3\n",
       "3        1070               16 2021-02-01        4\n",
       "4        1072               16 2020-12-18        5\n",
       "..        ...              ...        ...      ...\n",
       "79       1094               19 2020-12-28       80\n",
       "80       1096               19 2020-12-30       81\n",
       "81       1098               19 2021-01-19       82\n",
       "82       1100               19 2021-01-04       83\n",
       "83       1102               19 2021-01-04       84\n",
       "\n",
       "[84 rows x 4 columns]"
      ]
     },
     "execution_count": 20,
     "metadata": {},
     "output_type": "execute_result"
    }
   ],
   "source": [
    "drug_data"
   ]
  },
  {
   "cell_type": "code",
   "execution_count": 21,
   "id": "pAIlR_1rih5x",
   "metadata": {
    "ExecuteTime": {
     "end_time": "2024-03-06T18:40:00.939105Z",
     "start_time": "2024-03-06T18:40:00.930129Z"
    },
    "id": "pAIlR_1rih5x",
    "scrolled": true
   },
   "outputs": [],
   "source": [
    "drug_data.to_csv('22_2_SEM_files/self_data_prep/drugs.csv', index=False)"
   ]
  },
  {
   "cell_type": "markdown",
   "id": "Qp5YIzA_mZ-S",
   "metadata": {
    "id": "Qp5YIzA_mZ-S"
   },
   "source": [
    "Сейчас поработаем с доменом \"Заболевания\""
   ]
  },
  {
   "cell_type": "code",
   "execution_count": 22,
   "id": "yZEYtlhWoGBz",
   "metadata": {
    "ExecuteTime": {
     "end_time": "2024-03-06T18:40:02.875613Z",
     "start_time": "2024-03-06T18:40:02.863645Z"
    },
    "id": "yZEYtlhWoGBz"
   },
   "outputs": [],
   "source": [
    "condition_procedures_map = {\n",
    "    1:\t{'Внегоспитальная пневмония': 'пне...ния|внегоспитальная|внебольничная'},\n",
    "    2:\t{'Ишемическая болезнь сердца': 'ссн|ибс|атеросклеротический|кардиосклероз|фп|фибрил....' },\n",
    "    3:\t{'Сахарный диабет': 'д.абет|сдтип|сд2|сд1|сах.....'},\n",
    "    4:\t{'Коронавирусная инфекция': 'covid19|коронавирусная|b34|sarscov2'},\n",
    "    5:\t{'Артериальная гипертензия': 'аг\\d|агi|артериальнаягипер '},\n",
    "    23:\t{'Рентгелологическое исследование грудной клетки': 'rgогк|ргогк'},\n",
    "    24:\t{'Электрокардиография': 'экг|электрокардио'}\n",
    "}"
   ]
  },
  {
   "cell_type": "code",
   "execution_count": 23,
   "id": "23R-tzOmNs93",
   "metadata": {
    "ExecuteTime": {
     "end_time": "2024-03-06T18:40:04.724278Z",
     "start_time": "2024-03-06T18:40:04.707186Z"
    },
    "id": "23R-tzOmNs93"
   },
   "outputs": [],
   "source": [
    "def condition_detection(\n",
    "    list_of_epicrisis,\n",
    "    patient_ids,\n",
    "    condition_map,\n",
    "    condition_date  = [],\n",
    "    condition_concept_id = [],\n",
    "    patient_id = []\n",
    "    ):\n",
    "  for concept_id , sub_dct in condition_map.items():\n",
    "    if concept_id < 6:\n",
    "      for condition, variations in  sub_dct.items():\n",
    "        for file_, patient_id_ in zip(list_of_epicrisis, patient_ids):\n",
    "          file_ = sub(variations, condition, file_)\n",
    "          if condition in  file_:\n",
    "            condition_date.append(findall('\\d{2}-\\d{2}-\\d{4}', file_)[-1])\n",
    "            condition_concept_id.append(concept_id)\n",
    "            patient_id.append(patient_id_)\n",
    "    data_dct = {'person_id': patient_id, 'condition_concept_id': condition_concept_id,\n",
    "                      'condition_date': condition_date }\n",
    "  df = pd.DataFrame(data_dct)\n",
    "  df['condition_id'] = df.index + 1\n",
    "  df['condition_date'] = pd.to_datetime(df.condition_date)\n",
    "  return(df)"
   ]
  },
  {
   "cell_type": "code",
   "execution_count": 24,
   "id": "DRBW0Rx6rQ6F",
   "metadata": {
    "ExecuteTime": {
     "end_time": "2024-03-06T18:40:05.811015Z",
     "start_time": "2024-03-06T18:40:05.760659Z"
    },
    "colab": {
     "base_uri": "https://localhost:8080/"
    },
    "executionInfo": {
     "elapsed": 235,
     "status": "ok",
     "timestamp": 1687697813419,
     "user": {
      "displayName": "Alexander Alexeyuk",
      "userId": "03081604251474508209"
     },
     "user_tz": -180
    },
    "id": "DRBW0Rx6rQ6F",
    "outputId": "412403da-e322-49e8-e71c-bc4aa65db941"
   },
   "outputs": [],
   "source": [
    "condition_data = condition_detection(\n",
    "    list_of_epicrisis = list_of_epi,\n",
    "    patient_ids = patient_ids,\n",
    "     condition_map = condition_procedures_map\n",
    ")\n",
    "condition_data.to_csv('22_2_SEM_files/self_data_prep/conditions.csv', index=False)"
   ]
  },
  {
   "cell_type": "code",
   "execution_count": 25,
   "id": "I3w5j3oWVzSI",
   "metadata": {
    "ExecuteTime": {
     "end_time": "2024-03-06T18:40:09.771860Z",
     "start_time": "2024-03-06T18:40:09.754906Z"
    },
    "id": "I3w5j3oWVzSI"
   },
   "outputs": [],
   "source": [
    "def procedures_detection(\n",
    "    list_of_epicrisis,\n",
    "    patient_ids,\n",
    "    procedure_map,\n",
    "    procedure_date  = [],\n",
    "    procedure_concept_id = [],\n",
    "    patient_id = []\n",
    "    ):\n",
    "  for concept_id , sub_dct in procedure_map.items():\n",
    "    if concept_id > 6:\n",
    "      for procedure, variations in  sub_dct.items():\n",
    "        for file_, patient_id_ in zip(list_of_epicrisis, patient_ids):\n",
    "          file_ = sub(variations, procedure, file_)\n",
    "          if procedure in  file_:\n",
    "            procedure_date.append(findall('\\d{2}-\\d{2}-\\d{4}', file_)[-1])\n",
    "            procedure_concept_id.append(concept_id)\n",
    "            patient_id.append(patient_id_)\n",
    "    data_dct = {'person_id': patient_id, 'procedure_concept_id': procedure_concept_id,\n",
    "                      'procedure_date': procedure_date}\n",
    "  df = pd.DataFrame(data_dct)\n",
    "  df['procedure_id'] = df.index + 1\n",
    "  df['procedure_date'] = pd.to_datetime(df.procedure_date)\n",
    "  return(df)"
   ]
  },
  {
   "cell_type": "code",
   "execution_count": 26,
   "id": "2nHhZNy5VzQQ",
   "metadata": {
    "ExecuteTime": {
     "end_time": "2024-03-06T18:40:11.219811Z",
     "start_time": "2024-03-06T18:40:11.203853Z"
    },
    "colab": {
     "base_uri": "https://localhost:8080/"
    },
    "executionInfo": {
     "elapsed": 2,
     "status": "ok",
     "timestamp": 1687697787913,
     "user": {
      "displayName": "Alexander Alexeyuk",
      "userId": "03081604251474508209"
     },
     "user_tz": -180
    },
    "id": "2nHhZNy5VzQQ",
    "outputId": "ed6f37f4-7620-458d-c6d3-68bd46cd912e"
   },
   "outputs": [],
   "source": [
    "procedures_data = procedures_detection(\n",
    "    list_of_epicrisis = list_of_epi,\n",
    "    patient_ids = patient_ids,\n",
    "    procedure_map = condition_procedures_map\n",
    ")\n",
    "procedures_data.to_csv('22_2_SEM_files/self_data_prep/procedures.csv', index=False)"
   ]
  },
  {
   "cell_type": "markdown",
   "id": "b59a3d1c",
   "metadata": {},
   "source": [
    "Импортируем данные в нашу базу данных"
   ]
  },
  {
   "cell_type": "markdown",
   "id": "-4H6HbTLm-Pb",
   "metadata": {
    "id": "-4H6HbTLm-Pb"
   },
   "source": [
    "### Продвинутый уровень\n",
    "\n",
    "1.   Создать класс EpicPars\n",
    "2.   Создать документацию для пользователя\n",
    "3.   Сделать пример использования вашего импортируемого класса\n",
    "\n",
    "\n",
    "***Необходимо отметить, что написание документации - важнейший навык в работе, т.к. ваши коллеги не имеют тот же опыт, что и вы. Поэтому понимать и использовать ваш код будут только в том случае, если есть понимание того, что и зачем происходит и как этим пользоваться.***"
   ]
  },
  {
   "cell_type": "markdown",
   "id": "CSWgrSK-vUYz",
   "metadata": {
    "id": "CSWgrSK-vUYz"
   },
   "source": [
    "Пример документации и R\n",
    "\n",
    "Для нас будет приемлимо написать по-русски, объяснить что происходит, какие есть атрибуты, методы и т.д."
   ]
  },
  {
   "cell_type": "markdown",
   "id": "8SiJ-yTYvDVP",
   "metadata": {
    "id": "8SiJ-yTYvDVP"
   },
   "source": [
    "\n",
    "\n",
    "```\n",
    "Return the First or Last Parts of an Object\n",
    "Description\n",
    "Returns the first or last parts of a vector, matrix, table, data frame or function. Since head() and tail() are generic functions, they may also have been extended to other classes.\n",
    "\n",
    "Usage\n",
    "head(x, ...)\n",
    "## Default S3 method:\n",
    "head(x, n = 6L, ...)\n",
    "\n",
    "## S3 method for class 'matrix'\n",
    "head(x, n = 6L, ...) # is exported as head.matrix()\n",
    "## NB: The methods for 'data.frame' and 'array'  are identical to the 'matrix' one\n",
    "\n",
    "## S3 method for class 'ftable'\n",
    "head(x, n = 6L, ...)\n",
    "## S3 method for class 'function'\n",
    "head(x, n = 6L, ...)\n",
    "\n",
    "\n",
    "tail(x, ...)\n",
    "## Default S3 method:\n",
    "tail(x, n = 6L, keepnums = FALSE, addrownums, ...)\n",
    "## S3 method for class 'matrix'\n",
    "tail(x, n = 6L, keepnums = TRUE, addrownums, ...) # exported as tail.matrix()\n",
    "## NB: The methods for 'data.frame', 'array', and 'table'\n",
    "##     are identical to the  'matrix'  one\n",
    "\n",
    "## S3 method for class 'ftable'\n",
    "tail(x, n = 6L, keepnums = FALSE, addrownums, ...)\n",
    "## S3 method for class 'function'\n",
    "tail(x, n = 6L, ...)\n",
    "Arguments\n",
    "x\n",
    "an object\n",
    "\n",
    "n\n",
    "an integer vector of length up to dim(x) (or 1, for non-dimensioned objects). Values specify the indices to be selected in the corresponding dimension (or along the length) of the object. A positive value of n[i] includes the first/last n[i] indices in that dimension, while a negative value excludes the last/first abs(n[i]), including all remaining indices. NA or non-specified values (when length(n) < length(dim(x))) select all indices in that dimension. Must contain at least one non-missing value.\n",
    "\n",
    "keepnums\n",
    "in each dimension, if no names in that dimension are present, create them using the indices included in that dimension. Ignored if dim(x) is NULL or its length 1.\n",
    "\n",
    "addrownums\n",
    "deprecated - keepnums should be used instead. Taken as the value of keepnums if it is explicitly set when keepnums is not.\n",
    "\n",
    "...\n",
    "arguments to be passed to or from other methods.\n",
    "\n",
    "Details\n",
    "For vector/array based objects, head() (tail()) returns a subset of the same dimensionality as x, usually of the same class. For historical reasons, by default they select the first (last) 6 indices in the first dimension (\"rows\") or along the length of a non-dimensioned vector, and the full extent (all indices) in any remaining dimensions. head.matrix() and tail.matrix() are exported.\n",
    "\n",
    "The default and array(/matrix) methods for head() and tail() are quite general. They will work as is for any class which has a dim() method, a length() method (only required if dim() returns NULL), and a [ method (that accepts the drop argument and can subset in all dimensions in the dimensioned case).\n",
    "\n",
    "For functions, the lines of the deparsed function are returned as character strings.\n",
    "\n",
    "When x is an array(/matrix) of dimensionality two and more, tail() will add dimnames similar to how they would appear in a full printing of x for all dimensions k where n[k] is specified and non-missing and dimnames(x)[[k]] (or dimnames(x) itself) is NULL. Specifically, the form of the added dimnames will vary for different dimensions as follows:\n",
    "\n",
    "k=1 (rows):\n",
    "\"[n,]\" (right justified with whitespace padding)\n",
    "\n",
    "k=2 (columns):\n",
    "\"[,n]\" (with no whitespace padding)\n",
    "\n",
    "k>2 (higher dims):\n",
    "\"n\", i.e., the indices as character values\n",
    "\n",
    "Setting keepnums = FALSE suppresses this behaviour.\n",
    "\n",
    "As data.frame subsetting (‘indexing’) keeps attributes, so do the head() and tail() methods for data frames.\n",
    "\n",
    "Value\n",
    "An object (usually) like x but generally smaller. Hence, for arrays, the result corresponds to x[.., drop=FALSE]. For ftable objects x, a transformed format(x).\n",
    "\n",
    "Note\n",
    "For array inputs the output of tail when keepnums is TRUE, any dimnames vectors added for dimensions >2 are the original numeric indices in that dimension as character vectors. This means that, e.g., for 3-dimensional array arr, tail(arr, c(2,2,-1))[ , , 2] and tail(arr, c(2,2,-1))[ , , \"2\"] may both be valid but have completely different meanings.\n",
    "\n",
    "Author(s)\n",
    "Patrick Burns, improved and corrected by R-Core. Negative argument added by Vincent Goulet. Multi-dimension support added by Gabriel Becker.\n",
    "\n",
    "Examples\n",
    "Run examples\n",
    "\n",
    "head(letters)\n",
    "head(letters, n = -6L)\n",
    "\n",
    "head(freeny.x, n = 10L)\n",
    "head(freeny.y)\n",
    "\n",
    "head(iris3)\n",
    "head(iris3, c(6L, 2L))\n",
    "head(iris3, c(6L, -1L, 2L))\n",
    "\n",
    "tail(letters)\n",
    "tail(letters, n = -6L)\n",
    "\n",
    "tail(freeny.x)\n",
    "## the bottom-right \"corner\" :\n",
    "tail(freeny.x, n = c(4, 2))\n",
    "tail(freeny.y)\n",
    "\n",
    "tail(iris3)\n",
    "tail(iris3, c(6L, 2L))\n",
    "tail(iris3, c(6L, -1L, 2L))\n",
    "\n",
    "## iris with dimnames stripped\n",
    "a3d <- iris3 ; dimnames(a3d) <- NULL\n",
    "tail(a3d, c(6, -1, 2)) # keepnums = TRUE is default here!\n",
    "tail(a3d, c(6, -1, 2), keepnums = FALSE)\n",
    "\n",
    "## data frame w/ a (non-standard) attribute:\n",
    "treeS <- structure(trees, foo = \"bar\")\n",
    "(n <- nrow(treeS))\n",
    "stopifnot(exprs = { # attribute is kept\n",
    "    identical(htS <- head(treeS), treeS[1:6, ])\n",
    "    identical(attr(htS, \"foo\") , \"bar\")\n",
    "    identical(tlS <- tail(treeS), treeS[(n-5):n, ])\n",
    "    ## BUT if I use \"useAttrib(.)\", this is *not* ok, when n is of length 2:\n",
    "    ## --- because [i,j]-indexing of data frames *also* drops \"other\" attributes ..\n",
    "    identical(tail(treeS, 3:2), treeS[(n-2):n, 2:3] )\n",
    "})\n",
    "\n",
    "tail(library) # last lines of function\n",
    "\n",
    "head(stats::ftable(Titanic))\n",
    "\n",
    "## 1d-array (with named dim) :\n",
    "a1 <- array(1:7, 7); names(dim(a1)) <- \"O2\"\n",
    "stopifnot(exprs = {\n",
    "  identical( tail(a1, 10), a1)\n",
    "  identical( head(a1, 10), a1)\n",
    "  identical( head(a1, 1), a1 [1 , drop=FALSE] ) # was a1[1] in R <= 3.6.x\n",
    "  identical( tail(a1, 2), a1[6:7])\n",
    "  identical( tail(a1, 1), a1 [7 , drop=FALSE] ) # was a1[7] in R <= 3.6.x\n",
    "})\n",
    "```\n",
    "\n"
   ]
  },
  {
   "cell_type": "code",
   "execution_count": null,
   "id": "rH6XdjDunzZc",
   "metadata": {
    "id": "rH6XdjDunzZc"
   },
   "outputs": [],
   "source": []
  }
 ],
 "metadata": {
  "colab": {
   "provenance": [
    {
     "file_id": "1P-O8546azaksvBW5rxrOTno5fjcgaClL",
     "timestamp": 1686573470720
    }
   ]
  },
  "kernelspec": {
   "display_name": "Python 3 (ipykernel)",
   "language": "python",
   "name": "python3"
  },
  "language_info": {
   "codemirror_mode": {
    "name": "ipython",
    "version": 3
   },
   "file_extension": ".py",
   "mimetype": "text/x-python",
   "name": "python",
   "nbconvert_exporter": "python",
   "pygments_lexer": "ipython3",
   "version": "3.9.7"
  },
  "latex_envs": {
   "LaTeX_envs_menu_present": true,
   "autoclose": true,
   "autocomplete": true,
   "bibliofile": "biblio.bib",
   "cite_by": "apalike",
   "current_citInitial": 1,
   "eqLabelWithNumbers": true,
   "eqNumInitial": 1,
   "hotkeys": {
    "equation": "Ctrl-E",
    "itemize": "Ctrl-I"
   },
   "labels_anchors": false,
   "latex_user_defs": false,
   "report_style_numbering": true,
   "user_envs_cfg": false
  },
  "nbTranslate": {
   "displayLangs": [
    "*"
   ],
   "hotkey": "alt-t",
   "langInMainMenu": true,
   "sourceLang": "en",
   "targetLang": "fr",
   "useGoogleTranslate": true
  },
  "toc": {
   "base_numbering": 1,
   "nav_menu": {},
   "number_sections": false,
   "sideBar": true,
   "skip_h1_title": false,
   "title_cell": "Table of Contents",
   "title_sidebar": "Contents",
   "toc_cell": false,
   "toc_position": {},
   "toc_section_display": true,
   "toc_window_display": false
  },
  "varInspector": {
   "cols": {
    "lenName": 16,
    "lenType": 16,
    "lenVar": 40
   },
   "kernels_config": {
    "python": {
     "delete_cmd_postfix": "",
     "delete_cmd_prefix": "del ",
     "library": "var_list.py",
     "varRefreshCmd": "print(var_dic_list())"
    },
    "r": {
     "delete_cmd_postfix": ") ",
     "delete_cmd_prefix": "rm(",
     "library": "var_list.r",
     "varRefreshCmd": "cat(var_dic_list()) "
    }
   },
   "types_to_exclude": [
    "module",
    "function",
    "builtin_function_or_method",
    "instance",
    "_Feature"
   ],
   "window_display": false
  }
 },
 "nbformat": 4,
 "nbformat_minor": 5
}
